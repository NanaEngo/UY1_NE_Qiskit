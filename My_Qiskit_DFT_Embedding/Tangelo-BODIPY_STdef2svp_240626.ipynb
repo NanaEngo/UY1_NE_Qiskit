{
 "cells": [
  {
   "cell_type": "code",
   "execution_count": 1,
   "id": "cabb40b5",
   "metadata": {},
   "outputs": [],
   "source": [
    "from rdkit import Chem\n",
    "from pathlib import Path \n",
    "import rdkit"
   ]
  },
  {
   "cell_type": "code",
   "execution_count": 2,
   "id": "701b16c2",
   "metadata": {},
   "outputs": [
    {
     "data": {
      "image/png": "[encoded data removed]",
      "text/plain": [
       "<rdkit.Chem.rdchem.Mol at 0x751e8c8dda80>"
      ]
     },
     "execution_count": 2,
     "metadata": {},
     "output_type": "execute_result"
    }
   ],
   "source": [
    "#smile='C1=CSC=N1'\n",
    "smile = '[B-]1(n2cccc2C=C3[N+]1=CC=C3)(F)F'\n",
    "smi_key='BODIPY'\n",
    "mol_rdkit = Chem.MolFromSmiles(smile)\n",
    "mol_rdkit"
   ]
  },
  {
   "cell_type": "code",
   "execution_count": 3,
   "id": "b452e4f5",
   "metadata": {},
   "outputs": [],
   "source": [
    "import py3Dmol "
   ]
  },
  {
   "cell_type": "code",
   "execution_count": 4,
   "id": "75ef0096",
   "metadata": {},
   "outputs": [],
   "source": [
    " # Verify if the \"data2402_{smi_key}\" subdirectory exist and if not, create it\n",
    "working_dir = Path(f'./data2406/{smi_key}')\n",
    "# Create the output directory if it doesn't exist\n",
    "working_dir.mkdir(parents=True, exist_ok=True)\n"
   ]
  },
  {
   "cell_type": "code",
   "execution_count": 5,
   "id": "a08d10bf",
   "metadata": {},
   "outputs": [],
   "source": [
    "\n",
    "def view3D(mol, label, fmt='mol'):\n",
    "        \"\"\"3D vizualisation of mol/xyz file with Py3DMol\n",
    "        \"\"\"\n",
    "\n",
    "        view = py3Dmol.view(width=400, height=400)       # visualiser la molécule avec une largeur de ''400'' et hauteur de ''400''\n",
    "\n",
    "        if fmt=='mol':                                   # si le format des 'mol',\n",
    "            view.addModel(Chem.MolToMolBlock(mol), fmt)     # generer les coordonnes de a molecule dans un block\n",
    "            # view.addModel(mol, fmt)\n",
    "        elif fmt=='xyz':                                      # sinon \n",
    "            view.addModel(mol, fmt)                             # generer les coordonnes en xyz\n",
    "\n",
    "        view.setStyle({'stick': {}, 'sphere': {'scale': .30}})     # définir le style de représentation de la molécule, avec des bâtons pour les liaisons et des sphères pour les atomes avec une échelle de '30'\n",
    "        view.addLabel(label, {'position': {'x': -2, 'y': -3, 'z': 0}}) # ajouter une etiquette de visualisation dont les coordonnées sont x,y,z\n",
    "\n",
    "        view.zoomTo()\n",
    "        view.show()"
   ]
  },
  {
   "cell_type": "markdown",
   "id": "9c082670",
   "metadata": {},
   "source": [
    "### Meilleure conformation"
   ]
  },
  {
   "cell_type": "code",
   "execution_count": 6,
   "id": "1ce76929",
   "metadata": {},
   "outputs": [
    {
     "data": {
      "image/png": "[encoded data removed]",
      "text/plain": [
       "<rdkit.Chem.rdchem.Mol at 0x751e8c8dfca0>"
      ]
     },
     "execution_count": 6,
     "metadata": {},
     "output_type": "execute_result"
    }
   ],
   "source": [
    "from rdkit.Chem import AllChem\n",
    "\n",
    "# Add explicit Hs\n",
    "mol_rdkit = Chem.AddHs(mol_rdkit)    #   Ajouter les atomes d'hydrogene a la molécule\n",
    "\n",
    "# Generates the initial 3D conformation of the molecule\n",
    "AllChem.EmbedMolecule(mol_rdkit)\n",
    "mol_rdkit"
   ]
  },
  {
   "cell_type": "markdown",
   "id": "c5fedcd3",
   "metadata": {},
   "source": [
    "### Visualisation 3D"
   ]
  },
  {
   "cell_type": "code",
   "execution_count": 7,
   "id": "f357c927",
   "metadata": {},
   "outputs": [
    {
     "data": {
      "application/3dmoljs_load.v0": "<div id=\"3dmolviewer_17194270045076425\"  style=\"position: relative; width: 400px; height: 400px;\">\n        <p id=\"3dmolwarning_17194270045076425\" style=\"background-color:#ffcccc;color:black\">3Dmol.js failed to load for some reason.  Please check your browser console for error messages.<br></p>\n        </div>\n<script>\n\nvar loadScriptAsync = function(uri){\n  return new Promise((resolve, reject) => {\n    //this is to ignore the existence of requirejs amd\n    var savedexports, savedmodule;\n    if (typeof exports !== 'undefined') savedexports = exports;\n    else exports = {}\n    if (typeof module !== 'undefined') savedmodule = module;\n    else module = {}\n\n    var tag = document.createElement('script');\n    tag.src = uri;\n    tag.async = true;\n    tag.onload = () => {\n        exports = savedexports;\n        module = savedmodule;\n        resolve();\n    };\n  var firstScriptTag = document.getElementsByTagName('script')[0];\n  firstScriptTag.parentNode.insertBefore(tag, firstScriptTag);\n});\n};\n\nif(typeof $3Dmolpromise === 'undefined') {\n$3Dmolpromise = null;\n  $3Dmolpromise = loadScriptAsync('https://cdnjs.cloudflare.com/ajax/libs/3Dmol/2.1.0/3Dmol-min.js');\n}\n\nvar viewer_17194270045076425 = null;\nvar warn = document.getElementById(\"3dmolwarning_17194270045076425\");\nif(warn) {\n    warn.parentNode.removeChild(warn);\n}\n$3Dmolpromise.then(function() {\nviewer_17194270045076425 = $3Dmol.createViewer(document.getElementById(\"3dmolviewer_17194270045076425\"),{backgroundColor:\"white\"});\nviewer_17194270045076425.zoomTo();\n\tviewer_17194270045076425.addModel(\"\\n     RDKit          3D\\n\\n 21 23  0  0  0  0  0  0  0  0999 V2000\\n    0.0775   -1.2601    0.6622 B   0  0  0  0  0  4  0  0  0  0  0  0\\n    1.2873   -0.5121    0.1678 N   0  0  0  0  0  0  0  0  0  0  0  0\\n    2.6101   -0.8723    0.2561 C   0  0  0  0  0  0  0  0  0  0  0  0\\n    3.3765    0.1066   -0.3267 C   0  0  0  0  0  0  0  0  0  0  0  0\\n    2.4773    1.0529   -0.7613 C   0  0  0  0  0  0  0  0  0  0  0  0\\n    1.1919    0.6600   -0.4505 C   0  0  0  0  0  0  0  0  0  0  0  0\\n   -0.1101    1.3026   -0.6912 C   0  0  0  0  0  0  0  0  0  0  0  0\\n   -1.2263    0.7188   -0.2917 C   0  0  0  0  0  0  0  0  0  0  0  0\\n   -1.2109   -0.5171    0.3668 N   0  0  0  0  0  4  0  0  0  0  0  0\\n   -2.4657   -0.8715    0.6547 C   0  0  0  0  0  0  0  0  0  0  0  0\\n   -3.3672    0.1576    0.1762 C   0  0  0  0  0  0  0  0  0  0  0  0\\n   -2.6494    1.1092   -0.3882 C   0  0  0  0  0  0  0  0  0  0  0  0\\n    0.1677   -1.3842    2.1273 F   0  0  0  0  0  0  0  0  0  0  0  0\\n   -0.0089   -2.6021    0.0717 F   0  0  0  0  0  0  0  0  0  0  0  0\\n    2.9289   -1.7878    0.7198 H   0  0  0  0  0  0  0  0  0  0  0  0\\n    4.4599    0.1073   -0.4122 H   0  0  0  0  0  0  0  0  0  0  0  0\\n    2.7468    1.9741   -1.2742 H   0  0  0  0  0  0  0  0  0  0  0  0\\n   -0.1600    2.2578   -1.1971 H   0  0  0  0  0  0  0  0  0  0  0  0\\n   -2.7124   -1.7989    1.1692 H   0  0  0  0  0  0  0  0  0  0  0  0\\n   -4.4478    0.1345    0.2735 H   0  0  0  0  0  0  0  0  0  0  0  0\\n   -2.9651    2.0248   -0.8522 H   0  0  0  0  0  0  0  0  0  0  0  0\\n  1  2  1  0\\n  2  3  1  0\\n  3  4  2  0\\n  4  5  1  0\\n  5  6  2  0\\n  6  7  1  0\\n  7  8  2  0\\n  8  9  1  0\\n  9 10  2  0\\n 10 11  1  0\\n 11 12  2  0\\n  1 13  1  0\\n  1 14  1  0\\n  9  1  1  0\\n  6  2  1  0\\n 12  8  1  0\\n  3 15  1  0\\n  4 16  1  0\\n  5 17  1  0\\n  7 18  1  0\\n 10 19  1  0\\n 11 20  1  0\\n 12 21  1  0\\nM  CHG  2   1  -1   9   1\\nM  END\\n\",\"mol\");\n\tviewer_17194270045076425.setStyle({\"stick\": {}, \"sphere\": {\"scale\": 0.3}});\n\tviewer_17194270045076425.addLabel(\"BODIPY RDKit Molecule\",{\"position\": {\"x\": -2, \"y\": -3, \"z\": 0}});\n\tviewer_17194270045076425.zoomTo();\nviewer_17194270045076425.render();\n});\n</script>",
      "text/html": [
       "<div id=\"3dmolviewer_17194270045076425\"  style=\"position: relative; width: 400px; height: 400px;\">\n",
       "        <p id=\"3dmolwarning_17194270045076425\" style=\"background-color:#ffcccc;color:black\">3Dmol.js failed to load for some reason.  Please check your browser console for error messages.<br></p>\n",
       "        </div>\n",
       "<script>\n",
       "\n",
       "var loadScriptAsync = function(uri){\n",
       "  return new Promise((resolve, reject) => {\n",
       "    //this is to ignore the existence of requirejs amd\n",
       "    var savedexports, savedmodule;\n",
       "    if (typeof exports !== 'undefined') savedexports = exports;\n",
       "    else exports = {}\n",
       "    if (typeof module !== 'undefined') savedmodule = module;\n",
       "    else module = {}\n",
       "\n",
       "    var tag = document.createElement('script');\n",
       "    tag.src = uri;\n",
       "    tag.async = true;\n",
       "    tag.onload = () => {\n",
       "        exports = savedexports;\n",
       "        module = savedmodule;\n",
       "        resolve();\n",
       "    };\n",
       "  var firstScriptTag = document.getElementsByTagName('script')[0];\n",
       "  firstScriptTag.parentNode.insertBefore(tag, firstScriptTag);\n",
       "});\n",
       "};\n",
       "\n",
       "if(typeof $3Dmolpromise === 'undefined') {\n",
       "$3Dmolpromise = null;\n",
       "  $3Dmolpromise = loadScriptAsync('https://cdnjs.cloudflare.com/ajax/libs/3Dmol/2.1.0/3Dmol-min.js');\n",
       "}\n",
       "\n",
       "var viewer_17194270045076425 = null;\n",
       "var warn = document.getElementById(\"3dmolwarning_17194270045076425\");\n",
       "if(warn) {\n",
       "    warn.parentNode.removeChild(warn);\n",
       "}\n",
       "$3Dmolpromise.then(function() {\n",
       "viewer_17194270045076425 = $3Dmol.createViewer(document.getElementById(\"3dmolviewer_17194270045076425\"),{backgroundColor:\"white\"});\n",
       "viewer_17194270045076425.zoomTo();\n",
       "\tviewer_17194270045076425.addModel(\"\\n     RDKit          3D\\n\\n 21 23  0  0  0  0  0  0  0  0999 V2000\\n    0.0775   -1.2601    0.6622 B   0  0  0  0  0  4  0  0  0  0  0  0\\n    1.2873   -0.5121    0.1678 N   0  0  0  0  0  0  0  0  0  0  0  0\\n    2.6101   -0.8723    0.2561 C   0  0  0  0  0  0  0  0  0  0  0  0\\n    3.3765    0.1066   -0.3267 C   0  0  0  0  0  0  0  0  0  0  0  0\\n    2.4773    1.0529   -0.7613 C   0  0  0  0  0  0  0  0  0  0  0  0\\n    1.1919    0.6600   -0.4505 C   0  0  0  0  0  0  0  0  0  0  0  0\\n   -0.1101    1.3026   -0.6912 C   0  0  0  0  0  0  0  0  0  0  0  0\\n   -1.2263    0.7188   -0.2917 C   0  0  0  0  0  0  0  0  0  0  0  0\\n   -1.2109   -0.5171    0.3668 N   0  0  0  0  0  4  0  0  0  0  0  0\\n   -2.4657   -0.8715    0.6547 C   0  0  0  0  0  0  0  0  0  0  0  0\\n   -3.3672    0.1576    0.1762 C   0  0  0  0  0  0  0  0  0  0  0  0\\n   -2.6494    1.1092   -0.3882 C   0  0  0  0  0  0  0  0  0  0  0  0\\n    0.1677   -1.3842    2.1273 F   0  0  0  0  0  0  0  0  0  0  0  0\\n   -0.0089   -2.6021    0.0717 F   0  0  0  0  0  0  0  0  0  0  0  0\\n    2.9289   -1.7878    0.7198 H   0  0  0  0  0  0  0  0  0  0  0  0\\n    4.4599    0.1073   -0.4122 H   0  0  0  0  0  0  0  0  0  0  0  0\\n    2.7468    1.9741   -1.2742 H   0  0  0  0  0  0  0  0  0  0  0  0\\n   -0.1600    2.2578   -1.1971 H   0  0  0  0  0  0  0  0  0  0  0  0\\n   -2.7124   -1.7989    1.1692 H   0  0  0  0  0  0  0  0  0  0  0  0\\n   -4.4478    0.1345    0.2735 H   0  0  0  0  0  0  0  0  0  0  0  0\\n   -2.9651    2.0248   -0.8522 H   0  0  0  0  0  0  0  0  0  0  0  0\\n  1  2  1  0\\n  2  3  1  0\\n  3  4  2  0\\n  4  5  1  0\\n  5  6  2  0\\n  6  7  1  0\\n  7  8  2  0\\n  8  9  1  0\\n  9 10  2  0\\n 10 11  1  0\\n 11 12  2  0\\n  1 13  1  0\\n  1 14  1  0\\n  9  1  1  0\\n  6  2  1  0\\n 12  8  1  0\\n  3 15  1  0\\n  4 16  1  0\\n  5 17  1  0\\n  7 18  1  0\\n 10 19  1  0\\n 11 20  1  0\\n 12 21  1  0\\nM  CHG  2   1  -1   9   1\\nM  END\\n\",\"mol\");\n",
       "\tviewer_17194270045076425.setStyle({\"stick\": {}, \"sphere\": {\"scale\": 0.3}});\n",
       "\tviewer_17194270045076425.addLabel(\"BODIPY RDKit Molecule\",{\"position\": {\"x\": -2, \"y\": -3, \"z\": 0}});\n",
       "\tviewer_17194270045076425.zoomTo();\n",
       "viewer_17194270045076425.render();\n",
       "});\n",
       "</script>"
      ]
     },
     "metadata": {},
     "output_type": "display_data"
    }
   ],
   "source": [
    "# 3D visualization\n",
    "mol_rdkit0 = mol_rdkit                    #crée une nouvelle variable mol_rdkit0 qui est une copie de mol_rdkit.\n",
    "                                           #Cette copie est nécessaire pour la visualisation 3D, car la fonction view3D() modifie l'objet molécule passé en argument.\n",
    "\n",
    "view3D(mol_rdkit0, f'{smi_key} RDKit Molecule')\n"
   ]
  },
  {
   "cell_type": "code",
   "execution_count": 8,
   "id": "17e2962b",
   "metadata": {},
   "outputs": [
    {
     "name": "stdout",
     "output_type": "stream",
     "text": [
      "21\n",
      "\n",
      "B      0.077540   -1.260063    0.662168\n",
      "N      1.287298   -0.512080    0.167762\n",
      "C      2.610063   -0.872251    0.256071\n",
      "C      3.376476    0.106602   -0.326730\n",
      "C      2.477341    1.052924   -0.761252\n",
      "C      1.191909    0.660042   -0.450475\n",
      "C     -0.110072    1.302633   -0.691166\n",
      "C     -1.226323    0.718760   -0.291707\n",
      "N     -1.210933   -0.517100    0.366848\n",
      "C     -2.465701   -0.871538    0.654737\n",
      "C     -3.367151    0.157580    0.176219\n",
      "C     -2.649449    1.109206   -0.388242\n",
      "F      0.167736   -1.384240    2.127318\n",
      "F     -0.008884   -2.602113    0.071666\n",
      "H      2.928855   -1.787844    0.719808\n",
      "H      4.459867    0.107265   -0.412239\n",
      "H      2.746806    1.974054   -1.274174\n",
      "H     -0.159997    2.257776   -1.197146\n",
      "H     -2.712431   -1.798886    1.169208\n",
      "H     -4.447832    0.134476    0.273536\n",
      "H     -2.965119    2.024799   -0.852211\n",
      "\n"
     ]
    }
   ],
   "source": [
    "# Convert RDKit molecule to XYZ format \n",
    "mol_xyz0 = Chem.MolToXYZBlock(mol_rdkit)    # Convertir  la molecule format XYZ \n",
    "print(mol_xyz0)"
   ]
  },
  {
   "cell_type": "markdown",
   "id": "a9479a28",
   "metadata": {},
   "source": [
    "### Préoptimisation avec RDKIT \n",
    "#### Visualisation 3D"
   ]
  },
  {
   "cell_type": "code",
   "execution_count": 9,
   "id": "62b80942",
   "metadata": {},
   "outputs": [
    {
     "data": {
      "application/3dmoljs_load.v0": "<div id=\"3dmolviewer_17194270045308182\"  style=\"position: relative; width: 400px; height: 400px;\">\n        <p id=\"3dmolwarning_17194270045308182\" style=\"background-color:#ffcccc;color:black\">3Dmol.js failed to load for some reason.  Please check your browser console for error messages.<br></p>\n        </div>\n<script>\n\nvar loadScriptAsync = function(uri){\n  return new Promise((resolve, reject) => {\n    //this is to ignore the existence of requirejs amd\n    var savedexports, savedmodule;\n    if (typeof exports !== 'undefined') savedexports = exports;\n    else exports = {}\n    if (typeof module !== 'undefined') savedmodule = module;\n    else module = {}\n\n    var tag = document.createElement('script');\n    tag.src = uri;\n    tag.async = true;\n    tag.onload = () => {\n        exports = savedexports;\n        module = savedmodule;\n        resolve();\n    };\n  var firstScriptTag = document.getElementsByTagName('script')[0];\n  firstScriptTag.parentNode.insertBefore(tag, firstScriptTag);\n});\n};\n\nif(typeof $3Dmolpromise === 'undefined') {\n$3Dmolpromise = null;\n  $3Dmolpromise = loadScriptAsync('https://cdnjs.cloudflare.com/ajax/libs/3Dmol/2.1.0/3Dmol-min.js');\n}\n\nvar viewer_17194270045308182 = null;\nvar warn = document.getElementById(\"3dmolwarning_17194270045308182\");\nif(warn) {\n    warn.parentNode.removeChild(warn);\n}\n$3Dmolpromise.then(function() {\nviewer_17194270045308182 = $3Dmol.createViewer(document.getElementById(\"3dmolviewer_17194270045308182\"),{backgroundColor:\"white\"});\nviewer_17194270045308182.zoomTo();\n\tviewer_17194270045308182.addModel(\"\\n     RDKit          3D\\n\\n 21 23  0  0  0  0  0  0  0  0999 V2000\\n    0.0496   -1.4247   -0.0058 B   0  0  0  0  0  4  0  0  0  0  0  0\\n    1.2798   -0.5563   -0.0048 N   0  0  0  0  0  0  0  0  0  0  0  0\\n    2.5983   -0.9420   -0.0055 C   0  0  0  0  0  0  0  0  0  0  0  0\\n    3.3891    0.1804   -0.0041 C   0  0  0  0  0  0  0  0  0  0  0  0\\n    2.5087    1.2376   -0.0026 C   0  0  0  0  0  0  0  0  0  0  0  0\\n    1.2106    0.7705   -0.0030 C   0  0  0  0  0  0  0  0  0  0  0  0\\n   -0.0807    1.4765   -0.0019 C   0  0  0  0  0  0  0  0  0  0  0  0\\n   -1.2134    0.7958   -0.0026 C   0  0  0  0  0  0  0  0  0  0  0  0\\n   -1.2259   -0.6046   -0.0045 N   0  0  0  0  0  4  0  0  0  0  0  0\\n   -2.4923   -1.0277   -0.0048 C   0  0  0  0  0  0  0  0  0  0  0  0\\n   -3.3732    0.1232   -0.0032 C   0  0  0  0  0  0  0  0  0  0  0  0\\n   -2.6319    1.2140   -0.0019 C   0  0  0  0  0  0  0  0  0  0  0  0\\n    0.0385   -2.2258    1.2305 F   0  0  0  0  0  0  0  0  0  0  0  0\\n    0.0250   -2.3287   -1.1631 F   0  0  0  0  0  0  0  0  0  0  0  0\\n    2.8974   -1.9743   -0.0069 H   0  0  0  0  0  0  0  0  0  0  0  0\\n    4.4757    0.1996   -0.0042 H   0  0  0  0  0  0  0  0  0  0  0  0\\n    2.7998    2.2862   -0.0012 H   0  0  0  0  0  0  0  0  0  0  0  0\\n   -0.1092    2.5582   -0.0005 H   0  0  0  0  0  0  0  0  0  0  0  0\\n   -2.7607   -2.0830   -0.0062 H   0  0  0  0  0  0  0  0  0  0  0  0\\n   -4.4576    0.0786   -0.0031 H   0  0  0  0  0  0  0  0  0  0  0  0\\n   -2.9278    2.2463   -0.0005 H   0  0  0  0  0  0  0  0  0  0  0  0\\n  1  2  1  0\\n  2  3  1  0\\n  3  4  2  0\\n  4  5  1  0\\n  5  6  2  0\\n  6  7  1  0\\n  7  8  2  0\\n  8  9  1  0\\n  9 10  2  0\\n 10 11  1  0\\n 11 12  2  0\\n  1 13  1  0\\n  1 14  1  0\\n  9  1  1  0\\n  6  2  1  0\\n 12  8  1  0\\n  3 15  1  0\\n  4 16  1  0\\n  5 17  1  0\\n  7 18  1  0\\n 10 19  1  0\\n 11 20  1  0\\n 12 21  1  0\\nM  CHG  2   1  -1   9   1\\nM  END\\n\",\"mol\");\n\tviewer_17194270045308182.setStyle({\"stick\": {}, \"sphere\": {\"scale\": 0.3}});\n\tviewer_17194270045308182.addLabel(\"BODIPY RDKit Molecule MMFF94\",{\"position\": {\"x\": -2, \"y\": -3, \"z\": 0}});\n\tviewer_17194270045308182.zoomTo();\nviewer_17194270045308182.render();\n});\n</script>",
      "text/html": [
       "<div id=\"3dmolviewer_17194270045308182\"  style=\"position: relative; width: 400px; height: 400px;\">\n",
       "        <p id=\"3dmolwarning_17194270045308182\" style=\"background-color:#ffcccc;color:black\">3Dmol.js failed to load for some reason.  Please check your browser console for error messages.<br></p>\n",
       "        </div>\n",
       "<script>\n",
       "\n",
       "var loadScriptAsync = function(uri){\n",
       "  return new Promise((resolve, reject) => {\n",
       "    //this is to ignore the existence of requirejs amd\n",
       "    var savedexports, savedmodule;\n",
       "    if (typeof exports !== 'undefined') savedexports = exports;\n",
       "    else exports = {}\n",
       "    if (typeof module !== 'undefined') savedmodule = module;\n",
       "    else module = {}\n",
       "\n",
       "    var tag = document.createElement('script');\n",
       "    tag.src = uri;\n",
       "    tag.async = true;\n",
       "    tag.onload = () => {\n",
       "        exports = savedexports;\n",
       "        module = savedmodule;\n",
       "        resolve();\n",
       "    };\n",
       "  var firstScriptTag = document.getElementsByTagName('script')[0];\n",
       "  firstScriptTag.parentNode.insertBefore(tag, firstScriptTag);\n",
       "});\n",
       "};\n",
       "\n",
       "if(typeof $3Dmolpromise === 'undefined') {\n",
       "$3Dmolpromise = null;\n",
       "  $3Dmolpromise = loadScriptAsync('https://cdnjs.cloudflare.com/ajax/libs/3Dmol/2.1.0/3Dmol-min.js');\n",
       "}\n",
       "\n",
       "var viewer_17194270045308182 = null;\n",
       "var warn = document.getElementById(\"3dmolwarning_17194270045308182\");\n",
       "if(warn) {\n",
       "    warn.parentNode.removeChild(warn);\n",
       "}\n",
       "$3Dmolpromise.then(function() {\n",
       "viewer_17194270045308182 = $3Dmol.createViewer(document.getElementById(\"3dmolviewer_17194270045308182\"),{backgroundColor:\"white\"});\n",
       "viewer_17194270045308182.zoomTo();\n",
       "\tviewer_17194270045308182.addModel(\"\\n     RDKit          3D\\n\\n 21 23  0  0  0  0  0  0  0  0999 V2000\\n    0.0496   -1.4247   -0.0058 B   0  0  0  0  0  4  0  0  0  0  0  0\\n    1.2798   -0.5563   -0.0048 N   0  0  0  0  0  0  0  0  0  0  0  0\\n    2.5983   -0.9420   -0.0055 C   0  0  0  0  0  0  0  0  0  0  0  0\\n    3.3891    0.1804   -0.0041 C   0  0  0  0  0  0  0  0  0  0  0  0\\n    2.5087    1.2376   -0.0026 C   0  0  0  0  0  0  0  0  0  0  0  0\\n    1.2106    0.7705   -0.0030 C   0  0  0  0  0  0  0  0  0  0  0  0\\n   -0.0807    1.4765   -0.0019 C   0  0  0  0  0  0  0  0  0  0  0  0\\n   -1.2134    0.7958   -0.0026 C   0  0  0  0  0  0  0  0  0  0  0  0\\n   -1.2259   -0.6046   -0.0045 N   0  0  0  0  0  4  0  0  0  0  0  0\\n   -2.4923   -1.0277   -0.0048 C   0  0  0  0  0  0  0  0  0  0  0  0\\n   -3.3732    0.1232   -0.0032 C   0  0  0  0  0  0  0  0  0  0  0  0\\n   -2.6319    1.2140   -0.0019 C   0  0  0  0  0  0  0  0  0  0  0  0\\n    0.0385   -2.2258    1.2305 F   0  0  0  0  0  0  0  0  0  0  0  0\\n    0.0250   -2.3287   -1.1631 F   0  0  0  0  0  0  0  0  0  0  0  0\\n    2.8974   -1.9743   -0.0069 H   0  0  0  0  0  0  0  0  0  0  0  0\\n    4.4757    0.1996   -0.0042 H   0  0  0  0  0  0  0  0  0  0  0  0\\n    2.7998    2.2862   -0.0012 H   0  0  0  0  0  0  0  0  0  0  0  0\\n   -0.1092    2.5582   -0.0005 H   0  0  0  0  0  0  0  0  0  0  0  0\\n   -2.7607   -2.0830   -0.0062 H   0  0  0  0  0  0  0  0  0  0  0  0\\n   -4.4576    0.0786   -0.0031 H   0  0  0  0  0  0  0  0  0  0  0  0\\n   -2.9278    2.2463   -0.0005 H   0  0  0  0  0  0  0  0  0  0  0  0\\n  1  2  1  0\\n  2  3  1  0\\n  3  4  2  0\\n  4  5  1  0\\n  5  6  2  0\\n  6  7  1  0\\n  7  8  2  0\\n  8  9  1  0\\n  9 10  2  0\\n 10 11  1  0\\n 11 12  2  0\\n  1 13  1  0\\n  1 14  1  0\\n  9  1  1  0\\n  6  2  1  0\\n 12  8  1  0\\n  3 15  1  0\\n  4 16  1  0\\n  5 17  1  0\\n  7 18  1  0\\n 10 19  1  0\\n 11 20  1  0\\n 12 21  1  0\\nM  CHG  2   1  -1   9   1\\nM  END\\n\",\"mol\");\n",
       "\tviewer_17194270045308182.setStyle({\"stick\": {}, \"sphere\": {\"scale\": 0.3}});\n",
       "\tviewer_17194270045308182.addLabel(\"BODIPY RDKit Molecule MMFF94\",{\"position\": {\"x\": -2, \"y\": -3, \"z\": 0}});\n",
       "\tviewer_17194270045308182.zoomTo();\n",
       "viewer_17194270045308182.render();\n",
       "});\n",
       "</script>"
      ]
     },
     "metadata": {},
     "output_type": "display_data"
    }
   ],
   "source": [
    "from rdkit.Chem import AllChem\n",
    "\n",
    "# Optimizes the 3D conformation of the molecule using MMFF - Merck Molecular Force Field\n",
    "AllChem.MMFFOptimizeMolecule(mol_rdkit, maxIters=200, mmffVariant=\"MMFF94s\")   # utiliser 200 itérations et la variante MMFF94s\n",
    "\n",
    "#Canonicalize the orientation of the conformation\n",
    "Chem.rdMolTransforms.CanonicalizeMol(mol_rdkit, normalizeCovar=True, ignoreHs=False)\n",
    "\n",
    "# 3D visualization\n",
    "mol_rdkit1 = mol_rdkit\n",
    "view3D(mol_rdkit1, f'{smi_key} RDKit Molecule MMFF94')\n"
   ]
  },
  {
   "cell_type": "code",
   "execution_count": null,
   "id": "7461ef5d",
   "metadata": {},
   "outputs": [],
   "source": [
    "# Setting various paths for files\n",
    "path_xtb_xyz = working_dir / f'{smi_key}_opt.xyz'\n",
    "path_xtb_log = working_dir / f'{smi_key}_opt.log'\n",
    "path_rdkit_xyz = working_dir / f'{smi_key}_rdkit.xyz'\n",
    "\n",
    "# Convert RDKit molecule to XYZ format \n",
    "mol_xyz = Chem.MolToXYZBlock(mol_rdkit)    # Convertir  la molecule format XYZ \n",
    "with open(\"mol_rdkit.xyz\", \"w\") as f:\n",
    "    f.write(mol_xyz)"
   ]
  },
  {
   "cell_type": "markdown",
   "id": "03069863",
   "metadata": {},
   "source": [
    "### Optimisation avec xTB et CREST"
   ]
  },
  {
   "cell_type": "code",
   "execution_count": 10,
   "id": "8cf02861",
   "metadata": {},
   "outputs": [
    {
     "name": "stdout",
     "output_type": "stream",
     "text": [
      "B      0.077540   -1.260063    0.662168\n",
      "N      1.287298   -0.512080    0.167762\n",
      "C      2.610063   -0.872251    0.256071\n",
      "C      3.376476    0.106602   -0.326730\n",
      "C      2.477341    1.052924   -0.761252\n",
      "C      1.191909    0.660042   -0.450475\n",
      "C     -0.110072    1.302633   -0.691166\n",
      "C     -1.226323    0.718760   -0.291707\n",
      "N     -1.210933   -0.517100    0.366848\n",
      "C     -2.465701   -0.871538    0.654737\n",
      "C     -3.367151    0.157580    0.176219\n",
      "C     -2.649449    1.109206   -0.388242\n",
      "F      0.167736   -1.384240    2.127318\n",
      "F     -0.008884   -2.602113    0.071666\n",
      "H      2.928855   -1.787844    0.719808\n",
      "H      4.459867    0.107265   -0.412239\n",
      "H      2.746806    1.974054   -1.274174\n",
      "H     -0.159997    2.257776   -1.197146\n",
      "H     -2.712431   -1.798886    1.169208\n",
      "H     -4.447832    0.134476    0.273536\n",
      "H     -2.965119    2.024799   -0.852211\n"
     ]
    }
   ],
   "source": [
    "%%bash\n",
    "# Pré-optimisation avec xTB\n",
    "xtb mol_rdkit.xyz --gfn 2 --opt vtight --parallel 2 > xtb1.out\n",
    "\n",
    "# Best conformation search with CREST\n",
    "crest xtbopt.xyz -gff -mquick --noreftopo\n",
    "\n",
    "# xTB geometry optimization of the crest best conformation\n",
    "xtb crest_best.xyz --gfn 2 --opt vtight --parallel 2 > xtb2.out"
   ]
  },
  {
   "cell_type": "code",
   "execution_count": null,
   "id": "1e7e8bc0",
   "metadata": {},
   "outputs": [],
   "source": [
    "import subprocess as sp\n",
    "\n",
    "# Store various files \n",
    "sp.run(['cp', 'xtbopt.xyz', path_xtb_xyz], stdout=sp.DEVNULL, stderr=sp.DEVNULL)\n",
    "sp.run(['mv', 'xtb2.out', path_xtb_log], stdout=sp.DEVNULL, stderr=sp.DEVNULL)\n",
    "sp.run(['mv', 'mol_rdkit.xyz', path_rdkit_xyz], stdout=sp.DEVNULL, stderr=sp.DEVNULL)\n",
    "\n",
    "# Deleted various TB files before the next optimization calculations\n",
    "sp.run(['rm', 'bondlengths', 'charges', 'coord', 'coord.original', 'cregen_0.tmp', 'cregen_1.tmp', 'xtb1.out',\n",
    "        'cre_members', 'crest_best.xyz', 'crest_conformers.xyz', 'crest.energies', 'crest_rotamers.xyz', \n",
    "        'gfnff_charges', 'gfnff_topo', '.history.xyz', 'struc.xyz', 'wbo','xtbopt.xyz', 'xtbopt.log', '.xtboptok', \n",
    "        'xtbrestart', 'xtbtopo.mol', 'xtblast.xyz', 'gfnff_adjacency'], stdout=sp.DEVNULL, stderr=sp.DEVNULL)"
   ]
  },
  {
   "cell_type": "code",
   "execution_count": null,
   "id": "e3135b27",
   "metadata": {},
   "outputs": [],
   "source": [
    "from rdkit.Chem import AllChem\n",
    "\n",
    "# Calculate the RMSD to evaluate the optimally (minimum RMSD) alignment of mol_rdkit1  with mol_xtb\n",
    "mol1 = Chem.MolFromXYZFile(f'{path_rdkit_xyz}')\n",
    "mol2 = Chem.MolFromXYZFile(f'{path_xtb_xyz}')\n",
    "AllChem.AlignMol(mol1, mol2)"
   ]
  },
  {
   "cell_type": "markdown",
   "id": "34764d39",
   "metadata": {},
   "source": [
    "### Creation de l'objet mole"
   ]
  },
  {
   "cell_type": "code",
   "execution_count": 11,
   "id": "452cd579",
   "metadata": {},
   "outputs": [],
   "source": [
    "from tangelo import SecondQuantizedMolecule as SQMol\n",
    "from tangelo.helpers.utils import is_package_installed\n",
    "\n",
    "# Remove the first two lines (number of atoms and empty line) from XYZ data\n",
    "mol_xyz1 = '\\n'.join(path_xtb_xyz.read_text().strip().split('\\n')[2:]) \n",
    "\n",
    "BODIPY_def2svp = SQMol(mol_xyz1, q=0, spin=0, basis=\"def2-SVP\", symmetry=True)\n",
    "print(f\"active molecular orbitals : {BODIPY_def2svp.n_active_mos} \")\n",
    "print(f\"active electrons : {BODIPY_def2svp.n_active_electrons} \")\n",
    "\n",
    "# objet mol pour l'etat triplet\n",
    "BODIPY_def2svp_t = SQMol(mol_xyz1, q=0, spin=2, basis=\"def2-SVP\", symmetry=True)\n"
   ]
  },
  {
   "cell_type": "code",
   "execution_count": null,
   "id": "132fbf05",
   "metadata": {},
   "outputs": [
    {
     "data": {
      "application/vnd.plotly.v1+json": {
       "config": {
        "plotlyServerURL": "https://plot.ly"
       },
       "data": [
        {
         "hovertemplate": "x=%{x}<br>y=%{y}<extra></extra>",
         "legendgroup": "",
         "line": {
          "color": "#636efa",
          "dash": "solid"
         },
         "marker": {
          "symbol": "circle"
         },
         "mode": "lines+markers",
         "name": "",
         "orientation": "v",
         "showlegend": false,
         "type": "scatter",
         "x": [
          0,
          1,
          2,
          3,
          4,
          5,
          6,
          7,
          8,
          9,
          10,
          11,
          12,
          13,
          14,
          15,
          16,
          17,
          18,
          19,
          20,
          21,
          22,
          23,
          24,
          25,
          26,
          27,
          28,
          29,
          30,
          31,
          32,
          33,
          34,
          35,
          36,
          37,
          38,
          39,
          40,
          41,
          42,
          43,
          44,
          45,
          46,
          47,
          48,
          49,
          50,
          51,
          52,
          53,
          54,
          55,
          56,
          57,
          58,
          59,
          60,
          61,
          62,
          63,
          64,
          65,
          66,
          67,
          68,
          69,
          70,
          71,
          72,
          73,
          74,
          75,
          76,
          77,
          78,
          79,
          80,
          81,
          82,
          83,
          84,
          85,
          86,
          87,
          88,
          89,
          90,
          91,
          92,
          93,
          94,
          95,
          96,
          97,
          98,
          99,
          100,
          101,
          102,
          103,
          104,
          105,
          106,
          107,
          108,
          109,
          110,
          111,
          112,
          113,
          114,
          115,
          116,
          117,
          118,
          119,
          120,
          121,
          122,
          123,
          124,
          125,
          126,
          127,
          128,
          129,
          130,
          131,
          132,
          133,
          134,
          135,
          136,
          137,
          138,
          139,
          140,
          141,
          142,
          143,
          144,
          145,
          146,
          147,
          148,
          149,
          150,
          151,
          152,
          153,
          154,
          155,
          156,
          157,
          158,
          159,
          160,
          161,
          162,
          163,
          164,
          165,
          166,
          167,
          168,
          169,
          170,
          171,
          172,
          173,
          174,
          175,
          176,
          177,
          178,
          179,
          180,
          181,
          182,
          183,
          184,
          185,
          186,
          187,
          188,
          189,
          190,
          191,
          192,
          193,
          194,
          195,
          196,
          197,
          198,
          199,
          200,
          201,
          202,
          203,
          204,
          205,
          206,
          207,
          208,
          209,
          210,
          211,
          212,
          213,
          214,
          215,
          216,
          217,
          218,
          219,
          220,
          221,
          222,
          223,
          224,
          225,
          226,
          227,
          228,
          229,
          230
         ],
         "xaxis": "x",
         "y": [
          2,
          2,
          2,
          2,
          2,
          2,
          2,
          2,
          2,
          2,
          2,
          2,
          2,
          2,
          2,
          2,
          2,
          2,
          2,
          2,
          2,
          2,
          2,
          2,
          2,
          2,
          2,
          2,
          2,
          2,
          2,
          2,
          2,
          2,
          2,
          2,
          2,
          2,
          2,
          2,
          2,
          2,
          2,
          2,
          2,
          2,
          2,
          2,
          2,
          0,
          0,
          0,
          0,
          0,
          0,
          0,
          0,
          0,
          0,
          0,
          0,
          0,
          0,
          0,
          0,
          0,
          0,
          0,
          0,
          0,
          0,
          0,
          0,
          0,
          0,
          0,
          0,
          0,
          0,
          0,
          0,
          0,
          0,
          0,
          0,
          0,
          0,
          0,
          0,
          0,
          0,
          0,
          0,
          0,
          0,
          0,
          0,
          0,
          0,
          0,
          0,
          0,
          0,
          0,
          0,
          0,
          0,
          0,
          0,
          0,
          0,
          0,
          0,
          0,
          0,
          0,
          0,
          0,
          0,
          0,
          0,
          0,
          0,
          0,
          0,
          0,
          0,
          0,
          0,
          0,
          0,
          0,
          0,
          0,
          0,
          0,
          0,
          0,
          0,
          0,
          0,
          0,
          0,
          0,
          0,
          0,
          0,
          0,
          0,
          0,
          0,
          0,
          0,
          0,
          0,
          0,
          0,
          0,
          0,
          0,
          0,
          0,
          0,
          0,
          0,
          0,
          0,
          0,
          0,
          0,
          0,
          0,
          0,
          0,
          0,
          0,
          0,
          0,
          0,
          0,
          0,
          0,
          0,
          0,
          0,
          0,
          0,
          0,
          0,
          0,
          0,
          0,
          0,
          0,
          0,
          0,
          0,
          0,
          0,
          0,
          0,
          0,
          0,
          0,
          0,
          0,
          0,
          0,
          0,
          0,
          0,
          0,
          0,
          0,
          0,
          0,
          0,
          0,
          0,
          0,
          0,
          0,
          0,
          0,
          0,
          0,
          0,
          0,
          0,
          0,
          0
         ],
         "yaxis": "y"
        }
       ],
       "layout": {
        "legend": {
         "tracegroupgap": 0
        },
        "template": {
         "data": {
          "bar": [
           {
            "error_x": {
             "color": "#2a3f5f"
            },
            "error_y": {
             "color": "#2a3f5f"
            },
            "marker": {
             "line": {
              "color": "#E5ECF6",
              "width": 0.5
             },
             "pattern": {
              "fillmode": "overlay",
              "size": 10,
              "solidity": 0.2
             }
            },
            "type": "bar"
           }
          ],
          "barpolar": [
           {
            "marker": {
             "line": {
              "color": "#E5ECF6",
              "width": 0.5
             },
             "pattern": {
              "fillmode": "overlay",
              "size": 10,
              "solidity": 0.2
             }
            },
            "type": "barpolar"
           }
          ],
          "carpet": [
           {
            "aaxis": {
             "endlinecolor": "#2a3f5f",
             "gridcolor": "white",
             "linecolor": "white",
             "minorgridcolor": "white",
             "startlinecolor": "#2a3f5f"
            },
            "baxis": {
             "endlinecolor": "#2a3f5f",
             "gridcolor": "white",
             "linecolor": "white",
             "minorgridcolor": "white",
             "startlinecolor": "#2a3f5f"
            },
            "type": "carpet"
           }
          ],
          "choropleth": [
           {
            "colorbar": {
             "outlinewidth": 0,
             "ticks": ""
            },
            "type": "choropleth"
           }
          ],
          "contour": [
           {
            "colorbar": {
             "outlinewidth": 0,
             "ticks": ""
            },
            "colorscale": [
             [
              0,
              "#0d0887"
             ],
             [
              0.1111111111111111,
              "#46039f"
             ],
             [
              0.2222222222222222,
              "#7201a8"
             ],
             [
              0.3333333333333333,
              "#9c179e"
             ],
             [
              0.4444444444444444,
              "#bd3786"
             ],
             [
              0.5555555555555556,
              "#d8576b"
             ],
             [
              0.6666666666666666,
              "#ed7953"
             ],
             [
              0.7777777777777778,
              "#fb9f3a"
             ],
             [
              0.8888888888888888,
              "#fdca26"
             ],
             [
              1,
              "#f0f921"
             ]
            ],
            "type": "contour"
           }
          ],
          "contourcarpet": [
           {
            "colorbar": {
             "outlinewidth": 0,
             "ticks": ""
            },
            "type": "contourcarpet"
           }
          ],
          "heatmap": [
           {
            "colorbar": {
             "outlinewidth": 0,
             "ticks": ""
            },
            "colorscale": [
             [
              0,
              "#0d0887"
             ],
             [
              0.1111111111111111,
              "#46039f"
             ],
             [
              0.2222222222222222,
              "#7201a8"
             ],
             [
              0.3333333333333333,
              "#9c179e"
             ],
             [
              0.4444444444444444,
              "#bd3786"
             ],
             [
              0.5555555555555556,
              "#d8576b"
             ],
             [
              0.6666666666666666,
              "#ed7953"
             ],
             [
              0.7777777777777778,
              "#fb9f3a"
             ],
             [
              0.8888888888888888,
              "#fdca26"
             ],
             [
              1,
              "#f0f921"
             ]
            ],
            "type": "heatmap"
           }
          ],
          "heatmapgl": [
           {
            "colorbar": {
             "outlinewidth": 0,
             "ticks": ""
            },
            "colorscale": [
             [
              0,
              "#0d0887"
             ],
             [
              0.1111111111111111,
              "#46039f"
             ],
             [
              0.2222222222222222,
              "#7201a8"
             ],
             [
              0.3333333333333333,
              "#9c179e"
             ],
             [
              0.4444444444444444,
              "#bd3786"
             ],
             [
              0.5555555555555556,
              "#d8576b"
             ],
             [
              0.6666666666666666,
              "#ed7953"
             ],
             [
              0.7777777777777778,
              "#fb9f3a"
             ],
             [
              0.8888888888888888,
              "#fdca26"
             ],
             [
              1,
              "#f0f921"
             ]
            ],
            "type": "heatmapgl"
           }
          ],
          "histogram": [
           {
            "marker": {
             "pattern": {
              "fillmode": "overlay",
              "size": 10,
              "solidity": 0.2
             }
            },
            "type": "histogram"
           }
          ],
          "histogram2d": [
           {
            "colorbar": {
             "outlinewidth": 0,
             "ticks": ""
            },
            "colorscale": [
             [
              0,
              "#0d0887"
             ],
             [
              0.1111111111111111,
              "#46039f"
             ],
             [
              0.2222222222222222,
              "#7201a8"
             ],
             [
              0.3333333333333333,
              "#9c179e"
             ],
             [
              0.4444444444444444,
              "#bd3786"
             ],
             [
              0.5555555555555556,
              "#d8576b"
             ],
             [
              0.6666666666666666,
              "#ed7953"
             ],
             [
              0.7777777777777778,
              "#fb9f3a"
             ],
             [
              0.8888888888888888,
              "#fdca26"
             ],
             [
              1,
              "#f0f921"
             ]
            ],
            "type": "histogram2d"
           }
          ],
          "histogram2dcontour": [
           {
            "colorbar": {
             "outlinewidth": 0,
             "ticks": ""
            },
            "colorscale": [
             [
              0,
              "#0d0887"
             ],
             [
              0.1111111111111111,
              "#46039f"
             ],
             [
              0.2222222222222222,
              "#7201a8"
             ],
             [
              0.3333333333333333,
              "#9c179e"
             ],
             [
              0.4444444444444444,
              "#bd3786"
             ],
             [
              0.5555555555555556,
              "#d8576b"
             ],
             [
              0.6666666666666666,
              "#ed7953"
             ],
             [
              0.7777777777777778,
              "#fb9f3a"
             ],
             [
              0.8888888888888888,
              "#fdca26"
             ],
             [
              1,
              "#f0f921"
             ]
            ],
            "type": "histogram2dcontour"
           }
          ],
          "mesh3d": [
           {
            "colorbar": {
             "outlinewidth": 0,
             "ticks": ""
            },
            "type": "mesh3d"
           }
          ],
          "parcoords": [
           {
            "line": {
             "colorbar": {
              "outlinewidth": 0,
              "ticks": ""
             }
            },
            "type": "parcoords"
           }
          ],
          "pie": [
           {
            "automargin": true,
            "type": "pie"
           }
          ],
          "scatter": [
           {
            "fillpattern": {
             "fillmode": "overlay",
             "size": 10,
             "solidity": 0.2
            },
            "type": "scatter"
           }
          ],
          "scatter3d": [
           {
            "line": {
             "colorbar": {
              "outlinewidth": 0,
              "ticks": ""
             }
            },
            "marker": {
             "colorbar": {
              "outlinewidth": 0,
              "ticks": ""
             }
            },
            "type": "scatter3d"
           }
          ],
          "scattercarpet": [
           {
            "marker": {
             "colorbar": {
              "outlinewidth": 0,
              "ticks": ""
             }
            },
            "type": "scattercarpet"
           }
          ],
          "scattergeo": [
           {
            "marker": {
             "colorbar": {
              "outlinewidth": 0,
              "ticks": ""
             }
            },
            "type": "scattergeo"
           }
          ],
          "scattergl": [
           {
            "marker": {
             "colorbar": {
              "outlinewidth": 0,
              "ticks": ""
             }
            },
            "type": "scattergl"
           }
          ],
          "scattermapbox": [
           {
            "marker": {
             "colorbar": {
              "outlinewidth": 0,
              "ticks": ""
             }
            },
            "type": "scattermapbox"
           }
          ],
          "scatterpolar": [
           {
            "marker": {
             "colorbar": {
              "outlinewidth": 0,
              "ticks": ""
             }
            },
            "type": "scatterpolar"
           }
          ],
          "scatterpolargl": [
           {
            "marker": {
             "colorbar": {
              "outlinewidth": 0,
              "ticks": ""
             }
            },
            "type": "scatterpolargl"
           }
          ],
          "scatterternary": [
           {
            "marker": {
             "colorbar": {
              "outlinewidth": 0,
              "ticks": ""
             }
            },
            "type": "scatterternary"
           }
          ],
          "surface": [
           {
            "colorbar": {
             "outlinewidth": 0,
             "ticks": ""
            },
            "colorscale": [
             [
              0,
              "#0d0887"
             ],
             [
              0.1111111111111111,
              "#46039f"
             ],
             [
              0.2222222222222222,
              "#7201a8"
             ],
             [
              0.3333333333333333,
              "#9c179e"
             ],
             [
              0.4444444444444444,
              "#bd3786"
             ],
             [
              0.5555555555555556,
              "#d8576b"
             ],
             [
              0.6666666666666666,
              "#ed7953"
             ],
             [
              0.7777777777777778,
              "#fb9f3a"
             ],
             [
              0.8888888888888888,
              "#fdca26"
             ],
             [
              1,
              "#f0f921"
             ]
            ],
            "type": "surface"
           }
          ],
          "table": [
           {
            "cells": {
             "fill": {
              "color": "#EBF0F8"
             },
             "line": {
              "color": "white"
             }
            },
            "header": {
             "fill": {
              "color": "#C8D4E3"
             },
             "line": {
              "color": "white"
             }
            },
            "type": "table"
           }
          ]
         },
         "layout": {
          "annotationdefaults": {
           "arrowcolor": "#2a3f5f",
           "arrowhead": 0,
           "arrowwidth": 1
          },
          "autotypenumbers": "strict",
          "coloraxis": {
           "colorbar": {
            "outlinewidth": 0,
            "ticks": ""
           }
          },
          "colorscale": {
           "diverging": [
            [
             0,
             "#8e0152"
            ],
            [
             0.1,
             "#c51b7d"
            ],
            [
             0.2,
             "#de77ae"
            ],
            [
             0.3,
             "#f1b6da"
            ],
            [
             0.4,
             "#fde0ef"
            ],
            [
             0.5,
             "#f7f7f7"
            ],
            [
             0.6,
             "#e6f5d0"
            ],
            [
             0.7,
             "#b8e186"
            ],
            [
             0.8,
             "#7fbc41"
            ],
            [
             0.9,
             "#4d9221"
            ],
            [
             1,
             "#276419"
            ]
           ],
           "sequential": [
            [
             0,
             "#0d0887"
            ],
            [
             0.1111111111111111,
             "#46039f"
            ],
            [
             0.2222222222222222,
             "#7201a8"
            ],
            [
             0.3333333333333333,
             "#9c179e"
            ],
            [
             0.4444444444444444,
             "#bd3786"
            ],
            [
             0.5555555555555556,
             "#d8576b"
            ],
            [
             0.6666666666666666,
             "#ed7953"
            ],
            [
             0.7777777777777778,
             "#fb9f3a"
            ],
            [
             0.8888888888888888,
             "#fdca26"
            ],
            [
             1,
             "#f0f921"
            ]
           ],
           "sequentialminus": [
            [
             0,
             "#0d0887"
            ],
            [
             0.1111111111111111,
             "#46039f"
            ],
            [
             0.2222222222222222,
             "#7201a8"
            ],
            [
             0.3333333333333333,
             "#9c179e"
            ],
            [
             0.4444444444444444,
             "#bd3786"
            ],
            [
             0.5555555555555556,
             "#d8576b"
            ],
            [
             0.6666666666666666,
             "#ed7953"
            ],
            [
             0.7777777777777778,
             "#fb9f3a"
            ],
            [
             0.8888888888888888,
             "#fdca26"
            ],
            [
             1,
             "#f0f921"
            ]
           ]
          },
          "colorway": [
           "#636efa",
           "#EF553B",
           "#00cc96",
           "#ab63fa",
           "#FFA15A",
           "#19d3f3",
           "#FF6692",
           "#B6E880",
           "#FF97FF",
           "#FECB52"
          ],
          "font": {
           "color": "#2a3f5f"
          },
          "geo": {
           "bgcolor": "white",
           "lakecolor": "white",
           "landcolor": "#E5ECF6",
           "showlakes": true,
           "showland": true,
           "subunitcolor": "white"
          },
          "hoverlabel": {
           "align": "left"
          },
          "hovermode": "closest",
          "mapbox": {
           "style": "light"
          },
          "paper_bgcolor": "white",
          "plot_bgcolor": "#E5ECF6",
          "polar": {
           "angularaxis": {
            "gridcolor": "white",
            "linecolor": "white",
            "ticks": ""
           },
           "bgcolor": "#E5ECF6",
           "radialaxis": {
            "gridcolor": "white",
            "linecolor": "white",
            "ticks": ""
           }
          },
          "scene": {
           "xaxis": {
            "backgroundcolor": "#E5ECF6",
            "gridcolor": "white",
            "gridwidth": 2,
            "linecolor": "white",
            "showbackground": true,
            "ticks": "",
            "zerolinecolor": "white"
           },
           "yaxis": {
            "backgroundcolor": "#E5ECF6",
            "gridcolor": "white",
            "gridwidth": 2,
            "linecolor": "white",
            "showbackground": true,
            "ticks": "",
            "zerolinecolor": "white"
           },
           "zaxis": {
            "backgroundcolor": "#E5ECF6",
            "gridcolor": "white",
            "gridwidth": 2,
            "linecolor": "white",
            "showbackground": true,
            "ticks": "",
            "zerolinecolor": "white"
           }
          },
          "shapedefaults": {
           "line": {
            "color": "#2a3f5f"
           }
          },
          "ternary": {
           "aaxis": {
            "gridcolor": "white",
            "linecolor": "white",
            "ticks": ""
           },
           "baxis": {
            "gridcolor": "white",
            "linecolor": "white",
            "ticks": ""
           },
           "bgcolor": "#E5ECF6",
           "caxis": {
            "gridcolor": "white",
            "linecolor": "white",
            "ticks": ""
           }
          },
          "title": {
           "x": 0.05
          },
          "xaxis": {
           "automargin": true,
           "gridcolor": "white",
           "linecolor": "white",
           "ticks": "",
           "title": {
            "standoff": 15
           },
           "zerolinecolor": "white",
           "zerolinewidth": 2
          },
          "yaxis": {
           "automargin": true,
           "gridcolor": "white",
           "linecolor": "white",
           "ticks": "",
           "title": {
            "standoff": 15
           },
           "zerolinecolor": "white",
           "zerolinewidth": 2
          }
         }
        },
        "title": {
         "text": "Molecular Orbital (MO) Occupations"
        },
        "xaxis": {
         "anchor": "y",
         "domain": [
          0,
          1
         ],
         "title": {
          "text": "Orbital Index (0-Based)"
         }
        },
        "yaxis": {
         "anchor": "x",
         "domain": [
          0,
          1
         ],
         "title": {
          "text": "MO Occupation"
         }
        }
       }
      }
     },
     "metadata": {},
     "output_type": "display_data"
    }
   ],
   "source": [
    "import plotly.express as px\n",
    "\n",
    "# Plot the MO Occupations\n",
    "fig = px.line(y=BODIPY_def2svp.mo_occ, markers=True, title=\"Molecular Orbital (MO) Occupations\")\n",
    "fig.update_layout(xaxis_title=\"Orbital Index (0-Based)\", yaxis_title=\"MO Occupation\")\n",
    "fig.show()"
   ]
  },
  {
   "cell_type": "code",
   "execution_count": null,
   "id": "0f576a9d",
   "metadata": {},
   "outputs": [
    {
     "data": {
      "application/vnd.plotly.v1+json": {
       "config": {
        "plotlyServerURL": "https://plot.ly"
       },
       "data": [
        {
         "hovertemplate": "x=%{x}<br>y=%{y}<extra></extra>",
         "legendgroup": "",
         "line": {
          "color": "#636efa",
          "dash": "solid"
         },
         "marker": {
          "symbol": "circle"
         },
         "mode": "lines+markers",
         "name": "",
         "orientation": "v",
         "showlegend": false,
         "type": "scatter",
         "x": [
          0,
          1,
          2,
          3,
          4,
          5,
          6,
          7,
          8,
          9,
          10,
          11,
          12,
          13,
          14,
          15,
          16,
          17,
          18,
          19,
          20,
          21,
          22,
          23,
          24,
          25,
          26,
          27,
          28,
          29,
          30,
          31,
          32,
          33,
          34,
          35,
          36,
          37,
          38,
          39,
          40,
          41,
          42,
          43,
          44,
          45,
          46,
          47,
          48,
          49,
          50,
          51,
          52,
          53,
          54,
          55,
          56,
          57,
          58,
          59,
          60,
          61,
          62,
          63,
          64,
          65,
          66,
          67,
          68,
          69,
          70,
          71,
          72,
          73,
          74,
          75,
          76,
          77,
          78,
          79,
          80,
          81,
          82,
          83,
          84,
          85,
          86,
          87,
          88,
          89,
          90,
          91,
          92,
          93,
          94,
          95,
          96,
          97,
          98,
          99,
          100,
          101,
          102,
          103,
          104,
          105,
          106,
          107,
          108,
          109,
          110,
          111,
          112,
          113,
          114,
          115,
          116,
          117,
          118,
          119,
          120,
          121,
          122,
          123,
          124,
          125,
          126,
          127,
          128,
          129,
          130,
          131,
          132,
          133,
          134,
          135,
          136,
          137,
          138,
          139,
          140,
          141,
          142,
          143,
          144,
          145,
          146,
          147,
          148,
          149,
          150,
          151,
          152,
          153,
          154,
          155,
          156,
          157,
          158,
          159,
          160,
          161,
          162,
          163,
          164,
          165,
          166,
          167,
          168,
          169,
          170,
          171,
          172,
          173,
          174,
          175,
          176,
          177,
          178,
          179,
          180,
          181,
          182,
          183,
          184,
          185,
          186,
          187,
          188,
          189,
          190,
          191,
          192,
          193,
          194,
          195,
          196,
          197,
          198,
          199,
          200,
          201,
          202,
          203,
          204,
          205,
          206,
          207,
          208,
          209,
          210,
          211,
          212,
          213,
          214,
          215,
          216,
          217,
          218,
          219,
          220,
          221,
          222,
          223,
          224,
          225,
          226,
          227,
          228,
          229,
          230
         ],
         "xaxis": "x",
         "y": [
          -26.20509065833921,
          -26.19826942089032,
          -15.633801841467395,
          -15.5827524988402,
          -11.349995971421684,
          -11.314309423388448,
          -11.29983029970373,
          -11.294474088588409,
          -11.271926878958338,
          -11.271263721881423,
          -11.269475922668539,
          -11.23494585232337,
          -11.21836339672658,
          -7.689108148102465,
          -1.489272445264733,
          -1.4597022270615576,
          -1.3352220318909394,
          -1.2987042582496826,
          -1.1097096187199227,
          -1.1024399979457586,
          -1.0503732270332544,
          -0.9897508087435891,
          -0.9220489568497228,
          -0.8449626485279936,
          -0.8241470185325072,
          -0.7979593394627617,
          -0.7822753576887123,
          -0.7538299029967997,
          -0.715373351061081,
          -0.6882254331847267,
          -0.6625287397622399,
          -0.6515044313737175,
          -0.6455969145057402,
          -0.6279438954977403,
          -0.6117838665583483,
          -0.6059301445489287,
          -0.5972808898752552,
          -0.5881632204993447,
          -0.5780338060809319,
          -0.5605908106490435,
          -0.5535198593936063,
          -0.546462571135393,
          -0.5428185461561653,
          -0.5412524313491359,
          -0.5224722849448088,
          -0.42020577231454087,
          -0.41308995829309325,
          -0.35944839442671567,
          -0.29006955046752364,
          -0.003747979106404335,
          0.16092755870759973,
          0.167863482174269,
          0.18750603230060628,
          0.1884087024214852,
          0.20824221515270508,
          0.2195937344766023,
          0.22681718380711025,
          0.2277748396172992,
          0.2503522395459683,
          0.256476667133705,
          0.27609903113552337,
          0.2907417277721749,
          0.32201620438674944,
          0.34644710289356734,
          0.35728529587725993,
          0.363198338054173,
          0.37525727040753265,
          0.3876913037287644,
          0.42456780754963486,
          0.43915007976431586,
          0.4673506257177956,
          0.4787259115958381,
          0.4861913768168307,
          0.49725753590372684,
          0.5488641863481656,
          0.5577540216509081,
          0.5622091647048977,
          0.5724126520418832,
          0.5862268309401231,
          0.5940063673877828,
          0.6142888065274602,
          0.6214347756656458,
          0.627167028185992,
          0.6401646369650971,
          0.6421095650556827,
          0.6602469617844214,
          0.6640639553206396,
          0.685797006406751,
          0.708775728779471,
          0.7205124753371834,
          0.7270600895701727,
          0.7347613618947125,
          0.7503855536562101,
          0.7831062872186911,
          0.8099447585928472,
          0.8234340509184789,
          0.825034965818544,
          0.829868439280826,
          0.8436296574475586,
          0.8612308502616545,
          0.8708366653896917,
          0.8735600587738469,
          0.8790889273805821,
          0.8958432030832905,
          0.9011111315323246,
          0.9199067961593084,
          0.9308953680608524,
          0.9446937381927414,
          0.9905583243808418,
          1.015745227672107,
          1.0345807344649058,
          1.0444099073738913,
          1.0663380601008672,
          1.092031057287651,
          1.133447529747488,
          1.135748669732644,
          1.1525327728652617,
          1.183400073778981,
          1.194270615474818,
          1.228590770224042,
          1.2508958864923747,
          1.2585990957757844,
          1.29777921370671,
          1.3440485587320303,
          1.3593132479721133,
          1.37133090081908,
          1.3747540488285606,
          1.3954868661241715,
          1.4283262004964625,
          1.4340947926002718,
          1.468498794596989,
          1.4790320875647391,
          1.4874645527774335,
          1.498238300544815,
          1.50858743772161,
          1.535579896659902,
          1.5498672378375162,
          1.5593401201134105,
          1.5746500787558517,
          1.5780834554389005,
          1.613366130764007,
          1.6385420977725451,
          1.6653159381118896,
          1.696641286501456,
          1.7310155068605324,
          1.7519226967993327,
          1.8259587034784386,
          1.8391590006523566,
          1.8616453501315544,
          1.8846290210463543,
          1.9061221294641735,
          1.9139152128955248,
          1.9263855934413951,
          1.9371448998734577,
          1.9515560636710467,
          1.9758339449807099,
          1.9803737510514927,
          1.9993348113443532,
          2.0060952743971026,
          2.031622915238216,
          2.0462933809540504,
          2.0637570086438415,
          2.084331445364661,
          2.09809533724107,
          2.1046813674724127,
          2.130330542853559,
          2.1604788582729437,
          2.184020142107999,
          2.1891051653994884,
          2.1984557860355616,
          2.2027833638529386,
          2.22838548587149,
          2.237968260207156,
          2.2670245908317717,
          2.2722785085343844,
          2.2860276230977297,
          2.297134815256547,
          2.3175499941106943,
          2.3463196335188674,
          2.348051381835776,
          2.420353415491988,
          2.4236294591820067,
          2.4424003601277673,
          2.4817526334342666,
          2.5104083471908605,
          2.539176970945048,
          2.558317715571159,
          2.590076816537465,
          2.623272992652032,
          2.6392893390864565,
          2.6404086715011283,
          2.680510824523918,
          2.6917147217955275,
          2.7155506434384398,
          2.839023801152158,
          2.8610582817339485,
          2.8844397502144736,
          2.898856741890572,
          2.9391467994131997,
          2.980044728767494,
          2.9859161719385243,
          3.0081350993881637,
          3.03326797190101,
          3.0503676152908343,
          3.0556593790139583,
          3.066293290384955,
          3.0776990952196397,
          3.101183489449529,
          3.101933534311298,
          3.2096281941425193,
          3.257498682519329,
          3.2659763109885303,
          3.3465859930183224,
          3.3975208098553025,
          3.41523554514606,
          3.5308746976409586,
          3.531839906878108,
          3.5546154462887967,
          3.564808413188177,
          3.581092761572925,
          3.5908822840947408,
          3.6369301524218027,
          3.7137644879497733,
          3.8247634896423963,
          3.832040802382902,
          3.8364958264087883,
          3.866672750223494,
          3.9006681083526353,
          3.996219071720573,
          4.103514212885319,
          4.133956124226893
         ],
         "yaxis": "y"
        }
       ],
       "layout": {
        "legend": {
         "tracegroupgap": 0
        },
        "template": {
         "data": {
          "bar": [
           {
            "error_x": {
             "color": "#2a3f5f"
            },
            "error_y": {
             "color": "#2a3f5f"
            },
            "marker": {
             "line": {
              "color": "#E5ECF6",
              "width": 0.5
             },
             "pattern": {
              "fillmode": "overlay",
              "size": 10,
              "solidity": 0.2
             }
            },
            "type": "bar"
           }
          ],
          "barpolar": [
           {
            "marker": {
             "line": {
              "color": "#E5ECF6",
              "width": 0.5
             },
             "pattern": {
              "fillmode": "overlay",
              "size": 10,
              "solidity": 0.2
             }
            },
            "type": "barpolar"
           }
          ],
          "carpet": [
           {
            "aaxis": {
             "endlinecolor": "#2a3f5f",
             "gridcolor": "white",
             "linecolor": "white",
             "minorgridcolor": "white",
             "startlinecolor": "#2a3f5f"
            },
            "baxis": {
             "endlinecolor": "#2a3f5f",
             "gridcolor": "white",
             "linecolor": "white",
             "minorgridcolor": "white",
             "startlinecolor": "#2a3f5f"
            },
            "type": "carpet"
           }
          ],
          "choropleth": [
           {
            "colorbar": {
             "outlinewidth": 0,
             "ticks": ""
            },
            "type": "choropleth"
           }
          ],
          "contour": [
           {
            "colorbar": {
             "outlinewidth": 0,
             "ticks": ""
            },
            "colorscale": [
             [
              0,
              "#0d0887"
             ],
             [
              0.1111111111111111,
              "#46039f"
             ],
             [
              0.2222222222222222,
              "#7201a8"
             ],
             [
              0.3333333333333333,
              "#9c179e"
             ],
             [
              0.4444444444444444,
              "#bd3786"
             ],
             [
              0.5555555555555556,
              "#d8576b"
             ],
             [
              0.6666666666666666,
              "#ed7953"
             ],
             [
              0.7777777777777778,
              "#fb9f3a"
             ],
             [
              0.8888888888888888,
              "#fdca26"
             ],
             [
              1,
              "#f0f921"
             ]
            ],
            "type": "contour"
           }
          ],
          "contourcarpet": [
           {
            "colorbar": {
             "outlinewidth": 0,
             "ticks": ""
            },
            "type": "contourcarpet"
           }
          ],
          "heatmap": [
           {
            "colorbar": {
             "outlinewidth": 0,
             "ticks": ""
            },
            "colorscale": [
             [
              0,
              "#0d0887"
             ],
             [
              0.1111111111111111,
              "#46039f"
             ],
             [
              0.2222222222222222,
              "#7201a8"
             ],
             [
              0.3333333333333333,
              "#9c179e"
             ],
             [
              0.4444444444444444,
              "#bd3786"
             ],
             [
              0.5555555555555556,
              "#d8576b"
             ],
             [
              0.6666666666666666,
              "#ed7953"
             ],
             [
              0.7777777777777778,
              "#fb9f3a"
             ],
             [
              0.8888888888888888,
              "#fdca26"
             ],
             [
              1,
              "#f0f921"
             ]
            ],
            "type": "heatmap"
           }
          ],
          "heatmapgl": [
           {
            "colorbar": {
             "outlinewidth": 0,
             "ticks": ""
            },
            "colorscale": [
             [
              0,
              "#0d0887"
             ],
             [
              0.1111111111111111,
              "#46039f"
             ],
             [
              0.2222222222222222,
              "#7201a8"
             ],
             [
              0.3333333333333333,
              "#9c179e"
             ],
             [
              0.4444444444444444,
              "#bd3786"
             ],
             [
              0.5555555555555556,
              "#d8576b"
             ],
             [
              0.6666666666666666,
              "#ed7953"
             ],
             [
              0.7777777777777778,
              "#fb9f3a"
             ],
             [
              0.8888888888888888,
              "#fdca26"
             ],
             [
              1,
              "#f0f921"
             ]
            ],
            "type": "heatmapgl"
           }
          ],
          "histogram": [
           {
            "marker": {
             "pattern": {
              "fillmode": "overlay",
              "size": 10,
              "solidity": 0.2
             }
            },
            "type": "histogram"
           }
          ],
          "histogram2d": [
           {
            "colorbar": {
             "outlinewidth": 0,
             "ticks": ""
            },
            "colorscale": [
             [
              0,
              "#0d0887"
             ],
             [
              0.1111111111111111,
              "#46039f"
             ],
             [
              0.2222222222222222,
              "#7201a8"
             ],
             [
              0.3333333333333333,
              "#9c179e"
             ],
             [
              0.4444444444444444,
              "#bd3786"
             ],
             [
              0.5555555555555556,
              "#d8576b"
             ],
             [
              0.6666666666666666,
              "#ed7953"
             ],
             [
              0.7777777777777778,
              "#fb9f3a"
             ],
             [
              0.8888888888888888,
              "#fdca26"
             ],
             [
              1,
              "#f0f921"
             ]
            ],
            "type": "histogram2d"
           }
          ],
          "histogram2dcontour": [
           {
            "colorbar": {
             "outlinewidth": 0,
             "ticks": ""
            },
            "colorscale": [
             [
              0,
              "#0d0887"
             ],
             [
              0.1111111111111111,
              "#46039f"
             ],
             [
              0.2222222222222222,
              "#7201a8"
             ],
             [
              0.3333333333333333,
              "#9c179e"
             ],
             [
              0.4444444444444444,
              "#bd3786"
             ],
             [
              0.5555555555555556,
              "#d8576b"
             ],
             [
              0.6666666666666666,
              "#ed7953"
             ],
             [
              0.7777777777777778,
              "#fb9f3a"
             ],
             [
              0.8888888888888888,
              "#fdca26"
             ],
             [
              1,
              "#f0f921"
             ]
            ],
            "type": "histogram2dcontour"
           }
          ],
          "mesh3d": [
           {
            "colorbar": {
             "outlinewidth": 0,
             "ticks": ""
            },
            "type": "mesh3d"
           }
          ],
          "parcoords": [
           {
            "line": {
             "colorbar": {
              "outlinewidth": 0,
              "ticks": ""
             }
            },
            "type": "parcoords"
           }
          ],
          "pie": [
           {
            "automargin": true,
            "type": "pie"
           }
          ],
          "scatter": [
           {
            "fillpattern": {
             "fillmode": "overlay",
             "size": 10,
             "solidity": 0.2
            },
            "type": "scatter"
           }
          ],
          "scatter3d": [
           {
            "line": {
             "colorbar": {
              "outlinewidth": 0,
              "ticks": ""
             }
            },
            "marker": {
             "colorbar": {
              "outlinewidth": 0,
              "ticks": ""
             }
            },
            "type": "scatter3d"
           }
          ],
          "scattercarpet": [
           {
            "marker": {
             "colorbar": {
              "outlinewidth": 0,
              "ticks": ""
             }
            },
            "type": "scattercarpet"
           }
          ],
          "scattergeo": [
           {
            "marker": {
             "colorbar": {
              "outlinewidth": 0,
              "ticks": ""
             }
            },
            "type": "scattergeo"
           }
          ],
          "scattergl": [
           {
            "marker": {
             "colorbar": {
              "outlinewidth": 0,
              "ticks": ""
             }
            },
            "type": "scattergl"
           }
          ],
          "scattermapbox": [
           {
            "marker": {
             "colorbar": {
              "outlinewidth": 0,
              "ticks": ""
             }
            },
            "type": "scattermapbox"
           }
          ],
          "scatterpolar": [
           {
            "marker": {
             "colorbar": {
              "outlinewidth": 0,
              "ticks": ""
             }
            },
            "type": "scatterpolar"
           }
          ],
          "scatterpolargl": [
           {
            "marker": {
             "colorbar": {
              "outlinewidth": 0,
              "ticks": ""
             }
            },
            "type": "scatterpolargl"
           }
          ],
          "scatterternary": [
           {
            "marker": {
             "colorbar": {
              "outlinewidth": 0,
              "ticks": ""
             }
            },
            "type": "scatterternary"
           }
          ],
          "surface": [
           {
            "colorbar": {
             "outlinewidth": 0,
             "ticks": ""
            },
            "colorscale": [
             [
              0,
              "#0d0887"
             ],
             [
              0.1111111111111111,
              "#46039f"
             ],
             [
              0.2222222222222222,
              "#7201a8"
             ],
             [
              0.3333333333333333,
              "#9c179e"
             ],
             [
              0.4444444444444444,
              "#bd3786"
             ],
             [
              0.5555555555555556,
              "#d8576b"
             ],
             [
              0.6666666666666666,
              "#ed7953"
             ],
             [
              0.7777777777777778,
              "#fb9f3a"
             ],
             [
              0.8888888888888888,
              "#fdca26"
             ],
             [
              1,
              "#f0f921"
             ]
            ],
            "type": "surface"
           }
          ],
          "table": [
           {
            "cells": {
             "fill": {
              "color": "#EBF0F8"
             },
             "line": {
              "color": "white"
             }
            },
            "header": {
             "fill": {
              "color": "#C8D4E3"
             },
             "line": {
              "color": "white"
             }
            },
            "type": "table"
           }
          ]
         },
         "layout": {
          "annotationdefaults": {
           "arrowcolor": "#2a3f5f",
           "arrowhead": 0,
           "arrowwidth": 1
          },
          "autotypenumbers": "strict",
          "coloraxis": {
           "colorbar": {
            "outlinewidth": 0,
            "ticks": ""
           }
          },
          "colorscale": {
           "diverging": [
            [
             0,
             "#8e0152"
            ],
            [
             0.1,
             "#c51b7d"
            ],
            [
             0.2,
             "#de77ae"
            ],
            [
             0.3,
             "#f1b6da"
            ],
            [
             0.4,
             "#fde0ef"
            ],
            [
             0.5,
             "#f7f7f7"
            ],
            [
             0.6,
             "#e6f5d0"
            ],
            [
             0.7,
             "#b8e186"
            ],
            [
             0.8,
             "#7fbc41"
            ],
            [
             0.9,
             "#4d9221"
            ],
            [
             1,
             "#276419"
            ]
           ],
           "sequential": [
            [
             0,
             "#0d0887"
            ],
            [
             0.1111111111111111,
             "#46039f"
            ],
            [
             0.2222222222222222,
             "#7201a8"
            ],
            [
             0.3333333333333333,
             "#9c179e"
            ],
            [
             0.4444444444444444,
             "#bd3786"
            ],
            [
             0.5555555555555556,
             "#d8576b"
            ],
            [
             0.6666666666666666,
             "#ed7953"
            ],
            [
             0.7777777777777778,
             "#fb9f3a"
            ],
            [
             0.8888888888888888,
             "#fdca26"
            ],
            [
             1,
             "#f0f921"
            ]
           ],
           "sequentialminus": [
            [
             0,
             "#0d0887"
            ],
            [
             0.1111111111111111,
             "#46039f"
            ],
            [
             0.2222222222222222,
             "#7201a8"
            ],
            [
             0.3333333333333333,
             "#9c179e"
            ],
            [
             0.4444444444444444,
             "#bd3786"
            ],
            [
             0.5555555555555556,
             "#d8576b"
            ],
            [
             0.6666666666666666,
             "#ed7953"
            ],
            [
             0.7777777777777778,
             "#fb9f3a"
            ],
            [
             0.8888888888888888,
             "#fdca26"
            ],
            [
             1,
             "#f0f921"
            ]
           ]
          },
          "colorway": [
           "#636efa",
           "#EF553B",
           "#00cc96",
           "#ab63fa",
           "#FFA15A",
           "#19d3f3",
           "#FF6692",
           "#B6E880",
           "#FF97FF",
           "#FECB52"
          ],
          "font": {
           "color": "#2a3f5f"
          },
          "geo": {
           "bgcolor": "white",
           "lakecolor": "white",
           "landcolor": "#E5ECF6",
           "showlakes": true,
           "showland": true,
           "subunitcolor": "white"
          },
          "hoverlabel": {
           "align": "left"
          },
          "hovermode": "closest",
          "mapbox": {
           "style": "light"
          },
          "paper_bgcolor": "white",
          "plot_bgcolor": "#E5ECF6",
          "polar": {
           "angularaxis": {
            "gridcolor": "white",
            "linecolor": "white",
            "ticks": ""
           },
           "bgcolor": "#E5ECF6",
           "radialaxis": {
            "gridcolor": "white",
            "linecolor": "white",
            "ticks": ""
           }
          },
          "scene": {
           "xaxis": {
            "backgroundcolor": "#E5ECF6",
            "gridcolor": "white",
            "gridwidth": 2,
            "linecolor": "white",
            "showbackground": true,
            "ticks": "",
            "zerolinecolor": "white"
           },
           "yaxis": {
            "backgroundcolor": "#E5ECF6",
            "gridcolor": "white",
            "gridwidth": 2,
            "linecolor": "white",
            "showbackground": true,
            "ticks": "",
            "zerolinecolor": "white"
           },
           "zaxis": {
            "backgroundcolor": "#E5ECF6",
            "gridcolor": "white",
            "gridwidth": 2,
            "linecolor": "white",
            "showbackground": true,
            "ticks": "",
            "zerolinecolor": "white"
           }
          },
          "shapedefaults": {
           "line": {
            "color": "#2a3f5f"
           }
          },
          "ternary": {
           "aaxis": {
            "gridcolor": "white",
            "linecolor": "white",
            "ticks": ""
           },
           "baxis": {
            "gridcolor": "white",
            "linecolor": "white",
            "ticks": ""
           },
           "bgcolor": "#E5ECF6",
           "caxis": {
            "gridcolor": "white",
            "linecolor": "white",
            "ticks": ""
           }
          },
          "title": {
           "x": 0.05
          },
          "xaxis": {
           "automargin": true,
           "gridcolor": "white",
           "linecolor": "white",
           "ticks": "",
           "title": {
            "standoff": 15
           },
           "zerolinecolor": "white",
           "zerolinewidth": 2
          },
          "yaxis": {
           "automargin": true,
           "gridcolor": "white",
           "linecolor": "white",
           "ticks": "",
           "title": {
            "standoff": 15
           },
           "zerolinecolor": "white",
           "zerolinewidth": 2
          }
         }
        },
        "title": {
         "text": "Molecular Orbital (MO) Energies (a.u.)"
        },
        "xaxis": {
         "anchor": "y",
         "domain": [
          0,
          1
         ],
         "title": {
          "text": "Orbital Index (0-Based)"
         }
        },
        "yaxis": {
         "anchor": "x",
         "domain": [
          0,
          1
         ],
         "title": {
          "text": "MO Energies (a.u.)"
         }
        }
       }
      }
     },
     "metadata": {},
     "output_type": "display_data"
    }
   ],
   "source": [
    "# Plot the MO Energies (i.e. eigenvalues of the Fock matrix)\n",
    "fig = px.line(y=BODIPY_def2svp.mo_energies, markers=True, title=\"Molecular Orbital (MO) Energies (a.u.)\")\n",
    "fig.update_layout(xaxis_title=\"Orbital Index (0-Based)\", yaxis_title=\"MO Energies (a.u.)\")\n",
    "fig.show()"
   ]
  },
  {
   "cell_type": "code",
   "execution_count": null,
   "id": "455840ba",
   "metadata": {},
   "outputs": [
    {
     "name": "stdout",
     "output_type": "stream",
     "text": [
      "indice homo : 48 \n",
      "indice lumo: 49 \n",
      "le nombre orbitales moleculaire est :231\n"
     ]
    }
   ],
   "source": [
    "n_lumo = BODIPY_def2svp.mo_occ.tolist().index(0.)\n",
    "n_homo = n_lumo - 1\n",
    "print(f\"indice homo : {n_homo} \")\n",
    "print(f\"indice lumo: {n_lumo} \")\n",
    "\n",
    "print(f'le nombre orbitales moleculaire est :{BODIPY_def2svp.n_mos}')"
   ]
  },
  {
   "cell_type": "code",
   "execution_count": null,
   "id": "02f0432f",
   "metadata": {},
   "outputs": [],
   "source": [
    "import dftd4.pyscf as disp\n",
    "from pyscf import solvent\n",
    "\n",
    "mf = BODIPY_def2svp.mean_field\n",
    "\n",
    "# Utiliser la méthode \"ddCOSMO\" de l'objet \"solvent\"\n",
    "mf = mf.run().ddCOSMO()\n",
    "mf.with_solvent.eps = 2.3741   # Toluene\n",
    "mf = disp.energy(mf).run()\n",
    "\n",
    "\n",
    "mf_t = BODIPY_def2svp_t.mean_field\n",
    "mf_t = mf_t.run().ddCOSMO()\n",
    "mf_t.with_solvent.eps = 2.3741   # Toluene\n",
    "mf_t = disp.energy(mf_t).run()"
   ]
  },
  {
   "cell_type": "code",
   "execution_count": null,
   "id": "7adebb81",
   "metadata": {},
   "outputs": [
    {
     "name": "stdout",
     "output_type": "stream",
     "text": [
      "**** SCF Summaries ****\n",
      "Total Energy =                        -677.076107991188792\n",
      "Nuclear Repulsion Energy =             861.257970215010346\n",
      "One-electron Energy =                -2638.316418247129150\n",
      "Two-electron Energy =                 1099.994999565999024\n",
      "Empirical Dispersion Energy =           -0.097806137899433\n"
     ]
    }
   ],
   "source": [
    "mf.dump_scf_summary()"
   ]
  },
  {
   "cell_type": "markdown",
   "id": "fd289539",
   "metadata": {},
   "source": [
    "### Hamiltonien"
   ]
  },
  {
   "cell_type": "code",
   "execution_count": null,
   "id": "578f3eef",
   "metadata": {},
   "outputs": [
    {
     "name": "stdout",
     "output_type": "stream",
     "text": [
      "2 active molecular orbitals\n",
      "2 active electrons\n",
      "[48, 49] is the active space\n"
     ]
    },
    {
     "ename": "",
     "evalue": "",
     "output_type": "error",
     "traceback": [
      "\u001b[1;31mLe noyau s’est bloqué lors de l’exécution du code dans une cellule active ou une cellule précédente. \n",
      "\u001b[1;31mVeuillez vérifier le code dans la ou les cellules pour identifier une cause possible de l’échec. \n",
      "\u001b[1;31mCliquez <a href='https://aka.ms/vscodeJupyterKernelCrash'>ici</a> pour plus d’informations. \n",
      "\u001b[1;31mPour plus d’informations, consultez Jupyter <a href='command:jupyter.viewOutput'>log</a>."
     ]
    }
   ],
   "source": [
    "from tangelo.toolboxes.molecular_computation.frozen_orbitals import get_orbitals_excluding_homo_lumo\n",
    "\n",
    "# Selecting HOMO-0 to LUMO+0 orbitals.\n",
    "frozen = get_orbitals_excluding_homo_lumo(BODIPY_def2svp, homo_minus_n=0, lumo_plus_n=0)\n",
    "\n",
    "BODIPY_def2svp_frozen = SQMol(mol_xyz1, q=0, spin=0,\n",
    "                                            basis=\"def2-SVP\",\n",
    "                                            frozen_orbitals=frozen, symmetry=True)\n",
    "BODIPY_def2svp_frozen_t = SQMol(mol_xyz1, q=0, spin=2,\n",
    "                                            basis=\"def2-SVP\",\n",
    "                                            frozen_orbitals=frozen, symmetry=True)\n",
    "print(f\"{BODIPY_def2svp_frozen.n_active_mos} active molecular orbitals\")\n",
    "print(f\"{BODIPY_def2svp_frozen.n_active_electrons} active electrons\")\n",
    "print(f\"{BODIPY_def2svp_frozen.active_mos} is the active space\")"
   ]
  },
  {
   "cell_type": "code",
   "execution_count": null,
   "id": "fcef62a9",
   "metadata": {},
   "outputs": [],
   "source": [
    "from tangelo.toolboxes.qubit_mappings.mapping_transform import fermion_to_qubit_mapping\n",
    "from tangelo.toolboxes.operators import count_qubits\n",
    "from tangelo.toolboxes.operators.taper_qubits import QubitTapering\n",
    "\n",
    "#singulet\n",
    "hamiltonian = fermion_to_qubit_mapping(BODIPY_def2svp_frozen.fermionic_hamiltonian, \"JW\")\n",
    "n_qubits = count_qubits(hamiltonian)\n",
    "taper = QubitTapering(hamiltonian, n_qubits,\n",
    "                      n_electrons=BODIPY_def2svp_frozen.n_active_electrons)\n",
    "hamiltonian_taper = taper.z2_tapered_op\n",
    "n_qubits_tapered = count_qubits(hamiltonian_taper)\n",
    "\n",
    "print(f\"Number of qubits: {n_qubits}\")\n",
    "print(f\"Number of qubits after tapering: {n_qubits_tapered}\")\n",
    "print(f\"{n_qubits - n_qubits_tapered} Z2 symmetries detected\")\n"
   ]
  },
  {
   "cell_type": "code",
   "execution_count": null,
   "id": "c3da8c4b",
   "metadata": {},
   "outputs": [],
   "source": [
    "# triplet\n",
    "hamiltonian_t = fermion_to_qubit_mapping(BODIPY_def2svp_frozen_t.fermionic_hamiltonian, \"JW\")\n",
    "n_qubits_t = count_qubits(hamiltonian_t)\n",
    "taper_t = QubitTapering(hamiltonian_t, n_qubits_t,\n",
    "                      n_electrons=BODIPY_def2svp_frozen_t.n_active_electrons)\n",
    "hamiltonian_taper_t = taper_t.z2_tapered_op\n",
    "n_qubits_tapered_t = count_qubits(hamiltonian_taper_t)\n",
    "\n",
    "print(f\"Number of qubits t: {n_qubits_t}\")\n",
    "print(f\"Number of qubits t after tapering: {n_qubits_tapered_t}\")\n",
    "print(f\"{n_qubits_t - n_qubits_tapered_t} Z2 symmetries t detected\")\n"
   ]
  },
  {
   "cell_type": "markdown",
   "id": "6a7c5872",
   "metadata": {},
   "source": [
    "### Calcul VQE"
   ]
  },
  {
   "cell_type": "code",
   "execution_count": null,
   "id": "8410cf27",
   "metadata": {},
   "outputs": [],
   "source": [
    "from tangelo.algorithms.variational import VQESolver, BuiltInAnsatze\n",
    "from tangelo.algorithms.classical import FCISolver\n",
    "\n",
    "# Dictionary of resources for each algorithm\n",
    "algorithm_resources = dict()\n",
    "\n",
    "# Ground state energy calculation with VQE, reference values with FCI\n",
    "vqe_options = {\"molecule\": BODIPY_def2svp_frozen, \"ansatz\": BuiltInAnsatze.UCCSD}\n",
    "vqe_solver = VQESolver(vqe_options)\n",
    "vqe_solver.build()\n",
    "vqe_energy = vqe_solver.simulate()\n",
    "print(\"\\n Ground Singlet state\")\n",
    "print(f\"VQE energy = {vqe_energy}\")\n",
    "print(f\"CASCI energy = {FCISolver(BODIPY_def2svp_frozen).simulate()}\")\n",
    "algorithm_resources[\"vqe_ground_state\"] = vqe_solver.get_resources()\n",
    "\n",
    "# First excited state energy calculation with VQE, reference values with FCI\n",
    "vqe_options_t = {\"molecule\": BODIPY_def2svp_frozen_t, \"ansatz\": BuiltInAnsatze.UpCCGSD}\n",
    "vqe_solver_t = VQESolver(vqe_options_t)\n",
    "vqe_solver_t.build()\n",
    "vqe_energy_t = vqe_solver_t.simulate()\n",
    "print(\"\\n Lowest triplet state\")\n",
    "print(f\"VQE energy triplet = {vqe_energy_t}\")\n",
    "print(f\"CASCI energy triplet = {FCISolver(BODIPY_def2svp_frozen_t).simulate()}\")\n",
    "algorithm_resources[\"vqe_triplet_state\"] = vqe_solver_t.get_resources()\n"
   ]
  },
  {
   "cell_type": "markdown",
   "id": "bb7d4919",
   "metadata": {},
   "source": [
    "### VQE Deflation\n",
    "\n",
    "This approach can be implented by using the deflation options built in the `VQESolver` class:\n",
    "\n",
    "- The keyword `\"deflation_circuits\"` allows the user to provide a list of circuits to use in the deflation process.\n",
    "- Additionally, the keyword `\"deflation_coeff\"` allows a user to specify the weight in front of the penalty term. This coefficient must be larger than the difference in energy between the ground and the target excited state."
   ]
  },
  {
   "cell_type": "code",
   "execution_count": null,
   "id": "a87fe781",
   "metadata": {},
   "outputs": [],
   "source": [
    "# Add initial VQE optimal circuit to the deflation circuits list\n",
    "deflation_circuits = [vqe_solver.optimal_circuit.copy()]\n",
    "\n",
    "# Calculate first and second excited states by adding optimal circuits to deflation_circuits\n",
    "for i in range(2):\n",
    "    vqe_options = {\"molecule\": BODIPY_def2svp_frozen, \"ansatz\": BuiltInAnsatze.UpCCGSD, \n",
    "                   \"deflation_circuits\": deflation_circuits, \"deflation_coeff\": 0.4}\n",
    "    vqe_solver = VQESolver(vqe_options)\n",
    "    vqe_solver.build()\n",
    "    vqe_energy = vqe_solver.simulate()\n",
    "    print(f\"Excited state #{i+1} \\t VQE energy = {vqe_energy}\")\n",
    "    algorithm_resources[f\"vqe_deflation_state_{i+1}\"] = vqe_solver.get_resources()\n",
    "\n",
    "    deflation_circuits.append(vqe_solver.optimal_circuit.copy())"
   ]
  },
  {
   "cell_type": "markdown",
   "id": "d0001aef",
   "metadata": {},
   "source": [
    "The deflation above generated the singlet states. Sometimes it is useful to use a different reference state. In the next example of deflation, we use a reference state with 2 alpha electrons and 0 beta electrons to calculate the triplet state. The reference state is defined by alternating up then down ordering, which yields `{\"ref_state\": [1, 0, 1, 0]}` for 2 alpha electrons in 2 orbitals for this situation."
   ]
  },
  {
   "cell_type": "code",
   "execution_count": null,
   "id": "0020e65d",
   "metadata": {},
   "outputs": [],
   "source": [
    "vqe_options = {\"molecule\": BODIPY_def2svp_frozen, \"ansatz\": BuiltInAnsatze.UpCCGSD, \n",
    "               \"deflation_circuits\": deflation_circuits,\n",
    "               \"deflation_coeff\": 0.4, \"ref_state\": [1, 0, 1, 0]}\n",
    "vqe_solver_triplet = VQESolver(vqe_options)\n",
    "vqe_solver_triplet.build()\n",
    "vqe_energy = vqe_solver_triplet.simulate()\n",
    "print(f\"VQE Excited energy = {vqe_energy}\")\n",
    "algorithm_resources[f\"vqe_deflation_state_{3}\"] = vqe_solver_triplet.get_resources()"
   ]
  },
  {
   "cell_type": "markdown",
   "id": "6e41d6fb",
   "metadata": {},
   "source": [
    "### State-Averaged VQE \n",
    "\n",
    "Another method to obtain excited states is to use the State-Averaged VQE Solver (SA-VQE). SA-VQE minimizes the average energy of multiple orthogonal reference states using the same ansatz circuit. As the reference states are orthogonal, using the same circuit transformation (a unitary), results in final states that are also orthogonal. This idea can be found in [arXiv:2009.11417](https://arxiv.org/pdf/2009.11417.pdf).\n",
    "\n",
    "Here, we target singlet states only. This can be accomplished by adding a penalty term with `\"penalty_terms\": {\"S^2\": [2, 0]}`. This means that the target Hamiltonian to be minimized is $H = H_0 + 2 (\\hat{S}^2 - 0)^2$, where $H_0$ is the original molecular Hamiltonian."
   ]
  },
  {
   "cell_type": "code",
   "execution_count": null,
   "id": "ef53e1fe",
   "metadata": {},
   "outputs": [],
   "source": [
    "from tangelo.algorithms.variational import SA_VQESolver\n",
    "\n",
    "vqe_options = {\"molecule\": BODIPY_def2svp_frozen, \"ref_states\": [[1,1,0,0], [1,0,0,1], [0,0,1,1]],\n",
    "               \"weights\": [1, 1, 1], \"penalty_terms\": {\"S^2\": [2, 0]},\n",
    "               \"qubit_mapping\": \"jw\", \"ansatz\": BuiltInAnsatze.UpCCGSD,\n",
    "               }\n",
    "vqe_solver = SA_VQESolver(vqe_options)\n",
    "vqe_solver.build()\n",
    "enernew = vqe_solver.simulate()\n",
    "for i, energy in enumerate(vqe_solver.state_energies):\n",
    "    print(f\"Singlet State {i} has energy {energy}\")\n",
    "\n",
    "algorithm_resources[\"sa_vqe\"] = vqe_solver.get_resources()"
   ]
  },
  {
   "cell_type": "markdown",
   "id": "0ba68262",
   "metadata": {},
   "source": [
    "The energies above are inaccurate, as the calculated states are restricted to linear combinations of the three lowest singlet states. We can use MC-VQE to generate the exact eigenvectors, as shown in the next section.\n",
    "\n",
    "However, the cell below shows the $\\hat{S}^2$ expectation value is nearly zero for all states, so they are all singlet as expected when using the penalty term."
   ]
  },
  {
   "cell_type": "code",
   "execution_count": null,
   "id": "c9b13ff7",
   "metadata": {},
   "outputs": [],
   "source": [
    "from tangelo.toolboxes.ansatz_generator.fermionic_operators import spin2_operator\n",
    "from tangelo.toolboxes.qubit_mappings.mapping_transform import fermion_to_qubit_mapping as f2q_mapping\n",
    "\n",
    "\n",
    "s2op = f2q_mapping(spin2_operator(2), \"jw\")\n",
    "for i in range(3):\n",
    "    print(f\"State {i} has S^2 = {vqe_solver.backend.get_expectation_value(s2op, vqe_solver.reference_circuits[i]+vqe_solver.optimal_circuit)}\")\n"
   ]
  },
  {
   "cell_type": "markdown",
   "id": "70197a4c",
   "metadata": {},
   "source": [
    "#### State-Averaged VQE with deflation \n",
    "\n",
    "We can obtain the final excited state by using deflation for the three singlet states above and removing the penalty term. We define a reference state with `\"ref_states\": [[1, 0, 1, 0]]` that better targets the remaining triplet state. We can revert back to the UCCSD ansatz for this state as we do not need as expressive an ansatz anymore."
   ]
  },
  {
   "cell_type": "code",
   "execution_count": null,
   "id": "8cc839e5",
   "metadata": {},
   "outputs": [],
   "source": [
    "vqe_options = {\"molecule\": BODIPY_def2svp_frozen, \"ref_states\": [[1, 0, 1, 0]],\n",
    "               \"weights\": [1], \"deflation_circuits\": [vqe_solver.reference_circuits[i]+vqe_solver.optimal_circuit for i in range(3)],\n",
    "               \"qubit_mapping\": \"jw\", \"ansatz\": BuiltInAnsatze.UCCSD,\n",
    "               }\n",
    "vqe_solver_deflate = SA_VQESolver(vqe_options)\n",
    "vqe_solver_deflate.build()\n",
    "enernew = vqe_solver_deflate.simulate()\n",
    "\n",
    "for i, energy in enumerate(vqe_solver_deflate.state_energies):\n",
    "    print(f\"Triplet State {i} has energy {energy}\")\n",
    "\n",
    "algorithm_resources[f\"sa_vqe_deflation\"] = vqe_solver_deflate.get_resources()"
   ]
  },
  {
   "cell_type": "markdown",
   "id": "8940473f",
   "metadata": {},
   "source": [
    "This is the correct triplet state energy."
   ]
  },
  {
   "cell_type": "markdown",
   "id": "4ea2c1fd",
   "metadata": {},
   "source": [
    "### State-Averaged Orbital-Optimized VQE\n",
    "\n",
    "This performs the equivalent of a CASSCF calculation using a quantum computer. This approach runs multiple iterations comprised of the two following steps:\n",
    "\n",
    "- SA-VQE calculation\n",
    "- orbital optimization \n",
    "\n",
    "These iterations are called by using the `iterate()` call. The `simulate()` method from `SA_OO_Solver` only performs a State-Averated VQE simulation. The reference for this method is [arXiv:2009.11417](https://arxiv.org/pdf/2009.11417.pdf)."
   ]
  },
  {
   "cell_type": "code",
   "execution_count": null,
   "id": "20bf3b3b",
   "metadata": {},
   "outputs": [],
   "source": [
    "from tangelo.algorithms.variational import SA_OO_Solver\n",
    "\n",
    "BODIPY_def2svp_nosym = SQMol(mol_xyz1, q=0, spin=0, basis=\"def2-SVP\",\n",
    "                      frozen_orbitals=frozen, symmetry=False)\n",
    "vqe_options = {\"molecule\": BODIPY_def2svp_nosym, \"ref_states\": [[1,1,0,0], [1,0,1,0]],\n",
    "               \"weights\": [1, 1],\n",
    "               \"qubit_mapping\": \"jw\", \"ansatz\": BuiltInAnsatze.UpCCGSD, \"ansatz_options\": {\"k\": 2}\n",
    "               }\n",
    "vqe_solver = SA_OO_Solver(vqe_options)\n",
    "vqe_solver.build()\n",
    "enernew = vqe_solver.iterate()\n",
    "for i, energy in enumerate(vqe_solver.state_energies):\n",
    "    print(f\"State {i} has energy {energy}\")\n",
    "\n",
    "algorithm_resources[\"sa_oo_vqe\"] = vqe_solver.get_resources()"
   ]
  },
  {
   "cell_type": "markdown",
   "id": "9a271e12",
   "metadata": {},
   "source": [
    "### Classical excited state energies\n",
    "\n",
    "Comparing the `SA_OO_VQE` solution to CASSCF calculations from a library such as pyscf shows similar results."
   ]
  },
  {
   "cell_type": "code",
   "execution_count": null,
   "id": "9ec3a60a",
   "metadata": {},
   "outputs": [],
   "source": [
    "from pyscf import mcscf\n",
    "\n",
    "BODIPY_def2svp_no_sym_copy = SQMol(mol_xyz1, q=0, spin=0, basis=\"def2-SVP\",\n",
    "                      frozen_orbitals=frozen, symmetry=False)\n",
    "mc = mcscf.CASSCF(BODIPY_def2svp_no_sym_copy.mean_field, 2, 2).state_average([0.5, 0.5])\n",
    "mc = solvent.ddCOSMO(mc)\n",
    "# Adjust solvent model by modifying the attribute .with_solvent\n",
    "mc.with_solvent.eps = 2.3741  # Toluene dielectric constant\n",
    "energy = mc.kernel()"
   ]
  },
  {
   "cell_type": "code",
   "execution_count": null,
   "id": "6967b4c2",
   "metadata": {},
   "outputs": [],
   "source": [
    "mc = mcscf.CASCI(BODIPY_def2svp.mean_field, 2, (1, 1))\n",
    "mc = solvent.ddCOSMO(mc)\n",
    "# Adjust solvent model by modifying the attribute .with_solvent\n",
    "mc.with_solvent.eps = 2.3741  # Toluene dielectric constant\n",
    "mc.fcisolver.nroots = 2\n",
    "mc.kernel()[0]\n"
   ]
  }
 ],
 "metadata": {
  "kernelspec": {
   "display_name": "tangelo-env",
   "language": "python",
   "name": "python3"
  },
  "language_info": {
   "codemirror_mode": {
    "name": "ipython",
    "version": 3
   },
   "file_extension": ".py",
   "mimetype": "text/x-python",
   "name": "python",
   "nbconvert_exporter": "python",
   "pygments_lexer": "ipython3",
   "version": "3.10.14"
  }
 },
 "nbformat": 4,
 "nbformat_minor": 5
}
