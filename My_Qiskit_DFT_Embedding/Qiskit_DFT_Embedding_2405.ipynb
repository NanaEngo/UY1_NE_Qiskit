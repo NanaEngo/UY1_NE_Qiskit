{
 "cells": [
  {
   "cell_type": "markdown",
   "metadata": {},
   "source": [
    "# DFT Embedding with Qiskit-nature\n",
    "\n",
    "Nous adoptons le workflow suivant:\n",
    "1. Effectuer les calculs mean-field (les calculs de référence)\n",
    "2. Obtenir le Hamiltonien complet du système hors de l'instance `ElectronicStructureProblem`, à partir des intégrales à 1- et 2-corps\n",
    "3. Définir un espace actif en utilisant `ActiveSpaceTransformer` et en déduire l'Hamiltonien réduit et l'instance `ElectronicStructureProblem` associé\n",
    "4. Effectuer le mapping dans l'espace qubit\n",
    "5. Effectuer le calculs des états excités à partir du solver choisi.\n",
    "\n",
    "De facon plus détaillée on a \n",
    "\n",
    "1. **Reference Calculation**\n",
    "\n",
    "    `driver.run_pyscf()` effectue le calcul Hartree-Fock ou DFT, afin d'obtenir les données nécessaires à la construction de l'Hamiltonien.\n",
    "\n",
    "2. **Hamiltonian Construction**\n",
    "\n",
    "    `hamiltonian = ElectronicEnergy(...)` crée un objet `ElectronicEnergy`, représentant l'Hamiltonien électronique.\n",
    "\n",
    "    `ElectronicIntegrals(...)` est utilisé pour construire les intégrales, cad les termes à 1-électron (+-) et à 2-électrons (++--).\n",
    "\n",
    "    `S8Integrals(...)` peut-être utilisé pour calculer les intégrales à 2-électrons sous une forme symétrique (format S8).\n",
    "    \n",
    "    Cependant, il est plus aisé d'utiliser une instance QCSchema.\n",
    "    \n",
    "    ```python\n",
    "    from qiskit_nature.second_q.formats.qcschema import QCSchema\n",
    "    from qiskit_nature.second_q.formats import qcschema_translator\n",
    "\n",
    "    qcschema = driver.to_qcschema(include_dipole=True)\n",
    "    hamiltonian = qcschema_translator._get_mo_hamiltonian_direct(qcschema)\n",
    "    ```\n",
    "\n",
    "\n",
    "3. **Active Space Preparation**\n",
    "\n",
    "    `active_orbitals` qui spécifie l'ensemble des orbitales qui seront prises en compte dans l'espace actif.\n",
    "\n",
    "    `ActiveSpaceTransformer` initialise avec le nombre d'orbitales spatiales et d'électrons dans l'espace actif.\n",
    "\n",
    "    `transformer.prepare_active_space(...)` configure le transformateur en fonction des orbitales actives sélectionnées.\n",
    "\n",
    "4. **Hamiltonian Reduction**\n",
    "\n",
    "    `reduced_hamiltonian = transformer.transform_hamiltonian(hamiltonian)` transforme l'Hamiltonien complet du système en un Hamiltonien de l'espace actif, réduisant ainsi la taille du problème.\n",
    "\n",
    "5. **ElectronicStructureProblem**\n",
    "\n",
    "    `ElectronicStructureProblem` crée une instance Problem avec `reduced_hamiltonian`.\n",
    "\n",
    "    Renseigner, pour le Problem, d'autres propriétés pertinentes (comme les énergies orbitales et l'énergie de référence) .\n",
    "\n",
    "6. **Qubit Mapping and Reduction**\n",
    "\n",
    "    `ParityMapper` est utilisé pour mapper les opérateurs fermioniques aux opérateurs qubit et on effectue la réduction $\\mathbb{Z}_2$.\n",
    "\n",
    "7. **Excited States Calculation**\n",
    "\n",
    "    `NumPyEigensolver` est utilisé pour résoudre l'Hamiltonien qubit afin d'obtenir les états excités.\n",
    "\n",
    "    `ExcitedStatesEigensolver` est configuré pour utiliser `NumPyEigensolver`."
   ]
  },
  {
   "cell_type": "code",
   "execution_count": null,
   "metadata": {},
   "outputs": [],
   "source": [
    "# !export OMP_NUM_THREADS=12"
   ]
  },
  {
   "cell_type": "markdown",
   "metadata": {},
   "source": [
    "## Mean Fields calculations"
   ]
  },
  {
   "cell_type": "code",
   "execution_count": 2,
   "metadata": {},
   "outputs": [],
   "source": [
    "# setup driver\n",
    "from qiskit_nature.second_q.drivers import MethodType, PySCFDriver\n",
    "omega = 1.0\n",
    "driver = PySCFDriver(\n",
    "    # atom=\"O 0.0 0.0 0.115; H 0.0 0.754 -0.459; H 0.0 -0.754 -0.459\",\n",
    "    # atom=open('PSPCz.xyz').read(),\n",
    "   atom=open('BODIPY.xyz').read(),\n",
    "   basis=\"6-31g*\",\n",
    "    method=MethodType.RKS,\n",
    "    xc_functional=f\"ldaerf + lr_hf({omega})\",\n",
    "    xcf_library=\"xcfun\",\n",
    ")"
   ]
  },
  {
   "cell_type": "code",
   "execution_count": null,
   "metadata": {},
   "outputs": [],
   "source": [
    "'''\n",
    "1. Run the reference calculation\n",
    "'''\n",
    "driver.run_pyscf()\n",
    "mf = driver._calc"
   ]
  },
  {
   "cell_type": "code",
   "execution_count": 3,
   "metadata": {},
   "outputs": [
    {
     "ename": "AttributeError",
     "evalue": "'NoneType' object has no attribute 'nelectron'",
     "output_type": "error",
     "traceback": [
      "\u001b[0;31m---------------------------------------------------------------------------\u001b[0m",
      "\u001b[0;31mAttributeError\u001b[0m                            Traceback (most recent call last)",
      "Cell \u001b[0;32mIn[3], line 1\u001b[0m\n\u001b[0;32m----> 1\u001b[0m \u001b[38;5;28mprint\u001b[39m(\u001b[38;5;124mf\u001b[39m\u001b[38;5;124m'\u001b[39m\u001b[38;5;124mLe nombre total d\u001b[39m\u001b[38;5;130;01m\\'\u001b[39;00m\u001b[38;5;124mélectrons est \u001b[39m\u001b[38;5;132;01m{\u001b[39;00m\u001b[43mdriver\u001b[49m\u001b[38;5;241;43m.\u001b[39;49m\u001b[43m_mol\u001b[49m\u001b[38;5;241;43m.\u001b[39;49m\u001b[43mnelectron\u001b[49m\u001b[38;5;132;01m}\u001b[39;00m\u001b[38;5;124m \u001b[39m\u001b[38;5;130;01m\\\u001b[39;00m\n\u001b[1;32m      2\u001b[0m \u001b[38;5;124met le nombre total d\u001b[39m\u001b[38;5;130;01m\\'\u001b[39;00m\u001b[38;5;124mélectrons (alpha, beta) est \u001b[39m\u001b[38;5;132;01m{\u001b[39;00mdriver\u001b[38;5;241m.\u001b[39m_mol\u001b[38;5;241m.\u001b[39mnelec\u001b[38;5;132;01m}\u001b[39;00m\u001b[38;5;130;01m\\n\u001b[39;00m\u001b[38;5;124m'\u001b[39m)\n\u001b[1;32m      3\u001b[0m \u001b[38;5;28mprint\u001b[39m(\u001b[38;5;124mf\u001b[39m\u001b[38;5;124m'\u001b[39m\u001b[38;5;124mLes index (0-Based) du (HOMO,LUMO) sont \u001b[39m\u001b[38;5;132;01m{\u001b[39;00mdriver\u001b[38;5;241m.\u001b[39m_mol\u001b[38;5;241m.\u001b[39mnelectron\u001b[38;5;241m/\u001b[39m\u001b[38;5;241m/\u001b[39m\u001b[38;5;241m2\u001b[39m\u001b[38;5;250m \u001b[39m\u001b[38;5;241m-\u001b[39m\u001b[38;5;241m1\u001b[39m,\u001b[38;5;250m \u001b[39mdriver\u001b[38;5;241m.\u001b[39m_mol\u001b[38;5;241m.\u001b[39mnelectron\u001b[38;5;241m/\u001b[39m\u001b[38;5;241m/\u001b[39m\u001b[38;5;241m2\u001b[39m\u001b[38;5;132;01m}\u001b[39;00m\u001b[38;5;130;01m\\n\u001b[39;00m\u001b[38;5;124m'\u001b[39m)\n\u001b[1;32m      4\u001b[0m \u001b[38;5;28mprint\u001b[39m(\u001b[38;5;124mf\u001b[39m\u001b[38;5;124m'\u001b[39m\u001b[38;5;124mLe nombre d\u001b[39m\u001b[38;5;130;01m\\'\u001b[39;00m\u001b[38;5;124morbitales atomiques, dans la base \u001b[39m\u001b[38;5;132;01m{\u001b[39;00mdriver\u001b[38;5;241m.\u001b[39m_mol\u001b[38;5;241m.\u001b[39mbasis\u001b[38;5;132;01m}\u001b[39;00m\u001b[38;5;124m, est \u001b[39m\u001b[38;5;132;01m{\u001b[39;00mdriver\u001b[38;5;241m.\u001b[39m_mol\u001b[38;5;241m.\u001b[39mnao\u001b[38;5;132;01m}\u001b[39;00m\u001b[38;5;130;01m\\n\u001b[39;00m\u001b[38;5;124m'\u001b[39m)\n",
      "\u001b[0;31mAttributeError\u001b[0m: 'NoneType' object has no attribute 'nelectron'"
     ]
    }
   ],
   "source": [
    "print(f'Le nombre total d\\'électrons est {driver._mol.nelectron} \\\n",
    "et le nombre total d\\'électrons (alpha, beta) est {driver._mol.nelec}\\n')\n",
    "print(f'Les index (0-Based) du (HOMO,LUMO) sont {driver._mol.nelectron//2 -1, driver._mol.nelectron//2}\\n')\n",
    "print(f'Le nombre d\\'orbitales atomiques, dans la base {driver._mol.basis}, est {driver._mol.nao}\\n')\n",
    "print(f'L\\'énergie nucléaire vaut {driver._mol.energy_nuc()} Ha')"
   ]
  },
  {
   "cell_type": "code",
   "execution_count": null,
   "metadata": {},
   "outputs": [
    {
     "data": {
      "application/vnd.plotly.v1+json": {
       "config": {
        "plotlyServerURL": "https://plot.ly"
       },
       "data": [
        {
         "hovertemplate": "x=%{x}<br>y=%{y}<extra></extra>",
         "legendgroup": "",
         "line": {
          "color": "#636efa",
          "dash": "solid"
         },
         "marker": {
          "symbol": "circle"
         },
         "mode": "lines+markers",
         "name": "",
         "orientation": "v",
         "showlegend": false,
         "type": "scatter",
         "x": [
          0,
          1,
          2,
          3,
          4,
          5,
          6,
          7,
          8,
          9,
          10,
          11,
          12,
          13,
          14,
          15,
          16,
          17,
          18,
          19,
          20,
          21,
          22,
          23,
          24,
          25,
          26,
          27,
          28,
          29,
          30,
          31,
          32,
          33,
          34,
          35,
          36,
          37,
          38,
          39,
          40,
          41,
          42,
          43,
          44,
          45,
          46,
          47,
          48,
          49,
          50,
          51,
          52,
          53,
          54,
          55,
          56,
          57,
          58,
          59,
          60,
          61,
          62,
          63,
          64,
          65,
          66,
          67,
          68,
          69,
          70,
          71,
          72,
          73,
          74,
          75,
          76,
          77,
          78,
          79,
          80,
          81,
          82,
          83,
          84,
          85,
          86,
          87,
          88,
          89,
          90,
          91,
          92,
          93,
          94,
          95,
          96,
          97,
          98,
          99,
          100,
          101,
          102,
          103,
          104,
          105,
          106,
          107,
          108,
          109,
          110,
          111,
          112,
          113,
          114,
          115,
          116,
          117,
          118,
          119,
          120,
          121,
          122,
          123,
          124,
          125,
          126,
          127,
          128,
          129,
          130,
          131,
          132,
          133,
          134,
          135,
          136,
          137,
          138,
          139,
          140,
          141,
          142,
          143,
          144,
          145,
          146,
          147,
          148,
          149,
          150,
          151,
          152,
          153,
          154,
          155,
          156,
          157,
          158,
          159,
          160,
          161,
          162,
          163,
          164,
          165,
          166,
          167,
          168,
          169,
          170,
          171,
          172,
          173,
          174,
          175,
          176,
          177,
          178,
          179,
          180,
          181,
          182,
          183,
          184,
          185,
          186,
          187,
          188,
          189,
          190,
          191,
          192,
          193,
          194,
          195,
          196,
          197,
          198,
          199,
          200,
          201,
          202,
          203,
          204,
          205,
          206,
          207,
          208,
          209
         ],
         "xaxis": "x",
         "y": [
          2,
          2,
          2,
          2,
          2,
          2,
          2,
          2,
          2,
          2,
          2,
          2,
          2,
          2,
          2,
          2,
          2,
          2,
          2,
          2,
          2,
          2,
          2,
          2,
          2,
          2,
          2,
          2,
          2,
          2,
          2,
          2,
          2,
          2,
          2,
          2,
          2,
          2,
          2,
          2,
          2,
          2,
          2,
          2,
          2,
          2,
          2,
          2,
          2,
          0,
          0,
          0,
          0,
          0,
          0,
          0,
          0,
          0,
          0,
          0,
          0,
          0,
          0,
          0,
          0,
          0,
          0,
          0,
          0,
          0,
          0,
          0,
          0,
          0,
          0,
          0,
          0,
          0,
          0,
          0,
          0,
          0,
          0,
          0,
          0,
          0,
          0,
          0,
          0,
          0,
          0,
          0,
          0,
          0,
          0,
          0,
          0,
          0,
          0,
          0,
          0,
          0,
          0,
          0,
          0,
          0,
          0,
          0,
          0,
          0,
          0,
          0,
          0,
          0,
          0,
          0,
          0,
          0,
          0,
          0,
          0,
          0,
          0,
          0,
          0,
          0,
          0,
          0,
          0,
          0,
          0,
          0,
          0,
          0,
          0,
          0,
          0,
          0,
          0,
          0,
          0,
          0,
          0,
          0,
          0,
          0,
          0,
          0,
          0,
          0,
          0,
          0,
          0,
          0,
          0,
          0,
          0,
          0,
          0,
          0,
          0,
          0,
          0,
          0,
          0,
          0,
          0,
          0,
          0,
          0,
          0,
          0,
          0,
          0,
          0,
          0,
          0,
          0,
          0,
          0,
          0,
          0,
          0,
          0,
          0,
          0,
          0,
          0,
          0,
          0,
          0,
          0,
          0,
          0,
          0,
          0,
          0,
          0,
          0,
          0,
          0,
          0,
          0,
          0,
          0,
          0,
          0,
          0,
          0,
          0
         ],
         "yaxis": "y"
        }
       ],
       "layout": {
        "legend": {
         "tracegroupgap": 0
        },
        "template": {
         "data": {
          "bar": [
           {
            "error_x": {
             "color": "#2a3f5f"
            },
            "error_y": {
             "color": "#2a3f5f"
            },
            "marker": {
             "line": {
              "color": "#E5ECF6",
              "width": 0.5
             },
             "pattern": {
              "fillmode": "overlay",
              "size": 10,
              "solidity": 0.2
             }
            },
            "type": "bar"
           }
          ],
          "barpolar": [
           {
            "marker": {
             "line": {
              "color": "#E5ECF6",
              "width": 0.5
             },
             "pattern": {
              "fillmode": "overlay",
              "size": 10,
              "solidity": 0.2
             }
            },
            "type": "barpolar"
           }
          ],
          "carpet": [
           {
            "aaxis": {
             "endlinecolor": "#2a3f5f",
             "gridcolor": "white",
             "linecolor": "white",
             "minorgridcolor": "white",
             "startlinecolor": "#2a3f5f"
            },
            "baxis": {
             "endlinecolor": "#2a3f5f",
             "gridcolor": "white",
             "linecolor": "white",
             "minorgridcolor": "white",
             "startlinecolor": "#2a3f5f"
            },
            "type": "carpet"
           }
          ],
          "choropleth": [
           {
            "colorbar": {
             "outlinewidth": 0,
             "ticks": ""
            },
            "type": "choropleth"
           }
          ],
          "contour": [
           {
            "colorbar": {
             "outlinewidth": 0,
             "ticks": ""
            },
            "colorscale": [
             [
              0,
              "#0d0887"
             ],
             [
              0.1111111111111111,
              "#46039f"
             ],
             [
              0.2222222222222222,
              "#7201a8"
             ],
             [
              0.3333333333333333,
              "#9c179e"
             ],
             [
              0.4444444444444444,
              "#bd3786"
             ],
             [
              0.5555555555555556,
              "#d8576b"
             ],
             [
              0.6666666666666666,
              "#ed7953"
             ],
             [
              0.7777777777777778,
              "#fb9f3a"
             ],
             [
              0.8888888888888888,
              "#fdca26"
             ],
             [
              1,
              "#f0f921"
             ]
            ],
            "type": "contour"
           }
          ],
          "contourcarpet": [
           {
            "colorbar": {
             "outlinewidth": 0,
             "ticks": ""
            },
            "type": "contourcarpet"
           }
          ],
          "heatmap": [
           {
            "colorbar": {
             "outlinewidth": 0,
             "ticks": ""
            },
            "colorscale": [
             [
              0,
              "#0d0887"
             ],
             [
              0.1111111111111111,
              "#46039f"
             ],
             [
              0.2222222222222222,
              "#7201a8"
             ],
             [
              0.3333333333333333,
              "#9c179e"
             ],
             [
              0.4444444444444444,
              "#bd3786"
             ],
             [
              0.5555555555555556,
              "#d8576b"
             ],
             [
              0.6666666666666666,
              "#ed7953"
             ],
             [
              0.7777777777777778,
              "#fb9f3a"
             ],
             [
              0.8888888888888888,
              "#fdca26"
             ],
             [
              1,
              "#f0f921"
             ]
            ],
            "type": "heatmap"
           }
          ],
          "heatmapgl": [
           {
            "colorbar": {
             "outlinewidth": 0,
             "ticks": ""
            },
            "colorscale": [
             [
              0,
              "#0d0887"
             ],
             [
              0.1111111111111111,
              "#46039f"
             ],
             [
              0.2222222222222222,
              "#7201a8"
             ],
             [
              0.3333333333333333,
              "#9c179e"
             ],
             [
              0.4444444444444444,
              "#bd3786"
             ],
             [
              0.5555555555555556,
              "#d8576b"
             ],
             [
              0.6666666666666666,
              "#ed7953"
             ],
             [
              0.7777777777777778,
              "#fb9f3a"
             ],
             [
              0.8888888888888888,
              "#fdca26"
             ],
             [
              1,
              "#f0f921"
             ]
            ],
            "type": "heatmapgl"
           }
          ],
          "histogram": [
           {
            "marker": {
             "pattern": {
              "fillmode": "overlay",
              "size": 10,
              "solidity": 0.2
             }
            },
            "type": "histogram"
           }
          ],
          "histogram2d": [
           {
            "colorbar": {
             "outlinewidth": 0,
             "ticks": ""
            },
            "colorscale": [
             [
              0,
              "#0d0887"
             ],
             [
              0.1111111111111111,
              "#46039f"
             ],
             [
              0.2222222222222222,
              "#7201a8"
             ],
             [
              0.3333333333333333,
              "#9c179e"
             ],
             [
              0.4444444444444444,
              "#bd3786"
             ],
             [
              0.5555555555555556,
              "#d8576b"
             ],
             [
              0.6666666666666666,
              "#ed7953"
             ],
             [
              0.7777777777777778,
              "#fb9f3a"
             ],
             [
              0.8888888888888888,
              "#fdca26"
             ],
             [
              1,
              "#f0f921"
             ]
            ],
            "type": "histogram2d"
           }
          ],
          "histogram2dcontour": [
           {
            "colorbar": {
             "outlinewidth": 0,
             "ticks": ""
            },
            "colorscale": [
             [
              0,
              "#0d0887"
             ],
             [
              0.1111111111111111,
              "#46039f"
             ],
             [
              0.2222222222222222,
              "#7201a8"
             ],
             [
              0.3333333333333333,
              "#9c179e"
             ],
             [
              0.4444444444444444,
              "#bd3786"
             ],
             [
              0.5555555555555556,
              "#d8576b"
             ],
             [
              0.6666666666666666,
              "#ed7953"
             ],
             [
              0.7777777777777778,
              "#fb9f3a"
             ],
             [
              0.8888888888888888,
              "#fdca26"
             ],
             [
              1,
              "#f0f921"
             ]
            ],
            "type": "histogram2dcontour"
           }
          ],
          "mesh3d": [
           {
            "colorbar": {
             "outlinewidth": 0,
             "ticks": ""
            },
            "type": "mesh3d"
           }
          ],
          "parcoords": [
           {
            "line": {
             "colorbar": {
              "outlinewidth": 0,
              "ticks": ""
             }
            },
            "type": "parcoords"
           }
          ],
          "pie": [
           {
            "automargin": true,
            "type": "pie"
           }
          ],
          "scatter": [
           {
            "fillpattern": {
             "fillmode": "overlay",
             "size": 10,
             "solidity": 0.2
            },
            "type": "scatter"
           }
          ],
          "scatter3d": [
           {
            "line": {
             "colorbar": {
              "outlinewidth": 0,
              "ticks": ""
             }
            },
            "marker": {
             "colorbar": {
              "outlinewidth": 0,
              "ticks": ""
             }
            },
            "type": "scatter3d"
           }
          ],
          "scattercarpet": [
           {
            "marker": {
             "colorbar": {
              "outlinewidth": 0,
              "ticks": ""
             }
            },
            "type": "scattercarpet"
           }
          ],
          "scattergeo": [
           {
            "marker": {
             "colorbar": {
              "outlinewidth": 0,
              "ticks": ""
             }
            },
            "type": "scattergeo"
           }
          ],
          "scattergl": [
           {
            "marker": {
             "colorbar": {
              "outlinewidth": 0,
              "ticks": ""
             }
            },
            "type": "scattergl"
           }
          ],
          "scattermapbox": [
           {
            "marker": {
             "colorbar": {
              "outlinewidth": 0,
              "ticks": ""
             }
            },
            "type": "scattermapbox"
           }
          ],
          "scatterpolar": [
           {
            "marker": {
             "colorbar": {
              "outlinewidth": 0,
              "ticks": ""
             }
            },
            "type": "scatterpolar"
           }
          ],
          "scatterpolargl": [
           {
            "marker": {
             "colorbar": {
              "outlinewidth": 0,
              "ticks": ""
             }
            },
            "type": "scatterpolargl"
           }
          ],
          "scatterternary": [
           {
            "marker": {
             "colorbar": {
              "outlinewidth": 0,
              "ticks": ""
             }
            },
            "type": "scatterternary"
           }
          ],
          "surface": [
           {
            "colorbar": {
             "outlinewidth": 0,
             "ticks": ""
            },
            "colorscale": [
             [
              0,
              "#0d0887"
             ],
             [
              0.1111111111111111,
              "#46039f"
             ],
             [
              0.2222222222222222,
              "#7201a8"
             ],
             [
              0.3333333333333333,
              "#9c179e"
             ],
             [
              0.4444444444444444,
              "#bd3786"
             ],
             [
              0.5555555555555556,
              "#d8576b"
             ],
             [
              0.6666666666666666,
              "#ed7953"
             ],
             [
              0.7777777777777778,
              "#fb9f3a"
             ],
             [
              0.8888888888888888,
              "#fdca26"
             ],
             [
              1,
              "#f0f921"
             ]
            ],
            "type": "surface"
           }
          ],
          "table": [
           {
            "cells": {
             "fill": {
              "color": "#EBF0F8"
             },
             "line": {
              "color": "white"
             }
            },
            "header": {
             "fill": {
              "color": "#C8D4E3"
             },
             "line": {
              "color": "white"
             }
            },
            "type": "table"
           }
          ]
         },
         "layout": {
          "annotationdefaults": {
           "arrowcolor": "#2a3f5f",
           "arrowhead": 0,
           "arrowwidth": 1
          },
          "autotypenumbers": "strict",
          "coloraxis": {
           "colorbar": {
            "outlinewidth": 0,
            "ticks": ""
           }
          },
          "colorscale": {
           "diverging": [
            [
             0,
             "#8e0152"
            ],
            [
             0.1,
             "#c51b7d"
            ],
            [
             0.2,
             "#de77ae"
            ],
            [
             0.3,
             "#f1b6da"
            ],
            [
             0.4,
             "#fde0ef"
            ],
            [
             0.5,
             "#f7f7f7"
            ],
            [
             0.6,
             "#e6f5d0"
            ],
            [
             0.7,
             "#b8e186"
            ],
            [
             0.8,
             "#7fbc41"
            ],
            [
             0.9,
             "#4d9221"
            ],
            [
             1,
             "#276419"
            ]
           ],
           "sequential": [
            [
             0,
             "#0d0887"
            ],
            [
             0.1111111111111111,
             "#46039f"
            ],
            [
             0.2222222222222222,
             "#7201a8"
            ],
            [
             0.3333333333333333,
             "#9c179e"
            ],
            [
             0.4444444444444444,
             "#bd3786"
            ],
            [
             0.5555555555555556,
             "#d8576b"
            ],
            [
             0.6666666666666666,
             "#ed7953"
            ],
            [
             0.7777777777777778,
             "#fb9f3a"
            ],
            [
             0.8888888888888888,
             "#fdca26"
            ],
            [
             1,
             "#f0f921"
            ]
           ],
           "sequentialminus": [
            [
             0,
             "#0d0887"
            ],
            [
             0.1111111111111111,
             "#46039f"
            ],
            [
             0.2222222222222222,
             "#7201a8"
            ],
            [
             0.3333333333333333,
             "#9c179e"
            ],
            [
             0.4444444444444444,
             "#bd3786"
            ],
            [
             0.5555555555555556,
             "#d8576b"
            ],
            [
             0.6666666666666666,
             "#ed7953"
            ],
            [
             0.7777777777777778,
             "#fb9f3a"
            ],
            [
             0.8888888888888888,
             "#fdca26"
            ],
            [
             1,
             "#f0f921"
            ]
           ]
          },
          "colorway": [
           "#636efa",
           "#EF553B",
           "#00cc96",
           "#ab63fa",
           "#FFA15A",
           "#19d3f3",
           "#FF6692",
           "#B6E880",
           "#FF97FF",
           "#FECB52"
          ],
          "font": {
           "color": "#2a3f5f"
          },
          "geo": {
           "bgcolor": "white",
           "lakecolor": "white",
           "landcolor": "#E5ECF6",
           "showlakes": true,
           "showland": true,
           "subunitcolor": "white"
          },
          "hoverlabel": {
           "align": "left"
          },
          "hovermode": "closest",
          "mapbox": {
           "style": "light"
          },
          "paper_bgcolor": "white",
          "plot_bgcolor": "#E5ECF6",
          "polar": {
           "angularaxis": {
            "gridcolor": "white",
            "linecolor": "white",
            "ticks": ""
           },
           "bgcolor": "#E5ECF6",
           "radialaxis": {
            "gridcolor": "white",
            "linecolor": "white",
            "ticks": ""
           }
          },
          "scene": {
           "xaxis": {
            "backgroundcolor": "#E5ECF6",
            "gridcolor": "white",
            "gridwidth": 2,
            "linecolor": "white",
            "showbackground": true,
            "ticks": "",
            "zerolinecolor": "white"
           },
           "yaxis": {
            "backgroundcolor": "#E5ECF6",
            "gridcolor": "white",
            "gridwidth": 2,
            "linecolor": "white",
            "showbackground": true,
            "ticks": "",
            "zerolinecolor": "white"
           },
           "zaxis": {
            "backgroundcolor": "#E5ECF6",
            "gridcolor": "white",
            "gridwidth": 2,
            "linecolor": "white",
            "showbackground": true,
            "ticks": "",
            "zerolinecolor": "white"
           }
          },
          "shapedefaults": {
           "line": {
            "color": "#2a3f5f"
           }
          },
          "ternary": {
           "aaxis": {
            "gridcolor": "white",
            "linecolor": "white",
            "ticks": ""
           },
           "baxis": {
            "gridcolor": "white",
            "linecolor": "white",
            "ticks": ""
           },
           "bgcolor": "#E5ECF6",
           "caxis": {
            "gridcolor": "white",
            "linecolor": "white",
            "ticks": ""
           }
          },
          "title": {
           "x": 0.05
          },
          "xaxis": {
           "automargin": true,
           "gridcolor": "white",
           "linecolor": "white",
           "ticks": "",
           "title": {
            "standoff": 15
           },
           "zerolinecolor": "white",
           "zerolinewidth": 2
          },
          "yaxis": {
           "automargin": true,
           "gridcolor": "white",
           "linecolor": "white",
           "ticks": "",
           "title": {
            "standoff": 15
           },
           "zerolinecolor": "white",
           "zerolinewidth": 2
          }
         }
        },
        "title": {
         "text": "Molecular Orbital (MO) Occupations"
        },
        "xaxis": {
         "anchor": "y",
         "domain": [
          0,
          1
         ],
         "title": {
          "text": "Orbital Index (0-Based)"
         }
        },
        "yaxis": {
         "anchor": "x",
         "domain": [
          0,
          1
         ],
         "title": {
          "text": "MO Occupation"
         }
        }
       }
      }
     },
     "metadata": {},
     "output_type": "display_data"
    }
   ],
   "source": [
    "import plotly.express as px\n",
    "\n",
    "# Plot the MO Occupations\n",
    "fig = px.line(y=mf.mo_occ, markers=True, title=\"Molecular Orbital (MO) Occupations\")\n",
    "fig.update_layout(xaxis_title=\"Orbital Index (0-Based)\", yaxis_title=\"MO Occupation\")\n",
    "fig.show()"
   ]
  },
  {
   "cell_type": "code",
   "execution_count": null,
   "metadata": {},
   "outputs": [
    {
     "name": "stdout",
     "output_type": "stream",
     "text": [
      "Energie du Homo = -8.091224328787915 eV\n",
      "Energie de Lumo = -0.28901488413575743 eV\n",
      "Energie du gap Homo-Lumo = 7.802209444652157 eV\n"
     ]
    }
   ],
   "source": [
    "from pyscf.data.nist import HARTREE2EV as au2ev \n",
    "\n",
    "lumo_idx = mf.mo_occ.tolist().index(0.)\n",
    "homo_idx = lumo_idx - 1\n",
    "print(f'Energie du Homo = {mf.mo_energy[homo_idx] * au2ev} eV')\n",
    "print(f'Energie de Lumo = {mf.mo_energy[lumo_idx] * au2ev} eV')\n",
    "print(f'Energie du gap Homo-Lumo = {abs(mf.mo_energy[homo_idx] - mf.mo_energy[lumo_idx]) * au2ev} eV')"
   ]
  },
  {
   "cell_type": "code",
   "execution_count": null,
   "metadata": {},
   "outputs": [
    {
     "data": {
      "application/vnd.plotly.v1+json": {
       "config": {
        "plotlyServerURL": "https://plot.ly"
       },
       "data": [
        {
         "hovertemplate": "x=%{x}<br>y=%{y}<extra></extra>",
         "legendgroup": "",
         "line": {
          "color": "#636efa",
          "dash": "solid"
         },
         "marker": {
          "symbol": "circle"
         },
         "mode": "lines+markers",
         "name": "",
         "orientation": "v",
         "showlegend": false,
         "type": "scatter",
         "x": [
          0,
          1,
          2,
          3,
          4,
          5,
          6,
          7,
          8,
          9,
          10,
          11,
          12,
          13,
          14,
          15,
          16,
          17,
          18,
          19,
          20,
          21,
          22,
          23,
          24,
          25,
          26,
          27,
          28,
          29,
          30,
          31,
          32,
          33,
          34,
          35,
          36,
          37,
          38,
          39,
          40,
          41,
          42,
          43,
          44,
          45,
          46,
          47,
          48,
          49,
          50,
          51,
          52,
          53,
          54,
          55,
          56,
          57,
          58,
          59,
          60,
          61,
          62,
          63,
          64,
          65,
          66,
          67,
          68,
          69,
          70,
          71,
          72,
          73,
          74,
          75,
          76,
          77,
          78,
          79,
          80,
          81,
          82,
          83,
          84,
          85,
          86,
          87,
          88,
          89,
          90,
          91,
          92,
          93,
          94,
          95,
          96,
          97,
          98,
          99,
          100,
          101,
          102,
          103,
          104,
          105,
          106,
          107,
          108,
          109,
          110,
          111,
          112,
          113,
          114,
          115,
          116,
          117,
          118,
          119,
          120,
          121,
          122,
          123,
          124,
          125,
          126,
          127,
          128,
          129,
          130,
          131,
          132,
          133,
          134,
          135,
          136,
          137,
          138,
          139,
          140,
          141,
          142,
          143,
          144,
          145,
          146,
          147,
          148,
          149,
          150,
          151,
          152,
          153,
          154,
          155,
          156,
          157,
          158,
          159,
          160,
          161,
          162,
          163,
          164,
          165,
          166,
          167,
          168,
          169,
          170,
          171,
          172,
          173,
          174,
          175,
          176,
          177,
          178,
          179,
          180,
          181,
          182,
          183,
          184,
          185,
          186,
          187,
          188,
          189,
          190,
          191,
          192,
          193,
          194,
          195,
          196,
          197,
          198,
          199,
          200,
          201,
          202,
          203,
          204,
          205,
          206,
          207,
          208,
          209
         ],
         "xaxis": "x",
         "y": [
          -24.51183269404987,
          -24.511548612886376,
          -14.421659809460108,
          -14.421379411047015,
          -10.40444835686589,
          -10.39121564289474,
          -10.391053352467177,
          -10.372587242598854,
          -10.372485500593733,
          -10.35869907151564,
          -10.358625002013445,
          -10.332694237391609,
          -10.332662970423813,
          -7.047981122013629,
          -1.4481570326809456,
          -1.4092854100589225,
          -1.2771905149976075,
          -1.2569364456346082,
          -1.0779755212628346,
          -1.0479086637762292,
          -1.0340814003042307,
          -0.9717128057367846,
          -0.8978270525798145,
          -0.8163885672836605,
          -0.7998086978922035,
          -0.7876847999223773,
          -0.7830773098298707,
          -0.7366514929487312,
          -0.7038933675589153,
          -0.7000264911095664,
          -0.6699685533545832,
          -0.646406367484713,
          -0.6360735679103826,
          -0.6127861227362621,
          -0.6086143033953846,
          -0.5990783218036986,
          -0.5947761447730082,
          -0.5804027935017461,
          -0.5769835965553748,
          -0.5715916387166772,
          -0.5568512511025924,
          -0.5543921343477299,
          -0.5460202795850632,
          -0.5377797381605228,
          -0.5083634384254521,
          -0.42123518906040947,
          -0.38485984051516947,
          -0.3780148146249196,
          -0.2973470121235638,
          -0.010621101178871793,
          0.15727376763928225,
          0.18660472106786066,
          0.21090099804219106,
          0.22272253755399984,
          0.24460802035550883,
          0.25004540550116383,
          0.2682385906118416,
          0.285186127722433,
          0.2858923067839165,
          0.29040637292589416,
          0.29387320087203916,
          0.34315251001244523,
          0.3455479487614616,
          0.3764221241984634,
          0.38647607388009014,
          0.41183121347184554,
          0.42861800473004735,
          0.43332451442768266,
          0.43716032472962607,
          0.4706164469469385,
          0.520570526948132,
          0.5558552371629943,
          0.5659236406870748,
          0.574531814089069,
          0.6037361497868274,
          0.6323219759675,
          0.6380529570002089,
          0.6584475526293407,
          0.6762354218919442,
          0.6807920532237667,
          0.7122986851513308,
          0.7183734258797098,
          0.7455747501000296,
          0.7488834088664617,
          0.753822891403783,
          0.7587036606499662,
          0.7637583608700538,
          0.7715062814395662,
          0.7745857433051767,
          0.7845440797013052,
          0.7872657259760706,
          0.8211507325440877,
          0.8252701839620039,
          0.836677116971498,
          0.8428207092018493,
          0.8517808960018325,
          0.8814655229945443,
          0.9044279551129489,
          0.9260403462942494,
          0.9833672534836072,
          1.0016934929085866,
          1.0070013962037698,
          1.0181604979982697,
          1.033974920441657,
          1.0407829870972887,
          1.0424518324887793,
          1.0553073654329155,
          1.0568629618574026,
          1.0913777250004106,
          1.104341194282745,
          1.1173537739549475,
          1.1304011194168218,
          1.1562247337762075,
          1.1780072912585475,
          1.1904245098379282,
          1.2011367281143093,
          1.254003387925997,
          1.277932225659239,
          1.33341641896134,
          1.3378760144928896,
          1.355354097996111,
          1.3742370147137244,
          1.4177975511170784,
          1.4459946489797697,
          1.4600332890397654,
          1.4811229848853271,
          1.5042890188985238,
          1.5248201294847015,
          1.5311740010759627,
          1.541761913455466,
          1.5636191549502425,
          1.5859654872136528,
          1.5934245828911149,
          1.5955455741263718,
          1.6386540462557695,
          1.6643178739610236,
          1.6741504546563244,
          1.6835206853727696,
          1.6849583225460154,
          1.7037013667130934,
          1.724473450583855,
          1.7255959345474319,
          1.73240425999235,
          1.7619735996416668,
          1.7943289881561355,
          1.8603355107496276,
          1.8679746994534534,
          1.8700212356233583,
          1.8872758901400042,
          1.9018617043461727,
          1.9732511027072643,
          1.9752638328391792,
          2.0163709759330257,
          2.065867978798523,
          2.0934040303783816,
          2.1061379142896293,
          2.123037877597038,
          2.125988072590361,
          2.1602894434321036,
          2.165635065470887,
          2.1919510453330644,
          2.219127838077982,
          2.2215306678192834,
          2.250241640007627,
          2.265869384632735,
          2.2918120077026285,
          2.292405973254572,
          2.3004002838830453,
          2.3415276206374283,
          2.344139892894219,
          2.413364415432183,
          2.4205369998216058,
          2.4309746928780496,
          2.4313315172701566,
          2.4592324045517255,
          2.474056849543149,
          2.4790046771848986,
          2.5022882112431035,
          2.5030524725773637,
          2.526454464012202,
          2.5404585908442807,
          2.552483179176254,
          2.562854445614423,
          2.5822843246728113,
          2.6358347025570095,
          2.6384890829169603,
          2.7153503404794614,
          2.728991028286946,
          2.765097553076472,
          2.7999057463092965,
          2.801214737250355,
          2.8851151446671857,
          2.8958581993347083,
          2.9364121704207164,
          2.9532450301497293,
          2.9884971332984227,
          3.0213243326132764,
          3.049417227087151,
          3.0718657333509305,
          3.072802086538886,
          3.079706539213579,
          3.1914116196925573,
          3.253128861045448,
          3.286458211977806,
          3.3125850799518974,
          3.346628575908587,
          3.3848998344392354,
          3.4719347207004563,
          3.503040106530983,
          3.632420045463623
         ],
         "yaxis": "y"
        }
       ],
       "layout": {
        "legend": {
         "tracegroupgap": 0
        },
        "template": {
         "data": {
          "bar": [
           {
            "error_x": {
             "color": "#2a3f5f"
            },
            "error_y": {
             "color": "#2a3f5f"
            },
            "marker": {
             "line": {
              "color": "#E5ECF6",
              "width": 0.5
             },
             "pattern": {
              "fillmode": "overlay",
              "size": 10,
              "solidity": 0.2
             }
            },
            "type": "bar"
           }
          ],
          "barpolar": [
           {
            "marker": {
             "line": {
              "color": "#E5ECF6",
              "width": 0.5
             },
             "pattern": {
              "fillmode": "overlay",
              "size": 10,
              "solidity": 0.2
             }
            },
            "type": "barpolar"
           }
          ],
          "carpet": [
           {
            "aaxis": {
             "endlinecolor": "#2a3f5f",
             "gridcolor": "white",
             "linecolor": "white",
             "minorgridcolor": "white",
             "startlinecolor": "#2a3f5f"
            },
            "baxis": {
             "endlinecolor": "#2a3f5f",
             "gridcolor": "white",
             "linecolor": "white",
             "minorgridcolor": "white",
             "startlinecolor": "#2a3f5f"
            },
            "type": "carpet"
           }
          ],
          "choropleth": [
           {
            "colorbar": {
             "outlinewidth": 0,
             "ticks": ""
            },
            "type": "choropleth"
           }
          ],
          "contour": [
           {
            "colorbar": {
             "outlinewidth": 0,
             "ticks": ""
            },
            "colorscale": [
             [
              0,
              "#0d0887"
             ],
             [
              0.1111111111111111,
              "#46039f"
             ],
             [
              0.2222222222222222,
              "#7201a8"
             ],
             [
              0.3333333333333333,
              "#9c179e"
             ],
             [
              0.4444444444444444,
              "#bd3786"
             ],
             [
              0.5555555555555556,
              "#d8576b"
             ],
             [
              0.6666666666666666,
              "#ed7953"
             ],
             [
              0.7777777777777778,
              "#fb9f3a"
             ],
             [
              0.8888888888888888,
              "#fdca26"
             ],
             [
              1,
              "#f0f921"
             ]
            ],
            "type": "contour"
           }
          ],
          "contourcarpet": [
           {
            "colorbar": {
             "outlinewidth": 0,
             "ticks": ""
            },
            "type": "contourcarpet"
           }
          ],
          "heatmap": [
           {
            "colorbar": {
             "outlinewidth": 0,
             "ticks": ""
            },
            "colorscale": [
             [
              0,
              "#0d0887"
             ],
             [
              0.1111111111111111,
              "#46039f"
             ],
             [
              0.2222222222222222,
              "#7201a8"
             ],
             [
              0.3333333333333333,
              "#9c179e"
             ],
             [
              0.4444444444444444,
              "#bd3786"
             ],
             [
              0.5555555555555556,
              "#d8576b"
             ],
             [
              0.6666666666666666,
              "#ed7953"
             ],
             [
              0.7777777777777778,
              "#fb9f3a"
             ],
             [
              0.8888888888888888,
              "#fdca26"
             ],
             [
              1,
              "#f0f921"
             ]
            ],
            "type": "heatmap"
           }
          ],
          "heatmapgl": [
           {
            "colorbar": {
             "outlinewidth": 0,
             "ticks": ""
            },
            "colorscale": [
             [
              0,
              "#0d0887"
             ],
             [
              0.1111111111111111,
              "#46039f"
             ],
             [
              0.2222222222222222,
              "#7201a8"
             ],
             [
              0.3333333333333333,
              "#9c179e"
             ],
             [
              0.4444444444444444,
              "#bd3786"
             ],
             [
              0.5555555555555556,
              "#d8576b"
             ],
             [
              0.6666666666666666,
              "#ed7953"
             ],
             [
              0.7777777777777778,
              "#fb9f3a"
             ],
             [
              0.8888888888888888,
              "#fdca26"
             ],
             [
              1,
              "#f0f921"
             ]
            ],
            "type": "heatmapgl"
           }
          ],
          "histogram": [
           {
            "marker": {
             "pattern": {
              "fillmode": "overlay",
              "size": 10,
              "solidity": 0.2
             }
            },
            "type": "histogram"
           }
          ],
          "histogram2d": [
           {
            "colorbar": {
             "outlinewidth": 0,
             "ticks": ""
            },
            "colorscale": [
             [
              0,
              "#0d0887"
             ],
             [
              0.1111111111111111,
              "#46039f"
             ],
             [
              0.2222222222222222,
              "#7201a8"
             ],
             [
              0.3333333333333333,
              "#9c179e"
             ],
             [
              0.4444444444444444,
              "#bd3786"
             ],
             [
              0.5555555555555556,
              "#d8576b"
             ],
             [
              0.6666666666666666,
              "#ed7953"
             ],
             [
              0.7777777777777778,
              "#fb9f3a"
             ],
             [
              0.8888888888888888,
              "#fdca26"
             ],
             [
              1,
              "#f0f921"
             ]
            ],
            "type": "histogram2d"
           }
          ],
          "histogram2dcontour": [
           {
            "colorbar": {
             "outlinewidth": 0,
             "ticks": ""
            },
            "colorscale": [
             [
              0,
              "#0d0887"
             ],
             [
              0.1111111111111111,
              "#46039f"
             ],
             [
              0.2222222222222222,
              "#7201a8"
             ],
             [
              0.3333333333333333,
              "#9c179e"
             ],
             [
              0.4444444444444444,
              "#bd3786"
             ],
             [
              0.5555555555555556,
              "#d8576b"
             ],
             [
              0.6666666666666666,
              "#ed7953"
             ],
             [
              0.7777777777777778,
              "#fb9f3a"
             ],
             [
              0.8888888888888888,
              "#fdca26"
             ],
             [
              1,
              "#f0f921"
             ]
            ],
            "type": "histogram2dcontour"
           }
          ],
          "mesh3d": [
           {
            "colorbar": {
             "outlinewidth": 0,
             "ticks": ""
            },
            "type": "mesh3d"
           }
          ],
          "parcoords": [
           {
            "line": {
             "colorbar": {
              "outlinewidth": 0,
              "ticks": ""
             }
            },
            "type": "parcoords"
           }
          ],
          "pie": [
           {
            "automargin": true,
            "type": "pie"
           }
          ],
          "scatter": [
           {
            "fillpattern": {
             "fillmode": "overlay",
             "size": 10,
             "solidity": 0.2
            },
            "type": "scatter"
           }
          ],
          "scatter3d": [
           {
            "line": {
             "colorbar": {
              "outlinewidth": 0,
              "ticks": ""
             }
            },
            "marker": {
             "colorbar": {
              "outlinewidth": 0,
              "ticks": ""
             }
            },
            "type": "scatter3d"
           }
          ],
          "scattercarpet": [
           {
            "marker": {
             "colorbar": {
              "outlinewidth": 0,
              "ticks": ""
             }
            },
            "type": "scattercarpet"
           }
          ],
          "scattergeo": [
           {
            "marker": {
             "colorbar": {
              "outlinewidth": 0,
              "ticks": ""
             }
            },
            "type": "scattergeo"
           }
          ],
          "scattergl": [
           {
            "marker": {
             "colorbar": {
              "outlinewidth": 0,
              "ticks": ""
             }
            },
            "type": "scattergl"
           }
          ],
          "scattermapbox": [
           {
            "marker": {
             "colorbar": {
              "outlinewidth": 0,
              "ticks": ""
             }
            },
            "type": "scattermapbox"
           }
          ],
          "scatterpolar": [
           {
            "marker": {
             "colorbar": {
              "outlinewidth": 0,
              "ticks": ""
             }
            },
            "type": "scatterpolar"
           }
          ],
          "scatterpolargl": [
           {
            "marker": {
             "colorbar": {
              "outlinewidth": 0,
              "ticks": ""
             }
            },
            "type": "scatterpolargl"
           }
          ],
          "scatterternary": [
           {
            "marker": {
             "colorbar": {
              "outlinewidth": 0,
              "ticks": ""
             }
            },
            "type": "scatterternary"
           }
          ],
          "surface": [
           {
            "colorbar": {
             "outlinewidth": 0,
             "ticks": ""
            },
            "colorscale": [
             [
              0,
              "#0d0887"
             ],
             [
              0.1111111111111111,
              "#46039f"
             ],
             [
              0.2222222222222222,
              "#7201a8"
             ],
             [
              0.3333333333333333,
              "#9c179e"
             ],
             [
              0.4444444444444444,
              "#bd3786"
             ],
             [
              0.5555555555555556,
              "#d8576b"
             ],
             [
              0.6666666666666666,
              "#ed7953"
             ],
             [
              0.7777777777777778,
              "#fb9f3a"
             ],
             [
              0.8888888888888888,
              "#fdca26"
             ],
             [
              1,
              "#f0f921"
             ]
            ],
            "type": "surface"
           }
          ],
          "table": [
           {
            "cells": {
             "fill": {
              "color": "#EBF0F8"
             },
             "line": {
              "color": "white"
             }
            },
            "header": {
             "fill": {
              "color": "#C8D4E3"
             },
             "line": {
              "color": "white"
             }
            },
            "type": "table"
           }
          ]
         },
         "layout": {
          "annotationdefaults": {
           "arrowcolor": "#2a3f5f",
           "arrowhead": 0,
           "arrowwidth": 1
          },
          "autotypenumbers": "strict",
          "coloraxis": {
           "colorbar": {
            "outlinewidth": 0,
            "ticks": ""
           }
          },
          "colorscale": {
           "diverging": [
            [
             0,
             "#8e0152"
            ],
            [
             0.1,
             "#c51b7d"
            ],
            [
             0.2,
             "#de77ae"
            ],
            [
             0.3,
             "#f1b6da"
            ],
            [
             0.4,
             "#fde0ef"
            ],
            [
             0.5,
             "#f7f7f7"
            ],
            [
             0.6,
             "#e6f5d0"
            ],
            [
             0.7,
             "#b8e186"
            ],
            [
             0.8,
             "#7fbc41"
            ],
            [
             0.9,
             "#4d9221"
            ],
            [
             1,
             "#276419"
            ]
           ],
           "sequential": [
            [
             0,
             "#0d0887"
            ],
            [
             0.1111111111111111,
             "#46039f"
            ],
            [
             0.2222222222222222,
             "#7201a8"
            ],
            [
             0.3333333333333333,
             "#9c179e"
            ],
            [
             0.4444444444444444,
             "#bd3786"
            ],
            [
             0.5555555555555556,
             "#d8576b"
            ],
            [
             0.6666666666666666,
             "#ed7953"
            ],
            [
             0.7777777777777778,
             "#fb9f3a"
            ],
            [
             0.8888888888888888,
             "#fdca26"
            ],
            [
             1,
             "#f0f921"
            ]
           ],
           "sequentialminus": [
            [
             0,
             "#0d0887"
            ],
            [
             0.1111111111111111,
             "#46039f"
            ],
            [
             0.2222222222222222,
             "#7201a8"
            ],
            [
             0.3333333333333333,
             "#9c179e"
            ],
            [
             0.4444444444444444,
             "#bd3786"
            ],
            [
             0.5555555555555556,
             "#d8576b"
            ],
            [
             0.6666666666666666,
             "#ed7953"
            ],
            [
             0.7777777777777778,
             "#fb9f3a"
            ],
            [
             0.8888888888888888,
             "#fdca26"
            ],
            [
             1,
             "#f0f921"
            ]
           ]
          },
          "colorway": [
           "#636efa",
           "#EF553B",
           "#00cc96",
           "#ab63fa",
           "#FFA15A",
           "#19d3f3",
           "#FF6692",
           "#B6E880",
           "#FF97FF",
           "#FECB52"
          ],
          "font": {
           "color": "#2a3f5f"
          },
          "geo": {
           "bgcolor": "white",
           "lakecolor": "white",
           "landcolor": "#E5ECF6",
           "showlakes": true,
           "showland": true,
           "subunitcolor": "white"
          },
          "hoverlabel": {
           "align": "left"
          },
          "hovermode": "closest",
          "mapbox": {
           "style": "light"
          },
          "paper_bgcolor": "white",
          "plot_bgcolor": "#E5ECF6",
          "polar": {
           "angularaxis": {
            "gridcolor": "white",
            "linecolor": "white",
            "ticks": ""
           },
           "bgcolor": "#E5ECF6",
           "radialaxis": {
            "gridcolor": "white",
            "linecolor": "white",
            "ticks": ""
           }
          },
          "scene": {
           "xaxis": {
            "backgroundcolor": "#E5ECF6",
            "gridcolor": "white",
            "gridwidth": 2,
            "linecolor": "white",
            "showbackground": true,
            "ticks": "",
            "zerolinecolor": "white"
           },
           "yaxis": {
            "backgroundcolor": "#E5ECF6",
            "gridcolor": "white",
            "gridwidth": 2,
            "linecolor": "white",
            "showbackground": true,
            "ticks": "",
            "zerolinecolor": "white"
           },
           "zaxis": {
            "backgroundcolor": "#E5ECF6",
            "gridcolor": "white",
            "gridwidth": 2,
            "linecolor": "white",
            "showbackground": true,
            "ticks": "",
            "zerolinecolor": "white"
           }
          },
          "shapedefaults": {
           "line": {
            "color": "#2a3f5f"
           }
          },
          "ternary": {
           "aaxis": {
            "gridcolor": "white",
            "linecolor": "white",
            "ticks": ""
           },
           "baxis": {
            "gridcolor": "white",
            "linecolor": "white",
            "ticks": ""
           },
           "bgcolor": "#E5ECF6",
           "caxis": {
            "gridcolor": "white",
            "linecolor": "white",
            "ticks": ""
           }
          },
          "title": {
           "x": 0.05
          },
          "xaxis": {
           "automargin": true,
           "gridcolor": "white",
           "linecolor": "white",
           "ticks": "",
           "title": {
            "standoff": 15
           },
           "zerolinecolor": "white",
           "zerolinewidth": 2
          },
          "yaxis": {
           "automargin": true,
           "gridcolor": "white",
           "linecolor": "white",
           "ticks": "",
           "title": {
            "standoff": 15
           },
           "zerolinecolor": "white",
           "zerolinewidth": 2
          }
         }
        },
        "title": {
         "text": "Molecular Orbital (MO) Energies (a.u.)"
        },
        "xaxis": {
         "anchor": "y",
         "domain": [
          0,
          1
         ],
         "title": {
          "text": "Orbital Index (0-Based)"
         }
        },
        "yaxis": {
         "anchor": "x",
         "domain": [
          0,
          1
         ],
         "title": {
          "text": "MO Energies (a.u.)"
         }
        }
       }
      }
     },
     "metadata": {},
     "output_type": "display_data"
    }
   ],
   "source": [
    "# Plot the MO Energies (i.e. eigenvalues of the Fock matrix)\n",
    "fig = px.line(y=mf.mo_energy, markers=True, title=\"Molecular Orbital (MO) Energies (a.u.)\")\n",
    "fig.update_layout(xaxis_title=\"Orbital Index (0-Based)\", yaxis_title=\"MO Energies (a.u.)\")\n",
    "fig.show()"
   ]
  },
  {
   "cell_type": "code",
   "execution_count": null,
   "metadata": {},
   "outputs": [
    {
     "name": "stdout",
     "output_type": "stream",
     "text": [
      "**** SCF Summaries ****\n",
      "Total Energy =                        -676.198982803146691\n",
      "Nuclear Repulsion Energy =             858.640651535210282\n",
      "One-electron Energy =                -2636.450006542323990\n",
      "Two-electron Coulomb Energy =         1187.014393483860204\n",
      "DFT Exchange-Correlation Energy =      -85.404021279893172\n"
     ]
    }
   ],
   "source": [
    "mf.dump_scf_summary()"
   ]
  },
  {
   "cell_type": "markdown",
   "metadata": {},
   "source": [
    "## ElectronicEnergy calculation\n",
    "\n",
    "La classe `ElectronicEnergy` implémente le Hamiltonien \n",
    "\n",
    "$$ H_{el} = \\sum_{p, q} h_{pq} a^\\dagger_p a_q\n",
    "         + \\sum_{p, q, r, s} g_{pqrs} a^\\dagger_p a^\\dagger_q a_r a_s ,$$\n",
    "\n",
    "où $h_{pq}$ et $g_{pqrs}$ sont les intégrales électroniques à un et deux corps,\n",
    "stocké dans le conteneur `qiskit_nature.second_q.operators.ElectronicIntegrals`.\n",
    "Lorsqu'il s'agit de coefficients séparés pour les électrons de spin $\\alpha$- et $\\beta$,\n",
    "l'Hamiltonien à spin sans restriction (UHF) peut être obtenu à partir de celui ci-dessus de manière simple.\n",
    "\n",
    "On peut construire une instance de cet Hamiltonien de plusieurs manières.\n",
    "\n",
    "1. Avec une instance existante de `qiskit_nature.second_q.operators.ElectronicIntegrals` :\n",
    "\n",
    "```python\n",
    "   intégrales : ElectronicIntegrals = ...\n",
    "\n",
    "   hamiltonien = ElectronicEnergy (intégrales, constantes = {\"nuclear_repulsion_energy\": 1.0})\n",
    "```\n",
    "2. À partir d’un ensemble brut de matrices de coefficients intégraux \n",
    "    * h1_a: the alpha-spin one-body coefficients.\n",
    "    * h2_aa: the alpha-alpha-spin two-body coefficients.\n",
    "    * h1_b: the beta-spin one-body coefficients.\n",
    "    * h2_bb: the beta-beta-spin two-body coefficients.\n",
    "    * h2_ba: the beta-alpha-spin two-body coefficients.:\n",
    "\n",
    "```python\n",
    "    # en supposant que les intégrales à un et deux corps ont été préalablement calculées\n",
    "    h1_a, h2_aa, h1_b, h2_bb, h2_ba = ...\n",
    "\n",
    "    hamiltonien = ElectronicEnergy.from_raw_integrals(h1_a, h2_aa, h1_b, h2_bb, h2_ba)\n",
    "    hamiltonian.nuclear_repulsion_energy = 1.0\n",
    "```\n",
    "3. À partir d'un instance QSChema\n",
    "```python\n",
    "    from qiskit_nature.second_q.formats.qcschema import QCSchema\n",
    "    from qiskit_nature.second_q.formats import qcschema_translator \n",
    "\n",
    "    qcschema = driver.to_qcschema(include_dipole=True)\n",
    "    hamiltonian = qcschema_translator._get_mo_hamiltonian_direct(qcschema)\n",
    "\n",
    "```\n",
    "\n",
    "Il est à noter que nous avons spécifié l'énergie de répulsion nucléaire comme un décalage d'énergie constant dans ce qui précède. Ce terme ne sera pas inclus dans l'opérateur qubit mappé puisqu'il s'agit d'un terme de décalage constant et qu'il ne nécessite pas d'erreurs lors de la mesure sur un appareil quantique. Il est cependant possible d'inclure des termes d'énergie constante à l'intérieur du conteneur `qiskit_nature.second_q.operators.ElectronicIntegrals`, si l'on souhait qu'il soit inclus dans l'opérateur qubit, lors du mapping de l'opérateur de 2e quantification à l'espace qubit.\n",
    " ``` python\n",
    "    from qiskit_nature.second_q.operators import PolynomialTensor\n",
    "\n",
    "        e_nuc = hamiltonian.nuclear_repulsion_energy\n",
    "        hamiltonian.electronic_integrals.alpha += PolynomialTensor({\"\": e_nuc})\n",
    "        hamiltonian.nuclear_repulsion_energy = None\n",
    "```"
   ]
  },
  {
   "cell_type": "code",
   "execution_count": null,
   "metadata": {},
   "outputs": [],
   "source": [
    "# ''' \n",
    "# 2. Calculate the h1e and h2e integrals\n",
    "# '''\n",
    "# import numpy as np\n",
    "# from pyscf import ao2mo \n",
    "# from qiskit_nature.second_q.operators.symmetric_two_body import fold\n",
    "\n",
    "\n",
    "# mo_coeff, mo_coeff_b = driver._expand_mo_object(mf.mo_coeff, array_dimension=3)\n",
    "# h1_a = mf.get_hcore()\n",
    "# h1_a = np.dot(np.dot(mo_coeff.T, h1_a), mo_coeff)\n",
    "# if mo_coeff_b is not None:\n",
    "#     h1_b = np.dot(np.dot(mo_coeff_b.T, h1_a), mo_coeff_b)\n",
    "# else:\n",
    "#     h1_b = None\n",
    "\n",
    "\n",
    "# h2_aa = driver._mol.intor(\"int2e\", aosym=8)\n",
    "# h2_aa = fold(ao2mo.full(driver._mol, mo_coeff, aosym=4))\n",
    "# if mo_coeff_b is not None:\n",
    "#     h2_bb = fold(ao2mo.full(driver._mol, mo_coeff_b, aosym=4))\n",
    "#     h2_ba = fold(ao2mo.general(\n",
    "#             driver._mol,\n",
    "#             [mo_coeff_b, mo_coeff_b, mo_coeff, mo_coeff],\n",
    "#             aosym=4,\n",
    "#         )\n",
    "#     )\n",
    "# else:\n",
    "#     h2_bb = None\n",
    "#     h2_ba = None"
   ]
  },
  {
   "cell_type": "code",
   "execution_count": null,
   "metadata": {},
   "outputs": [],
   "source": [
    "# '''\n",
    "#  3. Build the total Hamiltonian outside of a Problem instance\n",
    "# '''\n",
    "# # from qiskit_nature.second_q.hamiltonians import ElectronicEnergy\n",
    "# # from qiskit_nature.second_q.operators import ElectronicIntegrals, PolynomialTensor\n",
    "\n",
    "# # hamiltonian = ElectronicEnergy.from_raw_integrals(\n",
    "# #     h1_a,\n",
    "# #     h2_aa,\n",
    "# #     h1_b,\n",
    "# #     h2_bb,\n",
    "# #     h2_ba\n",
    "# # )\n",
    "'''\n",
    " 2. Build the total Hamiltonian outside of a Problem instance\n",
    " Use of QCSchema\n",
    "'''\n",
    "from qiskit_nature.second_q.formats.qcschema import QCSchema\n",
    "from qiskit_nature.second_q.formats import qcschema_translator \n",
    "from qiskit_nature.second_q.operators import PolynomialTensor\n",
    "\n",
    "qcschema = driver.to_qcschema(include_dipole=True)\n",
    "hamiltonian = qcschema_translator._get_mo_hamiltonian_direct(qcschema)\n",
    "# print(hamiltonian.second_q_op())\n",
    "\n",
    "hamiltonian.nuclear_repulsion_energy = driver._mol.energy_nuc()\n",
    "\n",
    "# To included the constant nuclear_repulsion_energy in the second_q_op\n",
    "# e_nuc = hamiltonian.nuclear_repulsion_energy\n",
    "# hamiltonian.electronic_integrals.alpha += PolynomialTensor({\"\": e_nuc})\n",
    "# hamiltonian.nuclear_repulsion_energy = None\n",
    "# print(hamiltonian.second_q_op())"
   ]
  },
  {
   "cell_type": "code",
   "execution_count": 1,
   "metadata": {},
   "outputs": [],
   "source": [
    "# To check that our defined Hamiltonian correct\n",
    "# print(driver.run().hamiltonian.second_q_op())\n",
    "# hamiltonian.second_q_op() == driver.run().hamiltonian.second_q_op()"
   ]
  },
  {
   "cell_type": "markdown",
   "metadata": {},
   "source": [
    "## Active-Space reduction\n",
    "\n",
    "L'énergie électronique totale est définie par, \n",
    "$$\n",
    "    E = \\sum_{pq} h_{pq}D_{pq} + \\frac12\\sum_{pqrs} g_{pqrs}d_{pqrs},\n",
    "$$\n",
    "où $h_{pq}$ et $g_{pqrs}$ sont les intégrales à un et deux électrons, respectivement, et $D$ et $d$ sont les opérateurs statistiques (ou matrices de densité) à une et deux particules.\n",
    "\n",
    "Pour définir un espace actif, nous divisons l'opérateur à un électron en une partie active et une partie inactive, $D=D^A+D^I$. Dans la base des MOs, cette dernière se simplifie à $D^I_{iq}=2\\delta_{iq}$, où nous utilisons la notation des indices de Helgaker dans laquelle $i,j,k,l$ désignent *inactif*, $u,v,x,y$ désignent *actif* et $p,q,r,s$ désignent les MOs *général*. On obtient ainsi,\n",
    "$$\n",
    "    E = E^I + \\sum_{uv} F^I_{uv} D_{uv}^A + \\frac12 \\sum_{uvxy} g_{uvxy}d_{uvxy}^A,\n",
    "$$\n",
    "où l'**opérateur de Fock inactif** est définie comme\n",
    "$$ F^I_{pq} = h_{pq} + \\sum_i (2 g_{iipq} - g_{iqpi}),$$\n",
    "et l'**énergie inactive** est donnée par\n",
    "$$ E^I = \\sum_j h_{ji} + F^I_{jj} = \\frac12 \\sum_{ij} \\Big(h_{ij} + F^I_{jj}\\Big) D^I_{ij} .$$\n",
    "\n",
    "C'est ce qui est implémenté dans `qiskit_nature.second_q.transformers.ActiveSpaceTransformer`.\n",
    "\n",
    "On note que \n",
    "* l'opérateur de Fock *inactive* L'opérateur de Fock, $F^I$, remplace les intégrales à un électron, $h_{pq}$, \n",
    "* les opérateurs statistiques à un et deux électrons, $D^A$ et $d^A$, remplacent $D$ et $d$, et le décalage d'énergie constante, $E^I$, est ajouté.\n",
    "\n",
    "Par conséquent, l'Hamiltonien simulé dans le calculateur quantique  la forme suivante\n",
    "$$\n",
    "    \\mathtt{H}_{qc} = \\sum_{uv} F^I_{uv} a^\\dagger_u a_v + \\sum_{uvxy} g_{uvxy} \n",
    "    a^\\dagger_u a^\\dagger_v a_x a_y .\n",
    "$$\n",
    "En utilisant l'opérateur de Fock inactif à la place des intégrales à un électron, la description de l'espace actif contient un potentiel effectif généré par les électrons inactifs. Par conséquent, cette méthode permet l'exclusion des électrons non centraux tout en conservant une description de haute qualité du système.\n",
    "\n",
    "On rappelle que l'opérateur de Fock est défini comme\n",
    "$$ F_{pq} = h_{pq} + J_{pq} - K_{pq},$$\n",
    "avec $J_{qr} = \\sum g_{pqrs} D_{ps}$ et $K_{pr} = \\sum g_{pqrs} D_{qs}$ est opérateurs de Coulomb et d'échange respectivement."
   ]
  },
  {
   "cell_type": "code",
   "execution_count": 16,
   "metadata": {},
   "outputs": [
    {
     "ename": "",
     "evalue": "",
     "output_type": "error",
     "traceback": [
      "\u001b[1;31mLe noyau s’est bloqué lors de l’exécution du code dans une cellule active ou une cellule précédente. \n",
      "\u001b[1;31mVeuillez vérifier le code dans la ou les cellules pour identifier une cause possible de l’échec. \n",
      "\u001b[1;31mCliquez <a href='https://aka.ms/vscodeJupyterKernelCrash'>ici</a> pour plus d’informations. \n",
      "\u001b[1;31mPour plus d’informations, consultez Jupyter <a href='command:jupyter.viewOutput'>log</a>."
     ]
    }
   ],
   "source": [
    "''' \n",
    "4. Prepare the active space by initializing it with the total problem size information\n",
    "'''\n",
    "from qiskit_nature.second_q.transformers import ActiveSpaceTransformer\n",
    "import numpy as np\n",
    "\n",
    "# Somes variables needed\n",
    "total_num_particles = driver._mol.nelec\n",
    "total_num_spatial_orbitals = driver._mol.nao # hamiltonian.register_length\n",
    "total_num_electrons = driver._mol.nelectron\n",
    "\n",
    "# Alpha-spin\n",
    "num_alpha = total_num_particles[0] # qcschema.properties.calcinfo_nalpha\n",
    "orbital_occupations = np.asarray([1.0] * num_alpha \n",
    "                                 + [0.0] * (total_num_spatial_orbitals - num_alpha))\n",
    "# Beta-spin\n",
    "num_beta = total_num_particles[1] # , qcschema.properties.calcinfo_nbeta\n",
    "orbital_occupations_b = np.asarray([1.0] * num_beta \n",
    "                                   + [0.0] * (total_num_spatial_orbitals - num_beta))\n",
    "# Initialize the transformer\n",
    "transformer =  ActiveSpaceTransformer(2,2)\n",
    "\n",
    "# Prepare the active space\n",
    "transformer.prepare_active_space(total_num_particles, total_num_spatial_orbitals,\n",
    "                                 occupation_alpha=orbital_occupations, \n",
    "                                 occupation_beta=orbital_occupations_b,)\n",
    "# Determine the active space\n",
    "as_orbitals = transformer._determine_active_space(total_num_electrons, total_num_spatial_orbitals)[0]\n",
    "\n",
    "# Use the active space transformer to reduce the total Hamiltonian to the active space\n",
    "reduced_hamiltonian = transformer.transform_hamiltonian(hamiltonian)"
   ]
  },
  {
   "cell_type": "code",
   "execution_count": null,
   "metadata": {},
   "outputs": [
    {
     "name": "stdout",
     "output_type": "stream",
     "text": [
      "[4, 5]\n",
      "Fermionic Operator\n",
      "number spin orbitals=4, number terms=36\n",
      "  0.3861043049679476 * ( +_0 +_0 -_0 -_0 )\n",
      "+ 0.1866879907489356 * ( +_0 +_1 -_1 -_0 )\n",
      "+ 0.3861043049679476 * ( +_0 +_2 -_2 -_0 )\n",
      "+ 0.1866879907489356 * ( +_0 +_3 -_3 -_0 )\n",
      "+ 0.006783659597588433 * ( +_0 +_0 -_1 -_1 )\n",
      "+ 0.006783659597588433 * ( +_0 +_1 -_0 -_1 )\n",
      "+ 0.006783659597588433 * ( +_0 +_2 -_3 -_1 )\n",
      "+ 0.006783659597588433 * ( +_0 +_3 -_2 -_1 )\n",
      "+ 0.006783659597588433 * ( +_1 +_0 -_1 -_0 )\n",
      "+ 0.006783659597588433 * ( +_1 +_1 -_0 -_0 )\n",
      "+ 0.006783659597588433 * ( +_1 +_2 -_3 -_0 )\n",
      "+ 0.006783659597588433 * ( +_1 +_3 -_2 -_0 )\n",
      "+ 0.1866879907489356 * ( +_1 +_0 -_0 -_1 )\n",
      "+ 0.16964829513111165 * ( +_1 +_1 -_1 -_1 )\n",
      "+ 0.1866879907489356 * ( +_1 +_2 -_2 -_1 )\n",
      "+ 0.16964829513111165 * ( +_1 +_3 -_3 -_1 )\n",
      "+ 0.3861043049679476 * ( +_2 +_0 -_0 -_2 )\n",
      "+ 0.1866879907489356 * ( +_2 +_1 -_1 -_2 )\n",
      "+ 0.3861043049679476 * ( +_2 +_2 -_2 -_2 )\n",
      "+ 0.1866879907489356 * ( +_2 +_3 -_3 -_2 )\n",
      "+ 0.006783659597588433 * ( +_2 +_0 -_1 -_3 )\n",
      "+ 0.006783659597588433 * ( +_2 +_1 -_0 -_3 )\n",
      "+ 0.006783659597588433 * ( +_2 +_2 -_3 -_3 )\n",
      "+ 0.006783659597588433 * ( +_2 +_3 -_2 -_3 )\n",
      "+ 0.006783659597588433 * ( +_3 +_0 -_1 -_2 )\n",
      "+ 0.006783659597588433 * ( +_3 +_1 -_0 -_2 )\n",
      "+ 0.006783659597588433 * ( +_3 +_2 -_3 -_2 )\n",
      "+ 0.006783659597588433 * ( +_3 +_3 -_2 -_2 )\n",
      "+ 0.1866879907489356 * ( +_3 +_0 -_0 -_3 )\n",
      "+ 0.16964829513111165 * ( +_3 +_1 -_1 -_3 )\n",
      "+ 0.1866879907489356 * ( +_3 +_2 -_2 -_3 )\n",
      "+ 0.16964829513111165 * ( +_3 +_3 -_3 -_3 )\n",
      "+ -1.2504443246164365 * ( +_0 -_0 )\n",
      "+ -0.511518021143385 * ( +_1 -_1 )\n",
      "+ -1.2504443246164365 * ( +_2 -_2 )\n",
      "+ -0.511518021143385 * ( +_3 -_3 )\n"
     ]
    }
   ],
   "source": [
    "print(as_orbitals)\n",
    "print(reduced_hamiltonian.second_q_op())"
   ]
  },
  {
   "cell_type": "code",
   "execution_count": null,
   "metadata": {},
   "outputs": [],
   "source": [
    "from pyscf.tools import cubegen\n",
    "\n",
    "# Output cube files for active orbitals that can read by Jmol. Avogadro, Gabedit\n",
    "for i in as_orbitals:\n",
    "    cubegen.orbital(\n",
    "        driver._mol, \n",
    "        f'.Test_DFT_{i+1}.cube', \n",
    "        mf.mo_coeff[:, i])"
   ]
  },
  {
   "cell_type": "code",
   "execution_count": null,
   "metadata": {},
   "outputs": [],
   "source": [
    "''' \n",
    "5. Setup the Problem instance\n",
    "'''\n",
    "from qiskit_nature.second_q.problems import ElectronicBasis, ElectronicStructureProblem\n",
    "\n",
    "reduced_hamiltonian.constants[\"inactive energy\"] = mf.e_tot - driver._mol.energy_nuc()\n",
    "\n",
    "problem = ElectronicStructureProblem(reduced_hamiltonian)\n",
    "problem.basis = ElectronicBasis.MO\n",
    "problem.num_spatial_orbitals = transformer._num_spatial_orbitals\n",
    "problem.num_particles = (transformer._num_electrons // 2, transformer._num_electrons // 2)\n",
    "problem.orbital_energies = mf.mo_energy[as_orbitals] \n",
    "problem.reference_energy = mf.e_tot\n",
    "\n"
   ]
  },
  {
   "cell_type": "code",
   "execution_count": null,
   "metadata": {},
   "outputs": [],
   "source": [
    "''' \n",
    "Problem Electronic properties\n",
    "'''\n",
    "from qiskit_nature.second_q.properties import (\n",
    "    AngularMomentum,\n",
    "    ElectronicDensity,\n",
    "    Magnetization,\n",
    "    ParticleNumber,\n",
    ")\n",
    "\n",
    "norb = len(as_orbitals) # number of active orbitals\n",
    "\n",
    "#FIXME\n",
    "# nao = hamiltonian.register_length\n",
    "# overlap = qcschema_translator._reshape_2(qcschema.wavefunction.scf_overlap, nao, nao)\n",
    "\n",
    "problem.properties.particle_number = ParticleNumber(norb)\n",
    "problem.properties.magnetization = Magnetization(norb)\n",
    "problem.properties.angular_momentum = AngularMomentum(norb)\n",
    "problem.properties.electronic_density = ElectronicDensity.from_orbital_occupation(\n",
    "    problem.orbital_occupations, \n",
    "    problem.orbital_occupations_b\n",
    ")"
   ]
  },
  {
   "cell_type": "code",
   "execution_count": null,
   "metadata": {},
   "outputs": [],
   "source": [
    "# Electronic dipole moment\n",
    "from qiskit_nature.second_q.properties import ElectronicDipoleMoment\n",
    "\n",
    "dipole_x = qcschema_translator._get_mo_dipole(qcschema, \"x\")\n",
    "dipole_y = qcschema_translator._get_mo_dipole(qcschema, \"y\")\n",
    "dipole_z = qcschema_translator._get_mo_dipole(qcschema, \"z\")\n",
    "\n",
    "dipole = ElectronicDipoleMoment(dipole_x, dipole_y, dipole_z)\n",
    "if qcschema.properties.nuclear_dipole_moment is not None:\n",
    "    dipole.nuclear_dipole_moment = qcschema.properties.nuclear_dipole_moment\n",
    "\n",
    "problem.properties.electronic_dipole_moment = dipole"
   ]
  },
  {
   "cell_type": "code",
   "execution_count": null,
   "metadata": {},
   "outputs": [
    {
     "name": "stdout",
     "output_type": "stream",
     "text": [
      "Number of items in the PM Z2 Pauli list: 3\n"
     ]
    },
    {
     "data": {
      "text/plain": [
       "SparsePauliOp(['I', 'Z', 'X'],\n",
       "              coeffs=[-1.20620975+0.j, -0.52247029+0.j, -0.01356732+0.j])"
      ]
     },
     "execution_count": 18,
     "metadata": {},
     "output_type": "execute_result"
    }
   ],
   "source": [
    "''' \n",
    "6. mapping the Hamiltonian to spin space\n",
    "'''\n",
    "from qiskit_nature.second_q.mappers import JordanWignerMapper, ParityMapper, TaperedQubitMapper\n",
    "\n",
    "mapper = ParityMapper(num_particles=problem.num_particles)\n",
    "mapper = problem.get_tapered_mapper(mapper)\n",
    "\n",
    "Red_hamil_z2qubit = mapper.map(reduced_hamiltonian.second_q_op())\n",
    "print(f\"Number of items in the PM Z2 Pauli list:\", len(Red_hamil_z2qubit))\n",
    "Red_hamil_z2qubit\n"
   ]
  },
  {
   "cell_type": "code",
   "execution_count": null,
   "metadata": {},
   "outputs": [],
   "source": [
    "from qiskit_nature.second_q.circuit.library import HartreeFock"
   ]
  },
  {
   "cell_type": "code",
   "execution_count": null,
   "metadata": {},
   "outputs": [
    {
     "ename": "RuntimeError",
     "evalue": "eri.size = 48, norb = 2",
     "output_type": "error",
     "traceback": [
      "\u001b[0;31m---------------------------------------------------------------------------\u001b[0m",
      "\u001b[0;31mRuntimeError\u001b[0m                              Traceback (most recent call last)",
      "Cell \u001b[0;32mIn[20], line 9\u001b[0m\n\u001b[1;32m      5\u001b[0m \u001b[38;5;28;01mfrom\u001b[39;00m \u001b[38;5;21;01mqiskit_nature_pyscf\u001b[39;00m \u001b[38;5;28;01mimport\u001b[39;00m PySCFGroundStateSolver\n\u001b[1;32m      7\u001b[0m solver_fci \u001b[38;5;241m=\u001b[39m PySCFGroundStateSolver(fci\u001b[38;5;241m.\u001b[39mdirect_spin1\u001b[38;5;241m.\u001b[39mFCI())\n\u001b[0;32m----> 9\u001b[0m result_fci \u001b[38;5;241m=\u001b[39m \u001b[43msolver_fci\u001b[49m\u001b[38;5;241;43m.\u001b[39;49m\u001b[43msolve\u001b[49m\u001b[43m(\u001b[49m\u001b[43mproblem\u001b[49m\u001b[43m)\u001b[49m\n\u001b[1;32m     10\u001b[0m \u001b[38;5;28mprint\u001b[39m(result_fci)\n",
      "File \u001b[0;32m~/mambaforge/envs/qiskit-env/lib/python3.10/site-packages/qiskit_nature_pyscf/pyscf_ground_state_solver.py:162\u001b[0m, in \u001b[0;36mPySCFGroundStateSolver.solve\u001b[0;34m(self, problem, aux_operators)\u001b[0m\n\u001b[1;32m    144\u001b[0m     index_order \u001b[38;5;241m=\u001b[39m find_index_order(problem\u001b[38;5;241m.\u001b[39mhamiltonian\u001b[38;5;241m.\u001b[39melectronic_integrals\u001b[38;5;241m.\u001b[39malpha[\u001b[38;5;124m\"\u001b[39m\u001b[38;5;124m++--\u001b[39m\u001b[38;5;124m\"\u001b[39m])\n\u001b[1;32m    145\u001b[0m     two_body \u001b[38;5;241m=\u001b[39m np\u001b[38;5;241m.\u001b[39masarray(\n\u001b[1;32m    146\u001b[0m         [\n\u001b[1;32m    147\u001b[0m             to_chemist_ordering(\n\u001b[0;32m   (...)\u001b[0m\n\u001b[1;32m    159\u001b[0m         ]\n\u001b[1;32m    160\u001b[0m     )\n\u001b[0;32m--> 162\u001b[0m energy, ci_vec \u001b[38;5;241m=\u001b[39m \u001b[38;5;28;43mself\u001b[39;49m\u001b[38;5;241;43m.\u001b[39;49m\u001b[43msolver\u001b[49m\u001b[38;5;241;43m.\u001b[39;49m\u001b[43mkernel\u001b[49m\u001b[43m(\u001b[49m\n\u001b[1;32m    163\u001b[0m \u001b[43m    \u001b[49m\u001b[43mh1e\u001b[49m\u001b[38;5;241;43m=\u001b[39;49m\u001b[43mone_body\u001b[49m\u001b[43m,\u001b[49m\n\u001b[1;32m    164\u001b[0m \u001b[43m    \u001b[49m\u001b[43meri\u001b[49m\u001b[38;5;241;43m=\u001b[39;49m\u001b[43mtwo_body\u001b[49m\u001b[43m,\u001b[49m\n\u001b[1;32m    165\u001b[0m \u001b[43m    \u001b[49m\u001b[43mnorb\u001b[49m\u001b[38;5;241;43m=\u001b[39;49m\u001b[43mproblem\u001b[49m\u001b[38;5;241;43m.\u001b[39;49m\u001b[43mnum_spatial_orbitals\u001b[49m\u001b[43m,\u001b[49m\n\u001b[1;32m    166\u001b[0m \u001b[43m    \u001b[49m\u001b[43mnelec\u001b[49m\u001b[38;5;241;43m=\u001b[39;49m\u001b[43mproblem\u001b[49m\u001b[38;5;241;43m.\u001b[39;49m\u001b[43mnum_particles\u001b[49m\u001b[43m,\u001b[49m\n\u001b[1;32m    167\u001b[0m \u001b[43m\u001b[49m\u001b[43m)\u001b[49m\n\u001b[1;32m    169\u001b[0m \u001b[38;5;28;01mif\u001b[39;00m \u001b[38;5;129;01mnot\u001b[39;00m \u001b[38;5;28misinstance\u001b[39m(energy, np\u001b[38;5;241m.\u001b[39mndarray):\n\u001b[1;32m    170\u001b[0m     \u001b[38;5;66;03m# computed a single root, but in the following we pretend to always have multiple ones\u001b[39;00m\n\u001b[1;32m    171\u001b[0m     energy \u001b[38;5;241m=\u001b[39m [energy]\n",
      "File \u001b[0;32m~/mambaforge/envs/qiskit-env/lib/python3.10/site-packages/pyscf/fci/direct_spin1.py:840\u001b[0m, in \u001b[0;36mFCIBase.kernel\u001b[0;34m(self, h1e, eri, norb, nelec, ci0, tol, lindep, max_cycle, max_space, nroots, davidson_only, pspace_size, orbsym, wfnsym, ecore, **kwargs)\u001b[0m\n\u001b[1;32m    838\u001b[0m \u001b[38;5;28mself\u001b[39m\u001b[38;5;241m.\u001b[39mnelec \u001b[38;5;241m=\u001b[39m nelec \u001b[38;5;241m=\u001b[39m _unpack_nelec(nelec, \u001b[38;5;28mself\u001b[39m\u001b[38;5;241m.\u001b[39mspin)\n\u001b[1;32m    839\u001b[0m link_index \u001b[38;5;241m=\u001b[39m _unpack(norb, nelec, \u001b[38;5;28;01mNone\u001b[39;00m)\n\u001b[0;32m--> 840\u001b[0m e, c \u001b[38;5;241m=\u001b[39m \u001b[43mkernel_ms1\u001b[49m\u001b[43m(\u001b[49m\u001b[38;5;28;43mself\u001b[39;49m\u001b[43m,\u001b[49m\u001b[43m \u001b[49m\u001b[43mh1e\u001b[49m\u001b[43m,\u001b[49m\u001b[43m \u001b[49m\u001b[43meri\u001b[49m\u001b[43m,\u001b[49m\u001b[43m \u001b[49m\u001b[43mnorb\u001b[49m\u001b[43m,\u001b[49m\u001b[43m \u001b[49m\u001b[43mnelec\u001b[49m\u001b[43m,\u001b[49m\u001b[43m \u001b[49m\u001b[43mci0\u001b[49m\u001b[43m,\u001b[49m\u001b[43m \u001b[49m\u001b[43mlink_index\u001b[49m\u001b[43m,\u001b[49m\n\u001b[1;32m    841\u001b[0m \u001b[43m                  \u001b[49m\u001b[43mtol\u001b[49m\u001b[43m,\u001b[49m\u001b[43m \u001b[49m\u001b[43mlindep\u001b[49m\u001b[43m,\u001b[49m\u001b[43m \u001b[49m\u001b[43mmax_cycle\u001b[49m\u001b[43m,\u001b[49m\u001b[43m \u001b[49m\u001b[43mmax_space\u001b[49m\u001b[43m,\u001b[49m\u001b[43m \u001b[49m\u001b[43mnroots\u001b[49m\u001b[43m,\u001b[49m\n\u001b[1;32m    842\u001b[0m \u001b[43m                  \u001b[49m\u001b[43mdavidson_only\u001b[49m\u001b[43m,\u001b[49m\u001b[43m \u001b[49m\u001b[43mpspace_size\u001b[49m\u001b[43m,\u001b[49m\u001b[43m \u001b[49m\u001b[43mecore\u001b[49m\u001b[38;5;241;43m=\u001b[39;49m\u001b[43mecore\u001b[49m\u001b[43m,\u001b[49m\u001b[43m \u001b[49m\u001b[38;5;241;43m*\u001b[39;49m\u001b[38;5;241;43m*\u001b[39;49m\u001b[43mkwargs\u001b[49m\u001b[43m)\u001b[49m\n\u001b[1;32m    843\u001b[0m \u001b[38;5;28mself\u001b[39m\u001b[38;5;241m.\u001b[39meci \u001b[38;5;241m=\u001b[39m e\n\u001b[1;32m    845\u001b[0m na \u001b[38;5;241m=\u001b[39m link_index[\u001b[38;5;241m0\u001b[39m]\u001b[38;5;241m.\u001b[39mshape[\u001b[38;5;241m0\u001b[39m]\n",
      "File \u001b[0;32m~/mambaforge/envs/qiskit-env/lib/python3.10/site-packages/pyscf/fci/direct_spin1.py:527\u001b[0m, in \u001b[0;36mkernel_ms1\u001b[0;34m(fci, h1e, eri, norb, nelec, ci0, link_index, tol, lindep, max_cycle, max_space, nroots, davidson_only, pspace_size, hop, max_memory, verbose, ecore, **kwargs)\u001b[0m\n\u001b[1;32m    524\u001b[0m nelec \u001b[38;5;241m=\u001b[39m _unpack_nelec(nelec, fci\u001b[38;5;241m.\u001b[39mspin)\n\u001b[1;32m    525\u001b[0m \u001b[38;5;28;01massert\u001b[39;00m (\u001b[38;5;241m0\u001b[39m \u001b[38;5;241m<\u001b[39m\u001b[38;5;241m=\u001b[39m nelec[\u001b[38;5;241m0\u001b[39m] \u001b[38;5;241m<\u001b[39m\u001b[38;5;241m=\u001b[39m norb \u001b[38;5;129;01mand\u001b[39;00m \u001b[38;5;241m0\u001b[39m \u001b[38;5;241m<\u001b[39m\u001b[38;5;241m=\u001b[39m nelec[\u001b[38;5;241m1\u001b[39m] \u001b[38;5;241m<\u001b[39m\u001b[38;5;241m=\u001b[39m norb)\n\u001b[0;32m--> 527\u001b[0m hdiag \u001b[38;5;241m=\u001b[39m \u001b[43mfci\u001b[49m\u001b[38;5;241;43m.\u001b[39;49m\u001b[43mmake_hdiag\u001b[49m\u001b[43m(\u001b[49m\u001b[43mh1e\u001b[49m\u001b[43m,\u001b[49m\u001b[43m \u001b[49m\u001b[43meri\u001b[49m\u001b[43m,\u001b[49m\u001b[43m \u001b[49m\u001b[43mnorb\u001b[49m\u001b[43m,\u001b[49m\u001b[43m \u001b[49m\u001b[43mnelec\u001b[49m\u001b[43m,\u001b[49m\u001b[43m \u001b[49m\u001b[43mcompress\u001b[49m\u001b[38;5;241;43m=\u001b[39;49m\u001b[38;5;28;43;01mFalse\u001b[39;49;00m\u001b[43m)\u001b[49m\u001b[38;5;241m.\u001b[39mravel()\n\u001b[1;32m    528\u001b[0m num_dets \u001b[38;5;241m=\u001b[39m hdiag\u001b[38;5;241m.\u001b[39msize\n\u001b[1;32m    529\u001b[0m pspace_size \u001b[38;5;241m=\u001b[39m \u001b[38;5;28mmin\u001b[39m(num_dets, pspace_size)\n",
      "File \u001b[0;32m~/mambaforge/envs/qiskit-env/lib/python3.10/site-packages/pyscf/fci/direct_spin1.py:785\u001b[0m, in \u001b[0;36mFCIBase.make_hdiag\u001b[0;34m(self, h1e, eri, norb, nelec, compress)\u001b[0m\n\u001b[1;32m    782\u001b[0m \u001b[38;5;129m@lib\u001b[39m\u001b[38;5;241m.\u001b[39mwith_doc(make_hdiag\u001b[38;5;241m.\u001b[39m\u001b[38;5;18m__doc__\u001b[39m)\n\u001b[1;32m    783\u001b[0m \u001b[38;5;28;01mdef\u001b[39;00m \u001b[38;5;21mmake_hdiag\u001b[39m(\u001b[38;5;28mself\u001b[39m, h1e, eri, norb, nelec, compress\u001b[38;5;241m=\u001b[39m\u001b[38;5;28;01mFalse\u001b[39;00m):\n\u001b[1;32m    784\u001b[0m     nelec \u001b[38;5;241m=\u001b[39m _unpack_nelec(nelec, \u001b[38;5;28mself\u001b[39m\u001b[38;5;241m.\u001b[39mspin)\n\u001b[0;32m--> 785\u001b[0m     \u001b[38;5;28;01mreturn\u001b[39;00m \u001b[43mmake_hdiag\u001b[49m\u001b[43m(\u001b[49m\u001b[43mh1e\u001b[49m\u001b[43m,\u001b[49m\u001b[43m \u001b[49m\u001b[43meri\u001b[49m\u001b[43m,\u001b[49m\u001b[43m \u001b[49m\u001b[43mnorb\u001b[49m\u001b[43m,\u001b[49m\u001b[43m \u001b[49m\u001b[43mnelec\u001b[49m\u001b[43m,\u001b[49m\u001b[43m \u001b[49m\u001b[43mcompress\u001b[49m\u001b[43m)\u001b[49m\n",
      "File \u001b[0;32m~/mambaforge/envs/qiskit-env/lib/python3.10/site-packages/pyscf/fci/direct_spin1.py:154\u001b[0m, in \u001b[0;36mmake_hdiag\u001b[0;34m(h1e, eri, norb, nelec, compress)\u001b[0m\n\u001b[1;32m    152\u001b[0m neleca, nelecb \u001b[38;5;241m=\u001b[39m _unpack_nelec(nelec)\n\u001b[1;32m    153\u001b[0m h1e \u001b[38;5;241m=\u001b[39m numpy\u001b[38;5;241m.\u001b[39masarray(h1e, order\u001b[38;5;241m=\u001b[39m\u001b[38;5;124m'\u001b[39m\u001b[38;5;124mC\u001b[39m\u001b[38;5;124m'\u001b[39m)\n\u001b[0;32m--> 154\u001b[0m eri \u001b[38;5;241m=\u001b[39m \u001b[43mao2mo\u001b[49m\u001b[38;5;241;43m.\u001b[39;49m\u001b[43mrestore\u001b[49m\u001b[43m(\u001b[49m\u001b[38;5;241;43m1\u001b[39;49m\u001b[43m,\u001b[49m\u001b[43m \u001b[49m\u001b[43meri\u001b[49m\u001b[43m,\u001b[49m\u001b[43m \u001b[49m\u001b[43mnorb\u001b[49m\u001b[43m)\u001b[49m\n\u001b[1;32m    155\u001b[0m occslsta \u001b[38;5;241m=\u001b[39m occslstb \u001b[38;5;241m=\u001b[39m cistring\u001b[38;5;241m.\u001b[39mgen_occslst(\u001b[38;5;28mrange\u001b[39m(norb), neleca)\n\u001b[1;32m    156\u001b[0m \u001b[38;5;28;01mif\u001b[39;00m neleca \u001b[38;5;241m!=\u001b[39m nelecb:\n",
      "File \u001b[0;32m~/mambaforge/envs/qiskit-env/lib/python3.10/site-packages/pyscf/ao2mo/addons.py:188\u001b[0m, in \u001b[0;36mrestore\u001b[0;34m(symmetry, eri, norb, tao)\u001b[0m\n\u001b[1;32m    185\u001b[0m         \u001b[38;5;28;01mreturn\u001b[39;00m eri\u001b[38;5;241m.\u001b[39mreshape(npair,norb,norb)\n\u001b[1;32m    187\u001b[0m \u001b[38;5;28;01melse\u001b[39;00m:\n\u001b[0;32m--> 188\u001b[0m     \u001b[38;5;28;01mraise\u001b[39;00m \u001b[38;5;167;01mRuntimeError\u001b[39;00m(\u001b[38;5;124m'\u001b[39m\u001b[38;5;124meri.size = \u001b[39m\u001b[38;5;132;01m%d\u001b[39;00m\u001b[38;5;124m, norb = \u001b[39m\u001b[38;5;132;01m%d\u001b[39;00m\u001b[38;5;124m'\u001b[39m \u001b[38;5;241m%\u001b[39m (eri\u001b[38;5;241m.\u001b[39msize, norb))\n",
      "\u001b[0;31mRuntimeError\u001b[0m: eri.size = 48, norb = 2"
     ]
    }
   ],
   "source": [
    "''' \n",
    "5. Setup solver \n",
    "'''\n",
    "from pyscf import fci\n",
    "from qiskit_nature_pyscf import PySCFGroundStateSolver\n",
    "\n",
    "solver_fci = PySCFGroundStateSolver(fci.direct_spin1.FCI())\n",
    "\n",
    "result_fci = solver_fci.solve(problem)\n",
    "print(result_fci)"
   ]
  },
  {
   "cell_type": "code",
   "execution_count": null,
   "metadata": {},
   "outputs": [
    {
     "ename": "AttributeError",
     "evalue": "'NoneType' object has no attribute 'get'",
     "output_type": "error",
     "traceback": [
      "\u001b[0;31m---------------------------------------------------------------------------\u001b[0m",
      "\u001b[0;31mAttributeError\u001b[0m                            Traceback (most recent call last)",
      "Cell \u001b[0;32mIn[35], line 13\u001b[0m\n\u001b[1;32m     10\u001b[0m solver \u001b[38;5;241m=\u001b[39m NumPyMinimumEigensolver(filter_criterion\u001b[38;5;241m=\u001b[39mproblem\u001b[38;5;241m.\u001b[39mget_default_filter_criterion())\n\u001b[1;32m     12\u001b[0m algo \u001b[38;5;241m=\u001b[39m GroundStateEigensolver(mapper, solver)\n\u001b[0;32m---> 13\u001b[0m result \u001b[38;5;241m=\u001b[39m \u001b[43malgo\u001b[49m\u001b[38;5;241;43m.\u001b[39;49m\u001b[43msolve\u001b[49m\u001b[43m(\u001b[49m\u001b[43mproblem\u001b[49m\u001b[43m)\u001b[49m\n\u001b[1;32m     15\u001b[0m \u001b[38;5;28mprint\u001b[39m(\u001b[38;5;124mf\u001b[39m\u001b[38;5;124m\"\u001b[39m\u001b[38;5;124mTotal ground state energy = \u001b[39m\u001b[38;5;132;01m{\u001b[39;00mresult\u001b[38;5;241m.\u001b[39mtotal_energies[\u001b[38;5;241m0\u001b[39m]\u001b[38;5;132;01m:\u001b[39;00m\u001b[38;5;124m.4f\u001b[39m\u001b[38;5;132;01m}\u001b[39;00m\u001b[38;5;124m\"\u001b[39m)\n",
      "File \u001b[0;32m~/mambaforge/envs/qiskit-env/lib/python3.10/site-packages/qiskit_nature/second_q/algorithms/ground_state_solvers/ground_state_eigensolver.py:73\u001b[0m, in \u001b[0;36mGroundStateEigensolver.solve\u001b[0;34m(self, problem, aux_operators)\u001b[0m\n\u001b[1;32m     62\u001b[0m \u001b[38;5;250m\u001b[39m\u001b[38;5;124;03m\"\"\"Compute Ground State properties.\u001b[39;00m\n\u001b[1;32m     63\u001b[0m \n\u001b[1;32m     64\u001b[0m \u001b[38;5;124;03mArgs:\u001b[39;00m\n\u001b[0;32m   (...)\u001b[0m\n\u001b[1;32m     70\u001b[0m \u001b[38;5;124;03m    :meth:`~.BaseProblem.interpret`.\u001b[39;00m\n\u001b[1;32m     71\u001b[0m \u001b[38;5;124;03m\"\"\"\u001b[39;00m\n\u001b[1;32m     72\u001b[0m main_operator, aux_ops \u001b[38;5;241m=\u001b[39m \u001b[38;5;28mself\u001b[39m\u001b[38;5;241m.\u001b[39mget_qubit_operators(problem, aux_operators)\n\u001b[0;32m---> 73\u001b[0m raw_mes_result \u001b[38;5;241m=\u001b[39m \u001b[38;5;28;43mself\u001b[39;49m\u001b[38;5;241;43m.\u001b[39;49m\u001b[43msolver\u001b[49m\u001b[38;5;241;43m.\u001b[39;49m\u001b[43mcompute_minimum_eigenvalue\u001b[49m\u001b[43m(\u001b[49m\u001b[43mmain_operator\u001b[49m\u001b[43m,\u001b[49m\u001b[43m \u001b[49m\u001b[43maux_ops\u001b[49m\u001b[43m)\u001b[49m\n\u001b[1;32m     75\u001b[0m eigenstate_result \u001b[38;5;241m=\u001b[39m EigenstateResult\u001b[38;5;241m.\u001b[39mfrom_result(raw_mes_result)\n\u001b[1;32m     76\u001b[0m result \u001b[38;5;241m=\u001b[39m problem\u001b[38;5;241m.\u001b[39minterpret(eigenstate_result)\n",
      "File \u001b[0;32m~/mambaforge/envs/qiskit-env/lib/python3.10/site-packages/qiskit_algorithms/minimum_eigensolvers/numpy_minimum_eigensolver.py:80\u001b[0m, in \u001b[0;36mNumPyMinimumEigensolver.compute_minimum_eigenvalue\u001b[0;34m(self, operator, aux_operators)\u001b[0m\n\u001b[1;32m     74\u001b[0m \u001b[38;5;28;01mdef\u001b[39;00m \u001b[38;5;21mcompute_minimum_eigenvalue\u001b[39m(\n\u001b[1;32m     75\u001b[0m     \u001b[38;5;28mself\u001b[39m,\n\u001b[1;32m     76\u001b[0m     operator: BaseOperator,\n\u001b[1;32m     77\u001b[0m     aux_operators: ListOrDict[BaseOperator] \u001b[38;5;241m|\u001b[39m \u001b[38;5;28;01mNone\u001b[39;00m \u001b[38;5;241m=\u001b[39m \u001b[38;5;28;01mNone\u001b[39;00m,\n\u001b[1;32m     78\u001b[0m ) \u001b[38;5;241m-\u001b[39m\u001b[38;5;241m>\u001b[39m NumPyMinimumEigensolverResult:\n\u001b[1;32m     79\u001b[0m     \u001b[38;5;28msuper\u001b[39m()\u001b[38;5;241m.\u001b[39mcompute_minimum_eigenvalue(operator, aux_operators)\n\u001b[0;32m---> 80\u001b[0m     eigensolver_result \u001b[38;5;241m=\u001b[39m \u001b[38;5;28;43mself\u001b[39;49m\u001b[38;5;241;43m.\u001b[39;49m\u001b[43m_eigensolver\u001b[49m\u001b[38;5;241;43m.\u001b[39;49m\u001b[43mcompute_eigenvalues\u001b[49m\u001b[43m(\u001b[49m\u001b[43moperator\u001b[49m\u001b[43m,\u001b[49m\u001b[43m \u001b[49m\u001b[43maux_operators\u001b[49m\u001b[43m)\u001b[49m\n\u001b[1;32m     81\u001b[0m     result \u001b[38;5;241m=\u001b[39m NumPyMinimumEigensolverResult()\n\u001b[1;32m     82\u001b[0m     \u001b[38;5;28;01mif\u001b[39;00m eigensolver_result\u001b[38;5;241m.\u001b[39meigenvalues \u001b[38;5;129;01mis\u001b[39;00m \u001b[38;5;129;01mnot\u001b[39;00m \u001b[38;5;28;01mNone\u001b[39;00m \u001b[38;5;129;01mand\u001b[39;00m \u001b[38;5;28mlen\u001b[39m(eigensolver_result\u001b[38;5;241m.\u001b[39meigenvalues) \u001b[38;5;241m>\u001b[39m \u001b[38;5;241m0\u001b[39m:\n",
      "File \u001b[0;32m~/mambaforge/envs/qiskit-env/lib/python3.10/site-packages/qiskit_algorithms/eigensolvers/numpy_eigensolver.py:280\u001b[0m, in \u001b[0;36mNumPyEigensolver.compute_eigenvalues\u001b[0;34m(self, operator, aux_operators)\u001b[0m\n\u001b[1;32m    277\u001b[0m \u001b[38;5;28;01melse\u001b[39;00m:\n\u001b[1;32m    278\u001b[0m     aux_op_val \u001b[38;5;241m=\u001b[39m \u001b[38;5;28;01mNone\u001b[39;00m\n\u001b[0;32m--> 280\u001b[0m \u001b[38;5;28;01mif\u001b[39;00m \u001b[38;5;28;43mself\u001b[39;49m\u001b[38;5;241;43m.\u001b[39;49m\u001b[43m_filter_criterion\u001b[49m\u001b[43m(\u001b[49m\u001b[43meigvec\u001b[49m\u001b[43m,\u001b[49m\u001b[43m \u001b[49m\u001b[43meigval\u001b[49m\u001b[43m,\u001b[49m\u001b[43m \u001b[49m\u001b[43maux_op_val\u001b[49m\u001b[43m)\u001b[49m:\n\u001b[1;32m    281\u001b[0m     count \u001b[38;5;241m+\u001b[39m\u001b[38;5;241m=\u001b[39m \u001b[38;5;241m1\u001b[39m\n\u001b[1;32m    282\u001b[0m     filt_eigvecs\u001b[38;5;241m.\u001b[39mappend(eigvec)\n",
      "File \u001b[0;32m~/mambaforge/envs/qiskit-env/lib/python3.10/site-packages/qiskit_nature/second_q/problems/electronic_structure_problem.py:260\u001b[0m, in \u001b[0;36mElectronicStructureProblem.get_default_filter_criterion.<locals>.filter_criterion\u001b[0;34m(self, eigenstate, eigenvalue, aux_values)\u001b[0m\n\u001b[1;32m    259\u001b[0m \u001b[38;5;28;01mdef\u001b[39;00m \u001b[38;5;21mfilter_criterion\u001b[39m(\u001b[38;5;28mself\u001b[39m, eigenstate, eigenvalue, aux_values):\n\u001b[0;32m--> 260\u001b[0m     eval_num_particles \u001b[38;5;241m=\u001b[39m \u001b[43maux_values\u001b[49m\u001b[38;5;241;43m.\u001b[39;49m\u001b[43mget\u001b[49m(\u001b[38;5;124m\"\u001b[39m\u001b[38;5;124mParticleNumber\u001b[39m\u001b[38;5;124m\"\u001b[39m, \u001b[38;5;28;01mNone\u001b[39;00m)\n\u001b[1;32m    261\u001b[0m     \u001b[38;5;28;01mif\u001b[39;00m eval_num_particles \u001b[38;5;129;01mis\u001b[39;00m \u001b[38;5;28;01mNone\u001b[39;00m:\n\u001b[1;32m    262\u001b[0m         \u001b[38;5;28;01mreturn\u001b[39;00m \u001b[38;5;28;01mTrue\u001b[39;00m\n",
      "\u001b[0;31mAttributeError\u001b[0m: 'NoneType' object has no attribute 'get'"
     ]
    }
   ],
   "source": [
    "''' \n",
    "7. Setup solver \n",
    "'''\n",
    "from qiskit_algorithms.minimum_eigensolvers import NumPyMinimumEigensolver\n",
    "from qiskit_algorithms import NumPyEigensolver\n",
    "from qiskit_nature.second_q.algorithms import GroundStateEigensolver\n",
    "\n",
    "# problem = driver.run()\n",
    "\n",
    "solver = NumPyMinimumEigensolver(filter_criterion=problem.get_default_filter_criterion())\n",
    "\n",
    "algo = GroundStateEigensolver(mapper, solver)\n",
    "result = algo.solve(problem)\n",
    "\n",
    "print(f\"Total ground state energy = {result.total_energies[0]:.4f}\")\n",
    "\n"
   ]
  },
  {
   "cell_type": "code",
   "execution_count": null,
   "metadata": {},
   "outputs": [
    {
     "ename": "AttributeError",
     "evalue": "'NoneType' object has no attribute 'get'",
     "output_type": "error",
     "traceback": [
      "\u001b[0;31m---------------------------------------------------------------------------\u001b[0m",
      "\u001b[0;31mAttributeError\u001b[0m                            Traceback (most recent call last)",
      "Cell \u001b[0;32mIn[33], line 8\u001b[0m\n\u001b[1;32m      5\u001b[0m numpy_solver \u001b[38;5;241m=\u001b[39m NumPyEigensolver(k\u001b[38;5;241m=\u001b[39m\u001b[38;5;241m4\u001b[39m, filter_criterion\u001b[38;5;241m=\u001b[39mproblem\u001b[38;5;241m.\u001b[39mget_default_filter_criterion())\n\u001b[1;32m      7\u001b[0m numpy_ES_solver \u001b[38;5;241m=\u001b[39m ExcitedStatesEigensolver(mapper, numpy_solver)\n\u001b[0;32m----> 8\u001b[0m NP_ES \u001b[38;5;241m=\u001b[39m \u001b[43mnumpy_ES_solver\u001b[49m\u001b[38;5;241;43m.\u001b[39;49m\u001b[43msolve\u001b[49m\u001b[43m(\u001b[49m\u001b[43mproblem\u001b[49m\u001b[43m)\u001b[49m\n\u001b[1;32m     10\u001b[0m \u001b[38;5;28mprint\u001b[39m(NP_ES)\n",
      "File \u001b[0;32m~/mambaforge/envs/qiskit-env/lib/python3.10/site-packages/qiskit_nature/second_q/algorithms/excited_states_solvers/excited_states_eigensolver.py:124\u001b[0m, in \u001b[0;36mExcitedStatesEigensolver.solve\u001b[0;34m(self, problem, aux_operators)\u001b[0m\n\u001b[1;32m    119\u001b[0m \u001b[38;5;66;03m# get the operator and auxiliary operators, and transform the provided auxiliary operators\u001b[39;00m\n\u001b[1;32m    120\u001b[0m \u001b[38;5;66;03m# note that ``aux_operators`` contains not only the transformed ``aux_operators`` passed\u001b[39;00m\n\u001b[1;32m    121\u001b[0m \u001b[38;5;66;03m# by the user but also additional ones from the transformation\u001b[39;00m\n\u001b[1;32m    123\u001b[0m main_operator, aux_ops \u001b[38;5;241m=\u001b[39m \u001b[38;5;28mself\u001b[39m\u001b[38;5;241m.\u001b[39mget_qubit_operators(problem, aux_operators)\n\u001b[0;32m--> 124\u001b[0m raw_es_result \u001b[38;5;241m=\u001b[39m \u001b[38;5;28;43mself\u001b[39;49m\u001b[38;5;241;43m.\u001b[39;49m\u001b[43m_solver\u001b[49m\u001b[38;5;241;43m.\u001b[39;49m\u001b[43mcompute_eigenvalues\u001b[49m\u001b[43m(\u001b[49m\u001b[43mmain_operator\u001b[49m\u001b[43m,\u001b[49m\u001b[43m \u001b[49m\u001b[43maux_ops\u001b[49m\u001b[43m)\u001b[49m\n\u001b[1;32m    126\u001b[0m eigenstate_result \u001b[38;5;241m=\u001b[39m EigenstateResult\u001b[38;5;241m.\u001b[39mfrom_result(raw_es_result)\n\u001b[1;32m    127\u001b[0m result \u001b[38;5;241m=\u001b[39m problem\u001b[38;5;241m.\u001b[39minterpret(eigenstate_result)\n",
      "File \u001b[0;32m~/mambaforge/envs/qiskit-env/lib/python3.10/site-packages/qiskit_algorithms/eigensolvers/numpy_eigensolver.py:280\u001b[0m, in \u001b[0;36mNumPyEigensolver.compute_eigenvalues\u001b[0;34m(self, operator, aux_operators)\u001b[0m\n\u001b[1;32m    277\u001b[0m \u001b[38;5;28;01melse\u001b[39;00m:\n\u001b[1;32m    278\u001b[0m     aux_op_val \u001b[38;5;241m=\u001b[39m \u001b[38;5;28;01mNone\u001b[39;00m\n\u001b[0;32m--> 280\u001b[0m \u001b[38;5;28;01mif\u001b[39;00m \u001b[38;5;28;43mself\u001b[39;49m\u001b[38;5;241;43m.\u001b[39;49m\u001b[43m_filter_criterion\u001b[49m\u001b[43m(\u001b[49m\u001b[43meigvec\u001b[49m\u001b[43m,\u001b[49m\u001b[43m \u001b[49m\u001b[43meigval\u001b[49m\u001b[43m,\u001b[49m\u001b[43m \u001b[49m\u001b[43maux_op_val\u001b[49m\u001b[43m)\u001b[49m:\n\u001b[1;32m    281\u001b[0m     count \u001b[38;5;241m+\u001b[39m\u001b[38;5;241m=\u001b[39m \u001b[38;5;241m1\u001b[39m\n\u001b[1;32m    282\u001b[0m     filt_eigvecs\u001b[38;5;241m.\u001b[39mappend(eigvec)\n",
      "File \u001b[0;32m~/mambaforge/envs/qiskit-env/lib/python3.10/site-packages/qiskit_nature/second_q/problems/electronic_structure_problem.py:260\u001b[0m, in \u001b[0;36mElectronicStructureProblem.get_default_filter_criterion.<locals>.filter_criterion\u001b[0;34m(self, eigenstate, eigenvalue, aux_values)\u001b[0m\n\u001b[1;32m    259\u001b[0m \u001b[38;5;28;01mdef\u001b[39;00m \u001b[38;5;21mfilter_criterion\u001b[39m(\u001b[38;5;28mself\u001b[39m, eigenstate, eigenvalue, aux_values):\n\u001b[0;32m--> 260\u001b[0m     eval_num_particles \u001b[38;5;241m=\u001b[39m \u001b[43maux_values\u001b[49m\u001b[38;5;241;43m.\u001b[39;49m\u001b[43mget\u001b[49m(\u001b[38;5;124m\"\u001b[39m\u001b[38;5;124mParticleNumber\u001b[39m\u001b[38;5;124m\"\u001b[39m, \u001b[38;5;28;01mNone\u001b[39;00m)\n\u001b[1;32m    261\u001b[0m     \u001b[38;5;28;01mif\u001b[39;00m eval_num_particles \u001b[38;5;129;01mis\u001b[39;00m \u001b[38;5;28;01mNone\u001b[39;00m:\n\u001b[1;32m    262\u001b[0m         \u001b[38;5;28;01mreturn\u001b[39;00m \u001b[38;5;28;01mTrue\u001b[39;00m\n",
      "\u001b[0;31mAttributeError\u001b[0m: 'NoneType' object has no attribute 'get'"
     ]
    }
   ],
   "source": [
    "from qiskit_algorithms import NumPyEigensolver\n",
    "from qiskit_nature.second_q.algorithms import ExcitedStatesEigensolver\n",
    "\n",
    "# Setup the solver\n",
    "numpy_solver = NumPyEigensolver(k=4, filter_criterion=problem.get_default_filter_criterion())\n",
    "\n",
    "numpy_ES_solver = ExcitedStatesEigensolver(mapper, numpy_solver)\n",
    "NP_ES = numpy_ES_solver.solve(problem)\n",
    "\n",
    "print(NP_ES)\n",
    "\n"
   ]
  }
 ],
 "metadata": {
  "kernelspec": {
   "display_name": "qiskit-env",
   "language": "python",
   "name": "python3"
  },
  "language_info": {
   "codemirror_mode": {
    "name": "ipython",
    "version": 3
   },
   "file_extension": ".py",
   "mimetype": "text/x-python",
   "name": "python",
   "nbconvert_exporter": "python",
   "pygments_lexer": "ipython3",
   "version": "3.10.14"
  }
 },
 "nbformat": 4,
 "nbformat_minor": 2
}
