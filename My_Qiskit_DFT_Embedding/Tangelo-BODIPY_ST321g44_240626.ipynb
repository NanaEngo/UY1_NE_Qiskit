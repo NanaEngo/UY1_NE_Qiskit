{
 "cells": [
  {
   "cell_type": "markdown",
   "id": "82c62500",
   "metadata": {},
   "source": [
    "Pour calculer les spectres d'émission d'une molécule, vous devez  \n",
    "1. optimiser la géométrie (geometry optimize) de l'état excité ;\n",
    "2. effectuer le single point calculation. \n",
    "\n",
    "Pour le calcul de la fluorescence, vous devez\n",
    "1. optimisez l'état excité du singulet le plus bas. \n"
   ]
  },
  {
   "cell_type": "code",
   "execution_count": 1,
   "id": "cabb40b5",
   "metadata": {},
   "outputs": [],
   "source": [
    "from rdkit import Chem\n",
    "from pathlib import Path \n",
    "import rdkit"
   ]
  },
  {
   "cell_type": "code",
   "execution_count": 2,
   "id": "701b16c2",
   "metadata": {},
   "outputs": [
    {
     "data": {
      "image/png": "[encoded data removed]",
      "text/plain": [
       "<rdkit.Chem.rdchem.Mol at 0x75bff9dadaf0>"
      ]
     },
     "execution_count": 2,
     "metadata": {},
     "output_type": "execute_result"
    }
   ],
   "source": [
    "#smile='C1=CSC=N1'\n",
    "smile = '[B-]1(n2cccc2C=C3[N+]1=CC=C3)(F)F'\n",
    "smi_key='BODIPY'\n",
    "mol_rdkit = Chem.MolFromSmiles(smile)\n",
    "mol_rdkit"
   ]
  },
  {
   "cell_type": "code",
   "execution_count": 3,
   "id": "b452e4f5",
   "metadata": {},
   "outputs": [],
   "source": [
    "import py3Dmol "
   ]
  },
  {
   "cell_type": "code",
   "execution_count": 4,
   "id": "75ef0096",
   "metadata": {},
   "outputs": [],
   "source": [
    " # Verify if the \"data2402_{smi_key}\" subdirectory exist and if not, create it\n",
    "working_dir = Path(f'./data2406/{smi_key}')\n",
    "# Create the output directory if it doesn't exist\n",
    "working_dir.mkdir(parents=True, exist_ok=True)\n"
   ]
  },
  {
   "cell_type": "code",
   "execution_count": 5,
   "id": "a08d10bf",
   "metadata": {},
   "outputs": [],
   "source": [
    "\n",
    "def view3D(mol, label, fmt='mol'):\n",
    "        \"\"\"3D vizualisation of mol/xyz file with Py3DMol\n",
    "        \"\"\"\n",
    "\n",
    "        view = py3Dmol.view(width=400, height=400)       # visualiser la molécule avec une largeur de ''400'' et hauteur de ''400''\n",
    "\n",
    "        if fmt=='mol':                                   # si le format des 'mol',\n",
    "            view.addModel(Chem.MolToMolBlock(mol), fmt)     # generer les coordonnes de a molecule dans un block\n",
    "            # view.addModel(mol, fmt)\n",
    "        elif fmt=='xyz':                                      # sinon \n",
    "            view.addModel(mol, fmt)                             # generer les coordonnes en xyz\n",
    "\n",
    "        view.setStyle({'stick': {}, 'sphere': {'scale': .30}})     # définir le style de représentation de la molécule, avec des bâtons pour les liaisons et des sphères pour les atomes avec une échelle de '30'\n",
    "        view.addLabel(label, {'position': {'x': -2, 'y': -3, 'z': 0}}) # ajouter une etiquette de visualisation dont les coordonnées sont x,y,z\n",
    "\n",
    "        view.zoomTo()\n",
    "        view.show()"
   ]
  },
  {
   "cell_type": "markdown",
   "id": "9c082670",
   "metadata": {},
   "source": [
    "### Meilleure conformation"
   ]
  },
  {
   "cell_type": "code",
   "execution_count": 6,
   "id": "1ce76929",
   "metadata": {},
   "outputs": [
    {
     "data": {
      "image/png": "[encoded data removed]",
      "text/plain": [
       "<rdkit.Chem.rdchem.Mol at 0x75bff9dafd10>"
      ]
     },
     "execution_count": 6,
     "metadata": {},
     "output_type": "execute_result"
    }
   ],
   "source": [
    "from rdkit.Chem import AllChem\n",
    "\n",
    "# Add explicit Hs\n",
    "mol_rdkit = Chem.AddHs(mol_rdkit)    #   Ajouter les atomes d'hydrogene a la molécule\n",
    "\n",
    "# Generates the initial 3D conformation of the molecule\n",
    "AllChem.EmbedMolecule(mol_rdkit)\n",
    "mol_rdkit"
   ]
  },
  {
   "cell_type": "markdown",
   "id": "c5fedcd3",
   "metadata": {},
   "source": [
    "### Visualisation 3D"
   ]
  },
  {
   "cell_type": "code",
   "execution_count": 7,
   "id": "f357c927",
   "metadata": {},
   "outputs": [
    {
     "data": {
      "application/3dmoljs_load.v0": "<div id=\"3dmolviewer_1719432191462254\"  style=\"position: relative; width: 400px; height: 400px;\">\n        <p id=\"3dmolwarning_1719432191462254\" style=\"background-color:#ffcccc;color:black\">3Dmol.js failed to load for some reason.  Please check your browser console for error messages.<br></p>\n        </div>\n<script>\n\nvar loadScriptAsync = function(uri){\n  return new Promise((resolve, reject) => {\n    //this is to ignore the existence of requirejs amd\n    var savedexports, savedmodule;\n    if (typeof exports !== 'undefined') savedexports = exports;\n    else exports = {}\n    if (typeof module !== 'undefined') savedmodule = module;\n    else module = {}\n\n    var tag = document.createElement('script');\n    tag.src = uri;\n    tag.async = true;\n    tag.onload = () => {\n        exports = savedexports;\n        module = savedmodule;\n        resolve();\n    };\n  var firstScriptTag = document.getElementsByTagName('script')[0];\n  firstScriptTag.parentNode.insertBefore(tag, firstScriptTag);\n});\n};\n\nif(typeof $3Dmolpromise === 'undefined') {\n$3Dmolpromise = null;\n  $3Dmolpromise = loadScriptAsync('https://cdnjs.cloudflare.com/ajax/libs/3Dmol/2.1.0/3Dmol-min.js');\n}\n\nvar viewer_1719432191462254 = null;\nvar warn = document.getElementById(\"3dmolwarning_1719432191462254\");\nif(warn) {\n    warn.parentNode.removeChild(warn);\n}\n$3Dmolpromise.then(function() {\nviewer_1719432191462254 = $3Dmol.createViewer(document.getElementById(\"3dmolviewer_1719432191462254\"),{backgroundColor:\"white\"});\nviewer_1719432191462254.zoomTo();\n\tviewer_1719432191462254.addModel(\"\\n     RDKit          3D\\n\\n 21 23  0  0  0  0  0  0  0  0999 V2000\\n    0.0775   -1.2601    0.6622 B   0  0  0  0  0  4  0  0  0  0  0  0\\n    1.2873   -0.5121    0.1678 N   0  0  0  0  0  0  0  0  0  0  0  0\\n    2.6101   -0.8723    0.2561 C   0  0  0  0  0  0  0  0  0  0  0  0\\n    3.3765    0.1066   -0.3267 C   0  0  0  0  0  0  0  0  0  0  0  0\\n    2.4773    1.0529   -0.7613 C   0  0  0  0  0  0  0  0  0  0  0  0\\n    1.1919    0.6600   -0.4505 C   0  0  0  0  0  0  0  0  0  0  0  0\\n   -0.1101    1.3026   -0.6912 C   0  0  0  0  0  0  0  0  0  0  0  0\\n   -1.2263    0.7188   -0.2917 C   0  0  0  0  0  0  0  0  0  0  0  0\\n   -1.2109   -0.5171    0.3668 N   0  0  0  0  0  4  0  0  0  0  0  0\\n   -2.4657   -0.8715    0.6547 C   0  0  0  0  0  0  0  0  0  0  0  0\\n   -3.3672    0.1576    0.1762 C   0  0  0  0  0  0  0  0  0  0  0  0\\n   -2.6494    1.1092   -0.3882 C   0  0  0  0  0  0  0  0  0  0  0  0\\n    0.1677   -1.3842    2.1273 F   0  0  0  0  0  0  0  0  0  0  0  0\\n   -0.0089   -2.6021    0.0717 F   0  0  0  0  0  0  0  0  0  0  0  0\\n    2.9289   -1.7878    0.7198 H   0  0  0  0  0  0  0  0  0  0  0  0\\n    4.4599    0.1073   -0.4122 H   0  0  0  0  0  0  0  0  0  0  0  0\\n    2.7468    1.9741   -1.2742 H   0  0  0  0  0  0  0  0  0  0  0  0\\n   -0.1600    2.2578   -1.1971 H   0  0  0  0  0  0  0  0  0  0  0  0\\n   -2.7124   -1.7989    1.1692 H   0  0  0  0  0  0  0  0  0  0  0  0\\n   -4.4478    0.1345    0.2735 H   0  0  0  0  0  0  0  0  0  0  0  0\\n   -2.9651    2.0248   -0.8522 H   0  0  0  0  0  0  0  0  0  0  0  0\\n  1  2  1  0\\n  2  3  1  0\\n  3  4  2  0\\n  4  5  1  0\\n  5  6  2  0\\n  6  7  1  0\\n  7  8  2  0\\n  8  9  1  0\\n  9 10  2  0\\n 10 11  1  0\\n 11 12  2  0\\n  1 13  1  0\\n  1 14  1  0\\n  9  1  1  0\\n  6  2  1  0\\n 12  8  1  0\\n  3 15  1  0\\n  4 16  1  0\\n  5 17  1  0\\n  7 18  1  0\\n 10 19  1  0\\n 11 20  1  0\\n 12 21  1  0\\nM  CHG  2   1  -1   9   1\\nM  END\\n\",\"mol\");\n\tviewer_1719432191462254.setStyle({\"stick\": {}, \"sphere\": {\"scale\": 0.3}});\n\tviewer_1719432191462254.addLabel(\"BODIPY RDKit Molecule\",{\"position\": {\"x\": -2, \"y\": -3, \"z\": 0}});\n\tviewer_1719432191462254.zoomTo();\nviewer_1719432191462254.render();\n});\n</script>",
      "text/html": [
       "<div id=\"3dmolviewer_1719432191462254\"  style=\"position: relative; width: 400px; height: 400px;\">\n",
       "        <p id=\"3dmolwarning_1719432191462254\" style=\"background-color:#ffcccc;color:black\">3Dmol.js failed to load for some reason.  Please check your browser console for error messages.<br></p>\n",
       "        </div>\n",
       "<script>\n",
       "\n",
       "var loadScriptAsync = function(uri){\n",
       "  return new Promise((resolve, reject) => {\n",
       "    //this is to ignore the existence of requirejs amd\n",
       "    var savedexports, savedmodule;\n",
       "    if (typeof exports !== 'undefined') savedexports = exports;\n",
       "    else exports = {}\n",
       "    if (typeof module !== 'undefined') savedmodule = module;\n",
       "    else module = {}\n",
       "\n",
       "    var tag = document.createElement('script');\n",
       "    tag.src = uri;\n",
       "    tag.async = true;\n",
       "    tag.onload = () => {\n",
       "        exports = savedexports;\n",
       "        module = savedmodule;\n",
       "        resolve();\n",
       "    };\n",
       "  var firstScriptTag = document.getElementsByTagName('script')[0];\n",
       "  firstScriptTag.parentNode.insertBefore(tag, firstScriptTag);\n",
       "});\n",
       "};\n",
       "\n",
       "if(typeof $3Dmolpromise === 'undefined') {\n",
       "$3Dmolpromise = null;\n",
       "  $3Dmolpromise = loadScriptAsync('https://cdnjs.cloudflare.com/ajax/libs/3Dmol/2.1.0/3Dmol-min.js');\n",
       "}\n",
       "\n",
       "var viewer_1719432191462254 = null;\n",
       "var warn = document.getElementById(\"3dmolwarning_1719432191462254\");\n",
       "if(warn) {\n",
       "    warn.parentNode.removeChild(warn);\n",
       "}\n",
       "$3Dmolpromise.then(function() {\n",
       "viewer_1719432191462254 = $3Dmol.createViewer(document.getElementById(\"3dmolviewer_1719432191462254\"),{backgroundColor:\"white\"});\n",
       "viewer_1719432191462254.zoomTo();\n",
       "\tviewer_1719432191462254.addModel(\"\\n     RDKit          3D\\n\\n 21 23  0  0  0  0  0  0  0  0999 V2000\\n    0.0775   -1.2601    0.6622 B   0  0  0  0  0  4  0  0  0  0  0  0\\n    1.2873   -0.5121    0.1678 N   0  0  0  0  0  0  0  0  0  0  0  0\\n    2.6101   -0.8723    0.2561 C   0  0  0  0  0  0  0  0  0  0  0  0\\n    3.3765    0.1066   -0.3267 C   0  0  0  0  0  0  0  0  0  0  0  0\\n    2.4773    1.0529   -0.7613 C   0  0  0  0  0  0  0  0  0  0  0  0\\n    1.1919    0.6600   -0.4505 C   0  0  0  0  0  0  0  0  0  0  0  0\\n   -0.1101    1.3026   -0.6912 C   0  0  0  0  0  0  0  0  0  0  0  0\\n   -1.2263    0.7188   -0.2917 C   0  0  0  0  0  0  0  0  0  0  0  0\\n   -1.2109   -0.5171    0.3668 N   0  0  0  0  0  4  0  0  0  0  0  0\\n   -2.4657   -0.8715    0.6547 C   0  0  0  0  0  0  0  0  0  0  0  0\\n   -3.3672    0.1576    0.1762 C   0  0  0  0  0  0  0  0  0  0  0  0\\n   -2.6494    1.1092   -0.3882 C   0  0  0  0  0  0  0  0  0  0  0  0\\n    0.1677   -1.3842    2.1273 F   0  0  0  0  0  0  0  0  0  0  0  0\\n   -0.0089   -2.6021    0.0717 F   0  0  0  0  0  0  0  0  0  0  0  0\\n    2.9289   -1.7878    0.7198 H   0  0  0  0  0  0  0  0  0  0  0  0\\n    4.4599    0.1073   -0.4122 H   0  0  0  0  0  0  0  0  0  0  0  0\\n    2.7468    1.9741   -1.2742 H   0  0  0  0  0  0  0  0  0  0  0  0\\n   -0.1600    2.2578   -1.1971 H   0  0  0  0  0  0  0  0  0  0  0  0\\n   -2.7124   -1.7989    1.1692 H   0  0  0  0  0  0  0  0  0  0  0  0\\n   -4.4478    0.1345    0.2735 H   0  0  0  0  0  0  0  0  0  0  0  0\\n   -2.9651    2.0248   -0.8522 H   0  0  0  0  0  0  0  0  0  0  0  0\\n  1  2  1  0\\n  2  3  1  0\\n  3  4  2  0\\n  4  5  1  0\\n  5  6  2  0\\n  6  7  1  0\\n  7  8  2  0\\n  8  9  1  0\\n  9 10  2  0\\n 10 11  1  0\\n 11 12  2  0\\n  1 13  1  0\\n  1 14  1  0\\n  9  1  1  0\\n  6  2  1  0\\n 12  8  1  0\\n  3 15  1  0\\n  4 16  1  0\\n  5 17  1  0\\n  7 18  1  0\\n 10 19  1  0\\n 11 20  1  0\\n 12 21  1  0\\nM  CHG  2   1  -1   9   1\\nM  END\\n\",\"mol\");\n",
       "\tviewer_1719432191462254.setStyle({\"stick\": {}, \"sphere\": {\"scale\": 0.3}});\n",
       "\tviewer_1719432191462254.addLabel(\"BODIPY RDKit Molecule\",{\"position\": {\"x\": -2, \"y\": -3, \"z\": 0}});\n",
       "\tviewer_1719432191462254.zoomTo();\n",
       "viewer_1719432191462254.render();\n",
       "});\n",
       "</script>"
      ]
     },
     "metadata": {},
     "output_type": "display_data"
    }
   ],
   "source": [
    "# 3D visualization\n",
    "mol_rdkit0 = mol_rdkit                    #crée une nouvelle variable mol_rdkit0 qui est une copie de mol_rdkit.\n",
    "                                           #Cette copie est nécessaire pour la visualisation 3D, car la fonction view3D() modifie l'objet molécule passé en argument.\n",
    "\n",
    "view3D(mol_rdkit0, f'{smi_key} RDKit Molecule')\n"
   ]
  },
  {
   "cell_type": "code",
   "execution_count": 8,
   "id": "17e2962b",
   "metadata": {},
   "outputs": [
    {
     "name": "stdout",
     "output_type": "stream",
     "text": [
      "21\n",
      "\n",
      "B      0.077540   -1.260063    0.662168\n",
      "N      1.287298   -0.512080    0.167762\n",
      "C      2.610063   -0.872251    0.256071\n",
      "C      3.376476    0.106602   -0.326730\n",
      "C      2.477341    1.052924   -0.761252\n",
      "C      1.191909    0.660042   -0.450475\n",
      "C     -0.110072    1.302633   -0.691166\n",
      "C     -1.226323    0.718760   -0.291707\n",
      "N     -1.210933   -0.517100    0.366848\n",
      "C     -2.465701   -0.871538    0.654737\n",
      "C     -3.367151    0.157580    0.176219\n",
      "C     -2.649449    1.109206   -0.388242\n",
      "F      0.167736   -1.384240    2.127318\n",
      "F     -0.008884   -2.602113    0.071666\n",
      "H      2.928855   -1.787844    0.719808\n",
      "H      4.459867    0.107265   -0.412239\n",
      "H      2.746806    1.974054   -1.274174\n",
      "H     -0.159997    2.257776   -1.197146\n",
      "H     -2.712431   -1.798886    1.169208\n",
      "H     -4.447832    0.134476    0.273536\n",
      "H     -2.965119    2.024799   -0.852211\n",
      "\n"
     ]
    }
   ],
   "source": [
    "# Convert RDKit molecule to XYZ format \n",
    "mol_xyz0 = Chem.MolToXYZBlock(mol_rdkit)    # Convertir  la molecule format XYZ \n",
    "print(mol_xyz0)"
   ]
  },
  {
   "cell_type": "markdown",
   "id": "a9479a28",
   "metadata": {},
   "source": [
    "### Préoptimisation avec RDKIT \n",
    "#### Visualisation 3D"
   ]
  },
  {
   "cell_type": "code",
   "execution_count": 9,
   "id": "62b80942",
   "metadata": {},
   "outputs": [
    {
     "data": {
      "application/3dmoljs_load.v0": "<div id=\"3dmolviewer_171943219148165\"  style=\"position: relative; width: 400px; height: 400px;\">\n        <p id=\"3dmolwarning_171943219148165\" style=\"background-color:#ffcccc;color:black\">3Dmol.js failed to load for some reason.  Please check your browser console for error messages.<br></p>\n        </div>\n<script>\n\nvar loadScriptAsync = function(uri){\n  return new Promise((resolve, reject) => {\n    //this is to ignore the existence of requirejs amd\n    var savedexports, savedmodule;\n    if (typeof exports !== 'undefined') savedexports = exports;\n    else exports = {}\n    if (typeof module !== 'undefined') savedmodule = module;\n    else module = {}\n\n    var tag = document.createElement('script');\n    tag.src = uri;\n    tag.async = true;\n    tag.onload = () => {\n        exports = savedexports;\n        module = savedmodule;\n        resolve();\n    };\n  var firstScriptTag = document.getElementsByTagName('script')[0];\n  firstScriptTag.parentNode.insertBefore(tag, firstScriptTag);\n});\n};\n\nif(typeof $3Dmolpromise === 'undefined') {\n$3Dmolpromise = null;\n  $3Dmolpromise = loadScriptAsync('https://cdnjs.cloudflare.com/ajax/libs/3Dmol/2.1.0/3Dmol-min.js');\n}\n\nvar viewer_171943219148165 = null;\nvar warn = document.getElementById(\"3dmolwarning_171943219148165\");\nif(warn) {\n    warn.parentNode.removeChild(warn);\n}\n$3Dmolpromise.then(function() {\nviewer_171943219148165 = $3Dmol.createViewer(document.getElementById(\"3dmolviewer_171943219148165\"),{backgroundColor:\"white\"});\nviewer_171943219148165.zoomTo();\n\tviewer_171943219148165.addModel(\"\\n     RDKit          3D\\n\\n 21 23  0  0  0  0  0  0  0  0999 V2000\\n    0.0496   -1.4247   -0.0058 B   0  0  0  0  0  4  0  0  0  0  0  0\\n    1.2798   -0.5563   -0.0048 N   0  0  0  0  0  0  0  0  0  0  0  0\\n    2.5983   -0.9420   -0.0055 C   0  0  0  0  0  0  0  0  0  0  0  0\\n    3.3891    0.1804   -0.0041 C   0  0  0  0  0  0  0  0  0  0  0  0\\n    2.5087    1.2376   -0.0026 C   0  0  0  0  0  0  0  0  0  0  0  0\\n    1.2106    0.7705   -0.0030 C   0  0  0  0  0  0  0  0  0  0  0  0\\n   -0.0807    1.4765   -0.0019 C   0  0  0  0  0  0  0  0  0  0  0  0\\n   -1.2134    0.7958   -0.0026 C   0  0  0  0  0  0  0  0  0  0  0  0\\n   -1.2259   -0.6046   -0.0045 N   0  0  0  0  0  4  0  0  0  0  0  0\\n   -2.4923   -1.0277   -0.0048 C   0  0  0  0  0  0  0  0  0  0  0  0\\n   -3.3732    0.1232   -0.0032 C   0  0  0  0  0  0  0  0  0  0  0  0\\n   -2.6319    1.2140   -0.0019 C   0  0  0  0  0  0  0  0  0  0  0  0\\n    0.0385   -2.2258    1.2305 F   0  0  0  0  0  0  0  0  0  0  0  0\\n    0.0250   -2.3287   -1.1631 F   0  0  0  0  0  0  0  0  0  0  0  0\\n    2.8974   -1.9743   -0.0069 H   0  0  0  0  0  0  0  0  0  0  0  0\\n    4.4757    0.1996   -0.0042 H   0  0  0  0  0  0  0  0  0  0  0  0\\n    2.7998    2.2862   -0.0012 H   0  0  0  0  0  0  0  0  0  0  0  0\\n   -0.1092    2.5582   -0.0005 H   0  0  0  0  0  0  0  0  0  0  0  0\\n   -2.7607   -2.0830   -0.0062 H   0  0  0  0  0  0  0  0  0  0  0  0\\n   -4.4576    0.0786   -0.0031 H   0  0  0  0  0  0  0  0  0  0  0  0\\n   -2.9278    2.2463   -0.0005 H   0  0  0  0  0  0  0  0  0  0  0  0\\n  1  2  1  0\\n  2  3  1  0\\n  3  4  2  0\\n  4  5  1  0\\n  5  6  2  0\\n  6  7  1  0\\n  7  8  2  0\\n  8  9  1  0\\n  9 10  2  0\\n 10 11  1  0\\n 11 12  2  0\\n  1 13  1  0\\n  1 14  1  0\\n  9  1  1  0\\n  6  2  1  0\\n 12  8  1  0\\n  3 15  1  0\\n  4 16  1  0\\n  5 17  1  0\\n  7 18  1  0\\n 10 19  1  0\\n 11 20  1  0\\n 12 21  1  0\\nM  CHG  2   1  -1   9   1\\nM  END\\n\",\"mol\");\n\tviewer_171943219148165.setStyle({\"stick\": {}, \"sphere\": {\"scale\": 0.3}});\n\tviewer_171943219148165.addLabel(\"BODIPY RDKit Molecule MMFF94\",{\"position\": {\"x\": -2, \"y\": -3, \"z\": 0}});\n\tviewer_171943219148165.zoomTo();\nviewer_171943219148165.render();\n});\n</script>",
      "text/html": [
       "<div id=\"3dmolviewer_171943219148165\"  style=\"position: relative; width: 400px; height: 400px;\">\n",
       "        <p id=\"3dmolwarning_171943219148165\" style=\"background-color:#ffcccc;color:black\">3Dmol.js failed to load for some reason.  Please check your browser console for error messages.<br></p>\n",
       "        </div>\n",
       "<script>\n",
       "\n",
       "var loadScriptAsync = function(uri){\n",
       "  return new Promise((resolve, reject) => {\n",
       "    //this is to ignore the existence of requirejs amd\n",
       "    var savedexports, savedmodule;\n",
       "    if (typeof exports !== 'undefined') savedexports = exports;\n",
       "    else exports = {}\n",
       "    if (typeof module !== 'undefined') savedmodule = module;\n",
       "    else module = {}\n",
       "\n",
       "    var tag = document.createElement('script');\n",
       "    tag.src = uri;\n",
       "    tag.async = true;\n",
       "    tag.onload = () => {\n",
       "        exports = savedexports;\n",
       "        module = savedmodule;\n",
       "        resolve();\n",
       "    };\n",
       "  var firstScriptTag = document.getElementsByTagName('script')[0];\n",
       "  firstScriptTag.parentNode.insertBefore(tag, firstScriptTag);\n",
       "});\n",
       "};\n",
       "\n",
       "if(typeof $3Dmolpromise === 'undefined') {\n",
       "$3Dmolpromise = null;\n",
       "  $3Dmolpromise = loadScriptAsync('https://cdnjs.cloudflare.com/ajax/libs/3Dmol/2.1.0/3Dmol-min.js');\n",
       "}\n",
       "\n",
       "var viewer_171943219148165 = null;\n",
       "var warn = document.getElementById(\"3dmolwarning_171943219148165\");\n",
       "if(warn) {\n",
       "    warn.parentNode.removeChild(warn);\n",
       "}\n",
       "$3Dmolpromise.then(function() {\n",
       "viewer_171943219148165 = $3Dmol.createViewer(document.getElementById(\"3dmolviewer_171943219148165\"),{backgroundColor:\"white\"});\n",
       "viewer_171943219148165.zoomTo();\n",
       "\tviewer_171943219148165.addModel(\"\\n     RDKit          3D\\n\\n 21 23  0  0  0  0  0  0  0  0999 V2000\\n    0.0496   -1.4247   -0.0058 B   0  0  0  0  0  4  0  0  0  0  0  0\\n    1.2798   -0.5563   -0.0048 N   0  0  0  0  0  0  0  0  0  0  0  0\\n    2.5983   -0.9420   -0.0055 C   0  0  0  0  0  0  0  0  0  0  0  0\\n    3.3891    0.1804   -0.0041 C   0  0  0  0  0  0  0  0  0  0  0  0\\n    2.5087    1.2376   -0.0026 C   0  0  0  0  0  0  0  0  0  0  0  0\\n    1.2106    0.7705   -0.0030 C   0  0  0  0  0  0  0  0  0  0  0  0\\n   -0.0807    1.4765   -0.0019 C   0  0  0  0  0  0  0  0  0  0  0  0\\n   -1.2134    0.7958   -0.0026 C   0  0  0  0  0  0  0  0  0  0  0  0\\n   -1.2259   -0.6046   -0.0045 N   0  0  0  0  0  4  0  0  0  0  0  0\\n   -2.4923   -1.0277   -0.0048 C   0  0  0  0  0  0  0  0  0  0  0  0\\n   -3.3732    0.1232   -0.0032 C   0  0  0  0  0  0  0  0  0  0  0  0\\n   -2.6319    1.2140   -0.0019 C   0  0  0  0  0  0  0  0  0  0  0  0\\n    0.0385   -2.2258    1.2305 F   0  0  0  0  0  0  0  0  0  0  0  0\\n    0.0250   -2.3287   -1.1631 F   0  0  0  0  0  0  0  0  0  0  0  0\\n    2.8974   -1.9743   -0.0069 H   0  0  0  0  0  0  0  0  0  0  0  0\\n    4.4757    0.1996   -0.0042 H   0  0  0  0  0  0  0  0  0  0  0  0\\n    2.7998    2.2862   -0.0012 H   0  0  0  0  0  0  0  0  0  0  0  0\\n   -0.1092    2.5582   -0.0005 H   0  0  0  0  0  0  0  0  0  0  0  0\\n   -2.7607   -2.0830   -0.0062 H   0  0  0  0  0  0  0  0  0  0  0  0\\n   -4.4576    0.0786   -0.0031 H   0  0  0  0  0  0  0  0  0  0  0  0\\n   -2.9278    2.2463   -0.0005 H   0  0  0  0  0  0  0  0  0  0  0  0\\n  1  2  1  0\\n  2  3  1  0\\n  3  4  2  0\\n  4  5  1  0\\n  5  6  2  0\\n  6  7  1  0\\n  7  8  2  0\\n  8  9  1  0\\n  9 10  2  0\\n 10 11  1  0\\n 11 12  2  0\\n  1 13  1  0\\n  1 14  1  0\\n  9  1  1  0\\n  6  2  1  0\\n 12  8  1  0\\n  3 15  1  0\\n  4 16  1  0\\n  5 17  1  0\\n  7 18  1  0\\n 10 19  1  0\\n 11 20  1  0\\n 12 21  1  0\\nM  CHG  2   1  -1   9   1\\nM  END\\n\",\"mol\");\n",
       "\tviewer_171943219148165.setStyle({\"stick\": {}, \"sphere\": {\"scale\": 0.3}});\n",
       "\tviewer_171943219148165.addLabel(\"BODIPY RDKit Molecule MMFF94\",{\"position\": {\"x\": -2, \"y\": -3, \"z\": 0}});\n",
       "\tviewer_171943219148165.zoomTo();\n",
       "viewer_171943219148165.render();\n",
       "});\n",
       "</script>"
      ]
     },
     "metadata": {},
     "output_type": "display_data"
    }
   ],
   "source": [
    "from rdkit.Chem import AllChem\n",
    "\n",
    "# Optimizes the 3D conformation of the molecule using MMFF - Merck Molecular Force Field\n",
    "AllChem.MMFFOptimizeMolecule(mol_rdkit, maxIters=200, mmffVariant=\"MMFF94s\")   # utiliser 200 itérations et la variante MMFF94s\n",
    "\n",
    "#Canonicalize the orientation of the conformation\n",
    "Chem.rdMolTransforms.CanonicalizeMol(mol_rdkit, normalizeCovar=True, ignoreHs=False)\n",
    "\n",
    "# 3D visualization\n",
    "mol_rdkit1 = mol_rdkit\n",
    "view3D(mol_rdkit1, f'{smi_key} RDKit Molecule MMFF94')\n"
   ]
  },
  {
   "cell_type": "code",
   "execution_count": 10,
   "id": "8cf02861",
   "metadata": {},
   "outputs": [],
   "source": [
    "# Setting various paths for files\n",
    "path_xtb_xyz = working_dir / f'{smi_key}_opt.xyz'\n",
    "path_xtb_log = working_dir / f'{smi_key}_opt.log'\n",
    "path_rdkit_xyz = working_dir / f'{smi_key}_rdkit.xyz'\n",
    "\n",
    "# Convert RDKit molecule to XYZ format \n",
    "mol_xyz = Chem.MolToXYZBlock(mol_rdkit)    # Convertir  la molecule format XYZ \n",
    "with open(\"mol_rdkit.xyz\", \"w\") as f:\n",
    "    f.write(mol_xyz)"
   ]
  },
  {
   "cell_type": "markdown",
   "id": "f5e4cf1c",
   "metadata": {},
   "source": [
    "### Optimisation avec xTB et CREST"
   ]
  },
  {
   "cell_type": "code",
   "execution_count": 11,
   "id": "f6956ce6",
   "metadata": {},
   "outputs": [
    {
     "name": "stderr",
     "output_type": "stream",
     "text": [
      "normal termination of xtb\n",
      "Note: The following floating-point exceptions are signalling: IEEE_UNDERFLOW_FLAG IEEE_DENORMAL\n"
     ]
    },
    {
     "name": "stdout",
     "output_type": "stream",
     "text": [
      "\n",
      "       ==============================================\n",
      "       |                                            |\n",
      "       |                 C R E S T                  |\n",
      "       |                                            |\n",
      "       |  Conformer-Rotamer Ensemble Sampling Tool  |\n",
      "       |          based on the GFN methods          |\n",
      "       |             P.Pracht, S.Grimme             |\n",
      "       |          Universitaet Bonn, MCTC           |\n",
      "       ==============================================\n",
      "       Version 2.12,   Thu 19. Mai 16:32:32 CEST 2022\n",
      "  Using the xTB program. Compatible with xTB version 6.4.0\n",
      "\n",
      "   Cite work conducted with this code as\n",
      "\n",
      "   • P.Pracht, F.Bohle, S.Grimme, PCCP, 2020, 22, 7169-7192.\n",
      "   • S.Grimme, JCTC, 2019, 15, 2847-2862.\n",
      "\n",
      "   and for works involving QCG as\n",
      "\n",
      "   • S.Spicher, C.Plett, P.Pracht, A.Hansen, S.Grimme,\n",
      "     JCTC, 2022, 18 (5), 3174-3189.\n",
      "\n",
      "   with help from:\n",
      "   C.Bannwarth, F.Bohle, S.Ehlert, S.Grimme,\n",
      "   C.Plett, P.Pracht, S.Spicher\n",
      "\n",
      "   This program is distributed in the hope that it will be useful,\n",
      "   but WITHOUT ANY WARRANTY; without even the implied warranty of\n",
      "   MERCHANTABILITY or FITNESS FOR A PARTICULAR PURPOSE.\n",
      "\n",
      " Command line input:\n",
      " > crest xtbopt.xyz -gff -mquick --noreftopo\n",
      "\n",
      "  -gff : Use of GFN-FF requested.\n",
      "  -mquick  : very crude quick-mode (no NORMMD, no GC, crude opt.)\n",
      "\n",
      " -------------------------\n",
      " xTB Geometry Optimization\n",
      " -------------------------\n",
      " Geometry successfully optimized.\n",
      "\n",
      "------------------------------------------------\n",
      "Generating MTD length from a flexibility measure\n",
      "------------------------------------------------\n",
      " Calculating WBOs... done.\n",
      " Calculating NCI flexibility... done.\n",
      "     covalent flexibility measure :   0.049\n",
      " non-covalent flexibility measure :   0.766\n",
      " flexibility measure :   0.109\n",
      " t(MTD) / ps    :     2.5\n",
      " Σ(t(MTD)) / ps :    15.0 (6 MTDs)\n",
      "\n",
      "-------------------------------------\n",
      "Starting a trial MTD to test settings\n",
      "-------------------------------------\n",
      " Estimated runtime for one MTD (2.5 ps) on a single thread: 17 sec\n",
      " Estimated runtime for a batch of 6 MTDs on 4 threads: 34 sec\n",
      "\n",
      " list of Vbias parameters applied:\n",
      "$metadyn    0.00200   1.000\n",
      "$metadyn    0.00100   1.000\n",
      "$metadyn    0.00200   0.500\n",
      "$metadyn    0.00100   0.500\n",
      "$metadyn    0.00200   0.250\n",
      "$metadyn    0.00100   0.250\n",
      "\n",
      "*******************************************************************************************\n",
      "**                        N E W    I T E R A T I O N    C Y C L E                        **\n",
      "*******************************************************************************************\n",
      "\n",
      "========================================\n",
      "            MTD Simulations \n",
      "========================================\n",
      "\n",
      "     ========================================\n",
      "     |         Meta-MD (MTD) Sampling       |\n",
      "     ========================================\n",
      "\n",
      "Starting Meta-MD   1 with the settings:\n",
      "     MD time /ps        :     2.5\n",
      "     dt /fs             :     1.5\n",
      "     dumpstep(trj) /fs  :     100\n",
      "     dumpstep(Vbias)/ps :     1.0\n",
      "     Vbias factor k /Eh :  0.0420\n",
      "     Vbias exp α /bohr⁻²:    1.00\n",
      "Starting Meta-MD   2 with the settings:\n",
      "     MD time /ps        :     2.5\n",
      "     dt /fs             :     1.5\n",
      "     dumpstep(trj) /fs  :     100\n",
      "     dumpstep(Vbias)/ps :     1.0\n",
      "     Vbias factor k /Eh :  0.0210\n",
      "     Vbias exp α /bohr⁻²:    1.00\n",
      "Starting Meta-MD   6 with the settings:\n",
      "     MD time /ps        :     2.5\n",
      "     dt /fs             :     1.5\n",
      "     dumpstep(trj) /fs  :     100\n",
      "     dumpstep(Vbias)/ps :     1.0\n",
      "     Vbias factor k /Eh :  0.0210\n",
      "     Vbias exp α /bohr⁻²:    0.25\n",
      "Starting Meta-MD   3 with the settings:\n",
      "     MD time /ps        :     2.5\n",
      "     dt /fs             :     1.5\n",
      "     dumpstep(trj) /fs  :     100\n",
      "     dumpstep(Vbias)/ps :     1.0\n",
      "     Vbias factor k /Eh :  0.0420\n",
      "     Vbias exp α /bohr⁻²:    0.50\n",
      "*Meta-MTD 2 finished*\n",
      "Starting Meta-MD   4 with the settings:\n",
      "     MD time /ps        :     2.5\n",
      "     dt /fs             :     1.5\n",
      "     dumpstep(trj) /fs  :     100\n",
      "     dumpstep(Vbias)/ps :     1.0\n",
      "     Vbias factor k /Eh :  0.0210\n",
      "     Vbias exp α /bohr⁻²:    0.50\n",
      "*Meta-MTD 3 finished*\n",
      "Starting Meta-MD   5 with the settings:\n",
      "     MD time /ps        :     2.5\n",
      "     dt /fs             :     1.5\n",
      "     dumpstep(trj) /fs  :     100\n",
      "     dumpstep(Vbias)/ps :     1.0\n",
      "     Vbias factor k /Eh :  0.0420\n",
      "     Vbias exp α /bohr⁻²:    0.25\n",
      "*Meta-MTD 6 finished*\n",
      "*Meta-MTD 1 finished*\n",
      "*Meta-MTD 4 finished*\n",
      "*Meta-MTD 5 finished*\n",
      "\n",
      "-----------------------\n",
      "Multilevel Optimization\n",
      "-----------------------\n",
      "\n",
      " -------------------------\n",
      " 1. crude pre-optimization\n",
      " -------------------------\n",
      " Optimizing all 150 structures from file \"crest_rotamers_0.xyz\" ...\n",
      " 1 2 3 4 5 6 7 8 9 10 11 12 13 14 15 16 17 18 19 20 21 22 23 24 25 26 27 28 29 30 31 32 33 34 35 36 37 38 39 40 41 42 43 44 45 46 47 48 49 50 51 52 53 54 55 56 57 58 59 60 61 62 63 64 65 66 67 68 69 70 71 72 73 74 75 76 77 78 79 80 81 82 83 84 85 86 87 88 89 90 91 92 93 94 95 96 97 98 99 100 101 102 103 104 105 106 107 108 109 110 111 112 113 114 115 116 117 118 119 120 121 122 123 124 125 126 127 128 129 130 131 132 133 134 135 136 137 138 139 140 141 142 143 144 145 146 147 148 149 150\n",
      " done.\n",
      " running RMSDs...\n",
      " done.\n",
      " E lowest :    -4.20715\n",
      " 5 structures remain within     5.00 kcal/mol window\n",
      " This is less than 5% of the initial 150 structures.\n",
      " Increasing energy window to include more...\n",
      " running RMSDs...\n",
      " done.\n",
      " E lowest :    -4.20715\n",
      " 5 structures remain within     7.50 kcal/mol window\n",
      "\n",
      "========================================\n",
      "           MTD Simulations done         \n",
      "========================================\n",
      " Collecting ensmbles.\n",
      " running RMSDs...\n",
      " done.\n",
      " E lowest :    -4.20715\n",
      " 5 structures remain within     2.50 kcal/mol window\n",
      "\n",
      "\n",
      "\n",
      "   ================================================\n",
      "   |           Final Geometry Optimization        |\n",
      "   ================================================\n",
      " --------------------------------------------\n",
      " Ensemble optimization with normal thresholds\n",
      " --------------------------------------------\n",
      " Optimizing all 5 structures from file \"crest_rotamers_1.xyz\" ...\n",
      " 1 2 3 4 5\n",
      " done.\n",
      " running RMSDs...\n",
      " done.\n",
      " E lowest :    -4.20733\n",
      " 1 structures remain within     2.50 kcal/mol window\n",
      "\n",
      " input  file name : crest_rotamers_2.xyz\n",
      " output file name : crest_rotamers_3.xyz\n",
      " number of atoms                :   21\n",
      " number of points on xyz files  :   5\n",
      " RMSD threshold                 :   0.1250\n",
      " Bconst threshold               :   0.0100\n",
      " population threshold           :   0.0500\n",
      " conformer energy window  /kcal :   2.5000\n",
      " # fragment in coord            :     1\n",
      " # bonds in reference structure :    23\n",
      "   => # of C=C bonds :     1\n",
      " number of reliable points      :     5\n",
      " reference state Etot :  -4.2073273599999998\n",
      " number of doubles removed by rot/RMSD         :           4\n",
      " total number unique points considered further :           1\n",
      "       Erel/kcal        Etot weight/tot  conformer     set   degen     origin\n",
      "       1   0.000    -4.20733    1.00000    1.00000       1       1     mtd1\n",
      "T /K                                  :   298.15\n",
      "E lowest                              :    -4.20733\n",
      "ensemble average energy (kcal)        :    0.000\n",
      "ensemble entropy (J/mol K, cal/mol K) :   -0.000   -0.000\n",
      "ensemble free energy (kcal/mol)       :    0.000\n",
      "population of lowest in %             :  100.000\n",
      " number of unique conformers for further calc            1\n",
      " list of relative energies saved as \"crest.energies\"\n",
      "\n",
      " -----------------\n",
      " Wall Time Summary\n",
      " -----------------\n",
      "             test MD wall time :         0h : 0m : 0s\n",
      "                 MTD wall time :         0h : 0m : 0s\n",
      "      multilevel OPT wall time :         0h : 0m : 2s\n",
      "--------------------\n",
      "Overall wall time  : 0h : 0m : 3s\n",
      "\n",
      " CREST terminated normally.\n"
     ]
    },
    {
     "name": "stderr",
     "output_type": "stream",
     "text": [
      "normal termination of xtb\n",
      "Note: The following floating-point exceptions are signalling: IEEE_UNDERFLOW_FLAG IEEE_DENORMAL\n"
     ]
    }
   ],
   "source": [
    "%%bash\n",
    "# Pré-optimisation avec xTB\n",
    "xtb mol_rdkit.xyz --gfn 2 --opt vtight --parallel 2 > xtb1.out\n",
    "\n",
    "# Best conformation search with CREST\n",
    "crest xtbopt.xyz -gff -mquick --noreftopo\n",
    "\n",
    "# xTB geometry optimization of the crest best conformation\n",
    "xtb crest_best.xyz --gfn 2 --opt vtight --parallel 2 > xtb2.out"
   ]
  },
  {
   "cell_type": "code",
   "execution_count": 12,
   "id": "d270b8be",
   "metadata": {},
   "outputs": [
    {
     "data": {
      "text/plain": [
       "CompletedProcess(args=['rm', 'bondlengths', 'charges', 'coord', 'coord.original', 'cregen_0.tmp', 'cregen_1.tmp', 'xtb1.out', 'cre_members', 'crest_best.xyz', 'crest_conformers.xyz', 'crest.energies', 'crest_rotamers.xyz', 'gfnff_charges', 'gfnff_topo', '.history.xyz', 'struc.xyz', 'wbo', 'xtbopt.xyz', 'xtbopt.log', '.xtboptok', 'xtbrestart', 'xtbtopo.mol', 'xtblast.xyz', 'gfnff_adjacency'], returncode=1)"
      ]
     },
     "execution_count": 12,
     "metadata": {},
     "output_type": "execute_result"
    }
   ],
   "source": [
    "import subprocess as sp\n",
    "\n",
    "# Store various files \n",
    "sp.run(['cp', 'xtbopt.xyz', path_xtb_xyz], stdout=sp.DEVNULL, stderr=sp.DEVNULL)\n",
    "sp.run(['mv', 'xtb2.out', path_xtb_log], stdout=sp.DEVNULL, stderr=sp.DEVNULL)\n",
    "sp.run(['mv', 'mol_rdkit.xyz', path_rdkit_xyz], stdout=sp.DEVNULL, stderr=sp.DEVNULL)\n",
    "\n",
    "# Deleted various TB files before the next optimization calculations\n",
    "sp.run(['rm', 'bondlengths', 'charges', 'coord', 'coord.original', 'cregen_0.tmp', 'cregen_1.tmp', 'xtb1.out',\n",
    "        'cre_members', 'crest_best.xyz', 'crest_conformers.xyz', 'crest.energies', 'crest_rotamers.xyz', \n",
    "        'gfnff_charges', 'gfnff_topo', '.history.xyz', 'struc.xyz', 'wbo','xtbopt.xyz', 'xtbopt.log', '.xtboptok', \n",
    "        'xtbrestart', 'xtbtopo.mol', 'xtblast.xyz', 'gfnff_adjacency'], stdout=sp.DEVNULL, stderr=sp.DEVNULL)"
   ]
  },
  {
   "cell_type": "code",
   "execution_count": 13,
   "id": "11596b78",
   "metadata": {},
   "outputs": [
    {
     "data": {
      "text/plain": [
       "0.05824613636874118"
      ]
     },
     "execution_count": 13,
     "metadata": {},
     "output_type": "execute_result"
    }
   ],
   "source": [
    "from rdkit.Chem import AllChem\n",
    "\n",
    "# Calculate the RMSD to evaluate the optimally (minimum RMSD) alignment of mol_rdkit1  with mol_xtb\n",
    "mol1 = Chem.MolFromXYZFile(f'{path_rdkit_xyz}')\n",
    "mol2 = Chem.MolFromXYZFile(f'{path_xtb_xyz}')\n",
    "AllChem.AlignMol(mol1, mol2)"
   ]
  },
  {
   "cell_type": "markdown",
   "id": "34764d39",
   "metadata": {},
   "source": [
    "### Creation de l'objet mole"
   ]
  },
  {
   "cell_type": "code",
   "execution_count": 14,
   "id": "452cd579",
   "metadata": {},
   "outputs": [
    {
     "name": "stdout",
     "output_type": "stream",
     "text": [
      "active molecular orbitals : 126 \n",
      "active electrons : 70 \n"
     ]
    }
   ],
   "source": [
    "from tangelo import SecondQuantizedMolecule as SQMol\n",
    "from tangelo.helpers.utils import is_package_installed\n",
    "\n",
    "# Remove the first two lines (number of atoms and empty line) from XYZ data\n",
    "mol_xyz1 = '\\n'.join(path_xtb_xyz.read_text().strip().split('\\n')[2:]) \n",
    "\n",
    "BODIPY_321g = SQMol(mol_xyz1, q=0, spin=0, basis=\"3-21g\", symmetry=True)\n",
    "print(f\"active molecular orbitals : {BODIPY_321g.n_active_mos} \")\n",
    "print(f\"active electrons : {BODIPY_321g.n_active_electrons} \")\n",
    "\n",
    "# objet mol pour l'etat triplet\n",
    "BODIPY_321g_t = SQMol(mol_xyz1, q=0, spin=2, basis=\"3-21g\", symmetry=True)\n"
   ]
  },
  {
   "cell_type": "code",
   "execution_count": 15,
   "id": "132fbf05",
   "metadata": {},
   "outputs": [
    {
     "data": {
      "application/vnd.plotly.v1+json": {
       "config": {
        "plotlyServerURL": "https://plot.ly"
       },
       "data": [
        {
         "hovertemplate": "x=%{x}<br>y=%{y}<extra></extra>",
         "legendgroup": "",
         "line": {
          "color": "#636efa",
          "dash": "solid"
         },
         "marker": {
          "symbol": "circle"
         },
         "mode": "lines+markers",
         "name": "",
         "orientation": "v",
         "showlegend": false,
         "type": "scatter",
         "x": [
          0,
          1,
          2,
          3,
          4,
          5,
          6,
          7,
          8,
          9,
          10,
          11,
          12,
          13,
          14,
          15,
          16,
          17,
          18,
          19,
          20,
          21,
          22,
          23,
          24,
          25,
          26,
          27,
          28,
          29,
          30,
          31,
          32,
          33,
          34,
          35,
          36,
          37,
          38,
          39,
          40,
          41,
          42,
          43,
          44,
          45,
          46,
          47,
          48,
          49,
          50,
          51,
          52,
          53,
          54,
          55,
          56,
          57,
          58,
          59,
          60,
          61,
          62,
          63,
          64,
          65,
          66,
          67,
          68,
          69,
          70,
          71,
          72,
          73,
          74,
          75,
          76,
          77,
          78,
          79,
          80,
          81,
          82,
          83,
          84,
          85,
          86,
          87,
          88,
          89,
          90,
          91,
          92,
          93,
          94,
          95,
          96,
          97,
          98,
          99,
          100,
          101,
          102,
          103,
          104,
          105,
          106,
          107,
          108,
          109,
          110,
          111,
          112,
          113,
          114,
          115,
          116,
          117,
          118,
          119,
          120,
          121,
          122,
          123,
          124,
          125,
          126,
          127,
          128,
          129,
          130,
          131,
          132,
          133,
          134,
          135,
          136,
          137,
          138,
          139
         ],
         "xaxis": "x",
         "y": [
          2,
          2,
          2,
          2,
          2,
          2,
          2,
          2,
          2,
          2,
          2,
          2,
          2,
          2,
          2,
          2,
          2,
          2,
          2,
          2,
          2,
          2,
          2,
          2,
          2,
          2,
          2,
          2,
          2,
          2,
          2,
          2,
          2,
          2,
          2,
          2,
          2,
          2,
          2,
          2,
          2,
          2,
          2,
          2,
          2,
          2,
          2,
          2,
          2,
          0,
          0,
          0,
          0,
          0,
          0,
          0,
          0,
          0,
          0,
          0,
          0,
          0,
          0,
          0,
          0,
          0,
          0,
          0,
          0,
          0,
          0,
          0,
          0,
          0,
          0,
          0,
          0,
          0,
          0,
          0,
          0,
          0,
          0,
          0,
          0,
          0,
          0,
          0,
          0,
          0,
          0,
          0,
          0,
          0,
          0,
          0,
          0,
          0,
          0,
          0,
          0,
          0,
          0,
          0,
          0,
          0,
          0,
          0,
          0,
          0,
          0,
          0,
          0,
          0,
          0,
          0,
          0,
          0,
          0,
          0,
          0,
          0,
          0,
          0,
          0,
          0,
          0,
          0,
          0,
          0,
          0,
          0,
          0,
          0,
          0,
          0,
          0,
          0,
          0,
          0
         ],
         "yaxis": "y"
        }
       ],
       "layout": {
        "legend": {
         "tracegroupgap": 0
        },
        "template": {
         "data": {
          "bar": [
           {
            "error_x": {
             "color": "#2a3f5f"
            },
            "error_y": {
             "color": "#2a3f5f"
            },
            "marker": {
             "line": {
              "color": "#E5ECF6",
              "width": 0.5
             },
             "pattern": {
              "fillmode": "overlay",
              "size": 10,
              "solidity": 0.2
             }
            },
            "type": "bar"
           }
          ],
          "barpolar": [
           {
            "marker": {
             "line": {
              "color": "#E5ECF6",
              "width": 0.5
             },
             "pattern": {
              "fillmode": "overlay",
              "size": 10,
              "solidity": 0.2
             }
            },
            "type": "barpolar"
           }
          ],
          "carpet": [
           {
            "aaxis": {
             "endlinecolor": "#2a3f5f",
             "gridcolor": "white",
             "linecolor": "white",
             "minorgridcolor": "white",
             "startlinecolor": "#2a3f5f"
            },
            "baxis": {
             "endlinecolor": "#2a3f5f",
             "gridcolor": "white",
             "linecolor": "white",
             "minorgridcolor": "white",
             "startlinecolor": "#2a3f5f"
            },
            "type": "carpet"
           }
          ],
          "choropleth": [
           {
            "colorbar": {
             "outlinewidth": 0,
             "ticks": ""
            },
            "type": "choropleth"
           }
          ],
          "contour": [
           {
            "colorbar": {
             "outlinewidth": 0,
             "ticks": ""
            },
            "colorscale": [
             [
              0,
              "#0d0887"
             ],
             [
              0.1111111111111111,
              "#46039f"
             ],
             [
              0.2222222222222222,
              "#7201a8"
             ],
             [
              0.3333333333333333,
              "#9c179e"
             ],
             [
              0.4444444444444444,
              "#bd3786"
             ],
             [
              0.5555555555555556,
              "#d8576b"
             ],
             [
              0.6666666666666666,
              "#ed7953"
             ],
             [
              0.7777777777777778,
              "#fb9f3a"
             ],
             [
              0.8888888888888888,
              "#fdca26"
             ],
             [
              1,
              "#f0f921"
             ]
            ],
            "type": "contour"
           }
          ],
          "contourcarpet": [
           {
            "colorbar": {
             "outlinewidth": 0,
             "ticks": ""
            },
            "type": "contourcarpet"
           }
          ],
          "heatmap": [
           {
            "colorbar": {
             "outlinewidth": 0,
             "ticks": ""
            },
            "colorscale": [
             [
              0,
              "#0d0887"
             ],
             [
              0.1111111111111111,
              "#46039f"
             ],
             [
              0.2222222222222222,
              "#7201a8"
             ],
             [
              0.3333333333333333,
              "#9c179e"
             ],
             [
              0.4444444444444444,
              "#bd3786"
             ],
             [
              0.5555555555555556,
              "#d8576b"
             ],
             [
              0.6666666666666666,
              "#ed7953"
             ],
             [
              0.7777777777777778,
              "#fb9f3a"
             ],
             [
              0.8888888888888888,
              "#fdca26"
             ],
             [
              1,
              "#f0f921"
             ]
            ],
            "type": "heatmap"
           }
          ],
          "heatmapgl": [
           {
            "colorbar": {
             "outlinewidth": 0,
             "ticks": ""
            },
            "colorscale": [
             [
              0,
              "#0d0887"
             ],
             [
              0.1111111111111111,
              "#46039f"
             ],
             [
              0.2222222222222222,
              "#7201a8"
             ],
             [
              0.3333333333333333,
              "#9c179e"
             ],
             [
              0.4444444444444444,
              "#bd3786"
             ],
             [
              0.5555555555555556,
              "#d8576b"
             ],
             [
              0.6666666666666666,
              "#ed7953"
             ],
             [
              0.7777777777777778,
              "#fb9f3a"
             ],
             [
              0.8888888888888888,
              "#fdca26"
             ],
             [
              1,
              "#f0f921"
             ]
            ],
            "type": "heatmapgl"
           }
          ],
          "histogram": [
           {
            "marker": {
             "pattern": {
              "fillmode": "overlay",
              "size": 10,
              "solidity": 0.2
             }
            },
            "type": "histogram"
           }
          ],
          "histogram2d": [
           {
            "colorbar": {
             "outlinewidth": 0,
             "ticks": ""
            },
            "colorscale": [
             [
              0,
              "#0d0887"
             ],
             [
              0.1111111111111111,
              "#46039f"
             ],
             [
              0.2222222222222222,
              "#7201a8"
             ],
             [
              0.3333333333333333,
              "#9c179e"
             ],
             [
              0.4444444444444444,
              "#bd3786"
             ],
             [
              0.5555555555555556,
              "#d8576b"
             ],
             [
              0.6666666666666666,
              "#ed7953"
             ],
             [
              0.7777777777777778,
              "#fb9f3a"
             ],
             [
              0.8888888888888888,
              "#fdca26"
             ],
             [
              1,
              "#f0f921"
             ]
            ],
            "type": "histogram2d"
           }
          ],
          "histogram2dcontour": [
           {
            "colorbar": {
             "outlinewidth": 0,
             "ticks": ""
            },
            "colorscale": [
             [
              0,
              "#0d0887"
             ],
             [
              0.1111111111111111,
              "#46039f"
             ],
             [
              0.2222222222222222,
              "#7201a8"
             ],
             [
              0.3333333333333333,
              "#9c179e"
             ],
             [
              0.4444444444444444,
              "#bd3786"
             ],
             [
              0.5555555555555556,
              "#d8576b"
             ],
             [
              0.6666666666666666,
              "#ed7953"
             ],
             [
              0.7777777777777778,
              "#fb9f3a"
             ],
             [
              0.8888888888888888,
              "#fdca26"
             ],
             [
              1,
              "#f0f921"
             ]
            ],
            "type": "histogram2dcontour"
           }
          ],
          "mesh3d": [
           {
            "colorbar": {
             "outlinewidth": 0,
             "ticks": ""
            },
            "type": "mesh3d"
           }
          ],
          "parcoords": [
           {
            "line": {
             "colorbar": {
              "outlinewidth": 0,
              "ticks": ""
             }
            },
            "type": "parcoords"
           }
          ],
          "pie": [
           {
            "automargin": true,
            "type": "pie"
           }
          ],
          "scatter": [
           {
            "fillpattern": {
             "fillmode": "overlay",
             "size": 10,
             "solidity": 0.2
            },
            "type": "scatter"
           }
          ],
          "scatter3d": [
           {
            "line": {
             "colorbar": {
              "outlinewidth": 0,
              "ticks": ""
             }
            },
            "marker": {
             "colorbar": {
              "outlinewidth": 0,
              "ticks": ""
             }
            },
            "type": "scatter3d"
           }
          ],
          "scattercarpet": [
           {
            "marker": {
             "colorbar": {
              "outlinewidth": 0,
              "ticks": ""
             }
            },
            "type": "scattercarpet"
           }
          ],
          "scattergeo": [
           {
            "marker": {
             "colorbar": {
              "outlinewidth": 0,
              "ticks": ""
             }
            },
            "type": "scattergeo"
           }
          ],
          "scattergl": [
           {
            "marker": {
             "colorbar": {
              "outlinewidth": 0,
              "ticks": ""
             }
            },
            "type": "scattergl"
           }
          ],
          "scattermapbox": [
           {
            "marker": {
             "colorbar": {
              "outlinewidth": 0,
              "ticks": ""
             }
            },
            "type": "scattermapbox"
           }
          ],
          "scatterpolar": [
           {
            "marker": {
             "colorbar": {
              "outlinewidth": 0,
              "ticks": ""
             }
            },
            "type": "scatterpolar"
           }
          ],
          "scatterpolargl": [
           {
            "marker": {
             "colorbar": {
              "outlinewidth": 0,
              "ticks": ""
             }
            },
            "type": "scatterpolargl"
           }
          ],
          "scatterternary": [
           {
            "marker": {
             "colorbar": {
              "outlinewidth": 0,
              "ticks": ""
             }
            },
            "type": "scatterternary"
           }
          ],
          "surface": [
           {
            "colorbar": {
             "outlinewidth": 0,
             "ticks": ""
            },
            "colorscale": [
             [
              0,
              "#0d0887"
             ],
             [
              0.1111111111111111,
              "#46039f"
             ],
             [
              0.2222222222222222,
              "#7201a8"
             ],
             [
              0.3333333333333333,
              "#9c179e"
             ],
             [
              0.4444444444444444,
              "#bd3786"
             ],
             [
              0.5555555555555556,
              "#d8576b"
             ],
             [
              0.6666666666666666,
              "#ed7953"
             ],
             [
              0.7777777777777778,
              "#fb9f3a"
             ],
             [
              0.8888888888888888,
              "#fdca26"
             ],
             [
              1,
              "#f0f921"
             ]
            ],
            "type": "surface"
           }
          ],
          "table": [
           {
            "cells": {
             "fill": {
              "color": "#EBF0F8"
             },
             "line": {
              "color": "white"
             }
            },
            "header": {
             "fill": {
              "color": "#C8D4E3"
             },
             "line": {
              "color": "white"
             }
            },
            "type": "table"
           }
          ]
         },
         "layout": {
          "annotationdefaults": {
           "arrowcolor": "#2a3f5f",
           "arrowhead": 0,
           "arrowwidth": 1
          },
          "autotypenumbers": "strict",
          "coloraxis": {
           "colorbar": {
            "outlinewidth": 0,
            "ticks": ""
           }
          },
          "colorscale": {
           "diverging": [
            [
             0,
             "#8e0152"
            ],
            [
             0.1,
             "#c51b7d"
            ],
            [
             0.2,
             "#de77ae"
            ],
            [
             0.3,
             "#f1b6da"
            ],
            [
             0.4,
             "#fde0ef"
            ],
            [
             0.5,
             "#f7f7f7"
            ],
            [
             0.6,
             "#e6f5d0"
            ],
            [
             0.7,
             "#b8e186"
            ],
            [
             0.8,
             "#7fbc41"
            ],
            [
             0.9,
             "#4d9221"
            ],
            [
             1,
             "#276419"
            ]
           ],
           "sequential": [
            [
             0,
             "#0d0887"
            ],
            [
             0.1111111111111111,
             "#46039f"
            ],
            [
             0.2222222222222222,
             "#7201a8"
            ],
            [
             0.3333333333333333,
             "#9c179e"
            ],
            [
             0.4444444444444444,
             "#bd3786"
            ],
            [
             0.5555555555555556,
             "#d8576b"
            ],
            [
             0.6666666666666666,
             "#ed7953"
            ],
            [
             0.7777777777777778,
             "#fb9f3a"
            ],
            [
             0.8888888888888888,
             "#fdca26"
            ],
            [
             1,
             "#f0f921"
            ]
           ],
           "sequentialminus": [
            [
             0,
             "#0d0887"
            ],
            [
             0.1111111111111111,
             "#46039f"
            ],
            [
             0.2222222222222222,
             "#7201a8"
            ],
            [
             0.3333333333333333,
             "#9c179e"
            ],
            [
             0.4444444444444444,
             "#bd3786"
            ],
            [
             0.5555555555555556,
             "#d8576b"
            ],
            [
             0.6666666666666666,
             "#ed7953"
            ],
            [
             0.7777777777777778,
             "#fb9f3a"
            ],
            [
             0.8888888888888888,
             "#fdca26"
            ],
            [
             1,
             "#f0f921"
            ]
           ]
          },
          "colorway": [
           "#636efa",
           "#EF553B",
           "#00cc96",
           "#ab63fa",
           "#FFA15A",
           "#19d3f3",
           "#FF6692",
           "#B6E880",
           "#FF97FF",
           "#FECB52"
          ],
          "font": {
           "color": "#2a3f5f"
          },
          "geo": {
           "bgcolor": "white",
           "lakecolor": "white",
           "landcolor": "#E5ECF6",
           "showlakes": true,
           "showland": true,
           "subunitcolor": "white"
          },
          "hoverlabel": {
           "align": "left"
          },
          "hovermode": "closest",
          "mapbox": {
           "style": "light"
          },
          "paper_bgcolor": "white",
          "plot_bgcolor": "#E5ECF6",
          "polar": {
           "angularaxis": {
            "gridcolor": "white",
            "linecolor": "white",
            "ticks": ""
           },
           "bgcolor": "#E5ECF6",
           "radialaxis": {
            "gridcolor": "white",
            "linecolor": "white",
            "ticks": ""
           }
          },
          "scene": {
           "xaxis": {
            "backgroundcolor": "#E5ECF6",
            "gridcolor": "white",
            "gridwidth": 2,
            "linecolor": "white",
            "showbackground": true,
            "ticks": "",
            "zerolinecolor": "white"
           },
           "yaxis": {
            "backgroundcolor": "#E5ECF6",
            "gridcolor": "white",
            "gridwidth": 2,
            "linecolor": "white",
            "showbackground": true,
            "ticks": "",
            "zerolinecolor": "white"
           },
           "zaxis": {
            "backgroundcolor": "#E5ECF6",
            "gridcolor": "white",
            "gridwidth": 2,
            "linecolor": "white",
            "showbackground": true,
            "ticks": "",
            "zerolinecolor": "white"
           }
          },
          "shapedefaults": {
           "line": {
            "color": "#2a3f5f"
           }
          },
          "ternary": {
           "aaxis": {
            "gridcolor": "white",
            "linecolor": "white",
            "ticks": ""
           },
           "baxis": {
            "gridcolor": "white",
            "linecolor": "white",
            "ticks": ""
           },
           "bgcolor": "#E5ECF6",
           "caxis": {
            "gridcolor": "white",
            "linecolor": "white",
            "ticks": ""
           }
          },
          "title": {
           "x": 0.05
          },
          "xaxis": {
           "automargin": true,
           "gridcolor": "white",
           "linecolor": "white",
           "ticks": "",
           "title": {
            "standoff": 15
           },
           "zerolinecolor": "white",
           "zerolinewidth": 2
          },
          "yaxis": {
           "automargin": true,
           "gridcolor": "white",
           "linecolor": "white",
           "ticks": "",
           "title": {
            "standoff": 15
           },
           "zerolinecolor": "white",
           "zerolinewidth": 2
          }
         }
        },
        "title": {
         "text": "Molecular Orbital (MO) Occupations"
        },
        "xaxis": {
         "anchor": "y",
         "domain": [
          0,
          1
         ],
         "title": {
          "text": "Orbital Index (0-Based)"
         }
        },
        "yaxis": {
         "anchor": "x",
         "domain": [
          0,
          1
         ],
         "title": {
          "text": "MO Occupation"
         }
        }
       }
      }
     },
     "metadata": {},
     "output_type": "display_data"
    }
   ],
   "source": [
    "import plotly.express as px\n",
    "\n",
    "# Plot the MO Occupations\n",
    "fig = px.line(y=BODIPY_321g.mo_occ, markers=True, title=\"Molecular Orbital (MO) Occupations\")\n",
    "fig.update_layout(xaxis_title=\"Orbital Index (0-Based)\", yaxis_title=\"MO Occupation\")\n",
    "fig.show()"
   ]
  },
  {
   "cell_type": "code",
   "execution_count": 16,
   "id": "0f576a9d",
   "metadata": {},
   "outputs": [
    {
     "data": {
      "application/vnd.plotly.v1+json": {
       "config": {
        "plotlyServerURL": "https://plot.ly"
       },
       "data": [
        {
         "hovertemplate": "x=%{x}<br>y=%{y}<extra></extra>",
         "legendgroup": "",
         "line": {
          "color": "#636efa",
          "dash": "solid"
         },
         "marker": {
          "symbol": "circle"
         },
         "mode": "lines+markers",
         "name": "",
         "orientation": "v",
         "showlegend": false,
         "type": "scatter",
         "x": [
          0,
          1,
          2,
          3,
          4,
          5,
          6,
          7,
          8,
          9,
          10,
          11,
          12,
          13,
          14,
          15,
          16,
          17,
          18,
          19,
          20,
          21,
          22,
          23,
          24,
          25,
          26,
          27,
          28,
          29,
          30,
          31,
          32,
          33,
          34,
          35,
          36,
          37,
          38,
          39,
          40,
          41,
          42,
          43,
          44,
          45,
          46,
          47,
          48,
          49,
          50,
          51,
          52,
          53,
          54,
          55,
          56,
          57,
          58,
          59,
          60,
          61,
          62,
          63,
          64,
          65,
          66,
          67,
          68,
          69,
          70,
          71,
          72,
          73,
          74,
          75,
          76,
          77,
          78,
          79,
          80,
          81,
          82,
          83,
          84,
          85,
          86,
          87,
          88,
          89,
          90,
          91,
          92,
          93,
          94,
          95,
          96,
          97,
          98,
          99,
          100,
          101,
          102,
          103,
          104,
          105,
          106,
          107,
          108,
          109,
          110,
          111,
          112,
          113,
          114,
          115,
          116,
          117,
          118,
          119,
          120,
          121,
          122,
          123,
          124,
          125,
          126,
          127,
          128,
          129,
          130,
          131,
          132,
          133,
          134,
          135,
          136,
          137,
          138,
          139
         ],
         "xaxis": "x",
         "y": [
          -26.08882569151322,
          -26.088071653746336,
          -15.537775885658148,
          -15.53760368624485,
          -11.26205576179139,
          -11.246198843347956,
          -11.246149379414922,
          -11.230737193151569,
          -11.230608062896918,
          -11.211687452057037,
          -11.211639173195945,
          -11.184478724980401,
          -11.18445549377242,
          -7.644285734032548,
          -1.5396919819488672,
          -1.4990644238436621,
          -1.34260227800838,
          -1.322910107615571,
          -1.1173264322134877,
          -1.0885424054072095,
          -1.0739829249257977,
          -1.0033741846171895,
          -0.9238049836353359,
          -0.8386298896774541,
          -0.8182719008414877,
          -0.8062811095585289,
          -0.8004849582437515,
          -0.7539632635569841,
          -0.7144376917836475,
          -0.6974161176795944,
          -0.6632097724804464,
          -0.6520430841923704,
          -0.6415335372508792,
          -0.6204293066137349,
          -0.6168348528904722,
          -0.5972855548225721,
          -0.5964676901745737,
          -0.5815452180361802,
          -0.5794387809769708,
          -0.5756755799823685,
          -0.5597055778063064,
          -0.5486733076189443,
          -0.5355478123159649,
          -0.5310768265224641,
          -0.5065798289955655,
          -0.41856422727044085,
          -0.3795316142280248,
          -0.37263206141932,
          -0.2903673250671985,
          0.003475507644933931,
          0.18530882307099242,
          0.21611596941802444,
          0.23946963249210781,
          0.25617818762726957,
          0.28165202479406726,
          0.28699663506061507,
          0.300776253966954,
          0.32793274814688556,
          0.3298667177651268,
          0.3354525489080939,
          0.3381199425192503,
          0.37612259998360303,
          0.3832420132342306,
          0.4193810136461355,
          0.4290380914109987,
          0.46209630222317205,
          0.4806445757207176,
          0.48458483442133304,
          0.4852257099080429,
          0.5240006265329153,
          0.6009978292476421,
          0.6320488363202713,
          0.6502905846454475,
          0.6570999109097215,
          0.708063847708382,
          0.7104545578550238,
          0.7323668507084495,
          0.8067260585414449,
          0.8120863155715319,
          0.8128294151869339,
          0.8946639754480983,
          0.9276227724292183,
          0.9464742421762139,
          0.958565781937907,
          0.9620347231875424,
          0.964790568525977,
          0.9873936400730328,
          0.9919943903818623,
          1.0068459505083087,
          1.0100503890382764,
          1.0264790001404829,
          1.0679983460190214,
          1.071055151876371,
          1.0876773002693727,
          1.1120034461787494,
          1.13743172969233,
          1.1495210186859728,
          1.1601170247761121,
          1.1877320383700685,
          1.2475371152256345,
          1.2735341718059727,
          1.2773330603342539,
          1.2841462934390582,
          1.289372656865416,
          1.334344563776804,
          1.3351658171252416,
          1.352581403065803,
          1.4381101805462868,
          1.4684318231384297,
          1.4913762116878855,
          1.50267550271417,
          1.5231685763096756,
          1.530209738835842,
          1.5705556370276073,
          1.5914295815612778,
          1.6392380238378443,
          1.654596189457078,
          1.7156683388452132,
          1.8098070657545329,
          1.8107195253850799,
          1.862696798999705,
          1.9031070735422806,
          1.9166509952508508,
          2.0234134789872917,
          2.1245411943648915,
          2.154490346899067,
          2.29004243179897,
          2.326278591819793,
          2.3772979739964555,
          2.4230276367607235,
          2.4232971161035644,
          2.444872329215658,
          2.4973431939373683,
          2.5870332466079105,
          2.6451647530026494,
          2.7458802229927937,
          3.199398458218155,
          3.260896499585382,
          4.0451974901870615,
          4.4751304210085605
         ],
         "yaxis": "y"
        }
       ],
       "layout": {
        "legend": {
         "tracegroupgap": 0
        },
        "template": {
         "data": {
          "bar": [
           {
            "error_x": {
             "color": "#2a3f5f"
            },
            "error_y": {
             "color": "#2a3f5f"
            },
            "marker": {
             "line": {
              "color": "#E5ECF6",
              "width": 0.5
             },
             "pattern": {
              "fillmode": "overlay",
              "size": 10,
              "solidity": 0.2
             }
            },
            "type": "bar"
           }
          ],
          "barpolar": [
           {
            "marker": {
             "line": {
              "color": "#E5ECF6",
              "width": 0.5
             },
             "pattern": {
              "fillmode": "overlay",
              "size": 10,
              "solidity": 0.2
             }
            },
            "type": "barpolar"
           }
          ],
          "carpet": [
           {
            "aaxis": {
             "endlinecolor": "#2a3f5f",
             "gridcolor": "white",
             "linecolor": "white",
             "minorgridcolor": "white",
             "startlinecolor": "#2a3f5f"
            },
            "baxis": {
             "endlinecolor": "#2a3f5f",
             "gridcolor": "white",
             "linecolor": "white",
             "minorgridcolor": "white",
             "startlinecolor": "#2a3f5f"
            },
            "type": "carpet"
           }
          ],
          "choropleth": [
           {
            "colorbar": {
             "outlinewidth": 0,
             "ticks": ""
            },
            "type": "choropleth"
           }
          ],
          "contour": [
           {
            "colorbar": {
             "outlinewidth": 0,
             "ticks": ""
            },
            "colorscale": [
             [
              0,
              "#0d0887"
             ],
             [
              0.1111111111111111,
              "#46039f"
             ],
             [
              0.2222222222222222,
              "#7201a8"
             ],
             [
              0.3333333333333333,
              "#9c179e"
             ],
             [
              0.4444444444444444,
              "#bd3786"
             ],
             [
              0.5555555555555556,
              "#d8576b"
             ],
             [
              0.6666666666666666,
              "#ed7953"
             ],
             [
              0.7777777777777778,
              "#fb9f3a"
             ],
             [
              0.8888888888888888,
              "#fdca26"
             ],
             [
              1,
              "#f0f921"
             ]
            ],
            "type": "contour"
           }
          ],
          "contourcarpet": [
           {
            "colorbar": {
             "outlinewidth": 0,
             "ticks": ""
            },
            "type": "contourcarpet"
           }
          ],
          "heatmap": [
           {
            "colorbar": {
             "outlinewidth": 0,
             "ticks": ""
            },
            "colorscale": [
             [
              0,
              "#0d0887"
             ],
             [
              0.1111111111111111,
              "#46039f"
             ],
             [
              0.2222222222222222,
              "#7201a8"
             ],
             [
              0.3333333333333333,
              "#9c179e"
             ],
             [
              0.4444444444444444,
              "#bd3786"
             ],
             [
              0.5555555555555556,
              "#d8576b"
             ],
             [
              0.6666666666666666,
              "#ed7953"
             ],
             [
              0.7777777777777778,
              "#fb9f3a"
             ],
             [
              0.8888888888888888,
              "#fdca26"
             ],
             [
              1,
              "#f0f921"
             ]
            ],
            "type": "heatmap"
           }
          ],
          "heatmapgl": [
           {
            "colorbar": {
             "outlinewidth": 0,
             "ticks": ""
            },
            "colorscale": [
             [
              0,
              "#0d0887"
             ],
             [
              0.1111111111111111,
              "#46039f"
             ],
             [
              0.2222222222222222,
              "#7201a8"
             ],
             [
              0.3333333333333333,
              "#9c179e"
             ],
             [
              0.4444444444444444,
              "#bd3786"
             ],
             [
              0.5555555555555556,
              "#d8576b"
             ],
             [
              0.6666666666666666,
              "#ed7953"
             ],
             [
              0.7777777777777778,
              "#fb9f3a"
             ],
             [
              0.8888888888888888,
              "#fdca26"
             ],
             [
              1,
              "#f0f921"
             ]
            ],
            "type": "heatmapgl"
           }
          ],
          "histogram": [
           {
            "marker": {
             "pattern": {
              "fillmode": "overlay",
              "size": 10,
              "solidity": 0.2
             }
            },
            "type": "histogram"
           }
          ],
          "histogram2d": [
           {
            "colorbar": {
             "outlinewidth": 0,
             "ticks": ""
            },
            "colorscale": [
             [
              0,
              "#0d0887"
             ],
             [
              0.1111111111111111,
              "#46039f"
             ],
             [
              0.2222222222222222,
              "#7201a8"
             ],
             [
              0.3333333333333333,
              "#9c179e"
             ],
             [
              0.4444444444444444,
              "#bd3786"
             ],
             [
              0.5555555555555556,
              "#d8576b"
             ],
             [
              0.6666666666666666,
              "#ed7953"
             ],
             [
              0.7777777777777778,
              "#fb9f3a"
             ],
             [
              0.8888888888888888,
              "#fdca26"
             ],
             [
              1,
              "#f0f921"
             ]
            ],
            "type": "histogram2d"
           }
          ],
          "histogram2dcontour": [
           {
            "colorbar": {
             "outlinewidth": 0,
             "ticks": ""
            },
            "colorscale": [
             [
              0,
              "#0d0887"
             ],
             [
              0.1111111111111111,
              "#46039f"
             ],
             [
              0.2222222222222222,
              "#7201a8"
             ],
             [
              0.3333333333333333,
              "#9c179e"
             ],
             [
              0.4444444444444444,
              "#bd3786"
             ],
             [
              0.5555555555555556,
              "#d8576b"
             ],
             [
              0.6666666666666666,
              "#ed7953"
             ],
             [
              0.7777777777777778,
              "#fb9f3a"
             ],
             [
              0.8888888888888888,
              "#fdca26"
             ],
             [
              1,
              "#f0f921"
             ]
            ],
            "type": "histogram2dcontour"
           }
          ],
          "mesh3d": [
           {
            "colorbar": {
             "outlinewidth": 0,
             "ticks": ""
            },
            "type": "mesh3d"
           }
          ],
          "parcoords": [
           {
            "line": {
             "colorbar": {
              "outlinewidth": 0,
              "ticks": ""
             }
            },
            "type": "parcoords"
           }
          ],
          "pie": [
           {
            "automargin": true,
            "type": "pie"
           }
          ],
          "scatter": [
           {
            "fillpattern": {
             "fillmode": "overlay",
             "size": 10,
             "solidity": 0.2
            },
            "type": "scatter"
           }
          ],
          "scatter3d": [
           {
            "line": {
             "colorbar": {
              "outlinewidth": 0,
              "ticks": ""
             }
            },
            "marker": {
             "colorbar": {
              "outlinewidth": 0,
              "ticks": ""
             }
            },
            "type": "scatter3d"
           }
          ],
          "scattercarpet": [
           {
            "marker": {
             "colorbar": {
              "outlinewidth": 0,
              "ticks": ""
             }
            },
            "type": "scattercarpet"
           }
          ],
          "scattergeo": [
           {
            "marker": {
             "colorbar": {
              "outlinewidth": 0,
              "ticks": ""
             }
            },
            "type": "scattergeo"
           }
          ],
          "scattergl": [
           {
            "marker": {
             "colorbar": {
              "outlinewidth": 0,
              "ticks": ""
             }
            },
            "type": "scattergl"
           }
          ],
          "scattermapbox": [
           {
            "marker": {
             "colorbar": {
              "outlinewidth": 0,
              "ticks": ""
             }
            },
            "type": "scattermapbox"
           }
          ],
          "scatterpolar": [
           {
            "marker": {
             "colorbar": {
              "outlinewidth": 0,
              "ticks": ""
             }
            },
            "type": "scatterpolar"
           }
          ],
          "scatterpolargl": [
           {
            "marker": {
             "colorbar": {
              "outlinewidth": 0,
              "ticks": ""
             }
            },
            "type": "scatterpolargl"
           }
          ],
          "scatterternary": [
           {
            "marker": {
             "colorbar": {
              "outlinewidth": 0,
              "ticks": ""
             }
            },
            "type": "scatterternary"
           }
          ],
          "surface": [
           {
            "colorbar": {
             "outlinewidth": 0,
             "ticks": ""
            },
            "colorscale": [
             [
              0,
              "#0d0887"
             ],
             [
              0.1111111111111111,
              "#46039f"
             ],
             [
              0.2222222222222222,
              "#7201a8"
             ],
             [
              0.3333333333333333,
              "#9c179e"
             ],
             [
              0.4444444444444444,
              "#bd3786"
             ],
             [
              0.5555555555555556,
              "#d8576b"
             ],
             [
              0.6666666666666666,
              "#ed7953"
             ],
             [
              0.7777777777777778,
              "#fb9f3a"
             ],
             [
              0.8888888888888888,
              "#fdca26"
             ],
             [
              1,
              "#f0f921"
             ]
            ],
            "type": "surface"
           }
          ],
          "table": [
           {
            "cells": {
             "fill": {
              "color": "#EBF0F8"
             },
             "line": {
              "color": "white"
             }
            },
            "header": {
             "fill": {
              "color": "#C8D4E3"
             },
             "line": {
              "color": "white"
             }
            },
            "type": "table"
           }
          ]
         },
         "layout": {
          "annotationdefaults": {
           "arrowcolor": "#2a3f5f",
           "arrowhead": 0,
           "arrowwidth": 1
          },
          "autotypenumbers": "strict",
          "coloraxis": {
           "colorbar": {
            "outlinewidth": 0,
            "ticks": ""
           }
          },
          "colorscale": {
           "diverging": [
            [
             0,
             "#8e0152"
            ],
            [
             0.1,
             "#c51b7d"
            ],
            [
             0.2,
             "#de77ae"
            ],
            [
             0.3,
             "#f1b6da"
            ],
            [
             0.4,
             "#fde0ef"
            ],
            [
             0.5,
             "#f7f7f7"
            ],
            [
             0.6,
             "#e6f5d0"
            ],
            [
             0.7,
             "#b8e186"
            ],
            [
             0.8,
             "#7fbc41"
            ],
            [
             0.9,
             "#4d9221"
            ],
            [
             1,
             "#276419"
            ]
           ],
           "sequential": [
            [
             0,
             "#0d0887"
            ],
            [
             0.1111111111111111,
             "#46039f"
            ],
            [
             0.2222222222222222,
             "#7201a8"
            ],
            [
             0.3333333333333333,
             "#9c179e"
            ],
            [
             0.4444444444444444,
             "#bd3786"
            ],
            [
             0.5555555555555556,
             "#d8576b"
            ],
            [
             0.6666666666666666,
             "#ed7953"
            ],
            [
             0.7777777777777778,
             "#fb9f3a"
            ],
            [
             0.8888888888888888,
             "#fdca26"
            ],
            [
             1,
             "#f0f921"
            ]
           ],
           "sequentialminus": [
            [
             0,
             "#0d0887"
            ],
            [
             0.1111111111111111,
             "#46039f"
            ],
            [
             0.2222222222222222,
             "#7201a8"
            ],
            [
             0.3333333333333333,
             "#9c179e"
            ],
            [
             0.4444444444444444,
             "#bd3786"
            ],
            [
             0.5555555555555556,
             "#d8576b"
            ],
            [
             0.6666666666666666,
             "#ed7953"
            ],
            [
             0.7777777777777778,
             "#fb9f3a"
            ],
            [
             0.8888888888888888,
             "#fdca26"
            ],
            [
             1,
             "#f0f921"
            ]
           ]
          },
          "colorway": [
           "#636efa",
           "#EF553B",
           "#00cc96",
           "#ab63fa",
           "#FFA15A",
           "#19d3f3",
           "#FF6692",
           "#B6E880",
           "#FF97FF",
           "#FECB52"
          ],
          "font": {
           "color": "#2a3f5f"
          },
          "geo": {
           "bgcolor": "white",
           "lakecolor": "white",
           "landcolor": "#E5ECF6",
           "showlakes": true,
           "showland": true,
           "subunitcolor": "white"
          },
          "hoverlabel": {
           "align": "left"
          },
          "hovermode": "closest",
          "mapbox": {
           "style": "light"
          },
          "paper_bgcolor": "white",
          "plot_bgcolor": "#E5ECF6",
          "polar": {
           "angularaxis": {
            "gridcolor": "white",
            "linecolor": "white",
            "ticks": ""
           },
           "bgcolor": "#E5ECF6",
           "radialaxis": {
            "gridcolor": "white",
            "linecolor": "white",
            "ticks": ""
           }
          },
          "scene": {
           "xaxis": {
            "backgroundcolor": "#E5ECF6",
            "gridcolor": "white",
            "gridwidth": 2,
            "linecolor": "white",
            "showbackground": true,
            "ticks": "",
            "zerolinecolor": "white"
           },
           "yaxis": {
            "backgroundcolor": "#E5ECF6",
            "gridcolor": "white",
            "gridwidth": 2,
            "linecolor": "white",
            "showbackground": true,
            "ticks": "",
            "zerolinecolor": "white"
           },
           "zaxis": {
            "backgroundcolor": "#E5ECF6",
            "gridcolor": "white",
            "gridwidth": 2,
            "linecolor": "white",
            "showbackground": true,
            "ticks": "",
            "zerolinecolor": "white"
           }
          },
          "shapedefaults": {
           "line": {
            "color": "#2a3f5f"
           }
          },
          "ternary": {
           "aaxis": {
            "gridcolor": "white",
            "linecolor": "white",
            "ticks": ""
           },
           "baxis": {
            "gridcolor": "white",
            "linecolor": "white",
            "ticks": ""
           },
           "bgcolor": "#E5ECF6",
           "caxis": {
            "gridcolor": "white",
            "linecolor": "white",
            "ticks": ""
           }
          },
          "title": {
           "x": 0.05
          },
          "xaxis": {
           "automargin": true,
           "gridcolor": "white",
           "linecolor": "white",
           "ticks": "",
           "title": {
            "standoff": 15
           },
           "zerolinecolor": "white",
           "zerolinewidth": 2
          },
          "yaxis": {
           "automargin": true,
           "gridcolor": "white",
           "linecolor": "white",
           "ticks": "",
           "title": {
            "standoff": 15
           },
           "zerolinecolor": "white",
           "zerolinewidth": 2
          }
         }
        },
        "title": {
         "text": "Molecular Orbital (MO) Energies (a.u.)"
        },
        "xaxis": {
         "anchor": "y",
         "domain": [
          0,
          1
         ],
         "title": {
          "text": "Orbital Index (0-Based)"
         }
        },
        "yaxis": {
         "anchor": "x",
         "domain": [
          0,
          1
         ],
         "title": {
          "text": "MO Energies (a.u.)"
         }
        }
       }
      }
     },
     "metadata": {},
     "output_type": "display_data"
    }
   ],
   "source": [
    "# Plot the MO Energies (i.e. eigenvalues of the Fock matrix)\n",
    "fig = px.line(y=BODIPY_321g.mo_energies, markers=True, title=\"Molecular Orbital (MO) Energies (a.u.)\")\n",
    "fig.update_layout(xaxis_title=\"Orbital Index (0-Based)\", yaxis_title=\"MO Energies (a.u.)\")\n",
    "fig.show()"
   ]
  },
  {
   "cell_type": "code",
   "execution_count": 17,
   "id": "455840ba",
   "metadata": {},
   "outputs": [
    {
     "name": "stdout",
     "output_type": "stream",
     "text": [
      "indice homo : 48 \n",
      "indice lumo: 49 \n",
      "le nombre orbitales moleculaire est :140\n"
     ]
    }
   ],
   "source": [
    "n_lumo = BODIPY_321g.mo_occ.tolist().index(0.)\n",
    "n_homo = n_lumo - 1\n",
    "print(f\"indice homo : {n_homo} \")\n",
    "print(f\"indice lumo: {n_lumo} \")\n",
    "\n",
    "print(f'le nombre orbitales moleculaire est :{BODIPY_321g.n_mos}')"
   ]
  },
  {
   "cell_type": "code",
   "execution_count": 18,
   "id": "02f0432f",
   "metadata": {},
   "outputs": [],
   "source": [
    "import dftd4.pyscf as disp\n",
    "from pyscf import solvent\n",
    "\n",
    "mf = BODIPY_321g.mean_field\n",
    "\n",
    "# Utiliser la méthode \"ddCOSMO\" de l'objet \"solvent\"\n",
    "mf = mf.run().ddCOSMO()\n",
    "mf.with_solvent.eps = 2.3741   # Toluene\n",
    "mf = disp.energy(mf).run()\n",
    "\n",
    "\n",
    "mf_t = BODIPY_321g_t.mean_field\n",
    "mf_t = mf_t.run().ddCOSMO()\n",
    "mf_t.with_solvent.eps = 2.3741   # Toluene\n",
    "mf_t = disp.energy(mf_t).run()"
   ]
  },
  {
   "cell_type": "code",
   "execution_count": 19,
   "id": "7adebb81",
   "metadata": {},
   "outputs": [
    {
     "name": "stdout",
     "output_type": "stream",
     "text": [
      "**** SCF Summaries ****\n",
      "Total Energy =                        -673.911866340806114\n",
      "Nuclear Repulsion Energy =             866.612444774693245\n",
      "One-electron Energy =                -2644.360499073111896\n",
      "Two-electron Energy =                 1103.846618251541486\n",
      "Empirical Dispersion Energy =           -0.098357873924444\n"
     ]
    }
   ],
   "source": [
    "mf.dump_scf_summary()"
   ]
  },
  {
   "cell_type": "markdown",
   "id": "fd289539",
   "metadata": {},
   "source": [
    "### Hamiltonien"
   ]
  },
  {
   "cell_type": "code",
   "execution_count": 27,
   "id": "578f3eef",
   "metadata": {},
   "outputs": [
    {
     "name": "stdout",
     "output_type": "stream",
     "text": [
      "6 active molecular orbitals\n",
      "6 active electrons\n",
      "[46, 47, 48, 49, 50, 51] is the active space\n"
     ]
    }
   ],
   "source": [
    "from tangelo.toolboxes.molecular_computation.frozen_orbitals import get_orbitals_excluding_homo_lumo\n",
    "\n",
    "# Selecting HOMO-0 to LUMO+0 orbitals.\n",
    "frozen = get_orbitals_excluding_homo_lumo(BODIPY_321g, homo_minus_n=2, lumo_plus_n=2)\n",
    "\n",
    "BODIPY_321g_frozen = SQMol(mol_xyz1, q=0, spin=0,\n",
    "                                            basis=\"3-21g\",\n",
    "                                            frozen_orbitals=frozen, symmetry=True)\n",
    "BODIPY_321g_frozen_t = SQMol(mol_xyz1, q=0, spin=2,\n",
    "                                            basis=\"3-21g\",\n",
    "                                            frozen_orbitals=frozen, symmetry=True)\n",
    "print(f\"{BODIPY_321g_frozen.n_active_mos} active molecular orbitals\")\n",
    "print(f\"{BODIPY_321g_frozen.n_active_electrons} active electrons\")\n",
    "print(f\"{BODIPY_321g_frozen.active_mos} is the active space\")"
   ]
  },
  {
   "cell_type": "code",
   "execution_count": 28,
   "id": "fcef62a9",
   "metadata": {},
   "outputs": [
    {
     "name": "stdout",
     "output_type": "stream",
     "text": [
      "Number of qubits: 12\n",
      "Number of qubits after tapering: 10\n",
      "2 Z2 symmetries detected\n"
     ]
    }
   ],
   "source": [
    "from tangelo.toolboxes.qubit_mappings.mapping_transform import fermion_to_qubit_mapping\n",
    "from tangelo.toolboxes.operators import count_qubits\n",
    "from tangelo.toolboxes.operators.taper_qubits import QubitTapering\n",
    "\n",
    "#singulet\n",
    "hamiltonian = fermion_to_qubit_mapping(BODIPY_321g_frozen.fermionic_hamiltonian, \"JW\")\n",
    "n_qubits = count_qubits(hamiltonian)\n",
    "taper = QubitTapering(hamiltonian, n_qubits,\n",
    "                      n_electrons=BODIPY_321g_frozen.n_active_electrons)\n",
    "hamiltonian_taper = taper.z2_tapered_op\n",
    "n_qubits_tapered = count_qubits(hamiltonian_taper)\n",
    "\n",
    "print(f\"Number of qubits: {n_qubits}\")\n",
    "print(f\"Number of qubits after tapering: {n_qubits_tapered}\")\n",
    "print(f\"{n_qubits - n_qubits_tapered} Z2 symmetries detected\")\n"
   ]
  },
  {
   "cell_type": "markdown",
   "id": "6a7c5872",
   "metadata": {},
   "source": [
    "### Calcul VQE"
   ]
  },
  {
   "cell_type": "code",
   "execution_count": 30,
   "id": "8410cf27",
   "metadata": {},
   "outputs": [],
   "source": [
    "from tangelo.algorithms.variational import VQESolver, BuiltInAnsatze\n",
    "from tangelo.algorithms.classical import FCISolver\n",
    "\n",
    "# Dictionary of resources for each algorithm\n",
    "algorithm_resources = dict()\n",
    "\n",
    "# Ground state energy calculation with VQE, reference values with FCI\n",
    "vqe_options = {\"molecule\": BODIPY_321g_frozen, \"ansatz\": BuiltInAnsatze.UCCSD}\n",
    "vqe_solver = VQESolver(vqe_options)\n",
    "vqe_solver.build()\n",
    "\n",
    "vqe_energy = vqe_solver.simulate()\n",
    "print(\"\\n Ground Singlet state\")\n",
    "print(f\"VQE energy = {vqe_energy}\")\n",
    "print(f\"CASCI energy = {FCISolver(BODIPY_321g_frozen).simulate()}\")\n",
    "algorithm_resources[\"vqe_ground_state\"] = vqe_solver.get_resources()\n",
    "\n"
   ]
  },
  {
   "cell_type": "code",
   "execution_count": 25,
   "id": "ad932a06",
   "metadata": {},
   "outputs": [
    {
     "ename": "TypeError",
     "evalue": "'<' not supported between instances of 'complex' and 'float'",
     "output_type": "error",
     "traceback": [
      "\u001b[0;31m---------------------------------------------------------------------------\u001b[0m",
      "\u001b[0;31mTypeError\u001b[0m                                 Traceback (most recent call last)",
      "Cell \u001b[0;32mIn[25], line 5\u001b[0m\n\u001b[1;32m      3\u001b[0m vqe_solver_t \u001b[38;5;241m=\u001b[39m VQESolver(vqe_options_t)\n\u001b[1;32m      4\u001b[0m vqe_solver_t\u001b[38;5;241m.\u001b[39mbuild()\n\u001b[0;32m----> 5\u001b[0m vqe_energy_t \u001b[38;5;241m=\u001b[39m \u001b[43mvqe_solver_t\u001b[49m\u001b[38;5;241;43m.\u001b[39;49m\u001b[43msimulate\u001b[49m\u001b[43m(\u001b[49m\u001b[43m)\u001b[49m\n\u001b[1;32m      6\u001b[0m \u001b[38;5;28mprint\u001b[39m(\u001b[38;5;124m\"\u001b[39m\u001b[38;5;130;01m\\n\u001b[39;00m\u001b[38;5;124m Lowest triplet state\u001b[39m\u001b[38;5;124m\"\u001b[39m)\n\u001b[1;32m      7\u001b[0m \u001b[38;5;28mprint\u001b[39m(\u001b[38;5;124mf\u001b[39m\u001b[38;5;124m\"\u001b[39m\u001b[38;5;124mVQE energy triplet = \u001b[39m\u001b[38;5;132;01m{\u001b[39;00mvqe_energy_t\u001b[38;5;132;01m}\u001b[39;00m\u001b[38;5;124m\"\u001b[39m)\n",
      "File \u001b[0;32m~/mambaforge/envs/tangelo-env/lib/python3.10/site-packages/tangelo/algorithms/variational/vqe_solver.py:259\u001b[0m, in \u001b[0;36mVQESolver.simulate\u001b[0;34m(self)\u001b[0m\n\u001b[1;32m    256\u001b[0m \u001b[38;5;28;01mif\u001b[39;00m \u001b[38;5;28mlen\u001b[39m(\u001b[38;5;28mself\u001b[39m\u001b[38;5;241m.\u001b[39mansatz\u001b[38;5;241m.\u001b[39mcircuit\u001b[38;5;241m.\u001b[39m_variational_gates) \u001b[38;5;241m==\u001b[39m \u001b[38;5;241m0\u001b[39m:\n\u001b[1;32m    257\u001b[0m     \u001b[38;5;28;01mraise\u001b[39;00m \u001b[38;5;167;01mRuntimeError\u001b[39;00m(\u001b[38;5;124m\"\u001b[39m\u001b[38;5;124mNo variational gate found in the circuit.\u001b[39m\u001b[38;5;124m\"\u001b[39m)\n\u001b[0;32m--> 259\u001b[0m optimal_energy, optimal_var_params \u001b[38;5;241m=\u001b[39m \u001b[38;5;28;43mself\u001b[39;49m\u001b[38;5;241;43m.\u001b[39;49m\u001b[43moptimizer\u001b[49m\u001b[43m(\u001b[49m\u001b[38;5;28;43mself\u001b[39;49m\u001b[38;5;241;43m.\u001b[39;49m\u001b[43menergy_estimation\u001b[49m\u001b[43m,\u001b[49m\u001b[43m \u001b[49m\u001b[38;5;28;43mself\u001b[39;49m\u001b[38;5;241;43m.\u001b[39;49m\u001b[43minitial_var_params\u001b[49m\u001b[43m)\u001b[49m\n\u001b[1;32m    261\u001b[0m \u001b[38;5;28mself\u001b[39m\u001b[38;5;241m.\u001b[39moptimal_var_params \u001b[38;5;241m=\u001b[39m optimal_var_params\n\u001b[1;32m    262\u001b[0m \u001b[38;5;28mself\u001b[39m\u001b[38;5;241m.\u001b[39moptimal_energy \u001b[38;5;241m=\u001b[39m optimal_energy\n",
      "File \u001b[0;32m~/mambaforge/envs/tangelo-env/lib/python3.10/site-packages/tangelo/algorithms/variational/vqe_solver.py:709\u001b[0m, in \u001b[0;36mVQESolver._default_optimizer\u001b[0;34m(self, func, var_params)\u001b[0m\n\u001b[1;32m    706\u001b[0m \u001b[38;5;28;01mfrom\u001b[39;00m \u001b[38;5;21;01mscipy\u001b[39;00m\u001b[38;5;21;01m.\u001b[39;00m\u001b[38;5;21;01moptimize\u001b[39;00m \u001b[38;5;28;01mimport\u001b[39;00m minimize\n\u001b[1;32m    708\u001b[0m \u001b[38;5;28;01mwith\u001b[39;00m HiddenPrints() \u001b[38;5;28;01mif\u001b[39;00m \u001b[38;5;129;01mnot\u001b[39;00m \u001b[38;5;28mself\u001b[39m\u001b[38;5;241m.\u001b[39mverbose \u001b[38;5;28;01melse\u001b[39;00m nullcontext():\n\u001b[0;32m--> 709\u001b[0m     result \u001b[38;5;241m=\u001b[39m \u001b[43mminimize\u001b[49m\u001b[43m(\u001b[49m\u001b[43mfunc\u001b[49m\u001b[43m,\u001b[49m\u001b[43m \u001b[49m\u001b[43mvar_params\u001b[49m\u001b[43m,\u001b[49m\u001b[43m \u001b[49m\u001b[43mmethod\u001b[49m\u001b[38;5;241;43m=\u001b[39;49m\u001b[38;5;124;43m\"\u001b[39;49m\u001b[38;5;124;43mSLSQP\u001b[39;49m\u001b[38;5;124;43m\"\u001b[39;49m\u001b[43m,\u001b[49m\n\u001b[1;32m    710\u001b[0m \u001b[43m                      \u001b[49m\u001b[43moptions\u001b[49m\u001b[38;5;241;43m=\u001b[39;49m\u001b[43m{\u001b[49m\u001b[38;5;124;43m\"\u001b[39;49m\u001b[38;5;124;43mdisp\u001b[39;49m\u001b[38;5;124;43m\"\u001b[39;49m\u001b[43m:\u001b[49m\u001b[43m \u001b[49m\u001b[38;5;28;43;01mTrue\u001b[39;49;00m\u001b[43m,\u001b[49m\u001b[43m \u001b[49m\u001b[38;5;124;43m\"\u001b[39;49m\u001b[38;5;124;43mmaxiter\u001b[39;49m\u001b[38;5;124;43m\"\u001b[39;49m\u001b[43m:\u001b[49m\u001b[43m \u001b[49m\u001b[38;5;241;43m2000\u001b[39;49m\u001b[43m,\u001b[49m\u001b[43m \u001b[49m\u001b[38;5;124;43m\"\u001b[39;49m\u001b[38;5;124;43meps\u001b[39;49m\u001b[38;5;124;43m\"\u001b[39;49m\u001b[43m:\u001b[49m\u001b[43m \u001b[49m\u001b[38;5;241;43m1e-5\u001b[39;49m\u001b[43m,\u001b[49m\u001b[43m \u001b[49m\u001b[38;5;124;43m\"\u001b[39;49m\u001b[38;5;124;43mftol\u001b[39;49m\u001b[38;5;124;43m\"\u001b[39;49m\u001b[43m:\u001b[49m\u001b[43m \u001b[49m\u001b[38;5;241;43m1e-5\u001b[39;49m\u001b[43m}\u001b[49m\u001b[43m)\u001b[49m\n\u001b[1;32m    712\u001b[0m \u001b[38;5;28;01mif\u001b[39;00m \u001b[38;5;28mself\u001b[39m\u001b[38;5;241m.\u001b[39mverbose:\n\u001b[1;32m    713\u001b[0m     \u001b[38;5;28mprint\u001b[39m(\u001b[38;5;124mf\u001b[39m\u001b[38;5;124m\"\u001b[39m\u001b[38;5;124mVQESolver optimization results:\u001b[39m\u001b[38;5;124m\"\u001b[39m)\n",
      "File \u001b[0;32m~/mambaforge/envs/tangelo-env/lib/python3.10/site-packages/scipy/optimize/_minimize.py:722\u001b[0m, in \u001b[0;36mminimize\u001b[0;34m(fun, x0, args, method, jac, hess, hessp, bounds, constraints, tol, callback, options)\u001b[0m\n\u001b[1;32m    719\u001b[0m     res \u001b[38;5;241m=\u001b[39m _minimize_cobyla(fun, x0, args, constraints, callback\u001b[38;5;241m=\u001b[39mcallback,\n\u001b[1;32m    720\u001b[0m                            bounds\u001b[38;5;241m=\u001b[39mbounds, \u001b[38;5;241m*\u001b[39m\u001b[38;5;241m*\u001b[39moptions)\n\u001b[1;32m    721\u001b[0m \u001b[38;5;28;01melif\u001b[39;00m meth \u001b[38;5;241m==\u001b[39m \u001b[38;5;124m'\u001b[39m\u001b[38;5;124mslsqp\u001b[39m\u001b[38;5;124m'\u001b[39m:\n\u001b[0;32m--> 722\u001b[0m     res \u001b[38;5;241m=\u001b[39m \u001b[43m_minimize_slsqp\u001b[49m\u001b[43m(\u001b[49m\u001b[43mfun\u001b[49m\u001b[43m,\u001b[49m\u001b[43m \u001b[49m\u001b[43mx0\u001b[49m\u001b[43m,\u001b[49m\u001b[43m \u001b[49m\u001b[43margs\u001b[49m\u001b[43m,\u001b[49m\u001b[43m \u001b[49m\u001b[43mjac\u001b[49m\u001b[43m,\u001b[49m\u001b[43m \u001b[49m\u001b[43mbounds\u001b[49m\u001b[43m,\u001b[49m\n\u001b[1;32m    723\u001b[0m \u001b[43m                          \u001b[49m\u001b[43mconstraints\u001b[49m\u001b[43m,\u001b[49m\u001b[43m \u001b[49m\u001b[43mcallback\u001b[49m\u001b[38;5;241;43m=\u001b[39;49m\u001b[43mcallback\u001b[49m\u001b[43m,\u001b[49m\u001b[43m \u001b[49m\u001b[38;5;241;43m*\u001b[39;49m\u001b[38;5;241;43m*\u001b[39;49m\u001b[43moptions\u001b[49m\u001b[43m)\u001b[49m\n\u001b[1;32m    724\u001b[0m \u001b[38;5;28;01melif\u001b[39;00m meth \u001b[38;5;241m==\u001b[39m \u001b[38;5;124m'\u001b[39m\u001b[38;5;124mtrust-constr\u001b[39m\u001b[38;5;124m'\u001b[39m:\n\u001b[1;32m    725\u001b[0m     res \u001b[38;5;241m=\u001b[39m _minimize_trustregion_constr(fun, x0, args, jac, hess, hessp,\n\u001b[1;32m    726\u001b[0m                                        bounds, constraints,\n\u001b[1;32m    727\u001b[0m                                        callback\u001b[38;5;241m=\u001b[39mcallback, \u001b[38;5;241m*\u001b[39m\u001b[38;5;241m*\u001b[39moptions)\n",
      "File \u001b[0;32m~/mambaforge/envs/tangelo-env/lib/python3.10/site-packages/scipy/optimize/_slsqp_py.py:383\u001b[0m, in \u001b[0;36m_minimize_slsqp\u001b[0;34m(func, x0, args, jac, bounds, constraints, maxiter, ftol, iprint, disp, eps, callback, finite_diff_rel_step, **unknown_options)\u001b[0m\n\u001b[1;32m    380\u001b[0m     xu[infbnd[:, \u001b[38;5;241m1\u001b[39m]] \u001b[38;5;241m=\u001b[39m np\u001b[38;5;241m.\u001b[39mnan\n\u001b[1;32m    382\u001b[0m \u001b[38;5;66;03m# ScalarFunction provides function and gradient evaluation\u001b[39;00m\n\u001b[0;32m--> 383\u001b[0m sf \u001b[38;5;241m=\u001b[39m \u001b[43m_prepare_scalar_function\u001b[49m\u001b[43m(\u001b[49m\u001b[43mfunc\u001b[49m\u001b[43m,\u001b[49m\u001b[43m \u001b[49m\u001b[43mx\u001b[49m\u001b[43m,\u001b[49m\u001b[43m \u001b[49m\u001b[43mjac\u001b[49m\u001b[38;5;241;43m=\u001b[39;49m\u001b[43mjac\u001b[49m\u001b[43m,\u001b[49m\u001b[43m \u001b[49m\u001b[43margs\u001b[49m\u001b[38;5;241;43m=\u001b[39;49m\u001b[43margs\u001b[49m\u001b[43m,\u001b[49m\u001b[43m \u001b[49m\u001b[43mepsilon\u001b[49m\u001b[38;5;241;43m=\u001b[39;49m\u001b[43meps\u001b[49m\u001b[43m,\u001b[49m\n\u001b[1;32m    384\u001b[0m \u001b[43m                              \u001b[49m\u001b[43mfinite_diff_rel_step\u001b[49m\u001b[38;5;241;43m=\u001b[39;49m\u001b[43mfinite_diff_rel_step\u001b[49m\u001b[43m,\u001b[49m\n\u001b[1;32m    385\u001b[0m \u001b[43m                              \u001b[49m\u001b[43mbounds\u001b[49m\u001b[38;5;241;43m=\u001b[39;49m\u001b[43mnew_bounds\u001b[49m\u001b[43m)\u001b[49m\n\u001b[1;32m    386\u001b[0m \u001b[38;5;66;03m# gh11403 SLSQP sometimes exceeds bounds by 1 or 2 ULP, make sure this\u001b[39;00m\n\u001b[1;32m    387\u001b[0m \u001b[38;5;66;03m# doesn't get sent to the func/grad evaluator.\u001b[39;00m\n\u001b[1;32m    388\u001b[0m wrapped_fun \u001b[38;5;241m=\u001b[39m _clip_x_for_func(sf\u001b[38;5;241m.\u001b[39mfun, new_bounds)\n",
      "File \u001b[0;32m~/mambaforge/envs/tangelo-env/lib/python3.10/site-packages/scipy/optimize/_optimize.py:288\u001b[0m, in \u001b[0;36m_prepare_scalar_function\u001b[0;34m(fun, x0, jac, args, bounds, epsilon, finite_diff_rel_step, hess)\u001b[0m\n\u001b[1;32m    284\u001b[0m     bounds \u001b[38;5;241m=\u001b[39m (\u001b[38;5;241m-\u001b[39mnp\u001b[38;5;241m.\u001b[39minf, np\u001b[38;5;241m.\u001b[39minf)\n\u001b[1;32m    286\u001b[0m \u001b[38;5;66;03m# ScalarFunction caches. Reuse of fun(x) during grad\u001b[39;00m\n\u001b[1;32m    287\u001b[0m \u001b[38;5;66;03m# calculation reduces overall function evaluations.\u001b[39;00m\n\u001b[0;32m--> 288\u001b[0m sf \u001b[38;5;241m=\u001b[39m \u001b[43mScalarFunction\u001b[49m\u001b[43m(\u001b[49m\u001b[43mfun\u001b[49m\u001b[43m,\u001b[49m\u001b[43m \u001b[49m\u001b[43mx0\u001b[49m\u001b[43m,\u001b[49m\u001b[43m \u001b[49m\u001b[43margs\u001b[49m\u001b[43m,\u001b[49m\u001b[43m \u001b[49m\u001b[43mgrad\u001b[49m\u001b[43m,\u001b[49m\u001b[43m \u001b[49m\u001b[43mhess\u001b[49m\u001b[43m,\u001b[49m\n\u001b[1;32m    289\u001b[0m \u001b[43m                    \u001b[49m\u001b[43mfinite_diff_rel_step\u001b[49m\u001b[43m,\u001b[49m\u001b[43m \u001b[49m\u001b[43mbounds\u001b[49m\u001b[43m,\u001b[49m\u001b[43m \u001b[49m\u001b[43mepsilon\u001b[49m\u001b[38;5;241;43m=\u001b[39;49m\u001b[43mepsilon\u001b[49m\u001b[43m)\u001b[49m\n\u001b[1;32m    291\u001b[0m \u001b[38;5;28;01mreturn\u001b[39;00m sf\n",
      "File \u001b[0;32m~/mambaforge/envs/tangelo-env/lib/python3.10/site-packages/scipy/optimize/_differentiable_functions.py:166\u001b[0m, in \u001b[0;36mScalarFunction.__init__\u001b[0;34m(self, fun, x0, args, grad, hess, finite_diff_rel_step, finite_diff_bounds, epsilon)\u001b[0m\n\u001b[1;32m    163\u001b[0m     \u001b[38;5;28mself\u001b[39m\u001b[38;5;241m.\u001b[39mf \u001b[38;5;241m=\u001b[39m fun_wrapped(\u001b[38;5;28mself\u001b[39m\u001b[38;5;241m.\u001b[39mx)\n\u001b[1;32m    165\u001b[0m \u001b[38;5;28mself\u001b[39m\u001b[38;5;241m.\u001b[39m_update_fun_impl \u001b[38;5;241m=\u001b[39m update_fun\n\u001b[0;32m--> 166\u001b[0m \u001b[38;5;28;43mself\u001b[39;49m\u001b[38;5;241;43m.\u001b[39;49m\u001b[43m_update_fun\u001b[49m\u001b[43m(\u001b[49m\u001b[43m)\u001b[49m\n\u001b[1;32m    168\u001b[0m \u001b[38;5;66;03m# Gradient evaluation\u001b[39;00m\n\u001b[1;32m    169\u001b[0m \u001b[38;5;28;01mif\u001b[39;00m \u001b[38;5;28mcallable\u001b[39m(grad):\n",
      "File \u001b[0;32m~/mambaforge/envs/tangelo-env/lib/python3.10/site-packages/scipy/optimize/_differentiable_functions.py:262\u001b[0m, in \u001b[0;36mScalarFunction._update_fun\u001b[0;34m(self)\u001b[0m\n\u001b[1;32m    260\u001b[0m \u001b[38;5;28;01mdef\u001b[39;00m \u001b[38;5;21m_update_fun\u001b[39m(\u001b[38;5;28mself\u001b[39m):\n\u001b[1;32m    261\u001b[0m     \u001b[38;5;28;01mif\u001b[39;00m \u001b[38;5;129;01mnot\u001b[39;00m \u001b[38;5;28mself\u001b[39m\u001b[38;5;241m.\u001b[39mf_updated:\n\u001b[0;32m--> 262\u001b[0m         \u001b[38;5;28;43mself\u001b[39;49m\u001b[38;5;241;43m.\u001b[39;49m\u001b[43m_update_fun_impl\u001b[49m\u001b[43m(\u001b[49m\u001b[43m)\u001b[49m\n\u001b[1;32m    263\u001b[0m         \u001b[38;5;28mself\u001b[39m\u001b[38;5;241m.\u001b[39mf_updated \u001b[38;5;241m=\u001b[39m \u001b[38;5;28;01mTrue\u001b[39;00m\n",
      "File \u001b[0;32m~/mambaforge/envs/tangelo-env/lib/python3.10/site-packages/scipy/optimize/_differentiable_functions.py:163\u001b[0m, in \u001b[0;36mScalarFunction.__init__.<locals>.update_fun\u001b[0;34m()\u001b[0m\n\u001b[1;32m    162\u001b[0m \u001b[38;5;28;01mdef\u001b[39;00m \u001b[38;5;21mupdate_fun\u001b[39m():\n\u001b[0;32m--> 163\u001b[0m     \u001b[38;5;28mself\u001b[39m\u001b[38;5;241m.\u001b[39mf \u001b[38;5;241m=\u001b[39m \u001b[43mfun_wrapped\u001b[49m\u001b[43m(\u001b[49m\u001b[38;5;28;43mself\u001b[39;49m\u001b[38;5;241;43m.\u001b[39;49m\u001b[43mx\u001b[49m\u001b[43m)\u001b[49m\n",
      "File \u001b[0;32m~/mambaforge/envs/tangelo-env/lib/python3.10/site-packages/scipy/optimize/_differentiable_functions.py:156\u001b[0m, in \u001b[0;36mScalarFunction.__init__.<locals>.fun_wrapped\u001b[0;34m(x)\u001b[0m\n\u001b[1;32m    150\u001b[0m     \u001b[38;5;28;01mexcept\u001b[39;00m (\u001b[38;5;167;01mTypeError\u001b[39;00m, \u001b[38;5;167;01mValueError\u001b[39;00m) \u001b[38;5;28;01mas\u001b[39;00m e:\n\u001b[1;32m    151\u001b[0m         \u001b[38;5;28;01mraise\u001b[39;00m \u001b[38;5;167;01mValueError\u001b[39;00m(\n\u001b[1;32m    152\u001b[0m             \u001b[38;5;124m\"\u001b[39m\u001b[38;5;124mThe user-provided objective function \u001b[39m\u001b[38;5;124m\"\u001b[39m\n\u001b[1;32m    153\u001b[0m             \u001b[38;5;124m\"\u001b[39m\u001b[38;5;124mmust return a scalar value.\u001b[39m\u001b[38;5;124m\"\u001b[39m\n\u001b[1;32m    154\u001b[0m         ) \u001b[38;5;28;01mfrom\u001b[39;00m \u001b[38;5;21;01me\u001b[39;00m\n\u001b[0;32m--> 156\u001b[0m \u001b[38;5;28;01mif\u001b[39;00m \u001b[43mfx\u001b[49m\u001b[43m \u001b[49m\u001b[38;5;241;43m<\u001b[39;49m\u001b[43m \u001b[49m\u001b[38;5;28;43mself\u001b[39;49m\u001b[38;5;241;43m.\u001b[39;49m\u001b[43m_lowest_f\u001b[49m:\n\u001b[1;32m    157\u001b[0m     \u001b[38;5;28mself\u001b[39m\u001b[38;5;241m.\u001b[39m_lowest_x \u001b[38;5;241m=\u001b[39m x\n\u001b[1;32m    158\u001b[0m     \u001b[38;5;28mself\u001b[39m\u001b[38;5;241m.\u001b[39m_lowest_f \u001b[38;5;241m=\u001b[39m fx\n",
      "\u001b[0;31mTypeError\u001b[0m: '<' not supported between instances of 'complex' and 'float'"
     ]
    }
   ],
   "source": [
    "# First excited state energy calculation with VQE, reference values with FCI\n",
    "vqe_options_t = {\"molecule\": BODIPY_321g_frozen_t, \"ansatz\": BuiltInAnsatze.UpCCGSD}\n",
    "vqe_solver_t = VQESolver(vqe_options_t)\n",
    "vqe_solver_t.build()\n",
    "vqe_energy_t = vqe_solver_t.simulate()\n",
    "print(\"\\n Lowest triplet state\")\n",
    "print(f\"VQE energy triplet = {vqe_energy_t}\")\n",
    "print(f\"CASCI energy triplet = {FCISolver(BODIPY_321g_frozen_t).simulate()}\")\n",
    "algorithm_resources[\"vqe_triplet_state\"] = vqe_solver_t.get_resources()\n"
   ]
  },
  {
   "cell_type": "markdown",
   "id": "bb7d4919",
   "metadata": {},
   "source": [
    "### VQE Deflation\n",
    "\n",
    "This approach can be implented by using the deflation options built in the `VQESolver` class:\n",
    "\n",
    "- The keyword `\"deflation_circuits\"` allows the user to provide a list of circuits to use in the deflation process.\n",
    "- Additionally, the keyword `\"deflation_coeff\"` allows a user to specify the weight in front of the penalty term. This coefficient must be larger than the difference in energy between the ground and the target excited state."
   ]
  },
  {
   "cell_type": "code",
   "execution_count": 26,
   "id": "a87fe781",
   "metadata": {},
   "outputs": [
    {
     "ename": "AttributeError",
     "evalue": "'VQESolver' object has no attribute 'optimal_circuit'",
     "output_type": "error",
     "traceback": [
      "\u001b[0;31m---------------------------------------------------------------------------\u001b[0m",
      "\u001b[0;31mAttributeError\u001b[0m                            Traceback (most recent call last)",
      "Cell \u001b[0;32mIn[26], line 2\u001b[0m\n\u001b[1;32m      1\u001b[0m \u001b[38;5;66;03m# Add initial VQE optimal circuit to the deflation circuits list\u001b[39;00m\n\u001b[0;32m----> 2\u001b[0m deflation_circuits \u001b[38;5;241m=\u001b[39m [\u001b[43mvqe_solver\u001b[49m\u001b[38;5;241;43m.\u001b[39;49m\u001b[43moptimal_circuit\u001b[49m\u001b[38;5;241m.\u001b[39mcopy()]\n\u001b[1;32m      4\u001b[0m \u001b[38;5;66;03m# Calculate first and second excited states by adding optimal circuits to deflation_circuits\u001b[39;00m\n\u001b[1;32m      5\u001b[0m \u001b[38;5;28;01mfor\u001b[39;00m i \u001b[38;5;129;01min\u001b[39;00m \u001b[38;5;28mrange\u001b[39m(\u001b[38;5;241m2\u001b[39m):\n",
      "\u001b[0;31mAttributeError\u001b[0m: 'VQESolver' object has no attribute 'optimal_circuit'"
     ]
    }
   ],
   "source": [
    "# Add initial VQE optimal circuit to the deflation circuits list\n",
    "deflation_circuits = [vqe_solver.optimal_circuit.copy()]\n",
    "\n",
    "# Calculate first and second excited states by adding optimal circuits to deflation_circuits\n",
    "for i in range(2):\n",
    "    vqe_options = {\"molecule\": BODIPY_321g_frozen, \"ansatz\": BuiltInAnsatze.UpCCGSD, \n",
    "                   \"deflation_circuits\": deflation_circuits, \"deflation_coeff\": 0.4}\n",
    "    vqe_solver = VQESolver(vqe_options)\n",
    "    vqe_solver.build()\n",
    "    vqe_energy = vqe_solver.simulate()\n",
    "    print(f\"Excited state #{i+1} \\t VQE energy = {vqe_energy}\")\n",
    "    algorithm_resources[f\"vqe_deflation_state_{i+1}\"] = vqe_solver.get_resources()\n",
    "\n",
    "    deflation_circuits.append(vqe_solver.optimal_circuit.copy())"
   ]
  },
  {
   "cell_type": "markdown",
   "id": "d0001aef",
   "metadata": {},
   "source": [
    "The deflation above generated the singlet states. Sometimes it is useful to use a different reference state. In the next example of deflation, we use a reference state with 2 alpha electrons and 0 beta electrons to calculate the triplet state. The reference state is defined by alternating up then down ordering, which yields `{\"ref_state\": [1, 0, 1, 0]}` for 2 alpha electrons in 2 orbitals for this situation."
   ]
  },
  {
   "cell_type": "code",
   "execution_count": null,
   "id": "0020e65d",
   "metadata": {},
   "outputs": [
    {
     "name": "stdout",
     "output_type": "stream",
     "text": [
      "VQE Excited energy = -673.7288561472081\n"
     ]
    }
   ],
   "source": [
    "vqe_options = {\"molecule\": BODIPY_321g_frozen, \"ansatz\": BuiltInAnsatze.UpCCGSD, \n",
    "               \"deflation_circuits\": deflation_circuits,\n",
    "               \"deflation_coeff\": 0.4, \"ref_state\": [1, 0, 1, 0]}\n",
    "vqe_solver_triplet = VQESolver(vqe_options)\n",
    "vqe_solver_triplet.build()\n",
    "vqe_energy = vqe_solver_triplet.simulate()\n",
    "print(f\"VQE Excited energy = {vqe_energy}\")\n",
    "algorithm_resources[f\"vqe_deflation_state_{3}\"] = vqe_solver_triplet.get_resources()"
   ]
  },
  {
   "cell_type": "markdown",
   "id": "6e41d6fb",
   "metadata": {},
   "source": [
    "### State-Averaged VQE \n",
    "\n",
    "Another method to obtain excited states is to use the State-Averaged VQE Solver (SA-VQE). SA-VQE minimizes the average energy of multiple orthogonal reference states using the same ansatz circuit. As the reference states are orthogonal, using the same circuit transformation (a unitary), results in final states that are also orthogonal. This idea can be found in [arXiv:2009.11417](https://arxiv.org/pdf/2009.11417.pdf).\n",
    "\n",
    "Here, we target singlet states only. This can be accomplished by adding a penalty term with `\"penalty_terms\": {\"S^2\": [2, 0]}`. This means that the target Hamiltonian to be minimized is $H = H_0 + 2 (\\hat{S}^2 - 0)^2$, where $H_0$ is the original molecular Hamiltonian."
   ]
  },
  {
   "cell_type": "code",
   "execution_count": null,
   "id": "ef53e1fe",
   "metadata": {},
   "outputs": [
    {
     "name": "stdout",
     "output_type": "stream",
     "text": [
      "Singlet State 0 has energy -673.6091365225943\n",
      "Singlet State 1 has energy -673.7035223293797\n",
      "Singlet State 2 has energy -673.646759678214\n"
     ]
    }
   ],
   "source": [
    "from tangelo.algorithms.variational import SA_VQESolver\n",
    "\n",
    "vqe_options = {\"molecule\": BODIPY_321g_frozen, \"ref_states\": [[1,1,0,0], [1,0,0,1], [0,0,1,1]],\n",
    "               \"weights\": [1, 1, 1], \"penalty_terms\": {\"S^2\": [2, 0]},\n",
    "               \"qubit_mapping\": \"jw\", \"ansatz\": BuiltInAnsatze.UpCCGSD,\n",
    "               }\n",
    "vqe_solver = SA_VQESolver(vqe_options)\n",
    "vqe_solver.build()\n",
    "enernew = vqe_solver.simulate()\n",
    "for i, energy in enumerate(vqe_solver.state_energies):\n",
    "    print(f\"Singlet State {i} has energy {energy}\")\n",
    "\n",
    "algorithm_resources[\"sa_vqe\"] = vqe_solver.get_resources()"
   ]
  },
  {
   "cell_type": "markdown",
   "id": "0ba68262",
   "metadata": {},
   "source": [
    "The energies above are inaccurate, as the calculated states are restricted to linear combinations of the three lowest singlet states. We can use MC-VQE to generate the exact eigenvectors, as shown in the next section.\n",
    "\n",
    "However, the cell below shows the $\\hat{S}^2$ expectation value is nearly zero for all states, so they are all singlet as expected when using the penalty term."
   ]
  },
  {
   "cell_type": "code",
   "execution_count": null,
   "id": "c9b13ff7",
   "metadata": {},
   "outputs": [
    {
     "name": "stdout",
     "output_type": "stream",
     "text": [
      "State 0 has S^2 = 2.0561899072291112e-08\n",
      "State 1 has S^2 = 1.227889146152017e-06\n",
      "State 2 has S^2 = 1.0664372128432742e-08\n"
     ]
    }
   ],
   "source": [
    "from tangelo.toolboxes.ansatz_generator.fermionic_operators import spin2_operator\n",
    "from tangelo.toolboxes.qubit_mappings.mapping_transform import fermion_to_qubit_mapping as f2q_mapping\n",
    "\n",
    "\n",
    "s2op = f2q_mapping(spin2_operator(2), \"jw\")\n",
    "for i in range(3):\n",
    "    print(f\"State {i} has S^2 = {vqe_solver.backend.get_expectation_value(s2op, vqe_solver.reference_circuits[i]+vqe_solver.optimal_circuit)}\")\n"
   ]
  },
  {
   "cell_type": "markdown",
   "id": "70197a4c",
   "metadata": {},
   "source": [
    "#### State-Averaged VQE with deflation \n",
    "\n",
    "We can obtain the final excited state by using deflation for the three singlet states above and removing the penalty term. We define a reference state with `\"ref_states\": [[1, 0, 1, 0]]` that better targets the remaining triplet state. We can revert back to the UCCSD ansatz for this state as we do not need as expressive an ansatz anymore."
   ]
  },
  {
   "cell_type": "code",
   "execution_count": null,
   "id": "8cc839e5",
   "metadata": {},
   "outputs": [
    {
     "name": "stdout",
     "output_type": "stream",
     "text": [
      "Triplet State 0 has energy -673.728856147206\n"
     ]
    }
   ],
   "source": [
    "vqe_options = {\"molecule\": BODIPY_321g_frozen, \"ref_states\": [[1, 0, 1, 0]],\n",
    "               \"weights\": [1], \"deflation_circuits\": [vqe_solver.reference_circuits[i]+vqe_solver.optimal_circuit for i in range(3)],\n",
    "               \"qubit_mapping\": \"jw\", \"ansatz\": BuiltInAnsatze.UCCSD,\n",
    "               }\n",
    "vqe_solver_deflate = SA_VQESolver(vqe_options)\n",
    "vqe_solver_deflate.build()\n",
    "enernew = vqe_solver_deflate.simulate()\n",
    "\n",
    "for i, energy in enumerate(vqe_solver_deflate.state_energies):\n",
    "    print(f\"Triplet State {i} has energy {energy}\")\n",
    "\n",
    "algorithm_resources[f\"sa_vqe_deflation\"] = vqe_solver_deflate.get_resources()"
   ]
  },
  {
   "cell_type": "markdown",
   "id": "8940473f",
   "metadata": {},
   "source": [
    "This is the correct triplet state energy."
   ]
  },
  {
   "cell_type": "markdown",
   "id": "4ea2c1fd",
   "metadata": {},
   "source": [
    "### State-Averaged Orbital-Optimized VQE\n",
    "\n",
    "This performs the equivalent of a CASSCF calculation using a quantum computer. This approach runs multiple iterations comprised of the two following steps:\n",
    "\n",
    "- SA-VQE calculation\n",
    "- orbital optimization \n",
    "\n",
    "These iterations are called by using the `iterate()` call. The `simulate()` method from `SA_OO_Solver` only performs a State-Averated VQE simulation. The reference for this method is [arXiv:2009.11417](https://arxiv.org/pdf/2009.11417.pdf)."
   ]
  },
  {
   "cell_type": "code",
   "execution_count": null,
   "id": "20bf3b3b",
   "metadata": {},
   "outputs": [
    {
     "name": "stdout",
     "output_type": "stream",
     "text": [
      "State 0 has energy -673.8111974595389\n",
      "State 1 has energy -673.7410825039976\n"
     ]
    }
   ],
   "source": [
    "from tangelo.algorithms.variational import SA_OO_Solver\n",
    "\n",
    "BODIPY_321g_nosym = SQMol(mol_xyz1, q=0, spin=0, basis=\"3-21g\",\n",
    "                      frozen_orbitals=frozen, symmetry=False)\n",
    "vqe_options = {\"molecule\": BODIPY_321g_nosym, \"ref_states\": [[1,1,0,0], [1,0,1,0]],\n",
    "               \"weights\": [1, 1],\n",
    "               \"qubit_mapping\": \"jw\", \"ansatz\": BuiltInAnsatze.UpCCGSD, \"ansatz_options\": {\"k\": 2}\n",
    "               }\n",
    "vqe_solver = SA_OO_Solver(vqe_options)\n",
    "vqe_solver.build()\n",
    "enernew = vqe_solver.iterate()\n",
    "for i, energy in enumerate(vqe_solver.state_energies):\n",
    "    print(f\"State {i} has energy {energy}\")\n",
    "\n",
    "algorithm_resources[\"sa_oo_vqe\"] = vqe_solver.get_resources()"
   ]
  },
  {
   "cell_type": "markdown",
   "id": "9a271e12",
   "metadata": {},
   "source": [
    "### Classical excited state energies\n",
    "\n",
    "Comparing the `SA_OO_VQE` solution to CASSCF calculations from a library such as pyscf shows similar results."
   ]
  },
  {
   "cell_type": "code",
   "execution_count": null,
   "id": "9ec3a60a",
   "metadata": {},
   "outputs": [
    {
     "name": "stdout",
     "output_type": "stream",
     "text": [
      "CASSCF energy = -673.786674857291\n",
      "CASCI E = -673.786674857291  E(CI) = -0.779885769256907  S^2 = 1.0000000\n",
      "CASCI state-averaged energy = -674.322300053242\n",
      "CASCI energy for each state\n",
      "  State 0 weight 0.5  E = -674.355558825066 S^2 = 0.0000000\n",
      "  State 1 weight 0.5  E = -674.289041281418 S^2 = 2.0000000\n"
     ]
    }
   ],
   "source": [
    "from pyscf import mcscf\n",
    "\n",
    "BODIPY_321g_no_sym_copy = SQMol(mol_xyz1, q=0, spin=0, basis=\"3-21g\",\n",
    "                      frozen_orbitals=frozen, symmetry=False)\n",
    "mc = mcscf.CASSCF(BODIPY_321g_no_sym_copy.mean_field, 2, 2).state_average([0.5, 0.5])\n",
    "mc = solvent.ddCOSMO(mc)\n",
    "# Adjust solvent model by modifying the attribute .with_solvent\n",
    "mc.with_solvent.eps = 2.3741  # Toluene dielectric constant\n",
    "energy = mc.kernel()"
   ]
  },
  {
   "cell_type": "code",
   "execution_count": null,
   "id": "6967b4c2",
   "metadata": {},
   "outputs": [
    {
     "name": "stdout",
     "output_type": "stream",
     "text": [
      "CASCI state   0  E = -673.810690381881  E(CI) = -0.832161879847604  S^2 = 0.0000000\n",
      "CASCI state   1  E = -673.728856147202  E(CI) = -0.750327645168454  S^2 = 2.0000000\n",
      "CASCI state   0  E = -674.306862474780  E(CI) = -0.834733091785324  S^2 = 0.0000000\n",
      "CASCI state   1  E = -674.223120244178  E(CI) = -0.750990861183368  S^2 = 2.0000000\n",
      "CASCI state   0  E = -674.306919348760  E(CI) = -0.834733756888113  S^2 = 0.0000000\n",
      "CASCI state   1  E = -674.223175167983  E(CI) = -0.750989576111010  S^2 = 2.0000000\n",
      "CASCI state   0  E = -674.306919348760  E(CI) = -0.834733756888113  S^2 = 0.0000000\n",
      "CASCI state   1  E = -674.223175167983  E(CI) = -0.750989576111010  S^2 = 2.0000000\n",
      "\n",
      "WARN: Mulitple states found in CASCI solver. First state is used to compute the Fock matrix and natural orbitals in active space.\n",
      "\n",
      "Total energy with solvent effects\n",
      "CASCI state   0  E = -673.819769305916  E(CI) = -0.834733756888113  S^2 = 0.0000000\n",
      "CASCI state   1  E = -673.736025125139  E(CI) = -0.750989576111010  S^2 = 2.0000000\n"
     ]
    },
    {
     "data": {
      "text/plain": [
       "array([-673.81976931, -673.73602513])"
      ]
     },
     "execution_count": 33,
     "metadata": {},
     "output_type": "execute_result"
    }
   ],
   "source": [
    "mc = mcscf.CASCI(BODIPY_321g.mean_field, 2, (1, 1))\n",
    "mc = solvent.ddCOSMO(mc)\n",
    "# Adjust solvent model by modifying the attribute .with_solvent\n",
    "mc.with_solvent.eps = 2.3741  # Toluene dielectric constant\n",
    "mc.fcisolver.nroots = 2\n",
    "mc.kernel()[0]\n"
   ]
  }
 ],
 "metadata": {
  "kernelspec": {
   "display_name": "tangelo-env",
   "language": "python",
   "name": "python3"
  },
  "language_info": {
   "codemirror_mode": {
    "name": "ipython",
    "version": 3
   },
   "file_extension": ".py",
   "mimetype": "text/x-python",
   "name": "python",
   "nbconvert_exporter": "python",
   "pygments_lexer": "ipython3",
   "version": "3.10.15"
  }
 },
 "nbformat": 4,
 "nbformat_minor": 5
}
