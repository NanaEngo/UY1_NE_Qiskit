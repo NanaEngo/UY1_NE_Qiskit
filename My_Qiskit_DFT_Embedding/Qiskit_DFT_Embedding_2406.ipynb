{
 "cells": [
  {
   "cell_type": "markdown",
   "metadata": {},
   "source": [
    "# DFT Embedding with Qiskit-nature\n",
    "\n",
    "Nous adoptons le workflow suivant:\n",
    "1. Effectuer les calculs mean-field (les calculs de référence)\n",
    "2. Obtenir le Hamiltonien complet du système hors de l'instance `ElectronicStructureProblem`, à partir des intégrales à 1- et 2-corps ($h_{pq}$ et $h_{pqrs}$)\n",
    "3. Définir un espace actif en utilisant `ActiveSpaceTransformer` et en déduire l'Hamiltonien réduit et l'instance `ElectronicStructureProblem` associé\n",
    "4. Effectuer le mapping dans l'espace qubit\n",
    "5. Effectuer le calculs des états excités à partir du solver choisi.\n",
    "\n",
    "On rappelle que \n",
    "\\begin{align*}\n",
    "h_{pq} & = \\langle\\phi_p|\\mathtt{T}_e + \\mathtt{U}_{en}|\\phi_q\\rangle = \\int \\phi_p(x)^* (\\mathtt{T}_e + \\mathtt{U}_{en}) \\phi_q(x) dx,\\\\\n",
    "h_{pqrs} & = \\langle\\phi_p\\phi_q| \\mathtt{U}_{ee}|\\phi_r\\phi_s\\rangle = \\int \\phi_p(x)^* \\phi_q(y)^* U_{ee} \\phi_r(y) \\phi_s(x) dxdy,\\\\\n",
    "\\phi_j(x)& = \\sum_{ij} A_i(x) \\text{mo\\_coeff}_{i,j},\n",
    "\\end{align*}\n",
    "avec $\\phi_j(x)$ et $A_i(x)$ les orbitales moléculaires et  atomiques respectivement.\n",
    "\n",
    "De facon plus détaillée on a \n",
    "\n",
    "1. **Reference Calculation**\n",
    "\n",
    "    `driver.run_pyscf()` effectue le calcul Hartree-Fock ou DFT, afin d'obtenir les données nécessaires à la construction de l'Hamiltonien.\n",
    "\n",
    "2. **Hamiltonian Construction**\n",
    "\n",
    "    `hamiltonian = ElectronicEnergy(...)` crée un objet `ElectronicEnergy`, représentant l'Hamiltonien électronique.\n",
    "\n",
    "    `ElectronicIntegrals(...)` est utilisé pour construire les intégrales, cad les termes à 1-électron (+-) et à 2-électrons (++--).\n",
    "\n",
    "    `S8Integrals(...)` peut-être utilisé pour calculer les intégrales à 2-électrons sous une forme symétrique (format S8).\n",
    "    \n",
    "    Cependant, il est plus aisé d'utiliser une instance QCSchema.\n",
    "    \n",
    "    ```python\n",
    "    from qiskit_nature.second_q.formats.qcschema import QCSchema\n",
    "    from qiskit_nature.second_q.formats import qcschema_translator\n",
    "\n",
    "    qcschema = driver.to_qcschema(include_dipole=True)\n",
    "    hamiltonian = qcschema_translator._get_mo_hamiltonian_direct(qcschema)\n",
    "    ```\n",
    "\n",
    "3. **Active Space Preparation**\n",
    "\n",
    "    `active_orbitals` qui spécifie l'ensemble des orbitales qui seront prises en compte dans l'espace actif.\n",
    "\n",
    "    `ActiveSpaceTransformer` initialise avec le nombre d'orbitales spatiales et d'électrons dans l'espace actif.\n",
    "\n",
    "    `transformer.prepare_active_space(...)` configure le transformateur en fonction des orbitales actives sélectionnées.\n",
    "\n",
    "4. **Hamiltonian Reduction**\n",
    "\n",
    "    `reduced_hamiltonian = transformer.transform_hamiltonian(hamiltonian)` transforme l'Hamiltonien complet du système en un Hamiltonien de l'espace actif, réduisant ainsi la taille du problème.\n",
    "\n",
    "5. **ElectronicStructureProblem**\n",
    "\n",
    "    `ElectronicStructureProblem` crée une instance Problem avec `reduced_hamiltonian`.\n",
    "\n",
    "    Renseigner, pour le Problem, d'autres propriétés pertinentes (comme les énergies orbitales et l'énergie de référence) .\n",
    "\n",
    "6. **Qubit Mapping and Reduction**\n",
    "\n",
    "    `ParityMapper` est utilisé pour mapper les opérateurs fermioniques aux opérateurs qubit et on effectue la réduction $\\mathbb{Z}_2$.\n",
    "\n",
    "7. **Excited States Calculation**\n",
    "\n",
    "    `NumPyEigensolver` est utilisé pour résoudre l'Hamiltonien qubit afin d'obtenir les états excités.\n",
    "\n",
    "    `ExcitedStatesEigensolver` est configuré pour utiliser `NumPyEigensolver`."
   ]
  },
  {
   "cell_type": "code",
   "execution_count": 1,
   "metadata": {},
   "outputs": [],
   "source": [
    "!export OMP_NUM_THREADS=12"
   ]
  },
  {
   "cell_type": "code",
   "execution_count": 2,
   "metadata": {},
   "outputs": [],
   "source": [
    "# !pip install qiskit-nature[pyscf] -U"
   ]
  },
  {
   "cell_type": "code",
   "execution_count": 3,
   "metadata": {},
   "outputs": [],
   "source": [
    "# from qiskit_ibm_runtime import QiskitRuntimeService\n",
    " \n",
    "# # Save an IBM Quantum account and set it as your default account.\n",
    "# QiskitRuntimeService.save_account(channel=\"ibm_quantum\", \n",
    "#                                   token=\"40684e19b34e4d6dc892e172a0bcf3b419484d1c7e88b29e412ed1b72ee2bc7ff01bdf95afd2c6553cf10a69273d7dfa9c3ef948c42246523fbf4bb51fb1351e\", \n",
    "#                                   set_as_default=True)\n",
    " \n",
    "# # Load saved credentials\n",
    "# service = QiskitRuntimeService()"
   ]
  },
  {
   "cell_type": "markdown",
   "metadata": {},
   "source": [
    "## Mean Fields calculations"
   ]
  },
  {
   "cell_type": "code",
   "execution_count": 4,
   "metadata": {},
   "outputs": [],
   "source": [
    "from qiskit_nature.settings import settings\n",
    "settings.use_symmetry_reduced_integrals = True"
   ]
  },
  {
   "cell_type": "code",
   "execution_count": 20,
   "metadata": {},
   "outputs": [],
   "source": [
    "from rdkit import Chem\n",
    "from rdkit.Chem import AllChem\n",
    "\n",
    "smiles =  'CC1(C2=CC=CC=C2N(C3=CC=CC=C31)C4=CC=C(C=C4)C5=NC(=NC(=N5)C6=CC=CC=C6)C7=CC=CC=C7)C'\n",
    "smi_key = 'DMAC-TRZ'\n",
    "# Defines a molecule from its SMILES string\n",
    "mol_rdkit = Chem.MolFromSmiles(smiles)\n",
    "\n",
    "# Add explicit Hs\n",
    "mol_rdkit = Chem.AddHs(mol_rdkit)\n",
    "\n",
    "# Generates the initial 3D conformation of the molecule\n",
    "AllChem.EmbedMolecule(mol_rdkit)\n",
    "\n",
    "# Optimizes the 3D conformation of the molecule using MMFF - Merck Molecular Force Field\n",
    "AllChem.MMFFOptimizeMolecule(mol_rdkit, maxIters=200, mmffVariant=\"MMFF94s\")\n",
    "\n",
    "#Canonicalize the orientation of the conformation\n",
    "Chem.rdMolTransforms.CanonicalizeMol(mol_rdkit, normalizeCovar=True, ignoreHs=False)\n",
    "\n",
    "# Convert RDKit molecule to XYZ format\n",
    "mol_xyz = Chem.MolToXYZBlock(mol_rdkit)\n",
    "\n",
    "# Remove the first line (number of atoms) from XYZ data\n",
    "mol_xyz = '\\n'.join(mol_xyz.strip().split('\\n')[2:])\n"
   ]
  },
  {
   "cell_type": "code",
   "execution_count": 23,
   "metadata": {},
   "outputs": [],
   "source": [
    "# setup driver\n",
    "from qiskit_nature.second_q.drivers import MethodType, PySCFDriver\n",
    "omega = 1.0\n",
    "driver = PySCFDriver(\n",
    "    atom = mol_xyz,\n",
    "    # atom=\"O 0.0 0.0 0.115; H 0.0 0.754 -0.459; H 0.0 -0.754 -0.459\",\n",
    "    # atom=open('PSPCz.xyz').read(),\n",
    "    # atom=open('Thiophene.xyz').read(),\n",
    "    # atom=open('BODIPY.xyz').read(),\n",
    "    basis=\"6-31g*\",\n",
    "    method=MethodType.RKS,\n",
    "    xc_functional=f\"ldaerf + lr_hf({omega})\",\n",
    "    xcf_library=\"xcfun\",\n",
    ")"
   ]
  },
  {
   "cell_type": "code",
   "execution_count": 24,
   "metadata": {},
   "outputs": [],
   "source": [
    "'''\n",
    "1. Run the reference calculation\n",
    "'''\n",
    "driver.run_pyscf()\n",
    "mf = driver._calc"
   ]
  },
  {
   "cell_type": "code",
   "execution_count": 26,
   "metadata": {},
   "outputs": [
    {
     "name": "stdout",
     "output_type": "stream",
     "text": [
      "Le nombre total d'électrons est 272 et le nombre total d'électrons (alpha, beta) est (136, 136)\n",
      "\n",
      "Les index (0-Based) du (HOMO,LUMO) sont (135, 136)\n",
      "\n",
      "Le nombre d'orbitales atomiques, dans la base 6-31g*, est 616\n",
      "\n",
      "L'énergie nucléaire vaut 3918.305308283061 Ha\n"
     ]
    }
   ],
   "source": [
    "print(f'Le nombre total d\\'électrons est {driver._mol.nelectron} \\\n",
    "et le nombre total d\\'électrons (alpha, beta) est {driver._mol.nelec}\\n')\n",
    "print(f'Les index (0-Based) du (HOMO,LUMO) sont {driver._mol.nelectron//2 -1, driver._mol.nelectron//2}\\n')\n",
    "print(f'Le nombre d\\'orbitales atomiques, dans la base {driver._mol.basis}, est {driver._mol.nao}\\n')\n",
    "print(f'L\\'énergie nucléaire vaut {driver._mol.energy_nuc()} Ha')"
   ]
  },
  {
   "cell_type": "code",
   "execution_count": 27,
   "metadata": {},
   "outputs": [
    {
     "data": {
      "application/vnd.plotly.v1+json": {
       "config": {
        "plotlyServerURL": "https://plot.ly"
       },
       "data": [
        {
         "hovertemplate": "x=%{x}<br>y=%{y}<extra></extra>",
         "legendgroup": "",
         "line": {
          "color": "#636efa",
          "dash": "solid"
         },
         "marker": {
          "symbol": "circle"
         },
         "mode": "lines+markers",
         "name": "",
         "orientation": "v",
         "showlegend": false,
         "type": "scatter",
         "x": [
          0,
          1,
          2,
          3,
          4,
          5,
          6,
          7,
          8,
          9,
          10,
          11,
          12,
          13,
          14,
          15,
          16,
          17,
          18,
          19,
          20,
          21,
          22,
          23,
          24,
          25,
          26,
          27,
          28,
          29,
          30,
          31,
          32,
          33,
          34,
          35,
          36,
          37,
          38,
          39,
          40,
          41,
          42,
          43,
          44,
          45,
          46,
          47,
          48,
          49,
          50,
          51,
          52,
          53,
          54,
          55,
          56,
          57,
          58,
          59,
          60,
          61,
          62,
          63,
          64,
          65,
          66,
          67,
          68,
          69,
          70,
          71,
          72,
          73,
          74,
          75,
          76,
          77,
          78,
          79,
          80,
          81,
          82,
          83,
          84,
          85,
          86,
          87,
          88,
          89,
          90,
          91,
          92,
          93,
          94,
          95,
          96,
          97,
          98,
          99,
          100,
          101,
          102,
          103,
          104,
          105,
          106,
          107,
          108,
          109,
          110,
          111,
          112,
          113,
          114,
          115,
          116,
          117,
          118,
          119,
          120,
          121,
          122,
          123,
          124,
          125,
          126,
          127,
          128,
          129,
          130,
          131,
          132,
          133,
          134,
          135,
          136,
          137,
          138,
          139,
          140,
          141,
          142,
          143,
          144,
          145,
          146,
          147,
          148,
          149,
          150,
          151,
          152,
          153,
          154,
          155,
          156,
          157,
          158,
          159,
          160,
          161,
          162,
          163,
          164,
          165,
          166,
          167,
          168,
          169,
          170,
          171,
          172,
          173,
          174,
          175,
          176,
          177,
          178,
          179,
          180,
          181,
          182,
          183,
          184,
          185,
          186,
          187,
          188,
          189,
          190,
          191,
          192,
          193,
          194,
          195,
          196,
          197,
          198,
          199,
          200,
          201,
          202,
          203,
          204,
          205,
          206,
          207,
          208,
          209,
          210,
          211,
          212,
          213,
          214,
          215,
          216,
          217,
          218,
          219,
          220,
          221,
          222,
          223,
          224,
          225,
          226,
          227,
          228,
          229,
          230,
          231,
          232,
          233,
          234,
          235,
          236,
          237,
          238,
          239,
          240,
          241,
          242,
          243,
          244,
          245,
          246,
          247,
          248,
          249,
          250,
          251,
          252,
          253,
          254,
          255,
          256,
          257,
          258,
          259,
          260,
          261,
          262,
          263,
          264,
          265,
          266,
          267,
          268,
          269,
          270,
          271,
          272,
          273,
          274,
          275,
          276,
          277,
          278,
          279,
          280,
          281,
          282,
          283,
          284,
          285,
          286,
          287,
          288,
          289,
          290,
          291,
          292,
          293,
          294,
          295,
          296,
          297,
          298,
          299,
          300,
          301,
          302,
          303,
          304,
          305,
          306,
          307,
          308,
          309,
          310,
          311,
          312,
          313,
          314,
          315,
          316,
          317,
          318,
          319,
          320,
          321,
          322,
          323,
          324,
          325,
          326,
          327,
          328,
          329,
          330,
          331,
          332,
          333,
          334,
          335,
          336,
          337,
          338,
          339,
          340,
          341,
          342,
          343,
          344,
          345,
          346,
          347,
          348,
          349,
          350,
          351,
          352,
          353,
          354,
          355,
          356,
          357,
          358,
          359,
          360,
          361,
          362,
          363,
          364,
          365,
          366,
          367,
          368,
          369,
          370,
          371,
          372,
          373,
          374,
          375,
          376,
          377,
          378,
          379,
          380,
          381,
          382,
          383,
          384,
          385,
          386,
          387,
          388,
          389,
          390,
          391,
          392,
          393,
          394,
          395,
          396,
          397,
          398,
          399,
          400,
          401,
          402,
          403,
          404,
          405,
          406,
          407,
          408,
          409,
          410,
          411,
          412,
          413,
          414,
          415,
          416,
          417,
          418,
          419,
          420,
          421,
          422,
          423,
          424,
          425,
          426,
          427,
          428,
          429,
          430,
          431,
          432,
          433,
          434,
          435,
          436,
          437,
          438,
          439,
          440,
          441,
          442,
          443,
          444,
          445,
          446,
          447,
          448,
          449,
          450,
          451,
          452,
          453,
          454,
          455,
          456,
          457,
          458,
          459,
          460,
          461,
          462,
          463,
          464,
          465,
          466,
          467,
          468,
          469,
          470,
          471,
          472,
          473,
          474,
          475,
          476,
          477,
          478,
          479,
          480,
          481,
          482,
          483,
          484,
          485,
          486,
          487,
          488,
          489,
          490,
          491,
          492,
          493,
          494,
          495,
          496,
          497,
          498,
          499,
          500,
          501,
          502,
          503,
          504,
          505,
          506,
          507,
          508,
          509,
          510,
          511,
          512,
          513,
          514,
          515,
          516,
          517,
          518,
          519,
          520,
          521,
          522,
          523,
          524,
          525,
          526,
          527,
          528,
          529,
          530,
          531,
          532,
          533,
          534,
          535,
          536,
          537,
          538,
          539,
          540,
          541,
          542,
          543,
          544,
          545,
          546,
          547,
          548,
          549,
          550,
          551,
          552,
          553,
          554,
          555,
          556,
          557,
          558,
          559,
          560,
          561,
          562,
          563,
          564,
          565,
          566,
          567,
          568,
          569,
          570,
          571,
          572,
          573,
          574,
          575,
          576,
          577,
          578,
          579,
          580,
          581,
          582,
          583,
          584,
          585,
          586,
          587,
          588,
          589,
          590,
          591,
          592,
          593,
          594,
          595,
          596,
          597,
          598,
          599,
          600,
          601,
          602,
          603,
          604,
          605,
          606,
          607,
          608,
          609,
          610,
          611,
          612,
          613,
          614,
          615
         ],
         "xaxis": "x",
         "y": [
          2,
          2,
          2,
          2,
          2,
          2,
          2,
          2,
          2,
          2,
          2,
          2,
          2,
          2,
          2,
          2,
          2,
          2,
          2,
          2,
          2,
          2,
          2,
          2,
          2,
          2,
          2,
          2,
          2,
          2,
          2,
          2,
          2,
          2,
          2,
          2,
          2,
          2,
          2,
          2,
          2,
          2,
          2,
          2,
          2,
          2,
          2,
          2,
          2,
          2,
          2,
          2,
          2,
          2,
          2,
          2,
          2,
          2,
          2,
          2,
          2,
          2,
          2,
          2,
          2,
          2,
          2,
          2,
          2,
          2,
          2,
          2,
          2,
          2,
          2,
          2,
          2,
          2,
          2,
          2,
          2,
          2,
          2,
          2,
          2,
          2,
          2,
          2,
          2,
          2,
          2,
          2,
          2,
          2,
          2,
          2,
          2,
          2,
          2,
          2,
          2,
          2,
          2,
          2,
          2,
          2,
          2,
          2,
          2,
          2,
          2,
          2,
          2,
          2,
          2,
          2,
          2,
          2,
          2,
          2,
          2,
          2,
          2,
          2,
          2,
          2,
          2,
          2,
          2,
          2,
          2,
          2,
          2,
          2,
          2,
          2,
          0,
          0,
          0,
          0,
          0,
          0,
          0,
          0,
          0,
          0,
          0,
          0,
          0,
          0,
          0,
          0,
          0,
          0,
          0,
          0,
          0,
          0,
          0,
          0,
          0,
          0,
          0,
          0,
          0,
          0,
          0,
          0,
          0,
          0,
          0,
          0,
          0,
          0,
          0,
          0,
          0,
          0,
          0,
          0,
          0,
          0,
          0,
          0,
          0,
          0,
          0,
          0,
          0,
          0,
          0,
          0,
          0,
          0,
          0,
          0,
          0,
          0,
          0,
          0,
          0,
          0,
          0,
          0,
          0,
          0,
          0,
          0,
          0,
          0,
          0,
          0,
          0,
          0,
          0,
          0,
          0,
          0,
          0,
          0,
          0,
          0,
          0,
          0,
          0,
          0,
          0,
          0,
          0,
          0,
          0,
          0,
          0,
          0,
          0,
          0,
          0,
          0,
          0,
          0,
          0,
          0,
          0,
          0,
          0,
          0,
          0,
          0,
          0,
          0,
          0,
          0,
          0,
          0,
          0,
          0,
          0,
          0,
          0,
          0,
          0,
          0,
          0,
          0,
          0,
          0,
          0,
          0,
          0,
          0,
          0,
          0,
          0,
          0,
          0,
          0,
          0,
          0,
          0,
          0,
          0,
          0,
          0,
          0,
          0,
          0,
          0,
          0,
          0,
          0,
          0,
          0,
          0,
          0,
          0,
          0,
          0,
          0,
          0,
          0,
          0,
          0,
          0,
          0,
          0,
          0,
          0,
          0,
          0,
          0,
          0,
          0,
          0,
          0,
          0,
          0,
          0,
          0,
          0,
          0,
          0,
          0,
          0,
          0,
          0,
          0,
          0,
          0,
          0,
          0,
          0,
          0,
          0,
          0,
          0,
          0,
          0,
          0,
          0,
          0,
          0,
          0,
          0,
          0,
          0,
          0,
          0,
          0,
          0,
          0,
          0,
          0,
          0,
          0,
          0,
          0,
          0,
          0,
          0,
          0,
          0,
          0,
          0,
          0,
          0,
          0,
          0,
          0,
          0,
          0,
          0,
          0,
          0,
          0,
          0,
          0,
          0,
          0,
          0,
          0,
          0,
          0,
          0,
          0,
          0,
          0,
          0,
          0,
          0,
          0,
          0,
          0,
          0,
          0,
          0,
          0,
          0,
          0,
          0,
          0,
          0,
          0,
          0,
          0,
          0,
          0,
          0,
          0,
          0,
          0,
          0,
          0,
          0,
          0,
          0,
          0,
          0,
          0,
          0,
          0,
          0,
          0,
          0,
          0,
          0,
          0,
          0,
          0,
          0,
          0,
          0,
          0,
          0,
          0,
          0,
          0,
          0,
          0,
          0,
          0,
          0,
          0,
          0,
          0,
          0,
          0,
          0,
          0,
          0,
          0,
          0,
          0,
          0,
          0,
          0,
          0,
          0,
          0,
          0,
          0,
          0,
          0,
          0,
          0,
          0,
          0,
          0,
          0,
          0,
          0,
          0,
          0,
          0,
          0,
          0,
          0,
          0,
          0,
          0,
          0,
          0,
          0,
          0,
          0,
          0,
          0,
          0,
          0,
          0,
          0,
          0,
          0,
          0,
          0,
          0,
          0,
          0,
          0,
          0,
          0,
          0,
          0,
          0,
          0,
          0,
          0,
          0,
          0,
          0,
          0,
          0,
          0,
          0,
          0,
          0,
          0,
          0,
          0,
          0,
          0,
          0,
          0,
          0,
          0,
          0,
          0,
          0,
          0,
          0,
          0,
          0,
          0,
          0,
          0,
          0,
          0,
          0,
          0,
          0,
          0,
          0,
          0,
          0,
          0,
          0,
          0,
          0,
          0,
          0,
          0,
          0,
          0,
          0,
          0,
          0,
          0,
          0,
          0,
          0,
          0,
          0,
          0,
          0,
          0,
          0,
          0,
          0,
          0,
          0,
          0,
          0,
          0,
          0,
          0,
          0,
          0,
          0,
          0,
          0,
          0,
          0,
          0,
          0,
          0,
          0,
          0,
          0,
          0,
          0,
          0,
          0,
          0,
          0,
          0,
          0,
          0,
          0,
          0,
          0,
          0,
          0,
          0,
          0,
          0,
          0,
          0,
          0,
          0,
          0,
          0,
          0,
          0,
          0,
          0,
          0,
          0
         ],
         "yaxis": "y"
        }
       ],
       "layout": {
        "legend": {
         "tracegroupgap": 0
        },
        "template": {
         "data": {
          "bar": [
           {
            "error_x": {
             "color": "#2a3f5f"
            },
            "error_y": {
             "color": "#2a3f5f"
            },
            "marker": {
             "line": {
              "color": "#E5ECF6",
              "width": 0.5
             },
             "pattern": {
              "fillmode": "overlay",
              "size": 10,
              "solidity": 0.2
             }
            },
            "type": "bar"
           }
          ],
          "barpolar": [
           {
            "marker": {
             "line": {
              "color": "#E5ECF6",
              "width": 0.5
             },
             "pattern": {
              "fillmode": "overlay",
              "size": 10,
              "solidity": 0.2
             }
            },
            "type": "barpolar"
           }
          ],
          "carpet": [
           {
            "aaxis": {
             "endlinecolor": "#2a3f5f",
             "gridcolor": "white",
             "linecolor": "white",
             "minorgridcolor": "white",
             "startlinecolor": "#2a3f5f"
            },
            "baxis": {
             "endlinecolor": "#2a3f5f",
             "gridcolor": "white",
             "linecolor": "white",
             "minorgridcolor": "white",
             "startlinecolor": "#2a3f5f"
            },
            "type": "carpet"
           }
          ],
          "choropleth": [
           {
            "colorbar": {
             "outlinewidth": 0,
             "ticks": ""
            },
            "type": "choropleth"
           }
          ],
          "contour": [
           {
            "colorbar": {
             "outlinewidth": 0,
             "ticks": ""
            },
            "colorscale": [
             [
              0,
              "#0d0887"
             ],
             [
              0.1111111111111111,
              "#46039f"
             ],
             [
              0.2222222222222222,
              "#7201a8"
             ],
             [
              0.3333333333333333,
              "#9c179e"
             ],
             [
              0.4444444444444444,
              "#bd3786"
             ],
             [
              0.5555555555555556,
              "#d8576b"
             ],
             [
              0.6666666666666666,
              "#ed7953"
             ],
             [
              0.7777777777777778,
              "#fb9f3a"
             ],
             [
              0.8888888888888888,
              "#fdca26"
             ],
             [
              1,
              "#f0f921"
             ]
            ],
            "type": "contour"
           }
          ],
          "contourcarpet": [
           {
            "colorbar": {
             "outlinewidth": 0,
             "ticks": ""
            },
            "type": "contourcarpet"
           }
          ],
          "heatmap": [
           {
            "colorbar": {
             "outlinewidth": 0,
             "ticks": ""
            },
            "colorscale": [
             [
              0,
              "#0d0887"
             ],
             [
              0.1111111111111111,
              "#46039f"
             ],
             [
              0.2222222222222222,
              "#7201a8"
             ],
             [
              0.3333333333333333,
              "#9c179e"
             ],
             [
              0.4444444444444444,
              "#bd3786"
             ],
             [
              0.5555555555555556,
              "#d8576b"
             ],
             [
              0.6666666666666666,
              "#ed7953"
             ],
             [
              0.7777777777777778,
              "#fb9f3a"
             ],
             [
              0.8888888888888888,
              "#fdca26"
             ],
             [
              1,
              "#f0f921"
             ]
            ],
            "type": "heatmap"
           }
          ],
          "heatmapgl": [
           {
            "colorbar": {
             "outlinewidth": 0,
             "ticks": ""
            },
            "colorscale": [
             [
              0,
              "#0d0887"
             ],
             [
              0.1111111111111111,
              "#46039f"
             ],
             [
              0.2222222222222222,
              "#7201a8"
             ],
             [
              0.3333333333333333,
              "#9c179e"
             ],
             [
              0.4444444444444444,
              "#bd3786"
             ],
             [
              0.5555555555555556,
              "#d8576b"
             ],
             [
              0.6666666666666666,
              "#ed7953"
             ],
             [
              0.7777777777777778,
              "#fb9f3a"
             ],
             [
              0.8888888888888888,
              "#fdca26"
             ],
             [
              1,
              "#f0f921"
             ]
            ],
            "type": "heatmapgl"
           }
          ],
          "histogram": [
           {
            "marker": {
             "pattern": {
              "fillmode": "overlay",
              "size": 10,
              "solidity": 0.2
             }
            },
            "type": "histogram"
           }
          ],
          "histogram2d": [
           {
            "colorbar": {
             "outlinewidth": 0,
             "ticks": ""
            },
            "colorscale": [
             [
              0,
              "#0d0887"
             ],
             [
              0.1111111111111111,
              "#46039f"
             ],
             [
              0.2222222222222222,
              "#7201a8"
             ],
             [
              0.3333333333333333,
              "#9c179e"
             ],
             [
              0.4444444444444444,
              "#bd3786"
             ],
             [
              0.5555555555555556,
              "#d8576b"
             ],
             [
              0.6666666666666666,
              "#ed7953"
             ],
             [
              0.7777777777777778,
              "#fb9f3a"
             ],
             [
              0.8888888888888888,
              "#fdca26"
             ],
             [
              1,
              "#f0f921"
             ]
            ],
            "type": "histogram2d"
           }
          ],
          "histogram2dcontour": [
           {
            "colorbar": {
             "outlinewidth": 0,
             "ticks": ""
            },
            "colorscale": [
             [
              0,
              "#0d0887"
             ],
             [
              0.1111111111111111,
              "#46039f"
             ],
             [
              0.2222222222222222,
              "#7201a8"
             ],
             [
              0.3333333333333333,
              "#9c179e"
             ],
             [
              0.4444444444444444,
              "#bd3786"
             ],
             [
              0.5555555555555556,
              "#d8576b"
             ],
             [
              0.6666666666666666,
              "#ed7953"
             ],
             [
              0.7777777777777778,
              "#fb9f3a"
             ],
             [
              0.8888888888888888,
              "#fdca26"
             ],
             [
              1,
              "#f0f921"
             ]
            ],
            "type": "histogram2dcontour"
           }
          ],
          "mesh3d": [
           {
            "colorbar": {
             "outlinewidth": 0,
             "ticks": ""
            },
            "type": "mesh3d"
           }
          ],
          "parcoords": [
           {
            "line": {
             "colorbar": {
              "outlinewidth": 0,
              "ticks": ""
             }
            },
            "type": "parcoords"
           }
          ],
          "pie": [
           {
            "automargin": true,
            "type": "pie"
           }
          ],
          "scatter": [
           {
            "fillpattern": {
             "fillmode": "overlay",
             "size": 10,
             "solidity": 0.2
            },
            "type": "scatter"
           }
          ],
          "scatter3d": [
           {
            "line": {
             "colorbar": {
              "outlinewidth": 0,
              "ticks": ""
             }
            },
            "marker": {
             "colorbar": {
              "outlinewidth": 0,
              "ticks": ""
             }
            },
            "type": "scatter3d"
           }
          ],
          "scattercarpet": [
           {
            "marker": {
             "colorbar": {
              "outlinewidth": 0,
              "ticks": ""
             }
            },
            "type": "scattercarpet"
           }
          ],
          "scattergeo": [
           {
            "marker": {
             "colorbar": {
              "outlinewidth": 0,
              "ticks": ""
             }
            },
            "type": "scattergeo"
           }
          ],
          "scattergl": [
           {
            "marker": {
             "colorbar": {
              "outlinewidth": 0,
              "ticks": ""
             }
            },
            "type": "scattergl"
           }
          ],
          "scattermapbox": [
           {
            "marker": {
             "colorbar": {
              "outlinewidth": 0,
              "ticks": ""
             }
            },
            "type": "scattermapbox"
           }
          ],
          "scatterpolar": [
           {
            "marker": {
             "colorbar": {
              "outlinewidth": 0,
              "ticks": ""
             }
            },
            "type": "scatterpolar"
           }
          ],
          "scatterpolargl": [
           {
            "marker": {
             "colorbar": {
              "outlinewidth": 0,
              "ticks": ""
             }
            },
            "type": "scatterpolargl"
           }
          ],
          "scatterternary": [
           {
            "marker": {
             "colorbar": {
              "outlinewidth": 0,
              "ticks": ""
             }
            },
            "type": "scatterternary"
           }
          ],
          "surface": [
           {
            "colorbar": {
             "outlinewidth": 0,
             "ticks": ""
            },
            "colorscale": [
             [
              0,
              "#0d0887"
             ],
             [
              0.1111111111111111,
              "#46039f"
             ],
             [
              0.2222222222222222,
              "#7201a8"
             ],
             [
              0.3333333333333333,
              "#9c179e"
             ],
             [
              0.4444444444444444,
              "#bd3786"
             ],
             [
              0.5555555555555556,
              "#d8576b"
             ],
             [
              0.6666666666666666,
              "#ed7953"
             ],
             [
              0.7777777777777778,
              "#fb9f3a"
             ],
             [
              0.8888888888888888,
              "#fdca26"
             ],
             [
              1,
              "#f0f921"
             ]
            ],
            "type": "surface"
           }
          ],
          "table": [
           {
            "cells": {
             "fill": {
              "color": "#EBF0F8"
             },
             "line": {
              "color": "white"
             }
            },
            "header": {
             "fill": {
              "color": "#C8D4E3"
             },
             "line": {
              "color": "white"
             }
            },
            "type": "table"
           }
          ]
         },
         "layout": {
          "annotationdefaults": {
           "arrowcolor": "#2a3f5f",
           "arrowhead": 0,
           "arrowwidth": 1
          },
          "autotypenumbers": "strict",
          "coloraxis": {
           "colorbar": {
            "outlinewidth": 0,
            "ticks": ""
           }
          },
          "colorscale": {
           "diverging": [
            [
             0,
             "#8e0152"
            ],
            [
             0.1,
             "#c51b7d"
            ],
            [
             0.2,
             "#de77ae"
            ],
            [
             0.3,
             "#f1b6da"
            ],
            [
             0.4,
             "#fde0ef"
            ],
            [
             0.5,
             "#f7f7f7"
            ],
            [
             0.6,
             "#e6f5d0"
            ],
            [
             0.7,
             "#b8e186"
            ],
            [
             0.8,
             "#7fbc41"
            ],
            [
             0.9,
             "#4d9221"
            ],
            [
             1,
             "#276419"
            ]
           ],
           "sequential": [
            [
             0,
             "#0d0887"
            ],
            [
             0.1111111111111111,
             "#46039f"
            ],
            [
             0.2222222222222222,
             "#7201a8"
            ],
            [
             0.3333333333333333,
             "#9c179e"
            ],
            [
             0.4444444444444444,
             "#bd3786"
            ],
            [
             0.5555555555555556,
             "#d8576b"
            ],
            [
             0.6666666666666666,
             "#ed7953"
            ],
            [
             0.7777777777777778,
             "#fb9f3a"
            ],
            [
             0.8888888888888888,
             "#fdca26"
            ],
            [
             1,
             "#f0f921"
            ]
           ],
           "sequentialminus": [
            [
             0,
             "#0d0887"
            ],
            [
             0.1111111111111111,
             "#46039f"
            ],
            [
             0.2222222222222222,
             "#7201a8"
            ],
            [
             0.3333333333333333,
             "#9c179e"
            ],
            [
             0.4444444444444444,
             "#bd3786"
            ],
            [
             0.5555555555555556,
             "#d8576b"
            ],
            [
             0.6666666666666666,
             "#ed7953"
            ],
            [
             0.7777777777777778,
             "#fb9f3a"
            ],
            [
             0.8888888888888888,
             "#fdca26"
            ],
            [
             1,
             "#f0f921"
            ]
           ]
          },
          "colorway": [
           "#636efa",
           "#EF553B",
           "#00cc96",
           "#ab63fa",
           "#FFA15A",
           "#19d3f3",
           "#FF6692",
           "#B6E880",
           "#FF97FF",
           "#FECB52"
          ],
          "font": {
           "color": "#2a3f5f"
          },
          "geo": {
           "bgcolor": "white",
           "lakecolor": "white",
           "landcolor": "#E5ECF6",
           "showlakes": true,
           "showland": true,
           "subunitcolor": "white"
          },
          "hoverlabel": {
           "align": "left"
          },
          "hovermode": "closest",
          "mapbox": {
           "style": "light"
          },
          "paper_bgcolor": "white",
          "plot_bgcolor": "#E5ECF6",
          "polar": {
           "angularaxis": {
            "gridcolor": "white",
            "linecolor": "white",
            "ticks": ""
           },
           "bgcolor": "#E5ECF6",
           "radialaxis": {
            "gridcolor": "white",
            "linecolor": "white",
            "ticks": ""
           }
          },
          "scene": {
           "xaxis": {
            "backgroundcolor": "#E5ECF6",
            "gridcolor": "white",
            "gridwidth": 2,
            "linecolor": "white",
            "showbackground": true,
            "ticks": "",
            "zerolinecolor": "white"
           },
           "yaxis": {
            "backgroundcolor": "#E5ECF6",
            "gridcolor": "white",
            "gridwidth": 2,
            "linecolor": "white",
            "showbackground": true,
            "ticks": "",
            "zerolinecolor": "white"
           },
           "zaxis": {
            "backgroundcolor": "#E5ECF6",
            "gridcolor": "white",
            "gridwidth": 2,
            "linecolor": "white",
            "showbackground": true,
            "ticks": "",
            "zerolinecolor": "white"
           }
          },
          "shapedefaults": {
           "line": {
            "color": "#2a3f5f"
           }
          },
          "ternary": {
           "aaxis": {
            "gridcolor": "white",
            "linecolor": "white",
            "ticks": ""
           },
           "baxis": {
            "gridcolor": "white",
            "linecolor": "white",
            "ticks": ""
           },
           "bgcolor": "#E5ECF6",
           "caxis": {
            "gridcolor": "white",
            "linecolor": "white",
            "ticks": ""
           }
          },
          "title": {
           "x": 0.05
          },
          "xaxis": {
           "automargin": true,
           "gridcolor": "white",
           "linecolor": "white",
           "ticks": "",
           "title": {
            "standoff": 15
           },
           "zerolinecolor": "white",
           "zerolinewidth": 2
          },
          "yaxis": {
           "automargin": true,
           "gridcolor": "white",
           "linecolor": "white",
           "ticks": "",
           "title": {
            "standoff": 15
           },
           "zerolinecolor": "white",
           "zerolinewidth": 2
          }
         }
        },
        "title": {
         "text": "Molecular Orbital (MO) Occupations"
        },
        "xaxis": {
         "anchor": "y",
         "domain": [
          0,
          1
         ],
         "title": {
          "text": "Orbital Index (0-Based)"
         }
        },
        "yaxis": {
         "anchor": "x",
         "domain": [
          0,
          1
         ],
         "title": {
          "text": "MO Occupation"
         }
        }
       }
      }
     },
     "metadata": {},
     "output_type": "display_data"
    }
   ],
   "source": [
    "import plotly.express as px\n",
    "\n",
    "# Plot the MO Occupations\n",
    "fig = px.line(y=mf.mo_occ, markers=True, title=\"Molecular Orbital (MO) Occupations\")\n",
    "fig.update_layout(xaxis_title=\"Orbital Index (0-Based)\", yaxis_title=\"MO Occupation\")\n",
    "fig.show()"
   ]
  },
  {
   "cell_type": "code",
   "execution_count": 28,
   "metadata": {},
   "outputs": [
    {
     "name": "stdout",
     "output_type": "stream",
     "text": [
      "Energie du Homo = -7.652638241843805 eV\n",
      "Energie de Lumo = 1.0054711133428857 eV\n",
      "Energie du gap Homo-Lumo = 8.65810935518669 eV\n"
     ]
    }
   ],
   "source": [
    "from pyscf.data.nist import HARTREE2EV as au2ev \n",
    "\n",
    "lumo_idx = mf.mo_occ.tolist().index(0.)\n",
    "homo_idx = lumo_idx - 1\n",
    "print(f'Energie du Homo = {mf.mo_energy[homo_idx] * au2ev} eV')\n",
    "print(f'Energie de Lumo = {mf.mo_energy[lumo_idx] * au2ev} eV')\n",
    "print(f'Energie du gap Homo-Lumo = {abs(mf.mo_energy[homo_idx] - mf.mo_energy[lumo_idx]) * au2ev} eV')"
   ]
  },
  {
   "cell_type": "code",
   "execution_count": 29,
   "metadata": {},
   "outputs": [
    {
     "data": {
      "application/vnd.plotly.v1+json": {
       "config": {
        "plotlyServerURL": "https://plot.ly"
       },
       "data": [
        {
         "hovertemplate": "x=%{x}<br>y=%{y}<extra></extra>",
         "legendgroup": "",
         "line": {
          "color": "#636efa",
          "dash": "solid"
         },
         "marker": {
          "symbol": "circle"
         },
         "mode": "lines+markers",
         "name": "",
         "orientation": "v",
         "showlegend": false,
         "type": "scatter",
         "x": [
          0,
          1,
          2,
          3,
          4,
          5,
          6,
          7,
          8,
          9,
          10,
          11,
          12,
          13,
          14,
          15,
          16,
          17,
          18,
          19,
          20,
          21,
          22,
          23,
          24,
          25,
          26,
          27,
          28,
          29,
          30,
          31,
          32,
          33,
          34,
          35,
          36,
          37,
          38,
          39,
          40,
          41,
          42,
          43,
          44,
          45,
          46,
          47,
          48,
          49,
          50,
          51,
          52,
          53,
          54,
          55,
          56,
          57,
          58,
          59,
          60,
          61,
          62,
          63,
          64,
          65,
          66,
          67,
          68,
          69,
          70,
          71,
          72,
          73,
          74,
          75,
          76,
          77,
          78,
          79,
          80,
          81,
          82,
          83,
          84,
          85,
          86,
          87,
          88,
          89,
          90,
          91,
          92,
          93,
          94,
          95,
          96,
          97,
          98,
          99,
          100,
          101,
          102,
          103,
          104,
          105,
          106,
          107,
          108,
          109,
          110,
          111,
          112,
          113,
          114,
          115,
          116,
          117,
          118,
          119,
          120,
          121,
          122,
          123,
          124,
          125,
          126,
          127,
          128,
          129,
          130,
          131,
          132,
          133,
          134,
          135,
          136,
          137,
          138,
          139,
          140,
          141,
          142,
          143,
          144,
          145,
          146,
          147,
          148,
          149,
          150,
          151,
          152,
          153,
          154,
          155,
          156,
          157,
          158,
          159,
          160,
          161,
          162,
          163,
          164,
          165,
          166,
          167,
          168,
          169,
          170,
          171,
          172,
          173,
          174,
          175,
          176,
          177,
          178,
          179,
          180,
          181,
          182,
          183,
          184,
          185,
          186,
          187,
          188,
          189,
          190,
          191,
          192,
          193,
          194,
          195,
          196,
          197,
          198,
          199,
          200,
          201,
          202,
          203,
          204,
          205,
          206,
          207,
          208,
          209,
          210,
          211,
          212,
          213,
          214,
          215,
          216,
          217,
          218,
          219,
          220,
          221,
          222,
          223,
          224,
          225,
          226,
          227,
          228,
          229,
          230,
          231,
          232,
          233,
          234,
          235,
          236,
          237,
          238,
          239,
          240,
          241,
          242,
          243,
          244,
          245,
          246,
          247,
          248,
          249,
          250,
          251,
          252,
          253,
          254,
          255,
          256,
          257,
          258,
          259,
          260,
          261,
          262,
          263,
          264,
          265,
          266,
          267,
          268,
          269,
          270,
          271,
          272,
          273,
          274,
          275,
          276,
          277,
          278,
          279,
          280,
          281,
          282,
          283,
          284,
          285,
          286,
          287,
          288,
          289,
          290,
          291,
          292,
          293,
          294,
          295,
          296,
          297,
          298,
          299,
          300,
          301,
          302,
          303,
          304,
          305,
          306,
          307,
          308,
          309,
          310,
          311,
          312,
          313,
          314,
          315,
          316,
          317,
          318,
          319,
          320,
          321,
          322,
          323,
          324,
          325,
          326,
          327,
          328,
          329,
          330,
          331,
          332,
          333,
          334,
          335,
          336,
          337,
          338,
          339,
          340,
          341,
          342,
          343,
          344,
          345,
          346,
          347,
          348,
          349,
          350,
          351,
          352,
          353,
          354,
          355,
          356,
          357,
          358,
          359,
          360,
          361,
          362,
          363,
          364,
          365,
          366,
          367,
          368,
          369,
          370,
          371,
          372,
          373,
          374,
          375,
          376,
          377,
          378,
          379,
          380,
          381,
          382,
          383,
          384,
          385,
          386,
          387,
          388,
          389,
          390,
          391,
          392,
          393,
          394,
          395,
          396,
          397,
          398,
          399,
          400,
          401,
          402,
          403,
          404,
          405,
          406,
          407,
          408,
          409,
          410,
          411,
          412,
          413,
          414,
          415,
          416,
          417,
          418,
          419,
          420,
          421,
          422,
          423,
          424,
          425,
          426,
          427,
          428,
          429,
          430,
          431,
          432,
          433,
          434,
          435,
          436,
          437,
          438,
          439,
          440,
          441,
          442,
          443,
          444,
          445,
          446,
          447,
          448,
          449,
          450,
          451,
          452,
          453,
          454,
          455,
          456,
          457,
          458,
          459,
          460,
          461,
          462,
          463,
          464,
          465,
          466,
          467,
          468,
          469,
          470,
          471,
          472,
          473,
          474,
          475,
          476,
          477,
          478,
          479,
          480,
          481,
          482,
          483,
          484,
          485,
          486,
          487,
          488,
          489,
          490,
          491,
          492,
          493,
          494,
          495,
          496,
          497,
          498,
          499,
          500,
          501,
          502,
          503,
          504,
          505,
          506,
          507,
          508,
          509,
          510,
          511,
          512,
          513,
          514,
          515,
          516,
          517,
          518,
          519,
          520,
          521,
          522,
          523,
          524,
          525,
          526,
          527,
          528,
          529,
          530,
          531,
          532,
          533,
          534,
          535,
          536,
          537,
          538,
          539,
          540,
          541,
          542,
          543,
          544,
          545,
          546,
          547,
          548,
          549,
          550,
          551,
          552,
          553,
          554,
          555,
          556,
          557,
          558,
          559,
          560,
          561,
          562,
          563,
          564,
          565,
          566,
          567,
          568,
          569,
          570,
          571,
          572,
          573,
          574,
          575,
          576,
          577,
          578,
          579,
          580,
          581,
          582,
          583,
          584,
          585,
          586,
          587,
          588,
          589,
          590,
          591,
          592,
          593,
          594,
          595,
          596,
          597,
          598,
          599,
          600,
          601,
          602,
          603,
          604,
          605,
          606,
          607,
          608,
          609,
          610,
          611,
          612,
          613,
          614,
          615
         ],
         "xaxis": "x",
         "y": [
          -14.413670677707694,
          -14.390181184720628,
          -14.390089232664607,
          -14.389689913407516,
          -10.441642075032798,
          -10.440756711639358,
          -10.440697071679734,
          -10.383623087530502,
          -10.381333634383616,
          -10.38131036039142,
          -10.350786985218106,
          -10.348069561247843,
          -10.345063595861578,
          -10.345039227104479,
          -10.344666124667722,
          -10.34456478844832,
          -10.339668550694553,
          -10.339636875806892,
          -10.339575333686762,
          -10.339555315691069,
          -10.33946473452664,
          -10.339447200421692,
          -10.337135380415173,
          -10.337086123563292,
          -10.332915818494328,
          -10.332889110745413,
          -10.332164424195938,
          -10.332125223258295,
          -10.33208992697764,
          -10.332046965964047,
          -10.326819981169141,
          -10.326811875557931,
          -10.323696364172877,
          -10.323682943698467,
          -10.320519297855101,
          -10.320488163773932,
          -10.3152536870073,
          -10.315247258714171,
          -10.303320033591731,
          -10.30327296737464,
          -1.3216855483901129,
          -1.235928844932651,
          -1.1846238523613841,
          -1.1844094899365871,
          -1.1343647184361392,
          -1.1259469890830205,
          -1.1240255008400268,
          -1.1167656386130762,
          -1.1067177413010825,
          -1.064882739111079,
          -1.0201335931674262,
          -1.0199183511130645,
          -1.0091969282428819,
          -1.001248791615187,
          -0.9953948710815317,
          -0.995060342089004,
          -0.9945073352176202,
          -0.9837412341061037,
          -0.9618628673219731,
          -0.9486920523863549,
          -0.9161036602539077,
          -0.9074987022902359,
          -0.9011400388495496,
          -0.8530970561605112,
          -0.839823150202481,
          -0.8335117464010606,
          -0.8272968385051165,
          -0.8220337781326263,
          -0.8189544559302975,
          -0.8008440607857293,
          -0.7996939604446185,
          -0.7911548826416267,
          -0.7745837226722292,
          -0.7418879480527665,
          -0.740052066226691,
          -0.7365743865952,
          -0.7193591823716327,
          -0.7129982790945735,
          -0.7034487842951741,
          -0.6861364815078322,
          -0.6565590324042758,
          -0.6511592213594978,
          -0.6450197680509838,
          -0.6448440080643125,
          -0.6382208619199286,
          -0.6340805062177265,
          -0.6317345662796039,
          -0.6309957777629797,
          -0.6281299386293833,
          -0.6249629972960535,
          -0.6182477461447423,
          -0.6073664756081223,
          -0.600663348294532,
          -0.5996745750527913,
          -0.5941337347275893,
          -0.5933500479812736,
          -0.5898807091253576,
          -0.5883860448133252,
          -0.5883260501348161,
          -0.5839228834031932,
          -0.5809164123378339,
          -0.5521569702291438,
          -0.5499148780019882,
          -0.543006652046445,
          -0.5420824230107504,
          -0.5409322358469703,
          -0.5322238680638346,
          -0.5312632282726985,
          -0.5258283208335798,
          -0.5191922402607739,
          -0.5156849953350454,
          -0.5127366624604957,
          -0.5114198699110278,
          -0.5101151568550014,
          -0.5054572774441746,
          -0.5026527424409337,
          -0.5015633949629461,
          -0.501514371041606,
          -0.487447898264832,
          -0.4677379419266801,
          -0.45858376755387764,
          -0.45708959884467887,
          -0.45641005759635767,
          -0.4514219153173957,
          -0.42904115860627035,
          -0.4289870525397303,
          -0.36229899024232487,
          -0.35465650317151987,
          -0.3534110427415398,
          -0.35330389685859453,
          -0.3487176442531479,
          -0.3476553281024442,
          -0.3465478347912357,
          -0.34008483109690624,
          -0.33522907598623397,
          -0.28122927057883856,
          0.03695038218942167,
          0.039966902053962354,
          0.09747243712047028,
          0.10661431100482398,
          0.11492671943230835,
          0.12067003795253897,
          0.12072521776518141,
          0.12225713495793344,
          0.1343637332629954,
          0.1616820114086285,
          0.1728754196945677,
          0.17853337751382756,
          0.21435815756606685,
          0.22088304558844152,
          0.2282931746413048,
          0.23409566759172562,
          0.23894831643884004,
          0.24788263425852208,
          0.2566795595414205,
          0.260276156500036,
          0.2657314112937704,
          0.2744050225082911,
          0.28264647170492363,
          0.28332495479288816,
          0.28909930398141176,
          0.2961583834277443,
          0.29958486242508436,
          0.3003200218422051,
          0.30651909905806723,
          0.3097492628552562,
          0.3147008448697843,
          0.31539696830914815,
          0.3154975070349802,
          0.3233188424217245,
          0.33090665839855027,
          0.3328330123680125,
          0.3380690636288222,
          0.3401677158803545,
          0.3454788554238115,
          0.34854989155202204,
          0.364617514005994,
          0.3675170738092585,
          0.3704097893665014,
          0.37475814452585693,
          0.37752324430211254,
          0.38255859868283454,
          0.38312383736306477,
          0.39736548321485393,
          0.3995158120259865,
          0.40070003365079115,
          0.4025867433561416,
          0.4068522094888198,
          0.41871295107862283,
          0.4238011497894577,
          0.42618882255866924,
          0.4276771021024663,
          0.4300143383137818,
          0.4522864775474048,
          0.452972430012558,
          0.4563333495059815,
          0.4580978555573094,
          0.46666467165429004,
          0.4672855280356919,
          0.4716687501068424,
          0.4762589009358174,
          0.48206069507334026,
          0.48570654483093934,
          0.49228483485151386,
          0.5039219561690914,
          0.5049407035712552,
          0.5156256175053385,
          0.5234459640163911,
          0.5379621968222736,
          0.5403634888372904,
          0.5477215319702757,
          0.5506765988069662,
          0.5602710160959689,
          0.5920137795628694,
          0.5989255047970891,
          0.6035828861557822,
          0.6141324565503672,
          0.6182024943228568,
          0.6435111201713412,
          0.6673427724675782,
          0.6739020123856052,
          0.6744353171557792,
          0.6824517902702097,
          0.6839948822581523,
          0.6939967809303563,
          0.7006165487192834,
          0.7015796828255182,
          0.7025848185475878,
          0.7034484119527468,
          0.7092349562798734,
          0.7250817281366447,
          0.7250977958686621,
          0.7260433469146133,
          0.7286190561930556,
          0.7378028188566301,
          0.739246309230402,
          0.7437515208521576,
          0.7450493723791889,
          0.7453952490276075,
          0.7496548566095976,
          0.7537365799963335,
          0.7573294377026791,
          0.7577590658475775,
          0.7623747737408004,
          0.7662198532450921,
          0.769198754527272,
          0.7714440466541636,
          0.774899236394376,
          0.7776609763831996,
          0.7786734384660774,
          0.7796307793680042,
          0.7814566907041199,
          0.7856125212236686,
          0.7882777482295069,
          0.7916622310871081,
          0.7939153949013821,
          0.7946697980466964,
          0.7959218549857683,
          0.7963594566543891,
          0.8003930362152278,
          0.80381500917242,
          0.8062767554847536,
          0.8070690174778641,
          0.8089851373641428,
          0.8108775982194327,
          0.8118469407735076,
          0.8134035630000092,
          0.8173140114549743,
          0.821702026218869,
          0.8249129620508263,
          0.8272166921176278,
          0.8290401963136734,
          0.8359444895634606,
          0.8365303972378805,
          0.8410698122827395,
          0.8485242006399702,
          0.8498499414630166,
          0.8519564221761433,
          0.8557561646976769,
          0.8575574005319919,
          0.8585780168657007,
          0.8728701278847988,
          0.8757666564510969,
          0.8829428231113573,
          0.9006969437326452,
          0.9016691286398036,
          0.9279923035649512,
          0.9351386380678974,
          0.937255646421084,
          0.9459698284272768,
          0.9537476782004234,
          0.9586903433243747,
          0.9684036263335852,
          0.9850760412750499,
          0.9896836664323798,
          0.9937300704154749,
          0.9960218360911608,
          0.9993784278446656,
          0.9999396305154821,
          1.00906724465358,
          1.0105089994398084,
          1.0167182649114042,
          1.0241831290670238,
          1.0253294701407245,
          1.0259106368817084,
          1.026354531619257,
          1.0313195602527454,
          1.0338386903148078,
          1.0459486194860714,
          1.050592104881176,
          1.052849142100314,
          1.0590685531453452,
          1.0612444350792485,
          1.062236556071723,
          1.063979085294853,
          1.0645611038726956,
          1.066348891627636,
          1.0686265043057146,
          1.0726905489871497,
          1.0824133747294238,
          1.089294895511592,
          1.0960622383291163,
          1.1012017311844495,
          1.1024136026398461,
          1.1050012360432981,
          1.1099081493407779,
          1.1134967801797386,
          1.11604334146935,
          1.1240344238277453,
          1.125966971467716,
          1.1369206835033934,
          1.1394029800415286,
          1.14224693373033,
          1.1423996342417262,
          1.1491165957896725,
          1.158233875488051,
          1.1635451334592946,
          1.164980546069405,
          1.1680107702466467,
          1.1721562520044637,
          1.1735231601753557,
          1.174493433069247,
          1.1755666885517602,
          1.1840838890869336,
          1.1883936284893906,
          1.1967552245013038,
          1.2034755747915051,
          1.222376606384886,
          1.2265475665041046,
          1.232136765777235,
          1.2432616877089033,
          1.2541488045002025,
          1.2583930604282692,
          1.2587866833538848,
          1.26400882182149,
          1.2778857223919304,
          1.2783801174451919,
          1.279780102479228,
          1.2855362422241534,
          1.2901436458764228,
          1.292193256356071,
          1.3127481943312107,
          1.3291270570043272,
          1.3316818387937284,
          1.3369562151550627,
          1.345144969863271,
          1.3465319464694518,
          1.3530711304736547,
          1.3562826056458441,
          1.3627563541557255,
          1.3772435678769028,
          1.3833681511297171,
          1.3933544483734204,
          1.3976915083545634,
          1.4023481152928912,
          1.4026880065403615,
          1.4184836775767384,
          1.4368785210086217,
          1.4382871482939998,
          1.439271523642354,
          1.455617936449291,
          1.456974357263076,
          1.4624687930775317,
          1.4657652454416343,
          1.4725962687017822,
          1.4743228400766575,
          1.4753618132237947,
          1.486448690946386,
          1.4915121625540062,
          1.4918058225298585,
          1.5069041882899692,
          1.5092166069644226,
          1.5155135805048654,
          1.5260321706560458,
          1.5302274978043244,
          1.5340528936609634,
          1.5404982846871498,
          1.5452303563133127,
          1.5798234940988782,
          1.5969607881396768,
          1.60473966862588,
          1.6330209977958672,
          1.6546597836902632,
          1.6559638801724101,
          1.6605446386747014,
          1.6667245314323262,
          1.6724186130133716,
          1.675687672549098,
          1.6771536732790466,
          1.6786623268635532,
          1.684438133705686,
          1.692062043765488,
          1.6931692048155749,
          1.69678677501977,
          1.6983294051653912,
          1.7022526694008318,
          1.7093274728472552,
          1.7142930534698964,
          1.727064389052469,
          1.7276269857827828,
          1.7325286971038725,
          1.7336359020309424,
          1.7369450952002456,
          1.744687927562646,
          1.7448699522774211,
          1.745155146955959,
          1.7457823068463967,
          1.7502662209482749,
          1.7520010677767355,
          1.7520202707850203,
          1.753356805229745,
          1.7546161088641992,
          1.7663833824339565,
          1.7781555065396712,
          1.779290065635133,
          1.8165296694550181,
          1.8617026505611893,
          1.8963296919330999,
          1.9113667723085503,
          1.937009365009315,
          1.938390778604474,
          1.9522053801312518,
          1.9708297970225033,
          1.9801459500945036,
          1.9854863769824713,
          1.9969955715721204,
          2.0157238856299924,
          2.022710367548294,
          2.0495512795152053,
          2.049831784674047,
          2.0525897748771684,
          2.0581197987971054,
          2.061840433983422,
          2.0666408207752176,
          2.0705349621279763,
          2.0713996338640905,
          2.073439525880758,
          2.0737007208406064,
          2.0964153121448645,
          2.10284042654301,
          2.110961195188792,
          2.1162079075524343,
          2.125067476728743,
          2.1261755172687304,
          2.131847867018569,
          2.1439690317853035,
          2.1446286041836684,
          2.1480446828844277,
          2.153080464527831,
          2.158370867744133,
          2.1597420566761776,
          2.170748132247601,
          2.1818120538396175,
          2.1825467916698167,
          2.1951934924522956,
          2.2030412258226124,
          2.211999632703523,
          2.216296903933241,
          2.226826962263252,
          2.236278262103008,
          2.2447187007056955,
          2.2453623371315223,
          2.2596105349455198,
          2.263678364436055,
          2.2922326682115255,
          2.293677094398772,
          2.298605663791048,
          2.3009347648889253,
          2.321787434772875,
          2.3218111596072797,
          2.322122338132728,
          2.32821449558382,
          2.329388715516775,
          2.3525387787701955,
          2.3533854043796283,
          2.3623389787999347,
          2.380228544999212,
          2.3806703292509237,
          2.3827365517849426,
          2.3897170857864993,
          2.3908397778500814,
          2.392180260364152,
          2.3956335822655292,
          2.4003697234095993,
          2.415169240463693,
          2.4177019630559893,
          2.42017893890146,
          2.4225409036045527,
          2.4259767569963087,
          2.442207763262738,
          2.4465599253347974,
          2.450744949388844,
          2.457228833984081,
          2.4626479617820625,
          2.4871984230777895,
          2.4962532007766915,
          2.498704720295636,
          2.5068862354679706,
          2.5102114147692367,
          2.5158175875871,
          2.521649256033103,
          2.529450684446284,
          2.5308320667287174,
          2.5344373336514137,
          2.54263664517343,
          2.543818548133998,
          2.543901348530507,
          2.554803359165493,
          2.5723383857115185,
          2.5725763489235307,
          2.5765797069423653,
          2.5788926400571843,
          2.586669937179695,
          2.5976898259051615,
          2.5997889925531665,
          2.608068452362816,
          2.612492578089733,
          2.6137766373327604,
          2.6192491421169795,
          2.642370693790107,
          2.648356503002767,
          2.661968629817498,
          2.6623227756540535,
          2.671080742980776,
          2.695025754102943,
          2.7038652447244083,
          2.7167095372620644,
          2.721851376513949,
          2.724957395678869,
          2.762273670671856,
          2.779671665514738,
          2.7862627620672877,
          2.810188598375507,
          2.826755933359192,
          2.8336987587969884,
          2.8504220160986593,
          2.8511212666020587,
          2.855433576986026,
          2.8653992044600134,
          2.8750530522715656,
          2.8834152498062378,
          2.8859122321669233,
          2.8884714764545683,
          2.904574049693663,
          2.9094044089483853,
          2.925395758344272,
          2.925837273534016,
          2.9301812701064947,
          2.9325783015950706,
          2.939806524667393,
          2.9534319512527163,
          2.974065805580184,
          2.9785768463463946,
          2.987686563386158,
          2.990671453218182,
          3.0046973209104646,
          3.0066368369740646,
          3.0160195902969487,
          3.0201129539265317,
          3.025903918542077,
          3.0267561120370745,
          3.034073449742054,
          3.037188303380011,
          3.041997967687998,
          3.048450902678665,
          3.050113460872726,
          3.054111480247181,
          3.0721291047659607,
          3.0993164895877308,
          3.101251726096588,
          3.1189132681923155,
          3.1362947945589927,
          3.149209544081073,
          3.1654805208275536,
          3.1727204307050805,
          3.1904340749973055,
          3.1947782372538636,
          3.20361098255212,
          3.213847556256287,
          3.23756164279115,
          3.2401857082098933,
          3.24609962205501,
          3.2953958098773026,
          3.3127529918547074,
          3.357461714141446,
          3.419042735826574,
          3.529233383680586,
          3.532712895437675,
          3.575818288948057,
          3.629627223692852,
          3.6618733691733816,
          3.7026714942082712,
          3.7088150461018023,
          3.7408494598235706,
          3.7542767394648533,
          3.8582557757776548
         ],
         "yaxis": "y"
        }
       ],
       "layout": {
        "legend": {
         "tracegroupgap": 0
        },
        "template": {
         "data": {
          "bar": [
           {
            "error_x": {
             "color": "#2a3f5f"
            },
            "error_y": {
             "color": "#2a3f5f"
            },
            "marker": {
             "line": {
              "color": "#E5ECF6",
              "width": 0.5
             },
             "pattern": {
              "fillmode": "overlay",
              "size": 10,
              "solidity": 0.2
             }
            },
            "type": "bar"
           }
          ],
          "barpolar": [
           {
            "marker": {
             "line": {
              "color": "#E5ECF6",
              "width": 0.5
             },
             "pattern": {
              "fillmode": "overlay",
              "size": 10,
              "solidity": 0.2
             }
            },
            "type": "barpolar"
           }
          ],
          "carpet": [
           {
            "aaxis": {
             "endlinecolor": "#2a3f5f",
             "gridcolor": "white",
             "linecolor": "white",
             "minorgridcolor": "white",
             "startlinecolor": "#2a3f5f"
            },
            "baxis": {
             "endlinecolor": "#2a3f5f",
             "gridcolor": "white",
             "linecolor": "white",
             "minorgridcolor": "white",
             "startlinecolor": "#2a3f5f"
            },
            "type": "carpet"
           }
          ],
          "choropleth": [
           {
            "colorbar": {
             "outlinewidth": 0,
             "ticks": ""
            },
            "type": "choropleth"
           }
          ],
          "contour": [
           {
            "colorbar": {
             "outlinewidth": 0,
             "ticks": ""
            },
            "colorscale": [
             [
              0,
              "#0d0887"
             ],
             [
              0.1111111111111111,
              "#46039f"
             ],
             [
              0.2222222222222222,
              "#7201a8"
             ],
             [
              0.3333333333333333,
              "#9c179e"
             ],
             [
              0.4444444444444444,
              "#bd3786"
             ],
             [
              0.5555555555555556,
              "#d8576b"
             ],
             [
              0.6666666666666666,
              "#ed7953"
             ],
             [
              0.7777777777777778,
              "#fb9f3a"
             ],
             [
              0.8888888888888888,
              "#fdca26"
             ],
             [
              1,
              "#f0f921"
             ]
            ],
            "type": "contour"
           }
          ],
          "contourcarpet": [
           {
            "colorbar": {
             "outlinewidth": 0,
             "ticks": ""
            },
            "type": "contourcarpet"
           }
          ],
          "heatmap": [
           {
            "colorbar": {
             "outlinewidth": 0,
             "ticks": ""
            },
            "colorscale": [
             [
              0,
              "#0d0887"
             ],
             [
              0.1111111111111111,
              "#46039f"
             ],
             [
              0.2222222222222222,
              "#7201a8"
             ],
             [
              0.3333333333333333,
              "#9c179e"
             ],
             [
              0.4444444444444444,
              "#bd3786"
             ],
             [
              0.5555555555555556,
              "#d8576b"
             ],
             [
              0.6666666666666666,
              "#ed7953"
             ],
             [
              0.7777777777777778,
              "#fb9f3a"
             ],
             [
              0.8888888888888888,
              "#fdca26"
             ],
             [
              1,
              "#f0f921"
             ]
            ],
            "type": "heatmap"
           }
          ],
          "heatmapgl": [
           {
            "colorbar": {
             "outlinewidth": 0,
             "ticks": ""
            },
            "colorscale": [
             [
              0,
              "#0d0887"
             ],
             [
              0.1111111111111111,
              "#46039f"
             ],
             [
              0.2222222222222222,
              "#7201a8"
             ],
             [
              0.3333333333333333,
              "#9c179e"
             ],
             [
              0.4444444444444444,
              "#bd3786"
             ],
             [
              0.5555555555555556,
              "#d8576b"
             ],
             [
              0.6666666666666666,
              "#ed7953"
             ],
             [
              0.7777777777777778,
              "#fb9f3a"
             ],
             [
              0.8888888888888888,
              "#fdca26"
             ],
             [
              1,
              "#f0f921"
             ]
            ],
            "type": "heatmapgl"
           }
          ],
          "histogram": [
           {
            "marker": {
             "pattern": {
              "fillmode": "overlay",
              "size": 10,
              "solidity": 0.2
             }
            },
            "type": "histogram"
           }
          ],
          "histogram2d": [
           {
            "colorbar": {
             "outlinewidth": 0,
             "ticks": ""
            },
            "colorscale": [
             [
              0,
              "#0d0887"
             ],
             [
              0.1111111111111111,
              "#46039f"
             ],
             [
              0.2222222222222222,
              "#7201a8"
             ],
             [
              0.3333333333333333,
              "#9c179e"
             ],
             [
              0.4444444444444444,
              "#bd3786"
             ],
             [
              0.5555555555555556,
              "#d8576b"
             ],
             [
              0.6666666666666666,
              "#ed7953"
             ],
             [
              0.7777777777777778,
              "#fb9f3a"
             ],
             [
              0.8888888888888888,
              "#fdca26"
             ],
             [
              1,
              "#f0f921"
             ]
            ],
            "type": "histogram2d"
           }
          ],
          "histogram2dcontour": [
           {
            "colorbar": {
             "outlinewidth": 0,
             "ticks": ""
            },
            "colorscale": [
             [
              0,
              "#0d0887"
             ],
             [
              0.1111111111111111,
              "#46039f"
             ],
             [
              0.2222222222222222,
              "#7201a8"
             ],
             [
              0.3333333333333333,
              "#9c179e"
             ],
             [
              0.4444444444444444,
              "#bd3786"
             ],
             [
              0.5555555555555556,
              "#d8576b"
             ],
             [
              0.6666666666666666,
              "#ed7953"
             ],
             [
              0.7777777777777778,
              "#fb9f3a"
             ],
             [
              0.8888888888888888,
              "#fdca26"
             ],
             [
              1,
              "#f0f921"
             ]
            ],
            "type": "histogram2dcontour"
           }
          ],
          "mesh3d": [
           {
            "colorbar": {
             "outlinewidth": 0,
             "ticks": ""
            },
            "type": "mesh3d"
           }
          ],
          "parcoords": [
           {
            "line": {
             "colorbar": {
              "outlinewidth": 0,
              "ticks": ""
             }
            },
            "type": "parcoords"
           }
          ],
          "pie": [
           {
            "automargin": true,
            "type": "pie"
           }
          ],
          "scatter": [
           {
            "fillpattern": {
             "fillmode": "overlay",
             "size": 10,
             "solidity": 0.2
            },
            "type": "scatter"
           }
          ],
          "scatter3d": [
           {
            "line": {
             "colorbar": {
              "outlinewidth": 0,
              "ticks": ""
             }
            },
            "marker": {
             "colorbar": {
              "outlinewidth": 0,
              "ticks": ""
             }
            },
            "type": "scatter3d"
           }
          ],
          "scattercarpet": [
           {
            "marker": {
             "colorbar": {
              "outlinewidth": 0,
              "ticks": ""
             }
            },
            "type": "scattercarpet"
           }
          ],
          "scattergeo": [
           {
            "marker": {
             "colorbar": {
              "outlinewidth": 0,
              "ticks": ""
             }
            },
            "type": "scattergeo"
           }
          ],
          "scattergl": [
           {
            "marker": {
             "colorbar": {
              "outlinewidth": 0,
              "ticks": ""
             }
            },
            "type": "scattergl"
           }
          ],
          "scattermapbox": [
           {
            "marker": {
             "colorbar": {
              "outlinewidth": 0,
              "ticks": ""
             }
            },
            "type": "scattermapbox"
           }
          ],
          "scatterpolar": [
           {
            "marker": {
             "colorbar": {
              "outlinewidth": 0,
              "ticks": ""
             }
            },
            "type": "scatterpolar"
           }
          ],
          "scatterpolargl": [
           {
            "marker": {
             "colorbar": {
              "outlinewidth": 0,
              "ticks": ""
             }
            },
            "type": "scatterpolargl"
           }
          ],
          "scatterternary": [
           {
            "marker": {
             "colorbar": {
              "outlinewidth": 0,
              "ticks": ""
             }
            },
            "type": "scatterternary"
           }
          ],
          "surface": [
           {
            "colorbar": {
             "outlinewidth": 0,
             "ticks": ""
            },
            "colorscale": [
             [
              0,
              "#0d0887"
             ],
             [
              0.1111111111111111,
              "#46039f"
             ],
             [
              0.2222222222222222,
              "#7201a8"
             ],
             [
              0.3333333333333333,
              "#9c179e"
             ],
             [
              0.4444444444444444,
              "#bd3786"
             ],
             [
              0.5555555555555556,
              "#d8576b"
             ],
             [
              0.6666666666666666,
              "#ed7953"
             ],
             [
              0.7777777777777778,
              "#fb9f3a"
             ],
             [
              0.8888888888888888,
              "#fdca26"
             ],
             [
              1,
              "#f0f921"
             ]
            ],
            "type": "surface"
           }
          ],
          "table": [
           {
            "cells": {
             "fill": {
              "color": "#EBF0F8"
             },
             "line": {
              "color": "white"
             }
            },
            "header": {
             "fill": {
              "color": "#C8D4E3"
             },
             "line": {
              "color": "white"
             }
            },
            "type": "table"
           }
          ]
         },
         "layout": {
          "annotationdefaults": {
           "arrowcolor": "#2a3f5f",
           "arrowhead": 0,
           "arrowwidth": 1
          },
          "autotypenumbers": "strict",
          "coloraxis": {
           "colorbar": {
            "outlinewidth": 0,
            "ticks": ""
           }
          },
          "colorscale": {
           "diverging": [
            [
             0,
             "#8e0152"
            ],
            [
             0.1,
             "#c51b7d"
            ],
            [
             0.2,
             "#de77ae"
            ],
            [
             0.3,
             "#f1b6da"
            ],
            [
             0.4,
             "#fde0ef"
            ],
            [
             0.5,
             "#f7f7f7"
            ],
            [
             0.6,
             "#e6f5d0"
            ],
            [
             0.7,
             "#b8e186"
            ],
            [
             0.8,
             "#7fbc41"
            ],
            [
             0.9,
             "#4d9221"
            ],
            [
             1,
             "#276419"
            ]
           ],
           "sequential": [
            [
             0,
             "#0d0887"
            ],
            [
             0.1111111111111111,
             "#46039f"
            ],
            [
             0.2222222222222222,
             "#7201a8"
            ],
            [
             0.3333333333333333,
             "#9c179e"
            ],
            [
             0.4444444444444444,
             "#bd3786"
            ],
            [
             0.5555555555555556,
             "#d8576b"
            ],
            [
             0.6666666666666666,
             "#ed7953"
            ],
            [
             0.7777777777777778,
             "#fb9f3a"
            ],
            [
             0.8888888888888888,
             "#fdca26"
            ],
            [
             1,
             "#f0f921"
            ]
           ],
           "sequentialminus": [
            [
             0,
             "#0d0887"
            ],
            [
             0.1111111111111111,
             "#46039f"
            ],
            [
             0.2222222222222222,
             "#7201a8"
            ],
            [
             0.3333333333333333,
             "#9c179e"
            ],
            [
             0.4444444444444444,
             "#bd3786"
            ],
            [
             0.5555555555555556,
             "#d8576b"
            ],
            [
             0.6666666666666666,
             "#ed7953"
            ],
            [
             0.7777777777777778,
             "#fb9f3a"
            ],
            [
             0.8888888888888888,
             "#fdca26"
            ],
            [
             1,
             "#f0f921"
            ]
           ]
          },
          "colorway": [
           "#636efa",
           "#EF553B",
           "#00cc96",
           "#ab63fa",
           "#FFA15A",
           "#19d3f3",
           "#FF6692",
           "#B6E880",
           "#FF97FF",
           "#FECB52"
          ],
          "font": {
           "color": "#2a3f5f"
          },
          "geo": {
           "bgcolor": "white",
           "lakecolor": "white",
           "landcolor": "#E5ECF6",
           "showlakes": true,
           "showland": true,
           "subunitcolor": "white"
          },
          "hoverlabel": {
           "align": "left"
          },
          "hovermode": "closest",
          "mapbox": {
           "style": "light"
          },
          "paper_bgcolor": "white",
          "plot_bgcolor": "#E5ECF6",
          "polar": {
           "angularaxis": {
            "gridcolor": "white",
            "linecolor": "white",
            "ticks": ""
           },
           "bgcolor": "#E5ECF6",
           "radialaxis": {
            "gridcolor": "white",
            "linecolor": "white",
            "ticks": ""
           }
          },
          "scene": {
           "xaxis": {
            "backgroundcolor": "#E5ECF6",
            "gridcolor": "white",
            "gridwidth": 2,
            "linecolor": "white",
            "showbackground": true,
            "ticks": "",
            "zerolinecolor": "white"
           },
           "yaxis": {
            "backgroundcolor": "#E5ECF6",
            "gridcolor": "white",
            "gridwidth": 2,
            "linecolor": "white",
            "showbackground": true,
            "ticks": "",
            "zerolinecolor": "white"
           },
           "zaxis": {
            "backgroundcolor": "#E5ECF6",
            "gridcolor": "white",
            "gridwidth": 2,
            "linecolor": "white",
            "showbackground": true,
            "ticks": "",
            "zerolinecolor": "white"
           }
          },
          "shapedefaults": {
           "line": {
            "color": "#2a3f5f"
           }
          },
          "ternary": {
           "aaxis": {
            "gridcolor": "white",
            "linecolor": "white",
            "ticks": ""
           },
           "baxis": {
            "gridcolor": "white",
            "linecolor": "white",
            "ticks": ""
           },
           "bgcolor": "#E5ECF6",
           "caxis": {
            "gridcolor": "white",
            "linecolor": "white",
            "ticks": ""
           }
          },
          "title": {
           "x": 0.05
          },
          "xaxis": {
           "automargin": true,
           "gridcolor": "white",
           "linecolor": "white",
           "ticks": "",
           "title": {
            "standoff": 15
           },
           "zerolinecolor": "white",
           "zerolinewidth": 2
          },
          "yaxis": {
           "automargin": true,
           "gridcolor": "white",
           "linecolor": "white",
           "ticks": "",
           "title": {
            "standoff": 15
           },
           "zerolinecolor": "white",
           "zerolinewidth": 2
          }
         }
        },
        "title": {
         "text": "Molecular Orbital (MO) Energies (a.u.)"
        },
        "xaxis": {
         "anchor": "y",
         "domain": [
          0,
          1
         ],
         "title": {
          "text": "Orbital Index (0-Based)"
         }
        },
        "yaxis": {
         "anchor": "x",
         "domain": [
          0,
          1
         ],
         "title": {
          "text": "MO Energies (a.u.)"
         }
        }
       }
      }
     },
     "metadata": {},
     "output_type": "display_data"
    }
   ],
   "source": [
    "# Plot the MO Energies (i.e. eigenvalues of the Fock matrix)\n",
    "fig = px.line(y=mf.mo_energy, markers=True, title=\"Molecular Orbital (MO) Energies (a.u.)\")\n",
    "fig.update_layout(xaxis_title=\"Orbital Index (0-Based)\", yaxis_title=\"MO Energies (a.u.)\")\n",
    "fig.show()"
   ]
  },
  {
   "cell_type": "code",
   "execution_count": 30,
   "metadata": {},
   "outputs": [
    {
     "name": "stdout",
     "output_type": "stream",
     "text": [
      "**** SCF Summaries ****\n",
      "Total Energy =                       -1593.784007953246146\n",
      "Nuclear Repulsion Energy =            3918.305308283061095\n",
      "One-electron Energy =                -9970.885586827305815\n",
      "Two-electron Coulomb Energy =         4678.642672013977062\n",
      "DFT Exchange-Correlation Energy =     -219.846401422978829\n"
     ]
    }
   ],
   "source": [
    "mf.dump_scf_summary()"
   ]
  },
  {
   "cell_type": "code",
   "execution_count": null,
   "metadata": {},
   "outputs": [],
   "source": [
    "from pyscf.tools import molden\n",
    "\n",
    "with open('mytest.molden', 'w') as f1:\n",
    "    molden.header(driver, f1)\n",
    "    molden.orbital_coeff(driver, f1, mf.mo_coeff, ene=mf.mo_energy, occ=mf.mo_occ)"
   ]
  },
  {
   "cell_type": "markdown",
   "metadata": {},
   "source": [
    "## ElectronicEnergy calculation\n",
    "\n",
    "La classe `ElectronicEnergy` implémente le Hamiltonien \n",
    "\n",
    "$$ H_{el} = \\sum_{p, q} h_{pq} a^\\dagger_p a_q\n",
    "         + \\sum_{p, q, r, s} g_{pqrs} a^\\dagger_p a^\\dagger_q a_r a_s ,$$\n",
    "\n",
    "où $h_{pq}$ et $g_{pqrs}$ sont les intégrales électroniques à un et deux corps,\n",
    "stocké dans le conteneur `qiskit_nature.second_q.operators.ElectronicIntegrals`.\n",
    "Lorsqu'il s'agit de coefficients séparés pour les électrons de spin $\\alpha$- et $\\beta$,\n",
    "l'Hamiltonien à spin sans restriction (UHF) peut être obtenu à partir de celui ci-dessus de manière simple.\n",
    "\n",
    "On peut construire une instance de cet Hamiltonien de plusieurs manières.\n",
    "\n",
    "1. Avec une instance existante de `qiskit_nature.second_q.operators.ElectronicIntegrals` :\n",
    "\n",
    "```python\n",
    "   intégrales : ElectronicIntegrals = ...\n",
    "\n",
    "   hamiltonien = ElectronicEnergy (intégrales, constantes = {\"nuclear_repulsion_energy\": 1.0})\n",
    "```\n",
    "2. À partir d’un ensemble brut de matrices de coefficients intégraux \n",
    "    * h1_a: the alpha-spin one-body coefficients.\n",
    "    * h2_aa: the alpha-alpha-spin two-body coefficients.\n",
    "    * h1_b: the beta-spin one-body coefficients.\n",
    "    * h2_bb: the beta-beta-spin two-body coefficients.\n",
    "    * h2_ba: the beta-alpha-spin two-body coefficients.:\n",
    "\n",
    "```python\n",
    "    # en supposant que les intégrales à un et deux corps ont été préalablement calculées\n",
    "    h1_a, h2_aa, h1_b, h2_bb, h2_ba = ...\n",
    "\n",
    "    hamiltonien = ElectronicEnergy.from_raw_integrals(h1_a, h2_aa, h1_b, h2_bb, h2_ba)\n",
    "    hamiltonian.nuclear_repulsion_energy = 1.0\n",
    "```\n",
    "3. À partir d'un instance QSChema\n",
    "```python\n",
    "    from qiskit_nature.second_q.formats.qcschema import QCSchema\n",
    "    from qiskit_nature.second_q.formats import qcschema_translator \n",
    "\n",
    "    qcschema = driver.to_qcschema(include_dipole=True)\n",
    "    hamiltonian = qcschema_translator._get_mo_hamiltonian_direct(qcschema)\n",
    "\n",
    "```\n",
    "\n",
    "Il est à noter que nous avons spécifié l'énergie de répulsion nucléaire comme un décalage d'énergie constant dans ce qui précède. Ce terme ne sera pas inclus dans l'opérateur qubit mappé puisqu'il s'agit d'un terme de décalage constant et qu'il ne nécessite pas d'erreurs lors de la mesure sur un appareil quantique. Il est cependant possible d'inclure des termes d'énergie constante à l'intérieur du conteneur `qiskit_nature.second_q.operators.ElectronicIntegrals`, si l'on souhait qu'il soit inclus dans l'opérateur qubit, lors du mapping de l'opérateur de 2e quantification à l'espace qubit.\n",
    " ``` python\n",
    "    from qiskit_nature.second_q.operators import PolynomialTensor\n",
    "\n",
    "        e_nuc = hamiltonian.nuclear_repulsion_energy\n",
    "        hamiltonian.electronic_integrals.alpha += PolynomialTensor({\"\": e_nuc})\n",
    "        hamiltonian.nuclear_repulsion_energy = None\n",
    "```"
   ]
  },
  {
   "cell_type": "code",
   "execution_count": 31,
   "metadata": {},
   "outputs": [],
   "source": [
    "# def compute_integrals(driver):\n",
    "#     \"\"\"Compute 1-electron and 2-electron integrals\n",
    "#     The return is formatted as\n",
    "#     [numpy.ndarray]*2 numpy array h_{pq} for alpha and beta blocks\n",
    "#     [numpy.ndarray]*3 numpy array storing h_{pqrs} for alpha-alpha, alpha-beta, beta-beta blocks\n",
    "\n",
    "#     Args:\n",
    "#         driver : The PySCF object to calculated UHF integrals for.\n",
    "\n",
    "#     Returns:\n",
    "#         List[array], List[array]: One and two body integrals\n",
    "#     \"\"\"\n",
    "#     from pyscf import ao2mo\n",
    "#     import numpy as np\n",
    "\n",
    "    # step 1 : find nao, nmo (atomic orbitals & molecular orbitals)\n",
    "\n",
    "    # molecular orbitals (alpha and beta will be the same)\n",
    "    # Lets take alpha blocks to find the shape and things\n",
    "\n",
    "    # # molecular orbitals\n",
    "    # mf = driver._calc\n",
    "    # mo_coeff, mo_coeff_b = driver._expand_mo_object(mf.mo_coeff, array_dimension=3)\n",
    "    # nmo = mo_coeff[0].shape[1]\n",
    "    # # # atomic orbitals\n",
    "    # # nao = mo_coeff[0].shape[0]\n",
    "    # nao = len(mo_coeff)\n",
    "    # nmo = nao\n",
    "\n",
    "    # # step 2 : obtain Hcore Hamiltonian (equivalent to int1e_kin + int1e_nuc) in ao basis\n",
    "    # hcore = mf.get_hcore() \n",
    "\n",
    "    # # step 3 : obtain two-electron integral in ao basis\n",
    "    # eri = ao2mo.restore(8, mf._eri, nao)\n",
    "\n",
    "    # # # step 4 : create the placeholder for the matrices\n",
    "    # # # one-electron matrix (alpha, beta)\n",
    "    # # hpq = []\n",
    "\n",
    "    # # step 5 : do the mo transformation\n",
    "    # # step the mo coeff alpha and beta\n",
    "    # mo_a = mo_coeff\n",
    "    # mo_b = mo_coeff_b\n",
    "\n",
    "    # mo transform the hcore\n",
    "    # hpq.append(mo_a.T.dot(hcore).dot(mo_a))\n",
    "    # if mo_coeff_b is not None:\n",
    "        # hpq.append(mo_b.T.dot(hcore).dot(mo_b))\n",
    "    # h1_a = np.dot(np.dot(mo_coeff.T, hcore), mo_coeff)\n",
    "    # if mo_coeff_b is not None:\n",
    "    #     h1_b = np.dot(np.dot(mo_coeff_b.T, hcore), mo_coeff_b)\n",
    "    # else:\n",
    "    #     h1_b = None\n",
    "\n",
    "    # # mo transform the two-electron integrals\n",
    "    # eri_a = ao2mo.incore.full(eri, mo_a)\n",
    "    # eri_b = ao2mo.incore.full(eri, mo_b)\n",
    "    # eri_ba = ao2mo.incore.general(eri, (mo_a, mo_a, mo_b, mo_b), compact=False)\n",
    "\n",
    "    # # Change the format of integrals (full)\n",
    "    # eri_a = ao2mo.restore(1, eri_a, nmo)\n",
    "    # eri_b = ao2mo.restore(1, eri_b, nmo)\n",
    "    # eri_ba = eri_ba.reshape(nmo, nmo, nmo, nmo)\n",
    "\n",
    "    # h2_aa = driver._mol.intor(\"int2e\", aosym=8)\n",
    "    # h2_aa = ao2mo.restore(8, mf._eri, len(mo_coeff))\n",
    "    # h2_aa = ao2mo.incore.full(eri, mo_a)\n",
    "    # if mo_coeff_b is not None:\n",
    "    #     h2_bb = ao2mo.incore.full(eri, mo_a)\n",
    "    #     h2_ba = ao2mo.incore.general(eri, (mo_b, mo_b, mo_a, mo_a), compact=False)\n",
    "    # else:\n",
    "    #     h2_bb = None\n",
    "    #     h2_ba = None\n",
    "\n",
    "    # # convert this into the physicist ordering for OpenFermion\n",
    "    # two_body_integrals_a = np.asarray(eri_a.transpose(0, 2, 3, 1), order='C')\n",
    "    # two_body_integrals_b = np.asarray(eri_b.transpose(0, 2, 3, 1), order='C')\n",
    "    # two_body_integrals_ab = np.asarray(eri_ba.transpose(0, 2, 3, 1), order='C')\n",
    "\n",
    "    # # Gpqrs has alpha, alphaBeta, Beta blocks\n",
    "    # Gpqrs = (two_body_integrals_a, two_body_integrals_ab, two_body_integrals_b)\n",
    "\n",
    "    # return h1_a, h2_aa, h1_b, h2_bb, h2_ba\n"
   ]
  },
  {
   "cell_type": "code",
   "execution_count": 32,
   "metadata": {},
   "outputs": [],
   "source": [
    "'''\n",
    " 2. Build the total Hamiltonian outside of a Problem instance\n",
    "'''\n",
    "# import numpy as np\n",
    "# from pyscf import ao2mo\n",
    "# from qiskit_nature.second_q.operators.symmetric_two_body import fold\n",
    "from qiskit_nature.second_q.hamiltonians import ElectronicEnergy\n",
    "# from qiskit_nature.second_q.operators import ElectronicIntegrals, PolynomialTensor\n",
    "\n",
    "# mo_coeff, mo_coeff_b = driver._expand_mo_object(mf.mo_coeff, array_dimension=3)\n",
    "# h1_a = mf.get_hcore()\n",
    "# h1_a = np.dot(np.dot(mo_coeff.T, h1_a), mo_coeff)\n",
    "# if mo_coeff_b is not None:\n",
    "#     h1_b = np.dot(np.dot(mo_coeff_b.T, h1_a), mo_coeff_b)\n",
    "# else:\n",
    "#     h1_b = None\n",
    "\n",
    "# # h2_aa = driver._mol.intor(\"int2e\", aosym=8)\n",
    "# h2_aa = ao2mo.restore(8, mf._eri, len(mo_coeff))\n",
    "# h2_aa = fold(ao2mo.full(driver._mol, mo_coeff, aosym=4))\n",
    "# if mo_coeff_b is not None:\n",
    "#     h2_bb = fold(ao2mo.full(driver._mol, mo_coeff_b, aosym=4))\n",
    "#     h2_ba = fold(ao2mo.general(\n",
    "#             driver._mol,\n",
    "#             [mo_coeff_b, mo_coeff_b, mo_coeff, mo_coeff],\n",
    "#             aosym=4,\n",
    "#         )\n",
    "#     )\n",
    "# else:\n",
    "#     h2_bb = None\n",
    "#     h2_ba = None\n",
    "\n",
    "# h1_a, h2_aa, h1_b, h2_bb, h2_ba = compute_integrals(driver)\n",
    "    \n",
    "# hamiltonian = ElectronicEnergy.from_raw_integrals(\n",
    "#     h1_a,\n",
    "#     h2_aa,\n",
    "#     h1_b,\n",
    "#     h2_bb,\n",
    "#     h2_ba\n",
    "# )\n",
    "\n",
    "# hamiltonian = ElectronicEnergy.from_raw_integrals(compute_integrals(driver))\n",
    "# # To included the constant nuclear_repulsion_energy in the second_q_op\n",
    "# e_nuc = hamiltonian.nuclear_repulsion_energy\n",
    "# hamiltonian.electronic_integrals.alpha += PolynomialTensor({\"\": e_nuc})\n",
    "# hamiltonian.nuclear_repulsion_energy = driver._mol.energy_nuc()"
   ]
  },
  {
   "cell_type": "code",
   "execution_count": 33,
   "metadata": {},
   "outputs": [
    {
     "ename": "MemoryError",
     "evalue": "Unable to allocate 135. GiB for an array with shape (18056935666,) and data type float64",
     "output_type": "error",
     "traceback": [
      "\u001b[0;31m---------------------------------------------------------------------------\u001b[0m",
      "\u001b[0;31mMemoryError\u001b[0m                               Traceback (most recent call last)",
      "Cell \u001b[0;32mIn[33], line 9\u001b[0m\n\u001b[1;32m      6\u001b[0m \u001b[38;5;28;01mfrom\u001b[39;00m \u001b[38;5;21;01mqiskit_nature\u001b[39;00m\u001b[38;5;21;01m.\u001b[39;00m\u001b[38;5;21;01msecond_q\u001b[39;00m\u001b[38;5;21;01m.\u001b[39;00m\u001b[38;5;21;01mformats\u001b[39;00m \u001b[38;5;28;01mimport\u001b[39;00m qcschema_translator \n\u001b[1;32m      7\u001b[0m \u001b[38;5;28;01mfrom\u001b[39;00m \u001b[38;5;21;01mqiskit_nature\u001b[39;00m\u001b[38;5;21;01m.\u001b[39;00m\u001b[38;5;21;01msecond_q\u001b[39;00m\u001b[38;5;21;01m.\u001b[39;00m\u001b[38;5;21;01moperators\u001b[39;00m \u001b[38;5;28;01mimport\u001b[39;00m PolynomialTensor\n\u001b[0;32m----> 9\u001b[0m qcschema \u001b[38;5;241m=\u001b[39m \u001b[43mdriver\u001b[49m\u001b[38;5;241;43m.\u001b[39;49m\u001b[43mto_qcschema\u001b[49m\u001b[43m(\u001b[49m\u001b[43minclude_dipole\u001b[49m\u001b[38;5;241;43m=\u001b[39;49m\u001b[38;5;28;43;01mTrue\u001b[39;49;00m\u001b[43m)\u001b[49m\n\u001b[1;32m     10\u001b[0m hamiltonian \u001b[38;5;241m=\u001b[39m qcschema_translator\u001b[38;5;241m.\u001b[39m_get_mo_hamiltonian_direct(qcschema)\n\u001b[1;32m     12\u001b[0m hamiltonian\u001b[38;5;241m.\u001b[39mnuclear_repulsion_energy \u001b[38;5;241m=\u001b[39m driver\u001b[38;5;241m.\u001b[39m_mol\u001b[38;5;241m.\u001b[39menergy_nuc()\n",
      "File \u001b[0;32m~/mambaforge/envs/qiskit-env/lib/python3.10/site-packages/qiskit_nature/second_q/drivers/pyscfd/pyscfdriver.py:540\u001b[0m, in \u001b[0;36mPySCFDriver.to_qcschema\u001b[0;34m(self, include_dipole)\u001b[0m\n\u001b[1;32m    537\u001b[0m \u001b[38;5;28;01mif\u001b[39;00m data\u001b[38;5;241m.\u001b[39mmo_coeff_b \u001b[38;5;129;01mis\u001b[39;00m \u001b[38;5;129;01mnot\u001b[39;00m \u001b[38;5;28;01mNone\u001b[39;00m:\n\u001b[1;32m    538\u001b[0m     data\u001b[38;5;241m.\u001b[39mhij_mo_b \u001b[38;5;241m=\u001b[39m np\u001b[38;5;241m.\u001b[39mdot(np\u001b[38;5;241m.\u001b[39mdot(data\u001b[38;5;241m.\u001b[39mmo_coeff_b\u001b[38;5;241m.\u001b[39mT, data\u001b[38;5;241m.\u001b[39mhij), data\u001b[38;5;241m.\u001b[39mmo_coeff_b)\n\u001b[0;32m--> 540\u001b[0m data\u001b[38;5;241m.\u001b[39meri \u001b[38;5;241m=\u001b[39m \u001b[38;5;28;43mself\u001b[39;49m\u001b[38;5;241;43m.\u001b[39;49m\u001b[43m_mol\u001b[49m\u001b[38;5;241;43m.\u001b[39;49m\u001b[43mintor\u001b[49m\u001b[43m(\u001b[49m\u001b[38;5;124;43m\"\u001b[39;49m\u001b[38;5;124;43mint2e\u001b[39;49m\u001b[38;5;124;43m\"\u001b[39;49m\u001b[43m,\u001b[49m\u001b[43m \u001b[49m\u001b[43maosym\u001b[49m\u001b[38;5;241;43m=\u001b[39;49m\u001b[38;5;241;43m8\u001b[39;49m\u001b[43m)\u001b[49m\n\u001b[1;32m    541\u001b[0m data\u001b[38;5;241m.\u001b[39meri_mo \u001b[38;5;241m=\u001b[39m fold(ao2mo\u001b[38;5;241m.\u001b[39mfull(\u001b[38;5;28mself\u001b[39m\u001b[38;5;241m.\u001b[39m_mol, data\u001b[38;5;241m.\u001b[39mmo_coeff, aosym\u001b[38;5;241m=\u001b[39m\u001b[38;5;241m4\u001b[39m))\n\u001b[1;32m    542\u001b[0m \u001b[38;5;28;01mif\u001b[39;00m data\u001b[38;5;241m.\u001b[39mmo_coeff_b \u001b[38;5;129;01mis\u001b[39;00m \u001b[38;5;129;01mnot\u001b[39;00m \u001b[38;5;28;01mNone\u001b[39;00m:\n",
      "File \u001b[0;32m~/mambaforge/envs/qiskit-env/lib/python3.10/site-packages/pyscf/gto/mole.py:3473\u001b[0m, in \u001b[0;36mMoleBase.intor\u001b[0;34m(self, intor, comp, hermi, aosym, out, shls_slice, grids)\u001b[0m\n\u001b[1;32m   3471\u001b[0m     env[NGRIDS] \u001b[38;5;241m=\u001b[39m grids\u001b[38;5;241m.\u001b[39mshape[\u001b[38;5;241m0\u001b[39m]\n\u001b[1;32m   3472\u001b[0m     env[PTR_GRIDS] \u001b[38;5;241m=\u001b[39m env\u001b[38;5;241m.\u001b[39msize \u001b[38;5;241m-\u001b[39m grids\u001b[38;5;241m.\u001b[39msize\n\u001b[0;32m-> 3473\u001b[0m \u001b[38;5;28;01mreturn\u001b[39;00m \u001b[43mmoleintor\u001b[49m\u001b[38;5;241;43m.\u001b[39;49m\u001b[43mgetints\u001b[49m\u001b[43m(\u001b[49m\u001b[43mintor\u001b[49m\u001b[43m,\u001b[49m\u001b[43m \u001b[49m\u001b[38;5;28;43mself\u001b[39;49m\u001b[38;5;241;43m.\u001b[39;49m\u001b[43m_atm\u001b[49m\u001b[43m,\u001b[49m\u001b[43m \u001b[49m\u001b[43mbas\u001b[49m\u001b[43m,\u001b[49m\u001b[43m \u001b[49m\u001b[43menv\u001b[49m\u001b[43m,\u001b[49m\n\u001b[1;32m   3474\u001b[0m \u001b[43m                         \u001b[49m\u001b[43mshls_slice\u001b[49m\u001b[43m,\u001b[49m\u001b[43m \u001b[49m\u001b[43mcomp\u001b[49m\u001b[43m,\u001b[49m\u001b[43m \u001b[49m\u001b[43mhermi\u001b[49m\u001b[43m,\u001b[49m\u001b[43m \u001b[49m\u001b[43maosym\u001b[49m\u001b[43m,\u001b[49m\u001b[43m \u001b[49m\u001b[43mout\u001b[49m\u001b[38;5;241;43m=\u001b[39;49m\u001b[43mout\u001b[49m\u001b[43m)\u001b[49m\n",
      "File \u001b[0;32m~/mambaforge/envs/qiskit-env/lib/python3.10/site-packages/pyscf/gto/moleintor.py:240\u001b[0m, in \u001b[0;36mgetints\u001b[0;34m(intor_name, atm, bas, env, shls_slice, comp, hermi, aosym, ao_loc, cintopt, out)\u001b[0m\n\u001b[1;32m    237\u001b[0m     \u001b[38;5;28;01mreturn\u001b[39;00m getints2c(intor_name, atm, bas, env, shls_slice, comp,\n\u001b[1;32m    238\u001b[0m                      hermi, ao_loc, cintopt, out)\n\u001b[1;32m    239\u001b[0m \u001b[38;5;28;01melif\u001b[39;00m intor_name\u001b[38;5;241m.\u001b[39mstartswith(\u001b[38;5;124m'\u001b[39m\u001b[38;5;124mint2e\u001b[39m\u001b[38;5;124m'\u001b[39m) \u001b[38;5;129;01mor\u001b[39;00m intor_name\u001b[38;5;241m.\u001b[39mstartswith(\u001b[38;5;124m'\u001b[39m\u001b[38;5;124mint4c1e\u001b[39m\u001b[38;5;124m'\u001b[39m):\n\u001b[0;32m--> 240\u001b[0m     \u001b[38;5;28;01mreturn\u001b[39;00m \u001b[43mgetints4c\u001b[49m\u001b[43m(\u001b[49m\u001b[43mintor_name\u001b[49m\u001b[43m,\u001b[49m\u001b[43m \u001b[49m\u001b[43matm\u001b[49m\u001b[43m,\u001b[49m\u001b[43m \u001b[49m\u001b[43mbas\u001b[49m\u001b[43m,\u001b[49m\u001b[43m \u001b[49m\u001b[43menv\u001b[49m\u001b[43m,\u001b[49m\u001b[43m \u001b[49m\u001b[43mshls_slice\u001b[49m\u001b[43m,\u001b[49m\u001b[43m \u001b[49m\u001b[43mcomp\u001b[49m\u001b[43m,\u001b[49m\n\u001b[1;32m    241\u001b[0m \u001b[43m                     \u001b[49m\u001b[43maosym\u001b[49m\u001b[43m,\u001b[49m\u001b[43m \u001b[49m\u001b[43mao_loc\u001b[49m\u001b[43m,\u001b[49m\u001b[43m \u001b[49m\u001b[43mcintopt\u001b[49m\u001b[43m,\u001b[49m\u001b[43m \u001b[49m\u001b[43mout\u001b[49m\u001b[43m)\u001b[49m\n\u001b[1;32m    242\u001b[0m \u001b[38;5;28;01melif\u001b[39;00m intor_name\u001b[38;5;241m.\u001b[39mstartswith(\u001b[38;5;124m'\u001b[39m\u001b[38;5;124mint3c\u001b[39m\u001b[38;5;124m'\u001b[39m):\n\u001b[1;32m    243\u001b[0m     \u001b[38;5;28;01mreturn\u001b[39;00m getints3c(intor_name, atm, bas, env, shls_slice, comp,\n\u001b[1;32m    244\u001b[0m                      aosym, ao_loc, cintopt, out)\n",
      "File \u001b[0;32m~/mambaforge/envs/qiskit-env/lib/python3.10/site-packages/pyscf/gto/moleintor.py:598\u001b[0m, in \u001b[0;36mgetints4c\u001b[0;34m(intor_name, atm, bas, env, shls_slice, comp, aosym, ao_loc, cintopt, out)\u001b[0m\n\u001b[1;32m    596\u001b[0m nao \u001b[38;5;241m=\u001b[39m ao_loc[\u001b[38;5;241m-\u001b[39m\u001b[38;5;241m1\u001b[39m]\n\u001b[1;32m    597\u001b[0m nao_pair \u001b[38;5;241m=\u001b[39m nao\u001b[38;5;241m*\u001b[39m(nao\u001b[38;5;241m+\u001b[39m\u001b[38;5;241m1\u001b[39m)\u001b[38;5;241m/\u001b[39m\u001b[38;5;241m/\u001b[39m\u001b[38;5;241m2\u001b[39m\n\u001b[0;32m--> 598\u001b[0m out \u001b[38;5;241m=\u001b[39m \u001b[43mnumpy\u001b[49m\u001b[38;5;241;43m.\u001b[39;49m\u001b[43mndarray\u001b[49m\u001b[43m(\u001b[49m\u001b[43m(\u001b[49m\u001b[43mnao_pair\u001b[49m\u001b[38;5;241;43m*\u001b[39;49m\u001b[43m(\u001b[49m\u001b[43mnao_pair\u001b[49m\u001b[38;5;241;43m+\u001b[39;49m\u001b[38;5;241;43m1\u001b[39;49m\u001b[43m)\u001b[49m\u001b[38;5;241;43m/\u001b[39;49m\u001b[38;5;241;43m/\u001b[39;49m\u001b[38;5;241;43m2\u001b[39;49m\u001b[43m)\u001b[49m\u001b[43m,\u001b[49m\u001b[43m \u001b[49m\u001b[43mbuffer\u001b[49m\u001b[38;5;241;43m=\u001b[39;49m\u001b[43mout\u001b[49m\u001b[43m)\u001b[49m\n\u001b[1;32m    599\u001b[0m \u001b[38;5;28;01mif\u001b[39;00m nao_pair \u001b[38;5;241m==\u001b[39m \u001b[38;5;241m0\u001b[39m:\n\u001b[1;32m    600\u001b[0m     \u001b[38;5;28;01mreturn\u001b[39;00m out\n",
      "\u001b[0;31mMemoryError\u001b[0m: Unable to allocate 135. GiB for an array with shape (18056935666,) and data type float64"
     ]
    }
   ],
   "source": [
    "'''\n",
    " 2. Build the total Hamiltonian outside of a Problem instance\n",
    " Use of QCSchema\n",
    "'''\n",
    "from qiskit_nature.second_q.formats.qcschema import QCSchema\n",
    "from qiskit_nature.second_q.formats import qcschema_translator \n",
    "from qiskit_nature.second_q.operators import PolynomialTensor\n",
    "\n",
    "qcschema = driver.to_qcschema(include_dipole=True)\n",
    "hamiltonian = qcschema_translator._get_mo_hamiltonian_direct(qcschema)\n",
    "\n",
    "hamiltonian.nuclear_repulsion_energy = driver._mol.energy_nuc()\n",
    "\n",
    "# # To included the constant nuclear_repulsion_energy in the second_q_op\n",
    "# e_nuc = hamiltonian.nuclear_repulsion_energy\n",
    "# hamiltonian.electronic_integrals.alpha += PolynomialTensor({\"\": e_nuc})\n",
    "# # hamiltonian.nuclear_repulsion_energy = None"
   ]
  },
  {
   "cell_type": "markdown",
   "metadata": {},
   "source": [
    "## Active-Space reduction\n",
    "\n",
    "L'énergie électronique totale est définie par, \n",
    "$$\n",
    "    E = \\sum_{pq} h_{pq}D_{pq} + \\frac12\\sum_{pqrs} g_{pqrs}d_{pqrs},\n",
    "$$\n",
    "où $h_{pq}$ et $g_{pqrs}$ sont les intégrales à un et deux électrons, respectivement, et $D$ et $d$ sont les opérateurs statistiques (ou matrices de densité) à une et deux particules.\n",
    "\n",
    "Pour définir un espace actif, nous divisons l'opérateur à un électron en une partie active et une partie inactive, $D=D^A+D^I$. Dans la base des MOs, cette dernière se simplifie à $D^I_{iq}=2\\delta_{iq}$, où nous utilisons la notation des indices de Helgaker dans laquelle $i,j,k,l$ désignent *inactif*, $u,v,x,y$ désignent *actif* et $p,q,r,s$ désignent les MOs *général*. On obtient ainsi,\n",
    "$$\n",
    "    E = E^I + \\sum_{uv} F^I_{uv} D_{uv}^A + \\frac12 \\sum_{uvxy} g_{uvxy}d_{uvxy}^A,\n",
    "$$\n",
    "où l'**opérateur de Fock inactif** est définie comme\n",
    "$$ F^I_{pq} = h_{pq} + \\sum_i (2 g_{iipq} - g_{iqpi}),$$\n",
    "et l'**énergie inactive** est donnée par\n",
    "$$ E^I = \\sum_j h_{ji} + F^I_{jj} = \\frac12 \\sum_{ij} \\Big(h_{ij} + F^I_{jj}\\Big) D^I_{ij} .$$\n",
    "\n",
    "C'est ce qui est implémenté dans `qiskit_nature.second_q.transformers.ActiveSpaceTransformer`.\n",
    "\n",
    "On note que \n",
    "* l'opérateur de Fock *inactive* L'opérateur de Fock, $F^I$, remplace les intégrales à un électron, $h_{pq}$, \n",
    "* les opérateurs statistiques à un et deux électrons, $D^A$ et $d^A$, remplacent $D$ et $d$, et le décalage d'énergie constante, $E^I$, est ajouté.\n",
    "\n",
    "Par conséquent, l'Hamiltonien simulé dans le calculateur quantique  la forme suivante\n",
    "$$\n",
    "    \\mathtt{H}_{qc} = \\sum_{uv} F^I_{uv} a^\\dagger_u a_v + \\sum_{uvxy} g_{uvxy} \n",
    "    a^\\dagger_u a^\\dagger_v a_x a_y .\n",
    "$$\n",
    "En utilisant l'opérateur de Fock inactif à la place des intégrales à un électron, la description de l'espace actif contient un potentiel effectif généré par les électrons inactifs. Par conséquent, cette méthode permet l'exclusion des électrons non centraux tout en conservant une description de haute qualité du système.\n",
    "\n",
    "On rappelle que l'opérateur de Fock est défini comme\n",
    "$$ F_{pq} = h_{pq} + J_{pq} - K_{pq},$$\n",
    "avec $J_{qr} = \\sum g_{pqrs} D_{ps}$ et $K_{pr} = \\sum g_{pqrs} D_{qs}$ est opérateurs de Coulomb et d'échange respectivement."
   ]
  },
  {
   "cell_type": "code",
   "execution_count": null,
   "metadata": {},
   "outputs": [],
   "source": [
    "''' \n",
    "3. Prepare the active space by initializing it with the total problem size information\n",
    "'''\n",
    "from qiskit_nature.second_q.transformers import ActiveSpaceTransformer\n",
    "import numpy as np\n",
    "\n",
    "# Somes variables needed\n",
    "total_num_particles = driver._mol.nelec\n",
    "total_num_spatial_orbitals = driver._mol.nao # hamiltonian.register_length\n",
    "total_num_electrons = driver._mol.nelectron\n",
    "\n",
    "# Alpha-spin\n",
    "num_alpha = total_num_particles[0] # qcschema.properties.calcinfo_nalpha\n",
    "orbital_occupations = np.asarray([1.0] * num_alpha \n",
    "                                 + [0.0] * (total_num_spatial_orbitals - num_alpha))\n",
    "# Beta-spin\n",
    "num_beta = total_num_particles[1] # , qcschema.properties.calcinfo_nbeta\n",
    "orbital_occupations_b = np.asarray([1.0] * num_beta \n",
    "                                   + [0.0] * (total_num_spatial_orbitals - num_beta))\n",
    "# Initialize the transformer\n",
    "transformer =  ActiveSpaceTransformer(2,2)\n",
    "\n",
    "# Prepare the active space\n",
    "transformer.prepare_active_space(total_num_particles, total_num_spatial_orbitals,\n",
    "                                 occupation_alpha=orbital_occupations, \n",
    "                                 occupation_beta=orbital_occupations_b,)\n",
    "# Determine the active space\n",
    "as_orbitals = transformer._determine_active_space(total_num_electrons, total_num_spatial_orbitals)[0]\n",
    "\n",
    "# Use the active space transformer to reduce the total Hamiltonian to the active space\n",
    "reduced_hamiltonian = transformer.transform_hamiltonian(hamiltonian)"
   ]
  },
  {
   "cell_type": "code",
   "execution_count": null,
   "metadata": {},
   "outputs": [
    {
     "name": "stdout",
     "output_type": "stream",
     "text": [
      "[21, 22]\n",
      "Fermionic Operator\n",
      "number spin orbitals=4, number terms=72\n",
      "  0.17376282576625582 * ( +_0 +_0 -_0 -_0 )\n",
      "+ 1.3819719814389634e-06 * ( +_0 +_0 -_1 -_0 )\n",
      "+ 1.3819719814389634e-06 * ( +_0 +_1 -_0 -_0 )\n",
      "+ 0.1555131839170142 * ( +_0 +_1 -_1 -_0 )\n",
      "+ 0.17376282576625582 * ( +_0 +_2 -_2 -_0 )\n",
      "+ 1.3819719814389634e-06 * ( +_0 +_2 -_3 -_0 )\n",
      "+ 1.3819719814389634e-06 * ( +_0 +_3 -_2 -_0 )\n",
      "+ 0.1555131839170142 * ( +_0 +_3 -_3 -_0 )\n",
      "+ 1.3819719814389634e-06 * ( +_0 +_0 -_0 -_1 )\n",
      "+ 0.03465890227078017 * ( +_0 +_0 -_1 -_1 )\n",
      "+ 0.03465890227078017 * ( +_0 +_1 -_0 -_1 )\n",
      "+ 4.7874329104323004e-08 * ( +_0 +_1 -_1 -_1 )\n",
      "+ 1.3819719814389634e-06 * ( +_0 +_2 -_2 -_1 )\n",
      "+ 0.03465890227078017 * ( +_0 +_2 -_3 -_1 )\n",
      "+ 0.03465890227078017 * ( +_0 +_3 -_2 -_1 )\n",
      "+ 4.7874329104323004e-08 * ( +_0 +_3 -_3 -_1 )\n",
      "+ 1.3819719814389634e-06 * ( +_1 +_0 -_0 -_0 )\n",
      "+ 0.03465890227078017 * ( +_1 +_0 -_1 -_0 )\n",
      "+ 0.03465890227078017 * ( +_1 +_1 -_0 -_0 )\n",
      "+ 4.7874329104323004e-08 * ( +_1 +_1 -_1 -_0 )\n",
      "+ 1.3819719814389634e-06 * ( +_1 +_2 -_2 -_0 )\n",
      "+ 0.03465890227078017 * ( +_1 +_2 -_3 -_0 )\n",
      "+ 0.03465890227078017 * ( +_1 +_3 -_2 -_0 )\n",
      "+ 4.7874329104323004e-08 * ( +_1 +_3 -_3 -_0 )\n",
      "+ 0.1555131839170142 * ( +_1 +_0 -_0 -_1 )\n",
      "+ 4.7874329104323004e-08 * ( +_1 +_0 -_1 -_1 )\n",
      "+ 4.7874329104323004e-08 * ( +_1 +_1 -_0 -_1 )\n",
      "+ 0.1487668948286863 * ( +_1 +_1 -_1 -_1 )\n",
      "+ 0.1555131839170142 * ( +_1 +_2 -_2 -_1 )\n",
      "+ 4.7874329104323004e-08 * ( +_1 +_2 -_3 -_1 )\n",
      "+ 4.7874329104323004e-08 * ( +_1 +_3 -_2 -_1 )\n",
      "+ 0.1487668948286863 * ( +_1 +_3 -_3 -_1 )\n",
      "+ 0.17376282576625582 * ( +_2 +_0 -_0 -_2 )\n",
      "+ 1.3819719814389634e-06 * ( +_2 +_0 -_1 -_2 )\n",
      "+ 1.3819719814389634e-06 * ( +_2 +_1 -_0 -_2 )\n",
      "+ 0.1555131839170142 * ( +_2 +_1 -_1 -_2 )\n",
      "+ 0.17376282576625582 * ( +_2 +_2 -_2 -_2 )\n",
      "+ 1.3819719814389634e-06 * ( +_2 +_2 -_3 -_2 )\n",
      "+ 1.3819719814389634e-06 * ( +_2 +_3 -_2 -_2 )\n",
      "+ 0.1555131839170142 * ( +_2 +_3 -_3 -_2 )\n",
      "+ 1.3819719814389634e-06 * ( +_2 +_0 -_0 -_3 )\n",
      "+ 0.03465890227078017 * ( +_2 +_0 -_1 -_3 )\n",
      "+ 0.03465890227078017 * ( +_2 +_1 -_0 -_3 )\n",
      "+ 4.7874329104323004e-08 * ( +_2 +_1 -_1 -_3 )\n",
      "+ 1.3819719814389634e-06 * ( +_2 +_2 -_2 -_3 )\n",
      "+ 0.03465890227078017 * ( +_2 +_2 -_3 -_3 )\n",
      "+ 0.03465890227078017 * ( +_2 +_3 -_2 -_3 )\n",
      "+ 4.7874329104323004e-08 * ( +_2 +_3 -_3 -_3 )\n",
      "+ 1.3819719814389634e-06 * ( +_3 +_0 -_0 -_2 )\n",
      "+ 0.03465890227078017 * ( +_3 +_0 -_1 -_2 )\n",
      "+ 0.03465890227078017 * ( +_3 +_1 -_0 -_2 )\n",
      "+ 4.7874329104323004e-08 * ( +_3 +_1 -_1 -_2 )\n",
      "+ 1.3819719814389634e-06 * ( +_3 +_2 -_2 -_2 )\n",
      "+ 0.03465890227078017 * ( +_3 +_2 -_3 -_2 )\n",
      "+ 0.03465890227078017 * ( +_3 +_3 -_2 -_2 )\n",
      "+ 4.7874329104323004e-08 * ( +_3 +_3 -_3 -_2 )\n",
      "+ 0.1555131839170142 * ( +_3 +_0 -_0 -_3 )\n",
      "+ 4.7874329104323004e-08 * ( +_3 +_0 -_1 -_3 )\n",
      "+ 4.7874329104323004e-08 * ( +_3 +_1 -_0 -_3 )\n",
      "+ 0.1487668948286863 * ( +_3 +_1 -_1 -_3 )\n",
      "+ 0.1555131839170142 * ( +_3 +_2 -_2 -_3 )\n",
      "+ 4.7874329104323004e-08 * ( +_3 +_2 -_3 -_3 )\n",
      "+ 4.7874329104323004e-08 * ( +_3 +_3 -_2 -_3 )\n",
      "+ 0.1487668948286863 * ( +_3 +_3 -_3 -_3 )\n",
      "+ -0.6548840283319044 * ( +_0 -_0 )\n",
      "+ -4.190449794290286e-06 * ( +_0 -_1 )\n",
      "+ -4.190449795360231e-06 * ( +_1 -_0 )\n",
      "+ -0.4034779258258857 * ( +_1 -_1 )\n",
      "+ -0.654884028331908 * ( +_2 -_2 )\n",
      "+ -4.1904497943169035e-06 * ( +_2 -_3 )\n",
      "+ -4.1904497953868485e-06 * ( +_3 -_2 )\n",
      "+ -0.4034779258258857 * ( +_3 -_3 )\n"
     ]
    }
   ],
   "source": [
    "print(as_orbitals)\n",
    "print(reduced_hamiltonian.second_q_op())"
   ]
  },
  {
   "cell_type": "code",
   "execution_count": null,
   "metadata": {},
   "outputs": [],
   "source": [
    "from pyscf.tools import cubegen\n",
    "\n",
    "# Output cube files for active orbitals that can read by Jmol. Avogadro, Gabedit\n",
    "for i in as_orbitals:\n",
    "    cubegen.orbital(\n",
    "        driver._mol, \n",
    "        f'Test_DFT_{i+1}.cube', \n",
    "        mf.mo_coeff[:, i])"
   ]
  },
  {
   "cell_type": "code",
   "execution_count": null,
   "metadata": {},
   "outputs": [],
   "source": [
    "''' \n",
    "4. Setup the Problem instance\n",
    "'''\n",
    "from qiskit_nature.second_q.problems import ElectronicBasis, ElectronicStructureProblem\n",
    "from typing import cast\n",
    "\n",
    "reduced_hamiltonian.constants[\"inactive energy\"] = mf.e_tot - driver._mol.energy_nuc()\n",
    "\n",
    "problem = ElectronicStructureProblem(reduced_hamiltonian)\n",
    "problem.basis = ElectronicBasis.MO\n",
    "problem.reference_energy = mf.e_tot\n",
    "problem.num_spatial_orbitals = transformer._num_spatial_orbitals\n",
    "\n",
    "problem.orbital_occupations = np.diag(\n",
    "    cast(np.ndarray, transformer._active_density.alpha[\"+-\"])\n",
    ")[transformer._active_alpha_indices]\n",
    "problem.orbital_occupations_b = np.diag(\n",
    "    cast(np.ndarray, transformer._active_density.beta[\"+-\"])\n",
    ")[transformer._active_beta_indices]\n",
    "problem.num_particles = (\n",
    "    round(sum(problem.orbital_occupations)),\n",
    "    round(sum(problem.orbital_occupations_b)),\n",
    ")\n",
    "\n",
    "mo_energy, mo_energy_b = driver._expand_mo_object(driver._calc.mo_energy)\n",
    "if mo_energy is not None:\n",
    "    problem.orbital_energies = mo_energy[transformer._active_alpha_indices]\n",
    "if mo_energy_b is not None:\n",
    "    problem.orbital_energies_b = mo_energy_b[transformer._active_beta_indices]"
   ]
  },
  {
   "cell_type": "code",
   "execution_count": null,
   "metadata": {},
   "outputs": [],
   "source": [
    "''' \n",
    "5. Setup Problem Electronic properties\n",
    "'''\n",
    "from qiskit_nature.second_q.properties import (\n",
    "    AngularMomentum,\n",
    "    ElectronicDensity,\n",
    "    Magnetization,\n",
    "    ParticleNumber,\n",
    "    ElectronicDipoleMoment\n",
    ")\n",
    "from qiskit_nature.second_q.operators import Tensor\n",
    "\n",
    "for prop in problem.properties:\n",
    "    if isinstance(prop, (Magnetization, ParticleNumber)):\n",
    "        problem.properties.add(prop.__class__(problem.num_spatial_orbitals))\n",
    "    \n",
    "    elif isinstance(prop, ElectronicDipoleMoment):\n",
    "        problem.properties.electronic_dipole_moment = (\n",
    "            _transform_electronic_dipole_moment(\n",
    "                prop,\n",
    "                transformer._density_total,\n",
    "                transformer._active_density,\n",
    "                transformer._active_basis,\n",
    "                transformer.__class__.__name__,\n",
    "            )\n",
    "        )\n",
    "\n",
    "    elif isinstance(prop, ElectronicDensity):\n",
    "        transformed = transformer._active_basis.transform_electronic_integrals(prop)\n",
    "        problem.properties.electronic_density = ElectronicDensity(\n",
    "            transformed.alpha, transformed.beta, transformed.beta_alpha\n",
    "        )\n",
    "\n",
    "    elif isinstance(prop, AngularMomentum):\n",
    "        if prop.overlap is None:\n",
    "            # only the size needs to be changed\n",
    "            problem.properties.add(prop.__class__(problem.num_spatial_orbitals))\n",
    "            continue\n",
    "\n",
    "        if isinstance(transformer._active_basis.coefficients, ElectronicIntegrals):\n",
    "            coeff_alpha = transformer._active_basis.coefficients.alpha[\"+-\"]\n",
    "            coeff_beta: Tensor\n",
    "            if transformer._active_basis.coefficients.beta.is_empty():\n",
    "                coeff_beta = coeff_alpha\n",
    "            else:\n",
    "                coeff_beta = transformer._active_basis.coefficients.beta[\"+-\"]\n",
    "\n",
    "            problem.properties.angular_momentum = AngularMomentum(\n",
    "                problem.num_spatial_orbitals,\n",
    "                coeff_alpha.transpose() @ prop.overlap @ coeff_beta,\n",
    "            )\n",
    "\n",
    "norb = problem.num_spatial_orbitals\n",
    "problem.properties.particle_number = ParticleNumber(norb)\n",
    "problem.properties.magnetization = Magnetization(norb)\n",
    "problem.properties.angular_momentum = AngularMomentum(norb)\n",
    "problem.properties.electronic_density = ElectronicDensity.from_orbital_occupation(\n",
    "    problem.orbital_occupations, \n",
    "    problem.orbital_occupations_b\n",
    ")\n"
   ]
  },
  {
   "cell_type": "code",
   "execution_count": null,
   "metadata": {},
   "outputs": [],
   "source": [
    "# from qiskit_nature.second_q.operators import ElectronicIntegrals\n",
    "\n",
    "# # Total electronic density\n",
    "# total_density = ElectronicDensity.from_orbital_occupation(\n",
    "#                 orbital_occupations,\n",
    "#                 orbital_occupations_b,\n",
    "#                 include_rdm2=False,\n",
    "#             )\n",
    "\n",
    "# density_total = ElectronicIntegrals.from_raw_integrals(\n",
    "#     np.diag(orbital_occupations), h1_b=np.diag(orbital_occupations_b))\n",
    "# density_actitve = transformer.active_density\n",
    "# active_basis = transformer.active_basis\n"
   ]
  },
  {
   "cell_type": "code",
   "execution_count": null,
   "metadata": {},
   "outputs": [
    {
     "name": "stdout",
     "output_type": "stream",
     "text": [
      "Number of items in the PM Z2 Pauli list: 9\n"
     ]
    },
    {
     "data": {
      "text/plain": [
       "SparsePauliOp(['II', 'IZ', 'ZI', 'ZZ', 'XI', 'XZ', 'IX', 'ZX', 'XX'],\n",
       "              coeffs=[-6.43647118e-01+0.j,  6.86603199e-02+0.j, -6.86603199e-02+0.j,\n",
       " -1.13712725e-02+0.j,  1.46372152e-06+0.j,  6.00215294e-07+0.j,\n",
       "  1.46372152e-06+0.j, -6.00215294e-07+0.j,  4.58829177e-02+0.j])"
      ]
     },
     "execution_count": 24,
     "metadata": {},
     "output_type": "execute_result"
    }
   ],
   "source": [
    "''' \n",
    "6. mapping the Hamiltonian to spin space\n",
    "'''\n",
    "from qiskit_nature.second_q.mappers import JordanWignerMapper, ParityMapper, TaperedQubitMapper\n",
    "\n",
    "mapper = ParityMapper(num_particles=problem.num_particles)\n",
    "mapper = problem.get_tapered_mapper(mapper)\n",
    "\n",
    "Red_hamil_z2qubit = mapper.map(reduced_hamiltonian.second_q_op())\n",
    "print(f\"Number of items in the PM Z2 Pauli list:\", len(Red_hamil_z2qubit))\n",
    "Red_hamil_z2qubit\n"
   ]
  },
  {
   "cell_type": "code",
   "execution_count": null,
   "metadata": {},
   "outputs": [],
   "source": [
    "# ''' \n",
    "# 8. Setup solver \n",
    "# '''\n",
    "# from qiskit_algorithms.minimum_eigensolvers import NumPyMinimumEigensolver\n",
    "# from qiskit_nature.second_q.algorithms import GroundStateEigensolver\n",
    "\n",
    "# solver = NumPyMinimumEigensolver(filter_criterion=problem.get_default_filter_criterion())\n",
    "# # solver = NumPyMinimumEigensolver()\n",
    "# # solver.filter_criterion = lambda state, val, aux: np.isclose(\n",
    "# #     aux[\"ParticleNumber\"][0], 4.0\n",
    "# #     )\n",
    "\n",
    "# algo = GroundStateEigensolver(mapper, solver)\n"
   ]
  },
  {
   "cell_type": "code",
   "execution_count": null,
   "metadata": {},
   "outputs": [],
   "source": [
    "# result = algo.solve(problem)\n",
    "\n",
    "# print(f\"Total ground state energy = {result.total_energies[0]:.4f}\")"
   ]
  },
  {
   "cell_type": "code",
   "execution_count": null,
   "metadata": {},
   "outputs": [
    {
     "name": "stdout",
     "output_type": "stream",
     "text": [
      "=== GROUND STATE ENERGY ===\n",
      " \n",
      "* Electronic ground state energy (Hartree): -3070.943752110647\n",
      "  - computed part:      -0.77705913217\n",
      "  - ActiveSpaceTransformer extracted energy part: -1535.327058640119\n",
      "  - inactive energy extracted energy part: -1534.839634338359\n",
      "~ Nuclear repulsion energy (Hartree): 858.64065153521\n",
      "> Total ground state energy (Hartree): -2212.303100575437\n",
      " \n",
      "=== EXCITED STATE ENERGIES ===\n",
      " \n",
      "  1: \n",
      "* Electronic excited state energy (Hartree): -3070.77582845083\n",
      "> Total excited state energy (Hartree): -2212.135176915619\n",
      "  2: \n",
      "* Electronic excited state energy (Hartree): -3070.654185536302\n",
      "> Total excited state energy (Hartree): -2212.013534001092\n",
      " \n",
      "=== MEASURED OBSERVABLES ===\n",
      " \n",
      "  0:  # Particles: 2.000 S: 0.000 S^2: 0.000 M: 0.000\n",
      "  1:  # Particles: 2.000 S: 0.000 S^2: 0.000 M: 0.000\n",
      "  2:  # Particles: 2.000 S: 0.000 S^2: 0.000 M: 0.000\n"
     ]
    }
   ],
   "source": [
    "''' \n",
    "7. Setup solver \n",
    "'''\n",
    "\n",
    "from qiskit_algorithms import NumPyEigensolver\n",
    "from qiskit_nature.second_q.algorithms import ExcitedStatesEigensolver\n",
    "\n",
    "# Setup the solver\n",
    "numpy_solver = NumPyEigensolver(k=6, filter_criterion=problem.get_default_filter_criterion())\n",
    "\n",
    "# solver = NumPyEigensolver(k=10)\n",
    "# solver.filter_criterion = lambda state, val, aux: np.isclose(\n",
    "#     aux[\"ParticleNumber\"][0], 4.0\n",
    "# )\n",
    "\n",
    "numpy_ES_solver = ExcitedStatesEigensolver(mapper, numpy_solver)\n",
    "NP_ES = numpy_ES_solver.solve(problem)\n",
    "\n",
    "print(NP_ES)\n"
   ]
  }
 ],
 "metadata": {
  "kernelspec": {
   "display_name": "qiskit-env",
   "language": "python",
   "name": "python3"
  },
  "language_info": {
   "codemirror_mode": {
    "name": "ipython",
    "version": 3
   },
   "file_extension": ".py",
   "mimetype": "text/x-python",
   "name": "python",
   "nbconvert_exporter": "python",
   "pygments_lexer": "ipython3",
   "version": "3.10.14"
  }
 },
 "nbformat": 4,
 "nbformat_minor": 2
}
