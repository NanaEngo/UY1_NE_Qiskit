{
 "cells": [
  {
   "cell_type": "markdown",
   "metadata": {
    "id": "mOclGIFNL8wf"
   },
   "source": [
    "# Excited States in Tangelo"
   ]
  },
  {
   "cell_type": "markdown",
   "metadata": {
    "id": "8BtSmADsL8wj"
   },
   "source": [
    "## Introduction\n",
    "\n",
    "One impactful application of quantum chemistry, in both academia and industry, is the study of the interaction of light with matter. Absorption (resp. emission) of a photon by a molecule can promote (resp. demote) an electron from a lower (resp. higher) electronic state to a higher (resp. lower) energy electronic state. The photon wavelength (i.e. energy) required for these transitions to occur is determined by the difference between the two respective electronic states. Therefore, it is imperative to be able to calculate accurate energies for both ground and excited states to study light/matter interations. These energy differences play a central role in many technologies such as solar panels, light-emitting diodes (LED), displays, and colorants. "
   ]
  },
  {
   "attachments": {},
   "cell_type": "markdown",
   "metadata": {
    "id": "ZjlMQmjsL8wk"
   },
   "source": [
    "To be more concrete, a colorant must emit light in a narrow region in the visible spectrum to be appropriate for the purpose, that is to say it must exhibit a specific wavelength. Another example is solar panels, where the absorption spectrum of a molecule is tuned via chemical functionalization to fit the solar emission spectrum to optimize the energy output efficiency. Here we show an example of a spectrum for the BODIPY molecule, a molecule widely used for fluorescent dyes. BODIPY absorbs light at a lower wavelength (higher energy) and emits light at a higher wavelength (lower energy). To compute this spectrum, one needs to calculate the ground and excited state energies and calculate their intensities. The absorption spectrum for the simplest BODIPY is shown below. Different absorption and emission wavelengths can be targeted by substituting the hydrogen atoms with different functional groups [J. Chem. Phys. 155, 244102 (2021)](https://aip.scitation.org/doi/10.1063/5.0076787).\n",
    "\n",
    "![BODIPY](../img/bodipy_absorption.png)\n",
    "\n",
    "As there are a very large number of compounds to be considered, predicting absorption/emission UV-visible spectra would be a valuable asset to the scientific community.\n",
    "\n",
    "To achieve complete understanding of light interaction with a molecule, the quantum chemistry community has worked on several algorithms. In general, one must compute the relevant molecular electronic structures for the prediction of UV light absorption/emission. This notebook shows how Tangelo enables excited states calculations by implementing a few existing quantum algorithms. These are broadly grouped into variational optimization algorithms and algorithms that rely on Hamiltonian simulation. Along the way, we keep track of the quantum computational resources required by each of these approaches, and summarize this information at the end of the notebook. The use case here is Li $_2$ for expediency but many of these quantum algorithms can, in principle, be extended to much larger systems such as the BODIPY molecule above.\n",
    "\n",
    "It is worth noting that even with all the computed excited states, non-trivial effects can happen (solvation effect, geometry change, etc.) in which all modify the shape of a spectrum. In this notebook, we do not discuss how these effects are accounted for, but the calculations presented here are the necessary first steps towards computing excited states."
   ]
  },
  {
   "attachments": {},
   "cell_type": "markdown",
   "metadata": {
    "id": "iujthgTEPHjH"
   },
   "source": [
    "## Installation & Background\n",
    "In order to successfully run this notebook, you need to install Tangelo. It is also important to be somewhat familiar with the variational quantum eigensolver (VQE). Information about VQE can be found in our [VQE with Tangelo](../variational_methods/vqe.ipynb) notebook. Information about each algorithm can be found by following the references linked when each method is introduced. The cell below installs Tangelo in your environment, if it has not been done already."
   ]
  },
  {
   "cell_type": "code",
   "execution_count": 1,
   "metadata": {},
   "outputs": [],
   "source": [
    "try:\n",
    "    import tangelo\n",
    "except ModuleNotFoundError:\n",
    "    !pip install git+https://github.com/goodchemistryco/Tangelo.git@develop --quiet\n",
    "\n",
    "# Download the data folder at https://github.com/goodchemistryco/Tangelo-Examples/tree/main/examples/chemistry/data\n",
    "import os\n",
    "if not os.path.isdir(\"data\"):\n",
    "    !sudo apt install subversion\n",
    "    !svn checkout https://github.com/goodchemistryco/Tangelo-Examples/branches/main/examples/chemistry/data"
   ]
  },
  {
   "cell_type": "markdown",
   "metadata": {
    "id": "xPrfVi8IL8wl"
   },
   "source": [
    "## Table of Contents\n",
    "* [1. Obtaining excited state energies classically](#1)\n",
    "* [2. Variational optimization algorithms](#2)\n",
    "    * [2.1 VQE for lowest singlet and triplet state ](#21)\n",
    "    * [2.2 VQE Deflation](#22)\n",
    "    * [2.3 Quantum Subspace Expansion](#23)\n",
    "    * [2.4 State-Averaged VQE](#24)\n",
    "    * [2.5 Multi-state contracted VQE (MC-VQE)](#25)\n",
    "    * [2.6 State-Averaged VQE with deflation](#26)\n",
    "    * [2.7 State-Averaged Orbital-Optimized VQE](#27)\n",
    "* [3. Hamiltonian Simulation algorithms](#3)\n",
    "    * [3.1 Multi-Reference Selected Quantum Krylov](#31)\n",
    "    * [3.2 Rodeo Algorithm](#32)\n",
    "* [4. Closing words](#4)"
   ]
  },
  {
   "cell_type": "markdown",
   "metadata": {
    "id": "knX1VqLsL8wl"
   },
   "source": [
    "The molecular system we use to illustrate a number of excited state algorithms in this notebook is Li $_2$ near its equilibrium geometry. The full calculation of the Li $_2$ energies would be non-trivial and very computationally expensive; we therefore restrict ourselves to an active space of 2 electrons in 2 orbitals which involve 4 qubits when mapped to a qubit Hamiltonian using the Jordan-Wigner mapping. However, there are still non-trivial effects that occur with this small problem, made particularly evident in section [2.7](#27).  We define two molecule objects:\n",
    "\n",
    "- `mol_li2` defined as the ground state configuration with 2 electrons in the HOMO.\n",
    "- `mol_li2_t` defined as the triplet configuration with an alpha electron in each of the HOMO and LUMO."
   ]
  },
  {
   "cell_type": "code",
   "execution_count": 1,
   "metadata": {},
   "outputs": [],
   "source": [
    "from tangelo import SecondQuantizedMolecule as SQMol\n",
    "li2=  \"\"\"Li 0.  0. 0.\n",
    "         Li 3.0 0. 0. \"\"\"\n",
    "\n",
    "# 2 electrons in 2 orbitals\n",
    "fo = [0,1]+[i for i in range(4,28)]\n",
    "\n",
    "# Runs RHF calculation\n",
    "mol_Li2 = SQMol(li2, q=0, spin=0, basis='6-31g(d,p)', frozen_orbitals=fo, symmetry=True)\n",
    "\n",
    "# Runs ROHF calculation\n",
    "mol_Li2_t = SQMol(li2, q=0, spin=2, basis=\"6-31g(d,p)\", frozen_orbitals=fo, symmetry=True)"
   ]
  },
  {
   "cell_type": "markdown",
   "metadata": {
    "id": "D-72nuJ3L8wn"
   },
   "source": [
    "Since we set `symmetry=True` in the initialization, the symmetry labels of all the \n",
    "orbitals have been populated in `mol_li2.mo_symm_labels`."
   ]
  },
  {
   "cell_type": "code",
   "execution_count": 3,
   "metadata": {},
   "outputs": [
    {
     "name": "stdout",
     "output_type": "stream",
     "text": [
      "  #  Energy  Symm Occ\n",
      "  1  -2.4478  A1g   2\n",
      "  2  -2.4478  A1u   2\n",
      "  3  -0.1716  A1g   2\n",
      "  4   0.0129  A1u   0\n",
      "Number of active electrons: 2\n",
      "Number of active orbtials: 2\n"
     ]
    }
   ],
   "source": [
    "# Symmetry labels and occupations for frozen core and active orbitals\n",
    "print(\"  #  Energy  Symm Occ\")\n",
    "for i in range(4):\n",
    "    print(f\"{i+1:3d}{mol_Li2.mo_energies[i]: 9.4f}  {mol_Li2.mo_symm_labels[i]}   {int(mol_Li2.mo_occ[i])}\")\n",
    "\n",
    "# Active electrons, Active orbitals\n",
    "print(f\"Number of active electrons: {mol_Li2.n_active_electrons}\")\n",
    "print(f\"Number of active orbtials: {mol_Li2.n_active_mos}\")"
   ]
  },
  {
   "cell_type": "markdown",
   "metadata": {
    "id": "INDk1VI0L8wo"
   },
   "source": [
    "We can examine the molecular orbitals by exporting them as cube files. These can then be read in by your favourite orbital viewer.\n",
    "\n",
    "```python\n",
    "from pyscf.tools import cubegen\n",
    "# Output cube files for active orbitals\n",
    "for i in [2, 3]:\n",
    "    cubegen.orbital(mol_Li2.to_pyscf(basis = mol_Li2.basis), f'li2_{i+1}.cube', mol_Li2.mean_field.mo_coeff[:, i])\n",
    "```"
   ]
  },
  {
   "cell_type": "markdown",
   "metadata": {
    "id": "wwUS06EwL8wp"
   },
   "source": [
    "## 1. Obtaining excited state energies classically <a class=\"anchor\" id=\"1\"></a>\n",
    "\n",
    "In order to compare the various quantum algorithms, it is useful to have the classically calculated values. Below we will calculate the two A1g and A2g states using PySCF CASCI implementation (https://pyscf.org/user/mcscf.html)."
   ]
  },
  {
   "cell_type": "code",
   "execution_count": 4,
   "metadata": {},
   "outputs": [
    {
     "name": "stdout",
     "output_type": "stream",
     "text": [
      "Calculation for A1g symmetry\n",
      "\n",
      "WARN: Mulitple states found in CASCI solver. First state is used to compute the Fock matrix and natural orbitals in active space.\n",
      "\n",
      "CASCI state 0  E = -14.8696203037798  E(CI) = -0.575225247721381  S^2 = 0.0000000\n",
      "CASCI state 1  E = -14.6801959955889  E(CI) = -0.385800939530508  S^2 = 0.0000000\n",
      "\n",
      " Calculation for A1u symmetry\n",
      "\n",
      "WARN: Mulitple states found in CASCI solver. First state is used to compute the Fock matrix and natural orbitals in active space.\n",
      "\n",
      "CASCI state 0  E = -14.8387663453888  E(CI) = -0.544371289330403  S^2 = 2.0000000\n",
      "CASCI state 1  E = -14.7840383314395  E(CI) = -0.489643275381141  S^2 = 0.0000000\n"
     ]
    }
   ],
   "source": [
    "from pyscf import mcscf\n",
    "\n",
    "myhf = mol_Li2.mean_field\n",
    "ncore = {\"A1g\": 1, \"A1u\": 1}\n",
    "ncas = {\"A1g\": 1, \"A1u\": 1}\n",
    "\n",
    "print(\"Calculation for A1g symmetry\")\n",
    "mc = mcscf.CASCI(myhf, 2, (1, 1))\n",
    "mo = mc.sort_mo_by_irrep(cas_irrep_nocc=ncas, cas_irrep_ncore=ncore)\n",
    "mc.fcisolver.wfnsym = \"A1g\"\n",
    "mc.fcisolver.nroots = 2\n",
    "emc_A1g = mc.casci(mo)[0]\n",
    "\n",
    "print(\"\\n Calculation for A1u symmetry\")\n",
    "mc = mcscf.CASCI(myhf, 2, (1, 1))\n",
    "mc.fcisolver.wfnsym = \"A1u\"\n",
    "mc.fcisolver.nroots = 2\n",
    "emc_A1u = mc.casci(mo)[0] "
   ]
  },
  {
   "cell_type": "markdown",
   "metadata": {
    "id": "mE9Dp_XZL8wq"
   },
   "source": [
    "## 2. Variational algorithms<a id=\"2\"></a>\n",
    "\n",
    "We start by showing how different approaches based on VQE can be used to obtain excited states. For more information about VQE and the `VQESolver` class, feel free to have a look at our dedicated tutorials. "
   ]
  },
  {
   "cell_type": "markdown",
   "metadata": {
    "id": "Y6t3SWGdL8wq"
   },
   "source": [
    "### 2.1 VQE for lowest singlet and triplet states <a class=\"anchor\" id=\"21\"></a>\n",
    "\n",
    "Both the lowest singlet (ground state) and lowest triplet (first excited state) can be computed using `VQESolver`. The `FCISolver` class can be used to produce a classically-computed reference value, to get a sense of the accuracy of VQE in this situation. Along the way, we capture the quantum computational resources required for each algorithm in the dictionary `algorithm_resources`."
   ]
  },
  {
   "cell_type": "code",
   "execution_count": 5,
   "metadata": {},
   "outputs": [
    {
     "name": "stdout",
     "output_type": "stream",
     "text": [
      "\n",
      " Ground Singlet state\n",
      "VQE energy = -14.869620302757237\n",
      "CASCI energy = -14.869620303779788\n",
      "\n",
      " Lowest Triplet state\n",
      "VQE energy = -14.853462489026848\n",
      "CASCI energy = -14.853462489027107\n"
     ]
    }
   ],
   "source": [
    "from tangelo.algorithms.variational import VQESolver, BuiltInAnsatze\n",
    "from tangelo.algorithms.classical import FCISolver\n",
    "\n",
    "# Dictionary of resources for each algorithm\n",
    "algorithm_resources = dict()\n",
    "\n",
    "# Ground state energy calculation with VQE, reference values with FCI\n",
    "vqe_options = {\"molecule\": mol_Li2, \"ansatz\": BuiltInAnsatze.UCCSD}\n",
    "vqe_solver = VQESolver(vqe_options)\n",
    "vqe_solver.build()\n",
    "vqe_energy = vqe_solver.simulate()\n",
    "print(\"\\n Ground Singlet state\")\n",
    "print(f\"VQE energy = {vqe_energy}\")\n",
    "print(f\"CASCI energy = {FCISolver(mol_Li2).simulate()}\")\n",
    "algorithm_resources[\"vqe_ground_state\"] = vqe_solver.get_resources()\n",
    "\n",
    "# First excited state energy calculation with VQE, reference values with FCI\n",
    "vqe_options = {\"molecule\": mol_Li2_t, \"ansatz\": BuiltInAnsatze.UpCCGSD}\n",
    "vqe_solver_t = VQESolver(vqe_options)\n",
    "vqe_solver_t.build()\n",
    "vqe_energy_t = vqe_solver_t.simulate()\n",
    "print(\"\\n Lowest Triplet state\")\n",
    "print(f\"VQE energy = {vqe_energy_t}\")\n",
    "print(f\"CASCI energy = {FCISolver(mol_Li2_t).simulate()}\")\n",
    "algorithm_resources[\"vqe_triplet_state\"] = vqe_solver_t.get_resources()"
   ]
  },
  {
   "cell_type": "markdown",
   "metadata": {
    "id": "iXSSQBsvL8wr"
   },
   "source": [
    "### 2.2 VQE Deflation <a class=\"anchor\" id=\"22\"></a>\n",
    "\n",
    "Deflation can be used to gradually obtain higher and higher excited states, by applying an orthogonality penalty against all previous VQE calculations. This idea was introduced in [arXiv:2205.09203](https://arxiv.org/abs/2205.09203).\n",
    "\n",
    "This approach can be implented by using the deflation options built in the `VQESolver` class:\n",
    "\n",
    "- The keyword `\"deflation_circuits\"` allows the user to provide a list of circuits to use in the deflation process.\n",
    "- Additionally, the keyword `\"deflation_coeff\"` allows a user to specify the weight in front of the penalty term. This coefficient must be larger than the difference in energy between the ground and the target excited state."
   ]
  },
  {
   "cell_type": "code",
   "execution_count": 6,
   "metadata": {},
   "outputs": [
    {
     "name": "stdout",
     "output_type": "stream",
     "text": [
      "Excited state #1 \t VQE energy = -14.784037073785134\n",
      "Excited state #2 \t VQE energy = -14.680196061799991\n"
     ]
    }
   ],
   "source": [
    "# Add initial VQE optimal circuit to the deflation circuits list\n",
    "deflation_circuits = [vqe_solver.optimal_circuit.copy()]\n",
    "\n",
    "# Calculate first and second excited states by adding optimal circuits to deflation_circuits\n",
    "for i in range(2):\n",
    "    vqe_options = {\"molecule\": mol_Li2, \"ansatz\": BuiltInAnsatze.UpCCGSD, \n",
    "                   \"deflation_circuits\": deflation_circuits, \"deflation_coeff\": 0.4}\n",
    "    vqe_solver = VQESolver(vqe_options)\n",
    "    vqe_solver.build()\n",
    "    vqe_energy = vqe_solver.simulate()\n",
    "    print(f\"Excited state #{i+1} \\t VQE energy = {vqe_energy}\")\n",
    "    algorithm_resources[f\"vqe_deflation_state_{i+1}\"] = vqe_solver.get_resources()\n",
    "\n",
    "    deflation_circuits.append(vqe_solver.optimal_circuit.copy())"
   ]
  },
  {
   "cell_type": "markdown",
   "metadata": {
    "id": "gZVPYZHGL8wr"
   },
   "source": [
    "The deflation above generated the singlet states. Sometimes it is useful to use a different reference state. In the next example of deflation, we use a reference state with 2 alpha electrons and 0 beta electrons to calculate the triplet state. The reference state is defined by alternating up then down ordering, which yields `{\"ref_state\": [1, 0, 1, 0]}` for 2 alpha electrons in 2 orbitals for this situation."
   ]
  },
  {
   "cell_type": "code",
   "execution_count": 7,
   "metadata": {},
   "outputs": [
    {
     "name": "stdout",
     "output_type": "stream",
     "text": [
      "VQE energy = -14.838766345424574\n"
     ]
    }
   ],
   "source": [
    "vqe_options = {\"molecule\": mol_Li2, \"ansatz\": BuiltInAnsatze.UpCCGSD, \n",
    "               \"deflation_circuits\": deflation_circuits,\n",
    "               \"deflation_coeff\": 0.4, \"ref_state\": [1, 0, 1, 0]}\n",
    "vqe_solver_triplet = VQESolver(vqe_options)\n",
    "vqe_solver_triplet.build()\n",
    "vqe_energy = vqe_solver_triplet.simulate()\n",
    "print(f\"VQE energy = {vqe_energy}\")\n",
    "algorithm_resources[f\"vqe_deflation_state_{3}\"] = vqe_solver_triplet.get_resources()"
   ]
  },
  {
   "cell_type": "markdown",
   "metadata": {
    "id": "_odsQd-dL8ws"
   },
   "source": [
    "This value is a great match for the triplet CASCI reference values we obtained earlier. We calculated all the excited states calculated using CASCI using deflation by running `VQESolver` 4 times.\n",
    "\n",
    "The `deflation_circuits` option is also available for the SA-VQE solver shown in another section of this notebook (`SA_VQESolver`), as well as ADAPT (`ADAPTSolver`)."
   ]
  },
  {
   "cell_type": "markdown",
   "metadata": {
    "id": "uTRtGu2XL8ws"
   },
   "source": [
    "### 2.3 Quantum Subspace Expansion <a class=\"anchor\" id=\"23\"></a>\n",
    "\n",
    "Another way to obtain excited states is to define a pool of operators providing a good approximation to the excitations needed to represent the excited states from the ground state calculations produced by `VQESolver`. This idea was presented in [arXiv:1603.05681](https://arxiv.org/abs/1603.05681).\n",
    "\n",
    "For this example, we choose a pool of operators of the form $O_p=a_i^{\\dagger}a_j$.\n",
    "\n",
    "We then have to solve $FU = SUE$, where $F_{pq}=\\left<\\psi\\right|O_p^* H O_q\\left|\\psi\\right>$ and $S_{pq}=\\left<\\psi\\right|O_p^* O_q\\left|\\psi\\right>$.\n",
    "\n",
    "For simplicity here, we keep all wavefunction symmetry excitations. However, the matrix we need to diagonalize can be made smaller by only keeping excitations that respect the desired wavefunction symmetry of the excited state."
   ]
  },
  {
   "cell_type": "code",
   "execution_count": 8,
   "metadata": {},
   "outputs": [],
   "source": [
    "import numpy as np\n",
    "from scipy.linalg import eigh\n",
    "from openfermion.utils import hermitian_conjugated as hc\n",
    "\n",
    "from tangelo.toolboxes.operators import FermionOperator\n",
    "from tangelo.toolboxes.qubit_mappings.mapping_transform import fermion_to_qubit_mapping as f2q_mapping\n",
    "\n",
    "# Generate all single excitations as qubit operators\n",
    "op_list = list()\n",
    "for i in range(2):\n",
    "    for j in range(i+1, 2):\n",
    "        op_list += [f2q_mapping(FermionOperator(((2*i, 1), (2*j, 0))), \"jw\")] #spin-up transition\n",
    "        op_list += [f2q_mapping(FermionOperator(((2*i+1, 1), (2*j+1, 0))), \"jw\")] #spin-down transition\n",
    "        op_list += [f2q_mapping(FermionOperator(((2*i+1, 1), (2*j, 0))), \"jw\")] #spin-up to spin-down\n",
    "        op_list += [f2q_mapping(FermionOperator(((2*i, 1), (2*j+1, 0))), \"jw\")] #spin-down to spin-up\n",
    "\n",
    "# Compute F and S matrices.\n",
    "size_mat = len(op_list)\n",
    "h = np.zeros((size_mat, size_mat))\n",
    "s = np.zeros((size_mat, size_mat))\n",
    "state_circuit = vqe_solver.optimal_circuit\n",
    "for i, op1 in enumerate(op_list):\n",
    "    for j, op2 in enumerate(op_list):\n",
    "        h[i, j] = np.real(vqe_solver.backend.get_expectation_value(hc(op1)*vqe_solver.qubit_hamiltonian*op2, state_circuit))\n",
    "        s[i, j] = np.real(vqe_solver.backend.get_expectation_value(hc(op1)*op2, state_circuit))\n",
    "\n",
    "label = \"quantum_subspace_expansion\"\n",
    "algorithm_resources[label] = vqe_solver.get_resources()\n",
    "algorithm_resources[label][\"n_post_terms\"] = len(op_list)**2*algorithm_resources[label][\"qubit_hamiltonian_terms\"]"
   ]
  },
  {
   "cell_type": "markdown",
   "metadata": {
    "id": "MrS38WBO2DBF"
   },
   "source": [
    "After generating the matrices on the quantum computer. We need to perform the classical post-processing to obtain the energies by solving the $FU = SUE$ eigenvalue problem."
   ]
  },
  {
   "cell_type": "code",
   "execution_count": 9,
   "metadata": {},
   "outputs": [
    {
     "name": "stdout",
     "output_type": "stream",
     "text": [
      "Quantum Subspace Expansion energies: \n",
      " [-14.83876635 -14.83876635 -14.83876635 -14.7840384 ]\n"
     ]
    }
   ],
   "source": [
    "# Solve FU = SUE\n",
    "e, v = eigh(h,s)\n",
    "print(f\"Quantum Subspace Expansion energies: \\n {e}\")"
   ]
  },
  {
   "cell_type": "markdown",
   "metadata": {
    "id": "YCqaM-2SL8ws"
   },
   "source": [
    "We can see that we have obtained the correct energies for CASCI state A1g state 1, and A2 state 0 and 1. A1g state 1 was not recovered. We would therefore need to measure more excitations in $F$."
   ]
  },
  {
   "cell_type": "markdown",
   "metadata": {
    "id": "SLJrouJXL8wt"
   },
   "source": [
    "### 2.4 State-Averaged VQE <a class=\"anchor\" id=\"24\"></a>\n",
    "\n",
    "Another method to obtain excited states is to use the State-Averaged VQE Solver (SA-VQE). SA-VQE minimizes the average energy of multiple orthogonal reference states using the same ansatz circuit. As the reference states are orthogonal, using the same circuit transformation (a unitary), results in final states that are also orthogonal. This idea can be found in [arXiv:2009.11417](https://arxiv.org/pdf/2009.11417.pdf).\n",
    "\n",
    "Here, we target singlet states only. This can be accomplished by adding a penalty term with `\"penalty_terms\": {\"S^2\": [2, 0]}`. This means that the target Hamiltonian to be minimized is $H = H_0 + 2 (\\hat{S}^2 - 0)^2$, where $H_0$ is the original molecular Hamiltonian."
   ]
  },
  {
   "cell_type": "code",
   "execution_count": 10,
   "metadata": {},
   "outputs": [
    {
     "name": "stdout",
     "output_type": "stream",
     "text": [
      "Singlet State 0 has energy -14.742180682021289\n",
      "Singlet State 1 has energy -14.812125666941942\n",
      "Singlet State 2 has energy -14.7795400653701\n"
     ]
    }
   ],
   "source": [
    "from tangelo.algorithms.variational import SA_VQESolver\n",
    "\n",
    "vqe_options = {\"molecule\": mol_Li2, \"ref_states\": [[1,1,0,0], [1,0,0,1], [0,0,1,1]],\n",
    "               \"weights\": [1, 1, 1], \"penalty_terms\": {\"S^2\": [2, 0]},\n",
    "               \"qubit_mapping\": \"jw\", \"ansatz\": BuiltInAnsatze.UpCCGSD,\n",
    "               }\n",
    "vqe_solver = SA_VQESolver(vqe_options)\n",
    "vqe_solver.build()\n",
    "enernew = vqe_solver.simulate()\n",
    "for i, energy in enumerate(vqe_solver.state_energies):\n",
    "    print(f\"Singlet State {i} has energy {energy}\")\n",
    "\n",
    "algorithm_resources[\"sa_vqe\"] = vqe_solver.get_resources()"
   ]
  },
  {
   "cell_type": "markdown",
   "metadata": {
    "id": "kpLLy2N2L8wt"
   },
   "source": [
    "The energies above are inaccurate, as the calculated states are restricted to linear combinations of the three lowest singlet states. We can use MC-VQE to generate the exact eigenvectors, as shown in the next section.\n",
    "\n",
    "However, the cell below shows the $\\hat{S}^2$ expectation value is nearly zero for all states, so they are all singlet as expected when using the penalty term."
   ]
  },
  {
   "cell_type": "code",
   "execution_count": 11,
   "metadata": {},
   "outputs": [
    {
     "name": "stdout",
     "output_type": "stream",
     "text": [
      "State 0 has S^2 = 3.529243208788557e-08\n",
      "State 1 has S^2 = 2.0223862616242094e-06\n",
      "State 2 has S^2 = 7.838201587784255e-09\n"
     ]
    }
   ],
   "source": [
    "from tangelo.toolboxes.ansatz_generator.fermionic_operators import spin2_operator\n",
    "\n",
    "s2op = f2q_mapping(spin2_operator(2), \"jw\")\n",
    "for i in range(3):\n",
    "    print(f\"State {i} has S^2 = {vqe_solver.backend.get_expectation_value(s2op, vqe_solver.reference_circuits[i]+vqe_solver.optimal_circuit)}\")\n"
   ]
  },
  {
   "cell_type": "markdown",
   "metadata": {
    "id": "G6afws2QL8wt"
   },
   "source": [
    "### 2.5 Multistate, contracted VQE (MC-VQE) <a class=\"anchor\" id=\"25\"></a>\n",
    "\n",
    "To obtain the energies of the individual states, we can use multistate  contracted VQE (MC-VQE), as introduced in [arXiv:1901.01234](https://arxiv.org/abs/1901.01234). This process defines a small matrix by measuring the Hamiltonian expectation values of $(\\left|\\theta_i\\right>+\\left|\\theta_j\\right>)/\\sqrt{2}$ and $(\\left|\\theta_i\\right>-\\left|\\theta_j\\right>)/\\sqrt{2}$ for all combinations of our final states ($\\left|\\theta_i\\right>$) resulting from the SA-VQE procedure. \n",
    "\n",
    "In general, the reference states are simple occupations so generating $(\\left|\\theta_i\\right>+\\left|\\theta_j\\right>)/\\sqrt{2}$ and $(\\left|\\theta_i\\right>-\\left|\\theta_j\\right>)/\\sqrt{2}$ by hand should be \"fairly straightforward\". In this notebook, we use Tangelo to obtain these statevectors and then generate the expectation values."
   ]
  },
  {
   "cell_type": "code",
   "execution_count": 12,
   "metadata": {},
   "outputs": [],
   "source": [
    "# Generate individual statevectors\n",
    "ref_svs = list()\n",
    "for circuit in vqe_solver.reference_circuits:\n",
    "    _, sv = vqe_solver.backend.simulate(circuit, return_statevector=True)\n",
    "    ref_svs.append(sv)\n",
    "\n",
    "# Generate Equation (2) using equation (4) and (5) of arXiv:1901.01234\n",
    "h_theta_theta = np.zeros((3,3))\n",
    "for i, sv1 in enumerate(ref_svs):\n",
    "    for j, sv2 in enumerate(ref_svs):\n",
    "        if i != j:\n",
    "            sv_plus = (sv1 + sv2)/np.sqrt(2)\n",
    "            sv_minus = (sv1 - sv2)/np.sqrt(2)\n",
    "            exp_plus = vqe_solver.backend.get_expectation_value(vqe_solver.qubit_hamiltonian, vqe_solver.optimal_circuit, initial_statevector=sv_plus)\n",
    "            exp_minus = vqe_solver.backend.get_expectation_value(vqe_solver.qubit_hamiltonian, vqe_solver.optimal_circuit, initial_statevector=sv_minus)\n",
    "            h_theta_theta[i, j] = (exp_plus-exp_minus)/2\n",
    "        else:\n",
    "            h_theta_theta[i, j] = vqe_solver.state_energies[i]\n"
   ]
  },
  {
   "cell_type": "markdown",
   "metadata": {
    "id": "10myRMdfHJoJ"
   },
   "source": [
    "Accurate energies can be recovered by solving the resulting eigenproblem classically:"
   ]
  },
  {
   "cell_type": "code",
   "execution_count": 13,
   "metadata": {},
   "outputs": [
    {
     "name": "stdout",
     "output_type": "stream",
     "text": [
      "Singlet State 0 \t MC-VQE energy = -14.869616815256682\n",
      "Singlet State 1 \t MC-VQE energy = -14.784034669938677\n",
      "Singlet State 2 \t MC-VQE energy = -14.68019492913796\n"
     ]
    }
   ],
   "source": [
    "e, _ = np.linalg.eigh(h_theta_theta)\n",
    "for i, energy in enumerate(e):\n",
    "    print(f\"Singlet State {i} \\t MC-VQE energy = {energy}\")"
   ]
  },
  {
   "cell_type": "markdown",
   "metadata": {
    "id": "JtJADlmZL8wu"
   },
   "source": [
    "We can see that these singlet energies are all close to the exact answer. "
   ]
  },
  {
   "cell_type": "markdown",
   "metadata": {
    "id": "IrcmQn8cL8wu"
   },
   "source": [
    "#### Using StateVector for MC-VQE\n",
    "The code below can be used obtain the same MC-VQE result by using `StateVector` to automatically generate circuits for $(\\left|\\theta_i\\right>+\\left|\\theta_j\\right>)/\\sqrt{2}$ and $(\\left|\\theta_i\\right>-\\left|\\theta_j\\right>)/\\sqrt{2}$. However, the circuits created by StateVector are generally inefficient and one should try to create the circuits that generate these states by hand if running on a real quantum device."
   ]
  },
  {
   "cell_type": "code",
   "execution_count": 14,
   "metadata": {},
   "outputs": [],
   "source": [
    "from tangelo.linq.helpers import StateVector\n",
    "\n",
    "# Generate individual statevectors\n",
    "ref_svs = list()\n",
    "for state in vqe_solver.ref_states:\n",
    "    sv = np.zeros(2**4)\n",
    "    # Generate bitstring representation of each ref_state and populate that position in the statevector\n",
    "    bitstring = \"\".join([str(i) for i in reversed(state)])\n",
    "    sv[int(bitstring, base=2)] = 1\n",
    "    ref_svs.append(sv)\n",
    "\n",
    "# Generate Equation (2) using equation (4) and (5) of arXiv:1901.01234\n",
    "h_theta_theta = np.zeros((len(ref_svs), len(ref_svs)))\n",
    "for i, sv1 in enumerate(ref_svs):\n",
    "    for j, sv2 in enumerate(ref_svs):\n",
    "        if i != j:\n",
    "            sv_plus = (sv1 + sv2)/np.sqrt(2)\n",
    "            sv_plus = StateVector(sv_plus)\n",
    "            ref_circ_plus = sv_plus.initializing_circuit()\n",
    "            exp_plus = vqe_solver.backend.get_expectation_value(vqe_solver.qubit_hamiltonian, ref_circ_plus + vqe_solver.optimal_circuit)\n",
    "\n",
    "            sv_minus = (sv1 - sv2)/np.sqrt(2)\n",
    "            sv_minus = StateVector(sv_minus)\n",
    "            ref_circ_minus = sv_minus.initializing_circuit()\n",
    "            exp_minus = vqe_solver.backend.get_expectation_value(vqe_solver.qubit_hamiltonian, ref_circ_minus + vqe_solver.optimal_circuit)\n",
    "\n",
    "            h_theta_theta[i, j] = (exp_plus-exp_minus)/2\n",
    "        else:\n",
    "            h_theta_theta[i, j] = vqe_solver.state_energies[i]\n",
    "\n",
    "algorithm_resources[\"mc_vqe\"] = vqe_solver.get_resources()\n",
    "algorithm_resources[\"mc_vqe\"][\"n_post_terms\"] = len(ref_svs)**2*algorithm_resources[\"mc_vqe\"][\"qubit_hamiltonian_terms\"]"
   ]
  },
  {
   "cell_type": "code",
   "execution_count": 15,
   "metadata": {},
   "outputs": [
    {
     "name": "stdout",
     "output_type": "stream",
     "text": [
      "Singlet State 0 \t MC-VQE energy = -14.869616815256672\n",
      "Singlet State 1 \t MC-VQE energy = -14.784034669938706\n",
      "Singlet State 2 \t MC-VQE energy = -14.680194929137963\n"
     ]
    }
   ],
   "source": [
    "e, _ = np.linalg.eigh(h_theta_theta)\n",
    "for i, energy in enumerate(e):\n",
    "    print(f\"Singlet State {i} \\t MC-VQE energy = {energy}\")"
   ]
  },
  {
   "cell_type": "markdown",
   "metadata": {
    "id": "p6odrzVoL8wv"
   },
   "source": [
    "### 2.6 State-Averaged VQE with deflation <a class=\"anchor\" id=\"26\"></a>\n",
    "We can obtain the final excited state by using deflation for the three singlet states above and removing the penalty term. We define a reference state with `\"ref_states\": [[1, 0, 1, 0]]` that better targets the remaining triplet state. We can revert back to the UCCSD ansatz for this state as we do not need as expressive an ansatz anymore."
   ]
  },
  {
   "cell_type": "code",
   "execution_count": 16,
   "metadata": {},
   "outputs": [
    {
     "name": "stdout",
     "output_type": "stream",
     "text": [
      "Triplet State 0 has energy -14.83876634542472\n"
     ]
    }
   ],
   "source": [
    "vqe_options = {\"molecule\": mol_Li2, \"ref_states\": [[1, 0, 1, 0]],\n",
    "               \"weights\": [1], \"deflation_circuits\": [vqe_solver.reference_circuits[i]+vqe_solver.optimal_circuit for i in range(3)],\n",
    "               \"qubit_mapping\": \"jw\", \"ansatz\": BuiltInAnsatze.UCCSD,\n",
    "               }\n",
    "vqe_solver_deflate = SA_VQESolver(vqe_options)\n",
    "vqe_solver_deflate.build()\n",
    "enernew = vqe_solver_deflate.simulate()\n",
    "\n",
    "for i, energy in enumerate(vqe_solver_deflate.state_energies):\n",
    "    print(f\"Triplet State {i} has energy {energy}\")\n",
    "\n",
    "algorithm_resources[f\"sa_vqe_deflation\"] = vqe_solver_deflate.get_resources()"
   ]
  },
  {
   "cell_type": "markdown",
   "metadata": {
    "id": "JrU59nB3L8wv"
   },
   "source": [
    "This is the correct triplet state energy."
   ]
  },
  {
   "cell_type": "markdown",
   "metadata": {
    "id": "FNeQXqbIL8wv"
   },
   "source": [
    "### 2.7 State-Averaged Orbital-Optimized VQE <a class=\"anchor\" id=\"27\"></a>\n",
    "\n",
    "This performs the equivalent of a CASSCF calculation using a quantum computer. This approach runs multiple iterations comprised of the two following steps:\n",
    "\n",
    "- SA-VQE calculation\n",
    "- orbital optimization \n",
    "\n",
    "These iterations are called by using the `iterate()` call. The `simulate()` method from `SA_OO_Solver` only performs a State-Averated VQE simulation. The reference for this method is [arXiv:2009.11417](https://arxiv.org/pdf/2009.11417.pdf)."
   ]
  },
  {
   "cell_type": "code",
   "execution_count": 17,
   "metadata": {},
   "outputs": [
    {
     "name": "stdout",
     "output_type": "stream",
     "text": [
      "State 0 has energy -14.87559934824753\n",
      "State 1 has energy -14.85178914846094\n"
     ]
    }
   ],
   "source": [
    "from tangelo.algorithms.variational import SA_OO_Solver\n",
    "\n",
    "mol_Li2_nosym = SQMol(li2, q=0, spin=0, basis='6-31g(d,p)',\n",
    "                      frozen_orbitals=fo, symmetry=False)\n",
    "vqe_options = {\"molecule\": mol_Li2_nosym, \"ref_states\": [[1,1,0,0], [1,0,1,0]],\n",
    "               \"weights\": [1, 1],\n",
    "               \"qubit_mapping\": \"jw\", \"ansatz\": BuiltInAnsatze.UpCCGSD, \"ansatz_options\": {\"k\": 2}\n",
    "               }\n",
    "vqe_solver = SA_OO_Solver(vqe_options)\n",
    "vqe_solver.build()\n",
    "enernew = vqe_solver.iterate()\n",
    "for i, energy in enumerate(vqe_solver.state_energies):\n",
    "    print(f\"State {i} has energy {energy}\")\n",
    "\n",
    "algorithm_resources[\"sa_oo_vqe\"] = vqe_solver.get_resources()"
   ]
  },
  {
   "cell_type": "markdown",
   "metadata": {
    "id": "PD3cQc1GL8ww"
   },
   "source": [
    "Comparing the `SA_OO_VQE` solution to CASSCF calculations from a library such as pyscf shows similar results."
   ]
  },
  {
   "cell_type": "code",
   "execution_count": 18,
   "metadata": {},
   "outputs": [
    {
     "name": "stdout",
     "output_type": "stream",
     "text": [
      "CASSCF energy = -14.8636942982906\n",
      "CASCI E = -14.8636942982906  E(CI) = -0.569133524449606  S^2 = 1.0000000\n",
      "CASCI state-averaged energy = -14.8636942982906\n",
      "CASCI energy for each state\n",
      "  State 0 weight 0.5  E = -14.8756048775827 S^2 = 0.0000000\n",
      "  State 1 weight 0.5  E = -14.8517837189985 S^2 = 2.0000000\n"
     ]
    }
   ],
   "source": [
    "mol_Li2_no_sym_copy = SQMol(li2, q=0, spin=0, basis='6-31g(d,p)',\n",
    "                            frozen_orbitals=fo, symmetry=False)\n",
    "mc = mcscf.CASSCF(mol_Li2_no_sym_copy.mean_field, 2, 2).state_average([0.5, 0.5])\n",
    "energy = mc.kernel()"
   ]
  },
  {
   "cell_type": "markdown",
   "metadata": {
    "id": "N7ZIjE-ML8ww"
   },
   "source": [
    "`SA_OO_Solver` has optimized the orbitals in `mol_Li2_nosym` to minimize the average energy of the states above. We can then use the code below to output the optimized molecular orbitals as cube files and compare to the unoptimized orbitals from the top of the notebook.\n",
    "\n",
    "```python\n",
    "from pyscf.tools import cubegen\n",
    "# loop over active orbitals i.e. 2, 3\n",
    "for i in [2, 3]:\n",
    "   cubegen.orbital(mol_Li2_nosym.to_pyscf(basis = mol_Li2_nosym.basis), f'li2_{i+1}_opt.cube', mol_Li2_nosym.mean_field.mo_coeff[:, i])\n",
    "```"
   ]
  },
  {
   "attachments": {},
   "cell_type": "markdown",
   "metadata": {
    "id": "_uXgf8A7L8ww"
   },
   "source": [
    "Using [Avogadro](https://avogadro.cc/) to generate the two figures below with the .cube files outputted above, we see that the original fourth molecular orbital and the optimized fourth molecular orbital look very different:\n",
    "\n",
    "<table>\n",
    "    <tr>\n",
    "    <td style='text-align:center;'>\n",
    "        <b> Original molecular orbital </b><img>\n",
    "    </td>\n",
    "    <td style='text-align:center;'>\n",
    "        <b> Optimized molecular orbital</b><img>\n",
    "    </td>\n",
    "    </tr>\n",
    "    <tr>\n",
    "    <td style='text-align:center;'>\n",
    "        <img src=\"../img/li2_4.png\" width=\"490\"/>\n",
    "    </td>\n",
    "    <td style='text-align:center;'>\n",
    "        <img src=\"../img/li2_4_opt.png\" width=\"490\"/>\n",
    "    </td>\n",
    "    </tr>\n",
    "</table>\n"
   ]
  },
  {
   "cell_type": "markdown",
   "metadata": {
    "id": "JzCzgcA1L8ww"
   },
   "source": [
    "Li ${_2}$ is a molecule that requires CASSCF type optimization to exihibit the correct qualitative behavior when using a small active space. Below, we run `SA_OO_VQE` for multiple different bond lengths and compare to CASCI. This calculation can take more than one minute, depending on your computer."
   ]
  },
  {
   "cell_type": "code",
   "execution_count": 19,
   "metadata": {},
   "outputs": [
    {
     "name": "stdout",
     "output_type": "stream",
     "text": [
      "Computing state-averaged orbital-optimized VQE energy for r=2.0\n",
      "Computing state-averaged orbital-optimized VQE energy for r=2.2\n",
      "Computing state-averaged orbital-optimized VQE energy for r=2.5\n",
      "Computing state-averaged orbital-optimized VQE energy for r=3.0\n",
      "Computing state-averaged orbital-optimized VQE energy for r=3.5\n",
      "Computing state-averaged orbital-optimized VQE energy for r=4.0\n",
      "Computing state-averaged orbital-optimized VQE energy for r=4.5\n",
      "Computing state-averaged orbital-optimized VQE energy for r=5.0\n",
      "Computing state-averaged orbital-optimized VQE energy for r=6.0\n",
      "Computing state-averaged orbital-optimized VQE energy for r=7.0\n",
      "Computing state-averaged orbital-optimized VQE energy for r=9.0\n"
     ]
    }
   ],
   "source": [
    "sa_oo_eners = list()\n",
    "casci_eners = list()\n",
    "xvals = np.array([2, 2.2, 2.5, 3., 3.5, 4., 4.5, 5., 6., 7., 9.])\n",
    "\n",
    "for r in xvals:\n",
    "    print(f\"Computing state-averaged orbital-optimized VQE energy for r={r}\")\n",
    "    li2_xyz = [('Li', (0, 0, 0)),('Li', (r, 0, 0))]\n",
    "    \n",
    "    mol_Li2_nosym_copy = SQMol(li2_xyz, q=0, spin=0, basis='6-31g(d,p)',\n",
    "                               frozen_orbitals=fo, symmetry=False)\n",
    "    mc = mcscf.CASCI(mol_Li2_nosym_copy.mean_field, 2, 2)\n",
    "    mc.fcisolver.nroots = 2\n",
    "    mc.verbose = 0\n",
    "    e = mc.kernel()\n",
    "    casci_eners.append(e[0])\n",
    "\n",
    "    # Compute SA-OO-VQE energy\n",
    "    mol_Li2_nosym = SQMol(li2_xyz, q=0, spin=0, basis='6-31g(d,p)',\n",
    "                          frozen_orbitals=fo, symmetry=False)\n",
    "    vqe_options = {\"molecule\": mol_Li2_nosym, \"ref_states\": [[1, 1, 0, 0], [1, 0, 1, 0]], \"tol\": 1.e-3,\n",
    "                   \"ansatz\": BuiltInAnsatze.UCCGD, \"weights\": [1, 1], \"n_oo_per_iter\": 1}\n",
    "    vqe_solver = SA_OO_Solver(vqe_options)\n",
    "    vqe_solver.build()\n",
    "    enernew = vqe_solver.iterate()\n",
    "    sa_oo_eners.append(vqe_solver.state_energies)"
   ]
  },
  {
   "cell_type": "markdown",
   "metadata": {
    "id": "E_fA-ed2L8wx"
   },
   "source": [
    "The plot below shows the resulting potential energy curves, and illustrates the impact of orbital optimization for our use case:"
   ]
  },
  {
   "cell_type": "code",
   "execution_count": 20,
   "metadata": {},
   "outputs": [
    {
     "data": {
      "text/plain": [
       "<matplotlib.legend.Legend at 0x7ff05d0df310>"
      ]
     },
     "execution_count": 20,
     "metadata": {},
     "output_type": "execute_result"
    },
    {
     "data": {
      "image/png": "[encoded data removed]",
      "text/plain": [
       "<Figure size 640x480 with 1 Axes>"
      ]
     },
     "metadata": {},
     "output_type": "display_data"
    }
   ],
   "source": [
    "import matplotlib.pyplot as plt\n",
    "\n",
    "sa_oo_eners=np.array(sa_oo_eners)\n",
    "casci_eners= np.array(casci_eners)\n",
    "\n",
    "fig, ax = plt.subplots()\n",
    "ax.plot(xvals, sa_oo_eners[:, 0], label=\"SA_OO State 0\")\n",
    "ax.plot(xvals, sa_oo_eners[:, 1], label=\"SA_OO State 1\")\n",
    "ax.plot(xvals, casci_eners[:, 0], label=\"CASCI State 0\")\n",
    "ax.plot(xvals, casci_eners[:, 1], label=\"CASCI State 1\")\n",
    "ax.set_xlabel('r (Angstrom)')\n",
    "ax.set_ylabel('Energy (Hartree)')\n",
    "ax.legend()"
   ]
  },
  {
   "cell_type": "markdown",
   "metadata": {
    "id": "rpnEQfLZL8wx"
   },
   "source": [
    "## 3. Hamiltonian Simulation algorithms <a class=\"anchor\" id=\"3\"></a>\n",
    "\n",
    "We now illustrate a few other approches based on time-evolution of the Hamiltonian. Although these algorithms are not NISQ-friendly, they do not require non-linear optimization of parameters like the variational methods encountered in the previous sections. They may be a better choice for future fault-tolerant architectures.\n",
    "\n",
    "### 3.1 Multi-Reference Selected Quantum Krylov (MRSQK) <a class=\"anchor\" id=\"31\"></a>\n",
    "\n",
    "The multi-reference selected Quantum Krylov algorithm as outlined in [arXiv:1911.05163](https://arxiv.org/abs/1911.05163) uses multiple reference states and performs multiple time evolutions $U = e^{-iH\\tau}$ for time $\\tau$, to generate a Krylov representation of the system. The method relies on building two matrices ${\\cal{H}}$ and $S$, whose elements are defined by ${\\cal{H}_{ia,jb}} = \\left<\\phi_a\\right|U^i H U^j\\left|\\phi_b\\right>$ and $S_{ia,jb} = \\left<\\phi_a\\right|U^i U^j\\left|\\phi_b\\right>$, where $\\phi_a, \\phi_b$ denote different reference configurations. The matrix elements are measured using the procedure outlined in [arXiv:1911.05163](https://arxiv.org/abs/1911.05163) and the energies obtained through solving ${\\cal{H}}V = SVE$.\n",
    "\n",
    "In [arXiv:2109.06868](https://arxiv.org/abs/2109.06868), it was further noticed that one can use any function of $\\cal{H}$ to obtain the eigenvalues. For example, one could use $f({\\cal{H}})=e^{-iH\\tau}=U$. The same procedure results in the matrix elements $f({\\cal{H}})_{ia,jb} = \\left<\\phi_a\\right|U^i U U^j\\left|\\phi_b\\right>, S_{ia,jb} = \\left<\\phi_a\\right|U^i U^j\\left|\\phi_b\\right>$ for the eigenvalue problem $f({\\cal{H}})V=SVf(E)$. As $E$ is a diagonal matrix, the correct energies can be obtained by calculating the phase of the eigenvalues ($f(E)=e^{-iE\\tau}$) and dividing by $\\tau$. (i.e. $\\arctan \\left[\\Im(f(E))/\\Re(f(E)) \\right]/\\tau$). The resulting circuit is slightly longer but much fewer measurements are required. It is worth mentioning that [qubitization](https://arxiv.org/abs/1610.06546), which natively implements $e^{i \\arccos(H\\tau)}$, can be used without issue. Qubitization is currently one of the most efficient algorithms that implements time-evolution."
   ]
  },
  {
   "cell_type": "code",
   "execution_count": 21,
   "metadata": {},
   "outputs": [],
   "source": [
    "from itertools import product\n",
    "from scipy.linalg import eigh, eigvals\n",
    "\n",
    "from tangelo.linq import get_backend, Circuit, Gate\n",
    "from tangelo.toolboxes.operators import QubitOperator, count_qubits\n",
    "from tangelo.toolboxes.qubit_mappings.statevector_mapping import vector_to_circuit\n",
    "from tangelo.toolboxes.ansatz_generator.ansatz_utils import controlled_pauliwords, trotterize"
   ]
  },
  {
   "cell_type": "code",
   "execution_count": 22,
   "metadata": {},
   "outputs": [
    {
     "name": "stdout",
     "output_type": "stream",
     "text": [
      "The HV=SVE energies are [-14.8696203  -14.83876634 -14.78403833 -14.680196  ]\n",
      "The f(H)V=SVf(E) energies are [-14.86962029 -14.680196   -14.83876634 -14.78403833]\n"
     ]
    }
   ],
   "source": [
    "# Number of Krylov vectors\n",
    "n_krylov = 4\n",
    "# Simulation time for each unitary\n",
    "tau = 0.04\n",
    "# Qubit Mapping\n",
    "mapping = \"jw\"\n",
    "\n",
    "backend = get_backend()\n",
    "\n",
    "# Qubit operator for Li2\n",
    "qu_op =  f2q_mapping(mol_Li2.fermionic_hamiltonian, mapping, mol_Li2.n_active_sos,\n",
    "                     mol_Li2.n_active_electrons, up_then_down=False, spin=mol_Li2.spin)\n",
    "\n",
    "# control qubit\n",
    "c_q = count_qubits(qu_op)\n",
    "\n",
    "# Operator that measures off-diagonal matrix elements i.e. 2|0><1|\n",
    "zeroone = (QubitOperator(f\"X{c_q}\", 1) + QubitOperator(f\"Y{c_q}\", 1j))\n",
    "\n",
    "# Controlled unitaries for each term in qu_op\n",
    "c_qu = controlled_pauliwords(qubit_op=qu_op, control=c_q, n_qubits=5)\n",
    "\n",
    "# Controlled time-evolution of qu_op\n",
    "c_trott = trotterize(qu_op, time=tau, n_trotter_steps=1, trotter_order=1, control=4)\n",
    "\n",
    "# Generate multiple controlled-reference states.\n",
    "reference_states = list()\n",
    "reference_vecs = [[1, 1, 0, 0], [1, 0, 0, 1]]\n",
    "for vec in reference_vecs:\n",
    "    circ = vector_to_circuit(vec)\n",
    "    gates = [Gate(\"C\"+gate.name, target=gate.target, control=4) for gate in circ]\n",
    "    reference_states += [Circuit(gates)]\n",
    "\n",
    "# Calculate MRSQK\n",
    "sab = np.zeros((n_krylov, n_krylov), dtype=complex)\n",
    "hab = np.zeros((n_krylov, n_krylov), dtype=complex)\n",
    "fhab = np.zeros((n_krylov, n_krylov), dtype=complex)\n",
    "\n",
    "for a, b in product(range(n_krylov), range(n_krylov)):\n",
    "    # Generate Ua and Ub unitaries\n",
    "    ua = reference_states[a%2] + c_trott * (a//2) if a > 1 else reference_states[a%2]\n",
    "    ub = reference_states[b%2] + c_trott * (b//2) if b > 1 else reference_states[b%2]\n",
    "    \n",
    "    # Build circuit from Figure 2 for off-diagonal overlap\n",
    "    hab_circuit = Circuit([Gate(\"H\", c_q)]) + ua + Circuit([Gate(\"X\", c_q)]) + ub\n",
    "    sab[a, b] = backend.get_expectation_value(zeroone, hab_circuit) / 2\n",
    "    sab[b, a] = sab[a, b].conj()\n",
    "\n",
    "    # Hamiltonian matrix element for f(H) = e^{-i H \\tau}\n",
    "    fhab[a, b] = backend.get_expectation_value(zeroone, hab_circuit+c_trott.inverse())/2\n",
    "\n",
    "    # Return statevector for faster calculation of Hamiltonian matrix elements\n",
    "    _ , initial_state = backend.simulate(hab_circuit, return_statevector=True)\n",
    "    for i, (term, coeff) in enumerate(qu_op.terms.items()):\n",
    "\n",
    "        # From calculated statevector append controlled-pauliword for each term in Hamiltonian and measure zeroone\n",
    "        expect = coeff*backend.get_expectation_value(zeroone, c_qu[i], initial_statevector=initial_state) / 2\n",
    "\n",
    "        # Add term to sum\n",
    "        hab[a, b] += expect\n",
    "\n",
    "e, v = eigh(hab, sab)\n",
    "print(f\"The HV=SVE energies are {e}\")\n",
    "e = eigvals(fhab, sab)\n",
    "print(f\"The f(H)V=SVf(E) energies are {np.arctan2(np.imag(e), np.real(e))/tau}\")\n",
    "\n",
    "algorithm_resources[\"mrsqk\"] = dict()\n",
    "algorithm_resources[\"mrsqk\"][\"qubit_hamiltonian_terms\"] = 0\n",
    "algorithm_resources[\"mrsqk\"][\"circuit_2qubit_gates\"] = hab_circuit.counts.get(\"CNOT\", 0)\n",
    "algorithm_resources[\"mrsqk\"][\"n_post_terms\"] = n_krylov**2"
   ]
  },
  {
   "cell_type": "markdown",
   "metadata": {
    "id": "QiFCp4e6L8wy"
   },
   "source": [
    "The calculated energies are very close to the exact energies calculated at the top of the notebook."
   ]
  },
  {
   "cell_type": "markdown",
   "metadata": {
    "id": "xwrLpY95L8wy"
   },
   "source": [
    "### 3.2 Rodeo Algorithm <a class=\"anchor\" id=\"32\"></a>\n",
    "\n",
    "Another method based on Hamiltonian simulation that can be used to obtain energies is the Rodeo Algorithm. This simulates the Hamiltonian for many random lengths of time with different input energies. The probability of the ancilla qubit being 0 for a given energy $E$ is $P_0(E) = \\frac{1 + e^{-\\sigma^2 (E_i - E)^2/2}}{2}$ where $E_i$ is one of the eigenvalues of the Hamiltonian. The algorithm is outlined in [arXiv:2110.07747](https://arxiv.org/abs/2110.07747). When the energy $E$ is close to an eigenvalue $E_i$, the probability is maximized. Therefore, one would observe peaks in success probability when the input energy $E$ is an eigenvalue. \n",
    "\n",
    "The cell illustrates this process over 10 iterations for each energy, for simplicity. We however show a plot resulting from 1,000 iterations afterwards. To reduce the computational complexity, we also use the [symmetry-conserving Bravyi-Kitaev](https://arXiv.org/abs/1701.08213) mapping to reduce the number of qubits to 2 by remove qubits corresponding to spin and electron number. This means we can only obtain the singlet state energies. A separate calculation would be needed to calculate the triplet energy."
   ]
  },
  {
   "cell_type": "code",
   "execution_count": 23,
   "metadata": {},
   "outputs": [],
   "source": [
    "# One rodeo cycle as defined in Fig.1 of arXiv.2110.07747\n",
    "def rodeo_cycle(hobj, energy, t, i):\n",
    "    circuit = Circuit([Gate(\"H\", i)])\n",
    "    circuit += trotterize(hobj, time=t, control=i, trotter_order=2, n_trotter_steps=40)\n",
    "    circuit += Circuit([Gate(\"PHASE\", i, parameter=energy*t), Gate(\"H\", i)])\n",
    "    return circuit"
   ]
  },
  {
   "cell_type": "code",
   "execution_count": 24,
   "metadata": {},
   "outputs": [],
   "source": [
    "from tangelo.toolboxes.qubit_mappings.statevector_mapping import do_scbk_transform\n",
    "\n",
    "h_obj =  f2q_mapping(mol_Li2.fermionic_hamiltonian, \"scbk\", mol_Li2.n_active_sos,\n",
    "                     mol_Li2.n_active_electrons, up_then_down=True, spin=mol_Li2.spin)\n",
    "\n",
    "n_qubits = count_qubits(h_obj)\n",
    "\n",
    "# Stretch factor of 300 to make eigenvalue gap larger. Therefore, time evolution needs to be shorter.\n",
    "h_obj = 300*(h_obj - QubitOperator((), -14.85))\n",
    "\n",
    "sim = get_backend()\n",
    "\n",
    "sigma = 0.4\n",
    "\n",
    "# We will use multiple reference states as probability depends on overlap with starting state.\n",
    "ref_states = [vector_to_circuit(do_scbk_transform([1, 1, 0, 0], 4)),\n",
    "              vector_to_circuit(do_scbk_transform([1, 0, 1, 0], 4)),\n",
    "              vector_to_circuit(do_scbk_transform([0, 0, 1, 1], 4))]\n",
    "\n",
    "# Equivalent to energies from -14.9 -> 14.75 for 10 iterations.\n",
    "energies = [-0.05*300 +300*0.005*i for i in range(30)]\n",
    "success_prob = list()\n",
    "for energy in energies:\n",
    "    success=0\n",
    "    for sample in range(10):\n",
    "        t = np.random.normal(0, sigma, 1)\n",
    "        circuit = np.random.choice(ref_states)\n",
    "        for i, tk in enumerate(t):\n",
    "            circuit += rodeo_cycle(h_obj, energy, tk, i+n_qubits)\n",
    "        f, _ = sim.simulate(circuit)\n",
    "        for key, v in f.items():\n",
    "            if key[2:] == \"0\":\n",
    "                success += v\n",
    "    success_prob.append(success/10)\n",
    "\n",
    "algorithm_resources[\"rodeo\"] = dict()\n",
    "algorithm_resources[\"rodeo\"][\"qubit_hamiltonian_terms\"] = 0\n",
    "algorithm_resources[\"rodeo\"][\"circuit_2qubit_gates\"] = circuit.counts.get(\"CNOT\", 0)\n",
    "algorithm_resources[\"rodeo\"][\"n_post_terms\"] = 30"
   ]
  },
  {
   "cell_type": "code",
   "execution_count": 25,
   "metadata": {},
   "outputs": [
    {
     "data": {
      "text/plain": [
       "Text(0, 0.5, 'Success Probability')"
      ]
     },
     "execution_count": 25,
     "metadata": {},
     "output_type": "execute_result"
    },
    {
     "data": {
      "image/png": "[encoded data removed]",
      "text/plain": [
       "<Figure size 640x480 with 1 Axes>"
      ]
     },
     "metadata": {},
     "output_type": "display_data"
    }
   ],
   "source": [
    "fig, ax = plt.subplots()\n",
    "fig.patch.set_facecolor('w')\n",
    "ax.set_facecolor('w')\n",
    "evals = [-14.8696203,  -14.83876635, -14.78403833]\n",
    "for e in evals:\n",
    "    ax.axvline(x=e, color='r',ls='--')\n",
    "ax.plot(np.array(energies)/300-14.85, success_prob)\n",
    "ax.set_xlabel('Energy (Hartree)')\n",
    "ax.set_ylabel('Success Probability')"
   ]
  },
  {
   "attachments": {},
   "cell_type": "markdown",
   "metadata": {
    "id": "ZD4RJ1RML8wz"
   },
   "source": [
    "The above plot shows promise that the correct energies indeed align with peaks in the success probability, despite our small number of iterations. To save time, below is the result after running the above code for 1000 iterations. The peaks are centered on the exact energies, represented by the vertical red dashed lines.\n",
    "\n",
    "<a class=\"anchor\" id=\"rodeo\"></a>\n",
    "<img align=\"left\" width=\"400\" src=\"../img/rodeo_1000.png\" />"
   ]
  },
  {
   "cell_type": "markdown",
   "metadata": {
    "id": "RUwlEQ-AL8wz"
   },
   "source": [
    "## 4. Closing words <a class=\"anchor\" id=\"4\"></a>\n",
    "\n",
    "We have shown a few of the many different algorithms that can be used to calculate excited states using Tangelo. Unlike ground states, the use of variational methods requires either penalizing against previously calculated states or the optimization of a collection of orthogonal states. Outside of variational methods, we have shown a few Hamiltonian simulation based algorithms to calculate excited states. \n",
    "\n",
    "But quantum resource requirements are an important aspect of quantum algorithm design: let's have a look at the resources required for each algorithm we tried on our use case. In particular, the following metrics:\n",
    "\n",
    "- `# measurements basis` is the number of distinct measurements for each function evaluation in the variational optimization process.\n",
    "- `# CNOT gates` is the number of CNOT gates in each circuit.\n",
    "- `# post measurements basis` is the number of measurements needed to successfully post-process the output of the algorithm. \n",
    "\n",
    "We note that `# CNOT gates` for each variational algorithm could be improved greatly if an algorithm such as ADAPT-VQE was used to create an ansatz. Similarly, `# CNOT gates` could be reduced for the time-evolution algorithms with more advanced approaches such as qubitization."
   ]
  },
  {
   "cell_type": "code",
   "execution_count": 26,
   "metadata": {},
   "outputs": [
    {
     "name": "stdout",
     "output_type": "stream",
     "text": [
      "Algorithm                                # measurements       # CNOT gates         # post measurements \n",
      "vqe_ground_state                         15                   64                   0                   \n",
      "vqe_triplet_state                        15                   128                  0                   \n",
      "vqe_deflation_state_1                    16                   192                  0                   \n",
      "vqe_deflation_state_2                    17                   192                  0                   \n",
      "vqe_deflation_state_3                    18                   192                  0                   \n",
      "quantum_subspace_expansion               18                   192                  288                 \n",
      "sa_vqe                                   60                   128                  0                   \n",
      "mc_vqe                                   60                   128                  540                 \n",
      "sa_vqe_deflation                         18                   192                  0                   \n",
      "sa_oo_vqe                                30                   128                  0                   \n",
      "mrsqk                                    0                    72                   16                  \n",
      "rodeo                                    0                    320                  30                  \n"
     ]
    }
   ],
   "source": [
    "format = \"{:<40} {:<20} {:<20} {:<20}\"\n",
    "print(format.format(\"Algorithm\", \"# measurements\", \"# CNOT gates\", \"# post measurements\"))\n",
    "for method, resources in algorithm_resources.items():\n",
    "  print(format.format(method, resources[\"qubit_hamiltonian_terms\"], resources[\"circuit_2qubit_gates\"], resources.get(\"n_post_terms\", 0)))"
   ]
  },
  {
   "cell_type": "markdown",
   "metadata": {
    "id": "6cT7h0NhmNEt"
   },
   "source": [
    "These are the resource requirements that came out from calculations on our small Li$_2$ use case in minimal basis set, featuring two  2 electrons in 2 orbitals.\n",
    "\n",
    "But what of BODIPY ?"
   ]
  },
  {
   "cell_type": "code",
   "execution_count": 27,
   "metadata": {},
   "outputs": [
    {
     "name": "stdout",
     "output_type": "stream",
     "text": [
      "Active electrons = 63\n",
      "Active orbitals = 70\n"
     ]
    }
   ],
   "source": [
    "bodipy = SQMol(\"data/bodipy.xyz\", q=0, spin=0, basis=\"sto-3g\")\n",
    "print(f\"Active electrons = {bodipy.n_active_mos}\")\n",
    "print(f\"Active orbitals = {bodipy.n_active_electrons}\")"
   ]
  },
  {
   "cell_type": "markdown",
   "metadata": {
    "id": "35WSxIsRL8w0"
   },
   "source": [
    "Whereas we did calculations with 2 electrons in 2 orbitals, the full calculation of BODIPY in the minimal STO-3G basis would entail 63 electrons in 70 orbitals, with the core electrons frozen. The number of qubits needed to represent this would be 140 for the Jordan-Wigner mapping, compared to the 4 (+1 ansatz for the Hamiltonian simulation algorithms) qubits used in this notebook. [J. Chem. Theory. Comput. 2015, 11, 6](https://pubs.acs.org/doi/10.1021/ct500775r) showed reasonable results using CASSCF with 12 electrons in 11 orbitals, which would be a 22-qubit problem using the Jordan-Wigner mapping. Another issue is the number of CNOT gates, which would be much larger for the full 22-qubit problem than shown in the table for our use case. \n",
    "\n",
    "This system is orders or magnitude harder, and emphasize how it is crucial that we design and choose approaches that require as little quantum computational resources as possible to make such use cases tractable in the future.\n",
    "\n",
    "There is still much work to be done to efficiently calculate excited states using quantum computers, and allow us to tackle more industrially-relevant use cases.\n",
    "\n",
    "What will you do with Tangelo? "
   ]
  }
 ],
 "metadata": {
  "colab": {
   "collapsed_sections": [],
   "name": "excited_states.ipynb",
   "provenance": []
  },
  "kernelspec": {
   "display_name": "tangelo-env",
   "language": "python",
   "name": "tangelo-env"
  },
  "language_info": {
   "codemirror_mode": {
    "name": "ipython",
    "version": 3
   },
   "file_extension": ".py",
   "mimetype": "text/x-python",
   "name": "python",
   "nbconvert_exporter": "python",
   "pygments_lexer": "ipython3",
   "version": "3.10.14"
  },
  "vscode": {
   "interpreter": {
    "hash": "95050af2697fca56ed7491a4fb0b04c1282c0de0a7e0a7cacd318a8297b0b1d8"
   }
  }
 },
 "nbformat": 4,
 "nbformat_minor": 4
}
