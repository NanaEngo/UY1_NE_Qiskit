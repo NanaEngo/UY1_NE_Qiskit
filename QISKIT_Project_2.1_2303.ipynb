{
 "cells": [
  {
   "attachments": {},
   "cell_type": "markdown",
   "id": "e3ef3941-940a-41a9-b3b0-f3eb848dbbaf",
   "metadata": {},
   "source": [
    "# UE 4268 - QISKIT Project 2.1\n",
    "\n",
    "\n",
    "**`vos noms et prenoms`**, `matricule` et `email` \n",
    "\n",
    "\n",
    "Department of Physics - Faculty of Science - University of Yaoundé I\n",
    "\n",
    "`Nom du Laboratoire`\n",
    "\n",
    "`Date`"
   ]
  },
  {
   "attachments": {},
   "cell_type": "markdown",
   "id": "77c02481-2ad1-4ced-aeb0-a3748bff70c4",
   "metadata": {},
   "source": [
    "## Projet 1.2 Rotation d'un qubit\n",
    "\n",
    "Le [tutoriel](\\url{https://qiskit.org/documentation/stable/0.33/tutorials/operators/02_gradients_framework.html}) sera mis à profit pour ce projet. \n",
    "\n",
    "La tâche à accomplir consiste à optimiser deux portes de rotation afin de basculer un seul qubit de l'état $|0\\rangle$ à l'état $|1\\rangle$.\n",
    "\n",
    "On souhaite implémenter le circuit quantique suivant :\n",
    "\n",
    "<img src=\"./Graphics/rotation_circuit.png\" width=300 />\n",
    "\n",
    "En décomposant cela étape par étape, on commence d'abord avec un qubit dans le\n",
    "état fondamental $|0\\rangle$, et on le fait le pivoter autour de l'axe des x en appliquant la porte\n",
    "\n",
    "\\begin{equation}\n",
    "\\mathtt{R}_x(\\phi_1) = e^{-i \\phi_1 \\sigma_x /2} =\n",
    "\\begin{bmatrix} \\cos \\frac{\\phi_1}{2} &  -i \\sin \\frac{\\phi_1}{2} \\\\\n",
    "-i \\sin \\frac{\\phi_1}{2} &  \\cos \\frac{\\phi_1}{2}\n",
    "\\end{bmatrix},\n",
    "\\end{equation}\n",
    "puis autour de l'axe y via la porte\n",
    "\\begin{equation}\n",
    "\\mathtt{R}_y(\\phi_2) = e^{-i \\phi_2 \\sigma_y/2} =\n",
    "\\begin{bmatrix} \\cos \\frac{\\phi_2}{2} &  - \\sin \\frac{\\phi_2}{2} \\\\\n",
    "\\sin \\frac{\\phi_2}{2} &  \\cos \\frac{\\phi_2}{2}\n",
    "\\end{bmatrix}.\n",
    "\\end{equation}\n",
    "Après ces opérations le qubit est maintenant dans l'état\n",
    "\n",
    "$$| \\psi \\rangle = \\mathtt{R}_y(\\phi_2) \\mathtt{R}_x(\\phi_1) | 0 \\rangle.$$\n",
    "\n",
    "Enfin, on mesure la valeur moyenne\n",
    "$\\langle \\psi \\mid \\mathtt{Z} \\mid \\psi \\rangle$ de l'opérateur Pauli-Z\n",
    "\n",
    "\\begin{equation}\n",
    "\\mathtt{Z} =\n",
    "\\begin{bmatrix} 1 &  0 \\\\\n",
    "0 & -1\n",
    "\\end{bmatrix}.\n",
    "\\end{equation}\n",
    "De ce qui précède, la valeur moyenne exacte vaut\n",
    "\n",
    "$$\\langle \\psi|\\mathtt{Z}|\\psi \\rangle\n",
    "= \\langle 0 |\\mathtt{R}_x(\\phi_1)^\\dagger \\mathtt{R}_y(\\phi_2)^\\dagger \\mathtt{Z}\\mathtt{R}_y(\\phi_2) R_x(\\phi_1) |0 \\rangle\n",
    "= \\cos(\\phi_1)\\cos(\\phi_2).$$\n",
    "\n",
    "Selon les paramètres du circuit $\\phi_1$ et $\\phi_2$, la sortie varie entre $1$ (lorsque\n",
    "$|\\psi\\rangle = |0\\rangle$) et $-1$ (lorsque\n",
    "$|\\psi\\rangle = |0\\rangle$).\n",
    "\n",
    "<p align=\"center\">\n",
    "<img src=\"./Graphics/bloch01.png\" width=300 />\n",
    "</p>"
   ]
  },
  {
   "cell_type": "markdown",
   "id": "03c1559f-0fc0-472f-a808-6ffab1397abb",
   "metadata": {},
   "source": [
    "1. Importer les modules Qiskit nécessaires et numpy"
   ]
  },
  {
   "cell_type": "code",
   "execution_count": 13,
   "id": "1a0a4eb9-426f-4634-bb57-13b16e89277a",
   "metadata": {},
   "outputs": [],
   "source": [
    " from qiskit import QuantumCircuit, transpile\n",
    "from qiskit.tools.visualization import circuit_drawer, array_to_latex\n",
    "from qiskit.circuit import Parameter, ParameterVector\n",
    "from qiskit.primitives import Estimator\n",
    "\n",
    "from qiskit.quantum_info.operators import Operator, Pauli\n",
    "from qiskit.extensions import ZGate\n",
    "from qiskit.quantum_info import SparsePauliOp\n",
    "\n",
    "import numpy as np"
   ]
  },
  {
   "cell_type": "code",
   "execution_count": 7,
   "id": "bd575b46",
   "metadata": {},
   "outputs": [
    {
     "data": {
      "image/png": "[encoded data removed]",
      "text/plain": [
       "<PIL.Image.Image image mode=RGB size=305x65>"
      ]
     },
     "execution_count": 7,
     "metadata": {},
     "output_type": "execute_result"
    }
   ],
   "source": [
    "circuit = QuantumCircuit(1, 1)\n",
    "\n",
    "#Parameters \n",
    "parameter_0 = Parameter('\\\\phi[0]')\n",
    "parameter_1 = Parameter('\\\\phi[1]')\n",
    "\n",
    "#Circuit\n",
    "circuit.rx(theta = parameter_0, qubit = 0)\n",
    "circuit.ry(theta = parameter_1, qubit = 0)\n",
    "circuit.draw('latex')"
   ]
  },
  {
   "cell_type": "code",
   "execution_count": 15,
   "id": "9dfde1a0",
   "metadata": {},
   "outputs": [
    {
     "name": "stdout",
     "output_type": "stream",
     "text": [
      "\u001b[0;31mInit signature:\u001b[0m\n",
      "\u001b[0mEstimator\u001b[0m\u001b[0;34m(\u001b[0m\u001b[0;34m\u001b[0m\n",
      "\u001b[0;34m\u001b[0m    \u001b[0mcircuits\u001b[0m\u001b[0;34m:\u001b[0m \u001b[0;34m'QuantumCircuit | Iterable[QuantumCircuit] | None'\u001b[0m \u001b[0;34m=\u001b[0m \u001b[0;32mNone\u001b[0m\u001b[0;34m,\u001b[0m\u001b[0;34m\u001b[0m\n",
      "\u001b[0;34m\u001b[0m    \u001b[0mobservables\u001b[0m\u001b[0;34m:\u001b[0m \u001b[0;34m'BaseOperator | PauliSumOp | Iterable[BaseOperator | PauliSumOp] | None'\u001b[0m \u001b[0;34m=\u001b[0m \u001b[0;32mNone\u001b[0m\u001b[0;34m,\u001b[0m\u001b[0;34m\u001b[0m\n",
      "\u001b[0;34m\u001b[0m    \u001b[0mparameters\u001b[0m\u001b[0;34m:\u001b[0m \u001b[0;34m'Iterable[Iterable[Parameter]] | None'\u001b[0m \u001b[0;34m=\u001b[0m \u001b[0;32mNone\u001b[0m\u001b[0;34m,\u001b[0m\u001b[0;34m\u001b[0m\n",
      "\u001b[0;34m\u001b[0m    \u001b[0moptions\u001b[0m\u001b[0;34m:\u001b[0m \u001b[0;34m'dict | None'\u001b[0m \u001b[0;34m=\u001b[0m \u001b[0;32mNone\u001b[0m\u001b[0;34m,\u001b[0m\u001b[0;34m\u001b[0m\n",
      "\u001b[0;34m\u001b[0m\u001b[0;34m)\u001b[0m\u001b[0;34m\u001b[0m\u001b[0;34m\u001b[0m\u001b[0m\n",
      "\u001b[0;31mDocstring:\u001b[0m     \n",
      "Reference implementation of :class:`BaseEstimator`.\n",
      "\n",
      ":Run Options:\n",
      "\n",
      "    - **shots** (None or int) --\n",
      "      The number of shots. If None, it calculates the exact expectation\n",
      "      values. Otherwise, it samples from normal distributions with standard errors as standard\n",
      "      deviations using normal distribution approximation.\n",
      "\n",
      "    - **seed** (np.random.Generator or int) --\n",
      "      Set a fixed seed or generator for the normal distribution. If shots is None,\n",
      "      this option is ignored.\n",
      "\u001b[0;31mInit docstring:\u001b[0m\n",
      "Args:\n",
      "    circuits: circuits that represent quantum states.\n",
      "    observables: observables to be estimated.\n",
      "    parameters: Parameters of each of the quantum circuits.\n",
      "        Defaults to ``[circ.parameters for circ in circuits]``.\n",
      "    options: Default options.\n",
      "\n",
      "Raises:\n",
      "    QiskitError: if some classical bits are not used for measurements.\n",
      "\u001b[0;31mFile:\u001b[0m           ~/mambaforge/envs/qiskit-env/lib/python3.10/site-packages/qiskit/primitives/estimator.py\n",
      "\u001b[0;31mType:\u001b[0m           ABCMeta\n",
      "\u001b[0;31mSubclasses:\u001b[0m     "
     ]
    }
   ],
   "source": [
    "# Estimator?\n",
    "\n",
    "# H2 = SparsePauliOp.from_list([(\"Z\", 1)])\n",
    "\n",
    "# H2"
   ]
  },
  {
   "cell_type": "code",
   "execution_count": 11,
   "id": "1e96563a",
   "metadata": {},
   "outputs": [
    {
     "ename": "TypeError",
     "evalue": "BaseEstimator.run() missing 1 required positional argument: 'self'",
     "output_type": "error",
     "traceback": [
      "\u001b[0;31m---------------------------------------------------------------------------\u001b[0m",
      "\u001b[0;31mTypeError\u001b[0m                                 Traceback (most recent call last)",
      "Cell \u001b[0;32mIn[11], line 3\u001b[0m\n\u001b[1;32m      1\u001b[0m \u001b[39m# convert to a state\u001b[39;00m\n\u001b[1;32m      2\u001b[0m \u001b[39m# psi = CircuitStateFn(circuit)\u001b[39;00m\n\u001b[0;32m----> 3\u001b[0m psi_Z \u001b[39m=\u001b[39m Estimator\u001b[39m.\u001b[39;49mrun(circuits\u001b[39m=\u001b[39;49m[circuit], observables\u001b[39m=\u001b[39;49m[ZGate], parameter_values\u001b[39m=\u001b[39;49m[\u001b[39m0.54\u001b[39;49m, \u001b[39m0.12\u001b[39;49m])\n\u001b[1;32m      4\u001b[0m \u001b[39mprint\u001b[39m(psi_Z\u001b[39m.\u001b[39mresult())\n",
      "\u001b[0;31mTypeError\u001b[0m: BaseEstimator.run() missing 1 required positional argument: 'self'"
     ]
    }
   ],
   "source": [
    "# convert to a state\n",
    "# psi = CircuitStateFn(circuit)\n",
    "psi_Z = Estimator.run(\n",
    "    circuits=[circuit], \n",
    "    observables=[ZGate], \n",
    "    parameter_values=0.54, 0.12])\n",
    "print(psi_Z.result())"
   ]
  },
  {
   "cell_type": "code",
   "execution_count": 89,
   "id": "9b65e844",
   "metadata": {},
   "outputs": [
    {
     "data": {
      "text/html": [
       "<pre style=\"word-wrap: normal;white-space: pre;background: #fff0;line-height: 1.1;font-family: &quot;Courier New&quot;,Courier,monospace\">   ┌──────────┐┌──────────┐\n",
       "q: ┤ Rx(θ[0]) ├┤ Ry(θ[1]) ├\n",
       "   └──────────┘└──────────┘</pre>"
      ],
      "text/plain": [
       "   ┌──────────┐┌──────────┐\n",
       "q: ┤ Rx(θ[0]) ├┤ Ry(θ[1]) ├\n",
       "   └──────────┘└──────────┘"
      ]
     },
     "execution_count": 89,
     "metadata": {},
     "output_type": "execute_result"
    }
   ],
   "source": [
    "two = TwoLocal(1, ['rx','ry'], [], reps=1, insert_barriers=False, skip_final_rotation_layer=True)\n",
    "# qc = QuantumCircuit(1)\n",
    "qc = two\n",
    "# qc.append(two)\n",
    "qc.decompose().draw()\n",
    "# two.decompose().draw()"
   ]
  },
  {
   "cell_type": "code",
   "execution_count": 69,
   "id": "1c615dd2",
   "metadata": {},
   "outputs": [
    {
     "ename": "TypeError",
     "evalue": "int() argument must be a string, a bytes-like object or a real number, not 'QuantumCircuit'",
     "output_type": "error",
     "traceback": [
      "\u001b[0;31m---------------------------------------------------------------------------\u001b[0m",
      "\u001b[0;31mTypeError\u001b[0m                                 Traceback (most recent call last)",
      "Cell \u001b[0;32mIn[69], line 4\u001b[0m\n\u001b[1;32m      2\u001b[0m qc\u001b[39m.\u001b[39mrx(\u001b[39m.54\u001b[39m, qubit \u001b[39m=\u001b[39m \u001b[39m0\u001b[39m)\n\u001b[1;32m      3\u001b[0m qc\u001b[39m.\u001b[39mry(\u001b[39m.12\u001b[39m, qubit \u001b[39m=\u001b[39m \u001b[39m0\u001b[39m)\n\u001b[0;32m----> 4\u001b[0m EvolvedOperatorAnsatz(Operator(Pauli(\u001b[39m'\u001b[39;49m\u001b[39mZ\u001b[39;49m\u001b[39m'\u001b[39;49m)),qc)\n",
      "File \u001b[0;32m~/mambaforge/envs/qiskit-env/lib/python3.10/site-packages/qiskit/circuit/library/evolved_operator_ansatz.py:59\u001b[0m, in \u001b[0;36mEvolvedOperatorAnsatz.__init__\u001b[0;34m(self, operators, reps, evolution, insert_barriers, name, parameter_prefix, initial_state)\u001b[0m\n\u001b[1;32m     55\u001b[0m     \u001b[39mfrom\u001b[39;00m \u001b[39mqiskit\u001b[39;00m\u001b[39m.\u001b[39;00m\u001b[39mopflow\u001b[39;00m \u001b[39mimport\u001b[39;00m PauliTrotterEvolution\n\u001b[1;32m     57\u001b[0m     evolution \u001b[39m=\u001b[39m PauliTrotterEvolution()\n\u001b[0;32m---> 59\u001b[0m \u001b[39msuper\u001b[39;49m()\u001b[39m.\u001b[39;49m\u001b[39m__init__\u001b[39;49m(\n\u001b[1;32m     60\u001b[0m     initial_state\u001b[39m=\u001b[39;49minitial_state,\n\u001b[1;32m     61\u001b[0m     parameter_prefix\u001b[39m=\u001b[39;49mparameter_prefix,\n\u001b[1;32m     62\u001b[0m     reps\u001b[39m=\u001b[39;49mreps,\n\u001b[1;32m     63\u001b[0m     insert_barriers\u001b[39m=\u001b[39;49minsert_barriers,\n\u001b[1;32m     64\u001b[0m     name\u001b[39m=\u001b[39;49mname,\n\u001b[1;32m     65\u001b[0m )\n\u001b[1;32m     66\u001b[0m \u001b[39mself\u001b[39m\u001b[39m.\u001b[39m_operators \u001b[39m=\u001b[39m \u001b[39mNone\u001b[39;00m\n\u001b[1;32m     67\u001b[0m \u001b[39mif\u001b[39;00m operators \u001b[39mis\u001b[39;00m \u001b[39mnot\u001b[39;00m \u001b[39mNone\u001b[39;00m:\n",
      "File \u001b[0;32m~/mambaforge/envs/qiskit-env/lib/python3.10/site-packages/qiskit/circuit/library/n_local/n_local.py:135\u001b[0m, in \u001b[0;36mNLocal.__init__\u001b[0;34m(self, num_qubits, rotation_blocks, entanglement_blocks, entanglement, reps, insert_barriers, parameter_prefix, overwrite_block_parameters, skip_final_rotation_layer, skip_unentangled_qubits, initial_state, name)\u001b[0m\n\u001b[1;32m    132\u001b[0m \u001b[39mself\u001b[39m\u001b[39m.\u001b[39m_initial_state, \u001b[39mself\u001b[39m\u001b[39m.\u001b[39m_initial_state_circuit \u001b[39m=\u001b[39m \u001b[39mNone\u001b[39;00m, \u001b[39mNone\u001b[39;00m\n\u001b[1;32m    133\u001b[0m \u001b[39mself\u001b[39m\u001b[39m.\u001b[39m_bounds \u001b[39m=\u001b[39m \u001b[39mNone\u001b[39;00m\n\u001b[0;32m--> 135\u001b[0m \u001b[39mif\u001b[39;00m \u001b[39mint\u001b[39;49m(reps) \u001b[39m!=\u001b[39m reps:\n\u001b[1;32m    136\u001b[0m     \u001b[39mraise\u001b[39;00m \u001b[39mTypeError\u001b[39;00m(\u001b[39m\"\u001b[39m\u001b[39mThe value of reps should be int\u001b[39m\u001b[39m\"\u001b[39m)\n\u001b[1;32m    138\u001b[0m \u001b[39mif\u001b[39;00m reps \u001b[39m<\u001b[39m \u001b[39m0\u001b[39m:\n",
      "\u001b[0;31mTypeError\u001b[0m: int() argument must be a string, a bytes-like object or a real number, not 'QuantumCircuit'"
     ]
    }
   ],
   "source": [
    "qc = QuantumCircuit(1)\n",
    "qc.rx(.54, qubit = 0)\n",
    "qc.ry(.12, qubit = 0)\n",
    "EvolvedOperatorAnsatz(Operator(Pauli('Z')),qc)"
   ]
  },
  {
   "cell_type": "code",
   "execution_count": null,
   "id": "f455aec8-49e2-45c6-a020-6ac9544f012e",
   "metadata": {},
   "outputs": [],
   "source": [
    "import qiskit.tools.jupyter\n",
    "%qiskit_version_table"
   ]
  }
 ],
 "metadata": {
  "kernelspec": {
   "display_name": "qiskit-env",
   "language": "python",
   "name": "qiskit-env"
  },
  "language_info": {
   "codemirror_mode": {
    "name": "ipython",
    "version": 3
   },
   "file_extension": ".py",
   "mimetype": "text/x-python",
   "name": "python",
   "nbconvert_exporter": "python",
   "pygments_lexer": "ipython3",
   "version": "3.10.10"
  }
 },
 "nbformat": 4,
 "nbformat_minor": 5
}
