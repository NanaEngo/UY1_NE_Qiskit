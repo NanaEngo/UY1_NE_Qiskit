{
 "cells": [
  {
   "cell_type": "markdown",
   "id": "b77fe9f6-1cbb-4a60-a98b-e3394da0e37e",
   "metadata": {},
   "source": [
    "# Spin-1/2 on a Bloch sphere\n",
    "\n",
    "The Qiskit framework of IBM is use.\n",
    "\n",
    "Create quantum circuits with a single qubit."
   ]
  },
  {
   "cell_type": "code",
   "execution_count": null,
   "id": "414bb2ca-dadf-4ad4-a929-1ce58ffdfe45",
   "metadata": {},
   "outputs": [],
   "source": [
    "from qiskit import QuantumCircuit\n",
    "\n",
    "qcx = QuantumCircuit(1)\n",
    "qcy = QuantumCircuit(1)\n",
    "qcz = QuantumCircuit(1)\n"
   ]
  },
  {
   "cell_type": "markdown",
   "id": "cad7d36e-8822-48c3-a8a3-dd30f8625ece",
   "metadata": {},
   "source": [
    "Give the matrix representation of $R_x(\\phi)$, $R_y(\\phi)$ and $R_z(\\theta)$."
   ]
  },
  {
   "cell_type": "code",
   "execution_count": null,
   "id": "cdc884d8-6032-46b7-a208-5466e664c1f2",
   "metadata": {},
   "outputs": [],
   "source": [
    "from qiskit.circuit import Parameter\n",
    "from math import pi\n",
    "\n",
    "# Set the angles as parameters\n",
    "x = Parameter('\\\\phi')\n",
    "y = Parameter('\\\\theta')\n",
    "\n",
    "# Apply the rotation gate with a rotation angle\n",
    "qcx.rx(x, 0)\n",
    "qcy.ry(x, 0)\n",
    "qcz.rz(y, 0)\n"
   ]
  },
  {
   "cell_type": "code",
   "execution_count": null,
   "id": "9bc855de-de9b-4144-9b34-fafb095aff4a",
   "metadata": {},
   "outputs": [],
   "source": [
    "from qiskit_symb import Operator as SymbOperator\n",
    "\n",
    "SymbOperator(qcx).to_sympy()"
   ]
  },
  {
   "cell_type": "code",
   "execution_count": null,
   "id": "7e2eb3b8-a70e-49aa-a1df-b12a456b8ce7",
   "metadata": {},
   "outputs": [],
   "source": [
    "SymbOperator(qcy).to_sympy()"
   ]
  },
  {
   "cell_type": "code",
   "execution_count": null,
   "id": "97023031-5a47-4a31-9d4c-1b9ed231fcf9",
   "metadata": {},
   "outputs": [],
   "source": [
    "SymbOperator(qcz).to_sympy()"
   ]
  },
  {
   "cell_type": "markdown",
   "id": "4acf58b0-6cf3-435c-83c2-3c32d96ae72d",
   "metadata": {},
   "source": [
    "from qiskit import transpile\n",
    "from qiskit.visualization import visualize_transition\n",
    "from math import pi\n",
    "\n",
    "# Apply the RY gate with a rotation angle of pi\n",
    "circuit.ry(pi,0)\n",
    "\n",
    "# Transpile the circuit to optimize it for the target backend\n",
    "transpiled_circuit = transpile(circuit)\n",
    "\n",
    "# Visualize the transition from the initial to the final circuit\n",
    "visualize_transition(circuit, transpiled_circuit)"
   ]
  },
  {
   "cell_type": "code",
   "execution_count": null,
   "id": "a93b8291-ae32-4f29-882b-5e50d7a2fa8f",
   "metadata": {},
   "outputs": [],
   "source": [
    "# Apply the RY gate with a rotation angle of pi\n",
    "circuit.rx(pi,0)\n",
    "\n",
    "# Transpile the circuit to optimize it for the target backend\n",
    "transpiled_circuit = transpile(circuit)\n",
    "\n",
    "# Visualize the transition from the initial to the final circuit\n",
    "visualize_transition(circuit, transpiled_circuit)"
   ]
  }
 ],
 "metadata": {
  "kernelspec": {
   "display_name": "Python [conda env:qiskit-env]",
   "language": "python",
   "name": "conda-env-qiskit-env-py"
  },
  "language_info": {
   "codemirror_mode": {
    "name": "ipython",
    "version": 3
   },
   "file_extension": ".py",
   "mimetype": "text/x-python",
   "name": "python",
   "nbconvert_exporter": "python",
   "pygments_lexer": "ipython3",
   "version": "3.10.12"
  }
 },
 "nbformat": 4,
 "nbformat_minor": 5
}
