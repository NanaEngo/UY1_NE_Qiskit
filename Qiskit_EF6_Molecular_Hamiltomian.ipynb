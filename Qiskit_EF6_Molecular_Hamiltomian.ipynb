{
 "cells": [
  {
   "attachments": {},
   "cell_type": "markdown",
   "id": "dbe148b4",
   "metadata": {},
   "source": [
    "# UE 4268 - QISKIT LAB 5 - Evalution formative\n",
    "\n",
    "\n",
    "**`vos noms et prenoms`**, `matricule` et `email` \n",
    "\n",
    "\n",
    "Department of Physics - Faculty of Science - University of Yaoundé I\n",
    "\n",
    "`Nom du Laboratoire`\n",
    "\n",
    "`Date`\n",
    "\n",
    " **Duree: 180 min**"
   ]
  },
  {
   "cell_type": "code",
   "execution_count": null,
   "id": "eb4a969f",
   "metadata": {},
   "outputs": [],
   "source": [
    "# Display Qiskit Software and System information\n",
    "import qiskit.tools.jupyter\n",
    "%qiskit_version_table"
   ]
  },
  {
   "attachments": {},
   "cell_type": "markdown",
   "id": "8a7fd4c7",
   "metadata": {},
   "source": [
    "## I. Multiple-choice questions and open answer questions\n",
    "\n",
    "1. Which of the following terms is neglected in the BO approximation?\n",
    "\n",
    "    A.\tElectronic kinetic energy operator.\n",
    "\n",
    "    B.\tNuclear kinetic energy operator.\n",
    "\n",
    "    C.\tPotential energy between the electrons and nuclei. It is the sum of all electron-nucleus Coulomb interactions.\n",
    "\n",
    "    D.\tPotential energy operator arising from electron-electron Coulomb repulsions.\n"
   ]
  },
  {
   "attachments": {},
   "cell_type": "markdown",
   "id": "d1098973",
   "metadata": {},
   "source": [
    "<!-- Put you answers here -->"
   ]
  },
  {
   "attachments": {},
   "cell_type": "markdown",
   "id": "f1e46473",
   "metadata": {},
   "source": [
    "2. The Slater determinant state function is antisymmetric with respect to: \n",
    "\n",
    "    A.\tthe exchange of two electrons (permutation of two rows) or, \n",
    "\n",
    "    B.\twith respect to the exchange of two spin orbitals (permutation of two columns)\n",
    "\n",
    "    C.\tOr both the above?"
   ]
  },
  {
   "attachments": {},
   "cell_type": "markdown",
   "id": "4fc98730",
   "metadata": {},
   "source": [
    "<!-- Put you answers here -->"
   ]
  },
  {
   "attachments": {},
   "cell_type": "markdown",
   "id": "44175d18",
   "metadata": {},
   "source": [
    "3. Name three fermion to qubit transformations currently supported by Qiskit Nature."
   ]
  },
  {
   "attachments": {},
   "cell_type": "markdown",
   "id": "733f2a1f",
   "metadata": {},
   "source": [
    "<!-- Put you answers here -->"
   ]
  },
  {
   "attachments": {},
   "cell_type": "markdown",
   "id": "28621c14",
   "metadata": {},
   "source": [
    "\n",
    "4. Name two fermion to qubit transformations that simulates a system of electrons with the same number of qubits as electrons."
   ]
  },
  {
   "attachments": {},
   "cell_type": "markdown",
   "id": "965f3090",
   "metadata": {},
   "source": [
    "<!-- Put you answers here -->"
   ]
  },
  {
   "attachments": {},
   "cell_type": "markdown",
   "id": "9da6bb03",
   "metadata": {},
   "source": [
    "5.\tFor which transformation does the resulting Hamiltonian commute with the number spin up and number spin down operators which can be used to taper off two qubits?\n"
   ]
  },
  {
   "attachments": {},
   "cell_type": "markdown",
   "id": "656bca42",
   "metadata": {},
   "source": [
    "<!-- Put you answers here -->"
   ]
  },
  {
   "attachments": {},
   "cell_type": "markdown",
   "id": "5a686aef",
   "metadata": {},
   "source": [
    "## II. Manual exercises\n",
    "\n",
    "1. In **Exemple d'illustration** of **Qiskit Lab 4**, we have considered a fictitious system described by spin orbitals $|A_\\uparrow\\rangle,\\,|A_\\downarrow\\rangle,\\,|B_\\uparrow\\rangle,\\,|B_\\downarrow\\rangle$ labelled as\n",
    "\\begin{align*}\n",
    " &|A_\\uparrow\\rangle=|00\\rangle=|\\mathbf{0}\\rangle,  &&|A_\\downarrow\\rangle=|01\\rangle=|\\mathbf{1}\\rangle,\n",
    "&&|B_\\uparrow\\rangle=|10\\rangle=|\\mathbf{2}\\rangle,  &|B_\\downarrow\\rangle=|11\\rangle=|\\mathbf{3}\\rangle.\n",
    "\\end{align*}\n",
    "We assume that the Hartree-Fock state for this system **has both electrons occupying the $|A\\rangle$ orbitals**. We store the occupations of the spin orbitals $|A_\\uparrow\\rangle,\\,|A_\\downarrow\\rangle,\\,|B_\\uparrow\\rangle,\\,|B_\\downarrow\\rangle$ which we order as \n",
    "$|f_{B_\\downarrow},f_{B_\\uparrow},f_{A_\\downarrow},f_{A_\\uparrow}\\rangle$, with $f_i=0,1$.\n",
    "    1. Write down, in the fermionic Fock space, the Hartree-Fock state $|\\Psi_{\\rm HF}\\rangle$, that is, the corresponding of the antisymmetrized Slater determinant obtained in **Exemple d'illustration**.\n",
    "    2. Write down, in the fermionic Fock space, the $s_z = 0$ state vector."
   ]
  },
  {
   "attachments": {},
   "cell_type": "markdown",
   "id": "d358c9c8",
   "metadata": {},
   "source": [
    "<!-- Put you answers here -->"
   ]
  },
  {
   "attachments": {},
   "cell_type": "markdown",
   "id": "a4a45941",
   "metadata": {},
   "source": [
    "2. A fermionic Fock state is given by \n",
    "$$ |\\Psi\\rangle = a|0011\\rangle + b|1100\\rangle + c|1001\\rangle + d|0110\\rangle. $$\n",
    "\n",
    "Write down the mapping onto the corresponding qubit state by using the **parity** and **Bravyi-Kitaev** transformations.\n",
    "\n",
    "**Hint:** Use the article of Jacob T. Seeley, Martin J. Richard, and Peter J. Love, *The Bravyi-Kitaev transformation for quantum computation of electronic structure*, THE JOURNAL OF CHEMICAL PHYSICS 137, 224109 (2012)."
   ]
  },
  {
   "attachments": {},
   "cell_type": "markdown",
   "id": "cfd38342",
   "metadata": {},
   "source": [
    "<!-- Put you answers here -->"
   ]
  },
  {
   "attachments": {},
   "cell_type": "markdown",
   "id": "c4934b00",
   "metadata": {},
   "source": [
    "3. Démontrer clairement, les résultats de l'équation (102) (p.38) de l'article de Sam McArdle et *al.* *Quantum computational chemistry*, REVIEWS OF MODERN PHYSICS, VOLUME 92, JANUARY–MARCH 2020."
   ]
  },
  {
   "attachments": {},
   "cell_type": "markdown",
   "id": "5643fe96",
   "metadata": {},
   "source": [
    "<!-- Put you answers here -->"
   ]
  },
  {
   "attachments": {},
   "cell_type": "markdown",
   "id": "44fbb1a4",
   "metadata": {},
   "source": [
    "### III - Programmation\n",
    "\n",
    "1. Ecrire un script qiskit permettant de retrouver les résultats de l'équation (102) (p.38) de l'article de Sam McArdle et *al.* *Quantum computational chemistry*, REVIEWS OF MODERN PHYSICS, VOLUME 92, JANUARY–MARCH 2020."
   ]
  },
  {
   "cell_type": "code",
   "execution_count": null,
   "id": "aa63335e",
   "metadata": {},
   "outputs": [],
   "source": [
    "# Insert your code here"
   ]
  },
  {
   "attachments": {},
   "cell_type": "markdown",
   "id": "30792332",
   "metadata": {},
   "source": [
    "2. On s'interesse à la molécule d'H$_2$\n",
    "```\n",
    "H2_driver = PySCFDriver(\n",
    "    atom=\"H 0 0 0; H 0 0 0.735\",\n",
    "    basis=\"sto3g\",\n",
    "    charge=0,\n",
    "    spin=0,\n",
    "    unit=DistanceUnit.ANGSTROM,\n",
    ")\n",
    "```\n",
    "Ecrire un script qiskit permettant de retrouver les résultats des équations (80) et (79) (p. 12) de l'article de Jacob T. Seeley, Martin J. Richard, and Peter J. Love, *The Bravyi-Kitaev transformation for quantum computation of electronic structure*, THE JOURNAL OF CHEMICAL PHYSICS 137, 224109 (2012)."
   ]
  },
  {
   "cell_type": "code",
   "execution_count": null,
   "id": "7792660c",
   "metadata": {},
   "outputs": [],
   "source": [
    "# Insert your code here"
   ]
  },
  {
   "attachments": {},
   "cell_type": "markdown",
   "id": "a7d1a640",
   "metadata": {},
   "source": [
    "3. Uiliser `qiskit_nature.second_q.algorithms.GroundStateEigensolver` et `qiskit.algorithms.minimum_eigensolvers.NumPyMinimumEigensolver` pour trouver l'énergie de l'état fondamental de LiH, avec \n",
    "```\n",
    "LiH_driver = PySCFDriver(\n",
    "    atom=\"Li 0 0 0; H 0 0 1.546\",\n",
    "    basis=\"sto3g\",\n",
    "    charge=0,\n",
    "    spin=0,\n",
    "    unit=DistanceUnit.ANGSTROM,\n",
    ")\n",
    "```\n",
    "Il est à noter que la valeur expérimentale est $-7.882752{\\rm Ha}$."
   ]
  },
  {
   "cell_type": "code",
   "execution_count": null,
   "id": "fc5224fd",
   "metadata": {},
   "outputs": [],
   "source": [
    "# Insert your code here"
   ]
  }
 ],
 "metadata": {
  "kernelspec": {
   "display_name": "Python 3 (ipykernel)",
   "language": "python",
   "name": "python3"
  },
  "language_info": {
   "codemirror_mode": {
    "name": "ipython",
    "version": 3
   },
   "file_extension": ".py",
   "mimetype": "text/x-python",
   "name": "python",
   "nbconvert_exporter": "python",
   "pygments_lexer": "ipython3",
   "version": "3.8.13"
  }
 },
 "nbformat": 4,
 "nbformat_minor": 5
}
