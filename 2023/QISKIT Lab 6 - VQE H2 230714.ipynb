{
 "cells": [
  {
   "cell_type": "markdown",
   "metadata": {},
   "source": [
    "# 1. <a id='toc1_'></a>[QISKIT Lab 6 - VQE H2 and LiH](#toc0_)\n",
    " 1. **S. G. Nana Engo**, serge.nana-engo@facsciences-uy1.cm\n",
    "    * Department of Physics, Faculty of Science, University of Yaounde I\n",
    "1. **J-P. Tchapet Njafa**, jean-pierre.tchapet-njafa@univ-maroua.cm\n",
    "    * Department of Physics, Faculty of Science, University of Maroua\n",
    "1. **P. Djorwe**, djorwepp@gmail.com\n",
    "    * Department of Physics, Faculty of Science, University of Ngaoundere\n",
    "       \n",
    "May 2023"
   ]
  },
  {
   "cell_type": "markdown",
   "metadata": {},
   "source": [
    "$\n",
    "\\newcommand{\\ad}{a^\\dagger} % Operateur bosonique adjoint \n",
    "\\newcommand{\\mt}[1]{\\mathtt{#1}} %  Use mathtt\n",
    "\\newcommand{\\mel}[3]{\\langle #1|#2|#3\\rangle} %Matrix element\n",
    "\\newcommand{\\ket}[1]{|#1\\rangle}\n",
    "$"
   ]
  },
  {
   "cell_type": "markdown",
   "metadata": {},
   "source": [
    "L'algorithme VQE (Variational Quantum Eigensolver), dans la contexte de la chimie quantique ou de la modélisation moléculaire, utilise la méthode variationelle, et deux processeurs, quantique et classique, pour déterminer l'énergie la plus basse associée à la valeur propre de l'etat fondamental ou des états excités."
   ]
  },
  {
   "cell_type": "markdown",
   "metadata": {},
   "source": [
    "## 1.1. <a id='toc1_1_'></a>[Algorithme détaillé de la VQE](#toc0_)\n",
    "On peut résumer cet algorithme en deux grandes parties qu'illustre la figure ci-dessous.\n",
    "\n",
    "<center>\n",
    "<img src=\"./Graphics/VQE_Diagram.png\" width=700 />\n",
    "</center>\n",
    "                                                          \n",
    "\n",
    "### 1.1.1. <a id='toc1_1_1_'></a>[Processeur quantique](#toc0_)\n",
    "\n",
    "Le processeur quantique comporte trois étapes fondamentales :\n",
    "\n",
    "1. Définir le circuit quantique ou porte quantique $\\mathtt{U}(\\vec{\\theta})$;\n",
    "2. Préparer de la fonction d'essai paramétré $|\\Psi (\\vec{\\theta})\\rangle$ appelée **Ansatz**, qui est essentiellement une estimation de l'état fondamental, à cet effet, on choisit arbitrairement un état de référence $|\\psi_0\\rangle$ sur lequel on applique $\\mathtt{U}(\\vec{\\theta})$,\n",
    "\t\\begin{equation}\n",
    "\t\t|\\Psi (\\vec{\\theta})\\rangle= \\mathtt{U}(\\vec{\\theta})|\\psi_0 \\rangle=\\sum_i\\alpha_i|E_i\\rangle.\n",
    "\t\\end{equation}\n",
    "3. Mesurer de la valeur moyenne ou fonction de coût\n",
    "\\begin{equation}\n",
    "C(\\vec\\theta)=\\langle\\Psi(\\vec\\theta)|\\mathtt{H}|\\Psi(\\vec\\theta)\\rangle\n",
    "=\\langle \\psi_0| \\mathtt{U}^\\dagger (\\vec{\\theta})\\mathtt{HU} (\\vec{\\theta})|\\psi_0\\rangle.\n",
    "\\end{equation}\n",
    "Selon la décomposition spectrale, $\\mathtt{H}$ peut être représenté par:\n",
    "\\begin{equation}\n",
    "\\mathtt{H}=\\sum_i E_i|E_i\\rangle\\langle E_i|.\n",
    "\\end{equation}\n",
    "En vertu du [théorème variationnel](https://en.wikipedia.org/wiki/Vcorrespondariational_method_(quantum_mechanics)) de Rayleigh-Ritz, la valeur moyenne est toujours supérieure ou égale à la valeur propre $E_0$ la plus basse de l'Hamiltonien $\\mathtt{H}$, qui correspond à l'état fondamental $|E_{\\min}\\rangle$:\n",
    "\\begin{equation}\n",
    "C(\\vec\\theta)=\\langle \\psi_0| \\mathtt{U}^\\dagger (\\vec{\\theta})\\mathtt{HU} (\\vec{\\theta})|\\psi_0\\rangle\n",
    "=\\sum_i|\\alpha_i|^2E_i\\geq E_{\\min}.\n",
    "\\end{equation}\n",
    "Le problème se résume à trouver un tel choix optimal de paramètres $\\vec\\theta=(\\theta_1,\\dots,\\theta_n)^T$ à valeurs réelles, permettant de trouver la valeur moyenne minimale $E_{\\min}$ qui est l'énergie de l'état fondamental et l'état correspondant est l'état fondamental $|E_{\\min}\\rangle$.\n",
    "\n",
    "\n",
    "### 1.1.2. <a id='toc1_1_2_'></a>[Processeur classique](#toc0_)\n",
    "\n",
    "Grâce au processeur quantique, on obtient une valeur moyenne dépendante des paramètres. Cette valeur peut être minimisée avec une méthode d'optimisation qui permet d'ajuster les paramètres de l'état d'essai. L'algorithme procède alors de façon itérative, l'optimiseur classique proposant de nouvelles valeurs de paramètres pour l'état d'essai.\n",
    "\n",
    "En gros, dans le processeur classique :\n",
    "1. Minimiser la valeur moyenne ou fonction de coût $C(\\vec\\theta)$ en faisant varier les paramètres $\\vec{\\theta}$ de l'_Ansatz_, en utilisant un optimiseur classique.\n",
    "2. Itèrer jusqu'à ce que le critère de convergence ($10^{-7}$) soit atteint et que $|\\psi(\\vec{\\theta})\\rangle\\simeq |E_0(\\vec{\\theta})\\rangle$.\n"
   ]
  },
  {
   "cell_type": "markdown",
   "metadata": {},
   "source": [
    "### 1.1.3. <a id='toc1_1_3_'></a>[Défis ou challenges de la VQE](#toc0_)\n",
    "\n",
    "1. La taille de l'espace de Hilbert en fonction du nombre des opérations de portes nécessaires ou profondeur du circuit pour obtenir le précisions souhaitée pour les valeurs attendues (comme l'énergie du système).\n",
    "\n",
    "2. Le nombre de portes parametrés (nombre de paramètres à optimiser) en fonction de l'amplitude des gradients pour variables de circuits.\n",
    "\n",
    "3. La taille de l'espace de Hilbert en fonction du nombre de mesures nécessaire pour parvenir à la convergence des propriétés physiques (par exemple, l'énergie du système).\n"
   ]
  },
  {
   "cell_type": "markdown",
   "metadata": {},
   "source": [
    "Dans ce qui suit, nous utilisons les **Unitary Coupled Clusters Singles and Doubles** (UCCSD) comme point de départ pour déterminer une fonction d'état d'essai pour la méthode variationnelle, car il est essentiel que l'ansatz VQE soit proche de l'état fondamental réel pour que les calculs VQE réussissent. Dans ce tutoriel, nous nous concentrons sur le calcul de l'état fondamental et de la surface d'énergie potentielle de Born-Oppenheimer (BOPES) pour les molécules d'hydrogène (H2) et d'hydrure de lithium (M) et une macromolécule."
   ]
  },
  {
   "cell_type": "markdown",
   "metadata": {},
   "source": [
    "### 1.1.4. <a id='toc1_1_4_'></a>[Unitary Coupled Cluster (UCC) *Ansatz*](#toc0_)\n",
    "\n",
    "En chimie quantique, la méthode **Unitary Coupled Cluster (UCC)** (de [cluster à couplage unitaire](https://fr.wikipedia.org/wiki/M%C3%A9thode_du_cluster_coupl%C3%A9)) apparait comme une extension de la méthode *Coupled Cluster (CC)* qui est une méthode de traitement de la corrélation électronique. Elle est basée sur l'expression de la fonction d'état à $N$ électrons comme une combinaison linéaire de déterminants de Slater incluant la fonction d'état HF de l'état fondamental et toutes les excitations possibles des orbitales occupées vers des orbitales inoccupées. Ainsi, il sera possible de générer un *Unitary Coupled Cluster Ansatz* en appliquant à un état de référence $\\ket{\\psi_0}$ un opérateur unitaire qui est une somme anti-Hermitienne d'opérateurs d'excitation et de désexcitation sous la forme $e^{\\mathtt{T}(\\theta)-\\mathtt{T}^\\dagger(\\theta)}$, qui est un opérateur unitaire\n",
    "$$\n",
    "\\ket{\\psi(\\theta)} = \\mt{U}(\\theta) \\ket{\\psi_0}\n",
    "= e^{\\mathtt{T}(\\theta)-\\mathtt{T}^\\dagger(\\theta)} \\ket{\\psi_0(\\theta)} ,\n",
    "$$\n",
    "* $\\theta$ est l'amplitude CC. Il représente aussi le paramètre d'optimisation pouvant prendre des valeurs réelles ou imaginaires. Mais les paramètres réels se sont révélés plus précises et plus réalisables ;\n",
    "\n",
    "* $\\mathtt{T}(\\theta)$ est l'opérateur de *Cluster* ou opérateur d'excitation complète, défini comme  $\\mathtt{T}(\\theta)=\\sum_{k=1}^N\\mathtt{T}_k(\\theta)$ avec $\\mathtt{T}_k(\\theta)$ l'opérateur d'excitation au $k$-ième ordre, qui contient des termes $k$-corps. Par exemple,\n",
    "    * l'opérateur \n",
    "\\begin{equation*}\n",
    "\\mathtt{T}_1 = \\underset{i\\in\\rm{unocc}}{\\sum_{j\\in\\rm{occ}}}\\theta_{ij}\\ad_i a_j,\n",
    "\\end{equation*}  \n",
    "engendre les **excitations simples** $j\\rightarrow i$ (transforme le déterminant HF de référence en une combinaison linéaire des déterminants monoexcités),\n",
    "    * l'opérateur\n",
    " \\begin{equation*}\n",
    "\\mathtt{T}_2 = \\underset{l>k\\in\\rm{occ}}{\\sum_{i>j\\in\\rm{unocc}}}\\theta_{ijkl} \n",
    "\\ad_i\\ad_j a_k a_l,\\ \\dots,\n",
    "\\end{equation*}  \n",
    "engendre les **doubles excitations** (transforme le déterminant HF de référence en une combinaison linéaire des déterminants doublement excités).\n",
    "    * Les termes d'ordre supérieur (triple, quadruple, etc.) sont possibles, mais sont actuellement rarement pris en charge par les bibliothèques de chimie quantique.\n",
    "    * \"occ\" et \"unocc\" sont définis comme les sites occupés et les sites inoccupés dans l'état de référence.\n",
    "    * Les opérateurs $\\ad_i$ et $a_i$ dans les termes de clusters couplés ci-dessus sont écrits dans une forme canonique, dans laquelle chaque terme est en ordre normal (opérateurs de création sont à gauche de tous les opérateurs d'annihilation)."
   ]
  },
  {
   "cell_type": "markdown",
   "metadata": {},
   "source": [
    "# 2. <a id='toc2_'></a>[Choix des optimiseurs classiques](#toc0_)\n",
    "\n",
    "Une fois que l'_Ansatz_ a été sélectionné, ses paramètres doivent être optimisés pour minimiser la valeur attendue de l'Hamiltonien cible. Le processus d'optimisation des paramètres présente divers défis. Par exemple, le matériel quantique a divers types de bruits et donc l'évaluation de la fonction objective (calcul de l'énergie) peut ne pas nécessairement refléter la véritable fonction objectif. De plus, certains optimiseurs effectuent un certain nombre d'évaluations de fonctions objectives en fonction de la cardinalité de l'ensemble de paramètres. __Un optimiseur approprié doit être sélectionné en tenant compte des exigences d'une application__.\n",
    "\n",
    "- Une stratégie d'optimisation populaire est la __descente de gradient__ (`qiskit.algorithms.optimizers.GradientDescent`) où chaque paramètre est mis à jour dans la direction produisant le plus grand changement local d'énergie. Par conséquent, le nombre d'évaluations effectuées dépend du nombre de paramètres d'optimisation présents. Cela permet à l'algorithme de trouver rapidement un optimum local dans l'espace de recherche. Cependant, cette stratégie d'optimisation reste souvent bloquée à des optima locaux médiocres et est relativement coûteuse en termes de nombre d'évaluations de circuits effectuées. Bien qu'il s'agisse d'une stratégie d'optimisation intuitive, il n'est pas recommandé de l'utiliser dans VQE dans sa forme _brute_ (__barren plateau problem__).\n",
    " \n",
    "  <center><img src=\"Graphics/descente-de-gradient.png\" width=\"400\"/>\n",
    "  <img src=\"Graphics/spsa_mntn.png\" width=\"220\"/></center> \n",
    "\n",
    "- Un optimiseur approprié pour optimiser une fonction objectif bruyante est l'optimiseur d'__approximation stochastique de perturbations simultanées (Simultaneous Perturbation Stochastic Approximation, SPSA),__ (`qiskit.algorithms.optimizers.SPSA`). SPSA se rapproche du gradient de la fonction objectif avec seulement deux mesures. Il le fait en perturbant simultanément tous les paramètres de manière aléatoire, contrairement à la descente de gradient où chaque paramètre est perturbé indépendamment. __Lors de l'utilisation de VQE dans un simulateur bruyant (QasmSimulator) ou sur du matériel réel, SPSA est recommandé comme optimiseur classique__.\n",
    "    - L'optimiseur Quantum Natural SPSA, QN-SPSA (`qiskit.algorithms.optimizers.QnSPSA`) basé sur SPSA tente d'améliorer la convergence en échantillonnant le gradient naturel au lieu du gradient de premier ordre. Par rapport aux gradients naturels, qui nécessitent $\\mathcal{O}(d^2)$ évaluations des valeurs moyennes pour un circuit avec $d$ paramètres, QN-SPSA ne nécessite que $\\mathcal{O}(1)$ et peut donc accélérer considérablement le calcul du gradient naturel en sacrifiant une certaine précision. Par rapport à SPSA, QN-SPSA nécessite 4 évaluations supplémentaires de la fidélité.\n",
    "\n",
    "- Lorsque le bruit n'est pas présent dans l'évaluation de la fonction de coût, comme lors de l'utilisation de VQE avec un simulateur de vecteur d'état (_StatevectorSimulator_), une grande variété d'optimiseurs classiques peut être utile. Par exemple,  \n",
    "    - l'optimiseur __Constrained Optimization by Linear Approximation, COBYLA,__ (`qiskit.algorithms.optimizers.COBYLA`) qui n'effectue qu'une seule évaluation de fonction objectif par itération d'optimisation, et donc le nombre d'évaluations est indépendant de la cardinalité de l'ensemble de paramètres. Par conséquent, si la fonction objectif est sans bruit et qu'il est souhaitable de minimiser le nombre d'évaluations effectuées, il est recommandé d'essayer COBYLA;\n",
    "    - l'optimiseur __Programmation des moindres carrés séquentiels (Sequential Least Squares Programming, SLSQP)__ (`qiskit.algorithms.optimizers.SLSQP`), est idéal pour les problèmes mathématiques pour lesquels la fonction objectif et les contraintes sont deux fois continûment différentiables;\n",
    "    - l'optimiseur __Limited-memory Broyden-Fletcher-Goldfarb-Shanno Bound, L_BFGS_B,__ (`qiskit.algorithms.optimizers.L_BFGS_B`), est une méthode quasi-Newton qui commence par une estimation initiale de la valeur optimale et procède de manière itérative pour affiner cette estimation avec une séquence de meilleures estimations."
   ]
  },
  {
   "cell_type": "markdown",
   "metadata": {},
   "source": [
    "### 2.1.1. <a id='toc2_1_1_'></a>[Workflow de la VQE](#toc0_)\n",
    "\n",
    "<center><img src=\"Graphics/VQE_Flowchart.jpeg\" width=\"1000\"/></center>"
   ]
  },
  {
   "cell_type": "markdown",
   "metadata": {},
   "source": [
    "\n",
    "1. Renseigner la structure de la molécule.\n",
    "\n",
    "2. Effectuer le calcul HF dans la base chimique indiquée. Il s'agit en réalité représenter le problème de l'equation de Schrödinguer électronique, $\\mathtt{H}_{\\rm el}|\\Psi\\rangle = E_{\\rm el}|\\Psi\\rangle$. $\\mathtt{H}_{\\rm el}$ est l'Hamiltonien de la classe `qiskit_nature.second_q.hamiltonians.ElectronicEnergy`\n",
    "\n",
    "3. Extraire, à l'aide du calcul HF précédent, les éléments de matrice 1-integrals $h_{pq}$ et 2-integrals $h_{pqrs}$ qui relient l'Hamiltonien de la seconde quantification 1a celui de la première quantification. Les utiliser pour construire l'Hamiltonien fermionique de la seconde quantification\n",
    "\\begin{equation}\n",
    "\\mathtt{H} = h_0+\\sum_{p,q=1}^M h_{pq}\\ad_p a_q + \\frac12\\sum_{p,q,r,s=1}^M h_{pqrs}\\ad_p \\ad_q a_ra_s ,\n",
    "\\end{equation} \n",
    "que `qiskit_nature.second_q.mappers.QubitConverter` converti, grâce à un encodage approprié (JWT, PT ou BKT) en Hamiltonien qubit.\n",
    "\n",
    "   * Exploiter les symmétries\n",
    "   \\begin{align}\n",
    "   &[\\mathtt{H},\\mathtt{N_\\uparrow}] = [\\mathtt{H},\\mathtt{N_\\downarrow}] = 0, \n",
    "   && \\mathtt{N_\\uparrow} = \\sum_{p=1}^{M/2} \\alpha^\\dagger_p \\alpha_p,\n",
    "   & \\mathtt{N_\\downarrow} = \\sum_{p=M/2+1}^M \\alpha^\\dagger_p \\alpha_p,\n",
    "   \\end{align}\n",
    "   pour effectuer la **reduction 2-qubit** (une pour chaque symétrie $\\mathbb{Z}$ de l'Hamiltionien) sans modifier la partie inférieure du spectre d'énergie (y compris l'état fondamental). $\\mathtt{N_\\downarrow}$ et $\\mathtt{N_\\uparrow}$ sont les opérateurs nombre de particules de spin down et up.\n",
    "\n",
    "   * Utiliser `qiskit_nature.second_q.transformers.FreezeCoreTransformer` afin d'appliquer l'approximation du noyau gelé (**frozen-core approximation**) pour réduire le nombre possible des excitations uniques ou double et le nombre de qubits.\n",
    "\n",
    "4. La fonction d'état d'essai ou *Ansatz* $\\ket{\\psi(\\theta)}$ est généré à partir de l'état HF $\\ket{\\Phi_0}$ en appliquant les opérateurs de clusters q-UCC ou autre forme d'*Ansatz* variationnel (`qiskit_nature.second_q.circuit.library.UCCSD`).\n",
    "\n",
    "5. Evaluer l'énergie du système $\\mel{\\psi(\\theta)}{\\mathtt{H}}{\\psi(\\theta)}$ en utilisant\n",
    "   * la primitive `qiskit.primitives.Estimator`;\n",
    "   * l'optimisation des paramètres du circuit (grâce à `qiskit.algorithms.optimizers`), suivi par la séquence de mesure des propriétés physiques. Ceci peut se faire avec ou sans les mesures du bruit.\n",
    "\n",
    "6. Repeter les étapes (4) et (5) jusqu'à la convergence, en utilisant un optimiseur classique. Par usage, on fixe le critère de convergence à $10^{-7}$. En effet, il est essentiel que l'*Ansatz* VQE soit proche de l'état fondamental réel pour que les calculs VQE réussissent. Pour obtenir une estimation d'énergie précise de 1 milli-Hartree (mHA), l'*Ansatz* pour le VQE doit être proche du véritable état fondamental de moins d'un sur un million.\n",
    "\n",
    "<center><img src=\"Graphics/Qiskit_nature_Flow.png\" width=\"700\"/></center>\n"
   ]
  },
  {
   "cell_type": "markdown",
   "metadata": {},
   "source": [
    "## 2.2. <a id='toc2_2_'></a>[Molécule H2](#toc0_)\n",
    "\n",
    "Ici, nous calculons en fait uniquement la partie électronique. Lors de l'utilisation du package Qiskit Nature, l'énergie de répulsion nucléaire sera ajoutée automatiquement pour obtenir l'énergie totale de l'état fondamental."
   ]
  },
  {
   "cell_type": "markdown",
   "metadata": {},
   "source": [
    "### 2.2.1. <a id='toc2_2_1_'></a>[Structure électronique](#toc0_)\n",
    "\n",
    "Nous allons renseigner les données de la molécule et effectuer la conversion en créant un Hamiltonien fermionique (problème électronique précisement) qui sera ensuite converti par la transformation de Jordan Wigner, à un Hamiltonien qubit prêt pour le calcul quantique. "
   ]
  },
  {
   "cell_type": "markdown",
   "metadata": {},
   "source": [
    "-  On commence par définir la géométrie de la molécule d'hydrogène."
   ]
  },
  {
   "cell_type": "code",
   "execution_count": 164,
   "metadata": {
    "execution": {
     "iopub.execute_input": "2023-04-06T14:10:23.390660Z",
     "iopub.status.busy": "2023-04-06T14:10:23.390034Z",
     "iopub.status.idle": "2023-04-06T14:10:38.496244Z",
     "shell.execute_reply": "2023-04-06T14:10:38.494961Z",
     "shell.execute_reply.started": "2023-04-06T14:10:23.390600Z"
    },
    "tags": []
   },
   "outputs": [],
   "source": [
    "from qiskit_nature.units import DistanceUnit\n",
    "from qiskit_nature.second_q.drivers import PySCFDriver\n",
    "from qiskit_nature.second_q.transformers import FreezeCoreTransformer"
   ]
  },
  {
   "cell_type": "code",
   "execution_count": 165,
   "metadata": {
    "execution": {
     "iopub.execute_input": "2023-04-06T14:10:38.499515Z",
     "iopub.status.busy": "2023-04-06T14:10:38.498704Z",
     "iopub.status.idle": "2023-04-06T14:10:39.990358Z",
     "shell.execute_reply": "2023-04-06T14:10:39.989450Z",
     "shell.execute_reply.started": "2023-04-06T14:10:38.499474Z"
    },
    "tags": []
   },
   "outputs": [],
   "source": [
    "H2_driver = PySCFDriver(\n",
    "    atom=\"H 0 0 0; H 0 0 0.735\",\n",
    "    basis=\"sto3g\",\n",
    "    charge=0,\n",
    "    spin=0,\n",
    "    unit=DistanceUnit.ANGSTROM,\n",
    ")\n",
    "\n",
    "# Electronic structure problem\n",
    "H2_problem = H2_driver.run()\n",
    "transformer = FreezeCoreTransformer()\n",
    "H2_problem = transformer.transform(H2_problem)"
   ]
  },
  {
   "cell_type": "markdown",
   "metadata": {},
   "source": [
    "### 2.2.2. <a id='toc2_2_2_'></a>[Solveur](#toc0_)\n",
    "\n",
    "Nous devons définir un solveur. Le solveur est l'algorithme par lequel l'état fondamental est calculé.\n",
    "\n",
    "- Commençons par un exemple purement classique: le `qiskit.algorithms.minimum_eigensolvers.NumPyMinimumEigensolver`. Cet algorithme diagonise exactement l'Hamiltonien. Bien qu'il ne soit pas très performant, il peut être utilisé sur de petits systèmes pour vérifier les résultats des algorithmes quantiques."
   ]
  },
  {
   "cell_type": "code",
   "execution_count": 166,
   "metadata": {
    "execution": {
     "iopub.execute_input": "2023-04-06T14:10:40.000705Z",
     "iopub.status.busy": "2023-04-06T14:10:40.000362Z",
     "iopub.status.idle": "2023-04-06T14:10:40.179349Z",
     "shell.execute_reply": "2023-04-06T14:10:40.177476Z",
     "shell.execute_reply.started": "2023-04-06T14:10:40.000681Z"
    },
    "tags": []
   },
   "outputs": [],
   "source": [
    "from qiskit.algorithms.minimum_eigensolvers import NumPyMinimumEigensolver"
   ]
  },
  {
   "cell_type": "markdown",
   "metadata": {},
   "source": [
    "- Pour définir le solveur VQE, il faut trois éléments essentiels :\n",
    "  1. Une **forme variationnelle ou *ansatz***. Nous utilisons ici l'*ansatz* Unitary Coupled Cluster (UCC). La valeur par défaut est d'utiliser toutes les excitations simples et doubles. Cependant, le type d'excitation (S, D, SD) ainsi que d'autres paramètres peuvent être sélectionnés. La forme variationnelle `qiskit_nature.second_q.circuit.library.UCCSD` est préparée avec un état initial `qiskit_nature.second_q.circuit.library.HartreeFock`, qui initialise l'occupation de nos qubits en fonction du problème que nous essayons de résoudre.\n",
    "  2. Une primitive, qui sera ici `qiskit.primitives.Estimator` pour le calcul des valeurs moyennes;\n",
    "  3. Un optimiseur classique (`qiskit.algorithms.optimizer`)."
   ]
  },
  {
   "cell_type": "markdown",
   "metadata": {},
   "source": [
    "- Configurons l'*ansatz* et plus précisement, le circuit quantique paramétré, du VQE"
   ]
  },
  {
   "cell_type": "code",
   "execution_count": 167,
   "metadata": {
    "execution": {
     "iopub.execute_input": "2023-04-06T14:10:40.182846Z",
     "iopub.status.busy": "2023-04-06T14:10:40.181618Z",
     "iopub.status.idle": "2023-04-06T14:10:40.308546Z",
     "shell.execute_reply": "2023-04-06T14:10:40.305162Z",
     "shell.execute_reply.started": "2023-04-06T14:10:40.182796Z"
    },
    "tags": []
   },
   "outputs": [],
   "source": [
    "from qiskit_nature.second_q.circuit.library import HartreeFock, UCCSD\n",
    "from qiskit_nature.second_q.mappers import (\n",
    "    ParityMapper, \n",
    "    JordanWignerMapper,\n",
    "    BravyiKitaevMapper\n",
    ")\n",
    "from qiskit_nature.second_q.mappers import TaperedQubitMapper\n",
    "\n",
    "def ansatz(problem,mapper):\n",
    "    \"\"\"Ansatz function\n",
    "\n",
    "    Args:\n",
    "        mapper \n",
    "\n",
    "    Returns: The anstatz\n",
    "    \"\"\"    \n",
    "    \n",
    "    ansatz = UCCSD(\n",
    "        problem.num_spatial_orbitals,\n",
    "        problem.num_particles,\n",
    "        mapper,\n",
    "        initial_state=HartreeFock(\n",
    "            problem.num_spatial_orbitals,\n",
    "            problem.num_particles,\n",
    "            mapper,\n",
    "        ),\n",
    "    )\n",
    "    return ansatz"
   ]
  },
  {
   "cell_type": "markdown",
   "metadata": {},
   "source": [
    "- Configurons la primitive `qiskit.primitives.Estimator` pour le VQE. Elle calcule les valeurs moyennes des circuits d'entrée et des propriétés physiques."
   ]
  },
  {
   "cell_type": "code",
   "execution_count": 168,
   "metadata": {
    "execution": {
     "iopub.execute_input": "2023-04-06T14:10:40.314994Z",
     "iopub.status.busy": "2023-04-06T14:10:40.312642Z",
     "iopub.status.idle": "2023-04-06T14:10:40.413023Z",
     "shell.execute_reply": "2023-04-06T14:10:40.411220Z",
     "shell.execute_reply.started": "2023-04-06T14:10:40.314884Z"
    },
    "tags": []
   },
   "outputs": [],
   "source": [
    "from qiskit.primitives import Estimator\n",
    "\n",
    "estimator = Estimator()"
   ]
  },
  {
   "cell_type": "markdown",
   "metadata": {},
   "source": [
    "- Configurons l'optimisseur classique pour le VQE. Pour des raisons de comparabilité, nous allons configurer trois optimisseurs classiques."
   ]
  },
  {
   "cell_type": "code",
   "execution_count": 169,
   "metadata": {
    "execution": {
     "iopub.execute_input": "2023-04-06T14:10:48.296714Z",
     "iopub.status.busy": "2023-04-06T14:10:48.293933Z",
     "iopub.status.idle": "2023-04-06T14:10:48.306673Z",
     "shell.execute_reply": "2023-04-06T14:10:48.305371Z",
     "shell.execute_reply.started": "2023-04-06T14:10:48.296599Z"
    },
    "tags": []
   },
   "outputs": [],
   "source": [
    "from qiskit.algorithms.optimizers import COBYLA, SLSQP, L_BFGS_B"
   ]
  },
  {
   "cell_type": "markdown",
   "metadata": {},
   "source": [
    "- Assemblons ces composants de l'algorithme VQE dans `qiskit.algorithms.minimum_eigensolvers.VQE` et initialisons le solver VQE."
   ]
  },
  {
   "cell_type": "code",
   "execution_count": 170,
   "metadata": {
    "execution": {
     "iopub.execute_input": "2023-04-06T14:10:58.436155Z",
     "iopub.status.busy": "2023-04-06T14:10:58.433759Z",
     "iopub.status.idle": "2023-04-06T14:10:58.451927Z",
     "shell.execute_reply": "2023-04-06T14:10:58.449509Z",
     "shell.execute_reply.started": "2023-04-06T14:10:58.436040Z"
    },
    "tags": []
   },
   "outputs": [],
   "source": [
    "from qiskit.algorithms.minimum_eigensolvers import VQE\n",
    "import numpy as np\n",
    "\n",
    "def vqe_solver(problem, mapper, optimizer):\n",
    "    \"\"\" Setup VQE solver\n",
    "\n",
    "    Args:\n",
    "        problem : Electronic Structure Problem\n",
    "        mapper : qubit mapper \n",
    "        optimizer : optimizer\n",
    "\n",
    "    Returns: vqe solver\n",
    "    \"\"\"    \n",
    "    vqe_solver = VQE(estimator, ansatz(problem, mapper), optimizer)\n",
    "\n",
    "    vqe_solver.initial_point = np.zeros(ansatz(problem,mapper).num_parameters)\n",
    "    return vqe_solver"
   ]
  },
  {
   "cell_type": "markdown",
   "metadata": {},
   "source": [
    "### 2.2.3. <a id='toc2_2_3_'></a>[Calcul et résultats](#toc0_)\n",
    "\n",
    " - Préparons le solveur d'état fondamental et exécutons-le pour calculer l'état fondamental de la molécule grâce à la classe `qiskit_nature.second_q.algorithms.GroundStateEigensolver`. Il s'agit d'envelopper notre `qiskit_nature.second_q.mappers` et notre algorithme quantique `qiskit.algorithms.minimum_eigensolvers.VQE` (ou classique `qiskit_nature.second_q.algorithms.NumPyMinimumEigensolver`) dans un seul `GroundStateEigensolver`. Pour des raisons de commodité définissons la fonction `run_vqe()`.\n",
    "\n",
    "Le workflow interne est le suivant :\n",
    "1. générer les opérateurs de seconde quantification stockés dans notre `problem`\" (electronic structure problem);\n",
    "2. mapper (et potentiellement réduire) les opérateurs dans l'espace qubit;\n",
    "3. exécuter l'algorithme quantique sur l'opérateur Hamiltonien qubit;\n",
    "4. une fois le critère de convergence vérifié, évaluer les proprités physiques supplémentaires de l'état fondamental déterminé."
   ]
  },
  {
   "cell_type": "code",
   "execution_count": 171,
   "metadata": {
    "execution": {
     "iopub.execute_input": "2023-04-06T14:11:05.779759Z",
     "iopub.status.busy": "2023-04-06T14:11:05.779286Z",
     "iopub.status.idle": "2023-04-06T14:11:05.791645Z",
     "shell.execute_reply": "2023-04-06T14:11:05.790257Z",
     "shell.execute_reply.started": "2023-04-06T14:11:05.779728Z"
    },
    "tags": []
   },
   "outputs": [],
   "source": [
    "def run_vqe(problem, solver, mapper_name, optimizer_name=\"SLSQP\", show=True):\n",
    "    \"\"\"Computing of the molecular ground state with the `GroundStateEigensolver`\n",
    "class \n",
    "    Args:\n",
    "        problem :  Electronic structure problem\n",
    "\n",
    "        mapper_name : Mapper string that can be \"PM\" or \"JWM\" or \"BKM\"\n",
    "        \n",
    "        optimizeimizer_name :  optimizeimizer string that can be either \"COBYLA\" or \"SLSQP\" or \"L_BFGS_B\"\n",
    "\n",
    "        solver :  Sting that can be either \"NumPy\" or \"VQE\"\n",
    "       \n",
    "    Returns:\n",
    "          The ground state of the molecule\n",
    "\n",
    "    \"\"\"    \n",
    "    # Mapper\n",
    "    match mapper_name:\n",
    "        case \"JWM\":\n",
    "            mapper = JordanWignerMapper()\n",
    "        case \"PM\":\n",
    "            mapper = ParityMapper(num_particles=problem.num_particles)\n",
    "        case \"BKM\":\n",
    "            mapper = BravyiKitaevMapper()\n",
    "    mapper = problem.get_tapered_mapper(mapper)\n",
    "\n",
    "    if solver == \"VQE\":             \n",
    "        # optimizer\n",
    "        match optimizer_name:\n",
    "            case \"COBYLA\": \n",
    "                optimizer = COBYLA()\n",
    "            case \"SLSQP\": \n",
    "                optimizer = SLSQP()\n",
    "            case \"L_BFGS_B\": \n",
    "                optimizer = L_BFGS_B()\n",
    "        GS_solver = vqe_solver(problem, mapper, optimizer)\n",
    "\n",
    "    # Solver\n",
    "    if solver == \"Numpy\":\n",
    "        GS_solver = NumPyMinimumEigensolver()\n",
    "\n",
    "    # Ground state computation using a minimum eigensolver. Returns the solver.\n",
    "    Algo = GroundStateEigensolver(mapper, GS_solver) \n",
    "    \n",
    "    # Leveraging Qiskit Runtime\n",
    "    start = time.time()\n",
    "    \n",
    "    # Compute Ground State properties.\n",
    "    ground_state = Algo.solve(problem)\n",
    "    elapsed = str(datetime.timedelta(seconds = time.time()- start))\n",
    "    \n",
    "    if show:\n",
    "        print(f'Running {solver} and {mapper_name} mapper')\n",
    "        if solver == \"VQE\":\n",
    "            print(f'With {optimizer_name} optimizer and UCCSD ansatz')\n",
    "        print(f'Elapsed time: {elapsed} \\n')\n",
    "\n",
    "        print(ground_state.total_energies[0])\n",
    "\n",
    "    if solver == \"VQE\":\n",
    "        return ground_state, elapsed, mapper_name, solver, optimizer_name\n",
    "    else:\n",
    "        return ground_state, elapsed, mapper_name, solver\n"
   ]
  },
  {
   "cell_type": "markdown",
   "metadata": {},
   "source": [
    "* Resulat VQE"
   ]
  },
  {
   "cell_type": "code",
   "execution_count": 172,
   "metadata": {
    "execution": {
     "iopub.execute_input": "2023-04-06T14:11:09.386432Z",
     "iopub.status.busy": "2023-04-06T14:11:09.385722Z",
     "iopub.status.idle": "2023-04-06T14:11:18.121940Z",
     "shell.execute_reply": "2023-04-06T14:11:18.120906Z",
     "shell.execute_reply.started": "2023-04-06T14:11:09.386388Z"
    },
    "tags": []
   },
   "outputs": [
    {
     "name": "stdout",
     "output_type": "stream",
     "text": [
      "Running VQE and PM mapper\n",
      "With SLSQP optimizeimizer and UCCSD ansatz\n",
      "Elapsed time: 0:00:00.110007 \n",
      "\n",
      "-1.1373060356958726\n"
     ]
    }
   ],
   "source": [
    "from qiskit_nature.second_q.algorithms import GroundStateEigensolver\n",
    "import time, datetime\n",
    "\n",
    "res_vqe = run_vqe(H2_problem, mapper_name=\"PM\", optimizer_name=\"SLSQP\", solver=\"VQE\")"
   ]
  },
  {
   "cell_type": "markdown",
   "metadata": {},
   "source": [
    "- Résultat solveur exact NumPy."
   ]
  },
  {
   "cell_type": "code",
   "execution_count": 173,
   "metadata": {
    "execution": {
     "iopub.execute_input": "2023-04-06T14:11:29.262940Z",
     "iopub.status.busy": "2023-04-06T14:11:29.261768Z",
     "iopub.status.idle": "2023-04-06T14:11:29.455737Z",
     "shell.execute_reply": "2023-04-06T14:11:29.454772Z",
     "shell.execute_reply.started": "2023-04-06T14:11:29.262894Z"
    },
    "tags": []
   },
   "outputs": [
    {
     "name": "stdout",
     "output_type": "stream",
     "text": [
      "Running Numpy and PM mapper\n",
      "Elapsed time: 0:00:00.073481 \n",
      "\n",
      "-1.137306035753399\n"
     ]
    }
   ],
   "source": [
    "res_np = run_vqe(H2_problem, mapper_name=\"PM\", solver=\"Numpy\")"
   ]
  },
  {
   "cell_type": "markdown",
   "metadata": {},
   "source": [
    "* Nous calculons l'erreur relative entre les deux solvers avec le mapper \"PM\"."
   ]
  },
  {
   "cell_type": "code",
   "execution_count": 174,
   "metadata": {
    "execution": {
     "iopub.execute_input": "2023-04-06T14:11:35.034421Z",
     "iopub.status.busy": "2023-04-06T14:11:35.033877Z",
     "iopub.status.idle": "2023-04-06T14:11:35.044002Z",
     "shell.execute_reply": "2023-04-06T14:11:35.042468Z",
     "shell.execute_reply.started": "2023-04-06T14:11:35.034377Z"
    },
    "tags": []
   },
   "outputs": [
    {
     "name": "stdout",
     "output_type": "stream",
     "text": [
      "\n",
      " The relative error between the two calculations is 0.0000%\n"
     ]
    }
   ],
   "source": [
    "rel_error = (res_np[0].total_energies[0] - res_vqe[0].total_energies[0])*100/res_np[0].total_energies[0] \n",
    "print(f'\\n The relative error between the two calculations is {rel_error:.4f}%')"
   ]
  },
  {
   "cell_type": "markdown",
   "metadata": {},
   "source": [
    "- Améliorons l'affichage des résultats pour des besoins de comparaison."
   ]
  },
  {
   "cell_type": "code",
   "execution_count": 175,
   "metadata": {
    "execution": {
     "iopub.execute_input": "2023-04-06T14:22:34.631025Z",
     "iopub.status.busy": "2023-04-06T14:22:34.629773Z",
     "iopub.status.idle": "2023-04-06T14:22:34.641893Z",
     "shell.execute_reply": "2023-04-06T14:22:34.640220Z",
     "shell.execute_reply.started": "2023-04-06T14:22:34.630945Z"
    },
    "tags": []
   },
   "outputs": [
    {
     "name": "stdout",
     "output_type": "stream",
     "text": [
      "Type of solver  | GS electronic energy  |Elapsed time\t\t|Mapper | Optimizer | Rel. error  \n",
      "================================================================================================\n",
      "Numpy\t\t| -1.137306035753399   |0:00:00.073481\t\t|PM \t|\t    | \n",
      "VQE\t\t| -1.1373060356958726   |0:00:00.110007\t\t|PM\t|SLSQP\t    | 0.0000%  \n",
      "------------------------------------------------------------------------------------------------\n"
     ]
    }
   ],
   "source": [
    "print(f\"Type of solver  | GS electronic energy  |Elapsed time\\t\\t|Mapper | Optimizer | Rel. error  \")\n",
    "print('================================================================================================')\n",
    "print(f'{res_np[3]}\\t\\t| {res_np[0].total_energies[0]}   |{res_np[1]}\\t\\t|{res_np[2]} \\t|\\t    | ')\n",
    "#print(f'Solver {name}   | {mapper_name}        |{optimizer}|{res_vqe.groundenergy}')\n",
    "print(f'{res_vqe[3]}\\t\\t| {res_vqe[0].total_energies[0]}   |{res_vqe[1]}\\t\\t|{res_vqe[2]}\\t|{res_vqe[4]}\\t    |{rel_error:7.4f}%  ')\n",
    "print('------------------------------------------------------------------------------------------------')\n"
   ]
  },
  {
   "cell_type": "markdown",
   "metadata": {},
   "source": [
    "On note que cette présentation n'est pas tout à fait satisfaisante."
   ]
  },
  {
   "cell_type": "markdown",
   "metadata": {},
   "source": [
    "### 2.2.4. <a id='toc2_2_4_'></a>[Visualisation de l'ensemble des résultats avec la bibliothèque `Pandas`](#toc0_)\n",
    "\n",
    "Afin d'analyser les résultats en fonction des `mappers`et des `optimizers` nous allons utiliser la bibliothèque `Pandas`.\n",
    "\n",
    "A cet effet, il nous vaudra créer un repertoire dans lequel placé le fichier où sera imprimer les résultats au format `csv` que `pandas` va par la suite lire et afficher."
   ]
  },
  {
   "cell_type": "code",
   "execution_count": 176,
   "metadata": {
    "execution": {
     "iopub.execute_input": "2023-04-06T14:23:02.123717Z",
     "iopub.status.busy": "2023-04-06T14:23:02.122817Z",
     "iopub.status.idle": "2023-04-06T14:23:02.130221Z",
     "shell.execute_reply": "2023-04-06T14:23:02.129213Z",
     "shell.execute_reply.started": "2023-04-06T14:23:02.123658Z"
    },
    "tags": []
   },
   "outputs": [],
   "source": [
    "# Creation of a simulation results folder\n",
    "import os\n",
    "\n",
    "cwd = os.getcwd()\n",
    "directory = \"Resultats\"\n",
    "targetPath = os.path.join(cwd, directory)\n",
    "\n",
    "if not os.path.exists(targetPath):\n",
    "    os.makedirs(targetPath)"
   ]
  },
  {
   "cell_type": "code",
   "execution_count": 177,
   "metadata": {
    "execution": {
     "iopub.execute_input": "2023-04-06T14:23:04.869764Z",
     "iopub.status.busy": "2023-04-06T14:23:04.869309Z",
     "iopub.status.idle": "2023-04-06T14:23:04.876340Z",
     "shell.execute_reply": "2023-04-06T14:23:04.875310Z",
     "shell.execute_reply.started": "2023-04-06T14:23:04.869735Z"
    },
    "tags": []
   },
   "outputs": [],
   "source": [
    "Mapper = [\"PM\",\"JWM\",\"BKM\"]\n",
    "Optimizer = [\"COBYLA\", \"SLSQP\",\"L_BFGS_B\"]"
   ]
  },
  {
   "cell_type": "code",
   "execution_count": 178,
   "metadata": {
    "execution": {
     "iopub.execute_input": "2023-04-06T14:23:03.640500Z",
     "iopub.status.busy": "2023-04-06T14:23:03.639896Z",
     "iopub.status.idle": "2023-04-06T14:23:03.722666Z",
     "shell.execute_reply": "2023-04-06T14:23:03.719597Z",
     "shell.execute_reply.started": "2023-04-06T14:23:03.640455Z"
    },
    "tags": []
   },
   "outputs": [],
   "source": [
    "# Create a file containing the results\n",
    "QFile = os.path.join(targetPath, f\"H2_results.csv\")"
   ]
  },
  {
   "cell_type": "code",
   "execution_count": 179,
   "metadata": {
    "execution": {
     "iopub.execute_input": "2023-04-06T14:50:24.765928Z",
     "iopub.status.busy": "2023-04-06T14:50:24.764780Z",
     "iopub.status.idle": "2023-04-06T14:50:58.580682Z",
     "shell.execute_reply": "2023-04-06T14:50:58.577617Z",
     "shell.execute_reply.started": "2023-04-06T14:50:24.765839Z"
    },
    "tags": []
   },
   "outputs": [],
   "source": [
    "q_result = open(QFile, \"w\")\n",
    "\n",
    "q_result.write(f\"Type of solver,Mapper,Optimizer,GS electr. energy,Rel. error (%),Elapsed time\\n\")\n",
    "\n",
    "for i in Mapper:\n",
    "    res_npH2 = run_vqe(H2_problem,  solver=\"Numpy\", mapper_name=i, show=False)\n",
    "    q_result.write(f'{res_npH2[3]},{res_npH2[2]},,{res_npH2[0].total_energies[0]},,{res_npH2[1]}\\n')\n",
    "    for j in Optimizer:\n",
    "        res_vqeH2 = run_vqe(H2_problem, mapper_name=i, optimizer_name=j, solver=\"VQE\", show=False)\n",
    "        rel_errorH2 = (res_npH2[0].total_energies[0]- res_vqeH2[0].total_energies[0])*100/res_npH2[0].total_energies[0]\n",
    "        q_result.write(f'{res_vqeH2[3]},{res_vqeH2[2]},{res_vqeH2[4]},{res_vqeH2[0].total_energies[0]},{rel_errorH2:7.4f},{res_vqeH2[1]}\\n')\n",
    "q_result.close()"
   ]
  },
  {
   "cell_type": "code",
   "execution_count": 180,
   "metadata": {
    "execution": {
     "iopub.execute_input": "2023-04-06T14:50:58.583791Z",
     "iopub.status.busy": "2023-04-06T14:50:58.583175Z",
     "iopub.status.idle": "2023-04-06T14:50:58.606214Z",
     "shell.execute_reply": "2023-04-06T14:50:58.604832Z",
     "shell.execute_reply.started": "2023-04-06T14:50:58.583758Z"
    },
    "tags": []
   },
   "outputs": [
    {
     "data": {
      "text/html": [
       "<div>\n",
       "<style scoped>\n",
       "    .dataframe tbody tr th:only-of-type {\n",
       "        vertical-align: middle;\n",
       "    }\n",
       "\n",
       "    .dataframe tbody tr th {\n",
       "        vertical-align: top;\n",
       "    }\n",
       "\n",
       "    .dataframe thead th {\n",
       "        text-align: right;\n",
       "    }\n",
       "</style>\n",
       "<table border=\"1\" class=\"dataframe\">\n",
       "  <thead>\n",
       "    <tr style=\"text-align: right;\">\n",
       "      <th></th>\n",
       "      <th>Type of solver</th>\n",
       "      <th>Mapper</th>\n",
       "      <th>Optimizer</th>\n",
       "      <th>GS electr. energy</th>\n",
       "      <th>Rel. error (%)</th>\n",
       "      <th>Elapsed time</th>\n",
       "    </tr>\n",
       "  </thead>\n",
       "  <tbody>\n",
       "    <tr>\n",
       "      <th>0</th>\n",
       "      <td>Numpy</td>\n",
       "      <td>PM</td>\n",
       "      <td>NaN</td>\n",
       "      <td>-1.137306</td>\n",
       "      <td>NaN</td>\n",
       "      <td>0:00:00.070707</td>\n",
       "    </tr>\n",
       "    <tr>\n",
       "      <th>1</th>\n",
       "      <td>VQE</td>\n",
       "      <td>PM</td>\n",
       "      <td>COBYLA</td>\n",
       "      <td>-1.137306</td>\n",
       "      <td>0.0</td>\n",
       "      <td>0:00:00.144760</td>\n",
       "    </tr>\n",
       "    <tr>\n",
       "      <th>2</th>\n",
       "      <td>VQE</td>\n",
       "      <td>PM</td>\n",
       "      <td>SLSQP</td>\n",
       "      <td>-1.137306</td>\n",
       "      <td>0.0</td>\n",
       "      <td>0:00:00.098191</td>\n",
       "    </tr>\n",
       "    <tr>\n",
       "      <th>3</th>\n",
       "      <td>VQE</td>\n",
       "      <td>PM</td>\n",
       "      <td>L_BFGS_B</td>\n",
       "      <td>-1.137306</td>\n",
       "      <td>0.0</td>\n",
       "      <td>0:00:00.122151</td>\n",
       "    </tr>\n",
       "    <tr>\n",
       "      <th>4</th>\n",
       "      <td>Numpy</td>\n",
       "      <td>JWM</td>\n",
       "      <td>NaN</td>\n",
       "      <td>-1.137306</td>\n",
       "      <td>NaN</td>\n",
       "      <td>0:00:00.079715</td>\n",
       "    </tr>\n",
       "    <tr>\n",
       "      <th>5</th>\n",
       "      <td>VQE</td>\n",
       "      <td>JWM</td>\n",
       "      <td>COBYLA</td>\n",
       "      <td>-1.137306</td>\n",
       "      <td>0.0</td>\n",
       "      <td>0:00:00.152028</td>\n",
       "    </tr>\n",
       "    <tr>\n",
       "      <th>6</th>\n",
       "      <td>VQE</td>\n",
       "      <td>JWM</td>\n",
       "      <td>SLSQP</td>\n",
       "      <td>-1.137306</td>\n",
       "      <td>0.0</td>\n",
       "      <td>0:00:00.084689</td>\n",
       "    </tr>\n",
       "    <tr>\n",
       "      <th>7</th>\n",
       "      <td>VQE</td>\n",
       "      <td>JWM</td>\n",
       "      <td>L_BFGS_B</td>\n",
       "      <td>-1.137306</td>\n",
       "      <td>0.0</td>\n",
       "      <td>0:00:00.090757</td>\n",
       "    </tr>\n",
       "    <tr>\n",
       "      <th>8</th>\n",
       "      <td>Numpy</td>\n",
       "      <td>BKM</td>\n",
       "      <td>NaN</td>\n",
       "      <td>-1.137306</td>\n",
       "      <td>NaN</td>\n",
       "      <td>0:00:00.060856</td>\n",
       "    </tr>\n",
       "    <tr>\n",
       "      <th>9</th>\n",
       "      <td>VQE</td>\n",
       "      <td>BKM</td>\n",
       "      <td>COBYLA</td>\n",
       "      <td>-1.137306</td>\n",
       "      <td>0.0</td>\n",
       "      <td>0:00:00.150890</td>\n",
       "    </tr>\n",
       "    <tr>\n",
       "      <th>10</th>\n",
       "      <td>VQE</td>\n",
       "      <td>BKM</td>\n",
       "      <td>SLSQP</td>\n",
       "      <td>-1.137306</td>\n",
       "      <td>0.0</td>\n",
       "      <td>0:00:00.083454</td>\n",
       "    </tr>\n",
       "    <tr>\n",
       "      <th>11</th>\n",
       "      <td>VQE</td>\n",
       "      <td>BKM</td>\n",
       "      <td>L_BFGS_B</td>\n",
       "      <td>-1.137306</td>\n",
       "      <td>0.0</td>\n",
       "      <td>0:00:00.085636</td>\n",
       "    </tr>\n",
       "  </tbody>\n",
       "</table>\n",
       "</div>"
      ],
      "text/plain": [
       "   Type of solver Mapper Optimizer  GS electr. energy  Rel. error (%)  \\\n",
       "0           Numpy     PM       NaN          -1.137306             NaN   \n",
       "1             VQE     PM    COBYLA          -1.137306             0.0   \n",
       "2             VQE     PM     SLSQP          -1.137306             0.0   \n",
       "3             VQE     PM  L_BFGS_B          -1.137306             0.0   \n",
       "4           Numpy    JWM       NaN          -1.137306             NaN   \n",
       "5             VQE    JWM    COBYLA          -1.137306             0.0   \n",
       "6             VQE    JWM     SLSQP          -1.137306             0.0   \n",
       "7             VQE    JWM  L_BFGS_B          -1.137306             0.0   \n",
       "8           Numpy    BKM       NaN          -1.137306             NaN   \n",
       "9             VQE    BKM    COBYLA          -1.137306             0.0   \n",
       "10            VQE    BKM     SLSQP          -1.137306             0.0   \n",
       "11            VQE    BKM  L_BFGS_B          -1.137306             0.0   \n",
       "\n",
       "      Elapsed time  \n",
       "0   0:00:00.070707  \n",
       "1   0:00:00.144760  \n",
       "2   0:00:00.098191  \n",
       "3   0:00:00.122151  \n",
       "4   0:00:00.079715  \n",
       "5   0:00:00.152028  \n",
       "6   0:00:00.084689  \n",
       "7   0:00:00.090757  \n",
       "8   0:00:00.060856  \n",
       "9   0:00:00.150890  \n",
       "10  0:00:00.083454  \n",
       "11  0:00:00.085636  "
      ]
     },
     "execution_count": 180,
     "metadata": {},
     "output_type": "execute_result"
    }
   ],
   "source": [
    "import pandas as pd\n",
    "\n",
    "H2_data = pd.read_csv(QFile)\n",
    "H2_data"
   ]
  },
  {
   "cell_type": "code",
   "execution_count": 181,
   "metadata": {
    "execution": {
     "iopub.execute_input": "2023-04-06T14:50:58.608696Z",
     "iopub.status.busy": "2023-04-06T14:50:58.608072Z",
     "iopub.status.idle": "2023-04-06T14:50:58.786435Z",
     "shell.execute_reply": "2023-04-06T14:50:58.785387Z",
     "shell.execute_reply.started": "2023-04-06T14:50:58.608652Z"
    },
    "tags": []
   },
   "outputs": [
    {
     "data": {
      "text/html": [
       "<div>\n",
       "<style scoped>\n",
       "    .dataframe tbody tr th:only-of-type {\n",
       "        vertical-align: middle;\n",
       "    }\n",
       "\n",
       "    .dataframe tbody tr th {\n",
       "        vertical-align: top;\n",
       "    }\n",
       "\n",
       "    .dataframe thead th {\n",
       "        text-align: right;\n",
       "    }\n",
       "</style>\n",
       "<table border=\"1\" class=\"dataframe\">\n",
       "  <thead>\n",
       "    <tr style=\"text-align: right;\">\n",
       "      <th></th>\n",
       "      <th>Type of solver</th>\n",
       "      <th>Mapper</th>\n",
       "      <th>Optimizer</th>\n",
       "      <th>GS electr. energy</th>\n",
       "      <th>Rel. error (%)</th>\n",
       "      <th>Elapsed time</th>\n",
       "    </tr>\n",
       "  </thead>\n",
       "  <tbody>\n",
       "    <tr>\n",
       "      <th>8</th>\n",
       "      <td>Numpy</td>\n",
       "      <td>BKM</td>\n",
       "      <td>NaN</td>\n",
       "      <td>-1.137306</td>\n",
       "      <td>NaN</td>\n",
       "      <td>0:00:00.060856</td>\n",
       "    </tr>\n",
       "    <tr>\n",
       "      <th>4</th>\n",
       "      <td>Numpy</td>\n",
       "      <td>JWM</td>\n",
       "      <td>NaN</td>\n",
       "      <td>-1.137306</td>\n",
       "      <td>NaN</td>\n",
       "      <td>0:00:00.079715</td>\n",
       "    </tr>\n",
       "    <tr>\n",
       "      <th>0</th>\n",
       "      <td>Numpy</td>\n",
       "      <td>PM</td>\n",
       "      <td>NaN</td>\n",
       "      <td>-1.137306</td>\n",
       "      <td>NaN</td>\n",
       "      <td>0:00:00.070707</td>\n",
       "    </tr>\n",
       "    <tr>\n",
       "      <th>9</th>\n",
       "      <td>VQE</td>\n",
       "      <td>BKM</td>\n",
       "      <td>COBYLA</td>\n",
       "      <td>-1.137306</td>\n",
       "      <td>0.0</td>\n",
       "      <td>0:00:00.150890</td>\n",
       "    </tr>\n",
       "    <tr>\n",
       "      <th>10</th>\n",
       "      <td>VQE</td>\n",
       "      <td>BKM</td>\n",
       "      <td>SLSQP</td>\n",
       "      <td>-1.137306</td>\n",
       "      <td>0.0</td>\n",
       "      <td>0:00:00.083454</td>\n",
       "    </tr>\n",
       "    <tr>\n",
       "      <th>11</th>\n",
       "      <td>VQE</td>\n",
       "      <td>BKM</td>\n",
       "      <td>L_BFGS_B</td>\n",
       "      <td>-1.137306</td>\n",
       "      <td>0.0</td>\n",
       "      <td>0:00:00.085636</td>\n",
       "    </tr>\n",
       "    <tr>\n",
       "      <th>5</th>\n",
       "      <td>VQE</td>\n",
       "      <td>JWM</td>\n",
       "      <td>COBYLA</td>\n",
       "      <td>-1.137306</td>\n",
       "      <td>0.0</td>\n",
       "      <td>0:00:00.152028</td>\n",
       "    </tr>\n",
       "    <tr>\n",
       "      <th>6</th>\n",
       "      <td>VQE</td>\n",
       "      <td>JWM</td>\n",
       "      <td>SLSQP</td>\n",
       "      <td>-1.137306</td>\n",
       "      <td>0.0</td>\n",
       "      <td>0:00:00.084689</td>\n",
       "    </tr>\n",
       "    <tr>\n",
       "      <th>7</th>\n",
       "      <td>VQE</td>\n",
       "      <td>JWM</td>\n",
       "      <td>L_BFGS_B</td>\n",
       "      <td>-1.137306</td>\n",
       "      <td>0.0</td>\n",
       "      <td>0:00:00.090757</td>\n",
       "    </tr>\n",
       "    <tr>\n",
       "      <th>1</th>\n",
       "      <td>VQE</td>\n",
       "      <td>PM</td>\n",
       "      <td>COBYLA</td>\n",
       "      <td>-1.137306</td>\n",
       "      <td>0.0</td>\n",
       "      <td>0:00:00.144760</td>\n",
       "    </tr>\n",
       "    <tr>\n",
       "      <th>2</th>\n",
       "      <td>VQE</td>\n",
       "      <td>PM</td>\n",
       "      <td>SLSQP</td>\n",
       "      <td>-1.137306</td>\n",
       "      <td>0.0</td>\n",
       "      <td>0:00:00.098191</td>\n",
       "    </tr>\n",
       "    <tr>\n",
       "      <th>3</th>\n",
       "      <td>VQE</td>\n",
       "      <td>PM</td>\n",
       "      <td>L_BFGS_B</td>\n",
       "      <td>-1.137306</td>\n",
       "      <td>0.0</td>\n",
       "      <td>0:00:00.122151</td>\n",
       "    </tr>\n",
       "  </tbody>\n",
       "</table>\n",
       "</div>"
      ],
      "text/plain": [
       "   Type of solver Mapper Optimizer  GS electr. energy  Rel. error (%)  \\\n",
       "8           Numpy    BKM       NaN          -1.137306             NaN   \n",
       "4           Numpy    JWM       NaN          -1.137306             NaN   \n",
       "0           Numpy     PM       NaN          -1.137306             NaN   \n",
       "9             VQE    BKM    COBYLA          -1.137306             0.0   \n",
       "10            VQE    BKM     SLSQP          -1.137306             0.0   \n",
       "11            VQE    BKM  L_BFGS_B          -1.137306             0.0   \n",
       "5             VQE    JWM    COBYLA          -1.137306             0.0   \n",
       "6             VQE    JWM     SLSQP          -1.137306             0.0   \n",
       "7             VQE    JWM  L_BFGS_B          -1.137306             0.0   \n",
       "1             VQE     PM    COBYLA          -1.137306             0.0   \n",
       "2             VQE     PM     SLSQP          -1.137306             0.0   \n",
       "3             VQE     PM  L_BFGS_B          -1.137306             0.0   \n",
       "\n",
       "      Elapsed time  \n",
       "8   0:00:00.060856  \n",
       "4   0:00:00.079715  \n",
       "0   0:00:00.070707  \n",
       "9   0:00:00.150890  \n",
       "10  0:00:00.083454  \n",
       "11  0:00:00.085636  \n",
       "5   0:00:00.152028  \n",
       "6   0:00:00.084689  \n",
       "7   0:00:00.090757  \n",
       "1   0:00:00.144760  \n",
       "2   0:00:00.098191  \n",
       "3   0:00:00.122151  "
      ]
     },
     "execution_count": 181,
     "metadata": {},
     "output_type": "execute_result"
    }
   ],
   "source": [
    "# Grouping solver by type and mapper\n",
    "H2_group = H2_data.sort_values(by=['Type of solver', 'Mapper'])\n",
    "H2_group"
   ]
  },
  {
   "cell_type": "code",
   "execution_count": 182,
   "metadata": {},
   "outputs": [],
   "source": [
    "# Grouping solver\n",
    "H2_dataNP = H2_group[0:int(H2_data.shape[0]/2)]\n",
    "H2_dataVQE = H2_group[int(H2_data.shape[0]/2):int(H2_data.shape[0])]"
   ]
  },
  {
   "cell_type": "code",
   "execution_count": 183,
   "metadata": {},
   "outputs": [
    {
     "data": {
      "text/html": [
       "<div>\n",
       "<style scoped>\n",
       "    .dataframe tbody tr th:only-of-type {\n",
       "        vertical-align: middle;\n",
       "    }\n",
       "\n",
       "    .dataframe tbody tr th {\n",
       "        vertical-align: top;\n",
       "    }\n",
       "\n",
       "    .dataframe thead th {\n",
       "        text-align: right;\n",
       "    }\n",
       "</style>\n",
       "<table border=\"1\" class=\"dataframe\">\n",
       "  <thead>\n",
       "    <tr style=\"text-align: right;\">\n",
       "      <th></th>\n",
       "      <th>Type of solver</th>\n",
       "      <th>Mapper</th>\n",
       "      <th>Optimizer</th>\n",
       "      <th>GS electr. energy</th>\n",
       "      <th>Rel. error (%)</th>\n",
       "      <th>Elapsed time</th>\n",
       "    </tr>\n",
       "  </thead>\n",
       "  <tbody>\n",
       "    <tr>\n",
       "      <th>5</th>\n",
       "      <td>VQE</td>\n",
       "      <td>JWM</td>\n",
       "      <td>COBYLA</td>\n",
       "      <td>-1.137306</td>\n",
       "      <td>0.0</td>\n",
       "      <td>0:00:00.152028</td>\n",
       "    </tr>\n",
       "    <tr>\n",
       "      <th>6</th>\n",
       "      <td>VQE</td>\n",
       "      <td>JWM</td>\n",
       "      <td>SLSQP</td>\n",
       "      <td>-1.137306</td>\n",
       "      <td>0.0</td>\n",
       "      <td>0:00:00.084689</td>\n",
       "    </tr>\n",
       "    <tr>\n",
       "      <th>7</th>\n",
       "      <td>VQE</td>\n",
       "      <td>JWM</td>\n",
       "      <td>L_BFGS_B</td>\n",
       "      <td>-1.137306</td>\n",
       "      <td>0.0</td>\n",
       "      <td>0:00:00.090757</td>\n",
       "    </tr>\n",
       "    <tr>\n",
       "      <th>1</th>\n",
       "      <td>VQE</td>\n",
       "      <td>PM</td>\n",
       "      <td>COBYLA</td>\n",
       "      <td>-1.137306</td>\n",
       "      <td>0.0</td>\n",
       "      <td>0:00:00.144760</td>\n",
       "    </tr>\n",
       "    <tr>\n",
       "      <th>2</th>\n",
       "      <td>VQE</td>\n",
       "      <td>PM</td>\n",
       "      <td>SLSQP</td>\n",
       "      <td>-1.137306</td>\n",
       "      <td>0.0</td>\n",
       "      <td>0:00:00.098191</td>\n",
       "    </tr>\n",
       "    <tr>\n",
       "      <th>3</th>\n",
       "      <td>VQE</td>\n",
       "      <td>PM</td>\n",
       "      <td>L_BFGS_B</td>\n",
       "      <td>-1.137306</td>\n",
       "      <td>0.0</td>\n",
       "      <td>0:00:00.122151</td>\n",
       "    </tr>\n",
       "  </tbody>\n",
       "</table>\n",
       "</div>"
      ],
      "text/plain": [
       "  Type of solver Mapper Optimizer  GS electr. energy  Rel. error (%)  \\\n",
       "5            VQE    JWM    COBYLA          -1.137306             0.0   \n",
       "6            VQE    JWM     SLSQP          -1.137306             0.0   \n",
       "7            VQE    JWM  L_BFGS_B          -1.137306             0.0   \n",
       "1            VQE     PM    COBYLA          -1.137306             0.0   \n",
       "2            VQE     PM     SLSQP          -1.137306             0.0   \n",
       "3            VQE     PM  L_BFGS_B          -1.137306             0.0   \n",
       "\n",
       "     Elapsed time  \n",
       "5  0:00:00.152028  \n",
       "6  0:00:00.084689  \n",
       "7  0:00:00.090757  \n",
       "1  0:00:00.144760  \n",
       "2  0:00:00.098191  \n",
       "3  0:00:00.122151  "
      ]
     },
     "execution_count": 183,
     "metadata": {},
     "output_type": "execute_result"
    }
   ],
   "source": [
    "# VQE UCCSD solver\n",
    "H2_dataVQE"
   ]
  },
  {
   "cell_type": "code",
   "execution_count": 184,
   "metadata": {},
   "outputs": [
    {
     "data": {
      "text/html": [
       "<div>\n",
       "<style scoped>\n",
       "    .dataframe tbody tr th:only-of-type {\n",
       "        vertical-align: middle;\n",
       "    }\n",
       "\n",
       "    .dataframe tbody tr th {\n",
       "        vertical-align: top;\n",
       "    }\n",
       "\n",
       "    .dataframe thead th {\n",
       "        text-align: right;\n",
       "    }\n",
       "</style>\n",
       "<table border=\"1\" class=\"dataframe\">\n",
       "  <thead>\n",
       "    <tr style=\"text-align: right;\">\n",
       "      <th></th>\n",
       "      <th>Type of solver</th>\n",
       "      <th>Mapper</th>\n",
       "      <th>Optimizer</th>\n",
       "      <th>GS electr. energy</th>\n",
       "      <th>Rel. error (%)</th>\n",
       "      <th>Elapsed time</th>\n",
       "    </tr>\n",
       "  </thead>\n",
       "  <tbody>\n",
       "    <tr>\n",
       "      <th>8</th>\n",
       "      <td>Numpy</td>\n",
       "      <td>BKM</td>\n",
       "      <td>NaN</td>\n",
       "      <td>-1.137306</td>\n",
       "      <td>NaN</td>\n",
       "      <td>0:00:00.060856</td>\n",
       "    </tr>\n",
       "    <tr>\n",
       "      <th>4</th>\n",
       "      <td>Numpy</td>\n",
       "      <td>JWM</td>\n",
       "      <td>NaN</td>\n",
       "      <td>-1.137306</td>\n",
       "      <td>NaN</td>\n",
       "      <td>0:00:00.079715</td>\n",
       "    </tr>\n",
       "    <tr>\n",
       "      <th>0</th>\n",
       "      <td>Numpy</td>\n",
       "      <td>PM</td>\n",
       "      <td>NaN</td>\n",
       "      <td>-1.137306</td>\n",
       "      <td>NaN</td>\n",
       "      <td>0:00:00.070707</td>\n",
       "    </tr>\n",
       "    <tr>\n",
       "      <th>9</th>\n",
       "      <td>VQE</td>\n",
       "      <td>BKM</td>\n",
       "      <td>COBYLA</td>\n",
       "      <td>-1.137306</td>\n",
       "      <td>0.0</td>\n",
       "      <td>0:00:00.150890</td>\n",
       "    </tr>\n",
       "    <tr>\n",
       "      <th>10</th>\n",
       "      <td>VQE</td>\n",
       "      <td>BKM</td>\n",
       "      <td>SLSQP</td>\n",
       "      <td>-1.137306</td>\n",
       "      <td>0.0</td>\n",
       "      <td>0:00:00.083454</td>\n",
       "    </tr>\n",
       "    <tr>\n",
       "      <th>11</th>\n",
       "      <td>VQE</td>\n",
       "      <td>BKM</td>\n",
       "      <td>L_BFGS_B</td>\n",
       "      <td>-1.137306</td>\n",
       "      <td>0.0</td>\n",
       "      <td>0:00:00.085636</td>\n",
       "    </tr>\n",
       "  </tbody>\n",
       "</table>\n",
       "</div>"
      ],
      "text/plain": [
       "   Type of solver Mapper Optimizer  GS electr. energy  Rel. error (%)  \\\n",
       "8           Numpy    BKM       NaN          -1.137306             NaN   \n",
       "4           Numpy    JWM       NaN          -1.137306             NaN   \n",
       "0           Numpy     PM       NaN          -1.137306             NaN   \n",
       "9             VQE    BKM    COBYLA          -1.137306             0.0   \n",
       "10            VQE    BKM     SLSQP          -1.137306             0.0   \n",
       "11            VQE    BKM  L_BFGS_B          -1.137306             0.0   \n",
       "\n",
       "      Elapsed time  \n",
       "8   0:00:00.060856  \n",
       "4   0:00:00.079715  \n",
       "0   0:00:00.070707  \n",
       "9   0:00:00.150890  \n",
       "10  0:00:00.083454  \n",
       "11  0:00:00.085636  "
      ]
     },
     "execution_count": 184,
     "metadata": {},
     "output_type": "execute_result"
    }
   ],
   "source": [
    "# Numpy exact solver\n",
    "H2_dataNP"
   ]
  },
  {
   "cell_type": "markdown",
   "metadata": {},
   "source": [
    "## 2.3. <a id='toc2_3_'></a>[Plugin `qiskit_nature_pyscf`](#toc0_)\n",
    "\n",
    "Nous allons maintenant utiliser le plugin `qiskit_nature_pyscf` qui, nous le rappelons, couple PySCF et Qiskit Nature.  C'est un solveur [FCI](https://en.wikipedia.org/wiki/Full_configuration_interaction) (Full Configuration Interaction) basé sur Qiskit qui permet à un utilisateur de PySCF (Python-based Simulations of Chemistry Framework) de tirer parti des algorithmes quantique implémentés dans Qiskit pour être utilisés à la place de leurs homologues classiques (dans un esprit similaire à l'intégration NWChemEx).\n",
    "\n",
    " Nous allons nous intéresser aux molécules suivantes:\n",
    "$$\n",
    "\\begin{array}{|l|l|l|l|}\\hline\n",
    "\\text{Molécule} & \\text{Qubits} & \\text{Energie} (\\rm{Hartree}) & \\text{Distance} (\\mathring{A})\\\\\\hline\n",
    "H_2 & 4 & -1.137306 & 0.735\\\\\\hline\n",
    "LiH & 12 & -7.882752 & 1.546\\\\\\hline\n",
    "H_2O & 14 & -75.023189 & 1.021\\\\\\hline\n",
    "\\end{array}\n",
    "$$\n",
    "\n",
    "\n",
    "### Class `qiskit_nature_pyscf.PySCFGroundStateSolver`\n",
    "\n",
    "La classe `qiskit_nature.second_q.algorithms.GroundStateSolver` s'appuie sur le module ``fci`` de PySCF. Il n'utilise aucun algorithmes quantiques (puisqu'il les remplace dans le workflow de Qiskit-Naure) mais fournit à la place un utilitaire pour déboguer les workflows de calcul classique basés sur Qiskit-Nature. \n",
    "\n",
    "Plus important encore, il fournit une implémentation plus efficace de ce que Qiskit-Nature réalise en utilisant la classe `qiskit_algorithms.NumPyMinimumEigensolver` en combinaison avec un ``filter_criterion``. Pour les états fondamentaux de spin autres que le singlet, l'utilisation des composants Qiskit-Nature est beaucoup plus complexe, alors que cette classe fournit une alternative facile à utiliser.\n",
    "\n"
   ]
  },
  {
   "cell_type": "code",
   "execution_count": 2,
   "metadata": {},
   "outputs": [
    {
     "name": "stdout",
     "output_type": "stream",
     "text": [
      "=== GROUND STATE ENERGY ===\n",
      " \n",
      "* Electronic ground state energy (Hartree): -170.161901271469\n",
      "  - computed part:      -5.105732353674\n",
      "  - ActiveSpaceTransformer extracted energy part: -165.056168917795\n",
      "~ Nuclear repulsion energy (Hartree): 22.57822766592\n",
      "> Total ground state energy (Hartree): -147.583673605549\n",
      " \n",
      "=== MEASURED OBSERVABLES ===\n",
      " \n",
      "  0:  # Particles: 4.000 S: nan S^2: nan M: nan\n"
     ]
    }
   ],
   "source": [
    "from pyscf import fci\n",
    "\n",
    "from qiskit_nature.second_q.drivers import MethodType, PySCFDriver\n",
    "from qiskit_nature.second_q.transformers import ActiveSpaceTransformer\n",
    "\n",
    "from qiskit_nature_pyscf import PySCFGroundStateSolver\n",
    "\n",
    "driver = PySCFDriver(\n",
    "    atom=\"O 0.0 0.0 0.0; O 0.0 0.0 1.5\",\n",
    "    basis=\"sto3g\",\n",
    "    spin=2,\n",
    "    method=MethodType.UHF,\n",
    ")\n",
    "O2_problem = driver.run()\n",
    "\n",
    "transformer = ActiveSpaceTransformer(4, 4)\n",
    "\n",
    "O2_problem = transformer.transform(O2_problem)\n",
    "\n",
    "solver_fci = PySCFGroundStateSolver(fci.direct_uhf.FCI())\n",
    "\n",
    "O2_result_fci = solver_fci.solve(O2_problem)\n",
    "print(O2_result_fci)"
   ]
  },
  {
   "cell_type": "code",
   "execution_count": 10,
   "metadata": {},
   "outputs": [
    {
     "data": {
      "text/plain": [
       "-5.10573235367409"
      ]
     },
     "execution_count": 10,
     "metadata": {},
     "output_type": "execute_result"
    }
   ],
   "source": [
    "O2_result_fci.computed_energies[0]"
   ]
  },
  {
   "cell_type": "code",
   "execution_count": 185,
   "metadata": {},
   "outputs": [],
   "source": [
    "from pyscf import gto, scf, mcscf\n",
    "import numpy as np\n",
    "from pyscf.mcscf import avas #AVAS method to construct mcscf active space\n",
    "#active-space-size, active-electrons, orbital-initial-guess-for-CASCI/CASSCF\n",
    "\n",
    "from qiskit_nature_pyscf import QiskitSolver"
   ]
  },
  {
   "cell_type": "markdown",
   "metadata": {},
   "source": [
    "* Afin de ne pas interférer avec ce qui a été fait dans les sections précédentes, construisons à nouveau un algorithme quantique. Comme nous connaissons déja la procédure, nous n'allons plus la détailler."
   ]
  },
  {
   "cell_type": "code",
   "execution_count": 186,
   "metadata": {},
   "outputs": [],
   "source": [
    "from qiskit_nature.second_q.mappers import (\n",
    "    ParityMapper, \n",
    "    JordanWignerMapper,\n",
    "    BravyiKitaevMapper\n",
    ")\n",
    "from qiskit_nature.second_q.mappers import TaperedQubitMapper\n",
    "from qiskit.primitives import Estimator\n",
    "from qiskit.algorithms.optimizers import SLSQP, L_BFGS_B\n",
    "from qiskit_nature.second_q.circuit.library import HartreeFock, UCCSD\n",
    "from qiskit.algorithms.minimum_eigensolvers import VQE\n",
    "from qiskit_nature.second_q.algorithms import GroundStateEigensolver"
   ]
  },
  {
   "cell_type": "markdown",
   "metadata": {},
   "source": [
    "Les optimisations classiques seront effectuées avec l'algorithme d'approximation stochastique de perturbation simultanée (SPSA), qui est une bonne approche pour les simulations en présence de bruit car elle ne nécessite que deux évaluations d'énergie par étape VQE, réduisant ainsi les coûts spplémentaires ou frais généraux."
   ]
  },
  {
   "cell_type": "code",
   "execution_count": 187,
   "metadata": {},
   "outputs": [],
   "source": [
    "def algorithm(mapper, optimizer, norb, nelec):\n",
    "    \n",
    "    # mapper = problem.get_tapered_mapper(mapper)\n",
    "    \n",
    "    ansatz = UCCSD(\n",
    "    norb,\n",
    "    nelec,\n",
    "    mapper,\n",
    "    initial_state=HartreeFock(\n",
    "        norb,\n",
    "        nelec,\n",
    "        mapper,\n",
    "    ),\n",
    "    )\n",
    "\n",
    "    vqe_solver = VQE(Estimator(), ansatz, optimizer)\n",
    "    vqe_solver.initial_point = np.zeros(ansatz.num_parameters)\n",
    " \n",
    "    algorithm = GroundStateEigensolver(mapper, vqe_solver)\n",
    "    \n",
    "    return algorithm"
   ]
  },
  {
   "cell_type": "markdown",
   "metadata": {},
   "source": [
    "### 2.3.1. <a id='toc2_3_1_'></a>[Cas de la molécule d'hydrogène](#toc0_)"
   ]
  },
  {
   "cell_type": "code",
   "execution_count": 188,
   "metadata": {},
   "outputs": [
    {
     "name": "stdout",
     "output_type": "stream",
     "text": [
      "converged SCF energy = -1.116998996754\n",
      "CASCI E = -1.13730603569571  E(CI) = -1.85727503014469\n"
     ]
    },
    {
     "data": {
      "text/plain": [
       "<pyscf.mcscf.casci.CASCI at 0x7f7409b817b0>"
      ]
     },
     "execution_count": 188,
     "metadata": {},
     "output_type": "execute_result"
    }
   ],
   "source": [
    "#  Initialisation de la structure moléculaire\n",
    "H2_mol = gto.M(atom=\"H 0 0 0; H 0 0 .735\", basis=\"sto-3g\")\n",
    "# Calculs HF \n",
    "H2_h_f = scf.RHF(H2_mol).run()\n",
    "\n",
    "# Calculs post-HF\n",
    "# norb = H2_h_f.mo_coeff.shape[1]\n",
    "# nelec = H2_mol.nelec\n",
    "# nel = nelec[0] + nelec[1]\n",
    "norb, nel, mo = avas.avas(H2_h_f,['H 1s', 'H 1s'])\n",
    "nelec = (int(nel/2), int(nel/2))\n",
    "H2_cas = mcscf.CASCI(H2_h_f, norb, nel)\n",
    "\n",
    "# Intégration de l'algorithme quantique\n",
    "mapper = ParityMapper(nelec)\n",
    "optimizer = SLSQP()\n",
    "H2_cas.fcisolver = QiskitSolver(algorithm(mapper, optimizer, norb, nelec))\n",
    "\n",
    "H2_cas.run(mo)"
   ]
  },
  {
   "cell_type": "markdown",
   "metadata": {},
   "source": [
    "* `CASCI E`est l'energie total évaluée, incluant l'énergie du coeur (inactive).  "
   ]
  },
  {
   "cell_type": "code",
   "execution_count": 205,
   "metadata": {},
   "outputs": [
    {
     "data": {
      "text/plain": [
       "-1.1373060356957057"
      ]
     },
     "execution_count": 205,
     "metadata": {},
     "output_type": "execute_result"
    }
   ],
   "source": [
    "H2_cas.e_tot"
   ]
  },
  {
   "cell_type": "markdown",
   "metadata": {},
   "source": [
    "* `E(CI)` est l'énergie de reférence de `fcisolver`, c'est-à-dire la solution CI de Qiskit."
   ]
  },
  {
   "cell_type": "code",
   "execution_count": 204,
   "metadata": {},
   "outputs": [
    {
     "data": {
      "text/plain": [
       "-1.8572750301446854"
      ]
     },
     "execution_count": 204,
     "metadata": {},
     "output_type": "execute_result"
    }
   ],
   "source": [
    "H2_cas.e_cas"
   ]
  },
  {
   "cell_type": "markdown",
   "metadata": {},
   "source": [
    "### 2.3.2. <a id='toc2_3_2_'></a>[Cas de la molécule d'hydride de lithium](#toc0_)\n",
    "\n",
    "<center><img src=\"Graphics/Lithium_hydride.png\" width=\"150\"/></center>\n",
    "\n"
   ]
  },
  {
   "cell_type": "code",
   "execution_count": 189,
   "metadata": {},
   "outputs": [
    {
     "name": "stdout",
     "output_type": "stream",
     "text": [
      "converged SCF energy = -7.86186476980865\n",
      "CASCI E = -7.86900491410916  E(CI) = -1.10430532159457\n"
     ]
    },
    {
     "data": {
      "text/plain": [
       "<pyscf.mcscf.casci.CASCI at 0x7f73fa88bee0>"
      ]
     },
     "execution_count": 189,
     "metadata": {},
     "output_type": "execute_result"
    }
   ],
   "source": [
    "LiH_mol = gto.M(atom=\"Li 0 0 0; H 0 0 1.6\", basis=\"sto-3g\")\n",
    "\n",
    "LiH_h_f = scf.RHF(LiH_mol).run()\n",
    "\n",
    "# Calculs post-HF\n",
    "# norb = LiH_h_f.mo_coeff.shape[1]\n",
    "# nelec = LiH_mol.nelec\n",
    "# nel = nelec[0] + nelec[1]\n",
    "norb, nel, mo = avas.avas(LiH_h_f,['Li 2s', 'H 1s'])\n",
    "nelec = (int(nel/2), int(nel/2))\n",
    "LiH_cas = mcscf.CASCI(LiH_h_f, norb, nel)\n",
    "\n",
    "mapper = JordanWignerMapper()\n",
    "optimizer = SLSQP()\n",
    "\n",
    "LiH_cas.fcisolver = QiskitSolver(algorithm(mapper, optimizer, norb, nelec))\n",
    "\n",
    "LiH_cas.run(mo)"
   ]
  },
  {
   "cell_type": "code",
   "execution_count": 190,
   "metadata": {},
   "outputs": [
    {
     "name": "stdout",
     "output_type": "stream",
     "text": [
      "CASSCF energy = -7.88104481532222\n",
      "CASCI E = -7.88104481532222  E(CI) = -1.07696378563352\n"
     ]
    },
    {
     "data": {
      "text/plain": [
       "<pyscf.mcscf.mc1step.CASSCF at 0x7f73fa7c98a0>"
      ]
     },
     "execution_count": 190,
     "metadata": {},
     "output_type": "execute_result"
    }
   ],
   "source": [
    "LiH_cas = mcscf.CASSCF(LiH_h_f, norb, nel)\n",
    "LiH_cas.fcisolver = QiskitSolver(algorithm(mapper, optimizer, norb, nelec))\n",
    "LiH_cas.run(mo)"
   ]
  },
  {
   "cell_type": "markdown",
   "metadata": {},
   "source": [
    "### 2.3.3. <a id='toc2_3_3_'></a>[Molecule d'eau](#toc0_)\n",
    "\n",
    "<center><img src=\"Graphics/Water_structure1.png\" width=\"150\" /></center>"
   ]
  },
  {
   "cell_type": "code",
   "execution_count": 191,
   "metadata": {},
   "outputs": [
    {
     "name": "stdout",
     "output_type": "stream",
     "text": [
      "converged SCF energy = -75.6769190377968\n",
      "CASCI E = -75.6781758786882  E(CI) = -1.67690613522248\n"
     ]
    },
    {
     "data": {
      "text/plain": [
       "<pyscf.mcscf.casci.CASCI at 0x7f7409a65930>"
      ]
     },
     "execution_count": 191,
     "metadata": {},
     "output_type": "execute_result"
    }
   ],
   "source": [
    "H2O_mol = gto.M(\n",
    "  atom=\"O 0 0 0.115; H 0 0.754 -0.459; H 0 -0.754 -0.459\",\n",
    "  basis=\"sto6g\",\n",
    ")\n",
    "\n",
    "H2O_h_f = scf.RHF(H2O_mol).run()\n",
    "\n",
    "# Calculs post-HF\n",
    "# norb = H2O_h_f.mo_coeff.shape[1]\n",
    "# nelec = H2O_mol.nelec\n",
    "# nel = nelec[0] + nelec[1]\n",
    "# norb, nel, mo = avas.avas(H2O_h_f,['O 2p', 'H 1s', 'H 1s'])\n",
    "# nelec = (int(nel/2), int(nel/2))\n",
    "# H2O_cas = mcscf.CASCI(H2O_h_f, norb, nel)\n",
    "\n",
    "H2O_cas = mcscf.CASCI(H2O_h_f, 2, 2)\n",
    "\n",
    "mapper = BravyiKitaevMapper()\n",
    "optimizer = SLSQP()\n",
    "\n",
    "# H2O_cas.fcisolver = QiskitSolver(algorithm(mapper, optimizer, 2, nelec))\n",
    "H2O_cas.fcisolver = QiskitSolver(algorithm(mapper, optimizer, 2, (1,1)))\n",
    "\n",
    "H2O_cas.run()"
   ]
  },
  {
   "cell_type": "code",
   "execution_count": 192,
   "metadata": {},
   "outputs": [
    {
     "name": "stdout",
     "output_type": "stream",
     "text": [
      "CASSCF energy = -75.6781810340544\n",
      "CASCI E = -75.6781810340544  E(CI) = -1.67758792172657\n"
     ]
    },
    {
     "data": {
      "text/plain": [
       "<pyscf.mcscf.mc1step.CASSCF at 0x7f73f978d0f0>"
      ]
     },
     "execution_count": 192,
     "metadata": {},
     "output_type": "execute_result"
    }
   ],
   "source": [
    "H2O_cas = mcscf.CASSCF(H2O_h_f, 2, 2)\n",
    "H2O_cas.fcisolver = QiskitSolver(algorithm(mapper, optimizer, 2, (1,1)))\n",
    "H2O_cas.run()"
   ]
  },
  {
   "cell_type": "markdown",
   "metadata": {},
   "source": [
    "# 3. <a id='toc3_'></a>[Macro molécule](#toc0_)\n",
    "\n",
    "Lors de l'**IBM Quantum Challenge Africa 2021**, un challenger sur la chimie quantique pour le VIH visait à déterminer si un modèle d'essai d'une molécule antirétrovirale peut se lier à un modèle d'essai d'une molécule de protéase. Étant donné que la molécule anti-rétrovirale a de nombreux atomes, elle est approximée en utilisant un seul atome de carbone. Le modèle d'essai de la molécule de protéase est représenté par un composant de la molécule de formamide (HCONH2) ; en particulier, c'est la partie **carbone-oxygène-azote** de la molécule de formamide. En bref, l'expérience consiste à déterminer si un seul atome de carbone peut se lier au composant carbone-oxygène-azote de la molécule de formamide. La reponse à la question posée par IBM peut être obtenu en traçant le BOPES (Born-Oppenheimer Potential Energy Surface) d'une macromolécule, qui est la molécule de formamide plus l'atome de carbone.\n",
    "\n",
    "Pour visualiser cette macromolécule, décommenter la cellule suivante si vous avez installé `ase` (atomic simulation environment).\n",
    "> pip install ase -U"
   ]
  },
  {
   "cell_type": "code",
   "execution_count": 193,
   "metadata": {},
   "outputs": [],
   "source": [
    "# from ase import Atoms\n",
    "# from ase.build import molecule\n",
    "# from ase.visualize import view\n",
    "\n",
    "# macro_ASE = Atoms('ONCHHHC', [(1.1280, 0.2091, 0.0000), \n",
    "#                           (-1.1878, 0.1791, 0.0000), \n",
    "#                           (0.0598, -0.3882, 0.0000),\n",
    "#                           (-1.3085, 1.1864, 0.0001),\n",
    "#                           (-2.0305, -0.3861, -0.0001),\n",
    "#                           (-0.0014, -1.4883, -0.0001),\n",
    "#                           (-0.1805, 1.3955, 0.0000)])\n",
    "\n",
    "# view(macro_ASE, viewer='x3d')"
   ]
  },
  {
   "cell_type": "code",
   "execution_count": 194,
   "metadata": {},
   "outputs": [
    {
     "name": "stdout",
     "output_type": "stream",
     "text": [
      "converged SCF energy = -203.543863584134\n",
      "CASCI E = -203.545057922365  E(CI) = -0.885464741015937\n"
     ]
    },
    {
     "data": {
      "text/plain": [
       "<pyscf.mcscf.casci.CASCI at 0x7f7409771de0>"
      ]
     },
     "execution_count": 194,
     "metadata": {},
     "output_type": "execute_result"
    }
   ],
   "source": [
    "M_mol = gto.M(atom='''\n",
    "              O 1.128 0.2091 0.0; \n",
    "              N -1.1878 0.1791 0.0; \n",
    "              C 0.0598 -0.3882 0.0; \n",
    "              H -1.3085 1.1864 0.0001; \n",
    "              H -2.0305 -0.3861 -0.0001; \n",
    "              H -0.0014 -1.4883 -0.0001; \n",
    "              C -0.1805 1.3955 0.0\n",
    "              ''',\n",
    "              basis=\"sto-3g\")\n",
    "M_h_f = scf.RHF(M_mol).run()\n",
    "\n",
    "# Calculs post-HF\n",
    "# norb = M_h_f.mo_coeff.shape[1]\n",
    "# nelec = M_mol.nelec\n",
    "# nel = nelec[0] + nelec[1]\n",
    "M_cas = mcscf.CASCI(M_h_f, 2, 2)\n",
    "\n",
    "mapper = BravyiKitaevMapper()\n",
    "optimizer = SLSQP()\n",
    "\n",
    "M_cas.fcisolver = QiskitSolver(algorithm(mapper, optimizer, 2, (1,1)))\n",
    "\n",
    "M_cas.run()"
   ]
  },
  {
   "cell_type": "code",
   "execution_count": 195,
   "metadata": {},
   "outputs": [
    {
     "data": {
      "text/html": [
       "<h3>Version Information</h3><table><tr><th>Qiskit Software</th><th>Version</th></tr><tr><td><code>qiskit-terra</code></td><td>0.24.0</td></tr><tr><td><code>qiskit-aer</code></td><td>0.11.2</td></tr><tr><td><code>qiskit-ibmq-provider</code></td><td>0.20.2</td></tr><tr><td><code>qiskit</code></td><td>0.43.0</td></tr><tr><td><code>qiskit-nature</code></td><td>0.6.2</td></tr><tr><td><code>qiskit-machine-learning</code></td><td>0.6.0</td></tr><tr><th>System information</th></tr><tr><td>Python version</td><td>3.10.11</td></tr><tr><td>Python compiler</td><td>GCC 11.3.0</td></tr><tr><td>Python build</td><td>main, May 10 2023 18:58:44</td></tr><tr><td>OS</td><td>Linux</td></tr><tr><td>CPUs</td><td>6</td></tr><tr><td>Memory (Gb)</td><td>7.121517181396484</td></tr><tr><td colspan='2'>Mon Jun 05 13:35:25 2023 WAT</td></tr></table>"
      ],
      "text/plain": [
       "<IPython.core.display.HTML object>"
      ]
     },
     "metadata": {},
     "output_type": "display_data"
    }
   ],
   "source": [
    "# Display Qiskit Software and System information\n",
    "import qiskit.tools.jupyter\n",
    "%qiskit_version_table"
   ]
  }
 ],
 "metadata": {
  "jupytext": {
   "formats": "ipynb,md"
  },
  "kernelspec": {
   "display_name": "qiskit-env",
   "language": "python",
   "name": "qiskit-env"
  },
  "language_info": {
   "codemirror_mode": {
    "name": "ipython",
    "version": 3
   },
   "file_extension": ".py",
   "mimetype": "text/x-python",
   "name": "python",
   "nbconvert_exporter": "python",
   "pygments_lexer": "ipython3",
   "version": "3.10.14"
  }
 },
 "nbformat": 4,
 "nbformat_minor": 4
}
