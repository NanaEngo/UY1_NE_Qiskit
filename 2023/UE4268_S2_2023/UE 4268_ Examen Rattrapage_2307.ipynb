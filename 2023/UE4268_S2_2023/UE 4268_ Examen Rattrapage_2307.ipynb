{
 "cells": [
  {
   "attachments": {},
   "cell_type": "markdown",
   "metadata": {},
   "source": [
    "**`Noms et prenoms`**, `matricule` et `email` \n",
    "\n",
    "Department of Physics - Faculty of Science - University of Yaoundé I\n",
    "\n",
    "`Nom du Laboratoire`\n",
    "\n",
    "`Date`"
   ]
  },
  {
   "attachments": {},
   "cell_type": "markdown",
   "metadata": {},
   "source": [
    "Le **2,5,8,11-tétrakis(4-(9H-carbazol-9-yl)phényle)-6,7-diisopropylnéryl-1,4,5,8,9,11-hexaazatriphénylène** ou 4CzIPN, est repertorié dans la base de donnée PubChem comme le composé 102198498.\n",
    "\n",
    "Cette molécule présente des propriétés intéressantes pour les applications OLED en raison de sa haute efficacité lumineuse, de sa longue durée de vie et de sa stabilité thermique. Elle a été largement utilisée dans les écrans OLED pour les téléviseurs, les smartphones et les ordinateurs portables en raison de ses performances optimales et de sa faible consommation d'énergie.\n",
    "\n",
    "1. A partir de site de [pubchem](https://pubchem.ncbi.nlm.nih.gov/compound/102198498), donner, **dans votre cahier de composition**, sa formule moléculaire et son poids moléculaire.\n",
    "2. Utiliser `rdkit.Chem.MolFromSmiles` et `rdkit.Chem.AllChem` pour représenter en 2D, y compris explicitement les atomes d'hydrogènes, la molécule 4CzIPN à partir de son SMILES isomérique, disponible sur [pubchem](https://pubchem.ncbi.nlm.nih.gov/compound/102198498). \n",
    "3. Utiliser `rdkit.Chem.Descriptors` pour évaluer les propriétés physico-chimique suivantes de la molécule 4CzIPN : le poids moléculaire; poids moléculaire moyen de la molécule en ignorant les hydrogènes; logP ou solubilité, TPSA ou la polarité, nombre de liaisons donneurs d'hydrogènes  et nombre de liaisons accepteurs d'hydrogènes. Utiliser `pandas`pour présenter les résulats sous forme de tableau. **Noter les valeurs obtenues dans votre cahier de composition.**\n",
    "4. Utiliser `rdkit.Chem.AllChem` et `rdkit.Chem.MolToXYZFile` pour écrire, à partir de `mol` (molécule rdkit) de la question 2. dans un fichier \"votre_nom_4CzIPN.xyz\", les coordonnées au format xyz de la molécule 4CzIPN. \n",
    "   ```python\n",
    "    rdkit.Chem.AllChem.EmbedMolecule(mol)\n",
    "    rdkit.Chem.AllChem.MMFFOptimizeMolecule(mol, maxIters=200)\n",
    "    rdkit.Chem.MolToXYZFile(mol, 'votre_nom_4CzIPN.xyz')\n",
    "    ```\n",
    "5. Ouvrir le fichier créé et **noter dans votre cahier de composition, le chiffre se trouvant au début du fichier**. Ensuite l'effacer du fichier et sauvegarder celui-ci.\n",
    "6. Utiliser `pyscf.gto` pour créer \n",
    "   ```python\n",
    "   CzIPN_mol = pyscf.gto.M(atom=open('votre_nom_4CzIPN.xyz').read(),\n",
    "    charge=0,\n",
    "    spin=0,\n",
    "    basis='631g*',\n",
    "    unit='Angstrom')\n",
    "    ```\n",
    "    et par la méthode `CzIPN_mol.build().get_enuc()`, obtenir la valeur de l'énergie nucléaire de la molécule et **noter celle-ci dans votre cahier de composition**.\n",
    "7. Le Hamiltonien 2-qubits de cette molécule est\n",
    "\\begin{equation*} \\mathtt{H} = h_1(\\mathtt{I}\\otimes\\mathtt{I}) + h_2(\\mathtt{Z}\\otimes\\mathtt{I} - \\mathtt{I}\\otimes\\mathtt{Z}) + h_3(\\mathtt{Z}\\otimes\\mathtt{Z}) + h_4(\\mathtt{x}\\otimes\\mathtt{X}) + h_5(\\mathtt{X}\\otimes\\mathtt{I} + \\mathtt{I}\\otimes\\mathtt{X}) + h_6(\\mathtt{X}\\otimes\\mathtt{Z} - \\mathtt{Z}\\otimes\\mathtt{X}),\n",
    "\\end{equation*}\n",
    "où les coefficients \n",
    "\\begin{align*}\n",
    "&h_1 = -0.46959492273396025,&h_2 = -0.12480163590374627,\\\\\n",
    "&h_3 = -0.026903253444563915,&  h_4 = 0.004924575935052124,\\\\\n",
    "&h_5 = -4.6840929608197336e-06,& h_6 = - 4.683976972721447e-06.\n",
    "\\end{align*}\n",
    "Utiliser, pour calculer l'état fondamental de la molécule 4CzIPN,\n",
    "* `qiskit.opflow.operator_globals` et \n",
    "* `qiskit.algorithms.minimum_eigensolvers.NumPyMinimumEigensolver`.\n",
    "\n",
    "**Noter dans votre cahier de composition, la valeur propre et le vecteur propre de l'Hamiltonien**."
   ]
  },
  {
   "cell_type": "code",
   "execution_count": 1,
   "metadata": {},
   "outputs": [
    {
     "name": "stdout",
     "output_type": "stream",
     "text": [
      "2023.03.2\n",
      "2.2.1\n"
     ]
    }
   ],
   "source": [
    "import rdkit\n",
    "import pyscf\n",
    "print(rdkit.__version__)\n",
    "print(pyscf.__version__)"
   ]
  },
  {
   "cell_type": "code",
   "execution_count": null,
   "metadata": {},
   "outputs": [],
   "source": [
    "import qiskit.tools.jupyter\n",
    "%qiskit_version_table"
   ]
  }
 ],
 "metadata": {
  "kernelspec": {
   "display_name": "qiskit-env",
   "language": "python",
   "name": "qiskit-env"
  },
  "language_info": {
   "codemirror_mode": {
    "name": "ipython",
    "version": 3
   },
   "file_extension": ".py",
   "mimetype": "text/x-python",
   "name": "python",
   "nbconvert_exporter": "python",
   "pygments_lexer": "ipython3",
   "version": "3.10.12"
  },
  "toc-showcode": false,
  "toc-showmarkdowntxt": false
 },
 "nbformat": 4,
 "nbformat_minor": 4
}
