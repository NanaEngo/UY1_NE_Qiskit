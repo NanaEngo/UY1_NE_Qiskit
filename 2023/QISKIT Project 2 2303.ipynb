{
 "cells": [
  {
   "cell_type": "markdown",
   "id": "7ecdb324-0cce-4d05-a532-7f270c092249",
   "metadata": {},
   "source": [
    "# UE 4268 - Informatique Quantique Project 1\n",
    "\n",
    "Department of Physics - Faculty of Science - University of Yaoundé I\n",
    "\n",
    "Proposé par Nana Engo\n",
    "\n",
    "`Mars 2024`"
   ]
  },
  {
   "attachments": {},
   "cell_type": "markdown",
   "id": "034d0393-2bf3-4911-90cc-efa495148242",
   "metadata": {},
   "source": [
    "## Informatique quantique - Recherche documentaire et redaction scientifique\n",
    "\n",
    "Le but de ce projet est d'amener l'étudiant à faire une recherche sur l'informatique quantique et apprendre à faire un rapport scientique.\n",
    "\n",
    "\n",
    "<center> \n",
    "<img src=\"./Graphics/machinelearningWF.jpg\" width=500 />\n",
    "<img src=\"./Graphics/VQC_Diagram.png\" width=450 />\n",
    " </center>\n",
    "\n",
    "Le classificateur quantique variationnel est un algorithme variationnel où la valeur de la moyenne mesurée est interprétée comme la sortie d'un classificateur. \n",
    "\n",
    "Il s'agit de:\n",
    "1. Explorer une base de données spécifique et le prétraiter ;\n",
    "\n",
    "2. Créer un réseau de neurones quantiques (classificateur variationnel) en combinant une carte de caractéristiques, un circuit variationnel et un composant de mesure ;\n",
    "\n",
    "3. Analyser ou commenter les résulats obtenus.  .\n",
    "\n",
    "Il est vivement conseillé de lire les notions du [Quantum Machine Learning](https://learn.qiskit.org/course/machine-learning/data-encoding) de la bibliothèque Qiskit.\n"
   ]
  }
 ],
 "metadata": {
  "kernelspec": {
   "display_name": "qiskit-env",
   "language": "python",
   "name": "qiskit-env"
  },
  "language_info": {
   "codemirror_mode": {
    "name": "ipython",
    "version": 3
   },
   "file_extension": ".py",
   "mimetype": "text/x-python",
   "name": "python",
   "nbconvert_exporter": "python",
   "pygments_lexer": "ipython3",
   "version": "3.10.10"
  }
 },
 "nbformat": 4,
 "nbformat_minor": 5
}
