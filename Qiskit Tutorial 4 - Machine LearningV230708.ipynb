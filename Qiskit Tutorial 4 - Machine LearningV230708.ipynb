{
 "cells": [
  {
   "attachments": {},
   "cell_type": "markdown",
   "id": "5af37371",
   "metadata": {},
   "source": [
    "# Qiskit Tutorial 4 - Training a SMILES Dataset with Support Vector Regression"
   ]
  },
  {
   "attachments": {},
   "cell_type": "markdown",
   "id": "5ac7bb54",
   "metadata": {},
   "source": [
    "1. S. G. Nana Engo, serge.nana-engo@facsciences-uy1.cm\n",
    "    * Department of Physics, Faculty of Science, University of Yaounde I\n",
    "1. J-P. Tchapet Njafa, jean-pierre.tchapet-njafa@univ-maroua.cm\n",
    "    * Department of Physics, Faculty of Science, University of Maroua\n",
    "1. M. V. SAO TEMGOUA, myke-vital.sao@facsciences-uy1.cm\n",
    "    * Department of Physics, Faculty of Science, University of Yaoundé 1\n",
    "\n",
    "April 2023"
   ]
  },
  {
   "attachments": {},
   "cell_type": "markdown",
   "id": "07840d29",
   "metadata": {},
   "source": [
    "<center>\n",
    "  <img src='./Graphics/ML.jpg' width=650 />\n",
    "</center>"
   ]
  },
  {
   "attachments": {},
   "cell_type": "markdown",
   "id": "cf8033c1",
   "metadata": {},
   "source": [
    "In this notebook, we will cover how to implement a machine learning model for **the prediction of the solubility of drug compounds**.\n",
    "\n",
    "We will load, prepare, featurize, and scale/normalize the input datasets in the same way as we did in the previous notebook (Qiskit Tutorial 3)."
   ]
  },
  {
   "attachments": {},
   "cell_type": "markdown",
   "id": "d4a49a63",
   "metadata": {},
   "source": [
    "The purpose here is to use the `Support Vector Regressor` [SVR model](https://scikit-learn.org/stable/modules/generated/sklearn.svm.SVR.html#sklearn.svm.SVR), to predict the **partition coefficient** `logP`, which is, in an experimental measurements, the ratio of concentrations of a compound in a mixture of two immiscible solvents at equilibrium. Our dataset is composed of  [SMILES](https://en.wikipedia.org/wiki/Simplified_molecular-input_line-entry_system), that is, **Simplified Molecule-Input Line-Entry System**. It describes the chemical species by short strings. <br>\n",
    "\n",
    "Our goal is to\n",
    "<div class=\"alert alert-info\">\n",
    "     <strong> \n",
    "- become accustomed to using RDKit, an Open source toolkit for cheminformatics; <br> \n",
    "- perform a simple regression task - prediction of logP values using molecular fingerprint.\n",
    "    <strong> \n",
    "</div>\n",
    "</br>\n",
    "\n",
    "It should be noted that, we are already familiar with **Support vector machines (SVMs)** that are a set of supervised learning methods used for classification (SVC, Qiskit Tutorial 3) and regression."
   ]
  },
  {
   "attachments": {},
   "cell_type": "markdown",
   "id": "30c8fa78",
   "metadata": {},
   "source": [
    "## Reading and writing molecules\n",
    "\n",
    "This is a short overview for creating molecules from and writing molecules into various file formats. It is intended to be a complement to, not replacement for, the contents of the [main RDKit documentation](http://rdkit.org/docs/index.html). \n",
    "\n",
    "Let's look further about Asprin using RDKit."
   ]
  },
  {
   "cell_type": "code",
   "execution_count": 3,
   "id": "3b8b7ecb",
   "metadata": {},
   "outputs": [
    {
     "name": "stdout",
     "output_type": "stream",
     "text": [
      "Requirement already satisfied: rdkit in /home/taamangtchu/mambaforge/envs/qiskit-env/lib/python3.10/site-packages (2023.3.1)\n",
      "Collecting rdkit\n",
      "  Downloading rdkit-2023.3.2-cp310-cp310-manylinux_2_17_x86_64.manylinux2014_x86_64.whl (29.7 MB)\n",
      "\u001b[2K     \u001b[90m━━━━━━━━━━━━━━━━━━━━━━━━━━━━━━━━━━━━━━━━\u001b[0m \u001b[32m29.7/29.7 MB\u001b[0m \u001b[31m93.2 kB/s\u001b[0m eta \u001b[36m0:00:00\u001b[0m00:01\u001b[0m00:08\u001b[0m\n",
      "\u001b[?25hRequirement already satisfied: numpy in /home/taamangtchu/mambaforge/envs/qiskit-env/lib/python3.10/site-packages (from rdkit) (1.23.5)\n",
      "Requirement already satisfied: Pillow in /home/taamangtchu/mambaforge/envs/qiskit-env/lib/python3.10/site-packages (from rdkit) (9.4.0)\n",
      "Installing collected packages: rdkit\n",
      "  Attempting uninstall: rdkit\n",
      "    Found existing installation: rdkit 2023.3.1\n",
      "    Uninstalling rdkit-2023.3.1:\n",
      "      Successfully uninstalled rdkit-2023.3.1\n",
      "Successfully installed rdkit-2023.3.2\n"
     ]
    }
   ],
   "source": [
    "# Uncomment the line below to install rdkit\n",
    "# !pip install rdkit -U"
   ]
  },
  {
   "cell_type": "code",
   "execution_count": 15,
   "id": "7592b0dd",
   "metadata": {
    "ExecuteTime": {
     "end_time": "2023-04-22T10:34:37.188900Z",
     "start_time": "2023-04-22T10:34:36.886515Z"
    }
   },
   "outputs": [
    {
     "ename": "ModuleNotFoundError",
     "evalue": "No module named 'rdkit_ipynb_tools'",
     "output_type": "error",
     "traceback": [
      "\u001b[0;31m---------------------------------------------------------------------------\u001b[0m",
      "\u001b[0;31mModuleNotFoundError\u001b[0m                       Traceback (most recent call last)",
      "Cell \u001b[0;32mIn[15], line 2\u001b[0m\n\u001b[1;32m      1\u001b[0m \u001b[39mfrom\u001b[39;00m \u001b[39mrdkit\u001b[39;00m\u001b[39m.\u001b[39;00m\u001b[39mChem\u001b[39;00m\u001b[39m.\u001b[39;00m\u001b[39mDraw\u001b[39;00m \u001b[39mimport\u001b[39;00m IPythonConsole\n\u001b[0;32m----> 2\u001b[0m \u001b[39mfrom\u001b[39;00m \u001b[39mrdkit_ipynb_tools\u001b[39;00m \u001b[39mimport\u001b[39;00m tools\n\u001b[1;32m      3\u001b[0m \u001b[39mfrom\u001b[39;00m \u001b[39mrdkit\u001b[39;00m\u001b[39m.\u001b[39;00m\u001b[39mChem\u001b[39;00m \u001b[39mimport\u001b[39;00m MolFromSmiles\n\u001b[1;32m      5\u001b[0m smi \u001b[39m=\u001b[39m \u001b[39m'\u001b[39m\u001b[39mO=C(C)Oc1ccccc1C(=O)O\u001b[39m\u001b[39m'\u001b[39m\n",
      "\u001b[0;31mModuleNotFoundError\u001b[0m: No module named 'rdkit_ipynb_tools'"
     ]
    }
   ],
   "source": [
    "from rdkit import Chem\n",
    "\n",
    "smi = 'O=C(C)Oc1ccccc1C(=O)O'\n",
    "m = Chem.MolFromSmiles(smi) # Convert smiles to molecule\n",
    "m"
   ]
  },
  {
   "cell_type": "code",
   "execution_count": 2,
   "id": "8c9b4b4a",
   "metadata": {
    "ExecuteTime": {
     "end_time": "2023-04-22T10:34:37.198835Z",
     "start_time": "2023-04-22T10:34:37.193251Z"
    }
   },
   "outputs": [
    {
     "name": "stdout",
     "output_type": "stream",
     "text": [
      "The number of heavy atoms (non-hydrogen atoms) in the molecule is 13\n"
     ]
    }
   ],
   "source": [
    "print(f'The number of heavy atoms (non-hydrogen atoms) in the molecule is {m.GetNumHeavyAtoms()}')"
   ]
  },
  {
   "attachments": {},
   "cell_type": "markdown",
   "id": "b5e428f4",
   "metadata": {},
   "source": [
    "* We can represent hydrogen atoms explicitly by using the keyword `AllChem.AddHs`."
   ]
  },
  {
   "cell_type": "code",
   "execution_count": 3,
   "id": "cf3ac5eb",
   "metadata": {
    "ExecuteTime": {
     "end_time": "2023-04-22T10:34:37.265452Z",
     "start_time": "2023-04-22T10:34:37.205063Z"
    }
   },
   "outputs": [
    {
     "data": {
      "image/png": "[encoded data removed]",
      "text/plain": [
       "<rdkit.Chem.rdchem.Mol at 0x7f94a58580b0>"
      ]
     },
     "execution_count": 3,
     "metadata": {},
     "output_type": "execute_result"
    }
   ],
   "source": [
    "from rdkit.Chem import AllChem\n",
    "\n",
    "m1 = AllChem.AddHs(m)\n",
    "m1"
   ]
  },
  {
   "attachments": {},
   "cell_type": "markdown",
   "id": "8b7bdff7",
   "metadata": {},
   "source": [
    "* We can find adjacency and atomic features information. <br>\n",
    "Thanks to the already implemented functions in rdkit, we can obtain that information by just typing relevant keywords. <br>\n",
    "We will use the graph structure as inputs for graph neural networks (GNNs) later."
   ]
  },
  {
   "cell_type": "code",
   "execution_count": 4,
   "id": "ba07ae34",
   "metadata": {},
   "outputs": [
    {
     "data": {
      "text/plain": [
       "array([[0, 1, 0, 0, 0, 0, 0, 0, 0, 0, 0, 0, 0],\n",
       "       [1, 0, 1, 1, 0, 0, 0, 0, 0, 0, 0, 0, 0],\n",
       "       [0, 1, 0, 0, 0, 0, 0, 0, 0, 0, 0, 0, 0],\n",
       "       [0, 1, 0, 0, 1, 0, 0, 0, 0, 0, 0, 0, 0],\n",
       "       [0, 0, 0, 1, 0, 1, 0, 0, 0, 1, 0, 0, 0],\n",
       "       [0, 0, 0, 0, 1, 0, 1, 0, 0, 0, 0, 0, 0],\n",
       "       [0, 0, 0, 0, 0, 1, 0, 1, 0, 0, 0, 0, 0],\n",
       "       [0, 0, 0, 0, 0, 0, 1, 0, 1, 0, 0, 0, 0],\n",
       "       [0, 0, 0, 0, 0, 0, 0, 1, 0, 1, 0, 0, 0],\n",
       "       [0, 0, 0, 0, 1, 0, 0, 0, 1, 0, 1, 0, 0],\n",
       "       [0, 0, 0, 0, 0, 0, 0, 0, 0, 1, 0, 1, 1],\n",
       "       [0, 0, 0, 0, 0, 0, 0, 0, 0, 0, 1, 0, 0],\n",
       "       [0, 0, 0, 0, 0, 0, 0, 0, 0, 0, 1, 0, 0]], dtype=int32)"
      ]
     },
     "execution_count": 4,
     "metadata": {},
     "output_type": "execute_result"
    }
   ],
   "source": [
    "adj = Chem.rdmolops.GetAdjacencyMatrix(m)\n",
    "adj ## Adjacency matrix : a(i,j) == 1 if atom pair (i,j) is connected and 0 lse."
   ]
  },
  {
   "cell_type": "code",
   "execution_count": 5,
   "id": "8c7dfcf3",
   "metadata": {},
   "outputs": [
    {
     "name": "stdout",
     "output_type": "stream",
     "text": [
      "0 th atom is  O , total number of hydrogens is 0 , and aromaticity indicator is False\n",
      "1 th atom is  C , total number of hydrogens is 0 , and aromaticity indicator is False\n",
      "2 th atom is  C , total number of hydrogens is 3 , and aromaticity indicator is False\n",
      "3 th atom is  O , total number of hydrogens is 0 , and aromaticity indicator is False\n",
      "4 th atom is  C , total number of hydrogens is 0 , and aromaticity indicator is True\n",
      "5 th atom is  C , total number of hydrogens is 1 , and aromaticity indicator is True\n",
      "6 th atom is  C , total number of hydrogens is 1 , and aromaticity indicator is True\n",
      "7 th atom is  C , total number of hydrogens is 1 , and aromaticity indicator is True\n",
      "8 th atom is  C , total number of hydrogens is 1 , and aromaticity indicator is True\n",
      "9 th atom is  C , total number of hydrogens is 0 , and aromaticity indicator is True\n",
      "10 th atom is  C , total number of hydrogens is 0 , and aromaticity indicator is False\n",
      "11 th atom is  O , total number of hydrogens is 0 , and aromaticity indicator is False\n",
      "12 th atom is  O , total number of hydrogens is 1 , and aromaticity indicator is False\n"
     ]
    }
   ],
   "source": [
    "for atom in m.GetAtoms():\n",
    "    print (atom.GetIdx(), \"th atom is \", atom.GetSymbol(), \", total number of hydrogens is\", atom.GetTotalNumHs(), \n",
    "           \", and aromaticity indicator is\", atom.GetIsAromatic())"
   ]
  },
  {
   "attachments": {},
   "cell_type": "markdown",
   "id": "f1579d4f",
   "metadata": {},
   "source": [
    "More atomic features can be obtained by using `rdkit.Chem.AtomPair` with keywords listed at [this link] (http://rdkit.org/docs/source/rdkit.Chem.AtomPairs.html).\n",
    "\n",
    "* We can obtain several molecular properties, such as molecular weight, logP - partition coefficient, TPSA - polarity, QED (quantitative estimation of druglikeness), etc. See [List of Available Descriptors](https://www.rdkit.org/docs/GettingStartedInPython.html#list-of-available-descriptors) online."
   ]
  },
  {
   "cell_type": "code",
   "execution_count": 6,
   "id": "ad5215ed",
   "metadata": {
    "ExecuteTime": {
     "end_time": "2023-04-22T10:34:37.318224Z",
     "start_time": "2023-04-22T10:34:37.269471Z"
    }
   },
   "outputs": [
    {
     "name": "stdout",
     "output_type": "stream",
     "text": [
      "Our molecular properties are :\n",
      " Molecular weight=180.042258736, \n",
      " Polarity=63.60000000000001, \n",
      " Solubility=1.3101, \n",
      " Average molecular weight=172.09499999999997, \n",
      " Quantitative drug-likeness=0.5501217966938848\n"
     ]
    }
   ],
   "source": [
    "\n",
    "molwt = Chem.Descriptors.ExactMolWt(m)\n",
    "logP = Chem.Descriptors.MolLogP(m)\n",
    "tpsa = Chem.Descriptors.TPSA(m)\n",
    "hamolwt = Chem.Descriptors.HeavyAtomMolWt(m)\n",
    "Qed = Chem.QED.qed(m)\n",
    "\n",
    "print(f'Our molecular properties are :\\n Molecular weight={molwt}, \\n Polarity={tpsa}, \\n Solubility={logP}, \\n Average molecular weight={hamolwt}, \\n Quantitative drug-likeness={Qed}')"
   ]
  },
  {
   "attachments": {},
   "cell_type": "markdown",
   "id": "c0a8cf25",
   "metadata": {},
   "source": [
    "We will obtain molecular fingerprint (extended connectivity fingerprint - ECFP). <br>\n",
    "The **molecular fingerprint** represents the substructures of a molecule as a vector of binary numbers. It is a molecular structure descriptor, and we can use it as input to reveal the relationship between molecular structure and properties, called **Quantitative Structure-Activity Relationships (QSAR)**."
   ]
  },
  {
   "attachments": {},
   "cell_type": "markdown",
   "id": "62c34a74",
   "metadata": {},
   "source": [
    "<center>\n",
    "  <img src='./Graphics/morgan_fp1.png' width=340/>\n",
    "</center>"
   ]
  },
  {
   "attachments": {},
   "cell_type": "markdown",
   "id": "4266a50e",
   "metadata": {},
   "source": [
    "* We need feature vectors (matrix) as inputs for neural networks. "
   ]
  },
  {
   "cell_type": "code",
   "execution_count": 7,
   "id": "067d5cdb",
   "metadata": {
    "ExecuteTime": {
     "end_time": "2023-04-22T10:34:37.425513Z",
     "start_time": "2023-04-22T10:34:37.321903Z"
    }
   },
   "outputs": [
    {
     "data": {
      "text/plain": [
       "(1, 1024)"
      ]
     },
     "execution_count": 7,
     "metadata": {},
     "output_type": "execute_result"
    }
   ],
   "source": [
    "from rdkit import DataStructs\n",
    "import numpy as np\n",
    "\n",
    "fps = []\n",
    "fp = AllChem.GetMorganFingerprintAsBitVect(m, 2, nBits=1024) \n",
    "# the number 2 denotes the number of iterations in Morgan algorithm.\n",
    "\n",
    "fp_arr = np.zeros((1,))\n",
    "DataStructs.ConvertToNumpyArray(fp, fp_arr)\n",
    "fps.append(fp)\n",
    "\n",
    "fps = np.asarray(fps) # Convert our encoded molecule to an array\n",
    "fps.shape"
   ]
  },
  {
   "attachments": {},
   "cell_type": "markdown",
   "id": "92a82157",
   "metadata": {},
   "source": [
    "As we see, by using modules, we do not need to implement functions to get atomic and molecular features manually.\n",
    "\n",
    "In the following, we will use the **regression model** to predict partition coefficient (logP) of molecules using the molecular fingerprint."
   ]
  },
  {
   "attachments": {},
   "cell_type": "markdown",
   "id": "ea942125",
   "metadata": {},
   "source": [
    "## Exploratory Data Analysis"
   ]
  },
  {
   "attachments": {},
   "cell_type": "markdown",
   "id": "932c1314",
   "metadata": {},
   "source": [
    "* The path access of our prepared ZING dataset that is part of [ZINC database](http://zinc.docking.org/)."
   ]
  },
  {
   "cell_type": "code",
   "execution_count": 8,
   "id": "fdb8d89c",
   "metadata": {
    "ExecuteTime": {
     "end_time": "2023-04-22T10:34:55.518482Z",
     "start_time": "2023-04-22T10:34:55.502972Z"
    }
   },
   "outputs": [],
   "source": [
    "import os\n",
    "import pandas as pd\n",
    "\n",
    "PATH = os.getcwd()\n",
    "data_path = os.path.join(PATH, './Dataset/zinc15.txt')"
   ]
  },
  {
   "attachments": {},
   "cell_type": "markdown",
   "id": "fc15b792",
   "metadata": {},
   "source": [
    "* Open of our dataset inside a `Pandas Data Frame`"
   ]
  },
  {
   "cell_type": "code",
   "execution_count": 9,
   "id": "671f4d87",
   "metadata": {
    "ExecuteTime": {
     "end_time": "2023-04-22T10:34:59.244516Z",
     "start_time": "2023-04-22T10:34:59.202872Z"
    }
   },
   "outputs": [
    {
     "data": {
      "text/plain": [
       "['Cc1cc(C(=O)NCCN2CCCC2=O)c(C)n1-c1ccc(C#N)cc1',\n",
       " 'N#Cc1cc(C#N)c(NCCc2cnc(N)s2)nc1Cl',\n",
       " 'C=C[C@](C)(CC)C(=O)N[C@@H]1CN(CCCC2CCC2)C[C@@H]1O',\n",
       " 'CC#CCN[C@@H]1CCCN(C(=O)[C@H](C)OCCOCC)C1',\n",
       " 'C[C@H](NC(=O)C(=O)NCCCCC#N)c1cccc(C(F)(F)F)c1',\n",
       " 'C=CCn1c(C[C@@H](C)SC)nnc1N(C)C[C@](C)(O)c1ccccc1',\n",
       " 'C=CCN1CC[C@@H]2[C@H](CCCN2C(=O)Cc2c(C)n[nH]c2C)C1',\n",
       " 'C=CCOCc1nn(CC2CC2)c2c1CN(C[C@H](C)C(=O)OC)CC2',\n",
       " 'C[C@H](CCc1ccccc1)Nc1ccc(C#N)cc1F',\n",
       " 'C=C1CCC(C(=O)N[C@H](C)C[C@@H](C)NCC(N)=O)CC1',\n",
       " 'C=C(C)CN(C)Cn1nc(N2CCCC2)n(-c2ccccc2Cl)c1=S',\n",
       " 'Cc1nc(C(=O)N2CCCC[C@@H]2c2cc(NC(=O)c3cccc([C@H](C)C#N)c3)n[nH]2)c(=O)[nH]c1C',\n",
       " 'C=CCOc1cccc(NC(=O)C(=O)Nc2cnn(C)c2)c1',\n",
       " 'CC[C@H](C)NC(=O)c1ccc(NC(=O)CCc2ccc(C#N)cc2)c(C)c1',\n",
       " 'C#CCCCC(=O)N[C@@]1(C)CCCc2ccccc21',\n",
       " 'C=CCOCCN(C)[C@H]1CCN(CC)[C@H](C)C1',\n",
       " 'CCc1ccccc1NC(=O)CN(C)C(=O)CSCc1ccc(C#N)cc1',\n",
       " 'Cc1nn(-c2ccccn2)c(C)c1/C=C/C(=O)c1ccc(C(=O)O)cc1O',\n",
       " 'N#Cc1cc(Nc2ccsc2)cc(F)c1F',\n",
       " 'COc1cccc([C@@H]2C[C@@H](C)CN2c2nnc(-c3ccc(C#N)cc3)n2C[C@H]2CCOC2)c1',\n",
       " 'C[C@@H]1CN(c2ccc(C#N)nn2)C[C@H]1CNC(=O)[C@@H]1CCC(=O)N(C)C1',\n",
       " 'Cc1ccccc1Cc1ccc(C#N)cc1N',\n",
       " 'C=CCC(F)(F)C(=O)N1CCO[C@@]2(COCCN(C(=O)C3(CC)CCC3)C2)C1',\n",
       " 'N#CCN1CCC(NCc2ccc(SC(F)F)cc2)CC1',\n",
       " 'C[C@H](C#N)S(=O)(=O)N1CCC2(CCC(=O)N(CC(F)(F)F)C2)CC1',\n",
       " 'C=CCC[C@H](C)N1CC(n2cc(CNC(=O)C3(CCC)CC3)nn2)C1',\n",
       " 'C=C(C)CN(C)C(=O)COc1ccc2c(C)cc(=O)oc2c1',\n",
       " 'N#Cc1ccccc1N1CCCN(C(=O)NCc2nnnn2-c2ccccc2)CC1',\n",
       " 'C=CCn1c(=O)c2ccccc2n2c(SCC(=O)Nc3ccccc3C(C)(C)C)nnc12',\n",
       " 'C#CCN1CCC(NC(=O)c2noc3c2CCCC3)CC1',\n",
       " 'C#CCNC(=O)CN1CCC[C@H](CNC(=O)c2cccnc2OC)C1',\n",
       " 'CCCCN1CCCC[C@@H]1Cn1c(-c2cccc(C#N)c2)nnc1N1CCS(=O)CC1',\n",
       " 'C=CCC1(C(=O)NC[C@H](C)N(C)c2nccc(C)n2)CCCCC1',\n",
       " 'CC[C@@H](C)N(C)CCNC(=O)[C@H](C)Cc1ccc(C#N)cc1',\n",
       " 'C=CC[C@H](CO)CNC(=O)c1cc(C)n(-c2ccccn2)c1C',\n",
       " 'COc1cnc2ccccc2c1C(=O)OCc1cc(Br)cc(C#N)c1',\n",
       " 'Cc1cnc(C(=O)Nc2cc([C@@H]3CCCCN3C(=O)c3cc(C#N)c[nH]3)[nH]n2)s1',\n",
       " 'N#C[C@@H]1CSCCN1C(=O)Cc1ccc(S(=O)(=O)N2CCCCC2)s1',\n",
       " 'O=C(N[C@]12CCC[C@@H]1N(CC#Cc1ccccc1)CC2)c1cnn[nH]1',\n",
       " 'C#CCN1CC(N2C[C@@H](NC(=O)c3cc(C)nc(C)n3)CC2=O)C1',\n",
       " 'C=CCSCC(=O)N1CC[C@@H](CNC(=O)c2cc3cc(OC)ccc3o2)[C@@H]1c1cccnc1',\n",
       " 'CCO[C@H]1COCC[C@@H]1NC(=O)NC1CCC(Oc2ncccc2C#N)CC1',\n",
       " 'COc1nc(-c2cncc(F)c2C)ccc1C#N',\n",
       " 'C[C@H]1CN(Cc2csc(N=C(O)N3C[C@H]4CC[C@H]3C4)n2)C[C@@H](C)O1',\n",
       " 'CCCN(Cc1ccc(C#N)cc1)C(=O)CCc1ccc(S(=O)(=O)N(CC)CC)cc1',\n",
       " 'CCn1cc(C(=O)N2C[C@@H](Nc3ncccc3C#N)[C@H](C)C2)nn1',\n",
       " 'CCSCc1ccccc1C(=O)N(C)CC(C)(C)C#N',\n",
       " 'C=CCn1cccc1C(=O)N1C[C@@H](Nc2nccnc2F)C[C@@H]1C',\n",
       " 'C=C(C(=O)NC[C@@H]1OC[C@@H]2CCN(C(=O)Cn3nc(C)cc3C)C[C@@H]21)C(F)(F)F',\n",
       " 'C=CCNC(=O)NC(=O)[C@@H](C)NCCCNC(=O)[C@@H]1CCCOC1',\n",
       " 'C=CCCC[C@@H](C)NC(=O)CCC(=O)Nc1nnc(C(C)C)s1',\n",
       " 'C=CCNS(=O)(=O)c1ccc(C(=O)N2CCC(N3CCc4ccccc4C3)CC2)cc1',\n",
       " 'C#CC(=O)N1CC[C@H](CNC(=O)[C@@H]2CC(=O)N(c3cccc(OC)c3)C2)[C@H]1c1cccnc1',\n",
       " 'C[C@@H](C#N)C(=O)NCc1cccc(COc2ccccc2)c1',\n",
       " 'N#C[C@@H](Cc1ccccc1)OC(=O)c1ccc(NS(=O)(=O)c2ccc(F)c(Cl)c2)cc1',\n",
       " 'COCC[C@H](NC(=O)N[C@@H]1CN(C(=O)OC(C)(C)C)C[C@@H]1C#N)c1ccco1',\n",
       " 'C=CCN(CC(=O)O)C(=O)C[C@@H]1Oc2ccccc2NC1=O',\n",
       " 'C=C(CC(=O)OCC)C(=O)N1C[C@@H]2COC[C@H](C1)[C@@H]2NC(=O)[C@@H](C)NNc1ccccc1',\n",
       " 'C=C1CC(C)(C(=O)N2CC[C@@H](C)[C@H](CNC(=O)c3ccccn3)C2)C1',\n",
       " 'CC[C@@H](C)C(=O)N[C@@H]1CN(c2ccc(C#N)nn2)CC[C@@H]1c1ccccc1',\n",
       " 'COc1cc(C#N)cc(C(=O)NC[C@@H]2CCN(C(=O)c3ccnc4ccccc34)[C@@H]2c2cccnc2)c1',\n",
       " 'C#C[C@H](NC(=O)N(C)CCCn1ccnc1C)c1ccc(Cl)cc1',\n",
       " 'CC(=O)[C@H](C)CC(=O)N1CC2(CC[C@@H](C(=O)N3CC(CC#N)C3)O2)C1',\n",
       " 'CC(C)C(C)(C)C(=O)N1CCCO[C@H](CN=c2cc[nH]cc2C#N)C1',\n",
       " 'CO[C@@H]1CCN(CCC(C)(C)C#N)[C@@H](CNC(=O)OC(C)(C)C)C1',\n",
       " 'C=CCC(F)(F)C(=O)OCCCc1cnn(C)c1',\n",
       " 'C=C1CCC(C(=O)NC2CC3(CC(NCCn4cncn4)C3)C2)CC1',\n",
       " 'CCC(CC)(NC(=O)C1CN(c2ccnc(C#N)c2)C1)C(N)=O',\n",
       " 'CC(C)n1ncc2c1C[C@H](/N=C(/O)c1ccc3nccnc3c1)CC2',\n",
       " 'CC(=O)Nc1ccc(NC(=O)c2cnc(N3CCCC3)c(Br)c2)cc1C#N',\n",
       " 'C[C@H]1CC[C@H](C(=O)N2CC[C@H]3CO[C@@H](CNC(=O)C#CC4CC4)[C@H]3C2)CC1',\n",
       " 'CC(C)(C)CCCNC(=O)c1ccc(C#N)o1',\n",
       " 'C#CCOCCC(=O)NCC1(Nc2ccc([N+](=O)[O-])cn2)CC1',\n",
       " 'C=C[C@@H]1OCC[C@H]1C(=O)Nc1cc(C(=O)OC)cc(C(=O)OC)c1',\n",
       " 'C#Cc1ccc(C(=O)NCCNCC(=O)N2C[C@@H](C)C[C@H](C)C2)nc1',\n",
       " 'N#Cc1ccc(NCC(=O)N2CCC(CC(N)=O)CC2)nc1',\n",
       " 'CC(C)C#CC(=O)N1CCOC2(C1)CN(C(=O)c1ncn(C)n1)C2',\n",
       " 'COc1ccsc1/C=C\\\\C(=O)c1cc(Cl)ccc1O',\n",
       " 'C=C(C)[C@@H]1OCC[C@@H]1C(=O)N1CCC[C@@H](CN(C)Cc2ncccn2)C1',\n",
       " 'COc1ccc(C[C@H](C)C/N=C(/N)Nc2ccc(OC)c(Cl)c2)cc1',\n",
       " 'CC(C)(C)OC(=O)N1C[C@@H]2CC[C@@H](NC(=O)Nc3cccc(OCC#N)c3)C[C@H]2C1',\n",
       " 'CCC[C@@H]1C[C@H]1C(=O)N[C@@H]1CN(C(=O)C#CC2CC2)C[C@H]1c1cnn(C)c1',\n",
       " 'C=CCOc1cccnc1C(=O)N[C@H](C)C[C@@H](C)NCCCCC',\n",
       " 'CC(C)(CCO)NC(=O)C(=O)Nc1cnc(C#N)c(Cl)c1',\n",
       " 'CCOc1cccc(C=c2sc(=C(C#N)C(=O)N3CCOCC3)n(-c3ccccc3OC)c2=O)c1',\n",
       " 'C=C(C)[C@@H]1OCC[C@@H]1C(=O)N[C@H]1CCN(Cc2cccc(C(N)=O)c2)[C@@H]1CC',\n",
       " 'C[C@@H](O)[C@H](NC(=O)c1ccccc1)C(=O)N1CCOC[C@]2(C1)CN(C(=O)C1(C#N)CCC1)CCO2',\n",
       " 'COCC#CCN[C@@H]1CN(C(=O)c2cc(F)c(F)cc2Cl)C[C@H]1C',\n",
       " 'Cn1cc(C(=O)N2C[C@@H]3C[C@H]2CN3CC#N)c2ccccc21',\n",
       " 'C=CCSCC(=O)N1CC2(CC[C@@H](C(=O)N3CCC(N(C)C)CC3)O2)C1',\n",
       " 'COC(=O)CCS(=O)(=O)N[C@@H](C=O)[C@@H](O)[C@H](O)[C@H](O)CO',\n",
       " 'Cc1nsc(N2CC[C@H](NC(=O)CCC3CCC3)C2)c1C#N',\n",
       " 'C=CCN1CC[C@]2(CCN(C(=O)c3cc(C4CC4)on3)C2)C1=O',\n",
       " 'COc1ccccc1Cc1nnc(N2CC[C@](F)(C#N)C2)n1C[C@H]1CCCSC1',\n",
       " 'COc1ccc(NC(=S)NN=Cc2cscc2C(F)(F)F)cn1',\n",
       " 'CS(=O)(=O)N[C@H]1CCC[C@@H]1CNC(=O)CSCc1ccc(C#N)cc1',\n",
       " 'C=CCC[C@@H](C)N1CCC(CNC(=O)CCNC(=O)C2CCC2)CC1',\n",
       " 'CC(=O)c1ccc(C(=O)NCC(=O)NCC#N)cc1',\n",
       " 'C=C(C)CN(CC)Cc1nc(CCC)cs1',\n",
       " 'C=C(Cl)CN1CC(n2cc(CNC(=O)c3cncnc3O)nn2)C1',\n",
       " 'Cc1cc(=NC[C@H](O)CN(C)C(=O)/C=C\\\\C2CC2)c(C#N)c[nH]1',\n",
       " 'N#C[C@H]1C[C@H]1C(=O)N1CCN(CCc2ccccn2)CC1',\n",
       " 'N#Cc1ccc(CN2[C@H]3CC[C@@H]2C[C@H](CNC(=O)[C@@]24COC[C@@H]2C4)C3)s1',\n",
       " 'CCn1nncc1/C=C/C(=O)c1ccc(S(=O)(=O)NCCC(=O)O)cc1',\n",
       " 'CCCC[C@H](C)C(=O)N1CC[C@H](CCNc2cnc(C#N)cn2)C1',\n",
       " 'N#Cc1ccc(-c2ccn(Cc3nnc(-c4ccc(Cl)cc4Cl)o3)n2)cc1',\n",
       " 'C#Cc1cncc(C(=O)N[C@@H](C)c2ccc(CNC(=O)CCC)cc2)c1',\n",
       " 'C=C(C)CCNC[C@@H]1CN(C(=O)COc2ccccc2C)CCCO1',\n",
       " 'C#CCCNC[C@@H]1CCCCN1C(=O)c1c[nH]c2ccc(F)cc12',\n",
       " 'COc1ccc([C@@H](C)C(C)=NNc2oc(C)nc2C#N)cc1OC',\n",
       " 'CC(C)(C)n1cc(C#N)c(NC(=O)C(=O)NC2CCN(CC#N)CC2)n1',\n",
       " 'Cc1cccc2nc(C(=O)N[C@@H](C)CNc3cncc(C#N)n3)cn12',\n",
       " 'C=C(Br)CSc1nc(-c2ccc(F)cc2)cs1',\n",
       " 'C[C@H](NC(=O)c1cccc(C(F)F)c1F)[C@@H]1CCCN(CC#N)C1',\n",
       " 'C#C[C@@H](CC)Oc1cc(N2CCOCC2)ccc1[N+](=O)[O-]',\n",
       " 'C=CCn1cc(C(=O)N[C@H]2CC23CCN(CC[C@H](C)F)CC3)nn1',\n",
       " 'C=C[C@H](C)[C@@H](C)C(=O)N1[C@H]2CC[C@H]1CN(c1nccn3nnnc13)C2',\n",
       " 'CN1CCCC[C@H]1C(=O)N1CCN(C(=O)OCc2ccccc2)[C@@]2(CCN(C(=O)C#CC3CC3)C2)C1',\n",
       " 'O=C(CCCN1C(=O)c2cccc3cccc(c23)C1=O)NCCN/C(O)=C1\\\\N=CC=CC1=O',\n",
       " 'N#CCCCn1cc(C(=O)NCCCN2C(=O)CCC2=O)c2ccccc21',\n",
       " 'Cc1cc(C(=O)NC2CCN(c3ccc(C#N)nn3)CC2)cs1',\n",
       " 'C[C@H](CC#N)N(C)C(=O)C(=O)Nc1cccc(Cl)c1OCC(F)F',\n",
       " 'COCC(C)(C)C(=O)OCC(=O)NCC#N',\n",
       " 'COc1ccc(OCC(=O)N2CCCC[C@@H]2C2CCN(C(=O)C#CC3CC3)CC2)cc1',\n",
       " 'C[C@H]1CCC[C@]1(C)C(=O)N1CCN(c2nccnc2C#N)C[C@H]1C',\n",
       " 'CC[C@H](C(=O)O[C@@H](C)C(=O)NC1(C#N)CCC1)c1ccccc1',\n",
       " 'C=CC[C@H](CC)NC(=O)C(=O)Nc1cccc(C(=O)NCCCOCC)c1',\n",
       " 'Cc1c(C(=O)N2CC[C@]3(CN(C(=O)CC#N)CCN3C(=O)OCc3ccccc3)C2)cnn1C',\n",
       " 'Cc1ccc(C(=O)N2CCN(C(=O)Nc3ccc(C#N)c(F)c3)CC2)s1',\n",
       " 'C[C@H](CN(C)c1ccc(C#N)nn1)NC(=O)[C@@H]1CCO[C@H]1c1ccccc1',\n",
       " 'N#Cc1ccc(OC2CCN(C(=O)C(=O)NCCc3ccc(Cl)cc3)CC2)cc1',\n",
       " 'C#CCN(C)CCCNC(=O)N1CC[C@@H](c2ccccc2)[C@H]1C',\n",
       " 'CCOC1(C)CCN(C(=O)N[C@H](CCC#N)c2ccccc2)CC1',\n",
       " 'C/C(O)=N/C1(c2noc([C@@H]3CC(=O)N(C)C3)n2)CCCCC1',\n",
       " 'C#CCCCC(=O)N1C[C@@H](C)[C@H](CNC(=O)CC(C)(C)CC)C1',\n",
       " 'C#CCOCCN1CCO[C@H](C(=O)NC)C1',\n",
       " 'N#Cc1cncc(N2CCO[C@@H]3CCC[C@H]32)n1',\n",
       " 'C=CCc1cc(C(=O)N(CC)CC(=O)Nc2c(Cl)cccc2Cl)cc(OC)c1OC',\n",
       " 'C=C[C@H](COC)NCc1ccc([C@@H]2C[C@H]2C)o1',\n",
       " 'C#CCCN1CC[C@@](C)(NC(=O)C[C@H](c2ccccc2)C(C)C)C1',\n",
       " 'CC(C)[C@H]1OCC[C@@H]1C(=O)NCCNCc1ccc(C#N)s1',\n",
       " 'C#CCCCCCC(=O)N1CC[C@@H](NC(=O)CC(=O)N(C)C)C[C@H]1C',\n",
       " 'C=CCOC[C@@H](O)CNc1cccc2ncccc12',\n",
       " 'COc1ccc(-c2cc(-c3cnc(C#N)c(C)c3)ncn2)cc1',\n",
       " 'CCC1(NC(=O)C#CC(C)(C)C)CCN(C(=O)C2(C)CC=CC2)CC1',\n",
       " 'CC(C)(C)[C@H]1CCc2c(sc(NC(=O)C3CCN(C(=O)c4ccc(F)cc4F)CC3)c2C#N)C1',\n",
       " 'O=C(/C=N/N1CCCCC1)N1CC2(CCCN2C(=O)/C=C/c2ccccc2)C1',\n",
       " 'C#CCNC1(c2ccc(Cl)c(Cl)c2)CC1',\n",
       " 'C=CC[C@H]1CCCC[C@H]1NC(=O)C(=O)NCc1ccnc(OC(C)C)c1',\n",
       " 'CC1(Cn2cc(/C(O)=N/[C@@H]3CCN4CCCC[C@H]34)nn2)COC1',\n",
       " 'C#CCOCCN(C)C(=O)Cc1cc(-c2ccccc2)on1',\n",
       " 'CN(CC#N)CN1C(=O)C2(CCC2)[C@@H]1c1ccccc1',\n",
       " 'Cc1nnsc1C(=O)N1C[C@H]2CCN(C(=O)[C@@H](C)C#N)C[C@H]2C1',\n",
       " 'CC(=O)N(C)[C@H]1CN(CC#Cc2ccccc2)C[C@@H]1O',\n",
       " 'CCN(CC(=O)N1CCN([C@@H](C#N)C(C)C)CC1)C1CCC1',\n",
       " 'C#CCCCC(=O)N1CCO[C@@]2(CCN(C(=O)c3cc(F)ccc3C(F)(F)F)C2)C1',\n",
       " 'CSc1nc(C2CC2)cc(C(=O)N2CCC[C@@](O)(c3ccccc3)C2)c1C#N',\n",
       " 'C=CCCCCNC(=O)COc1ccccc1C#N',\n",
       " 'COc1cc(C#N)ccc1OC(=O)CC(C)CC(=O)Oc1ccc(C#N)cc1OC',\n",
       " 'C=C(Cl)C(C)(C)C(=O)NC[C@@]1(O)CCN(C(C)=O)C1',\n",
       " 'C[C@H](NC(=O)[C@H](C#N)C(=O)c1coc(C2CC2)n1)c1ccc(Cl)cc1Cl',\n",
       " 'C=CCOCCN1CC([C@H](C)NC(=O)c2c(Cl)cnn2CC)C1',\n",
       " 'C=C[C@@H](CC)CC(=O)N1CC[C@](C(=O)O)(C(F)(F)F)C1',\n",
       " 'CNC(=O)c1ccc(NC(=O)C2(C)CCN(c3ccc(Cl)cc3C#N)CC2)c(Cl)c1',\n",
       " 'N#Cc1ccccc1SCC(=O)Nc1cccc(I)c1',\n",
       " 'C=CCNC(=O)CN[C@@H]1CCCC[C@H]1NC(=O)[C@@H]1CCOc2ccccc21',\n",
       " 'COc1c(C(=O)N[C@@H](C)CN(C)c2nccnc2C#N)cnn1C',\n",
       " 'C=CC[C@H]1N(C(=O)Cn2c(C)nc3ccccc3c2=O)CCCC1(C)C',\n",
       " 'N#Cc1cncc(N[C@@H]2CN(C(=O)[C@H]3CCCOC3)C[C@H]2C(F)(F)F)n1',\n",
       " 'Cc1cn(-c2ccc(C#N)cn2)nc1NC(=O)NC[C@@H](c1ccnn1C)C(C)C',\n",
       " 'CC[C@H](NCC(=O)N1CCN([C@H](C#N)c2cccs2)CC1)[C@@H]1CCCO1',\n",
       " 'C[C@@H]1CCCC[C@@H]1C(=O)N[C@H]1C[C@H](Nc2cncc(C#N)n2)C1',\n",
       " 'CC#CCN1CC[C@@H]2CCN(C(=O)c3cnn(CC)c3C3CC3)C[C@H]21',\n",
       " 'CCCc1cc(C(=O)NCCNc2cnc(C#N)cn2)no1',\n",
       " 'C=CCC(CC=C)C(=O)Nc1cc([C@@H]2CCCCN2C(=O)c2cnn(Cc3ccccc3)c2)[nH]n1',\n",
       " 'C=C(C)[C@H]1OCC[C@@H]1CNC(=O)[C@H](C)Oc1ccc(Cl)cc1',\n",
       " 'C=CC[C@H](C(=C)C)C(=O)N1CC2(CCCN2C(=O)[C@@H](CCC)n2cccc2)C1',\n",
       " 'CC(C)C#CC(=O)N1CCC[C@@H](NC(=O)c2cnc(O)n2C)C1',\n",
       " 'CCCCCCCC[C@H](O)CNc1cnc(C#N)c(C)c1',\n",
       " 'CC[C@H](C)N1C(=O)[C@@]2(CCN(Cc3ccc(C#N)s3)C2)c2ccccc21',\n",
       " 'N#Cc1cc(Br)cc(S(=O)(=O)Oc2cccc([N+](=O)[O-])c2)c1',\n",
       " 'C[C@H](CC#N)Sc1ccccc1NC(=O)C(=O)NC[C@@H]1CCCN1C(=O)OC(C)(C)C',\n",
       " 'C#CCSCC(=O)OCCOCCC#N',\n",
       " 'CCO[C@H]1C[C@](NC(=O)COc2ccc(C#N)c(Br)c2)(C(=O)OC)C1(C)C',\n",
       " 'C[C@H](CNC(=O)c1cc(C#N)c[nH]1)NC(=O)CCCC1CCCCC1',\n",
       " 'C=C[C@H](O)C(C)(C)C(=O)N1CCCC[C@H]1c1cc(NC(=O)c2ccc(C(F)(F)F)n2C)n[nH]1',\n",
       " 'C[C@H](NCCCNC(=O)[C@H](C)C#N)c1nnnn1-c1ccccc1',\n",
       " 'C=CCCC(=O)N[C@H]1CC2(CN(CCCCC)C2)n2ccnc21',\n",
       " 'C=C(C)CN(C)C(=S)N[C@H](C)c1cccs1',\n",
       " 'Cc1nsc(NCC[C@H](C)NC(=O)c2cnns2)c1C#N',\n",
       " 'C=CCNC(=O)CNC(=O)N[C@H](C)C(=O)NCCC',\n",
       " 'CC#CCCCC(=O)N1CC[C@@H](N(C)CCOc2cccc(F)c2)C1',\n",
       " 'C=C(C)CN1C[C@H]2C(NC(=O)Cc3cc(OC)ccc3OC)[C@@H]2C1',\n",
       " 'Cc1nc(C)c(C(=O)N2CC[C@@H]3CN(C(=O)c4c[nH]c(C#N)c4)[C@@H]3C2)[nH]1',\n",
       " 'C[C@H](C(=O)NC1(C#N)CCC1)N1CC[C@H](OC(=O)N(C)C)C1',\n",
       " 'CN(C)C(=O)CN1CCN(c2nnc(-c3ccc(C#N)cc3)n2C[C@@]2(O)CCCC2(C)C)CC1',\n",
       " 'C=CCC[C@@H](C)NCCCNC(=O)c1cc(CC)n(C)n1',\n",
       " 'C=CCSCC(=O)N1CCC([C@H]2CCCCN2C(=O)Cc2cc(C)[nH]n2)CC1',\n",
       " 'CCc1occc1C(=O)N1C[C@@H](CNc2ccc(C#N)nc2)C[C@@H]1C',\n",
       " 'C[C@@H](S)C(=O)N1CC[C@H]2[C@@H]1CCN2C(=O)c1ccc(Cl)cc1F',\n",
       " 'COCCNC(=O)[C@H]1CN(Cc2ccc(C#N)cc2Cl)Cc2ccnn2C1',\n",
       " 'COC(=O)c1ccc(C#N)cc1-c1cc(O)c(F)c(F)c1F',\n",
       " 'N#Cc1ccc(CNC(=O)C2(c3ccccc3)COC2)cn1',\n",
       " 'COC(C)(C)Cn1c(-c2c[nH]c3ccccc23)nnc1N1CCO[C@@H](C#N)C1',\n",
       " 'C=CCN1CC[C@H](N[C@H](C)c2cc(OC)c(OC)cc2C)C1=O',\n",
       " 'CC#C[C@@H](CC(=O)N1CC[C@]2(CN(C(=O)/C=C/c3ccco3)CCO2)C1)c1ccc(O)cc1',\n",
       " 'C=CCn1ccc2c(-c3cccc(C(=O)N(C)CC)c3)ncnc21',\n",
       " 'C=C[C@@H]1OCCC[C@H]1C(=O)N1CC[C@@H]2CN(C(=O)c3[nH]c(C)nc3C)C[C@@H]2C1',\n",
       " 'C#CCNC(=O)CN[C@@H]1C[C@@H](NC(=O)c2cnn(C)c2C)C12CCC2',\n",
       " 'C#CCN(CC(=O)O)C(=O)NC(c1nccn1C)c1nccn1C',\n",
       " 'COc1ccnc(N[C@@H]2C[C@@H](C)N(C(=O)c3c[nH]c(C#N)c3)C2)n1',\n",
       " 'C=C[C@@H]1C[C@]1(NC(=O)Cn1c2ccccc2c2ccccc21)C(=O)OCC',\n",
       " 'C=CC(C)(C)CC(=O)N(CC(C)(C)C)c1ccccn1',\n",
       " 'CN(CCO)CCNC(=O)CC/N=C1/NS(=O)(=O)c2ccccc21',\n",
       " 'Cc1cc(N=c2cc[nH]c(C#N)c2)cc(C)c1N',\n",
       " 'Cc1ccc(-c2nn(CCC#N)cc2C(=O)OCC(=O)Nc2ccc(F)c(F)c2)cc1C',\n",
       " 'C=C(C)CCC(=O)N1CCC[C@]2(CCN(C(=O)Cc3nc[nH]n3)C2)C1',\n",
       " 'COc1ccc(C(=O)NCC(C)(C)C#N)cc1S(=O)(=O)NC(C)(C)C',\n",
       " 'CC[C@H](C)c1nnc(N2CCN(C3CC3)[C@@H](C#N)C2)n1CCNC(=O)OC(C)(C)C',\n",
       " 'C=C(C)CN1CC[C@@](C)(NC(=O)[C@@H](F)CN(CC)CC)C1',\n",
       " 'COC(=O)c1ccc(CC(=O)N2CCC([C@@H]3CCCCN3C(=O)CC#N)CC2)cc1',\n",
       " 'N#Cc1nccc(N2CC[C@@H]3CCN(C(=O)[C@@H]4CCCN4C(N)=O)C[C@@H]32)n1',\n",
       " 'COCc1cc(C)nc2sc(/C(C)=N/N)c(N)c12',\n",
       " 'CC(C)(C)OCC(=O)N1CCN(S(=O)(=O)c2ccc(C#N)cc2)CC1',\n",
       " 'CCC#C[C@H](C)Oc1ccc(OCCOC)cc1',\n",
       " 'C#CCC1(C(=O)N2CCO[C@H](CNC(=O)CCC=C)C2)CCCCC1',\n",
       " 'C=CCN(C)[C@H]1CCCN(C(=O)c2csc(Cl)n2)C1',\n",
       " 'Cn1ncnc1C(=O)N1C[C@H]2CC[C@H]1[C@H]2NC(=O)c1ccncc1C#N',\n",
       " 'CC(=O)N(C)CCCC(=O)NCC1(O)CN(C(=O)[C@H](C)C#N)C1',\n",
       " 'N#Cc1c[nH]c(C(=O)NC2CCN(C3CCN(C(=O)c4cnn(Cc5ccccc5)c4)CC3)CC2)c1',\n",
       " 'CC(C)Oc1ccc(NC(=O)c2cnn(-c3ccccn3)c2N)cc1C#N',\n",
       " 'COc1cc(C(F)(F)F)cc(C(F)(F)F)c1-c1ccc(C#N)nc1',\n",
       " 'C=CCCCCCN[C@@H](C)C[C@H](C)NC(=O)CN1CCCC1=O',\n",
       " 'CN(Cc1ccc(N2CCCCC2)cc1)C(=O)c1ccc(Oc2ccc(C#N)cn2)cc1',\n",
       " 'C=C(Cl)Cn1c(-c2ccccn2)nnc1N1CCCN(c2ccccc2)CC1',\n",
       " 'N#Cc1ccc(CCN2C(=O)C[C@@H](Cc3ccc(F)cc3)C2=O)cc1',\n",
       " 'C#CCN1C[C@H]2CCN(C(=O)c3nc(C)oc3C)CC[C@H]2C1',\n",
       " 'C=CCNC(=O)NC(=O)CN[C@H]1C[C@H](C)N(C(=O)c2cc[nH]c2)C1',\n",
       " 'CC1(C)C[C@]1(C#N)NC(=O)[C@@H]1CC(=O)N(c2ccc(C#N)cc2)C1',\n",
       " 'N#Cc1ccc2c(c1)CCC[C@H]2NC(=O)C(=O)NCCc1ccc2c(c1)OCO2',\n",
       " 'CN(C[C@@H]1CCCN1C(=O)CCC(C)(F)F)c1ccnc(C#N)n1',\n",
       " 'C[C@@H](CS)Oc1ccc(Cl)nc1[N+](=O)[O-]',\n",
       " 'C[C@@H](C#N)C(=O)N[C@@]1(C)CCN(c2cnc3cc(F)c(F)cc3n2)C1',\n",
       " 'CN(CC(N)=O)C(=O)c1cccc(NC(=O)CCCCOc2cccc(C#N)c2)c1',\n",
       " 'N#C[C@@H](c1ccccc1)c1ccc(NC(=O)CCCn2cnc3ccccc32)cc1Cl',\n",
       " 'C=CC[C@H](C)C(=O)N1C[C@@H]2COC[C@H](C1)[C@@H]2NC(=O)c1cn2ccc(C(F)(F)F)cc2n1',\n",
       " 'COc1ccc([C@@H]2CCCN2C(=O)C(=O)Nc2ccc(Oc3ccc(C#N)cc3)nc2)cc1OC',\n",
       " 'N#Cc1cnc2nc(Cl)ccc2c1NCC(=O)c1cccc(Br)c1',\n",
       " 'CCCC(=O)Nc1ccc(CNC(=O)c2ccc(C#N)[nH]2)cc1',\n",
       " 'COc1cc(OC)c(OC)cc1CN1CCC[C@H](Oc2ccccc2C#N)C1',\n",
       " 'C=CCn1cc(C(=O)N2CC[C@@H](N(C)CCN3CCNC3=O)C2)nn1',\n",
       " 'C=CCN(Cc1cccc(C#N)c1)C(=O)C(=O)N1C[C@@H](C)O[C@H](C2CC2)C1',\n",
       " 'Cc1nc(N2CCC[C@@H]2c2c(C)nn(CC(C)C)c2Cl)ccc1C#N',\n",
       " 'Cc1ccc(-c2nc(Cn3cc4c(c(C#N)c3=O)CCCC4)co2)cc1',\n",
       " 'CC(C)=NO[C@H](C)C(=O)N[C@@H]1[C@H]2COC[C@@H]1CN(C(=O)[C@@]1(F)CCCN(C(=O)OC(C)(C)C)C1)C2',\n",
       " 'Cn1nc(C2CCOCC2)cc1NC(=O)C(=O)NCC1(C#N)CCC1',\n",
       " 'COc1cc(O)ccc1C(=O)/C=C/c1ccc(O)c(O[C@@H](c2cccnc2)C(F)(F)F)c1',\n",
       " 'CC(C)c1c(C(=O)NS(=O)(=O)Cc2cccc(C#N)c2)cnn1-c1cccc(Cl)c1',\n",
       " 'C[C@@H](C(=O)N1CCC2(CCN(c3cncc(C#N)n3)CC2)C1)C1CC1',\n",
       " 'C=C(C)Cn1c(C(=O)NC(CC)CC)nnc1N1CCN(C(=O)Cn2cnnn2)CC1',\n",
       " 'C=CCOCCN1C[C@H]2C(NC(=O)[C@H]3C[C@@H]3c3ccccc3)[C@@H]2C1',\n",
       " 'CCOC(=O)[C@H](C)N(C)CCc1ccc(C#N)cc1',\n",
       " 'CN(C)[C@H](CNC(=O)CN1CCc2ccc(C#N)cc21)c1ccccc1',\n",
       " 'COCCO[C@@H]1C[C@@H](CO)CN(C(=O)C(=O)N2CC[C@](O)(CC#N)C2)C1',\n",
       " 'C=CCN(C)S(=O)(=O)c1ccc(NC(=O)NCC(=O)N2CCCCC2)cc1',\n",
       " 'CC(C)(C)CC(C)(C)NC(=O)Nc1cc(C#N)cn1C(C)(C)C',\n",
       " 'C[C@]1(C#N)CCCN(c2nnc(-c3ccc(Cl)cc3)n2C[C@H]2CCN(CC(F)(F)F)C2)C1',\n",
       " 'C=C(Cl)CN1CC[C@]2(CCCN(C(=O)[C@]3(F)CCOC3)C2)C1',\n",
       " 'C=CCc1ccnc(N[C@@H]2CCOC[C@H]2OC)c1C(OC)OC',\n",
       " 'Cc1c(C(=O)N(C)CC(C)(C)C#N)nnn1-c1cccc2cnccc12',\n",
       " 'C=CCN(Cc1ccc(C)cc1)[C@@H](C(=O)O)c1ccccc1',\n",
       " 'C=CCOCC(=O)N1C[C@@H](C)[C@H](CNC(=O)c2ccc(OC)cc2)C1',\n",
       " 'CC[C@H](CNC(=O)c1cc(F)c(C#N)c(F)c1)N1CCc2ccccc2C1',\n",
       " 'C=CCC[C@H](C)N1CCC[C@@H](Oc2cccnc2)C1',\n",
       " 'C[C@H](C#N)c1cccc(C(=O)N2CCCC[C@@H]2c2cc(NC(=O)CC3CC3)n[nH]2)c1',\n",
       " 'COCC#CCN1CC=C(C(C)(C)C)CC1',\n",
       " 'COC[C@H]1CCCCN(S(=O)(=O)CCCCC#N)C1',\n",
       " 'C=CC(C)(C)C(=O)N1C[C@H](O)[C@H](NC(=O)c2c(C)ccnc2OCC)C1',\n",
       " 'C=C[C@H](C)[C@@H](C)C(=O)N1CCCN(Cc2cc3n(n2)CCCC3)CC1',\n",
       " 'CC(C)(NCCC#N)C(=O)N1CC[C@H]2OCCC[C@@]2(CNC(=O)c2c(O)cc(O)cc2O)C1',\n",
       " 'C=C(Cl)CNC1(CNC(=O)c2cnc3ccc(F)cc3c2)CCC1',\n",
       " 'CC(C)[C@H](C#N)N1CCN(C(=O)Cn2cnc(C#N)c2-c2nn[nH]n2)CC1',\n",
       " 'C=CCC1(O)CCN(C(=O)C(=O)N[C@H]2CCCc3ccc(F)cc32)CC1',\n",
       " 'C=CCn1c(SCC(OCC)OCC)nnc1[C@@H]1COc2ccccc2O1',\n",
       " 'CC(C)c1ccccc1CNC1CC2(C1)CC(NC(=O)[C@H](C)C#N)C2',\n",
       " 'CC(C)(C)OC(=O)N1C[C@@H](C#N)[C@@H](NC(=O)c2ccc(F)c3ccccc23)C1',\n",
       " 'Cc1ccc(OCc2nnc(S[C@H](C#N)C3CC3)o2)cc1',\n",
       " 'CCn1ccc(CC(=O)N(C)[C@@H](C)CNCC#N)n1',\n",
       " 'C=C(Cl)CNC1(CNC(=O)c2ncoc2C)CCC1',\n",
       " 'C[C@@H](C#N)CN(C)c1nnc(COc2ccc(C#N)cc2)n1Cc1ccsc1',\n",
       " 'CCCCCCNC(=O)C(=O)N1CC[C@](O)(CC#N)C1',\n",
       " 'C[C@@H](OC(=O)C#CC1CC1)C(=O)N(CCC#N)c1ccc(F)cc1',\n",
       " 'COc1ccccc1C(=O)/C(=C(/S)NC1CCC1)[n+]1ccc(N(C)C)cc1',\n",
       " 'C=C[C@H]1CCCCN1Cc1cn2ccccc2n1',\n",
       " 'CCOC(=O)[C@@H](C#N)NC(=O)[C@H]1C[C@@H]1C(=O)c1ccc(Cl)c(Cl)c1',\n",
       " 'CS(=O)(=O)NC1CN(C(=O)c2ccc(C#N)cc2O)C1',\n",
       " 'C[C@@H]1CCN(C(=O)CCc2cnn[nH]2)C[C@@H]1CNCC(=O)NCC#N',\n",
       " 'COC[C@]1(C(=O)N(C)CCNc2ccc(C#N)nn2)CCOC1',\n",
       " 'Cc1noc(C(=O)N[C@@H](C)CC#N)n1',\n",
       " 'C#CCn1ccc(CN(CC)C(=O)CCCc2nn[nH]n2)n1',\n",
       " 'C#CCNC(=O)[C@@H](C)N1CCO[C@H](c2ccc(Cl)c(Cl)c2)C1',\n",
       " 'CC(=NNC(=S)Nc1ccccc1C(F)(F)F)c1ccc(S(=O)(=O)N2CCNCC2)cc1',\n",
       " 'C=CCO[C@H](C)C(=O)N1CCOC[C@]2(CN(C(=O)[C@H](C)NC(=O)CC)CCO2)C1',\n",
       " 'C[C@H](NC(=O)OC(C)(C)C)c1ccc(O[C@@H](C)c2ccccc2C#N)cc1',\n",
       " 'COc1cccc([C@H](O)CN[C@H](C#N)c2ccccc2)c1',\n",
       " 'Cc1noc([C@@H]2CCCN(c3ncc(C#N)cc3F)C2)n1',\n",
       " 'CN(C1CCN(/C(O)=N/CCc2cscn2)CC1)S(C)(=O)=O',\n",
       " 'CO[C@H](Cn1c([C@H]2CCS(=O)(=O)C2)nnc1N1CC=C(c2ccc(C#N)cc2)CC1)C(C)(C)C',\n",
       " 'N#Cc1ccc(CNC(=O)Nc2ccc(F)cc2F)o1',\n",
       " 'C[C@@H]1CN(c2ccncc2)CCN1C(=O)C(=O)N1CCC(C)(C#N)CC1',\n",
       " 'CC(C)(C)C(=O)NC[C@H]1Cc2ccccc2CN1c1ccnc(C#N)n1',\n",
       " 'C=CCCN1CCN(CCNC(=O)CN(C)C2CCC2)CC1',\n",
       " 'CSC[C@@H](C)C(=O)N1CC[C@@H](CNc2ccc(C#N)nn2)C1',\n",
       " 'C=CC[C@@H](C)C(=O)N1[C@H]2CC[C@@H]1C[C@H](NC(=O)CCc1noc(-c3ccccc3)n1)C2',\n",
       " 'Cc1cc(C#N)cc(NC(=O)N2CCOc3cc(F)ccc3C2)c1',\n",
       " 'C[C@@H]1CN(C)C(=O)CN1c1nnc(COc2ccc(C#N)cc2)n1C[C@@H](C1CCCCC1)N(C)C',\n",
       " 'C#CCCCCC(=O)N1CCCC[C@@H]1C1CCN(C(=O)Cc2ncccn2)CC1',\n",
       " 'C=C(C)[C@H]1OCC[C@@H]1CNC(=O)c1cc(-c2ccccc2)ccc1Cl',\n",
       " 'COCCC(=O)NC1(c2cccc(C#N)c2)CC1',\n",
       " 'C=CCOCCCC(=O)N1C[C@@H]2COC[C@H](C1)[C@@H]2NC(=O)c1cc(C(C)(C)C)n[nH]1',\n",
       " 'CC#CCN(C)C(=O)c1cc(C(=O)OC)nn1-c1ccccc1',\n",
       " 'CCO[C@]1(c2nnc(N3CCN(C4CC4)[C@H](C#N)C3)n2CCN(C)C(=O)OC(C)(C)C)CCOC1',\n",
       " 'CON(C)C(=O)c1cc(-c2ccc(C#N)cn2)ccc1F',\n",
       " 'C[C@@H](c1nncn1C)N1C[C@H]2[C@H](NC(=O)c3c[nH]c(C#N)c3)[C@H]2C1',\n",
       " 'C[C@@H]1C[C@@H](C)CN(CCCNC(=O)C(=O)Nc2cc(C#N)cn2C(C)(C)C)C1',\n",
       " 'CC(C)=NO[C@H](C)C(=O)Nc1cc([C@@H]2CCCCN2C(=O)c2cc(C)c(O)c(C)c2)[nH]n1',\n",
       " 'CC(=O)NC(C)(C)C(=O)N1CCOC[C@@]2(CN(C(=O)[C@H](C)ON=C(C)C)CCO2)C1',\n",
       " 'Cc1ccnc2[nH]c([C@@H](C#N)C(=O)c3ccc4c(c3)CC(C)(C)O4)nc12',\n",
       " 'COc1cccc(CC2(CN[C@H]3CCN(C(=O)OC(C)(C)C)[C@H](C#N)C3)CC2)c1',\n",
       " 'Cc1c(COC(C)(C)C)cccc1NC(=O)N(C)[C@@H](C)CC#N',\n",
       " 'N#Cc1ccc2c(c1)N(C(=O)C(=O)N[C@@H]1CCCNC1=O)CC2',\n",
       " 'C=C(C)CN1CC(OC2CCN(C(=O)c3cc(CC)ccn3)CC2)C1',\n",
       " 'COCC#CCN1C[C@@H](C)[C@H](CNC(=O)[C@@H](NC(C)=O)C2CCCC2)C1',\n",
       " 'C=CCN(Cc1cccc(NC(C)=O)c1)S(=O)(=O)c1cccs1',\n",
       " 'COc1ccccc1CC(C)=NNCC(F)(F)F',\n",
       " 'CCCCCCCCCCS(=O)(=O)N1CC[C@@H](OC)C[C@H]1C',\n",
       " 'C=C(C)Cn1c(CCCc2ccccc2)nnc1N1CC[C@@]2(CCOC2)C1',\n",
       " 'C=CCOCCN1[C@H]2CC[C@@H]1C[C@@H]2NC(=O)c1cc(C(N)=O)cn1C',\n",
       " 'COc1ccc(C#N)cc1CNCCNC(=O)Cn1nccn1',\n",
       " 'Cc1ccc(S(=O)(=O)[C@@H](C#N)c2nc3ccccc3nc2N(Cc2ccccc2)C[C@H](C)CN)cc1',\n",
       " 'C#CCCC(=O)N1CC[C@@H](CNC(=O)c2cc(Cl)cc(Br)c2)[C@@H]1c1cccnc1',\n",
       " 'O=C(Nc1ccc2nc(NC(=O)[C@H](F)C(F)(F)F)ccc2c1)[C@H](F)C(F)(F)F',\n",
       " 'N#Cc1nccnc1N(CCO)C1CCN(C(=O)c2cnn[nH]2)CC1',\n",
       " 'COCC1(CNC(=O)[C@@H]2CCCCC(=O)N2)CCN(CC#N)CC1',\n",
       " 'COC[C@H]1CN(C(=O)[C@@H]2C[C@@H](OS(C)(=O)=O)CN2C(=O)OC(C)(C)C)Cc2cn(C)nc21',\n",
       " 'C#CCN(C(=O)C(=O)NCCOc1cccc(NC(C)=O)c1)C(C)C',\n",
       " 'CCc1ccc(C#CC(=O)Nc2cc(C)n([C@H](C)CC)n2)cc1',\n",
       " 'N#Cc1cc(C(=O)N2C[C@H]3CCN(C(=O)[C@H](F)C(F)(F)F)C[C@H]32)c[nH]1',\n",
       " 'Cc1nc(NC2CC(CNC(=O)c3cccnc3)C2)ccc1C#N',\n",
       " 'CCN(C)C[C@H]1CCN(C(=O)Nc2cccc(C#N)c2C)C1',\n",
       " 'C#CCN(CC(=O)N1CCN2CCOc3cccc1c32)C(=O)OC(C)(C)C',\n",
       " 'N#Cc1ccc(N2CCC[C@H](NC(=O)N[C@@H]3CCc4cc(O)ccc4C3)C2=O)cc1',\n",
       " 'CC(C)(C)[C@@](C)(C#N)NC(=O)Cc1ccoc1',\n",
       " 'C=CCn1c(S[C@@H](C)C(=O)NC(=O)NC)nnc1-c1ccccc1C',\n",
       " 'C=CCn1c(C(=O)NC(C)C)nnc1N1C[C@H](C)O[C@@]2(CCCOC2)C1',\n",
       " 'C=CCC[C@H](C)N1C[C@H]2C[C@@H]3CN(C(=O)CCC(=C)C)C[C@@]3(C1)O2',\n",
       " 'C#C[C@H](NC(=O)Nc1nc(CC(=O)OC)cs1)c1ccc(Cl)cc1',\n",
       " 'C=CCOC(=O)N1CCCC2(CCN(Cc3cc(C)ccc3F)CC2)C1',\n",
       " 'C=CCOCCCC(=O)NCCN(CCC)c1nc(C)ccc1C#N',\n",
       " 'C=C(Cl)CNCC1(CCNC(=O)c2cnc3[nH]c(O)nc3c2)CC1',\n",
       " 'N#Cc1ccc(OC2CN(C(=O)C(=O)N[C@H]3CCO[C@@H](C4CC4)C3)C2)cc1',\n",
       " 'CS[C@@H](C)CC(=O)NCC[C@H]1CCCN1c1nccnc1C#N',\n",
       " 'C=CCC[C@H](C(=O)N[C@H](C)[C@@H](O)c1ccccc1)c1ccccc1',\n",
       " 'Cc1nc(C#N)c(-c2nn[nH]n2)n1CCCN1CCOC1=O',\n",
       " 'C=Cc1ccc(C(=O)N[C@H]2CCN(c3cc(C#N)nc(CC)n3)C2)cc1',\n",
       " 'CC(=O)N(c1ccc(F)cc1)c1nc(/C=C\\\\C(=O)c2cccc(OC(F)F)c2)cs1',\n",
       " 'COC(=O)[C@@H]1CC[C@@H](C(=O)N=c2cc[nH]cc2C#N)O1',\n",
       " 'C=C(C)CN1CC(n2cc(CNC(=O)[C@H](CCC)OC)nn2)C1',\n",
       " 'C#CCOc1cc(F)ccc1NC(=O)NCc1ccccc1OC(F)F',\n",
       " 'CC#C[C@@H](CC(=O)N1CCCC[C@H]1C1CCN(C(=O)CCc2cccnc2)CC1)c1ccc(O)cc1',\n",
       " 'CCOC(=O)C1(Nc2ccc(COc3ccc(CC#N)cc3)cn2)CCN(C)CC1',\n",
       " 'C[C@H](Cc1cccs1)N(C)C(=O)[C@H](C#N)Cc1ccc(C#N)cc1',\n",
       " 'N#Cc1cc2ccccc2nc1NCC1SCCS1',\n",
       " 'N#Cc1ccccc1O[C@H]1CCCN(S(=O)(=O)c2ccc(F)c(C(=O)O)c2)C1',\n",
       " 'CN(c1ccc(CNC(=O)Nc2ccc(F)cc2OCC#N)cc1)S(C)(=O)=O',\n",
       " 'C=C(C)CCN1C[C@@H]2C(CNC(=O)C[C@@H](C)n3ccc(C)n3)[C@H]2C1',\n",
       " 'C=C(C)CCC(=O)NC1CCN(CCOCC(F)(F)F)CC1',\n",
       " 'C=CCCNCCNC(=O)[C@H](CCC(C)C)NC(C)=O',\n",
       " 'C#CCCCC(=O)N(C)CCCN(C)C(=O)[C@H]1CCCC[C@@H]1C1CC1',\n",
       " 'C=CCCN(C)C(=S)Nc1c(C)cc(C)cc1Cl',\n",
       " 'C=C[C@@H]1OCC[C@H]1C(=O)NC[C@@]1(C)CN(CCS(C)(=O)=O)CCO1',\n",
       " 'Cc1ccc(S(=O)(=O)n2cc(CN3CCNC(=O)C3(C)C)c3cc(C#N)ccc32)cc1',\n",
       " 'C=C(C)[C@@H](Cc1nc(-c2ccc(N3CCC(C(N)=O)CC3)cc2)no1)OCC',\n",
       " 'Cc1cc(C(=O)N[C@H]2[C@@H]3CN(C(=O)[C@H](C)C#N)C[C@@H]32)nn1C(C)(C)C',\n",
       " 'C=C(C)[C@@H]1OCC[C@H]1CNC(=O)Nc1ccccc1N(C)C',\n",
       " 'C#C[C@@H](OC(=O)[C@H]1CCCN(c2nc3ccccc3s2)C1)C1CC1',\n",
       " 'COc1cccc(N2CC[C@H](N[C@H]3CC[C@H](C#N)C3)C2)c1',\n",
       " 'C#CCN1CCC(C(=O)N2[C@H]3CC[C@@H]2C[C@H]3NC(=O)c2ccncn2)CC1',\n",
       " 'C=C(C)Cn1c(-c2cc(O)nc(Cl)c2)nnc1N1CC[C@](F)(C#N)C1',\n",
       " 'C=C(C)CC(C)(C)C(=O)NC[C@@]12CCCO[C@@H]1CCN(C(=O)c1ccc(OC)c(Cl)c1)C2',\n",
       " 'C=C[C@@](C)(O)CC(=O)NCC1(O)CN(C(=O)c2occc2Cl)C1',\n",
       " 'Cc1cc(C#N)nc(N2C[C@@H](NC(=O)C3(F)CCCC3)[C@H](C)C2)n1',\n",
       " 'C[C@H](C(=O)N1CCC[C@@]2(CCN(CC#N)C2)C1)c1cnn(C)c1',\n",
       " 'C#CCCN1CCC(F)(F)[C@@H](CNC(=O)c2cccnn2)C1',\n",
       " 'N#Cc1cccc(Cc2cc(F)ccc2N)c1',\n",
       " 'Cn1c(=O)nc(O)c2cc(S(=O)(=O)N3CCN(c4oc(C5CC5)nc4C#N)CC3)cnc21',\n",
       " 'Cc1ccc(CN[C@@H]2CN(C(=O)[C@H](C)C#N)CC2(C)C)c(Cl)c1',\n",
       " 'C=C1CCC(C(=O)N[C@@H]2CCCN([C@@H](C)c3csnn3)C2)CC1',\n",
       " 'CC(C)[C@](C)(C#N)NC(=O)COC(=O)CC[C@@H](O)c1ccc(C(C)(C)C)cc1',\n",
       " 'CC(C)CNC(=O)C1CCN(c2nnc(-c3cccc(C#N)c3)n2CC(C)C)CC1',\n",
       " 'CN(C)C(=O)C[C@@H](NC(=O)N[C@H]1CCCc2cc(C#N)ccc21)c1ccccc1',\n",
       " 'C#CCNCCN(CCc1ccccc1)C(=O)[C@@H](C)[C@@H](C)CC',\n",
       " 'N#CCCn1cc(CNC2CCC3(CC2)NC(=O)NC3=O)c(-c2ccccc2)n1',\n",
       " 'Cc1ccccc1C(=O)OCCNc1ncccc1C#N',\n",
       " 'CCOC(=O)c1cnc(NN=C2CC(c3cccc(Cl)c3)C2)nc1C',\n",
       " 'C=C(C)CCNCCCC[C@@H](C)NC(=O)Cc1c(C)nn(C)c1C',\n",
       " 'COCn1nccc1S(=O)(=O)Oc1ccc(-c2ccc(C#N)cc2)cc1',\n",
       " 'CCN(Cc1cccs1)c1nnc(-c2ccc(C#N)cc2)n1C[C@@H]1CCC[C@@H](O)C1',\n",
       " 'Cn1cncc1C[C@H](N)C(=O)N1CCC[C@H](C#N)C1',\n",
       " 'C=CCN1CCC2(CCN(C(=O)c3ccnc(Cl)c3F)CC2)C1=O',\n",
       " 'CC(C)(C)c1csc(CN2C[C@H](O)[C@H](NC(=O)CSCC#N)C2)n1',\n",
       " 'C=CCn1c(CSc2ccc(C)cc2)nnc1N1CCCC1(C)C',\n",
       " 'C#CCN1CCC[C@@]2(CCN(C(=O)Cn3cnnn3)C2)C1',\n",
       " 'N#Cc1c[nH]c(C(=O)N[C@@H]2CCc3nc(NC(=O)c4cc(Br)ncc4F)sc3C2)c1',\n",
       " 'CC#CCCCC(=O)NC[C@H]1CCCCN1C(=O)CCC1(C)CC1',\n",
       " 'Cc1cn(-c2ccc(C#N)cn2)nc1NC(=O)N1CCC(Cc2cccc(F)c2)CC1',\n",
       " 'O=S1(=O)CCC[C@H](C/N=C(/O)N2CCC(CN3CCOCC3)CC2)C1',\n",
       " 'C=C[C@@H](CC)CC(=O)N1CC(O)(CNC(=O)c2cc[nH]c2C)C1',\n",
       " 'CN1CC[C@@H](NC(=O)C(=O)NCc2cccc(-c3ccc(C#N)s3)c2)[C@@H]1c1ccccc1',\n",
       " 'C=CC[C@@H]1N(c2nnc(-c3nnc(C)n3C3CC3)n2CCOC)CCCC1(C)C',\n",
       " 'C#CCCN1CCC[C@@H](NC(=O)C2=COCCO2)C1',\n",
       " 'COCCN(CCC#N)c1nnc([C@@H]2CCO[C@H]2C(C)(C)C)n1C[C@H]1CCN(S(C)(=O)=O)C1',\n",
       " 'C[C@H](C#N)OC(=O)c1ccccc1Nc1cccc(C(F)(F)F)c1',\n",
       " 'CCC(C#N)(CC)C(=O)N1CC[C@@H]2CCN[C@H]2C1',\n",
       " 'CO[C@@H]1CN(Cc2ccc(Cl)cc2C)C[C@H]1NC(=O)C#CC1CC1',\n",
       " 'COc1c(C)cc(C(=O)N[C@@H]2[C@H]3COC[C@@H]2CN(C(=O)C2(C#N)CCC2)C3)cc1C',\n",
       " 'C=CCOc1cccc(NC(=O)C(C)(C)C)c1',\n",
       " 'N#Cc1ccc(N2CCC[C@H]2C(=O)OCC(=O)Nc2ccccc2Cc2ccccc2)cc1',\n",
       " 'CC[C@@H]1[C@@H](NC(=O)C2[C@@H]3CCC[C@@H]23)CCN1c1nc(C)ccc1C#N',\n",
       " 'C#CCCN[C@@H]1CCN(C(=O)c2cc[nH]c2)C1',\n",
       " 'C=CCCCC(=O)N[C@@H]1CCN(C(=O)[C@@H]2OC[C@@H]3COCC[C@@H]32)CC1(C)C',\n",
       " 'C[C@H](CC(=O)N1C[C@H](NCc2ccccc2C#N)C(C)(C)C1)C1CC1',\n",
       " 'O=C(NCC#Cc1ccccc1)N[C@@H]1CCO[C@@H]1c1ccc(Cl)c(F)c1',\n",
       " 'CC(C)(CCC#N)CNC(=S)NCc1cccc(C(F)(F)F)c1',\n",
       " 'C#CCN(CC#N)CC(=O)Nc1nc(-c2ccc(F)cc2)cs1',\n",
       " 'C=C[C@@H](CC)CC(=O)N[C@]12CCC[C@H]1CN(CCOCCNC(C)=O)C2',\n",
       " 'N#C[C@@]1(NC(=O)c2oc3ccccc3c2CSc2ccccc2F)CCSC1',\n",
       " 'CCOCCCNC(=O)[C@H](C)N(C)CC#N',\n",
       " 'CCOc1cccc(CCn2c(-c3ccc(C)o3)nnc2N(C)[C@H](C)CC#N)c1',\n",
       " 'C[C@H](C#N)CN(C)c1nnc(-c2cc(C3CC3)[nH]n2)n1C',\n",
       " 'C#CCCN1CCC(CNC(=O)[C@H]2CC[C@H](C(F)(F)F)C2)CC1',\n",
       " 'C#CC[C@@H](CCOC)N[C@@H](C(=O)O)C1CC1',\n",
       " 'O=C(NC[C@H]1CN(C(=O)C#CC2CC2)CCCO1)c1ccccn1',\n",
       " 'Cc1nn(C)cc1C(=O)N[C@H]1CCCN(c2cncc(C#N)n2)[C@H]1C',\n",
       " 'Cc1ccc(CC(=O)NC[C@@H]2CCN(C(=O)/C=N/O[C@H]3CCCCO3)[C@H]2c2cccnc2)cc1',\n",
       " 'C#CCN1CCN([C@H](C)CCc2ccc(Cl)c(Cl)c2)CC1',\n",
       " 'N#C[C@@H](COC(=O)CCSCc1nc(O)c2ccccc2n1)Cc1ccc(F)cc1',\n",
       " 'CC#CCCCC(=O)Nc1ccccc1O[C@H]1CCOC1',\n",
       " 'C[C@@H]1CC[C@@H](C)[C@H](NCC2(C#N)CC2)C1',\n",
       " 'C=C1CC(C)(C(=O)N2C[C@@H](NC(=O)[C@@H]3CCO[C@H]3c3ccncc3)[C@H](C)C2)C1',\n",
       " 'Cc1ncn(C)c1C(=O)N1CC[C@@H](Nc2nccnc2C#N)[C@H]1C',\n",
       " 'C#C[C@H](NC(=O)NCc1ccc(OC(C)(C)C)cc1)C(C)C',\n",
       " 'C#CCO[C@H](C)C(=O)N1CCC(OC2CCN(C(=O)[C@@H](C)COC)CC2)CC1',\n",
       " 'CON=Cc1ccc(C(=O)N2CCC(Cc3cccnc3)CC2)cc1',\n",
       " 'CCN(C[C@H](C)C#N)S(=O)(=O)N1CCSC[C@H]1CO',\n",
       " 'CC(C)O[C@H]1CC(=NNC(=S)NCCc2ccccn2)C1(C)C',\n",
       " 'C=CCc1ccc(OCC(=O)Nc2ccc(=O)n(CCN(C)C)c2)c(OC)c1',\n",
       " 'COCCC(=O)N[C@H]1CN(C(=O)CSCC#N)C[C@H]1C',\n",
       " 'CC(C)(CC(=O)N1C[C@H]2CN(CC#N)C[C@@]2(C)C1)CC(F)F',\n",
       " 'CC[C@@H](C)[C@@H](C(=O)NO)c1ccccc1',\n",
       " 'CC[C@H](C)[C@](C)(O)CNC(=O)Nc1ccc(OC)c(C#N)c1',\n",
       " 'C#C[C@@H](C)N(C)Cc1cc(Cl)c(F)cc1O',\n",
       " 'O=C(NO)c1ccc(CNC(=O)c2cnn(-c3ccc(Cl)cc3Cl)c2)cc1',\n",
       " 'Cc1nn(C)cc1[C@H]1CCCN1CC#Cc1cccc(Cl)c1',\n",
       " 'CCCCCCCOC(=O)c1cc(-c2ccc(C)cc2)nc2ccc(C)cc12',\n",
       " 'CC1(C)CCCN(C(=O)/C=C/c2ccc([N+](=O)[O-])cc2)[C@H]1C#N',\n",
       " 'N#CCC(=O)N1CCN(C(=O)[C@H]2CO[C@H](CCC(=O)O)C2)CC1',\n",
       " 'N#Cc1nccc(N[C@@]2(CO)CCCN(C(=O)C[C@@H]3C[C@H]3C3CC3)C2)n1',\n",
       " 'C=C(C)CN[C@@H]1C[C@H]2CC[C@H]1N(C(=O)C(C)(C)COC)C2',\n",
       " 'C=C(C)CNC[C@@H]1OCC[C@@H]1c1n[nH]c(CNC(=O)CC[C@H](C)CC)n1',\n",
       " 'C[C@@H]1OCC[C@@]12CN(C(=O)c1c[nH]c(C#N)c1)CCO2',\n",
       " 'C=CCNC(=O)NC(=O)[C@@H](C)OC(=O)C(C)(C)Oc1cccc(Cl)c1',\n",
       " 'C=CCN(CCc1ccco1)C(=O)N[C@@H](C)[C@@H](OC)c1ccccc1F',\n",
       " 'Cn1cc(CNCc2ccccc2CN2CCN(c3ccccc3)CC2)cc1C#N',\n",
       " 'N#Cc1ccc2nc(CN3[C@H](C(F)(F)F)CCC[C@@H]3CO)cn2c1',\n",
       " 'N#Cc1cnc(NCCNC(=O)CCCn2c(O)nnc2O)c(F)c1',\n",
       " 'Cc1ccc(F)c(O[C@@H](C)c2ccccc2C#N)c1',\n",
       " 'C=CC[C@@H](NC(=O)N1CCCC[C@H]1c1cccc(C)c1C)c1ccncc1',\n",
       " 'C[C@H](CC(N)=O)C(=O)N1CC[C@H]2CO[C@@H](CNC(=O)c3ccc(C#N)nc3C(F)(F)F)[C@H]2C1',\n",
       " 'COc1cc(C(C)=NOc2ccccc2C(F)(F)F)ccc1S(C)(=O)=O',\n",
       " 'C[C@@H](C#N)COC(=O)c1cccc(NS(=O)(=O)c2ccc3c(c2)OCCO3)c1',\n",
       " 'CCC[C@@](C)(O)CNC(=O)CC[C@@H]1NC(=O)N(c2ccc(C#N)cc2)C1=O',\n",
       " 'C[C@@H]1C[C@H](CNC(=O)CN(C)S(=O)(=O)c2ccc(C#N)cc2)CCO1',\n",
       " 'COc1ccc(C(C)(C)CC(=O)N[C@@H](C#N)CC(C)C)cc1',\n",
       " 'CCN(CCn1c(Cn2nc(C)cc2C)nnc1N1CCO[C@@H](C#N)C1)C1CC1',\n",
       " 'CC#CCN1C[C@H]2CN(C(=O)CN3C(=O)CCC3=O)C[C@H]2C1',\n",
       " 'Cc1cc(Nc2ccc(C#N)cc2N)n(-c2ccc(Br)cc2)n1',\n",
       " 'C=CCOCC(=O)N1C[C@H]2[C@@H](Nc3ccc(C#N)cn3)CC[C@H]2C1',\n",
       " 'CC(C)(C)c1cnc([C@@H](C#N)C(=O)CNC(=O)c2ccc(Oc3ccccc3)cc2)s1',\n",
       " 'C=CCN(C(=O)Nc1cc(C)cc([N+](=O)[O-])c1)[C@H](C)COC',\n",
       " 'COC[C@H](C#N)OC(=O)C1(c2cccs2)CCCCC1',\n",
       " 'COc1ccc(C(=O)NC[C@H](N=c2cc[nH]cc2C#N)C2CC2)o1',\n",
       " 'CN(C(=O)C[C@H]1CC=CCC1)[C@H]1CCN(c2ccncc2C#N)C1',\n",
       " 'C#Cc1cncc(C(=O)NC[C@H]2C[C@@H](NC(=O)c3ccc(C#N)[nH]3)C2)c1',\n",
       " 'Cc1cc(CC#N)ccc1-c1ccnc(OC2CC2)c1',\n",
       " 'CN(Cc1ccc(C#N)cc1)c1nnc([C@H]2CN(S(C)(=O)=O)CCO2)n1C[C@@H]1CCCC1(C)C',\n",
       " 'Cc1ccc(-c2ccc(C)c(NC(=O)N[C@@H](C)c3ccc(C#N)cc3)c2)o1',\n",
       " 'CO[C@H]1c2ccccc2C[C@H]1Nc1nc(C(C)(C)C)ccc1C#N',\n",
       " 'Cc1csc(NC(=O)N2CCC[C@H]2C[C@@H]2C[C@H]3CC[C@H]2C3)c1C#N',\n",
       " 'CC(C)(C)OC(=O)N[C@@H](CCCC#N)C(=O)N[C@H]1CC[C@@H](CO)CC1',\n",
       " 'C=CCN1CC[C@@H](N(C)C(=O)C(=O)Nc2cccc(O[C@H](C)CC)c2)C1=O',\n",
       " 'C=CC[C@@H](Cc1ccccc1)NC(=O)[C@]1(C(=O)O)C[C@H]1C',\n",
       " 'COc1cccc(N2C(=O)/C(=C/c3ccc(C(C)C)cc3)N=C2SCCCCC#N)c1',\n",
       " 'C[C@]1(C(=O)N2CCO[C@]3(CCN(C(=O)c4n[nH]c5ccc(C#N)cc45)C3)C2)CCCN1',\n",
       " 'C#CC[C@H](CO)Nc1ncnc2cccc(F)c12',\n",
       " 'C#CCOCCC(=O)N1CC[C@H](CCNC(=O)C2(C)CCCC2)C1',\n",
       " 'C#CC[C@H](NC(=O)OC(C)(C)C)C(=O)N1[C@H]2CC[C@@H]1C[C@H](NC(=O)c1ccc3cnccc3n1)C2',\n",
       " 'C[C@@H](CC(=O)NC[C@@H](N=c1cc[nH]cc1C#N)C1CC1)n1ccnc1',\n",
       " 'C[C@@H]1CN(C(=O)CN2C(=O)CN(C)C2=O)C[C@H]1Nc1nccnc1C#N',\n",
       " 'C=C1CC(C(=O)N[C@@H]2CCc3nc(NC(=O)[C@@]4(F)CCN(C(=O)OC(C)(C)C)C4)sc3C2)C1',\n",
       " 'N#Cc1ccc(-c2nnc(CN[C@]3(CO)CCCc4ccccc43)o2)cc1',\n",
       " 'O=C1NC2(CCCCC2)C(=O)N1N=Cc1cnn(-c2ccc(F)cc2)c1',\n",
       " 'C[C@@H]1CN(C(=O)c2cnc(C(F)(F)F)c(C#N)c2)CC2(CCC2)O1',\n",
       " 'Cc1ccc(S(=O)(=O)NCCn2c([C@@H]3CCC(=O)N3)nnc2N2CC[C@@](F)(C#N)C2)s1',\n",
       " 'C[C@@H](/N=C(/O)N1C[C@@H](CO)[C@H](c2cnn(C)c2)C1)C1CCCC1',\n",
       " 'C=C1CC(C)(C(=O)N2CC(N(C)C(=O)c3cnn(C)c3C)C2)C1',\n",
       " 'CC(C)(C)CC(=O)N1CC[C@H](CCNc2cnc(C#N)cn2)C1',\n",
       " 'C#CCCN1CC[C@@H](NC(=O)CCN2CCCC2=O)C1',\n",
       " 'Cc1nc(CNC(=O)[C@H]2CC23CN(C(=O)c2cc(C#N)ccn2)C3)no1',\n",
       " 'C=CCn1c([C@@H]2CC=NO2)nnc1N1Cc2cccc(Br)c2C1',\n",
       " 'C=C[C@@H]1OCC[C@H]1C(=O)NC1CC(CNCc2cnn(CC)n2)C1',\n",
       " 'COc1ccc(NC(=O)[C@H](C#N)C(=O)[C@H](C)Oc2ccccc2Cc2ccccc2)cc1OC',\n",
       " 'N#Cc1ccc(C[C@@H](C#N)C(=O)N2CC[C@H](COc3ccccc3)C2)cc1',\n",
       " 'CSc1cc(C)cc(CN2CCC[C@H](C#N)CC2)c1',\n",
       " 'COC[C@@H](C)NC(=O)C(C#N)=c1sc(=Cc2cccs2)c(=O)n1-c1ccc(C)cc1C',\n",
       " 'CNC(=O)NCC(=O)N[C@](C)(CN=c1cc[nH]cc1C#N)C1CC1',\n",
       " 'CN(C)CCCn1c(SC[C@H](C#N)CCC#N)nc2sc3c(c2c1=O)CCCC3',\n",
       " 'C=CCn1cccc1C(=O)N1CC[C@H](CNC[C@H]2CC(C)(C)CO2)C1',\n",
       " 'CCN(CC(=O)Nc1ccc(NC(=O)c2cccs2)cc1)[C@@H](C)c1ccc(C#N)cc1',\n",
       " 'COCOc1cccc(-c2ncc(C)nc2C#N)c1',\n",
       " 'C#CCN(CC#CC)C(=O)C(=O)c1ccc(Cl)s1',\n",
       " 'CC(C)OCCCn1c(NN=Cc2cnc(C3CC3)s2)nc2ccccc2c1=O',\n",
       " 'Cc1csc(NC(=O)c2cc(Cl)ncc2Cl)c1C#N',\n",
       " 'C=CCN(Cc1ccc(OC)cc1)Cn1nc(-c2ccncc2)n(-c2ccccc2C)c1=S',\n",
       " 'C[C@H](C#N)CN(C)c1nnc(Cc2ccccc2F)n1Cc1ccnc(-n2cccn2)c1',\n",
       " 'C#CC1CCN(S(=O)(=O)c2cc(C(=O)O)c(F)cc2Br)CC1',\n",
       " 'COc1cc(C(=O)N[C@H]2C[C@H]3CC[C@@H]2N3CC#N)cc(C)n1',\n",
       " 'C=CCCN1C[C@H]2CC[C@H]1CN2C(=O)c1ccc(C2CC2)s1',\n",
       " 'C=CCn1c(CN2CCC(O)CC2)nnc1N1CCC[C@H]1C(=O)N(C)C',\n",
       " 'CCCCCCCCC(=O)NC1(c2ncon2)CCOCC1',\n",
       " 'CCCNC(=O)C1CCN(c2nnc(COc3ccc(C#N)cc3)n2C[C@@]2(O)CCSC2)CC1',\n",
       " 'CC(C)(C)[C@H]1C[C@H](NS(=O)(=O)c2cc(Br)c(C#N)cc2F)CCO1',\n",
       " 'Cc1cccc(CNC(=O)[C@H](C#N)C(=O)[C@H]2CC(=O)N(c3cccc4ccccc34)C2)c1',\n",
       " 'C=CCCCCCC[C@H](O)CNC1(Cc2ccccc2OC)CCOCC1',\n",
       " 'COc1cc(Br)cc(NC(=O)C(=O)N2CCC(CCC#N)CC2)c1',\n",
       " 'C[C@H](C#N)C(=O)N[C@H](Cc1ccccc1)c1nc(O)n[nH]1',\n",
       " 'CC1(C)CS/C(=N/Cc2ccccc2)N1C(=O)CN1C(=O)c2ccccc2C1=O',\n",
       " 'CCOc1c(Cl)cc(/C=C/C(=O)c2cccc(C(=O)O)c2)cc1OC',\n",
       " 'C#CCN(CC#CC)C(=O)N[C@@H]1CCCC12CCOCC2',\n",
       " 'N#Cc1ccc(F)cc1CN1CC[C@@H]2CN(C(=O)CCn3cncn3)[C@@H]2C1',\n",
       " 'C=CCn1c([C@H](OC)C2CCCCC2)nnc1N1CCO[C@@]2(CCO[C@@H]2C)C1',\n",
       " 'C=CCC(CC=C)C(=O)N1CCO[C@@]2(CCN(C(=O)c3ccc(C)nc3O)C2)C1',\n",
       " 'C#CCN1CCC(C(=O)NCCNCC[C@@H]2CCC[C@@H](C)C2)CC1',\n",
       " 'C[C@@H]1[C@@H](NC(=O)CCc2ncc[nH]2)CCN1c1cncc(C#N)n1',\n",
       " 'Cc1nccn1CC(=O)N1C[C@H]2CCN(c3cccc(F)c3C#N)C[C@H]2C1',\n",
       " 'N#Cc1ccc(CC(=O)N2CCCC[C@@H]2c2cc(NC(=O)c3cccc4c3OCC4)n[nH]2)cc1',\n",
       " 'C=CCOCCCC(=O)N1CCCC[C@H]1C1CCN(C(=O)C2=NO[C@H](c3ccccc3)C2)CC1',\n",
       " 'C=C1CC(c2noc(C[C@H](NC(=O)OC(C)(C)C)C(C)(C)C)n2)C1',\n",
       " 'N#Cc1ccc(F)c(C(=O)N2CC[C@@]3(CN(C(=O)c4ccc5c(n4)NC(=O)CC5)CCO3)C2)c1',\n",
       " 'C[C@@H]1CN(c2cccc(F)c2)CCN1Cc1cnc2c(C#N)cnn2c1',\n",
       " 'C#CCNC(=O)CNCC1(CCNC(=O)[C@]2(C)C=CCC2)CC1',\n",
       " 'C[C@@H](C(=O)N1CCN(C(=O)OC(C)(C)C)C(C)(C)C1)n1cnc(C#N)n1',\n",
       " 'CCn1ncn(N=Cc2ccc(-c3ccc([N+](=O)[O-])cc3)s2)c1=O',\n",
       " 'Cc1ccc(NN=Cc2cc3c(cc2[N+](=O)[O-])OCCO3)cc1Cl',\n",
       " 'C=C[C@](C)(CC)C(=O)N[C@@H]1CCCN(C(=O)CCOC)CC1',\n",
       " 'CCCCCOc1ccc(-c2ncc(C#N)cc2OC)cc1',\n",
       " 'C=CCOCCCC(=O)N1CC[C@H]2CN(c3nc4ccccc4o3)C[C@H]21',\n",
       " 'COc1ccc([C@H](NC(=O)[C@@H](N)CCCC#N)C(F)(F)F)cc1',\n",
       " 'C=C(C)CCNCCNC(=O)[C@](C)(F)CCCC',\n",
       " 'C#C[C@H](NC(=O)[C@@H]1COc2ccccc2C1)[C@@H]1CCCO1',\n",
       " 'C=CCNC(=O)CN[C@@H]1CN(C(=O)C[C@@H](C)SC)C[C@H]1C',\n",
       " 'C=C(Cl)C(C)(C)C(=O)N[C@@H]1CN(CCC2CC2)C[C@@H]1O',\n",
       " 'C=C(C)C[C@@H](C)C(=O)N1CC[C@@]2(CCCN(C(=O)c3cc[nH]c3)C2)C1',\n",
       " 'Cc1nc2ccccc2n1CCNC(=O)Nc1ccccc1SC[C@@H](C)C#N',\n",
       " 'N#Cc1cc(C#N)c(N[C@H]2CCC[C@@H](c3ccccc3)C2)nc1Cl',\n",
       " 'CC(C)(C)OC(=O)N1C[C@H]2CN(Cc3ccc(C#N)c(Br)c3)C[C@H]21',\n",
       " 'C=C[C@H]1CCCCN1C(=O)C(=O)N(C)Cc1cccc(C(N)=O)c1',\n",
       " 'C#CCOc1cc(F)ccc1NC(=O)NCc1ccccc1OCC(F)(F)F',\n",
       " 'C#Cc1cccc(NC(=S)NC[C@H]2CN(C)CCN2C)c1',\n",
       " 'CC[C@@H](NCC1(C#N)CC1)c1cnn(C)c1',\n",
       " 'C[C@@H]1CCN(c2ccc(C#N)nn2)C[C@@H]1NC(=O)c1ccccc1F',\n",
       " 'N#Cc1c(-c2cccnc2C2CC2)ncc2c1CCC2',\n",
       " 'CCC1(C(=O)N[C@@H](C#N)c2cccc(Br)c2)CCCCC1',\n",
       " 'CCC[C@@H](C(=O)N1CCC[C@H](N2CCN(CC#N)CC2=O)C1)C(C)C',\n",
       " 'C=C1CC(C)(C(=O)N2CC(CNC(=O)[C@H]3C[C@H]3C3CCCC3)C2)C1',\n",
       " 'N#Cc1cn[nH]c1NC(=O)c1c(F)cncc1F',\n",
       " 'CC(C)(C#N)c1ccc(NS(=O)(=O)c2nc3nc(Cl)ccn3n2)cn1',\n",
       " 'Cc1noc(C)c1C(=O)NC[C@H]1CC[C@H](NC(=O)C#CC(C)C)CC1',\n",
       " 'COc1cc([C@@H]2NC(=O)N(CC3CC3)C(C)=C2C(=O)OCC(C)C)ccc1OCC#N',\n",
       " 'CC(C)C#CC(=O)NC[C@H]1[C@@H]2CN(C(=O)[C@@]3(C)C=CCC3)C[C@H]12',\n",
       " 'N#Cc1ccc(C(=O)Nc2ccc3nc(O)[nH]c3c2)nc1',\n",
       " 'C=CCCCN1CC2CC1(C(=O)O)C2',\n",
       " 'N#Cc1ccc(N2CCc3c(Cl)ccc(Br)c3C2)nn1',\n",
       " 'C/C(=C/C(=O)NC1(C#N)CCN(C)CC1)c1cccc(Cl)c1',\n",
       " 'C#CCC[C@@H](O)CNC(=O)Nc1ccn(-c2ccccc2C(F)(F)F)n1',\n",
       " 'C#C[C@H](C)N(C)C(=O)c1ccc(C(=O)OC)o1',\n",
       " 'C=C(C(=O)N1CC[C@H](CNC(=O)c2ccnc(Cl)n2)[C@@H]1c1cccnc1)C(F)(F)F',\n",
       " 'N#Cc1ccc(S(=O)(=O)NC[C@@H]2CCC[C@@H](C(F)(F)F)C2)cc1F',\n",
       " 'CC[C@H](C(=O)N1CCOC[C@@]2(CN(C(=O)Cc3ccc(OC)cc3C#N)CCO2)C1)c1ccccc1',\n",
       " 'C=CC[C@@H](C(=O)O[C@H](C)C(=O)Nc1ccccc1C)c1ccccc1',\n",
       " 'C#CCC1(C(=O)NCCN(C)c2nccn3nnnc23)CCC1',\n",
       " 'CC[C@H](CNC(=O)C1(C)C[C@H]2C[C@@H]2C1)Nc1cnc(C#N)cn1',\n",
       " 'C#CCNC[C@H]1CCN(C(=O)c2cnc3ccc(OC)nn23)C[C@H]1C',\n",
       " 'C=C[C@@H](CCC)OCc1ccc2ocnc2c1',\n",
       " 'C=C(C)Cn1c([C@@H]2CCNC(=O)C2)nnc1N(C)Cc1c(F)cccc1Cl',\n",
       " 'N#C[C@@H]1COCCN1C(=O)c1ccccc1-c1cccc(Cl)c1',\n",
       " 'CO[C@](C)(C(=O)OC[C@H](C#N)Cc1cccc(Br)c1)c1ccccc1F',\n",
       " 'N#CCc1ccc(-c2nc([C@@H]3CCCOC3)no2)cc1',\n",
       " 'CC[C@](C)(CCCNC(=O)Cc1ccc(OCC#N)cc1)C1OCCO1',\n",
       " 'COCCN(Cc1ccco1)c1nnc(-c2ccc(C#N)cc2)n1CC1(SC)CCOCC1',\n",
       " 'O=C(O)c1ccc(/N=C\\\\c2ccccc2O)cc1',\n",
       " 'C[C@@H](OC(=O)C1CCN(c2ccc(C#N)cc2F)CC1)C(=O)NC(N)=O',\n",
       " 'C[C@@H]1[C@@H](NC(=O)CSCC#N)CCN1C(=O)c1cnsn1',\n",
       " 'CCCO[C@@H]1CCCN(C(=O)N[C@H]2CCCN(c3ccc(C#N)cc3F)C2)CC1',\n",
       " 'C=C(Cl)CNC[C@H](C)N(C)C(=O)c1cc(Cl)ccc1OC',\n",
       " 'CCc1ccc(NC(=O)c2nnc(CNC3(c4cccc(C#N)c4)CC3)s2)cc1',\n",
       " 'N#Cc1cc(NC[C@@H](c2cnc(C(F)(F)F)nc2)N2CCOCC2)c2cc[nH]c2c1',\n",
       " 'C[C@@H]1C[C@H](N(C)C(=O)C(=O)Nc2ccc(Oc3ccc(C#N)cc3)nc2)CCN1C',\n",
       " 'C#C[C@@](C)(CC)Nc1cc(C)nc(-c2cccc([N+](=O)[O-])c2)n1',\n",
       " 'C=CCN1C[C@@H]2CCCN(C(=O)c3cccc4nc(O)oc34)[C@@H]2C1',\n",
       " 'Cc1nnc(N2CC[C@@](F)(C#N)C2)n1CC(C)(C)c1cccc(F)c1',\n",
       " 'C=C(C)[C@H]1OCC[C@@H]1CNC(=O)c1csc(S(C)(=O)=O)c1',\n",
       " 'Cc1cc(C(=O)N[C@@H]2C[C@@H](NCC(=O)NCC#N)C23CCC3)on1',\n",
       " 'Cc1cc(NC(=O)N[C@@H]2CC[C@H](C#N)C2)ccc1N(C)C',\n",
       " 'CCCN1CC[C@@H](CNC(=O)C(=O)NCC#Cc2ccccc2)C1',\n",
       " 'C=CC(C)(C)C(=O)N1CC2(C[C@H](NC(=O)CCn3cnnn3)CO2)C1',\n",
       " 'C#CCN(C(=O)C(=O)NCc1cccc([N+](=O)[O-])c1)C(C)C',\n",
       " 'CCc1ccccc1-c1noc(-c2ccc(S(=O)(=O)CCCC#N)cc2)n1',\n",
       " 'Cc1ccc(C#N)cc1-c1nc(-c2cccc(C(F)(F)F)c2Cl)no1',\n",
       " 'COC[C@H](C)OC[C@@H](C)Oc1ccc2ccc(C#N)cc2n1',\n",
       " 'Cc1noc(C)c1-c1ccc(OC(=O)[C@@]2(C#N)CC23CCCC3)cc1',\n",
       " 'C=C[C@@](C)(CC)C(=O)N[C@@H]1CN(C/C=C/Cl)C[C@@H]1n1ccnn1',\n",
       " 'C[C@@H]1C(=O)N(N=Cc2nc3cc(C(F)(F)F)ccc3n2C)C(=O)N1C',\n",
       " 'C=C[C@H](O)C(C)(C)C(=O)N1CCC(N2CCC(NC(=O)c3cc(-n4ccnc4)ccn3)CC2)CC1',\n",
       " 'CCN(C(=O)C1=COCCO1)[C@H]1CCN(C(=O)c2c[nH]c(C#N)c2)C1',\n",
       " 'C=CCn1cccc1C(=O)NC1(CNc2cc(F)ncn2)CCCC1',\n",
       " 'C[C@@H]1CCCN(CCn2c(-c3cccc(C#N)c3)nnc2N(C)CC(F)(F)F)C1',\n",
       " 'C=CCCCC(=O)N1CC[C@H]2OCCN(Cc3cnc(C)nc3)[C@H]2C1',\n",
       " 'Cc1cc(C#N)nc(N[C@@H]2CC[C@H](CNC(=O)c3snnc3C)C2)n1',\n",
       " 'N#Cc1nccnc1NC[C@H]1CCN(C(=O)c2[nH]ccc2C2CC2)C1',\n",
       " 'C=C(C)CN[C@@H]1CN(C(=O)[C@H](C)OCc2cccc(C)c2)C[C@H]1C',\n",
       " 'CN(C)C1(C(=O)N2CCO[C@H](CN=c3cc[nH]cc3C#N)C2)CCC1',\n",
       " 'Cc1cc(O[C@@H](C)C(=O)N[C@@]2(C#N)CC2(C)C)ccc1C(C)C',\n",
       " 'C=CCN(C(=O)c1cccc2ncnn12)[C@H](C)c1cccc(-n2cnnn2)c1',\n",
       " 'COCC#CCN1CC[C@@H](NC(=O)c2cncc3nc[nH]c23)[C@@H](O)C1',\n",
       " 'CC[C@@H](CC#N)NC(=O)[C@@H]1OC[C@@H]2CCC[C@@H]21',\n",
       " 'C=C(C(=O)N1[C@H]2CC[C@@H]1C[C@H](NC(=O)c1ccc(C)nc1O)C2)C(F)(F)F',\n",
       " 'COc1cc(C#N)cc(Br)c1O[C@H]1C[C@H]2C[C@@H](OC(C)=O)[C@@H](C1)N2C',\n",
       " 'CC[C@@]1(C(=O)O[C@H](C)C(=O)NC2(C#N)CCC2)CCCN1C(=O)OC(C)(C)C',\n",
       " 'COc1cc(C2=CCCCCCC2)ncc1C#N',\n",
       " 'C=C[C@H](O)C(C)(C)C(=O)N1CC[C@H]2CO[C@@H](CNC(=O)[C@@H]3CCC(F)(F)C3)[C@H]2C1',\n",
       " 'Cc1cnn(-c2ccc(NC(=O)N3CCN(c4snc(C)c4C#N)CC3)cc2F)c1',\n",
       " 'CC[C@@H](Cn1c(-c2ccc(F)cc2Br)nnc1N1CCC(C#N)CC1)OC',\n",
       " 'CC(C)c1ccc(Nc2cnn([C@@H]3CCOC3)c2)c(C#N)c1',\n",
       " 'C=CCN(CC=C)C(=O)[C@H](C)N1CCSC2(CCC2)CC1',\n",
       " 'O=C(CCN/C(O)=C1\\\\N=CC=CC1=O)N[C@@H](Cc1ccccc1)CN1CCOCC1',\n",
       " 'CCCCc1nnc(/N=C(\\\\O)c2c[nH]c(C(=O)N3CCCC3)c2)s1',\n",
       " 'CC(=O)N[C@@H](CC(=O)N1CCN(c2ccc(C#N)cc2Cl)CC1)c1c(F)cccc1F',\n",
       " 'CCOC[C@@H]1CCCCN1C(=O)Nc1cc(OC)c(C#N)cc1F',\n",
       " 'Cc1cc(C)n([C@@H](C)C(=O)N[C@H](C)CNc2ccc(C#N)nn2)n1',\n",
       " 'CC(=NNc1ncnc(Cl)c1C(C)C)c1cncc(F)c1',\n",
       " 'CCN(CC)c1ccc(CNC(=O)c2ccc(C#N)cn2)cc1F',\n",
       " 'C=CCN(Cc1cccs1)C(=O)[C@@H]1CCC[C@H]1CC',\n",
       " 'Cn1nccc1[C@@H]1CCCN(C(=O)c2cccc(OCc3ccccc3C#N)c2)C1',\n",
       " 'CCCN(CCNC(=O)[C@H](F)C(C)C)C(=O)c1cc(C#N)c[nH]1',\n",
       " 'C=C1CC(C(=O)N2CCC3(CCCN(C(=O)C4CC(O)C4)C3)CC2)C1',\n",
       " 'C=CCOCC(=O)NC[C@@H]1CN(Cc2ccc(C)cc2)C[C@H]1C',\n",
       " 'COCCCOCCC(=O)N[C@@H]1CCCN(c2ccncc2C#N)C1',\n",
       " 'C=CCC(CC=C)C(=O)N1CC[C@H]2CO[C@@H](CNC(=O)C3CCC4(CC3)OCCO4)[C@H]2C1',\n",
       " 'COC(=O)C[C@H](C)C(=O)Nc1cc(C#N)ccc1OC(C)C',\n",
       " 'CC(=O)N(CC(=O)NC[C@@H](O)CNC(=O)[C@@H](C)C#N)c1ccccc1',\n",
       " 'N#CCC1(CNC(=O)N[C@@H](CO)c2cccc(Cl)c2Cl)CC1',\n",
       " 'C#Cc1ccc(C(=O)NC[C@H]2CCC(C)(C)CN2CCC2CC2)nc1',\n",
       " 'COc1ccc(C(=O)/C=C/c2c(Br)c(C)nn2C)cc1Cn1cccn1',\n",
       " 'Cc1ccc(N2CCC[C@H](/N=C(/O)N3CCn4cccc4[C@@H]3C)C2)nn1',\n",
       " 'CN1CCN(C(=O)C(=O)Nc2cccc(C#N)n2)[C@@H](Cc2ccccc2)C1',\n",
       " 'CC#CCN1CC[C@@]2(NC(=O)c3ncc(OC)cn3)CCC[C@H]12',\n",
       " 'COc1cc(C#N)ccc1C(=O)N(C)[C@H]1C[C@@H](Oc2ccccc2)C1(C)C',\n",
       " 'CC(C)Oc1ccc(NC(=O)C(=O)NC[C@@H](Nc2ccccc2)C(C)C)cc1C#N',\n",
       " 'CC(=O)Nc1nc(C(=O)NC2(CNC(=O)[C@@H](C)C#N)CCC2)cs1',\n",
       " 'Cn1ncc(S(=O)(=O)NCC2(C#N)CC2)c1Br',\n",
       " 'Cc1cnoc1C(=O)N[C@H]1CC[C@@H](C)N(c2ccncc2C#N)C1',\n",
       " 'CCCCCCCCCNC(=S)N1CCC(NC(=O)OC(C)(C)C)(C(=O)OC)CC1',\n",
       " 'C[C@@H]1[C@@H](NC(=O)c2snnc2C2CC2)CCN1c1ccc(C#N)nn1',\n",
       " 'N#CCc1ccccc1S(=O)(=O)N1CCC(Oc2ccc(F)nc2)CC1',\n",
       " 'C=CCCS(=O)(=O)N1CCOc2ccc(Cl)cc21',\n",
       " 'CN(CC(=O)N1CCOCC1)Cc1ccccc1CC#N',\n",
       " 'Cc1ccc(F)c(NC(=S)NN=Cc2cnnn2C)c1',\n",
       " 'CC[C@@H](C)Oc1ccccc1/C=C\\\\C(=O)OCCCC#N',\n",
       " 'CC(C)c1ccccc1NC(=O)Nc1cccc(Br)c1C#N',\n",
       " 'N#C[C@@H](c1ccccc1)N1CCN(C(=O)[C@H]2CCOC3(CCC3)C2)CC1',\n",
       " 'C#CC[C@@H](NC(=O)OC(C)(C)C)C(=O)N1CC[C@H]2CO[C@@H](CNC(=O)c3c(C)cc(C)cc3C)[C@H]2C1',\n",
       " 'C=CCC[C@@H](NC(=O)N1CCO[C@@H](c2ccccc2)C1)c1ccccc1',\n",
       " 'CSc1cccc(N2C[C@@H](C(=O)NS(=O)(=O)c3ccc(C#N)cc3C(F)(F)F)CC2=O)c1',\n",
       " 'C=CCOC[C@@H]1NC(=O)N(C[C@H]2CCN(C)[C@@H]2c2ccc(Cl)c(F)c2)C1=O',\n",
       " 'C[C@H](Oc1ccc(CCC(=O)ON2C(=O)CCC2=O)cc1)c1ccccc1F',\n",
       " 'COCCN(CCC#N)c1nnc(-c2cocn2)n1Cc1cccs1',\n",
       " 'CO/C=C(\\\\C)C(=O)Nc1nc2c(s1)C[C@@H](NC(=O)C#CC(=O)O)CC2',\n",
       " 'C[C@H]1CCn2cc(C(=O)NC[C@H](C)Nc3cncc(C#N)n3)nc2C1',\n",
       " 'C=CCOCCCC(=O)N1CC[C@]2(CCN(C)C2)C1',\n",
       " 'N#Cc1ccc(OCC(=O)OCC(=O)NC2(c3ccc4c(c3)OCCO4)CCCC2)cc1',\n",
       " 'C=C1CCC(C(=O)N[C@@H](C)[C@H](C)NC(=O)C(C)(C)c2cnc[nH]2)CC1',\n",
       " 'CC(C)COC[C@H](O)CNC(=O)c1cccc(Nc2ccc(C#N)cc2)c1',\n",
       " 'C=CCO[C@H](C)C(=O)NCC[C@H](C)NC(=O)c1ccc(CC)cc1',\n",
       " 'C#CCN1CC[C@]2(CCCN2C(=O)Cc2cccnc2OC)C1=O',\n",
       " 'CC1CCC(C#N)(N(C)C(=O)[C@H](C)OC(=O)c2ccc(CN3C[C@H](C)O[C@@H](C)C3)cc2)CC1',\n",
       " 'COCC[C@](C)(C#N)NC(=O)CCNC(=O)c1ccsc1',\n",
       " 'CC#CCCCC(=O)NC[C@H]1CCCS(=O)(=O)C1',\n",
       " 'CCCOc1ccc(C(=O)Nc2cc(F)cc(C#N)c2)c(OC(C)C)c1',\n",
       " 'C=CCCN1CCC(CNC(=O)[C@@H]2C[C@@H]2C)(COC)CC1',\n",
       " 'C=CCN(Cc1cccs1)c1nnc(C2(C#N)CCOCC2)n1CC(=C)C',\n",
       " 'C[C@@H](CO)C1CCN(C(=O)C(=O)Nc2ccccc2SCCC#N)CC1',\n",
       " 'C=CCC(F)(F)C(=O)N(CCO)Cc1ccc(Br)s1',\n",
       " 'C[C@H](CN(C)c1ncccc1C#N)NC(=O)[C@@H](F)C(F)(F)F',\n",
       " 'C#C[C@@H](NC(=O)C(=O)Nc1cc(COC)cc(C(=O)OCC)c1)C(C)(C)C',\n",
       " 'C=C(C)CN(Cc1cnn(C(C)C)c1)C(=O)[C@@H](c1ccccc1)N1CCCCC1=O',\n",
       " 'C=CCn1nnn(CN2CCN(C)C[C@@H]2C(C)C)c1=S',\n",
       " 'C=C[C@H](O)CNCC1CCN(C(=O)c2ccc(F)cc2)CC1',\n",
       " 'CNC(=O)C1(C(=O)N[C@@H](C)CCCNc2ccc(C#N)cn2)CCC1',\n",
       " 'CCN(CC)S(=O)(=O)c1ccc(OC)c(NCc2ccc(N(C)CCC#N)cc2)c1',\n",
       " 'N#CC1(NC(=O)CN2[C@H]3CCC[C@H]2CC3)CCCCC1',\n",
       " 'CN(CCN=c1cc[nH]c(C#N)n1)C(=O)[C@@H]1CCCN(C(N)=O)C1',\n",
       " 'C#CCOCCNC(=O)N1CCO[C@H](c2ccc(F)c(F)c2)C1',\n",
       " 'CC(C)Oc1ccc(NC(=O)[C@H](C)N(C)C)cc1C#N',\n",
       " 'C[C@H](C#N)C(=O)N1C[C@H](n2ccnn2)[C@H](NCc2ccc(F)c(F)c2)C1',\n",
       " 'CC(=O)N1CCN(c2ccc(Nc3ccc(C#N)cn3)cc2)CC1',\n",
       " 'CC(C)CNC(=O)c1ccc(Nc2sc3ccccc3c2C#N)cc1',\n",
       " 'N#Cc1nccc(N2C[C@@H]3CCN(C(=O)[C@@H]4COCCO4)[C@@H]3C2)n1',\n",
       " 'CC(C)(C)OC(=O)NCc1cccc(C(=O)N[C@@H](C#N)C(C)(C)C)c1',\n",
       " 'COc1cc(C#N)cc(C(=O)NC[C@@H]2CCN(C(=O)c3cc(C)cc(Cl)c3)[C@H]2c2cccnc2)c1',\n",
       " 'Cc1cc(=NC2(CNC(=O)c3cnc4n3CCC4)CC2)c(C#N)c[nH]1',\n",
       " 'C#Cc1ccc(C(=O)N2C[C@H]3C(NC(=O)C(F)F)[C@@H]3C2)nc1',\n",
       " 'CC(=NOCC(F)(F)F)c1ccc([N+](=O)[O-])cc1Cl',\n",
       " 'C=CCN(Cc1ccccc1F)C(=O)NC1CCN([C@@H]2CCCC[C@@H]2O)CC1',\n",
       " 'C=C(C)CCN1C[C@@H]2CC[C@H](C1)N2C(=O)[C@@H]1CC2CCC1CC2',\n",
       " 'CCCNC(=O)[C@H]1CCCN(c2nnc(-c3cccc(C#N)c3)n2C[C@@H]2CC(=O)N(CCOC)C2)C1',\n",
       " 'C=CCOCCCC(=O)OC[C@@H]1CN(c2ccccc2)C(=O)O1',\n",
       " 'COCCCNC(=O)CN(C)Cc1ccc(-c2ccccc2C#N)cc1',\n",
       " 'CNC(=O)C[C@@H]1SC(=Nc2ccccc2F)N([C@H]2CCc3c(OC)cccc32)C1=O',\n",
       " 'COc1cc(C(=O)N(C)CCN2CCN(C(=O)[C@H](C)C#N)CC2)on1',\n",
       " 'C=C(C)CCC(=O)N1[C@H]2CC[C@H]1CN(C(=O)[C@@H]1C[C@@H]1C(=O)O)C2',\n",
       " 'N#Cc1cncc(N[C@@H]2CCC[C@H](NC(=O)C3(C(F)F)CC3)C2)n1',\n",
       " 'C[C@@H](C#N)C(=O)N1CC[C@@H]1CNC(=O)CCCc1nc(C2CC2)no1',\n",
       " 'CC(C)CN(CCC#N)C(=O)Cc1cc(Br)ccc1Cl',\n",
       " 'C=C(C)CN[C@H](C)c1ccc(N2CCCCC2=O)cc1',\n",
       " 'C=CCCC(=O)N1C[C@H]2C[C@@H](NC(=O)Cn3nccn3)C[C@H]1C2',\n",
       " 'N#Cc1cnc2ccccc2c1N1CCN(C(=O)Nc2cc(F)cc(S(N)(=O)=O)c2)CC1',\n",
       " 'C=CCOCCCC(=O)N[C@@H]1CCN(C(=O)c2ccccc2)C[C@@H]1C',\n",
       " 'CC#CCN1C[C@H]2[C@H](NC(=O)[C@H](NC(C)=O)C(C)C)[C@H]2C1',\n",
       " 'Cc1c(C(=O)N[C@]2(C#N)CCSC2)oc2ccccc12',\n",
       " 'CC(C)=CCCC(C)=NNC(=S)NCC(F)(F)F',\n",
       " 'COCCN(CC(C)C)c1nnc(-c2ccc(C#N)cc2)n1C[C@]1(O)CCO[C@H]1C',\n",
       " 'CCCCNC(=O)N1CCC[C@@]2(CC1)CCN(CCCC#N)C2=O',\n",
       " 'CC(C)(C)OC(=O)N1CCC[C@H]1c1nnc(N2CCO[C@H](C#N)C2)n1[C@@H]1CCC[C@@H](C(F)(F)F)C1',\n",
       " 'C=C(C)Cc1ccc(C(=O)N2CC[C@@H](N3CCOCC3)C[C@@]2(C)C(=O)OC)cc1',\n",
       " 'CC[C@H](C)c1nc([C@@H](C)Nc2nc(C#N)c(Cl)s2)n[nH]1',\n",
       " 'C=C(Cl)CNCCCCCCNC(=O)[C@@H]1CCC(=O)NC1',\n",
       " 'C=CC[C@@H](C(=C)C)C(=O)N1CCCC[C@H]1c1cc(NC(=O)[C@](C)(NC(C)=O)c2ccccc2F)n[nH]1',\n",
       " 'N#Cc1ccc(CN2CC[C@H](NC(=O)NCCCc3ccccc3F)C2=O)cc1',\n",
       " 'Fc1c(F)c(C(F)(F)F)c(F)c(F)c1O[C@@H]1CCCNC[C@@H]1F',\n",
       " 'C#CCOc1ccccc1CNCCc1ccccc1S(C)(=O)=O',\n",
       " 'C=CCNC(=O)NC(=O)CNCCNC(=O)[C@]12CCCC[C@@H]1C2',\n",
       " 'C=C[C@@H](C(=O)N1CC[C@H]1CNC(=O)c1cccc(C)c1)c1ccccc1',\n",
       " 'COc1ccc(CN2CCC[C@H](NC(=O)C(C)(C)F)[C@H]2C)cc1C#N',\n",
       " 'N#Cc1ccccc1/C=C\\\\C(=O)O[C@@H]1CCC(=O)NC1=O',\n",
       " 'COc1ccc(CC(=O)N2CC[C@@H](CNC(=O)c3ccc(C)c(F)c3)[C@@H]2c2cccnc2)c(C#N)c1',\n",
       " 'C=CC[C@@H](C(=C)C)C(=O)N1CC2(CCCN2C(=O)CC2CCCC2)C1',\n",
       " 'CC1(C)CN(C(=O)CCc2cnc[nH]2)C[C@@H]1NCC#N',\n",
       " 'C#CCO[C@H](C)C(=O)N1C[C@@H]2COC[C@H](C1)[C@@H]2NC(=O)c1ncc(Br)cc1C',\n",
       " 'N#CCCN(Cc1ccc(Cl)cc1)Cc1cnc(Cl)cc1Br',\n",
       " 'C=CCCn1cc(CN[C@@H](CCCCCCC)CC(=O)O)nn1',\n",
       " 'C=CCNC(=O)/C=C\\\\C(=O)N1CCCC[C@H]1C1CCN(C(=O)CCNc2ccc(C)cc2C)CC1',\n",
       " 'C=C(C)[C@H](NC(=O)N(C)C1CCNCC1)c1ccc(F)c(F)c1',\n",
       " 'C[C@@H]1CCc2sc(NC(=O)C[C@H]3CSCCN3C(=O)OC(C)(C)C)c(C#N)c2[C@@H]1C',\n",
       " 'C=CC[C@@H]1N(c2nnc([C@@H](C)NS(C)(=O)=O)n2CCCOCC)CCCC1(C)C',\n",
       " 'Cc1ccc(-c2ccc(Cl)cc2NC(=O)N2CCN(c3c(C#N)c(C)nn3C)CC2)o1',\n",
       " 'C#CCCC(=O)N1C[C@@H]2COC[C@H](C1)[C@@H]2NC(=O)c1cc(N2CCCC2)ccn1',\n",
       " 'C=C[C@H](NC[C@@H](C)N1CCCC[C@@H]1C)C(=O)OC',\n",
       " 'C#CCO[C@@H](C)C(=O)N[C@H](C(=O)OC)c1ccc(O)cc1',\n",
       " 'C=C1CC(C(=O)NC[C@@H]2CCN(C(=O)[C@@H](C)ON=C(C)C)[C@H]2c2cccnc2)C1',\n",
       " 'C[C@H]1[C@@H](CO)CCN1CC(=O)NCC#Cc1cccc(C(F)(F)F)c1',\n",
       " 'C=CCO[C@@H](C)C(=O)NC1CCN(C2CCN(C(=O)c3csc(N)n3)CC2)CC1',\n",
       " 'C#CCNC(=O)COC(=O)C1(C)CC(F)(F)C1',\n",
       " 'COc1cncc(N[C@H](C(=O)N2[C@H](C#N)C[C@@H]3C[C@@H]32)[C@@]23C[C@@H]4C[C@@H](C[C@@](O)(C4)C2)C3)n1',\n",
       " 'CC(C)=NO[C@H](C)C(=O)N1CCC2(CCCN(C(=O)c3ncc(Cl)cc3Cl)C2)CC1',\n",
       " 'C[C@H](C#N)C(=O)N1[C@H]2CC[C@H]1CN(C(=O)[C@H]1CCCC13CC3)C2',\n",
       " 'C[C@H](C#N)CN(C)S(=O)(=O)N[C@H](CO)[C@@H](C)c1ccccc1',\n",
       " 'CC(=NNc1ccc(S(=O)(=O)N2C[C@H](C)C[C@@H](C)C2)cn1)c1cc(C)n(C)n1',\n",
       " 'N#Cc1cccc(C2(NC(=O)NC[C@@H]3CCCN(c4nccn5cnnc45)C3)CC2)c1',\n",
       " 'CC(C)=NO[C@@H](C)C(=O)N[C@@H]1[C@H]2COC[C@@H]1CN(C(=O)c1cc(O)ncn1)C2',\n",
       " 'CCOCc1ccc(CNc2c(Br)cccc2C#N)cc1',\n",
       " 'N#Cc1ccnc(N2CCN(C(=O)C(=O)N[C@@H]3CCN(c4ccc(Cl)cc4)C3)CC2)c1',\n",
       " 'N#Cc1cccc(NC(=O)C(=O)N2CCN([C@@H]3CCC[C@@H]3O)CC2)n1',\n",
       " 'C=CCSc1nnc(Cc2csc(C)n2)o1',\n",
       " 'CC#CCCCC(=O)N1CCC[C@@H]1CNCc1cc(F)ccc1-c1nn[nH]n1',\n",
       " 'CCn1nncc1CN1C[C@@H](C)[C@H](CCNC(=O)c2ccc(C#N)[nH]2)C1',\n",
       " 'C=CCC(C)(C)CNC(=O)N[C@@H](c1cccc(C(F)(F)F)c1)c1nc[nH]n1',\n",
       " 'C[C@@H](C(=O)Nc1nc2c(s1)C[C@H](NC(=O)Cc1ccc(F)c(C#N)c1)CC2)n1cccc1',\n",
       " 'CN1CCN(C(=O)CN(C)C(=O)[C@H](C#N)CCc2ccccc2)CC1',\n",
       " 'Cc1ccc(/C(O)=N/CC/N=C(/O)N2CCOCC3(CCC3)C2)cc1F',\n",
       " 'C[C@@H]1CCN(Cc2cccc(C#N)n2)CC[C@H]1O',\n",
       " 'N#Cc1ccc(NCCNC(=S)Nc2ccc3ccccc3c2)nc1',\n",
       " 'CC1(CC(=O)N2CCC[C@H](CNc3nccnc3C#N)C2)CCCC1',\n",
       " 'Cc1ccc(C#N)c(N2CCC[C@@H](C(=O)N(C)[C@H](C)c3sc(C)nc3C)C2)n1',\n",
       " 'C[C@@H]1C[C@H](Nc2cnc(C#N)cn2)CN1C(=O)CCc1cncn1C',\n",
       " 'CC(C)(C#N)C(=O)N1CCCC[C@H]1c1cc(NC(=O)c2cnccn2)n[nH]1',\n",
       " 'C#CCCS(=O)(=O)NC(=O)[C@H](C)c1ccccc1F',\n",
       " 'CCN(C(=O)[C@@]1(CC)CCNC1=O)C1CN(C(=O)[C@@H](C)C#N)C1',\n",
       " 'CC(C)[C@](C)(C#N)NC(=O)CN1CCC(CN2CCCCCC2)CC1',\n",
       " 'C=C(Br)CN[C@@H]1C[C@H](NC(=O)CC)C12CCC2',\n",
       " 'Cc1nn(C)c(C)c1-c1cc(C(=O)O[C@@H](C)C(=O)N[C@@](C)(C#N)C(C)C)n[nH]1',\n",
       " 'C[C@@H](S)C(=O)N1CC[C@]2(CN(C(=O)c3cn(-c4cnn(C)c4)c4ccccc34)CCO2)C1',\n",
       " 'Cc1ccc(/C(N)=N/O)cc1C',\n",
       " 'C=CCC1(C(=O)NCC2(CC)CCOCC2)CCCCC1',\n",
       " 'Cc1ccc(NCc2ccc(O[C@H](C)C#N)cc2)cc1S(=O)(=O)N1CCCCCC1',\n",
       " 'CCCC[C@H](CNc1ccc(C#N)nc1)NC(=O)Cc1ccoc1',\n",
       " 'Cc1ccc([C@]2(C)NC(=O)N(CC(=O)[C@@H](C#N)C(=O)Nc3ccccc3Oc3ccccc3)C2=O)cc1',\n",
       " 'CC(C)=NO[C@H](C)C(=O)N1CC[C@H]2OCCC[C@@]2(CNC(=O)[C@@]2(F)CCCCC2(F)F)C1',\n",
       " 'CC(C)NC(=O)N1C[C@H]2COC[C@@H](C1)N2Cc1ccccc1CC#N',\n",
       " 'N#Cc1c(Cl)cccc1OC[C@@H]1CCC=CO1',\n",
       " 'CNC(=O)C[C@H]1SC(=Nc2ccc(F)cc2F)N(CC2(C3CC3)CCC2)C1=O',\n",
       " 'C=C1C[C@H]2CC(N3C[C@@H]4C[C@]4(N)C3)C[C@@H](C1)C2',\n",
       " 'CN(C(=O)c1ccc(C#N)[nH]1)C1CCN(C(=O)Cn2nccn2)CC1',\n",
       " 'C#CC[C@H](CCOC)NC(=O)Nc1cc(C)c(OC)cc1Cl',\n",
       " 'CC1(C)CN(C(=O)C#CC2CC2)C[C@@H]1NC(=O)c1ccns1',\n",
       " 'COc1cc(O)c(CN[C@H]2CCN(Cc3ccc(C#N)cc3)C2=O)cc1OC',\n",
       " 'CN(CC(=O)N[C@@H](C#N)C(C)(C)C)Cc1ccccc1',\n",
       " 'CCc1ccccc1S(=O)(=O)N(C)CCOCc1ccc(C#N)cc1',\n",
       " 'C=C(CC(=O)OCC)C(=O)N1C[C@@H]2COC[C@H](C1)[C@@H]2NC(=O)[C@H](CO)NC(=O)OC(C)(C)C',\n",
       " 'C=CCn1c([C@@H](O)c2cccc(OC)c2)nnc1N(C)C[C@@H](C)c1nccs1',\n",
       " 'CCO[C@H](CCn1c(-c2ccc(C#N)cc2)nnc1N(C)C[C@@H](C)C#N)C(C)C',\n",
       " 'C#Cc1ccc(C(=O)N[C@@H](CNc2cc(C(C)C)ncn2)C2CC2)cn1',\n",
       " 'N#Cc1cnc(NC[C@H]2CN(C(=O)[C@@H]3CC34CC4)CCO2)c(Cl)c1',\n",
       " 'Cn1cc(CNC[C@H](NC(=O)c2cc(C#N)c[nH]2)C2CCCC2)cn1',\n",
       " 'CC(C)c1ccc(Cc2noc(CC(C)(C)C#N)n2)cc1',\n",
       " 'C=C(Br)Cn1c(C)nnc1N1CCC(CC(=O)N2CCN(CC)CC2)CC1',\n",
       " 'C=C[C@@](C)(CCOC)C(=O)N1CCCO[C@H](C)C1',\n",
       " 'C=CCCC1(c2nc(CCn3c(C)nc4ccccc43)no2)CC1',\n",
       " 'Cn1cnnc1CN1C[C@@H]2OCCN(C(=O)C3(C#N)CCOCC3)[C@H]2C1',\n",
       " 'CO[C@H](C)C(=O)NC[C@H]1CCN(C(=O)C(C)(C)NCCC#N)[C@H]1c1cccnc1',\n",
       " 'C=CCC1(C(=O)N2CC[C@H](N(C)Cc3nnc(C4CC4)o3)C2)CCC1',\n",
       " 'Cc1c[nH]nc1C(=O)NC[C@H](CO)Nc1snc(C)c1C#N',\n",
       " 'C#CCNC(=O)[C@@H](C)N1[C@H]2CC[C@@H]1C[C@@H]2NC(=O)c1cc(C)ncn1',\n",
       " 'Cc1nn(C)c(Cl)c1CC(=O)N1CC[C@@H](N(C)CC#N)C1',\n",
       " 'COC[C@@]1(C)CCN(C(=O)c2ccc(C)c(C#N)c2)C1',\n",
       " 'N#Cc1cncc(S(=O)(=O)N[C@H]2CCCCN(CC(=O)O)C2=O)c1',\n",
       " 'C=CCCOCC(=O)N[C@@H]1CCN(C(=O)CCc2ccon2)C[C@@H]1C',\n",
       " 'C=CCNC(=O)NC(=O)CN1C[C@@H](NC(=O)[C@@H]2CCO[C@H]2C=C)[C@H](OC)C1',\n",
       " 'C=C[C@@H]1OCC[C@H]1C(=O)NCC1CCN(C(=O)CC2(C)CCCC2)CC1',\n",
       " 'C=C(Cl)Cn1c([C@@H](C)Oc2ccc(F)cc2)nnc1N1CCO[C@H](CC)C1',\n",
       " 'C[C@H](OC(=O)[C@]1(C#N)CC12CCCC2)C(=O)N1CCC[C@@H](C(N)=O)C1',\n",
       " 'O=C(/C=C/C(=O)N1CC[C@@H](CNC(=O)[C@H]2CCCO2)[C@@H]1c1cccnc1)c1cccs1',\n",
       " 'Cc1cccc2nc(CNC(=O)Cc3c(F)cccc3C#N)cn12',\n",
       " 'C=CCOCC(=O)N1CCO[C@@H](CNC(=O)[C@H](CC(C)C)OC)C1',\n",
       " 'C#CCCCC(=O)NCc1ccc([C@@H](C)NC(=O)[C@@H](C)COC)cc1',\n",
       " 'N#C[C@@H]1CN(C(=O)C(=O)NCC#Cc2ccccc2)CCN1Cc1ccccc1',\n",
       " 'O=C(Nc1ccc(F)cc1OCCC(F)(F)F)c1ccc(C(F)(F)F)s1',\n",
       " 'C[C@@H](NCCCC#N)c1cc(Br)cc(Br)c1O',\n",
       " 'C[C@@H](NS(=O)(=O)c1cccc(C#N)c1)C(=O)N[C@@H](c1ccc(Cl)cc1)C1CCCC1',\n",
       " 'Cc1oc2ccccc2c1CC(=O)N1CCCC(C)(C)[C@H]1C#N',\n",
       " 'CCc1ccccc1C(=O)N1C[C@@H](C)[C@H](CNC(=O)c2ccc(C#N)[nH]2)C1',\n",
       " 'C=CCN1C[C@]2(CCN(C(=O)c3ncn(C)c3C(F)(F)F)C2)OCC1=O',\n",
       " 'C=CCn1cc(C(=O)N[C@@H]2CCCN(C(=O)c3ccn(C)c3)C2)nn1',\n",
       " 'CC(C)[C@@H](CCN(C)C(=O)[C@@H]1CNC(=O)N1)Nc1ccc(C#N)cn1',\n",
       " 'N#Cc1cc(I)c(NC(=O)[C@@H]2CC(=O)NC(=O)N2)cc1C(F)(F)F',\n",
       " 'C=C[C@@H]1OCC[C@H]1C(=O)N[C@H]1C[C@H](NC(=O)c2cnoc2C(C)C)C1',\n",
       " 'C=C(Cl)CN1CC(N(C)C(=O)c2ncoc2-c2ccccc2)C1',\n",
       " 'C=CC[C@H](CC(=O)N1[C@H]2CC[C@@H]1C[C@H](NC(=O)CCN1CCN(C)CC1)C2)NC(=O)OC(C)(C)C',\n",
       " 'C#C[C@H](NC(=O)N[C@@H]1CCO[C@@H](c2cccs2)C1)C(C)C',\n",
       " 'C#CCCCCC(=O)N[C@@H]1CN(Cc2csnn2)C[C@H]1C',\n",
       " 'C=CC(C)(C)C(=O)N[C@@H]1CN([C@@H](C)c2ccc3ccccc3c2)C[C@H]1O',\n",
       " 'N#C[C@]1(C(=O)NC2CN(C(=O)OCc3ccccc3)C2)CC12CCCC2',\n",
       " 'C[C@@H]1CCN(CC(=O)N2C[C@@H]3CN(c4ncccc4C#N)C[C@@H]3C2)C1',\n",
       " 'C=CC[C@@H](NC(=O)C(=O)N(CC(C)C)C[C@@H](O)c1ccc(F)cc1)c1ccncc1',\n",
       " 'COC(=O)CN(CC#N)C(=O)CCC(=O)c1cc(Br)ccc1OC',\n",
       " 'Cc1noc(-c2ccc(C)c(NC(=O)N3CC(C)(C#N)C3)c2)n1',\n",
       " 'C=C1CCC(C(=O)N2C[C@@H](NC(=O)C3CC=CC3)CC[C@@H]2C)CC1',\n",
       " 'C#CCNC(=O)[C@@H](C)N1[C@H]2CC[C@@H]1C[C@H]2NC(=O)c1c(Cl)n[nH]c1CC',\n",
       " 'COCCC1(Cn2c(COc3ccc(C#N)cc3)nnc2N2CCOCC2)CCC1',\n",
       " 'C=C[C@@H]1OCCC[C@H]1C(=O)N1CCC(CNC(=O)c2[nH]cnc2C)CC1',\n",
       " 'Cc1cc(C#N)nc(N2CCC(NC(=O)C[C@@H]3CC[C@H](C)O3)CC2)n1',\n",
       " 'CC(C)N(C)CC(=O)N[C@H]1CCN(c2cncc(C#N)n2)C[C@H]1C',\n",
       " 'Cc1nc(CN2CC[C@]3(CCCN(C(=O)[C@@H](N)Cc4ccccc4C#N)C3)C2=O)cs1',\n",
       " 'CC(C)C[C@@H](CNc1ccc(C#N)nc1)NC(=O)CC(C)(C)C',\n",
       " 'C#Cc1cccc(CN2Cc3nccn3C[C@H](COCC(=O)N3CCCC3)C2)c1',\n",
       " 'CC1(C(=O)NCCC2(CNCC#N)CC2)CC=CC1',\n",
       " 'C#Cc1ccc(C(=O)N2CC[C@@H](NC(=O)Cc3cnn(C)c3)C2)cc1',\n",
       " 'c1ccc(CN/C(=N/CCc2nnc3ccccn23)NC2CCN(C3CC3)CC2)cc1',\n",
       " 'C[C@H](O)C[C@H](C)NC(=O)Nc1cc(C#N)ccc1OC(F)F',\n",
       " 'COC(=O)[C@H](NCC(=O)Nc1sc(C)c(C)c1C#N)c1ccc(OC)c(O)c1',\n",
       " 'C#CCCNCCCC[C@H](C)NC(=O)c1ccc(C(N)=O)o1',\n",
       " 'CC(C)[C@H](Cn1c(COc2ccc(C#N)cc2)nnc1N1CCOC[C@H]1C)N1CCOCC1',\n",
       " 'CCOC(=O)c1c(CN(CC#N)CC(=O)OC)n[nH]c1C',\n",
       " 'C[C@]1(CNC(=O)C[C@H]2C=CCCC2)CN(CC(=O)NCC#N)CCO1',\n",
       " 'Cc1nc(COc2ccc(Cl)cc2)sc1C(=O)Nc1ccc(C(C)(C)C#N)cc1',\n",
       " 'C[C@]1(NC(=O)C2[C@@H]3CCCC[C@@H]23)CCN(c2ccc(C#N)cn2)C1',\n",
       " 'CCOC(=O)[C@H](C#C[Si](C)(C)C)OCCCCCC#N',\n",
       " 'N#CCCCCCC(=O)N1CC(=O)Nc2cnccc21',\n",
       " 'COCC(=O)N1CCC[C@H]2[C@H]1CCN2CC#Cc1ccccc1Cl',\n",
       " 'N#Cc1cc(C(=O)NC[C@@H]2CCN2C(=O)C2(F)CCCC2)c[nH]1',\n",
       " 'CC#CC[C@@H](C(=O)N1CCCC[C@H]1c1cc(NC(=O)CCOC)n[nH]1)c1ccccc1',\n",
       " 'C=CCCCN1C[C@H]2[C@H](NC(=O)c3cnco3)[C@H]2C1',\n",
       " 'C=C[C@H](CC)CC(=O)N1CCC(CN(CC)C(=O)C2(C)CC2)CC1',\n",
       " 'N#Cc1ccc(F)c(CNC[C@H]2CC[C@@H](NC(=O)C3CCCC3)C2)c1',\n",
       " 'CN(CCC#N)C(=O)CCN1C[C@H](C(F)(F)F)C[C@@H](C(F)(F)F)C1',\n",
       " 'COc1cnc(C(=O)N[C@H](C)CCCNc2cncc(C#N)n2)nc1',\n",
       " 'C#CCNCC(=O)N[C@@H]1C=CCC1',\n",
       " 'CCC(CC)(CCO)NC(=O)NCc1ccc(C#N)cn1',\n",
       " 'Cc1cccc2ncnc(N(C)C[C@H]3CCCN3C(=O)C#CC3CC3)c12',\n",
       " 'N#Cc1c(F)cc(CNC(=O)c2ccnc(SCC(F)(F)F)c2)cc1F',\n",
       " 'Cc1c(N/C(O)=N/[C@H]2CCCS(=O)(=O)C2)c(=O)n(-c2ccccc2)n1C',\n",
       " 'N#Cc1c2c(n(C[C@@H]3CCCO3)c1NC(=O)CN1CC[C@@](F)(C#N)C1)CCCC2',\n",
       " 'Cc1ccc(C#N)c(N(C)C[C@H]2CCCN2C(=O)[C@@H]2C[C@@H]3C=C[C@H]2CC3)n1',\n",
       " 'O=C(/C=C/C(=O)c1cccs1)NC1CCN(C2CCN(C(=O)[C@@H]3C[C@]3(F)Cl)CC2)CC1',\n",
       " 'C=CCCOCCNC(=O)N[C@@H](CCO)C(C)C',\n",
       " 'C[C@H](C#N)CSc1ccccc1NS(=O)(=O)c1ccc(C(=O)O)nc1',\n",
       " 'Cc1cc2occ(C(=O)Nc3cc(C)n(CCC#N)n3)c2cc1C',\n",
       " 'COc1ccc(Br)cc1Cn1ccc(C#N)cc1=O',\n",
       " 'CC(C)(C)C#CC(=O)N1CC2(C[C@@H](NC(=O)c3cccnn3)CO2)C1',\n",
       " 'Cc1nc(N2CCC[C@](CO)(NC(=O)[C@@H](C)C3CC3)C2)ccc1C#N',\n",
       " 'C#CCN1CCC[C@H]1C(=O)N[C@@H]1CN(C2CC2)C[C@H]1C',\n",
       " 'CS(=O)(=O)c1cccc([C@@H](NC(=O)c2cccc(CC#N)c2)c2ccccc2)c1',\n",
       " 'C=CCC[C@H](NC(=O)c1ccc(-n2cncn2)c([N+](=O)[O-])c1)c1ccccc1',\n",
       " 'CC(=O)N1CCc2c(sc(NC(=O)[C@@H]3CC(=O)N(Cc4ccccn4)C3)c2C#N)C1',\n",
       " 'C=CCCCCCCCN1CCN[C@@H](CO)C1',\n",
       " 'C=CC(C)(C)Cc1nnc(N2CCC[C@@](C)(OC)CC2)n1CC1CC1',\n",
       " 'O/C(=N/Cc1nnc2n1CCCCC2)[C@H]1CCSc2ccccc21',\n",
       " 'C[C@H](NS(=O)(=O)c1ccc(C#N)cc1Cl)[C@@H]1CCCN(C(=O)OC(C)(C)C)C1',\n",
       " 'COc1ccc(-c2csc([C@H](C#N)C(=O)c3csc(Br)c3)n2)cc1',\n",
       " 'CSCC[C@@](C)(C#N)NC(=O)C1CCN(C(=O)[C@H](C)CSC)CC1',\n",
       " 'C[C@@H](C#N)S(=O)(=O)NCc1ccnc(N2CCS(=O)(=O)CC2)c1',\n",
       " 'C=CCOC[C@@H](NCc1cccc(F)c1N)C(=O)OC',\n",
       " 'C#C[C@H](C)N(C)c1nnc(-c2nn(C)c(C)c2Cl)n1CCOC',\n",
       " 'C=CCN[C@@H]1C[C@@H](C)N(C(=O)c2cc(CN(C)C)on2)C1',\n",
       " 'Cc1ccc2c(CCC(=O)[C@@H](C#N)c3nc4cc(Cl)ccc4s3)c[nH]c2c1',\n",
       " 'CCC[C@@H]1C[C@H](C(=O)Nc2ncc(Cc3ccc(C#N)cc3)s2)CCO1',\n",
       " 'C=CCCC(=O)NCc1cnn2c1CN(c1nccc(C)n1)CC2',\n",
       " 'N#Cc1nc(=N[C@H](CO)CNC(=O)CC#Cc2ccccc2)cc[nH]1',\n",
       " 'C#CCC1(C(=O)N2C[C@H]3CC[C@H]2[C@@H](NCc2ccn(C)n2)C3)CCC1',\n",
       " 'N#Cc1ccc(S(=O)(=O)CCN2CCC[C@H](N3CCCCC3=O)C2)nc1',\n",
       " 'CC1CCN([C@H](C)CN[C@@H]2CCCc3cc(C#N)ccc32)CC1',\n",
       " 'N#Cc1cccc(CN2CCC(NC(=O)c3cc(O)ncc3Br)CC2)c1',\n",
       " 'Cc1nn(C)c(C)c1S(=O)(=O)Nc1cccc(S(=O)(=O)/N=C2\\\\CCCCCN2)c1',\n",
       " 'C=C[C@](C)(O)CC(=O)NCC1(O)CN(C(=O)c2cccc(O)n2)C1',\n",
       " 'Cc1nc(Cl)sc1C(=O)NC[C@@H](C)NC(=O)[C@H](C)C#N',\n",
       " 'C=CCN1C[C@@H](NC(=O)Cc2cccc(COC)c2)[C@H](OC)C1',\n",
       " 'Cc1c(C(=O)O[C@H](C)C(=O)N(C)C2(C#N)CCC(C)CC2)nnn1-c1ccc2ncccc2c1',\n",
       " 'C#CCN(CC(=O)O)C(=O)Cc1c(Br)cnn1C',\n",
       " 'CCCN(CCC)C(=O)Cc1c[nH]c2cccc(C#N)c12',\n",
       " 'C[C@@]1(C(=O)N2CCN(C(=O)c3ccc(C#N)[nH]3)CC2)CCNC(=O)C1',\n",
       " 'N#Cc1cccc(C#N)c1Sc1nnc(NCc2ccco2)s1',\n",
       " 'N#Cc1ccc(N[C@H]2C[C@H](CNC(=O)[C@@H]3C[C@@H]4C[C@@H]4C3)C2)nn1',\n",
       " 'C[C@H](CNc1cc(Br)c(C#N)cc1F)C(C)(C)C',\n",
       " 'N#Cc1ccc(C(=O)NCC(=O)NC2(c3noc(C4CCCCC4)n3)CCCCCC2)cc1',\n",
       " 'C#CCN(CCCNC(=O)[C@H]1CC[C@@H]2CCCCN21)C(C)C',\n",
       " 'COCCn1c2c(ccc1=O)C[C@@H](NS(=O)(=O)Cc1ccc(C#N)cc1)CC2',\n",
       " 'C[C@H](NS(=O)(=O)c1cccc(C#N)c1)C(=O)N1C[C@@H]2CCN(C)C[C@@H]2C1',\n",
       " 'C=CCOCC(=O)N1C[C@H]2CC[C@H]1CN2Cc1ccn(C(C)C)n1',\n",
       " 'C=C[C@H]1C[C@@]1(NC(=O)c1cnn(C)c1Cl)C(=O)OCC',\n",
       " 'C=CCCCCCN[C@@H]1CN(C(=O)C2=CCCC2)C[C@@H]1n1ccnn1',\n",
       " 'CC#CCN1C[C@H]2[C@H](NC(=O)c3c(C)oc4ncnc(O)c34)[C@H]2C1',\n",
       " 'Cc1cccc([C@H](C)CNC(=O)NCC#CCO)c1',\n",
       " 'C=CCCC(C)(C)C(=O)N1CCOC[C@]2(CN(C(=O)[C@H](C)Cn3cccn3)CCO2)C1',\n",
       " 'C#CCOc1ccccc1CNC(=O)C(=O)N[C@H](CC)COC',\n",
       " 'N#Cc1nccnc1N[C@H]1C[C@@H](CNC(=O)c2cc(-c3nn[nH]n3)c[nH]2)C1',\n",
       " 'N#C[C@@H]1COCCN1C(=O)c1cnc(-c2cnccn2)nc1',\n",
       " 'C=C[C@H](C)NC(=O)C(C)(C)Cc1ccc(Cl)cc1',\n",
       " 'N#Cc1cnc(N2CCC[C@@H](NC(=O)c3cc(Cl)c[nH]3)C2)c(F)c1',\n",
       " 'C[C@H](OC[C@H]1CCCO1)C(=O)N[C@]1(C#N)CCc2ccccc2C1',\n",
       " 'C#CCCCN(C)[C@@H]1CCC[C@@H]1c1ccc(C)cc1',\n",
       " 'CCn1c([C@H](C)CCC#N)nnc1N1CCC(Oc2cccc(C#N)c2)CC1',\n",
       " 'Cc1cnn(C)c1/C=C/C(=O)c1ccc(Br)c(F)c1',\n",
       " 'C=CCOC[C@@]12CCCO[C@H]1CCN(Cc1cccc(C(F)(F)F)c1O)C2',\n",
       " 'CN(CC(=O)N(CCC#N)CCC#N)c1cccc(O)c1',\n",
       " 'C=CCN1CC2(C[C@@H](NC(=O)C3CC(OCC)C3)CO2)C1',\n",
       " 'C=C(C)CN1CC[C@]2(C1)CN(C(=O)c1c(C)cccc1F)C[C@H](C)O2',\n",
       " 'C[C@@]1(c2ccc(C#N)cc2)NC(=O)N(CC(=O)NCCOc2ccc3c(c2)OCO3)C1=O',\n",
       " 'C#Cc1ccc(NC(=O)C2(c3ccc(C)cn3)CC2)cc1F',\n",
       " 'CC(C)(C)c1ncc(C(=O)N2CC[C@H]3CN(CC#N)C[C@H]32)s1',\n",
       " 'CCCNc1ccc(C#N)cc1NC(=O)[C@H]1[C@@H](C)C1(F)F',\n",
       " 'N#Cc1ccc(N2C(=O)N[C@H](CCC(=O)N[C@@H]3CCCc4occc43)C2=O)cc1',\n",
       " 'CN(CCc1cccc(NS(=O)(=O)c2cncc(C#N)c2)c1)C1CC1',\n",
       " 'CC[C@H](C)N1CC[C@]2(CCN(Cc3ccnc(C#N)c3)C2)C1=O',\n",
       " 'CC(C)(C)CC(=O)N1CCN(Cc2cc(F)c(C#N)c(F)c2)CC1',\n",
       " 'C=C(CC(=O)OCC)C(=O)N1CCCC[C@@H]1c1cc(NC(=O)CNC(=O)c2ccc(C)cc2)n[nH]1',\n",
       " 'CCOc1ccc(O[C@@H](C)c2nnc(N3CCN(c4ccc(C#N)cn4)CC3)n2CCC(C)C)cc1',\n",
       " 'C=CC(C)(C)C(=O)N1CC[C@H]2[C@@H](CCN2Cc2nc(C3CC3)no2)C1',\n",
       " 'N#CCc1cccc(C(=O)N2C[C@H]3CCS(=O)(=O)[C@H]3C2)c1',\n",
       " 'CSc1nc(O)c(C(=O)NCC(=O)C2CCCC2)cc1C#N',\n",
       " 'CC[C@H](Cn1c(-c2cccc(C#N)c2)nnc1N(C)[C@@H](C)c1ccco1)OC',\n",
       " 'C#CCNS(=O)(=O)c1ccc(C(=O)O[C@@H](C)C(=O)N(C)C2(C#N)CCC(C)CC2)cc1',\n",
       " 'CC#CCN(C)C(=O)CCCc1nnc(-c2ccc(Cl)cc2Cl)o1',\n",
       " 'Cc1cc(C(F)(F)NC2(C#N)CCOCC2)cc(Cl)n1',\n",
       " 'COc1cc(CN(C(=O)C2(C#N)CCCC2)C2CC2)ccc1OC(F)F',\n",
       " 'N#Cc1cc2c(nc1NC[C@H]1CC(=O)N(Cc3ccccc3)C1)CCOC2',\n",
       " 'CCc1ccc(NC(=O)[C@H](C#N)C(=O)[C@@H]2C[C@H]3CC(=O)[C@@H]2C3)cc1',\n",
       " 'C=C1CC(C)(C(=O)N[C@@H]2CN(CC[C@H](C)F)C[C@H]2C)C1',\n",
       " 'N#CCC[C@@H](NC(=O)NCc1cc(Cl)c2c(c1)OCCCO2)c1ccccc1',\n",
       " 'C=CC(C)(C)CCNC(=O)N1CCO[C@@H](CC(=O)O)C1',\n",
       " 'C=CCCCCN1C(=O)O[C@@]2(CCc3ccccc32)C1=O',\n",
       " ...]"
      ]
     },
     "execution_count": 9,
     "metadata": {},
     "output_type": "execute_result"
    }
   ],
   "source": [
    "with open(data_path, 'r') as f:\n",
    "    content = f.readlines()\n",
    "    smile = [smi.split()[0] for smi in content]\n",
    "    \n",
    "smile"
   ]
  },
  {
   "cell_type": "code",
   "execution_count": 10,
   "id": "a05721ea",
   "metadata": {
    "ExecuteTime": {
     "end_time": "2023-04-22T10:35:07.752804Z",
     "start_time": "2023-04-22T10:35:07.469130Z"
    }
   },
   "outputs": [
    {
     "data": {
      "text/html": [
       "<div>\n",
       "<style scoped>\n",
       "    .dataframe tbody tr th:only-of-type {\n",
       "        vertical-align: middle;\n",
       "    }\n",
       "\n",
       "    .dataframe tbody tr th {\n",
       "        vertical-align: top;\n",
       "    }\n",
       "\n",
       "    .dataframe thead th {\n",
       "        text-align: right;\n",
       "    }\n",
       "</style>\n",
       "<table border=\"1\" class=\"dataframe\">\n",
       "  <thead>\n",
       "    <tr style=\"text-align: right;\">\n",
       "      <th></th>\n",
       "      <th>Smiles</th>\n",
       "    </tr>\n",
       "  </thead>\n",
       "  <tbody>\n",
       "    <tr>\n",
       "      <th>0</th>\n",
       "      <td>Cc1cc(C(=O)NCCN2CCCC2=O)c(C)n1-c1ccc(C#N)cc1</td>\n",
       "    </tr>\n",
       "    <tr>\n",
       "      <th>1</th>\n",
       "      <td>N#Cc1cc(C#N)c(NCCc2cnc(N)s2)nc1Cl</td>\n",
       "    </tr>\n",
       "    <tr>\n",
       "      <th>2</th>\n",
       "      <td>C=C[C@](C)(CC)C(=O)N[C@@H]1CN(CCCC2CCC2)C[C@@H]1O</td>\n",
       "    </tr>\n",
       "    <tr>\n",
       "      <th>3</th>\n",
       "      <td>CC#CCN[C@@H]1CCCN(C(=O)[C@H](C)OCCOCC)C1</td>\n",
       "    </tr>\n",
       "    <tr>\n",
       "      <th>4</th>\n",
       "      <td>C[C@H](NC(=O)C(=O)NCCCCC#N)c1cccc(C(F)(F)F)c1</td>\n",
       "    </tr>\n",
       "    <tr>\n",
       "      <th>...</th>\n",
       "      <td>...</td>\n",
       "    </tr>\n",
       "    <tr>\n",
       "      <th>9995</th>\n",
       "      <td>N#Cc1cccc(NC(=O)NCCN2C(=O)CCC2=O)n1</td>\n",
       "    </tr>\n",
       "    <tr>\n",
       "      <th>9996</th>\n",
       "      <td>C=C[C@@H]1OCC[C@H]1C(=O)N1C[C@H]2CCN(Cc3nnc(CC...</td>\n",
       "    </tr>\n",
       "    <tr>\n",
       "      <th>9997</th>\n",
       "      <td>CC[C@@H](NC(=O)Nc1ccc(C#N)c(C(F)(F)F)c1)[C@@H]...</td>\n",
       "    </tr>\n",
       "    <tr>\n",
       "      <th>9998</th>\n",
       "      <td>C=CCn1c([C@H]2CCS(=O)(=O)C2)nnc1N1CCN(C(=O)N2C...</td>\n",
       "    </tr>\n",
       "    <tr>\n",
       "      <th>9999</th>\n",
       "      <td>C[C@H](N[C@@H]1CN(Cc2ccccc2)C[C@H]1c1ccccc1)C(...</td>\n",
       "    </tr>\n",
       "  </tbody>\n",
       "</table>\n",
       "<p>10000 rows × 1 columns</p>\n",
       "</div>"
      ],
      "text/plain": [
       "                                                 Smiles\n",
       "0          Cc1cc(C(=O)NCCN2CCCC2=O)c(C)n1-c1ccc(C#N)cc1\n",
       "1                     N#Cc1cc(C#N)c(NCCc2cnc(N)s2)nc1Cl\n",
       "2     C=C[C@](C)(CC)C(=O)N[C@@H]1CN(CCCC2CCC2)C[C@@H]1O\n",
       "3              CC#CCN[C@@H]1CCCN(C(=O)[C@H](C)OCCOCC)C1\n",
       "4         C[C@H](NC(=O)C(=O)NCCCCC#N)c1cccc(C(F)(F)F)c1\n",
       "...                                                 ...\n",
       "9995                N#Cc1cccc(NC(=O)NCCN2C(=O)CCC2=O)n1\n",
       "9996  C=C[C@@H]1OCC[C@H]1C(=O)N1C[C@H]2CCN(Cc3nnc(CC...\n",
       "9997  CC[C@@H](NC(=O)Nc1ccc(C#N)c(C(F)(F)F)c1)[C@@H]...\n",
       "9998  C=CCn1c([C@H]2CCS(=O)(=O)C2)nnc1N1CCN(C(=O)N2C...\n",
       "9999  C[C@H](N[C@@H]1CN(Cc2ccccc2)C[C@H]1c1ccccc1)C(...\n",
       "\n",
       "[10000 rows x 1 columns]"
      ]
     },
     "execution_count": 10,
     "metadata": {},
     "output_type": "execute_result"
    }
   ],
   "source": [
    "df = pd.DataFrame(data=smile, columns=['Smiles'])\n",
    "df"
   ]
  },
  {
   "attachments": {},
   "cell_type": "markdown",
   "id": "d1e58b21",
   "metadata": {},
   "source": [
    "* The table/frame contains SMILES that can be converted to `RDKit` molecules."
   ]
  },
  {
   "cell_type": "code",
   "execution_count": 11,
   "id": "35ea5d36",
   "metadata": {
    "ExecuteTime": {
     "end_time": "2023-04-22T10:35:15.618690Z",
     "start_time": "2023-04-22T10:35:12.925211Z"
    }
   },
   "outputs": [
    {
     "data": {
      "text/html": [
       "<div>\n",
       "<style scoped>\n",
       "    .dataframe tbody tr th:only-of-type {\n",
       "        vertical-align: middle;\n",
       "    }\n",
       "\n",
       "    .dataframe tbody tr th {\n",
       "        vertical-align: top;\n",
       "    }\n",
       "\n",
       "    .dataframe thead th {\n",
       "        text-align: right;\n",
       "    }\n",
       "</style>\n",
       "<table border=\"1\" class=\"dataframe\">\n",
       "  <thead>\n",
       "    <tr style=\"text-align: right;\">\n",
       "      <th></th>\n",
       "      <th>Smiles</th>\n",
       "      <th>Molecules</th>\n",
       "    </tr>\n",
       "  </thead>\n",
       "  <tbody>\n",
       "    <tr>\n",
       "      <th>0</th>\n",
       "      <td>Cc1cc(C(=O)NCCN2CCCC2=O)c(C)n1-c1ccc(C#N)cc1</td>\n",
       "      <td style=\"text-align: center;\"><div style=\"width: 200px; height: 200px\" data-content=\"rdkit/molecule\"><img src=\"data:image/png;base64,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\" alt=\"Mol\"/></div></td>\n",
       "    </tr>\n",
       "    <tr>\n",
       "      <th>1</th>\n",
       "      <td>N#Cc1cc(C#N)c(NCCc2cnc(N)s2)nc1Cl</td>\n",
       "      <td style=\"text-align: center;\"><div style=\"width: 200px; height: 200px\" data-content=\"rdkit/molecule\"><img src=\"data:image/png;base64,iVBORw0KGgoAAAANSUhEUgAAAMgAAADICAIAAAAiOjnJAAAABmJLR0QA/wD/AP+gvaeTAAAV1ElEQVR4nO2deVhU1/nHv7MgMIjKEiAgahWjEmNEgcQtmmo0piZqGmLalDRNU6JGR1Ntp43LWK0RSVTQJzYTl3S65LH4JPhMTGoYf1aNikaoS4zIWtzYQWWHYeb8/rjDSEQRZu5h5o7v5/GPYZg55733fjzvuZd73itjjIEgxEbu7AAI94TEIrhAYhFcILEILpBYBBdILIILJBbBBRKL4AKJRXCBxCK4QGIRXCCxCC6QWAQXSCyCCyQWwQUSi+ACiUVwgcQiuEBiEVwgsQgukFgEF0gsggskFsEFEovgAolFcIHEIrhAYhFcILEILpBYBBdILIILJBbBBRKL4AKJRXCBxCK4QGIRXCCxCC6QWAQXSCyCCyQWwQUSi+ACiUVwgcQiuEBiEVwgsQgukFgEF0gsggsSFuv117FkCQBUVODll50dDfFDJCwWgPx8ZGY6OwjibkhbrD/9CRoNzGZnx0F0QNpihYRgzhzs2OHsOIgOSFssAAsXwmh0dhBEByQsVkwMvL2hUGDTJjz5pLOjIX6IJMXauRPTp6N/fxw4gJdfRnExwsPx1ls4cMDZkRFtSFKsS5dgNCI/H2fOYO9e5Ofj22/x8ce4cMHZkRFtSFKs1lYAUCqtLxSK2+8QLoIkxRKuLygU1hdK5e13CBdBkmLdMWK1f0G4CO4gFqVCF0SSYnVMhSSWqyFJsTpmQJpjuRqS/D8eHJw1ebKpd+/g4ODmSZOYj49vUFDduHEqlcoTCHZ2dAQg0RHrypWkI0fGmUynr1zRfvNNZGvriStXtBkZAy2WI84OjbAiSbFaW1sBKJXKO14oKBe6DO4glkKhMJvNwjtOjoxoQ8JitffJppqTIyPakKRYHX0S3qFU6DpIUqx7zbFoxHId3EEshUJBYrkakjwSERERdXV1ffv2raio6NOnT1VVVXBwcFhYmKenp7NDI6zIGGPOjsF+AgICqqur9Xr9a6+95uxYiB8gyVRoY/DgwQAiIyOdHQhxJ9IWi66LuizSFouui7os0haLTgZdFncQi1KhCyJtsSgVuizSFotSoctCYhFckLZY9Ldnl0XaYtGI5bKQWPdhyxZcv259vXw5v37cDWmL1QOp8Px51NdbX2dk8OvH3ZB2EumZVPif/yAnBwCVDuwGJNb9aWxEQwMASPlGkJ5G2mL1zFnhc8/hkUcAYOtWrv24FRKeY5nNZsaYQqGQyWT8evH0hLxtJ3l78+vH3ZCwWD2TB19+GWVl1te//jXXrtwKCYvVM3nwq6/w1luoqQFjVJ65G0hVrMbGxk2bNqlUKrlcnpKSYrFY+PX1xhtYvZpf8+6J9MSyWCx/+9vfhg0btnr16oaGhrq6uqVLl06aNOnMmTOcepw6FWVl4Na8lfT0dB8fH4VC8eyzz966dYtvZz0AkxQZGRnjxo0TIh8zZsyhQ4cMBkN4eDgAuVweHx9fUVEhSkd1dUyrZStXsmXL2Nmz7No1NnMme/ppZjSy9etZU5MonVjJzMycMmVK+4MSEhKi1+stFouY3fQskhErJycnLi5O2O9hYWE6na61tZUx9sUXX1RVVWm12l69egHw9/dPTk4WfmUfZjPbtYuFhjKAeXqyBQvY2bOMMfb++2zKFDZsGAPY0KHs3/8WYaOuXbuWkJAgTBP9/f3XrVuXnp4+ceJEYTNjYmJOnTolQjc/xGKx6HS6p59+OikpSfTGbUhArKqqKo1GI6wZ9PHx0Wg0NTU1wq9Onz4tl8sjIiL279+fk5MzY8YM22B24sQJO/o6eJCNHs0ABrDoaHbkCLt6lTU0MMaYycRyctjhw2zkSOsHZs1ihYV2blRdXV1iYmLv3r0BeHh4qNXqGzdu2H7LaRiuqanR6XSPPvqosJdkMtnOnTtFabkjLi1Wc3NzcnJyv379bLu4uLi4/QdOnjxp202zZ88uLCw0GAwDBw4U9lp8fHxZWVkX+7p0icXFWY3p35/pdMxsvvsnTSaWnMz69GEA8/ZmWi1rbOzGRpnNZr1eHxISIoQ9a9as/Pz8jh+rq6u7Yxg23yugLpCbm7tkyZI+ffoInQ4YMCA2NhaAQqEwGAx2N9sJriuWwWAQlg0CmDZt2lkhIXXAZDIlJycLu8zb21ur1QqZURjh/Pz87psZS0tL58+fP3x4A8D69mWJiV0SpbiYvfoqk8kYwCIj6/fv/6orG2U0GkeNGiVsVGxs7NGjRzv//KVLl6ZPny58fuzYsRkZGV3pxYbFYjEajXFxcbaLMmPHjtXr9S0tLYyxFStWAPD19T1z5ky3mu0KrijWqVOnbPOM4cOHf/HFF/f9SklJSXx8vHAJPjw8XK/X5+bmzpw5U2gkKirq+PHjHb/V0NCwfv16X19fADEx7y5cyMrLuxfq0aNs1Cg2ZcpKwf7s7Ox7ffLixYuzZs0S4hEi7Prc3GAwDBgwwDZsl3chyjuynqenZ3x8/NmzZ3Nzc9VqdVRUlNlstlgswgry0NDQy5cvd3Wbu4ZriXX58mWbH4GBgcnJySaTqetfP3r0qG08EA6zwWAYNGiQLTOWlpYKn7RYLKmpqT/60Y9sHz5//rx9MZtMbOvW7X379gXg5eW1atWqBmFS1kZFRYVarRbGjH79+iUmJjZ2K3cyxhirr6/v4jCcl5en0Wj8/PyETQsNDdVqtWVlZQaD4ZlnnhH2rUwmEwa/lpaWadOmAYiMjGw/yXMcVxGrubl53Lhxwo5TqVQrV66sra21ox1hBhMQEGCbFJeXl2u1Wi8vL+G4JicnHzt2bPz48cJ+j4yM/PLLLx2Pv7KyUq1Wy+VyAP3799fr9Yyx+vr6xMREIU17eHgkJCR0fc53V3Jzc5999tm7nqB0zHoTJkxITU2tqqrS6XTDhw8X3vTy8oqPj//uu+9sX7xx44YwsL3+uq652ZHofoCriLW87e7MuLi4//3vfw621v4wh4WF6fX6vLy85557znY2JLz/ySefODIj7sjx48ejoqKEXoYMGeLv7y+8njt3bk5Ojli93HGCUlBQoNPpbAUshKx37ty5nJwctVotnHgCGDx4cGJiYlVVVccGi4qKfvKTT5VKFh/PxLp25ipizZ49WzhFErHNEydOjBkzRtitM2bMyM3N3bdvX9++fX19fZcvX15fXy9iXzaEITMwMFClUgnjyuHDh0Xvpa6u7o9//KNwziicNQMYNGhQUlJSRUWF0WicNWuW7aYPYejq/AwmK4v17s0AtmqVOBG6iljvvPMOgM2bN6empiYkJBiNRlGatR1mAELKCw0NBXD9+nVR2r8XpaWlv/vd71asWCHuiHgHOTk5kZGRvr6+ERERn3/+eXV1dfus17t374SEhPZZr3O++ooplQxg27eLEJuriKVWqwGkpKTYXojYeEVFxYcffii8Dg4OBmCbxUudzZs3A1iyZAljbMGCBYJSERERW7ZsuXnzZndb27GDAUyhYI5f23KVO0i5VmwPDAxcuHDhHR2J2L4TEf6flJWVAVi4cGFhYeHixYtnzpwpl9tze8Gbb6KwEBs24NVXceQI2qaL9uAq+/eO+sf8DrwbizVy5MgDDj+9eP16XL6MTz/FunX4/HP723GV22Zsd+3xPvButni6vViiIJNh926sWYOUFKxfb10/kpaGioruteMqYvXYw0vccsQqLS0VsU1PT2i1aGpCSgp27QKAr79GdXX3GnE5sXomFbrNiBUYGOjh4XHjxo2WlhbRG587F3v2dHusEnAtsXogFcbEFE6adFGhcJMRSyaTBQYGMsYq7Dv+naJQYO1aaDT2fNdV9m/PPBXHbEZGRrhCAbvOmVyUdesmm82FXl7lQJjjrVVVISDg9o/jx2P3bmRldbsdV9nBPfNUHLd8EOtTT90cO/ZbpbLE8aZu3cLIkfj5z2+XqwCwcSOKirrdlKuMWD3zVBy3fHS0h0cwgNZWEU4MtVqUluLKFVRVIS0Nq1YBQEAALlxA2589u4qr7OOeudzgxmKZTI6K9f332L4dCgU+/BDLl2PvXpSWYvNmAAju/vOQH6xU6JZiKZXiiLVoEUwmvP02Kiuxdy9UKixZ4kBUDkYjFj2TCt1yjtWWCh26lPXPf+LwYQQFYeVKTJ4MAKtXY+BA+xt0lRGLUqHdeHiEwLERq6amNjGxHMDGjfjrX5GdjaFDsXSpQ1G5yj7umVTo5YWEBHcrGuN4Kly79k9Xr+567bWdM2b8VLjpJiUFDj6iz+XEUqlUfn5+PJ48eOIE/vEP6HQAsGwZNm0SvQfn0KtX2EMPLfD0HGzf1y9evLh161az2bxo0YBly1BTgxdfRNsyFPtxlVTY1NQEQC6Xp6enV1dXR0dHi9JsQwP+/GccPQoA5eU4eBCpqQDsueLnsshkXjKZor7+dGlpkh1fX7x4sclkmj9/fkNDQ3Hx0pCQW8KZoKM4ekOXw1RWVmo0ml69egUFBcXGxp47d06UZs1mptez/v0ZwMaOZRYLS0tjH3zAJk9mt26xyZNF6cQlqKjYWVqaxBgzm7u9/GTPnj0AAgICSktLR44cCWDDBnHW3TtTrMbGxg0bNgiLWJRKpbC+T6lULlmyxI67H9tz4gQbN866rHnMGHboEKurY2lpbOtWduAAW7rUrcSqrT2Wnf3EzZtfWSytZnNDbe0Rs7nh/l9jrL6+XliUsXPnTuFO1CFDhtixNO2uOEesjsv6zp07d+PGDbVaLZwPBgQE2LeoPCen+YUXbq+U1+tZWRlTq9nAgWzPHrZ1K2OM/exnbOBA0bfJmTQ2Xrp2TZOXN6um5mBmJrKylBcuRBYVJVRW6pua7lle4rPPPpPL5bGxscXFxcK6yP3794sVkhPEOnny5IQJEwSlIiMj79iY7OxsYQklgOjo6K6XWxFqhwwbNsrDo8XHh2k0rKyMrV1rXXzi4cHWrWMff8wYY1evsv79Rd8s55OdHXPz5v6LF0dnZSkyM2H7d/78gMLCn588uTsrK+uOBcCnT58+d+7cL37xCwAvvPCCiMH0qFhFRUW2hc6hoaG2UkQd6Va5laampqSkJGEVlEKhWLnyUHExS01lgwZZh65p09iFC3w2yQWort5bUDAvP3/utWvvCu+YzXW1td+UlCTm5c06ezZA0OuXvxwFwMfHZ8KECWq1OjU1tbKykjF27NgxmUzm7e1dUFAgYlQ9JFZ1dbWtFJFKpWpfiuhedCy3clcLO9YOOXTIHBVlVWrsWMZhVZ+0MDc0fFde/tHbb785dOjQ9udtcrk8MjLyoYceArBmzRpxexVZrI6lFlpaWnQ6nRC9XC6Pi4srKirqeoOdlFuxWCy2QniPPfbYgQMHhOJskyf/HmBhYUynYw4UYHNPbt68aTQatVrttGnTvL29hdQRGBgo+vJd0cQymUw6nS48PDwvL8/2psFgiIiIEI791KlT7S6XYyu3Iiwqt5Vb0Wg0Qu2QkpKSRYsWeXh4AAgMfGjjxvqGLp0YPdA0NzcfO3bs4YcfBvD111+L27g4YhkMBtsC3NWrVzPGvv3226eeekp4Z9iwYampqQ52cddyK7W1tVVVVXcUZyspKRFjmx4U3nvvPYhd3IA5Ltb3339vK7YxdOjQ1NTUnJycoUOHCjP0oKCgv/zlL90qRdQ57cutREVFJSUltZ9giXVx9YGiqqpKpVLJZDIRy5YwR8S6fv26rTCrn59fYmJiZWWlUDDI19dXJpMtXrzYweuc98JW9UoYqEaMGCHiBZgHkDfeeAPAO++8I2Kb9ohVV8cSE9mECf+HtrJP169f37Ztm1B7QyaTzZkzp7tFDbsfQ51QY+3NN9/kWnjjQUAoke/r63vr1i2x2uyeWK2tbMcO9vDDDGAyGVu06L38/Hyj0Sj8mQnAk08+efz48YyMjHnz5jWJWw29A/PmzQOwZ88err08IEyaNAmArXSK43RDLKORPf649fpQTAw7coT997+mH/94qqDUI488kpaWVlhYOG/ePGGCtWXLFrGivCsvvfQSgL1793Lt5QFh7969crly7tyPerTwWnb27VLV4eFMr2dXr7KEBKZQsEmTEvz9/dtPsAB4e3trNBpOEywbc+bMAZCWlsa1lwcEk8n0xBONAEtPF6fBLon1yisMYP36saQkVlnJVq5kKpX1wQ2rVlWVl5frdLqgoCBhgiVKrceuIBQh7kpNZaIrvPceA9jzz4vTWpfEKixkajUrK2N6vXWCJTyXoaCApaWxl15KEbLhlClTMjMzxYmrCwjXHf4tyrNHCMYqKpi3N5PL2d2eZ9BtOhMrLo7l5jLGmNHIPvqIPfaYVanx41lGBsvMZJMnC09naJg4ceq+fftECKc7PPPMMwDSxRq7CcZ+9SsGsN/+VoSmOrs1OS8Pv/89AJSUwGRCeTkGDIBej3/9C598gieewJEj8PeHVut98OBBoTptT+JmBYlcAbUaAHbvRl2do011JlZAAKKj8emnAODlhQMHcOYMSkowYgQ+/hhyOdRqFBRAo3F0RYd9BKYEjsga4THSwwl9uymjR2PiRNy8ib//3dGm7rOYYvly6HSorbX2OmcO/vAH1Ndj3jzk5CAlBW2loJ3AtV7XspEtV7nKehD3YPFiANi2zVrLz27uc1Q8PbFixe2VUsuWITYWR49izx603VfsNMwwA1C6zAo29+DFFzF/PnbtQluVeDvpTCzhmQbTp2P8eGuymz0bJ0+i7QFKTqaVtQJQykgsMVEqERqKjz6y/vj88ygowFtvWX/84AOkp3etnU5+t2+f9UX7jOugyCJCYnGiqQnXriE9HdOno7YWFguam62/ammxlim4LxI+KmZmBqCQuVeJD9fg3Xexdi3abqhDZiaEZx2dOoXRo7vUgoTFakUraI7FB19fLFiA99+3/vjoo1axtm7tagsSPqWiVMiVV15BVpa18JO3N0JCEBJinXZbLLhwwXqt4F5IWKyEwARNsMZP4dfCWspby50djvswZAj69gWAxESMGQMfHzz+uPVXEREICsI336C0FO++21kjMubg9QonUWwq1pZoa8w1QzyHvOL3yo7KHdvCtzk7qAeI5masXo2NG+/5Aanmkfii+I1hG6NV0acbTluYxdnhPFjU1iIlBW2PLr07kkyFDZaGJktTtCoaQIwqxlPujL8oPcAcPow+fdD586AkOWKZmZnm7E7k+efv/xlJjli+Ct9m1lxsKnZ2IMQ9ker/++3h239z5Tf9FP1aLC1rQtf4KnydHRHxA6R6Vki4OJJMhYTrQ2IRXCCxCC6QWAQXSCyCCyQWwQUSi+ACiUVwgcQiuEBiEVwgsQgukFgEF0gsggskFsEFEovgAolFcIHEIrhAYhFcILEILpBYBBdILIILJBbBBRKL4AKJRXCBxCK4QGIRXCCxCC6QWAQXSCyCCyQWwQUSi+ACiUVwgcQiuEBiEVwgsQgukFgEF0gsggskFsEFEovgAolFcIHEIrhAYhFcILEILpBYBBdILIILJBbBhf8H6onkdlCAEmIAAAGQelRYdHJka2l0UEtMIHJka2l0IDIwMjMuMDMuMgAAeJx7v2/tPQYg4GWAACYgFgFiUSBuYGRn0ACJMbNBaBY2BxDNDKQzQDQzI1wAqgCuASrOzgBWyMTIxpAAkmCC0+gmsUME0HUyMglABJjQFQgyKABpRm4GRg2gKgUm5gwmZpYEFlYFVjYNoPYMJnYOBQ5OBk4uBi5uBm6eDCYe3gRevgwmPn4FPoEEdsEEQaEMJiFhBiGmBAHuBBGQx9mYhATZWZhZebgF+HjFf4GMhwYLg4jGvQsHGHOFDoA4774sO9DgdHw/iJ0hXnXgd2gwmP1lS8WBM/N17EHshkcqBzKebwazuRuUD6h9tHQAsafLKh3w+d4DZjM8XbKfn0MZrEbh13qbLun1YPaL+cvtgwokweyMReoOa/xXQdhCVQ7TbvCD2Uc0Vzo0V00Gs2sOn3DYb7nXBsRerLXBQfL1QrB7DPkOO6w10wS72Sm20eHdtDyw+MuVy/dvfxsDZmcuVz8Qx3cGzL7LqXlgIYsbWL0YAL1BYpRhpWddAAACAXpUWHRNT0wgcmRraXQgMjAyMy4wMy4yAAB4nH1UW24bMQz89yl0AQt8S/yM7aAoithAk/YOBfLZ+6OkXEcKKnTXItbaWS45M9xDyeP75duv3+XjoMvhUAr85+fu5ScDwOGl5EU5PX/5ei3nt6fTY+d8+3F9ey0EhTCeifMz9unt9vLYwXItR6tKDdHLkSr15sAFKoxjPkvlXI5aCRtHCUesqtawbZCcSK4OzVogoXZSZdwg5Y7s3UA07lsTxt3LNYFUtRmTFKwCKlHFv0D7C1Qxj5qjCGXZZWzZeACZQa1IZsS+66ZnRgxeOnG+0di60AbokTF2CaVTlBgwoL7BYSiU98GDwLiv7txgB8QAUjX0eHk+EaVGrRtgajMI55a9qmHfsoMpTWjYjcUjI2rIuc0o0YxVahzQ0VWUu82oI6OCEujgycS3PKKNlNG1dE7qTdhtR2SY6jUUAaEoM/3jjO5bhnqqOLjs0XlazWI2tkn97oxgU52Hf12w7wSKwTm/3ytEopYOBRfgXdrn6+XTPN0n7HS7XuaEcSyaYxR/Cs9ZkVxzIPLUaXuMZdPcHKtNCwe09GlUjOXTjphrtR2OgIu/cARajCQZkBfHSAaUxRqSAXXxAI5gi9YydtqiqWSFfZFOMqAvCmEGWoWQ3PmoJr5nkqlmxcn/ynb+f3wL4/rwB9taAPD19T68AAABCXpUWHRTTUlMRVMgcmRraXQgMjAyMy4wMy4yAAB4nCWQO44DQQhEr7KSE4/EIP4NmnByX6LTlZNNffil2xkqVT0oXo978pzP+/E65vN131Pmu4fjT4735Pv35/M8A10GC5yCkqPgOh2Fh8HJ6B5DWlEsGpFwEqa4K28tM8iAMIYpa0uCPkIFGI3cv4JbFEjnXe2rqFKALQuvbdxrUzZHI63XEZKwJUeDWqJG90Dlo01epQMuweCSWg4lD7j2ibodwVlN7hoZ6m1hF064AmVoBix+4zKXx8llVZWwFQrsPZbrG2FaDTYkk9DVvZTre/KKj/2OUCLZxfogr/21st1sIVg6qQ21rnF8/gH9e1Kpz+ylzQAAAABJRU5ErkJggg==\" alt=\"Mol\"/></div></td>\n",
       "    </tr>\n",
       "    <tr>\n",
       "      <th>2</th>\n",
       "      <td>C=C[C@](C)(CC)C(=O)N[C@@H]1CN(CCCC2CCC2)C[C@@H]1O</td>\n",
       "      <td style=\"text-align: center;\"><div style=\"width: 200px; height: 200px\" data-content=\"rdkit/molecule\"><img src=\"data:image/png;base64,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\" alt=\"Mol\"/></div></td>\n",
       "    </tr>\n",
       "    <tr>\n",
       "      <th>3</th>\n",
       "      <td>CC#CCN[C@@H]1CCCN(C(=O)[C@H](C)OCCOCC)C1</td>\n",
       "      <td style=\"text-align: center;\"><div style=\"width: 200px; height: 200px\" data-content=\"rdkit/molecule\"><img src=\"data:image/png;base64,iVBORw0KGgoAAAANSUhEUgAAAMgAAADICAIAAAAiOjnJAAAABmJLR0QA/wD/AP+gvaeTAAAVTklEQVR4nO2de1BU1xnAPxbY5aWAiKKggDGoREGjGYMoovEtMcYE2066yEyVJCPdMY0Rm9aQx7RBRw3SziSgTTWSWDE+YowaG5/ER9TwKiryWBFQHgLLAqIsy37945BVISJc9tx7F77f5I8Vdvf7svz2O+eec885NogIBGFpFFInQPROSCyCCyQWwQUSi+ACiUVwgcQiuEBiEVwgsQgukFgEF0gsggsklthkZmbu3LmztrZW6kT4QmKJByJ+8sknEydOjIqKGjZs2Pvvv6/X66VOihtIiEJhYeG0adPYZ25nZ8ceDBw48KOPPqqrq5M6O8tDYnHHZDIlJye7uLgAwODBgw8cOICI6enpL7zwAtOrX79+Go2mvLxc6kwtCYnFl5s3b86aNYsJFBkZWV1d/fBv09PTIyIi2G+dnZ01Gs2tW7ekStWykFgcSUtLc3d3BwBPT8+vv/76cU/LyMiIjIy0sbEBAJVKFRMTU1JSImaePCCxuFBRUfHSSy+xUrRw4cKu1KHs7Gy1Wm1rawsA9vb2arX6+vXrIqTKCRLL8qSlpXl4eACAq6trcnJyt16bm5urVqtZ716hUERGRl69epVTnlwhsSxJVVXVK6+8wgrV3LlzS0tLhb2PVqvVaDQqlYrpFRERcfnyZcumyhsSy2IcOnRoyJAhANC/f//k5GSTydTDNywuLtZoNI6OjgBgY2MTERFx4cIFi6QqAiSWBdDpdDExMaxQTZ06tbCw0IJvXlZWtmrVKicnJ/b+gYGBX331lQXfnxMkVk85evSoj48PADg6OiYkJLS2tvKIcufOnfj4+P79+7NAZWVlPKJYEBJLOHq9PiYmhg0ThISEiHARp9Vq2fhFZmYm71g9hOYKBbJjxw5vb++UlBSVSrVx48Yff/wxICCAd1B/f/+goCAAkP8ko53UCVgr7777bmNj44gRIw4dOjRmzBjR4g4YMAAAampqRIsoDKpYAmE148svvxTTKgBgI2Tyv+uGxBII84kNlIsJVaxeDvsDi185pIrbXUgsgUjVJFFT2MuRqkmiprCXI1XlsJamkIYbBMIGKsX/A3t6Tho/XufgIPZFQ3chsQQiVcVyc3PJyoKhQ0UO222oKRSIVH0dDw8AANl3sUgsoUjV13FwACcnaG6GpiaRI3cPEksgEl72DxgAACDz7juJJRAJL/uZWDJvDUksgbi7uysUCp1OZzKZRA7NullUsXontra2rq6uJpNJ/DtYJGsKS0th/3744Yeu9O9ILOFIN/gOIH5TuGcPREZCaSmcPg1Tp8Lt250/ncaxhDNgwICioiLx+++BgRAaCm5uIoZsbYW4OPjpJ/D0BADw9YWPP4Z//KOTV1DFEo4kF4Z79sDzz8OPP8LSpXD0KBQXixK1rAw8PNqsAoDwcLh8ufNXkFjCkaQp3L4dli2Du3cBAPbvh4ICnsG0WoiPBwBQKODha5TWVrB7QltHYglHqjHSl16C99/nHAMRPvsMgoPhww8hNRW8vaG+Hioq2n57/DhMntz5G1AfSzhSjZH+4Q8QFQU5OdwClJdDTAwcOgQAEBkJ8+aBQgGbN8OiRfCb38CdO3DyZNtvHw9VLOFIVbFsbeGf/4TYWGAHt504AXV1lnv3PXtg7Fg4dAjc3GDnTkhLg6tXYcUKiIiAb7+F0aNhwQI4c+ZBf+txSL3+zIrZtGkTAISEhIgQy2DADz7AjAxcsAALChARV6xAHx/ctw9dXdHFBTUa7OnObRUVuHgxAiAALliAt25hUxOuWoUKBQLgl192681ILOFs2bKFfTmjo6MF7//RFXJzceJEBMDgYJw/v02smhr09MTt23H27DYZXFzw7bcF6qXftw89PBAA3dxwxw5ExAsXcPRoBEA7O4yLw+bmbr0hiSWc1tbW8ePHM7dUKtWbb75ZXFxs6RCYmIgqFQKgry+eOIENDWhexN/YiAYDImJmJkZGoo0NAqBSiWo1dn37CJ1Op1arw4YNM7m44Jw5WFKCBgPGx6OtLQJgYCBeuiQg894gVkNDw969e0+ePClaxNjYWPPOHx03TMvLy7NIlKIiDAtrq0ZqNdbXP+H5GRn4yittDZdSiStWoFZb2/lLDhw4MHjwYADo16/f5Z070WTCnBycMAEBUKFAjQbv3xeWvNWLlZOTw67O2EY/XPeRamhoYA/y8vLa7VJUVFQUExNj3jAtIiIiIyNDcCCTCZOT0dkZAdDLCw8e7MZrr1xBtRrt7HDIkFJHR8fHbd1WV1dn3iEnNDS0oKDAYDCUb9qE9vYIgAEBeO6c4PzRqsVqaWn58MMP7e3tAcDOzo5tU2ZjY7N48eJLgqp35+j1eh8fH61W28lzbty4odFoHBwczKJfvHixu4Fu3LixYIGeFaqoKNTphGSbn49//nMq+3AUCsXSpUuzs7PNv/3++++HDRsGD+2Qc+XKlUmTJk308jK5u2NMDDY2Con6ENYqFvsg2N8vJiamoaGhsrIyLi7OvI9UaGjo8ePHex5Ip3vw1d26devZs2ef+JKKioqHM5k1a9b58+e7GG7Hjh39+vWbNm35oEG4b5/grNu4efOmees2lsmpU6c0Gg3bIef555/Py8szGo3r169nX0t/f/+rZ870NCoiWqNYra2tiYmJ7IPw9fVtZw/Tq1+/fuyjnDFjxvHjJ3oS7uJF9PIScqlVVVUVHx/v6upqFv1gp01aaWnp3Llz2ZOXLl16506L8KQfpd1XjvUF169fbzQai4qKwsLC2A/VanX9E/txXcbKxOriB6HX6xMSEtgAZmjopyEhePAgdmvrxs8/x6NH2x7/9a/41lsCE66uro6Pj2drxcx6ddxFMi0tjWXr5ubW3f1wu0hlZeXatWvZV87JySkpKSk5OdnZ2RkAvLy8OpdeAFYj1sPnO3Txg9Dr9X/7298mTbrL+ivPPov79mEXN9w7fhy9vbG2FhHRYGi7qhdMfX19YmIiu/4CgODg4LS0NKZXZWXlyy+/zH4+f/583lv11dTUhISEsPERFjQyMrKmpsbigaxDrOLi4pkzZwr7IBobMTERvb3brtufeQZ37MCWLrQzsbEYFSU85440NDRs2LDBrFdgYODChQsHDhwIgjbuFszhw4dZAl5eXt988w2nKFYgFuvPAsCgQYP2Ce3QNjfjjh04cmSbXv7+mJiI9+/jH/+I1661PWfdukeEa2zE1NQeZ9+B+/fvJycns4sy1omePXu2mEdRZGVlAYCnp+edO3f4RZG1WOXl5S+++KK5UPX8g2huxm3bHuj1l7+gpye+8EJb92vUqO7OW/Qkk+Zly5aFhoauWbOm5xt3d4uSkhIA8PHx4RpFFmIZDAYx+7NGI6am4vjxWFKCAQEYG4v//jeiuGJJyN27d1n/nWsU6cXKzc2dNGnSZ599Zv6JmP3ZgACsqcExY7C6uq+IhYhsCLepqYlfCCnFMhqNH3/8Mbs8GTduHNshPS0tjfVn2fkOvHMICEBE/PxzfPPNPiTW0KFDAYDrN1YyscwjUmzovL6+Pj8/38/PjxWqOXPmiNOfZWKZTDh9Ovbv31fEGjt2LADk5OTwCyGBWGxEig3NDRky5Ntvv0XEw4cPmye2+J3v0BEmFiL+739ob99XxJo+fToAnDp1il8IscW6cePGjBkzHh6Rqquri46OZj9xd3c/ffq0aMkYjY/Mx333HfLsdcgI1oXdu3cvvxDiicUKFRuRGjx48P79+xHx2LFjbETHwcGBFar8/Hyj0ShOSk1NOHLkg38+9xz2loNzn8Dy5csBYOvWrfxCiLSYory8fNGiRa+//npDQ0NkZGRubu6cOXPWrl07b9680tLSyZMnZ2ZmvvPOO9u2bRs/fvzGjRvFyarPIsKKSDGWf+3Zs+eNN96ora11c3NLSkpSq9Xnzp2Ljo4uKCiwt7dft27dunXrtFptWFjY2bNnbWxsSktLRciKcecOxMa2Pb55U7SwEsPE0ul0HGPwK4aIWFFRsXjxYhZowYIFt27dunfvXlxcnEKhAIBx48ZlZGS0m13mN3vVkaYmHD4cr1xp+2/cuL7SFKakpADA8uXL+YXgKJZ5RMo8w3rhwoXRo0cDgJ2dXVxcXHNzc7vZ5erqan75dKTP9rH27t0LAEuWLOEXgotYbOEH04WNSBkMhvj4eLbi4JlnnmG3Dj88u8z1CuVx9FmxTp48CQDh4eH8QlherO+++44N7Do5OSUmJppMppycnAkTJgCAQqHQaDT3799nfXlm3quvvlpVVWXxNLqCyYRXrjz4Z15eT++7shays7NZV4RfCEuK1djYGBUVxXQJDw+/ceNGS0tLQkKCUqkEgBEjRrAxqrS0NLauht/dkkTnlJWVAYC3tze/EJYUq7W1derUqeaFH2x2GX6ZtGlsbKysrFyyZAkzb968efI/2Li3cu/ePQBwcHDgF8LCTWFhYeH169cfXu/g5+d34sQJRNyzZ4+npyeINbtMdA5bunP37l1O72/5PtaxY8fYMIl5dlmn05nXRop8tyTxOLy9vQGA35YTlhTLZDIlJiay222dnJzYeocjR46w/wcnJycxZ5eJzmE3OPBY2cuwmFharTY8PJyVpdGjRxcXF+v1enOhmjJlSn5+vqViET1Er9eze/02b97MKYRlxOq43qGkpMS8iHvz5s1UqOTD8ePHfX192cA1v4Genor1uPUOJpNp/vz5kydPvmZeBENITVNTk3k+LTg4mLWDt2/f5nEt1SOxHl7v8MUXX7T7bW1tbUtX1u8RonDu3LmAgADzfJqhw1hwaWlpYmKipcIJFKvdeodbfWQqxDphE/9sPm3s2LE///zzrz6ttLR09+7diNjS0nLkyJEeBhUiVsfZZUK+XLr0++nTWaF69913m7tw8/WuXbtmzpzJHldUVAgL2z2xOs4uC4tKiEFLCyYkoFJZM2HC0yNHpqend/F1RqOR+ZSdnT18+HBhN/R2Q6zDhw+3m10WEI8QiexsHD++bcfHP/3JeO+egPdISUlJSkpCxPr6+qCgoMbu7MbWJbE6bisoIEtCJFihYhvi+vujJbZmTUhIeO2119jjlStXVlZWPvElTxar47aCPU2T4EdhIU6digBoY4MxMfjLpqk95ODBg2zH3mPHjo0ZM4Y5sHv37k6GwToT6+7du+22FbRIloTFMBrx2jXMyEDW0u3ahQ4OCIDDh+N//8sj4OzZs1NTUxGxvLzcw8Ojk9L1WLFycnL8/f0BQKVSJSQkiLYki+gqt29jSAiuWIGrVmFwMF66hNeuoaMjRka2bRjHgVu3bjET3nrrrbfffruTZz5WrLq6umHDhgUFBWVmZlo+QaLnrFiB27e3Pf75Z3zuOUTEmzdFiGwymWbPnn379u1OnmOD7KSfXyM/P9/f35+tfCdkR2AgpKe3nTwOAL6+kJcHv2yQLDmdLVgNCAggq+RLS8sjp1Ha2UFLi3TZtIeOlbNagoPh/Pm2x2VlYG8P/ftLmtAj0EGYVst770FUFNy+DS4usGUL/P3vUif0CJ31sQi5U1EBR4/C/fswYwaMGiV1No9ATaE14+UFzc2waxdkZUmdSntILCunrAzOnIH8fKnzaA+JZeUMGAAAIPq51E+ExLJy2DgWiUVYGFaxeG6hJgwSy8qhppDgAjWFBBfk2hTSAKmVYzSCUgkKBRgMoJBRmaApHSvHzu785MlViPPq61VublJn8wASy+r5fVWVVqstqq0dISexZFQ8CWGIsGm7AEgsq4ftu1krswtDEsvqoYpFcIGJRRWLsDDUFBJcoIpFcIHEIriQm5sLAAUFBVIn8gg0QGrFGI3GTZs2bdq0CQCefvppqdN5BJortFauXr26bNmyy5cv29jYhISE7N+/f9CgQVIn9QBqCq0Pk8m0ZcuWZ5999vLly76+vj/88MPZs2dlZRUA54MwCYtTVFQUFhbG/nZqtbq+vl7qjH4dEstqYEfROjs7A4CXlxc7+EO2kFjWQbujaGtqaqTO6AmQWFZAx4M/5A+JJWsed/CH/CGx5MvDB39Y3X76JJYcaXfwhzUeRUtiyY7ecfAHiSUjtFrt8uXLWaGy9qNoaUpHLpSXl/v5+RkMBhcXl40bN8bExLCN0K0UmoSWC59++qlSqbS1tc3KynrqqaekTqen0FyhXAgMDGxsbFy0aFEvsApILPkgz/v1BENiyQV53rouGBJLLshzFZdgSCy50MsqFg03yAilUtnS0tLc3KxUKqXOpadQxZIR7u7uAKDT6aROxAKQWDKiN10Y0gCpjIgODkZXV5VeL3UiFoDEkhFxTU3w009QVSV1IhaAmkI5IdedagVAYskJue5UKwASS04wseiqkLAwVLEILsj1mAkBkFhygjrvBBeoKSS40IsqFg2QyomhQ+HkSRg4UOo8LACJJRtMJkhIgO+/B6USHB0hKQms+R5lEks2fPUV5ObC6dNgawunTsFvfwsXL4LVLtShPpZsOHAAYmPB1hYAIDwcEKGkROqchENiyYbq6rarQoaHB1RXS5dNTyGxZMOIEZCf3/bYZIKiIvD3lzShHkFiSU15Obz8Mly8CLGx8MEHkJMDNTXw3nsQFvZIAbM26J53SfnPfyA2FmpqICQEzp2DixfhX/+CmhqYNg1WrgQ7K760IrEkQqcDjQZSUwEA5s6FbdvAx0fqnCwJNYVScPgwjB0LqanQvz8kJ8ORI73MKqBxLLHR62HNGkhJAQAIDYXt22HkSKlz4gJVLPE4evTowd/9DlJSwMkJkpIgPb23WgXUxxKHhoaG1atXb9261cPd/crkyYO2bAGZHX1jcagp5M7Zs2ejo6MLCwsdHBxWr1njsXp12/B670bS/QR7OU1NTXFxcQqFAgCCg4OzsrKkzkg8SCxenD9/ftSoUQBgZ2cXFxdnMBikzkhUSCwurFy50tbWFgCCgoL6VKEyQ513Ljg6OhoMhtjY2A0bNqhUKqnTkQASiwtubm56vf769esBAQFS5yINNI7FBT8/PwC4d++e1IlIBonFhV6276MASCwu9LJ9HwVAYnGBKhaJxYXetDefMEgsLpBYJBYXSCwSiwvUeSexuECddxKLC1SxSCwuUMWiuUIuGAwGlUqlVCqbm5ulzkUaqGJxQalUOjs7GwyGxsZGqXORBhKLF328m0Vi8aKPd7NILF5QxSK40McH30ksXlBTSHCBmkKCC+y4VBKLsDB9vGLREnteTJkyZfPmzUFBQVInIg00pUNwgZpCggskFsEFEovgAolFcIHEIrhAYhFcILEILpBYBBdILIILJBbBBRKL4ML/Ac2+5l18zSS0AAABhnpUWHRyZGtpdFBLTCByZGtpdCAyMDIzLjAzLjIAAHice79v7T0GIOBlgAAmIBaF4gZGNoYEIM3IzMagAZJjQdAgcSYmdgjNyKZgAqbhEug0O1gjM9QgZhYOCM2EppGRmYNBASSArh+rMMhdED43AyMDIxMHMxMz0GwGVhYWJlY2BjZ2BnYOBg5OBk4uBS5uDSYuHgYeXhYmHj4GPn4GfgEGAUEGQSEGIWEGThEGEVYGEUagUWysIpwc7GzibEAOIzRIGERNup4cYHex2g/inDq954BP8QtbEDuRd+qBWwkl9iD2h7lRB5befApmazuyHBBgnARmJwoG7/dY9RciPjFvP/e0OAcQ2/bIPLsQ0y4we2bWFfuYuiwwu07rkX3pXi4wm6XI3SF00UGw3uzybofjS8XA4t8D/RyeKHbYgNhx4ZMcZAqUwW4D2QOyD8QW38rqYN8qcgDEFngYYX870gvMBrkX5G4Q+4HK5H3rv68Hs2d4WexTvnEfzN6UyGa/+eJKsL1iAPO9WqSBza+2AAACBXpUWHRNT0wgcmRraXQgMjAyMy4wMy4yAAB4nH1UQY7bMAy85xX6QAQNKYnkoYdNsl0UxTpAu+0feu//UVJpYgUVKluELY8okjP0IcX4dvn663d6DLocDimV/9xmln5yKeXwnuIhnV7fvmzp/PFyuq+crz+2j++JEHeJ6xn78nF9v68gndNRMipUSjqWLCS9+LZcxtj3UiBbVjMV8e8AtyWQA1hzb6LK/t1a7YUXwBpAzhVNzSPJYk1KWwBb2tKRcum9ijoQtbj3BbCHx5KVatXqQFNIswVQbkBjmIfmMYhY0QVQHVgyoxRDqjnwKAucOQ6es7Xhr3e2Tgucb94i1d6NKFFGF0VdAYMZ9ip35kilwYlZ5QxK14isKZO6R26sfZUKeHgkYmmDDvSOJTCIqbkJo7coU2ettCojmp/9KPNe+QUyqHEK1eAUOplMxTNbIWWUXKvAPbk+0CG89Kl++kNfs+T+QdqNb1Jh59FlXE1NV1qjcoNCzITSsWezhuX5hBFpo2oUsmTqghXpr9vlqelubXi6bpe9DeOivdc45t5R8Fn3vnEpprZ3B1z4LZ0/v33ivRNiUXa9w6fuqoZP28WLmLNIMQwmNVIY0CQ7jBWe9IVh6nMoqH/X2yQbDNMneWAYmWSAYXSiG8PYRCvC0MzeiJwwkTT+g30mYy59vN//nv58+AP3vgpg6N+0GAAAASB6VFh0U01JTEVTIHJka2l0IDIwMjMuMDMuMgAAeJxFkE1qxDAMha9S6CYBx1j/UofCgLuYVecAZc7RzRy+L0lpIRD5s/T8nuZ8nfPza16vtwdNlMtc3u8rwO2xzPU+J7510stz2aKTUkbbRg8OH9Qum/WsymyjE4kdSLtbHKhMfQiQdCXLatSjLAC4D3dNAFJUIKMnq6YCVVKcqIQKAhiPKGiPLjQGKu37DQjhsTJ0uEv5fg734sadPBINAmMuAlkjDryNUUsAxl+QBh3MEga/g9zp7LEQ8j2pSyrXLnza+jd6QYgsyoY0wsNl95cahDskJkgd6HcLf3vZg3GGIAbWp5V1Moqq4LZ5rzI6Ro21eN+SsAe1tX1/vGGkEeLx8weLpFsEddwrZQAAAABJRU5ErkJggg==\" alt=\"Mol\"/></div></td>\n",
       "    </tr>\n",
       "    <tr>\n",
       "      <th>4</th>\n",
       "      <td>C[C@H](NC(=O)C(=O)NCCCCC#N)c1cccc(C(F)(F)F)c1</td>\n",
       "      <td style=\"text-align: center;\"><div style=\"width: 200px; height: 200px\" data-content=\"rdkit/molecule\"><img src=\"data:image/png;base64,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\" alt=\"Mol\"/></div></td>\n",
       "    </tr>\n",
       "    <tr>\n",
       "      <th>...</th>\n",
       "      <td>...</td>\n",
       "      <td>...</td>\n",
       "    </tr>\n",
       "    <tr>\n",
       "      <th>9995</th>\n",
       "      <td>N#Cc1cccc(NC(=O)NCCN2C(=O)CCC2=O)n1</td>\n",
       "      <td style=\"text-align: center;\"><div style=\"width: 200px; height: 200px\" data-content=\"rdkit/molecule\"><img src=\"data:image/png;base64,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\" alt=\"Mol\"/></div></td>\n",
       "    </tr>\n",
       "    <tr>\n",
       "      <th>9996</th>\n",
       "      <td>C=C[C@@H]1OCC[C@H]1C(=O)N1C[C@H]2CCN(Cc3nnc(CC...</td>\n",
       "      <td style=\"text-align: center;\"><div style=\"width: 200px; height: 200px\" data-content=\"rdkit/molecule\"><img src=\"data:image/png;base64,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\" alt=\"Mol\"/></div></td>\n",
       "    </tr>\n",
       "    <tr>\n",
       "      <th>9997</th>\n",
       "      <td>CC[C@@H](NC(=O)Nc1ccc(C#N)c(C(F)(F)F)c1)[C@@H]...</td>\n",
       "      <td style=\"text-align: center;\"><div style=\"width: 200px; height: 200px\" data-content=\"rdkit/molecule\"><img src=\"data:image/png;base64,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\" alt=\"Mol\"/></div></td>\n",
       "    </tr>\n",
       "    <tr>\n",
       "      <th>9998</th>\n",
       "      <td>C=CCn1c([C@H]2CCS(=O)(=O)C2)nnc1N1CCN(C(=O)N2C...</td>\n",
       "      <td style=\"text-align: center;\"><div style=\"width: 200px; height: 200px\" data-content=\"rdkit/molecule\"><img src=\"data:image/png;base64,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\" alt=\"Mol\"/></div></td>\n",
       "    </tr>\n",
       "    <tr>\n",
       "      <th>9999</th>\n",
       "      <td>C[C@H](N[C@@H]1CN(Cc2ccccc2)C[C@H]1c1ccccc1)C(...</td>\n",
       "      <td style=\"text-align: center;\"><div style=\"width: 200px; height: 200px\" data-content=\"rdkit/molecule\"><img src=\"data:image/png;base64,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\" alt=\"Mol\"/></div></td>\n",
       "    </tr>\n",
       "  </tbody>\n",
       "</table>\n",
       "<p>10000 rows × 2 columns</p>\n",
       "</div>"
      ],
      "text/plain": [
       "                                                 Smiles  \\\n",
       "0          Cc1cc(C(=O)NCCN2CCCC2=O)c(C)n1-c1ccc(C#N)cc1   \n",
       "1                     N#Cc1cc(C#N)c(NCCc2cnc(N)s2)nc1Cl   \n",
       "2     C=C[C@](C)(CC)C(=O)N[C@@H]1CN(CCCC2CCC2)C[C@@H]1O   \n",
       "3              CC#CCN[C@@H]1CCCN(C(=O)[C@H](C)OCCOCC)C1   \n",
       "4         C[C@H](NC(=O)C(=O)NCCCCC#N)c1cccc(C(F)(F)F)c1   \n",
       "...                                                 ...   \n",
       "9995                N#Cc1cccc(NC(=O)NCCN2C(=O)CCC2=O)n1   \n",
       "9996  C=C[C@@H]1OCC[C@H]1C(=O)N1C[C@H]2CCN(Cc3nnc(CC...   \n",
       "9997  CC[C@@H](NC(=O)Nc1ccc(C#N)c(C(F)(F)F)c1)[C@@H]...   \n",
       "9998  C=CCn1c([C@H]2CCS(=O)(=O)C2)nnc1N1CCN(C(=O)N2C...   \n",
       "9999  C[C@H](N[C@@H]1CN(Cc2ccccc2)C[C@H]1c1ccccc1)C(...   \n",
       "\n",
       "                                             Molecules  \n",
       "0     <rdkit.Chem.rdchem.Mol object at 0x7f949aca4120>  \n",
       "1     <rdkit.Chem.rdchem.Mol object at 0x7f949aca4430>  \n",
       "2     <rdkit.Chem.rdchem.Mol object at 0x7f949aca4580>  \n",
       "3     <rdkit.Chem.rdchem.Mol object at 0x7f949aca4b30>  \n",
       "4     <rdkit.Chem.rdchem.Mol object at 0x7f949aca4ba0>  \n",
       "...                                                ...  \n",
       "9995  <rdkit.Chem.rdchem.Mol object at 0x7f949aad0890>  \n",
       "9996  <rdkit.Chem.rdchem.Mol object at 0x7f949aad0900>  \n",
       "9997  <rdkit.Chem.rdchem.Mol object at 0x7f949aad0970>  \n",
       "9998  <rdkit.Chem.rdchem.Mol object at 0x7f949aad09e0>  \n",
       "9999  <rdkit.Chem.rdchem.Mol object at 0x7f949aad0a50>  \n",
       "\n",
       "[10000 rows x 2 columns]"
      ]
     },
     "execution_count": 11,
     "metadata": {},
     "output_type": "execute_result"
    }
   ],
   "source": [
    "Chem.PandasTools.AddMoleculeColumnToFrame(frame=df, smilesCol='Smiles', molCol='Molecules')\n",
    "df"
   ]
  },
  {
   "attachments": {},
   "cell_type": "markdown",
   "id": "800ba6b7",
   "metadata": {},
   "source": [
    "* We check if there is rows where RDKit failed to generate molecules from SMILES."
   ]
  },
  {
   "cell_type": "code",
   "execution_count": 12,
   "id": "c7462022",
   "metadata": {
    "ExecuteTime": {
     "end_time": "2023-04-22T10:35:21.537179Z",
     "start_time": "2023-04-22T10:35:21.487966Z"
    }
   },
   "outputs": [
    {
     "data": {
      "text/plain": [
       "Smiles       0\n",
       "Molecules    0\n",
       "dtype: int64"
      ]
     },
     "execution_count": 12,
     "metadata": {},
     "output_type": "execute_result"
    }
   ],
   "source": [
    "df.isnull().sum()"
   ]
  },
  {
   "attachments": {},
   "cell_type": "markdown",
   "id": "f1227498",
   "metadata": {
    "ExecuteTime": {
     "end_time": "2023-04-21T12:20:57.368348Z",
     "start_time": "2023-04-21T12:20:57.316468Z"
    }
   },
   "source": [
    "* We evaluate some descriptors, the physicochemical properties of our compounds."
   ]
  },
  {
   "cell_type": "code",
   "execution_count": 13,
   "id": "7b2a3cce",
   "metadata": {
    "ExecuteTime": {
     "end_time": "2023-04-22T10:35:25.480192Z",
     "start_time": "2023-04-22T10:35:25.471785Z"
    }
   },
   "outputs": [],
   "source": [
    "def calculate_descriptors(mol):\n",
    "    mw = Descriptors.MolWt(mol)\n",
    "    logp = Descriptors.MolLogP(mol)\n",
    "    hbd = Descriptors.NumHDonors(mol)\n",
    "    hba = Descriptors.NumHAcceptors(mol)\n",
    "    psa = Descriptors.TPSA(mol)\n",
    "    rb = Descriptors.NumRotatableBonds(mol)\n",
    "    rg = Descriptors.NumAromaticRings(mol)\n",
    "    qed = Chem.QED.qed(mol)\n",
    "    return [mw, logp, hbd, hba, psa, rg, rb, qed]"
   ]
  },
  {
   "cell_type": "code",
   "execution_count": 14,
   "id": "a4e445ad",
   "metadata": {
    "ExecuteTime": {
     "end_time": "2023-04-22T10:35:24.158736Z",
     "start_time": "2023-04-22T10:35:24.147953Z"
    }
   },
   "outputs": [
    {
     "ename": "NameError",
     "evalue": "name 'Chem' is not defined",
     "output_type": "error",
     "traceback": [
      "\u001b[0;31m---------------------------------------------------------------------------\u001b[0m",
      "\u001b[0;31mNameError\u001b[0m                                 Traceback (most recent call last)",
      "Cell \u001b[0;32mIn[14], line 2\u001b[0m\n\u001b[1;32m      1\u001b[0m molecule \u001b[39m=\u001b[39m df\u001b[39m.\u001b[39miloc[:, \u001b[39m1\u001b[39m]\u001b[39m.\u001b[39mvalues\n\u001b[0;32m----> 2\u001b[0m descriptors \u001b[39m=\u001b[39m [calculate_descriptors(mol) \u001b[39mfor\u001b[39;00m mol \u001b[39min\u001b[39;00m molecule]\n",
      "Cell \u001b[0;32mIn[14], line 2\u001b[0m, in \u001b[0;36m<listcomp>\u001b[0;34m(.0)\u001b[0m\n\u001b[1;32m      1\u001b[0m molecule \u001b[39m=\u001b[39m df\u001b[39m.\u001b[39miloc[:, \u001b[39m1\u001b[39m]\u001b[39m.\u001b[39mvalues\n\u001b[0;32m----> 2\u001b[0m descriptors \u001b[39m=\u001b[39m [calculate_descriptors(mol) \u001b[39mfor\u001b[39;00m mol \u001b[39min\u001b[39;00m molecule]\n",
      "Cell \u001b[0;32mIn[13], line 9\u001b[0m, in \u001b[0;36mcalculate_descriptors\u001b[0;34m(mol)\u001b[0m\n\u001b[1;32m      7\u001b[0m rb \u001b[39m=\u001b[39m Descriptors\u001b[39m.\u001b[39mNumRotatableBonds(mol)\n\u001b[1;32m      8\u001b[0m rg \u001b[39m=\u001b[39m Descriptors\u001b[39m.\u001b[39mNumAromaticRings(mol)\n\u001b[0;32m----> 9\u001b[0m qed \u001b[39m=\u001b[39m Chem\u001b[39m.\u001b[39mQED\u001b[39m.\u001b[39mqed(mol)\n\u001b[1;32m     10\u001b[0m \u001b[39mreturn\u001b[39;00m [mw, logp, hbd, hba, psa, rg, rb, qed]\n",
      "\u001b[0;31mNameError\u001b[0m: name 'Chem' is not defined"
     ]
    }
   ],
   "source": [
    "molecule = df.iloc[:, 1].values\n",
    "descriptors = [calculate_descriptors(mol) for mol in molecule]"
   ]
  },
  {
   "cell_type": "code",
   "execution_count": null,
   "id": "79efa6a2",
   "metadata": {
    "ExecuteTime": {
     "end_time": "2023-04-22T10:35:58.621721Z",
     "start_time": "2023-04-22T10:35:58.513202Z"
    }
   },
   "outputs": [],
   "source": [
    "descriptors_df = pd.DataFrame(descriptors, columns=['MW', 'LogP', 'HBD', 'HBA', 'PSA', 'Aromatic Rings', 'Rotatable Bonds', 'QED'])\n",
    "data = pd.concat([df, descriptors_df], axis=1)\n",
    "data"
   ]
  },
  {
   "attachments": {},
   "cell_type": "markdown",
   "id": "b55593c5",
   "metadata": {},
   "source": [
    "* We check again if there are empty values in our new dataset."
   ]
  },
  {
   "cell_type": "code",
   "execution_count": null,
   "id": "f98614a8",
   "metadata": {
    "ExecuteTime": {
     "end_time": "2023-04-22T10:36:07.686328Z",
     "start_time": "2023-04-22T10:36:07.642329Z"
    }
   },
   "outputs": [],
   "source": [
    "data.isnull().sum()"
   ]
  },
  {
   "attachments": {},
   "cell_type": "markdown",
   "id": "50ab41bf",
   "metadata": {},
   "source": [
    "* Let's evaluate the fingerprint of each molecules in our dataset."
   ]
  },
  {
   "cell_type": "code",
   "execution_count": null,
   "id": "7849feb6",
   "metadata": {
    "ExecuteTime": {
     "end_time": "2023-04-22T10:36:10.787959Z",
     "start_time": "2023-04-22T10:36:09.545456Z"
    }
   },
   "outputs": [],
   "source": [
    "fps = []\n",
    "for mol in molecule:\n",
    "    fp = AllChem.GetMorganFingerprintAsBitVect(mol, 2, nBits=1024)\n",
    "    fp_arr = np.zeros((1,))\n",
    "    DataStructs.ConvertToNumpyArray(fp, fp_arr)\n",
    "    fps.append(fp)"
   ]
  },
  {
   "cell_type": "code",
   "execution_count": null,
   "id": "f0acee31",
   "metadata": {
    "ExecuteTime": {
     "end_time": "2023-04-22T10:36:55.665461Z",
     "start_time": "2023-04-22T10:36:46.885036Z"
    }
   },
   "outputs": [],
   "source": [
    "# Convert the fingerprint as an array \n",
    "fps = np.asarray(fps)\n",
    "fps"
   ]
  },
  {
   "cell_type": "code",
   "execution_count": null,
   "id": "a185497b",
   "metadata": {
    "ExecuteTime": {
     "end_time": "2023-04-22T10:37:58.013864Z",
     "start_time": "2023-04-22T10:37:58.002874Z"
    }
   },
   "outputs": [],
   "source": [
    "fps.shape"
   ]
  },
  {
   "attachments": {},
   "cell_type": "markdown",
   "id": "47d9c6a0",
   "metadata": {},
   "source": [
    "## Splitting our dataset "
   ]
  },
  {
   "attachments": {},
   "cell_type": "markdown",
   "id": "95444394",
   "metadata": {},
   "source": [
    "As usual, before starting train our model, we will split our dataset in train/test dataset. It should be noted that,\n",
    "\n",
    "1. **inputs**: fingerprint (features) of each molecules\n",
    "2. **outputs**: partition coefficient `logP`. "
   ]
  },
  {
   "cell_type": "code",
   "execution_count": null,
   "id": "c4194fec",
   "metadata": {
    "ExecuteTime": {
     "end_time": "2023-04-22T10:50:31.724730Z",
     "start_time": "2023-04-22T10:50:31.718778Z"
    }
   },
   "outputs": [],
   "source": [
    "logp = data.iloc[:,3].values"
   ]
  },
  {
   "attachments": {},
   "cell_type": "markdown",
   "id": "f58d3406",
   "metadata": {},
   "source": [
    "* We first check that our inputs/outputs have the same number of lines."
   ]
  },
  {
   "cell_type": "code",
   "execution_count": null,
   "id": "4d0237e2",
   "metadata": {
    "ExecuteTime": {
     "end_time": "2023-04-22T10:51:12.152147Z",
     "start_time": "2023-04-22T10:51:12.144282Z"
    }
   },
   "outputs": [],
   "source": [
    "logp.shape[0] == fps.shape[0]"
   ]
  },
  {
   "cell_type": "code",
   "execution_count": null,
   "id": "a9848ac9",
   "metadata": {
    "ExecuteTime": {
     "end_time": "2023-04-22T10:55:34.337517Z",
     "start_time": "2023-04-22T10:55:34.106447Z"
    }
   },
   "outputs": [],
   "source": [
    "from sklearn.model_selection import train_test_split\n",
    "\n",
    "seed = np.random.seed(123)\n",
    "X_train, X_test, y_train, y_test = train_test_split(fps, logp, train_size=0.8, random_state=seed)"
   ]
  },
  {
   "attachments": {},
   "cell_type": "markdown",
   "id": "030dfdd8",
   "metadata": {},
   "source": [
    "## Train our model with `Support Vector Regressor-SVR`"
   ]
  },
  {
   "attachments": {},
   "cell_type": "markdown",
   "id": "7d0e5a0a",
   "metadata": {},
   "source": [
    "* Let's now train our Support Vector Regressor [SVR model](https://scikit-learn.org/stable/modules/generated/sklearn.svm.SVR.html#sklearn.svm.SVR) from scikit-learn."
   ]
  },
  {
   "cell_type": "code",
   "execution_count": null,
   "id": "808caae3",
   "metadata": {
    "ExecuteTime": {
     "end_time": "2023-04-22T11:01:39.616503Z",
     "start_time": "2023-04-22T11:00:40.010841Z"
    }
   },
   "outputs": [],
   "source": [
    "from sklearn.svm import SVR\n",
    "\n",
    "svr = SVR()\n",
    "_ = svr.fit(X_train, y_train)"
   ]
  },
  {
   "attachments": {},
   "cell_type": "markdown",
   "id": "a6211c54",
   "metadata": {},
   "source": [
    "* After the training, we use `sklearn.metrics.r2_score` and `sklearn.metrics.mean_squared_error` to check the accuracy of our prediction."
   ]
  },
  {
   "cell_type": "code",
   "execution_count": null,
   "id": "64f5f32f",
   "metadata": {
    "ExecuteTime": {
     "end_time": "2023-04-22T11:07:01.633883Z",
     "start_time": "2023-04-22T11:06:43.737871Z"
    }
   },
   "outputs": [],
   "source": [
    "from sklearn.metrics import mean_squared_error, r2_score\n",
    "\n",
    "logp_predict = svr.predict(X_test)\n",
    "r2 = r2_score(y_test, logp_predict)\n",
    "mse = mean_squared_error(y_test, logp_predict)\n",
    "\n",
    "print(f'The r2_score is {r2}  and the mean square error is {mse}')"
   ]
  },
  {
   "attachments": {},
   "cell_type": "markdown",
   "id": "f43a9bad",
   "metadata": {},
   "source": [
    "* Visualization of the results from the model. We will plot (True values - Predicted values), and draw the linear regression between them by using `scipy.stats.linregress`."
   ]
  },
  {
   "cell_type": "code",
   "execution_count": null,
   "id": "5ff7823a",
   "metadata": {
    "ExecuteTime": {
     "end_time": "2023-04-22T11:09:02.998942Z",
     "start_time": "2023-04-22T11:09:01.871576Z"
    }
   },
   "outputs": [],
   "source": [
    "from scipy import stats\n",
    "import matplotlib.pyplot as plt\n",
    "\n",
    "vect_norm, intercept, r_value, p_value, std_error = stats.linregress(y_test, logp_predict)\n",
    "fx = vect_norm * y_test + intercept\n",
    "\n",
    "plt.scatter(y_test, logp_predict, color='green', s=2)\n",
    "plt.plot(y_test, fx, label='Predicted logP ='+str(round(vect_norm,2))+'*True logP +'+str(round(intercept,2)), linewidth=2)\n",
    "plt.xlabel('True logP')\n",
    "plt.ylabel('Predicted logP')\n",
    "plt.legend()\n",
    "plt.show()"
   ]
  },
  {
   "attachments": {},
   "cell_type": "markdown",
   "id": "83fecbac",
   "metadata": {},
   "source": [
    "*In summary, **we use a SVR model for prediction of logP**. With prepared dataset, we can easily preprocess, construct the model and validated the results.*"
   ]
  },
  {
   "attachments": {},
   "cell_type": "markdown",
   "id": "54ede4eb",
   "metadata": {},
   "source": [
    "## Do it yourself\n",
    "\n",
    "Use a support vector regression (SVR) to predict logP (partition coefficeint) from molecules of the ZING Dataset contained in the file `'./Dataset/smilesZn100.txt`. The input - structural feature of molecules is Morgan fingerprint and the eoutput is logP.\n",
    "\n",
    "The workflow is\n",
    "1. Get molecular fingerprints of each molecules \n",
    "2. Split the dataset to training set and test set\n",
    "3. Train a SVR model\n",
    "4. Validate the trained model using test-set\n"
   ]
  },
  {
   "attachments": {},
   "cell_type": "markdown",
   "id": "b6d406ee",
   "metadata": {},
   "source": [
    "## Short summary on Support Vector Machine"
   ]
  },
  {
   "attachments": {},
   "cell_type": "markdown",
   "id": "0653d38c",
   "metadata": {},
   "source": [
    "A support vector machine constructs a hyper-plane or set of hyper-planes in a high or infinite dimensional space, which can be used for classification, regression or other tasks. The main idea behind many classification algorithm is to represent data in $\\mathbb{R}^D$ and then partition this space; ideally in way that examples with the same label (and no other examples) are in the same partition. Let $x \\in \\mathbb{R}^D$ be an element of the data space. Consider a function \n",
    "\\begin{equation}\n",
    "  \\begin{array}{lrcl}\n",
    "    f : & \\mathbb{R}^{D} & \\longrightarrow & \\mathbb{R}        \\\\\n",
    "        & x                 & \\longmapsto     & f(x)=\\langle w, x\\rangle + b,\n",
    "  \\end{array}\n",
    "\\end{equation}\n",
    "where $\\langle w, x\\rangle$ is the scalar product between the two vectors."
   ]
  },
  {
   "attachments": {},
   "cell_type": "markdown",
   "id": "85550c30",
   "metadata": {},
   "source": [
    "### Separating hyperplanes\n",
    "We use the hyperplane to divide the space into two parts. Let example $x \\in \\mathbb{R}^D$ be an element of the data space. Therefore, we define the hyperplane that seperates the two classes in our binary classification problem as \n",
    "\\begin{equation}\n",
    "\\{x \\in \\mathbb{R}^D : f(x)=\\langle w, x\\rangle + b=0\\}\n",
    "\\end{equation}\n",
    "$w$ is the `normal vector` to the hypeplane and $b$ the `intercept`.\n",
    "\n",
    "When training the classifier, we want to ensure that the examples with positive labels are on the positive side of the hyperplane and the negative labels on the other side, i.e\n",
    "\\begin{equation}\n",
    "    y_n(\\langle w, x\\rangle + b)\\geq 0, ~\\text{for}~y_n\\in\\{-1, 1\\}  \n",
    "\\end{equation}"
   ]
  },
  {
   "attachments": {},
   "cell_type": "markdown",
   "id": "bab627ef",
   "metadata": {},
   "source": [
    "<center>\n",
    " <img src='./Graphics/margin.png' width=500 /> \n",
    "</center>"
   ]
  }
 ],
 "metadata": {
  "kernelspec": {
   "display_name": "qiskit-env",
   "language": "python",
   "name": "qiskit-env"
  },
  "language_info": {
   "codemirror_mode": {
    "name": "ipython",
    "version": 3
   },
   "file_extension": ".py",
   "mimetype": "text/x-python",
   "name": "python",
   "nbconvert_exporter": "python",
   "pygments_lexer": "ipython3",
   "version": "3.10.12"
  },
  "nbTranslate": {
   "displayLangs": [
    "*"
   ],
   "hotkey": "alt-t",
   "langInMainMenu": true,
   "sourceLang": "en",
   "targetLang": "fr",
   "useGoogleTranslate": true
  },
  "toc": {
   "base_numbering": 1,
   "nav_menu": {},
   "number_sections": true,
   "sideBar": true,
   "skip_h1_title": false,
   "title_cell": "Table of Contents",
   "title_sidebar": "Contents",
   "toc_cell": false,
   "toc_position": {},
   "toc_section_display": true,
   "toc_window_display": false
  }
 },
 "nbformat": 4,
 "nbformat_minor": 5
}
