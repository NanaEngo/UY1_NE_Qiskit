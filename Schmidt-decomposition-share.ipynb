{
 "cells": [
  {
   "cell_type": "markdown",
   "id": "70aeccda",
   "metadata": {
    "slideshow": {
     "slide_type": "slide"
    }
   },
   "source": [
    "# The Schmidt Decomposition\n",
    "---\n",
    "\n",
    "### Definition\n",
    "\n",
    "Any pure bipartite state can be expressed as: \n",
    "\n",
    "$$ \n",
    "|\\zeta \\rangle_{AB} = \\sum_{i=0}^{N-1}\\sum_{j=0}^{M-1} c_{ij} |\\psi_i \\rangle_{A} \\otimes |\\phi_j \\rangle_{B} \n",
    "$$\n",
    "\n",
    "For example:\n",
    "\n",
    "$$ |\\zeta \\rangle_{AB} = \\frac{1}{2} |0\\rangle_A |0\\rangle_B - \n",
    "                         \\frac{1}{2} |0\\rangle_A |1\\rangle_B + \n",
    "                         \\frac{1}{2} |1\\rangle_A |0\\rangle_B - \n",
    "                         \\frac{1}{2} |1\\rangle_A |1\\rangle_B  $$"
   ]
  },
  {
   "cell_type": "markdown",
   "id": "5ef8a4e2",
   "metadata": {
    "slideshow": {
     "slide_type": "fragment"
    }
   },
   "source": [
    "The Schmidt Decomposition for such state is given by:\n",
    "\n",
    "$$ |\\zeta \\rangle_{AB} = \\sum_{k=0}^{d-1} \\lambda_{k} |u_k \\rangle_{A} \\otimes |v_k \\rangle_{B}, $$\n",
    "\n",
    "- $ |u_k \\rangle_{A} $ and $|v_k \\rangle_{B}$ are the Schmidt vectors: orthonormal states in the Hilbert space of $A$ and $B$, respectively. \n",
    "\n",
    "- $\\lambda_k$ are the Schmidt coefficients: $\\lambda_k \\in  \\mathbb{R}_{\\geq 0}$\n",
    "\n",
    "- $d$ is the total number of Schmidt coefficients: $d$ = $\\text{min}(N,M)$"
   ]
  },
  {
   "cell_type": "markdown",
   "id": "d475b0f4",
   "metadata": {
    "slideshow": {
     "slide_type": "fragment"
    }
   },
   "source": [
    "For the example above, its Schmidt decomposition is:\n",
    "\n",
    "$$ \n",
    "|\\zeta \\rangle_{AB} = \\frac{1}{\\sqrt{2}} \\bigg( |0\\rangle_A + |1\\rangle_A \\bigg) \\otimes \n",
    "                         \\frac{1}{\\sqrt{2}} \\bigg( |0\\rangle_B - |1\\rangle_B \\bigg) \n",
    "                         = 1 |+\\rangle_A |-\\rangle_B + 0 |-\\rangle_A |+\\rangle_B\n",
    "$$"
   ]
  },
  {
   "cell_type": "markdown",
   "id": "ad14b192",
   "metadata": {
    "slideshow": {
     "slide_type": "slide"
    }
   },
   "source": [
    "### Utility\n",
    "\n",
    "The Schmidt Decomposition allows us to easily asses if a state is separable or entangled.\n",
    "\n",
    "This is done using the Schmidt number (Schmidt rank) $r_s$: the total number of Schmidt coefficients different than zero.\n",
    "\n",
    "- $ 1 \\leq r_s \\leq d $\n",
    "- If $r_s = 1$, the state is separable\n",
    "- If $r_s > 1 $, the state is entangled"
   ]
  },
  {
   "cell_type": "markdown",
   "id": "2dbb01fe",
   "metadata": {
    "slideshow": {
     "slide_type": "fragment"
    }
   },
   "source": [
    "For example:\n",
    "$$ \n",
    "\\begin{aligned}\n",
    "|\\zeta \\rangle_{AB} &= \\frac{1}{2} |0\\rangle_A |0\\rangle_B - \n",
    "                         \\frac{1}{2} |0\\rangle_A |1\\rangle_B + \n",
    "                         \\frac{1}{2} |1\\rangle_A |0\\rangle_B - \n",
    "                         \\frac{1}{2} |1\\rangle_A |1\\rangle_B    \n",
    "\\\\\n",
    "\\\\\n",
    "&= 1 |+\\rangle_A |-\\rangle_B + 0 |-\\rangle_A |+\\rangle_B \n",
    "\\end{aligned}                         \n",
    "$$ \n",
    "\n",
    "here, $r_s = 1$, so state is separable"
   ]
  },
  {
   "cell_type": "markdown",
   "id": "fd69f622",
   "metadata": {
    "slideshow": {
     "slide_type": "fragment"
    }
   },
   "source": [
    "$$\n",
    "\\begin{aligned}\n",
    "|\\chi \\rangle_{AB} &= \\frac{1}{2} |0\\rangle_A |0\\rangle_B \\color{orange}{+} \n",
    "                         \\frac{1}{2} |0\\rangle_A |1\\rangle_B + \n",
    "                         \\frac{1}{2} |1\\rangle_A |0\\rangle_B - \n",
    "                         \\frac{1}{2} |1\\rangle_A |1\\rangle_B    \n",
    "\\\\\n",
    "\\\\\n",
    "&= \\frac{1}{\\sqrt{2}} |0\\rangle_A |+\\rangle_B + \\frac{1}{\\sqrt{2}} |1\\rangle_A |-\\rangle_B \n",
    "\\end{aligned}                         \n",
    "$$ \n",
    "\n",
    "here, $r_s = 2$, so the state is entangled"
   ]
  },
  {
   "cell_type": "markdown",
   "id": "cb3a424d",
   "metadata": {
    "slideshow": {
     "slide_type": "slide"
    }
   },
   "source": [
    "Furthermore, several measures of entanglement of pure bipartite states are functions of the Schmidt Coefficients, e.g.:\n",
    "- Subsystem Purity: $\\gamma = \\sum_k \\lambda_k^4 $\n",
    "- von Neumann Entropy: $ S = - \\sum_k \\lambda_k^2 \\log \\left(\\lambda_k^2 \\right) $"
   ]
  },
  {
   "cell_type": "code",
   "execution_count": 19,
   "id": "6aefcd30",
   "metadata": {
    "slideshow": {
     "slide_type": "slide"
    }
   },
   "outputs": [],
   "source": [
    "import numpy as np\n",
    "from IPython.display import Latex\n",
    "from qiskit import QuantumCircuit\n",
    "from qiskit.quantum_info import Statevector, schmidt_decomposition"
   ]
  },
  {
   "cell_type": "code",
   "execution_count": 20,
   "id": "5e2c4d51",
   "metadata": {
    "slideshow": {
     "slide_type": "slide"
    }
   },
   "outputs": [
    {
     "data": {
      "text/latex": [
       "$$|\\zeta\\rangle = \\frac{\\sqrt{2}}{2} |00\\rangle+\\frac{\\sqrt{2}}{2} |11\\rangle$$"
      ],
      "text/plain": [
       "<IPython.core.display.Latex object>"
      ]
     },
     "execution_count": 20,
     "metadata": {},
     "output_type": "execute_result"
    }
   ],
   "source": [
    "ζ = Statevector([1/np.sqrt(2),0,0,1/np.sqrt(2)])\n",
    "ζ.draw('latex',prefix='|\\\\zeta\\\\rangle = ')"
   ]
  },
  {
   "cell_type": "code",
   "execution_count": 21,
   "id": "1b52029c",
   "metadata": {
    "slideshow": {
     "slide_type": "fragment"
    }
   },
   "outputs": [
    {
     "name": "stdout",
     "output_type": "stream",
     "text": [
      "[(0.7071067811865475, Statevector([1.+0.j, 0.+0.j],\n",
      "            dims=(2,)), Statevector([1.+0.j, 0.+0.j],\n",
      "            dims=(2,))), (0.7071067811865475, Statevector([0.+0.j, 1.+0.j],\n",
      "            dims=(2,)), Statevector([0.+0.j, 1.+0.j],\n",
      "            dims=(2,)))]\n"
     ]
    }
   ],
   "source": [
    "ζ_sd = schmidt_decomposition(ζ,[0])\n",
    "print(ζ_sd)"
   ]
  },
  {
   "cell_type": "code",
   "execution_count": 22,
   "id": "cc1199f7",
   "metadata": {},
   "outputs": [
    {
     "name": "stdout",
     "output_type": "stream",
     "text": [
      "---\n"
     ]
    },
    {
     "data": {
      "text/latex": [
       "$$\\lambda_0 = 0.7071067811865475$$"
      ],
      "text/plain": [
       "<IPython.core.display.Latex object>"
      ]
     },
     "metadata": {},
     "output_type": "display_data"
    },
    {
     "data": {
      "text/latex": [
       "$$|u_0\\rangle =  |0\\rangle$$"
      ],
      "text/plain": [
       "<IPython.core.display.Latex object>"
      ]
     },
     "metadata": {},
     "output_type": "display_data"
    },
    {
     "data": {
      "text/latex": [
       "$$|v_0\\rangle =  |0\\rangle$$"
      ],
      "text/plain": [
       "<IPython.core.display.Latex object>"
      ]
     },
     "metadata": {},
     "output_type": "display_data"
    },
    {
     "name": "stdout",
     "output_type": "stream",
     "text": [
      "---\n"
     ]
    },
    {
     "data": {
      "text/latex": [
       "$$\\lambda_1 = 0.7071067811865475$$"
      ],
      "text/plain": [
       "<IPython.core.display.Latex object>"
      ]
     },
     "metadata": {},
     "output_type": "display_data"
    },
    {
     "data": {
      "text/latex": [
       "$$|u_1\\rangle =  |1\\rangle$$"
      ],
      "text/plain": [
       "<IPython.core.display.Latex object>"
      ]
     },
     "metadata": {},
     "output_type": "display_data"
    },
    {
     "data": {
      "text/latex": [
       "$$|v_1\\rangle =  |1\\rangle$$"
      ],
      "text/plain": [
       "<IPython.core.display.Latex object>"
      ]
     },
     "metadata": {},
     "output_type": "display_data"
    }
   ],
   "source": [
    "for i, (s,u,v) in enumerate(ζ_sd):\n",
    "    print('---')\n",
    "    display(Latex(f\"$$\\\\lambda_{i} = {s}$$\"))\n",
    "    display(u.draw('latex',prefix=f'|u_{i}\\\\rangle = '))\n",
    "    display(v.draw('latex',prefix=f'|v_{i}\\\\rangle = '))"
   ]
  },
  {
   "cell_type": "code",
   "execution_count": 23,
   "id": "a8f7432a",
   "metadata": {},
   "outputs": [
    {
     "data": {
      "text/latex": [
       "$$|w\\rangle = \\frac{\\sqrt{3}}{3} |001\\rangle+\\frac{\\sqrt{3}}{3} |010\\rangle+\\frac{\\sqrt{3}}{3} |100\\rangle$$"
      ],
      "text/plain": [
       "<IPython.core.display.Latex object>"
      ]
     },
     "execution_count": 23,
     "metadata": {},
     "output_type": "execute_result"
    }
   ],
   "source": [
    "w = Statevector([0,1/np.sqrt(3),1/np.sqrt(3),0,1/np.sqrt(3),0,0,0])\n",
    "w.draw('latex',prefix='|w\\\\rangle = ')"
   ]
  },
  {
   "cell_type": "code",
   "execution_count": 24,
   "id": "fe039819",
   "metadata": {},
   "outputs": [],
   "source": [
    "w_sd = schmidt_decomposition(w,[0,1])"
   ]
  },
  {
   "cell_type": "code",
   "execution_count": 25,
   "id": "4122aca2",
   "metadata": {},
   "outputs": [
    {
     "name": "stdout",
     "output_type": "stream",
     "text": [
      "---\n"
     ]
    },
    {
     "data": {
      "text/latex": [
       "$$\\lambda_0 = 0.8164965809277261$$"
      ],
      "text/plain": [
       "<IPython.core.display.Latex object>"
      ]
     },
     "metadata": {},
     "output_type": "display_data"
    },
    {
     "data": {
      "text/latex": [
       "$$|u_0\\rangle =  |0\\rangle$$"
      ],
      "text/plain": [
       "<IPython.core.display.Latex object>"
      ]
     },
     "metadata": {},
     "output_type": "display_data"
    },
    {
     "data": {
      "text/latex": [
       "$$|v_0\\rangle = \\frac{\\sqrt{2}}{2} |01\\rangle+\\frac{\\sqrt{2}}{2} |10\\rangle$$"
      ],
      "text/plain": [
       "<IPython.core.display.Latex object>"
      ]
     },
     "metadata": {},
     "output_type": "display_data"
    },
    {
     "name": "stdout",
     "output_type": "stream",
     "text": [
      "---\n"
     ]
    },
    {
     "data": {
      "text/latex": [
       "$$\\lambda_1 = 0.5773502691896258$$"
      ],
      "text/plain": [
       "<IPython.core.display.Latex object>"
      ]
     },
     "metadata": {},
     "output_type": "display_data"
    },
    {
     "data": {
      "text/latex": [
       "$$|u_1\\rangle =  |1\\rangle$$"
      ],
      "text/plain": [
       "<IPython.core.display.Latex object>"
      ]
     },
     "metadata": {},
     "output_type": "display_data"
    },
    {
     "data": {
      "text/latex": [
       "$$|v_1\\rangle =  |00\\rangle$$"
      ],
      "text/plain": [
       "<IPython.core.display.Latex object>"
      ]
     },
     "metadata": {},
     "output_type": "display_data"
    }
   ],
   "source": [
    "for i, (s,u,v) in enumerate(w_sd):\n",
    "    print('---')\n",
    "    display(Latex(f\"$$\\\\lambda_{i} = {s}$$\"))\n",
    "    display(u.draw('latex',prefix=f'|u_{i}\\\\rangle = '))\n",
    "    display(v.draw('latex',prefix=f'|v_{i}\\\\rangle = '))"
   ]
  },
  {
   "cell_type": "code",
   "execution_count": null,
   "id": "0cb9db28",
   "metadata": {},
   "outputs": [],
   "source": [
    "Statevector(sum([suv[0]*np.kron(suv[1],suv[2]) for suv in w_sd]))"
   ]
  },
  {
   "cell_type": "markdown",
   "id": "ee7134c7",
   "metadata": {},
   "source": [
    "The `schmidt_decomposition` works not only for qubit systems, for any bipartite qudit system.\n",
    "\n",
    "For example, we can have the qutrit state::\n",
    "\n",
    "$$ \n",
    "|\\chi\\rangle_{AB} = \\frac{1}{\\sqrt{3}} \\bigg (|0_A0_B\\rangle + |1_A1_B\\rangle + |2_A2_B\\rangle \\bigg ) \n",
    "$$"
   ]
  },
  {
   "cell_type": "code",
   "execution_count": 27,
   "id": "f644cfbc",
   "metadata": {},
   "outputs": [
    {
     "data": {
      "text/latex": [
       "$$\\begin{align}\n",
       "\n",
       "|\\chi\\rangle = \n",
       "\\begin{bmatrix}\n",
       "\\frac{\\sqrt{3}}{3} & 0 & 0 & 0 & \\frac{\\sqrt{3}}{3} & 0 & 0 & 0 & \\frac{\\sqrt{3}}{3}  \\\\\n",
       " \\end{bmatrix}\n",
       "\\\\\n",
       "\\text{dims=(3, 3)}\n",
       "\\end{align}$$"
      ],
      "text/plain": [
       "<IPython.core.display.Latex object>"
      ]
     },
     "execution_count": 27,
     "metadata": {},
     "output_type": "execute_result"
    }
   ],
   "source": [
    "χ = Statevector(np.array([1,0,0,0,1,0,0,0,1])*1/np.sqrt(3),dims=(3,3))\n",
    "χ.draw('latex', prefix='|\\\\chi\\\\rangle = ',max_size=10)"
   ]
  },
  {
   "cell_type": "code",
   "execution_count": 28,
   "id": "5a459b0a",
   "metadata": {},
   "outputs": [
    {
     "name": "stdout",
     "output_type": "stream",
     "text": [
      "---\n"
     ]
    },
    {
     "data": {
      "text/latex": [
       "$$\\lambda_0 = 0.5773502691896258$$"
      ],
      "text/plain": [
       "<IPython.core.display.Latex object>"
      ]
     },
     "metadata": {},
     "output_type": "display_data"
    },
    {
     "data": {
      "text/latex": [
       "$$\\begin{align}\n",
       "\n",
       "|u_0\\rangle = \n",
       "\\begin{bmatrix}\n",
       "1 & 0 & 0  \\\\\n",
       " \\end{bmatrix}\n",
       "\\\\\n",
       "\\text{dims=(3,)}\n",
       "\\end{align}$$"
      ],
      "text/plain": [
       "<IPython.core.display.Latex object>"
      ]
     },
     "metadata": {},
     "output_type": "display_data"
    },
    {
     "data": {
      "text/latex": [
       "$$\\begin{align}\n",
       "\n",
       "|v_0\\rangle = \n",
       "\\begin{bmatrix}\n",
       "1 & 0 & 0  \\\\\n",
       " \\end{bmatrix}\n",
       "\\\\\n",
       "\\text{dims=(3,)}\n",
       "\\end{align}$$"
      ],
      "text/plain": [
       "<IPython.core.display.Latex object>"
      ]
     },
     "metadata": {},
     "output_type": "display_data"
    },
    {
     "name": "stdout",
     "output_type": "stream",
     "text": [
      "---\n"
     ]
    },
    {
     "data": {
      "text/latex": [
       "$$\\lambda_1 = 0.5773502691896258$$"
      ],
      "text/plain": [
       "<IPython.core.display.Latex object>"
      ]
     },
     "metadata": {},
     "output_type": "display_data"
    },
    {
     "data": {
      "text/latex": [
       "$$\\begin{align}\n",
       "\n",
       "|u_1\\rangle = \n",
       "\\begin{bmatrix}\n",
       "0 & 1 & 0  \\\\\n",
       " \\end{bmatrix}\n",
       "\\\\\n",
       "\\text{dims=(3,)}\n",
       "\\end{align}$$"
      ],
      "text/plain": [
       "<IPython.core.display.Latex object>"
      ]
     },
     "metadata": {},
     "output_type": "display_data"
    },
    {
     "data": {
      "text/latex": [
       "$$\\begin{align}\n",
       "\n",
       "|v_1\\rangle = \n",
       "\\begin{bmatrix}\n",
       "0 & 1 & 0  \\\\\n",
       " \\end{bmatrix}\n",
       "\\\\\n",
       "\\text{dims=(3,)}\n",
       "\\end{align}$$"
      ],
      "text/plain": [
       "<IPython.core.display.Latex object>"
      ]
     },
     "metadata": {},
     "output_type": "display_data"
    },
    {
     "name": "stdout",
     "output_type": "stream",
     "text": [
      "---\n"
     ]
    },
    {
     "data": {
      "text/latex": [
       "$$\\lambda_2 = 0.5773502691896258$$"
      ],
      "text/plain": [
       "<IPython.core.display.Latex object>"
      ]
     },
     "metadata": {},
     "output_type": "display_data"
    },
    {
     "data": {
      "text/latex": [
       "$$\\begin{align}\n",
       "\n",
       "|u_2\\rangle = \n",
       "\\begin{bmatrix}\n",
       "0 & 0 & 1  \\\\\n",
       " \\end{bmatrix}\n",
       "\\\\\n",
       "\\text{dims=(3,)}\n",
       "\\end{align}$$"
      ],
      "text/plain": [
       "<IPython.core.display.Latex object>"
      ]
     },
     "metadata": {},
     "output_type": "display_data"
    },
    {
     "data": {
      "text/latex": [
       "$$\\begin{align}\n",
       "\n",
       "|v_2\\rangle = \n",
       "\\begin{bmatrix}\n",
       "0 & 0 & 1  \\\\\n",
       " \\end{bmatrix}\n",
       "\\\\\n",
       "\\text{dims=(3,)}\n",
       "\\end{align}$$"
      ],
      "text/plain": [
       "<IPython.core.display.Latex object>"
      ]
     },
     "metadata": {},
     "output_type": "display_data"
    }
   ],
   "source": [
    "w_sd = schmidt_decomposition(χ,[0])\n",
    "for i, (s,u,v) in enumerate(w_sd):\n",
    "    print('---')\n",
    "    display(Latex(f\"$$\\\\lambda_{i} = {s}$$\"))\n",
    "    display(u.draw('latex',prefix=f'|u_{i}\\\\rangle = '))\n",
    "    display(v.draw('latex',prefix=f'|v_{i}\\\\rangle = '))"
   ]
  },
  {
   "cell_type": "code",
   "execution_count": 29,
   "id": "54bd33fe",
   "metadata": {},
   "outputs": [
    {
     "data": {
      "text/latex": [
       "$$\\begin{align}\n",
       "\n",
       "\n",
       "\\begin{bmatrix}\n",
       "0 & 1 & 2 & 3 & 4 & 5 & 6 & 7 & 8 & 9 & 10 & 11 & 12 & 13 & 14 & 15 & 16 & 17 & 18 & 19 & 20 & 21 & 22 & 23  \\\\\n",
       " \\end{bmatrix}\n",
       "\\\\\n",
       "\\text{dims=(2, 3, 4)}\n",
       "\\end{align}$$"
      ],
      "text/plain": [
       "<IPython.core.display.Latex object>"
      ]
     },
     "execution_count": 29,
     "metadata": {},
     "output_type": "execute_result"
    }
   ],
   "source": [
    "dims = (2,3,4)\n",
    "k = Statevector(np.arange(np.prod(dims)),dims=dims)\n",
    "k.draw('latex',max_size=24)"
   ]
  },
  {
   "cell_type": "code",
   "execution_count": 31,
   "id": "2a82ec2d",
   "metadata": {},
   "outputs": [
    {
     "name": "stdout",
     "output_type": "stream",
     "text": [
      "---\n"
     ]
    },
    {
     "data": {
      "text/latex": [
       "$$\\lambda_0 = 65.6343339467596$$"
      ],
      "text/plain": [
       "<IPython.core.display.Latex object>"
      ]
     },
     "metadata": {},
     "output_type": "display_data"
    },
    {
     "data": {
      "text/latex": [
       "$$\\begin{align}\n",
       "\n",
       "|u_0\\rangle = \n",
       "\\begin{bmatrix}\n",
       "-0.4994455878 & -0.5741216405 & -0.6487976932  \\\\\n",
       " \\end{bmatrix}\n",
       "\\\\\n",
       "\\text{dims=(3,)}\n",
       "\\end{align}$$"
      ],
      "text/plain": [
       "<IPython.core.display.Latex object>"
      ]
     },
     "metadata": {},
     "output_type": "display_data"
    },
    {
     "data": {
      "text/latex": [
       "$$\\begin{align}\n",
       "\n",
       "|v_0\\rangle = \n",
       "\\begin{bmatrix}\n",
       "-0.0570346925 & -0.0832765208 & -0.2144856623 & -0.2407274905 & -0.371936632 & -0.3981784603 & -0.5293876018 & -0.5556294301  \\\\\n",
       " \\end{bmatrix}\n",
       "\\\\\n",
       "\\text{dims=(2, 4)}\n",
       "\\end{align}$$"
      ],
      "text/plain": [
       "<IPython.core.display.Latex object>"
      ]
     },
     "metadata": {},
     "output_type": "display_data"
    },
    {
     "name": "stdout",
     "output_type": "stream",
     "text": [
      "---\n"
     ]
    },
    {
     "data": {
      "text/latex": [
       "$$\\lambda_1 = 4.016740888486782$$"
      ],
      "text/plain": [
       "<IPython.core.display.Latex object>"
      ]
     },
     "metadata": {},
     "output_type": "display_data"
    },
    {
     "data": {
      "text/latex": [
       "$$\\begin{align}\n",
       "\n",
       "|u_1\\rangle = \n",
       "\\begin{bmatrix}\n",
       "0.7641252765 & 0.0609727417 & -0.6421797931  \\\\\n",
       " \\end{bmatrix}\n",
       "\\\\\n",
       "\\text{dims=(3,)}\n",
       "\\end{align}$$"
      ],
      "text/plain": [
       "<IPython.core.display.Latex object>"
      ]
     },
     "metadata": {},
     "output_type": "display_data"
    },
    {
     "data": {
      "text/latex": [
       "$$\\begin{align}\n",
       "\n",
       "|v_1\\rangle = \n",
       "\\begin{bmatrix}\n",
       "-0.6091440192 & -0.5636050536 & -0.3359102256 & -0.2903712601 & -0.0626764321 & -0.0171374665 & 0.2105573614 & 0.256096327  \\\\\n",
       " \\end{bmatrix}\n",
       "\\\\\n",
       "\\text{dims=(2, 4)}\n",
       "\\end{align}$$"
      ],
      "text/plain": [
       "<IPython.core.display.Latex object>"
      ]
     },
     "metadata": {},
     "output_type": "display_data"
    }
   ],
   "source": [
    "k_sd = schmidt_decomposition(k,[0,2])\n",
    "for i, (s,u,v) in enumerate(k_sd):\n",
    "    print('---')\n",
    "    display(Latex(f\"$$\\\\lambda_{i} = {s}$$\"))\n",
    "    display(u.draw('latex',prefix=f'|u_{i}\\\\rangle = '))\n",
    "    display(v.draw('latex',prefix=f'|v_{i}\\\\rangle = '))"
   ]
  },
  {
   "cell_type": "code",
   "execution_count": 32,
   "id": "7e6792b1",
   "metadata": {},
   "outputs": [
    {
     "data": {
      "text/latex": [
       "$$\\begin{align}\n",
       "\n",
       "\n",
       "\\begin{bmatrix}\n",
       "0 & 1 & 6 & 7 & 12 & 13 & 18 & 19 & 2 & 3 & 8 & 9 & 14 & 15 & 20 & 21 & 4 & 5 & 10 & 11 & 16 & 17 & 22 & 23  \\\\\n",
       " \\end{bmatrix}\n",
       "\\\\\n",
       "\\text{dims=(2, 3, 4)}\n",
       "\\end{align}$$"
      ],
      "text/plain": [
       "<IPython.core.display.Latex object>"
      ]
     },
     "execution_count": 32,
     "metadata": {},
     "output_type": "execute_result"
    }
   ],
   "source": [
    "Statevector(sum([suv[0]*np.kron(suv[1],suv[2]) for suv in k_sd]),dims=dims).draw('latex',max_size=24)"
   ]
  },
  {
   "cell_type": "markdown",
   "id": "58cc14b7",
   "metadata": {},
   "source": [
    "### Issues\n",
    "\n",
    "To perform the Schmidt Decomposition, the function `schmidt_decomposition` in qiskit performs the singular value decomposition (SVD) of a matrix. \n",
    "\n",
    "This is done using `numpy.linalg.svd`. \n",
    "\n",
    "A well-known problem of the SVD is that the sign selection of the singular vectors is ambiguous."
   ]
  },
  {
   "cell_type": "markdown",
   "id": "d63c3540",
   "metadata": {},
   "source": [
    "For example, the state:\n",
    "\n",
    "$$ |\\xi \\rangle_{AB} = \\frac{1}{2} |0\\rangle_A |0\\rangle_B + \n",
    "                         \\frac{1}{2} |0\\rangle_A |1\\rangle_B + \n",
    "                         \\frac{1}{2} |1\\rangle_A |0\\rangle_B + \n",
    "                         \\frac{1}{2} |1\\rangle_A |1\\rangle_B  \n",
    "$$\n",
    "$ $                         \n",
    "Has two equally-valid Schmidt decompositions:\n",
    "\n",
    "$$\n",
    "\\begin{aligned}\n",
    "|\\xi  \\rangle_{AB} &= |+\\rangle_A |+\\rangle_B\n",
    "\\\\\n",
    "\\\\\n",
    "&\\quad \\text{or}\n",
    "\\\\\n",
    "\\\\\n",
    "|\\xi \\rangle_{AB} &= \\big (\\text{-} |+\\rangle_A \\big) \\big(\\text{-} | +\\rangle_B \\big)\n",
    "\\end{aligned}\n",
    "$$\n"
   ]
  },
  {
   "cell_type": "markdown",
   "id": "0eac4d1e",
   "metadata": {},
   "source": [
    "In the second case, each vector has an addition global phase of $\\text{-}1$.\n",
    "\n",
    "In quantum computing, this is not a problem because global phases are unphysical. \n",
    "\n",
    "However, this not knowing which global phase one will get can cause issues when dealing with code that checks if statevectors are equal to each other."
   ]
  },
  {
   "cell_type": "code",
   "execution_count": 33,
   "id": "4162c706",
   "metadata": {},
   "outputs": [
    {
     "data": {
      "text/latex": [
       "$$|\\xi\\rangle = \\frac{1}{2} |00\\rangle+\\frac{1}{2} |01\\rangle+\\frac{1}{2} |10\\rangle+\\frac{1}{2} |11\\rangle$$"
      ],
      "text/plain": [
       "<IPython.core.display.Latex object>"
      ]
     },
     "execution_count": 33,
     "metadata": {},
     "output_type": "execute_result"
    }
   ],
   "source": [
    "ξ = Statevector.from_label('++')\n",
    "ξ.draw('latex',prefix='|\\\\xi\\\\rangle = ')"
   ]
  },
  {
   "cell_type": "code",
   "execution_count": 34,
   "id": "2de6fcaa",
   "metadata": {},
   "outputs": [
    {
     "name": "stdout",
     "output_type": "stream",
     "text": [
      "---\n"
     ]
    },
    {
     "data": {
      "text/latex": [
       "$$\\lambda_0 = 1.0$$"
      ],
      "text/plain": [
       "<IPython.core.display.Latex object>"
      ]
     },
     "metadata": {},
     "output_type": "display_data"
    },
    {
     "data": {
      "text/latex": [
       "$$|u_0\\rangle = - \\frac{\\sqrt{2}}{2} |0\\rangle- \\frac{\\sqrt{2}}{2} |1\\rangle$$"
      ],
      "text/plain": [
       "<IPython.core.display.Latex object>"
      ]
     },
     "metadata": {},
     "output_type": "display_data"
    },
    {
     "data": {
      "text/latex": [
       "$$|v_0\\rangle = - \\frac{\\sqrt{2}}{2} |0\\rangle- \\frac{\\sqrt{2}}{2} |1\\rangle$$"
      ],
      "text/plain": [
       "<IPython.core.display.Latex object>"
      ]
     },
     "metadata": {},
     "output_type": "display_data"
    }
   ],
   "source": [
    "ξ_sd = schmidt_decomposition(ξ,[0])\n",
    "for i, (s,u,v) in enumerate(ξ_sd):\n",
    "    print('---')\n",
    "    display(Latex(f\"$$\\\\lambda_{i} = {np.round(s,6)}$$\"))\n",
    "    display(u.draw('latex',prefix=f'|u_{i}\\\\rangle = '))\n",
    "    display(v.draw('latex',prefix=f'|v_{i}\\\\rangle = '))"
   ]
  },
  {
   "cell_type": "code",
   "execution_count": 35,
   "id": "71875d69",
   "metadata": {},
   "outputs": [],
   "source": [
    "from schmidt_decomposition_local import schmidt_decomposition as sd_loc"
   ]
  },
  {
   "cell_type": "code",
   "execution_count": 36,
   "id": "1e54a95f",
   "metadata": {},
   "outputs": [
    {
     "name": "stdout",
     "output_type": "stream",
     "text": [
      "---\n"
     ]
    },
    {
     "data": {
      "text/latex": [
       "$$\\lambda_0 = 1.0$$"
      ],
      "text/plain": [
       "<IPython.core.display.Latex object>"
      ]
     },
     "metadata": {},
     "output_type": "display_data"
    },
    {
     "data": {
      "text/latex": [
       "$$|u_0\\rangle = \\frac{\\sqrt{2}}{2} |0\\rangle+\\frac{\\sqrt{2}}{2} |1\\rangle$$"
      ],
      "text/plain": [
       "<IPython.core.display.Latex object>"
      ]
     },
     "metadata": {},
     "output_type": "display_data"
    },
    {
     "data": {
      "text/latex": [
       "$$|v_0\\rangle = \\frac{\\sqrt{2}}{2} |0\\rangle+\\frac{\\sqrt{2}}{2} |1\\rangle$$"
      ],
      "text/plain": [
       "<IPython.core.display.Latex object>"
      ]
     },
     "metadata": {},
     "output_type": "display_data"
    }
   ],
   "source": [
    "ξ_sd = sd_loc(ξ,[0])\n",
    "for i, (s,u,v) in enumerate(ξ_sd):\n",
    "    print('---')\n",
    "    display(Latex(f\"$$\\\\lambda_{i} = {np.round(s,6)}$$\"))\n",
    "    display(u.draw('latex',prefix=f'|u_{i}\\\\rangle = '))\n",
    "    display(v.draw('latex',prefix=f'|v_{i}\\\\rangle = '))"
   ]
  },
  {
   "cell_type": "code",
   "execution_count": null,
   "id": "a7aeef80",
   "metadata": {},
   "outputs": [],
   "source": []
  }
 ],
 "metadata": {
  "@webio": {
   "lastCommId": null,
   "lastKernelId": null
  },
  "kernelspec": {
   "display_name": "Python 3",
   "language": "python",
   "name": "python3"
  },
  "language_info": {
   "codemirror_mode": {
    "name": "ipython",
    "version": 3
   },
   "file_extension": ".py",
   "mimetype": "text/x-python",
   "name": "python",
   "nbconvert_exporter": "python",
   "pygments_lexer": "ipython3",
   "version": "3.9.12"
  }
 },
 "nbformat": 4,
 "nbformat_minor": 5
}
