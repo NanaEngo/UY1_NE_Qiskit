{
 "cells": [
  {
   "cell_type": "markdown",
   "metadata": {},
   "source": [
    "# Quantum Chemistry Tutorial 2 - Short Survey\n",
    "\n",
    "1. **S. G. Nana Engo**, serge.nana-engo@facsciences-uy1.cm\n",
    "    * Department of Physics, Faculty of Science, University of Yaounde I\n",
    "2. **J-P. Tchapet Njafa**, jean-pierre.tchapet-njafa@univ-maroua.cm\n",
    "    * Department of Physics, Faculty of Science, University of Maroua\n",
    "       \n",
    "January 2024"
   ]
  },
  {
   "cell_type": "markdown",
   "metadata": {},
   "source": [
    "L'objectif de ce notebook est de fournir une brève revue des principales méthodes de la chimie quantique et d'évaluer les performances. Nous allons travailler avec la molécule d'eau."
   ]
  },
  {
   "cell_type": "code",
   "execution_count": 9,
   "metadata": {},
   "outputs": [
    {
     "data": {
      "text/plain": [
       "'2.4.0'"
      ]
     },
     "execution_count": 9,
     "metadata": {},
     "output_type": "execute_result"
    }
   ],
   "source": [
    "import pyscf\n",
    "\n",
    "pyscf.__version__"
   ]
  },
  {
   "cell_type": "code",
   "execution_count": 10,
   "metadata": {},
   "outputs": [
    {
     "name": "stdout",
     "output_type": "stream",
     "text": [
      "System: uname_result(system='Linux', node='taamangtchu-Aspire-A515-45', release='6.2.0-39-generic', version='#40~22.04.1-Ubuntu SMP PREEMPT_DYNAMIC Thu Nov 16 10:53:04 UTC 2', machine='x86_64')  Threads 12\n",
      "Python 3.10.12 | packaged by conda-forge | (main, Jun 23 2023, 22:40:32) [GCC 12.3.0]\n",
      "numpy 1.26.2  scipy 1.11.4\n",
      "Date: Fri Jan  5 22:09:27 2024\n",
      "PySCF version 2.4.0\n",
      "PySCF path  /home/taamangtchu/mambaforge/lib/python3.10/site-packages/pyscf\n",
      "\n",
      "[CONFIG] conf_file None\n",
      "[INPUT] verbose = 4\n",
      "[INPUT] num. atoms = 3\n",
      "[INPUT] num. electrons = 10\n",
      "[INPUT] charge = 0\n",
      "[INPUT] spin (= nelec alpha-beta = 2S) = 0\n",
      "[INPUT] symmetry True subgroup None\n",
      "[INPUT] Mole.unit = angstrom\n",
      "[INPUT] Symbol           X                Y                Z      unit          X                Y                Z       unit  Magmom\n",
      "[INPUT]  1 O      0.000000000000   0.000000000000   0.117300000000 AA    0.000000000000   0.000000000000   0.221664874411 Bohr   0.0\n",
      "[INPUT]  2 H      0.000000000000   0.757200000000  -0.469200000000 AA    0.000000000000   1.430900621521  -0.886659497646 Bohr   0.0\n",
      "[INPUT]  3 H      0.000000000000  -0.757200000000  -0.469200000000 AA    0.000000000000  -1.430900621521  -0.886659497646 Bohr   0.0\n",
      "\n",
      "nuclear repulsion = 9.1895337629349\n",
      "point group symmetry = C2v\n",
      "symmetry origin: [0. 0. 0.]\n",
      "symmetry axis x: [-1. -0. -0.]\n",
      "symmetry axis y: [0. 1. 0.]\n",
      "symmetry axis z: [0. 0. 1.]\n",
      "num. orbitals of irrep A1 = 7\n",
      "num. orbitals of irrep B1 = 2\n",
      "num. orbitals of irrep B2 = 4\n",
      "number of shells = 9\n",
      "number of NR pGTOs = 30\n",
      "number of NR cGTOs = 13\n",
      "basis = 6-31g\n",
      "ecp = {}\n",
      "CPU time:         6.46\n"
     ]
    }
   ],
   "source": [
    "from pyscf import gto\n",
    "\n",
    "# Experimental geometry of gas-phase water\n",
    "# Ref: https://cccbdb.nist.gov/expgeom2x.asp\n",
    "mol_xyz = \"\"\"O        0.0000   0.0000   0.1173\n",
    "             H        0.0000   0.7572\t -0.4692\n",
    "             H        0.0000  -0.7572\t -0.4692\"\"\"\n",
    "mol = gto.M(\n",
    "    atom=mol_xyz, \n",
    "    basis=\"6-31g\", \n",
    "    verbose=4,\n",
    "    charge=0,      # 0 by default\n",
    "    spin=0,        # 0 by default, defined as (n_up - n_down)\n",
    "    symmetry=True, # False by default\n",
    ")"
   ]
  },
  {
   "cell_type": "code",
   "execution_count": 11,
   "metadata": {},
   "outputs": [
    {
     "data": {
      "application/3dmoljs_load.v0": "<div id=\"3dmolviewer_1704488967710017\"  style=\"position: relative; width: 300px; height: 300px;\">\n        <p id=\"3dmolwarning_1704488967710017\" style=\"background-color:#ffcccc;color:black\">You appear to be running in JupyterLab (or JavaScript failed to load for some other reason).  You need to install the 3dmol extension: <br>\n        <tt>jupyter labextension install jupyterlab_3dmol</tt></p>\n        </div>\n<script>\n\nvar loadScriptAsync = function(uri){\n  return new Promise((resolve, reject) => {\n    //this is to ignore the existence of requirejs amd\n    var savedexports, savedmodule;\n    if (typeof exports !== 'undefined') savedexports = exports;\n    else exports = {}\n    if (typeof module !== 'undefined') savedmodule = module;\n    else module = {}\n\n    var tag = document.createElement('script');\n    tag.src = uri;\n    tag.async = true;\n    tag.onload = () => {\n        exports = savedexports;\n        module = savedmodule;\n        resolve();\n    };\n  var firstScriptTag = document.getElementsByTagName('script')[0];\n  firstScriptTag.parentNode.insertBefore(tag, firstScriptTag);\n});\n};\n\nif(typeof $3Dmolpromise === 'undefined') {\n$3Dmolpromise = null;\n  $3Dmolpromise = loadScriptAsync('https://cdnjs.cloudflare.com/ajax/libs/3Dmol/2.0.4/3Dmol-min.js');\n}\n\nvar viewer_1704488967710017 = null;\nvar warn = document.getElementById(\"3dmolwarning_1704488967710017\");\nif(warn) {\n    warn.parentNode.removeChild(warn);\n}\n$3Dmolpromise.then(function() {\nviewer_1704488967710017 = $3Dmol.createViewer(document.getElementById(\"3dmolviewer_1704488967710017\"),{backgroundColor:\"white\"});\nviewer_1704488967710017.zoomTo();\n\tviewer_1704488967710017.addModel(\"3\\nXYZ from PySCF\\nO           0.00000        0.00000        0.11730\\nH           0.00000        0.75720       -0.46920\\nH           0.00000       -0.75720       -0.46920\",\"xyz\");\n\tviewer_1704488967710017.setStyle({\"stick\": {}});\nviewer_1704488967710017.render();\n});\n</script>",
      "text/html": [
       "<div id=\"3dmolviewer_1704488967710017\"  style=\"position: relative; width: 300px; height: 300px;\">\n",
       "        <p id=\"3dmolwarning_1704488967710017\" style=\"background-color:#ffcccc;color:black\">You appear to be running in JupyterLab (or JavaScript failed to load for some other reason).  You need to install the 3dmol extension: <br>\n",
       "        <tt>jupyter labextension install jupyterlab_3dmol</tt></p>\n",
       "        </div>\n",
       "<script>\n",
       "\n",
       "var loadScriptAsync = function(uri){\n",
       "  return new Promise((resolve, reject) => {\n",
       "    //this is to ignore the existence of requirejs amd\n",
       "    var savedexports, savedmodule;\n",
       "    if (typeof exports !== 'undefined') savedexports = exports;\n",
       "    else exports = {}\n",
       "    if (typeof module !== 'undefined') savedmodule = module;\n",
       "    else module = {}\n",
       "\n",
       "    var tag = document.createElement('script');\n",
       "    tag.src = uri;\n",
       "    tag.async = true;\n",
       "    tag.onload = () => {\n",
       "        exports = savedexports;\n",
       "        module = savedmodule;\n",
       "        resolve();\n",
       "    };\n",
       "  var firstScriptTag = document.getElementsByTagName('script')[0];\n",
       "  firstScriptTag.parentNode.insertBefore(tag, firstScriptTag);\n",
       "});\n",
       "};\n",
       "\n",
       "if(typeof $3Dmolpromise === 'undefined') {\n",
       "$3Dmolpromise = null;\n",
       "  $3Dmolpromise = loadScriptAsync('https://cdnjs.cloudflare.com/ajax/libs/3Dmol/2.0.4/3Dmol-min.js');\n",
       "}\n",
       "\n",
       "var viewer_1704488967710017 = null;\n",
       "var warn = document.getElementById(\"3dmolwarning_1704488967710017\");\n",
       "if(warn) {\n",
       "    warn.parentNode.removeChild(warn);\n",
       "}\n",
       "$3Dmolpromise.then(function() {\n",
       "viewer_1704488967710017 = $3Dmol.createViewer(document.getElementById(\"3dmolviewer_1704488967710017\"),{backgroundColor:\"white\"});\n",
       "viewer_1704488967710017.zoomTo();\n",
       "\tviewer_1704488967710017.addModel(\"3\\nXYZ from PySCF\\nO           0.00000        0.00000        0.11730\\nH           0.00000        0.75720       -0.46920\\nH           0.00000       -0.75720       -0.46920\",\"xyz\");\n",
       "\tviewer_1704488967710017.setStyle({\"stick\": {}});\n",
       "viewer_1704488967710017.render();\n",
       "});\n",
       "</script>"
      ]
     },
     "metadata": {},
     "output_type": "display_data"
    }
   ],
   "source": [
    "import py3Dmol\n",
    "\n",
    "# 3D representation\n",
    "xyz_view = py3Dmol.view(width=300,height=300)\n",
    "xyz_view.addModel(mol.tostring(format=\"xyz\"),'xyz')\n",
    "xyz_view.setStyle({'stick':{}})\n",
    "xyz_view.show()"
   ]
  },
  {
   "cell_type": "markdown",
   "metadata": {},
   "source": [
    "## Energie de gap HOMO-LUMO\n",
    "\n",
    "La bande interdite $E_g$ se calcule en déterminant l'énergie de l'orbite moléculaire la plus occupée (HOMO) et l'énergie de l'orbite moléculaire la plus basse inoccupée (LUMO) :\n",
    "\n",
    "$$E_g = E_{\\rm LUMO} - E_{\\rm HOMO}$$\n",
    "\n",
    "![Molecule_HOMO-LUMO_diagram](Graphics/Molecule_HOMO-LUMO_diagram.png)\n",
    "\n",
    "Chaque cercle représente ici un électron dans une orbitale ; lorsque la lumière ou l'énergie d'une fréquence suffisamment élevée est absorbée par un électron dans le HOMO, il saute vers le LUMO."
   ]
  },
  {
   "cell_type": "code",
   "execution_count": 41,
   "metadata": {},
   "outputs": [],
   "source": [
    "def find_homo_lumo(mf_pyscf, au2ev):\n",
    "    \"\"\"Function that returns the HOMO and LUMO index and the gap energy in eV\n",
    "\n",
    "    Args:\n",
    "        mf_pyscf (pyscf object): pyscf meam-field object of the molecule to be evaluated.\n",
    "    \"\"\"\n",
    "    # Index of HOMO and LUMO\n",
    "    lumo_idx = mf_pyscf.mo_occ.tolist().index(0.)\n",
    "    homo_idx = lumo_idx - 1\n",
    "\n",
    "    # Calculate the gap Homo-LUMO\n",
    "    E_HOMO = mf_pyscf.mo_energy[homo_idx]*au2ev\n",
    "    E_LUMO = mf_pyscf.mo_energy[lumo_idx]*au2ev\n",
    "    E_g = abs(E_HOMO - E_LUMO)\n",
    "\n",
    "    return E_HOMO, E_LUMO, E_g"
   ]
  },
  {
   "cell_type": "markdown",
   "metadata": {},
   "source": [
    "\n",
    "## [Hartree-Fock](https://en.wikipedia.org/wiki/Hartree%E2%80%93Fock_method)\n",
    "\n",
    "\n",
    "* Hatree-Fock (HF) est le point de départ de l'essentiel de la chimie quantique.\n",
    "* Les orbitales sont optimisés de manière variationnelle pour un seul déterminant de Slater.\n",
    "* En travaillant sur la base de la fonction de base centrée sur l'atome, on résoud les équations de [Roothaan-Hall](https://en.wikipedia.org/wiki/Roothaan_equations).\n",
    "\n",
    "$$\\mathbf{FC} = \\mathbf{SC} \\epsilon.$$\n",
    "\n",
    "* $\\mathbf{F}$ est la matrice Fock;\n",
    "* $\\mathbf{C}$ est la matrice des coefficients orbitaux moléculaires;\n",
    "* $\\mathbf{S}$ est la matrice de chevauchement orbitale atomique;\n",
    "* $\\epsilon$ est le vecteur des énergies orbitales moléculaires."
   ]
  },
  {
   "cell_type": "code",
   "execution_count": 13,
   "metadata": {},
   "outputs": [
    {
     "name": "stdout",
     "output_type": "stream",
     "text": [
      "\n",
      "\n",
      "******** <class 'pyscf.scf.hf_symm.SymAdaptedRHF'> ********\n",
      "method = SymAdaptedRHF\n",
      "initial guess = minao\n",
      "damping factor = 0\n",
      "level_shift factor = 0\n",
      "DIIS = <class 'pyscf.scf.diis.CDIIS'>\n",
      "diis_start_cycle = 1\n",
      "diis_space = 8\n",
      "SCF conv_tol = 1e-09\n",
      "SCF conv_tol_grad = None\n",
      "SCF max_cycles = 50\n",
      "direct_scf = True\n",
      "direct_scf_tol = 1e-13\n",
      "chkfile to save SCF result = /tmp/tmpmd9vcgrp\n",
      "max_memory 4000 MB (current use 30 MB)\n",
      "Freeze 0 electrons in irreps []\n",
      "    10 free electrons in irreps A1 B1 B2\n",
      "Set gradient conv threshold to 3.16228e-05\n",
      "Initial guess from minao.\n",
      "init E= -75.8343030732679\n",
      "HOMO (B1) = -0.474622307499056  LUMO (A1) = 0.124028813320093\n",
      "cycle= 1 E= -75.9458238773405  delta_E= -0.112  |g|= 0.419  |ddm|= 1.19\n",
      "HOMO (B1) = -0.414460394475608  LUMO (A1) = 0.209091679575767\n",
      "cycle= 2 E= -75.9747569680173  delta_E= -0.0289  |g|= 0.226  |ddm|= 0.406\n",
      "HOMO (B1) = -0.5037246070521  LUMO (A1) = 0.197910489056943\n",
      "cycle= 3 E= -75.9837994485706  delta_E= -0.00904  |g|= 0.022  |ddm|= 0.142\n",
      "HOMO (B1) = -0.49987398349094  LUMO (A1) = 0.203806292491572\n",
      "cycle= 4 E= -75.9839683121519  delta_E= -0.000169  |g|= 0.00351  |ddm|= 0.0223\n",
      "HOMO (B1) = -0.501170980205034  LUMO (A1) = 0.203672006137024\n",
      "cycle= 5 E= -75.9839743119537  delta_E= -6e-06  |g|= 0.000534  |ddm|= 0.00506\n",
      "HOMO (B1) = -0.501373592709124  LUMO (A1) = 0.203643081946632\n",
      "cycle= 6 E= -75.9839744709411  delta_E= -1.59e-07  |g|= 5.35e-05  |ddm|= 0.000938\n",
      "HOMO (B1) = -0.501372091345515  LUMO (A1) = 0.203641391321106\n",
      "cycle= 7 E= -75.9839744725996  delta_E= -1.66e-09  |g|= 1.24e-05  |ddm|= 9.81e-05\n",
      "HOMO (B1) = -0.501368130501534  LUMO (A1) = 0.203641216029927\n",
      "cycle= 8 E= -75.9839744727204  delta_E= -1.21e-10  |g|= 1.54e-06  |ddm|= 3.21e-05\n",
      "HOMO (B1) = -0.501368365983402  LUMO (A1) = 0.203640958576325\n",
      "Extra cycle  E= -75.9839744727217  delta_E= -1.35e-12  |g|= 7.11e-07  |ddm|= 2.46e-06\n",
      "converged SCF energy = -75.9839744727217\n"
     ]
    }
   ],
   "source": [
    "import time\n",
    "from pyscf import scf\n",
    "\n",
    "start = time.time()\n",
    "myhf = scf.RHF(mol).run()\n",
    "myhf_time = time.time() - start"
   ]
  },
  {
   "cell_type": "code",
   "execution_count": 36,
   "metadata": {},
   "outputs": [
    {
     "name": "stdout",
     "output_type": "stream",
     "text": [
      "Homo Energy = -13.64292814499098 eV, \n",
      "Lumo Energy = 5.541352733303217 eV, \n",
      "Gap Energy = 19.1842808782942 eV\n"
     ]
    }
   ],
   "source": [
    "from pyscf.data import nist\n",
    "\n",
    "au2ev = nist.HARTREE2EV\n",
    "\n",
    "Ehf_homo, Ehf_lumo, Ehf_g = find_homo_lumo(myhf, au2ev)\n",
    "print(f'Homo Energy = {Ehf_homo} eV, \\nLumo Energy = {Ehf_lumo} eV, \\nGap Energy = {Ehf_g} eV')\n"
   ]
  },
  {
   "cell_type": "markdown",
   "metadata": {},
   "source": [
    " La méthode de Hartree-Fock présente certaines limites :\n",
    "\n",
    " 1. **Approximation de l'échange-correlation**. La méthode de Hartree-Fock ne tient pas compte de manière exacte de l'interaction électron-électron appelée **correlation électronique**. Elle utilise une approximation connue sous le nom d'approximation de l'échange-correlation. Cette approximation simplifie l'interaction électronique en la traitant de manière moyennée, ce qui peut conduire à des erreurs significatives dans certains cas.\n",
    "\n",
    "2. **Non-inclusion de la corrélation électronique dynamique**. La méthode de Hartree-Fock considère les électrons comme un ensemble d'orbitales indépendantes dans un champ moyen créé par les autres électrons. Cependant, elle ne prend pas en compte la corrélation électronique dynamique, c'est-à-dire les effets de corrélation qui dépendent du mouvement des électrons dans le système. Cela limite sa précision pour les systèmes où la corrélation électronique dynamique est importante, tels que les systèmes fortement corrélés ou les réactions chimiques avec des états de transition.\n",
    "\n",
    "3. **Problèmes avec les systèmes à interaction forte**. La méthode de Hartree-Fock peut être moins précise pour les systèmes contenant des électrons fortement corrélés, tels que les systèmes avec des liaisons multiples ou des électrons non-appariés. Dans ces cas, d'autres méthodes plus avancées, telles que les méthodes de la théorie de la fonctionnelle de la densité (DFT) ou les méthodes de couplage de cluster, peuvent être nécessaires.\n",
    "\n",
    "4. **Sensibilité aux bases de fonction**. La précision des résultats de la méthode de Hartree-Fock dépend fortement du choix des bases de fonction utilisées pour décrire les orbitales électroniques. Différentes bases de fonction peuvent donner des résultats légèrement différents, et il n'y a pas de base de fonction unique qui convient à tous les systèmes.\n"
   ]
  },
  {
   "cell_type": "markdown",
   "metadata": {},
   "source": [
    "## Théorie de la fonctionnelle de la densité - DFT\n",
    "\n",
    "Dans la [KS-DFT](https://en.wikipedia.org/wiki/Density_functional_theory), proposé pour la première fois par Kohn et Sham en [1964](https://journals.aps.org/pr/abstract/10.1103/PhysRev.136.B864), la densité électronique d'un système de référence sans interaction est utilisée pour représenter la densité du véritable système en interaction. En effet, Kohn et Sham stipulent qu'il existe\n",
    "1. une cartographie biunivoque entre la densité électronique et le potentiel externe et\n",
    "2. un principe variationnel pour la densité électronique.\n",
    "\n",
    "En conséquence, la formulation informatique de KS-DFT ressemble à celle de la théorie de Hartree-Fock (HF), mais avec un potentiel de Fock effectif différent. Dans KS-DFT, l’énergie électronique totale est définie comme suit :\n",
    "$$\n",
    "    E = \\mathtt{T}_e + \\mathtt{V}_{\\rm ext} +  \\mathtt{U}_J + E_{\\rm XC} ,\n",
    "$$\n",
    "où \n",
    "* $\\mathtt{T}_e= -\\sum_i\\frac{\\hbar^2}{2m_e}\\nabla^2_i$ est l'énergie cinétique électronique sans interaction;\n",
    "* $\\mathtt{V}_{\\rm ext} = \\int\\rho(\\mathbf{r})\\times\\Big[-\\sum_{i,I}\\frac{Z_I}{|\\mathbf{r}_i-\\mathbf{R}_I|}\\Big]d\\mathbf{r}$ est l'énergie due au potentiel externe ou la répulsion Coulombienne entre les électrons et les noyaux;, \n",
    "* $ \\mathtt{U}_J = +\\frac12\\iint\\frac{\\rho(\\mathbf{r}_i)\\rho(\\mathbf{r}_j)}{|\\mathbf{r}_i-\\mathbf{r}_j|}d\\mathbf{r}_id\\mathbf{r}_j$ est l'énergie Coulombienne; \n",
    "* et $E_{\\rm XC}$ est l'énergie d'échange-corrélation (*XC*) qui fournit les corrections des termes $\\mathtt{T}_e$ et $\\mathtt{U}_J$. En pratique, $E_{\\rm XC}$ est approché par une approximation fonctionnelle de la densité, qui elle-même peuvent être divisée en plusieurs classes le long de différents échelons de l'échelle de Jacob :\n",
    "    * approximations de densité locale (par exemple LDA ; *XC* l'énergie dépend uniquement de la densité électronique, $\\rho$),\n",
    "    * approximations généralisées du gradient (GGA ; l'énergie *XC* dépend également du gradient de densité, $|\\nabla\\rho|$),\n",
    "    * méta-GGA (l'énergie *XC* dépend aussi de la densité d'énergie cinétique et/ou de la densité laplacienne, $\\sum_i |\\nabla \\psi_i|^2$, $\\nabla^2\\rho$ ; ce dernier n'est pas supporté dans PySCF pour le moment),\n",
    "    * fonctionnelles de corrélation non locales (l'énergie *XC* implique une double intégrale)\n",
    "    * fonctionnelles de densité hybride (une fraction de l'échange exact est utilisée), et\n",
    "    * fonctionnelles de densité corrigées à longue portée (l'échange exact est utilisé avec un noyau d'interaction modifié)\n",
    "\n",
    "* PySCF donne aux utilisateurs l'accès à un grand nombre de fonctionnalités via les bibliothèques [libXC](https://tddft.org/programs/libXC/) et [XCfun](https://github.com/dftlibs/XCfun).\n",
    "\n",
    "![DFT_Accuracy.jpg](./Graphics/DFT_Accuracy.jpg)\n",
    "\n",
    "Ainsi, l'Hamiltonien à un électron permettant de calculer l'énergie totale d'une orbitale électronique est\n",
    "\n",
    "$$\\hat{h}_{\\rm KS} \\phi_i(\\mathbf{r}_i) = \\Big[-\\frac12 \\nabla_i^2 + -\\sum_I\\frac{Z_I}{|\\mathbf{r}_i-\\mathbf{R}_I|} + \n",
    "\\int\\frac{\\rho(\\mathbf{r}_j)}{|\\mathbf{r}_i-\\mathbf{r}_j|}d\\mathbf{r}_j +  \\mathtt{V}_{\\rm XC}[\\rho(\\mathbf{r}_i)] \\Big] \\phi_i(r) = \\epsilon_i \\phi_i(\\mathbf{r}_i).$$\n",
    "\n",
    "Les solutions des états propres de cette équation peuvent être utilisées pour trouver une densité qui, par sa construction, reproduit la densité exacte du système complet en interaction :\n",
    "\n",
    "$$\\rho(\\mathbf{r}_i)=2\\sum_i |\\phi_i^{\\rm KS}(\\mathbf{r}_i)|^2.$$\n",
    "\n",
    "![DFT_Flowchart.jpg](Graphics/DFT_Flowchart.jpg)\n"
   ]
  },
  {
   "cell_type": "code",
   "execution_count": 38,
   "metadata": {},
   "outputs": [
    {
     "name": "stdout",
     "output_type": "stream",
     "text": [
      "\n",
      "\n",
      "******** <class 'pyscf.dft.rks_symm.SymAdaptedRKS'> ********\n",
      "method = SymAdaptedRKS\n",
      "initial guess = minao\n",
      "damping factor = 0\n",
      "level_shift factor = 0\n",
      "DIIS = <class 'pyscf.scf.diis.CDIIS'>\n",
      "diis_start_cycle = 1\n",
      "diis_space = 8\n",
      "SCF conv_tol = 1e-09\n",
      "SCF conv_tol_grad = None\n",
      "SCF max_cycles = 50\n",
      "direct_scf = True\n",
      "direct_scf_tol = 1e-13\n",
      "chkfile to save SCF result = /tmp/tmpiwu8j2w0\n",
      "max_memory 4000 MB (current use 43 MB)\n",
      "XC library pyscf.dft.libxc version 6.1.0\n",
      "    S. Lehtola, C. Steigemann, M. J.T. Oliveira, and M. A.L. Marques.,  SoftwareX 7, 1–5 (2018)\n",
      "XC functionals = B3LYP\n",
      "    P. J. Stephens, F. J. Devlin, C. F. Chabalowski, and M. J. Frisch.,  J. Phys. Chem. 98, 11623 (1994)\n",
      "radial grids: \n",
      "    Treutler-Ahlrichs [JCP 102, 346 (1995); DOI:10.1063/1.469408] (M4) radial grids\n",
      "    \n",
      "becke partition: Becke, JCP 88, 2547 (1988); DOI:10.1063/1.454033\n",
      "pruning grids: <function nwchem_prune at 0x7f734e4d2170>\n",
      "grids dens level: 3\n",
      "symmetrized grids: True\n",
      "atomic radii adjust function: <function treutler_atomic_radii_adjust at 0x7f734e4d20e0>\n",
      "small_rho_cutoff = 1e-07\n",
      "Freeze 0 electrons in irreps []\n",
      "    10 free electrons in irreps A1 B1 B2\n",
      "Set gradient conv threshold to 3.16228e-05\n",
      "Initial guess from minao.\n"
     ]
    },
    {
     "name": "stdout",
     "output_type": "stream",
     "text": [
      "tot grids = 34312\n",
      "init E= -76.3437620065598\n",
      "HOMO (B1) = -0.427004269910516  LUMO (A1) = 0.0220209634819467\n",
      "cycle= 1 E= -76.2921493339693  delta_E= 0.0516  |g|= 0.693  |ddm|= 1.24\n",
      "HOMO (B1) = -0.121174052992213  LUMO (A1) = 0.0974497725153828\n",
      "cycle= 2 E= -76.2019082085522  delta_E= 0.0902  |g|= 0.988  |ddm|= 1.19\n",
      "HOMO (B1) = -0.296459109722756  LUMO (A1) = 0.0533250482727196\n",
      "cycle= 3 E= -76.3849337323309  delta_E= -0.183  |g|= 0.008  |ddm|= 0.73\n",
      "HOMO (B1) = -0.292007333683094  LUMO (A1) = 0.0575676485970033\n",
      "cycle= 4 E= -76.3849507487675  delta_E= -1.7e-05  |g|= 0.000886  |ddm|= 0.00987\n",
      "HOMO (B1) = -0.2923103461833  LUMO (A1) = 0.0573913746859993\n",
      "cycle= 5 E= -76.3849509192971  delta_E= -1.71e-07  |g|= 6.87e-05  |ddm|= 0.000893\n",
      "HOMO (B1) = -0.292334873671957  LUMO (A1) = 0.0573914558443268\n",
      "cycle= 6 E= -76.3849509207112  delta_E= -1.41e-09  |g|= 9.62e-06  |ddm|= 0.000109\n",
      "HOMO (B1) = -0.292332670192075  LUMO (A1) = 0.0573914459021829\n",
      "cycle= 7 E= -76.3849509207307  delta_E= -1.95e-11  |g|= 6.13e-07  |ddm|= 7.53e-06\n",
      "HOMO (B1) = -0.292332368399528  LUMO (A1) = 0.0573915526724112\n",
      "Extra cycle  E= -76.3849509207308  delta_E= -1.28e-13  |g|= 7.42e-07  |ddm|= 8.08e-07\n",
      "converged SCF energy = -76.3849509207308\n"
     ]
    }
   ],
   "source": [
    "from pyscf import dft\n",
    "\n",
    "start = time.time()\n",
    "myks = dft.RKS(mol, xc=\"B3LYP\").run() #optional: use density fitting to accelerate integral evaluation\n",
    "# scf.KS(mol).density_fit()\n",
    "myks_time = time.time() - start"
   ]
  },
  {
   "cell_type": "code",
   "execution_count": 39,
   "metadata": {},
   "outputs": [
    {
     "name": "stdout",
     "output_type": "stream",
     "text": [
      "Homo Energy = -7.9547689226604 eV, \n",
      "Lumo Energy = 1.5617036940561446 eV, \n",
      "Gap Energy = 9.516472616716545 eV\n"
     ]
    }
   ],
   "source": [
    "Eks_homo, Eks_lumo, Eks_g = find_homo_lumo(myks)\n",
    "print(f'Homo Energy = {Eks_homo} eV, \\nLumo Energy = {Eks_lumo} eV, \\nGap Energy = {Eks_g} eV')\n"
   ]
  },
  {
   "cell_type": "markdown",
   "metadata": {},
   "source": [
    "Bien que la DFT présente de nombreux avantages, elle comporte également certaines limitations importantes :\n",
    "\n",
    "1. **Approximation de l'échange-correlation**. Tout comme la méthode de Hartree-Fock, la DFT repose sur une approximation de l'échange-correlation. Différentes approximations sont disponibles, telles que l'approximation de la fonctionnelle de l'échange-corrélation locale (LDA) ou l'approximation de la fonctionnelle de l'échange-corrélation généralisée (GGA). Ces approximations peuvent être moins précises dans certains cas, conduisant à des résultats moins précis pour certaines propriétés chimiques.\n",
    "\n",
    "2. **Difficulté à traiter les interactions à longue portée**. La DFT est moins efficace pour traiter les interactions à longue portée, telles que les interactions de dispersion (van der Waals). Les approximations standard de la DFT ne capturent pas correctement ces interactions, ce qui peut conduire à des erreurs significatives lors de la modélisation de systèmes moléculaires ou de matériaux qui dépendent fortement de ces interactions.\n",
    "\n",
    "3. **Prise en compte incomplète de la corrélation électronique dynamique**. Bien que la DFT prenne en compte certaines contributions de la corrélation électronique, elle n'inclut généralement pas de manière exacte la corrélation électronique dynamique, qui est importante dans les systèmes avec des états de transition, des réactions chimiques et des propriétés d'excitation. Des méthodes plus avancées, telles que la DFT à deux électrons (DFT à deux particules), sont nécessaires pour capturer plus précisément ces effets de corrélation électronique dynamique.\n",
    "\n",
    "4. **Sensibilité aux bases de fonction**. Comme pour la méthode de Hartree-Fock, la précision des résultats de la DFT dépend du choix des bases de fonction. Différentes approximations de la fonctionnelle de l'échange-corrélation peuvent nécessiter des bases de fonction spécifiques, et il n'y a pas de base de fonction unique qui convient à tous les systèmes.\n",
    "\n",
    "5. **Problèmes avec les systèmes fortement corrélés**. La DFT peut être moins précise pour les systèmes avec des électrons fortement corrélés, tels que les systèmes avec des liaisons multiples ou des électrons fortement localisés. Dans ces cas, des méthodes plus avancées, telles que la DFT à la dynamique exacte des échanges, sont nécessaires pour obtenir des résultats précis.\n"
   ]
  },
  {
   "cell_type": "markdown",
   "metadata": {},
   "source": [
    "## Théorie des perturbations de Møller-Plesset - MP2\n",
    "\n",
    "* La [MP2](https://en.wikipedia.org/wiki/M%C3%B8ller%E2%80%93Plesset_perturbation_theory) effectue des corrections perturbatives de l'approximation Hartree-Fock."
   ]
  },
  {
   "cell_type": "code",
   "execution_count": 15,
   "metadata": {},
   "outputs": [
    {
     "name": "stdout",
     "output_type": "stream",
     "text": [
      "\n",
      "******** <class 'pyscf.mp.mp2.MP2'> ********\n",
      "nocc = 5, nmo = 13\n",
      "max_memory 4000 MB (current use 73 MB)\n",
      "E(MP2) = -76.1128253908809  E_corr = -0.128850918159198\n",
      "E(SCS-MP2) = -76.1124627493824  E_corr = -0.128488276660723\n",
      "E_corr(same-spin) = -0.0301532597657485\n",
      "E_corr(oppo-spin) = -0.0986976583934499\n"
     ]
    }
   ],
   "source": [
    "from pyscf import mp\n",
    "\n",
    "start = time.time()\n",
    "mymp2 = mp.MP2(myhf).run()\n",
    "mymp2_time = time.time() - start + myhf_time"
   ]
  },
  {
   "cell_type": "markdown",
   "metadata": {},
   "source": [
    "## Cluster couplé - CC\n",
    "\n",
    "* La [CC](https://en.wikipedia.org/wiki/Coupled_cluster) est une méthode perturbative qui améliore l'approximation de Hartree-Fock.\n",
    "* Les clusters couplés simples et doubles (CCSD) incluent une excitation simple et double en plus de la fonction d'état HF.\n",
    "* La précision peut être améliorée en incluant les triples de manière perturbatrice (CCSD(T)).\n",
    "* Description non variationnelle, mais détaillée des états fondamentaux. \n",
    "* L'extension aux états excités est l'EOM-CCSD."
   ]
  },
  {
   "cell_type": "code",
   "execution_count": 16,
   "metadata": {},
   "outputs": [
    {
     "name": "stdout",
     "output_type": "stream",
     "text": [
      "\n",
      "******** <class 'pyscf.cc.ccsd.CCSD'> ********\n",
      "CC2 = 0\n",
      "CCSD nocc = 5, nmo = 13\n",
      "max_cycle = 50\n",
      "direct = 0\n",
      "conv_tol = 1e-07\n",
      "conv_tol_normt = 1e-05\n",
      "diis_space = 6\n",
      "diis_start_cycle = 0\n",
      "diis_start_energy_diff = 1e+09\n",
      "max_memory 4000 MB (current use 75 MB)\n"
     ]
    },
    {
     "name": "stdout",
     "output_type": "stream",
     "text": [
      "Init t2, MP2 energy = -76.1128253971341  E_corr(MP2) -0.128850924412438\n",
      "Init E_corr(CCSD) = -0.128850924412629\n",
      "cycle = 1  E_corr(CCSD) = -0.131108130968237  dE = -0.00225720656  norm(t1,t2) = 0.0228787\n",
      "cycle = 2  E_corr(CCSD) = -0.133971459205635  dE = -0.00286332824  norm(t1,t2) = 0.00827705\n",
      "cycle = 3  E_corr(CCSD) = -0.135274692633286  dE = -0.00130323343  norm(t1,t2) = 0.00329509\n",
      "cycle = 4  E_corr(CCSD) = -0.135395198809584  dE = -0.000120506176  norm(t1,t2) = 0.000547317\n",
      "cycle = 5  E_corr(CCSD) = -0.135382726868841  dE = 1.24719407e-05  norm(t1,t2) = 0.000202845\n",
      "cycle = 6  E_corr(CCSD) = -0.135379406531295  dE = 3.32033755e-06  norm(t1,t2) = 5.06174e-05\n",
      "cycle = 7  E_corr(CCSD) = -0.135379879258624  dE = -4.72727328e-07  norm(t1,t2) = 1.08852e-05\n",
      "cycle = 8  E_corr(CCSD) = -0.135379510430962  dE = 3.68827661e-07  norm(t1,t2) = 2.91755e-06\n",
      "cycle = 9  E_corr(CCSD) = -0.135379510791862  dE = -3.60899116e-10  norm(t1,t2) = 5.44171e-07\n",
      "CCSD converged\n",
      "E(CCSD) = -76.11935398351358  E_corr = -0.1353795107918616\n"
     ]
    }
   ],
   "source": [
    "from pyscf import cc\n",
    "\n",
    "start = time.time()\n",
    "mycc = cc.CCSD(myhf).run()\n",
    "mycc_time = time.time() - start + myhf_time"
   ]
  },
  {
   "cell_type": "code",
   "execution_count": 17,
   "metadata": {},
   "outputs": [
    {
     "name": "stdout",
     "output_type": "stream",
     "text": [
      "CCSD(T) correction = -0.000995860106834937\n"
     ]
    }
   ],
   "source": [
    "e_ccsd_t = mycc.ccsd_t()\n",
    "mycct_time = time.time() - start + myhf_time"
   ]
  },
  {
   "cell_type": "markdown",
   "metadata": {},
   "source": [
    "## Interaction de configuration complète - FCI\n",
    "\n",
    "* L'[interaction de configuration complète (FCI)](https://en.wikipedia.org/wiki/Full_configuration_interaction) est exacte pour un choix donné d'ensemble de base.\n",
    "* Le coût computationnel augmente de façon exponentielle avec la taille du système.\n",
    "* Également connue sous le nom de **diagonalisation exacte**."
   ]
  },
  {
   "cell_type": "code",
   "execution_count": 18,
   "metadata": {},
   "outputs": [],
   "source": [
    "from pyscf import fci\n",
    "\n",
    "start = time.time()\n",
    "myfci = fci.FCI(myhf)\n",
    "myfci.kernel()\n",
    "myfci_time = time.time() - start + myhf_time"
   ]
  },
  {
   "cell_type": "markdown",
   "metadata": {},
   "source": [
    "## Synthèse des méthodes HF et post-HF\n",
    "\n",
    "Les données importantes sont enregistrées dans les objets de la méthode PYSCF, ce qui facilite l'analyse et la visualisation."
   ]
  },
  {
   "cell_type": "code",
   "execution_count": 40,
   "metadata": {},
   "outputs": [],
   "source": [
    "# Collect data\n",
    "\n",
    "methods = [\"HF\", \"MP2\", \"CCSD\", \"CCSD(T)\", \"DFT\", \"FCI\"]\n",
    "energies = [myhf.e_tot, mymp2.e_tot, mycc.e_tot, mycc.e_tot + e_ccsd_t, myks.e_tot, myfci.e_tot]\n",
    "mf_times = [myhf_time, mymp2_time, mycc_time, mycct_time, myks_time, myfci_time]\n"
   ]
  },
  {
   "cell_type": "code",
   "execution_count": null,
   "metadata": {},
   "outputs": [
    {
     "data": {
      "text/html": [
       "<div>\n",
       "<style scoped>\n",
       "    .dataframe tbody tr th:only-of-type {\n",
       "        vertical-align: middle;\n",
       "    }\n",
       "\n",
       "    .dataframe tbody tr th {\n",
       "        vertical-align: top;\n",
       "    }\n",
       "\n",
       "    .dataframe thead th {\n",
       "        text-align: right;\n",
       "    }\n",
       "</style>\n",
       "<table border=\"1\" class=\"dataframe\">\n",
       "  <thead>\n",
       "    <tr style=\"text-align: right;\">\n",
       "      <th></th>\n",
       "      <th>Energy</th>\n",
       "      <th>Time</th>\n",
       "      <th>Delta E in kcal/mol</th>\n",
       "    </tr>\n",
       "  </thead>\n",
       "  <tbody>\n",
       "    <tr>\n",
       "      <th>HF</th>\n",
       "      <td>-75.983974</td>\n",
       "      <td>0.372188</td>\n",
       "      <td>85.904670</td>\n",
       "    </tr>\n",
       "    <tr>\n",
       "      <th>MP2</th>\n",
       "      <td>-76.112825</td>\n",
       "      <td>0.464979</td>\n",
       "      <td>5.050719</td>\n",
       "    </tr>\n",
       "    <tr>\n",
       "      <th>CCSD</th>\n",
       "      <td>-76.119354</td>\n",
       "      <td>0.875498</td>\n",
       "      <td>0.954027</td>\n",
       "    </tr>\n",
       "    <tr>\n",
       "      <th>CCSD(T)</th>\n",
       "      <td>-76.120350</td>\n",
       "      <td>1.001239</td>\n",
       "      <td>0.329125</td>\n",
       "    </tr>\n",
       "    <tr>\n",
       "      <th>DFT</th>\n",
       "      <td>-76.384951</td>\n",
       "      <td>2.435868</td>\n",
       "      <td>165.708051</td>\n",
       "    </tr>\n",
       "    <tr>\n",
       "      <th>FCI</th>\n",
       "      <td>-76.120874</td>\n",
       "      <td>4.842882</td>\n",
       "      <td>0.000000</td>\n",
       "    </tr>\n",
       "  </tbody>\n",
       "</table>\n",
       "</div>"
      ],
      "text/plain": [
       "            Energy      Time  Delta E in kcal/mol\n",
       "HF      -75.983974  0.372188            85.904670\n",
       "MP2     -76.112825  0.464979             5.050719\n",
       "CCSD    -76.119354  0.875498             0.954027\n",
       "CCSD(T) -76.120350  1.001239             0.329125\n",
       "DFT     -76.384951  2.435868           165.708051\n",
       "FCI     -76.120874  4.842882             0.000000"
      ]
     },
     "execution_count": 56,
     "metadata": {},
     "output_type": "execute_result"
    }
   ],
   "source": [
    "# Create the results dataframe\n",
    "import pandas as pd\n",
    "\n",
    "df_Eies = pd.DataFrame({\"Energy\":energies, \"Time\":mf_times,\n",
    "                        \"Delta E(kcal/mol)\":abs(energies-myfci.e_tot)*627.5}, \n",
    "                        index = methods)\n",
    "\n",
    "df_Eies"
   ]
  },
  {
   "cell_type": "markdown",
   "metadata": {},
   "source": [
    "On note que les méthodes HF et MP2 produisent ici des différences d'énergie 86 et 5 kcal/mol respectivement, bien supérieure à [précision chimique](https://en.wikipedia.org/wiki/Computational_chemistry) (1 kcal/mol)."
   ]
  },
  {
   "cell_type": "code",
   "execution_count": null,
   "metadata": {},
   "outputs": [
    {
     "data": {
      "image/png": "[encoded data removed]",
      "text/plain": [
       "<Figure size 800x500 with 2 Axes>"
      ]
     },
     "metadata": {},
     "output_type": "display_data"
    }
   ],
   "source": [
    "# Plotting\n",
    "import matplotlib.pyplot as plt\n",
    "\n",
    "# Create the matplotlib figure\n",
    "fig, ax = plt.subplots(figsize=(8,5))\n",
    "\n",
    "# Plot the energies\n",
    "ax.set_xticks(range(len(methods)), methods)\n",
    "ax.set_xlabel(\"Method\")\n",
    "ax.set_ylabel(\"Energy (Ha)\", color=\"b\")\n",
    "ax.scatter(range(len(methods)), energies, marker=\"o\", s=50, color=\"b\")\n",
    "ax.set_xlabel(\"Method\")\n",
    "\n",
    "# Plot the time to solution\n",
    "ax_time = ax.twinx()\n",
    "ax_time.scatter(range(len(methods)), mf_times, marker=\"s\", s=50, color=\"r\")\n",
    "ax_time.set_ylabel(\"Time to solution (s)\", color=\"r\", rotation=270, va=\"bottom\")\n",
    "\n",
    "# Show the graph\n",
    "plt.tick_params(axis=\"both\", direction=\"in\")\n",
    "plt.show()"
   ]
  },
  {
   "cell_type": "markdown",
   "metadata": {},
   "source": [
    "De ce qui précède, il apparaît que, pour un même ensemble de bases chimiques de dimension moyenne, de taille $N$,\n",
    "* en termes de **précision**, on a l’ordre suivant :\n",
    "\n",
    "HF < MP2 < CCSD < CCSD(T) < FCI\n",
    "\n",
    "* tn termes de **temps de calculs**, \n",
    "\n",
    "HF ($N^4$) < MP2 ($N^5$) < CCSD ($N^6$)  < CCSD(T) ($N^7$) < FCI ($N!$) "
   ]
  }
 ],
 "metadata": {
  "jupytext": {
   "formats": "ipynb,md"
  },
  "kernelspec": {
   "display_name": "qiskit-env",
   "language": "python",
   "name": "qiskit-env"
  },
  "language_info": {
   "codemirror_mode": {
    "name": "ipython",
    "version": 3
   },
   "file_extension": ".py",
   "mimetype": "text/x-python",
   "name": "python",
   "nbconvert_exporter": "python",
   "pygments_lexer": "ipython3",
   "version": "3.10.12"
  },
  "widgets": {
   "application/vnd.jupyter.widget-state+json": {
    "state": {},
    "version_major": 1,
    "version_minor": 0
   }
  }
 },
 "nbformat": 4,
 "nbformat_minor": 4
}
