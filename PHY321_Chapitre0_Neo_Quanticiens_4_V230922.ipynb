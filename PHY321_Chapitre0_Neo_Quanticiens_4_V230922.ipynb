{
  "cells": [
    {
      "cell_type": "markdown",
      "metadata": {
        "id": "0izqxiSxuIed"
      },
      "source": [
        "# CHAPITRE 0 : RAPPELS D'ALGÈBRE LINÉAIRE\n",
        "\n",
        "Ce chapitre introduit et rappelle les outils mathématiques qui vont être utiles pour résoudre certains problèmes de la physique quantique (**PHY321 - Introduction à la Mécanique Quantique**). Il est donc de première importance de comprendre (ou d’avoir compris, en ce qui concerne les rappels) au mieux ce qui va suivre !\n",
        "\n",
        "À la fin de ce chapitre, rédigé par les **Néo quanticiens de la 4e génération** l'étudiant doit être capable de :\n",
        "\n",
        "\n",
        "* Effectuer les opérations vectorielles (addition, multiplication, etc.);\n",
        "\n",
        "* Utiliser les proprétés des matrices en physique quantique;\n",
        "\n",
        "* Trouver ou déterminer les valeurs propres et les vecteurs propres d'une matrice;\n",
        "\n",
        "* Effectuer ce qui précède en utilisant la bibliothèque Sympy de Python dans un jupyter notebook. Il est conseillé de le faire sous **Google colab** qui ne nécessite aucune installation.\n"
      ]
    },
    {
      "cell_type": "markdown",
      "metadata": {
        "id": "D1mW0Umkutmc"
      },
      "source": [
        "## Vecteur d'état\n",
        "\n",
        " La notion de vecteur d’état est d’une grande importance en physique quantique en ce sens qu'il permet de définir, de manière complète, l’état physique d’un système quantique. Dans cette section, nous présentons de manière générale la notion de vecteur d’état.\n",
        "\n",
        "\n",
        "### Définition\n",
        "\n",
        "Soit  $\\mathcal{H}$ un espace vectoriel complexe de dimension finie N muni d'un produit scalaire.  $\\mathcal{H}$  est appelé **espace de Hilbert**.\n",
        "\n",
        "On appelle **vecteur d'état** tout élément $|\\psi\\rangle$  (se lit **ket de psi**) appartenant à  $\\mathcal{H}$  tel que si  $\\mathcal{B} = \\{|i\\rangle\\}_{i=0,1,2,\\ldots,N-1}$  est une base de  $ \\mathcal{H} $  alors on peut écrire\n",
        "\n",
        "\\begin{equation}\n",
        "|\\psi\\rangle = \\sum_{i=0}^{N-1}\\alpha_i|i\\rangle .\n",
        "\\end{equation}\n",
        "\n",
        "\n",
        "### Exemple\n",
        "\n",
        "1. Considérons l’espace de Hilbert à deux dimensions. Une base de cet espace est donnée par  $\\mathcal{B} = \\{|0\\rangle,|1\\rangle\\} $  et un vecteur d'état de $\\mathcal{H}$  peut s'écrire\n",
        "\n",
        "\\begin{align}\n",
        "& |\\psi_1\\rangle = \\frac{1}{\\sqrt{2}}|0\\rangle + \\frac{i}{\\sqrt{2}}|1\\rangle,\n",
        "&  i^2 = -1 ,\n",
        "\\end{align}\n",
        "\n",
        "ou encore en représentation matricielle\n",
        "\n",
        "\\begin{equation}\n",
        "|\\psi_1\\rangle = \\frac{1}{\\sqrt{2}}\\begin{pmatrix}1\\\\0\\end{pmatrix} + \\frac{i}{\\sqrt{2}}\\begin{pmatrix}0\\\\1\\end{pmatrix} = \\frac{1}{\\sqrt{2}}\\begin{pmatrix}1\\\\i\\end{pmatrix}.\n",
        "\\end{equation}\n",
        "\n",
        "2. Considérons maintenant l’espace de Hilbert à trois dimensions. Une base de cet espace est définie par la donnée de trois vecteurs de base $\\{|0\\rangle ,|1\\rangle, |2\\rangle \\}$. Un vecteur de cet espace peut être\n",
        "\n",
        "\\begin{equation}\n",
        "|\\psi_2\\rangle = \\frac{-2}{\\sqrt{21}}|0\\rangle + \\frac{4i}{\\sqrt{21}}|1\\rangle +  \\frac{1}{\\sqrt{21}}|2\\rangle,\n",
        "\\end{equation}\n",
        "\n",
        "ou encore en représentation matricielle\n",
        "\n",
        "\\begin{equation}\n",
        "|\\psi_2\\rangle = \\frac{-2}{\\sqrt{21}}\\begin{pmatrix}1\\\\0\\\\0\\end{pmatrix} + \\frac{4i}{\\sqrt{21}}\\begin{pmatrix}0\\\\1\\\\0\\end{pmatrix} + \\frac{1}{\\sqrt{21}}\\begin{pmatrix}0\\\\0\\\\1\\end{pmatrix}  = \\frac{1}{\\sqrt{21}}\\begin{pmatrix}-2\\\\4i\\\\1\\end{pmatrix}.\n",
        "\\end{equation}\n",
        "\n",
        "### Sympy\n",
        "\n",
        "En programmation python, avant toute instruction, on s'assure qu'on appelé les modules nécessaires."
      ]
    },
    {
      "cell_type": "code",
      "execution_count": 17,
      "metadata": {},
      "outputs": [],
      "source": [
        "# Importing the necessary packages\n",
        "from sympy.physics.quantum.qubit import Qubit, qubit_to_matrix\n",
        "from sympy import sqrt, I, Symbol # I==i for complex numbers"
      ]
    },
    {
      "cell_type": "code",
      "execution_count": 18,
      "metadata": {
        "colab": {
          "base_uri": "https://localhost:8080/",
          "height": 55
        },
        "id": "p3LxK764u_M5",
        "outputId": "fb2e050f-f51a-4b62-cadb-4214b77f6ac0"
      },
      "outputs": [
        {
          "data": {
            "text/latex": [
              "$\\displaystyle \\frac{\\sqrt{2} {\\left|0\\right\\rangle }}{2} + \\frac{\\sqrt{2} i {\\left|1\\right\\rangle }}{2}$"
            ],
            "text/plain": [
              "sqrt(2)*|0>/2 + sqrt(2)*I*|1>/2"
            ]
          },
          "execution_count": 18,
          "metadata": {},
          "output_type": "execute_result"
        }
      ],
      "source": [
        "#Defining ket of psi1\n",
        "ketpsi1 = (1/sqrt(2))*Qubit(0) + (I/sqrt(2))*Qubit(1)\n",
        "ketpsi1"
      ]
    },
    {
      "cell_type": "code",
      "execution_count": 19,
      "metadata": {
        "colab": {
          "base_uri": "https://localhost:8080/",
          "height": 68
        },
        "id": "dn4BAi8IvEaz",
        "outputId": "30ebd220-0526-45b8-981e-7a4e425540e6"
      },
      "outputs": [
        {
          "data": {
            "text/latex": [
              "$\\displaystyle \\left[\\begin{matrix}\\frac{\\sqrt{2}}{2}\\\\\\frac{\\sqrt{2} i}{2}\\end{matrix}\\right]$"
            ],
            "text/plain": [
              "Matrix([\n",
              "[  sqrt(2)/2],\n",
              "[sqrt(2)*I/2]])"
            ]
          },
          "execution_count": 19,
          "metadata": {},
          "output_type": "execute_result"
        }
      ],
      "source": [
        "#Matrix representation of ket of ps1\n",
        "Mketpsi1 = qubit_to_matrix(ketpsi1)\n",
        "Mketpsi1"
      ]
    },
    {
      "cell_type": "code",
      "execution_count": 20,
      "metadata": {
        "id": "dWHtPS8ExVKJ"
      },
      "outputs": [],
      "source": [
        "#As \"Qubit\" package works only in dim 2, we can manipulate quantum states\n",
        "#with the \"sho1d\" package\n",
        "from sympy.physics.quantum.sho1d import SHOKet\n",
        "\n",
        "#To define vector states with multiple Qubit we need to define\n",
        "#individually the state bases in their matrix forms\n",
        "\n",
        "KET0 = SHOKet(0)\n",
        "KET1 = SHOKet(1)\n",
        "KET2 = SHOKet(2)"
      ]
    },
    {
      "cell_type": "code",
      "execution_count": 21,
      "metadata": {
        "id": "XrK-tW5u78Vu",
        "outputId": "31a06e5e-d9a1-4b35-ddc7-f1f1816dbf5d"
      },
      "outputs": [
        {
          "data": {
            "text/latex": [
              "$\\displaystyle \\left[\\begin{matrix}1\\\\0\\\\0\\end{matrix}\\right]$"
            ],
            "text/plain": [
              "Matrix([\n",
              "[1],\n",
              "[0],\n",
              "[0]])"
            ]
          },
          "execution_count": 21,
          "metadata": {},
          "output_type": "execute_result"
        }
      ],
      "source": [
        "#matrix representation of the state bases\n",
        "from sympy.physics.quantum import represent\n",
        "\n",
        "#matrix representation of KET0\n",
        "represent(KET0, ndim=3, format='sympy')"
      ]
    },
    {
      "cell_type": "code",
      "execution_count": 22,
      "metadata": {
        "id": "KOWJofdJ78Vw",
        "outputId": "02871036-21e7-479b-f628-59ac554dc2c6"
      },
      "outputs": [
        {
          "data": {
            "text/latex": [
              "$\\displaystyle \\left[\\begin{matrix}0\\\\1\\\\0\\end{matrix}\\right]$"
            ],
            "text/plain": [
              "Matrix([\n",
              "[0],\n",
              "[1],\n",
              "[0]])"
            ]
          },
          "execution_count": 22,
          "metadata": {},
          "output_type": "execute_result"
        }
      ],
      "source": [
        "#matrix representation of KET1\n",
        "represent(KET1, ndim=3, format='sympy')"
      ]
    },
    {
      "cell_type": "code",
      "execution_count": 23,
      "metadata": {
        "id": "buBJ4U8V78Vy",
        "outputId": "c46388fe-b918-42be-829a-b308e0342a23"
      },
      "outputs": [
        {
          "data": {
            "text/latex": [
              "$\\displaystyle \\left[\\begin{matrix}0\\\\0\\\\1\\end{matrix}\\right]$"
            ],
            "text/plain": [
              "Matrix([\n",
              "[0],\n",
              "[0],\n",
              "[1]])"
            ]
          },
          "execution_count": 23,
          "metadata": {},
          "output_type": "execute_result"
        }
      ],
      "source": [
        "#matrix representation of KET2\n",
        "represent(KET2, ndim=3, format='sympy')"
      ]
    },
    {
      "cell_type": "code",
      "execution_count": 24,
      "metadata": {
        "id": "tzatYart78Vz",
        "outputId": "1eab6f7e-060a-4b4d-a903-1cacbed75a6c"
      },
      "outputs": [
        {
          "data": {
            "text/latex": [
              "$\\displaystyle \\frac{\\sqrt{21} \\left(- 2 {\\left|0\\right\\rangle } + 4 i {\\left|1\\right\\rangle } + {\\left|2\\right\\rangle }\\right)}{21}$"
            ],
            "text/plain": [
              "sqrt(21)*(-2*|0> + 4*I*|1> + |2>)/21"
            ]
          },
          "execution_count": 24,
          "metadata": {},
          "output_type": "execute_result"
        }
      ],
      "source": [
        "#defining ket of psi 2\n",
        "ketpsi2 = (-2*KET0 + 4*I*KET1 + KET2)/sqrt(21)\n",
        "ketpsi2"
      ]
    },
    {
      "cell_type": "code",
      "execution_count": 25,
      "metadata": {
        "id": "ipcsT9W478Vz",
        "outputId": "14d64d8e-297f-4a1f-d818-e72ab9ab1832"
      },
      "outputs": [
        {
          "data": {
            "text/latex": [
              "$\\displaystyle \\left[\\begin{matrix}- \\frac{2 \\sqrt{21}}{21}\\\\\\frac{4 \\sqrt{21} i}{21}\\\\\\frac{\\sqrt{21}}{21}\\end{matrix}\\right]$"
            ],
            "text/plain": [
              "Matrix([\n",
              "[ -2*sqrt(21)/21],\n",
              "[4*sqrt(21)*I/21],\n",
              "[    sqrt(21)/21]])"
            ]
          },
          "execution_count": 25,
          "metadata": {},
          "output_type": "execute_result"
        }
      ],
      "source": [
        "#matrix representation of ket of psi 2\n",
        "represent(ketpsi2, ndim=3, format='sympy')"
      ]
    },
    {
      "cell_type": "markdown",
      "metadata": {
        "id": "PA5OdWTpxmsp"
      },
      "source": [
        "### Remarque\n",
        "\n",
        "Remarquons que, chaque vecteur ket en représentation matricielle correspond à une matrice colonne\n",
        "\n",
        "\\begin{equation}\n",
        "|\\rangle := \\begin{pmatrix}\\vdots\\end{pmatrix}.\n",
        "\\end{equation}\n",
        "\n",
        "Tout comme un nombre complexe  $ z $  possède un nombre complexe conjugué  $ z^* $ , tout vecteur de l'espace complexe (espace de Hilbert) possède un vecteur conjugué appartenant à l'espace conjugué de  $ \\mathcal{H} $  encore appelé espace dual et noté  $ \\mathcal{H^\\dagger} $ .\n",
        "\n",
        "## Vecteur dual d'un vecteur d'état\n",
        "\n",
        "Soit  $\\mathcal{H}$  un espace de Hilbert. On appelle **vecteur dual** du vecteur d'état  $|\\psi\\rangle$, l'élément  $\\langle\\psi|$  (se lit **bra de psi**) appartenant à $\\mathcal{H^\\dagger}$  tel que si  $ \\mathcal{B} = \\{\\langle i|\\}_{i=0,1,2,\\ldots,N-1}$ est une base de $\\mathcal{H^\\dagger}$  alors, on peut écrire\n",
        "\n",
        "\\begin{equation}\n",
        "\\langle\\psi| = (|\\psi\\rangle)^\\dagger = \\Big(\\sum_{i=0}^{N-1}\\alpha_i|i\\rangle\\Big)^\\dagger = \\sum_{i=0}^{N-1}\\alpha_i^*\\langle i|,\n",
        "\\end{equation}\n",
        "\n",
        "où les  $\\alpha_i^*$  représentent les complexes conjugués des coordonnées  $ \\alpha_i $  du vecteur d'état  $ |\\psi\\rangle $ .\n",
        "\n",
        "### Exemple\n",
        "\n",
        "Les vecteurs duaux des vecteurs d'état de l'**Exemple 0.1.1** sont donnés par\n",
        "\\begin{equation}\n",
        "\\langle\\psi_1| = \\frac{1}{\\sqrt{2}}\\langle0| + \\frac{-i}{\\sqrt{2}}\\langle1|,  \n",
        "\\end{equation}\n",
        "\n",
        "ou encore en représentation matricielle\n",
        "\n",
        "\\begin{equation}\n",
        "\\langle\\psi_1| = \\frac{1}{\\sqrt{2}}\\begin{pmatrix}1&0\\end{pmatrix} + \\frac{-i}{\\sqrt{2}}\\begin{pmatrix}0&1\\end{pmatrix} = \\frac{1}{\\sqrt{2}}\\begin{pmatrix}1&-i\\end{pmatrix}.\n",
        "\\end{equation}"
      ]
    },
    {
      "cell_type": "markdown",
      "metadata": {
        "id": "cgUK35sWJYYW"
      },
      "source": [
        "#### Sympy"
      ]
    },
    {
      "cell_type": "code",
      "execution_count": 26,
      "metadata": {},
      "outputs": [],
      "source": [
        "#Importing the necessary package\n",
        "from sympy.physics.quantum import Dagger"
      ]
    },
    {
      "cell_type": "code",
      "execution_count": 27,
      "metadata": {
        "id": "Rhd2dxaL78V1",
        "outputId": "34eecbce-88ec-416a-a8aa-336ab97a28be"
      },
      "outputs": [
        {
          "data": {
            "text/latex": [
              "$\\displaystyle \\frac{\\sqrt{2} {\\left\\langle 0\\right|}}{2} - \\frac{\\sqrt{2} i {\\left\\langle 1\\right|}}{2}$"
            ],
            "text/plain": [
              "sqrt(2)*<0|/2 - sqrt(2)*I*<1|/2"
            ]
          },
          "execution_count": 27,
          "metadata": {},
          "output_type": "execute_result"
        }
      ],
      "source": [
        "#dual vector of ket of psi 1\n",
        "brapsi1 = Dagger(ketpsi1)\n",
        "brapsi1"
      ]
    },
    {
      "cell_type": "code",
      "execution_count": 28,
      "metadata": {
        "id": "r40eOmCg78V2",
        "outputId": "aae864c6-6a7b-4a45-f141-fa974001f719"
      },
      "outputs": [
        {
          "data": {
            "text/latex": [
              "$\\displaystyle \\left[\\begin{matrix}\\frac{\\sqrt{2}}{2} & - \\frac{\\sqrt{2} i}{2}\\end{matrix}\\right]$"
            ],
            "text/plain": [
              "Matrix([[sqrt(2)/2, -sqrt(2)*I/2]])"
            ]
          },
          "execution_count": 28,
          "metadata": {},
          "output_type": "execute_result"
        }
      ],
      "source": [
        "#matrix representation of bra of psi 1\n",
        "represent(brapsi1, ndim=3, format='sympy')"
      ]
    },
    {
      "cell_type": "markdown",
      "metadata": {
        "id": "QQbc5pgGx8Cz"
      },
      "source": [
        "\\begin{equation}\n",
        "\\langle\\psi_2| = \\frac{-2}{\\sqrt{21}}\\langle0| + \\frac{-4i}{\\sqrt{21}}\\langle1| +  \\frac{1}{\\sqrt{21}}\\langle2|,\n",
        "\\end{equation}\n",
        "\n",
        "ou encore en représentation matricielle\n",
        "\n",
        "\\begin{equation}\n",
        "|\\psi_2\\rangle = \\frac{-2}{\\sqrt{21}}\\begin{pmatrix}1&0&0\\end{pmatrix} + \\frac{-4i}{\\sqrt{21}}\\begin{pmatrix}0&1&0\\end{pmatrix} + \\frac{-2}{\\sqrt{21}}\\begin{pmatrix}0&0&1\\end{pmatrix} = \\frac{1}{\\sqrt{21}}\\begin{pmatrix}-2&-4i&1\\end{pmatrix}.\n",
        "\\end{equation}"
      ]
    },
    {
      "cell_type": "code",
      "execution_count": 29,
      "metadata": {
        "id": "MlDicvEi78V4",
        "outputId": "810e640f-28b0-400a-b723-db34b2fdb2de"
      },
      "outputs": [
        {
          "data": {
            "text/latex": [
              "$\\displaystyle \\frac{\\sqrt{21} \\left(- 2 {\\left\\langle 0\\right|} - 4 i {\\left\\langle 1\\right|} + {\\left\\langle 2\\right|}\\right)}{21}$"
            ],
            "text/plain": [
              "sqrt(21)*(-2*<0| - 4*I*<1| + <2|)/21"
            ]
          },
          "execution_count": 29,
          "metadata": {},
          "output_type": "execute_result"
        }
      ],
      "source": [
        "#dual vector of ket of psi 1\n",
        "brapsi2 = Dagger(ketpsi2)\n",
        "brapsi2"
      ]
    },
    {
      "cell_type": "code",
      "execution_count": 30,
      "metadata": {
        "id": "MkvWBHOF78V4",
        "outputId": "b464afa9-cff9-4d1d-c9d6-53aaa3af1dba"
      },
      "outputs": [
        {
          "data": {
            "text/latex": [
              "$\\displaystyle \\left[\\begin{matrix}- \\frac{2 \\sqrt{21}}{21} & - \\frac{4 \\sqrt{21} i}{21} & \\frac{\\sqrt{21}}{21}\\end{matrix}\\right]$"
            ],
            "text/plain": [
              "Matrix([[-2*sqrt(21)/21, -4*sqrt(21)*I/21, sqrt(21)/21]])"
            ]
          },
          "execution_count": 30,
          "metadata": {},
          "output_type": "execute_result"
        }
      ],
      "source": [
        "#matrix representation of bra of psi 2\n",
        "represent(brapsi2, ndim=3, format='sympy')"
      ]
    },
    {
      "cell_type": "markdown",
      "metadata": {
        "id": "ad0MPdXbyNEC"
      },
      "source": [
        "### Remarque\n",
        "\n",
        "Il est important de remarquer qu'un bra n'est rien d'autre que le conjugué ( $ \\alpha_i $  devient  $ \\alpha_i^* $ ) transposé (vecteur colonne devient vecteur ligne) d'un ket et on a donc par définition\n",
        "\\begin{equation}\n",
        "\\langle| = \\big(|\\rangle\\big)^\\dagger := \\begin{pmatrix}\\cdots\\end{pmatrix}.\n",
        "\\end{equation}\n",
        "\n",
        "### Exercice - Vecteurs d'état\n",
        "\n",
        "Mettre sous forme matricielle les vecteurs d'état suivants et retrouver les vecteurs duaux associés sous forme vectorielle :\n",
        "\n",
        "\\begin{align}\n",
        "& |\\psi_1\\rangle = \\frac{i}{2}|0\\rangle + \\frac{\\sqrt{3}}{2}|1\\rangle,  \n",
        "&  |\\psi_2\\rangle = \\frac{1+i}{\\sqrt{3}}|0\\rangle - \\frac{i}{\\sqrt{3}}|1\\rangle .\n",
        "\\end{align}\n",
        "\n",
        "#### Solutions - Vecteurs d'état\n",
        "\n",
        "\\begin{equation}\n",
        "|\\psi_1\\rangle = \\frac{i}{2}\\begin{pmatrix}1\\\\0\\end{pmatrix} + \\frac{\\sqrt{3}}{2}\\begin{pmatrix}0\\\\1\\end{pmatrix} = \\frac{1}{2}\\begin{pmatrix}i\\\\\\sqrt{3}\\end{pmatrix}.\n",
        "\\end{equation}\n",
        "\n",
        "Le vecteur dual de  $ |\\psi_1\\rangle $  est\n",
        "\\begin{equation}\n",
        "\\langle\\psi_1| = \\frac{-i}{2}\\begin{pmatrix}1&0\\end{pmatrix} + \\frac{\\sqrt{3}}{2}\\begin{pmatrix}0&1\\end{pmatrix} = \\frac{1}{2}\\begin{pmatrix}-i&\\sqrt{3}\\end{pmatrix}.\n",
        "\\end{equation}\n",
        "\n",
        "en représentation vectorielle,\n",
        "\\begin{equation}\n",
        "\\langle\\psi_1| = \\frac{-i}{2}\\langle0| + \\frac{\\sqrt{3}}{2}\\langle1|\n",
        "\\end{equation}\n",
        "\n",
        "De même,\n",
        "\n",
        "\\begin{equation}\n",
        "|\\psi_2\\rangle = \\frac{1+i}{\\sqrt{3}}\\begin{pmatrix}1\\\\0\\end{pmatrix} + \\frac{-i}{\\sqrt{3}}\\begin{pmatrix}0\\\\1\\end{pmatrix} = \\frac{1}{\\sqrt{3}}\\begin{pmatrix}1+i\\\\-i\\end{pmatrix}.\n",
        "\\end{equation}\n",
        "\n",
        "Le vecteur dual de  $ |\\psi_2\\rangle $  est\n",
        "\\begin{equation}\n",
        "\\langle\\psi_2| = \\frac{1-i}{\\sqrt{3}}\\begin{pmatrix}1&0\\end{pmatrix} + \\frac{i}{\\sqrt{3}}\\begin{pmatrix}0&1\\end{pmatrix} = \\frac{1}{\\sqrt{3}}\\begin{pmatrix}1-i&i\\end{pmatrix}.\n",
        "\\end{equation}\n",
        "\n",
        "en représentation vectorielle,\n",
        "\\begin{equation}\n",
        "\\langle\\psi_2| = \\frac{1-i}{\\sqrt{3}}\\langle0| + \\frac{i}{\\sqrt{3}}\\langle1|\n",
        "\\end{equation}"
      ]
    },
    {
      "cell_type": "markdown",
      "metadata": {
        "id": "0UEzNJtuyp6J"
      },
      "source": [
        " ## Opérations basiques sur les vecteurs d'état\n",
        "\n",
        "Tout comme dans l'espace vectoriel réel Euclidien, les vecteurs de l'espace de Hilbert obéissent à certaines règles de calcul telles que l'addition, la soustraction, le produit scalaire, etc. S'agissant de l'addition et de la soustraction, les règles de calcul sont les mêmes que celles de vecteurs d'un espace vectoriel Euclidien que nous n'aborderons pas ici.\n",
        "\n",
        "Soient deux vecteurs  $ |\\psi\\rangle $  et  $ |\\phi\\rangle $  d'un espace de Hilbert  $ \\mathcal{H} $ . On appelle produit scalaire des vecteurs  $ |\\psi\\rangle $  et  $ |\\phi\\rangle $ , le nombre complexe  $ \\langle\\psi|\\phi\\rangle $  tel que\n",
        "\n",
        "\\begin{split}\n",
        "\\langle\\psi|\\phi\\rangle &= \\left(\\sum_{j=0}^{N-1}\\alpha_j^*\\langle j|\\right)\\left(\\sum_{i=0}^{N-1}\\alpha_i|i\\rangle\\right)\\\\\n",
        "&=\\sum_{i,j}\\alpha_j^*\\alpha_i\\langle j|i\\rangle\n",
        "=\\sum_{i,j}\\alpha_j^*\\alpha_i\\delta_{ij}\n",
        "\\end{split}\n",
        "\n",
        "où nous avons introduit le **symbole de Kroeneker** $ \\delta_{ij} $,  défini par\n",
        "\n",
        "\\begin{equation}\n",
        "\\delta_{ij}= \\begin{cases} 0 & \\text{ si} & i\\ne j, \\\\ 1 & \\text{ si} & i=j. \\end{cases}\n",
        "\\end{equation}\n",
        "\n",
        "On retrouve de manière évidente que\n",
        "\n",
        "\\begin{equation}\n",
        "\\langle\\psi|\\psi\\rangle = \\sum_i\\alpha_i^*\\alpha_i\\langle i|i\\rangle\n",
        "= \\sum_i|\\alpha_i|^2,\n",
        "\\end{equation}\n",
        "\n",
        "ce qui nous permet d'introduire la notion de **norme d'un vecteur d'état**.\n",
        "\n",
        "### Norme d'un vecteur d'état\n",
        "\n",
        "Soit  $ |\\psi\\rangle $,  un vecteur de l'espace des états. On appelle **norme du vecteur** $ |\\psi\\rangle $, et noté  $ \\|\\psi\\rangle\\| $,  la racine carrée de son produit scalaire avec lui-même :\n",
        "\n",
        "\\begin{equation}\n",
        "\\|\\psi\\rangle\\| = \\sqrt{\\langle\\psi|\\psi\\rangle} = \\sqrt{\\sum_i|\\alpha_i|^2}.\n",
        "\\end{equation}\n",
        "\n",
        "\n",
        "\n"
      ]
    },
    {
      "cell_type": "markdown",
      "metadata": {
        "id": "uJ025_XjzF7z"
      },
      "source": [
        "\n",
        "## Matrices\n",
        "\n",
        "Les matrices sont des tableaux de nombres. La résolution de certains problèmes de physique quantique se ramène à des manipulations sur les matrices. Ceci est vrai en particulier pour la résolution des systèmes linéaires, la recherche des résultats des mesures et les états du système associés.\n",
        "\n",
        "### Définition\n",
        "\n",
        "On appelle matrice  $ A $  de type (n,p) à coefficients dans  $ \\mathbb{K} $ , un tableau de $\\textbf{n.p}$ éléments de  $ \\mathbb{K} $, un corps.\n",
        "\n",
        "* Elle est dite de **taille**  $ n\\times p $  si le tableau possède n lignes et p colonnes.\n",
        "\n",
        "* Les nombres du tableau sont appelés coefficients de  $ A $.\n",
        "\n",
        "* Le coefficient situés à la i-ème ligne et à la j-ème colonne est noté  $ a_{i,j} $.\n",
        "\n",
        "Un tel tableau est représenté de la manière suivante\n",
        "\n",
        " $ A = \\begin{pmatrix} a_{1,1} & a_{1,2} & \\cdots & a_{1,j} & \\cdots & a_{1,p} \\\\ a_{2,1} & a_{2,2} & \\cdots & a_{2,j} & \\cdots & a_{2,p} \\\\ a_{i,1} & a_{i,2} & \\cdots & a_{i,j} & \\cdots & a_{i,p} \\\\ a_{n,1} & a_{n,2} & \\cdots & a_{n,j} & \\cdots & a_{n,p} \\end{pmatrix}$\n",
        " ou $A = (a_{i_j})_{1\\le i\\le n \\, ; \\, 1\\le j\\le p} $  qui est la forme abrégée.\n",
        "\n",
        "**Cas particuliers**\n",
        "\n",
        "* Si $n = p$, on dit que la **matrice est carrée**.\n",
        "\n",
        "* Si  $ n \\ne p $  on dit que la **matrice est rectangulaire**.\n",
        "\n",
        "* L'ensemble des matrices à n lignes et p colonnes à coefficients dans  $ \\mathbb{K} $  est noté  $ M_{n,p} $.\n",
        "\n",
        "* Si $n = 1$,  $ M_{1,p} $  est l'ensemble des matrices lignes.\n",
        "\n",
        "* Si $p = 1$,  $ M_{n,1} $  est l'ensemble des matrices colonnes.\n",
        "\n",
        "* Si les coefficients sont tels que  $ a_{i,j}=0 $  pour  $ i>j $  on dit que la matrice est **triangulaire supérieure**.\n",
        "\n",
        "* Deux **matrices sont égales** lorsqu'elles ont la même taille et que les coefficients correspondants sont égaux."
      ]
    },
    {
      "cell_type": "markdown",
      "metadata": {
        "id": "-XNI7FBLzrRG"
      },
      "source": [
        "### Exemple Matrices\n",
        "\n",
        "* $A = \\begin{pmatrix} 1 & 2 & 3 \\\\ 4 & 5 & 6 \\\\ 7 & 8 & 9 \\end{pmatrix}$ est une matrice carrée $3\\times 3$ .\n",
        "\n",
        "* $B = \\begin{pmatrix} 1 & 2 & 3 \\\\ 4 & 5 & 6 \\end{pmatrix}$ est une matrice rectangulaire $2\\times 3$.\n"
      ]
    },
    {
      "cell_type": "markdown",
      "metadata": {
        "id": "hXtj-cMBzyjH"
      },
      "source": [
        "### Addition de matrices*\n",
        "\n",
        "#### Somme de deux matrices\n",
        "\n",
        "Soient  $ A $  et  $ B $  deux matrices ayant la même taille  $ n\\times p $ . Leur somme  $ C = A + B $  est la matrice de taille  $ n\\times p $  défini par :\n",
        "\n",
        "\\begin{equation}\n",
        "c_{ij} = a_{ij} + b_{ij}.\n",
        "\\end{equation}\n",
        "\n",
        "En d'autres termes, on somme coefficients par coefficients.\n",
        "\n",
        "##### Exemple - Somme de deux matrices\n",
        "\n",
        "Si  $ A = \\begin{pmatrix} 3 & -2 \\\\ 1 & 5 \\end{pmatrix}$ et $B = \\begin{pmatrix} -6 & -2 \\\\ 7 & 0 \\end{pmatrix}$  alors\n",
        "\\begin{align}\n",
        "&A+B = \\begin{pmatrix} -3 & -4 \\\\ 8 & 5 \\end{pmatrix} ,\n",
        "&A-B = \\begin{pmatrix} 9 & 0 \\\\ -6 & 5 \\end{pmatrix}.\n",
        "\\end{align}"
      ]
    },
    {
      "cell_type": "code",
      "execution_count": 31,
      "metadata": {},
      "outputs": [],
      "source": [
        "#Importing the necessary packages\n",
        "from sympy.matrices import Matrix"
      ]
    },
    {
      "cell_type": "code",
      "execution_count": 32,
      "metadata": {
        "id": "WhjYRims0GLg"
      },
      "outputs": [],
      "source": [
        "#We first of all need to pre-define the matrices given\n",
        "#above before doing the associated calculations.\n",
        "\n",
        "#It is acheived using the 'Matrix' package\n",
        "a = Matrix([[3,-2], [1,5]])\n",
        "b = Matrix([[-6,-2], [7,0]])"
      ]
    },
    {
      "cell_type": "code",
      "execution_count": 33,
      "metadata": {
        "colab": {
          "base_uri": "https://localhost:8080/",
          "height": 58
        },
        "id": "dWDaFWGZ0LSl",
        "outputId": "db44c29f-d14b-4d79-d835-5f785bae623e"
      },
      "outputs": [
        {
          "data": {
            "text/latex": [
              "$\\displaystyle \\left[\\begin{matrix}3 & -2\\\\1 & 5\\end{matrix}\\right]$"
            ],
            "text/plain": [
              "Matrix([\n",
              "[3, -2],\n",
              "[1,  5]])"
            ]
          },
          "execution_count": 33,
          "metadata": {},
          "output_type": "execute_result"
        }
      ],
      "source": [
        "#If we need to dislay any of thes matrices we simply\n",
        "#type of its corresponding argument as follows\n",
        "a"
      ]
    },
    {
      "cell_type": "code",
      "execution_count": 34,
      "metadata": {
        "colab": {
          "base_uri": "https://localhost:8080/",
          "height": 167
        },
        "id": "ndmkJk_J0RcC",
        "outputId": "fac7133a-7774-4d3a-e662-244a7210b506"
      },
      "outputs": [
        {
          "data": {
            "text/latex": [
              "$\\displaystyle \\left[\\begin{matrix}-3 & -4\\\\8 & 5\\end{matrix}\\right]$"
            ],
            "text/plain": [
              "Matrix([\n",
              "[-3, -4],\n",
              "[ 8,  5]])"
            ]
          },
          "execution_count": 34,
          "metadata": {},
          "output_type": "execute_result"
        }
      ],
      "source": [
        "a + b"
      ]
    },
    {
      "cell_type": "code",
      "execution_count": 35,
      "metadata": {
        "colab": {
          "base_uri": "https://localhost:8080/",
          "height": 58
        },
        "id": "8oPA0OQC0wRu",
        "outputId": "1476f1f5-c523-4571-94c7-35e9eff5f466"
      },
      "outputs": [
        {
          "data": {
            "text/latex": [
              "$\\displaystyle \\left[\\begin{matrix}9 & 0\\\\-6 & 5\\end{matrix}\\right]$"
            ],
            "text/plain": [
              "Matrix([\n",
              "[ 9, 0],\n",
              "[-6, 5]])"
            ]
          },
          "execution_count": 35,
          "metadata": {},
          "output_type": "execute_result"
        }
      ],
      "source": [
        "a - b"
      ]
    },
    {
      "cell_type": "markdown",
      "metadata": {
        "id": "A_OM3c1a0Zhq"
      },
      "source": [
        "### Produit d'une matrice par un scalaire\n",
        "\n",
        " Le produit d'une matrice  $ A = (a_{i,j}) $  de  $ M_{n,p}(\\mathbb{K}) $  par un scalaire  $ \\alpha \\in \\mathbb{K} $  est la matrice  $ (\\alpha a_{i,j}) $  formée en multipliant chaque coefficient de  $ A $  par  $ \\alpha $ . Elle est notée  $ \\alpha A $.\n",
        "\n",
        "#### Exemple - Produit d'une matrice par un scalaire\n",
        "\n",
        "Si  $ A = \\begin{pmatrix} 3 & -2 \\\\ 1 & 5 \\end{pmatrix} \\ \\ \\ \\ \\ \\ \\ \\ \\ \\ \\ \\ \\ et \\ \\ \\ \\ \\ \\  \\ \\ \\ \\ \\ \\ \\ \\ \\alpha = -2 \\ \\ \\ \\ \\ \\ \\ \\ \\ \\ \\ \\ \\  alors \\ \\ \\ \\ \\ \\ \\ \\alpha A = \\begin{pmatrix} -6 & 4 \\\\ -2 & -10 \\end{pmatrix} $"
      ]
    },
    {
      "cell_type": "code",
      "execution_count": 36,
      "metadata": {
        "colab": {
          "base_uri": "https://localhost:8080/",
          "height": 58
        },
        "id": "lQTtWtAI0bFR",
        "outputId": "697861dd-5edd-4293-d587-4d8291955b60"
      },
      "outputs": [
        {
          "data": {
            "text/latex": [
              "$\\displaystyle \\left[\\begin{matrix}-6 & 4\\\\-2 & -10\\end{matrix}\\right]$"
            ],
            "text/plain": [
              "Matrix([\n",
              "[-6,   4],\n",
              "[-2, -10]])"
            ]
          },
          "execution_count": 36,
          "metadata": {},
          "output_type": "execute_result"
        }
      ],
      "source": [
        "-2*a"
      ]
    },
    {
      "cell_type": "markdown",
      "metadata": {
        "id": "wF1gD3j10ecf"
      },
      "source": [
        "La matrice  $ (-1)A $  est l'opposée de\n",
        "  $ A $  et est notée  $ -A $ . La différence  $ A-B $  est définiie par  $ A+(-B) $\n"
      ]
    },
    {
      "cell_type": "markdown",
      "metadata": {
        "id": "R0RQbUyW03GH"
      },
      "source": [
        "### Propriétés des additions des matrices\n",
        "\n",
        "Soient  $ A $ ,  $ B $  et  $ C $  trois matrices appartenant à  $ M_{n,p}(\\mathbb{K}) $. Soient  $ \\alpha, \\beta\\in \\mathbb{K} $  deux scalaires. Si,\n",
        "\n",
        "*  $  A + B = B + A $  : la **somme est commutative**;\n",
        "\n",
        "*  $  A + (B + C) = (A + B) + C $  : la **somme est associative**;\n",
        "\n",
        "*  $ (\\alpha + \\beta)A = \\alpha A + \\beta A $ .\n",
        "\n",
        "### Exercice - Addition des matrices\n",
        "\n",
        " $ A = \\begin{pmatrix} -7 & 2 \\\\ 0 & -1 & \\\\ 1 & -4 \\end{pmatrix}$, $B = \\begin{pmatrix} 1 & 2 & 3 \\\\ 2 & 3 & 1 \\\\ 3 & 2 & 1 \\end{pmatrix}$, $ C = \\begin{pmatrix} 21 & -6 \\\\ 0 & 3 \\\\ -3 & 12 \\end{pmatrix}$, $D = \\frac{1}{2} \\begin{pmatrix} 1 & 0 & 1 \\\\ 0 & 1 & 0 \\\\ 1 & 1 & 1 \\end{pmatrix}$, $E = \\begin{pmatrix} 1 & 2 \\\\ -3 & 0 \\\\ -8 & 6 \\end{pmatrix} $.\n",
        "\n",
        "Calculer toutes les sommes possibles de deux de ces matrices. Calculer $ 3A + 2C $  et  $ 5B - 4D $. Trouver $ \\alpha $  tel que  $ A-\\alpha C $  soit la matrice nulle."
      ]
    },
    {
      "cell_type": "markdown",
      "metadata": {
        "id": "4ToXfDL_0_H6"
      },
      "source": [
        "##### Solution\n",
        "\n",
        "Les sommes possibles de deux de ces matrices sont  $ A + C$, $A + E$, $C + E$,  $B + D $."
      ]
    },
    {
      "cell_type": "code",
      "execution_count": 37,
      "metadata": {
        "id": "SfTFKab6GMJq"
      },
      "outputs": [],
      "source": [
        "A = Matrix([[-7,2], [0,-1], [1,-4]])\n",
        "B = Matrix([[1,2,3], [2,3,1], [3,2,1]])\n",
        "C = Matrix([[21,-6], [0,3], [-3,12]])\n",
        "D = (Matrix([[1,0,1], [0,1,0], [1,1,1]]))/2\n",
        "E = Matrix([[1,2], [-3,0], [-8,6]])"
      ]
    },
    {
      "cell_type": "code",
      "execution_count": 38,
      "metadata": {
        "colab": {
          "base_uri": "https://localhost:8080/",
          "height": 78
        },
        "id": "Sg2aZn461W8O",
        "outputId": "6fcd4008-4945-4c88-f2c1-cf8054cdb581"
      },
      "outputs": [
        {
          "data": {
            "text/latex": [
              "$\\displaystyle \\left[\\begin{matrix}14 & -4\\\\0 & 2\\\\-2 & 8\\end{matrix}\\right]$"
            ],
            "text/plain": [
              "Matrix([\n",
              "[14, -4],\n",
              "[ 0,  2],\n",
              "[-2,  8]])"
            ]
          },
          "execution_count": 38,
          "metadata": {},
          "output_type": "execute_result"
        }
      ],
      "source": [
        "A + C"
      ]
    },
    {
      "cell_type": "code",
      "execution_count": 39,
      "metadata": {
        "colab": {
          "base_uri": "https://localhost:8080/",
          "height": 78
        },
        "id": "W_y_Couu1ayI",
        "outputId": "8a3df54e-1d3a-435b-ce6e-b166972aab95"
      },
      "outputs": [
        {
          "data": {
            "text/latex": [
              "$\\displaystyle \\left[\\begin{matrix}-6 & 4\\\\-3 & -1\\\\-7 & 2\\end{matrix}\\right]$"
            ],
            "text/plain": [
              "Matrix([\n",
              "[-6,  4],\n",
              "[-3, -1],\n",
              "[-7,  2]])"
            ]
          },
          "execution_count": 39,
          "metadata": {},
          "output_type": "execute_result"
        }
      ],
      "source": [
        "A + E"
      ]
    },
    {
      "cell_type": "code",
      "execution_count": 40,
      "metadata": {
        "colab": {
          "base_uri": "https://localhost:8080/",
          "height": 78
        },
        "id": "fqKc5hfu1exZ",
        "outputId": "c8dccf70-0522-45df-ddb5-df0a46264189"
      },
      "outputs": [
        {
          "data": {
            "text/latex": [
              "$\\displaystyle \\left[\\begin{matrix}22 & -4\\\\-3 & 3\\\\-11 & 18\\end{matrix}\\right]$"
            ],
            "text/plain": [
              "Matrix([\n",
              "[ 22, -4],\n",
              "[ -3,  3],\n",
              "[-11, 18]])"
            ]
          },
          "execution_count": 40,
          "metadata": {},
          "output_type": "execute_result"
        }
      ],
      "source": [
        "C + E"
      ]
    },
    {
      "cell_type": "code",
      "execution_count": 41,
      "metadata": {
        "colab": {
          "base_uri": "https://localhost:8080/",
          "height": 78
        },
        "id": "zEusVBdB1jUO",
        "outputId": "dd83a3a0-53e2-4357-c196-38a8c10ed283"
      },
      "outputs": [
        {
          "data": {
            "text/latex": [
              "$\\displaystyle \\left[\\begin{matrix}\\frac{3}{2} & 2 & \\frac{7}{2}\\\\2 & \\frac{7}{2} & 1\\\\\\frac{7}{2} & \\frac{5}{2} & \\frac{3}{2}\\end{matrix}\\right]$"
            ],
            "text/plain": [
              "Matrix([\n",
              "[3/2,   2, 7/2],\n",
              "[  2, 7/2,   1],\n",
              "[7/2, 5/2, 3/2]])"
            ]
          },
          "execution_count": 41,
          "metadata": {},
          "output_type": "execute_result"
        }
      ],
      "source": [
        "B + D"
      ]
    },
    {
      "cell_type": "code",
      "execution_count": 42,
      "metadata": {
        "colab": {
          "base_uri": "https://localhost:8080/",
          "height": 78
        },
        "id": "EXOdUii31utz",
        "outputId": "63c94de9-ac3d-4f39-d9ea-d392dde1e7ba"
      },
      "outputs": [
        {
          "data": {
            "text/latex": [
              "$\\displaystyle \\left[\\begin{matrix}21 & -6\\\\0 & 3\\\\-3 & 12\\end{matrix}\\right]$"
            ],
            "text/plain": [
              "Matrix([\n",
              "[21, -6],\n",
              "[ 0,  3],\n",
              "[-3, 12]])"
            ]
          },
          "execution_count": 42,
          "metadata": {},
          "output_type": "execute_result"
        }
      ],
      "source": [
        "3*A + 2*C"
      ]
    },
    {
      "cell_type": "code",
      "execution_count": 43,
      "metadata": {
        "colab": {
          "base_uri": "https://localhost:8080/",
          "height": 78
        },
        "id": "Bzplx0m212wC",
        "outputId": "a7052f9e-3672-4121-a485-d15fbd911176"
      },
      "outputs": [
        {
          "data": {
            "text/latex": [
              "$\\displaystyle \\left[\\begin{matrix}3 & 10 & 13\\\\10 & 13 & 5\\\\13 & 8 & 3\\end{matrix}\\right]$"
            ],
            "text/plain": [
              "Matrix([\n",
              "[ 3, 10, 13],\n",
              "[10, 13,  5],\n",
              "[13,  8,  3]])"
            ]
          },
          "execution_count": 43,
          "metadata": {},
          "output_type": "execute_result"
        }
      ],
      "source": [
        "5*B - 4*D"
      ]
    },
    {
      "cell_type": "markdown",
      "metadata": {
        "id": "OadMn73s1_Kv"
      },
      "source": [
        "Trouvons  $ \\alpha $  tel que  $ A - \\alpha C = 0 $\n",
        "\n",
        "Nous remarquons que :    \n",
        "\\begin{equation}\n",
        "3A + 2C = C  \\Rightarrow 3A + C = 0 \\Rightarrow A + \\frac{1}{3}C = 0.\n",
        "\\end{equation}\n",
        "\n",
        "Par suite,  $ \\alpha = -\\frac{1}{3} $."
      ]
    },
    {
      "cell_type": "markdown",
      "metadata": {
        "id": "lECj8EG62KKF"
      },
      "source": [
        "### Multiplication de matrices\n",
        "\n",
        "Le produit  $ AB $  de deux matrices  $ A $  et  $ B $  est défini si et seulement si le nombre de colonnes de  $ A $  est égal au nombre de lignes de  $ B $.\n",
        "\n",
        "#### Produit de deux matrices\n",
        "\n",
        "Soient  $ A = (a_{i,j}) $  une matrice  $ n\\times p $  et  $ B = (b_{i,j}) $  une matrice  $ p\\times q $ . Alors le produit  $ C = AB $  est une matrice  $ n\\times q $  dont les coefficients  $ c_{i,j} $  sont définis par\n",
        "\n",
        "\\begin{equation}\n",
        "c_{i,j} = \\sum_{k=1}^pa_{i,k}b_{k,j}.\n",
        "\\end{equation}\n",
        "\n",
        "Il est commode de disposer les calculs de la façon suivante :\n",
        "\n",
        "![Screenshot_20230315-020722.jpg](data:image/jpeg;base64,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)"
      ]
    },
    {
      "cell_type": "markdown",
      "metadata": {
        "id": "YpM8FeUJ2aPp"
      },
      "source": [
        "#### Exemple - Produit de deux matrices\n",
        "\n",
        "\\begin{align}\n",
        "&A = \\begin{pmatrix} 1 & 2 & 3 \\\\ 2 & 3 & 4 \\end{pmatrix},\n",
        "& B = \\begin{pmatrix} 1 & 2 \\\\ -1 & 1 \\\\ 1 & 1 \\end{pmatrix}.\n",
        "\\end{align}\n",
        "\n",
        "On dispose d'abord le produit correctement (à gauche) : la matrice obtenue est de taille  $ 2\\times 2 $ . Puis on calcule chacun des coefficients, en commençant par le premier coefficient  $ c_{11} = 1\\times 1 + 2\\times (-1) + 3\\times 1 = 2 $  (au milieu), puis les autres (à droite).\n",
        "\n",
        "![Screenshot_20230315-020742.jpg](data:image/jpeg;base64,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)"
      ]
    },
    {
      "cell_type": "code",
      "execution_count": 44,
      "metadata": {
        "colab": {
          "base_uri": "https://localhost:8080/",
          "height": 58
        },
        "id": "Vii0DbqO2xhb",
        "outputId": "b30e046c-ceee-43e0-96c2-a8afe5b3647a"
      },
      "outputs": [
        {
          "data": {
            "text/latex": [
              "$\\displaystyle \\left[\\begin{matrix}2 & 7\\\\3 & 11\\end{matrix}\\right]$"
            ],
            "text/plain": [
              "Matrix([\n",
              "[2,  7],\n",
              "[3, 11]])"
            ]
          },
          "execution_count": 44,
          "metadata": {},
          "output_type": "execute_result"
        }
      ],
      "source": [
        "A1 = Matrix([[1,2,3], [2,3,4]])\n",
        "B1 = Matrix([[1,2], [-1,1], [1,1]])\n",
        "A1 * B1"
      ]
    },
    {
      "cell_type": "markdown",
      "metadata": {
        "id": "qw9k8OBq22fp"
      },
      "source": [
        "Un exemple intéressant est le produit d'un vecteur ligne  $ \\langle u| $  par un vecteur colonne  $ |v\\rangle $  :\n",
        "\n",
        " \\begin{align}\n",
        " & \\langle u| = \\begin{pmatrix} a_1 & a_2 & \\cdots & a_n \\end{pmatrix},\n",
        " &|v\\rangle = \\begin{pmatrix} b_1 \\\\ b_2 \\\\ \\vdots \\\\ b_n \\end{pmatrix}.\n",
        " \\end{align}\n",
        "\n",
        "Alors  $ u\\times v $  est une matrice  $ 1\\times 1 $  dont l'unique coefficient est  $ a_1b_1 + a_2b_2 + \\cdots + a_nb_n. $  Ce nombre s'appelle le **produit scalaire des vecteurs**  $ \\langle u| $  et  $| v \\rangle$  et il est noté  $ \\langle u|v\\rangle $.\n",
        "\n",
        "#### Remarques et propriétés des multiplications des matrices\n",
        "\n",
        "* Le produit de deux matrices n'est pas commutatif  $ AB \\ne BA $;\n",
        "\n",
        "*  $ AB = 0 $  n'implique pas  $ A = 0 $  ou  $ B = 0 $;\n",
        "\n",
        "*  $ AB = AC $  n'implique pas  $ B = C $ . On peut avoir  $ AB = AC $  et  $ B \\ne C $;\n",
        "\n",
        "*  $ A(BC) = (AB)C $  : associativité du produit;\n",
        "\n",
        "*  $ A(B+C) = AB + AC $  et  $ (B + C)A = BA + CA $  : distributivité du produit par rapport à la somme;\n",
        "\n",
        "*  $ A*0 = 0 $  et  $ 0*A = 0 $."
      ]
    },
    {
      "cell_type": "markdown",
      "metadata": {
        "id": "oGJif7pQ287y"
      },
      "source": [
        "### Matrice identité\n",
        "\n",
        "La matrice carrée suivante s'appelle la **matrice identité** :\n",
        "\n",
        " \\begin{equation}\n",
        "  \\mathbb{I}_n = \\begin{pmatrix} 1 & 0 & \\cdots & 0 \\\\ 0 & 1 & \\cdots & 0 \\\\ \\vdots & \\vdots & \\ddots & \\vdots \\\\ 0 & 0 & \\cdots & 1 \n",
        "  \\end{pmatrix} .\n",
        "  \\end{equation}\n",
        "\n",
        "La matrice unité d'ordre p est telle que tous les éléments de la diagonale principale sont égaux à 1, les autres étant tous nuls.\n",
        "\n",
        "\\begin{equation}\n",
        "a_{ij} = \\delta_{ij}= \\begin{cases} 0 & \\text {si} & i\\ne j, \\\\ 1 & \\text {si} & i=j .\\end{cases}\n",
        "\\end{equation}"
      ]
    },
    {
      "cell_type": "markdown",
      "metadata": {
        "id": "Jnh0FD-X297s"
      },
      "source": [
        "### Puissance d'une matrice\n",
        "\n",
        " On peut multiplier une matrice carrée par elle-même : on note  $ A^2 = A\\times A$ et $A^3 = A\\times A\\times A $ .\n",
        "\n",
        "#### Exemple - Puissance d'une  $ A = \\begin{pmatrix} 1 & 0 & 1 \\\\ 0 & -1 & 0 \\\\ 0 & 0 & 2 \\end{pmatrix} $ . On calcule  $ A^2, A^3 $  et  $ A^4 $  et on obtient :\n",
        "\n",
        " $ A^2 = A\\times A = \\begin{pmatrix} 1 & 0 & 3 \\\\ 0 & 1 & 0 \\\\ 0 & 0 & 4 \\end{pmatrix}, \\ \\ \\ \\ A^3 = A^2\\times A = \\begin{pmatrix} 1 & 0 & 7 \\\\ 0 & -1 & 0 \\\\ 0 & 0 & 8 \\end{pmatrix}, \\ \\ \\ \\ A^4 = A^3\\times A = \\begin{pmatrix} 1 & 0 & 15 \\\\ 0 & 1 & 0 \\\\ 0 & 0 & 16 \\end{pmatrix} $"
      ]
    },
    {
      "cell_type": "code",
      "execution_count": 45,
      "metadata": {
        "colab": {
          "base_uri": "https://localhost:8080/",
          "height": 78
        },
        "id": "aM4ajqnR3MG9",
        "outputId": "16e73565-2c7d-48c7-9ce9-0db6e340050e"
      },
      "outputs": [
        {
          "data": {
            "text/latex": [
              "$\\displaystyle \\left[\\begin{matrix}1 & 0 & 3\\\\0 & 1 & 0\\\\0 & 0 & 4\\end{matrix}\\right]$"
            ],
            "text/plain": [
              "Matrix([\n",
              "[1, 0, 3],\n",
              "[0, 1, 0],\n",
              "[0, 0, 4]])"
            ]
          },
          "execution_count": 45,
          "metadata": {},
          "output_type": "execute_result"
        }
      ],
      "source": [
        "#To declare a power, use a double asterisk '**'\n",
        "A2 = Matrix([[1,0,1], [0,-1,0], [0,0,2]])\n",
        "A2**2"
      ]
    },
    {
      "cell_type": "code",
      "execution_count": 46,
      "metadata": {
        "colab": {
          "base_uri": "https://localhost:8080/",
          "height": 78
        },
        "id": "Ia-B6D7l3NG4",
        "outputId": "cef665d8-8344-4b40-938c-bff1016f797a"
      },
      "outputs": [
        {
          "data": {
            "text/latex": [
              "$\\displaystyle \\left[\\begin{matrix}1 & 0 & 7\\\\0 & -1 & 0\\\\0 & 0 & 8\\end{matrix}\\right]$"
            ],
            "text/plain": [
              "Matrix([\n",
              "[1,  0, 7],\n",
              "[0, -1, 0],\n",
              "[0,  0, 8]])"
            ]
          },
          "execution_count": 46,
          "metadata": {},
          "output_type": "execute_result"
        }
      ],
      "source": [
        "A2**3"
      ]
    },
    {
      "cell_type": "code",
      "execution_count": 47,
      "metadata": {
        "colab": {
          "base_uri": "https://localhost:8080/",
          "height": 78
        },
        "id": "MAfRvHT23VgP",
        "outputId": "c92ca1e0-fd81-4a9c-8ece-bc16e96d7d8c"
      },
      "outputs": [
        {
          "data": {
            "text/latex": [
              "$\\displaystyle \\left[\\begin{matrix}1 & 0 & 15\\\\0 & 1 & 0\\\\0 & 0 & 16\\end{matrix}\\right]$"
            ],
            "text/plain": [
              "Matrix([\n",
              "[1, 0, 15],\n",
              "[0, 1,  0],\n",
              "[0, 0, 16]])"
            ]
          },
          "execution_count": 47,
          "metadata": {},
          "output_type": "execute_result"
        }
      ],
      "source": [
        "A2**4"
      ]
    },
    {
      "cell_type": "markdown",
      "metadata": {
        "id": "B8RS1qp23Zee"
      },
      "source": [
        "#### Exercice - Produit de deux matrices\n",
        "\n",
        "Soient \n",
        "\\begin{align}\n",
        " & A = \\begin{pmatrix} 0 & 0 & 1 \\\\ 0 & 1 & 0 \\\\ 1 & 1 & 2 \\end{pmatrix},\n",
        " && B = \\begin{pmatrix} 1 & 0 & 0 \\\\ 0 & 0 & 2 \\\\ 1 & -1 & 0 \\end{pmatrix},\n",
        " & C = \\begin{pmatrix} -1 & 0 & 0 \\\\ 0 & 3 & 0 \\\\ 0 & 0 & 2 \\end{pmatrix}.\n",
        "\\end{align}\n",
        "\n",
        "Calculer  $ A^2, B^2, AB, BA, C^p, p \\ge 2 $"
      ]
    },
    {
      "cell_type": "code",
      "execution_count": 48,
      "metadata": {
        "id": "qpAVXU1T3eC6"
      },
      "outputs": [],
      "source": [
        "A3 = Matrix([[0,0,1], [0,1,0], [1,1,2]])\n",
        "B3 = Matrix([[1,0,0], [0,0,2], [1,-1,0]])\n",
        "C3 = Matrix([[-1,0,0], [0,3,0], [0,0,2]])"
      ]
    },
    {
      "cell_type": "markdown",
      "metadata": {
        "id": "odhWZQ8m3otT"
      },
      "source": [
        "   $ A^2 = A\\times A = \\begin{pmatrix} 0 & 0 & 1 \\\\ 0 & 1 & 0 \\\\ 1 & 1 & 2 \\end{pmatrix} \\begin{pmatrix} 0 & 0 & 1 \\\\ 0 & 1 & 0 \\\\ 1 & 1 & 2 \\end{pmatrix} = \\begin{pmatrix} 1 & 1 &2 \\\\ 0 & 1 & 0 \\\\ 2 & 3 & 5 \\end{pmatrix} $"
      ]
    },
    {
      "cell_type": "code",
      "execution_count": 49,
      "metadata": {
        "colab": {
          "base_uri": "https://localhost:8080/",
          "height": 78
        },
        "id": "NATbR-Nv3z0f",
        "outputId": "64ac76a4-3993-44b2-8cf6-f4b834872303"
      },
      "outputs": [
        {
          "data": {
            "text/latex": [
              "$\\displaystyle \\left[\\begin{matrix}1 & 1 & 2\\\\0 & 1 & 0\\\\2 & 3 & 5\\end{matrix}\\right]$"
            ],
            "text/plain": [
              "Matrix([\n",
              "[1, 1, 2],\n",
              "[0, 1, 0],\n",
              "[2, 3, 5]])"
            ]
          },
          "execution_count": 49,
          "metadata": {},
          "output_type": "execute_result"
        }
      ],
      "source": [
        "A3**2"
      ]
    },
    {
      "cell_type": "markdown",
      "metadata": {
        "id": "qVKtTdIJ31V3"
      },
      "source": [
        " $ B^2 = \\begin{pmatrix} 1 & 0 & 0 \\\\ 0 & 0 & 2 \\\\ 1 & -1 & 0 \\end{pmatrix} \\begin{pmatrix} 1 & 0 & 0 \\\\ 0 & 0 & 2 \\\\ 1 & -1 & 0 \\end{pmatrix} = \\begin{pmatrix} 1 & 0 & 0 \\\\ 2 & -2 & 0 \\\\ 1 & 0 & -2 \\end{pmatrix} $"
      ]
    },
    {
      "cell_type": "code",
      "execution_count": 50,
      "metadata": {
        "colab": {
          "base_uri": "https://localhost:8080/",
          "height": 78
        },
        "id": "MHqx_a5O32y9",
        "outputId": "2aa89296-6386-4561-d586-e101eb47d01a"
      },
      "outputs": [
        {
          "data": {
            "text/latex": [
              "$\\displaystyle \\left[\\begin{matrix}1 & 0 & 0\\\\2 & -2 & 0\\\\1 & 0 & -2\\end{matrix}\\right]$"
            ],
            "text/plain": [
              "Matrix([\n",
              "[1,  0,  0],\n",
              "[2, -2,  0],\n",
              "[1,  0, -2]])"
            ]
          },
          "execution_count": 50,
          "metadata": {},
          "output_type": "execute_result"
        }
      ],
      "source": [
        "B3**2"
      ]
    },
    {
      "cell_type": "markdown",
      "metadata": {
        "id": "V3LsEzUM3-Zm"
      },
      "source": [
        " $ AB = \\begin{pmatrix} 0 & 0 & 1 \\\\ 0 & 1 & 0 \\\\ 1 & 1 & 2 \\end{pmatrix} \\begin{pmatrix} 1 & 0 & 0 \\\\ 0 & 0 & 2 \\\\ 1 & -1 & 0 \\end{pmatrix} = \\begin{pmatrix} 1 & -1 & 0 \\\\ 0 & 0 & 2 \\\\ 3 & -2 & 2 \\end{pmatrix} $"
      ]
    },
    {
      "cell_type": "code",
      "execution_count": 51,
      "metadata": {
        "colab": {
          "base_uri": "https://localhost:8080/",
          "height": 78
        },
        "id": "S4j_ffDK3_Qv",
        "outputId": "1c35cbce-2d51-4693-e15a-5cff2c4917d7"
      },
      "outputs": [
        {
          "data": {
            "text/latex": [
              "$\\displaystyle \\left[\\begin{matrix}1 & -1 & 0\\\\0 & 0 & 2\\\\3 & -2 & 2\\end{matrix}\\right]$"
            ],
            "text/plain": [
              "Matrix([\n",
              "[1, -1, 0],\n",
              "[0,  0, 2],\n",
              "[3, -2, 2]])"
            ]
          },
          "execution_count": 51,
          "metadata": {},
          "output_type": "execute_result"
        }
      ],
      "source": [
        "A3 * B3"
      ]
    },
    {
      "cell_type": "markdown",
      "metadata": {
        "id": "gIhs7Gwm4F6p"
      },
      "source": [
        " $ BA = \\begin{pmatrix} 1 & 0 & 0 \\\\ 0 & 0 & 2 \\\\ 1 & -1 & 0 \\end{pmatrix} \\begin{pmatrix} 0 & 0 & 1 \\\\ 0 & 1 & 0 \\\\ 1 & 1 & 2 \\end{pmatrix} = \\begin{pmatrix} 0 & 0 & 1 \\\\ 2 & 2 & 4 \\\\ 0 & -1 & 1 \\end{pmatrix} $"
      ]
    },
    {
      "cell_type": "code",
      "execution_count": 52,
      "metadata": {
        "colab": {
          "base_uri": "https://localhost:8080/",
          "height": 78
        },
        "id": "CvD4T36h4HbZ",
        "outputId": "dc205393-dbe0-45af-949c-c917db8984f1"
      },
      "outputs": [
        {
          "data": {
            "text/latex": [
              "$\\displaystyle \\left[\\begin{matrix}0 & 0 & 1\\\\2 & 2 & 4\\\\0 & -1 & 1\\end{matrix}\\right]$"
            ],
            "text/plain": [
              "Matrix([\n",
              "[0,  0, 1],\n",
              "[2,  2, 4],\n",
              "[0, -1, 1]])"
            ]
          },
          "execution_count": 52,
          "metadata": {},
          "output_type": "execute_result"
        }
      ],
      "source": [
        "B3 * A3"
      ]
    },
    {
      "cell_type": "markdown",
      "metadata": {
        "id": "Aup5gTJo78Wi"
      },
      "source": [
        " $ C^p, p \\ge 2 $"
      ]
    },
    {
      "cell_type": "code",
      "execution_count": 53,
      "metadata": {
        "id": "pVYUG5M578Wi",
        "outputId": "49f3cad0-d782-41b0-dad4-eb15638e5b33"
      },
      "outputs": [
        {
          "data": {
            "text/latex": [
              "$\\displaystyle \\left[\\begin{matrix}1 & 0 & 0\\\\0 & 9 & 0\\\\0 & 0 & 4\\end{matrix}\\right]$"
            ],
            "text/plain": [
              "Matrix([\n",
              "[1, 0, 0],\n",
              "[0, 9, 0],\n",
              "[0, 0, 4]])"
            ]
          },
          "execution_count": 53,
          "metadata": {},
          "output_type": "execute_result"
        }
      ],
      "source": [
        "C3**2"
      ]
    },
    {
      "cell_type": "code",
      "execution_count": 54,
      "metadata": {
        "id": "L32qkwo778Wj",
        "outputId": "aa9c4aa2-d04c-4177-d3cd-e80bdde8b98e"
      },
      "outputs": [
        {
          "data": {
            "text/latex": [
              "$\\displaystyle \\left[\\begin{matrix}-1 & 0 & 0\\\\0 & 27 & 0\\\\0 & 0 & 8\\end{matrix}\\right]$"
            ],
            "text/plain": [
              "Matrix([\n",
              "[-1,  0, 0],\n",
              "[ 0, 27, 0],\n",
              "[ 0,  0, 8]])"
            ]
          },
          "execution_count": 54,
          "metadata": {},
          "output_type": "execute_result"
        }
      ],
      "source": [
        "C3**3"
      ]
    },
    {
      "cell_type": "code",
      "execution_count": 55,
      "metadata": {
        "id": "LxRnhA8178Wj",
        "outputId": "1cbf5644-a474-4bbe-c7fe-346006980d91"
      },
      "outputs": [
        {
          "data": {
            "text/latex": [
              "$\\displaystyle \\left[\\begin{matrix}1 & 0 & 0\\\\0 & 81 & 0\\\\0 & 0 & 16\\end{matrix}\\right]$"
            ],
            "text/plain": [
              "Matrix([\n",
              "[1,  0,  0],\n",
              "[0, 81,  0],\n",
              "[0,  0, 16]])"
            ]
          },
          "execution_count": 55,
          "metadata": {},
          "output_type": "execute_result"
        }
      ],
      "source": [
        "C3**4"
      ]
    },
    {
      "cell_type": "markdown",
      "metadata": {
        "id": "SoQNqGWo78Wk"
      },
      "source": [
        "Par récurrence on obtient que  $ C^p = \\begin{pmatrix}(-1)^p & 0 & 0 \\\\ 0 & 3^p & 0 \\\\ 0 & 0 & 2^p \\end{pmatrix} $"
      ]
    },
    {
      "cell_type": "markdown",
      "metadata": {},
      "source": [
        "### Matrices triangulaires - Matrices diagonales\n",
        "\n",
        "Soit  $ A $  une matrice de taille  $ n\\times p$.  \n",
        "\n",
        "* On dit que  $ A $  est **triangulaire inférieure** si les elements au-dessus de la diagonale sont nuls :\n",
        "\n",
        "\\begin{equation}\n",
        "A=\\begin{pmatrix} a_{11}& 0 & \\cdots & 0 & \\cdots & 0 \\\\ a_{21}&a_{22}& \\cdots & 0 &\\cdots& 0 \\\\ a_{i1}&a_{i2}&\\cdots&a_{ij}&\\cdots& 0 \\\\ a_{n1}&a_{n2}&\\cdots&a_{nj}&\\cdots &a_{np}\\end{pmatrix}.\n",
        "\\end{equation}\n",
        "\n",
        "* On dit que  $ A $  est **triangulaire supérieure** si les elements en dessous de la diagonale sont nuls :\n",
        "\n",
        "\\begin{equation}\n",
        "A=\\begin{pmatrix} a_{11}&a_{12}&\\cdots&a_{1j}&\\cdots&a_{1p} \\\\ 0 &a_{22}&\\cdots&a_{2j} &\\cdots&a_{2p}\\\\ 0 & 0 &\\cdots&a_{ij}&\\cdots&a_{ip}\\\\ 0 & 0 &\\cdots& 0 &\\cdots&a_{np}\\end{pmatrix}.\n",
        "\\end{equation}\n",
        "\n",
        "* Une matrice qui est triangulaire superieure et triangulaire inferieure est dite **diagonale**:\n",
        "\n",
        "\\begin{equation}\n",
        "A=\\begin{pmatrix} a_{11}&0&\\cdots& 0 &\\cdots& 0  \\\\ 0 &a_{22}&\\cdots& 0  &\\cdots& 0 \\\\ 0 & 0 &\\cdots&a_{ij}&\\cdots& 0 \\\\ 0 & 0 &\\cdots& 0 &\\cdots&a_{np}\\end{pmatrix}.\n",
        "\\end{equation}\n",
        "\n",
        "#### Exemple - Matrices triangulaires - Matrices diagonales\n",
        "\n",
        " * Matrices triangualires inférieures\n",
        "\n",
        "\\begin{equation}\n",
        "& A=\\begin{pmatrix} -1 & 0 \\\\ 3 & 4 \\end{pmatrix}\n",
        "& C=\\begin{pmatrix} 1 & 0 & 0 \\\\ 0 & 2 & 0 \\\\ 1 & 0 & 3  \\end{pmatrix}.\n",
        "\\end{equation}\n",
        "\n",
        "* Matrices triangulaires supérieures\n",
        "\n",
        "\\begin{equation}\n",
        " &B=\\begin{pmatrix} 2 & 1 \\\\ 0 & 3 \\end{pmatrix}, \n",
        " & D=\\begin{pmatrix} -1 & -2 & 0 \\\\  2 & 3 & 0 \\\\ 0 & 0 & 1 \\end{pmatrix}.\n",
        "\\end{equation}\n",
        "\n",
        "* Matrice diagnale\n",
        "\n",
        "\\begin{equation}\n",
        "E=\\begin{pmatrix} -1 & 0 & 0 \\\\  0 & 3 & 0 \\\\ 0 & 0 & 1 \\end{pmatrix}.\n",
        "\\end{equation}\n"
      ]
    },
    {
      "cell_type": "code",
      "execution_count": 56,
      "metadata": {},
      "outputs": [
        {
          "data": {
            "text/latex": [
              "$\\displaystyle \\left[\\begin{matrix}-1 & 0\\\\3 & 4\\end{matrix}\\right]$"
            ],
            "text/plain": [
              "Matrix([\n",
              "[-1, 0],\n",
              "[ 3, 4]])"
            ]
          },
          "execution_count": 56,
          "metadata": {},
          "output_type": "execute_result"
        }
      ],
      "source": [
        "#Declaration de la matrice A\n",
        "A = Matrix([[-1,0],[3,4]])\n",
        "A"
      ]
    },
    {
      "cell_type": "code",
      "execution_count": 57,
      "metadata": {},
      "outputs": [
        {
          "name": "stdout",
          "output_type": "stream",
          "text": [
            "la matrice A est triangulaire inferieure\n"
          ]
        }
      ],
      "source": [
        "#determination de la nature de la matrice A\n",
        "\n",
        "#(triangulaire superieure,inferieure ou diagonale)\n",
        "if A.is_upper:\n",
        "    print(\"la matrice A est triangulaire superieure\")\n",
        "elif A.is_lower:\n",
        "    print(\"la matrice A est triangulaire inferieure\")\n",
        "elif A.is_diagonal():\n",
        "    print(\"La matrice A est diagonale\")\n",
        "else:\n",
        "    print(\"la matrice A  n'est pas triangulaire\")"
      ]
    },
    {
      "cell_type": "markdown",
      "metadata": {},
      "source": [
        "###  Transposition\n",
        "\n",
        "\n",
        "Soit  $ A $,  la matrice de taille  $ n\\times p$\n",
        "\n",
        "\\begin{equation}\n",
        "A=\\begin{pmatrix} \n",
        "a_{11} & a_{12} &\\cdots & a_{1i}& \\cdots & a_{1p}\\\\ \n",
        "a_{21} & a_{22} &\\cdots & a_{2i}& \\cdots & a_{2p}\\\\\n",
        "\\vdots & \\vdots & \\cdots & \\vdots & \\cdots & \\vdots\\\\\n",
        "a_{i1} & a_{i2} &\\cdots & a_{ii}& \\cdots &a_{ip} \\\\\n",
        "\\vdots & \\vdots & \\cdots & \\vdots & \\cdots & \\vdots \\\\\n",
        "a_{n1} & a_{n2} &\\cdots &\\cdots &\\cdots  & a_{np} \n",
        "\\end{pmatrix} \n",
        "\\end{equation}\n",
        "\n",
        "On appelle **matrice transposée** de  $ A $  la matrice de taille  $ p\\times n $  definie par :\n",
        "\n",
        "\\begin{equation}\n",
        "A=\\begin{pmatrix} \n",
        "a_{11} & a_{21} &\\cdots & a_{i1}& \\cdots & a_{p1}\\\\ \n",
        "a_{12} & a_{22} &\\cdots & a_{i2}& \\cdots & a_{p2}\\\\\n",
        "\\vdots & \\vdots & \\cdots & \\vdots & \\cdots & \\vdots\\\\\n",
        "a_{1i} & a_{2i} &\\cdots & a_{ii}& \\cdots &a_{pi} \\\\\n",
        "\\vdots & \\vdots & \\cdots & \\vdots & \\cdots & \\vdots \\\\\n",
        "a_{1n} & a_{2n} &\\cdots &\\cdots &\\cdots  & a_{pn} \n",
        "\\end{pmatrix} \n",
        "\\end{equation}\n",
        "\n",
        "Autrement, l'élément $a_{ij}$ a pour transposé l'élément $a_{ji}$.\n",
        "\n",
        "#### Propriété des matrices transposées\n",
        "\n",
        "Soient  $A$ et $B $  deux matrices de taille $n\\times p$ et soit $ \\alpha\\$,  un scalaire.\n",
        "\n",
        "*  $ (A + B)^T=A^T + B^T $;\n",
        "*  $ (\\alpha A)^T=\\alpha A^T $;\n",
        "*  $ (A^T)^T=A $;\n",
        "*  $ (AB)^T=B^TA^T $.\n",
        "\n",
        "#### Exemple - Matrice transposée\n",
        "\n",
        "\\begin{align}\n",
        "& A=\\begin{pmatrix} 1 & 2 & 3 \\\\ 4 & 5 & -6 \\\\ -7 & 8 & -9  \\end{pmatrix},\n",
        "& A^T=\\begin{pmatrix} 1 & 4 & -7 \\\\  2 & 5 & 8 \\\\ 3 & -6 & -9 \\end{pmatrix}.\n",
        "\\end{align}"
      ]
    },
    {
      "cell_type": "code",
      "execution_count": 58,
      "metadata": {},
      "outputs": [
        {
          "data": {
            "text/latex": [
              "$\\displaystyle \\left[\\begin{matrix}1 & 2 & 3\\\\4 & 5 & -6\\\\-7 & 8 & -9\\end{matrix}\\right]$"
            ],
            "text/plain": [
              "Matrix([\n",
              "[ 1, 2,  3],\n",
              "[ 4, 5, -6],\n",
              "[-7, 8, -9]])"
            ]
          },
          "execution_count": 58,
          "metadata": {},
          "output_type": "execute_result"
        }
      ],
      "source": [
        "#Declaration de la matrice A\n",
        "A = Matrix([[1,2,3],[4,5,-6],[-7,8,-9]])\n",
        "A"
      ]
    },
    {
      "cell_type": "code",
      "execution_count": 59,
      "metadata": {},
      "outputs": [
        {
          "data": {
            "text/latex": [
              "$\\displaystyle \\left[\\begin{matrix}1 & 4 & -7\\\\2 & 5 & 8\\\\3 & -6 & -9\\end{matrix}\\right]$"
            ],
            "text/plain": [
              "Matrix([\n",
              "[1,  4, -7],\n",
              "[2,  5,  8],\n",
              "[3, -6, -9]])"
            ]
          },
          "execution_count": 59,
          "metadata": {},
          "output_type": "execute_result"
        }
      ],
      "source": [
        "#determination de la transposee\n",
        "A.transpose()"
      ]
    },
    {
      "cell_type": "markdown",
      "metadata": {},
      "source": [
        "#### Exercice - Matrice transposée\n",
        "\n",
        "Soient  $ A=\\begin{pmatrix} -1 & 2 \\\\ 5 & 5 \\end{pmatrix}$, $B=\\begin{pmatrix} 7 & 1 \\\\ 5 & 7 \\end{pmatrix}$, $C=\\begin{pmatrix} 1 & 1 & 0 \\\\ -1 & 2 & 1 \\\\ 1 & 0 & 3  \\end{pmatrix}$ et D=\\begin{pmatrix} 1 & 2 & 2 \\\\  2 & 3 & 0 \\\\ 5 & 0 & -11 \\end{pmatrix}$.\n",
        "\n",
        "Calculer  $ A^T$, $B^T$, $(AB)^T$, $(BA)^T$, $C^T$, $D^T$. \n",
        "\n",
        "##### Solution\n",
        "\n",
        "1. Transposees de  $ A $  et  $ B $\n",
        "\n",
        "\\begin{align}\n",
        "& A^T=\\begin{pmatrix} -1 & 5 \\\\ 2 & 5 \\end{pmatrix},\n",
        "&& B^T=\\begin{pmatrix} 7 & 5 \\\\ 1 & 7 \\end{pmatrix},\n",
        "&& C^T=\\begin{pmatrix} 1 & -1 & 1 \\\\ 1 & 2 & 0 \\\\ 0 & 1 & 3  \\end{pmatrix}\n",
        "& D^T=\\begin{pmatrix} 1 & 2 & 5 \\\\  2 & 3 & 0 \\\\ 2 & 0 & -11 \\end{pmatrix}\n",
        "\\end{align}\n",
        "\n",
        "2. De ce qui précède, on a :\n",
        "\n",
        "\\begin{align}\n",
        "& (AB)^T = B^TA^T = \\begin{pmatrix} 7 & 5 \\\\ 1 & 7 \\end{pmatrix}\\begin{pmatrix} -1 & 5 \\\\ 2 & 5 \\end{pmatrix} = \\begin{pmatrix} 3 & 60 \\\\ 13 & 40 \\end{pmatrix},\n",
        "& (BA)^T &= A^TB^T = \\begin{pmatrix} -1 & 5 \\\\ 2 & 5 \\end{pmatrix}\\begin{pmatrix} 7 & 5 \\\\ 1 & 7 \\end{pmatrix} = \\begin{pmatrix} -2 & 30 \\\\ 19 & 45 \\end{pmatrix}\n",
        "\\end{align}\n"
      ]
    },
    {
      "cell_type": "markdown",
      "metadata": {},
      "source": [
        "##### Sympy"
      ]
    },
    {
      "cell_type": "code",
      "execution_count": 60,
      "metadata": {},
      "outputs": [],
      "source": [
        "#Declaration des matrices A , B ,C et D\n",
        "A = Matrix([[-1,2],[5,5]])\n",
        "B = Matrix([[7,1],[5,7]])\n",
        "C = Matrix([[1,1,0],[-1,2,1],[1,0,3]])\n",
        "D = Matrix([[1,2,2],[2,3,0],[5,0,-11]])"
      ]
    },
    {
      "cell_type": "code",
      "execution_count": 61,
      "metadata": {},
      "outputs": [
        {
          "data": {
            "text/latex": [
              "$\\displaystyle \\left[\\begin{matrix}-1 & 2\\\\5 & 5\\end{matrix}\\right]$"
            ],
            "text/plain": [
              "Matrix([\n",
              "[-1, 2],\n",
              "[ 5, 5]])"
            ]
          },
          "execution_count": 61,
          "metadata": {},
          "output_type": "execute_result"
        }
      ],
      "source": [
        "A"
      ]
    },
    {
      "cell_type": "code",
      "execution_count": 62,
      "metadata": {},
      "outputs": [
        {
          "data": {
            "text/latex": [
              "$\\displaystyle \\left[\\begin{matrix}-1 & 5\\\\2 & 5\\end{matrix}\\right]$"
            ],
            "text/plain": [
              "Matrix([\n",
              "[-1, 5],\n",
              "[ 2, 5]])"
            ]
          },
          "execution_count": 62,
          "metadata": {},
          "output_type": "execute_result"
        }
      ],
      "source": [
        "A.transpose()"
      ]
    },
    {
      "cell_type": "code",
      "execution_count": 63,
      "metadata": {},
      "outputs": [
        {
          "data": {
            "text/latex": [
              "$\\displaystyle \\left[\\begin{matrix}7 & 1\\\\5 & 7\\end{matrix}\\right]$"
            ],
            "text/plain": [
              "Matrix([\n",
              "[7, 1],\n",
              "[5, 7]])"
            ]
          },
          "execution_count": 63,
          "metadata": {},
          "output_type": "execute_result"
        }
      ],
      "source": [
        "B"
      ]
    },
    {
      "cell_type": "code",
      "execution_count": 64,
      "metadata": {},
      "outputs": [
        {
          "data": {
            "text/latex": [
              "$\\displaystyle \\left[\\begin{matrix}7 & 5\\\\1 & 7\\end{matrix}\\right]$"
            ],
            "text/plain": [
              "Matrix([\n",
              "[7, 5],\n",
              "[1, 7]])"
            ]
          },
          "execution_count": 64,
          "metadata": {},
          "output_type": "execute_result"
        }
      ],
      "source": [
        "B. transpose()"
      ]
    },
    {
      "cell_type": "code",
      "execution_count": 65,
      "metadata": {},
      "outputs": [
        {
          "data": {
            "text/latex": [
              "$\\displaystyle \\left[\\begin{matrix}3 & 60\\\\13 & 40\\end{matrix}\\right]$"
            ],
            "text/plain": [
              "Matrix([\n",
              "[ 3, 60],\n",
              "[13, 40]])"
            ]
          },
          "execution_count": 65,
          "metadata": {},
          "output_type": "execute_result"
        }
      ],
      "source": [
        "(A*B).transpose()"
      ]
    },
    {
      "cell_type": "code",
      "execution_count": 66,
      "metadata": {},
      "outputs": [
        {
          "data": {
            "text/latex": [
              "$\\displaystyle \\left[\\begin{matrix}-2 & 30\\\\19 & 45\\end{matrix}\\right]$"
            ],
            "text/plain": [
              "Matrix([\n",
              "[-2, 30],\n",
              "[19, 45]])"
            ]
          },
          "execution_count": 66,
          "metadata": {},
          "output_type": "execute_result"
        }
      ],
      "source": [
        "(B*A).transpose()"
      ]
    },
    {
      "cell_type": "code",
      "execution_count": 67,
      "metadata": {},
      "outputs": [
        {
          "data": {
            "text/latex": [
              "$\\displaystyle \\left[\\begin{matrix}1 & 1 & 0\\\\-1 & 2 & 1\\\\1 & 0 & 3\\end{matrix}\\right]$"
            ],
            "text/plain": [
              "Matrix([\n",
              "[ 1, 1, 0],\n",
              "[-1, 2, 1],\n",
              "[ 1, 0, 3]])"
            ]
          },
          "execution_count": 67,
          "metadata": {},
          "output_type": "execute_result"
        }
      ],
      "source": [
        "C"
      ]
    },
    {
      "cell_type": "code",
      "execution_count": 68,
      "metadata": {},
      "outputs": [
        {
          "data": {
            "text/latex": [
              "$\\displaystyle \\left[\\begin{matrix}1 & -1 & 1\\\\1 & 2 & 0\\\\0 & 1 & 3\\end{matrix}\\right]$"
            ],
            "text/plain": [
              "Matrix([\n",
              "[1, -1, 1],\n",
              "[1,  2, 0],\n",
              "[0,  1, 3]])"
            ]
          },
          "execution_count": 68,
          "metadata": {},
          "output_type": "execute_result"
        }
      ],
      "source": [
        "C.transpose()"
      ]
    },
    {
      "cell_type": "code",
      "execution_count": 69,
      "metadata": {},
      "outputs": [
        {
          "data": {
            "text/latex": [
              "$\\displaystyle \\left[\\begin{matrix}1 & 2 & 2\\\\2 & 3 & 0\\\\5 & 0 & -11\\end{matrix}\\right]$"
            ],
            "text/plain": [
              "Matrix([\n",
              "[1, 2,   2],\n",
              "[2, 3,   0],\n",
              "[5, 0, -11]])"
            ]
          },
          "execution_count": 69,
          "metadata": {},
          "output_type": "execute_result"
        }
      ],
      "source": [
        "D"
      ]
    },
    {
      "cell_type": "code",
      "execution_count": 70,
      "metadata": {},
      "outputs": [
        {
          "data": {
            "text/latex": [
              "$\\displaystyle \\left[\\begin{matrix}1 & 2 & 5\\\\2 & 3 & 0\\\\2 & 0 & -11\\end{matrix}\\right]$"
            ],
            "text/plain": [
              "Matrix([\n",
              "[1, 2,   5],\n",
              "[2, 3,   0],\n",
              "[2, 0, -11]])"
            ]
          },
          "execution_count": 70,
          "metadata": {},
          "output_type": "execute_result"
        }
      ],
      "source": [
        "D.transpose()"
      ]
    },
    {
      "cell_type": "markdown",
      "metadata": {},
      "source": [
        "### Trace\n",
        "\n",
        "La **trace** de la matrice  $ A $  est le nombre obtenu en additionnant les elements diagonaux de  $ A$.\n",
        "\n",
        "\\begin{equation}\n",
        "\\rm{Tr}(A)=a_{11} + a_{22} + \\cdots + a_{nn}\n",
        "\\end{equation}\n",
        "\n",
        "#### Proprietes des traces\n",
        "\n",
        "Soient  $ A$ et $B $  deux matrices appartenant de taille $n\\times p$ et soit $ \\alpha$  un scalaire.\n",
        "\n",
        "*  $ \\rm{Tr}(A+B)=\\rm{Tr}(A)+\\rm{Tr}(B) $;\n",
        "*  $ \\rm{Tr}(\\alpha A)=\\alpha \\rm{Tr}(A) $;\n",
        "*  $ \\rm{Tr}(A^T)=\\rm{Tr}(A) $;\n",
        "*  $ \\rm{Tr}(AB)=\\rm{Tr}(A)\\rm{Tr}(B) $.\n",
        "  \n",
        "#### Exemple - Trace\n",
        "\n",
        "\\begin{align}\n",
        "& A=\\begin{pmatrix} 1 & 2 & 3 \\\\ 4 & 5 & -6 \\\\ -7 & 8 & -9  \\end{pmatrix},\n",
        "& \\rm{Tr}(A)= 1 + 5 -9=-3 .\n",
        "\\end{align}"
      ]
    },
    {
      "cell_type": "code",
      "execution_count": 71,
      "metadata": {},
      "outputs": [
        {
          "data": {
            "text/latex": [
              "$\\displaystyle \\left[\\begin{matrix}1 & 2 & 3\\\\4 & 5 & -6\\\\-7 & 8 & -9\\end{matrix}\\right]$"
            ],
            "text/plain": [
              "Matrix([\n",
              "[ 1, 2,  3],\n",
              "[ 4, 5, -6],\n",
              "[-7, 8, -9]])"
            ]
          },
          "execution_count": 71,
          "metadata": {},
          "output_type": "execute_result"
        }
      ],
      "source": [
        "#Declaration de la matrice A\n",
        "A = Matrix([[1,2,3],[4,5,-6],[-7,8,-9]])\n",
        "A"
      ]
    },
    {
      "cell_type": "code",
      "execution_count": 72,
      "metadata": {},
      "outputs": [
        {
          "data": {
            "text/latex": [
              "$\\displaystyle -3$"
            ],
            "text/plain": [
              "-3"
            ]
          },
          "execution_count": 72,
          "metadata": {},
          "output_type": "execute_result"
        }
      ],
      "source": [
        "#calcul de la trace de la matrice A\n",
        "A.trace()"
      ]
    },
    {
      "cell_type": "markdown",
      "metadata": {},
      "source": [
        "### Matrices symetriques ou antisymétiques\n",
        "\n",
        "* Une matrice  $ A $  de taille  $ n\\times n $  est **symetrique** si elle est égale à sa transposée :\n",
        "\n",
        "\\begin{equation}\n",
        "A^T = A.\n",
        "\\end{equation}\n",
        "\n",
        "* Une matrice  $ A $  de taille  $ n\\times n $  est **antisymetrique** si:\n",
        " \\begin{equation}\n",
        "A^T = - A.\n",
        "\\end{equation}\n",
        "\n",
        "#### Exemple - Matrice symétrique\n",
        "\n",
        "La matrice  $ A=\\begin{pmatrix} 1 & -2 & -3 \\\\ -2 & 5 & 6 \\\\ -3 & 6 & -9  \\end{pmatrix} $  est symétrique."
      ]
    },
    {
      "cell_type": "code",
      "execution_count": 73,
      "metadata": {},
      "outputs": [
        {
          "data": {
            "text/latex": [
              "$\\displaystyle \\left[\\begin{matrix}1 & -2 & -3\\\\-2 & 5 & 6\\\\-3 & 6 & -9\\end{matrix}\\right]$"
            ],
            "text/plain": [
              "Matrix([\n",
              "[ 1, -2, -3],\n",
              "[-2,  5,  6],\n",
              "[-3,  6, -9]])"
            ]
          },
          "execution_count": 73,
          "metadata": {},
          "output_type": "execute_result"
        }
      ],
      "source": [
        "#Declaration de la matrice A\n",
        "A = Matrix([[1,-2,-3],[-2,5,6],[-3,6,-9]])\n",
        "A"
      ]
    },
    {
      "cell_type": "code",
      "execution_count": 74,
      "metadata": {},
      "outputs": [
        {
          "data": {
            "text/plain": [
              "True"
            ]
          },
          "execution_count": 74,
          "metadata": {},
          "output_type": "execute_result"
        }
      ],
      "source": [
        "#Determination si la matrice est symétrique\n",
        "A.is_symmetric()"
      ]
    },
    {
      "cell_type": "markdown",
      "metadata": {},
      "source": [
        "#### Exemple - Matrice antisymétrique\n",
        "\n",
        "La matrice  $ A=\\begin{pmatrix} 0 & -3 & 4 \\\\ 3  & 0 & 2 \\\\ -4 & -2 & 0  \\end{pmatrix} $  est antisymetrique. Remarquons que les éléments diagonaux d'une matrice antisymetrique sont toujours tous nuls.\n"
      ]
    },
    {
      "cell_type": "code",
      "execution_count": 75,
      "metadata": {},
      "outputs": [
        {
          "data": {
            "text/latex": [
              "$\\displaystyle \\left[\\begin{matrix}0 & -3 & 4\\\\3 & 0 & 2\\\\-4 & -2 & 0\\end{matrix}\\right]$"
            ],
            "text/plain": [
              "Matrix([\n",
              "[ 0, -3, 4],\n",
              "[ 3,  0, 2],\n",
              "[-4, -2, 0]])"
            ]
          },
          "execution_count": 75,
          "metadata": {},
          "output_type": "execute_result"
        }
      ],
      "source": [
        "#Declaration de la matrice A\n",
        "A = Matrix([[0,-3,4],[3,0,2],[-4,-2,0]])\n",
        "A"
      ]
    },
    {
      "cell_type": "code",
      "execution_count": 76,
      "metadata": {},
      "outputs": [
        {
          "data": {
            "text/plain": [
              "True"
            ]
          },
          "execution_count": 76,
          "metadata": {},
          "output_type": "execute_result"
        }
      ],
      "source": [
        "#Determination si la matrice est sym_ou_anti\n",
        "A.is_anti_symmetric()"
      ]
    },
    {
      "cell_type": "markdown",
      "metadata": {},
      "source": [
        "### Matrice Hermetienne\n",
        "\n",
        "Une matrice **hermetienne ou auto-adjointe** est une matrice carrée avec des éléments complexes qui vérifie la propriété suivante:\n",
        "\n",
        "* La matrice est égale à la matrice transposée conjugée  $ A=(A^T)^* $.\n",
        "\n",
        " Il est à noter que les éléments diagonaux d'une matrice hermetienne sont toujours tous réels. En particulier, une matrice à éléments réels est hermitienne si et seulement si elle est symétrique. Une matrice hermitienne est orthogonalement diagonalisable et toutes ses valeurs propres sont réelles ; ses sous-espaces propres sont 2 à 2 orthogonaux. En théorie quantique, on manipule des matrices hermitiennes.\n",
        "\n",
        "#### Exemple - Matrice Hermetienne\n",
        "\n",
        "La matrice  $ A=\\begin{pmatrix} 3 & -i & 4i \\\\ i  & 0 & 5 \\\\ -4i & 5 & 10  \\end{pmatrix} $  est hermetienne.\n"
      ]
    },
    {
      "cell_type": "code",
      "execution_count": 77,
      "metadata": {},
      "outputs": [
        {
          "data": {
            "text/latex": [
              "$\\displaystyle \\left[\\begin{matrix}3 & - 1.0 i & 4.0 i\\\\1.0 i & 0 & 5\\\\- 4.0 i & 5 & 10\\end{matrix}\\right]$"
            ],
            "text/plain": [
              "Matrix([\n",
              "[     3, -1.0*I, 4.0*I],\n",
              "[ 1.0*I,      0,     5],\n",
              "[-4.0*I,      5,    10]])"
            ]
          },
          "execution_count": 77,
          "metadata": {},
          "output_type": "execute_result"
        }
      ],
      "source": [
        "#Declaration de la matrice A\n",
        "A = Matrix([[3,-1j,4j],[1j,0,5],[-4j,5,10]])\n",
        "A"
      ]
    },
    {
      "cell_type": "code",
      "execution_count": 78,
      "metadata": {},
      "outputs": [
        {
          "data": {
            "text/latex": [
              "$\\displaystyle \\left[\\begin{matrix}3 & - 1.0 i & 4.0 i\\\\1.0 i & 0 & 5\\\\- 4.0 i & 5 & 10\\end{matrix}\\right]$"
            ],
            "text/plain": [
              "Matrix([\n",
              "[     3, -1.0*I, 4.0*I],\n",
              "[ 1.0*I,      0,     5],\n",
              "[-4.0*I,      5,    10]])"
            ]
          },
          "execution_count": 78,
          "metadata": {},
          "output_type": "execute_result"
        }
      ],
      "source": [
        "#Determination de la matrice hermetienne conjuguee de la matrice A\n",
        "A.H"
      ]
    },
    {
      "cell_type": "code",
      "execution_count": 79,
      "metadata": {},
      "outputs": [
        {
          "data": {
            "text/plain": [
              "True"
            ]
          },
          "execution_count": 79,
          "metadata": {},
          "output_type": "execute_result"
        }
      ],
      "source": [
        "A.is_hermitian"
      ]
    },
    {
      "cell_type": "markdown",
      "metadata": {
        "id": "YfhWiBcR4Oe3"
      },
      "source": [
        "### Inverse d'une matrice"
      ]
    },
    {
      "cell_type": "markdown",
      "metadata": {
        "id": "ap9yc-7j4Ugw"
      },
      "source": [
        "#### Définition \n",
        "\n",
        "Soit  $ A $  une matrice carrée de taille  $ n\\times n $ . S'il existe une matrice carrée  $ B $  de taille  $ n\\times n $  telle que :    \n",
        "\\begin{align}\n",
        "&AB = BA = \\mathbb{I},\n",
        "&\\end{align}\n",
        "on dit que  $ A $  est **inversible** et son inverse $ B = A^{-1} $ . Plus généralement, quand  $ A $  est inversible, pour tout  $ p\\in \\mathbb{N} $, on a :\n",
        "\\begin{equation}\n",
        "A^{-p} = (A^{-1})^p = \\underbrace{A^{-1}\\times A^{-1}\\times A^{-1}\\times \\cdots \\times A^{-1}}_{p\\ fois}\n",
        "\\end{equation}\n",
        "\n",
        "#### Exemple Inverse d'une matrice\n",
        "\n",
        "Soit  $ A = \\begin{pmatrix} 1 & 2 \\\\ 0 & 3 \\end{pmatrix} $. \n",
        "\n",
        "Etudier si  $ A $  est inversible, c'est étudier l'existence d'une matrice  $ B = \\begin{pmatrix} a & b \\\\ c & d \\end{pmatrix} $  à coefficients dans  $ \\mathbb{K} $ , telle que  $ AB = BA = \\mathbb{I} $.\n",
        "\\begin{equation}\n",
        "AB = \\mathbb{I} \\Leftrightarrow \\begin{pmatrix} 1 & 2 \\\\ 0 & 3 \\end{pmatrix} \\begin{pmatrix} a & b \\\\ c & d \\end{pmatrix} =  \\begin{pmatrix} 1 & 0 \\\\ 0 & 1 \\end{pmatrix} \\Leftrightarrow  \\begin{pmatrix} a + 2c & b + 2d \\\\ 3c & 3d \\end{pmatrix} =  \\begin{pmatrix} 1 & 0 \\\\ 0 & 1 \\end{pmatrix}.\n",
        "\\end{equation}\n",
        "Cette égalité équivaut au système : \n",
        "\\begin{cases} a + 2c = 1 \\\\ a + 2d = 0 \\\\ 3c = 0 \\\\ 3d = 1 .\n",
        "\\end{cases}\n",
        "Sa résolution est immédiate :  \n",
        "\\begin{align}\n",
        "&a = 1, &&b = -\\frac23, && c = 0, &d = \\frac13 .\n",
        "\\end{align} \n",
        "Il n'y a donc qu'une seule matrice possible à savoir  \n",
        "\\begin{equation} \n",
        "B =  \\begin{pmatrix} 1 & -\\frac23 \\\\ 0 & \\frac13 \\end{pmatrix}.\n",
        "\\end{equation}\n",
        "Pour prouver qu'elle convient, il faut aussi montrer l'égalité  $ BA =\\mathbb{I} $. Cette vérification est laissée à la diligence du  lecteur. La matrice  $ A $  est donc inversible et  \n",
        "\n",
        "\\begin{equation}\n",
        " A^{-1} =  \\begin{pmatrix} 1 & -\\frac23 \\\\ 0 & \\frac13 \\end{pmatrix}.\n",
        " \\end{equation} "
      ]
    },
    {
      "cell_type": "markdown",
      "metadata": {
        "id": "wYt-fw814geV"
      },
      "source": [
        "#### Propriétés matrices invertibles\n",
        "\n",
        "Soient  $ A $ ,  $ B $  et  $ C $  trois matrices appartenant à  $ M_{n,p}(\\mathbb{K}) $ . Soient  $ \\alpha \\in \\mathbb{K} $  et  $ \\beta \\in \\mathbb{K} $  deux scalaires\n",
        "\n",
        "* Inverse de l'inverse  $ (A^{-1})^{-1} = A $ ,\n",
        "\n",
        "* Inverse du produit  $ (AB)^{-1} = B^{-1}A^{-1} $ . Il faut bien faire attention à l'inversion de l'ordre.\n",
        "\n",
        "#### Exercice - Matrices invertibles\n",
        "\n",
        "Soient\n",
        "\\begin{align}\n",
        "& A = \\begin{pmatrix} -1 & -2 \\\\ 3 & 4 \\end{pmatrix}, \n",
        "&&B = \\begin{pmatrix} 2 & 1 \\\\ 5 & 3 \\end{pmatrix}, \n",
        "&& C = \\begin{pmatrix} 1 & 0 & 0 \\\\ 0 & 2 & 0 \\\\ 1 & 0 & 3 \\end{pmatrix}, \n",
        "& D = \\begin{pmatrix} -1 & -2 & 0 \\\\ 2 & 3 & 0 \\\\ 0 & 0 & 1 \\end{pmatrix}.\n",
        "\\end{align}\n",
        "\n",
        "Calculer  $ A^{-1}$, $B^{-1}$, $(AB)^{-1}$, $(BA)^{-1}$, $A^{-2}$, $C^{-1} $, $ 2D - D^2 $. Sans calculs, en déduire  $ D^{-1} $."
      ]
    },
    {
      "cell_type": "markdown",
      "metadata": {
        "id": "EUYS4CGr4hwT"
      },
      "source": [
        "##### Solutions\n",
        "1.  $ AA^{-1} = I \\Leftrightarrow \\begin{pmatrix} -1 & -2 \\\\ 3 & 4 \\end{pmatrix} \\begin{pmatrix} a & b \\\\ c & d \\end{pmatrix} =  \\begin{pmatrix} 1 & 0 \\\\ 0 & 1 \\end{pmatrix} \\Leftrightarrow  \\begin{pmatrix} -a - 2c & -b -2d \\\\ 3a + 4c & 3b + 4d \\end{pmatrix} =  \\begin{pmatrix} 1 & 0 \\\\ 0 & 1 \\end{pmatrix} $\n",
        "\n",
        "Cette égalité équivaut au système :\n",
        "\n",
        "\\begin{align}\n",
        "&\\begin{cases}\n",
        "-a - 2c = 1 \\\\ -b - 2d \\\\ 3a + 4c \\\\ 3b + 4d = 1\n",
        "\\end{cases}\n",
        "&&\\Rightarrow \n",
        "&& a = 2, && b =1, &&c = -\\frac32, &d = -\\frac12.\n",
        "\\end{align}\n",
        "\n",
        "Ainsi,\n",
        "\\begin{equation} \n",
        "A^{-1} = \\begin{pmatrix} 2 & 1 \\\\ -\\frac32 & -\\frac12 \\end{pmatrix}.\n",
        "\\end{equation}\n",
        "\n",
        "On vérifie sans peine que,\n",
        "\\begin{equation}\n",
        " A^{-1}A = \\begin{pmatrix} 2 & 1 \\\\ -\\frac32 & -\\frac12 \\end{pmatrix} \\begin{pmatrix} -1 & -2 \\\\ 3 & 4 \\end{pmatrix} = \\begin{pmatrix} 1 & 0 \\\\ 0 & 1 \\end{pmatrix} =\\mathbb{I}.\n",
        "\\end{equation}\n",
        "La matrice est donc inversible et  $ A^{-1} = \\begin{pmatrix} 2 & 1 \\\\ -\\frac32 & -\\frac12 \\end{pmatrix}. $"
      ]
    },
    {
      "cell_type": "markdown",
      "metadata": {
        "id": "a42YSiWJ4vya"
      },
      "source": [
        "2.  $ BB^{-1} = \\mathbb{I} \\Leftrightarrow \\begin{pmatrix} 2 & 1 \\\\ 5 & 3 \\end{pmatrix} \\begin{pmatrix} a & b \\\\ c & d \\end{pmatrix} =  \\begin{pmatrix} 1 & 0 \\\\ 0 & 1 \\end{pmatrix} \\Leftrightarrow  \\begin{pmatrix} 2a + c & 2b + d \\\\ 5a + 3c & 5b + 3d \\end{pmatrix} =  \\begin{pmatrix} 1 & 0 \\\\ 0 & 1 \\end{pmatrix} $\n",
        "\n",
        "Cette égalité équivaut au système :\n",
        "\n",
        "\\begin{align}\n",
        "&\\begin{cases}\n",
        "2a + c = 1 \\\\ 2b + d = 0 \\\\ 5a + 3c = 0 \\\\ 5b + 3d = 1\n",
        "\\end{cases}\n",
        "&&\\Rightarrow \n",
        "&& a = 3, && b = -1, &&c = -5, &d = 2.\n",
        "\\end{align}\n",
        "\n",
        "Ainsi  \n",
        "\\begin{equation}\n",
        "B^{-1} = \\begin{pmatrix} 3 & -1 \\\\ -5 & 2 \\end{pmatrix} .\n",
        "\\end{equation}\n",
        "\n",
        "On veŕifie que\n",
        "\n",
        "\\begin{equation}  \n",
        "B^{-1}B = \\begin{pmatrix} 3 & -1 \\\\ -5 & -3 \\end{pmatrix} \\begin{pmatrix} 2 & 1 \\\\ 5 & 3 \\end{pmatrix} = \\begin{pmatrix} 1 & 0 \\\\ 0 & 1 \n",
        "\\end{pmatrix} .\n",
        "\\end{equation}\n",
        "\n",
        "La matrice est donc inversible et  $ B^{-1} = \\begin{pmatrix} 3 & -1 \\\\ -5 & 2 \\end{pmatrix}. $ "
      ]
    },
    {
      "cell_type": "markdown",
      "metadata": {
        "id": "lE0OU2Lh415Y"
      },
      "source": [
        "3. De ce qui précède, on a\n",
        "\n",
        " \\begin{align}\n",
        "&(AB)^{-1} = B^{-1}A^{-1} = \\begin{pmatrix} 3 & -1 \\\\ -5 & 2 \\end{pmatrix}\\begin{pmatrix} 2 & 1 \\\\ -\\frac32 & -\\frac12 \\end{pmatrix}\n",
        "= \\begin{pmatrix} \\frac{15}{2} & \\frac72 \\\\ -13 & -6 \\end{pmatrix},\\\\\n",
        "&(BA)^{-1} = A^{-1}B^{-1} \n",
        "= \\begin{pmatrix} 2 & 1 \\\\ -\\frac{3}{2} & -\\frac{1}{2} \\end{pmatrix} \\begin{pmatrix} 3 & -1 \\\\ -5 & 2 \\end{pmatrix}\n",
        "= \\begin{pmatrix} 1 & 0 \\\\ -2 & \\frac{1}{2} \\end{pmatrix}\\\\\n",
        "& A^{-2} = (A^{-1})^2 = \\begin{pmatrix} 2 & 1 \\\\ -\\frac{3}{2} & -\\frac{1}{2} \\end{pmatrix}\n",
        "\\begin{pmatrix} 2 & 1 \\\\ -\\frac32 & -\\frac12 \\end{pmatrix}= \\begin{pmatrix} \\frac52 & \\frac32 \\\\ -\\frac94 & -\\frac54 \\end{pmatrix},\n",
        "\\end{align}"
      ]
    },
    {
      "cell_type": "markdown",
      "metadata": {
        "id": "FN2rcxrI5EYk"
      },
      "source": [
        "4. $ CC^{-1} = \\mathbb{I} \\Leftrightarrow \\begin{pmatrix} 1 & 0 & 0 \\\\ 0 & 2 & 0 \\\\ 1 & 0 & 3 \\end{pmatrix} \\begin{pmatrix} a & b & c \\\\ d & e & f \\\\ g & h & i \\end{pmatrix} =  \\begin{pmatrix} 1 & 0 & 0 \\\\ 0 & 1 & 0 \\\\ 0 & 0 & 1 \\end{pmatrix} $\n",
        "\n",
        "Cette égalité équivaut au système :\n",
        "\n",
        "\\begin{align}\n",
        "&\\begin{cases}\n",
        "a = 1 \\\\ b = 0 \\\\ c = 0 \\\\ 2d = 0 \\\\ 2e = 1 \\\\  2f = 0 \\\\ a + 3g = 0 \\\\ b + 3h = 0 \\\\ c + 3i = 1\n",
        "\\end{cases}\n",
        "&&\\Rightarrow \n",
        "& C^{-1} = \\begin{pmatrix} 1 & 0 & 0 \\\\ 0 & \\frac12 & 0 \\\\ -\\frac13 & 0 & \\frac13 \\end{pmatrix}.\n",
        "\\end{align}\n",
        "\n",
        "On démontre avec aise que  $ C^{-1} C = \\mathbb{I} $  et donc la matrice est inversible et sont inverse est \n",
        "\n",
        "\\begin{equation}\n",
        "C^{-1} = \\begin{pmatrix} 1 & 0 & 0 \\\\ 0 & \\frac12 & 0 \\\\ -\\frac13 & 0 & \\frac13 \\end{pmatrix}.\n",
        "\\end{equation}"
      ]
    },
    {
      "cell_type": "markdown",
      "metadata": {
        "id": "KXnhxYJ75bHB"
      },
      "source": [
        "5. Il est facile de montrer que  :\n",
        "\n",
        "\\begin{equation}\n",
        "2D - D^2 = 2 \\begin{pmatrix} -1 & -2 & 0 \\\\ 2 & 3 & 0 \\\\ 0 & 0 & 1 \\end{pmatrix} - \\begin{pmatrix} -1 & -1 & 0 \\\\ 2 & 3 & 0 \\\\ 0 & 0 & 1 \\end{pmatrix}^2 = \\begin{pmatrix} 1 & 0 & 0 \\\\ 0 & 1 & 0 \\\\ 0 & 0 & 1 \\end{pmatrix}= \\mathbb{I}.\n",
        "\\end{equation}\n",
        "\n",
        "En multipliant les deux termes par $D^{-1}$ et en faisant l'hypothèse que $D^{-1} D=\\mathbb{I}$, cad que $D$ est inversible, on a :\n",
        "\n",
        "\\begin{align}\n",
        "& 2D - D ^2 = I \\implies D^{-1} = 2 - D ,\n",
        "& D^{-1} = \\begin{pmatrix} 3 & -2 & 0 \\\\ -2 & -1 & 0 \\\\ 0 & 0 & 1 \\end{pmatrix}.\n",
        "\\end{align}\n"
      ]
    },
    {
      "cell_type": "markdown",
      "metadata": {
        "id": "RV5EkJyvHiGu"
      },
      "source": [
        "#### Autre méthode de calcul\n",
        "\n",
        "Une méthode efficace pour calculer l’inverse d’une matrice quelconque est une reformulation de la méthode du pivot de Gauss pour les systèmes\n",
        "linéaires. Nous commençons par une formule directe dans le cas simple des matrices  $ 2\\times 2$.\n",
        "\n",
        "Considerons la matrice $A=\\begin{pmatrix} a & b \\\\ c & d \\end{pmatrix}$.  Si  $ \\det(A)=ad-bc\\ne 0 $  alors  $ A $  est inversible et \n",
        "\n",
        "\\begin{equation} \n",
        "A^{-1}=\\frac{1}{\\det(A)}\\begin{pmatrix} d & -b \\\\ -c & a \\end{pmatrix} .\n",
        "\\end{equation}\n",
        "\n",
        "Considérons par exemple, la matrice $ A=\\begin{pmatrix} 1 & 2 \\\\ 3 & 4 \\end{pmatrix} $. Comme $ \\det(A)= 1\\times 4 - 3\\times 2=-2 \\ne 0 $,  donc  $ A $  est inversible et  \n",
        "\n",
        "\\begin{equation}\n",
        " A^{-1} = -\\frac12 \\begin{pmatrix} 4 & -2 \\\\ -3 & 1 \\end{pmatrix} .\n",
        " \\end{equation}"
      ]
    },
    {
      "cell_type": "code",
      "execution_count": 80,
      "metadata": {
        "id": "aPhWxllXH4uO",
        "outputId": "350ed1d4-7e42-4069-d792-cd43cbf53591"
      },
      "outputs": [
        {
          "data": {
            "text/latex": [
              "$\\displaystyle \\left[\\begin{matrix}1 & 2\\\\3 & 4\\end{matrix}\\right]$"
            ],
            "text/plain": [
              "Matrix([\n",
              "[1, 2],\n",
              "[3, 4]])"
            ]
          },
          "execution_count": 80,
          "metadata": {},
          "output_type": "execute_result"
        }
      ],
      "source": [
        "#Declaration de la matrice A\n",
        "A = Matrix([[1,2],[3,4]])\n",
        "A"
      ]
    },
    {
      "cell_type": "code",
      "execution_count": 81,
      "metadata": {
        "id": "Ls9uIJqjH4mR",
        "outputId": "6d6e6cfe-a14c-4e9c-9a9d-2fea1b6d129b"
      },
      "outputs": [
        {
          "data": {
            "text/latex": [
              "$\\displaystyle -2$"
            ],
            "text/plain": [
              "-2"
            ]
          },
          "execution_count": 81,
          "metadata": {},
          "output_type": "execute_result"
        }
      ],
      "source": [
        "#determination du determinant de la matrice A\n",
        "det_A = A.det()\n",
        "det_A"
      ]
    },
    {
      "cell_type": "code",
      "execution_count": 82,
      "metadata": {
        "id": "HwjsEpKUH4fX"
      },
      "outputs": [
        {
          "name": "stdout",
          "output_type": "stream",
          "text": [
            "A est inversible\n"
          ]
        }
      ],
      "source": [
        "#Verification de l'inversibilite de A\n",
        "if det_A != 0: \n",
        "    print('A est inversible')\n",
        "else: \n",
        "    print('A n\\'est pas inversible')\n"
      ]
    },
    {
      "cell_type": "markdown",
      "metadata": {
        "id": "iK2YoMJsIcCM"
      },
      "source": [
        "Dans le cas d'une matrice A  $ 3\\times 3 $, si  $ \\det(A) \\ne 0 $  alors  $ A $  est inversible et  \n",
        "\\begin{equation}\n",
        "A^{-1} = \\frac{1}{\\det(A)}\\times \\rm{adj}(A), \n",
        "\\end{equation}\n",
        "\n",
        "où adj(A) est la matrice adjointe de  $ A $."
      ]
    },
    {
      "cell_type": "markdown",
      "metadata": {
        "id": "E1lYMEGTIlHw"
      },
      "source": [
        "##### Exemple - Inverse d'un matrice 3x3\n",
        "\n",
        "Déterminons l'inverse de la matrice  $ A = \\begin{pmatrix} 1 & 2 & 3 \\\\ 0 & 1 & 4 \\\\ 5 & 6 & 0 \\end{pmatrix}$.\n",
        "\n",
        "* $ \\det(A) = 1(0-24)-2(0-20)+3(0-5)=1 $ et $ A $  est inversible. \n",
        "* Ecrivons la matrice transposée de A\n",
        "  \\begin{equation}\n",
        "  A^t =  \\begin{pmatrix} 1 & 0 & 5 \\\\ 2 & 1 & 6 \\\\ 3 & 4 & 0 \\end{pmatrix}.\n",
        "  \\end{equation}\n",
        "* Calculons les cofacteurs des 9 élements de cette matrice.\n",
        "\n",
        "\\begin{equation}\n",
        "\\begin{aligned}\n",
        "& \\begin{vmatrix} 1 & 6 \\\\ 4 & 0 \\end{vmatrix} = -24, && \\begin{vmatrix} 2 & 6 \\\\ 3 & 0 \\end{vmatrix} = -18, \n",
        "&& \\begin{vmatrix} 2 & 1 \\\\ 3 & 4 \\end{vmatrix} = 5, && \\begin{vmatrix} 0 & 5 \\\\ 4 & 0 \\end{vmatrix} = -20, \n",
        "&\\begin{vmatrix} 1 & 5 \\\\ 3 & 0 \\end{vmatrix} = -15, \\\\\n",
        "&\\begin{vmatrix} 1 & 0 \\\\ 3 & 4 \\end{vmatrix} = 4,  && \\begin{vmatrix} 0 & 5 \\\\ 1 & 6 \\end{vmatrix} = -5, \n",
        "&& \\begin{vmatrix} 1 & 5 \\\\ 2 & 6\\end{vmatrix} = -4,  && \\begin{vmatrix} 1 & 0 \\\\ 2 & 1 \\end{vmatrix} = 1\n",
        "& .\n",
        "\\end{aligned}\n",
        "\\end{equation}\n",
        "\n",
        "* Ecrivons la matrice adjointe\n",
        "\n",
        "\\begin{equation}\n",
        " \\rm{adj}(A) = \\begin{pmatrix} -24 & -18 & 5 \\\\  -20 & -15 & 4 \\\\ -5 & 4 & 1 \\end{pmatrix} \\times \\begin{pmatrix} + & - & + \\\\  - & + & - \\\\ + & - & + \\end{pmatrix} = \\begin{pmatrix} -24 & 18 & 5 \\\\  20 &-15 & -4 \\\\ -5 & 4 & 1 \\end{pmatrix} .\n",
        "\\end{equation}\n",
        "\n",
        "* La matrice inverse cherchée est\n",
        "\\begin{equation}\n",
        " A^{-1} = \\frac{1}{\\det(A)} \\times\\rm{adj}(A) = \\begin{pmatrix} -24 & 18 & 5 \\\\  20 &-15 & -4 \\\\ -5 & 4 & 1 \\end{pmatrix}.\n",
        "\\end{equation}\n"
      ]
    },
    {
      "cell_type": "code",
      "execution_count": 83,
      "metadata": {
        "id": "iyAUwaJ9IuKz"
      },
      "outputs": [],
      "source": [
        "#Declaration de la matrice A\n",
        "A = Matrix([[1,2,3],[0,1,4],[5,6,0]])"
      ]
    },
    {
      "cell_type": "code",
      "execution_count": 84,
      "metadata": {
        "colab": {
          "base_uri": "https://localhost:8080/",
          "height": 78
        },
        "id": "v_ZdCF_MIt_6",
        "outputId": "5da18f07-c238-4f8b-db2e-4f856002d566"
      },
      "outputs": [
        {
          "data": {
            "text/latex": [
              "$\\displaystyle \\left[\\begin{matrix}1 & 2 & 3\\\\0 & 1 & 4\\\\5 & 6 & 0\\end{matrix}\\right]$"
            ],
            "text/plain": [
              "Matrix([\n",
              "[1, 2, 3],\n",
              "[0, 1, 4],\n",
              "[5, 6, 0]])"
            ]
          },
          "execution_count": 84,
          "metadata": {},
          "output_type": "execute_result"
        }
      ],
      "source": [
        "A"
      ]
    },
    {
      "cell_type": "code",
      "execution_count": 85,
      "metadata": {
        "colab": {
          "base_uri": "https://localhost:8080/",
          "height": 78
        },
        "id": "-mNTTjzhItrJ",
        "outputId": "216012a0-94d3-47b7-ffaa-79f0522c5669"
      },
      "outputs": [
        {
          "data": {
            "text/latex": [
              "$\\displaystyle \\left[\\begin{matrix}-24 & 18 & 5\\\\20 & -15 & -4\\\\-5 & 4 & 1\\end{matrix}\\right]$"
            ],
            "text/plain": [
              "Matrix([\n",
              "[-24,  18,  5],\n",
              "[ 20, -15, -4],\n",
              "[ -5,   4,  1]])"
            ]
          },
          "execution_count": 85,
          "metadata": {},
          "output_type": "execute_result"
        }
      ],
      "source": [
        "#Determination de l'inverse\n",
        "A.inv ()"
      ]
    },
    {
      "cell_type": "markdown",
      "metadata": {
        "id": "Bw_FBc6EJ8Ds"
      },
      "source": [
        "#### Exercice - Inverse des matrices \n",
        "\n",
        "Soient  $ A=\\begin{pmatrix} -1 & -2 \\\\ 3 & 4 \\end{pmatrix}$, $B=\\begin{pmatrix} 4 & 1 \\\\ 5 & 7 \\end{pmatrix}$, $C=\\begin{pmatrix} 1 & 1 & 0 \\\\ 0 & 2 & 0 \\\\ 1 & 0 & 3  \\end{pmatrix}$, $D=\\begin{pmatrix} 1 & 2 & 0 \\\\  2 & 3 & 0 \\\\ 0 & 0 & 1 \\end{pmatrix}$.\n",
        "\n",
        "Calculer  $ A^{-1}$, $B^{-1}$, $(AB)^{-1}$, $(BA)^{-1}$, $A^{-2}$, $ D^{-1}$.\n"
      ]
    },
    {
      "cell_type": "markdown",
      "metadata": {
        "id": "MZ4UgL3JJ_KF"
      },
      "source": [
        "##### Solution\n",
        "\n",
        "1. $ A $ et $B$ étant des matrices $2\\times 2$ avec $ \\det(A)= -1\\times 4 + 3\\times 2=2 \\ne 0 $ et $\\det(B)= 4\\times 7 - 5\\times 1=23 \\ne 0$ , on a\n",
        "\n",
        "\\begin{align}\n",
        "& A^{-1}=\\frac12\\begin{pmatrix} 4 & -3 \\\\ 2 & -1 \\end{pmatrix},\n",
        "& B^{-1}=\\frac{1}{23}\\begin{pmatrix} 7 & -1 \\\\ -5 & 4 \\end{pmatrix}.\n",
        "\\end{align}\n",
        "\n",
        "2. De ce qui précède, on a:\n",
        "\n",
        "\\begin{align}\n",
        "& (AB)^{-1} = B^{-1}A^{-1} =-\\frac{1}{46}\\begin{pmatrix} 7 & -1 \\\\ 5 & 4 \\end{pmatrix}\\begin{pmatrix} 4  & 2 \\\\ -3 & -1 \\end{pmatrix}\n",
        "= -\\frac{1}{46}\\begin{pmatrix} 31 & 15 \\\\ -32 & -14 \\end{pmatrix},\\\\\n",
        "& (BA)^{-1} = A^{-1}B^{-1} =-\\frac{1}{46}\\begin{pmatrix} 4  & 2 \\\\ -3 & -1 \\end{pmatrix}\\begin{pmatrix} 7 & -1 \\\\ 5 & 4 \\end{pmatrix}\n",
        "= -\\frac{1}{46}\\begin{pmatrix} 18 & 4 \\\\ -16 & -1 \\end{pmatrix}\\\\\n",
        "& A^{-2} = (A^{-1})^{2} = \\frac{1}{4}\\begin{pmatrix} 4  & 2 \\\\ -3 & -1 \\end{pmatrix}\\begin{pmatrix} 4  & 2 \\\\ -3 & -1 \\end{pmatrix}\\\\\n",
        "&= \\frac{1}{4}\\begin{pmatrix} 10 & 6 \\\\ -9 & 5 \\end{pmatrix}\n",
        "\\end{align}"
      ]
    },
    {
      "cell_type": "markdown",
      "metadata": {
        "id": "h5qNWakiKbjD"
      },
      "source": [
        "3. Comme $ \\det(D) = 1(3-0)-2(2-0)+0(0-0)=-1 $, $D$ est inversible.\n",
        "\n",
        "* En prenant la transposée de la matrice et en calculant ces cofacteurs, on trouve\n",
        "\n",
        "\\begin{equation}\n",
        "\\rm{adj}(D) = \\begin{pmatrix} 3 & 2 & 0 \\\\  2 & 1 & 0 \\\\ 0 & 0 & 1 \\end{pmatrix} \\times \\begin{pmatrix} + & - & + \\\\  - & + & - \\\\ + & - & + \\end{pmatrix} = \\begin{pmatrix}  3 & -2 & 0 \\\\  -2 & 1 & 0 \\\\ 0 & 0 & -1 \\end{pmatrix}.\n",
        "\\end{equation}\n",
        "\n",
        "* L'inverse recherchée est\n",
        "\n",
        "\\begin{equation}\n",
        " D^{-1} = \\frac{1}{\\det(D)} \\times\\rm{adj}(D) = \\begin{pmatrix} -3 & 2 & 0 \\\\  2 & -1 & 0 \\\\ 0 & 0 & 1 \\end{pmatrix}.\n",
        " \\end{equation}"
      ]
    },
    {
      "cell_type": "markdown",
      "metadata": {},
      "source": [
        "##### Sympy"
      ]
    },
    {
      "cell_type": "code",
      "execution_count": 86,
      "metadata": {
        "id": "uBJY-RYjKmvF"
      },
      "outputs": [],
      "source": [
        "#Declaration des matrices A , B ,C et D\n",
        "A = Matrix([[-1,-2],[3,4]])\n",
        "B = Matrix([[4,1],[5,7]])\n",
        "C = Matrix([[1,1,0],[0,2,0],[1,0,3]])\n",
        "D = Matrix([[1,2,0],[2,3,0],[0,0,1]])"
      ]
    },
    {
      "cell_type": "code",
      "execution_count": 87,
      "metadata": {
        "id": "rph-3-LkKmk3",
        "outputId": "e04a8678-e371-41e4-aabe-eb360fe12f73"
      },
      "outputs": [
        {
          "data": {
            "text/latex": [
              "$\\displaystyle \\left[\\begin{matrix}-1 & -2\\\\3 & 4\\end{matrix}\\right]$"
            ],
            "text/plain": [
              "Matrix([\n",
              "[-1, -2],\n",
              "[ 3,  4]])"
            ]
          },
          "execution_count": 87,
          "metadata": {},
          "output_type": "execute_result"
        }
      ],
      "source": [
        "A"
      ]
    },
    {
      "cell_type": "code",
      "execution_count": 88,
      "metadata": {},
      "outputs": [
        {
          "data": {
            "text/latex": [
              "$\\displaystyle \\left[\\begin{matrix}2 & 1\\\\- \\frac{3}{2} & - \\frac{1}{2}\\end{matrix}\\right]$"
            ],
            "text/plain": [
              "Matrix([\n",
              "[   2,    1],\n",
              "[-3/2, -1/2]])"
            ]
          },
          "execution_count": 88,
          "metadata": {},
          "output_type": "execute_result"
        }
      ],
      "source": [
        "A.inv()"
      ]
    },
    {
      "cell_type": "code",
      "execution_count": 89,
      "metadata": {
        "id": "pjZUFo-UKmZ9",
        "outputId": "bf980e49-0c52-42fe-fcb6-890b4ca42bb9"
      },
      "outputs": [
        {
          "data": {
            "text/latex": [
              "$\\displaystyle \\left[\\begin{matrix}4 & 1\\\\5 & 7\\end{matrix}\\right]$"
            ],
            "text/plain": [
              "Matrix([\n",
              "[4, 1],\n",
              "[5, 7]])"
            ]
          },
          "execution_count": 89,
          "metadata": {},
          "output_type": "execute_result"
        }
      ],
      "source": [
        "B"
      ]
    },
    {
      "cell_type": "code",
      "execution_count": 90,
      "metadata": {},
      "outputs": [
        {
          "data": {
            "text/latex": [
              "$\\displaystyle \\left[\\begin{matrix}\\frac{7}{23} & - \\frac{1}{23}\\\\- \\frac{5}{23} & \\frac{4}{23}\\end{matrix}\\right]$"
            ],
            "text/plain": [
              "Matrix([\n",
              "[ 7/23, -1/23],\n",
              "[-5/23,  4/23]])"
            ]
          },
          "execution_count": 90,
          "metadata": {},
          "output_type": "execute_result"
        }
      ],
      "source": [
        "B.inv()"
      ]
    },
    {
      "cell_type": "code",
      "execution_count": 91,
      "metadata": {},
      "outputs": [
        {
          "data": {
            "text/latex": [
              "$\\displaystyle \\left[\\begin{matrix}\\frac{31}{46} & \\frac{15}{46}\\\\- \\frac{16}{23} & - \\frac{7}{23}\\end{matrix}\\right]$"
            ],
            "text/plain": [
              "Matrix([\n",
              "[ 31/46, 15/46],\n",
              "[-16/23, -7/23]])"
            ]
          },
          "execution_count": 91,
          "metadata": {},
          "output_type": "execute_result"
        }
      ],
      "source": [
        "(A*B).inv()"
      ]
    },
    {
      "cell_type": "code",
      "execution_count": 92,
      "metadata": {},
      "outputs": [
        {
          "data": {
            "text/latex": [
              "$\\displaystyle \\left[\\begin{matrix}\\frac{9}{23} & \\frac{2}{23}\\\\- \\frac{8}{23} & - \\frac{1}{46}\\end{matrix}\\right]$"
            ],
            "text/plain": [
              "Matrix([\n",
              "[ 9/23,  2/23],\n",
              "[-8/23, -1/46]])"
            ]
          },
          "execution_count": 92,
          "metadata": {},
          "output_type": "execute_result"
        }
      ],
      "source": [
        "(B*A).inv()"
      ]
    },
    {
      "cell_type": "code",
      "execution_count": 93,
      "metadata": {},
      "outputs": [
        {
          "data": {
            "text/latex": [
              "$\\displaystyle \\left[\\begin{matrix}\\frac{5}{2} & \\frac{3}{2}\\\\- \\frac{9}{4} & - \\frac{5}{4}\\end{matrix}\\right]$"
            ],
            "text/plain": [
              "Matrix([\n",
              "[ 5/2,  3/2],\n",
              "[-9/4, -5/4]])"
            ]
          },
          "execution_count": 93,
          "metadata": {},
          "output_type": "execute_result"
        }
      ],
      "source": [
        "A.inv()**2"
      ]
    },
    {
      "cell_type": "code",
      "execution_count": 94,
      "metadata": {
        "id": "XAvqfu25KmPA",
        "outputId": "97d8aa54-837e-41f9-8721-f64677ae3e2c"
      },
      "outputs": [
        {
          "data": {
            "text/latex": [
              "$\\displaystyle \\left[\\begin{matrix}1 & 1 & 0\\\\0 & 2 & 0\\\\1 & 0 & 3\\end{matrix}\\right]$"
            ],
            "text/plain": [
              "Matrix([\n",
              "[1, 1, 0],\n",
              "[0, 2, 0],\n",
              "[1, 0, 3]])"
            ]
          },
          "execution_count": 94,
          "metadata": {},
          "output_type": "execute_result"
        }
      ],
      "source": [
        "C"
      ]
    },
    {
      "cell_type": "code",
      "execution_count": 95,
      "metadata": {
        "id": "4JVly3z5KmB1",
        "outputId": "e0e43f8b-5b65-45e8-cff8-cd4146dee7d3"
      },
      "outputs": [
        {
          "data": {
            "text/latex": [
              "$\\displaystyle \\left[\\begin{matrix}1 & 2 & 0\\\\2 & 3 & 0\\\\0 & 0 & 1\\end{matrix}\\right]$"
            ],
            "text/plain": [
              "Matrix([\n",
              "[1, 2, 0],\n",
              "[2, 3, 0],\n",
              "[0, 0, 1]])"
            ]
          },
          "execution_count": 95,
          "metadata": {},
          "output_type": "execute_result"
        }
      ],
      "source": [
        "D"
      ]
    },
    {
      "cell_type": "code",
      "execution_count": 96,
      "metadata": {},
      "outputs": [
        {
          "data": {
            "text/latex": [
              "$\\displaystyle \\left[\\begin{matrix}-3 & 2 & 0\\\\2 & -1 & 0\\\\0 & 0 & 1\\end{matrix}\\right]$"
            ],
            "text/plain": [
              "Matrix([\n",
              "[-3,  2, 0],\n",
              "[ 2, -1, 0],\n",
              "[ 0,  0, 1]])"
            ]
          },
          "execution_count": 96,
          "metadata": {},
          "output_type": "execute_result"
        }
      ],
      "source": [
        "D.inv()"
      ]
    },
    {
      "cell_type": "markdown",
      "metadata": {
        "id": "Ju4zwltLULgc"
      },
      "source": [
        "## Notion de valeurs propres et de vecteurs propres\n",
        "\n",
        "La connaissance des vecteurs et valeurs propres offre une information clé sur un système en physique quantique. Il existe de plus de nombreux cas où cette connaissance caractérise totalement le système.\n",
        "\n",
        "### Definition\n",
        "\n",
        "Soit  $ A\\in M_n(\\mathbb{K}) $.\n",
        "\n",
        "*  $ \\lambda $  est dite **valeur propre** de la matrice  $ A $  s'il existe un vecteur non nul  $ |\\psi\\rangle\\in\\mathbb{K}^n $  tel que:\n",
        "\n",
        "\\begin{equation}\n",
        "A|psi\\rangle=\\lambda|psi\\rangle.\n",
        "\\end{equation}\n",
        "\n",
        "* Le vecteur  $ |psi\\rangle $  est alors appelé **vecteur propre** de $A $  associé à la valeur propre  $\\lambda$."
      ]
    },
    {
      "cell_type": "markdown",
      "metadata": {
        "id": "Ehztop8AVRfs"
      },
      "source": [
        " ### Exemple - Valeurs et vecteurs propres\n",
        "\n",
        "Soit la matrice $A=\\begin{pmatrix} 1 & 3 & 3 \\\\ -2 & 11 & -2 \\\\ 8 & -7 & 6 \\end{pmatrix}$.\n",
        "\n",
        "* Verifier que $|\\psi_1\\rangle=\\begin{pmatrix} -1 \\\\ 0 \\\\ 1\\end{pmatrix}$ est vecteur propre de $A$.\n",
        "\n",
        "En effet, \n",
        "\\begin{equation}\n",
        " A|\\psi_1\\rangle=\\begin{pmatrix}1 & 3 & 3 \\\\ -2 & 11 & -2 \\\\ 8 & -7 & 6 \\end{pmatrix}\\begin{pmatrix} -1 \\\\ 0 \\\\ 1 \\end{pmatrix}=\\begin{pmatrix} 2 \\\\ 0 \\\\ -2 \\end{pmatrix}=-2|\\psi\\rangle.\n",
        "\\end{equation}\n",
        "\n",
        "Donc $|\\psi_1\\rangle$ est vecteur propre de $A$ avec la valeur propre $\\lambda_1=-2$.\n",
        "\n",
        "* Verifier que $|\\psi_2\\rangle=\\begin{pmatrix} 0 \\\\ 1 \\\\ -1\\end{pmatrix}$ est vecteur propre de$A$.\n",
        "\n",
        "En effet, \n",
        "\\begin{equation}\n",
        " A|\\psi_2\\rangle=\\begin{pmatrix}1 & 3 & 3 \\\\ -2 & 11 & -2 \\\\ 8 & -7 & 6 \\end{pmatrix}\\begin{pmatrix}0 \\\\ 1 \\\\ -1 \\end{pmatrix}= 13\\begin{pmatrix} 0 \\\\ 1 \\\\ -1 \\end{pmatrix}=13|\\psi_2\\rangle.\n",
        "\\end{equation}\n",
        "\n",
        "Donc $|\\psi_2\\rangle$ est un vecteur propre de $A$ associe à la valeur propre $\\lambda_1=13$.\n",
        "\n",
        "* Verifions que $\\lambda_3=7$ est valeur propre de$A$.\n",
        "\n",
        "Il s'agit donc de trouver un vecteur $|\\psi_3\\rangle=\\begin{pmatrix} x_1 \\\\ x_2 \\\\ x_3 \\end{pmatrix}$ tel que $A|\\psi_3\\rangle=7|\\psi_3\\rangle$.\n",
        "\n",
        "En effet, \n",
        "\\begin{equation}\n",
        "\\begin{split}\n",
        "&A|\\psi_3\\rangle=7|\\psi_3\\rangle\\Leftrightarrow\\begin{pmatrix}1 & 3 & 3 \\\\ -2 & 11 & -2 \\\\ 8 & -7 & 6 \\end{pmatrix}\\begin{pmatrix} x_1 \\\\ x_2 \\\\ x_3 \\end{pmatrix}=7\\begin{pmatrix} x_1 \\\\ x_2 \\\\ x_3 \\end{pmatrix}\\\\\n",
        "&\\begin{pmatrix}x_1 & 3x_2 & 3x_3 \\\\ -2x_1 & 11x_2 & -2x_3 \\\\ 8x_1 & -7x_2 & 6x_3 \\end{pmatrix}=\\begin{pmatrix} 7x_1 \\\\ 7x_2 \\\\ 7x_3 \\end{pmatrix}\\Leftrightarrow\\begin{cases} -6x_1+3x_2+3x_3=0 \\\\ -2x_1+4x_2-2x_3=0 \\\\ 8x_1-7x_2-x_3=0 \\end{cases}\n",
        "\\end{split}\n",
        "\\end{equation}\n",
        "La résolution de ce systeme lineaire permet de trouver \n",
        "$|\\psi_3\\rangle=\\begin{pmatrix} 1 \\\\ 1 \\\\ 1 \\end{pmatrix}$\n",
        "\n",
        "Autrement,  $|\\psi_3\\rangle$ est le vecteur propre de $A$ associé à la valeur propre $\\lambda_3=7$.\n",
        "\n",
        "#### Sympy"
      ]
    },
    {
      "cell_type": "code",
      "execution_count": 97,
      "metadata": {
        "id": "lmJQmTFI78Xt",
        "outputId": "2ac16f83-8383-4922-a942-2ef2ad6bba04"
      },
      "outputs": [
        {
          "data": {
            "text/plain": [
              "{13: 1, 7: 1, -2: 1}"
            ]
          },
          "execution_count": 97,
          "metadata": {},
          "output_type": "execute_result"
        }
      ],
      "source": [
        "A = Matrix([[1,3,3],[-2,11,-2],[8,-7,6]])\n",
        "A.eigenvals()"
      ]
    },
    {
      "cell_type": "markdown",
      "metadata": {},
      "source": [
        "Ce résultat indique, après les \":\", la **multiplicité** de chaque valeur propre. Autrement, le nombre de vecteurs propres associés à cette valeur propre."
      ]
    },
    {
      "cell_type": "code",
      "execution_count": 98,
      "metadata": {
        "id": "IRzXMkKZ78Xt",
        "outputId": "268a86db-6291-4a05-eff6-72802d9990ff"
      },
      "outputs": [
        {
          "data": {
            "text/plain": [
              "[(-2,\n",
              "  1,\n",
              "  [Matrix([\n",
              "   [-1],\n",
              "   [ 0],\n",
              "   [ 1]])]),\n",
              " (7,\n",
              "  1,\n",
              "  [Matrix([\n",
              "   [1],\n",
              "   [1],\n",
              "   [1]])]),\n",
              " (13,\n",
              "  1,\n",
              "  [Matrix([\n",
              "   [ 0],\n",
              "   [-1],\n",
              "   [ 1]])])]"
            ]
          },
          "execution_count": 98,
          "metadata": {},
          "output_type": "execute_result"
        }
      ],
      "source": [
        "# Affichage des vecteurs propres\n",
        "eigenvecs = A.eigenvects()\n",
        "eigenvecs"
      ]
    },
    {
      "cell_type": "markdown",
      "metadata": {},
      "source": [
        "Améliorons le lisibilité de ce résultat."
      ]
    },
    {
      "cell_type": "code",
      "execution_count": 99,
      "metadata": {},
      "outputs": [
        {
          "name": "stdout",
          "output_type": "stream",
          "text": [
            "La valeur propre -2, de multiplicité 1 a pour vecteur propre:\n"
          ]
        },
        {
          "ename": "NameError",
          "evalue": "name 'latex' is not defined",
          "output_type": "error",
          "traceback": [
            "\u001b[0;31m---------------------------------------------------------------------------\u001b[0m",
            "\u001b[0;31mNameError\u001b[0m                                 Traceback (most recent call last)",
            "\u001b[1;32m/media/taamangtchu/MYDATA/Workplace/QisKit/UY1_NE_Qiskit/PHY321_Chapitre0_Neo_Quanticiens_4_V230921.ipynb Cell 137\u001b[0m line \u001b[0;36m9\n\u001b[1;32m      <a href='vscode-notebook-cell:/media/taamangtchu/MYDATA/Workplace/QisKit/UY1_NE_Qiskit/PHY321_Chapitre0_Neo_Quanticiens_4_V230921.ipynb#Y252sZmlsZQ%3D%3D?line=6'>7</a>\u001b[0m \u001b[39mfor\u001b[39;00m vector \u001b[39min\u001b[39;00m vectors :\n\u001b[1;32m      <a href='vscode-notebook-cell:/media/taamangtchu/MYDATA/Workplace/QisKit/UY1_NE_Qiskit/PHY321_Chapitre0_Neo_Quanticiens_4_V230921.ipynb#Y252sZmlsZQ%3D%3D?line=7'>8</a>\u001b[0m     vector \u001b[39m=\u001b[39m vector\u001b[39m/\u001b[39mvector\u001b[39m.\u001b[39mnorm() \u001b[39m# Vecteur propre normalisé\u001b[39;00m\n\u001b[0;32m----> <a href='vscode-notebook-cell:/media/taamangtchu/MYDATA/Workplace/QisKit/UY1_NE_Qiskit/PHY321_Chapitre0_Neo_Quanticiens_4_V230921.ipynb#Y252sZmlsZQ%3D%3D?line=8'>9</a>\u001b[0m     \u001b[39mprint\u001b[39m(latex(vector)) \u001b[39m#impression au format LaTeX    \u001b[39;00m\n\u001b[1;32m     <a href='vscode-notebook-cell:/media/taamangtchu/MYDATA/Workplace/QisKit/UY1_NE_Qiskit/PHY321_Chapitre0_Neo_Quanticiens_4_V230921.ipynb#Y252sZmlsZQ%3D%3D?line=9'>10</a>\u001b[0m \u001b[39mprint\u001b[39m()\n",
            "\u001b[0;31mNameError\u001b[0m: name 'latex' is not defined"
          ]
        }
      ],
      "source": [
        "for eigenvec in eigenvecs :\n",
        "    eigenval = eigenvec[0] # Valeurs propres\n",
        "    multiplicity = eigenvec[1] # Multiplicité\n",
        "    vectors = eigenvec[2] # Vecteurs propre\n",
        "    \n",
        "    print(f'La valeur propre {eigenval}, de multiplicité {multiplicity} a pour vecteur propre:')\n",
        "    for vector in vectors :\n",
        "        vector = vector/vector.norm() # Vecteur propre normalisé\n",
        "        print(latex(vector)) #impression au format LaTeX    \n",
        "    print()\n"
      ]
    },
    {
      "cell_type": "markdown",
      "metadata": {
        "id": "UMKyk2p3VjpF"
      },
      "source": [
        "#### Cas d'une matrice diagonale\n",
        "\n",
        " Le cas idéal est celui d’une matrice diagonale. En effet, dans ce cas, les vecteurs de base sont les vecteurs propres et les éléments de la diagonale sont les valeurs propres.\n",
        "\n",
        "En d'autres termes, si \n",
        "\n",
        "\\begin{equation}\n",
        "A = \\begin{pmatrix} \\lambda_1 & 0 & \\cdots & 0 & \\cdots & 0 \\\\ \\ 0 & \\lambda_2 & \\cdots & 0 & \\cdots & \\vdots \\\\ \\vdots & \\vdots & \\cdots & \\lambda_{n-1} & 0 & 0 \\\\ 0 & 0 & \\cdots & 0 & 0 & \\lambda_n \\end{pmatrix},\n",
        "\\end{equation}\n",
        "\n",
        "alors les scalaires $\\lambda_{1,\\cdots,n}$  sont des valeurs propres de $ A$, associés aux vecteurs de base $\\{|u_1\\rangle, |u_2\\rangle, \\cdots, |u_n\\rangle\\} dont la forme matricielle est :\n",
        "\n",
        "\\begin{align}\n",
        "&|u_1\\rangle=\\begin{pmatrix} 1 \\\\ 0 \\\\ \\vdots\\\\0\\end{pmatrix},\n",
        "&&|u_2\\rangle=\\begin{pmatrix} 0 \\\\ 1 \\\\ \\vdots\\\\0\\end{pmatrix}\n",
        "&\\cdots,|u_n\\rangle=\\begin{pmatrix} 0\\\\0\\\\\\vdots\\\\1\\end{pmatrix}.\n",
        "\\end{align}\n",
        "\n",
        "La base engendrée par les $|u_i\\rangle$ est appellée **base propre** de  $A$.\n",
        "\n",
        "#### Exercice - Valeurs et vecteurs propres\n",
        "\n",
        "Soient  \n",
        "\\begin{align}\n",
        "& A=\\begin{pmatrix} 2 & 5 \\\\ 3 & 4 \\end{pmatrix},\n",
        "&& B=\\begin{pmatrix} 2 & -1 \\\\ -1 & 3 \\end{pmatrix},\n",
        "&&C=\\begin{pmatrix} -1 & -1 & 0 \\\\ 0 & -2 & 0 \\\\ 11 & 0 & 0 \\end{pmatrix},\n",
        "& D=\\begin{pmatrix} 5 & -7 & 7 \\\\  0 & 5 & 0 \\\\ 0 & 7 & -2 \\end{pmatrix}.\n",
        "\\end{align}\n",
        "\n",
        "* Montrer que $|u_1\\rangle=\\begin{pmatrix} 1 \\\\ 1 \\end{pmatrix}$  et $|u_2\\rangle=\\begin{pmatrix} 5 \\\\ -3 \\end{pmatrix}$  sont vecteurs propres de $ A$ Quelles sont les valeurs propres associees? Même question pour $B$  avec $|v_1\\rangle=\\begin{pmatrix} 2 \\\\ \\sqrt{5}-1 \\end{pmatrix}$  et $ |v_2\\rangle=\\begin{pmatrix} 2 \\\\ -\\sqrt{5}-1 \\end{pmatrix}$.\n",
        "  \n",
        "* Montrer que $ \\lambda_1=-2,\\lambda_2=-1,\\lambda_3=0$  sont valeurs propres de $C$. Pour chaque valeur propre, trouver un vecteur propre associé.\n",
        "* Montrer que les vecteurs $ |a\\rangle=\\begin{pmatrix} 3 \\\\ -1 \\\\ -1 \\end{pmatrix},|b\\rangle=\\begin{pmatrix} 0 \\\\ 2 \\\\ 2 \\end{pmatrix}$  et $ |c\\rangle=\\begin{pmatrix} 5 \\\\ 1 \\\\ 1 \\end{pmatrix}$ sont vecteurs propres de $D$.\n",
        "\n",
        "##### Solution\n",
        "\n",
        "1. Montrons que  $ |u_1\\rangle=\\begin{pmatrix} 1 \\\\ 1 \\end{pmatrix} $  et  $|u_2\\rangle=\\begin{pmatrix} 5 \\\\ -3 \\end{pmatrix} $  sont vecteurs propres de $ A$.\n",
        "\n",
        "En effet, on a :  \n",
        "\\begin{align}\n",
        "&A|u_1\\rangle=\\begin{pmatrix}2 & 5 \\\\ 3 & 4 \\end{pmatrix}\\begin{pmatrix} 1 \\\\ 1 \\end{pmatrix}=\\begin{pmatrix} 7 \\\\ 7 \\end{pmatrix}=7|u_1\\rangle, \\\\\n",
        "&A|u_2\\rangle=\\begin{pmatrix}2 & 5 \\\\ 3 & 4 \\end{pmatrix}\\begin{pmatrix} 5 \\\\ -3 \\end{pmatrix}=\\begin{pmatrix} -5 \\\\ 3\\end{pmatrix}=-|u_2\\rangle$.\n",
        "\n",
        "Donc $|u_1\\rangle$ et $|u_2\\rangle$ sont vecteurs propres de $A$ avec respectivement pour valeurs propres $\\lambda_1=7$ et $\\lambda_2=-1$.\n",
        "\n",
        "* On procedera de la meme facon avec la matrice  $B$.\n",
        "\n",
        "2. Montrons que  $\\lambda_1=-2,\\lambda_2=-1,\\lambda_3=0 $  sont valeurs propres de  $C$. Il s'agit de trouver les vecteurs propres $|X_i\\rangle$ de composants $(x_1, x_2, x_3)$ tels que\n",
        "\n",
        "\\begin{equation}\n",
        "C |X_i\\rangle = \\lambda_i|X_i\\rangle,\n",
        "\\end{equation}\n",
        "c-à-d\n",
        "\n",
        "\\begin{align}\n",
        "&\\begin{pmatrix} -1 & -1 & 0 \\\\ 0 & -2 & 0 \\\\ 11 & 0 & 0  \\end{pmatrix}\\begin{pmatrix} x_1 \\\\ x_2 \\\\ x_3 \\end{pmatrix}=\\lambda_i\\begin{pmatrix} x_1 \\\\ x_2 \\\\ x_3 \\end{pmatrix}\n",
        "& \\Leftrightarrow\\begin{pmatrix}-x_1 -x_2  \\\\ -2x_2\\\\ 11x_1 \\end{pmatrix}=\\begin{pmatrix} \\lambda_i x_1 \\\\ \\lambda_i x_2 \\\\ \\lambda_i x_3 \\end{pmatrix}\\Leftrightarrow\\begin{cases} -x_1(1+\\lambda_i) -x_2=0 \\\\ -(2+\\lambda_i)x_2=0\\\\ 11x_1 - \\lambda_i x_3=0 \\end{cases}\n",
        "\\end{align}\n",
        "\n",
        "On trouve sans peine que,\n",
        "\n",
        "* Pour $\\lambda_1=-2 $, $(|X_1\\rangle)^\\dagger = \\begin{pmatrix} 1 & 1 & -\\frac{11}{2}\\end{pmatrix}$;\n",
        "* Pour $ \\lambda_2=-1 $, $(|X_2\\rangle)^\\dagger = \\begin{pmatrix} 1 & 0 & -11\\end{pmatrix}$;\n",
        "* Pour $\\lambda_3=0$, $(|X_3\\rangle)^\\dagger = \\begin{pmatrix} 0 & 0 & 1\\end{pmatrix}$.\n",
        "\n",
        "1. Montrons que les vecteurs  $ |a\\rangle=\\begin{pmatrix} 3 \\\\ -1 \\\\ -1 \\end{pmatrix},\\ |b\\rangle=\\begin{pmatrix} 0 \\\\ 2 \\\\ 2 \\end{pmatrix}$  et  $ |c\\rangle=\\begin{pmatrix} 5 \\\\ 1 \\\\ 1 \\end{pmatrix}$ sont vecteurs propres de $ D $.\n",
        "\n",
        "\\begin{align}\n",
        "&D|a\\rangle=\\begin{pmatrix} 5 & -7 & 7 \\\\  0 & 5 & 0 \\\\ 0 & 7 & -2 \\end{pmatrix}\\begin{pmatrix} 3 \\\\ -1 \\\\ -1 \\end{pmatrix}=\\begin{pmatrix} 15 \\\\ -5 \\\\ -5 \\end{pmatrix}=5|a\\rangle ,\\\\\n",
        "&& D|b\\rangle=\\begin{pmatrix} 5 & -7 & 7 \\\\  0 & 5 & 0 \\\\ 0 & 7 & -2 \\end{pmatrix}\\begin{pmatrix} 0 \\\\ 2 \\\\ 2 \\end{pmatrix}=\\begin{pmatrix} 0 \\\\ 10 \\\\ 10 \\end{pmatrix}=5|b\\rangle ,\\\\\n",
        "& D|c\\rangle = \\begin{pmatrix} 5 & -7 & 7 \\\\  0 & 5 & 0 \\\\ 0 & 7 & -2 \\end{pmatrix}\\begin{pmatrix} 5 \\\\ 1 \\\\ 1 \\end{pmatrix}\n",
        "= 5|c\\rangle .\n",
        "\\end{align}\n",
        "\n",
        "Autrement, $|a\\rangle$, $ |b\\rangle$ et $|c\\rangle$ sont vecteurs propres de $D$ avec la valeur propre  $5$ de multiplicité 3."
      ]
    },
    {
      "cell_type": "markdown",
      "metadata": {
        "id": "bxzFSfwpXNE2"
      },
      "source": [
        "### Caracterisation des valeurs propres\n",
        "\n",
        " **Proposition** Soient  $ A\\in M_n(\\mathbb{K})$ et $\\lambda\\in\\mathbb{K} $. Si $\\lambda $ est une valeur propre de $ A$,\n",
        " \\begin{equation}\n",
        "  \\det(A-\\lambda \\mathbb{I}_n)=0,\n",
        "  \\end{equation}\n",
        "  \n",
        "  $\\mathbb{I}_n$ étant la matrice identité de taille  $ n\\times n $.\n",
        " \n",
        " Il est à noter que quel que soit le vecteur $|\\rangle\\in\\mathbb{K}$, \n",
        " \\begin{equation}\n",
        " \\mathbb{I}_n|X\\rangle=|X\\rangle .\n",
        "  \\end{equation}\n"
      ]
    },
    {
      "cell_type": "markdown",
      "metadata": {
        "id": "5SiWJ4jTXOjf"
      },
      "source": [
        "### Polynome carateristique\n",
        "\n",
        "**Proposition** Soient  $A\\in M_n(\\mathbb{K})$ et $\\lambda\\in\\mathbb{K} $. Le polynome caracteristique de  $ A $  est\n",
        "\n",
        "\\begin{equation}\n",
        "P_A(\\lambda)= \\det(A-\\lambda \\mathbb{I}_n)=0,\n",
        "\\end{equation}\n",
        "\n",
        "Si $\\lambda$ est une valeur propre de $A$ alors $P(\\lambda)=0$.\n",
        "\n",
        "* La somme des valeurs propres vaut  $\\rm{Tr}(A)$;\n",
        "* Le produit des valeurs propres vaut  $\\det(A)$.\n",
        "\n",
        "### Methode pour diagonaliser une matrice\n",
        "\n",
        "Pour diagonaliser la matrice $A$ :\n",
        "\n",
        "1. On calcule d'abord son polynome caracteristique $P_A(\\lambda) $;\n",
        "\n",
        "2. On cherche les racines de $P_A(\\lambda)$. Celles-ci sont les valeurs propres de  $A$;\n",
        "\n",
        "3. Pour chaque valeur propre $\\lambda_i$ de $A$, on cherche un vecteur propre  $ |u_i\\rangle $."
      ]
    },
    {
      "cell_type": "markdown",
      "metadata": {
        "id": "o1nyswSDXZEX"
      },
      "source": [
        " ### Exemple - Valeurs propres\n",
        "\n",
        " Pour $ A=\\begin{pmatrix} 1 & 3 & 3 \\\\ -2 & 11 & -2 \\\\ 8 & -7 & 6 \\end{pmatrix} $, on a\n",
        "\n",
        "\\begin{equation}\n",
        "\\begin{split}\n",
        "P_A(\\lambda) &= \\det(A-\\lambda \\mathbb{I}_3) =\\begin{vmatrix} 1-\\lambda & 3 & 3 \\\\ -2 & 11-\\lambda & -2 \\\\ 8 & -7 & 6-\\lambda \\end{vmatrix} \\\\\n",
        "&= -\\lambda^3 + 18 \\lambda^2 -51\\lambda - 182 =-(\\lambda + 2)(\\lambda - 7)(\\lambda - 13).\n",
        "\\end{split}\n",
        "\\end{equation}\n",
        "\n",
        "Donc les valeurs propres sont $-2$, $7$ et $13$.\n",
        "\n",
        "On peut vérifier que \n",
        "* $ \\det(A)=-2\\times 7\\times 13=-182 $  et \n",
        "* $\\rm{Tr}(A)=-2+7+13=18 $\n",
        "\n",
        "On peut écrire la matrice diagonale de  $ A $  comme suite :\n",
        "\\begin{equation} \n",
        " A=\\begin{pmatrix} -2 & 0 & 0 \\\\ 0 & 7 & 0 \\\\ 0 & 0 & 13 \\end{pmatrix} .\n",
        " \\end{equation}\n",
        "\n",
        "\n",
        " ### Sympy\n",
        "\n"
      ]
    },
    {
      "cell_type": "code",
      "execution_count": null,
      "metadata": {
        "id": "y0p4Soa0YBLn"
      },
      "outputs": [
        {
          "data": {
            "text/latex": [
              "$\\displaystyle \\left[\\begin{matrix}1 & 3 & 3\\\\-2 & 11 & -2\\\\8 & -7 & 6\\end{matrix}\\right]$"
            ],
            "text/plain": [
              "Matrix([\n",
              "[ 1,  3,  3],\n",
              "[-2, 11, -2],\n",
              "[ 8, -7,  6]])"
            ]
          },
          "execution_count": 3,
          "metadata": {},
          "output_type": "execute_result"
        }
      ],
      "source": [
        "#Definition de la matrice A\n",
        "A = Matrix([[1,3,3],[-2,11,-2],[8,-7,6]])\n",
        "A"
      ]
    },
    {
      "cell_type": "code",
      "execution_count": null,
      "metadata": {
        "id": "OniQVotgYAx_"
      },
      "outputs": [
        {
          "data": {
            "text/latex": [
              "$\\displaystyle \\operatorname{PurePoly}{\\left( x^{3} - 18 x^{2} + 51 x + 182, x, domain=\\mathbb{Z} \\right)}$"
            ],
            "text/plain": [
              "PurePoly(x**3 - 18*x**2 + 51*x + 182, x, domain='ZZ')"
            ]
          },
          "execution_count": 4,
          "metadata": {},
          "output_type": "execute_result"
        }
      ],
      "source": [
        "#Determination du polynome caracteristique de A\n",
        "\n",
        "# definition de la variable symbolique, x, du polynome caractéristique\n",
        "#associé à la matrice A à l'aide de la fonction 'symbol'\n",
        "x = Symbol('x')\n",
        "P = A.charpoly(x)\n",
        "#La fontion `charpoly` prend en parametre la variable symbolique, x, et retourne\n",
        "#P, polynome caractéristique de A de parametre x\n",
        "P"
      ]
    },
    {
      "cell_type": "code",
      "execution_count": null,
      "metadata": {
        "id": "FECBNLrpYNEJ",
        "outputId": "b6d4955b-87d6-4c1a-f22c-5772910f9cae"
      },
      "outputs": [
        {
          "name": "stdout",
          "output_type": "stream",
          "text": [
            "Les valeurs propres de Matrix([[-1, -2], [3, 4]]) sont: {2: 1, 1: 1}\n"
          ]
        }
      ],
      "source": [
        "#Calcul des valeurs propres de A\n",
        "print(f\"Les valeurs propres de {A} sont: {A.eigenvals()}\")"
      ]
    },
    {
      "cell_type": "code",
      "execution_count": null,
      "metadata": {
        "id": "P2snvm4IYW_6",
        "outputId": "ab09be27-f109-41d3-c19e-92b3f754b217"
      },
      "outputs": [
        {
          "data": {
            "text/plain": [
              "(Matrix([\n",
              " [-1, 1,  0],\n",
              " [ 0, 1, -1],\n",
              " [ 1, 1,  1]]),\n",
              " Matrix([\n",
              " [-2, 0,  0],\n",
              " [ 0, 7,  0],\n",
              " [ 0, 0, 13]]))"
            ]
          },
          "execution_count": 6,
          "metadata": {},
          "output_type": "execute_result"
        }
      ],
      "source": [
        "#Determination de la matrice diagonale de la matrice A\n",
        "A.diagonalize()"
      ]
    },
    {
      "cell_type": "code",
      "execution_count": null,
      "metadata": {
        "id": "OtY7pXhwaPlk"
      },
      "outputs": [],
      "source": [
        "#Declaration des matrices\n",
        "A = Matrix([[-1,-2],[3,4]])\n",
        "B = Matrix([[4,1],[5,7]])\n",
        "C = Matrix([[1,1,0],[0,2,0],[1,0,3]])\n",
        "D = Matrix([[1,2,0],[2,3,0],[0,0,1]])"
      ]
    },
    {
      "cell_type": "code",
      "execution_count": null,
      "metadata": {
        "id": "0YNMvVHuaY0C",
        "outputId": "b7265298-d5f6-42c9-fa82-9922acb6595e"
      },
      "outputs": [
        {
          "name": "stdout",
          "output_type": "stream",
          "text": [
            "Les valeurs propres de Matrix([[-1, -2], [3, 4]]) sont {2: 1, 1: 1}\n"
          ]
        }
      ],
      "source": [
        "#Cacul des valeurs propres de A\n",
        "print(f\"Les valeurs propres de {A} sont {A.eigenvals()}\" )"
      ]
    },
    {
      "cell_type": "code",
      "execution_count": null,
      "metadata": {
        "id": "eabjFh6DayiY",
        "outputId": "4ee91fd7-2060-4761-b1a0-a49679e0038e"
      },
      "outputs": [
        {
          "name": "stdout",
          "output_type": "stream",
          "text": [
            "Les valeurs propres de Matrix([[4, 1], [5, 7]]) sont {11/2 - sqrt(29)/2: 1, sqrt(29)/2 + 11/2: 1}\n"
          ]
        }
      ],
      "source": [
        "#Cacul des valeurs propres de B\n",
        "print(f\"Les valeurs propres de {B} sont {B.eigenvals()}\" )"
      ]
    },
    {
      "cell_type": "code",
      "execution_count": null,
      "metadata": {
        "id": "r8-JcHWYayXP",
        "outputId": "62d721c4-26ae-4fad-d870-0485236e31c1"
      },
      "outputs": [
        {
          "name": "stdout",
          "output_type": "stream",
          "text": [
            "Les valeurs propres de Matrix([[1, 1, 0], [0, 2, 0], [1, 0, 3]]) sont {2: 1, 1: 1, 3: 1}\n"
          ]
        }
      ],
      "source": [
        "#Cacul des valeurs propres de C\n",
        "print(f\"Les valeurs propres de {C} sont {C.eigenvals()}\" )"
      ]
    },
    {
      "cell_type": "code",
      "execution_count": null,
      "metadata": {
        "id": "KGGVkkLNayLs",
        "outputId": "f53c2b49-0307-4fe0-fc46-c1ae8b907f79"
      },
      "outputs": [
        {
          "name": "stdout",
          "output_type": "stream",
          "text": [
            "Les valeurs propres de Matrix([[1, 2, 0], [2, 3, 0], [0, 0, 1]]) sont {2 - sqrt(5): 1, 2 + sqrt(5): 1, 1: 1}\n"
          ]
        }
      ],
      "source": [
        "#Cacul des valeurs propres de D\n",
        "print(f\"Les valeurs propres de {D} sont {D.eigenvals()}\" )"
      ]
    },
    {
      "cell_type": "code",
      "execution_count": null,
      "metadata": {
        "id": "Ck9B3xAzbC9J",
        "outputId": "93cec16e-af53-45d2-8c94-34bd1c4346a4"
      },
      "outputs": [
        {
          "name": "stdout",
          "output_type": "stream",
          "text": [
            "Le vecteur propre de A associe a  la valeur propre 1 est: Matrix([[-1], [1]])\n",
            "Le vecteur propre de A associe a  la valeur propre 2 est: Matrix([[-2/3], [1]])\n"
          ]
        }
      ],
      "source": [
        "#Calcul des vecteurs propres de A\n",
        "for eigenvector in A.eigenvects():\n",
        "    print(\"Le vecteur propre de A associe à la valeur propre\",\n",
        "          eigenvector[0],\"est:\", eigenvector[2][0])"
      ]
    },
    {
      "cell_type": "code",
      "execution_count": null,
      "metadata": {
        "id": "KMeLVGnebCxB",
        "outputId": "84de8418-ac24-4f5d-a80f-94c86ff095e0"
      },
      "outputs": [
        {
          "name": "stdout",
          "output_type": "stream",
          "text": [
            "Le vecteur propre de B associe a  la valeur propre 11/2 - sqrt(29)/2 est: Matrix([[-sqrt(29)/10 - 3/10], [1]])\n",
            "Le vecteur propre de B associe a  la valeur propre sqrt(29)/2 + 11/2 est: Matrix([[-3/10 + sqrt(29)/10], [1]])\n"
          ]
        }
      ],
      "source": [
        "#Calcul des vecteurs propres de B\n",
        "for eigenvector in B.eigenvects():\n",
        "    print(\"Le vecteur propre de B associe à la valeur propre\",\n",
        "          eigenvector[0],\"est:\", eigenvector[2][0])"
      ]
    },
    {
      "cell_type": "code",
      "execution_count": null,
      "metadata": {
        "id": "06Of10rebCvO",
        "outputId": "05fda61f-7b3e-49af-8734-5a409264869a"
      },
      "outputs": [
        {
          "name": "stdout",
          "output_type": "stream",
          "text": [
            "Le vecteur propre de C associe a  la valeur propre 1 est: Matrix([[-2], [0], [1]])\n",
            "Le vecteur propre de C associe a  la valeur propre 2 est: Matrix([[-1], [-1], [1]])\n",
            "Le vecteur propre de C associe a  la valeur propre 3 est: Matrix([[0], [0], [1]])\n"
          ]
        }
      ],
      "source": [
        "#Calcul des vecteurs propres de C\n",
        "for eigenvector in C.eigenvects():\n",
        "    print(\"Le vecteur propre de C associe à la valeur propre\",\n",
        "          eigenvector[0],\"est:\", eigenvector[2][0])"
      ]
    },
    {
      "cell_type": "code",
      "execution_count": null,
      "metadata": {
        "id": "7l5gqyPLbCpF",
        "outputId": "cfb713db-c357-4ed5-8b91-54d37cc76e99"
      },
      "outputs": [
        {
          "name": "stdout",
          "output_type": "stream",
          "text": [
            "Le vecteur propre de D associe a  la valeur propre 1 est: Matrix([[0], [0], [1]])\n",
            "Le vecteur propre de D associe a  la valeur propre 2 - sqrt(5) est: Matrix([[-sqrt(5)/2 - 1/2], [1], [0]])\n",
            "Le vecteur propre de D associe a  la valeur propre 2 + sqrt(5) est: Matrix([[-1/2 + sqrt(5)/2], [1], [0]])\n"
          ]
        }
      ],
      "source": [
        "#Calcul des vecteurs propres de D\n",
        "for eigenvector in D.eigenvects():\n",
        "    print(\"Le vecteur propre de D associe à la valeur propre\",\n",
        "          eigenvector[0],\"est:\", eigenvector[2][0])"
      ]
    },
    {
      "cell_type": "markdown",
      "metadata": {
        "id": "fg1Lrnzpco43"
      },
      "source": [
        "## Exercices supplementaires\n",
        "\n",
        "1. On donne donne les vecteurs  \n",
        "\\begin{align}\n",
        "&|\\psi\\rangle=\\frac{1}{\\sqrt{3}}(|0\\rangle + |1\\rangle +i|2\\rangle),  \n",
        "& |\\phi\\rangle = \\frac{1}{2}|0\\rangle + \\frac{i}{2}|1\\rangle + \\frac{1}{\\sqrt{2}}|2\\rangle\n",
        "\\end{align}\n",
        "dans la base $\\{|0\\rangle,|1\\rangle,|2\\rangle\\} $.\n",
        "\n",
        "   1. Donner la forme matricielle de  $ |0\\rangle,\\ |1\\rangle,\\ |2\\rangle $.\n",
        "   2. Donner les formes matricielles de  $ |\\psi\\rangle$ et $|\\phi\\rangle $.\n",
        "   3. Vérifier que $|0\\rangle,\\ |1\\rangle, \\|2\\rangle$  sont normés.\n",
        "   4. Déterminer le conjugué de  $ |\\phi\\rangle $.\n",
        "   5. Calculer  $ \\langle\\phi|\\psi\\rangle $.\n",
        "   6. Calculer  $ |\\psi\\rangle\\langle\\phi|$. La matrice obtenue est-elle hermetienne?\n",
        "\n",
        "\n",
        "2. On donne dans la base  $ \\{|0\\rangle,|1\\rangle\\} $  les matrices suivantes :\n",
        "\\begin{align}\n",
        " &\\mathtt{Y}=\\begin{pmatrix} 0 & -i \\\\ i & 0 \\end{pmatrix}, \n",
        " &&\\mathtt{Z}=\\begin{pmatrix} 1 & 0 \\\\ 0 & -1 \\end{pmatrix}, \n",
        " & A=2i|0\\rangle\\langle 0| + 3|0\\rangle\\langle 1|- 2|1\\rangle\\langle 0| + 4|1\\rangle\\langle 1|.\n",
        " \\end{align}\n",
        "\n",
        "   1. Verifier que  $ \\mathtt{Y} $  et  $ \\mathtt{Z} $  sont Hermetiens.\n",
        "   2.  Calculer  $\\rm{Tr}(Y)$  et  $\\rm{Tr}(Z)$.\n",
        "   3. Donner la trace et la forme matricielle de l'operateur $A$ Cet opérateur est-il Hermetien?\n",
        "   4. Calculer  $\\mathtt{Y}^2,\\ \\mathtt{Z}^2,\\ \\mathtt{YZ},\\ \\mathtt{ZY}$  et  $ \\mathtt{YZ-ZY}$.\n",
        "   5. Quelles sont les valeurs propres et les vecteurs propres de $\\mathtt{Z}$?\n",
        "   6. Déterminer les valeurs propres et les vecteurs propres de  $ \\mathtt{Y} $\n",
        "   7. Écrire la matrice de l'opérateur  $\\mathtt{X}$ tel que $\\mathtt{X}|0\\rangle=|1\\rangle,\\ \\mathtt{X}|1\\rangle=|0\\rangle$.  Si  $\\mathtt{X}$  est une porte logique, quelle nom lui donnera-t-on ?\n",
        "   8. Qu’est ce qu’une matrice Unitaire?\n",
        "   9. Montrer que $\\mathtt{Z}$ et $\\mathtt{Y}$ sont des matrices unitaires.\n",
        "   10. Donner les formes vectorielles de $\\mathtt{Z}$ et $\\mathtt{Y}$.\n",
        "\n",
        "3. On donne dans la base $\\{|0\\rangle,|1\\rangle,|2\\rangle\\}$, les matrices suivantes :\n",
        "\n",
        "\\begin{align}\n",
        "& A=\\begin{pmatrix} 1 & 0 & 0 \\\\ 5 & -4 & 0 \\\\ 6 & -6 & 0 \\end{pmatrix},  \n",
        "& B=\\begin{pmatrix} -4 & 5 & 0 \\\\ 0 & 1 & 0 \\\\ -7 & 7 & 3 \\end{pmatrix}.\n",
        "\\end{align}\n",
        "\n",
        "   1. Calculer  $3A,\\ -2B,\\ A^2,\\ [A,B]$.\n",
        "   2. Déterminer les valeurs propres et les vecteurs propres de  $A$.\n",
        "   3. Déterminer les valeurs propres et les vecteurs propres de  $B$.\n",
        "   4. Quand dit-on que deux matrices $A$ et $B$ commutent?\n",
        "   5. Donner une forme de la matrice de $E$ qui commute avec $A$."
      ]
    }
  ],
  "metadata": {
    "colab": {
      "provenance": []
    },
    "kernelspec": {
      "display_name": "qiskit-env",
      "language": "python",
      "name": "qiskit-env"
    },
    "language_info": {
      "codemirror_mode": {
        "name": "ipython",
        "version": 3
      },
      "file_extension": ".py",
      "mimetype": "text/x-python",
      "name": "python",
      "nbconvert_exporter": "python",
      "pygments_lexer": "ipython3",
      "version": "3.10.12"
    }
  },
  "nbformat": 4,
  "nbformat_minor": 0
}
