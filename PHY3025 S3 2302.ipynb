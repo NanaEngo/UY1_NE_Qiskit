{
 "cells": [
  {
   "cell_type": "code",
   "execution_count": 1,
   "id": "2d3c011f-e480-44bd-bfb8-b8d64c38a223",
   "metadata": {},
   "outputs": [],
   "source": [
    "from sympy.physics.quantum.qubit import Qubit, QubitBra, qubit_to_matrix"
   ]
  },
  {
   "cell_type": "markdown",
   "id": "2d9b6446-b977-4507-89de-390b484485bc",
   "metadata": {},
   "source": [
    "1. Representation matricielle"
   ]
  },
  {
   "cell_type": "code",
   "execution_count": 2,
   "id": "8ab426d8-2daa-4029-8acd-dff8becf3add",
   "metadata": {},
   "outputs": [
    {
     "data": {
      "text/latex": [
       "$\\displaystyle {\\left|0\\right\\rangle }{\\left\\langle 1\\right|} + {\\left|1\\right\\rangle }{\\left\\langle 0\\right|}$"
      ],
      "text/plain": [
       "|0><1| + |1><0|"
      ]
     },
     "execution_count": 2,
     "metadata": {},
     "output_type": "execute_result"
    }
   ],
   "source": [
    "X = Qubit(0)*QubitBra(1) + Qubit(1)*QubitBra(0)\n",
    "X"
   ]
  },
  {
   "cell_type": "code",
   "execution_count": 3,
   "id": "4ff6ac33-b801-4fd8-bd92-acee6310e388",
   "metadata": {},
   "outputs": [
    {
     "data": {
      "text/latex": [
       "$\\displaystyle \\left[\\begin{matrix}0 & 1\\\\1 & 0\\end{matrix}\\right]$"
      ],
      "text/plain": [
       "Matrix([\n",
       "[0, 1],\n",
       "[1, 0]])"
      ]
     },
     "execution_count": 3,
     "metadata": {},
     "output_type": "execute_result"
    }
   ],
   "source": [
    "MX = qubit_to_matrix(X, format='sympy')\n",
    "MX"
   ]
  },
  {
   "cell_type": "code",
   "execution_count": 4,
   "id": "07a97a9d-0819-4ab1-9637-faf2f8364e7c",
   "metadata": {},
   "outputs": [
    {
     "data": {
      "text/latex": [
       "$\\displaystyle {\\left|0\\right\\rangle }{\\left\\langle 0\\right|} - {\\left|1\\right\\rangle }{\\left\\langle 1\\right|}$"
      ],
      "text/plain": [
       "|0><0| - |1><1|"
      ]
     },
     "execution_count": 4,
     "metadata": {},
     "output_type": "execute_result"
    }
   ],
   "source": [
    "Z = Qubit(0)*QubitBra(0) - Qubit(1)*QubitBra(1)\n",
    "Z"
   ]
  },
  {
   "cell_type": "code",
   "execution_count": 5,
   "id": "f862ad63-ab5a-4e37-9cbd-e09715d8aba3",
   "metadata": {},
   "outputs": [
    {
     "data": {
      "text/latex": [
       "$\\displaystyle \\left[\\begin{matrix}1 & 0\\\\0 & -1\\end{matrix}\\right]$"
      ],
      "text/plain": [
       "Matrix([\n",
       "[1,  0],\n",
       "[0, -1]])"
      ]
     },
     "execution_count": 5,
     "metadata": {},
     "output_type": "execute_result"
    }
   ],
   "source": [
    "MZ = qubit_to_matrix(Z, format='sympy')\n",
    "MZ"
   ]
  },
  {
   "cell_type": "code",
   "execution_count": 6,
   "id": "3c80c032-5dce-4b8c-9bbe-4e3ba4db9935",
   "metadata": {},
   "outputs": [
    {
     "data": {
      "text/latex": [
       "$\\displaystyle 0.5 \\left({\\left|0\\right\\rangle }{\\left\\langle 0\\right|} + {\\left|1\\right\\rangle }{\\left\\langle 1\\right|}\\right)$"
      ],
      "text/plain": [
       "0.5*(|0><0| + |1><1|)"
      ]
     },
     "execution_count": 6,
     "metadata": {},
     "output_type": "execute_result"
    }
   ],
   "source": [
    "R2 = 1/2*(Qubit(0)*QubitBra(0) + Qubit(1)*QubitBra(1))\n",
    "R2"
   ]
  },
  {
   "cell_type": "code",
   "execution_count": 7,
   "id": "284a8223-8db6-4ed8-8aa2-53ee0a7aba27",
   "metadata": {},
   "outputs": [
    {
     "data": {
      "text/latex": [
       "$\\displaystyle \\left[\\begin{matrix}0.5 & 0\\\\0 & 0.5\\end{matrix}\\right]$"
      ],
      "text/plain": [
       "Matrix([\n",
       "[0.5,   0],\n",
       "[  0, 0.5]])"
      ]
     },
     "execution_count": 7,
     "metadata": {},
     "output_type": "execute_result"
    }
   ],
   "source": [
    "MR2 = qubit_to_matrix(R2, format='sympy')\n",
    "MR2"
   ]
  },
  {
   "cell_type": "code",
   "execution_count": 8,
   "id": "c24eb7f4-4c78-491f-beb4-bf015fd9ed47",
   "metadata": {},
   "outputs": [
    {
     "data": {
      "text/latex": [
       "$\\displaystyle 0.5 \\left({\\left|0\\right\\rangle }{\\left\\langle 0\\right|} + {\\left|1\\right\\rangle }{\\left\\langle 1\\right|}\\right) + 0.5 \\left({\\left|0\\right\\rangle }{\\left\\langle 1\\right|} + {\\left|1\\right\\rangle }{\\left\\langle 0\\right|}\\right)$"
      ],
      "text/plain": [
       "0.5*(|0><0| + |1><1|) + 0.5*(|0><1| + |1><0|)"
      ]
     },
     "execution_count": 8,
     "metadata": {},
     "output_type": "execute_result"
    }
   ],
   "source": [
    "R1 = R2 + 1/2*X\n",
    "R1"
   ]
  },
  {
   "cell_type": "code",
   "execution_count": 9,
   "id": "9325482b-6148-48a2-82f9-1894f445909b",
   "metadata": {},
   "outputs": [
    {
     "data": {
      "text/latex": [
       "$\\displaystyle \\left[\\begin{matrix}0.5 & 0.5\\\\0.5 & 0.5\\end{matrix}\\right]$"
      ],
      "text/plain": [
       "Matrix([\n",
       "[0.5, 0.5],\n",
       "[0.5, 0.5]])"
      ]
     },
     "execution_count": 9,
     "metadata": {},
     "output_type": "execute_result"
    }
   ],
   "source": [
    "MR1 = qubit_to_matrix(R1, format='sympy')\n",
    "MR1"
   ]
  },
  {
   "cell_type": "markdown",
   "id": "d9a80974-804f-4b18-9c56-0f6f1270cad2",
   "metadata": {},
   "source": [
    "2. Pureté quantique"
   ]
  },
  {
   "cell_type": "code",
   "execution_count": 10,
   "id": "e8506bd5-c44c-4381-bdc6-a84819273ccc",
   "metadata": {},
   "outputs": [
    {
     "data": {
      "text/latex": [
       "$\\displaystyle 1.0$"
      ],
      "text/plain": [
       "1.00000000000000"
      ]
     },
     "execution_count": 10,
     "metadata": {},
     "output_type": "execute_result"
    }
   ],
   "source": [
    "(MR1*MR1).trace()"
   ]
  },
  {
   "cell_type": "markdown",
   "id": "bbcbde04-582c-44a7-ba20-892af5894897",
   "metadata": {},
   "source": [
    "* $\\rho_1$ est un état pure ou un superposition cohérente"
   ]
  },
  {
   "cell_type": "code",
   "execution_count": 11,
   "id": "5d8f5a9d-12c5-4a47-8090-9c2c52eb950d",
   "metadata": {},
   "outputs": [
    {
     "data": {
      "text/latex": [
       "$\\displaystyle 0.5$"
      ],
      "text/plain": [
       "0.500000000000000"
      ]
     },
     "execution_count": 11,
     "metadata": {},
     "output_type": "execute_result"
    }
   ],
   "source": [
    "(MR2*MR2).trace()"
   ]
  },
  {
   "cell_type": "markdown",
   "id": "9b907a88-949a-4004-9bff-8a167aaf6804",
   "metadata": {},
   "source": [
    "* $\\rho_2$ est un état mélange statistique ou un mélange incohérente"
   ]
  },
  {
   "cell_type": "markdown",
   "id": "25daef7c-18e9-445a-8c37-9698ab88906c",
   "metadata": {},
   "source": [
    "3. Les composantes du vecteur de Bloch de $\\rho_1$ et $\\rho_2$."
   ]
  },
  {
   "cell_type": "markdown",
   "id": "3bac49b1-70bb-4d0c-b522-f206492c9580",
   "metadata": {},
   "source": [
    "* Les composantes du vecteur de Bloch de $\\rho_1$."
   ]
  },
  {
   "cell_type": "code",
   "execution_count": 12,
   "id": "6c6ba01b-45bd-45b9-90d2-b7bb6c04ee88",
   "metadata": {},
   "outputs": [
    {
     "data": {
      "text/plain": [
       "(1.00000000000000, 0)"
      ]
     },
     "execution_count": 12,
     "metadata": {},
     "output_type": "execute_result"
    }
   ],
   "source": [
    "bx1, bz1 = (MX*MR1).trace(), (MZ*MR1).trace()\n",
    "bx1, bz1"
   ]
  },
  {
   "cell_type": "markdown",
   "id": "483fcfde-5606-4c69-898f-04bf189e042a",
   "metadata": {},
   "source": [
    "* Les composantes du vecteur de Bloch de $\\rho_2$."
   ]
  },
  {
   "cell_type": "code",
   "execution_count": 13,
   "id": "09f75cee-d197-4cea-ad5d-d2af5eee1056",
   "metadata": {},
   "outputs": [
    {
     "data": {
      "text/plain": [
       "(0, 0)"
      ]
     },
     "execution_count": 13,
     "metadata": {},
     "output_type": "execute_result"
    }
   ],
   "source": [
    "bx2, bz2 = (MX*MR2).trace(), (MZ*MR2).trace()\n",
    "bx2, bz2"
   ]
  },
  {
   "cell_type": "markdown",
   "id": "b01df25c-11fa-4f2c-b9f7-60cd944e3b65",
   "metadata": {},
   "source": [
    "## Oscillateur Harmonique"
   ]
  },
  {
   "cell_type": "code",
   "execution_count": 23,
   "id": "8852aaf2-1309-45ef-bf43-9efc67d7aaee",
   "metadata": {
    "tags": []
   },
   "outputs": [],
   "source": [
    "# import SymPy and define symbols\n",
    "import sympy as sp\n",
    "\n",
    "sp.init_printing(use_unicode=True)\n",
    "w = sp.Symbol('omega') \n",
    "h = sp.Symbol('hbar') \n",
    "alpha = sp.Symbol('alpha') \n",
    "beta = sp.Symbol('beta') \n",
    "t = sp.Symbol('t')"
   ]
  },
  {
   "cell_type": "code",
   "execution_count": 21,
   "id": "07eb4b69-e021-49ec-90e0-83e99c2bc0b1",
   "metadata": {
    "tags": []
   },
   "outputs": [
    {
     "ename": "TypeError",
     "evalue": "cannot unpack non-iterable Symbol object",
     "output_type": "error",
     "traceback": [
      "\u001b[0;31m---------------------------------------------------------------------------\u001b[0m",
      "\u001b[0;31mTypeError\u001b[0m                                 Traceback (most recent call last)",
      "Cell \u001b[0;32mIn[21], line 1\u001b[0m\n\u001b[0;32m----> 1\u001b[0m omega_0, t, alpha \u001b[38;5;241m=\u001b[39m sp\u001b[38;5;241m.\u001b[39mSymbol(\u001b[38;5;124m\"\u001b[39m\u001b[38;5;124momega_0, t, alpha\u001b[39m\u001b[38;5;124m\"\u001b[39m)\n",
      "\u001b[0;31mTypeError\u001b[0m: cannot unpack non-iterable Symbol object"
     ]
    }
   ],
   "source": []
  },
  {
   "cell_type": "code",
   "execution_count": 65,
   "id": "d3914921-a470-4229-9d5e-5c1bfafbdd06",
   "metadata": {
    "tags": []
   },
   "outputs": [],
   "source": [
    "# import operator relations and define them\n",
    "from sympy.physics.quantum.boson import BosonOp\n",
    "from sympy.physics.quantum import Dagger\n",
    "from sympy.physics.quantum.operatorordering import normal_ordered_form\n",
    "\n",
    "\n",
    "a = BosonOp('a') # photon annihilation operator\n",
    "ad = Dagger(a) # photon creation operator\n",
    "N = ad*a"
   ]
  },
  {
   "cell_type": "code",
   "execution_count": 15,
   "id": "bd16db91-60d1-4b2c-85e9-b7c414c06289",
   "metadata": {
    "tags": []
   },
   "outputs": [
    {
     "data": {
      "image/png": "[encoded data removed]",
      "text/latex": [
       "$\\displaystyle \\hbar \\omega \\left(0.5 + {{a}^\\dagger} {a}\\right)$"
      ],
      "text/plain": [
       "    ⎛       †  ⎞\n",
       "h̅⋅ω⋅⎝0.5 + a ⋅a⎠"
      ]
     },
     "execution_count": 15,
     "metadata": {},
     "output_type": "execute_result"
    }
   ],
   "source": [
    "H = h*w*(N + 1/2)\n",
    "H"
   ]
  },
  {
   "cell_type": "code",
   "execution_count": 46,
   "id": "cab58bca-f4fe-4752-a78f-24a68ac96820",
   "metadata": {
    "tags": []
   },
   "outputs": [
    {
     "data": {
      "image/png": "[encoded data removed]",
      "text/latex": [
       "$\\displaystyle e^{- i \\omega t \\left(0.5 + {{a}^\\dagger} {a}\\right)}$"
      ],
      "text/plain": [
       "        ⎛       †  ⎞\n",
       " -ⅈ⋅ω⋅t⋅⎝0.5 + a ⋅a⎠\n",
       "ℯ                   "
      ]
     },
     "execution_count": 46,
     "metadata": {},
     "output_type": "execute_result"
    }
   ],
   "source": [
    "# from sympy_quantum_utils   import *\n",
    "\n",
    "U = sp.exp(-sp.I * H * t/h)\n",
    "\n",
    "U"
   ]
  },
  {
   "cell_type": "code",
   "execution_count": 62,
   "id": "70fadaa5-81d7-41dd-be9b-6a80e8b47330",
   "metadata": {
    "tags": []
   },
   "outputs": [
    {
     "data": {
      "text/plain": [
       "<bound method AssocOp.doit of exp(-I*omega*t*(0.5 + Dagger(a)*a))*exp(I*Dagger(omega)*Dagger(t)*(0.5 + Dagger(a)*a))>"
      ]
     },
     "execution_count": 62,
     "metadata": {},
     "output_type": "execute_result"
    }
   ],
   "source": [
    "(U*Dagger(U)).doit"
   ]
  },
  {
   "cell_type": "code",
   "execution_count": 63,
   "id": "babae3f5-de03-4e83-87b6-efb29731e397",
   "metadata": {
    "tags": []
   },
   "outputs": [
    {
     "ename": "AttributeError",
     "evalue": "'exp' object has no attribute 'is_unitary'",
     "output_type": "error",
     "traceback": [
      "\u001b[0;31m---------------------------------------------------------------------------\u001b[0m",
      "\u001b[0;31mAttributeError\u001b[0m                            Traceback (most recent call last)",
      "Cell \u001b[0;32mIn[63], line 1\u001b[0m\n\u001b[0;32m----> 1\u001b[0m \u001b[43mU\u001b[49m\u001b[38;5;241;43m.\u001b[39;49m\u001b[43mis_unitary\u001b[49m\n",
      "\u001b[0;31mAttributeError\u001b[0m: 'exp' object has no attribute 'is_unitary'"
     ]
    }
   ],
   "source": [
    "U.is_unitaryWavefunction"
   ]
  },
  {
   "cell_type": "code",
   "execution_count": 43,
   "id": "d70c9b30-5547-4a21-bb9c-00a8442071ea",
   "metadata": {
    "tags": []
   },
   "outputs": [
    {
     "data": {
      "image/png": "[encoded data removed]",
      "text/latex": [
       "$\\displaystyle \\alpha \\left|\\left( 0,\\right)\\right\\rangle + \\beta \\left|\\left( 2,\\right)\\right\\rangle$"
      ],
      "text/plain": [
       "α⋅|(0,)> + β⋅|(2,)>"
      ]
     },
     "execution_count": 43,
     "metadata": {},
     "output_type": "execute_result"
    }
   ],
   "source": [
    "psi_0 = alpha*BKet((0,)) + beta*BKet((2,))\n",
    "psi_0"
   ]
  },
  {
   "cell_type": "code",
   "execution_count": 43,
   "id": "b01fea56-70fd-401b-9ce2-cf7e53d79095",
   "metadata": {
    "tags": []
   },
   "outputs": [
    {
     "data": {
      "image/png": "[encoded data removed]",
      "text/latex": [
       "$\\displaystyle \\alpha \\left|\\left( 0,\\right)\\right\\rangle + \\beta \\left|\\left( 2,\\right)\\right\\rangle$"
      ],
      "text/plain": [
       "α⋅|(0,)> + β⋅|(2,)>"
      ]
     },
     "execution_count": 43,
     "metadata": {},
     "output_type": "execute_result"
    }
   ],
   "source": [
    "psi_01 = alpha*BKet((0,))\n",
    "psi_02 = beta*BKet((2,))"
   ]
  },
  {
   "cell_type": "code",
   "execution_count": 60,
   "id": "b7558b2a-f4a3-4568-81d4-c62a8b918a48",
   "metadata": {
    "tags": []
   },
   "outputs": [
    {
     "ename": "AttributeError",
     "evalue": "'Mul' object has no attribute 'apply_operator'",
     "output_type": "error",
     "traceback": [
      "\u001b[0;31m---------------------------------------------------------------------------\u001b[0m",
      "\u001b[0;31mAttributeError\u001b[0m                            Traceback (most recent call last)",
      "Cell \u001b[0;32mIn[60], line 1\u001b[0m\n\u001b[0;32m----> 1\u001b[0m psi_t1 \u001b[38;5;241m=\u001b[39m \u001b[43mH\u001b[49m\u001b[38;5;241;43m.\u001b[39;49m\u001b[43mapply_operator\u001b[49m(psi_01)\n",
      "\u001b[0;31mAttributeError\u001b[0m: 'Mul' object has no attribute 'apply_operator'"
     ]
    }
   ],
   "source": [
    "psi_t1 = H.apply_operator(psi_01)"
   ]
  },
  {
   "cell_type": "code",
   "execution_count": null,
   "id": "08e9b14d-ac8d-4ed2-b3b2-a46fbb2eb0ad",
   "metadata": {},
   "outputs": [],
   "source": [
    "from sympWavefunctionWavefunctionWavefunctionWavefunctionWavefunction"
   ]
  },
  {
   "cell_type": "code",
   "execution_count": 52,
   "id": "dabaa20c-1d11-4413-855f-3890be70b309",
   "metadata": {
    "tags": []
   },
   "outputs": [
    {
     "ename": "NameError",
     "evalue": "name 'qapply' is not defined",
     "output_type": "error",
     "traceback": [
      "\u001b[0;31m---------------------------------------------------------------------------\u001b[0m",
      "\u001b[0;31mNameError\u001b[0m                                 Traceback (most recent call last)",
      "Cell \u001b[0;32mIn[52], line 1\u001b[0m\n\u001b[0;32m----> 1\u001b[0m psi_t \u001b[38;5;241m=\u001b[39m \u001b[43mqapply\u001b[49m(U\u001b[38;5;241m*\u001b[39mpsi_0)\n",
      "\u001b[0;31mNameError\u001b[0m: name 'qapply' is not defined"
     ]
    }
   ],
   "source": [
    "H.apply_operator("
   ]
  },
  {
   "cell_type": "code",
   "execution_count": 58,
   "id": "1dcbdc4d-ec2f-43ae-9887-9755bd452936",
   "metadata": {
    "tags": []
   },
   "outputs": [
    {
     "ename": "SyntaxError",
     "evalue": "incomplete input (796819438.py, line 1)",
     "output_type": "error",
     "traceback": [
      "\u001b[0;36m  Cell \u001b[0;32mIn[58], line 1\u001b[0;36m\u001b[0m\n\u001b[0;31m    (U*alpha*BKet((0,)).sp.doit\u001b[0m\n\u001b[0m                               ^\u001b[0m\n\u001b[0;31mSyntaxError\u001b[0m\u001b[0;31m:\u001b[0m incomplete input\n"
     ]
    }
   ],
   "source": [
    "(U*alpha*BKet((0,)).sp.doit"
   ]
  },
  {
   "cell_type": "code",
   "execution_count": 53,
   "id": "5042221f-edab-45ec-855e-cb7dd7315df7",
   "metadata": {
    "tags": []
   },
   "outputs": [
    {
     "data": {
      "image/png": "[encoded data removed]",
      "text/latex": [
       "$\\displaystyle \\sqrt{2} \\left|\\left( 1,\\right)\\right\\rangle$"
      ],
      "text/plain": [
       "√2⋅|(1,)>"
      ]
     },
     "execution_count": 53,
     "metadata": {},
     "output_type": "execute_result"
    }
   ],
   "source": [
    "from sympy.physics.secondquant import B, BKet\n",
    "\n",
    "from sympy.abc import  n\n",
    "\n",
    "\n",
    "B(0).apply_operator(BKet((2,)))"
   ]
  }
 ],
 "metadata": {
  "kernelspec": {
   "display_name": "qiskit-env",
   "language": "python",
   "name": "qiskit-env"
  },
  "language_info": {
   "codemirror_mode": {
    "name": "ipython",
    "version": 3
   },
   "file_extension": ".py",
   "mimetype": "text/x-python",
   "name": "python",
   "nbconvert_exporter": "python",
   "pygments_lexer": "ipython3",
   "version": "3.10.9"
  }
 },
 "nbformat": 4,
 "nbformat_minor": 5
}
