{
 "cells": [
  {
   "cell_type": "markdown",
   "id": "352161bc-518f-4ae0-b01f-3479558905cf",
   "metadata": {},
   "source": [
    "UE: PHY_4268_Evaluation_Sommative\n",
    "\n",
    "Noms et prenoms:NIMPAH MITTERAND\n",
    "\n",
    "Matricule:13K2208\n",
    "\n",
    "Email:mitterand.nimpah@facsciences_uy1.com\n",
    "\n",
    "Department of Physics - Faculty of Science - University of Yaoundé I\n",
    "\n",
    "Nom du Laboratoire: PHYSIQUE ATOMIQUE ET BIOPHYSIQUE\n",
    "\n",
    "Date:19 Juin 2023\n"
   ]
  },
  {
   "cell_type": "code",
   "execution_count": 2,
   "id": "ccf60d68-9579-4a03-b9f5-79e79cf9df30",
   "metadata": {},
   "outputs": [
    {
     "data": {
      "text/html": [
       "<h3>Version Information</h3><table><tr><th>Qiskit Software</th><th>Version</th></tr><tr><td><code>qiskit-terra</code></td><td>0.23.3</td></tr><tr><td><code>qiskit-aer</code></td><td>0.12.0</td></tr><tr><td><code>qiskit-ibmq-provider</code></td><td>0.20.2</td></tr><tr><td><code>qiskit</code></td><td>0.42.1</td></tr><tr><td><code>qiskit-nature</code></td><td>0.6.0</td></tr><tr><td><code>qiskit-machine-learning</code></td><td>0.5.0</td></tr><tr><th>System information</th></tr><tr><td>Python version</td><td>3.10.9</td></tr><tr><td>Python compiler</td><td>GCC 11.2.0</td></tr><tr><td>Python build</td><td>main, Jan 11 2023 15:21:40</td></tr><tr><td>OS</td><td>Linux</td></tr><tr><td>CPUs</td><td>2</td></tr><tr><td>Memory (Gb)</td><td>2.874774932861328</td></tr><tr><td colspan='2'>Mon Jun 19 14:33:23 2023 CEST</td></tr></table>"
      ],
      "text/plain": [
       "<IPython.core.display.HTML object>"
      ]
     },
     "metadata": {},
     "output_type": "display_data"
    }
   ],
   "source": [
    "import qiskit.tools.jupyter\n",
    "\n",
    "%qiskit_version_table"
   ]
  },
  {
   "cell_type": "markdown",
   "id": "637e70cd-66b7-402f-a699-8e4a55c6629f",
   "metadata": {},
   "source": [
    "### # VQE avec un Hardware Efficient Ansatz (HEA)\n",
    "\n",
    " ###  1. Utiliser  `qiskit.circuit.library.EfficientSU2` pour reproduire le Hardware Efficient Ansatz (HEA) suivant : "
   ]
  },
  {
   "cell_type": "code",
   "execution_count": 3,
   "id": "a66a71a0-1e03-49e5-abb8-eef472e9a8a2",
   "metadata": {},
   "outputs": [],
   "source": [
    "from qiskit import QuantumCircuit \n",
    "from qiskit.quantum_info import Statevector\n",
    "from qiskit.quantum_info.operators import Operator, Pauli\n",
    "from qiskit.visualization import array_to_latex, plot_bloch_multivector, plot_histogram, visualize_transition \n",
    "from math import pi\n",
    "import numpy as np\n",
    "from qiskit.circuit import ParameterVector\n",
    "from qiskit.circuit import Parameter\n",
    "theta= Parameter('θ')\n"
   ]
  },
  {
   "cell_type": "code",
   "execution_count": 4,
   "id": "d18a48a7-7cee-4832-9eaa-2229c996eeda",
   "metadata": {},
   "outputs": [
    {
     "data": {
      "image/png": "[encoded data removed]",
      "text/plain": [
       "<Figure size 850.057x367.889 with 1 Axes>"
      ]
     },
     "execution_count": 4,
     "metadata": {},
     "output_type": "execute_result"
    }
   ],
   "source": [
    "qb1 = QuantumCircuit(4)\n",
    "qb1.rx(theta,0)\n",
    "qb1.y(0)\n",
    "qb1.rx(theta,1)\n",
    "qb1.y(1)\n",
    "qb1.rx(theta,2)\n",
    "qb1.y(2)\n",
    "qb1.rx(theta,3)\n",
    "qb1.y(3)\n",
    "qb1.cx(3,0)\n",
    "qb1.cx(0,1)\n",
    "qb1.cx(1,2)\n",
    "qb1.cx(2,3)\n",
    "qb1.rx(theta,0)\n",
    "qb1.y(0)\n",
    "qb1.rx(theta,1)\n",
    "qb1.y(1)\n",
    "qb1.rx(theta,2)\n",
    "qb1.y(2)\n",
    "qb1.rx(theta,3)\n",
    "qb1.y(3)\n",
    "\n",
    "qb1.draw('mpl',initial_state=True)"
   ]
  },
  {
   "cell_type": "markdown",
   "id": "93213fea-6f6e-4359-8b51-7a58e57beb53",
   "metadata": {},
   "source": [
    "### 2. Utiliser ce HEA (que l'on nommera `SU2ansatz`) dans l'algorithme VQE, définit ci-dessous par la fonction `algorithm(problem, mapper, optimizer)`, pour calculer l'état fondamental de la molécule $H_2$."
   ]
  },
  {
   "cell_type": "code",
   "execution_count": 5,
   "id": "e17672c6-2544-49bb-b4de-75f279441f5b",
   "metadata": {},
   "outputs": [],
   "source": [
    "from qiskit.primitives import Estimator\n",
    "from qiskit.algorithms.minimum_eigensolvers import VQE\n",
    "from qiskit_nature.second_q.algorithms import GroundStateEigensolver\n",
    "\n",
    "import numpy as np\n",
    "\n",
    "def algorithm(problem, mapper, optimizer):\n",
    "    \"\"\" Setup VQE solver algorithm\n",
    "\n",
    "    Args:\n",
    "        problem : Electronic Structure Problem\n",
    "        mapper : qubit mapper \n",
    "        optimizer : optimizer\n",
    "\n",
    "    Returns: vqe solver algorithm\n",
    "    \"\"\"    \n",
    "    \n",
    "    #ansatz\n",
    "    ansatz = SU2ansatz # previously constructed\n",
    "    \n",
    "    #VQE algorithm solver\n",
    "    vqe_solver = VQE(Estimator(), ansatz, optimizer)\n",
    "    vqe_solver.initial_point = np.zeros(ansatz.num_parameters)\n",
    " \n",
    "    # Ground state computation using a minimum eigensolver\n",
    "    algorithm = GroundStateEigensolver(mapper, vqe_solver)\n",
    "       \n",
    "    # Compute Ground State properties.\n",
    "    algorithm = algorithm.solve(problem)\n",
    "    \n",
    "    return algorithm"
   ]
  },
  {
   "cell_type": "code",
   "execution_count": 6,
   "id": "061d0e57-fa9e-4cad-9777-78d7779001a5",
   "metadata": {},
   "outputs": [
    {
     "ename": "SyntaxError",
     "evalue": "invalid syntax (1240299955.py, line 1)",
     "output_type": "error",
     "traceback": [
      "\u001b[0;36m  Cell \u001b[0;32mIn[6], line 1\u001b[0;36m\u001b[0m\n\u001b[0;31m    rom qiskit_nature.units import DistanceUnit\u001b[0m\n\u001b[0m        ^\u001b[0m\n\u001b[0;31mSyntaxError\u001b[0m\u001b[0;31m:\u001b[0m invalid syntax\n"
     ]
    }
   ],
   "source": [
    "rom qiskit_nature.units import DistanceUnit\n",
    "from qiskit_nature.second_q.drivers import PySCFDriver\n",
    "from qiskit_nature.second_q.transformers import FreezeCoreTransformer\n",
    "\n",
    "H2_driver = PySCFDriver(\n",
    "    atom='H .0 .0 -0.3625; H .0 .0 0.3625',\n",
    "    basis=\"sto3g\",\n",
    "    charge=0,\n",
    "    spin=0,\n",
    "    unit=DistanceUnit.ANGSTROM,\n",
    ")\n",
    "# Electronic structure problem\n",
    "H2_problem = H2_driver.run()\n",
    "transformer = FreezeCoreTransformer()\n",
    "H2_problem = transformer.transform(H2_problem)"
   ]
  },
  {
   "cell_type": "code",
   "execution_count": 7,
   "id": "9933108d-63a9-4ca1-9f54-eed83e0a17f6",
   "metadata": {},
   "outputs": [],
   "source": [
    "from pyscf import gto, scf, mcscf\n",
    "from pyscf.mcscf import avas #AVAS method to construct mcscf active space\n",
    "\n",
    "from qiskit_nature_pyscf import QiskitSolver"
   ]
  },
  {
   "cell_type": "code",
   "execution_count": 2,
   "id": "3e713e98-ebf0-4702-9d59-86e632d9b398",
   "metadata": {},
   "outputs": [],
   "source": [
    "from qiskit_nature.second_q.mappers import JordanWignerMapper\n",
    "from qiskit_nature.second_q.mappers import TaperedQubitMapper\n",
    "from qiskit.algorithms.optimizers import SLSQP\n"
   ]
  },
  {
   "cell_type": "code",
   "execution_count": 9,
   "id": "00b6f848-d48d-4268-9934-50090464a86d",
   "metadata": {},
   "outputs": [],
   "source": [
    "#  Initialisation de la structure moléculaire\n",
    "H2_mol = gto.M(atom=\"H 0 0 0; H 0 0 .735\", basis=\"sto-3g\")"
   ]
  },
  {
   "cell_type": "code",
   "execution_count": null,
   "id": "4e0ebff5-fb04-403a-b8a3-f63b3f5c15af",
   "metadata": {},
   "outputs": [],
   "source": [
    "# Calculs HF \n",
    "H2_h_f = scf.RHF(H2_mol).run()\n",
    "\n",
    "# Calculs post-HF\n",
    "norb, nelec, mo =avas.avas(H2_h_f,['H 1s','H 1s'])\n",
    "\n",
    "H2_cas = mcscf.CASCI(H2_h_f, norb, nelec)\n",
    "\n",
    "# Intégration de l'algorithme quantique\n",
    "mapper = ParityMapper()\n",
    "optimizer = SLSQP()\n",
    "H2_cas.fcisolver = QiskitSolver(algorithm(mapper, optimizer))\n",
    "\n",
    "H2_cas.run()"
   ]
  },
  {
   "cell_type": "code",
   "execution_count": 11,
   "id": "278e5f37-338a-4912-8d9d-dac932efd50c",
   "metadata": {},
   "outputs": [],
   "source": [
    "from qiskit_nature.second_q.circuit.library import HartreeFock, UCCSD\n",
    "\n",
    "def ansatz(converter):\n",
    "    \"\"\"Ansatz function\n",
    "\n",
    "    Args:\n",
    "        converter : the output of the function qubit_converter(mapper)\n",
    "\n",
    "    Returns: The anstatz\n",
    "    \"\"\"    \n",
    "    \n",
    "    ansatz = UCCSD(\n",
    "        H2_problem.num_spatial_orbitals,\n",
    "        H2_problem.num_particles,\n",
    "        converter,\n",
    "        initial_state=HartreeFock(\n",
    "            H2_problem.num_spatial_orbitals,\n",
    "            H2_problem.num_particles,\n",
    "            converter,\n",
    "        ),\n",
    "    )\n",
    "    return ansatz"
   ]
  },
  {
   "cell_type": "code",
   "execution_count": 12,
   "id": "1a14464e-5b73-471b-910d-8b94cfbd1e09",
   "metadata": {},
   "outputs": [
    {
     "ename": "NameError",
     "evalue": "name 'problem' is not defined",
     "output_type": "error",
     "traceback": [
      "\u001b[0;31m---------------------------------------------------------------------------\u001b[0m",
      "\u001b[0;31mNameError\u001b[0m                                 Traceback (most recent call last)",
      "Cell \u001b[0;32mIn[12], line 1\u001b[0m\n\u001b[0;32m----> 1\u001b[0m hamiltonian \u001b[38;5;241m=\u001b[39m \u001b[43mproblem\u001b[49m\u001b[38;5;241m.\u001b[39mhamiltonian\n\u001b[1;32m      3\u001b[0m coefficients \u001b[38;5;241m=\u001b[39m hamiltonian\u001b[38;5;241m.\u001b[39melectronic_integrals\n\u001b[1;32m      4\u001b[0m \u001b[38;5;28mprint\u001b[39m(coefficients\u001b[38;5;241m.\u001b[39malpha)\n",
      "\u001b[0;31mNameError\u001b[0m: name 'problem' is not defined"
     ]
    }
   ],
   "source": [
    "hamiltonian = problem.hamiltonian\n",
    "\n",
    "coefficients = hamiltonian.electronic_integrals\n",
    "print(coefficients.alpha)\n"
   ]
  },
  {
   "cell_type": "markdown",
   "id": "56223d14-fabe-45b9-a301-7dbdb6fd187f",
   "metadata": {},
   "source": [
    "### support Vector REgression to predict polarity of molecules"
   ]
  },
  {
   "cell_type": "markdown",
   "id": "9bdf7ff5-8d10-45ab-94f6-ac43c858b760",
   "metadata": {},
   "source": [
    "Write a python script that use a support vector regression (SVR) model to predict TPSA (Topological polar surface area, a physicochemical property describing the polarity of molecules) from molecules of the ZING Dataset contained in the file '.Zn10.txt'. The input - structural feature of molecules is Morgan fingerprint and the output is TPSA.\n",
    "\n",
    "We recall that the molecular fingerprint represents the substructures of a molecule (array) as a vector of binary numbers. It is a molecular structure descriptor to use as input to reveal the relationship between molecular structure and properties, called Quantitative Structure-Activity Relationships (QSAR).\n",
    "\n",
    "The workflow is\n",
    "\n",
    "    Get molecular fingerprints of each molecule\n",
    "    Split the dataset to training set and test set\n",
    "    Train a SVR model\n",
    "    Check the accuracy of prediction with 𝑅²\n",
    "\n",
    "    and mean-square error\n",
    "    Visualize the results from the model.\n",
    "\n",
    "The various necessaries libraries and modules will be import only where they are needed.\n"
   ]
  },
  {
   "cell_type": "code",
   "execution_count": 13,
   "id": "aecc8c21-ce58-4ca2-aadf-7753ada4a6d3",
   "metadata": {},
   "outputs": [],
   "source": [
    "# Import libraries \n",
    "import numpy as np\n",
    "#Permet de tracer\n",
    "import matplotlib.pyplot as plt\n",
    "#bibliotheque\n",
    "import pandas as pd \n",
    "import os\n",
    "################################################################################\n",
    "from rdkit import Chem, DataStructs\n",
    "from rdkit.Chem import AllChem, PandasTools, Descriptors"
   ]
  },
  {
   "cell_type": "code",
   "execution_count": 14,
   "id": "0a0084f5-66cf-46fd-933a-43b8fdc3e60b",
   "metadata": {},
   "outputs": [
    {
     "name": "stdout",
     "output_type": "stream",
     "text": [
      "Requirement already satisfied: rdkit in /home/nimpah/miniconda3/lib/python3.10/site-packages (2023.3.1)\n",
      "Requirement already satisfied: Pillow in /home/nimpah/miniconda3/lib/python3.10/site-packages (from rdkit) (9.4.0)\n",
      "Requirement already satisfied: numpy in /home/nimpah/miniconda3/lib/python3.10/site-packages (from rdkit) (1.23.5)\n",
      "Note: you may need to restart the kernel to use updated packages.\n"
     ]
    }
   ],
   "source": [
    "pip install 'rdkit'"
   ]
  },
  {
   "cell_type": "code",
   "execution_count": null,
   "id": "0ed66b03-a941-43c5-b432-90a6ef9a60db",
   "metadata": {},
   "outputs": [],
   "source": [
    "#permet de ressortir la molecule\n",
    "smi = 'O=C(C)Oc1ccccc1C(=O)O'\n",
    "m = Chem.MolFromSmiles(smi) # Convert smiles to molecule\n",
    "m"
   ]
  },
  {
   "cell_type": "code",
   "execution_count": null,
   "id": "c5ef8337-6008-436f-a548-9f921eaf4953",
   "metadata": {},
   "outputs": [],
   "source": [
    "fps = []\n",
    "fp = AllChem.GetMorganFingerprintAsBitVect(m, 2, nBits=1024) \n",
    "# the number 2 denotes the number of iterations in Morgan algorithm.\n",
    "\n",
    "fp_arr = np.zeros((1,))"
   ]
  },
  {
   "cell_type": "code",
   "execution_count": null,
   "id": "24ab4f32-9319-4bd9-bcdd-dd87a4fae357",
   "metadata": {},
   "outputs": [],
   "source": [
    "PATH = os.getcwd()\n",
    "data_path = os.path.join(PATH, './Dataset/smilesZn100.txt')"
   ]
  },
  {
   "cell_type": "code",
   "execution_count": null,
   "id": "fb21e60e-b128-409c-a6f4-a289ba0e35ea",
   "metadata": {},
   "outputs": [],
   "source": [
    "with open(data_path, 'r') as f:\n",
    "    content = f.readlines()\n",
    "    smile = [smi.split() for smi in content]\n",
    "    \n",
    "smile"
   ]
  },
  {
   "cell_type": "code",
   "execution_count": null,
   "id": "b87c79ef-67a1-492d-ae15-544e4d593d42",
   "metadata": {},
   "outputs": [],
   "source": [
    "df = pd.DataFrame(data=smile, columns=['Smiles'])\n",
    "#ici on sectionne notre base de donnee via df1\n",
    "df1 = df.iloc[:1000,:]#.values nous donne les valeurs\n",
    "df1\n",
    "#si on me demande de travailler avec les 1000 premiers valeurs j aurais par exemple df1 = df.iloc[:1000,:]"
   ]
  },
  {
   "cell_type": "code",
   "execution_count": null,
   "id": "9e8fd644-182f-4ce9-8a35-8100e2f03cd6",
   "metadata": {},
   "outputs": [],
   "source": [
    "def calculate_descriptors(mol):\n",
    "    mw = Descriptors.MolWt(mol)\n",
    "    logp = Descriptors.MolLogP(mol)\n",
    "    hbd = Descriptors.NumHDonors(mol)\n",
    "    hba = Descriptors.NumHAcceptors(mol)\n",
    "    psa = Descriptors.TPSA(mol)\n",
    "    rb = Descriptors.NumRotatableBonds(mol)\n",
    "    rg = Descriptors.NumAromaticRings(mol)\n",
    "    qed = Chem.QED.qed(mol)\n",
    "    return [mw, logp, hbd, hba, psa, rg, rb, qed]"
   ]
  },
  {
   "cell_type": "code",
   "execution_count": null,
   "id": "1f515bc4-6708-4be1-b9c0-f65b40f2715c",
   "metadata": {},
   "outputs": [],
   "source": [
    "data.isnull().sum()"
   ]
  },
  {
   "cell_type": "code",
   "execution_count": null,
   "id": "b7d75fab-4164-4650-9a3a-0390a01dfa49",
   "metadata": {},
   "outputs": [],
   "source": [
    "fps = []\n",
    "for mol in molecule:\n",
    "    fp = AllChem.GetMorganFingerprintAsBitVect(mol, 2, nBits=1024)\n",
    "    fp_arr = np.zeros((1,))\n",
    "    DataStructs.ConvertToNumpyArray(fp, fp_arr)\n",
    "    fps.append(fp)\n",
    "#"
   ]
  },
  {
   "cell_type": "code",
   "execution_count": null,
   "id": "d0b1999c-1060-4b5c-82d0-dee45db606cf",
   "metadata": {},
   "outputs": [],
   "source": [
    "fps = np.asarray(fps)\n",
    "fps\n",
    "#"
   ]
  },
  {
   "cell_type": "code",
   "execution_count": null,
   "id": "c88d2fa5-c6fb-4cd7-b5f9-eb9a2b6be352",
   "metadata": {},
   "outputs": [],
   "source": [
    "fps.shape\n",
    "#taille de nos fingerprints"
   ]
  },
  {
   "cell_type": "markdown",
   "id": "62e2d4ed-6924-420c-b85d-95c93e2a5deb",
   "metadata": {},
   "source": [
    "2. Split the dataset to training set and test set"
   ]
  },
  {
   "cell_type": "code",
   "execution_count": null,
   "id": "2bf4c09d-690f-4df3-9da4-4f2ffd09ba1d",
   "metadata": {},
   "outputs": [],
   "source": [
    "logp = data.iloc[:,3].values"
   ]
  },
  {
   "cell_type": "code",
   "execution_count": null,
   "id": "42f9f025-c189-492a-83d1-031307854847",
   "metadata": {},
   "outputs": [],
   "source": [
    "logp.shape[0] == fps.shape[0]"
   ]
  },
  {
   "cell_type": "code",
   "execution_count": null,
   "id": "3973eb83-8fea-45b3-8866-76c6f8ad735e",
   "metadata": {},
   "outputs": [],
   "source": [
    "from sklearn.model_selection import train_test_split\n",
    "\n",
    "seed = np.random.seed(123)\n",
    "X_train, X_test, y_train, y_test = train_test_split(fps, logp, train_size=0.8, random_state=seed)"
   ]
  },
  {
   "cell_type": "code",
   "execution_count": null,
   "id": "f01e22f0-10e6-47c1-9a91-d32038ea6983",
   "metadata": {},
   "outputs": [],
   "source": [
    "3. Train a SVR model"
   ]
  },
  {
   "cell_type": "code",
   "execution_count": null,
   "id": "baea006e-5da3-4ee6-bc4c-42f9eb3dd6c9",
   "metadata": {},
   "outputs": [],
   "source": [
    "from sklearn.svm import SVR\n",
    "\n",
    "svr = SVR()\n",
    "_ = svr.fit(X_train, y_train)"
   ]
  },
  {
   "cell_type": "code",
   "execution_count": null,
   "id": "f1a90ee2-7c04-4110-8b1b-9bc0f6c251ac",
   "metadata": {},
   "outputs": [],
   "source": [
    "from sklearn.metrics import mean_squared_error, r2_score\n",
    "\n",
    "logp_predict = svr.predict(X_test)\n",
    "r2 = r2_score(y_test, logp_predict)\n",
    "mse = mean_squared_error(y_test, logp_predict)\n",
    "\n",
    "print('The r2_score is {} '.format(r2),'and the mean square error is {}'.format(mse))\n",
    "#pour afficher les scores"
   ]
  },
  {
   "cell_type": "markdown",
   "id": "f892df02-a8ce-4ef8-955f-41b4f1986cae",
   "metadata": {},
   "source": [
    "5. Validate the trained model using test-set\n",
    "si r2 est superieur ou egale a 0.9 le modele est performant dans le cas contraire le moedele nest pas performa"
   ]
  },
  {
   "cell_type": "code",
   "execution_count": null,
   "id": "d011c489-7d84-4c52-be3c-3e3a3b913b34",
   "metadata": {
    "jupyter": {
     "source_hidden": true
    },
    "tags": []
   },
   "outputs": [],
   "source": [
    "from scipy import stats\n",
    "\n",
    "vect_norm, intercept, r_value, p_value, std_error = stats.linregress(y_test, logp_predict)\n",
    "fx = vect_norm * y_test + intercept\n",
    "\n",
    "plt.scatter(y_test, logp_predict, color='green', s=2)\n",
    "plt.plot(y_test, fx, label='Predicted logP ='+str(round(vect_norm,2))+'*True logP +'+str(round(intercept,2)), linewidth=2)\n",
    "plt.xlabel('True logP')\n",
    "plt.ylabel('Predicted logP')\n",
    "plt.legend()\n",
    "plt.show()\n",
    "# pour visualiser"
   ]
  },
  {
   "cell_type": "markdown",
   "id": "7f4f00ef-edef-4515-bdd9-987310fc9a1f",
   "metadata": {},
   "source": [
    "# Calculer l'état fondamental de la molécule de phenylsulfonyl-carbazole (PSPCz)\n",
    "\n",
    "Les calculateurs quantiques pourraient être des outils inestimables pour étudier la structure électronique et les propriétés dynamiques de molécules et de matériaux complexes, car il est plus logique de modéliser des systèmes de la physique quantique sur un dispositif quantique que sur un calculateur classique. Le phenylsulfonyl-carbazole (PSPCz) dont la formule moléculaire est $C_{18}H_{13}NO_2S$ et son SMILES isomérique est C1=CC=C(C=C1)S(=O)(=O)C2=CC=CC3=C2NC4=CC=CC=C34, a des propriétés émettrices utiles de fluorescence retardée activée thermiquement (TADF) pour les applications de diodes électroluminescentes organiques (OLED). Son Hamiltonien en représentation de Pauli $\\{\\mathtt{I,\\,X,\\,Y,\\,Z}\\}$ est\n",
    "\n",
    "$$ \\mathtt{H} = h_1(\\mathtt{I}\\otimes\\mathtt{I}) + h_2(\\mathtt{Z}\\otimes\\mathtt{I} - \\mathtt{I}\\otimes\\mathtt{Z}) + h_3(\\mathtt{Z}\\otimes\\mathtt{Z}) + h_4(\\mathtt{x}\\otimes\\mathtt{X}) + h_5(\\mathtt{X}\\otimes\\mathtt{I} + \\mathtt{I}\\otimes\\mathtt{X} + \\mathtt{X}\\otimes\\mathtt{Z} - \\mathtt{Z}\\otimes\\mathtt{X}),$$\n",
    "\n",
    "\n",
    "où les coefficients \n",
    "$$h_1 = -0.518418,\\, h_2 = -0.136555,\\, h_3 = -0.025866,\\, h_4 = 0.015725,\\, h_5 = -0.000296.$$\n",
    "\n",
    "1. Utilisons `rdkit.Chem` pour représenter en 2D de molécule PSPCz à partir de son SMILES."
   ]
  },
  {
   "cell_type": "code",
   "execution_count": null,
   "id": "3dfab560-ad92-4879-ad27-8f3c44833779",
   "metadata": {},
   "outputs": [],
   "source": []
  },
  {
   "cell_type": "code",
   "execution_count": null,
   "id": "c6a60db7-aa82-436f-b894-23f3b2eda31f",
   "metadata": {},
   "outputs": [],
   "source": []
  },
  {
   "cell_type": "code",
   "execution_count": null,
   "id": "4a8ae37c-c1fc-4aa6-b16d-1826a890e78e",
   "metadata": {},
   "outputs": [],
   "source": []
  },
  {
   "cell_type": "code",
   "execution_count": null,
   "id": "c58076b6-4b17-4305-b0cc-7bd29252b777",
   "metadata": {},
   "outputs": [],
   "source": []
  },
  {
   "cell_type": "code",
   "execution_count": null,
   "id": "b7825347-e9dc-4d85-96a9-2e51daf91ed9",
   "metadata": {},
   "outputs": [],
   "source": []
  },
  {
   "cell_type": "code",
   "execution_count": null,
   "id": "bfed899b-417f-4f22-84e1-e6d3e72ef171",
   "metadata": {},
   "outputs": [],
   "source": []
  },
  {
   "cell_type": "code",
   "execution_count": null,
   "id": "2fd58e22-575c-41af-84d3-c6e5212ba63f",
   "metadata": {},
   "outputs": [],
   "source": []
  },
  {
   "cell_type": "code",
   "execution_count": null,
   "id": "88b35ef5-23d6-4cd4-be39-8f84c1dd14ca",
   "metadata": {},
   "outputs": [],
   "source": []
  },
  {
   "cell_type": "code",
   "execution_count": null,
   "id": "adf214ea-894f-47f1-a469-06c90bbe2ccc",
   "metadata": {},
   "outputs": [],
   "source": []
  },
  {
   "cell_type": "code",
   "execution_count": null,
   "id": "a859d7f5-1655-46ae-af53-1cec998b53d3",
   "metadata": {},
   "outputs": [],
   "source": []
  },
  {
   "cell_type": "code",
   "execution_count": null,
   "id": "768e4bd3-7fc2-49c7-88e1-b4a408312fdb",
   "metadata": {},
   "outputs": [],
   "source": []
  },
  {
   "cell_type": "code",
   "execution_count": null,
   "id": "331d6c24-a615-4888-a75b-cd885925852c",
   "metadata": {},
   "outputs": [],
   "source": []
  },
  {
   "cell_type": "code",
   "execution_count": null,
   "id": "abc4467c-567e-4c05-b6b3-601806d71f4e",
   "metadata": {},
   "outputs": [],
   "source": []
  },
  {
   "cell_type": "code",
   "execution_count": null,
   "id": "18a261e4-fbc0-4413-8ad8-b5f40c0f45b4",
   "metadata": {},
   "outputs": [],
   "source": []
  },
  {
   "cell_type": "code",
   "execution_count": null,
   "id": "b785c365-8c97-48f7-8e09-39bee80144dc",
   "metadata": {},
   "outputs": [],
   "source": []
  },
  {
   "cell_type": "code",
   "execution_count": null,
   "id": "4feeb7a2-2c4d-482f-8e3c-1d99423576fc",
   "metadata": {},
   "outputs": [],
   "source": []
  },
  {
   "cell_type": "code",
   "execution_count": null,
   "id": "43729a99-a66d-46b3-a030-35f4765b023b",
   "metadata": {},
   "outputs": [],
   "source": []
  },
  {
   "cell_type": "code",
   "execution_count": null,
   "id": "ddc75512-5e61-4eb3-9ab8-adebac0c2a2d",
   "metadata": {},
   "outputs": [],
   "source": []
  },
  {
   "cell_type": "code",
   "execution_count": null,
   "id": "f6d4235d-f694-4549-866b-d846e076a389",
   "metadata": {},
   "outputs": [],
   "source": []
  }
 ],
 "metadata": {
  "kernelspec": {
   "display_name": "Python 3 (ipykernel)",
   "language": "python",
   "name": "python3"
  },
  "language_info": {
   "codemirror_mode": {
    "name": "ipython",
    "version": 3
   },
   "file_extension": ".py",
   "mimetype": "text/x-python",
   "name": "python",
   "nbconvert_exporter": "python",
   "pygments_lexer": "ipython3",
   "version": "3.10.9"
  }
 },
 "nbformat": 4,
 "nbformat_minor": 5
}
