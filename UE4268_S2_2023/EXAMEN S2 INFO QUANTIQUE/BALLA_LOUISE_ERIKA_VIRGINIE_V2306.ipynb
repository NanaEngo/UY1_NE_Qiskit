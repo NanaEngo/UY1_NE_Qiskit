{
 "cells": [
  {
   "cell_type": "markdown",
   "metadata": {},
   "source": [
    "**UE 4268 - Examen 2023**\n",
    "\n",
    "**BALLA_LOUISE_ERIKA_VIRGINIE**, `17J2698` et `virginie.balla@facsciences-uy1.cm` \n",
    "\n",
    "Department of Physics - Faculty of Science - University of Yaoundé I\n",
    "\n",
    "`PNR`\n",
    "\n",
    "`19-06-2023`"
   ]
  },
  {
   "cell_type": "code",
   "execution_count": null,
   "metadata": {
    "tags": []
   },
   "outputs": [],
   "source": [
    "from IPython.display import Image"
   ]
  },
  {
   "cell_type": "markdown",
   "metadata": {},
   "source": [
    "# Algorithme de la VQE\n",
    "\n",
    "**Cet exercice se traite exclusivement sur la feuille de composition**\n",
    "\n",
    "L'algorithme du VQE (Variationnal Quantum Eigensolver) se résume en deux grandes parties qu'illustre la figure ci-dessous.\n",
    " \n",
    "1. Expliquer pourquoi on dit que c'est un **algorithme hybride** en indiquant ce que fait chaque processeur. \n",
    "2. Qu'est-ce que la profondeur d'un circuit quantique et quelle son influence dans les algorithmes du VQE?"
   ]
  },
  {
   "cell_type": "code",
   "execution_count": null,
   "metadata": {
    "tags": []
   },
   "outputs": [],
   "source": [
    "Image(\"./VQE_Diagram.png\", width=600)"
   ]
  },
  {
   "cell_type": "markdown",
   "metadata": {},
   "source": [
    "# Support Vector Regression to predict polarity of molecules\n",
    "\n",
    "Write a python script that use a **support vector regression (SVR)** model to predict **TPSA** (**Topological polar surface area**, a physicochemical property describing the polarity of molecules) from molecules of the ZING Dataset contained in the file `'.Zn10.txt'`. The input - structural feature of molecules is Morgan fingerprint and the output is TPSA.\n",
    "\n",
    "We recall that the **molecular fingerprint** represents the substructures of a molecule (array) as a vector of binary numbers. It is a molecular structure descriptor to use as input to reveal the relationship between molecular structure and properties, called **Quantitative Structure-Activity Relationships (QSAR)**.\n",
    "\n",
    "The workflow is\n",
    "\n",
    "1. Get molecular fingerprints of each molecule\n",
    "2. Split the dataset to training set and test set\n",
    "3. Train a SVR model\n",
    "4. Check the accuracy of prediction with $R²$ and mean-square error\n",
    "5. Visualize the results from the model.\n",
    "\n",
    "**The various necessaries libraries and modules will be import only where they are needed**.\n"
   ]
  },
  {
   "cell_type": "code",
   "execution_count": null,
   "metadata": {
    "tags": []
   },
   "outputs": [],
   "source": [
    "import sklearn\n",
    "print(sklearn.__version__)"
   ]
  },
  {
   "cell_type": "code",
   "execution_count": null,
   "metadata": {
    "tags": []
   },
   "outputs": [],
   "source": [
    "import rdkit\n",
    "print(rdkit.__version__)"
   ]
  },
  {
   "cell_type": "code",
   "execution_count": null,
   "metadata": {
    "tags": []
   },
   "outputs": [],
   "source": [
    "\n",
    "qsvr.fit(sample_train,label_train)\n",
    "qsvr.predict(sample_test)\n",
    "here"
   ]
  },
  {
   "cell_type": "markdown",
   "metadata": {},
   "source": [
    "# Calculer l'état fondamental de la molécule de phenylsulfonyl-carbazole (PSPCz)\n",
    "\n",
    "Les calculateurs quantiques pourraient être des outils inestimables pour étudier la structure électronique et les propriétés dynamiques de molécules et de matériaux complexes, car il est plus logique de modéliser des systèmes de la physique quantique sur un dispositif quantique que sur un calculateur classique. Le phenylsulfonyl-carbazole (PSPCz) dont la formule moléculaire est $C_{18}H_{13}NO_2S$ et son SMILES isomérique est C1=CC=C(C=C1)S(=O)(=O)C2=CC=CC3=C2NC4=CC=CC=C34, a des propriétés émettrices utiles de fluorescence retardée activée thermiquement (TADF) pour les applications de diodes électroluminescentes organiques (OLED). Son Hamiltonien en représentation de Pauli $\\{\\mathtt{I,\\,X,\\,Y,\\,Z}\\}$ est\n",
    "\n",
    "$$ \\mathtt{H} = h_1(\\mathtt{I}\\otimes\\mathtt{I}) + h_2(\\mathtt{Z}\\otimes\\mathtt{I} - \\mathtt{I}\\otimes\\mathtt{Z}) + h_3(\\mathtt{Z}\\otimes\\mathtt{Z}) + h_4(\\mathtt{x}\\otimes\\mathtt{X}) + h_5(\\mathtt{X}\\otimes\\mathtt{I} + \\mathtt{I}\\otimes\\mathtt{X} + \\mathtt{X}\\otimes\\mathtt{Z} - \\mathtt{Z}\\otimes\\mathtt{X}),$$\n",
    "\n",
    "où les coefficients \n",
    "$$h_1 = -0.518418,\\, h_2 = -0.136555,\\, h_3 = -0.025866,\\, h_4 = 0.015725,\\, h_5 = -0.000296.$$\n",
    "\n",
    "1. Utiliser `rdkit.Chem` pour représenter en 2D de molécule PSPCz à partir de son SMILES."
   ]
  },
  {
   "cell_type": "code",
   "execution_count": null,
   "metadata": {
    "tags": []
   },
   "outputs": [],
   "source": [
    "from rdkit import chem"
   ]
  },
  {
   "cell_type": "code",
   "execution_count": null,
   "metadata": {
    "tags": []
   },
   "outputs": [],
   "source": [
    "m = Chem.MolFromSmiles('Cc1ccccc1')\n",
    "\n",
    "m = Chem.MolFromMolFile('data/input.mol')\n",
    "\n",
    "stringWithMolData=open('data/input.mol','r').read()\n",
    "\n",
    "m = Chem.MolFromMolBlock(stringWithMolData)\n",
    "img=Draw.MolToImage(m)"
   ]
  },
  {
   "cell_type": "markdown",
   "metadata": {},
   "source": [
    "2. Utiliser, pour calculer l'état fondamental de la molécule PSPCz,\n",
    "   * `qiskit.opflow.operator_globals` et \n",
    "   * `qiskit.algorithms.minimum_eigensolvers.NumPyMinimumEigensolver`."
   ]
  },
  {
   "cell_type": "code",
   "execution_count": null,
   "metadata": {
    "tags": []
   },
   "outputs": [],
   "source": [
    "# Put your code here"
   ]
  },
  {
   "cell_type": "markdown",
   "metadata": {},
   "source": [
    "# VQE avec un Hardware Efficient Ansatz (HEA)\n",
    "\n",
    "1. Utiliser  `qiskit.circuit.library.EfficientSU2` pour reproduire le Hardware Efficient Ansatz (HEA) suivant : "
   ]
  },
  {
   "cell_type": "code",
   "execution_count": null,
   "metadata": {
    "tags": []
   },
   "outputs": [],
   "source": [
    "from qiskit import circuit_library_EfficientSU2 "
   ]
  },
  {
   "cell_type": "code",
   "execution_count": null,
   "metadata": {
    "tags": []
   },
   "outputs": [],
   "source": [
    "Image(filename='./SU2_Ansatz.png', width=400)"
   ]
  },
  {
   "cell_type": "markdown",
   "metadata": {},
   "source": [
    "2. Utiliser ce HEA (que l'on nommera `SU2ansatz`) dans l'algorithme VQE, définit ci-dessous par la fonction `algorithm(problem, mapper, optimizer)`, pour calculer l'état fondamental de la molécule $H_2$."
   ]
  },
  {
   "cell_type": "code",
   "execution_count": 9,
   "metadata": {
    "tags": []
   },
   "outputs": [],
   "source": [
    "from qiskit.primitives import Estimator\n",
    "from qiskit.algorithms.minimum_eigensolvers import VQE\n",
    "from qiskit_nature.second_q.algorithms import GroundStateEigensolver\n",
    "\n",
    "import numpy as np\n",
    "\n",
    "def algorithm(problem, mapper, optimizer):\n",
    "    \"\"\" Setup VQE solver algorithm\n",
    "\n",
    "    Args:\n",
    "        problem : Electronic Structure Problem\n",
    "        mapper : qubit mapper \n",
    "        optimizer : optimizer\n",
    "\n",
    "    Returns: vqe solver algorithm\n",
    "    \"\"\"    \n",
    "    \n",
    "    #ansatz\n",
    "    ansatz = SU2ansatz # previously constructed\n",
    "    \n",
    "    #VQE algorithm solver\n",
    "    vqe_solver = VQE(Estimator(), ansatz, optimizer)\n",
    "    vqe_solver.initial_point = np.zeros(ansatz.num_parameters)\n",
    " \n",
    "    # Ground state computation using a minimum eigensolver\n",
    "    algorithm = GroundStateEigensolver(mapper, vqe_solver)\n",
    "       \n",
    "    # Compute Ground State properties.\n",
    "    algorithm = algorithm.solve(problem)\n",
    "    \n",
    "    return algorithm"
   ]
  },
  {
   "cell_type": "code",
   "execution_count": 10,
   "metadata": {
    "tags": []
   },
   "outputs": [],
   "source": [
    "from qiskit_nature.units import DistanceUnit\n",
    "from qiskit_nature.second_q.drivers import PySCFDriver\n",
    "from qiskit_nature.second_q.transformers import FreezeCoreTransformer\n",
    "\n",
    "H2_driver = PySCFDriver(\n",
    "    atom='H .0 .0 -0.3625; H .0 .0 0.3625',\n",
    "    basis=\"sto3g\",\n",
    "    charge=0,\n",
    "    spin=0,\n",
    "    unit=DistanceUnit.ANGSTROM,\n",
    ")\n",
    "# Electronic structure problem\n",
    "H2_problem = H2_driver.run()\n",
    "transformer = FreezeCoreTransformer()\n",
    "H2_problem = transformer.transform(H2_problem)"
   ]
  },
  {
   "cell_type": "code",
   "execution_count": 11,
   "metadata": {
    "tags": []
   },
   "outputs": [],
   "source": [
    "from qiskit_nature.second_q.mappers import JordanWignerMapper\n",
    "from qiskit_nature.second_q.mappers import TaperedQubitMapper\n",
    "from qiskit.algorithms.optimizers import SLSQP\n",
    "\n",
    "# Put your code here"
   ]
  },
  {
   "cell_type": "code",
   "execution_count": null,
   "metadata": {},
   "outputs": [],
   "source": []
  }
 ],
 "metadata": {
  "kernelspec": {
   "display_name": "Python 3 (ipykernel)",
   "language": "python",
   "name": "python3"
  },
  "language_info": {
   "codemirror_mode": {
    "name": "ipython",
    "version": 3
   },
   "file_extension": ".py",
   "mimetype": "text/x-python",
   "name": "python",
   "nbconvert_exporter": "python",
   "pygments_lexer": "ipython3",
   "version": "3.10.8"
  },
  "toc-showcode": false,
  "toc-showmarkdowntxt": false,
  "widgets": {
   "application/vnd.jupyter.widget-state+json": {
    "state": {},
    "version_major": 2,
    "version_minor": 0
   }
  }
 },
 "nbformat": 4,
 "nbformat_minor": 4
}
