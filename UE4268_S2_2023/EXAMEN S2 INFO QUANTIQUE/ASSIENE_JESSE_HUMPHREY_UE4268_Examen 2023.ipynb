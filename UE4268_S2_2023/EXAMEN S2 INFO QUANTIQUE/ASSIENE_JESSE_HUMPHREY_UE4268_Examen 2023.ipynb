{
 "cells": [
  {
   "cell_type": "markdown",
   "id": "ca677f7a",
   "metadata": {},
   "source": [
    "# UE 4268 - Examen 2023\n",
    "\n",
    "By **`ASSIENE JESSE HUMPHREY`** and `humphrey.assiene@facsciences-uy1.cm` \n",
    "\n",
    "Department of Physics - Faculty of Science - ´University of Yaound\n",
    "\n",
    "Laboratoire de `physique atomique, moléculaire et biophysique`\n",
    "\n",
    "Juin 19, 2023"
   ]
  },
  {
   "cell_type": "markdown",
   "id": "247b7b06",
   "metadata": {},
   "source": [
    "# VQE avec un Hardware Efficient Ansatz (HEA)\n",
    "\n",
    "1. Utilisons  `qiskit.circuit.library.EfficientSU2` pour reproduire le Hardware Efficient Ansatz (HEA) suivant : "
   ]
  },
  {
   "cell_type": "code",
   "execution_count": 1,
   "id": "43430e6b",
   "metadata": {},
   "outputs": [],
   "source": [
    "from qiskit import QuantumCircuit, ClassicalRegister, QuantumRegister, transpile\n",
    "from qiskit.circuit import Parameter\n",
    "from qiskit.tools.visualization import circuit_drawer, array_to_latex\n",
    "from qiskit.quantum_info import state_fidelity\n",
    "from qiskit import BasicAer\n",
    "from qiskit.quantum_info import Statevector\n",
    "from math import pi\n",
    "backend = BasicAer.get_backend('unitary_simulator')\n",
    "import matplotlib.pyplot as plt\n",
    "from qiskit.quantum_info.operators import Operator, Pauli"
   ]
  },
  {
   "cell_type": "code",
   "execution_count": 37,
   "id": "850d8230",
   "metadata": {},
   "outputs": [
    {
     "data": {
      "image/png": "[encoded data removed]",
      "text/plain": [
       "<Figure size 789.163x367.889 with 1 Axes>"
      ]
     },
     "execution_count": 37,
     "metadata": {},
     "output_type": "execute_result"
    }
   ],
   "source": [
    "parameter_0 = Parameter('theta[0]')\n",
    "parameter_1 = Parameter('theta[1]')\n",
    "parameter_2 = Parameter('theta[2]')\n",
    "parameter_3 = Parameter('theta[3]')\n",
    "parameter_4 = Parameter('theta[4]')\n",
    "parameter_5 = Parameter('theta[5]')\n",
    "parameter_6 = Parameter('theta[6]')\n",
    "parameter_7 = Parameter('theta[7]')\n",
    "circuitQ = QuantumCircuit(4)\n",
    "circuitQ.rx(theta = parameter_1,qubit = 1)\n",
    "circuitQ.y(1)\n",
    "circuitQ.rx(theta = parameter_0,qubit = 0)\n",
    "\n",
    "circuitQ.y(0)\n",
    "\n",
    "\n",
    "circuitQ.rx(theta = parameter_2,qubit = 2)\n",
    "circuitQ.rx(theta = parameter_3,qubit = 3)\n",
    "circuitQ.y(2)\n",
    "circuitQ.y(3)\n",
    "circuitQ.cx([3],[0])\n",
    "circuitQ.cx([0],[1])\n",
    "circuitQ.cx([1],[2])\n",
    "circuitQ.cx([2],[3])\n",
    "\n",
    "#circuitQ.rz(theta,3)\n",
    "\n",
    "\n",
    "circuitQ.rx(theta = parameter_4,qubit = 0)\n",
    "circuitQ.y(0)\n",
    "circuitQ.rx(theta = parameter_5,qubit = 1)\n",
    "circuitQ.rx(theta = parameter_6,qubit = 2)\n",
    "circuitQ.rx(theta = parameter_7,qubit = 3)\n",
    "circuitQ.y(1)\n",
    "circuitQ.y(2)\n",
    "circuitQ.y(3)\n",
    "\n",
    "\n",
    "circuitQ.draw('mpl')"
   ]
  },
  {
   "cell_type": "markdown",
   "id": "3c754878",
   "metadata": {},
   "source": [
    "2. Utiliser ce HEA (que l'on nommera `SU2ansatz`) dans l'algorithme VQE, définit ci-dessous par la fonction `algorithm(problem, mapper, optimizer)`, pour calculer l'état fondamental de la molécule $H_2$."
   ]
  },
  {
   "cell_type": "code",
   "execution_count": 33,
   "id": "bb06664c",
   "metadata": {},
   "outputs": [],
   "source": [
    "from qiskit.primitives import Estimator\n",
    "from qiskit.algorithms.minimum_eigensolvers import VQE\n",
    "from qiskit_nature.second_q.algorithms import GroundStateEigensolver\n",
    "\n",
    "import numpy as np\n",
    "\n",
    "def algorithm(problem, mapper, optimizer):\n",
    "    \"\"\" Setup VQE solver algorithm\n",
    "\n",
    "    Args:\n",
    "        problem : Electronic Structure Problem\n",
    "        mapper : qubit mapper \n",
    "        optimizer : optimizer\n",
    "\n",
    "    Returns: vqe solver algorithm\n",
    "    \"\"\"    \n",
    "    \n",
    "    #ansatz\n",
    "    ansatz = SU2ansatz # previously constructed\n",
    "    \n",
    "    #VQE algorithm solver\n",
    "    vqe_solver = VQE(Estimator(), ansatz, optimizer)\n",
    "    vqe_solver.initial_point = np.zeros(ansatz.num_parameters)\n",
    " \n",
    "    # Ground state computation using a minimum eigensolver\n",
    "    algorithm = GroundStateEigensolver(mapper, vqe_solver)\n",
    "       \n",
    "    # Compute Ground State properties.\n",
    "    algorithm = algorithm.solve(problem)\n",
    "    \n",
    "    return algorithm"
   ]
  },
  {
   "cell_type": "code",
   "execution_count": 34,
   "id": "3d9a3b9f",
   "metadata": {},
   "outputs": [],
   "source": [
    "from qiskit_nature.units import DistanceUnit\n",
    "from qiskit_nature.second_q.drivers import PySCFDriver\n",
    "from qiskit_nature.second_q.transformers import FreezeCoreTransformer\n",
    "\n",
    "H2_driver = PySCFDriver(\n",
    "    atom='H .0 .0 -0.3625; H .0 .0 0.3625',\n",
    "    basis=\"sto3g\",\n",
    "    charge=0,\n",
    "    spin=0,\n",
    "    unit=DistanceUnit.ANGSTROM,\n",
    ")\n",
    "# Electronic structure problem\n",
    "H2_problem = H2_driver.run()\n",
    "transformer = FreezeCoreTransformer()\n",
    "H2_problem = transformer.transform(H2_problem)"
   ]
  },
  {
   "cell_type": "markdown",
   "id": "1bad75f2",
   "metadata": {},
   "source": [
    "### Mon code"
   ]
  },
  {
   "cell_type": "code",
   "execution_count": 40,
   "id": "2d803e0b",
   "metadata": {},
   "outputs": [],
   "source": [
    "from qiskit_nature.second_q.mappers import JordanWignerMapper\n",
    "from qiskit_nature.second_q.mappers import TaperedQubitMapper\n",
    "from qiskit.algorithms.optimizers import SLSQP"
   ]
  },
  {
   "cell_type": "code",
   "execution_count": 41,
   "id": "e9ab0722",
   "metadata": {},
   "outputs": [],
   "source": [
    "H2_driver = PySCFDriver(\n",
    "    atom='H .0 .0 -0.3625; H .0 .0 0.3625',\n",
    "    basis=\"sto3g\",\n",
    "    charge=0,\n",
    "    spin=0,\n",
    "    unit=DistanceUnit.ANGSTROM,\n",
    ")\n",
    "\n",
    "# Electronic structure problem\n",
    "H2_problem = H2_driver.run()\n",
    "transformer = FreezeCoreTransformer()\n",
    "H2_problem = transformer.transform(H2_problem)"
   ]
  },
  {
   "cell_type": "code",
   "execution_count": 42,
   "id": "ea7a32c3",
   "metadata": {},
   "outputs": [],
   "source": [
    "from qiskit_nature.second_q.mappers import (\n",
    "    ParityMapper,\n",
    "    JordanWignerMapper,\n",
    "    BravyiKitaevMapper, \n",
    "    QubitConverter\n",
    ")\n",
    "\n",
    "def ansatz(converter):\n",
    "    \"\"\"Ansatz function\n",
    "\n",
    "    Args:\n",
    "        converter : the output of the function qubit_converter(mapper)\n",
    "\n",
    "    Returns: The anstatz\n",
    "    \"\"\"    \n",
    "    \n",
    "    ansatz = UCCSD(\n",
    "        circuitQ,\n",
    "        (theta,\n",
    "            \n",
    "        ),\n",
    "    )\n",
    "    return ansatz"
   ]
  },
  {
   "cell_type": "code",
   "execution_count": 43,
   "id": "36931cac",
   "metadata": {},
   "outputs": [],
   "source": [
    "from qiskit.primitives import Estimator \n",
    "\n",
    "estimator = Estimator()"
   ]
  },
  {
   "cell_type": "code",
   "execution_count": 44,
   "id": "dd8fede7",
   "metadata": {},
   "outputs": [],
   "source": [
    "from qiskit.algorithms.optimizers import SPSA, SLSQP, L_BFGS_B"
   ]
  },
  {
   "cell_type": "code",
   "execution_count": 45,
   "id": "20c97935",
   "metadata": {},
   "outputs": [],
   "source": [
    "from qiskit.algorithms.minimum_eigensolvers import VQE\n",
    "import numpy as np\n",
    "#permet d calculer l'energie\n",
    "def vqe_solver(converter, optimizer):# le mapper ici on choisi ce qu'on veut mettre on peut mettre jw; bk\n",
    "    \"\"\" Setup VQE solver\n",
    "\n",
    "    Args:\n",
    "        converter : qubit converter \n",
    "        optimizer : optimizer\n",
    "\n",
    "    Returns: vqe solver\n",
    "    \"\"\"    \n",
    "    vqe_solver = VQE(estimator, circuitQ, optimizer)\n",
    "# par exemple si on veut plutot utiliser le circuit on remplace ansatz par le circuit\n",
    "    #vqe_solver.initial_point = np.zeros(ansatz(converter).num_parameters)\n",
    "    return vqe_solver"
   ]
  },
  {
   "cell_type": "code",
   "execution_count": 49,
   "id": "8c1bdbf7",
   "metadata": {},
   "outputs": [],
   "source": [
    "def run_vqe(problem, solver, mapper, optimizer = \"SLSQP\", show=True):\n",
    "    \"\"\"Computing of the molecular ground state with the `GroundStateEigensolver`\n",
    "class \n",
    "    Args:\n",
    "        problem :  Electronic structure problem\n",
    "\n",
    "        mapper : Mapper string that can be \"PM\" or \"JWM\" or \"BKM\"\n",
    "        \n",
    "        optimizer :  Optimizer string that can be either \"SPSA\" or \"SLSQP\" or \"L_BFGS_B\"\n",
    "\n",
    "        solver :  Sting that can be either \"NumPy\" or \"VQE\"\n",
    "       \n",
    "    Returns:\n",
    "          The ground state of the molecule\n",
    "\n",
    "    \"\"\"    \n",
    "    # Mapper\n",
    "    dmap = {\"JWM\": JordanWignerMapper(), \"PM\": ParityMapper(),  \"BKM\": BravyiKitaevMapper()}\n",
    "    for k, v in dmap.items():\n",
    "        if k == mapper:        \n",
    "            q_conv = qubit_converter(v)   \n",
    "            \n",
    "    if solver == \"VQE\":             \n",
    "        # Optimizer\n",
    "        dopt = {\"SPSA\": SPSA(), \"SLSQP\": SLSQP(), \"L_BFGS_B\": L_BFGS_B()}\n",
    "        for n, m in dopt.items():\n",
    "            if n == optimizer:        \n",
    "                opt = m\n",
    "        GS_solver = vqe_solver(q_conv, opt)\n",
    "\n",
    "    # Solver\n",
    "    if solver == \"Numpy\":\n",
    "        GS_solver = NumPyMinimumEigensolver()\n",
    "\n",
    "    # Ground state computation using a minimum eigensolver. Returns the solver.\n",
    "    Algo = GroundStateEigensolver(q_conv, GS_solver) \n",
    "    \n",
    "    # Leveraging Qiskit Runtime\n",
    "    start = time.time()\n",
    "    \n",
    "    # Compute Ground State properties.\n",
    "    ground_state = Algo.solve(problem)\n",
    "    elapsed = str(datetime.timedelta(seconds = time.time()- start))\n",
    "    \n",
    "    if show:\n",
    "        print(f'Running {solver} and {mapper} mapper')\n",
    "        if solver == \"VQE\":\n",
    "            print(f'With {optimizer} optimizer and UCCSD ansatz')\n",
    "        print(f'Elapsed time: {elapsed} \\n')\n",
    "\n",
    "        print(ground_state.total_energies[0])\n",
    "\n",
    "    if solver == \"VQE\":\n",
    "        return ground_state, elapsed, mapper, solver, optimizer\n",
    "    else:\n",
    "        return ground_state, elapsed, mapper, solver\n"
   ]
  },
  {
   "cell_type": "code",
   "execution_count": 57,
   "id": "00061120",
   "metadata": {},
   "outputs": [
    {
     "ename": "NameError",
     "evalue": "name 'qubit_converter' is not defined",
     "output_type": "error",
     "traceback": [
      "\u001b[0;31m---------------------------------------------------------------------------\u001b[0m",
      "\u001b[0;31mNameError\u001b[0m                                 Traceback (most recent call last)",
      "Cell \u001b[0;32mIn[57], line 6\u001b[0m\n\u001b[1;32m      3\u001b[0m \u001b[38;5;28;01mfrom\u001b[39;00m \u001b[38;5;21;01mqiskit_nature\u001b[39;00m\u001b[38;5;21;01m.\u001b[39;00m\u001b[38;5;21;01msecond_q\u001b[39;00m\u001b[38;5;21;01m.\u001b[39;00m\u001b[38;5;21;01malgorithms\u001b[39;00m \u001b[38;5;28;01mimport\u001b[39;00m GroundStateEigensolver\n\u001b[1;32m      4\u001b[0m \u001b[38;5;28;01mimport\u001b[39;00m \u001b[38;5;21;01mtime\u001b[39;00m\u001b[38;5;241m,\u001b[39m \u001b[38;5;21;01mdatetime\u001b[39;00m\n\u001b[0;32m----> 6\u001b[0m res_vqe \u001b[38;5;241m=\u001b[39m \u001b[43mrun_vqe\u001b[49m\u001b[43m(\u001b[49m\u001b[43mH2_problem\u001b[49m\u001b[43m,\u001b[49m\u001b[43m \u001b[49m\u001b[43mmapper\u001b[49m\u001b[38;5;241;43m=\u001b[39;49m\u001b[38;5;124;43m\"\u001b[39;49m\u001b[38;5;124;43mPM\u001b[39;49m\u001b[38;5;124;43m\"\u001b[39;49m\u001b[43m,\u001b[49m\u001b[43m \u001b[49m\u001b[43moptimizer\u001b[49m\u001b[38;5;241;43m=\u001b[39;49m\u001b[38;5;124;43m\"\u001b[39;49m\u001b[38;5;124;43mSLSQP\u001b[39;49m\u001b[38;5;124;43m\"\u001b[39;49m\u001b[43m,\u001b[49m\u001b[43m \u001b[49m\u001b[43msolver\u001b[49m\u001b[38;5;241;43m=\u001b[39;49m\u001b[38;5;124;43m\"\u001b[39;49m\u001b[38;5;124;43mVQE\u001b[39;49m\u001b[38;5;124;43m\"\u001b[39;49m\u001b[43m)\u001b[49m\n",
      "Cell \u001b[0;32mIn[49], line 21\u001b[0m, in \u001b[0;36mrun_vqe\u001b[0;34m(problem, solver, mapper, optimizer, show)\u001b[0m\n\u001b[1;32m     19\u001b[0m \u001b[38;5;28;01mfor\u001b[39;00m k, v \u001b[38;5;129;01min\u001b[39;00m dmap\u001b[38;5;241m.\u001b[39mitems():\n\u001b[1;32m     20\u001b[0m     \u001b[38;5;28;01mif\u001b[39;00m k \u001b[38;5;241m==\u001b[39m mapper:        \n\u001b[0;32m---> 21\u001b[0m         q_conv \u001b[38;5;241m=\u001b[39m \u001b[43mqubit_converter\u001b[49m(v)   \n\u001b[1;32m     23\u001b[0m \u001b[38;5;28;01mif\u001b[39;00m solver \u001b[38;5;241m==\u001b[39m \u001b[38;5;124m\"\u001b[39m\u001b[38;5;124mVQE\u001b[39m\u001b[38;5;124m\"\u001b[39m:             \n\u001b[1;32m     24\u001b[0m     \u001b[38;5;66;03m# Optimizer\u001b[39;00m\n\u001b[1;32m     25\u001b[0m     dopt \u001b[38;5;241m=\u001b[39m {\u001b[38;5;124m\"\u001b[39m\u001b[38;5;124mSPSA\u001b[39m\u001b[38;5;124m\"\u001b[39m: SPSA(), \u001b[38;5;124m\"\u001b[39m\u001b[38;5;124mSLSQP\u001b[39m\u001b[38;5;124m\"\u001b[39m: SLSQP(), \u001b[38;5;124m\"\u001b[39m\u001b[38;5;124mL_BFGS_B\u001b[39m\u001b[38;5;124m\"\u001b[39m: L_BFGS_B()}\n",
      "\u001b[0;31mNameError\u001b[0m: name 'qubit_converter' is not defined"
     ]
    }
   ],
   "source": [
    "from qiskit import QuantumCircuit\n",
    "from qiskit.circuit import parameter\n",
    "from qiskit_nature.second_q.algorithms import GroundStateEigensolver\n",
    "import time, datetime\n",
    "\n",
    "res_vqe = run_vqe(H2_problem, mapper=\"PM\", optimizer=\"SLSQP\", solver=\"VQE\")"
   ]
  },
  {
   "cell_type": "markdown",
   "id": "7e756d90",
   "metadata": {},
   "source": [
    "# Support Vector Regression to predict polarity of molecules\n",
    "\n",
    "Write a python script that use a **support vector regression (SVR)** model to predict **TPSA** (**Topological polar surface area**, a physicochemical property describing the polarity of molecules) from molecules of the ZING Dataset contained in the file `'.Zn10.txt'`. The input - structural feature of molecules is Morgan fingerprint and the output is TPSA.\n",
    "\n",
    "We recall that the **molecular fingerprint** represents the substructures of a molecule (array) as a vector of binary numbers. It is a molecular structure descriptor to use as input to reveal the relationship between molecular structure and properties, called **Quantitative Structure-Activity Relationships (QSAR)**.\n",
    "\n",
    "The workflow is\n",
    "\n",
    "1. Get molecular fingerprints of each molecule\n",
    "2. Split the dataset to training set and test set\n",
    "3. Train a SVR model\n",
    "4. Check the accuracy of prediction with $R²$ and mean-square error\n",
    "5. Visualize the results from the model.\n",
    "\n",
    "**The various necessaries libraries and modules will be import only where they are needed**.\n"
   ]
  },
  {
   "cell_type": "code",
   "execution_count": 59,
   "id": "eb85de06",
   "metadata": {},
   "outputs": [
    {
     "ename": "ModuleNotFoundError",
     "evalue": "No module named 'rdkit'",
     "output_type": "error",
     "traceback": [
      "\u001b[0;31m---------------------------------------------------------------------------\u001b[0m",
      "\u001b[0;31mModuleNotFoundError\u001b[0m                       Traceback (most recent call last)",
      "Cell \u001b[0;32mIn[59], line 9\u001b[0m\n\u001b[1;32m      7\u001b[0m \u001b[38;5;28;01mimport\u001b[39;00m \u001b[38;5;21;01mos\u001b[39;00m\n\u001b[1;32m      8\u001b[0m \u001b[38;5;66;03m################################################################################\u001b[39;00m\n\u001b[0;32m----> 9\u001b[0m \u001b[38;5;28;01mfrom\u001b[39;00m \u001b[38;5;21;01mrdkit\u001b[39;00m \u001b[38;5;28;01mimport\u001b[39;00m Chem, DataStructs\n\u001b[1;32m     10\u001b[0m \u001b[38;5;28;01mfrom\u001b[39;00m \u001b[38;5;21;01mrdkit\u001b[39;00m\u001b[38;5;21;01m.\u001b[39;00m\u001b[38;5;21;01mChem\u001b[39;00m \u001b[38;5;28;01mimport\u001b[39;00m AllChem, PandasTools, Descriptors\n",
      "\u001b[0;31mModuleNotFoundError\u001b[0m: No module named 'rdkit'"
     ]
    }
   ],
   "source": [
    "# Import libraries \n",
    "import numpy as np\n",
    "#Permet de tracer\n",
    "import matplotlib.pyplot as plt\n",
    "#bibliotheque\n",
    "import pandas as pd \n",
    "import os\n",
    "################################################################################\n",
    "from rdkit import Chem, DataStructs\n",
    "from rdkit.Chem import AllChem, PandasTools, Descriptors"
   ]
  },
  {
   "cell_type": "code",
   "execution_count": null,
   "id": "213863dd",
   "metadata": {},
   "outputs": [],
   "source": [
    "#permet de ressortir la molecule\n",
    "smi = 'O=C(C)Oc1ccccc1C(=O)O'\n",
    "m = Chem.MolFromSmiles(smi) # Convert smiles to molecule\n",
    "m"
   ]
  },
  {
   "cell_type": "code",
   "execution_count": null,
   "id": "70327c36",
   "metadata": {},
   "outputs": [],
   "source": [
    "fps = []\n",
    "fp = AllChem.GetMorganFingerprintAsBitVect(m, 2, nBits=1024) \n",
    "# the number 2 denotes the number of iterations in Morgan algorithm.\n",
    "\n",
    "fp_arr = np.zeros((1,))\n",
    "DataStructs.ConvertToNumpyArray(fp, fp_arr)\n",
    "fps.append(fp)\n",
    "\n",
    "fps = np.asarray(fps) # Convert our encoded molecule to an array\n",
    "fps.shape\n"
   ]
  },
  {
   "cell_type": "code",
   "execution_count": null,
   "id": "5443cf74",
   "metadata": {},
   "outputs": [],
   "source": [
    "PATH = os.getcwd()\n",
    "data_path = os.path.join(PATH, './Dataset/smilesZn100.txt')"
   ]
  },
  {
   "cell_type": "code",
   "execution_count": null,
   "id": "20e7a47c",
   "metadata": {},
   "outputs": [],
   "source": [
    "with open(data_path, 'r') as f:\n",
    "    content = f.readlines()\n",
    "    smile = [smi.split() for smi in content]\n",
    "    \n",
    "smile"
   ]
  },
  {
   "cell_type": "code",
   "execution_count": null,
   "id": "22f67464",
   "metadata": {},
   "outputs": [],
   "source": [
    "df = pd.DataFrame(data=smile, columns=['Smiles'])\n",
    "#ici on sectionne notre base de donnee via df1\n",
    "df1 = df.iloc[:1000,:]#.values nous donne les valeurs\n",
    "df1"
   ]
  },
  {
   "cell_type": "code",
   "execution_count": null,
   "id": "caafd3d9",
   "metadata": {},
   "outputs": [],
   "source": [
    "PandasTools.AddMoleculeColumnToFrame(frame=df1, smilesCol='Smiles', molCol='Molecules')\n",
    "df1"
   ]
  },
  {
   "cell_type": "code",
   "execution_count": null,
   "id": "741765e9",
   "metadata": {},
   "outputs": [],
   "source": []
  },
  {
   "cell_type": "code",
   "execution_count": null,
   "id": "11224354",
   "metadata": {},
   "outputs": [],
   "source": []
  },
  {
   "cell_type": "code",
   "execution_count": null,
   "id": "232cc193",
   "metadata": {},
   "outputs": [],
   "source": []
  },
  {
   "cell_type": "code",
   "execution_count": null,
   "id": "6e6e7ba8",
   "metadata": {},
   "outputs": [],
   "source": []
  },
  {
   "cell_type": "code",
   "execution_count": 58,
   "id": "27b9bc19",
   "metadata": {},
   "outputs": [
    {
     "data": {
      "text/html": [
       "<h3>Version Information</h3><table><tr><th>Qiskit Software</th><th>Version</th></tr><tr><td><code>qiskit-terra</code></td><td>0.24.1</td></tr><tr><td><code>qiskit-aer</code></td><td>0.12.0</td></tr><tr><td><code>qiskit-ibmq-provider</code></td><td>0.20.2</td></tr><tr><td><code>qiskit</code></td><td>0.42.1</td></tr><tr><td><code>qiskit-nature</code></td><td>0.6.2</td></tr><tr><td><code>qiskit-finance</code></td><td>0.3.4</td></tr><tr><td><code>qiskit-optimization</code></td><td>0.5.0</td></tr><tr><td><code>qiskit-machine-learning</code></td><td>0.5.0</td></tr><tr><th>System information</th></tr><tr><td>Python version</td><td>3.10.10</td></tr><tr><td>Python compiler</td><td>GCC 11.3.0</td></tr><tr><td>Python build</td><td>main, Mar 24 2023 20:08:06</td></tr><tr><td>OS</td><td>Linux</td></tr><tr><td>CPUs</td><td>2</td></tr><tr><td>Memory (Gb)</td><td>3.805522918701172</td></tr><tr><td colspan='2'>Mon Jun 19 13:47:48 2023 WAT</td></tr></table>"
      ],
      "text/plain": [
       "<IPython.core.display.HTML object>"
      ]
     },
     "metadata": {},
     "output_type": "display_data"
    }
   ],
   "source": [
    "import qiskit.tools.jupyter\n",
    "%qiskit_version_table"
   ]
  },
  {
   "cell_type": "code",
   "execution_count": null,
   "id": "066af176",
   "metadata": {},
   "outputs": [],
   "source": []
  }
 ],
 "metadata": {
  "kernelspec": {
   "display_name": "Python 3 (ipykernel)",
   "language": "python",
   "name": "python3"
  },
  "language_info": {
   "codemirror_mode": {
    "name": "ipython",
    "version": 3
   },
   "file_extension": ".py",
   "mimetype": "text/x-python",
   "name": "python",
   "nbconvert_exporter": "python",
   "pygments_lexer": "ipython3",
   "version": "3.10.10"
  }
 },
 "nbformat": 4,
 "nbformat_minor": 5
}
