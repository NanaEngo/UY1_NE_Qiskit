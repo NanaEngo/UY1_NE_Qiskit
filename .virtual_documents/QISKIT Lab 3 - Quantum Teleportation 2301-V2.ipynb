from qiskit import QuantumCircuit, QuantumRegister, ClassicalRegister


qb = QuantumCircuit(1)
qb.h(0)
qb.draw('mpl')


qb1 = QuantumCircuit(2)
qb1.cx(0,1)
qb1.draw('mpl')


qb2 = QuantumCircuit(2,2)
qb2.measure(range(2),range(2))
qb2.draw('mpl')


import numpy as np
from qiskit import QuantumCircuit, QuantumRegister, ClassicalRegister

from qiskit.quantum_info import Statevector, random_statevector
from qiskit.visualization import plot_histogram, array_to_latex, plot_bloch_multivector


qr = QuantumRegister(3, name="q")    
crz = ClassicalRegister(1, name="z") 
crx = ClassicalRegister(1, name="x") 

qc_telep = QuantumCircuit(qr,crz,crx) 
qc_telep.draw('mpl')


def create_bell_pair(qc, a, b):
    """Creates a bell pair in qc using qubits a & b"""
    qc.h(a) # Put qubit a into the superposition state |+>
    qc.cx(a,b) # CNOT with a as control and b as target


## STEP 1
create_bell_pair(qc_telep, 1, 2)
qc_telep.barrier() # Use barrier to separate steps
qc_telep.draw('mpl')


Bell00 = Statevector.from_label('000')
Bell00 = Bell00.evolve(qc_telep)
Bell00.draw('latex', prefix='|B_{00}_{21}\\rangle|0\\rangle_0=')


def alice_gates(qc, psi, a):
    qc.cx(psi, a)
    qc.h(psi)


## STEP 2
alice_gates(qc_telep, 0, 1)
qc_telep.barrier()
qc_telep.draw('mpl')


def measure_and_send(qc, a, b):
    """Measures qubits a & b and 'sends' the results to Bob"""
    qc.measure(a,0)
    qc.measure(b,1)


measure_and_send(qc_telep, 0 ,1)
qc_telep.barrier()
qc_telep.draw('mpl')


# This function takes a QuantumCircuit (qc), integer (qubit)
# and ClassicalRegisters (crz & crx) to decide which gates to apply

def bob_gates(qc, qubit, crz, crx):
    # Here we use c_if to control our gates with a classical
    # bit instead of a qubit
    qc.x(qubit).c_if(crx, 1) # Apply gates if the registers 
    qc.z(qubit).c_if(crz, 1) # are in the state '1'
    


## STEP 4
bob_gates(qc_telep, 2, crz, crx)
qc_telep.barrier()
qc_telep.draw('mpl')


phi = random_statevector(2)
array_to_latex(phi, prefix="|φ\\rangle =",precision=3)


phi.draw('bloch')


from qiskit.extensions import Initialize


phi0 = Initialize(phi)
phi0.label = "|φ>_0="


qc0 = QuantumCircuit(qr, crz, crx)
qc0.append(phi0, [0])
qc0.barrier()

qc0.draw('mpl')


import numpy as np
from qiskit import QuantumCircuit, QuantumRegister, ClassicalRegister
from qiskit.providers.aer import StatevectorSimulator

from qiskit.quantum_info import Statevector, random_statevector
from qiskit.visualization import plot_histogram, array_to_latex, plot_bloch_multivector

from qiskit.extensions import Initialize


## SETUP
# Protocol uses 3 qubits and 2 classical bits in 2 different registers
# include third register for measuring Bob's result
qr = QuantumRegister(3, name="q")
crz, crx = ClassicalRegister(1, name="crz"), ClassicalRegister(1, name="crx")
teleportation_circuit = QuantumCircuit(qr, crz, crx)

## STEP 0
# First, let's initialize Alice's q0
phi = random_statevector(2)

phi0 = Initialize(phi)
phi0.label = "|φ>_0="

teleportation_circuit.append(phi0, [0])
teleportation_circuit.barrier()

## STEP 1
create_bell_pair(teleportation_circuit, 1, 2)
teleportation_circuit.barrier()

## STEP 2
alice_gates(teleportation_circuit, 0, 1)
teleportation_circuit.barrier()

## STEP 3
measure_and_send(teleportation_circuit, 0, 1)
teleportation_circuit.barrier()

## STEP 4
bob_gates(teleportation_circuit, 2, crz, crx)
teleportation_circuit.barrier()

teleportation_circuit.draw('mpl',scale=.8) 


array_to_latex(phi, prefix="|φ\\rangle =",precision=3)


phi.draw('bloch')


q_sim = StatevectorSimulator()
job = q_sim.run(teleportation_circuit).result()
phi2 = job.get_statevector()

plot_bloch_multivector(phi2, title='Qubit |$\\varphi_2\\rangle$')


array_to_latex(phi2,precision=3,prefix="|q_2q_1q_0\\rangle = ")


inverse_phi0 = phi0.gates_to_uncompute()


import numpy as np
from qiskit import QuantumCircuit, QuantumRegister, ClassicalRegister
from qiskit.providers.aer import StatevectorSimulator
from qiskit import transpile
from qiskit.result import marginal_counts

from qiskit.quantum_info import Statevector, random_statevector
from qiskit.visualization import plot_histogram, array_to_latex, plot_bloch_multivector

from qiskit.extensions import Initialize


## SETUP
qr = QuantumRegister(3, name="q")   # Protocol uses 3 qubits
crz = ClassicalRegister(1, name="crz") # and 2 classical registers
crx = ClassicalRegister(1, name="crx")
qc_telepcount = QuantumCircuit(qr, crz, crx)

## STEP 0
# First, let's initialize Alice's q0
qc_telepcount.append(phi0, [0])
qc_telepcount.barrier()

## STEP 1
# Now begins the teleportation protocol
create_bell_pair(qc_telepcount, 1, 2)
qc_telepcount.barrier()

## STEP 2
# Send q1 to Alice and q2 to Bob
alice_gates(qc_telepcount, 0, 1)
qc_telepcount.barrier()

## STEP 3
# Alice then sends her classical bits to Bob
measure_and_send(qc_telepcount, 0, 1)
qc_telepcount.barrier()

## STEP 4
# Bob decodes qubits
bob_gates(qc_telepcount, 2, crz, crx)

## STEP 5
# reverse the initialization process
qc_telepcount.append(inverse_phi0, [2])

# Display the circuit
qc_telepcount.draw('mpl',scale=.8)



crb = ClassicalRegister(1, name="crb")
qc_telepcount.add_register(crb)
qc_telepcount.measure(2,2)
qc_telepcount.draw('mpl',scale=.75)


q_sim = StatevectorSimulator()

tqc_telepcount = transpile(qc_telepcount, q_sim)
counts = q_sim.run(tqc_telepcount,shots=2000).result().get_counts()

# trace out Bob's results on qubit 2
bobs_qubit = 2
bobs_counts = marginal_counts(counts, [bobs_qubit])
plot_histogram(bobs_counts)



import numpy as np
from qiskit import QuantumCircuit, QuantumRegister, ClassicalRegister
from qiskit.providers.aer import QasmSimulator
from qiskit import transpile
from qiskit.result import marginal_counts

from qiskit.visualization import plot_histogram
from qiskit.circuit import IfElseOp


# This function takes a QuantumCircuit (qc), integer (qubit)
# and ClassicalRegisters (crz & crx) to decide which gates to apply
def bob_gates(qc, qubit, crz, crx):
    # Here we use qc.if_test to control our gates with a classical
    # bit instead of a qubit
    with qc.if_test((crx, 1)):
        qc.x(qubit)
    with qc.if_test((crz, 1)):
        qc.z(qubit)



## SETUP
# Protocol uses 3 qubits and 2 classical bits in 2 different registers
# include third register for measuring Bob's result
qr = QuantumRegister(3, name="q")
crz, crx = ClassicalRegister(1, name="crz"), ClassicalRegister(1, name="crx")
crb = ClassicalRegister(1, name="crb")
teleportation_circuit = QuantumCircuit(qr, crz, crx, crb)

## STEP 1
create_bell_pair(teleportation_circuit, 1, 2)

## STEP 2
teleportation_circuit.barrier() # Use barrier to separate steps
alice_gates(teleportation_circuit, 0, 1)

## STEP 3
measure_and_send(teleportation_circuit, 0, 1)

## STEP 4
teleportation_circuit.barrier() # Use barrier to separate steps
bob_gates(teleportation_circuit, 2, crz, crx)

## STEP 5
crb = ClassicalRegister(1, name="crb")
teleportation_circuit.measure(2,2)
teleportation_circuit.draw('mpl', scale=.8,cregbundle=False) # suppress RuntimeWarning with cregbundle=False 


q_sim2 = QasmSimulator()

tqcc = transpile(qcc, q_sim2)
counts = q_sim2.run(tqcc,shots=2000).result().get_counts()

# trace out Bob's results on qubit 2
bobs_qubit = 2
bobs_counts = marginal_counts(counts, [bobs_qubit])
plot_histogram(bobs_counts)



from qiskit.providers.ibmq import IBMQ 
from qiskit.providers.ibmq import least_busy
from qiskit.tools.monitor import job_monitor


IBMQ.load_account()
provider = IBMQ.get_provider(hub='ibm-q')


backend = least_busy(provider.backends(filters=lambda b: b.configuration().n_qubits >= 3 and
                                   not b.configuration().simulator and b.status().operational==True))
t_qcc = transpile(qcc, backend, optimization_level=3)
job = backend.run(t_qcc)
job_monitor(job)  # displays job status under cell


exp_result = job.result()
exp_counts = exp_result.get_counts(qcc)
print(exp_counts)

# trace out Bob's results on qubit 2
bobs_qubit = 2
bobs_counts = marginal_counts(counts, [bobs_qubit])
plot_histogram(bobs_counts)



print(f"The experimental error rate : {exp_counts['1']/sum(exp_counts.values()):.3f}%")


import qiskit.tools.jupyter #only in jupyter notebook
get_ipython().run_line_magic("qiskit_version_table", "")



