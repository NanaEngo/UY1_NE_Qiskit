import pandas as pd 
import numpy as np  
import matplotlib.pyplot as plt
import time


from sklearn.datasets import load_breast_cancer
data = load_breast_cancer()


df = pd.DataFrame(data=data.data, columns=data.feature_names)
df['target'] = data.target


import seaborn as sns

# df = pd.DataFrame(iris_data.data, columns=iris_data.feature_names)
# df["class"] = pd.Series(iris_data.target)

sns.pairplot(df, hue="target", palette="tab10")



X = df.drop(['target'], axis=1)
y = df['target']


from sklearn.preprocessing import StandardScaler
scaler = StandardScaler()
X = pd.DataFrame(scaler.fit_transform(X), columns = X.columns)


from sklearn.decomposition import PCA
pca = PCA(n_components=4)
X = pca.fit_transform(X)
print (pca.explained_variance_ratio_)


from sklearn.preprocessing import MinMaxScaler
X = MinMaxScaler().fit_transform(X)


from sklearn.model_selection import train_test_split
from qiskit.utils import algorithm_globals

algorithm_globals.random_seed = 123
train_features, test_features, train_labels, test_labels = (
    train_test_split(X, y, 
                     train_size=0.8, 
                     random_state=algorithm_globals.random_seed)
)


from qiskit.circuit.library import ZZFeatureMap

num_features = train_features.shape[1]

feature_map = ZZFeatureMap(feature_dimension=num_features, reps=1)
feature_map.decompose().draw(output='mpl', fold=20, filename='featuremap')


from qiskit.circuit.library import RealAmplitudes

ansatz = RealAmplitudes(num_qubits=num_features, reps=3)
ansatz.measure_all()
ansatz.decompose().draw(output='mpl', fold=20, filename='ansatz')


circuit = feature_map.compose(ansatz)
circuit.decompose().draw(output='mpl', filename='overallcircuit.png')


initial_point = np.random.random(ansatz.num_parameters)
initial_point


from sklearn.preprocessing import OneHotEncoder

encoder = OneHotEncoder()

train_labels = train_labels.to_numpy()
test_labels = test_labels.to_numpy()

train_labels_oh = encoder.fit_transform(train_labels.reshape(-1,1)).toarray()
test_labels_oh = encoder.fit_transform(test_labels.reshape(-1,1)).toarray()


from qiskit import BasicAer, execute
from qiskit_machine_learning.algorithms.classifiers import VQC
from qiskit.algorithms.optimizers import SPSA



vqc = VQC(feature_map=feature_map,
          ansatz=ansatz,
          loss='cross_entropy',
          initial_point=initial_point,
          optimizer=SPSA(),
          quantum_instance=BasicAer.get_backend('qasm_simulator')
          )
vqc.fit(train_features, train_labels_oh)


score = vqc.score(test_features, test_labels_oh)
print(f"Testing accuracy: {score:0.2f}")


# from qiskit.aqua.components.feature_maps import RawFeatureVector
