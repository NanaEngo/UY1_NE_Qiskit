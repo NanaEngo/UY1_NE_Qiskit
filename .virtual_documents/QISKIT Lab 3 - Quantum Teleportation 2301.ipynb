from qiskit import QuantumCircuit, QuantumRegister, ClassicalRegister


qb = QuantumCircuit(1)
qb.h(0)
qb.draw('mpl')


qb1 = QuantumCircuit(2)
qb1.cx(0,1)
qb1.draw('mpl')


qb2 = QuantumCircuit(2,2)
qb2.measure(range(2),range(2))
qb2.draw('mpl')


import numpy as np
from qiskit import QuantumCircuit, QuantumRegister, ClassicalRegister
from qiskit.providers.aer import QasmSimulator, StatevectorSimulator
from qiskit.circuit import IfElseOp

from qiskit.quantum_info import Statevector, random_statevector
from qiskit.visualization import plot_histogram, array_to_latex, plot_bloch_multivector



qr = QuantumRegister(3, name="q")    
cry = ClassicalRegister(1, name="y") 
crx = ClassicalRegister(1, name="x") 

qc_telep = QuantumCircuit(qr,cry,crx) 
qc_telep.draw('mpl')


qc_telep.h(1)
qc_telep.cx(1,2)
qc_telep.barrier()

qc_telep.draw('mpl')


Bell00 = Statevector.from_label('000')
Bell00 = Bell00.evolve(qc_telep)
Bell00.draw('latex', prefix='$|B_{00}_{21}\\rangle|0\\rangle_0=$')


qc_telep.cx(0,1)
qc_telep.h(0)
qc_telep.barrier()

qc_telep.draw('mpl')


qc_telep.measure(range(2), range(2))
qc_telep.barrier()

qc_telep.draw('mpl')


qc_telep.x(2).c_if(crx, 1)
qc_telep.z(2).c_if(cry, 1)

qc_telep.draw('mpl')


phi = random_statevector(2)
array_to_latex(phi, prefix="|φ\\rangle =",precision=3)


phi.draw('bloch')


phi0 = Initialize(phi)
phi0.label = "|φ>_0="


qc0 = QuantumCircuit(qr, cry, crx)
qc0.append(phi0, [0])
qc0.barrier()

qc0.draw('mpl')


qcf_telep = qc0.compose(qc_telep)


q_sim = StatevectorSimulator()
job = q_sim.run(qcf_telep).result()
phi2 = job.get_statevector()


plot_bloch_multivector(phi2, title='Qubit |$\\varphi_2\\rangle$')


array_to_latex(phi2,precision=3,prefix="|q_2q_1q_0\\rangle = ")


inverse_phi0 = phi0.gates_to_uncompute()


qcf_telep.append(inverse_phi0, [2])
qcf_telep.draw('mpl',scale=.8)


c2 = ClassicalRegister(1, name="c2")
qcf_telep.add_register(c2)
qcf_telep.measure(2,2)
qcf_telep.draw('mpl',scale=.8)


from qiskit import transpile, assemble


q_sim2 = QasmSimulator()

tqcf_telep = transpile(qcf_telep, q_sim2)
qobj = assemble(tqcf_telep)
counts = q_sim2.run(qobj,shots=2000).result().get_counts()

plot_histogram(counts)


qcc = QuantumCircuit(3,1)

# Initialisons le qubit q0 inconnu à téléporter
qcc.append(phi0, [0])
qcc.barrier()

# Etape 1 - Preparation de l'EPR
qcc.h(1)
qcc.cx(1,2)
qcc.barrier()

# Etape 2 - Encodage et Transmission par Alice
qcc.cx(0,1)
qcc.h(0)
qcc.barrier()

# Etape 3 - Decodage par Bob
qcc.cx(1,2)
qcc.cz(0,2)

# Processus d'initialisation inverse
qcc.append(inverse_phi0, [2])

# Effectuer la mesure de q_2
qcc.measure(2,0)

# Visualiser le circuit
qcc.draw('mpl',scale=.8)


q_sim2 = QasmSimulator()

tqcc = transpile(qcc, q_sim2)
qobj = assemble(tqcc)
counts = q_sim2.run(qobj,shots=2000).result().get_counts()

plot_histogram(counts)


from qiskit.providers.ibmq import IBMQ 


IBMQ.load_account()
provider = IBMQ.get_provider(hub='ibm-q')


from qiskit.providers.ibmq import least_busy
from qiskit.tools.monitor import job_monitor
backend = least_busy(provider.backends(filters=lambda b: b.configuration().n_qubits >= 3 and
                                   not b.configuration().simulator and b.status().operational==True))
t_qcc = transpile(qcc, backend, optimization_level=3)
qobj = assemble(t_qcc)
job = backend.run(qobj)
job_monitor(job)  # displays job status under cell


exp_result = job.result()
exp_counts = exp_result.get_counts(qcc)
print(exp_counts)
plot_histogram(exp_counts)


print(f"The experimental error rate : {exp_counts['1']/sum(exp_counts.values()):.3f}%")


import qiskit.tools.jupyter #only in jupyter notebook
get_ipython().run_line_magic("qiskit_version_table", "")



