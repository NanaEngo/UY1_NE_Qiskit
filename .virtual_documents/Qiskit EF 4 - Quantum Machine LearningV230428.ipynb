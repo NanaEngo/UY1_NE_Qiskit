




















import os
import pandas as pd 

PATH = os.getcwd()
data_path = os.path.join(PATH, './Dataset/Zn10.txt')





with open(data_path, 'r') as f:
    content = f.readlines()
    smile = [smi.split()[0] for smi in content]
    
df = pd.DataFrame(data=smile, columns=['Smiles'])
df





from rdkit.Chem import PandasTools

PandasTools.AddMoleculeColumnToFrame(frame=df, smilesCol='Smiles', molCol='Molecules')
df





df.isnull().sum()


from rdkit.Chem import QED

molecule = df.iloc[:, 1].values
descriptor = [QED.qed(mol) for mol in molecule]


descriptor_df = pd.DataFrame(descriptor, columns=['QED'])
data = pd.concat([df, descriptor_df], axis=1)
data





data.isnull().sum()





from rdkit import DataStructs
from rdkit.Chem import AllChem
import numpy as np

fps = []
for mol in molecule:
    fp = AllChem.GetMorganFingerprintAsBitVect(mol, 2, nBits=1024)
    fp_arr = np.zeros((1,))
    DataStructs.ConvertToNumpyArray(fp, fp_arr)
    fps.append(fp)
    
# Convert the fingerprint as an array 
fps = np.asarray(fps)
fps


fps.shape





qed = data.iloc[:,2].values
qed.shape[0] == fps.shape[0] #check that our inputs/outputs have the same number of lines


from sklearn.model_selection import train_test_split

seed = np.random.seed(123)
X_train, X_test, y_train, y_test = train_test_split(fps, qed, train_size=0.8, random_state=seed)





from sklearn.svm import SVR

svr = SVR()
_ = svr.fit(X_train, y_train)#In order to cancel the printing of return value





from sklearn.metrics import mean_squared_error, r2_score

qed_predict = svr.predict(X_test)
r2 = r2_score(y_test, qed_predict)
mse = mean_squared_error(y_test, qed_predict)

print(f'The r2_score is {r2} and\n the mean square error is {mse}')





from scipy import stats
import matplotlib.pyplot as plt

vect_norm, intercept, r_value, p_value, std_error = stats.linregress(y_test, qed_predict)
fx = vect_norm * y_test + intercept

plt.scatter(y_test, qed_predict, color='green', s=2)
plt.plot(y_test, fx, label='Predicted QED ='+str(round(vect_norm,2))+'*True QED +'+str(round(intercept,2)), linewidth=2)
plt.xlabel('True QED')
plt.ylabel('Predicted QED')
plt.legend()
plt.show()


import sklearn
print(sklearn.__version__)


import rdkit
print(rdkit.__version__)
