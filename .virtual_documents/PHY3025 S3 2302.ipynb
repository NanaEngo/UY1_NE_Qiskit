from sympy.physics.quantum.qubit import Qubit, QubitBra, qubit_to_matrix


X = Qubit(0)*QubitBra(1) + Qubit(1)*QubitBra(0)
X


MX = qubit_to_matrix(X, format='sympy')
MX


Z = Qubit(0)*QubitBra(0) - Qubit(1)*QubitBra(1)
Z


MZ = qubit_to_matrix(Z, format='sympy')
MZ


R2 = 1/2*(Qubit(0)*QubitBra(0) + Qubit(1)*QubitBra(1))
R2


MR2 = qubit_to_matrix(R2, format='sympy')
MR2


R1 = R2 + 1/2*X
R1


MR1 = qubit_to_matrix(R1, format='sympy')
MR1


(MR1*MR1).trace()


(MR2*MR2).trace()


bx1, bz1 = (MX*MR1).trace(), (MZ*MR1).trace()
bx1, bz1


bx2, bz2 = (MX*MR2).trace(), (MZ*MR2).trace()
bx2, bz2
