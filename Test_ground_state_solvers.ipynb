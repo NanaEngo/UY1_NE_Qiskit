{
 "cells": [
  {
   "attachments": {},
   "cell_type": "markdown",
   "metadata": {},
   "source": [
    "# Ground state solvers"
   ]
  },
  {
   "cell_type": "code",
   "execution_count": 24,
   "metadata": {},
   "outputs": [],
   "source": [
    "H2_driver = PySCFDriver(\n",
    "    atom=\"H 0 0 0; H 0 0 0.735\",\n",
    "    basis=\"sto3g\",\n",
    "    charge=0,\n",
    "    spin=0,\n",
    "    unit=DistanceUnit.ANGSTROM,\n",
    ")\n",
    "\n",
    "# Electronic structure problem\n",
    "H2_problem = H2_driver.run()"
   ]
  },
  {
   "cell_type": "code",
   "execution_count": 28,
   "metadata": {},
   "outputs": [
    {
     "data": {
      "text/plain": [
       "(1, 1)"
      ]
     },
     "execution_count": 28,
     "metadata": {},
     "output_type": "execute_result"
    }
   ],
   "source": [
    "H2_problem.num_particles"
   ]
  },
  {
   "cell_type": "code",
   "execution_count": 38,
   "metadata": {},
   "outputs": [
    {
     "data": {
      "image/png": "[encoded data removed]",
      "text/plain": [
       "<Figure size 204.541x117.056 with 1 Axes>"
      ]
     },
     "execution_count": 38,
     "metadata": {},
     "output_type": "execute_result"
    }
   ],
   "source": [
    "from qiskit_nature.second_q.mappers import JordanWignerMapper, ParityMapper, TaperedQubitMapper\n",
    "from qiskit_nature.second_q.circuit.library import HartreeFock, UCCSD\n",
    "\n",
    "# mapper = ParityMapper()\n",
    "mapper = H2_problem.get_tapered_mapper(JordanWignerMapper())\n",
    "\n",
    "initial_state=HartreeFock(\n",
    "            H2_problem.num_spatial_orbitals,\n",
    "            H2_problem.num_particles,\n",
    "            mapper,\n",
    ")\n",
    "initial_state.draw('mpl',initial_state=True)"
   ]
  },
  {
   "cell_type": "code",
   "execution_count": 39,
   "metadata": {},
   "outputs": [
    {
     "data": {
      "image/png": "[encoded data removed]",
      "text/plain": [
       "<Figure size 329.957x117.056 with 1 Axes>"
      ]
     },
     "execution_count": 39,
     "metadata": {},
     "output_type": "execute_result"
    }
   ],
   "source": [
    "ansatz = UCCSD(\n",
    "        H2_problem.num_spatial_orbitals,\n",
    "        H2_problem.num_particles,\n",
    "        mapper,\n",
    "        initial_state=initial_state\n",
    "    )\n",
    "ansatz.draw('mpl',initial_state=True)"
   ]
  },
  {
   "cell_type": "code",
   "execution_count": 1,
   "metadata": {
    "execution": {
     "iopub.execute_input": "2023-06-04T06:14:48.671058Z",
     "iopub.status.busy": "2023-06-04T06:14:48.670649Z",
     "iopub.status.idle": "2023-06-04T06:14:57.960677Z",
     "shell.execute_reply": "2023-06-04T06:14:57.959950Z",
     "shell.execute_reply.started": "2023-06-04T06:14:48.671026Z"
    },
    "tags": []
   },
   "outputs": [
    {
     "name": "stdout",
     "output_type": "stream",
     "text": [
      "Starting 4 engines with <class 'ipyparallel.cluster.launcher.LocalEngineSetLauncher'>\n"
     ]
    },
    {
     "data": {
      "application/vnd.jupyter.widget-view+json": {
       "model_id": "a111c4ca8d7549f5a3f1b09eb70517fe",
       "version_major": 2,
       "version_minor": 0
      },
      "text/plain": [
       "  0%|          | 0/4 [00:00<?, ?engine/s]"
      ]
     },
     "metadata": {},
     "output_type": "display_data"
    },
    {
     "name": "stdout",
     "output_type": "stream",
     "text": [
      "Stopping engine(s): 1685902833\n",
      "engine set stopped 1685902833: {'engines': {'0': {'exit_code': 0, 'pid': 32365, 'identifier': '0'}, '1': {'exit_code': 0, 'pid': 32382, 'identifier': '1'}, '2': {'exit_code': 0, 'pid': 32384, 'identifier': '2'}, '3': {'exit_code': 0, 'pid': 32386, 'identifier': '3'}}, 'exit_code': 0}\n",
      "Stopping controller\n",
      "Controller stopped: {'exit_code': 0, 'pid': 32339, 'identifier': 'ipcontroller-1685902832-i0z3-4231'}\n"
     ]
    }
   ],
   "source": [
    "import os\n",
    "import ipyparallel as ipp\n",
    "\n",
    "cluster = ipp.Cluster(n=4)\n",
    "with cluster as rc:\n",
    "    ar = rc[:].apply_async(os.getpid)\n",
    "    pid_map = ar.get_dict()"
   ]
  },
  {
   "cell_type": "code",
   "execution_count": 20,
   "metadata": {
    "execution": {
     "iopub.execute_input": "2023-06-04T06:16:18.258244Z",
     "iopub.status.busy": "2023-06-04T06:16:18.257253Z",
     "iopub.status.idle": "2023-06-04T06:16:20.027568Z",
     "shell.execute_reply": "2023-06-04T06:16:20.027074Z",
     "shell.execute_reply.started": "2023-06-04T06:16:18.258190Z"
    },
    "tags": []
   },
   "outputs": [],
   "source": [
    "from qiskit_nature.units import DistanceUnit\n",
    "from qiskit_nature.second_q.drivers import PySCFDriver\n",
    "\n",
    "driver = PySCFDriver(atom=open('PSPCz.xyz').read(),\n",
    "    charge=0,spin=0, basis='631g*', unit=DistanceUnit.ANGSTROM)\n",
    "problem = driver.run_pyscf()"
   ]
  },
  {
   "cell_type": "code",
   "execution_count": 23,
   "metadata": {},
   "outputs": [
    {
     "ename": "AttributeError",
     "evalue": "'NoneType' object has no attribute '_calc'",
     "output_type": "error",
     "traceback": [
      "\u001b[0;31m---------------------------------------------------------------------------\u001b[0m",
      "\u001b[0;31mAttributeError\u001b[0m                            Traceback (most recent call last)",
      "Cell \u001b[0;32mIn[23], line 1\u001b[0m\n\u001b[0;32m----> 1\u001b[0m problem\u001b[39m.\u001b[39;49m_calc\u001b[39m.\u001b[39me\u001b[39m.\u001b[39mtot\n",
      "\u001b[0;31mAttributeError\u001b[0m: 'NoneType' object has no attribute '_calc'"
     ]
    }
   ],
   "source": [
    "problem._calc.e.tot"
   ]
  },
  {
   "cell_type": "code",
   "execution_count": 10,
   "metadata": {},
   "outputs": [
    {
     "name": "stdout",
     "output_type": "stream",
     "text": [
      "  # PSPCz molecule;  ###############################;    C -0.316640    1.1348450    0.6956120;    C -0.8886300    0.3253780   -0.2344140;    C -0.1842470   -0.1935670   -1.3239330;    C  1.1662930    0.0801450   -1.4737160;    C  1.8089230    0.8832220   -0.5383540;    C  1.1155860    1.4218050    0.5392780;    S  3.5450920    1.2449890   -0.7349240;    O  3.8606900    1.0881590   -2.1541690;    C  4.3889120   -0.0620730    0.1436780;    O  3.8088290    2.4916780   -0.0174650;    C  4.6830900    0.1064460    1.4918230;    C  5.3364470   -0.9144080    2.1705280;    C  5.6895490   -2.0818670    1.5007820;    C  5.4000540   -2.2323130    0.1481350;    C  4.7467230   -1.2180160   -0.5404770;    N -2.2589180    0.0399120   -0.0793330;    C -2.8394600   -1.2343990   -0.1494160;    C -4.2635450   -1.0769890    0.0660760;    C -4.5212550    0.2638010    0.2662190;    C -3.2669630    0.9823890    0.1722720;    C -2.2678900   -2.4598950   -0.3287380;    C -3.1299420   -3.6058560   -0.3236210;    C -4.5179520   -3.4797390   -0.1395160;    C -5.1056310   -2.2512990    0.0536940;    C -5.7352450    1.0074800    0.5140960;    C -5.6563790    2.3761270    0.6274610;    C -4.4287740    3.0501460    0.5083650;    C -3.2040560    2.3409470    0.2746950;    H -0.7813570    1.5286610    1.5426490;    H -0.7079140   -0.7911480   -2.0611600;    H  1.7161320   -0.2933710   -2.3302930;    H  1.6308220    2.0660550    1.2427990;    H  4.4214900    1.0345500    1.9875450;    H  5.5773000   -0.7951290    3.2218590;    H  6.2017810   -2.8762260    2.0345740;    H  5.6906680   -3.1381740   -0.3739110;    H  4.5337010   -1.3031330   -1.6001680;    H -1.1998460   -2.5827750   -0.4596910;    H -2.6937370   -4.5881470   -0.4657540;    H -5.1332290   -4.3740010   -0.1501080;    H -6.1752900   -2.1516170    0.1987120;    H -6.6812260    0.4853900    0.6017680;    H -6.5574610    2.9529350    0.8109620;    H -4.3980410    4.1305040    0.5929440;    H -2.2726630    2.8838620    0.1712760; \n"
     ]
    }
   ],
   "source": [
    "# driver.atom'PSPCz.xyz'\n",
    "print(driver._atom)"
   ]
  },
  {
   "cell_type": "code",
   "execution_count": 13,
   "metadata": {
    "execution": {
     "iopub.execute_input": "2023-06-04T06:16:26.754536Z",
     "iopub.status.busy": "2023-06-04T06:16:26.753625Z",
     "iopub.status.idle": "2023-06-04T06:16:33.622429Z",
     "shell.execute_reply": "2023-06-04T06:16:33.621867Z",
     "shell.execute_reply.started": "2023-06-04T06:16:26.754476Z"
    },
    "tags": []
   },
   "outputs": [],
   "source": [
    "from qiskit_nature.second_q.problems import (\n",
    "    ElectronicBasis,\n",
    "    ElectronicStructureProblem,\n",
    "    ElectronicStructureResult,\n",
    ")\n",
    "from qiskit_nature.second_q.transformers import BasisTransformer\n",
    "from qiskit_nature.second_q.transformers import ActiveSpaceTransformer\n",
    "\n",
    "\n",
    "# problem = driver.run()"
   ]
  },
  {
   "cell_type": "code",
   "execution_count": 17,
   "metadata": {},
   "outputs": [
    {
     "ename": "MemoryError",
     "evalue": "Unable to allocate 255. GiB for an array with shape (1, 430, 430, 430, 430) and data type float64",
     "output_type": "error",
     "traceback": [
      "\u001b[0;31m---------------------------------------------------------------------------\u001b[0m",
      "\u001b[0;31mMemoryError\u001b[0m                               Traceback (most recent call last)",
      "Cell \u001b[0;32mIn[17], line 1\u001b[0m\n\u001b[0;32m----> 1\u001b[0m test \u001b[39m=\u001b[39m driver\u001b[39m.\u001b[39;49mto_qcschema()\n",
      "File \u001b[0;32m~/mambaforge/envs/qiskit-env/lib/python3.10/site-packages/qiskit_nature/second_q/drivers/pyscfd/pyscfdriver.py:554\u001b[0m, in \u001b[0;36mPySCFDriver.to_qcschema\u001b[0;34m(self, include_dipole)\u001b[0m\n\u001b[1;32m    546\u001b[0m         data\u001b[39m.\u001b[39meri_mo_ba \u001b[39m=\u001b[39m fold(\n\u001b[1;32m    547\u001b[0m             ao2mo\u001b[39m.\u001b[39mgeneral(\n\u001b[1;32m    548\u001b[0m                 \u001b[39mself\u001b[39m\u001b[39m.\u001b[39m_mol,\n\u001b[0;32m   (...)\u001b[0m\n\u001b[1;32m    551\u001b[0m             )\n\u001b[1;32m    552\u001b[0m         )\n\u001b[1;32m    553\u001b[0m \u001b[39melse\u001b[39;00m:\n\u001b[0;32m--> 554\u001b[0m     data\u001b[39m.\u001b[39meri \u001b[39m=\u001b[39m \u001b[39mself\u001b[39;49m\u001b[39m.\u001b[39;49m_mol\u001b[39m.\u001b[39;49mintor(\u001b[39m\"\u001b[39;49m\u001b[39mint2e\u001b[39;49m\u001b[39m\"\u001b[39;49m, aosym\u001b[39m=\u001b[39;49m\u001b[39m1\u001b[39;49m)\n\u001b[1;32m    555\u001b[0m     data\u001b[39m.\u001b[39meri_mo \u001b[39m=\u001b[39m einsum_func(\n\u001b[1;32m    556\u001b[0m         einsum_ao_to_mo,\n\u001b[1;32m    557\u001b[0m         data\u001b[39m.\u001b[39meri,\n\u001b[0;32m   (...)\u001b[0m\n\u001b[1;32m    562\u001b[0m         optimize\u001b[39m=\u001b[39msettings\u001b[39m.\u001b[39moptimize_einsum,\n\u001b[1;32m    563\u001b[0m     )\n\u001b[1;32m    564\u001b[0m     \u001b[39mif\u001b[39;00m data\u001b[39m.\u001b[39mmo_coeff_b \u001b[39mis\u001b[39;00m \u001b[39mnot\u001b[39;00m \u001b[39mNone\u001b[39;00m:\n",
      "File \u001b[0;32m~/mambaforge/envs/qiskit-env/lib/python3.10/site-packages/pyscf/gto/mole.py:3487\u001b[0m, in \u001b[0;36mMole.intor\u001b[0;34m(self, intor, comp, hermi, aosym, out, shls_slice, grids)\u001b[0m\n\u001b[1;32m   3485\u001b[0m     env[NGRIDS] \u001b[39m=\u001b[39m grids\u001b[39m.\u001b[39mshape[\u001b[39m0\u001b[39m]\n\u001b[1;32m   3486\u001b[0m     env[PTR_GRIDS] \u001b[39m=\u001b[39m env\u001b[39m.\u001b[39msize \u001b[39m-\u001b[39m grids\u001b[39m.\u001b[39msize\n\u001b[0;32m-> 3487\u001b[0m \u001b[39mreturn\u001b[39;00m moleintor\u001b[39m.\u001b[39;49mgetints(intor, \u001b[39mself\u001b[39;49m\u001b[39m.\u001b[39;49m_atm, bas, env,\n\u001b[1;32m   3488\u001b[0m                          shls_slice, comp, hermi, aosym, out\u001b[39m=\u001b[39;49mout)\n",
      "File \u001b[0;32m~/mambaforge/envs/qiskit-env/lib/python3.10/site-packages/pyscf/gto/moleintor.py:240\u001b[0m, in \u001b[0;36mgetints\u001b[0;34m(intor_name, atm, bas, env, shls_slice, comp, hermi, aosym, ao_loc, cintopt, out)\u001b[0m\n\u001b[1;32m    237\u001b[0m     \u001b[39mreturn\u001b[39;00m getints2c(intor_name, atm, bas, env, shls_slice, comp,\n\u001b[1;32m    238\u001b[0m                      hermi, ao_loc, cintopt, out)\n\u001b[1;32m    239\u001b[0m \u001b[39melif\u001b[39;00m intor_name\u001b[39m.\u001b[39mstartswith(\u001b[39m'\u001b[39m\u001b[39mint2e\u001b[39m\u001b[39m'\u001b[39m) \u001b[39mor\u001b[39;00m intor_name\u001b[39m.\u001b[39mstartswith(\u001b[39m'\u001b[39m\u001b[39mint4c1e\u001b[39m\u001b[39m'\u001b[39m):\n\u001b[0;32m--> 240\u001b[0m     \u001b[39mreturn\u001b[39;00m getints4c(intor_name, atm, bas, env, shls_slice, comp,\n\u001b[1;32m    241\u001b[0m                      aosym, ao_loc, cintopt, out)\n\u001b[1;32m    242\u001b[0m \u001b[39melif\u001b[39;00m intor_name\u001b[39m.\u001b[39mstartswith(\u001b[39m'\u001b[39m\u001b[39mint3c\u001b[39m\u001b[39m'\u001b[39m):\n\u001b[1;32m    243\u001b[0m     \u001b[39mreturn\u001b[39;00m getints3c(intor_name, atm, bas, env, shls_slice, comp,\n\u001b[1;32m    244\u001b[0m                      aosym, ao_loc, cintopt, out)\n",
      "File \u001b[0;32m~/mambaforge/envs/qiskit-env/lib/python3.10/site-packages/pyscf/gto/moleintor.py:644\u001b[0m, in \u001b[0;36mgetints4c\u001b[0;34m(intor_name, atm, bas, env, shls_slice, comp, aosym, ao_loc, cintopt, out)\u001b[0m\n\u001b[1;32m    642\u001b[0m     drv \u001b[39m=\u001b[39m libcgto\u001b[39m.\u001b[39mGTOnr2e_fill_drv\n\u001b[1;32m    643\u001b[0m     fill \u001b[39m=\u001b[39m \u001b[39mgetattr\u001b[39m(libcgto, \u001b[39m'\u001b[39m\u001b[39mGTOnr2e_fill_\u001b[39m\u001b[39m'\u001b[39m\u001b[39m+\u001b[39maosym)\n\u001b[0;32m--> 644\u001b[0m     out \u001b[39m=\u001b[39m numpy\u001b[39m.\u001b[39;49mndarray(shape, buffer\u001b[39m=\u001b[39;49mout)\n\u001b[1;32m    646\u001b[0m \u001b[39mif\u001b[39;00m out\u001b[39m.\u001b[39msize \u001b[39m>\u001b[39m \u001b[39m0\u001b[39m:\n\u001b[1;32m    647\u001b[0m     \u001b[39mif\u001b[39;00m cintopt \u001b[39mis\u001b[39;00m \u001b[39mNone\u001b[39;00m:\n",
      "\u001b[0;31mMemoryError\u001b[0m: Unable to allocate 255. GiB for an array with shape (1, 430, 430, 430, 430) and data type float64"
     ]
    }
   ],
   "source": [
    "test = driver.to_qcschema"
   ]
  },
  {
   "cell_type": "code",
   "execution_count": null,
   "metadata": {},
   "outputs": [],
   "source": [
    "test."
   ]
  },
  {
   "cell_type": "code",
   "execution_count": 14,
   "metadata": {},
   "outputs": [
    {
     "ename": "AttributeError",
     "evalue": "'PySCFDriver' object has no attribute 'nao_nr'",
     "output_type": "error",
     "traceback": [
      "\u001b[0;31m---------------------------------------------------------------------------\u001b[0m",
      "\u001b[0;31mAttributeError\u001b[0m                            Traceback (most recent call last)",
      "Cell \u001b[0;32mIn[14], line 1\u001b[0m\n\u001b[0;32m----> 1\u001b[0m \u001b[39mprint\u001b[39m(\u001b[39m'\u001b[39m\u001b[39mNumber of AO:\u001b[39m\u001b[39m'\u001b[39m, driver\u001b[39m.\u001b[39;49mnao_nr())\n\u001b[1;32m      2\u001b[0m \u001b[39mprint\u001b[39m(\u001b[39m'\u001b[39m\u001b[39mShape of AO 1-Body terms:\u001b[39m\u001b[39m'\u001b[39m, PSPCz_mol\u001b[39m.\u001b[39mintor(\u001b[39m'\u001b[39m\u001b[39mint1e_kin\u001b[39m\u001b[39m'\u001b[39m)\u001b[39m.\u001b[39mshape)\n",
      "\u001b[0;31mAttributeError\u001b[0m: 'PySCFDriver' object has no attribute 'nao_nr'"
     ]
    }
   ],
   "source": [
    "print('Number of AO:', driver.nao_nr())\n",
    "print('Shape of AO 1-Body terms:', PSPCz_mol.intor('int1e_kin').shape)"
   ]
  },
  {
   "cell_type": "code",
   "execution_count": 5,
   "metadata": {},
   "outputs": [
    {
     "ename": "FileNotFoundError",
     "evalue": "[Errno 2] Unable to open file (unable to open file: name = 'PSPCz_reduced.hdf5', errno = 2, error message = 'No such file or directory', flags = 0, o_flags = 0)",
     "output_type": "error",
     "traceback": [
      "\u001b[0;31m---------------------------------------------------------------------------\u001b[0m",
      "\u001b[0;31mFileNotFoundError\u001b[0m                         Traceback (most recent call last)",
      "Cell \u001b[0;32mIn[5], line 3\u001b[0m\n\u001b[1;32m      1\u001b[0m \u001b[39mfrom\u001b[39;00m \u001b[39mqiskit_nature\u001b[39;00m\u001b[39m.\u001b[39;00m\u001b[39msecond_q\u001b[39;00m\u001b[39m.\u001b[39;00m\u001b[39mformats\u001b[39;00m\u001b[39m.\u001b[39;00m\u001b[39mqcschema\u001b[39;00m \u001b[39mimport\u001b[39;00m QCCenterData\n\u001b[0;32m----> 3\u001b[0m driver_reduced \u001b[39m=\u001b[39m QCCenterData\u001b[39m.\u001b[39;49mfrom_hdf5(\u001b[39m'\u001b[39;49m\u001b[39mPSPCz_reduced.hdf5\u001b[39;49m\u001b[39m'\u001b[39;49m)\n",
      "File \u001b[0;32m~/mambaforge/envs/qiskit-env/lib/python3.10/site-packages/qiskit_nature/second_q/formats/qcschema/qc_base.py:124\u001b[0m, in \u001b[0;36m_QCBase.from_hdf5\u001b[0;34m(cls, h5py_data)\u001b[0m\n\u001b[1;32m    121\u001b[0m \u001b[39mif\u001b[39;00m \u001b[39misinstance\u001b[39m(h5py_data, h5py\u001b[39m.\u001b[39mGroup):\n\u001b[1;32m    122\u001b[0m     \u001b[39mreturn\u001b[39;00m \u001b[39mcls\u001b[39m\u001b[39m.\u001b[39m_from_hdf5_group(h5py_data)\n\u001b[0;32m--> 124\u001b[0m \u001b[39mwith\u001b[39;00m h5py\u001b[39m.\u001b[39;49mFile(h5py_data, \u001b[39m\"\u001b[39;49m\u001b[39mr\u001b[39;49m\u001b[39m\"\u001b[39;49m) \u001b[39mas\u001b[39;00m file:\n\u001b[1;32m    125\u001b[0m     \u001b[39mreturn\u001b[39;00m \u001b[39mcls\u001b[39m\u001b[39m.\u001b[39m_from_hdf5_group(file)\n",
      "File \u001b[0;32m~/mambaforge/envs/qiskit-env/lib/python3.10/site-packages/h5py/_hl/files.py:567\u001b[0m, in \u001b[0;36mFile.__init__\u001b[0;34m(self, name, mode, driver, libver, userblock_size, swmr, rdcc_nslots, rdcc_nbytes, rdcc_w0, track_order, fs_strategy, fs_persist, fs_threshold, fs_page_size, page_buf_size, min_meta_keep, min_raw_keep, locking, alignment_threshold, alignment_interval, meta_block_size, **kwds)\u001b[0m\n\u001b[1;32m    558\u001b[0m     fapl \u001b[39m=\u001b[39m make_fapl(driver, libver, rdcc_nslots, rdcc_nbytes, rdcc_w0,\n\u001b[1;32m    559\u001b[0m                      locking, page_buf_size, min_meta_keep, min_raw_keep,\n\u001b[1;32m    560\u001b[0m                      alignment_threshold\u001b[39m=\u001b[39malignment_threshold,\n\u001b[1;32m    561\u001b[0m                      alignment_interval\u001b[39m=\u001b[39malignment_interval,\n\u001b[1;32m    562\u001b[0m                      meta_block_size\u001b[39m=\u001b[39mmeta_block_size,\n\u001b[1;32m    563\u001b[0m                      \u001b[39m*\u001b[39m\u001b[39m*\u001b[39mkwds)\n\u001b[1;32m    564\u001b[0m     fcpl \u001b[39m=\u001b[39m make_fcpl(track_order\u001b[39m=\u001b[39mtrack_order, fs_strategy\u001b[39m=\u001b[39mfs_strategy,\n\u001b[1;32m    565\u001b[0m                      fs_persist\u001b[39m=\u001b[39mfs_persist, fs_threshold\u001b[39m=\u001b[39mfs_threshold,\n\u001b[1;32m    566\u001b[0m                      fs_page_size\u001b[39m=\u001b[39mfs_page_size)\n\u001b[0;32m--> 567\u001b[0m     fid \u001b[39m=\u001b[39m make_fid(name, mode, userblock_size, fapl, fcpl, swmr\u001b[39m=\u001b[39;49mswmr)\n\u001b[1;32m    569\u001b[0m \u001b[39mif\u001b[39;00m \u001b[39misinstance\u001b[39m(libver, \u001b[39mtuple\u001b[39m):\n\u001b[1;32m    570\u001b[0m     \u001b[39mself\u001b[39m\u001b[39m.\u001b[39m_libver \u001b[39m=\u001b[39m libver\n",
      "File \u001b[0;32m~/mambaforge/envs/qiskit-env/lib/python3.10/site-packages/h5py/_hl/files.py:231\u001b[0m, in \u001b[0;36mmake_fid\u001b[0;34m(name, mode, userblock_size, fapl, fcpl, swmr)\u001b[0m\n\u001b[1;32m    229\u001b[0m     \u001b[39mif\u001b[39;00m swmr \u001b[39mand\u001b[39;00m swmr_support:\n\u001b[1;32m    230\u001b[0m         flags \u001b[39m|\u001b[39m\u001b[39m=\u001b[39m h5f\u001b[39m.\u001b[39mACC_SWMR_READ\n\u001b[0;32m--> 231\u001b[0m     fid \u001b[39m=\u001b[39m h5f\u001b[39m.\u001b[39;49mopen(name, flags, fapl\u001b[39m=\u001b[39;49mfapl)\n\u001b[1;32m    232\u001b[0m \u001b[39melif\u001b[39;00m mode \u001b[39m==\u001b[39m \u001b[39m'\u001b[39m\u001b[39mr+\u001b[39m\u001b[39m'\u001b[39m:\n\u001b[1;32m    233\u001b[0m     fid \u001b[39m=\u001b[39m h5f\u001b[39m.\u001b[39mopen(name, h5f\u001b[39m.\u001b[39mACC_RDWR, fapl\u001b[39m=\u001b[39mfapl)\n",
      "File \u001b[0;32mh5py/_objects.pyx:54\u001b[0m, in \u001b[0;36mh5py._objects.with_phil.wrapper\u001b[0;34m()\u001b[0m\n",
      "File \u001b[0;32mh5py/_objects.pyx:55\u001b[0m, in \u001b[0;36mh5py._objects.with_phil.wrapper\u001b[0;34m()\u001b[0m\n",
      "File \u001b[0;32mh5py/h5f.pyx:106\u001b[0m, in \u001b[0;36mh5py.h5f.open\u001b[0;34m()\u001b[0m\n",
      "\u001b[0;31mFileNotFoundError\u001b[0m: [Errno 2] Unable to open file (unable to open file: name = 'PSPCz_reduced.hdf5', errno = 2, error message = 'No such file or directory', flags = 0, o_flags = 0)"
     ]
    }
   ],
   "source": [
    "from qiskit_nature.second_q.formats.qcschema import QCCenterData\n",
    "\n",
    "driver_reduced = QCCenterData.from_hdf5('PSPCz_reduced.hdf5')"
   ]
  },
  {
   "cell_type": "code",
   "execution_count": 2,
   "metadata": {
    "execution": {
     "iopub.execute_input": "2023-06-04T06:47:15.238666Z",
     "iopub.status.busy": "2023-06-04T06:47:15.237706Z",
     "iopub.status.idle": "2023-06-04T06:47:15.251624Z",
     "shell.execute_reply": "2023-06-04T06:47:15.251045Z",
     "shell.execute_reply.started": "2023-06-04T06:47:15.238616Z"
    },
    "tags": []
   },
   "outputs": [
    {
     "ename": "NameError",
     "evalue": "name 'ElectronicStructureProblem' is not defined",
     "output_type": "error",
     "traceback": [
      "\u001b[0;31m---------------------------------------------------------------------------\u001b[0m",
      "\u001b[0;31mNameError\u001b[0m                                 Traceback (most recent call last)",
      "Cell \u001b[0;32mIn[2], line 1\u001b[0m\n\u001b[0;32m----> 1\u001b[0m problem \u001b[39m=\u001b[39m ElectronicStructureProblem(driver_reduced)\n",
      "\u001b[0;31mNameError\u001b[0m: name 'ElectronicStructureProblem' is not defined"
     ]
    }
   ],
   "source": [
    "problem = ElectronicStructureProblem(driver_reduced)"
   ]
  },
  {
   "cell_type": "code",
   "execution_count": null,
   "metadata": {},
   "outputs": [],
   "source": [
    "basis_transformer = BasisTransformer(\n",
    "    ElectronicBasis.AO,\n",
    "    ElectronicBasis.MO,\n",
    "    ElectronicIntegrals.from_raw_integrals(ao2mo_alpha, h1_b=ao2mo_beta),"
   ]
  },
  {
   "cell_type": "code",
   "execution_count": null,
   "metadata": {
    "execution": {
     "iopub.execute_input": "2023-06-04T06:16:36.268439Z",
     "iopub.status.busy": "2023-06-04T06:16:36.268044Z"
    },
    "tags": []
   },
   "outputs": [],
   "source": [
    "# ao_problem = driver.to_problem(basis=ElectronicBasis.AO)\n",
    "# print(ao_problem.basis)\n",
    "\n",
    "# ao_hamil = ao_problem.hamiltonian\n",
    "# print(ao_hamil.electronic_integrals.alpha)\n",
    "\n",
    "as_transformer = ActiveSpaceTransformer(2, 2, active_orbitals=[99, 100])\n",
    "as_problem = as_transformer.transform(driver.to_problem(basis=ElectronicBasis.AO))\n",
    "print(as_problem.num_particles)\n",
    "print(as_problem.num_spatial_orbitals)\n",
    "print(as_problem.hamiltonian.electronic_integrals.alpha)\n",
    "\n"
   ]
  },
  {
   "cell_type": "code",
   "execution_count": 32,
   "metadata": {},
   "outputs": [],
   "source": [
    "from qiskit.algorithms.minimum_eigensolvers import (\n",
    "    VQE, AdaptVQE, NumPyMinimumEigensolver)\n",
    "from qiskit.algorithms.optimizers import SLSQP\n",
    "from qiskit.primitives import Estimator\n",
    "from qiskit_nature.second_q.circuit.library import HartreeFock, UCCSD\n",
    "from qiskit_nature.second_q.mappers import JordanWignerMapper\n",
    "from qiskit_nature.second_q.algorithms import GroundStateEigensolver\n",
    "\n",
    "import numpy as np\n",
    "\n",
    "mapper = JordanWignerMapper()"
   ]
  },
  {
   "cell_type": "code",
   "execution_count": 33,
   "metadata": {},
   "outputs": [
    {
     "name": "stdout",
     "output_type": "stream",
     "text": [
      "=== GROUND STATE ENERGY ===\n",
      " \n",
      "* Electronic ground state energy (Hartree): -1.857275030202\n",
      "  - computed part:      -1.857275030202\n",
      "~ Nuclear repulsion energy (Hartree): 0.719968994449\n",
      "> Total ground state energy (Hartree): -1.137306035753\n",
      " \n",
      "=== MEASURED OBSERVABLES ===\n",
      " \n",
      "  0:  # Particles: 2.000 S: 0.000 S^2: 0.000 M: 0.000\n",
      " \n",
      "=== DIPOLE MOMENTS ===\n",
      " \n",
      "~ Nuclear dipole moment (a.u.): [0.0  0.0  1.3889487]\n",
      " \n",
      "  0: \n",
      "  * Electronic dipole moment (a.u.): [0.0  0.0  1.388948701555]\n",
      "    - computed part:      [0.0  0.0  1.388948701555]\n",
      "  > Dipole moment (a.u.): [0.0  0.0  -0.000000001555]  Total: 0.000000001555\n",
      "                 (debye): [0.0  0.0  -0.000000003953]  Total: 0.000000003953\n",
      " \n"
     ]
    }
   ],
   "source": [
    "solver = GroundStateEigensolver(mapper, NumPyMinimumEigensolver())\n",
    "result = solver.solve(es_problem)\n",
    "print(result)"
   ]
  },
  {
   "cell_type": "code",
   "execution_count": 34,
   "metadata": {},
   "outputs": [],
   "source": [
    "\n",
    "# mapper = QubitConverter(JordanWignerMapper())\n",
    "mapper = JordanWignerMapper()\n",
    "\n",
    "ansatz = UCCSD(\n",
    "    es_problem.num_spatial_orbitals,\n",
    "    es_problem.num_particles,\n",
    "    mapper,\n",
    "    initial_state=HartreeFock(\n",
    "        es_problem.num_spatial_orbitals,\n",
    "        es_problem.num_particles,\n",
    "        mapper,\n",
    "    ),\n",
    ")\n",
    "\n",
    "vqe_solver = VQE(Estimator(), ansatz, SLSQP())\n",
    "vqe_solver.initial_point = np.zeros(ansatz.num_parameters)\n",
    "\n",
    "adapt_vqe = AdaptVQE(vqe_solver)\n"
   ]
  },
  {
   "cell_type": "code",
   "execution_count": 35,
   "metadata": {},
   "outputs": [
    {
     "name": "stdout",
     "output_type": "stream",
     "text": [
      "VQE total ground state energy = -1.1373\n",
      "ADAPT-VQE total ground state energy = -1.1373\n"
     ]
    }
   ],
   "source": [
    "\n",
    "\n",
    "vqe_calc = GroundStateEigensolver(mapper, vqe_solver)\n",
    "vqe_res = vqe_calc.solve(es_problem)\n",
    "\n",
    "adap_calc = GroundStateEigensolver(mapper, adapt_vqe)\n",
    "adap_res = adap_calc.solve(es_problem)\n",
    "\n",
    "print(f\"VQE total ground state energy = {vqe_res.total_energies[0]:.4f}\")\n",
    "print(f\"ADAPT-VQE total ground state energy = {adap_res.total_energies[0]:.4f}\")"
   ]
  },
  {
   "cell_type": "code",
   "execution_count": 36,
   "metadata": {},
   "outputs": [
    {
     "data": {
      "text/plain": [
       "-1.116998996754004"
      ]
     },
     "execution_count": 36,
     "metadata": {},
     "output_type": "execute_result"
    }
   ],
   "source": [
    "vqe_res.hartree_fock_energy"
   ]
  },
  {
   "cell_type": "code",
   "execution_count": 37,
   "metadata": {},
   "outputs": [
    {
     "data": {
      "text/plain": [
       "-1.116998996754004"
      ]
     },
     "execution_count": 37,
     "metadata": {},
     "output_type": "execute_result"
    }
   ],
   "source": [
    "es_problem.reference_energy"
   ]
  },
  {
   "cell_type": "code",
   "execution_count": 38,
   "metadata": {},
   "outputs": [
    {
     "data": {
      "text/html": [
       "<div>\n",
       "<style scoped>\n",
       "    .dataframe tbody tr th:only-of-type {\n",
       "        vertical-align: middle;\n",
       "    }\n",
       "\n",
       "    .dataframe tbody tr th {\n",
       "        vertical-align: top;\n",
       "    }\n",
       "\n",
       "    .dataframe thead th {\n",
       "        text-align: right;\n",
       "    }\n",
       "</style>\n",
       "<table border=\"1\" class=\"dataframe\">\n",
       "  <thead>\n",
       "    <tr style=\"text-align: right;\">\n",
       "      <th></th>\n",
       "      <th>Name</th>\n",
       "      <th>Maths</th>\n",
       "      <th>Science</th>\n",
       "    </tr>\n",
       "  </thead>\n",
       "  <tbody>\n",
       "    <tr>\n",
       "      <th>0</th>\n",
       "      <td>Martha</td>\n",
       "      <td>87</td>\n",
       "      <td>83</td>\n",
       "    </tr>\n",
       "    <tr>\n",
       "      <th>1</th>\n",
       "      <td>Tim</td>\n",
       "      <td>91</td>\n",
       "      <td>99</td>\n",
       "    </tr>\n",
       "    <tr>\n",
       "      <th>2</th>\n",
       "      <td>Rob</td>\n",
       "      <td>97</td>\n",
       "      <td>84</td>\n",
       "    </tr>\n",
       "    <tr>\n",
       "      <th>3</th>\n",
       "      <td>Georgia</td>\n",
       "      <td>95</td>\n",
       "      <td>76</td>\n",
       "    </tr>\n",
       "  </tbody>\n",
       "</table>\n",
       "</div>"
      ],
      "text/plain": [
       "      Name  Maths  Science\n",
       "0   Martha     87       83\n",
       "1      Tim     91       99\n",
       "2      Rob     97       84\n",
       "3  Georgia     95       76"
      ]
     },
     "execution_count": 38,
     "metadata": {},
     "output_type": "execute_result"
    }
   ],
   "source": [
    "import pandas as pd\n",
    "\n",
    "dict = {'Name' : ['Martha', 'Tim', 'Rob', 'Georgia'],\n",
    "        'Maths' : [87, 91, 97, 95],\n",
    "        'Science' : [83, 99, 84, 76]}\n",
    "df = pd.DataFrame(dict)\n",
    "df"
   ]
  },
  {
   "cell_type": "code",
   "execution_count": 41,
   "metadata": {},
   "outputs": [
    {
     "data": {
      "text/html": [
       "<div>\n",
       "<style scoped>\n",
       "    .dataframe tbody tr th:only-of-type {\n",
       "        vertical-align: middle;\n",
       "    }\n",
       "\n",
       "    .dataframe tbody tr th {\n",
       "        vertical-align: top;\n",
       "    }\n",
       "\n",
       "    .dataframe thead th {\n",
       "        text-align: right;\n",
       "    }\n",
       "</style>\n",
       "<table border=\"1\" class=\"dataframe\">\n",
       "  <thead>\n",
       "    <tr style=\"text-align: right;\">\n",
       "      <th></th>\n",
       "      <th>Method</th>\n",
       "      <th>Ground state energy</th>\n",
       "      <th>Delta</th>\n",
       "    </tr>\n",
       "  </thead>\n",
       "  <tbody>\n",
       "    <tr>\n",
       "      <th>0</th>\n",
       "      <td>Hartree-Fock</td>\n",
       "      <td>-1.116999</td>\n",
       "      <td>83</td>\n",
       "    </tr>\n",
       "    <tr>\n",
       "      <th>1</th>\n",
       "      <td>Exact</td>\n",
       "      <td>-1.137306</td>\n",
       "      <td>99</td>\n",
       "    </tr>\n",
       "    <tr>\n",
       "      <th>2</th>\n",
       "      <td>VQE</td>\n",
       "      <td>-1.137306</td>\n",
       "      <td>8</td>\n",
       "    </tr>\n",
       "  </tbody>\n",
       "</table>\n",
       "</div>"
      ],
      "text/plain": [
       "         Method  Ground state energy  Delta\n",
       "0  Hartree-Fock            -1.116999     83\n",
       "1         Exact            -1.137306     99\n",
       "2           VQE            -1.137306      8"
      ]
     },
     "execution_count": 41,
     "metadata": {},
     "output_type": "execute_result"
    }
   ],
   "source": [
    "dict = {'Method' : ['Hartree-Fock', 'Exact', 'VQE'],\n",
    "        'Ground state energy' : [es_problem.reference_energy, adap_res.total_energies[0], vqe_res.total_energies[0]],\n",
    "        'Delta' : [83, 99, 8]}\n",
    "df = pd.DataFrame(dict)\n",
    "df"
   ]
  },
  {
   "cell_type": "code",
   "execution_count": null,
   "metadata": {},
   "outputs": [],
   "source": [
    "from pyscf import gto, scf, mcscf\n",
    "from pyscf.mcscf import avas #AVAS method to construct mcscf active space\n",
    "\n",
    "from qiskit_nature_pyscf import QiskitSolver"
   ]
  },
  {
   "cell_type": "code",
   "execution_count": null,
   "metadata": {},
   "outputs": [
    {
     "name": "stdout",
     "output_type": "stream",
     "text": [
      "converged SCF energy = -1.116998996754\n",
      "CASCI E = -1.1373060356956  E(CI) = -1.85727503014458\n"
     ]
    },
    {
     "data": {
      "text/plain": [
       "<pyscf.mcscf.casci.CASCI at 0x7f50569e3700>"
      ]
     },
     "execution_count": 10,
     "metadata": {},
     "output_type": "execute_result"
    }
   ],
   "source": [
    "#  Initialisation de la structure moléculaire\n",
    "H2_mol = gto.M(atom=\"H 0 0 0; H 0 0 .735\", basis=\"sto-3g\")\n",
    "\n",
    "# Calculs HF \n",
    "H2_h_f = scf.RHF(H2_mol).run()\n",
    "\n",
    "# Calculs post-HF\n",
    "norb, nelec, mo =avas.avas(H2_h_f,['H 1s','H 1s'])\n",
    "\n",
    "H2_cas = mcscf.CASCI(H2_h_f, norb, nelec)\n",
    "\n",
    "# Intégration de l'algorithme quantique\n",
    "# mapper = JordanWignerMapper()\n",
    "# optimizer = SPSA()\n",
    "\n",
    "H2_cas.fcisolver = QiskitSolver(adap_calc)\n",
    "\n",
    "H2_cas.run()"
   ]
  },
  {
   "cell_type": "code",
   "execution_count": null,
   "metadata": {},
   "outputs": [
    {
     "data": {
      "text/html": [
       "<h3>Version Information</h3><table><tr><th>Qiskit Software</th><th>Version</th></tr><tr><td><code>qiskit-terra</code></td><td>0.23.3</td></tr><tr><td><code>qiskit-aer</code></td><td>0.12.0</td></tr><tr><td><code>qiskit-ibmq-provider</code></td><td>0.20.2</td></tr><tr><td><code>qiskit</code></td><td>0.42.1</td></tr><tr><td><code>qiskit-nature</code></td><td>0.6.0</td></tr><tr><td><code>qiskit-machine-learning</code></td><td>0.6.0</td></tr><tr><th>System information</th></tr><tr><td>Python version</td><td>3.10.10</td></tr><tr><td>Python compiler</td><td>GCC 11.3.0</td></tr><tr><td>Python build</td><td>main, Mar 24 2023 20:08:06</td></tr><tr><td>OS</td><td>Linux</td></tr><tr><td>CPUs</td><td>6</td></tr><tr><td>Memory (Gb)</td><td>7.12152099609375</td></tr><tr><td colspan='2'>Thu May 04 06:21:03 2023 WAT</td></tr></table>"
      ],
      "text/plain": [
       "<IPython.core.display.HTML object>"
      ]
     },
     "metadata": {},
     "output_type": "display_data"
    }
   ],
   "source": [
    "import qiskit.tools.jupyter\n",
    "\n",
    "%qiskit_version_table"
   ]
  }
 ],
 "metadata": {
  "kernelspec": {
   "display_name": "qiskit-env",
   "language": "python",
   "name": "qiskit-env"
  },
  "language_info": {
   "codemirror_mode": {
    "name": "ipython",
    "version": 3
   },
   "file_extension": ".py",
   "mimetype": "text/x-python",
   "name": "python",
   "nbconvert_exporter": "python",
   "pygments_lexer": "ipython3",
   "version": "3.10.11"
  }
 },
 "nbformat": 4,
 "nbformat_minor": 4
}
