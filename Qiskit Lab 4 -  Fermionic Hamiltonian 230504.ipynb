{
 "cells": [
  {
   "attachments": {},
   "cell_type": "markdown",
   "metadata": {},
   "source": [
    "# QISKIT Lab 4 - Fermionic Hamiltonian\n",
    "\n",
    "1. **S. G. Nana Engo**, serge.nana-engo@facsciences-uy1.cm\n",
    "    * Department of Physics, Faculty of Science, University of Yaounde I\n",
    "1. **J-P. Tchapet Njafa**, jean-pierre.tchapet-njafa@univ-maroua.cm\n",
    "    * Department of Physics, Faculty of Science, University of Maroua\n",
    "1. **P. Djorwe**, djorwepp@gmail.com\n",
    "    * Department of Physics, Faculty of Science, University of Ngaoundere\n",
    "       \n",
    "May 2023"
   ]
  },
  {
   "attachments": {},
   "cell_type": "markdown",
   "metadata": {},
   "source": [
    "$$\n",
    "\\newcommand{\\br}{\\mathbf{r}}  \n",
    "\\newcommand{\\ad}{a^\\dagger}  \n",
    "$$"
   ]
  },
  {
   "attachments": {},
   "cell_type": "markdown",
   "metadata": {},
   "source": [
    "## Structure électronique des molécules en première quantification\n",
    "\n",
    "### Hamiltonien d'une molécule\n",
    "\n",
    "L'Hamiltonien d'une molécule constituée de noyaux $K$ et d'électrons $N$ est\n",
    "\\begin{equation*}\n",
    "\\mathtt{H}=\\mathtt{T}_e+\\mathtt{T}_n+\\mathtt{U}_{en}+\\mathtt{U}_{en}+\\mathtt{U}_{nn},\n",
    "\\end{equation*}\n",
    "où\n",
    "- $\\mathtt{T}_e= -\\sum_i\\frac{\\hbar^2}{2m_e}\\nabla^2_i$ est l'énergie cinétique électronique;\n",
    "- $\\mathtt{T}_n=-\\sum_I\\frac{\\hbar^2}{2M_I}\\nabla^2_I$ est l'énergie cinétique nucléaire;\n",
    "- $\\mathtt{U}_{en}= -\\sum_{i,I}\\frac{e^2}{4\\pi\\epsilon_0}\\frac{Z_I}{|\\mathbf{r}_i-\\mathbf{R}_I|}$ est la répulsion coulombienne entre les électrons et les noyaux;\n",
    "- $\\mathtt{U}_{ee}=+\\frac{1}{2}\\sum_{i\\neq j}\\frac{e^2}{4\\pi\\epsilon_0}\\frac{1}{|\\mathbf{r}_i-\\mathbf{r}_j|}$ est la répulsion coulombienne entre les électrons eux-mêmes;\n",
    "- $\\mathtt{U}_{nn}=+\\frac{1}{2}\\sum_{I\\neq J}\\frac{e^2}{4\\pi\\epsilon_0}\\frac{Z_IZ_J}{|\\mathbf{R}_I-\\mathbf{R}_J|}$ est la répulsion coulombienne entre les noyaux eux-mêmes.\n",
    "\n",
    "$M_I$, $\\mathbf{R}_I$ et $Z_I$ ($I=1,2$) désignent la masse, la position et le numéro atomique du *I*-ème noyau, et $\\mathbf{r}_i$ est la position du *i*-ème électron. Par souci de concision, nous travaillons en unités atomiques, où l'unité de longueur est $a_0 = 1$ Bohr ($0.529167~\\mathtt{T}imes~10^{-10}$ m), l'unité de masse est la masse électronique $m_e$ et l'unité d'énergie est 1 Hartree ($1~\\textrm{Hartree}~= ~{e^2}/{4\\pi\\epsilon_0 a_0}~=~27.2113~\\textrm{eV}$). Dénotant $M_I'=M_I/m_e$, les différents termes de l'Hamiltonien moléculaire en unités atomiques s'écrit\n",
    "\\begin{equation*}\n",
    "\\begin{split}\n",
    "\\mathtt{T}_e&=-\\sum_i\\frac{\\nabla^2_i}{2}, \\qquad\\mathtt{T}_n= -\\sum_I\\frac{\\nabla^2_I}{2M_I'}, \n",
    " \\qquad\\mathtt{U}_{en}= - \\sum_{i,I}\\frac{Z_I}{|\\mathbf{r}_i-\\mathbf{R}_I|},\\\\\n",
    "\\mathtt{U}_{ee}&=+\\frac{1}{2}\\sum_{i\\neq j}\\frac{1}{|\\mathbf{r}_i-\\mathbf{r}_j|}\n",
    "=+\\sum_{i,j>i}\\frac{1}{|\\mathbf{r}_i-\\mathbf{r}_j|},\\\\\n",
    "\\mathtt{U}_{nn}&=+\\frac{1}{2}\\sum_{I\\neq J}\\frac{Z_IZ_J}{|\\mathbf{R}_I-\\mathbf{R}_J|}\n",
    "=+\\sum_{I,J>I}\\frac{Z_IZ_J}{|\\mathbf{R}_I-\\mathbf{R}_J|}.\n",
    "\\end{split}\n",
    "\\end{equation*}\n",
    "\n",
    "###  Approximation de Born-Oppenheimer\n",
    "\n",
    "Nous nous intéressons principalement à la structure *électronique* de la molécule. Comme $M'\\sim10^3$, nous appliquons l'**approximation de Born-Oppenheimer**, en traitant les noyaux comme des charges ponctuelles classiques. En conséquence, le terme d'énergie cinétique nucléaire $T_n$ est négligé, $\\mathtt{U}_{nn}(\\mathbf{R})$ est constant et l'Hamiltonien moléculaire est approché par un Hamiltonien électronique paramétré par $\\mathbf{R}$,\n",
    "\\begin{equation*}\n",
    "\\begin{split}\n",
    "\\mathtt{H}(\\mathbf{R}) &= \\mathtt{U}_{nn}+\\underset{\\text{One-Electron Operators}}{\\mathtt{T}_e + \\mathtt{U}_{en}(\\mathbf{R})} + \\underset{\\text{Two-Electron Operator}}{\\mathtt{U}{ee}}\\\\\n",
    "&= \\mathtt{U}_{nn}+\\underset{\\text{One-Electron Operator}}{\\sum_i h(i)} + \\underset{\\text{Two-Electron Operator}}{\\sum_{i\\ne j}v(i, j)}.\n",
    "\\end{split}\n",
    "\\end{equation*}\n",
    "\n",
    "### Energie potentiel de surface\n",
    "\n",
    "En vertu de l'équation de $\\mathtt{H}(\\mathbf{R})$ préceédente, l'équation de Schrödinger indépendante du temps non relativiste écrit\n",
    "\\begin{equation*}\n",
    "\\mathtt{H}(\\mathbf{R})\\psi_i(\\mathbf{R},\\mathbf{r})=E_i(\\mathbf{R})\\psi_i(\\mathbf{R},\\mathbf{r}),\n",
    "\\end{equation*}\n",
    "où $\\psi_i(\\mathbf{R},\\mathbf{r})$ désigne l'un des états propres et $E_i(\\mathbf{R})$ correspond aux surfaces d'énergie potentielle moléculaire (PES), ce qui est important pour comprendre les processus chimiques tels que la formation et la rupture de liaison. En règle générale, la précision du calcul du PES (Potential Energy Surface) doit être limitée à la *précision chimique* $\\epsilon=1 \\textrm{kcal}\\textrm{mol}^{-1}(\\sim 1.59\\times 10^{-3}\\textrm{Hartrees},\\, 43.3\\textrm{meV})$.\n",
    "\n",
    "L'énergie de l'état fondamental est donnée par\n",
    "\\begin{equation*}\n",
    "E_0 = \\frac{\\langle\\psi_0|\\mathtt{H}|\\psi_0\\rangle}{\\langle\\psi_0|\\psi_0\\rangle},\n",
    "\\end{equation*}\n",
    "où $|\\psi_0\\rangle$ est l'état fondamental du système. Cependant, la dimensionnalité de ce problème croît exponentiellement avec le nombre de degrés de liberté. Pour résoudre ce problème, nous aimerions préparer $\\psi_0$ sur un calculateur quantique et mesurer directement la valeur moyenne hamiltonienne (ou $E_0$). Alors, comment pouvons-nous faire cela concrètement?\n",
    "\n",
    "Un bon point de départ pour résoudre ce problème est la méthode Hartree-Fock (HF), autrement nous allong prendre comme focntion d'état de réféfrence la fonction d'état HF. Cette méthode rapproche un problème à N corps en N problèmes à un corps où chaque électron évolue dans le champ moyen des autres. \n",
    "\n",
    "\n",
    "### Déterminant Slater\n",
    "\n",
    "Un déterminant de Slater est un produit anti-symétrique d'un ou de plusieurs spin orbitals. Pour un système à $N$-electron, le déterminant de Slater s'écrit\n",
    "\\begin{equation*}\n",
    "\\begin{split}\n",
    "\\psi(\\br_0, \\br_1, \\ldots, \\br_{N-1})\\equiv |\\phi_{M-1},\\cdots,  \\phi_1, \\phi_0 \\rangle \n",
    "&=   \\frac{1}{\\sqrt{N!}}\n",
    "\\begin{vmatrix} \\phi_0(\\br_0) & \\phi_1(\\br_0) & \\cdots & \\phi_{M-1}(\\br_0) \\\\\n",
    "      \\phi_0(\\br_1) & \\phi_1(\\br_1) & \\cdots & \\phi_{M-1}(\\br_1) \\\\\n",
    "      \\vdots & \\vdots & \\ddots & \\vdots \\\\\n",
    "      \\phi_0(\\br_{N-1}) & \\phi_1(\\br_{N-1}) & \\cdots & \\phi_{M-1}(\\br_{N-1})\n",
    "\\end{vmatrix} \\\\\n",
    "&\\equiv |M-1,\\dots, 1, 0 \\rangle,\n",
    "\\end{split}\n",
    "\\end{equation*}\n",
    " L'échange des positions de deux électrons est équivalent à l'échange de deux rangées du déterminant de Slater, ce qui modifie le signe de la fonction d'état. Cela fournit la symétrie d'échange correcte pour la fonction d'état fermionique. Bien que le nombre de spin-orbitales considérées, $M$, soit généralement plus élevé que le nombre d'électrons dans le système, $N$, les électrons ne peuvent occuper que $N$ des spin-orbitales dans un déterminant Slater donné. En conséquence, le déterminant de Slater ne contient que les spin-orbitales occupées $N$.\n"
   ]
  },
  {
   "attachments": {},
   "cell_type": "markdown",
   "metadata": {},
   "source": [
    "### Exemple d'illustration\n",
    "\n",
    "Pour rendre les correspondances plus claires, nous examinons comment une fonction d'état sera représentée pour un système quantique fictif. On considère les\n",
    "orbitales de spin $|A_\\uparrow\\rangle,\\,|A_\\downarrow\\rangle,\\,|B_\\uparrow\\rangle,\\,|B_\\downarrow\\rangle$. Nous sommes libres de définir arbitrairement l'état Hartree-Fock de notre système fictif et de choisir les deux électrons dans l'orbitale $|A\\rangle $. Nous sommes intéressés par la fonction d'état lorsque la composante $z$ du spin est nulle.\n",
    "\n",
    "Labellisons chaque orbitale ainsi qu'il suit :\n",
    "\\begin{align*}\n",
    " &|A_\\uparrow\\rangle=|00\\rangle=|\\mathbf{0}\\rangle,  &&|A_\\downarrow\\rangle=|01\\rangle=|\\mathbf{1}\\rangle,\n",
    "&&|B_\\uparrow\\rangle=|10\\rangle=|\\mathbf{2}\\rangle,  &|B_\\downarrow\\rangle=|11\\rangle=|\\mathbf{3}\\rangle.\n",
    "\\end{align*}\n",
    "L'état de Hartree-Fock possède les deux électrons dans les orbitales $|A\\rangle$. Un état HF incorrectement symétrisé serait donc $|A_\\uparrow\\rangle_1\n",
    "|A_\\downarrow\\rangle_2 = |\\mathbf{0}\\rangle_1|\\mathbf{1}\\rangle_2$, où les indices indiquent l'électron décrit par chaque orbitale. La fonction d'état HF correctement antisymétrisée serait \n",
    "\\begin{equation*}\n",
    "\\begin{split}\n",
    "    |\\Psi_{\\mathrm{HF}}\\rangle =  \\frac{1}{\\sqrt{2}}\n",
    "\t\t\\begin{vmatrix}\n",
    "\t\tA_\\uparrow(\\mathbf{x}_0) & A_\\downarrow(\\mathbf{x}_0)\\\\\n",
    "\t\tA_\\uparrow(\\mathbf{x}_1) & A_\\downarrow(\\mathbf{x}_1)\\\\\n",
    "\t\t\\end{vmatrix}\n",
    "\t\t&= \\frac{1}{\\sqrt{2}}  \\Big( A_\\uparrow(\\mathbf{x_0}) A_\\downarrow(\\mathbf{x_1}) - A_\\downarrow(\\mathbf{x_0}) A_\\uparrow(\\mathbf{x_1})  \\Big)\\\\\n",
    "&=\\frac{1}{\\sqrt{2}} (|\\mathbf{0}\\rangle_1|\\mathbf{1}\\rangle_2 - |\\mathbf{1}\\rangle_1|\\mathbf{0}\\rangle_2 ).\n",
    "\\end{split}\n",
    "\\end{equation*}\n",
    "Si nous considérons maintenant les excitations au-dessus de l'état HF, alors une fonction d'état générale avec $s_z=0$ qui a été correctement antisymétrisée est\n",
    "donnée par\n",
    "\\begin{equation*}\n",
    "\\begin{aligned}\n",
    "|\\Psi\\rangle =& \\frac{\\alpha}{\\sqrt{2}}(|\\mathbf{0}\\rangle_1|\\mathbf{1}\\rangle_2 - |\\mathbf{1}\\rangle_1|\\mathbf{0}\\rangle_2 ) \n",
    "+\\frac{\\beta}{\\sqrt{2}} (|\\mathbf{2}\\rangle_1|\\mathbf{3}\\rangle_2 - |\\mathbf{3}\\rangle_1|\\mathbf{2}\\rangle_2 ) \\\\\n",
    "+& \\frac{\\gamma}{\\sqrt{2}} (|\\mathbf{0}\\rangle_1|\\mathbf{3}\\rangle_2 - |\\mathbf{3}\\rangle_1|\\mathbf{0}\\rangle_2 ) + \\frac{\\delta}{\\sqrt{2}} (|\\mathbf{1}\\rangle_1|\\mathbf{2}\\rangle_2 - |\\mathbf{2}\\rangle_1|\\mathbf{1}\\rangle_2 ).\n",
    "\\end{aligned}\n",
    "\\end{equation*}\n",
    "Comme nous avons $N=2$ électrons et $M=4$ spin-orbitales, nous pouvons voir que nous avons seulement besoin de $N \\lceil\\mathrm{log_2}(M)\\rceil = 2 \\times \\lceil\\mathrm{log_2}(4)\\rceil = 4$ qubits pour stocker la fonction d'état.\n"
   ]
  },
  {
   "attachments": {},
   "cell_type": "markdown",
   "metadata": {},
   "source": [
    "## Bases chimiques\n",
    "\n",
    "Un ensemble de base est un ensemble de fonctions, appelées **[fonctions de base](https://chem.libretexts.org/Bookshelves/Physical_and_Theoretical_Chemistry_Textbook_Maps/Supplemental_Modules_(Physical_and_Theoretical_Chemistry)/Quantum_Mechanics/17%3A_Quantum_Calculations/ab_initio_Basis_Sets)**, telles que toute orbitale moléculaire électronique peut être approchée\n",
    "comme une **combinaison linéaire de ses orbitales atomiques (LCAO, Linear combination of atomic orbitals)**.\n",
    "\n",
    "Les deux classes d'orbitales de base approximatives couramment utilisées sont les **Slater-type orbitals (STOs)** basées sur le déterminant de Slater, et les **orbitales cartésiennes de type Gaussien (GTO)**. Ces deux types de fonctions de base peut être combiné comme **STO-nG (Slater-type orbital-n Gaussians)**, où n est le nombre de gaussiennes utilisées pour faire les approximations.\n",
    "\n",
    "Détaillons la structure de ces deux classes.\n",
    "\n",
    "### Orbitales de type Slater\n",
    " Ce sont les fonctions d'état radiales de la forme\n",
    "\n",
    " \\begin{align*}\n",
    "& R_\\ell(r) = A(\\ell,\\zeta) r^\\ell e^{-\\zeta r},\n",
    "& A(\\ell,\\zeta) = (2\\zeta)^{\\ell+1} \\sqrt{\\frac{2\\zeta}{(2\\ell+2)!}},\n",
    "\\end{align*}\n",
    "\n",
    "où,\n",
    " * $\\ell< n$ est le nombre quantique de moment quantique orbital et $n$ le nombre quantique principal;\n",
    " * $r$ est la distance entre l'électron et le noyau atomique;\n",
    " * $\\zeta$ est l'exposant orbital qui contrôle la vitesse à laquelle la densité de l'orbite s'annule en fonction de la distance nucléaire $r$;\n",
    " * $A(\\ell,\\zeta)$ est le facteur de normalisation.\n",
    "\n",
    "Pour une orbitale $1s$, $\\ell=0$ et\n",
    "\\begin{align*}\n",
    "&A(0,\\zeta) = 2\\zeta^{3/2}, &R_0(r) =2\\zeta^{3/2}e^{-\\zeta r}.\n",
    "\\end{align*}\n",
    "\n",
    "Un code python permettant de visualiser cette fonction est le suivant:"
   ]
  },
  {
   "cell_type": "code",
   "execution_count": 130,
   "metadata": {},
   "outputs": [],
   "source": [
    "import numpy as np\n",
    "import matplotlib.pyplot as plt"
   ]
  },
  {
   "cell_type": "code",
   "execution_count": 131,
   "metadata": {},
   "outputs": [
    {
     "data": {
      "text/plain": [
       "<matplotlib.legend.Legend at 0x7fecc01766e0>"
      ]
     },
     "execution_count": 131,
     "metadata": {},
     "output_type": "execute_result"
    },
    {
     "data": {
      "image/png": "[encoded data removed]",
      "text/plain": [
       "<Figure size 400x300 with 1 Axes>"
      ]
     },
     "metadata": {},
     "output_type": "display_data"
    }
   ],
   "source": [
    "x = np.linspace(-5,5,num=1000)\n",
    "r = abs(x)\n",
    "zeta = 1.0\n",
    "\n",
    "R = 2*zeta**(1.5)*np.exp(-zeta*r)\n",
    "\n",
    "plt.figure(figsize=(4,3))\n",
    "plt.plot(x,R,label=\"STO 1s H\")\n",
    "plt.legend()\n"
   ]
  },
  {
   "attachments": {},
   "cell_type": "markdown",
   "metadata": {},
   "source": [
    "### Do it yourself\n",
    "\n",
    "Ecriver un code python pour visualiser STO 2s H."
   ]
  },
  {
   "attachments": {},
   "cell_type": "markdown",
   "metadata": {},
   "source": [
    "Un code python permettant visualiser la fonction d'état spatiale antisymétrique pour la molécule d'hydrogène comme une combinaison linéaire de la partie radiale précédente de l'orbitale de Slater pour un atome d'hydrogène est la suivante:"
   ]
  },
  {
   "cell_type": "code",
   "execution_count": 132,
   "metadata": {},
   "outputs": [
    {
     "data": {
      "text/plain": [
       "<matplotlib.legend.Legend at 0x7fecc0089840>"
      ]
     },
     "execution_count": 132,
     "metadata": {},
     "output_type": "execute_result"
    },
    {
     "data": {
      "image/png": "[encoded data removed]",
      "text/plain": [
       "<Figure size 400x300 with 1 Axes>"
      ]
     },
     "metadata": {},
     "output_type": "display_data"
    }
   ],
   "source": [
    "x = np.linspace(-7,7,num=1000)\n",
    "r1 = abs(x+2.5)\n",
    "r2 = abs(x-2.5)\n",
    "alpha = 1.0\n",
    "\n",
    "R = 2*alpha**(1.5)*np.exp(-alpha*r1)-2*alpha**(1.5)*np.exp(-alpha*r2)\n",
    "\n",
    "plt.figure(figsize=(4,3))\n",
    "plt.plot(x,R,label=\"Antisymmetric STO H2\")\n",
    "plt.legend()\n"
   ]
  },
  {
   "attachments": {},
   "cell_type": "markdown",
   "metadata": {},
   "source": [
    "### Orbitales de type GTO\n",
    "\n",
    "Ce sont les fonctions d'état radiales de la forme\n",
    "\n",
    " \\begin{align*}\n",
    " &R_a = B(\\ell,\\alpha_a) r_a^\\ell e^{-\\alpha_a r_a^2},\n",
    " &B(\\ell,\\alpha_a) = \\Bigg(\\frac2\\pi\\Bigg)^{3/4}\\frac{2^{(n+\\ell+m)}\\alpha_a^{(2n+2\\ell+2m+3)/4}}{\\sqrt{(2n-1)!(2\\ell-1)!(2m-1)!}},\n",
    "\\end{align*}\n",
    "où,\n",
    " * $n$ est le nombre quantique principal, $\\ell< n$ le nombre quantique de moment quantique orbital et $m\\in[-\\ell.+\\ell]$ le nombre quantique azimutal;\n",
    " * $r_a$ est la distance entre l'électron et le noyau atomique **a**;\n",
    " * $\\alpha_a$ est l'exposant orbital qui contrôle la vitesse à laquelle la densité de l'orbite s'annule en fonction de la distance nucléaire $r_a$. Plus $\\alpha_a$ est petit, plus l'orbitale décrite est diffuse. Plus $\\alpha_a$ est grand, plus l'orbitale est polarisée;\n",
    " * $B(\\ell,\\alpha_a)$ est le facteur de normalisation.\n",
    "\n",
    "En pratique, nous approximons la partie radiale d'un STO avec une combinaison linéaire de fonctions Gaussiennes primitives, appelée **fonction Gaussienne contractée**. Les ensembles de base STO-nG incluent une fonction Gaussienne contractée par orbitale atomique.\n",
    "\n",
    "Un code python permettant de visualiser la fonction STO-3G pour l'orbite 1s de l'atome d'hydrogène fonction est le suivant:\n",
    "\n",
    " \\begin{align*}\n",
    " &\\Psi_{\\rm STO-3G} (1s)= \\sum_{i=1}^3 B_i(0,\\alpha_i) e^{-\\alpha_i r^2},\n",
    " &B(0,\\alpha_i) = c_i\\Bigg(\\frac{2 \\alpha_i}{\\pi}\\Bigg)^{3/4},\n",
    "\\end{align*}\n",
    "avec \n",
    "$$ \\begin{array}{|l|l|l|l|}\n",
    "c_i & 0.444635 & 0.535328 & 0.154329\\\\\\hline\n",
    "\\alpha_i& 0.109818 & 0.405771 & 2.227660\\\\\n",
    "\\end{array}\n",
    "$$"
   ]
  },
  {
   "cell_type": "code",
   "execution_count": 133,
   "metadata": {},
   "outputs": [
    {
     "data": {
      "text/plain": [
       "<matplotlib.legend.Legend at 0x7fecc0100400>"
      ]
     },
     "execution_count": 133,
     "metadata": {},
     "output_type": "execute_result"
    },
    {
     "data": {
      "image/png": "[encoded data removed]",
      "text/plain": [
       "<Figure size 500x300 with 1 Axes>"
      ]
     },
     "metadata": {},
     "output_type": "display_data"
    }
   ],
   "source": [
    "x = np.linspace(-7,7,num=1000)\n",
    "r = abs(x)\n",
    "c = [0.444635,0.535328,0.154329]\n",
    "alpha = [0.109818,0.405771,2.227660]\n",
    "\n",
    "psi = 0\n",
    "for k in range(3):\n",
    "    psi += c[k]*(2*alpha[k]/np.pi)**0.75 * np.exp(-alpha[k]*r**2)\n",
    "\n",
    "plt.figure(figsize=(5,3))\n",
    "plt.plot(x,psi,label=\"STO-3G 1s H\")\n",
    "plt.legend()\n"
   ]
  },
  {
   "attachments": {},
   "cell_type": "markdown",
   "metadata": {},
   "source": [
    "Un code python permettant de visualiser la fonction d'état spatiale antisymétrique pour la molécule d'hydrogène comme une combinaison linéaire de la partie radiale précédente de la fonction STO-3G pour l'orbite $1s$ d'un atome d'hydrogène est le suivant :"
   ]
  },
  {
   "cell_type": "code",
   "execution_count": 134,
   "metadata": {},
   "outputs": [
    {
     "data": {
      "text/plain": [
       "<matplotlib.legend.Legend at 0x7fecc00cae90>"
      ]
     },
     "execution_count": 134,
     "metadata": {},
     "output_type": "execute_result"
    },
    {
     "data": {
      "image/png": "[encoded data removed]",
      "text/plain": [
       "<Figure size 500x300 with 1 Axes>"
      ]
     },
     "metadata": {},
     "output_type": "display_data"
    }
   ],
   "source": [
    "x = np.linspace(-7,7,num=1000)\n",
    "r1 = abs(x+2.5)\n",
    "r2 = abs(x-2.5)\n",
    "c = [0.444635,0.535328,0.154329]\n",
    "alpha = [0.109818,0.405771,2.227660]\n",
    "\n",
    "psi = 0\n",
    "for k in range(3):\n",
    "    psi += c[k]*(2*alpha[k]/np.pi)**0.75 * np.exp(-\n",
    "alpha[k]*r1**2) \\\n",
    "- c[k]*(2*alpha[k]/np.pi)**0.75 * np.exp(-alpha[k]*r2**2)\n",
    "\n",
    "plt.figure(figsize=(5,3))\n",
    "plt.plot(x,psi,label=\"Antisymmetric STO-3G H2\")\n",
    "plt.legend()"
   ]
  },
  {
   "attachments": {},
   "cell_type": "markdown",
   "metadata": {},
   "source": [
    "## Construction d'un opérateur Hamiltonien fermionique \n",
    "\n",
    "### Génération des intégrales moléculaires\n",
    "\n",
    "L'Hamiltonien  est exprimé dans la base des solutions de la méthode HF, également appelées Orbitales Moléculaires (OM) :\n",
    "$$\n",
    "\\mathtt{H}_{elec}=\\sum_{pq} h_{pq} a^{\\dagger}_p a_q + \n",
    "\\frac{1}{2} \\sum_{pqrs} h_{pqrs}  a^{\\dagger}_p a^{\\dagger}_q a_r  a_s\n",
    "$$\n",
    "avec \n",
    "* les **intégrales à 1 électron**\n",
    "$$\n",
    "h_{pq} = \\int \\phi^*_p(r) \\left( -\\frac{1}{2} \\nabla^2 - \\sum_{I} \\frac{Z_I}{|\\mathbf{r}_i-\\mathbf{R}_I|} \\right)   \\phi_q(r)d\\mathbf{r}\n",
    "$$\n",
    "qui décrivent l’énergie cinétique des électrons individuels et leurs interactions avec les champs électriques du noyau ;\n",
    "* et **intégrales à 2 électrons**\n",
    "$$\n",
    "h_{pqrs} = \\int \\frac{\\phi^*_p(r_1)  \\phi^*_q(r_2) \\phi_r(r_2)  \\phi_s(r_1)}{|\\mathbf{r}_1-\\mathbf{r}_2|}d\\mathbf{r}_1d\\mathbf{r}_2,\n",
    "$$\n",
    "décrivent les interactions entre les électrons;\n",
    "* $\\ad_p$ l'opérateur de création d'un électron sur le spin-orbite $p$;\n",
    "* $a_q$ l'opérateur d'annihilation d'un électron sur sur le spin-orbite $q$;\n",
    "* $a^{\\dagger}_p a_q $ est l'**opérateur d'excitation**, qui excite un électron du spin-orbite occupé $\\phi_q$ vers le spin-orbite inoccupé $\\phi_p$.\n",
    "\n",
    "Les MO ($\\phi_u$) peuvent être occupés ou virtuels (inoccupés). Un MO peut contenir 2 électrons. Ces MO sont les solutions de la méthode HF. Cependant, dans ce qui suit, nous travaillons en fait avec des orbitales de spin qui sont associées à un spin up ($\\alpha$) d'électron spin down ($\\beta$). Ces deux spins sont également communément désignés par $\\alpha$ et $\\beta$, respectivement. Ainsi, les orbitales de spin peuvent contenir un électron ou être inoccupées.\n",
    "\n",
    "Dans le tableau ci-dessous, on a les correspondances première-seconde quantification des divers éléments du Hamiltonien moléculaire. \n",
    "$$\n",
    "\\begin{array}{|l|l|l|}\\hline\n",
    "\\textbf{Approximation BO}  &  \\textbf{Combinaison en 2e quantification} &  \\textbf{Description}\n",
    "\\\\\\hline\n",
    "-\\frac12\\sum_i\\nabla^2_i & -\\frac12\\sum_{p,q}\\langle p|\\nabla^2_p|q\\rangle \\ad_p a_q & \\mathtt{T}_e \\\\\\hline\n",
    " -\\sum_{i,I}\\frac{Z_I}{|\\mathbf{r}_i-\\mathbf{R}_I|} &\n",
    " -\\sum_{p,q} \\langle p|\\frac{Z_I}{|\\mathbf{r}_p-\\mathbf{R}_I|}|q\\rangle \\ad_p a_q\n",
    " & \\mathtt{U}_{en}\\\\\\hline\n",
    "\\sum_{i,j>i}\\frac{1}{|\\mathbf{r}_i-\\mathbf{r}_j|} & \n",
    "\\sum_{p,q,r,s}\\langle pq \\big|\\frac{1}{|\\mathbf{r}_i-\\mathbf{r}_j|}\\big|rs\\rangle \\ad_p \\ad_q a_r a_s & \n",
    " \\mathtt{U}_{ee}\\\\\\hline\n",
    "\\end{array}\n",
    "$$\n",
    "\n",
    "Les trois méthodes HF communément utilisées sont:\n",
    "1. **RHF (Restricted Hartree – Fock)** utiliśee pour des molécules à couches pleines ou fermées. Les spin-orbitales sont soit $\\alpha$, soit $\\beta$ et tous les orbitales sont doublement occupés par des spin-orbitales $\\alpha$ et $\\beta$;</br> \n",
    "2. **ROHF (Restricted Open-Shell Hartree–Fock)** utilisée pour des molécules à couches ouvertes où le nombre d'électrons les orbitales n'est pas le même. ROHF utilise autant que possible les orbitales doublement occupées et les orbitales une fois occupées par les électrons non-apariés;\n",
    "3. **UHF (Hartree-Fock sans restriction)** utilisée pour des molécules à couches ouvertes où le nombre d'électrons les orbitales n'est pas le même. Les orbitales ROHF peuvent avoir avoir des spin $\\alpha$ ou $\\beta$, mais les orbitales $\\alpha$ et $\\beta$ peuvent avoir des composants spatiales différents.\n",
    "\n",
    "*Un des avantages apporté par le formalisme de seconde quantification est que la propriété d'anti-symétrie des fonctions d'état pour l'échange de fermions identiques, prise en compte manuellement dans une approche de première quantification en considérant les déterminants de Slater, est automatiquement imposée par le relations d'anti-commutation des opérateurs de création et d'annihilation. Cependant, le prix à payer est de travailler avec un nombre non fixe de particules, qui reste de toute façon une quantité conservée.*\n",
    "\n",
    "Les coefficients $h_{pq}$ et $h_{pqrs}$ sont définis par l'ensemble de base (basis ste) qui a été choisi pour le problème (sto-3g dans la plupart de nos exemples) ;\n",
    "cependant le calcul de ces coefficients en général peut être assez complexe. En particulier, dans de nombreux cas, il est logique d'effectuer d'abord un calcul Hartree-Fock et de transformer les intégrales ci-dessus en la base orbitale moléculaire qui en résulte. Cela a l'avantage de rendre l'état de champ moyen facile à représenter à la fois sur un calculateur classique et quantique, mais introduit quelques défis en ce qui concerne le coût de la transformation intégrale et la convergence du calcul Hartree-Fock pour les systèmes complexes. Par exemple, il est nécessaire de spécifier une estimation initiale (*initial guess*) pour les orbitales de Hartree-Fock, la méthode utilisée pour résoudre les équations et un certain nombre d'autres paramètres numériques qui affectent la convergence.\n"
   ]
  },
  {
   "attachments": {},
   "cell_type": "markdown",
   "metadata": {},
   "source": [
    "### Répresentation nombre d'occupation\n",
    "\n",
    "En seconde quantification, le déterminant de Slater est représenté par un **vecteur nombre d'occupation**\n",
    "\\begin{equation*}\n",
    "|f\\rangle =|f_{M-1},\\dots,f_{i-1},f_i,f_{i+1},\\dots, f_0\\rangle, \n",
    "\\end{equation*}\n",
    "avec\n",
    "- $f_i=1$ lorsque le spin-orbital $\\phi_i$ est occupé et donc présent dans le déterminant de Slater;\n",
    "- $f_i = 0$ lorsque le $\\phi_i$ spin-orbital est vide et donc absent du déterminant de Slater.\n",
    "\n",
    "- Le vecteur $|f_i\\rangle$ est appelé **vecteur nombre d'occupation de l'orbite fermionique i**, parce que\n",
    "\\begin{align*}\n",
    "& |0\\rangle=\\begin{pmatrix}1\\\\0\\end{pmatrix}:\\text{état vide}, & |1\\rangle=\\begin{pmatrix}0\\\\1\\end{pmatrix}:\\text{état occupé}.\n",
    "\\end{align*}\n",
    "\n",
    "Dans la deuxième représentation de quantification, au lieu de poser la question *Quel électron est dans quel état?*, nous posons la question *combien de particules y a-t-il dans chaque état?*.\n",
    "\n",
    "### Opérateurs fermioniques\n",
    "\n",
    "Les opérateurs fermioniques $\\ad_i$ et $a_i$ obéissent aux relations d'anticommutation fermioniques suivantes:\n",
    "\\begin{align*}\n",
    "&\\{a_p,\\ad_q\\} = a_p\\ad_q + \\ad_q a_p = \\delta_{pq}, \n",
    "&\\{a_p, a_q \\} = \\{\\ad_p, \\ad_q\\} = 0 .\n",
    "\\end{align*}\n",
    "La nature fermionique des électrons implique que les fonctions d'état à plusieurs électrons doivent être antisymétriques par rapport à l'échange de particules. Cela se reflète dans la manière dont les opérateurs de création fermionique et d'annhilation agissent sur les déterminants $\\ket{f}$:\n",
    "\\begin{equation*}\n",
    "\\begin{aligned}\n",
    "&a_i|f_{M-1},\\dots,f_{i-1},f_i,f_{i+1},\\dots, f_0\\rangle = \\delta_{f_i,1}\n",
    "(-1)^{\\sum_{m<i}f_m}|f_{M-1},\\dots,f_{i-1},f_i\\oplus 1,f_{i+1},\\dots, f_0\\rangle,\\\\\n",
    "&\\ad_i|f_{M-1},\\dots,f_{i-1},f_i,f_{i+1},\\dots, f_0\\rangle = \\delta_{f_i,0}\n",
    "(-1)^{\\sum_{m<i}f_m}|f_{M-1},\\dots,f_{i-1},f_i\\oplus 1,f_{i+1},\\dots, f_0\\rangle`,  \\\\\n",
    "&a|0\\rangle=\\ad|1\\rangle=0.\n",
    "\\end{aligned}\n",
    "\\end{equation*}\n",
    "- Le terme de phase $p_i=(-1)^{\\sum_{m<i}f_m}$ désigne la parité qu'impose l'anti-symétrie d'échange des fermions.\n",
    "    - $p_i=-1$ si le nombre d'électrons est impair dans ces orbitales de spin,\n",
    "    - $p_i= 1$ si le nombre d'électrons est pair dans ces orbitales de spin.\n",
    "\n",
    "- Le symbole $\\oplus$ représente l'addition modulo 2, i.e.,  $1 \\oplus 1=0 $ et $0 \\oplus 1=1$.\n",
    "\n",
    "- L'opérateur de création $\\ad_i$ met un électron dans une orbitale inoccupée *i* ou dans $|f_i\\rangle$.\n",
    "\n",
    "- L'opérateur d'annihilation $a_i$ supprime un électron dans une orbitale occupée *i* ou en $|f_i\\rangle$.\n",
    "\n",
    "- $a_i^2 =(\\ad_i)^2= 0$ pour tout $i$. On ne peut pas créer ou anéantir un fermion dans le même mode deux fois.\n",
    "\n",
    "Par example,\n",
    "\\begin{align*} \n",
    "&\\ad_1 |0\\rangle_1 = |1\\rangle_1,&&\\ad_1 |1\\rangle_1 =(\\ad_i)^2|0\\rangle_1= 0,&& a_1 |1\\rangle_1 =|0\\rangle_1,&a_1 |0\\rangle_1 =a_1^2|1\\rangle_1=0. \n",
    "\\end{align*}\n",
    "Notez qu'ici $\\ad_1|1\\rangle_1=0$ et $a_1 |0\\rangle_1=0$ signifie le vecteur zéro et non $|0\\rangle_1$. \n",
    "\n",
    "En utilisant également de tels opérateurs, nous pouvons exprimer\n",
    "\\begin{equation*}\n",
    "|0\\rangle |1\\rangle |1\\rangle |0\\rangle = \\ad_1\\ad_2 |0\\rangle^{\\otimes 4}.\n",
    "\\end{equation*}\n",
    "\n",
    " L'opérateur d'occupation orbitale est donné par\n",
    "\\begin{align*}\n",
    "&n_i = \\ad_i a_i, &n_i |f_{M-1},\\dots,f_i,\\dots, f_0\\rangle= f_i |f_{M-1},\\dots,f_i,\\dots, f_0\\rangle,\n",
    "\\end{align*}\n",
    "et il compte le nombre d'électrons dans une orbitale donnée, c'est-à-dire\n",
    "\\begin{align*} \n",
    "&n_i |0\\rangle_i = 0, &n_i |1\\rangle_i = |1\\rangle_i. \n",
    "\\end{align*}\n"
   ]
  },
  {
   "attachments": {},
   "cell_type": "markdown",
   "metadata": {},
   "source": [
    "### Représentation interne\n",
    "\n",
    "On peut avoir une idée de ce que les termes intégraux signifie en observant les opérateurs de création et d’annihilation qui les composent. Par exemple, \n",
    "* $h_{pq} a^{\\dagger}_p a_q$ (**opérateur d'excitation**) décrit les sauts d’électron de l’orbital de rotation $q$ à l’orbital de rotation $p$;\n",
    "* $ h_{pqrs}  a^{\\dagger}_p a^{\\dagger}_q a_r a_s$ (pour un p,q,r,s distinct) décrit deux électrons dans des orbitals de rotation $r$ et $s$ se dispersant et se terminant par des orbitals de rotation $p$ et $q$. Si $r=q$ et $p=s$ alors $ h_{prrp}  a^{\\dagger}_p a^{\\dagger}_r a_r  a_p = h_{prrp}n_pn_r$ (**opérateur de Coulom ou d'échange**) donne la pénalité d’énergie associée aux deux électrons proches l’un de l’autre, mais ne décrit pas un processus dynamique.\n",
    "\n",
    "*Appliqué à un état électronique, l'Hamiltonien moléculaire produit une combinaison linéaire de l'état d'origine avec des états générés par des excitations à un ou deux électrons à partir de cet état. A chaque excitation est associée une amplitude $h_{pq}$ ou $h_{pqrs}$, représentant la probabilité que cet événement se produise.*\n",
    "\n",
    "Dans l'expression de l'Hamiltonien, il existe au maximum $N^2+N^4$ coefficients. Cependant, un grand nombre de ces coefficients peuvent être collectés, car ils correspondent au même opérateur. Par exemple, dans le cas où $p,q,r,s$ sont des indices distincts, on peut utiliser les règles d'anti-commutation pour indiquer que :\n",
    "$$\n",
    "\\ad_p\\ad_qa_ra_s = -\\ad_q\\ad_pa_ra_s = -\\ad_p\\ad_qa_sa_r = \\ad_q\\ad_pa_sa_r.\n",
    "$$}\n",
    "En outre, comme $\\mathtt{H}$ est Hermitien, tout opérateur fermionique non Hermitien, par exemple $h_{pqrs}\\ad_p\\ad_qa_ra_s$, a un conjugué Hermitien qui se trouve également dans $\\mathtt{H}$. Afin d'indexer de manière unique les groupes de termes caractérisés par ces symétries, nous définissons un ordre canonique sur les indices $(i_{n-1},\\cdots,i_0,j_{m-1},\\cdots,j_0)$ de toute suite de $n+m$ opérateurs fermioniques $ \\ad_{i_{m-1}}\\cdots \\ad_{i_0}a_{j_{n-1}}\\cdots a_{j_0}$ comme suit :\n",
    "\n",
    "* Tous les opérateurs de création $\\ad_{i_\\cdot}$ sont placés avant tous les opérateurs d'annihilation $a_{j_\\cdot}$;</br>\n",
    "* Tous les index des opérateurs de création sont triés par ordre croissant, c'est-à-dire $i_0< i_1< \\cdots < i_{n-1}$;</br>\n",
    "* Tous les indices des opérateurs d'annihilation sont triés par ordre décroissant, c'est-à-dire $j_0> j_1 \\cdots > j_{m-1}$;</br>\n",
    "* L'index le plus à gauche est inférieur ou égal à l'index le plus à droite, c'est-à-dire $i_0\\le j_{m-1}$.\n",
    "\n",
    "Identifions cet ensemble d'indices canoniquement ordonnés comme\n",
    "$$\n",
    "(i_{n-1},\\cdots,i_0,j_{m-1},\\cdots,j_0) \\in S_{n,m}.\n",
    "$$\n",
    "Avec cet ordre canonique, l'Hamiltonien fermionique peut être exprimé comme\n",
    "$$\n",
    "\\mathtt{H}=\\frac12\\sum_{(p,q)\\in S_{1,1}}h'_{pq}(\\ad_pa_q+\\ad_qa_p)\n",
    "+\\frac12\\sum_{(p,q,r,s)\\in S_{2,2}}h'_{pqrs}(\\ad_p\\ad_qa_ra_s+\\ad_s\\ad_ra_qa_p),\n",
    "$$\n",
    "avec des intégrales à un et deux électrons convenablement adaptées $h'_{pq}$ et $h'_{pqrs}$, respectivement.\n"
   ]
  },
  {
   "attachments": {},
   "cell_type": "markdown",
   "metadata": {},
   "source": [
    "### Exercise\n",
    "\n",
    "In **Exemple d'illustration** of **Qiskit Lab 4**, we have considered a fictitious system described by spin orbitals $|A_\\uparrow\\rangle,\\,|A_\\downarrow\\rangle,\\,|B_\\uparrow\\rangle,\\,|B_\\downarrow\\rangle$ labelled as\n",
    "\\begin{align*}\n",
    " &|A_\\uparrow\\rangle=|00\\rangle=|\\mathbf{0}\\rangle,  &&|A_\\downarrow\\rangle=|01\\rangle=|\\mathbf{1}\\rangle,\n",
    "&&|B_\\uparrow\\rangle=|10\\rangle=|\\mathbf{2}\\rangle,  &|B_\\downarrow\\rangle=|11\\rangle=|\\mathbf{3}\\rangle.\n",
    "\\end{align*}\n",
    "We assume that the Hartree-Fock state for this system **has both electrons occupying the $|A\\rangle$ orbitals**. We store the occupations of the spin orbitals $|A_\\uparrow\\rangle,\\,|A_\\downarrow\\rangle,\\,|B_\\uparrow\\rangle,\\,|B_\\downarrow\\rangle$ which we order as \n",
    "$|f_{B_\\downarrow},f_{B_\\uparrow},f_{A_\\downarrow},f_{A_\\uparrow}\\rangle$, with $f_i=0,1$ (in the fermionic Fock space).\n",
    "\n",
    "1. Write down, in the fermionic Fock space, the Hartree-Fock state $|\\Psi_{\\rm HF}\\rangle$, that is, the corresponding of the antisymmetrized Slater deter-\n",
    "minant obtained in **Exemple d'illustration**.\n",
    "1. Write down, in the fermionic Fock space, the $s_z = 0$ state function.\n"
   ]
  },
  {
   "attachments": {},
   "cell_type": "markdown",
   "metadata": {
    "tags": []
   },
   "source": [
    "## Qiskit Nature\n",
    "\n",
    "Ce tutoriel utilise essentiellement le package Qiskit Nature dont la conception abstraite est donnée par la figure ci-dessous.\n",
    "\n",
    "<center><img src=\"Graphics/Qiskit_Nature_overview.png\" width=\"700\" /></center>\n",
    "\n",
    "Le package se divise en deux concepts avec chacun trois piliers chacun :\n",
    "\n",
    "* `problems`,  qui sont des représentations de problèmes scientifiques auxquels on cherche une solution;\n",
    "    * _Electronic Structure Problem_ représentant le problème de l'équation de Schrödinger électronique des systèmes moléculaires;\n",
    "\n",
    "    * _Vibrational Structure Problem_ représentant le problème posé par l'Hamiltonien de Watson des systèmes moléculaires;\n",
    "\n",
    "    * _Lattice Model Problem_ représentant les problèmes définis sur des treillis;\n",
    "\n",
    "* `algorithms`, qui fournissent les moyens de trouver des solutions auxdits problèmes;\n",
    "\n",
    "    * _Ground State Solver_ pour trouver l'état fondamental d'un problème;\n",
    "\n",
    "    * _Excited States Solver_ pour trouver les états excités d'un problème;\n",
    "\n",
    "    * _Hamiltonian Simulation_ pour simuler la dynamique d'un problème (pas encore implémenté)."
   ]
  },
  {
   "attachments": {},
   "cell_type": "markdown",
   "metadata": {},
   "source": [
    "### Articulation des modules de Qiskit Nature\n",
    "\n",
    "La bibliothèque Qiskit Nature comprend différents modules s'articulant autour de :\n",
    "\n",
    "- chargement de données à partir de pilotes (drivers) de chimie (PySCF, Psi4, Gaussian, etc.) ou de formats de fichiers;\n",
    "- construction et manipulation d'opérateurs de seconde quantification;\n",
    "- traduction de la seconde quantification à l'espace qubit;\n",
    "- une bibliothèque de circuits quantiques d'analyses ciblées en sciences naturelles;\n",
    "- algorithmes et utilitaires spécifiques aux sciences naturelles pour utiliser  les algorithmes de `Qiskit Terra` plus faciles;\n",
    "- et beaucoup plus.\n",
    "\n",
    "Par exemple, les pilotes (drivers) de chimie, lorsqu'ils sont fournis avec une configuration moléculaire, renverront des intégrales à 1 ($h_{pq}$) et 2 ($h_{pqrs}$) corps, ainsi que d'autres données qui sont efficacement calculées de manière classique. Ces données de sortie d'un pilote peuvent ensuite être utilisées comme entrée dans Qiskit Nature qui contient une logique capable de les traduire sous une forme adaptée aux algorithmes quantiques. La conversion crée d'abord un `FermionicOperator` qui doit ensuite être mappé, par ex. par une cartographie de **Jordan Wigner**, à un opérateur qubit prêt pour le calcul quantique.\n",
    "\n",
    "> pip install qiskit-nature[pyscf] -U\n",
    "\n",
    "Nous allons utiliser le plugin `qiskit_nature_pyscf` qui couple PySCF et Qiskit Nature.  C'est un solveur [FCI](https://en.wikipedia.org/wiki/Full_configuration_interaction) (Full Configuration Interaction) basé sur Qiskit qui permet à un utilisateur de PySCF (Python-based Simulations of Chemistry Framework) de tirer parti des algorithmes quantique implémentés dans Qiskit pour être utilisés à la place de leurs homologues classiques (dans un esprit similaire à l'intégration NWChemEx). Ce plugin est assez recent (début 2023).\n",
    "> pip install qiskit-nature-pyscf -U\n"
   ]
  },
  {
   "attachments": {},
   "cell_type": "markdown",
   "metadata": {},
   "source": [
    "### Cas de la molécule d'hygrogène\n",
    "\n",
    "<center><img src=\"Graphics/h2.png\" width=\"150\"/></center>\n",
    "\n",
    "Dans ce qui suit, nous utilisons le driver PySCF, pour construction d'un opérateur Hamiltonien fermionique de la molécule d'hydrogène à la longueur de la liaison d'équilibre ($0,735\\mathring{A}$)  à l'état singulet et sans charge."
   ]
  },
  {
   "attachments": {},
   "cell_type": "markdown",
   "metadata": {},
   "source": [
    "#### Information sur la structure moléculaire\n",
    "\n",
    "1. La classe `qiskit_nature.second_q.drivers.PySCFDriver` stocke les informations moléculaires sous le format\n",
    "``` \n",
    "PySCFDriver(\n",
    "    atom: 'str | list[str]' = 'H 0.0 0.0 0.0; H 0.0 0.0 0.735',\n",
    "    *,\n",
    "    unit: 'DistanceUnit' = <DistanceUnit.ANGSTROM: 'Angstrom'>,\n",
    "    charge: 'int' = 0,\n",
    "    spin: 'int' = 0,\n",
    "    basis: 'str' = 'sto3g',\n",
    "    method: 'MethodType' = <MethodType.RHF: 'rhf'>,\n",
    "    xc_functional: 'str' = 'lda,vwn',\n",
    "    xcf_library: 'str' = 'libxc',\n",
    "    conv_tol: 'float' = 1e-09,\n",
    "    max_cycle: 'int' = 50,\n",
    "    init_guess: 'InitialGuess' = <InitialGuess.MINAO: 'minao'>,\n",
    "    max_memory: 'int | None' = None,\n",
    "    chkfile: 'str | None' = None,\n",
    ")\n",
    "```\n",
    "\n",
    "1. Lorsqu'on on utilise le plugin `qiskt_nature_pyscf`, l'initialisation de la structure moléculaire se faie avec `pyscf.gto.mole` sous le format \n",
    " > gto.M(atom='H 0 0 0; F 0 0 1', basis='6-31g')\n",
    "\n",
    "Les deux formats sont quasi identiques. La structure d'une molécule est renseignée par ses coordonnées atomiques (au format xyz), sa charge q, son spin, son ensemble de base et éventuellement la méthode HF à utiliser."
   ]
  },
  {
   "cell_type": "code",
   "execution_count": 135,
   "metadata": {
    "tags": []
   },
   "outputs": [],
   "source": [
    "# Pour les données moléculaires\n",
    "from qiskit_nature.units import DistanceUnit\n",
    "from qiskit_nature.second_q.drivers import PySCFDriver"
   ]
  },
  {
   "cell_type": "code",
   "execution_count": 136,
   "metadata": {},
   "outputs": [],
   "source": [
    "H2_driver = PySCFDriver(\n",
    "    atom=\"H 0 0 0; H 0 0 0.735\",\n",
    "    basis=\"sto3g\",\n",
    "    charge=0,\n",
    "    spin=0,\n",
    "    unit=DistanceUnit.ANGSTROM,\n",
    ")"
   ]
  },
  {
   "attachments": {},
   "cell_type": "markdown",
   "metadata": {},
   "source": [
    "### `ElectronicStructureProblem` et ses composants\n",
    "\n",
    "Qiskit fournit une classe utile nommée `ElectronicStructureProblem`, qui appelle le driver (qui contient déjà les informations moléculaires stockées à l'étape précédente) pour construire les orbitales moléculaires. Nous effectuons un calcul HF pour la base STO-3G.\n",
    "\n",
    " Il s'agit en réalité représenter le problème de l'equation de Schrödinguer électronique, $\\mathtt{H}_{\\rm el}|\\Psi\\rangle = E_{\\rm el}|\\Psi\\rangle$, où \n",
    " $ \\mathtt{H}_{\\rm el} = \\mathtt{T}_e + \\mathtt{U}_{en} + \\mathtt{U}_{ee} $ est l'Hamiltonien de la classe `qiskit_nature.second_q.hamiltonians.ElectronicEnergy`."
   ]
  },
  {
   "cell_type": "code",
   "execution_count": 137,
   "metadata": {},
   "outputs": [],
   "source": [
    "H2_problem = H2_driver.run()"
   ]
  },
  {
   "attachments": {},
   "cell_type": "markdown",
   "metadata": {},
   "source": [
    "Examinons cette instance de problème et ses composants.\n",
    "\n",
    "#### Hamiltonien `ElectronicEnergy`\n",
    "\n",
    "L'aspect le plus important est l'Hamiltonien interne, qui est ici un Hamiltonien `ElectronicEnergy`. Cette classe est capable de générer un opérateur de seconde quantification à partir des intégrales à 1 ($h_{pq}$) et 2 ($h_{pqrs}$) corps qu'un code classique (HF) a calculé pour nous.\n",
    "\n",
    "> **NB :** La classe de conteneur pour les coefficients intégraux (`PolynomialTensor` ou forme de tenseurs à 2 et 4 indices) nécessite que les termes à 2 corps soient fournis dans **l'ordre du physicien** !\n",
    "\n",
    "Ces tenseurs sont soumis à certaines attentes, à savoir :\n",
    "\n",
    "* pour les intégrales électroniques $\\alpha$ (spins-up, +) et $\\beta$ (spins-down, -), seules les clés suivantes sont autorisées : \"\", \"+-\", \"++--\";\n",
    "* pour les intégrales électroniques $\\alpha\\beta$ (spins-up-down) la seule clé autorisée est \"++--\".\n"
   ]
  },
  {
   "cell_type": "code",
   "execution_count": 138,
   "metadata": {},
   "outputs": [
    {
     "name": "stdout",
     "output_type": "stream",
     "text": [
      "Polynomial Tensor\n",
      " \"+-\":\n",
      "[[-1.25633907e+00 -1.37083854e-17]\n",
      " [-6.07732712e-17 -4.71896007e-01]]\n",
      " \"++--\":\n",
      "[[[[6.75710155e-01 1.69253442e-16]\n",
      "   [1.56722377e-16 1.80931200e-01]]\n",
      "\n",
      "  [[4.84650299e-17 1.80931200e-01]\n",
      "   [6.64581730e-01 3.79897400e-16]]]\n",
      "\n",
      "\n",
      " [[[1.01440795e-16 6.64581730e-01]\n",
      "   [1.80931200e-01 4.71502663e-17]]\n",
      "\n",
      "  [[1.80931200e-01 3.78920172e-16]\n",
      "   [6.59828421e-17 6.98573723e-01]]]]\n"
     ]
    }
   ],
   "source": [
    "H2_hamiltonian = H2_problem.hamiltonian\n",
    "\n",
    "H2_coefficients = H2_hamiltonian.electronic_integrals\n",
    "print(H2_coefficients.alpha)"
   ]
  },
  {
   "attachments": {},
   "cell_type": "markdown",
   "metadata": {},
   "source": [
    "Nous utilisons la méthode `second_q_ops()`, pour obtenir les integrales $h_{pq}$ et $h_{pqrs}$ en seconde quantication."
   ]
  },
  {
   "cell_type": "code",
   "execution_count": 139,
   "metadata": {},
   "outputs": [
    {
     "name": "stdout",
     "output_type": "stream",
     "text": [
      "Fermionic Operator\n",
      "number spin orbitals=4, number terms=36\n",
      "  -1.25633907300325 * ( +_0 -_0 )\n",
      "+ -0.47189600728114184 * ( +_1 -_1 )\n",
      "+ -1.25633907300325 * ( +_2 -_2 )\n",
      "+ -0.47189600728114184 * ( +_3 -_3 )\n",
      "+ 0.33785507740175813 * ( +_0 +_0 -_0 -_0 )\n",
      "+ 0.09046559989211568 * ( +_0 +_0 -_1 -_1 )\n",
      "+ 0.09046559989211564 * ( +_0 +_1 -_0 -_1 )\n",
      "+ 0.33229086512764827 * ( +_0 +_1 -_1 -_0 )\n",
      "+ 0.33785507740175813 * ( +_0 +_2 -_2 -_0 )\n",
      "+ 0.09046559989211568 * ( +_0 +_2 -_3 -_1 )\n",
      "+ 0.09046559989211564 * ( +_0 +_3 -_2 -_1 )\n",
      "+ 0.33229086512764827 * ( +_0 +_3 -_3 -_0 )\n",
      "+ 0.3322908651276482 * ( +_1 +_0 -_0 -_1 )\n",
      "+ 0.09046559989211574 * ( +_1 +_0 -_1 -_0 )\n",
      "+ 0.09046559989211565 * ( +_1 +_1 -_0 -_0 )\n",
      "+ 0.3492868613660089 * ( +_1 +_1 -_1 -_1 )\n",
      "+ 0.3322908651276482 * ( +_1 +_2 -_2 -_1 )\n",
      "+ 0.09046559989211574 * ( +_1 +_2 -_3 -_0 )\n",
      "+ 0.09046559989211565 * ( +_1 +_3 -_2 -_0 )\n",
      "+ 0.3492868613660089 * ( +_1 +_3 -_3 -_1 )\n",
      "+ 0.33785507740175813 * ( +_2 +_0 -_0 -_2 )\n",
      "+ 0.09046559989211568 * ( +_2 +_0 -_1 -_3 )\n",
      "+ 0.09046559989211564 * ( +_2 +_1 -_0 -_3 )\n",
      "+ 0.33229086512764827 * ( +_2 +_1 -_1 -_2 )\n",
      "+ 0.33785507740175813 * ( +_2 +_2 -_2 -_2 )\n",
      "+ 0.09046559989211568 * ( +_2 +_2 -_3 -_3 )\n",
      "+ 0.09046559989211564 * ( +_2 +_3 -_2 -_3 )\n",
      "+ 0.33229086512764827 * ( +_2 +_3 -_3 -_2 )\n",
      "+ 0.3322908651276482 * ( +_3 +_0 -_0 -_3 )\n",
      "+ 0.09046559989211574 * ( +_3 +_0 -_1 -_2 )\n",
      "+ 0.09046559989211565 * ( +_3 +_1 -_0 -_2 )\n",
      "+ 0.3492868613660089 * ( +_3 +_1 -_1 -_3 )\n",
      "+ 0.3322908651276482 * ( +_3 +_2 -_2 -_3 )\n",
      "+ 0.09046559989211574 * ( +_3 +_2 -_3 -_2 )\n",
      "+ 0.09046559989211565 * ( +_3 +_3 -_2 -_2 )\n",
      "+ 0.3492868613660089 * ( +_3 +_3 -_3 -_3 )\n"
     ]
    }
   ],
   "source": [
    "H2_fermionic_op = H2_hamiltonian.second_q_op()\n",
    "print(H2_fermionic_op)"
   ]
  },
  {
   "attachments": {},
   "cell_type": "markdown",
   "metadata": {},
   "source": [
    "Notez qu'il s'agit purement de l'Hamiltonien **électronique** du système. Cela signifie que l'_énergie de répulsion nucléaire_ n'est pas incluse. Au lieu de cela, Qiskit Nature ajoutera ce décalage d'énergie constant dans une étape de post-traitement, afin de calculer l'énergie totale de votre système. Pour savoir comment inclure l'énergie de répulsion nucléaire dans cet opérateur, veuillez vous référer à la documentation de la classe `ElectronicEnergy` [ici](https://qiskit.org/documentation/nature/stubs/qiskit<_>nature.second<_>q.hamiltonians.ElectronicEnergy.html).\n",
    "\n",
    "Par exemple que les termes $\\alpha$ sont\n",
    "```\n",
    " -1.2563390730032498 * ( +_0 -_0 )\n",
    " -0.47189600728114245 * ( +_1 -_1 )\n",
    "```\n",
    "et les termes $\\beta$ sont\n",
    "```\n",
    " -1.2563390730032498 * ( +_2 -_2 )\n",
    " -0.47189600728114245 * ( +_3 -_3 )\n",
    "```\n"
   ]
  },
  {
   "cell_type": "code",
   "execution_count": 140,
   "metadata": {},
   "outputs": [
    {
     "data": {
      "text/plain": [
       "0.7199689944489797"
      ]
     },
     "execution_count": 140,
     "metadata": {},
     "output_type": "execute_result"
    }
   ],
   "source": [
    "H2_hamiltonian.nuclear_repulsion_energy "
   ]
  },
  {
   "attachments": {},
   "cell_type": "markdown",
   "metadata": {},
   "source": [
    "#### Plus d'attributs du `ElectronicStructureProblem`\n",
    "\n",
    "Examinons quelques attributs supplémentaires de notre instance \"problème\"."
   ]
  },
  {
   "cell_type": "code",
   "execution_count": 141,
   "metadata": {},
   "outputs": [
    {
     "data": {
      "text/plain": [
       "MoleculeInfo(symbols=['H', 'H'], coords=[(0.0, 0.0, 0.0), (0.0, 0.0, 1.3889487015553204)], multiplicity=1, charge=0, units=<DistanceUnit.BOHR: 'Bohr'>, masses=[1, 1])"
      ]
     },
     "execution_count": 141,
     "metadata": {},
     "output_type": "execute_result"
    }
   ],
   "source": [
    "H2_problem.molecule"
   ]
  },
  {
   "cell_type": "code",
   "execution_count": 142,
   "metadata": {},
   "outputs": [
    {
     "data": {
      "text/plain": [
       "-1.116998996754004"
      ]
     },
     "execution_count": 142,
     "metadata": {},
     "output_type": "execute_result"
    }
   ],
   "source": [
    "H2_problem.reference_energy"
   ]
  },
  {
   "cell_type": "code",
   "execution_count": 143,
   "metadata": {},
   "outputs": [
    {
     "data": {
      "text/plain": [
       "(1, 1)"
      ]
     },
     "execution_count": 143,
     "metadata": {},
     "output_type": "execute_result"
    }
   ],
   "source": [
    "H2_problem.num_particles"
   ]
  },
  {
   "cell_type": "code",
   "execution_count": 144,
   "metadata": {},
   "outputs": [
    {
     "data": {
      "text/plain": [
       "2"
      ]
     },
     "execution_count": 144,
     "metadata": {},
     "output_type": "execute_result"
    }
   ],
   "source": [
    "H2_problem.num_spatial_orbitals"
   ]
  },
  {
   "cell_type": "code",
   "execution_count": 145,
   "metadata": {},
   "outputs": [
    {
     "data": {
      "text/plain": [
       "<ElectronicBasis.MO: 'molecular'>"
      ]
     },
     "execution_count": 145,
     "metadata": {},
     "output_type": "execute_result"
    }
   ],
   "source": [
    "H2_problem.basis"
   ]
  },
  {
   "cell_type": "code",
   "execution_count": 146,
   "metadata": {},
   "outputs": [
    {
     "data": {
      "text/plain": [
       "array([-0.58062892,  0.67633625])"
      ]
     },
     "execution_count": 146,
     "metadata": {},
     "output_type": "execute_result"
    }
   ],
   "source": [
    "H2_problem.orbital_energies"
   ]
  },
  {
   "cell_type": "code",
   "execution_count": 147,
   "metadata": {},
   "outputs": [
    {
     "data": {
      "text/plain": [
       "1"
      ]
     },
     "execution_count": 147,
     "metadata": {},
     "output_type": "execute_result"
    }
   ],
   "source": [
    "H2_problem.num_alpha"
   ]
  },
  {
   "cell_type": "code",
   "execution_count": 148,
   "metadata": {},
   "outputs": [
    {
     "data": {
      "text/plain": [
       "1"
      ]
     },
     "execution_count": 148,
     "metadata": {},
     "output_type": "execute_result"
    }
   ],
   "source": [
    "H2_problem.num_beta"
   ]
  },
  {
   "cell_type": "code",
   "execution_count": 149,
   "metadata": {},
   "outputs": [
    {
     "data": {
      "text/plain": [
       "4"
      ]
     },
     "execution_count": 149,
     "metadata": {},
     "output_type": "execute_result"
    }
   ],
   "source": [
    "H2_problem.num_spin_orbitals"
   ]
  },
  {
   "attachments": {},
   "cell_type": "markdown",
   "metadata": {},
   "source": [
    "Définissons la fonction `get_particle_number()` qui permet d'obtenir les propriétés d'une instance `problem` d'une structure électronique."
   ]
  },
  {
   "cell_type": "code",
   "execution_count": 150,
   "metadata": {},
   "outputs": [],
   "source": [
    "def get_particle_number(problem):\n",
    "    print(\"Hydrogen molecule, basis: sto3g, Hartree-Fock calculation\")\n",
    "    print(f\"Number of alpha electrons: {problem.num_alpha}\")\n",
    "    print(f\"Number of beta electrons: {problem.num_beta}\")\n",
    "    print(f\"Number of spin orbitals: {problem.num_spin_orbitals}\")\n",
    " "
   ]
  },
  {
   "attachments": {},
   "cell_type": "markdown",
   "metadata": {},
   "source": [
    "Nous appelons la fonction `get_particle_number()` pour obtenir et imprimer les propriétés du nombre de particules comme suit :"
   ]
  },
  {
   "cell_type": "code",
   "execution_count": 151,
   "metadata": {},
   "outputs": [
    {
     "name": "stdout",
     "output_type": "stream",
     "text": [
      "Hydrogen molecule, basis: sto3g, Hartree-Fock calculation\n",
      "Number of alpha electrons: 1\n",
      "Number of beta electrons: 1\n",
      "Number of spin orbitals: 4\n"
     ]
    }
   ],
   "source": [
    "get_particle_number(H2_problem)"
   ]
  },
  {
   "attachments": {},
   "cell_type": "markdown",
   "metadata": {},
   "source": [
    "Pour comprendre l'expression du Hamiltonien en seconde quantification affichée, il faut comprendre la classe `FermionicOp`.\n",
    "\n",
    "#### `FermionicOp` Class\n",
    "\n",
    "Un `FermionicOp` représente une somme pondérée de termes d'opérateurs de création/annihilation fermioniques qui obéissent aux relations d'anticommutation suivantes:\n",
    "\\begin{align*}\n",
    "&\\{a_p,\\ad_q\\} = a_p\\ad_q + \\ad_q a_p = \\delta_{pq}, &\\{a_p, a_q \\} = \\{\\ad_p, \\ad_q\\} = 0 .\n",
    "\\end{align*}\n",
    "Ces termes sont codés sous forme d'étiquettes éparses, qui sont des chaînes constituées d'une liste d'expressions séparées par des espaces. Chaque expression doit ressembler à `[+-]_<index>`, où `<index>` est un entier non négatif représentant l'index du mode fermionique où l'opération `+` (création) ou `-` (annihilation) doit être effectuée. La valeur de l'indice est liée par le nombre d'orbitales de spin (`num_spin_orbitals`) de l'opérateur. Puisque les indices Python commencent par 0, la valeur maximale qu'un indice peut prendre est donnée par `num_spin_orbitals`-1.\n",
    "\n",
    "Par exemple, `(+_0 -_0)`$\\equiv a_0^\\dagger a_0$, `( +_2 +_3 -_2 -_3 )`$\\equiv a_2^\\dagger a_3^\\dagger a_2 a_3$."
   ]
  },
  {
   "attachments": {},
   "cell_type": "markdown",
   "metadata": {},
   "source": [
    "##### Vérification de quelques quelques relations d'anticommutation fermioniques"
   ]
  },
  {
   "cell_type": "code",
   "execution_count": 152,
   "metadata": {},
   "outputs": [],
   "source": [
    "from qiskit_nature.second_q.operators import FermionicOp\n",
    "from qiskit_nature.second_q.operators.commutators import anti_commutator"
   ]
  },
  {
   "attachments": {},
   "cell_type": "markdown",
   "metadata": {},
   "source": [
    "* $\\{\\ad_0, a_0\\}=1$"
   ]
  },
  {
   "cell_type": "code",
   "execution_count": 153,
   "metadata": {},
   "outputs": [
    {
     "data": {
      "text/plain": [
       "FermionicOp({'+_0 -_0': (1+0j), '-_0 +_0': (1+0j)}, num_spin_orbitals=1, )"
      ]
     },
     "execution_count": 153,
     "metadata": {},
     "output_type": "execute_result"
    }
   ],
   "source": [
    "op0d = FermionicOp({\"+_0\": 1}, num_spin_orbitals=1)\n",
    "op0 = FermionicOp({\"-_0\": 1}, num_spin_orbitals=1)\n",
    "\n",
    "a00 = anti_commutator(op0d,op0)\n",
    "a00"
   ]
  },
  {
   "cell_type": "code",
   "execution_count": 154,
   "metadata": {},
   "outputs": [
    {
     "data": {
      "text/plain": [
       "FermionicOp({'': (1+0j)}, num_spin_orbitals=1, )"
      ]
     },
     "execution_count": 154,
     "metadata": {},
     "output_type": "execute_result"
    }
   ],
   "source": [
    "a00.normal_order()"
   ]
  },
  {
   "attachments": {},
   "cell_type": "markdown",
   "metadata": {},
   "source": [
    "* $\\{\\ad_0a_1,a_1\\ad_2\\}=0$"
   ]
  },
  {
   "cell_type": "code",
   "execution_count": 155,
   "metadata": {},
   "outputs": [
    {
     "data": {
      "text/plain": [
       "FermionicOp({}, num_spin_orbitals=3, )"
      ]
     },
     "execution_count": 155,
     "metadata": {},
     "output_type": "execute_result"
    }
   ],
   "source": [
    "op1 = FermionicOp({\"+_0 -_1\": 1}, num_spin_orbitals=2)\n",
    "op2 = FermionicOp({\"-_1 +_2\": 1}, num_spin_orbitals=3)\n",
    "\n",
    "a12 = anti_commutator(op1,op2)\n",
    "a12.normal_order()"
   ]
  },
  {
   "attachments": {},
   "cell_type": "markdown",
   "metadata": {},
   "source": [
    "* $\\{\\ad_1a_1,a_1\\ad_1\\}=1$"
   ]
  },
  {
   "cell_type": "code",
   "execution_count": 156,
   "metadata": {},
   "outputs": [
    {
     "data": {
      "text/plain": [
       "FermionicOp({'': 1.0}, num_spin_orbitals=2, )"
      ]
     },
     "execution_count": 156,
     "metadata": {},
     "output_type": "execute_result"
    }
   ],
   "source": [
    "op = FermionicOp(\n",
    "    {\n",
    "        \"+_1 -_1\": 1,\n",
    "        \"-_1 +_1\": 1,\n",
    "    },\n",
    "    num_spin_orbitals=2,\n",
    ")\n",
    "op.normal_order()"
   ]
  },
  {
   "attachments": {},
   "cell_type": "markdown",
   "metadata": {},
   "source": [
    "* $\\ad_0a_1\\ad_1a_3 = \\ad_0a_3 - \\ad_0\\ad_1a_1\\ad_3$"
   ]
  },
  {
   "cell_type": "code",
   "execution_count": 157,
   "metadata": {},
   "outputs": [
    {
     "data": {
      "text/plain": [
       "True"
      ]
     },
     "execution_count": 157,
     "metadata": {},
     "output_type": "execute_result"
    }
   ],
   "source": [
    "opx = FermionicOp({\"+_0 -_1 +_1 -_3\" : 1}, num_spin_orbitals=4)\n",
    "op = FermionicOp(\n",
    "    {\n",
    "        \"+_0 -_3\": 1.0,\n",
    "        \"+_0 +_1 -_1 -_3\": -1.0,\n",
    "    },\n",
    "    num_spin_orbitals=4,\n",
    ")\n",
    "opx.normal_order().equiv(op.normal_order())"
   ]
  },
  {
   "attachments": {},
   "cell_type": "markdown",
   "metadata": {},
   "source": [
    "* **Do it Yourself**</br>  \n",
    "$\\ad_2a_7+\\ad_7a_2=0$"
   ]
  },
  {
   "attachments": {},
   "cell_type": "markdown",
   "metadata": {},
   "source": [
    "##### Opérateur fermionique de la molécule $H_2$\n",
    "\n",
    "Imprimons seulement les 10 premiers termes de l'opérateur fermionique de la molécule $H_2$:"
   ]
  },
  {
   "cell_type": "code",
   "execution_count": 158,
   "metadata": {},
   "outputs": [
    {
     "name": "stdout",
     "output_type": "stream",
     "text": [
      "Fermionic Operator\n",
      "number spin orbitals=4, number terms=4\n",
      "  1.0 * ( +_0 -_0 )\n",
      "+ 1.0 * ( +_1 -_1 )\n",
      "+ 1.0 * ( +_2 -_2 )\n",
      "+ 1.0 * ( +_3 -_3 )\n"
     ]
    }
   ],
   "source": [
    "H2_particle_number_op = H2_problem.properties.particle_number.second_q_ops()[\"ParticleNumber\"]\n",
    "print(H2_particle_number_op)"
   ]
  },
  {
   "attachments": {},
   "cell_type": "markdown",
   "metadata": {},
   "source": [
    "Ce résultat indique que l'opérateur Hamiltonien fermionique de la molécule d'hydrogène contient 4 **opérateurs nombre de particules**:\n",
    "\n",
    "$h_{pp}$ | $a_p^\\dagger a_p$ | +0 | -0 | +1 | -1|  +2 | -2 | +3 |  -3 \n",
    "---------|-------------------|----|----|----|---|-----|----|----|-----\n",
    "$-0.4719$| $a_3^\\dagger a_3$ |    |    |    |   |     |    |  + | +  |\n",
    "$-1.2563$| $a_2^\\dagger a_2$ |    |    |    |   | +   | +  |    |    |\n",
    "$-0.4719$| $a_1^\\dagger a_1$ |    |    |  + | + |     |    |    |    |\n",
    "$-1.2563$| $a_0^\\dagger a_0$ |  + | +  |    |   |     |    |    |    |\n"
   ]
  },
  {
   "cell_type": "code",
   "execution_count": 159,
   "metadata": {},
   "outputs": [
    {
     "name": "stdout",
     "output_type": "stream",
     "text": [
      "Fermionic Operator\n",
      "number spin orbitals=4, number terms=36\n",
      "  -1.25633907300325 * ( +_0 -_0 )\n",
      "+ -0.47189600728114184 * ( +_1 -_1 )\n",
      "+ -1.25633907300325 * ( +_2 -_2 )\n",
      "+ -0.47189600728114184 * ( +_3 -_3 )\n",
      "+ 0.33785507740175813 * ( +_0 +_0 -_0 -_0 )\n",
      "+ 0.09046559989211568 * ( +_0 +_0 -_1 -_1 )\n",
      "+ 0.09046559989211564 * ( +_0 +_1 -_0 -_1 )\n",
      "+ 0.33229086512764827 * ( +_0 +_1 -_1 -_0 )\n",
      "+ 0.33785507740175813 * ( +_0 +_2 -_2 -_0 )\n",
      "+ 0.09046559989211568 * ( +_0 +_2 -_3 -_1 )\n",
      "...\n"
     ]
    }
   ],
   "source": [
    "print(\"\\n\".join(str(H2_fermionic_op).splitlines()[:12] + [\"...\"]))"
   ]
  },
  {
   "cell_type": "code",
   "execution_count": 185,
   "metadata": {},
   "outputs": [
    {
     "name": "stdout",
     "output_type": "stream",
     "text": [
      "  (1, 1)\t(-0.47189600728114184+0j)\n",
      "  (2, 2)\t(-1.25633907300325+0j)\n",
      "  (3, 3)\t(-1.2445845498133268+0j)\n",
      "  (4, 4)\t(-0.47189600728114184+0j)\n",
      "  (5, 5)\t(-0.24521829183026594+0j)\n",
      "  (10, 5)\t(0.18093119978423136+0j)\n",
      "  (6, 6)\t(-1.0636533500290954+0j)\n",
      "  (9, 6)\t(0.1809311997842314+0j)\n",
      "  (7, 7)\t(-0.35332510410715445+0j)\n",
      "  (8, 8)\t(-1.25633907300325+0j)\n",
      "  (6, 9)\t(0.1809311997842314+0j)\n",
      "  (9, 9)\t(-1.0636533500290954+0j)\n",
      "  (5, 10)\t(0.1809311997842313+0j)\n",
      "  (10, 10)\t(-1.8369679912029837+0j)\n",
      "  (11, 11)\t(-1.1606317377577644+0j)\n",
      "  (12, 12)\t(-1.2445845498133268+0j)\n",
      "  (13, 13)\t(-0.3533251041071546+0j)\n",
      "  (14, 14)\t(-1.1606317377577637+0j)\n",
      "  (15, 15)\t(0.2142782384194734+0j)\n"
     ]
    }
   ],
   "source": [
    "print(H2_fermionic_op.to_matrix())"
   ]
  },
  {
   "attachments": {},
   "cell_type": "markdown",
   "metadata": {},
   "source": [
    "Ce résultat indique que l'opérateur Hamiltonien fermionique de la molécule d'hydrogène contient 10 **opérateurs d'échange entre 2 électrons**:\n",
    "\n",
    "$h_{pqrs}$|$a_p^\\dagger a_q^\\dagger a_r a_s$ | +0 | -0 | +1 | -1|  +2 | -2 | +3 |  -3 \n",
    "---------|------------------------------|----|----|----|----|---|-----|----|--------- \n",
    "$+0.1809$| $a_0^\\dagger a_2^\\dagger a_3 a_1$ |  + |    |    | + |  +  |    |    | +  |\n",
    "$-0.1809$| $a_0^\\dagger a_3^\\dagger a_2 a_1$ |  + |    |    |   |     | +  | +  |    |\n",
    "$-0.1809$| $a_1^\\dagger a_2^\\dagger a_3 a_0$ |    | +  |  + |   |  +  |    |    | +  |\n",
    "$+0.1809$| $a_1^\\dagger a_3^\\dagger a_2 a_0$ |    | +  |  + |   |     |  + | +  |    |\n",
    "$+0.4836$| $a_2^\\dagger a_3^\\dagger a_3 a_2$ |    |    |    |   | +   |  + |  + | +  |\n",
    "$+0.6986$| $a_1^\\dagger a_3^\\dagger a_3 a_1$ |    |    | +  | + |     |    |  + | +  |\n",
    "$+0.6646$| $a_1^\\dagger a_2^\\dagger a_2 a_1$ |    |    |  + | + |  +  | +  |    |    |\n",
    "$+0.6646$| $a_0^\\dagger a_3^\\dagger a_3 a_0$ |  + | +  |    |   |     |    |  + | +  |\n",
    "$+0.6757$| $a_0^\\dagger a_2^\\dagger a_2 a_0$ | +  | +  |    |   |  +  | +  |    |    |\n",
    "$+0.4836$| $a_0^\\dagger a_1^\\dagger a_1 a_0$ | +  | *  | +  | + |     |    |    |    |\n"
   ]
  },
  {
   "attachments": {},
   "cell_type": "markdown",
   "metadata": {},
   "source": [
    "### Utilisation du plugin `qiskiy_nature_pyscf`"
   ]
  },
  {
   "cell_type": "code",
   "execution_count": 160,
   "metadata": {},
   "outputs": [],
   "source": [
    "from pyscf import gto, scf, mcscf\n",
    "from pyscf.mcscf import avas #AVAS method to construct mcscf active space"
   ]
  },
  {
   "attachments": {},
   "cell_type": "markdown",
   "metadata": {},
   "source": [
    "- Initialisons la structure moléculaire"
   ]
  },
  {
   "cell_type": "code",
   "execution_count": 161,
   "metadata": {},
   "outputs": [],
   "source": [
    "H2_mol = gto.M(atom=\"H 0 0 0; H 0 0 .735\", basis=\"sto-3g\")"
   ]
  },
  {
   "attachments": {},
   "cell_type": "markdown",
   "metadata": {},
   "source": [
    "- Effectuons les calculs HF avec `pyscf.scf.RHF` (Restricted)."
   ]
  },
  {
   "cell_type": "code",
   "execution_count": 162,
   "metadata": {},
   "outputs": [
    {
     "name": "stdout",
     "output_type": "stream",
     "text": [
      "converged SCF energy = -1.116998996754\n"
     ]
    }
   ],
   "source": [
    "H2_h_f = scf.RHF(H2_mol).run()"
   ]
  },
  {
   "attachments": {},
   "cell_type": "markdown",
   "metadata": {},
   "source": [
    "- Effectuons les calculs post-HF avec `pyscf.mcscf.CASCI` (Complete active space configuration interaction) pour améliorer les solutions de l'équation de Schrödinger précédent."
   ]
  },
  {
   "cell_type": "code",
   "execution_count": 163,
   "metadata": {},
   "outputs": [
    {
     "data": {
      "text/plain": [
       "<pyscf.mcscf.casci.CASCI at 0x7fecc01d3940>"
      ]
     },
     "execution_count": 163,
     "metadata": {},
     "output_type": "execute_result"
    }
   ],
   "source": [
    "# To obtain norb, the number of (active) orbitals and nelec, the number of (active) electrons. \n",
    "norb, nel, mo =avas.avas(H2_h_f,['Li 2s','H 1s'])\n",
    "\n",
    "H2_cas = mcscf.CASCI(H2_h_f, norb, nel)\n",
    "\n",
    "H2_cas"
   ]
  },
  {
   "attachments": {},
   "cell_type": "markdown",
   "metadata": {},
   "source": [
    "Il ne reste plus qu'à intégrer un algorithme quantique à notre simulation! Nous allons donc, lors du prochain tutorial ou lab session, élaborer cet algorithme."
   ]
  },
  {
   "attachments": {},
   "cell_type": "markdown",
   "metadata": {},
   "source": [
    "## Cas de la molécule d'hydride de lithium\n",
    "\n",
    "<center><img src=\"Graphics/Lithium_hydride.png\" width=\"150\"/></center>\n",
    "\n",
    "Do it yourself\n",
    "\n",
    "```\n",
    "LiH_molecule = Molecule(geometry=[['Li', [0., 0., 0.]], ['H', [0., 0., 1.5474]]], charge=0, multiplicity=1)\n",
    "```\n"
   ]
  },
  {
   "attachments": {
    "water_dimer.jpg": {
     "image/jpeg": "[encoded data removed]"
    }
   },
   "cell_type": "markdown",
   "metadata": {},
   "source": [
    "## PySCF\n",
    "\n",
    "**Python-based Simulations of Chemistry Framework (PySCF)** est un programme de chimie computationnelle *ab initio* implémenté nativement dans le langage de programme Python. Le package vise à fournir une plate-forme simple, légère et efficace pour le développement et le calcul de codes de chimie quantique. Il fournit diverses fonctions pour faire la théorie Hartree-Fock, MP2, la théorie fonctionnelle de la densité (DFT), MCSCF, la théorie des clusters couplés au niveau non relativiste et la théorie relativiste Hartree-Fock à 4 composants. PySCF est utilisé dans la plupart des packages de calculs quantiques pour les calculs HF (première quantification) et diverses étapes des transformations de seconde quantification.\n",
    "\n",
    "Dans cette section, nous examinons un peu plus en détails, quelques modules usuels.\n",
    "\n",
    "### Creating a molecule (mol) object with `gto.Mole()`\n",
    "\n",
    "Considérons le dimère d'eau (deux molécules d'eau à liaison hydrogène) illustré par la figure suivante\n",
    "\n",
    "![water_dimer.jpg](attachment:water_dimer.jpg)\n",
    "\n"
   ]
  },
  {
   "cell_type": "code",
   "execution_count": 164,
   "metadata": {},
   "outputs": [],
   "source": [
    "from pyscf import gto # Gaussian type orbitals"
   ]
  },
  {
   "cell_type": "code",
   "execution_count": 165,
   "metadata": {},
   "outputs": [
    {
     "data": {
      "text/plain": [
       "<pyscf.gto.mole.Mole at 0x7fecc0700e80>"
      ]
     },
     "execution_count": 165,
     "metadata": {},
     "output_type": "execute_result"
    }
   ],
   "source": [
    "DWat_mol=gto.Mole(\n",
    "    atom=\"\"\"\n",
    "    O  -1.551007  -0.114520   0.000000\n",
    "    H  -1.934259   0.762503   0.000000\n",
    "    H  -0.599677   0.040712   0.000000\n",
    "    O   1.350625   0.111469   0.000000\n",
    "    H   1.680398  -0.373741  -0.758561\n",
    "    H   1.680398  -0.373741   0.758561\"\"\",\n",
    "    basis='aug-cc-pVDZ',\n",
    "    cart=False, #mol.cart=0 specifices spherical functions and mol.cart=1 specifies Cartesian functions\n",
    "    charge=0,\n",
    "    ecp={}, # Effective core potentials (ECP) which replace core electrons around a nucleus by pseudopotentials. It's useful for heavy elements present in a molecule.\n",
    "    spin=0,\n",
    "    unit='Angstrom'\n",
    ")\n",
    "DWat_mol.build()"
   ]
  },
  {
   "attachments": {},
   "cell_type": "markdown",
   "metadata": {},
   "source": [
    "### Accéder aux AO integrals"
   ]
  },
  {
   "cell_type": "code",
   "execution_count": 166,
   "metadata": {},
   "outputs": [
    {
     "data": {
      "text/plain": [
       "array([[ 2.91866417e+01, -1.59496562e+01,  1.67795801e-01, ...,\n",
       "         1.78695379e-03, -1.43348156e-04,  4.19481141e-04],\n",
       "       [-1.59496562e+01,  1.03611042e+01,  4.71263327e-01, ...,\n",
       "         9.10837210e-03, -7.30667101e-04,  2.13815843e-03],\n",
       "       [ 1.67795801e-01,  4.71263327e-01,  4.53450000e-01, ...,\n",
       "         1.57004567e-02, -1.25947942e-03,  3.68562720e-03],\n",
       "       ...,\n",
       "       [ 1.78695379e-03,  9.10837210e-03,  1.57004567e-02, ...,\n",
       "         3.52500000e-01,  0.00000000e+00,  0.00000000e+00],\n",
       "       [-1.43348156e-04, -7.30667101e-04, -1.25947942e-03, ...,\n",
       "         0.00000000e+00,  3.52500000e-01,  0.00000000e+00],\n",
       "       [ 4.19481141e-04,  2.13815843e-03,  3.68562720e-03, ...,\n",
       "         0.00000000e+00,  0.00000000e+00,  3.52500000e-01]])"
      ]
     },
     "execution_count": 166,
     "metadata": {},
     "output_type": "execute_result"
    }
   ],
   "source": [
    "DWat_mol.intor('int1e_kin')"
   ]
  },
  {
   "cell_type": "code",
   "execution_count": 167,
   "metadata": {},
   "outputs": [
    {
     "data": {
      "text/plain": [
       "array([[-6.39821087e+01,  2.41971422e+01, -6.44102956e+00, ...,\n",
       "         6.81284180e-02, -5.48083693e-03,  1.60013592e-02],\n",
       "       [ 2.41971422e+01, -2.24084957e+01, -6.76917770e+00, ...,\n",
       "         1.52596505e-01, -1.27750272e-02,  3.62047778e-02],\n",
       "       [-6.44102956e+00, -6.76917770e+00, -9.84277526e+00, ...,\n",
       "         4.77276470e-01, -4.29789089e-02,  1.17528030e-01],\n",
       "       ...,\n",
       "       [ 6.81284180e-02,  1.52596505e-01,  4.77276470e-01, ...,\n",
       "        -5.25622623e+00,  1.87737706e-01, -3.09952845e-01],\n",
       "       [-5.48083693e-03, -1.27750272e-02, -4.29789089e-02, ...,\n",
       "         1.87737706e-01, -5.17009309e+00,  3.80929059e-01],\n",
       "       [ 1.60013592e-02,  3.62047778e-02,  1.17528030e-01, ...,\n",
       "        -3.09952845e-01,  3.80929059e-01, -5.64806990e+00]])"
      ]
     },
     "execution_count": 167,
     "metadata": {},
     "output_type": "execute_result"
    }
   ],
   "source": [
    "DWat_mol.intor('int1e_nuc')"
   ]
  },
  {
   "cell_type": "code",
   "execution_count": 168,
   "metadata": {},
   "outputs": [
    {
     "data": {
      "text/plain": [
       "array([[ 1.00000000e+00, -2.14062652e-01,  1.94384152e-01, ...,\n",
       "        -2.23296997e-03,  1.79127255e-04, -5.24181874e-04],\n",
       "       [-2.14062652e-01,  1.00000000e+00,  7.08607329e-01, ...,\n",
       "        -1.59140123e-02,  1.27661069e-03, -3.73575861e-03],\n",
       "       [ 1.94384152e-01,  7.08607329e-01,  1.00000000e+00, ...,\n",
       "        -6.25109507e-02,  5.01458380e-03, -1.46742266e-02],\n",
       "       ...,\n",
       "       [-2.23296997e-03, -1.59140123e-02, -6.25109507e-02, ...,\n",
       "         1.00000000e+00,  0.00000000e+00,  0.00000000e+00],\n",
       "       [ 1.79127255e-04,  1.27661069e-03,  5.01458380e-03, ...,\n",
       "         0.00000000e+00,  1.00000000e+00,  0.00000000e+00],\n",
       "       [-5.24181874e-04, -3.73575861e-03, -1.46742266e-02, ...,\n",
       "         0.00000000e+00,  0.00000000e+00,  1.00000000e+00]])"
      ]
     },
     "execution_count": 168,
     "metadata": {},
     "output_type": "execute_result"
    }
   ],
   "source": [
    "DWat_mol.intor('int1e_ovlp')"
   ]
  },
  {
   "cell_type": "code",
   "execution_count": 169,
   "metadata": {},
   "outputs": [
    {
     "data": {
      "text/plain": [
       "array([[[[ 4.73826792e+00, -1.60036294e+00,  5.96111652e-01, ...,\n",
       "          -6.32048563e-03,  5.07024841e-04, -1.48371185e-03],\n",
       "         [-1.60036294e+00,  1.81027394e+00,  6.53067447e-01, ...,\n",
       "          -1.31875317e-02,  1.05789437e-03, -3.09572686e-03],\n",
       "         [ 5.96111652e-01,  6.53067447e-01,  8.68190427e-01, ...,\n",
       "          -3.21001280e-02,  2.57504933e-03, -7.53539257e-03],\n",
       "         ...,\n",
       "         [-6.32048563e-03, -1.31875317e-02, -3.21001280e-02, ...,\n",
       "           1.71933560e-01, -1.61320795e-03,  4.72074652e-03],\n",
       "         [ 5.07024841e-04,  1.05789437e-03,  2.57504933e-03, ...,\n",
       "          -1.61320795e-03,  1.51952994e-01, -3.78694913e-04],\n",
       "         [-1.48371185e-03, -3.09572686e-03, -7.53539257e-03, ...,\n",
       "           4.72074652e-03, -3.78694913e-04,  1.52931762e-01]],\n",
       "\n",
       "        [[-1.60036294e+00,  5.85155180e-01, -1.77169732e-01, ...,\n",
       "           1.85145876e-03, -1.48522698e-04,  4.34623455e-04],\n",
       "         [ 5.85155180e-01, -5.03393606e-01, -1.27446620e-01, ...,\n",
       "           2.70987087e-03, -2.17383905e-04,  6.36132690e-04],\n",
       "         [-1.77169732e-01, -1.27446620e-01, -1.94443300e-01, ...,\n",
       "           6.96417222e-03, -5.58660919e-04,  1.63481502e-03],\n",
       "         ...,\n",
       "         [ 1.85145876e-03,  2.70987087e-03,  6.96417222e-03, ...,\n",
       "          -3.68057588e-02,  3.45424029e-04, -1.01081778e-03],\n",
       "         [-1.48522698e-04, -2.17383905e-04, -5.58660919e-04, ...,\n",
       "           3.45424029e-04, -3.25274711e-02,  8.10870802e-05],\n",
       "         [ 4.34623455e-04,  6.36132690e-04,  1.63481502e-03, ...,\n",
       "          -1.01081778e-03,  8.10870802e-05, -3.27370474e-02]],\n",
       "\n",
       "        [[ 5.96111652e-01, -1.77169732e-01,  8.81447917e-02, ...,\n",
       "          -9.49195955e-04,  7.61438212e-05, -2.22820424e-04],\n",
       "         [-1.77169732e-01,  2.86216449e-01,  1.32776714e-01, ...,\n",
       "          -2.61213490e-03,  2.09543595e-04, -6.13189514e-04],\n",
       "         [ 8.81447917e-02,  1.32776714e-01,  1.63313769e-01, ...,\n",
       "          -6.17829921e-03,  4.95618748e-04, -1.45033409e-03],\n",
       "         ...,\n",
       "         [-9.49195955e-04, -2.61213490e-03, -6.17829921e-03, ...,\n",
       "           3.34201954e-02, -3.13505080e-04,  9.17413045e-04],\n",
       "         [ 7.61438212e-05,  2.09543595e-04,  4.95618748e-04, ...,\n",
       "          -3.13505080e-04,  2.95372435e-02, -7.35942189e-05],\n",
       "         [-2.22820424e-04, -6.13189514e-04, -1.45033409e-03, ...,\n",
       "           9.17413045e-04, -7.35942189e-05,  2.97274538e-02]],\n",
       "\n",
       "        ...,\n",
       "\n",
       "        [[-6.32048563e-03,  1.85145876e-03, -9.49195955e-04, ...,\n",
       "           1.04845658e-05, -8.40846182e-07,  2.46057657e-06],\n",
       "         [ 1.85145876e-03, -3.14621350e-03, -1.50325817e-03, ...,\n",
       "           3.14115445e-05, -2.51784230e-06,  7.36798707e-06],\n",
       "         [-9.49195955e-04, -1.50325817e-03, -1.84141414e-03, ...,\n",
       "           7.43889881e-05, -5.96203392e-06,  1.74467594e-05],\n",
       "         ...,\n",
       "         [ 1.04845658e-05,  3.14115445e-05,  7.43889881e-05, ...,\n",
       "          -3.96531926e-04,  3.90825281e-06, -1.14367592e-05],\n",
       "         [-8.40846182e-07, -2.51784230e-06, -5.96203392e-06, ...,\n",
       "           3.90825281e-06, -3.47939682e-04,  9.13965735e-07],\n",
       "         [ 2.46057657e-06,  7.36798707e-06,  1.74467594e-05, ...,\n",
       "          -1.14367592e-05,  9.13965735e-07, -3.50301902e-04]],\n",
       "\n",
       "        [[ 5.07024841e-04, -1.48522698e-04,  7.61438212e-05, ...,\n",
       "          -8.40846182e-07,  7.01720597e-08, -1.97385695e-07],\n",
       "         [-1.48522698e-04,  2.52386999e-04,  1.20590296e-04, ...,\n",
       "          -2.51784230e-06,  2.26529103e-07, -5.91054657e-07],\n",
       "         [ 7.61438212e-05,  1.20590296e-04,  1.47716926e-04, ...,\n",
       "          -5.96203392e-06,  5.45555056e-07, -1.39956657e-06],\n",
       "         ...,\n",
       "         [-8.40846182e-07, -2.51784230e-06, -5.96203392e-06, ...,\n",
       "           3.17798339e-05, -4.97281677e-07,  9.13965735e-07],\n",
       "         [ 7.01720597e-08,  2.26529103e-07,  5.45555056e-07, ...,\n",
       "          -4.97281677e-07,  2.79411465e-05, -1.16735131e-07],\n",
       "         [-1.97385695e-07, -5.91054657e-07, -1.39956657e-06, ...,\n",
       "           9.13965735e-07, -1.16735131e-07,  2.81009683e-05]],\n",
       "\n",
       "        [[-1.48371185e-03,  4.34623455e-04, -2.22820424e-04, ...,\n",
       "           2.46057657e-06, -1.97385695e-07,  5.80331708e-07],\n",
       "         [ 4.34623455e-04, -7.38562595e-04, -3.52884587e-04, ...,\n",
       "           7.36798707e-06, -5.91054657e-07,  1.75415874e-06],\n",
       "         [-2.22820424e-04, -3.52884587e-04, -4.32265516e-04, ...,\n",
       "           1.74467594e-05, -1.39956657e-06,  4.16285058e-06],\n",
       "         ...,\n",
       "         [ 2.46057657e-06,  7.36798707e-06,  1.74467594e-05, ...,\n",
       "          -9.29976452e-05,  9.13965735e-07, -2.85950169e-06],\n",
       "         [-1.97385695e-07, -5.91054657e-07, -1.39956657e-06, ...,\n",
       "           9.13965735e-07, -8.16776211e-05,  2.29387182e-07],\n",
       "         [ 5.80331708e-07,  1.75415874e-06,  4.16285058e-06, ...,\n",
       "          -2.85950169e-06,  2.29387182e-07, -8.23189789e-05]]],\n",
       "\n",
       "\n",
       "       [[[-1.60036294e+00,  5.85155180e-01, -1.77169732e-01, ...,\n",
       "           1.85145876e-03, -1.48522698e-04,  4.34623455e-04],\n",
       "         [ 5.85155180e-01, -5.03393606e-01, -1.27446620e-01, ...,\n",
       "           2.70987087e-03, -2.17383905e-04,  6.36132690e-04],\n",
       "         [-1.77169732e-01, -1.27446620e-01, -1.94443300e-01, ...,\n",
       "           6.96417222e-03, -5.58660919e-04,  1.63481502e-03],\n",
       "         ...,\n",
       "         [ 1.85145876e-03,  2.70987087e-03,  6.96417222e-03, ...,\n",
       "          -3.68057588e-02,  3.45424029e-04, -1.01081778e-03],\n",
       "         [-1.48522698e-04, -2.17383905e-04, -5.58660919e-04, ...,\n",
       "           3.45424029e-04, -3.25274711e-02,  8.10870802e-05],\n",
       "         [ 4.34623455e-04,  6.36132690e-04,  1.63481502e-03, ...,\n",
       "          -1.01081778e-03,  8.10870802e-05, -3.27370474e-02]],\n",
       "\n",
       "        [[ 1.81027394e+00, -5.03393606e-01,  2.86216449e-01, ...,\n",
       "          -3.14621350e-03,  2.52386999e-04, -7.38562595e-04],\n",
       "         [-5.03393606e-01,  1.14869370e+00,  6.35393894e-01, ...,\n",
       "          -1.27118094e-02,  1.01973227e-03, -2.98405271e-03],\n",
       "         [ 2.86216449e-01,  6.35393894e-01,  7.62042193e-01, ...,\n",
       "          -3.08235054e-02,  2.47263958e-03, -7.23570989e-03],\n",
       "         ...,\n",
       "         [-3.14621350e-03, -1.27118094e-02, -3.08235054e-02, ...,\n",
       "           1.71911133e-01, -1.61141701e-03,  4.71550567e-03],\n",
       "         [ 2.52386999e-04,  1.01973227e-03,  2.47263958e-03, ...,\n",
       "          -1.61141701e-03,  1.51952748e-01, -3.78274496e-04],\n",
       "         [-7.38562595e-04, -2.98405271e-03, -7.23570989e-03, ...,\n",
       "           4.71550567e-03, -3.78274496e-04,  1.52930430e-01]],\n",
       "\n",
       "        [[ 6.53067447e-01, -1.27446620e-01,  1.32776714e-01, ...,\n",
       "          -1.50325817e-03,  1.20590296e-04, -3.52884587e-04],\n",
       "         [-1.27446620e-01,  6.35393894e-01,  4.20876632e-01, ...,\n",
       "          -8.50506824e-03,  6.82270496e-04, -1.99653496e-03],\n",
       "         [ 1.32776714e-01,  4.20876632e-01,  4.98290607e-01, ...,\n",
       "          -2.12405000e-02,  1.70389773e-03, -4.98613293e-03],\n",
       "         ...,\n",
       "         [-1.50325817e-03, -8.50506824e-03, -2.12405000e-02, ...,\n",
       "           1.21799503e-01, -1.14043313e-03,  3.33726085e-03],\n",
       "         [ 1.20590296e-04,  6.82270496e-04,  1.70389773e-03, ...,\n",
       "          -1.14043313e-03,  1.07674542e-01, -2.67712680e-04],\n",
       "         [-3.52884587e-04, -1.99653496e-03, -4.98613293e-03, ...,\n",
       "           3.33726085e-03, -2.67712680e-04,  1.08366468e-01]],\n",
       "\n",
       "        ...,\n",
       "\n",
       "        [[-1.31875317e-02,  2.70987087e-03, -2.61213490e-03, ...,\n",
       "           3.14115445e-05, -2.51784230e-06,  7.36798707e-06],\n",
       "         [ 2.70987087e-03, -1.27118094e-02, -8.50506824e-03, ...,\n",
       "           2.12803615e-04, -1.70206627e-05,  4.98077350e-05],\n",
       "         [-2.61213490e-03, -8.50506824e-03, -1.03829897e-02, ...,\n",
       "           5.74126307e-04, -4.58618137e-05,  1.34205883e-04],\n",
       "         ...,\n",
       "         [ 3.14115445e-05,  2.12803615e-04,  5.74126307e-04, ...,\n",
       "          -3.15950390e-03,  3.61361625e-05, -1.05745613e-04],\n",
       "         [-2.51784230e-06, -1.70206627e-05, -4.58618137e-05, ...,\n",
       "           3.61361625e-05, -2.70426747e-03,  8.33936363e-06],\n",
       "         [ 7.36798707e-06,  4.98077350e-05,  1.34205883e-04, ...,\n",
       "          -1.05745613e-04,  8.33936363e-06, -2.72582124e-03]],\n",
       "\n",
       "        [[ 1.05789437e-03, -2.17383905e-04,  2.09543595e-04, ...,\n",
       "          -2.51784230e-06,  2.26529103e-07, -5.91054657e-07],\n",
       "         [-2.17383905e-04,  1.01973227e-03,  6.82270496e-04, ...,\n",
       "          -1.70206627e-05,  1.99230778e-06, -3.99554091e-06],\n",
       "         [ 2.09543595e-04,  6.82270496e-04,  8.32916015e-04, ...,\n",
       "          -4.58618137e-05,  6.09972133e-06, -1.07659001e-05],\n",
       "         ...,\n",
       "         [-2.51784230e-06, -1.70206627e-05, -4.58618137e-05, ...,\n",
       "           2.52230772e-04, -1.04687352e-05,  8.33936363e-06],\n",
       "         [ 2.26529103e-07,  1.99230778e-06,  6.09972133e-06, ...,\n",
       "          -1.04687352e-05,  2.18156777e-04, -2.45749891e-06],\n",
       "         [-5.91054657e-07, -3.99554091e-06, -1.07659001e-05, ...,\n",
       "           8.33936363e-06, -2.45749891e-06,  2.18663432e-04]],\n",
       "\n",
       "        [[-3.09572686e-03,  6.36132690e-04, -6.13189514e-04, ...,\n",
       "           7.36798707e-06, -5.91054657e-07,  1.75415874e-06],\n",
       "         [ 6.36132690e-04, -2.98405271e-03, -1.99653496e-03, ...,\n",
       "           4.98077350e-05, -3.99554091e-06,  1.23191136e-05],\n",
       "         [-6.13189514e-04, -1.99653496e-03, -2.43737045e-03, ...,\n",
       "           1.34205883e-04, -1.07659001e-05,  3.39250802e-05],\n",
       "         ...,\n",
       "         [ 7.36798707e-06,  4.98077350e-05,  1.34205883e-04, ...,\n",
       "          -7.38105426e-04,  8.33936363e-06, -3.20225101e-05],\n",
       "         [-5.91054657e-07, -3.99554091e-06, -1.07659001e-05, ...,\n",
       "           8.33936363e-06, -6.34817312e-04,  2.56882288e-06],\n",
       "         [ 1.75415874e-06,  1.23191136e-05,  3.39250802e-05, ...,\n",
       "          -3.20225101e-05,  2.56882288e-06, -6.43454027e-04]]],\n",
       "\n",
       "\n",
       "       [[[ 5.96111652e-01, -1.77169732e-01,  8.81447917e-02, ...,\n",
       "          -9.49195955e-04,  7.61438212e-05, -2.22820424e-04],\n",
       "         [-1.77169732e-01,  2.86216449e-01,  1.32776714e-01, ...,\n",
       "          -2.61213490e-03,  2.09543595e-04, -6.13189514e-04],\n",
       "         [ 8.81447917e-02,  1.32776714e-01,  1.63313769e-01, ...,\n",
       "          -6.17829921e-03,  4.95618748e-04, -1.45033409e-03],\n",
       "         ...,\n",
       "         [-9.49195955e-04, -2.61213490e-03, -6.17829921e-03, ...,\n",
       "           3.34201954e-02, -3.13505080e-04,  9.17413045e-04],\n",
       "         [ 7.61438212e-05,  2.09543595e-04,  4.95618748e-04, ...,\n",
       "          -3.13505080e-04,  2.95372435e-02, -7.35942189e-05],\n",
       "         [-2.22820424e-04, -6.13189514e-04, -1.45033409e-03, ...,\n",
       "           9.17413045e-04, -7.35942189e-05,  2.97274538e-02]],\n",
       "\n",
       "        [[ 6.53067447e-01, -1.27446620e-01,  1.32776714e-01, ...,\n",
       "          -1.50325817e-03,  1.20590296e-04, -3.52884587e-04],\n",
       "         [-1.27446620e-01,  6.35393894e-01,  4.20876632e-01, ...,\n",
       "          -8.50506824e-03,  6.82270496e-04, -1.99653496e-03],\n",
       "         [ 1.32776714e-01,  4.20876632e-01,  4.98290607e-01, ...,\n",
       "          -2.12405000e-02,  1.70389773e-03, -4.98613293e-03],\n",
       "         ...,\n",
       "         [-1.50325817e-03, -8.50506824e-03, -2.12405000e-02, ...,\n",
       "           1.21799503e-01, -1.14043313e-03,  3.33726085e-03],\n",
       "         [ 1.20590296e-04,  6.82270496e-04,  1.70389773e-03, ...,\n",
       "          -1.14043313e-03,  1.07674542e-01, -2.67712680e-04],\n",
       "         [-3.52884587e-04, -1.99653496e-03, -4.98613293e-03, ...,\n",
       "           3.33726085e-03, -2.67712680e-04,  1.08366468e-01]],\n",
       "\n",
       "        [[ 8.68190427e-01, -1.94443300e-01,  1.63313769e-01, ...,\n",
       "          -1.84141414e-03,  1.47716926e-04, -4.32265516e-04],\n",
       "         [-1.94443300e-01,  7.62042193e-01,  4.98290607e-01, ...,\n",
       "          -1.03829897e-02,  8.32916015e-04, -2.43737045e-03],\n",
       "         [ 1.63313769e-01,  4.98290607e-01,  6.20403348e-01, ...,\n",
       "          -2.82740085e-02,  2.26812076e-03, -6.63722442e-03],\n",
       "         ...,\n",
       "         [-1.84141414e-03, -1.03829897e-02, -2.82740085e-02, ...,\n",
       "           1.71750031e-01, -1.59877160e-03,  4.67850128e-03],\n",
       "         [ 1.47716926e-04,  8.32916015e-04,  2.26812076e-03, ...,\n",
       "          -1.59877160e-03,  1.51948268e-01, -3.75306029e-04],\n",
       "         [-4.32265516e-04, -2.43737045e-03, -6.63722442e-03, ...,\n",
       "           4.67850128e-03, -3.75306029e-04,  1.52918278e-01]],\n",
       "\n",
       "        ...,\n",
       "\n",
       "        [[-3.21001280e-02,  6.96417222e-03, -6.17829921e-03, ...,\n",
       "           7.43889881e-05, -5.96203392e-06,  1.74467594e-05],\n",
       "         [ 6.96417222e-03, -3.08235054e-02, -2.12405000e-02, ...,\n",
       "           5.74126307e-04, -4.58618137e-05,  1.34205883e-04],\n",
       "         [-6.17829921e-03, -2.12405000e-02, -2.82740085e-02, ...,\n",
       "           2.09837875e-03, -1.66525185e-04,  4.87304311e-04],\n",
       "         ...,\n",
       "         [ 7.43889881e-05,  5.74126307e-04,  2.09837875e-03, ...,\n",
       "          -1.51561934e-02,  1.97258782e-04, -5.77240344e-04],\n",
       "         [-5.96203392e-06, -4.58618137e-05, -1.66525185e-04, ...,\n",
       "           1.97258782e-04, -1.25245412e-02,  4.27791679e-05],\n",
       "         [ 1.74467594e-05,  1.34205883e-04,  4.87304311e-04, ...,\n",
       "          -5.77240344e-04,  4.27791679e-05, -1.26351075e-02]],\n",
       "\n",
       "        [[ 2.57504933e-03, -5.58660919e-04,  4.95618748e-04, ...,\n",
       "          -5.96203392e-06,  5.45555056e-07, -1.39956657e-06],\n",
       "         [-5.58660919e-04,  2.47263958e-03,  1.70389773e-03, ...,\n",
       "          -4.58618137e-05,  6.09972133e-06, -1.07659001e-05],\n",
       "         [ 4.95618748e-04,  1.70389773e-03,  2.26812076e-03, ...,\n",
       "          -1.66525185e-04,  3.58625877e-05, -3.90912036e-05],\n",
       "         ...,\n",
       "         [-5.96203392e-06, -4.58618137e-05, -1.66525185e-04, ...,\n",
       "           1.18577263e-03, -2.01895281e-04,  4.27791679e-05],\n",
       "         [ 5.45555056e-07,  6.09972133e-06,  3.58625877e-05, ...,\n",
       "          -2.01895281e-04,  1.03475612e-03, -4.73942097e-05],\n",
       "         [-1.39956657e-06, -1.07659001e-05, -3.90912036e-05, ...,\n",
       "           4.27791679e-05, -4.73942097e-05,  1.01357930e-03]],\n",
       "\n",
       "        [[-7.53539257e-03,  1.63481502e-03, -1.45033409e-03, ...,\n",
       "           1.74467594e-05, -1.39956657e-06,  4.16285058e-06],\n",
       "         [ 1.63481502e-03, -7.23570989e-03, -4.98613293e-03, ...,\n",
       "           1.34205883e-04, -1.07659001e-05,  3.39250802e-05],\n",
       "         [-1.45033409e-03, -4.98613293e-03, -6.63722442e-03, ...,\n",
       "           4.87304311e-04, -3.90912036e-05,  1.36897036e-04],\n",
       "         ...,\n",
       "         [ 1.74467594e-05,  1.34205883e-04,  4.87304311e-04, ...,\n",
       "          -3.46993830e-03,  4.27791679e-05, -3.12461578e-04],\n",
       "         [-1.39956657e-06, -1.07659001e-05, -3.90912036e-05, ...,\n",
       "           4.27791679e-05, -2.94009216e-03,  2.50654445e-05],\n",
       "         [ 4.16285058e-06,  3.39250802e-05,  1.36897036e-04, ...,\n",
       "          -3.12461578e-04,  2.50654445e-05, -3.05397220e-03]]],\n",
       "\n",
       "\n",
       "       ...,\n",
       "\n",
       "\n",
       "       [[[-6.32048563e-03,  1.85145876e-03, -9.49195955e-04, ...,\n",
       "           1.04845658e-05, -8.40846182e-07,  2.46057657e-06],\n",
       "         [ 1.85145876e-03, -3.14621350e-03, -1.50325817e-03, ...,\n",
       "           3.14115445e-05, -2.51784230e-06,  7.36798707e-06],\n",
       "         [-9.49195955e-04, -1.50325817e-03, -1.84141414e-03, ...,\n",
       "           7.43889881e-05, -5.96203392e-06,  1.74467594e-05],\n",
       "         ...,\n",
       "         [ 1.04845658e-05,  3.14115445e-05,  7.43889881e-05, ...,\n",
       "          -3.96531926e-04,  3.90825281e-06, -1.14367592e-05],\n",
       "         [-8.40846182e-07, -2.51784230e-06, -5.96203392e-06, ...,\n",
       "           3.90825281e-06, -3.47939682e-04,  9.13965735e-07],\n",
       "         [ 2.46057657e-06,  7.36798707e-06,  1.74467594e-05, ...,\n",
       "          -1.14367592e-05,  9.13965735e-07, -3.50301902e-04]],\n",
       "\n",
       "        [[-1.31875317e-02,  2.70987087e-03, -2.61213490e-03, ...,\n",
       "           3.14115445e-05, -2.51784230e-06,  7.36798707e-06],\n",
       "         [ 2.70987087e-03, -1.27118094e-02, -8.50506824e-03, ...,\n",
       "           2.12803615e-04, -1.70206627e-05,  4.98077350e-05],\n",
       "         [-2.61213490e-03, -8.50506824e-03, -1.03829897e-02, ...,\n",
       "           5.74126307e-04, -4.58618137e-05,  1.34205883e-04],\n",
       "         ...,\n",
       "         [ 3.14115445e-05,  2.12803615e-04,  5.74126307e-04, ...,\n",
       "          -3.15950390e-03,  3.61361625e-05, -1.05745613e-04],\n",
       "         [-2.51784230e-06, -1.70206627e-05, -4.58618137e-05, ...,\n",
       "           3.61361625e-05, -2.70426747e-03,  8.33936363e-06],\n",
       "         [ 7.36798707e-06,  4.98077350e-05,  1.34205883e-04, ...,\n",
       "          -1.05745613e-04,  8.33936363e-06, -2.72582124e-03]],\n",
       "\n",
       "        [[-3.21001280e-02,  6.96417222e-03, -6.17829921e-03, ...,\n",
       "           7.43889881e-05, -5.96203392e-06,  1.74467594e-05],\n",
       "         [ 6.96417222e-03, -3.08235054e-02, -2.12405000e-02, ...,\n",
       "           5.74126307e-04, -4.58618137e-05,  1.34205883e-04],\n",
       "         [-6.17829921e-03, -2.12405000e-02, -2.82740085e-02, ...,\n",
       "           2.09837875e-03, -1.66525185e-04,  4.87304311e-04],\n",
       "         ...,\n",
       "         [ 7.43889881e-05,  5.74126307e-04,  2.09837875e-03, ...,\n",
       "          -1.51561934e-02,  1.97258782e-04, -5.77240344e-04],\n",
       "         [-5.96203392e-06, -4.58618137e-05, -1.66525185e-04, ...,\n",
       "           1.97258782e-04, -1.25245412e-02,  4.27791679e-05],\n",
       "         [ 1.74467594e-05,  1.34205883e-04,  4.87304311e-04, ...,\n",
       "          -5.77240344e-04,  4.27791679e-05, -1.26351075e-02]],\n",
       "\n",
       "        ...,\n",
       "\n",
       "        [[ 1.71933560e-01, -3.68057588e-02,  3.34201954e-02, ...,\n",
       "          -3.96531926e-04,  3.17798339e-05, -9.29976452e-05],\n",
       "         [-3.68057588e-02,  1.71911133e-01,  1.21799503e-01, ...,\n",
       "          -3.15950390e-03,  2.52230772e-04, -7.38105426e-04],\n",
       "         [ 3.34201954e-02,  1.21799503e-01,  1.71750031e-01, ...,\n",
       "          -1.51561934e-02,  1.18577263e-03, -3.46993830e-03],\n",
       "         ...,\n",
       "         [-3.96531926e-04, -3.15950390e-03, -1.51561934e-02, ...,\n",
       "           3.46026568e-01,  0.00000000e+00,  0.00000000e+00],\n",
       "         [ 3.17798339e-05,  2.52230772e-04,  1.18577263e-03, ...,\n",
       "           0.00000000e+00,  3.03655968e-01,  0.00000000e+00],\n",
       "         [-9.29976452e-05, -7.38105426e-04, -3.46993830e-03, ...,\n",
       "           0.00000000e+00,  0.00000000e+00,  3.03655968e-01]],\n",
       "\n",
       "        [[-1.61320795e-03,  3.45424029e-04, -3.13505080e-04, ...,\n",
       "           3.90825281e-06, -4.97281677e-07,  9.13965735e-07],\n",
       "         [ 3.45424029e-04, -1.61141701e-03, -1.14043313e-03, ...,\n",
       "           3.61361625e-05, -1.04687352e-05,  8.33936363e-06],\n",
       "         [-3.13505080e-04, -1.14043313e-03, -1.59877160e-03, ...,\n",
       "           1.97258782e-04, -2.01895281e-04,  4.27791679e-05],\n",
       "         ...,\n",
       "         [ 3.90825281e-06,  3.61361625e-05,  1.97258782e-04, ...,\n",
       "           0.00000000e+00,  2.11853001e-02,  0.00000000e+00],\n",
       "         [-4.97281677e-07, -1.04687352e-05, -2.01895281e-04, ...,\n",
       "           2.11853001e-02,  0.00000000e+00,  0.00000000e+00],\n",
       "         [ 9.13965735e-07,  8.33936363e-06,  4.27791679e-05, ...,\n",
       "           0.00000000e+00,  0.00000000e+00,  0.00000000e+00]],\n",
       "\n",
       "        [[ 4.72074652e-03, -1.01081778e-03,  9.17413045e-04, ...,\n",
       "          -1.14367592e-05,  9.13965735e-07, -2.85950169e-06],\n",
       "         [-1.01081778e-03,  4.71550567e-03,  3.33726085e-03, ...,\n",
       "          -1.05745613e-04,  8.33936363e-06, -3.20225101e-05],\n",
       "         [ 9.17413045e-04,  3.33726085e-03,  4.67850128e-03, ...,\n",
       "          -5.77240344e-04,  4.27791679e-05, -3.12461578e-04],\n",
       "         ...,\n",
       "         [-1.14367592e-05, -1.05745613e-04, -5.77240344e-04, ...,\n",
       "           0.00000000e+00,  0.00000000e+00,  2.11853001e-02],\n",
       "         [ 9.13965735e-07,  8.33936363e-06,  4.27791679e-05, ...,\n",
       "           0.00000000e+00,  0.00000000e+00,  0.00000000e+00],\n",
       "         [-2.85950169e-06, -3.20225101e-05, -3.12461578e-04, ...,\n",
       "           2.11853001e-02,  0.00000000e+00,  0.00000000e+00]]],\n",
       "\n",
       "\n",
       "       [[[ 5.07024841e-04, -1.48522698e-04,  7.61438212e-05, ...,\n",
       "          -8.40846182e-07,  7.01720597e-08, -1.97385695e-07],\n",
       "         [-1.48522698e-04,  2.52386999e-04,  1.20590296e-04, ...,\n",
       "          -2.51784230e-06,  2.26529103e-07, -5.91054657e-07],\n",
       "         [ 7.61438212e-05,  1.20590296e-04,  1.47716926e-04, ...,\n",
       "          -5.96203392e-06,  5.45555056e-07, -1.39956657e-06],\n",
       "         ...,\n",
       "         [-8.40846182e-07, -2.51784230e-06, -5.96203392e-06, ...,\n",
       "           3.17798339e-05, -4.97281677e-07,  9.13965735e-07],\n",
       "         [ 7.01720597e-08,  2.26529103e-07,  5.45555056e-07, ...,\n",
       "          -4.97281677e-07,  2.79411465e-05, -1.16735131e-07],\n",
       "         [-1.97385695e-07, -5.91054657e-07, -1.39956657e-06, ...,\n",
       "           9.13965735e-07, -1.16735131e-07,  2.81009683e-05]],\n",
       "\n",
       "        [[ 1.05789437e-03, -2.17383905e-04,  2.09543595e-04, ...,\n",
       "          -2.51784230e-06,  2.26529103e-07, -5.91054657e-07],\n",
       "         [-2.17383905e-04,  1.01973227e-03,  6.82270496e-04, ...,\n",
       "          -1.70206627e-05,  1.99230778e-06, -3.99554091e-06],\n",
       "         [ 2.09543595e-04,  6.82270496e-04,  8.32916015e-04, ...,\n",
       "          -4.58618137e-05,  6.09972133e-06, -1.07659001e-05],\n",
       "         ...,\n",
       "         [-2.51784230e-06, -1.70206627e-05, -4.58618137e-05, ...,\n",
       "           2.52230772e-04, -1.04687352e-05,  8.33936363e-06],\n",
       "         [ 2.26529103e-07,  1.99230778e-06,  6.09972133e-06, ...,\n",
       "          -1.04687352e-05,  2.18156777e-04, -2.45749891e-06],\n",
       "         [-5.91054657e-07, -3.99554091e-06, -1.07659001e-05, ...,\n",
       "           8.33936363e-06, -2.45749891e-06,  2.18663432e-04]],\n",
       "\n",
       "        [[ 2.57504933e-03, -5.58660919e-04,  4.95618748e-04, ...,\n",
       "          -5.96203392e-06,  5.45555056e-07, -1.39956657e-06],\n",
       "         [-5.58660919e-04,  2.47263958e-03,  1.70389773e-03, ...,\n",
       "          -4.58618137e-05,  6.09972133e-06, -1.07659001e-05],\n",
       "         [ 4.95618748e-04,  1.70389773e-03,  2.26812076e-03, ...,\n",
       "          -1.66525185e-04,  3.58625877e-05, -3.90912036e-05],\n",
       "         ...,\n",
       "         [-5.96203392e-06, -4.58618137e-05, -1.66525185e-04, ...,\n",
       "           1.18577263e-03, -2.01895281e-04,  4.27791679e-05],\n",
       "         [ 5.45555056e-07,  6.09972133e-06,  3.58625877e-05, ...,\n",
       "          -2.01895281e-04,  1.03475612e-03, -4.73942097e-05],\n",
       "         [-1.39956657e-06, -1.07659001e-05, -3.90912036e-05, ...,\n",
       "           4.27791679e-05, -4.73942097e-05,  1.01357930e-03]],\n",
       "\n",
       "        ...,\n",
       "\n",
       "        [[-1.61320795e-03,  3.45424029e-04, -3.13505080e-04, ...,\n",
       "           3.90825281e-06, -4.97281677e-07,  9.13965735e-07],\n",
       "         [ 3.45424029e-04, -1.61141701e-03, -1.14043313e-03, ...,\n",
       "           3.61361625e-05, -1.04687352e-05,  8.33936363e-06],\n",
       "         [-3.13505080e-04, -1.14043313e-03, -1.59877160e-03, ...,\n",
       "           1.97258782e-04, -2.01895281e-04,  4.27791679e-05],\n",
       "         ...,\n",
       "         [ 3.90825281e-06,  3.61361625e-05,  1.97258782e-04, ...,\n",
       "           0.00000000e+00,  2.11853001e-02,  0.00000000e+00],\n",
       "         [-4.97281677e-07, -1.04687352e-05, -2.01895281e-04, ...,\n",
       "           2.11853001e-02,  0.00000000e+00,  0.00000000e+00],\n",
       "         [ 9.13965735e-07,  8.33936363e-06,  4.27791679e-05, ...,\n",
       "           0.00000000e+00,  0.00000000e+00,  0.00000000e+00]],\n",
       "\n",
       "        [[ 1.51952994e-01, -3.25274711e-02,  2.95372435e-02, ...,\n",
       "          -3.47939682e-04,  2.79411465e-05, -8.16776211e-05],\n",
       "         [-3.25274711e-02,  1.51952748e-01,  1.07674542e-01, ...,\n",
       "          -2.70426747e-03,  2.18156777e-04, -6.34817312e-04],\n",
       "         [ 2.95372435e-02,  1.07674542e-01,  1.51948268e-01, ...,\n",
       "          -1.25245412e-02,  1.03475612e-03, -2.94009216e-03],\n",
       "         ...,\n",
       "         [-3.47939682e-04, -2.70426747e-03, -1.25245412e-02, ...,\n",
       "           3.03655968e-01,  0.00000000e+00,  0.00000000e+00],\n",
       "         [ 2.79411465e-05,  2.18156777e-04,  1.03475612e-03, ...,\n",
       "           0.00000000e+00,  3.46026568e-01,  0.00000000e+00],\n",
       "         [-8.16776211e-05, -6.34817312e-04, -2.94009216e-03, ...,\n",
       "           0.00000000e+00,  0.00000000e+00,  3.03655968e-01]],\n",
       "\n",
       "        [[-3.78694913e-04,  8.10870802e-05, -7.35942189e-05, ...,\n",
       "           9.13965735e-07, -1.16735131e-07,  2.29387182e-07],\n",
       "         [ 8.10870802e-05, -3.78274496e-04, -2.67712680e-04, ...,\n",
       "           8.33936363e-06, -2.45749891e-06,  2.56882288e-06],\n",
       "         [-7.35942189e-05, -2.67712680e-04, -3.75306029e-04, ...,\n",
       "           4.27791679e-05, -4.73942097e-05,  2.50654445e-05],\n",
       "         ...,\n",
       "         [ 9.13965735e-07,  8.33936363e-06,  4.27791679e-05, ...,\n",
       "           0.00000000e+00,  0.00000000e+00,  0.00000000e+00],\n",
       "         [-1.16735131e-07, -2.45749891e-06, -4.73942097e-05, ...,\n",
       "           0.00000000e+00,  0.00000000e+00,  2.11853001e-02],\n",
       "         [ 2.29387182e-07,  2.56882288e-06,  2.50654445e-05, ...,\n",
       "           0.00000000e+00,  2.11853001e-02,  0.00000000e+00]]],\n",
       "\n",
       "\n",
       "       [[[-1.48371185e-03,  4.34623455e-04, -2.22820424e-04, ...,\n",
       "           2.46057657e-06, -1.97385695e-07,  5.80331708e-07],\n",
       "         [ 4.34623455e-04, -7.38562595e-04, -3.52884587e-04, ...,\n",
       "           7.36798707e-06, -5.91054657e-07,  1.75415874e-06],\n",
       "         [-2.22820424e-04, -3.52884587e-04, -4.32265516e-04, ...,\n",
       "           1.74467594e-05, -1.39956657e-06,  4.16285058e-06],\n",
       "         ...,\n",
       "         [ 2.46057657e-06,  7.36798707e-06,  1.74467594e-05, ...,\n",
       "          -9.29976452e-05,  9.13965735e-07, -2.85950169e-06],\n",
       "         [-1.97385695e-07, -5.91054657e-07, -1.39956657e-06, ...,\n",
       "           9.13965735e-07, -8.16776211e-05,  2.29387182e-07],\n",
       "         [ 5.80331708e-07,  1.75415874e-06,  4.16285058e-06, ...,\n",
       "          -2.85950169e-06,  2.29387182e-07, -8.23189789e-05]],\n",
       "\n",
       "        [[-3.09572686e-03,  6.36132690e-04, -6.13189514e-04, ...,\n",
       "           7.36798707e-06, -5.91054657e-07,  1.75415874e-06],\n",
       "         [ 6.36132690e-04, -2.98405271e-03, -1.99653496e-03, ...,\n",
       "           4.98077350e-05, -3.99554091e-06,  1.23191136e-05],\n",
       "         [-6.13189514e-04, -1.99653496e-03, -2.43737045e-03, ...,\n",
       "           1.34205883e-04, -1.07659001e-05,  3.39250802e-05],\n",
       "         ...,\n",
       "         [ 7.36798707e-06,  4.98077350e-05,  1.34205883e-04, ...,\n",
       "          -7.38105426e-04,  8.33936363e-06, -3.20225101e-05],\n",
       "         [-5.91054657e-07, -3.99554091e-06, -1.07659001e-05, ...,\n",
       "           8.33936363e-06, -6.34817312e-04,  2.56882288e-06],\n",
       "         [ 1.75415874e-06,  1.23191136e-05,  3.39250802e-05, ...,\n",
       "          -3.20225101e-05,  2.56882288e-06, -6.43454027e-04]],\n",
       "\n",
       "        [[-7.53539257e-03,  1.63481502e-03, -1.45033409e-03, ...,\n",
       "           1.74467594e-05, -1.39956657e-06,  4.16285058e-06],\n",
       "         [ 1.63481502e-03, -7.23570989e-03, -4.98613293e-03, ...,\n",
       "           1.34205883e-04, -1.07659001e-05,  3.39250802e-05],\n",
       "         [-1.45033409e-03, -4.98613293e-03, -6.63722442e-03, ...,\n",
       "           4.87304311e-04, -3.90912036e-05,  1.36897036e-04],\n",
       "         ...,\n",
       "         [ 1.74467594e-05,  1.34205883e-04,  4.87304311e-04, ...,\n",
       "          -3.46993830e-03,  4.27791679e-05, -3.12461578e-04],\n",
       "         [-1.39956657e-06, -1.07659001e-05, -3.90912036e-05, ...,\n",
       "           4.27791679e-05, -2.94009216e-03,  2.50654445e-05],\n",
       "         [ 4.16285058e-06,  3.39250802e-05,  1.36897036e-04, ...,\n",
       "          -3.12461578e-04,  2.50654445e-05, -3.05397220e-03]],\n",
       "\n",
       "        ...,\n",
       "\n",
       "        [[ 4.72074652e-03, -1.01081778e-03,  9.17413045e-04, ...,\n",
       "          -1.14367592e-05,  9.13965735e-07, -2.85950169e-06],\n",
       "         [-1.01081778e-03,  4.71550567e-03,  3.33726085e-03, ...,\n",
       "          -1.05745613e-04,  8.33936363e-06, -3.20225101e-05],\n",
       "         [ 9.17413045e-04,  3.33726085e-03,  4.67850128e-03, ...,\n",
       "          -5.77240344e-04,  4.27791679e-05, -3.12461578e-04],\n",
       "         ...,\n",
       "         [-1.14367592e-05, -1.05745613e-04, -5.77240344e-04, ...,\n",
       "           0.00000000e+00,  0.00000000e+00,  2.11853001e-02],\n",
       "         [ 9.13965735e-07,  8.33936363e-06,  4.27791679e-05, ...,\n",
       "           0.00000000e+00,  0.00000000e+00,  0.00000000e+00],\n",
       "         [-2.85950169e-06, -3.20225101e-05, -3.12461578e-04, ...,\n",
       "           2.11853001e-02,  0.00000000e+00,  0.00000000e+00]],\n",
       "\n",
       "        [[-3.78694913e-04,  8.10870802e-05, -7.35942189e-05, ...,\n",
       "           9.13965735e-07, -1.16735131e-07,  2.29387182e-07],\n",
       "         [ 8.10870802e-05, -3.78274496e-04, -2.67712680e-04, ...,\n",
       "           8.33936363e-06, -2.45749891e-06,  2.56882288e-06],\n",
       "         [-7.35942189e-05, -2.67712680e-04, -3.75306029e-04, ...,\n",
       "           4.27791679e-05, -4.73942097e-05,  2.50654445e-05],\n",
       "         ...,\n",
       "         [ 9.13965735e-07,  8.33936363e-06,  4.27791679e-05, ...,\n",
       "           0.00000000e+00,  0.00000000e+00,  0.00000000e+00],\n",
       "         [-1.16735131e-07, -2.45749891e-06, -4.73942097e-05, ...,\n",
       "           0.00000000e+00,  0.00000000e+00,  2.11853001e-02],\n",
       "         [ 2.29387182e-07,  2.56882288e-06,  2.50654445e-05, ...,\n",
       "           0.00000000e+00,  2.11853001e-02,  0.00000000e+00]],\n",
       "\n",
       "        [[ 1.52931762e-01, -3.27370474e-02,  2.97274538e-02, ...,\n",
       "          -3.50301902e-04,  2.81009683e-05, -8.23189789e-05],\n",
       "         [-3.27370474e-02,  1.52930430e-01,  1.08366468e-01, ...,\n",
       "          -2.72582124e-03,  2.18663432e-04, -6.43454027e-04],\n",
       "         [ 2.97274538e-02,  1.08366468e-01,  1.52918278e-01, ...,\n",
       "          -1.26351075e-02,  1.01357930e-03, -3.05397220e-03],\n",
       "         ...,\n",
       "         [-3.50301902e-04, -2.72582124e-03, -1.26351075e-02, ...,\n",
       "           3.03655968e-01,  0.00000000e+00,  0.00000000e+00],\n",
       "         [ 2.81009683e-05,  2.18663432e-04,  1.01357930e-03, ...,\n",
       "           0.00000000e+00,  3.03655968e-01,  0.00000000e+00],\n",
       "         [-8.23189789e-05, -6.43454027e-04, -3.05397220e-03, ...,\n",
       "           0.00000000e+00,  0.00000000e+00,  3.46026568e-01]]]])"
      ]
     },
     "execution_count": 169,
     "metadata": {},
     "output_type": "execute_result"
    }
   ],
   "source": [
    "DWat_mol.intor('int2e')"
   ]
  },
  {
   "attachments": {},
   "cell_type": "markdown",
   "metadata": {},
   "source": [
    "### Calculs de champ moyen\n",
    "\n",
    "Une fois l'objet `gto.Mole()` construit, il est nécessaire de créer un objet de champ moyen (mean-field object) Hartree-Fock (HF) ou Kohn-Sham Density Functional Theory (KS-DFT).\n",
    "\n",
    "Afin de créer un objet champ moyen, il est nécessaire d'importer le sous-module scf (champ auto-cohérent) :"
   ]
  },
  {
   "cell_type": "code",
   "execution_count": 170,
   "metadata": {},
   "outputs": [],
   "source": [
    "from pyscf import scf"
   ]
  },
  {
   "attachments": {},
   "cell_type": "markdown",
   "metadata": {},
   "source": [
    "Pour la plupart des usages, les types de calculs SCF pertinents seront :\n",
    "\n",
    "1. RHF (Restricted Hartree – Fock)\n",
    "2. UHF (Hartree-Fock sans restriction)\n",
    "3. ROHF (Restricted Open-Shell Hartree–Fock)\n",
    "4. RKS (Kohn-Sham restreint)\n",
    "5. UKS (Kohn-Sham sans restriction)\n",
    "6. ROKS (Restricted Open-Shell Kohn – Sham)\n",
    "\n",
    "L'initialisation de l'objet champ moyen pour ces six types de calculs est illustrée ci-dessous. Ces classes nécessitent au moins un argument, à savoir un objet molécule, mol.\n",
    "\n",
    "1. `mf=scf.RHF(mol)`\n",
    "2. `mf=scf.UHF(mol)`\n",
    "3. `mf=scf.RHF(mol)` (où mol est définie comme étant à couche ouverte (open-shell), mol.spin!=0)\n",
    "4. `mf=scf.RKS(mol)`\n",
    "5. `mf=scf.UKS(mol)`\n",
    "6. `mf=scf.RKS(mol)` (où mol est définie comme open-shell, mol.spin!=0)"
   ]
  },
  {
   "attachments": {},
   "cell_type": "markdown",
   "metadata": {},
   "source": [
    "#### Création d'un objet mean-field (mf) avec `scf.RHF()`\n",
    "\n",
    "RHF, ROHF et UHF ont des attributs presque identiques. La première étape consiste à créer l'objet mean-field (RHF dans ce cas) :"
   ]
  },
  {
   "cell_type": "code",
   "execution_count": 171,
   "metadata": {},
   "outputs": [],
   "source": [
    "mf=scf.RHF(DWat_mol)"
   ]
  },
  {
   "attachments": {},
   "cell_type": "markdown",
   "metadata": {},
   "source": [
    "Par la suite, on exécute le caclul avec la méthode `.run()`ou `.kernel()"
   ]
  },
  {
   "cell_type": "code",
   "execution_count": 172,
   "metadata": {},
   "outputs": [
    {
     "name": "stdout",
     "output_type": "stream",
     "text": [
      "converged SCF energy = -152.088599347503\n"
     ]
    },
    {
     "data": {
      "text/plain": [
       "RHF object of <class 'pyscf.scf.hf.RHF'>"
      ]
     },
     "execution_count": 172,
     "metadata": {},
     "output_type": "execute_result"
    }
   ],
   "source": [
    "mf.run()"
   ]
  },
  {
   "cell_type": "code",
   "execution_count": 173,
   "metadata": {},
   "outputs": [
    {
     "name": "stdout",
     "output_type": "stream",
     "text": [
      "converged SCF energy = -152.088599347502\n"
     ]
    },
    {
     "data": {
      "text/plain": [
       "-152.08859934750245"
      ]
     },
     "execution_count": 173,
     "metadata": {},
     "output_type": "execute_result"
    }
   ],
   "source": [
    "mf.kernel()"
   ]
  },
  {
   "attachments": {},
   "cell_type": "markdown",
   "metadata": {},
   "source": [
    "Une fois l'exécution du noyau (kernel) SCF achevée, l'objet mean-field (mf) est mis à jour avec plusieurs attributs de sortie utiles :\n",
    "1. `mf.mo_coeff` - Coefficients d'orbite moléculaire (MO) (matrice où les lignes sont des orbitales atomiques (AO) et les colonnes sont des MO)"
   ]
  },
  {
   "cell_type": "code",
   "execution_count": 174,
   "metadata": {},
   "outputs": [
    {
     "data": {
      "text/plain": [
       "array([[-8.28889850e-05,  1.00156027e+00, -3.25643525e-05, ...,\n",
       "        -3.46791166e-01, -3.71459798e-14,  1.34864987e-01],\n",
       "       [-4.88984428e-05,  2.39443287e-03,  3.62677065e-02, ...,\n",
       "        -5.78940538e-01, -6.78513763e-14,  2.32803484e-01],\n",
       "       [ 3.08913654e-04, -8.19045154e-03,  1.76003949e-02, ...,\n",
       "         3.90447263e+00,  3.28360963e-13, -1.51027366e+00],\n",
       "       ...,\n",
       "       [-5.89783981e-04, -1.16693987e-04,  4.53983041e-03, ...,\n",
       "         2.39125112e-01,  3.03930780e-01, -1.19770714e-01],\n",
       "       [ 8.44568865e-04,  8.06879970e-05, -4.69919472e-03, ...,\n",
       "        -9.60470168e-02, -4.63118588e-01,  4.49959357e-02],\n",
       "       [-1.19044464e-03, -8.04443868e-05,  3.87001400e-03, ...,\n",
       "         9.25484980e-02,  6.15226476e-01, -7.99071056e-02]])"
      ]
     },
     "execution_count": 174,
     "metadata": {},
     "output_type": "execute_result"
    }
   ],
   "source": [
    "mf.mo_coeff"
   ]
  },
  {
   "attachments": {},
   "cell_type": "markdown",
   "metadata": {},
   "source": [
    "2. `mf.mo_energy` - énergies MO (vecteur de longueur égale au nombre de MO)"
   ]
  },
  {
   "cell_type": "code",
   "execution_count": 175,
   "metadata": {},
   "outputs": [
    {
     "data": {
      "text/plain": [
       "array([-20.60263998, -20.54633935,  -1.38345517,  -1.32656949,\n",
       "        -0.74378744,  -0.69631739,  -0.61522204,  -0.56129924,\n",
       "        -0.53032684,  -0.48116375,   0.02848514,   0.05535647,\n",
       "         0.05598725,   0.09093742,   0.1568845 ,   0.18507929,\n",
       "         0.21133526,   0.21473524,   0.22662531,   0.23674623,\n",
       "         0.26166368,   0.28436816,   0.2944914 ,   0.33278023,\n",
       "         0.35152125,   0.36413345,   0.38239846,   0.44168167,\n",
       "         0.45833783,   0.48685166,   0.52443467,   0.53419017,\n",
       "         0.55329331,   0.60881602,   0.64736395,   0.66740783,\n",
       "         0.68248307,   0.78733175,   0.80040557,   0.91932837,\n",
       "         0.96715694,   1.03656344,   1.11649473,   1.14518072,\n",
       "         1.14703189,   1.17869174,   1.20863059,   1.22186889,\n",
       "         1.35392046,   1.38083413,   1.43726821,   1.47271457,\n",
       "         1.59303465,   1.59752695,   1.64111852,   1.96408209,\n",
       "         2.00358895,   2.01687991,   2.04302886,   2.07100419,\n",
       "         2.15669328,   2.2734676 ,   2.33681299,   2.46175752,\n",
       "         2.47203128,   2.58024809,   2.62042777,   2.70012119,\n",
       "         2.7706547 ,   2.79102797,   3.01760253,   3.12221901,\n",
       "         3.69365915,   3.69743423,   3.70889987,   3.74102576,\n",
       "         3.77059375,   3.79020962,   4.04279602,   4.1589998 ,\n",
       "         4.28744683,   4.40982676])"
      ]
     },
     "execution_count": 175,
     "metadata": {},
     "output_type": "execute_result"
    }
   ],
   "source": [
    "mf.mo_energy"
   ]
  },
  {
   "attachments": {},
   "cell_type": "markdown",
   "metadata": {},
   "source": [
    "3. `mf.mo_occ` - Occupation MO (vecteur de longueur égale au nombre de MO)"
   ]
  },
  {
   "cell_type": "code",
   "execution_count": 176,
   "metadata": {},
   "outputs": [
    {
     "data": {
      "text/plain": [
       "array([2., 2., 2., 2., 2., 2., 2., 2., 2., 2., 0., 0., 0., 0., 0., 0., 0.,\n",
       "       0., 0., 0., 0., 0., 0., 0., 0., 0., 0., 0., 0., 0., 0., 0., 0., 0.,\n",
       "       0., 0., 0., 0., 0., 0., 0., 0., 0., 0., 0., 0., 0., 0., 0., 0., 0.,\n",
       "       0., 0., 0., 0., 0., 0., 0., 0., 0., 0., 0., 0., 0., 0., 0., 0., 0.,\n",
       "       0., 0., 0., 0., 0., 0., 0., 0., 0., 0., 0., 0., 0., 0.])"
      ]
     },
     "execution_count": 176,
     "metadata": {},
     "output_type": "execute_result"
    }
   ],
   "source": [
    "mf.mo_occ"
   ]
  },
  {
   "attachments": {},
   "cell_type": "markdown",
   "metadata": {},
   "source": [
    "4. `mf.e_tot` - Énergie SCF totale en unités de Hartrees"
   ]
  },
  {
   "cell_type": "code",
   "execution_count": 177,
   "metadata": {},
   "outputs": [
    {
     "data": {
      "text/plain": [
       "-152.08859934750245"
      ]
     },
     "execution_count": 177,
     "metadata": {},
     "output_type": "execute_result"
    }
   ],
   "source": [
    "mf.e_tot"
   ]
  },
  {
   "attachments": {},
   "cell_type": "markdown",
   "metadata": {},
   "source": [
    "5. `mf.converged` - État de la convergence SCF (True indique convergé et False indique non convergé)"
   ]
  },
  {
   "cell_type": "code",
   "execution_count": 178,
   "metadata": {},
   "outputs": [
    {
     "data": {
      "text/plain": [
       "True"
      ]
     },
     "execution_count": 178,
     "metadata": {},
     "output_type": "execute_result"
    }
   ],
   "source": [
    "mf.converged"
   ]
  },
  {
   "attachments": {},
   "cell_type": "markdown",
   "metadata": {},
   "source": [
    "On peut aussi spécifier les paramètres de calculs du mf."
   ]
  },
  {
   "cell_type": "code",
   "execution_count": 179,
   "metadata": {},
   "outputs": [
    {
     "name": "stdout",
     "output_type": "stream",
     "text": [
      "\n",
      "\n",
      "******** <class 'pyscf.scf.hf.RHF'> ********\n",
      "method = RHF\n",
      "initial guess = atom\n",
      "damping factor = 0\n",
      "level_shift factor = 0\n",
      "DIIS = <class 'pyscf.scf.diis.CDIIS'>\n",
      "diis_start_cycle = 1\n",
      "diis_space = 8\n",
      "SCF conv_tol = 1e-12\n",
      "SCF conv_tol_grad = 1e-08\n",
      "SCF max_cycles = 100\n",
      "direct_scf = True\n",
      "direct_scf_tol = 1e-13\n",
      "chkfile to save SCF result = /media/taamangtchu/MYDATA/Workplace/QisKit/UY1_NE_Qiskit/tmpw080a0fe\n",
      "max_memory 4000 MB (current use 598 MB)\n",
      "Initial guess from superposition of atomic densities.\n",
      "init E= -151.935558790023\n",
      "  HOMO = -0.53200418190279  LUMO = -0.00558185928951621\n",
      "cycle= 1 E= -151.989472145757  delta_E= -0.0539  |g|= 0.728  |ddm|= 1.96\n",
      "  HOMO = -0.370677971127694  LUMO = 0.0259913074289285\n",
      "cycle= 2 E= -152.056729996914  delta_E= -0.0673  |g|= 0.421  |ddm|= 0.623\n",
      "  HOMO = -0.48705690174774  LUMO = 0.0267829914798453\n",
      "cycle= 3 E= -152.088161774252  delta_E= -0.0314  |g|= 0.0375  |ddm|= 0.221\n",
      "  HOMO = -0.480006454568793  LUMO = 0.02844339307364\n",
      "cycle= 4 E= -152.088568292214  delta_E= -0.000407  |g|= 0.00754  |ddm|= 0.031\n",
      "  HOMO = -0.481148165112048  LUMO = 0.028490788852222\n",
      "cycle= 5 E= -152.088597157211  delta_E= -2.89e-05  |g|= 0.00204  |ddm|= 0.00954\n",
      "  HOMO = -0.480903613196986  LUMO = 0.0284779039748987\n",
      "cycle= 6 E= -152.088599045666  delta_E= -1.89e-06  |g|= 0.00097  |ddm|= 0.00281\n",
      "  HOMO = -0.481151031514917  LUMO = 0.0284836223156265\n",
      "cycle= 7 E= -152.088599329854  delta_E= -2.84e-07  |g|= 0.000169  |ddm|= 0.000978\n",
      "  HOMO = -0.481162566799301  LUMO = 0.0284847134036336\n",
      "cycle= 8 E= -152.088599347239  delta_E= -1.74e-08  |g|= 2.09e-05  |ddm|= 0.000304\n",
      "  HOMO = -0.4811640475287  LUMO = 0.0284849871653039\n",
      "cycle= 9 E= -152.088599347498  delta_E= -2.58e-10  |g|= 3.45e-06  |ddm|= 4.85e-05\n",
      "  HOMO = -0.481163970868441  LUMO = 0.0284851557790397\n",
      "cycle= 10 E= -152.088599347503  delta_E= -5.29e-12  |g|= 7.92e-07  |ddm|= 7.06e-06\n",
      "  HOMO = -0.481164058540716  LUMO = 0.0284851654964912\n",
      "cycle= 11 E= -152.088599347503  delta_E= 5.68e-14  |g|= 2.42e-07  |ddm|= 1.54e-06\n",
      "  HOMO = -0.481164094066077  LUMO = 0.0284851727695444\n",
      "cycle= 12 E= -152.088599347504  delta_E= -8.53e-13  |g|= 5.38e-08  |ddm|= 5.89e-07\n",
      "  HOMO = -0.481164086963323  LUMO = 0.0284851730637649\n",
      "cycle= 13 E= -152.088599347503  delta_E= 1.02e-12  |g|= 2.17e-08  |ddm|= 1.03e-07\n",
      "  HOMO = -0.481164090199642  LUMO = 0.0284851730144388\n",
      "cycle= 14 E= -152.088599347503  delta_E= -3.98e-13  |g|= 1.03e-08  |ddm|= 2.45e-08\n",
      "  HOMO = -0.481164091285392  LUMO = 0.0284851729833799\n",
      "cycle= 15 E= -152.088599347504  delta_E= -1.14e-12  |g|= 5.82e-09  |ddm|= 8.36e-09\n",
      "  HOMO = -0.481164092323045  LUMO = 0.0284851729785923\n",
      "cycle= 16 E= -152.088599347504  delta_E= 1.14e-13  |g|= 3.92e-09  |ddm|= 3.26e-09\n",
      "  HOMO = -0.481164093021391  LUMO = 0.0284851729794306\n",
      "Extra cycle  E= -152.088599347503  delta_E= 1.65e-12  |g|= 1.76e-09  |ddm|= 6.03e-09\n",
      "converged SCF energy = -152.088599347503\n"
     ]
    },
    {
     "data": {
      "text/plain": [
       "-152.08859934750274"
      ]
     },
     "execution_count": 179,
     "metadata": {},
     "output_type": "execute_result"
    }
   ],
   "source": [
    "mf=scf.RHF(DWat_mol)\n",
    "\n",
    "mf.conv_tol=1e-12 # the difference in the SCF energy (in Hartrees) between two successive cycles\n",
    "mf.conv_tol_grad=1e-8 # the root-mean-square of the orbital gradient\n",
    "mf.direct_scf_tol=1e-13 #the threshold for discarding integrals\n",
    "mf.init_guess='atom' #  vital for the efficient completion of the SCF procedure\n",
    "mf.max_cycle=100 # the maximum number of SCF cycles that should be performed before the calculation terminates. For systems that are notoriously difficult to converge, the value should be increased to 100 or even 1000\n",
    "mf.max_memory=4000 #determines the maximum amount of memory (in Megabytes) that PySCF is allowed to utilize during the SCF procedure\n",
    "mf.verbose=4 #controls the print level for the mean-field objec\n",
    "\n",
    "mf.kernel()"
   ]
  },
  {
   "attachments": {},
   "cell_type": "markdown",
   "metadata": {},
   "source": [
    "#### Création d'un objet mean-field (mf) avec scf.RKS()\n",
    "\n",
    "La méthode SCF la plus largement utilisée en chimie quantique est sans aucun doute la théorie de la fonctionnelle de la densité (DFT), et exécuter un calcul DFT dans PySCF est presque aussi simple que d'exécuter un calcul Hartree-Fock.\n",
    "\n",
    "Afin d'accéder à des fonctions supplémentaires qui ne relèvent pas de la norme SCF/HF, il est nécessaire d'importer le module dft (théorie fonctionnelle de la densité) :"
   ]
  },
  {
   "cell_type": "code",
   "execution_count": 180,
   "metadata": {},
   "outputs": [],
   "source": [
    "from pyscf import dft"
   ]
  },
  {
   "cell_type": "code",
   "execution_count": 181,
   "metadata": {},
   "outputs": [
    {
     "name": "stdout",
     "output_type": "stream",
     "text": [
      "radial grids: Gauss-Chebyshev [JCP 108, 3226 (1998); DOI:10.1063/1.475719) radial grids\n",
      "becke partition: Becke, JCP 88, 2547 (1988); DOI:10.1063/1.454033\n",
      "pruning grids: None\n",
      "grids dens level: 3\n",
      "symmetrized grids: False\n",
      "User specified grid scheme (50, 194)\n",
      "tot grids = 58200\n"
     ]
    },
    {
     "data": {
      "text/plain": [
       "-152.82239954988512"
      ]
     },
     "execution_count": 181,
     "metadata": {},
     "output_type": "execute_result"
    }
   ],
   "source": [
    "mf=scf.RKS(DWat_mol)\n",
    "\n",
    "mf.conv_tol=1e-12\n",
    "mf.conv_tol_grad=1e-8\n",
    "mf.direct_scf_tol=1e-13\n",
    "mf.init_guess='atom'\n",
    "mf.max_cycle=100\n",
    "mf.max_memory=8000\n",
    "mf.verbose=0\n",
    "\n",
    "mf.xc='B3LYP'\n",
    "mf.grids.atom_grid=(50,194)\n",
    "mf.grids.becke_scheme=dft.gen_grid.original_becke\n",
    "mf.grids.prune=None\n",
    "mf.grids.radi_method=dft.radi.gauss_chebyshev\n",
    "mf.grids.radii_adjust=None\n",
    "mf.grids.verbose=4\n",
    "mf.small_rho_cutoff=1e-10\n",
    "\n",
    "mf.kernel()"
   ]
  },
  {
   "attachments": {},
   "cell_type": "markdown",
   "metadata": {},
   "source": [
    "RHF and RKS (as well as UHF and UKS) share many attributes, so we will only cover the ones that pertain specifically to DFT. These additional attributes primarily concern the exchange-correlation functional and the grid used for its numerical integration.\n",
    "\n",
    "#### xc attribute\n",
    "\n",
    "(NO DEFAULT)\n",
    "\n",
    "The xc attribute sets the density functional approximation. A vast number of exchange-correlation functionals are available for use in PySCF, essentially all of those that are available in the installed version of libxc.\n",
    "\n",
    "While the parsing rules for the xc attribute are explained in the [PySCF manual](http://sunqm.github.io/pyscf/dft.html#customizing-xc-functional), we will go through a main relevant examples here:\n",
    "\n",
    "1. Standard (pre-coded) exchange-correlation functional\n",
    "\n",
    "  * A classic example of this scenario is the beloved B3LYP functional. To run a B3LYP calculation, simply specify `mf.xc='B3LYP'`.\n",
    "  \n",
    "  * As long as commas and operators are not used, PySCF will assume that the string indicates a full exchange-correlation functional. Other examples may include `mf.xc='PBE'`, `mf.xc='TPSS'`, `mf.xc='M06-L'`, etc.\n",
    "\n",
    "2. Combination of a single exchange functional with a single correlation functional\n",
    "\n",
    "  * This is a popular choice, particularly for using various combinations of the older exchange and correlation functionals from the 1980s and 1990s.\n",
    "  \n",
    "  * In PySCF, inserting a comma into the xc attribute string indicates a separation into exchange (left of the comma) and correlation (right of the comma). For instance, if once wants to run B88 exchange with PBE correlation, it is as simple as `mf.xc='B88,PBE'`.\n",
    "  \n",
    "  * Since the PBE exchange-correlation functional is a combination of PBE exchange and PBE correlation, it follows that `mf.xc='PBE'` and `mf.xc='PBE,PBE'` are exactly equivalant ways of using the PBE xc functional.\n",
    "  \n",
    "  * Other popular combinations of a single exchange functional with a single correlation functional include `mf.xc='B88,LYP'`, `mf.xc='revPBE,PBE'`, and `mf.xc='OPTX,LYP'`. These combinations are historically known as BLYP, revPBE, and OLYP, and can equivalently be called as `mf.xc='BLYP'`, `mf.xc='revPBE'`, and `mf.xc='OLYP'`.\n",
    "  \n",
    "  * This option is most useful when one is interested in an unconventional combination, for example, the combination of PBE exchange with TPSS correlation, `mf.xc='PBE,TPSS'`.\n",
    "\n",
    "3. Single exchange functional or single correlation functional\n",
    "\n",
    "  * Using a single exchange functional, for example, PBE exchange only, is as simple as `mf.xc='PBE,'`. Similarly, PBE correlation only can be specified with `mf.xc=',PBE'`. In the first case (PBE exchange only), the fact that there is a comma indicates to the parser that that a pre-coded xc functional is not being utilized. Therefore, anything to the left of the comma (PBE) is taken to be the exchange functional, while anything to the right of the comma (nothing) is taken to be the correlation functional. The reverse situation applies to the second case with PBE correlation only.\n",
    "\n",
    "4. Custom exchange-correlation functional\n",
    "\n",
    "  * Naturally, it is possible to fully customize the xc attribute. Once again, anything to the left of the comma is assumed to be referring to exchange, and anything to the right of the comma is assumed to be reffering to correlation.\n",
    "  \n",
    "  * In order to start with something simple, we will demonstrate how to specify the popular [PBE0](https://aip.scitation.org/doi/abs/10.1063/1.478522) xc functional by building it from its components (the easy way to do this is simply `mf.xc='PBE0'`). PBE0 is comprised of 25% exact (Hartree–Fock) exchange, 75% PBE exchange, and 100% PBE correlation. This can be accomplished by the following line: `mf.xc='0.25*HF+0.75*PBE,PBE'`.\n",
    "  \n",
    "  * A more complicated example is that of B3LYP. B3LYP is comprised of 20% exact (Hartree–Fock) exchange, 8% LDA exchange, 72% B88 exchange, 19% VWN correlation, and 81% LYP correlation. Unfortunately, there are 6 existing parameterization of the VWN LDA correlation functional, and this has led to much confusion through the years.\n",
    "  \n",
    "  * PySCF, TURBOMOLE, GAMESS, ORCA, and PSI4 all use the VWN5 parameterization, and the following two assignments are equivalent:\n",
    "    * `mf.xc='B3LYP'`\n",
    "    * `mf.xc='0.2*HF+0.08*LDA+0.72*B88,0.19*VWN5+0.81*LYP'`\n",
    "  * Q-Chem and NWChem use the VWN1RPA parameterization:\n",
    "    * `mf.xc='0.2*HF+0.08*LDA+0.72*B88,0.19*VWN_RPA+0.81*LYP'`\n",
    "  * Gaussian uses the VWN3 parameterization:\n",
    "    * `mf.xc='0.2*HF+0.08*LDA+0.72*B88,0.19*VWN3+0.81*LYP'`\n",
    "    \n",
    "#### nlc attribute\n",
    "\n",
    "DEFAULT: `mf.nlc=''`\n",
    "\n",
    "The nlc attribute is used to specify the inclusion of the [VV10 nonlocal correlation functional](https://aip.scitation.org/doi/abs/10.1063/1.3521275). This can simply be accomplished by `mf.nlc='VV10'`. Certain density functionals such as [ωB97X-V](http://pubs.rsc.org/en/Content/ArticleLanding/2014/CP/c3cp54374a#!divAbstract), [ωB97M-V](https://aip.scitation.org/doi/abs/10.1063/1.4952647), and [B97M-V](https://aip.scitation.org/doi/abs/10.1063/1.4907719) require this attribute to run correctly. \n",
    "\n",
    "\n",
    "#### grids attribute/class\n",
    "\n",
    "Although PySCF allows for the comprehensive customization of the DFT integration grid, non-expert users are advised to rely on the default settings as they have been fine-tuned to maximize accuracy and minimize computational cost.\n",
    "\n",
    "##### grids.level attribute\n",
    "\n",
    "DEFAULT: `mf.grids.level=3`\n",
    "\n",
    "This is the simplest grid attribute to manipulate in order to increase or decrease the number of grid points. While the default value is 3, the range of possible values starts at `mf.grids.level=0` and continues to `mf.grids.level=3`.\n",
    "\n",
    "#### grids.atom_grid attribute\n",
    "\n",
    "(NO DEFAULT)\n",
    "\n",
    "This attribute can be used to set the total number of radial shells and the number of angular grid points per shell. The format is (radial,angular). \n",
    "\n",
    "The number of radial shells can be set to any number larger than 0, while the number of angular grid points per shell must adhere to a valid Lebedev quadrature:\n",
    "\n",
    "{6,14,26,38,50,74,86,110,146,170,194,230,266,302,350,434,590,770,974,1202,1454,1730,2030,2354,2702,3074,3470,3890,4334,4802,5294,5810}\n",
    "\n",
    "Commonly used combinations include:\n",
    "* very coarse: `mf.grids.atom_grid=(23,170)`\n",
    "* coarse: `mf.grids.atom_grid=(50,194)`\n",
    "* moderate: `mf.grids.atom_grid=(75,302)`\n",
    "* fine: `mf.grids.atom_grid=(99,590)`\n",
    "* extremely fine: `mf.grids.atom_grid=(500,974)`\n",
    "\n",
    "Setting this attribute will override the `mf.grids.level` attribute.\n",
    "\n",
    "\n",
    "#### grids.atomic_radii attribute\n",
    "\n",
    "DEFAULT: `mf.grids.atomic_radii=dft.radi.BRAGG_RADII`\n",
    "\n",
    "This attribute chooses the atomic radius values that will be used to adjust the spacing of the radial shells. If `grids.radii_adjust=None`, setting this parameter will have no affect. There are two built-in options in PySCF:\n",
    "\n",
    "1. `mf.grids.atomic_radii=dft.radi.BRAGG_RADII`\n",
    "2. `mf.grids.atomic_radii=dft.radi.COVALENT_RADII`\n",
    "\n",
    "The first one corresponds to the values found in this 1964 [paper](https://aip.scitation.org/doi/10.1063/1.1725697) by J. C. Slater, while the second one is primarily constructed from the values found in this [paper](http://pubs.rsc.org/en/content/articlelanding/2008/dt/b801115j#!divAbstract).\n",
    "\n",
    "#### grids.becke_scheme attribute\n",
    "\n",
    "DEFAULT: `mf.grids.becke_scheme=dft.gen_grid.original_becke`\n",
    "\n",
    "This attribute selects the partition function used to determine the grid point weights. PySCF allows for two options:\n",
    "\n",
    "1. `mf.grids.becke_scheme=dft.gen_grid.original_becke`\n",
    "2. `mf.grids.becke_scheme=dft.gen_grid.stratmann`\n",
    "\n",
    "The first scheme is from the famous 1988 [paper](https://aip.scitation.org/doi/abs/10.1063/1.454033) by Axel Becke, while the second scheme devised by Stratmann, Scuseria, and Frisch is found in this [paper](https://www.sciencedirect.com/science/article/pii/0009261496006008).\n",
    "\n",
    "#### grids.prune attribute\n",
    "\n",
    "DEFAULT: `mf.grids.prune=dft.gen_grid.nwchem_prune`\n",
    "\n",
    "Pruning integration grids offers the benefit of reducing the number of grid points (as well as the computation time) without significantly affecting the total energy. PySCF has several build in pruning options:\n",
    "\n",
    "1. `mf.grids.prune=dft.gen_grid.nwchem_prune`\n",
    "2. `mf.grids.prune=dft.gen_grid.sg1_prune`\n",
    "3. `mf.grids.prune=dft.gen_grid.treutler_prune`\n",
    "4. `mf.grids.prune=None`\n",
    "\n",
    "#### grids.radi_method attribute\n",
    "\n",
    "DEFAULT: `mf.grids.radi_method=dft.radi.treutler_ahlrichs`\n",
    "\n",
    "Setting up the radial shells.\n",
    "\n",
    "1. `mf.grids.radi_method=dft.radi.treutler_ahlrichs`\n",
    "2. `mf.grids.radi_method=dft.radi.delley`\n",
    "3. `mf.grids.radi_method=dft.radi.mura_knowles`\n",
    "4. `mf.grids.radi_method=dft.radi.gauss_chebyshev`\n",
    "\n",
    "#### grids.radii_adjust attribute\n",
    "\n",
    "DEFAULT: `mf.grids.radii_adjust=dft.radi.treutler_atomic_radii_adjust` \n",
    "\n",
    "There are two options for adjusting the atomic radii.\n",
    "\n",
    "1. `mf.grids.radii_adjust=dft.radi.treutler_atomic_radii_adjust`\n",
    "2. `mf.grids.radii_adjust=dft.radi.becke_atomic_radii_adjust`\n",
    "3. `mf.grids.radii_adjust=None`\n",
    "\n",
    "#### grids.verbose attribute\n",
    "\n",
    "DEFAULT: `mf.grids.verbose=0`\n",
    "\n",
    "The verbose attribute controls the print level for the integration grid. Setting `mf.grids.verbose=0` will print no information about the grid, while setting `mf.grids.verbose=4` prints useful information such as the total number of grid points, as well as information regarding the schemes used to set up the grid.\n",
    "\n",
    "#### nlcgrids attribute/class\n",
    "\n",
    "The nlcgrids attribute functions identically to the grids attribute. The only difference is that nlcgrids controls the grid settings for the nonlocal correlation functional, whereas grids controls the grid for the local exchange-correlation functional. The VV10 nonlocal correlation functional requires a much coarser grid than needed for the local xc functional, which is a good thing b/c the scaling of nlc is quadratic in grid points (loops through r and r'). Example of specifying a coarse grid here.\n",
    "\n",
    "#### small_rho_cutoff attribute\n",
    "\n",
    "DEFAULT: `mf.small_rho_cutoff=1e-07`\n",
    "\n",
    "This attribute is used to discard grid points that contribute negligibly to the total electron count as computed by the chosen integration grid. Given a vector, **r**, of length ng (number of grid points), that contains the value of the electron density at each grid point, and a vector, **w**, of length ng that contains the weights associated with each grid point, grid points are discarded if **r**∘**w** ≤ `mf.small_rho_cutoff`."
   ]
  },
  {
   "attachments": {},
   "cell_type": "markdown",
   "metadata": {},
   "source": []
  },
  {
   "cell_type": "code",
   "execution_count": 182,
   "metadata": {
    "tags": []
   },
   "outputs": [
    {
     "data": {
      "text/html": [
       "<h3>Version Information</h3><table><tr><th>Qiskit Software</th><th>Version</th></tr><tr><td><code>qiskit-terra</code></td><td>0.23.3</td></tr><tr><td><code>qiskit-aer</code></td><td>0.12.0</td></tr><tr><td><code>qiskit-ibmq-provider</code></td><td>0.20.2</td></tr><tr><td><code>qiskit</code></td><td>0.42.1</td></tr><tr><td><code>qiskit-nature</code></td><td>0.6.0</td></tr><tr><td><code>qiskit-machine-learning</code></td><td>0.6.0</td></tr><tr><th>System information</th></tr><tr><td>Python version</td><td>3.10.10</td></tr><tr><td>Python compiler</td><td>GCC 11.3.0</td></tr><tr><td>Python build</td><td>main, Mar 24 2023 20:08:06</td></tr><tr><td>OS</td><td>Linux</td></tr><tr><td>CPUs</td><td>6</td></tr><tr><td>Memory (Gb)</td><td>7.12152099609375</td></tr><tr><td colspan='2'>Sat May 06 00:04:36 2023 WAT</td></tr></table>"
      ],
      "text/plain": [
       "<IPython.core.display.HTML object>"
      ]
     },
     "metadata": {},
     "output_type": "display_data"
    }
   ],
   "source": [
    "import qiskit.tools.jupyter\n",
    "\n",
    "%qiskit_version_table"
   ]
  }
 ],
 "metadata": {
  "jupytext": {
   "formats": "ipynb,md"
  },
  "kernelspec": {
   "display_name": "qiskit-env",
   "language": "python",
   "name": "qiskit-env"
  },
  "language_info": {
   "codemirror_mode": {
    "name": "ipython",
    "version": 3
   },
   "file_extension": ".py",
   "mimetype": "text/x-python",
   "name": "python",
   "nbconvert_exporter": "python",
   "pygments_lexer": "ipython3",
   "version": "3.10.10"
  },
  "widgets": {
   "application/vnd.jupyter.widget-state+json": {
    "state": {},
    "version_major": 1,
    "version_minor": 0
   }
  }
 },
 "nbformat": 4,
 "nbformat_minor": 4
}
