{
 "cells": [
  {
   "cell_type": "markdown",
   "id": "8fb55e15-69ff-41b4-af13-d11614c4d3c7",
   "metadata": {
    "slideshow": {
     "slide_type": ""
    },
    "tags": [
     "remove-output"
    ]
   },
   "source": [
    "# Quantum Chemistry Tutorial 6 - Response Externe"
   ]
  },
  {
   "cell_type": "markdown",
   "id": "d4ce0b7b",
   "metadata": {},
   "source": [
    "Comparés aux champs atomiques, les champs électromagnétiques appliqués de l'extérieur sont plusieurs ordres de grandeur plus faibles et la **théorie des perturbations** est suffisante. L'un des principaux mérites d'une telle approche est que les **fonctions de réponse** définies dans la théorie des perturbations fournissent le point de rencontre naturel entre l'expérience et la théorie avec une séparation distincte des processus optiques à un, deux, trois photons, etc.\n",
    "\n",
    "La théorie des réponses peut être considérée comme une reformulation de la théorie standard des perturbations dépendant du temps sous une forme adaptée à la théorie des états approximatifs. Pratiquement toutes les propriétés spectroscopiques sont couvertes par la théorie puisque les perturbations possibles incluent\n",
    "\n",
    "- la dépendance temporelle ou non;\n",
    "- le champ électrique ou magnétique\n",
    "- le champ interne ou externe\n",
    "- les distorsions géométriques\n",
    "\n",
    "La dérivation d'expressions pour les fonctions de réponse peut sembler très différente d'une source à l'autre et le grand nombre de détails techniques peuvent à première vue sembler écrasants. Le principe, cependant, est assez simple et clair : former une quantité d'intérêt bien définie, par exemple le moment dipolaire électrique, $\\mu(t)$, et identifier les fonctions de réponse dans l'ordre de développement de ces quantités.\n",
    "\n",
    "## Définir le système\n",
    "\n",
    "Dans la suite, nous supposons que le système est décrit par un Hamiltonien de la forme\n",
    "$$\n",
    "\\mathtt{H} = \\mathtt{H}_0 + \\mathtt{V}(t),\n",
    "$$\n",
    "où $\\mathtt{H}_0$ est l'Hamiltonien du système isolé et $\\mathtt{V}(t)$ décrit le couplage de champ quantique. Dans l'approximation dipolaire électrique, le couplage entre le système moléculaire et le champ électrique externe est assuré par l'opérateur de moment dipolaire électrique, $-\\mathtt{\\mu}$, tel que\n",
    "$$\n",
    "\\mathtt{V}(t) = - \\hat{\\mu} F(t),\n",
    "$$\n",
    "où $F(t)$ est l'amplitude du champ électrique. Pour plus de simplicité, nous supposons que le champ électrique externe est monochromatique et adiabatiquement activé au temps zéro selon,\n",
    "$$\n",
    "F(t) = F^\\omega \\sin\\omega t \\times \\mathrm{erf}(a t).\n",
    "$$\n",
    "Nous supposons en outre que les solutions au problème des valeurs propres de $\\mathtt{H}_0$ sont connues\n",
    "$$\n",
    "   \\mathtt{H}_0 | n \\rangle = E_n | n \\rangle,\n",
    "$$\n",
    "de telle sorte qu'il puisse être utilisé comme base de calcul. Avant d'être exposée à la perturbation, nous supposons que la molécule est dans l'état moléculaire fondamental, $| 0 \\rangle$."
   ]
  },
  {
   "cell_type": "markdown",
   "id": "882bbd1a",
   "metadata": {},
   "source": [
    "## Propagation temporelle\n",
    "\n",
    "Avec un pas de temps $\\Delta t$ petit par rapport aux variations temporelles de l'Hamiltonien, nous pouvons approximer que l'Hamiltonien est constant du temps $t_0$ à $t_0 + \\Delta t$. Il est alors possible d'effectuer une intégration temporelle de l'équation de Schröinger en utilisant\n",
    "$$\n",
    "   \\Psi(t_0 + \\Delta t) = \\mathtt{U}(t_0+\\Delta t, t_0) \\Psi(t_0),\n",
    "$$\n",
    "où le propagateur d'évolution temporelle est défini comme\n",
    "$$\n",
    "   \\mathtt{U}(t_0+\\Delta t, t_0) = e^{-i \\mathtt{H}(t_0) \\Delta t / \\hbar}.\n",
    "$$\n",
    "\n",
    "Des applications répétées de $\\mathtt{U}$ nous permettent de déterminer la fonction d'état dans la région $t>0$ et, étant donné la fonction d'état dépendant du temps, le moment dipolaire est obtenu comme valeur attendue de l'opérateur dipolaire électrique\n",
    "$$\n",
    "   \\mu(t) = \\langle \\Psi(t) | \\hat{\\mu} | \\Psi(t) \\rangle\n",
    "$$"
   ]
  },
  {
   "cell_type": "markdown",
   "id": "0e254e46",
   "metadata": {},
   "source": [
    "## Fonctions de réponse\n",
    "\n",
    "Les fonctions de réponse sont définies comme les coefficients d'expansion des expansions de Fourier des valeurs moyennes dépendantes du temps d'une grandeur physique associée à un opérateur $\\hat{\\Omega}$\n",
    "$$\n",
    "\\langle \\Psi(t) | \\hat{\\Omega} | \\Psi(t) \\rangle =  \\langle 0 | \\hat{\\Omega} | 0 \\rangle +  \\sum_{\\omega}\n",
    " \\langle \\langle \\hat{\\Omega}; \\hat{V} \\rangle \\rangle_{\\omega}  e^{-i\\omega t} +  \\cdots \n",
    "$$\n",
    "\n",
    "<div class=\"alert alert-block alert-info\"><b>Note </b>\n",
    "    <ul>\n",
    "<li> Dans le cas général, l'opérateur de couplage dépend de la fréquence optique du champ externe, mais ce n'est pas le cas dans l'approximation du dipôle électrique.</li>\n",
    "<li> L'utilisation cohérente des expansions de Fourier doit être utilisée pour toutes les fonctions dépendant du temps dans la définition des fonctions de réponse.\n",
    "    </li>\n",
    "</ul>\n",
    "</div>\n",
    "\n",
    "Dans le cas où la grandeur physqiue est le moment dipolaire électrique, le coefficient de couplage linéaire au champ électrique externe est connu sous le nom de **polarisation du dipôle électrique**,\n",
    "$$\n",
    "\\mu(t) = \\mu^0 + \\sum_\\omega \\alpha(\\omega) F^\\omega e^{-i\\omega t} + \\cdots,\n",
    "$$\n",
    "tel que\n",
    "$$\n",
    "\\alpha(\\omega) = - \\langle \\langle \\hat{\\mu} ; \\hat{\\mu} \\rangle \\rangle_{\\omega}.\n",
    "$$\n"
   ]
  },
  {
   "cell_type": "markdown",
   "id": "b30041eb",
   "metadata": {
    "tags": []
   },
   "source": [
    "## Système à deux niveaux"
   ]
  },
  {
   "cell_type": "markdown",
   "id": "40091482",
   "metadata": {},
   "source": [
    "La représentation d'un système atomique à deux niveaux prend la forme\n",
    "$$\n",
    "| \\Psi(t) \\rangle = \n",
    "a(t) | \\Psi_a \\rangle + b(t) | \\Psi_b \\rangle =\n",
    "\\begin{pmatrix}\n",
    "a(t) \\\\ b(t)\n",
    "\\end{pmatrix},\n",
    "$$\n",
    "\n",
    "$$\n",
    "\\hat{H}_0 =\n",
    "\\begin{pmatrix}\n",
    "E_a & 0 \\\\ \n",
    "0 & E_b \\\\\n",
    "\\end{pmatrix}; \\qquad\n",
    "\\hat{\\mu} =\n",
    "\\begin{pmatrix}\n",
    "0 & \\mu_{ab} \\\\ \n",
    "\\mu_{ba} & 0 \\\\\n",
    "\\end{pmatrix}.\n",
    "$$"
   ]
  },
  {
   "cell_type": "code",
   "execution_count": 13,
   "id": "96cde628",
   "metadata": {},
   "outputs": [],
   "source": [
    "from scipy.constants import physical_constants"
   ]
  },
  {
   "cell_type": "code",
   "execution_count": 15,
   "id": "f510c124",
   "metadata": {},
   "outputs": [
    {
     "name": "stdout",
     "output_type": "stream",
     "text": [
      "Help on dict object:\n",
      "\n",
      "class dict(object)\n",
      " |  dict() -> new empty dictionary\n",
      " |  dict(mapping) -> new dictionary initialized from a mapping object's\n",
      " |      (key, value) pairs\n",
      " |  dict(iterable) -> new dictionary initialized as if via:\n",
      " |      d = {}\n",
      " |      for k, v in iterable:\n",
      " |          d[k] = v\n",
      " |  dict(**kwargs) -> new dictionary initialized with the name=value pairs\n",
      " |      in the keyword argument list.  For example:  dict(one=1, two=2)\n",
      " |  \n",
      " |  Built-in subclasses:\n",
      " |      StgDict\n",
      " |  \n",
      " |  Methods defined here:\n",
      " |  \n",
      " |  __contains__(self, key, /)\n",
      " |      True if the dictionary has the specified key, else False.\n",
      " |  \n",
      " |  __delitem__(self, key, /)\n",
      " |      Delete self[key].\n",
      " |  \n",
      " |  __eq__(self, value, /)\n",
      " |      Return self==value.\n",
      " |  \n",
      " |  __ge__(self, value, /)\n",
      " |      Return self>=value.\n",
      " |  \n",
      " |  __getattribute__(self, name, /)\n",
      " |      Return getattr(self, name).\n",
      " |  \n",
      " |  __getitem__(...)\n",
      " |      x.__getitem__(y) <==> x[y]\n",
      " |  \n",
      " |  __gt__(self, value, /)\n",
      " |      Return self>value.\n",
      " |  \n",
      " |  __init__(self, /, *args, **kwargs)\n",
      " |      Initialize self.  See help(type(self)) for accurate signature.\n",
      " |  \n",
      " |  __ior__(self, value, /)\n",
      " |      Return self|=value.\n",
      " |  \n",
      " |  __iter__(self, /)\n",
      " |      Implement iter(self).\n",
      " |  \n",
      " |  __le__(self, value, /)\n",
      " |      Return self<=value.\n",
      " |  \n",
      " |  __len__(self, /)\n",
      " |      Return len(self).\n",
      " |  \n",
      " |  __lt__(self, value, /)\n",
      " |      Return self<value.\n",
      " |  \n",
      " |  __ne__(self, value, /)\n",
      " |      Return self!=value.\n",
      " |  \n",
      " |  __or__(self, value, /)\n",
      " |      Return self|value.\n",
      " |  \n",
      " |  __repr__(self, /)\n",
      " |      Return repr(self).\n",
      " |  \n",
      " |  __reversed__(self, /)\n",
      " |      Return a reverse iterator over the dict keys.\n",
      " |  \n",
      " |  __ror__(self, value, /)\n",
      " |      Return value|self.\n",
      " |  \n",
      " |  __setitem__(self, key, value, /)\n",
      " |      Set self[key] to value.\n",
      " |  \n",
      " |  __sizeof__(...)\n",
      " |      D.__sizeof__() -> size of D in memory, in bytes\n",
      " |  \n",
      " |  clear(...)\n",
      " |      D.clear() -> None.  Remove all items from D.\n",
      " |  \n",
      " |  copy(...)\n",
      " |      D.copy() -> a shallow copy of D\n",
      " |  \n",
      " |  get(self, key, default=None, /)\n",
      " |      Return the value for key if key is in the dictionary, else default.\n",
      " |  \n",
      " |  items(...)\n",
      " |      D.items() -> a set-like object providing a view on D's items\n",
      " |  \n",
      " |  keys(...)\n",
      " |      D.keys() -> a set-like object providing a view on D's keys\n",
      " |  \n",
      " |  pop(...)\n",
      " |      D.pop(k[,d]) -> v, remove specified key and return the corresponding value.\n",
      " |      \n",
      " |      If the key is not found, return the default if given; otherwise,\n",
      " |      raise a KeyError.\n",
      " |  \n",
      " |  popitem(self, /)\n",
      " |      Remove and return a (key, value) pair as a 2-tuple.\n",
      " |      \n",
      " |      Pairs are returned in LIFO (last-in, first-out) order.\n",
      " |      Raises KeyError if the dict is empty.\n",
      " |  \n",
      " |  setdefault(self, key, default=None, /)\n",
      " |      Insert key with a value of default if key is not in the dictionary.\n",
      " |      \n",
      " |      Return the value for key if key is in the dictionary, else default.\n",
      " |  \n",
      " |  update(...)\n",
      " |      D.update([E, ]**F) -> None.  Update D from dict/iterable E and F.\n",
      " |      If E is present and has a .keys() method, then does:  for k in E: D[k] = E[k]\n",
      " |      If E is present and lacks a .keys() method, then does:  for k, v in E: D[k] = v\n",
      " |      In either case, this is followed by: for k in F:  D[k] = F[k]\n",
      " |  \n",
      " |  values(...)\n",
      " |      D.values() -> an object providing a view on D's values\n",
      " |  \n",
      " |  ----------------------------------------------------------------------\n",
      " |  Class methods defined here:\n",
      " |  \n",
      " |  __class_getitem__(...) from builtins.type\n",
      " |      See PEP 585\n",
      " |  \n",
      " |  fromkeys(iterable, value=None, /) from builtins.type\n",
      " |      Create a new dictionary with keys from iterable and values set to value.\n",
      " |  \n",
      " |  ----------------------------------------------------------------------\n",
      " |  Static methods defined here:\n",
      " |  \n",
      " |  __new__(*args, **kwargs) from builtins.type\n",
      " |      Create and return a new object.  See help(type) for accurate signature.\n",
      " |  \n",
      " |  ----------------------------------------------------------------------\n",
      " |  Data and other attributes defined here:\n",
      " |  \n",
      " |  __hash__ = None\n",
      "\n"
     ]
    }
   ],
   "source": [
    "help(physical_constants)"
   ]
  },
  {
   "cell_type": "code",
   "execution_count": 1,
   "id": "23d2d385",
   "metadata": {},
   "outputs": [],
   "source": [
    "import matplotlib.pyplot as plt\n",
    "import numpy as np\n",
    "from scipy.linalg import expm\n",
    "from scipy.special import erf"
   ]
  },
  {
   "cell_type": "code",
   "execution_count": 2,
   "id": "3ad56e05",
   "metadata": {},
   "outputs": [],
   "source": [
    "# Time\n",
    "delta = 0.1\n",
    "t = np.arange(0, 500, delta)\n",
    "n = len(t)\n",
    "\n",
    "# External electric field\n",
    "Fw = 0.00005\n",
    "w = 0.1\n",
    "F = Fw * np.sin(w * t) * erf(0.01 * t)\n",
    "\n",
    "# Time-dependent wave function\n",
    "psi = np.zeros((2, n), dtype=complex)\n",
    "psi[:, 0] = [1, 0]\n",
    "\n",
    "# Energy of levels\n",
    "Ea = 1\n",
    "Eb = 1.5\n",
    "\n",
    "# Transition dipole moment\n",
    "muab = 1\n",
    "muba = muab\n",
    "\n",
    "# Hamiltonian and dipole moment operators\n",
    "H0 = np.array([[Ea, 0], [0, Eb]])\n",
    "mu = np.array([[0, muab], [muba, 0]])\n",
    "V = -mu\n",
    "\n",
    "# Time-dependent dipole moment (polarization)\n",
    "P = np.zeros(n, dtype=float)\n",
    "P[0] = np.dot(psi[:, 0], np.matmul(mu, psi[:, 0])).real"
   ]
  },
  {
   "cell_type": "markdown",
   "id": "a3fffd29-3755-469d-9d13-45ad08eb1b7e",
   "metadata": {},
   "source": [
    "### Time propagation"
   ]
  },
  {
   "cell_type": "code",
   "execution_count": 5,
   "id": "4ddae287",
   "metadata": {
    "tags": []
   },
   "outputs": [],
   "source": [
    "for k in range(1, n):\n",
    "\n",
    "    psi[:, k] = np.matmul(expm(-1j * (H0 + V * F[k - 1]) * delta), psi[:, k - 1]) # Matrix multiplication\n",
    "\n",
    "    P[k] = np.dot(np.conjugate(psi[:, k]), np.matmul(mu, psi[:, k])).real"
   ]
  },
  {
   "cell_type": "markdown",
   "id": "88b3ecd9-7bb2-41da-bb3e-0197177f43b3",
   "metadata": {},
   "source": [
    "### Plotting observables"
   ]
  },
  {
   "cell_type": "code",
   "execution_count": 6,
   "id": "23e30950",
   "metadata": {},
   "outputs": [
    {
     "data": {
      "image/png": "[encoded data removed]",
      "text/plain": [
       "<Figure size 1000x600 with 2 Axes>"
      ]
     },
     "metadata": {},
     "output_type": "display_data"
    }
   ],
   "source": [
    "fig = plt.figure(figsize=(10, 6))\n",
    "\n",
    "ax = plt.subplot(2, 1, 1, xlim=(0, 500))\n",
    "plt.plot(t, P, \"k-\", linewidth=2.0)\n",
    "plt.grid(True)\n",
    "plt.ylabel(r\"$\\mu(t)$\")\n",
    "\n",
    "ax = plt.subplot(2, 1, 2, xlim=(0, 500))\n",
    "plt.plot(t, F, \"k-\", linewidth=2.0)\n",
    "plt.grid(True)\n",
    "plt.ylabel(r\"$F(t)$\")\n",
    "\n",
    "plt.xlabel(\"Time (a.u.)\")\n",
    "\n",
    "plt.show()"
   ]
  },
  {
   "cell_type": "code",
   "execution_count": 8,
   "id": "2f7f62ac",
   "metadata": {},
   "outputs": [],
   "source": [
    "#TODO with qiskit (with Z and X operators)"
   ]
  },
  {
   "cell_type": "markdown",
   "id": "0640cc6e-524e-473e-b07e-ae6dd32e6733",
   "metadata": {},
   "source": [
    "### Détermination des fonctions de réponse\n",
    "\n",
    "Comme les réponses non linéaires sont négligeables, la valeur de la fonction de réponse linéaire (ou polarisabilité) à la fréquence optique donnée est simplement le rapport entre le moment dipolaire induit et l'amplitude du champ électrique,\n",
    "$$\n",
    "   \\alpha(\\omega) = \\frac{\\max[ \\mu(t) ]}{F^\\omega},\n",
    "$$"
   ]
  },
  {
   "cell_type": "code",
   "execution_count": 9,
   "id": "ff30e2fb-3a88-4bab-8385-fd0ff91e89e0",
   "metadata": {},
   "outputs": [
    {
     "name": "stdout",
     "output_type": "stream",
     "text": [
      "Polarizability:  4.17 a.u.\n"
     ]
    }
   ],
   "source": [
    "alpha_numerical = np.max(P) / Fw\n",
    "\n",
    "print(f\"Polarizability: {alpha_numerical : 4.2f} a.u.\")"
   ]
  },
  {
   "cell_type": "markdown",
   "id": "f537e2b6-a777-4f30-aa4b-c46ace36a6c9",
   "metadata": {},
   "source": [
    "## Fonctions de réponse analytique\n",
    "\n",
    "En pratique, nous dérivons des expressions analytiques pour les fonctions de réponse en utilisant la théorie des perturbations. Cela se traduit par des formules de somme sur état telles que celle de la fonction de réponse linéaire,\n",
    "$$\n",
    "  \\langle \\langle \\hat{\\Omega}; \\hat{V} \\rangle \\rangle_\\omega =\n",
    "  - \\frac{1}{\\hbar} \\sum_{n>0} \\left[\n",
    "  \\frac{\\langle 0 | \\hat{\\Omega}  | n \\rangle\n",
    "        \\langle n | \\hat{V} | 0 \\rangle }\n",
    "       {\\omega_{n0}-\\omega}\n",
    "+\n",
    "  \\frac{\\langle 0 | \\hat{V} | n \\rangle\n",
    "        \\langle n | \\hat{\\Omega} | 0 \\rangle }\n",
    "       {\\omega_{n0}+\\omega} \\right] .\n",
    "$$\n"
   ]
  },
  {
   "cell_type": "code",
   "execution_count": 10,
   "id": "7debee46-3aaf-41d1-af48-8ddeb3446897",
   "metadata": {},
   "outputs": [
    {
     "name": "stdout",
     "output_type": "stream",
     "text": [
      "Polarizability:  4.17 a.u.\n"
     ]
    }
   ],
   "source": [
    "Eba = Eb - Ea\n",
    "\n",
    "alpha_analytic = muab * muba * (1.0 / (Eba - w) + 1.0 / (Eba + w))\n",
    "\n",
    "print(f\"Polarizability: {alpha_analytic : 4.2f} a.u.\")"
   ]
  },
  {
   "cell_type": "markdown",
   "id": "9c6a8cac-27d0-4ffd-b609-de9e615006cc",
   "metadata": {},
   "source": [
    "## Pôles des fonctions de réponse\n",
    "\n",
    "Les fonctions de réponse ont des pôles aux énergies de transition et les résidus associés sont des produits de moments de transition.\n",
    "\n",
    "La plupart des méthodes d'état excité en chimie computationnelle sont basées sur le principe de l'identification des énergies d'excitation et des intensités spectrales à partir d'une analyse des résidus des fonctions de réponse.\n",
    "\n",
    "## Dispersion\n",
    "\n",
    "Les variations des fonctions de réponse avec les fréquences optiques sont appelées **dispersions** et les valeurs des champs non oscillants ($\\omega = 0$) sont appelées **valeurs statiques**."
   ]
  },
  {
   "cell_type": "code",
   "execution_count": 11,
   "id": "53c19500-144a-4071-9500-066deb620a07",
   "metadata": {},
   "outputs": [],
   "source": [
    "epsilon = 0.01\n",
    "wa = np.arange(0, Eba - epsilon, 0.001)\n",
    "wb = np.arange(Eba + epsilon, 1, 0.001)\n",
    "\n",
    "alpha_wa = muab * muba * (1.0 / (Eba - wa) + 1.0 / (Eba + wa))\n",
    "alpha_wb = muab * muba * (1.0 / (Eba - wb) + 1.0 / (Eba + wb))"
   ]
  },
  {
   "cell_type": "code",
   "execution_count": 12,
   "id": "b34168fd-9708-4735-bcc4-e274fc4896c2",
   "metadata": {},
   "outputs": [
    {
     "data": {
      "image/png": "[encoded data removed]",
      "text/plain": [
       "<Figure size 640x480 with 1 Axes>"
      ]
     },
     "metadata": {},
     "output_type": "display_data"
    }
   ],
   "source": [
    "ax = plt.subplot(1, 1, 1, xlim=(0, 1), ylim=(-40, 40))\n",
    "\n",
    "plt.plot(wa, alpha_wa, lw=2)\n",
    "plt.plot(wb, alpha_wb, lw=2)\n",
    "\n",
    "plt.vlines(Eba, -40, 40, color=\"grey\", linestyles=\"--\")\n",
    "\n",
    "plt.ylabel(r\"$\\alpha(\\omega)$ (a.u.)\")\n",
    "plt.xlabel(r\"$\\omega$ (a.u.)\")\n",
    "\n",
    "plt.annotate(\n",
    "    \"Static value\",\n",
    "    (0, alpha_wa[0]),\n",
    "    xytext=(0.05, 15),\n",
    "    arrowprops={\"width\": 1, \"headwidth\": 6, \"headlength\": 6, \"color\": 'black'},\n",
    ")\n",
    "\n",
    "plt.annotate(\n",
    "    \"Pole\",\n",
    "    (Eba, 0),\n",
    "    xytext=(0.55, 10),\n",
    "    arrowprops={\"width\": 1, \"headwidth\": 6, \"headlength\": 6, 'color': 'black'},\n",
    ")\n",
    "\n",
    "plt.grid(True)\n",
    "\n",
    "plt.show()"
   ]
  },
  {
   "cell_type": "code",
   "execution_count": 17,
   "id": "0e9ebcf6",
   "metadata": {},
   "outputs": [
    {
     "data": {
      "text/plain": [
       "<pyscf.gto.mole.Mole at 0x743c9f533ac0>"
      ]
     },
     "execution_count": 17,
     "metadata": {},
     "output_type": "execute_result"
    }
   ],
   "source": [
    "import numpy\n",
    "from pyscf import gto, scf, tools\n",
    "\n",
    "mol = gto.Mole() # Benzene\n",
    "mol.atom = '''\n",
    "     C    0.000000000000     1.398696930758     0.000000000000\n",
    "     C    0.000000000000    -1.398696930758     0.000000000000\n",
    "     C    1.211265339156     0.699329968382     0.000000000000\n",
    "     C    1.211265339156    -0.699329968382     0.000000000000\n",
    "     C   -1.211265339156     0.699329968382     0.000000000000\n",
    "     C   -1.211265339156    -0.699329968382     0.000000000000\n",
    "     H    0.000000000000     2.491406946734     0.000000000000\n",
    "     H    0.000000000000    -2.491406946734     0.000000000000\n",
    "     H    2.157597486829     1.245660462400     0.000000000000\n",
    "     H    2.157597486829    -1.245660462400     0.000000000000\n",
    "     H   -2.157597486829     1.245660462400     0.000000000000\n",
    "     H   -2.157597486829    -1.245660462400     0.000000000000\n",
    "  '''\n",
    "mol.basis = '6-31g'\n",
    "mol.build()"
   ]
  },
  {
   "cell_type": "code",
   "execution_count": 18,
   "id": "3fe3f347",
   "metadata": {},
   "outputs": [
    {
     "name": "stdout",
     "output_type": "stream",
     "text": [
      "converged SCF energy = -230.622212092596\n",
      "converged SCF energy = -230.644141602765\n",
      "converged SCF energy = -230.708857983407\n",
      "converged SCF energy = -230.813216988977\n",
      "converged SCF energy = -230.951946819773\n",
      "converged SCF energy = -231.117832475618\n",
      "converged SCF energy = -231.302341588007\n",
      "converged SCF energy = -231.496889334039\n",
      "converged SCF energy = -231.693996617837\n",
      "converged SCF energy = -231.884612031227\n",
      "converged SCF energy = -232.052530594321\n",
      "converged SCF energy = -232.177033512027\n",
      "converged SCF energy = -232.242737447182\n",
      "converged SCF energy = -232.242737447387\n",
      "converged SCF energy = -232.177033512013\n",
      "converged SCF energy = -232.052530594989\n",
      "converged SCF energy = -231.884612033927\n",
      "converged SCF energy = -231.693996617848\n",
      "converged SCF energy = -231.496889334338\n",
      "converged SCF energy = -231.302341588014\n",
      "converged SCF energy = -231.117832475611\n",
      "converged SCF energy = -230.951946819768\n",
      "converged SCF energy = -230.813216988965\n",
      "converged SCF energy = -230.708857983395\n",
      "converged SCF energy = -230.644141602761\n",
      "converged SCF energy = -230.622212092593\n",
      "converged SCF energy = -230.644106589594\n",
      "converged SCF energy = -230.708787965638\n",
      "converged SCF energy = -230.813112076084\n",
      "converged SCF energy = -230.951807305175\n",
      "converged SCF energy = -231.117658707056\n",
      "converged SCF energy = -231.302133233657\n",
      "converged SCF energy = -231.496643413943\n",
      "converged SCF energy = -231.693705807732\n",
      "converged SCF energy = -231.884270705713\n",
      "converged SCF energy = -232.052145641088\n",
      "converged SCF energy = -232.176621984234\n",
      "converged SCF energy = -232.242314368562\n",
      "converged SCF energy = -232.242314368567\n",
      "converged SCF energy = -232.176621985497\n",
      "converged SCF energy = -232.052145641022\n",
      "converged SCF energy = -231.884270705967\n",
      "converged SCF energy = -231.693705814007\n",
      "converged SCF energy = -231.496643419146\n",
      "converged SCF energy = -231.302133233394\n",
      "converged SCF energy = -231.11765870705\n",
      "converged SCF energy = -230.95180730517\n",
      "converged SCF energy = -230.81311207607\n",
      "converged SCF energy = -230.708787965626\n",
      "converged SCF energy = -230.64410658959\n"
     ]
    }
   ],
   "source": [
    "#\n",
    "# Pass 1, generate all HOMOs with external field\n",
    "#\n",
    "N = 50 # 50 samples in one period of the oscillated field\n",
    "mo_id = 20  # HOMO\n",
    "dm_init_guess = [None]\n",
    "\n",
    "def apply_field(E):\n",
    "    mol.set_common_orig([0, 0, 0])  # The gauge origin for dipole integral\n",
    "    h =(mol.intor('cint1e_kin_sph') + mol.intor('cint1e_nuc_sph')\n",
    "      + numpy.einsum('x,xij->ij', E, mol.intor('cint1e_r_sph', comp=3)))\n",
    "    mf = scf.RHF(mol)\n",
    "    mf.get_hcore = lambda *args: h\n",
    "    mf.scf(dm_init_guess[0])\n",
    "    dm_init_guess[0] = mf.make_rdm1()\n",
    "    mo = mf.mo_coeff[:,mo_id]\n",
    "    if mo[23] < -1e-5:  # To ensure that all MOs have same phase\n",
    "        mo *= -1\n",
    "    return mo\n",
    "\n",
    "fields = numpy.sin((2*numpy.pi)/N * numpy.arange(N))*.2\n",
    "mos = [apply_field((i+1e-5,0,0)) for i in fields]"
   ]
  },
  {
   "cell_type": "code",
   "execution_count": 19,
   "id": "e0e53505",
   "metadata": {},
   "outputs": [],
   "source": [
    "#\n",
    "# Pass 2, generate molden file and jmol input file\n",
    "#\n",
    "moldenfile = 'bz-homo.molden'\n",
    "tools.molden.from_mo(mol, moldenfile, numpy.array(mos).T)\n",
    "\n",
    "jmol_script = 'bz-homo.spt'\n",
    "fspt = open(jmol_script,'w')\n",
    "fspt.write('''\n",
    "initialize;\n",
    "set background [xffffff];\n",
    "set frank off\n",
    "set autoBond true;\n",
    "set bondRadiusMilliAngstroms 66;\n",
    "set bondTolerance 0.5;\n",
    "set forceAutoBond false;\n",
    "load %s\n",
    "''' % moldenfile)\n",
    "fspt.write('''\n",
    "zoom 130;\n",
    "rotate -20 z\n",
    "rotate -60 x\n",
    "axes\n",
    "\n",
    "MO COLOR [xff0020] [x0060ff];\n",
    "MO COLOR translucent 0.25;\n",
    "MO fill noDots noMesh;\n",
    "MO titleformat \"\";\n",
    "''')\n",
    "for i in range(N):\n",
    "    fspt.write('MO %d cutoff 0.025;\\n' % (i+1))\n",
    "    fspt.write('write IMAGE 400 400 PNG 90 \"bz-homo-%02d.png\";\\n' % (i+1))\n",
    "fspt.close()"
   ]
  },
  {
   "cell_type": "code",
   "execution_count": null,
   "id": "b01d8b2e",
   "metadata": {},
   "outputs": [],
   "source": []
  }
 ],
 "metadata": {
  "kernelspec": {
   "display_name": "qiskit-env",
   "language": "python",
   "name": "qiskit-env"
  },
  "language_info": {
   "codemirror_mode": {
    "name": "ipython",
    "version": 3
   },
   "file_extension": ".py",
   "mimetype": "text/x-python",
   "name": "python",
   "nbconvert_exporter": "python",
   "pygments_lexer": "ipython3",
   "version": "3.10.14"
  }
 },
 "nbformat": 4,
 "nbformat_minor": 5
}
