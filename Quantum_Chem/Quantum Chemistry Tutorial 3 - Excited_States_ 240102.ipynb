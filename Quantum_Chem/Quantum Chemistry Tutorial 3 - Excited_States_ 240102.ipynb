{
 "cells": [
  {
   "cell_type": "markdown",
   "metadata": {},
   "source": [
    "# Quantum Chemistry Tutorial 3 - Excited states\n",
    "\n",
    "1. **S. G. Nana Engo**, serge.nana-engo@facsciences-uy1.cm\n",
    "    * Department of Physics, Faculty of Science, University of Yaounde I\n",
    "2. **J-P. Tchapet Njafa**, jean-pierre.tchapet-njafa@univ-maroua.cm\n",
    "    * Department of Physics, Faculty of Science, University of Maroua\n",
    "       \n",
    "January 2024"
   ]
  },
  {
   "cell_type": "markdown",
   "metadata": {},
   "source": [
    "## Introduction\n",
    "\n",
    "L'une des applications marquantes de la chimie quantique, tant dans le milieu universitaire que dans l'industrie, est l'étude de l'interaction de la lumière avec la matière. L'absorption (resp. émission) d'un photon par une molécule peut promouvoir (resp. rétrograder) un électron d'un état électronique inférieur (resp. supérieur) à un état électronique d'énergie supérieure (resp. inférieure). La longueur d'onde des photons (c'est-à-dire l'énergie) requise pour que ces transitions se produisent est déterminée par la différence entre les deux états électroniques respectifs. Par conséquent, il est impératif de pouvoir calculer avec précision les énergies des états fondamental et excité afin d'étudier les interactions lumière/matière. Ces différences énergétiques jouent un rôle central dans de nombreuses technologies telles que les panneaux solaires, les diodes électroluminescentes (DEL ou en anglais, light-emitting diodes (LED)), les écrans et les colorants.\n",
    "\n",
    "![Abs_emiss.png](Graphics/Abs_emiss.png)\n",
    "\n",
    "Pour être plus concret, un colorant doit émettre de la lumière dans une région étroite du spectre visible pour être approprié à son objectif, c'est-à-dire qu'il doit présenter une longueur d'onde spécifique. Un autre exemple est celui des panneaux solaires, où le spectre d'absorption d'une molécule est ajusté via une fonctionnalisation chimique pour s'adapter au spectre d'émission solaire afin d'optimiser l'efficacité de la production d'énergie. Nous montrons ici un exemple de spectre pour la molécule BODIPY ($C_9H_7BF_2N_2$, Boron Dipyrromethene), une molécule largement utilisée pour les colorants fluorescents. La méolécule BODIPY absorbe la lumière à une longueur d'onde inférieure (énergie plus élevée) et émet de la lumière à une longueur d'onde plus élevée (énergie plus faible). Pour calculer ce spectre, il faut calculer les énergies des états fondamental et excité et calculer leurs intensités. Le spectre d'absorption du BODIPY le plus simple est présenté ci-dessous. Différentes longueurs d'onde d'absorption et d'émission peuvent être ciblées en remplaçant les atomes d'hydrogène par différents groupes fonctionnels [J. Chimique. Phys. 155, 244102 (2021)](https://aip.scitation.org/doi/10.1063/5.0076787).\n",
    "\n",
    "![BODIPY](Graphics/bodipy_absorption.png)\n",
    "\n",
    "Comme il existe un très grand nombre de composés à considérer, la prévision des spectres d'absorption/émission UV-visible serait un atout précieux pour la communauté scientifique.\n",
    "\n",
    "Pour parvenir à une compréhension complète de l'interaction de la lumière avec une molécule, la communauté de la chimie quantique a travaillé sur plusieurs algorithmes. En général, il faut calculer les structures électroniques moléculaires pertinentes pour prédire l'absorption/l'émission de la lumière UV. Ce notebook montre comment PySFC permet les calculs d'états excités en implémentant l'algorithme la TDDFT-TDA. Le cas d'utilisation ici est Li $_2$ par souci de simplicité. Ce calcul être étendu à des systèmes beaucoup plus grands tels que la molécule BODIPY ci-dessus.\n",
    "\n",
    "Il convient de noter que même avec tous les états excités calculés, des effets non triviaux peuvent se produire (effet de solvatation, changement de géométrie, etc.) dans lesquels tous modifient la forme d'un spectre. Dans ce notebook, nous n'expliquons pas comment ces effets sont pris en compte, mais les calculs présentés ici constituent les premières étapes nécessaires vers le calcul des états excités.\n"
   ]
  },
  {
   "cell_type": "markdown",
   "metadata": {},
   "source": [
    "## Théorie de la fonctionnelle de la densité dépendante du temps - TDDFT\n",
    "\n",
    "En utilisant la théorie des perturbations dépendant du temps du premier ordre au sein de la théorie KS-DFT, on obtient les équations non Hermitiennes TDDFT pour les énergies d'excitation,\n",
    "$$\n",
    "     \\begin{pmatrix}\n",
    "         \\mathbf{A} & \\mathbf{B} \\\\\n",
    "         \\mathbf{B}^\\ast & \\mathbf{A}^\\ast\n",
    "     \\end{pmatrix}\n",
    "     \\begin{pmatrix}  \\mathbf{X} \\\\ \\mathbf{Y}\n",
    "     \\end{pmatrix} = \\omega\n",
    "     \\begin{pmatrix}\n",
    "         \\mathbf{1} & \\mathbf{0} \\\\\n",
    "         \\mathbf{0} & -\\mathbf{1}\n",
    "     \\end{pmatrix}\n",
    "     \\begin{pmatrix}  \\mathbf{X} \\\\ \\mathbf{Y}\n",
    "     \\end{pmatrix},\n",
    "$$    \n",
    "où \n",
    "* $\\mathbf{A}$ et $\\mathbf{B}$ sont les orbitales les Hessiennes qui apparaissent également dans l'analyse de stabilité pour les états de référence ,\n",
    "* $\\omega$ est l'énergie d'excitation, et\n",
    "* $\\mathbf{X}$ et $\\mathbf{Y}$ représentent la réponse de la matrice de densité ou l'opérateur statistique.\n",
    "\n",
    "Dans les cas où le système possède un état fondamental dégénéré ou présente des instabilités triplet, les algorithmes utilisés pour résoudre le\n",
    "les équations ci-dessus peuvent être instables. Ceci peut être résolu en appliquant l'approximation de Tamm-Dancoff (TDA), où l'on néglige simplement les matrices $\\mathbf{B}$ et $\\mathbf{Y}$. Il en résulte un problème Hermitien aux valeurs propres\n",
    "$$\n",
    "\\mathbf{AX} = \\omega\\mathbf{X}.\n",
    "$$\n",
    "\n",
    "Il est à noter que lorsque TDA est appliquée, dans la TDDFT, la réponse linéaire du potentiel de corrélation d'échange (XC) conduit à une dérivée d'ordre 2 de la fonctionnelle XC, qui n'apparaît pas dans la DFT de l'état fondamental.\n"
   ]
  },
  {
   "cell_type": "markdown",
   "metadata": {},
   "source": [
    "## Propriétés des transitions\n",
    "\n",
    "Les énergies d’excitation ne rendent compte ne sont pas suffisantes comprendre la physique du problème. Nous avons besoin de moments de transition pour comprendre si une excitation est autorisée (lumineuse) ou non (sombre).\n",
    "\n",
    "Les énergies d'excitation et les vecteurs propres peuvent être utilisés pour calculer les moments de transition, tels que les moments dipolaires de transition électrique et magnétique, et les intensités spectroscopiques, telles que les forces d'oscillateur et les forces de rotation.\n",
    "Par exemple, le moment dipolaire électrique de transition dans la jauge de longueur est :\n",
    "\n",
    "$$\n",
    "  f = \\frac23 \\omega_n \\sum_{u=x,y,z}\\sum_{ia}|(\\mathbf{X}_n+\\mathbf{Y}_n)_{ia}\\mu_{ai, u}|^2.\n",
    "$$\n"
   ]
  },
  {
   "cell_type": "markdown",
   "metadata": {},
   "source": [
    "## Calculs avec PySCF\n",
    "\n",
    "Le système moléculaire que nous utilisons comme exemple dans ce notebook est le Li $_2$ proche de sa géométrie d'équilibre [voir les données expérimentales sur la géométrie en phase gazeuse](https://cccbdb.nist.gov/expgeom2x.asp). \n",
    "<!-- Le calcul complet des énergies Li $_2$ serait non trivial et très coûteux en calcul ; nous nous limitons donc à un espace actif de 2 électrons sur 2 orbitales qui impliquent 4 qubits lorsqu'ils sont mappés sur un hamiltonien de qubits en utilisant la cartographie de Jordan-Wigner. Cependant, ce petit problème a encore des effets non triviaux, rendus particulièrement évidents dans la section [2.7] (#27). Nous définissons deux objets molécules :\n",
    "\n",
    "- `mol_li2` défini comme la configuration de l'état fondamental avec 2 électrons dans le HOMO.\n",
    "- `mol_li2_t` défini comme la configuration triplet avec un électron alpha dans chacun des HOMO et LUMO. -->\n",
    "\n",
    "### Calculs DFT"
   ]
  },
  {
   "cell_type": "code",
   "execution_count": null,
   "metadata": {},
   "outputs": [],
   "source": [
    "from pyscf import gto, scf, dft, tddft\n",
    "\n",
    "mol_xyz = 'Li 0 0 0; Li 0 0 3.0' # Ref: https://cccbdb.nist.gov/expgeom2x.asp\n",
    "mol = gto.Mole()\n",
    "mol.build(\n",
    "    atom = mol_xyz,  \n",
    "    basis = '6-31g(d,p)',\n",
    "    symmetry = True,\n",
    ")\n",
    "\n",
    "mf = dft.RKS(mol)\n",
    "mf.xc = 'b3lyp'\n",
    "mf.kernel()\n",
    "mf.analyze()"
   ]
  },
  {
   "cell_type": "markdown",
   "metadata": {},
   "source": [
    "### Calculs des états excités singulets avec la TDDFT\n",
    "\n",
    "Effectuons les calculs sans et avec l'approximation TDA."
   ]
  },
  {
   "cell_type": "code",
   "execution_count": null,
   "metadata": {},
   "outputs": [],
   "source": [
    "mytd = tddft.TDDFT(mf)\n",
    "mytd.kernel()\n",
    "mytd.analyze(verbose=4)"
   ]
  },
  {
   "cell_type": "code",
   "execution_count": null,
   "metadata": {},
   "outputs": [],
   "source": [
    "mytda = tddft.TDA(mf)\n",
    "mytda.kernel()\n",
    "mytda.analyze(verbose=4)"
   ]
  },
  {
   "cell_type": "code",
   "execution_count": null,
   "metadata": {},
   "outputs": [],
   "source": [
    "# Singlet excitation energies\n",
    "ee_singlets = mytda.e\n",
    "\n",
    "# Singlet oscillators strength\n",
    "OS_singlets = mytda.oscillator_strength(gauge='length')"
   ]
  },
  {
   "cell_type": "markdown",
   "metadata": {},
   "source": [
    "### Calculs des états excités triplets avec la TDDFT\n",
    "\n",
    "Par défaut, seuls les états excités singulets sont calculés. Afin de calculer les états excités des triplets, il faut définir l'attribut *singlet* sur `False`."
   ]
  },
  {
   "cell_type": "code",
   "execution_count": null,
   "metadata": {},
   "outputs": [],
   "source": [
    "mytda.singlet = False\n",
    "mytda.kernel()\n",
    "mytda.analyze(verbose=4)"
   ]
  },
  {
   "cell_type": "code",
   "execution_count": null,
   "metadata": {},
   "outputs": [],
   "source": [
    "# Triplet excitation energies\n",
    "ee_triplets = mytda.e"
   ]
  },
  {
   "cell_type": "markdown",
   "metadata": {},
   "source": [
    "### Calculs des propriétés"
   ]
  },
  {
   "cell_type": "code",
   "execution_count": null,
   "metadata": {},
   "outputs": [],
   "source": [
    "import os\n",
    "import numpy as np\n",
    "from pyscf.data import nist\n",
    "\n",
    "au2ev = nist.HARTREE2EV\n",
    "\n",
    "# Index of HOMO and LUMO\n",
    "lumo_idx = mf.mo_occ.tolist().index(0.)\n",
    "homo_idx = lumo_idx - 1\n",
    "\n",
    "# Calculate the gap Homo-LUMO\n",
    "E_HOMO = mf.mo_energy[homo_idx]*au2ev\n",
    "E_LUMO = mf.mo_energy[lumo_idx]*au2ev\n",
    "E_g = abs(E_HOMO - E_LUMO)\n",
    "\n",
    "# fluorescence energy\n",
    "f_energy = min(ee_singlets)\n",
    "\n",
    "# Singlet-Tiplet gap\n",
    "gap_ST = min(ee_singlets) - min(ee_triplets)\n",
    "\n",
    "# Oscillator strength\n",
    "OStr = OS_singlets[0]\n",
    "\n",
    "# Lifetime calculation in au\n",
    "c = nist.LIGHT_SPEED # in au\n",
    "time_au = 2.4188843265857E-17 # in au\n",
    "\n",
    "tau_au = c**3 / (2 * (f_energy)**2 * OStr)\n",
    "tau = tau_au * time_au\n",
    "\n",
    "# Multi-Objective function\n",
    "mobj = OStr - gap_ST * au2ev - np.abs(f_energy * au2ev - 3.2)\n"
   ]
  },
  {
   "cell_type": "markdown",
   "metadata": {},
   "source": [
    "* DataFrame and saving in file\n"
   ]
  },
  {
   "cell_type": "code",
   "execution_count": null,
   "metadata": {},
   "outputs": [],
   "source": [
    "import pandas as pd\n",
    "\n",
    "# Create the results dataframe\n",
    "list_results_TDA = [E_HOMO, E_LUMO, E_g, f_energy* au2ev, gap_ST* au2ev, OStr, tau* 1E+9, mobj]\n",
    "dict_results_TDA = {'eV/ns': list_results_TDA}\n",
    "\n",
    "df_TDA = pd.DataFrame(dict_results_TDA,\n",
    "                    index = ['Homo energy', 'LUMO energy', 'Gap energy', \n",
    "                             'Fluorescence energy',\n",
    "                             'Singlet-Triplet gap',\n",
    "                             'Oscillator strength',\n",
    "                             'Lifetime',\n",
    "                             'Multi-Obj'])\n",
    "\n",
    "df_TDA"
   ]
  },
  {
   "cell_type": "markdown",
   "metadata": {},
   "source": [
    "## Spectre UV/Vis\n",
    "\n",
    "Dans cette section, nous allons calculer les énergies d'excitation de la molécule 1,2-oxazole ($C_3H_3NO$) et tracer son spectre UV/Vis. Il est à noter que la molécule 1,2-oxazole peut être utile comme pesticide, fongicide agrochimique et insecticide."
   ]
  },
  {
   "cell_type": "code",
   "execution_count": null,
   "metadata": {},
   "outputs": [],
   "source": [
    "import py3Dmol\n",
    "\n",
    "# PySCF molecule object\n",
    "mol_xyz = \"\"\"  \n",
    "  C      1.0701      0.4341     -0.0336\n",
    "  C      0.8115     -0.9049     -0.1725\n",
    "  C     -0.6249     -1.0279     -0.0726\n",
    "  H      1.9842      1.0231     -0.0364\n",
    "  H      1.5156     -1.7176     -0.3255\n",
    "  H     -1.2289     -1.9326     -0.1322\n",
    "  O     -0.0873      1.1351      0.1422\n",
    "  N     -1.1414      0.1776      0.1122\"\"\"\n",
    "\n",
    "mol = gto.M(atom = mol_xyz,\n",
    "  basis = '6-31g(d,p)', \n",
    "  verbose=3)\n",
    "\n",
    "# 3D representation\n",
    "xyz_view = py3Dmol.view(width=300,height=300)\n",
    "xyz_view.addModel(mol.tostring(format=\"xyz\"),'xyz')\n",
    "xyz_view.setStyle({'stick':{}, \"sphere\":{\"radius\":0.4}})\n",
    "xyz_view.setBackgroundColor('0xeeeeee')\n",
    "xyz_view.show()"
   ]
  },
  {
   "cell_type": "markdown",
   "metadata": {},
   "source": [
    "* Définissons une distribution Gaussienne ($e^{-\\frac{(x-\\mu)^2}{2\\sigma^2}}$) qui est un moyen approximatif de se rapprocher de la forme de la ligne pour chaque excitation. "
   ]
  },
  {
   "cell_type": "code",
   "execution_count": null,
   "metadata": {},
   "outputs": [],
   "source": [
    "def gaussian(x, mu, sig):\n",
    "    return np.exp(-np.power(x - mu, 2.) / (2 * np.power(sig, 2.)))\n"
   ]
  },
  {
   "cell_type": "markdown",
   "metadata": {},
   "source": [
    "* Créons une fonction pour calculer l'état fondamental avec la DFT, et les états excités avec la TD-DFT et effectuer l'analyse spectrale. "
   ]
  },
  {
   "cell_type": "code",
   "execution_count": null,
   "metadata": {},
   "outputs": [],
   "source": [
    "def run_spectral_analysis(mol, xc=\"lda\"):\n",
    "    n_states=15\n",
    "    spectral_width=0.1\n",
    "\n",
    "    # Ground State DFT\n",
    "    mf = dft.RKS(mol, xc=xc).run()\n",
    "\n",
    "    # Excited State DFT\n",
    "    mytd = tddft.TDDFT(mf)\n",
    "    mytd.nstates = n_states\n",
    "    mytd.max_space = 100\n",
    "    mytd.max_cycle = 200\n",
    "    mytd.kernel();\n",
    "    mytd.analyze()\n",
    "    osc_strengths = mytd.oscillator_strength()[:n_states-5]\n",
    "\n",
    "    # Convolve lineshapes to make spectra\n",
    "    energies_ev = mytd.e[:n_states-5]*au2ev\n",
    "    x_range = np.linspace(energies_ev.min()*0.9, energies_ev.max()*1.1, num=1000)\n",
    "    intensity = np.zeros(x_range.size)\n",
    "\n",
    "    for e, f in zip(energies_ev, osc_strengths):\n",
    "        intensity += gaussian(x_range, e, spectral_width) * f\n",
    "\n",
    "    # Rough Normalization\n",
    "    dx = (x_range[-1] - x_range[0])/x_range.size\n",
    "    area = (intensity*dx).sum()\n",
    "    intensity /= area\n",
    "\n",
    "\n",
    "    return x_range, intensity"
   ]
  },
  {
   "cell_type": "code",
   "execution_count": null,
   "metadata": {},
   "outputs": [],
   "source": [
    "import time\n",
    "\n",
    "data = {\"Excitation Energy (eV)\":[], \"Intensity\":[], \"Exchange-Correlation Functional\":[]}\n",
    "\n",
    "xcs = [\"lda\", \"pbe\", \"B3LYP\"]\n",
    "\n",
    "for xc in xcs:\n",
    "    ti = time.time()\n",
    "    x_range, intensity = run_spectral_analysis(mol, xc=xc)\n",
    "\n",
    "    data[\"Excitation Energy (eV)\"] += x_range.tolist()\n",
    "    data[\"Intensity\"] += intensity.tolist()\n",
    "    data[\"Exchange-Correlation Functional\"] += [xc]*x_range.size\n",
    "    tf = time.time()\n",
    "    print(f\"Time for {xc.upper()} calculations: {tf-ti:.2f}\\n\")\n",
    "\n",
    "df = pd.DataFrame(data)"
   ]
  },
  {
   "cell_type": "code",
   "execution_count": null,
   "metadata": {},
   "outputs": [],
   "source": [
    "import plotly.express as px\n",
    "fig = px.line(df, x=\"Excitation Energy (eV)\", y=\"Intensity\", markers=True, color=\"Exchange-Correlation Functional\")\n",
    "fig.show()"
   ]
  }
 ],
 "metadata": {
  "kernelspec": {
   "display_name": "qiskit-env",
   "language": "python",
   "name": "qiskit-env"
  },
  "language_info": {
   "codemirror_mode": {
    "name": "ipython",
    "version": 3
   },
   "file_extension": ".py",
   "mimetype": "text/x-python",
   "name": "python",
   "nbconvert_exporter": "python",
   "pygments_lexer": "ipython3",
   "version": "3.10.12"
  }
 },
 "nbformat": 4,
 "nbformat_minor": 2
}
