{
 "cells": [
  {
   "cell_type": "markdown",
   "metadata": {},
   "source": [
    "# <a id='toc1_'></a>[Quantum Chemistry Tutorial 1 - Modelling Basis](#toc0_)\n",
    "\n",
    "1. **S. G. Nana Engo**, serge.nana-engo@facsciences-uy1.cm\n",
    "    * Department of Physics, Faculty of Science, University of Yaounde I\n",
    "2. **J-P. Tchapet Njafa**, jean-pierre.tchapet-njafa@univ-maroua.cm\n",
    "    * Department of Physics, Faculty of Science, University of Maroua\n",
    "       \n",
    "December 2023"
   ]
  },
  {
   "cell_type": "markdown",
   "metadata": {},
   "source": [
    "Dans cette série de tutoriels, nous allons aborder les notions eessentielles chimie computationnelle ou chimie quantique. L'objectif principal étant d'apprendre et de travailler avec des méthodes et des logiciels informatiques de pointe en matière de chimie quantique. En plus des méthodes *ab-initio* traditionnelles, par exemple la théorie Hartree-Fock et post-Hartree-Fock,, la théorie fonctionnelle de la densité (DFT) est également discutée. Celles-ci sont appliquées par exemple à la prédiction de structures, à l'exploration de surfaces d'énergie potentielle. Il est à souligner le caractère unificateur de la chimie computationnelle : les mêmes méthodes théoriques servent d'outils pour résoudre divers problèmes dans tous les domaines de la chimie, de la chimie théorique et (in)organique et de la catalyse à la pharmaco- et biochimie.\n",
    "\n",
    "A l'issue de cette série de tutoriels, l'étudiant doit être capable \n",
    "* d'expliquer certains concepts des méthodes modernes de chimie quantique : Hartree-Fock et la théorie fonctionnelle de la densité (DFT);\n",
    "* d'expliquer certains aspects des logiciels de chimie quantique;\n",
    "* de travailler avec des logiciels de chimie quantique de pointe, de prédire les structures et d'explorer les surfaces énergétiques potentielles;\n",
    "* d'interpréter les résultats calculés en termes d'orbitales moléculaires et de modèles de structure électronique;\n",
    "* d'utiliser un logiciel de chimie quantique pour résoudre des problèmes chimiques par voie informatique.\n"
   ]
  },
  {
   "cell_type": "markdown",
   "metadata": {},
   "source": [
    "L'objectif de ce notebook est de fournir les connaissances de base en chimie quantique nécessaire résoudre un problème de chimie avec la DFT ou les algorithmes hybrides classique-quantique. De nombreux paramètres peuvent être modifiés, et certains ont un impact plus important que d’autres sur la précision et les ressources quantiques (nombre de qubits, profondeur du circuit quantique et nombre de mesures). Cet ensemble de paramètres comprend le choix de l'état initial, le choix de l'ensemble de bases et le gel des orbitales moléculaires. \n",
    "\n",
    "La molécule d'application est la molécule d'eau $\\rm{H_2O}$ et framework principal utilisé est PySCF.\n",
    "\n",
    "## <a id='toc1_1_'></a>[PySCF](#toc0_)\n",
    "\n",
    "<!-- ![Pyscf.png](attachment:Pyscf.png) -->\n",
    "![Pyscf.png](./Graphics/Pyscf.png)"
   ]
  },
  {
   "cell_type": "code",
   "execution_count": 3,
   "metadata": {},
   "outputs": [
    {
     "data": {
      "text/plain": [
       "'2.4.0'"
      ]
     },
     "execution_count": 3,
     "metadata": {},
     "output_type": "execute_result"
    }
   ],
   "source": [
    "import pyscf\n",
    "\n",
    "pyscf.__version__"
   ]
  },
  {
   "cell_type": "markdown",
   "metadata": {},
   "source": [
    "<!-- ![wpySCF_Logo](./Graphics/Pyscf.png) -->\n",
    "\n",
    "**Python-based Simulations of Chemistry Framework (PySCF)** est un programme de chimie computationnelle *ab initio* implémenté nativement dans le langage de programme Python. Le package vise à fournir une plate-forme simple, légère et efficace pour le développement et le calcul de codes de chimie quantique. Il fournit diverses fonctions pour faire la théorie de Hartree-Fock, la Second-order Møller–Plesset perturbation theory (MP2), la théorie fonctionnelle de la densité (DFT), la Multi-configuration self-consistent field (MCSCF), la théorie des clusters couplés (CC) au niveau non relativiste et la théorie relativiste Hartree-Fock à 4 composants. PySCF est utilisé dans la plupart des packages de calculs quantiques pour les calculs HF (première quantification) et diverses étapes des transformations de seconde quantification.\n",
    "\n",
    "Il est à noter que la méthode SCF ou Self Consistent Field est une méthode variationnelle où la fonction d'essai est un déterminant de Slater ou une combinaison lineaire sw déterminants. "
   ]
  },
  {
   "cell_type": "markdown",
   "metadata": {},
   "source": [
    "## <a id='toc1_2_'></a>[Structure électronique des molécules en première et seconde quantifications](#toc0_)\n",
    "\n",
    "### <a id='toc1_2_1_'></a>[Hamiltonien d'une molécule en première quantification](#toc0_)\n",
    "\n",
    "L'Hamiltonien d'une molécule constituée de noyaux $K$ et d'électrons $N$ est\n",
    "\\begin{equation*}\n",
    "\\mathtt{H}=\\mathtt{T}_e+\\mathtt{T}_n+\\mathtt{U}_{en}+\\mathtt{U}_{en}+\\mathtt{U}_{nn},\n",
    "\\end{equation*}\n",
    "où\n",
    "- $\\mathtt{T}_e= -\\sum_i\\frac{\\hbar^2}{2m_e}\\nabla^2_i$ est l'énergie cinétique électronique;\n",
    "- $\\mathtt{T}_n=-\\sum_I\\frac{\\hbar^2}{2M_I}\\nabla^2_I$ est l'énergie cinétique nucléaire;\n",
    "- $\\mathtt{U}_{en}= -\\sum_{i,I}\\frac{e^2}{4\\pi\\epsilon_0}\\frac{Z_I}{|\\mathbf{r}_i-\\mathbf{R}_I|}$ est la répulsion Coulombienne entre les électrons et les noyaux;\n",
    "- $\\mathtt{U}_{ee}=+\\frac{1}{2}\\sum_{i\\neq j}\\frac{e^2}{4\\pi\\epsilon_0}\\frac{1}{|\\mathbf{r}_i-\\mathbf{r}_j|}$ est la répulsion Coulombienne entre les électrons eux-mêmes;\n",
    "- $\\mathtt{U}_{nn}=+\\frac{1}{2}\\sum_{I\\neq J}\\frac{e^2}{4\\pi\\epsilon_0}\\frac{Z_IZ_J}{|\\mathbf{R}_I-\\mathbf{R}_J|}$ est la répulsion Coulombienne entre les noyaux eux-mêmes.\n",
    "\n",
    "$M_I$, $\\mathbf{R}_I$ et $Z_I$ ($I=1,2$) désignent la masse, la position et le numéro atomique du *I*-ème noyau, et $\\mathbf{r}_i$ est la position du *i*-ème électron. Par souci de concision, nous travaillons en unités atomiques, où l'unité de longueur est $a_0 = 1$ Bohr ($0.529167~\\mathtt{T}imes~10^{-10}$ m), l'unité de masse est la masse électronique $m_e$ et l'unité d'énergie est 1 Hartree ($1~\\textrm{Hartree}~= ~{e^2}/{4\\pi\\epsilon_0 a_0}~=~27.2113~\\textrm{eV}$). Dénotant $M_I'=M_I/m_e$, les différents termes de l'Hamiltonien moléculaire en unités atomiques s'écrit\n",
    "\\begin{equation*}\n",
    "\\begin{split}\n",
    "\\mathtt{T}_e&=-\\sum_i\\frac{\\nabla^2_i}{2}, \\qquad\\mathtt{T}_n= -\\sum_I\\frac{\\nabla^2_I}{2M_I'}, \n",
    " \\qquad\\mathtt{U}_{en}= - \\sum_{i,I}\\frac{Z_I}{|\\mathbf{r}_i-\\mathbf{R}_I|},\\\\\n",
    "\\mathtt{U}_{ee}&=+\\frac12\\sum_{i\\neq j}\\frac{1}{|\\mathbf{r}_i-\\mathbf{r}_j|}\n",
    "=+\\sum_{i,j>i}\\frac{1}{|\\mathbf{r}_i-\\mathbf{r}_j|},\\\\\n",
    "\\mathtt{U}_{nn}&=+\\frac{1}{2}\\sum_{I\\neq J}\\frac{Z_IZ_J}{|\\mathbf{R}_I-\\mathbf{R}_J|}\n",
    "=+\\sum_{I,J>I}\\frac{Z_IZ_J}{|\\mathbf{R}_I-\\mathbf{R}_J|}.\n",
    "\\end{split}\n",
    "\\end{equation*}\n",
    "\n",
    "### <a id='toc1_2_2_'></a>[Approximation de Born-Oppenheimer](#toc0_)\n",
    "\n",
    "Nous nous intéressons principalement à la structure *électronique* de la molécule. Comme $M'\\sim10^3$, nous appliquons l'**approximation de Born-Oppenheimer**, en traitant les noyaux comme des charges ponctuelles classiques. En conséquence, le terme d'énergie cinétique nucléaire $T_n$ est négligé, $\\mathtt{U}_{nn}(\\mathbf{R})$ est constant et l'Hamiltonien moléculaire est approché par un Hamiltonien électronique paramétré par $\\mathbf{R}$,\n",
    "\\begin{equation*}\n",
    "\\begin{split}\n",
    "\\mathtt{H}(\\mathbf{R}) &= \\mathtt{U}_{nn}+\\underset{\\text{One-Electron Operators}}{\\mathtt{T}_e + \\mathtt{U}_{en}(\\mathbf{R})} + \\underset{\\text{Two-Electron Operator}}{\\mathtt{U}{ee}}\\\\\n",
    "&= \\mathtt{U}_{nn}+\\underset{\\text{One-Electron Operator}}{\\sum_i h(i)} + \\underset{\\text{Two-Electron Operator}}{\\sum_{i\\ne j}v(i, j)}.\n",
    "\\end{split}\n",
    "\\end{equation*}\n",
    "\n",
    "### <a id='toc1_2_3_'></a>[Energie potentiel de surface](#toc0_)\n",
    "\n",
    "En vertu de l'équation de $\\mathtt{H}(\\mathbf{R})$ préceédente, l'équation de Schrödinger indépendante du temps non relativiste écrit\n",
    "\\begin{equation*}\n",
    "\\mathtt{H}(\\mathbf{R})\\psi_i(\\mathbf{R},\\mathbf{r})=E_i(\\mathbf{R})\\psi_i(\\mathbf{R},\\mathbf{r}),\n",
    "\\end{equation*}\n",
    "où $\\psi_i(\\mathbf{R},\\mathbf{r})$ désigne l'un des états propres et $E_i(\\mathbf{R})$ correspond aux surfaces d'énergie potentielle moléculaire (PES), ce qui est important pour comprendre les processus chimiques tels que la formation et la rupture de liaison. En règle générale, la précision du calcul du PES (Potential Energy Surface) doit être limitée à la *précision chimique* $\\epsilon=1 \\textrm{kcal}\\textrm{mol}^{-1}(\\sim 1.59\\times 10^{-3}\\textrm{Hartrees},\\, 43.3\\textrm{meV})$.\n",
    "\n",
    "L'énergie de l'état fondamental est donnée par\n",
    "\\begin{equation}\\tag{1} \n",
    "E_0 = \\frac{\\langle\\psi_0|\\mathtt{H}|\\psi_0\\rangle}{\\langle\\psi_0|\\psi_0\\rangle},\n",
    "\\end{equation}\n",
    "où $|\\psi_0\\rangle$ est l'état fondamental du système. Cependant, la dimensionnalité de ce problème croît exponentiellement avec le nombre de degrés de liberté. Pour résoudre ce problème, nous aimerions préparer $|\\psi_0\\rangle$ sur un calculateur quantique et mesurer directement la valeur moyenne Hamiltonienne (ou $E_0$). Alors, comment pouvons-nous faire cela concrètement?\n",
    "\n",
    "Un bon point de départ pour résoudre ce problème est la méthode Hartree-Fock (HF), autrement nous allons prendre comme fonction d'état de réféfrence la fonction d'état HF. Cette méthode rapproche un problème à N corps en N problèmes à un corps où chaque électron évolue dans le champ moyen des autres.  Il est à noter que le dénominateur de l'équation (1) n'est nécessaire que quand la fonction d'etat HF n'est pas normalisée au départ. Une facon d'améliorer cette fonction d'état HF est d'utiliser une combinaison linéaire des fonction d'état. Ce qui sera fait à travers les bases chimiques.\n",
    "\n",
    "\n",
    "### <a id='toc1_2_4_'></a>[Déterminant Slater](#toc0_)\n",
    "\n",
    "Un déterminant de Slater est un produit anti-symétrique d'un ou de plusieurs spin orbitals. Pour un système à $N$-electron, le déterminant de Slater s'écrit\n",
    "\\begin{equation*}\n",
    "\\begin{split}\n",
    "\\psi(\\mathbf{r}_0, \\mathbf{r}_1, \\ldots, \\mathbf{r}_{N-1})\\equiv |\\phi_{M-1},\\cdots,  \\phi_1, \\phi_0 \\rangle \n",
    "&=   \\frac{1}{\\sqrt{N!}}\n",
    "\\begin{vmatrix} \\phi_0(\\mathbf{r}_0) & \\phi_1(\\mathbf{r}_0) & \\cdots & \\phi_{M-1}(\\mathbf{r}_0) \\\\\n",
    "      \\phi_0(\\mathbf{r}_1) & \\phi_1(\\mathbf{r}_1) & \\cdots & \\phi_{M-1}(\\mathbf{r}_1) \\\\\n",
    "      \\vdots & \\vdots & \\ddots & \\vdots \\\\\n",
    "      \\phi_0(\\mathbf{r}_{N-1}) & \\phi_1(\\mathbf{r}_{N-1}) & \\cdots & \\phi_{M-1}(\\mathbf{r}_{N-1})\n",
    "\\end{vmatrix} \\\\\n",
    "&\\equiv |M-1,\\dots, 1, 0 \\rangle,\n",
    "\\end{split}\n",
    "\\end{equation*}\n",
    " L'échange des positions de deux électrons est équivalent à l'échange de deux rangées du déterminant de Slater, ce qui modifie le signe de la fonction d'état. Cela fournit la symétrie d'échange correcte pour la fonction d'état fermionique. Bien que le nombre de spin-orbitales considérées, $M$, soit généralement plus élevé que le nombre d'électrons dans le système, $N$, les électrons ne peuvent occuper que $N$ des spin-orbitales dans un déterminant Slater donné. En conséquence, le déterminant de Slater ne contient que les spin-orbitales occupées $N$."
   ]
  },
  {
   "cell_type": "markdown",
   "metadata": {},
   "source": [
    "### <a id='toc1_2_5_'></a>[Exemple d'illustration](#toc0_)\n",
    "\n",
    "Pour rendre les correspondances plus claires, nous examinons comment une fonction d'état sera représentée pour un système quantique fictif. On considère les orbitales de spin $|A_\\uparrow\\rangle,\\,|A_\\downarrow\\rangle,\\,|B_\\uparrow\\rangle,\\,|B_\\downarrow\\rangle$. Nous sommes libres de définir arbitrairement l'état Hartree-Fock de notre système fictif et de choisir les deux électrons dans l'orbitale $|A\\rangle$. Nous sommes intéressés par la fonction d'état lorsque la composante $z$ du spin est nulle.\n",
    "\n",
    "Labellisons chaque orbitale ainsi qu'il suit :\n",
    "\\begin{align*}\n",
    " &|A_\\uparrow\\rangle=|00\\rangle=|\\mathbf{0}\\rangle,  &&|A_\\downarrow\\rangle=|01\\rangle=|\\mathbf{1}\\rangle,\n",
    "&&|B_\\uparrow\\rangle=|10\\rangle=|\\mathbf{2}\\rangle,  &|B_\\downarrow\\rangle=|11\\rangle=|\\mathbf{3}\\rangle.\n",
    "\\end{align*}\n",
    "L'état de Hartree-Fock possède les deux électrons dans les orbitales $|A\\rangle$. Un état HF incorrectement symétrisé serait donc $|A_\\uparrow\\rangle_1|A_\\downarrow\\rangle_2 = |\\mathbf{0}\\rangle_1|\\mathbf{1}\\rangle_2$, où les indices indiquent l'électron décrit par chaque orbitale. La fonction d'état HF correctement antisymétrisée serait \n",
    "\\begin{equation*}\n",
    "\\begin{split}\n",
    "    |\\Psi_{\\mathrm{HF}}\\rangle =  \\frac{1}{\\sqrt{2}}\n",
    "\t\t\\begin{vmatrix}\n",
    "\t\tA_\\uparrow(\\mathbf{x}_0) & A_\\downarrow(\\mathbf{x}_0)\\\\\n",
    "\t\tA_\\uparrow(\\mathbf{x}_1) & A_\\downarrow(\\mathbf{x}_1)\\\\\n",
    "\t\t\\end{vmatrix}\n",
    "\t\t&= \\frac{1}{\\sqrt{2}}  \\Big( A_\\uparrow(\\mathbf{x_0}) A_\\downarrow(\\mathbf{x_1}) - A_\\downarrow(\\mathbf{x_0}) A_\\uparrow(\\mathbf{x_1})  \\Big)\\\\\n",
    "&=\\frac{1}{\\sqrt{2}} (|\\mathbf{0}\\rangle_1|\\mathbf{1}\\rangle_2 - |\\mathbf{1}\\rangle_1|\\mathbf{0}\\rangle_2 ).\n",
    "\\end{split}\n",
    "\\end{equation*}\n",
    "Si nous considérons maintenant les excitations au-dessus de l'état HF, alors une fonction d'état générale avec $s_z=0$ qui a été correctement antisymétrisée est\n",
    "donnée par\n",
    "\\begin{equation*}\n",
    "\\begin{aligned}\n",
    "|\\Psi\\rangle =& \\frac{\\alpha}{\\sqrt{2}}(|\\mathbf{0}\\rangle_1|\\mathbf{1}\\rangle_2 - |\\mathbf{1}\\rangle_1|\\mathbf{0}\\rangle_2 ) \n",
    "+\\frac{\\beta}{\\sqrt{2}} (|\\mathbf{2}\\rangle_1|\\mathbf{3}\\rangle_2 - |\\mathbf{3}\\rangle_1|\\mathbf{2}\\rangle_2 ) \\\\\n",
    "+& \\frac{\\gamma}{\\sqrt{2}} (|\\mathbf{0}\\rangle_1|\\mathbf{3}\\rangle_2 - |\\mathbf{3}\\rangle_1|\\mathbf{0}\\rangle_2 ) + \\frac{\\delta}{\\sqrt{2}} (|\\mathbf{1}\\rangle_1|\\mathbf{2}\\rangle_2 - |\\mathbf{2}\\rangle_1|\\mathbf{1}\\rangle_2 ).\n",
    "\\end{aligned}\n",
    "\\end{equation*}\n",
    "Comme nous avons $N=2$ électrons et $M=4$ spin-orbitales, nous pouvons voir que nous avons seulement besoin de $N \\lceil\\mathrm{log_2}(M)\\rceil = 2 \\times \\lceil\\mathrm{log_2}(4)\\rceil = 4$ qubits pour stocker la fonction d'état.\n"
   ]
  },
  {
   "cell_type": "markdown",
   "metadata": {},
   "source": [
    "## <a id='toc1_3_'></a>[Seconde quantification - Construction d'un opérateur Hamiltonien fermionique](#toc0_)\n",
    "\n",
    "### <a id='toc1_3_1_'></a>[Génération des intégrales moléculaires](#toc0_)\n",
    "\n",
    "L'Hamiltonien  est exprimé dans la base des solutions de la méthode HF, également appelées Orbitales Moléculaires (OM) :\n",
    "$$\n",
    "\\mathtt{H}_{elec}=\\sum_{pq} h_{pq} a^{\\dagger}_p a_q + \n",
    "\\frac{1}{2} \\sum_{pqrs} h_{pqrs}  a^{\\dagger}_p a^{\\dagger}_q a_r  a_s\n",
    "$$\n",
    "avec \n",
    "* les **intégrales à 1 électron**\n",
    "$$\n",
    "h_{pq} = \\int \\phi^*_p(r) \\left( -\\frac{1}{2} \\nabla^2 - \\sum_{I} \\frac{Z_I}{|\\mathbf{r}_i-\\mathbf{R}_I|} \\right)   \\phi_q(r)d\\mathbf{r}\n",
    "$$\n",
    "qui décrivent l’énergie cinétique des électrons individuels et leurs interactions Coulombiennes avec les champs électriques du noyau ;\n",
    "* et **intégrales à 2 électrons**\n",
    "$$\n",
    "h_{pqrs} = \\int \\frac{\\phi^*_p(r_1)  \\phi^*_q(r_2) \\phi_r(r_2)  \\phi_s(r_1)}{|\\mathbf{r}_1-\\mathbf{r}_2|}d\\mathbf{r}_1d\\mathbf{r}_2,\n",
    "$$\n",
    "décrivent les interactions Coulombiennes entre les électrons;\n",
    "* $a^\\dagger_p$ l'**opérateur de création** d'un électron sur le spin-orbite $p$;\n",
    "* $a_q$ l'**opérateur d'annihilation** d'un électron sur sur le spin-orbite $q$;\n",
    "* $a^{\\dagger}_p a_q $ est l'**opérateur d'excitation**, qui excite un électron du spin-orbite occupé $\\phi_q$ vers le spin-orbite inoccupé $\\phi_p$.\n",
    "\n",
    "Les MO ($\\phi_u$) peuvent être occupés ou virtuels (inoccupés). Un MO peut contenir 2 électrons. Ces MO sont les solutions de la méthode HF, où chaque l´electron est soumis au champ moyen créé par les autres électrons. Cependant, dans ce qui suit, nous travaillons en fait avec des orbitales de spin qui sont associées à un spin up ($\\alpha$) d'électron spin down ($\\beta$). Ces deux spins sont également communément désignés par $\\alpha$ et $\\beta$, respectivement. Ainsi, les orbitales de spin peuvent contenir un électron ou être inoccupées.\n",
    "\n",
    "Dans le tableau ci-dessous resume les correspondances première-seconde quantification des divers éléments du Hamiltonien moléculaire. \n",
    "$$\n",
    "\\begin{array}{|l|l|l|}\\hline\n",
    "\\textbf{Approximation BO}  &  \\textbf{Combinaison en 2e quantification} &  \\textbf{Description}\n",
    "\\\\\\hline\n",
    "-\\frac12\\sum_i\\nabla^2_i & -\\frac12\\sum_{p,q}\\langle p|\\nabla^2_p|q\\rangle a^\\dagger_p a_q & \\mathtt{T}_e \\\\\\hline\n",
    " -\\sum_{i,I}\\frac{Z_I}{|\\mathbf{r}_i-\\mathbf{R}_I|} &\n",
    " -\\sum_{p,q} \\langle p|\\frac{Z_I}{|\\mathbf{r}_p-\\mathbf{R}_I|}|q\\rangle a^\\dagger_p a_q\n",
    " & \\mathtt{U}_{en}\\\\\\hline\n",
    "\\sum_{i,j>i}\\frac{1}{|\\mathbf{r}_i-\\mathbf{r}_j|} & \n",
    "\\sum_{p,q,r,s}\\langle pq \\big|\\frac{1}{|\\mathbf{r}_i-\\mathbf{r}_j|}\\big|rs\\rangle a^\\dagger_p a^\\dagger_q a_r a_s & \n",
    " \\mathtt{U}_{ee}\\\\\\hline\n",
    "\\end{array}\n",
    "$$\n",
    "\n",
    "*Un des avantages apporté par le formalisme de seconde quantification est que la propriété d'anti-symétrie des fonctions d'état pour l'échange de fermions identiques, prise en compte manuellement dans une approche de première quantification en considérant les déterminants de Slater, est automatiquement imposée par le relations d'anti-commutation des opérateurs de création et d'annihilation. Cependant, le prix à payer est de travailler avec un nombre non fixe de particules, qui reste de toute façon une quantité conservée.*"
   ]
  },
  {
   "cell_type": "markdown",
   "metadata": {},
   "source": [
    "### <a id='toc1_3_2_'></a>[Répresentation nombre d'occupation](#toc0_)\n",
    "\n",
    "En seconde quantification, le déterminant de Slater est représenté par un **vecteur nombre d'occupation**\n",
    "\\begin{equation*}\n",
    "|f\\rangle =|f_{M-1},\\dots,f_{i-1},f_i,f_{i+1},\\dots, f_0\\rangle, \n",
    "\\end{equation*}\n",
    "avec\n",
    "- $f_i=1$ lorsque le spin-orbital $\\phi_i$ est occupé et donc présent dans le déterminant de Slater;\n",
    "- $f_i = 0$ lorsque le $\\phi_i$ spin-orbital est vide et donc absent du déterminant de Slater.\n",
    "\n",
    "- Le vecteur $|f_i\\rangle$ est appelé **vecteur nombre d'occupation de l'orbite fermionique i**, parce que\n",
    "\\begin{align*}\n",
    "& |0\\rangle=\\begin{pmatrix}1\\\\0\\end{pmatrix}:\\text{état vide}, & |1\\rangle=\\begin{pmatrix}0\\\\1\\end{pmatrix}:\\text{état occupé}.\n",
    "\\end{align*}\n",
    "\n",
    "Dans la deuxième représentation de quantification, au lieu de poser la question *Quel électron est dans quel état?*, nous posons la question *combien de particules y a-t-il dans chaque état?*.\n",
    "\n",
    "### <a id='toc1_3_3_'></a>[Opérateurs fermioniques](#toc0_)\n",
    "\n",
    "Les opérateurs fermioniques $a^\\dagger_i$ et $a_i$ obéissent aux relations d'anticommutation fermioniques suivantes:\n",
    "\\begin{align*}\n",
    "&\\{a_p,a^\\dagger_q\\} = a_pa^\\dagger_q + a^\\dagger_q a_p = \\delta_{pq}, \n",
    "&\\{a_p, a_q \\} = \\{a^\\dagger_p, a^\\dagger_q\\} = 0 .\n",
    "\\end{align*}\n",
    "La nature fermionique des électrons implique que les fonctions d'état à plusieurs électrons doivent être antisymétriques par rapport à l'échange de particules. Cela se reflète dans la manière dont les opérateurs de création fermionique et d'annhilation agissent sur les déterminants $|f\\rangle$:\n",
    "\\begin{equation*}\n",
    "\\begin{aligned}\n",
    "&a_i|f_{M-1},\\dots,f_{i-1},f_i,f_{i+1},\\dots, f_0\\rangle = \\delta_{f_i,1}\n",
    "(-1)^{\\sum_{m<i}f_m}|f_{M-1},\\dots,f_{i-1},f_i\\oplus 1,f_{i+1},\\dots, f_0\\rangle,\\\\\n",
    "&a^\\dagger_i|f_{M-1},\\dots,f_{i-1},f_i,f_{i+1},\\dots, f_0\\rangle = \\delta_{f_i,0}\n",
    "(-1)^{\\sum_{m<i}f_m}|f_{M-1},\\dots,f_{i-1},f_i\\oplus 1,f_{i+1},\\dots, f_0\\rangle`,  \\\\\n",
    "&a|0\\rangle=a^\\dagger|1\\rangle=0.\n",
    "\\end{aligned}\n",
    "\\end{equation*}\n",
    "- Le terme de phase $p_i=(-1)^{\\sum_{m<i}f_m}$ désigne la parité qu'impose l'anti-symétrie d'échange des fermions.\n",
    "    - $p_i=-1$ si le nombre d'électrons est impair dans ces orbitales de spin,\n",
    "    - $p_i= 1$ si le nombre d'électrons est pair dans ces orbitales de spin.\n",
    "\n",
    "- Le symbole $\\oplus$ représente l'addition modulo 2, i.e.,  $1 \\oplus 1=0 $ et $0 \\oplus 1=1$.\n",
    "\n",
    "- L'opérateur de création $a^\\dagger_i$ met un électron dans une orbitale inoccupée *i* ou dans $|f_i\\rangle$.\n",
    "\n",
    "- L'opérateur d'annihilation $a_i$ supprime un électron dans une orbitale occupée *i* ou en $|f_i\\rangle$.\n",
    "\n",
    "- $a_i^2 =(a^\\dagger_i)^2= 0$ pour tout $i$. On ne peut pas créer ou anéantir un fermion dans le même mode deux fois.\n",
    "\n",
    "Par example,\n",
    "\\begin{align*} \n",
    "&a^\\dagger_1 |0\\rangle_1 = |1\\rangle_1,&&a^\\dagger_1 |1\\rangle_1 =(a^\\dagger_i)^2|0\\rangle_1= 0,&& a_1 |1\\rangle_1 =|0\\rangle_1,&a_1 |0\\rangle_1 =a_1^2|1\\rangle_1=0. \n",
    "\\end{align*}\n",
    "Notez qu'ici $a^\\dagger_1|1\\rangle_1=0$ et $a_1 |0\\rangle_1=0$ signifie le vecteur zéro et non $|0\\rangle_1$. \n",
    "\n",
    "En utilisant également de tels opérateurs, nous pouvons exprimer\n",
    "\\begin{equation*}\n",
    "|0\\rangle |1\\rangle |1\\rangle |0\\rangle = a^\\dagger_1a^\\dagger_2 |0\\rangle^{\\otimes 4}.\n",
    "\\end{equation*}\n",
    "\n",
    " L'opérateur d'occupation orbitale est donné par\n",
    "\\begin{align*}\n",
    "&n_i = a^\\dagger_i a_i, &n_i |f_{M-1},\\dots,f_i,\\dots, f_0\\rangle= f_i |f_{M-1},\\dots,f_i,\\dots, f_0\\rangle,\n",
    "\\end{align*}\n",
    "et il compte le nombre d'électrons dans une orbitale donnée, c'est-à-dire\n",
    "\\begin{align*} \n",
    "&n_i |0\\rangle_i = 0, &n_i |1\\rangle_i = |1\\rangle_i. \n",
    "\\end{align*}\n",
    "\n",
    "### <a id='toc1_3_4_'></a>[Exercise](#toc0_)\n",
    "\n",
    "In **Exemple d'illustration** above, we have considered a fictitious system described by spin orbitals $|A_\\uparrow\\rangle,\\,|A_\\downarrow\\rangle,\\,|B_\\uparrow\\rangle,\\,|B_\\downarrow\\rangle$ labelled as\n",
    "\\begin{align*}\n",
    " &|A_\\uparrow\\rangle=|00\\rangle=|\\mathbf{0}\\rangle,  &&|A_\\downarrow\\rangle=|01\\rangle=|\\mathbf{1}\\rangle,\n",
    "&&|B_\\uparrow\\rangle=|10\\rangle=|\\mathbf{2}\\rangle,  &|B_\\downarrow\\rangle=|11\\rangle=|\\mathbf{3}\\rangle.\n",
    "\\end{align*}\n",
    "We assume that the Hartree-Fock state for this system **has both electrons occupying the $|A\\rangle$ orbitals**. We store the occupations of the spin orbitals $|A_\\uparrow\\rangle,\\,|A_\\downarrow\\rangle,\\,|B_\\uparrow\\rangle,\\,|B_\\downarrow\\rangle$ which we order as \n",
    "$|f_{B_\\downarrow},f_{B_\\uparrow},f_{A_\\downarrow},f_{A_\\uparrow}\\rangle$, with $f_i=0,1$ (in the fermionic Fock space).\n",
    "\n",
    "1. Write down, in the fermionic Fock space, the Hartree-Fock state $|\\Psi_{\\rm HF}\\rangle$, that is, the corresponding of the antisymmetrized Slater deter-\n",
    "minant obtained in **Exemple d'illustration**.\n",
    "$$\n",
    "|\\Psi_{\\rm HF}\\rangle = |0011\\rangle .\n",
    "$$\n",
    "1. Write down, in the fermionic Fock space, the $s_z = 0$ state function.\n",
    "$$\n",
    "|\\Psi_{\\rm HF}\\rangle = \\alpha|0011\\rangle + \\beta|1100\\rangle + |1001\\rangle + |0101\\rangle .\n",
    "$$\n"
   ]
  },
  {
   "cell_type": "markdown",
   "metadata": {},
   "source": [
    "## <a id='toc1_4_'></a>[Calcul du champ moyen ou mean-field](#toc0_)\n",
    "\n",
    "Le calcul du champ moyen est généralement la première étape de toutes les approches post Hartree-Fock. Les approches en champ moyen résolvent l'équation de Schrödinger en faisant la moyenne du terme de répulsion électron-électron de manière auto-cohérente ou SCF. En d’autres termes, chaque électron n’interagit pas explicitement avec les autres électrons.\n",
    "\n",
    "Les trois méthodes HF communément utilisées sont (voir la figure ci-dessous) :\n",
    "\n",
    "![HF_Orb.png](./Graphics/HF_Orb.png)\n",
    "<!-- <center>\n",
    " <img src='./Graphics/HF_Orb.png' width=400 /> \n",
    "</center> -->\n",
    "\n",
    "1. **RHF (Restricted Hartree – Fock)** utiliśee pour des molécules à couches pleines ou fermées. Les spin-orbitales sont soit $\\alpha$, soit $\\beta$ et tous les orbitales sont doublement occupés par des spin-orbitales $\\alpha$ et $\\beta$;</br> \n",
    "2. **ROHF (Restricted Open-Shell Hartree–Fock)** utilisée pour des molécules à couches ouvertes où le nombre d'électrons les orbitales n'est pas le même. ROHF utilise autant que possible les orbitales doublement occupées et les orbitales une fois occupées par les électrons non-apariés;\n",
    "3. **UHF (Unrestricted Hartree-Fock)** utilisée pour des molécules à couches ouvertes où le nombre d'électrons les orbitales n'est pas le même. Les orbitales UHF peuvent avoir avoir des spin $\\alpha$ ou $\\beta$, mais les orbitales $\\alpha$ et $\\beta$ peuvent avoir des composants spatiales différents.\n",
    "\n",
    "Les équivalents DFT sont,\n",
    "\n",
    "4. **RKS (Kohn-Sham restreint)**,\n",
    "6. **ROKS (Restricted Open-Shell Kohn – Sham)**,\n",
    "5. **UKS (Kohn-Sham sans restriction)**."
   ]
  },
  {
   "cell_type": "markdown",
   "metadata": {},
   "source": [
    "### <a id='toc1_4_1_'></a>[Information sur la molécule - Création de l'objet molecule avec `pyscf.gto.Mole()`](#toc0_)\n",
    "\n",
    "Lors de la définition d'une molécule, on spécifie les propriétés moléculaires. \n",
    "* L’une d’elles est la charge totale du système, c’est-à-dire la différence entre le nombre d’électrons et la charge nucléaire totale (la valeur par défaut est 0). \n",
    "* Une autre quantité importante à spécifier est le spin, défini par la différence entre le nombre d'électrons alpha et bêta (la valeur par défaut est 0). Cela permet de modéliser des systèmes radicalaires : un spin de 0 caractérise une molécule à couche restreinte tandis qu'un spin différent de 0 définit un système à couche ouverte.\n",
    "\n",
    "Considérons le dimère d'eau (deux molécules d'eau à liaison hydrogène) illustré par la figure suivante\n",
    "\n",
    "<!-- ![water_dimer.jpg](attachment:water_dimer.jpg) -->\n",
    "![water_dimer.jpg](./Graphics/water_dimer.jpg)\n"
   ]
  },
  {
   "cell_type": "code",
   "execution_count": 4,
   "metadata": {},
   "outputs": [
    {
     "data": {
      "application/3dmoljs_load.v0": "<div id=\"3dmolviewer_17054732561726542\"  style=\"position: relative; width: 300px; height: 300px;\">\n        <p id=\"3dmolwarning_17054732561726542\" style=\"background-color:#ffcccc;color:black\">You appear to be running in JupyterLab (or JavaScript failed to load for some other reason).  You need to install the 3dmol extension: <br>\n        <tt>jupyter labextension install jupyterlab_3dmol</tt></p>\n        </div>\n<script>\n\nvar loadScriptAsync = function(uri){\n  return new Promise((resolve, reject) => {\n    //this is to ignore the existence of requirejs amd\n    var savedexports, savedmodule;\n    if (typeof exports !== 'undefined') savedexports = exports;\n    else exports = {}\n    if (typeof module !== 'undefined') savedmodule = module;\n    else module = {}\n\n    var tag = document.createElement('script');\n    tag.src = uri;\n    tag.async = true;\n    tag.onload = () => {\n        exports = savedexports;\n        module = savedmodule;\n        resolve();\n    };\n  var firstScriptTag = document.getElementsByTagName('script')[0];\n  firstScriptTag.parentNode.insertBefore(tag, firstScriptTag);\n});\n};\n\nif(typeof $3Dmolpromise === 'undefined') {\n$3Dmolpromise = null;\n  $3Dmolpromise = loadScriptAsync('https://cdnjs.cloudflare.com/ajax/libs/3Dmol/2.0.4/3Dmol-min.js');\n}\n\nvar viewer_17054732561726542 = null;\nvar warn = document.getElementById(\"3dmolwarning_17054732561726542\");\nif(warn) {\n    warn.parentNode.removeChild(warn);\n}\n$3Dmolpromise.then(function() {\nviewer_17054732561726542 = $3Dmol.createViewer(document.getElementById(\"3dmolviewer_17054732561726542\"),{backgroundColor:\"white\"});\nviewer_17054732561726542.zoomTo();\n\tviewer_17054732561726542.addModel(\"0\\nXYZ from PySCF\",\"xyz\");\n\tviewer_17054732561726542.setStyle({\"stick\": {}});\n\tviewer_17054732561726542.zoomTo();\nviewer_17054732561726542.render();\n});\n</script>",
      "text/html": [
       "<div id=\"3dmolviewer_17054732561726542\"  style=\"position: relative; width: 300px; height: 300px;\">\n",
       "        <p id=\"3dmolwarning_17054732561726542\" style=\"background-color:#ffcccc;color:black\">You appear to be running in JupyterLab (or JavaScript failed to load for some other reason).  You need to install the 3dmol extension: <br>\n",
       "        <tt>jupyter labextension install jupyterlab_3dmol</tt></p>\n",
       "        </div>\n",
       "<script>\n",
       "\n",
       "var loadScriptAsync = function(uri){\n",
       "  return new Promise((resolve, reject) => {\n",
       "    //this is to ignore the existence of requirejs amd\n",
       "    var savedexports, savedmodule;\n",
       "    if (typeof exports !== 'undefined') savedexports = exports;\n",
       "    else exports = {}\n",
       "    if (typeof module !== 'undefined') savedmodule = module;\n",
       "    else module = {}\n",
       "\n",
       "    var tag = document.createElement('script');\n",
       "    tag.src = uri;\n",
       "    tag.async = true;\n",
       "    tag.onload = () => {\n",
       "        exports = savedexports;\n",
       "        module = savedmodule;\n",
       "        resolve();\n",
       "    };\n",
       "  var firstScriptTag = document.getElementsByTagName('script')[0];\n",
       "  firstScriptTag.parentNode.insertBefore(tag, firstScriptTag);\n",
       "});\n",
       "};\n",
       "\n",
       "if(typeof $3Dmolpromise === 'undefined') {\n",
       "$3Dmolpromise = null;\n",
       "  $3Dmolpromise = loadScriptAsync('https://cdnjs.cloudflare.com/ajax/libs/3Dmol/2.0.4/3Dmol-min.js');\n",
       "}\n",
       "\n",
       "var viewer_17054732561726542 = null;\n",
       "var warn = document.getElementById(\"3dmolwarning_17054732561726542\");\n",
       "if(warn) {\n",
       "    warn.parentNode.removeChild(warn);\n",
       "}\n",
       "$3Dmolpromise.then(function() {\n",
       "viewer_17054732561726542 = $3Dmol.createViewer(document.getElementById(\"3dmolviewer_17054732561726542\"),{backgroundColor:\"white\"});\n",
       "viewer_17054732561726542.zoomTo();\n",
       "\tviewer_17054732561726542.addModel(\"0\\nXYZ from PySCF\",\"xyz\");\n",
       "\tviewer_17054732561726542.setStyle({\"stick\": {}});\n",
       "\tviewer_17054732561726542.zoomTo();\n",
       "viewer_17054732561726542.render();\n",
       "});\n",
       "</script>"
      ]
     },
     "metadata": {},
     "output_type": "display_data"
    }
   ],
   "source": [
    "from pyscf import gto # Gaussian type orbitals\n",
    "# For 3D plotting\n",
    "from rdkit.Chem.Draw import IPythonConsole\n",
    "IPythonConsole.ipython_3d = True\n",
    "import py3Dmol\n",
    "\n",
    "mol_xyz = \"\"\"\n",
    "    O  -1.551007  -0.114520   0.000000\n",
    "    H  -1.934259   0.762503   0.000000\n",
    "    H  -0.599677   0.040712   0.000000\n",
    "    O   1.350625   0.111469   0.000000\n",
    "    H   1.680398  -0.373741  -0.758561\n",
    "    H   1.680398  -0.373741   0.758561\"\"\" # Ref: https://cccbdb.nist.gov/expgeom2x.asp\n",
    "\n",
    "DWat_mol=gto.Mole(\n",
    "    atom=mol_xyz,\n",
    "    basis='cc-pVDZ',\n",
    "    charge=0,      # 0 by default\n",
    "    spin=0,        # 0 by default, defined as (n_up - n_down)\n",
    "    unit='Angstrom' # Can also be 'Bohr'\n",
    ")\n",
    "\n",
    "# 3D representation\n",
    "xyz_view = py3Dmol.view(width=300,height=300)\n",
    "xyz_view.addModel(DWat_mol.tostring(format=\"xyz\"),'xyz')\n",
    "xyz_view.setStyle({'stick':{}})\n",
    "xyz_view.zoomTo()\n",
    "xyz_view.show()\n",
    "\n",
    "# IPythonConsole.drawMol3D(mol_rdkit)"
   ]
  },
  {
   "cell_type": "code",
   "execution_count": 5,
   "metadata": {},
   "outputs": [
    {
     "data": {
      "text/plain": [
       "<pyscf.gto.mole.Mole at 0x7f8a0ddcee90>"
      ]
     },
     "execution_count": 5,
     "metadata": {},
     "output_type": "execute_result"
    }
   ],
   "source": [
    "DWat_mol.build()"
   ]
  },
  {
   "cell_type": "code",
   "execution_count": 6,
   "metadata": {},
   "outputs": [
    {
     "name": "stdout",
     "output_type": "stream",
     "text": [
      "Le nombre total d'électrons est 20 et le nombre total d'électrons (alpha, béta) est (10, 10)\n",
      "Le nombre d'orbitales atomiques, dans la base cc-pVDZ, est 48\n",
      "L'énergie nucléaire vaut 36.66284801418409 Hartrees\n"
     ]
    }
   ],
   "source": [
    "print(f'Le nombre total d\\'électrons est {DWat_mol.nelectron} et le nombre total d\\'électrons (alpha, béta) est {DWat_mol.nelec}')\n",
    "print(f'Le nombre d\\'orbitales atomiques, dans la base {DWat_mol.basis}, est {DWat_mol.nao_nr()}')\n",
    "print(f'L\\'énergie nucléaire vaut {DWat_mol.energy_nuc()} Hartrees')"
   ]
  },
  {
   "cell_type": "markdown",
   "metadata": {},
   "source": [
    "### <a id='toc1_4_2_'></a>[Création d'un objet mean-field (mf) avec `scf.RHF()`](#toc0_)\n",
    "\n",
    "Pour la plupart des usages, les types de calculs SCF pertinents seront :\n",
    "\n",
    "1. RHF (Restricted Hartree – Fock)\n",
    "2. UHF (Hartree-Fock sans restriction)\n",
    "3. ROHF (Restricted Open-Shell Hartree–Fock)\n",
    "\n",
    "\n",
    "L'initialisation de l'objet champ moyen pour ces six types de calculs est illustrée ci-dessous. Ces classes nécessitent au moins un argument, à savoir un objet molécule, mol.\n",
    "\n",
    "1. `mf=scf.RHF(mol)`\n",
    "2. `mf=scf.UHF(mol)`\n",
    "3. `mf=scf.ROHF(mol)` (où mol est définie comme étant à couche ouverte (open-shell), mol.spin!=0)\n",
    "4. `mf=scf.RKS(mol)`\n",
    "5. `mf=scf.UKS(mol)`\n",
    "6. `mf=scf.ROKS(mol)` (où mol est définie comme open-shell, mol.spin!=0)\n",
    "\n",
    "La première étape consiste à créer l'objet mean-field (RHF dans ce cas)"
   ]
  },
  {
   "cell_type": "code",
   "execution_count": 7,
   "metadata": {},
   "outputs": [],
   "source": [
    "from pyscf import scf\n",
    "\n",
    "mf=scf.RHF(DWat_mol)"
   ]
  },
  {
   "cell_type": "markdown",
   "metadata": {},
   "source": [
    "Par la suite, on exécute le caclul avec la méthode `.run()`ou `.kernel()"
   ]
  },
  {
   "cell_type": "code",
   "execution_count": 14,
   "metadata": {},
   "outputs": [
    {
     "name": "stdout",
     "output_type": "stream",
     "text": [
      "converged SCF energy = -152.062536249621\n"
     ]
    },
    {
     "data": {
      "text/plain": [
       "-152.0625362496209"
      ]
     },
     "execution_count": 14,
     "metadata": {},
     "output_type": "execute_result"
    }
   ],
   "source": [
    "mf.kernel()"
   ]
  },
  {
   "cell_type": "markdown",
   "metadata": {},
   "source": [
    "Une fois l'exécution du noyau (kernel) SCF achevée, l'objet mean-field (mf) est mis à jour avec plusieurs attributs de sortie utiles :\n",
    "1. `mf.mo_occ` - Occupation MO (vecteur de longueur égale au nombre de MO)"
   ]
  },
  {
   "cell_type": "code",
   "execution_count": 9,
   "metadata": {},
   "outputs": [
    {
     "data": {
      "text/plain": [
       "array([2., 2., 2., 2., 2., 2., 2., 2., 2., 2., 0., 0., 0., 0., 0., 0., 0.,\n",
       "       0., 0., 0., 0., 0., 0., 0., 0., 0., 0., 0., 0., 0., 0., 0., 0., 0.,\n",
       "       0., 0., 0., 0., 0., 0., 0., 0., 0., 0., 0., 0., 0., 0.])"
      ]
     },
     "execution_count": 9,
     "metadata": {},
     "output_type": "execute_result"
    }
   ],
   "source": [
    "mf.mo_occ"
   ]
  },
  {
   "cell_type": "code",
   "execution_count": 10,
   "metadata": {},
   "outputs": [
    {
     "data": {
      "application/vnd.plotly.v1+json": {
       "config": {
        "plotlyServerURL": "https://plot.ly"
       },
       "data": [
        {
         "hovertemplate": "x=%{x}<br>y=%{y}<extra></extra>",
         "legendgroup": "",
         "line": {
          "color": "#636efa",
          "dash": "solid"
         },
         "marker": {
          "symbol": "circle"
         },
         "mode": "markers+lines",
         "name": "",
         "orientation": "v",
         "showlegend": false,
         "type": "scatter",
         "x": [
          0,
          1,
          2,
          3,
          4,
          5,
          6,
          7,
          8,
          9,
          10,
          11,
          12,
          13,
          14,
          15,
          16,
          17,
          18,
          19,
          20,
          21,
          22,
          23,
          24,
          25,
          26,
          27,
          28,
          29,
          30,
          31,
          32,
          33,
          34,
          35,
          36,
          37,
          38,
          39,
          40,
          41,
          42,
          43,
          44,
          45,
          46,
          47
         ],
         "xaxis": "x",
         "y": [
          2,
          2,
          2,
          2,
          2,
          2,
          2,
          2,
          2,
          2,
          0,
          0,
          0,
          0,
          0,
          0,
          0,
          0,
          0,
          0,
          0,
          0,
          0,
          0,
          0,
          0,
          0,
          0,
          0,
          0,
          0,
          0,
          0,
          0,
          0,
          0,
          0,
          0,
          0,
          0,
          0,
          0,
          0,
          0,
          0,
          0,
          0,
          0
         ],
         "yaxis": "y"
        }
       ],
       "layout": {
        "legend": {
         "tracegroupgap": 0
        },
        "template": {
         "data": {
          "bar": [
           {
            "error_x": {
             "color": "#2a3f5f"
            },
            "error_y": {
             "color": "#2a3f5f"
            },
            "marker": {
             "line": {
              "color": "#E5ECF6",
              "width": 0.5
             },
             "pattern": {
              "fillmode": "overlay",
              "size": 10,
              "solidity": 0.2
             }
            },
            "type": "bar"
           }
          ],
          "barpolar": [
           {
            "marker": {
             "line": {
              "color": "#E5ECF6",
              "width": 0.5
             },
             "pattern": {
              "fillmode": "overlay",
              "size": 10,
              "solidity": 0.2
             }
            },
            "type": "barpolar"
           }
          ],
          "carpet": [
           {
            "aaxis": {
             "endlinecolor": "#2a3f5f",
             "gridcolor": "white",
             "linecolor": "white",
             "minorgridcolor": "white",
             "startlinecolor": "#2a3f5f"
            },
            "baxis": {
             "endlinecolor": "#2a3f5f",
             "gridcolor": "white",
             "linecolor": "white",
             "minorgridcolor": "white",
             "startlinecolor": "#2a3f5f"
            },
            "type": "carpet"
           }
          ],
          "choropleth": [
           {
            "colorbar": {
             "outlinewidth": 0,
             "ticks": ""
            },
            "type": "choropleth"
           }
          ],
          "contour": [
           {
            "colorbar": {
             "outlinewidth": 0,
             "ticks": ""
            },
            "colorscale": [
             [
              0,
              "#0d0887"
             ],
             [
              0.1111111111111111,
              "#46039f"
             ],
             [
              0.2222222222222222,
              "#7201a8"
             ],
             [
              0.3333333333333333,
              "#9c179e"
             ],
             [
              0.4444444444444444,
              "#bd3786"
             ],
             [
              0.5555555555555556,
              "#d8576b"
             ],
             [
              0.6666666666666666,
              "#ed7953"
             ],
             [
              0.7777777777777778,
              "#fb9f3a"
             ],
             [
              0.8888888888888888,
              "#fdca26"
             ],
             [
              1,
              "#f0f921"
             ]
            ],
            "type": "contour"
           }
          ],
          "contourcarpet": [
           {
            "colorbar": {
             "outlinewidth": 0,
             "ticks": ""
            },
            "type": "contourcarpet"
           }
          ],
          "heatmap": [
           {
            "colorbar": {
             "outlinewidth": 0,
             "ticks": ""
            },
            "colorscale": [
             [
              0,
              "#0d0887"
             ],
             [
              0.1111111111111111,
              "#46039f"
             ],
             [
              0.2222222222222222,
              "#7201a8"
             ],
             [
              0.3333333333333333,
              "#9c179e"
             ],
             [
              0.4444444444444444,
              "#bd3786"
             ],
             [
              0.5555555555555556,
              "#d8576b"
             ],
             [
              0.6666666666666666,
              "#ed7953"
             ],
             [
              0.7777777777777778,
              "#fb9f3a"
             ],
             [
              0.8888888888888888,
              "#fdca26"
             ],
             [
              1,
              "#f0f921"
             ]
            ],
            "type": "heatmap"
           }
          ],
          "heatmapgl": [
           {
            "colorbar": {
             "outlinewidth": 0,
             "ticks": ""
            },
            "colorscale": [
             [
              0,
              "#0d0887"
             ],
             [
              0.1111111111111111,
              "#46039f"
             ],
             [
              0.2222222222222222,
              "#7201a8"
             ],
             [
              0.3333333333333333,
              "#9c179e"
             ],
             [
              0.4444444444444444,
              "#bd3786"
             ],
             [
              0.5555555555555556,
              "#d8576b"
             ],
             [
              0.6666666666666666,
              "#ed7953"
             ],
             [
              0.7777777777777778,
              "#fb9f3a"
             ],
             [
              0.8888888888888888,
              "#fdca26"
             ],
             [
              1,
              "#f0f921"
             ]
            ],
            "type": "heatmapgl"
           }
          ],
          "histogram": [
           {
            "marker": {
             "pattern": {
              "fillmode": "overlay",
              "size": 10,
              "solidity": 0.2
             }
            },
            "type": "histogram"
           }
          ],
          "histogram2d": [
           {
            "colorbar": {
             "outlinewidth": 0,
             "ticks": ""
            },
            "colorscale": [
             [
              0,
              "#0d0887"
             ],
             [
              0.1111111111111111,
              "#46039f"
             ],
             [
              0.2222222222222222,
              "#7201a8"
             ],
             [
              0.3333333333333333,
              "#9c179e"
             ],
             [
              0.4444444444444444,
              "#bd3786"
             ],
             [
              0.5555555555555556,
              "#d8576b"
             ],
             [
              0.6666666666666666,
              "#ed7953"
             ],
             [
              0.7777777777777778,
              "#fb9f3a"
             ],
             [
              0.8888888888888888,
              "#fdca26"
             ],
             [
              1,
              "#f0f921"
             ]
            ],
            "type": "histogram2d"
           }
          ],
          "histogram2dcontour": [
           {
            "colorbar": {
             "outlinewidth": 0,
             "ticks": ""
            },
            "colorscale": [
             [
              0,
              "#0d0887"
             ],
             [
              0.1111111111111111,
              "#46039f"
             ],
             [
              0.2222222222222222,
              "#7201a8"
             ],
             [
              0.3333333333333333,
              "#9c179e"
             ],
             [
              0.4444444444444444,
              "#bd3786"
             ],
             [
              0.5555555555555556,
              "#d8576b"
             ],
             [
              0.6666666666666666,
              "#ed7953"
             ],
             [
              0.7777777777777778,
              "#fb9f3a"
             ],
             [
              0.8888888888888888,
              "#fdca26"
             ],
             [
              1,
              "#f0f921"
             ]
            ],
            "type": "histogram2dcontour"
           }
          ],
          "mesh3d": [
           {
            "colorbar": {
             "outlinewidth": 0,
             "ticks": ""
            },
            "type": "mesh3d"
           }
          ],
          "parcoords": [
           {
            "line": {
             "colorbar": {
              "outlinewidth": 0,
              "ticks": ""
             }
            },
            "type": "parcoords"
           }
          ],
          "pie": [
           {
            "automargin": true,
            "type": "pie"
           }
          ],
          "scatter": [
           {
            "fillpattern": {
             "fillmode": "overlay",
             "size": 10,
             "solidity": 0.2
            },
            "type": "scatter"
           }
          ],
          "scatter3d": [
           {
            "line": {
             "colorbar": {
              "outlinewidth": 0,
              "ticks": ""
             }
            },
            "marker": {
             "colorbar": {
              "outlinewidth": 0,
              "ticks": ""
             }
            },
            "type": "scatter3d"
           }
          ],
          "scattercarpet": [
           {
            "marker": {
             "colorbar": {
              "outlinewidth": 0,
              "ticks": ""
             }
            },
            "type": "scattercarpet"
           }
          ],
          "scattergeo": [
           {
            "marker": {
             "colorbar": {
              "outlinewidth": 0,
              "ticks": ""
             }
            },
            "type": "scattergeo"
           }
          ],
          "scattergl": [
           {
            "marker": {
             "colorbar": {
              "outlinewidth": 0,
              "ticks": ""
             }
            },
            "type": "scattergl"
           }
          ],
          "scattermapbox": [
           {
            "marker": {
             "colorbar": {
              "outlinewidth": 0,
              "ticks": ""
             }
            },
            "type": "scattermapbox"
           }
          ],
          "scatterpolar": [
           {
            "marker": {
             "colorbar": {
              "outlinewidth": 0,
              "ticks": ""
             }
            },
            "type": "scatterpolar"
           }
          ],
          "scatterpolargl": [
           {
            "marker": {
             "colorbar": {
              "outlinewidth": 0,
              "ticks": ""
             }
            },
            "type": "scatterpolargl"
           }
          ],
          "scatterternary": [
           {
            "marker": {
             "colorbar": {
              "outlinewidth": 0,
              "ticks": ""
             }
            },
            "type": "scatterternary"
           }
          ],
          "surface": [
           {
            "colorbar": {
             "outlinewidth": 0,
             "ticks": ""
            },
            "colorscale": [
             [
              0,
              "#0d0887"
             ],
             [
              0.1111111111111111,
              "#46039f"
             ],
             [
              0.2222222222222222,
              "#7201a8"
             ],
             [
              0.3333333333333333,
              "#9c179e"
             ],
             [
              0.4444444444444444,
              "#bd3786"
             ],
             [
              0.5555555555555556,
              "#d8576b"
             ],
             [
              0.6666666666666666,
              "#ed7953"
             ],
             [
              0.7777777777777778,
              "#fb9f3a"
             ],
             [
              0.8888888888888888,
              "#fdca26"
             ],
             [
              1,
              "#f0f921"
             ]
            ],
            "type": "surface"
           }
          ],
          "table": [
           {
            "cells": {
             "fill": {
              "color": "#EBF0F8"
             },
             "line": {
              "color": "white"
             }
            },
            "header": {
             "fill": {
              "color": "#C8D4E3"
             },
             "line": {
              "color": "white"
             }
            },
            "type": "table"
           }
          ]
         },
         "layout": {
          "annotationdefaults": {
           "arrowcolor": "#2a3f5f",
           "arrowhead": 0,
           "arrowwidth": 1
          },
          "autotypenumbers": "strict",
          "coloraxis": {
           "colorbar": {
            "outlinewidth": 0,
            "ticks": ""
           }
          },
          "colorscale": {
           "diverging": [
            [
             0,
             "#8e0152"
            ],
            [
             0.1,
             "#c51b7d"
            ],
            [
             0.2,
             "#de77ae"
            ],
            [
             0.3,
             "#f1b6da"
            ],
            [
             0.4,
             "#fde0ef"
            ],
            [
             0.5,
             "#f7f7f7"
            ],
            [
             0.6,
             "#e6f5d0"
            ],
            [
             0.7,
             "#b8e186"
            ],
            [
             0.8,
             "#7fbc41"
            ],
            [
             0.9,
             "#4d9221"
            ],
            [
             1,
             "#276419"
            ]
           ],
           "sequential": [
            [
             0,
             "#0d0887"
            ],
            [
             0.1111111111111111,
             "#46039f"
            ],
            [
             0.2222222222222222,
             "#7201a8"
            ],
            [
             0.3333333333333333,
             "#9c179e"
            ],
            [
             0.4444444444444444,
             "#bd3786"
            ],
            [
             0.5555555555555556,
             "#d8576b"
            ],
            [
             0.6666666666666666,
             "#ed7953"
            ],
            [
             0.7777777777777778,
             "#fb9f3a"
            ],
            [
             0.8888888888888888,
             "#fdca26"
            ],
            [
             1,
             "#f0f921"
            ]
           ],
           "sequentialminus": [
            [
             0,
             "#0d0887"
            ],
            [
             0.1111111111111111,
             "#46039f"
            ],
            [
             0.2222222222222222,
             "#7201a8"
            ],
            [
             0.3333333333333333,
             "#9c179e"
            ],
            [
             0.4444444444444444,
             "#bd3786"
            ],
            [
             0.5555555555555556,
             "#d8576b"
            ],
            [
             0.6666666666666666,
             "#ed7953"
            ],
            [
             0.7777777777777778,
             "#fb9f3a"
            ],
            [
             0.8888888888888888,
             "#fdca26"
            ],
            [
             1,
             "#f0f921"
            ]
           ]
          },
          "colorway": [
           "#636efa",
           "#EF553B",
           "#00cc96",
           "#ab63fa",
           "#FFA15A",
           "#19d3f3",
           "#FF6692",
           "#B6E880",
           "#FF97FF",
           "#FECB52"
          ],
          "font": {
           "color": "#2a3f5f"
          },
          "geo": {
           "bgcolor": "white",
           "lakecolor": "white",
           "landcolor": "#E5ECF6",
           "showlakes": true,
           "showland": true,
           "subunitcolor": "white"
          },
          "hoverlabel": {
           "align": "left"
          },
          "hovermode": "closest",
          "mapbox": {
           "style": "light"
          },
          "paper_bgcolor": "white",
          "plot_bgcolor": "#E5ECF6",
          "polar": {
           "angularaxis": {
            "gridcolor": "white",
            "linecolor": "white",
            "ticks": ""
           },
           "bgcolor": "#E5ECF6",
           "radialaxis": {
            "gridcolor": "white",
            "linecolor": "white",
            "ticks": ""
           }
          },
          "scene": {
           "xaxis": {
            "backgroundcolor": "#E5ECF6",
            "gridcolor": "white",
            "gridwidth": 2,
            "linecolor": "white",
            "showbackground": true,
            "ticks": "",
            "zerolinecolor": "white"
           },
           "yaxis": {
            "backgroundcolor": "#E5ECF6",
            "gridcolor": "white",
            "gridwidth": 2,
            "linecolor": "white",
            "showbackground": true,
            "ticks": "",
            "zerolinecolor": "white"
           },
           "zaxis": {
            "backgroundcolor": "#E5ECF6",
            "gridcolor": "white",
            "gridwidth": 2,
            "linecolor": "white",
            "showbackground": true,
            "ticks": "",
            "zerolinecolor": "white"
           }
          },
          "shapedefaults": {
           "line": {
            "color": "#2a3f5f"
           }
          },
          "ternary": {
           "aaxis": {
            "gridcolor": "white",
            "linecolor": "white",
            "ticks": ""
           },
           "baxis": {
            "gridcolor": "white",
            "linecolor": "white",
            "ticks": ""
           },
           "bgcolor": "#E5ECF6",
           "caxis": {
            "gridcolor": "white",
            "linecolor": "white",
            "ticks": ""
           }
          },
          "title": {
           "x": 0.05
          },
          "xaxis": {
           "automargin": true,
           "gridcolor": "white",
           "linecolor": "white",
           "ticks": "",
           "title": {
            "standoff": 15
           },
           "zerolinecolor": "white",
           "zerolinewidth": 2
          },
          "yaxis": {
           "automargin": true,
           "gridcolor": "white",
           "linecolor": "white",
           "ticks": "",
           "title": {
            "standoff": 15
           },
           "zerolinecolor": "white",
           "zerolinewidth": 2
          }
         }
        },
        "title": {
         "text": "Molecular Orbital (MO) Occupations"
        },
        "xaxis": {
         "anchor": "y",
         "domain": [
          0,
          1
         ],
         "title": {
          "text": "Orbital Index (0-Based)"
         }
        },
        "yaxis": {
         "anchor": "x",
         "domain": [
          0,
          1
         ],
         "title": {
          "text": "MO Occupation"
         }
        }
       }
      }
     },
     "metadata": {},
     "output_type": "display_data"
    }
   ],
   "source": [
    "import plotly.express as px\n",
    "\n",
    "# Plot the MO Occupations\n",
    "fig = px.line(y=mf.mo_occ, markers=True, title=\"Molecular Orbital (MO) Occupations\")\n",
    "fig.update_layout(xaxis_title=\"Orbital Index (0-Based)\", yaxis_title=\"MO Occupation\")\n",
    "fig.show()"
   ]
  },
  {
   "cell_type": "code",
   "execution_count": 11,
   "metadata": {},
   "outputs": [
    {
     "data": {
      "application/vnd.plotly.v1+json": {
       "config": {
        "plotlyServerURL": "https://plot.ly"
       },
       "data": [
        {
         "hovertemplate": "x=%{x}<br>y=%{y}<extra></extra>",
         "legendgroup": "",
         "line": {
          "color": "#636efa",
          "dash": "solid"
         },
         "marker": {
          "symbol": "circle"
         },
         "mode": "markers+lines",
         "name": "",
         "orientation": "v",
         "showlegend": false,
         "type": "scatter",
         "x": [
          0,
          1,
          2,
          3,
          4,
          5,
          6,
          7,
          8,
          9,
          10,
          11,
          12,
          13,
          14,
          15,
          16,
          17,
          18,
          19,
          20,
          21,
          22,
          23,
          24,
          25,
          26,
          27,
          28,
          29,
          30,
          31,
          32,
          33,
          34,
          35,
          36,
          37,
          38,
          39,
          40,
          41,
          42,
          43,
          44,
          45,
          46,
          47
         ],
         "xaxis": "x",
         "y": [
          -20.58414343406061,
          -20.51610680236525,
          -1.36903892745454,
          -1.3036942020990712,
          -0.7297193468184447,
          -0.6744284615941052,
          -0.6003942312473701,
          -0.5432219578327134,
          -0.5148171097193874,
          -0.4624078745626727,
          0.16387906420662118,
          0.23147111284479155,
          0.2402611193851247,
          0.38033021124120003,
          0.7595366110040094,
          0.8081671988949355,
          0.8442156385784596,
          0.866696911674317,
          1.1259093083645604,
          1.2007296906773781,
          1.2061421328020097,
          1.2372783912833334,
          1.27134411174567,
          1.3181188022478156,
          1.4485121571636081,
          1.4493996996772869,
          1.4943174640155479,
          1.5188637053498717,
          1.6939644255619077,
          1.7059642902177787,
          1.807156772961491,
          1.9229817861349279,
          1.971061536234018,
          2.0440327968977323,
          2.4223387229906397,
          2.451527418077826,
          2.501419515743543,
          2.728133559998132,
          3.251101867766785,
          3.2971031653591076,
          3.3208228337538923,
          3.369774057216085,
          3.4852412742720396,
          3.5434206419738814,
          3.8431584011214097,
          3.9043698246119765,
          4.123242769540474,
          4.192306508334681
         ],
         "yaxis": "y"
        }
       ],
       "layout": {
        "legend": {
         "tracegroupgap": 0
        },
        "template": {
         "data": {
          "bar": [
           {
            "error_x": {
             "color": "#2a3f5f"
            },
            "error_y": {
             "color": "#2a3f5f"
            },
            "marker": {
             "line": {
              "color": "#E5ECF6",
              "width": 0.5
             },
             "pattern": {
              "fillmode": "overlay",
              "size": 10,
              "solidity": 0.2
             }
            },
            "type": "bar"
           }
          ],
          "barpolar": [
           {
            "marker": {
             "line": {
              "color": "#E5ECF6",
              "width": 0.5
             },
             "pattern": {
              "fillmode": "overlay",
              "size": 10,
              "solidity": 0.2
             }
            },
            "type": "barpolar"
           }
          ],
          "carpet": [
           {
            "aaxis": {
             "endlinecolor": "#2a3f5f",
             "gridcolor": "white",
             "linecolor": "white",
             "minorgridcolor": "white",
             "startlinecolor": "#2a3f5f"
            },
            "baxis": {
             "endlinecolor": "#2a3f5f",
             "gridcolor": "white",
             "linecolor": "white",
             "minorgridcolor": "white",
             "startlinecolor": "#2a3f5f"
            },
            "type": "carpet"
           }
          ],
          "choropleth": [
           {
            "colorbar": {
             "outlinewidth": 0,
             "ticks": ""
            },
            "type": "choropleth"
           }
          ],
          "contour": [
           {
            "colorbar": {
             "outlinewidth": 0,
             "ticks": ""
            },
            "colorscale": [
             [
              0,
              "#0d0887"
             ],
             [
              0.1111111111111111,
              "#46039f"
             ],
             [
              0.2222222222222222,
              "#7201a8"
             ],
             [
              0.3333333333333333,
              "#9c179e"
             ],
             [
              0.4444444444444444,
              "#bd3786"
             ],
             [
              0.5555555555555556,
              "#d8576b"
             ],
             [
              0.6666666666666666,
              "#ed7953"
             ],
             [
              0.7777777777777778,
              "#fb9f3a"
             ],
             [
              0.8888888888888888,
              "#fdca26"
             ],
             [
              1,
              "#f0f921"
             ]
            ],
            "type": "contour"
           }
          ],
          "contourcarpet": [
           {
            "colorbar": {
             "outlinewidth": 0,
             "ticks": ""
            },
            "type": "contourcarpet"
           }
          ],
          "heatmap": [
           {
            "colorbar": {
             "outlinewidth": 0,
             "ticks": ""
            },
            "colorscale": [
             [
              0,
              "#0d0887"
             ],
             [
              0.1111111111111111,
              "#46039f"
             ],
             [
              0.2222222222222222,
              "#7201a8"
             ],
             [
              0.3333333333333333,
              "#9c179e"
             ],
             [
              0.4444444444444444,
              "#bd3786"
             ],
             [
              0.5555555555555556,
              "#d8576b"
             ],
             [
              0.6666666666666666,
              "#ed7953"
             ],
             [
              0.7777777777777778,
              "#fb9f3a"
             ],
             [
              0.8888888888888888,
              "#fdca26"
             ],
             [
              1,
              "#f0f921"
             ]
            ],
            "type": "heatmap"
           }
          ],
          "heatmapgl": [
           {
            "colorbar": {
             "outlinewidth": 0,
             "ticks": ""
            },
            "colorscale": [
             [
              0,
              "#0d0887"
             ],
             [
              0.1111111111111111,
              "#46039f"
             ],
             [
              0.2222222222222222,
              "#7201a8"
             ],
             [
              0.3333333333333333,
              "#9c179e"
             ],
             [
              0.4444444444444444,
              "#bd3786"
             ],
             [
              0.5555555555555556,
              "#d8576b"
             ],
             [
              0.6666666666666666,
              "#ed7953"
             ],
             [
              0.7777777777777778,
              "#fb9f3a"
             ],
             [
              0.8888888888888888,
              "#fdca26"
             ],
             [
              1,
              "#f0f921"
             ]
            ],
            "type": "heatmapgl"
           }
          ],
          "histogram": [
           {
            "marker": {
             "pattern": {
              "fillmode": "overlay",
              "size": 10,
              "solidity": 0.2
             }
            },
            "type": "histogram"
           }
          ],
          "histogram2d": [
           {
            "colorbar": {
             "outlinewidth": 0,
             "ticks": ""
            },
            "colorscale": [
             [
              0,
              "#0d0887"
             ],
             [
              0.1111111111111111,
              "#46039f"
             ],
             [
              0.2222222222222222,
              "#7201a8"
             ],
             [
              0.3333333333333333,
              "#9c179e"
             ],
             [
              0.4444444444444444,
              "#bd3786"
             ],
             [
              0.5555555555555556,
              "#d8576b"
             ],
             [
              0.6666666666666666,
              "#ed7953"
             ],
             [
              0.7777777777777778,
              "#fb9f3a"
             ],
             [
              0.8888888888888888,
              "#fdca26"
             ],
             [
              1,
              "#f0f921"
             ]
            ],
            "type": "histogram2d"
           }
          ],
          "histogram2dcontour": [
           {
            "colorbar": {
             "outlinewidth": 0,
             "ticks": ""
            },
            "colorscale": [
             [
              0,
              "#0d0887"
             ],
             [
              0.1111111111111111,
              "#46039f"
             ],
             [
              0.2222222222222222,
              "#7201a8"
             ],
             [
              0.3333333333333333,
              "#9c179e"
             ],
             [
              0.4444444444444444,
              "#bd3786"
             ],
             [
              0.5555555555555556,
              "#d8576b"
             ],
             [
              0.6666666666666666,
              "#ed7953"
             ],
             [
              0.7777777777777778,
              "#fb9f3a"
             ],
             [
              0.8888888888888888,
              "#fdca26"
             ],
             [
              1,
              "#f0f921"
             ]
            ],
            "type": "histogram2dcontour"
           }
          ],
          "mesh3d": [
           {
            "colorbar": {
             "outlinewidth": 0,
             "ticks": ""
            },
            "type": "mesh3d"
           }
          ],
          "parcoords": [
           {
            "line": {
             "colorbar": {
              "outlinewidth": 0,
              "ticks": ""
             }
            },
            "type": "parcoords"
           }
          ],
          "pie": [
           {
            "automargin": true,
            "type": "pie"
           }
          ],
          "scatter": [
           {
            "fillpattern": {
             "fillmode": "overlay",
             "size": 10,
             "solidity": 0.2
            },
            "type": "scatter"
           }
          ],
          "scatter3d": [
           {
            "line": {
             "colorbar": {
              "outlinewidth": 0,
              "ticks": ""
             }
            },
            "marker": {
             "colorbar": {
              "outlinewidth": 0,
              "ticks": ""
             }
            },
            "type": "scatter3d"
           }
          ],
          "scattercarpet": [
           {
            "marker": {
             "colorbar": {
              "outlinewidth": 0,
              "ticks": ""
             }
            },
            "type": "scattercarpet"
           }
          ],
          "scattergeo": [
           {
            "marker": {
             "colorbar": {
              "outlinewidth": 0,
              "ticks": ""
             }
            },
            "type": "scattergeo"
           }
          ],
          "scattergl": [
           {
            "marker": {
             "colorbar": {
              "outlinewidth": 0,
              "ticks": ""
             }
            },
            "type": "scattergl"
           }
          ],
          "scattermapbox": [
           {
            "marker": {
             "colorbar": {
              "outlinewidth": 0,
              "ticks": ""
             }
            },
            "type": "scattermapbox"
           }
          ],
          "scatterpolar": [
           {
            "marker": {
             "colorbar": {
              "outlinewidth": 0,
              "ticks": ""
             }
            },
            "type": "scatterpolar"
           }
          ],
          "scatterpolargl": [
           {
            "marker": {
             "colorbar": {
              "outlinewidth": 0,
              "ticks": ""
             }
            },
            "type": "scatterpolargl"
           }
          ],
          "scatterternary": [
           {
            "marker": {
             "colorbar": {
              "outlinewidth": 0,
              "ticks": ""
             }
            },
            "type": "scatterternary"
           }
          ],
          "surface": [
           {
            "colorbar": {
             "outlinewidth": 0,
             "ticks": ""
            },
            "colorscale": [
             [
              0,
              "#0d0887"
             ],
             [
              0.1111111111111111,
              "#46039f"
             ],
             [
              0.2222222222222222,
              "#7201a8"
             ],
             [
              0.3333333333333333,
              "#9c179e"
             ],
             [
              0.4444444444444444,
              "#bd3786"
             ],
             [
              0.5555555555555556,
              "#d8576b"
             ],
             [
              0.6666666666666666,
              "#ed7953"
             ],
             [
              0.7777777777777778,
              "#fb9f3a"
             ],
             [
              0.8888888888888888,
              "#fdca26"
             ],
             [
              1,
              "#f0f921"
             ]
            ],
            "type": "surface"
           }
          ],
          "table": [
           {
            "cells": {
             "fill": {
              "color": "#EBF0F8"
             },
             "line": {
              "color": "white"
             }
            },
            "header": {
             "fill": {
              "color": "#C8D4E3"
             },
             "line": {
              "color": "white"
             }
            },
            "type": "table"
           }
          ]
         },
         "layout": {
          "annotationdefaults": {
           "arrowcolor": "#2a3f5f",
           "arrowhead": 0,
           "arrowwidth": 1
          },
          "autotypenumbers": "strict",
          "coloraxis": {
           "colorbar": {
            "outlinewidth": 0,
            "ticks": ""
           }
          },
          "colorscale": {
           "diverging": [
            [
             0,
             "#8e0152"
            ],
            [
             0.1,
             "#c51b7d"
            ],
            [
             0.2,
             "#de77ae"
            ],
            [
             0.3,
             "#f1b6da"
            ],
            [
             0.4,
             "#fde0ef"
            ],
            [
             0.5,
             "#f7f7f7"
            ],
            [
             0.6,
             "#e6f5d0"
            ],
            [
             0.7,
             "#b8e186"
            ],
            [
             0.8,
             "#7fbc41"
            ],
            [
             0.9,
             "#4d9221"
            ],
            [
             1,
             "#276419"
            ]
           ],
           "sequential": [
            [
             0,
             "#0d0887"
            ],
            [
             0.1111111111111111,
             "#46039f"
            ],
            [
             0.2222222222222222,
             "#7201a8"
            ],
            [
             0.3333333333333333,
             "#9c179e"
            ],
            [
             0.4444444444444444,
             "#bd3786"
            ],
            [
             0.5555555555555556,
             "#d8576b"
            ],
            [
             0.6666666666666666,
             "#ed7953"
            ],
            [
             0.7777777777777778,
             "#fb9f3a"
            ],
            [
             0.8888888888888888,
             "#fdca26"
            ],
            [
             1,
             "#f0f921"
            ]
           ],
           "sequentialminus": [
            [
             0,
             "#0d0887"
            ],
            [
             0.1111111111111111,
             "#46039f"
            ],
            [
             0.2222222222222222,
             "#7201a8"
            ],
            [
             0.3333333333333333,
             "#9c179e"
            ],
            [
             0.4444444444444444,
             "#bd3786"
            ],
            [
             0.5555555555555556,
             "#d8576b"
            ],
            [
             0.6666666666666666,
             "#ed7953"
            ],
            [
             0.7777777777777778,
             "#fb9f3a"
            ],
            [
             0.8888888888888888,
             "#fdca26"
            ],
            [
             1,
             "#f0f921"
            ]
           ]
          },
          "colorway": [
           "#636efa",
           "#EF553B",
           "#00cc96",
           "#ab63fa",
           "#FFA15A",
           "#19d3f3",
           "#FF6692",
           "#B6E880",
           "#FF97FF",
           "#FECB52"
          ],
          "font": {
           "color": "#2a3f5f"
          },
          "geo": {
           "bgcolor": "white",
           "lakecolor": "white",
           "landcolor": "#E5ECF6",
           "showlakes": true,
           "showland": true,
           "subunitcolor": "white"
          },
          "hoverlabel": {
           "align": "left"
          },
          "hovermode": "closest",
          "mapbox": {
           "style": "light"
          },
          "paper_bgcolor": "white",
          "plot_bgcolor": "#E5ECF6",
          "polar": {
           "angularaxis": {
            "gridcolor": "white",
            "linecolor": "white",
            "ticks": ""
           },
           "bgcolor": "#E5ECF6",
           "radialaxis": {
            "gridcolor": "white",
            "linecolor": "white",
            "ticks": ""
           }
          },
          "scene": {
           "xaxis": {
            "backgroundcolor": "#E5ECF6",
            "gridcolor": "white",
            "gridwidth": 2,
            "linecolor": "white",
            "showbackground": true,
            "ticks": "",
            "zerolinecolor": "white"
           },
           "yaxis": {
            "backgroundcolor": "#E5ECF6",
            "gridcolor": "white",
            "gridwidth": 2,
            "linecolor": "white",
            "showbackground": true,
            "ticks": "",
            "zerolinecolor": "white"
           },
           "zaxis": {
            "backgroundcolor": "#E5ECF6",
            "gridcolor": "white",
            "gridwidth": 2,
            "linecolor": "white",
            "showbackground": true,
            "ticks": "",
            "zerolinecolor": "white"
           }
          },
          "shapedefaults": {
           "line": {
            "color": "#2a3f5f"
           }
          },
          "ternary": {
           "aaxis": {
            "gridcolor": "white",
            "linecolor": "white",
            "ticks": ""
           },
           "baxis": {
            "gridcolor": "white",
            "linecolor": "white",
            "ticks": ""
           },
           "bgcolor": "#E5ECF6",
           "caxis": {
            "gridcolor": "white",
            "linecolor": "white",
            "ticks": ""
           }
          },
          "title": {
           "x": 0.05
          },
          "xaxis": {
           "automargin": true,
           "gridcolor": "white",
           "linecolor": "white",
           "ticks": "",
           "title": {
            "standoff": 15
           },
           "zerolinecolor": "white",
           "zerolinewidth": 2
          },
          "yaxis": {
           "automargin": true,
           "gridcolor": "white",
           "linecolor": "white",
           "ticks": "",
           "title": {
            "standoff": 15
           },
           "zerolinecolor": "white",
           "zerolinewidth": 2
          }
         }
        },
        "title": {
         "text": "Molecular Orbital (MO) Energies"
        },
        "xaxis": {
         "anchor": "y",
         "domain": [
          0,
          1
         ],
         "title": {
          "text": "Orbital Index (0-Based)"
         }
        },
        "yaxis": {
         "anchor": "x",
         "domain": [
          0,
          1
         ],
         "title": {
          "text": "MO Energies"
         }
        }
       }
      }
     },
     "metadata": {},
     "output_type": "display_data"
    }
   ],
   "source": [
    "# Plot the MO Energies (i.e. eigenvalues of the Fock matrix)\n",
    "fig = px.line(y=mf.mo_energy, markers=True, title=\"Molecular Orbital (MO) Energies\")\n",
    "fig.update_layout(xaxis_title=\"Orbital Index (0-Based)\", yaxis_title=\"MO Energies\")\n",
    "fig.show()"
   ]
  },
  {
   "cell_type": "markdown",
   "metadata": {},
   "source": [
    "Pour avoir les indexes du LUMO et l'HOMO"
   ]
  },
  {
   "cell_type": "code",
   "execution_count": 12,
   "metadata": {},
   "outputs": [
    {
     "name": "stdout",
     "output_type": "stream",
     "text": [
      "Les indexes du (HOMO,LUMO) sont (9, 10)\n"
     ]
    }
   ],
   "source": [
    "lumo_idx = mf.mo_occ.tolist().index(0.)\n",
    "homo_idx = lumo_idx - 1\n",
    "print(f'Les indexes du (HOMO,LUMO) sont {homo_idx,lumo_idx}')"
   ]
  },
  {
   "cell_type": "markdown",
   "metadata": {},
   "source": [
    "2. Energies Homo, Lumo et gap"
   ]
  },
  {
   "cell_type": "code",
   "execution_count": 18,
   "metadata": {},
   "outputs": [
    {
     "name": "stdout",
     "output_type": "stream",
     "text": [
      "Energie du Homo en eV = -12.582759173412773\n",
      "Energie de Lumo en eV = 4.459376476722592\n",
      "Energie du gap Homo-Lumo en eV = 17.042135650135364\n"
     ]
    }
   ],
   "source": [
    "from pyscf.data import nist\n",
    "au2ev = nist.HARTREE2EV\n",
    "\n",
    "print(f'Energie du Homo en eV = {mf.mo_energy[homo_idx]*au2ev}')\n",
    "print(f'Energie de Lumo en eV = {mf.mo_energy[lumo_idx]*au2ev}')\n",
    "print(f'Energie du gap Homo-Lumo en eV = {abs(mf.mo_energy[homo_idx] - mf.mo_energy[lumo_idx])*au2ev}')"
   ]
  },
  {
   "cell_type": "markdown",
   "metadata": {},
   "source": [
    "2. `mf.e_tot` - Énergie SCF totale en unités de Hartrees"
   ]
  },
  {
   "cell_type": "code",
   "execution_count": null,
   "metadata": {},
   "outputs": [
    {
     "data": {
      "text/plain": [
       "-152.06253624962068"
      ]
     },
     "execution_count": 11,
     "metadata": {},
     "output_type": "execute_result"
    }
   ],
   "source": [
    "mf.e_tot"
   ]
  },
  {
   "cell_type": "markdown",
   "metadata": {},
   "source": [
    "On peut aussi spécifier les paramètres de calculs du mf."
   ]
  },
  {
   "cell_type": "code",
   "execution_count": 12,
   "metadata": {},
   "outputs": [
    {
     "name": "stdout",
     "output_type": "stream",
     "text": [
      "\n",
      "\n",
      "******** <class 'pyscf.scf.hf.RHF'> ********\n",
      "method = RHF\n",
      "initial guess = atom\n",
      "damping factor = 0\n",
      "level_shift factor = 0\n",
      "DIIS = <class 'pyscf.scf.diis.CDIIS'>\n",
      "diis_start_cycle = 1\n",
      "diis_space = 8\n",
      "SCF conv_tol = 1e-12\n",
      "SCF conv_tol_grad = 1e-08\n",
      "SCF max_cycles = 100\n",
      "direct_scf = True\n",
      "direct_scf_tol = 1e-13\n",
      "chkfile to save SCF result = /tmp/tmpx6bzo2ls\n",
      "max_memory 4000 MB (current use 179 MB)\n",
      "Initial guess from superposition of atomic densities.\n",
      "init E= -151.923910263398\n",
      "  HOMO = -0.506362393579807  LUMO = 0.0601582773341821\n",
      "cycle= 1 E= -151.971261051283  delta_E= -0.0474  |g|= 0.695  |ddm|=  1.9\n",
      "  HOMO = -0.355909241468547  LUMO = 0.165885627805501\n",
      "cycle= 2 E= -152.039403644196  delta_E= -0.0681  |g|= 0.363  |ddm|= 0.594\n",
      "  HOMO = -0.463346026699718  LUMO = 0.158515477200661\n",
      "cycle= 3 E= -152.062105921212  delta_E= -0.0227  |g|= 0.035  |ddm|= 0.207\n",
      "  HOMO = -0.460540265791267  LUMO = 0.164019165927361\n",
      "cycle= 4 E= -152.062505679448  delta_E= -0.0004  |g|= 0.0081  |ddm|= 0.0317\n",
      "  HOMO = -0.461659141658478  LUMO = 0.163898639070888\n",
      "cycle= 5 E= -152.062534616814  delta_E= -2.89e-05  |g|= 0.00191  |ddm|= 0.00996\n",
      "  HOMO = -0.462450130823757  LUMO = 0.163911506477013\n",
      "cycle= 6 E= -152.062536061815  delta_E= -1.45e-06  |g|= 0.000818  |ddm|= 0.00233\n",
      "  HOMO = -0.462369337352159  LUMO = 0.163874247626066\n",
      "cycle= 7 E= -152.062536241695  delta_E= -1.8e-07  |g|= 0.000128  |ddm|= 0.000767\n",
      "  HOMO = -0.462409218104308  LUMO = 0.163878796573019\n",
      "cycle= 8 E= -152.06253624947  delta_E= -7.77e-09  |g|= 1.44e-05  |ddm|= 0.00021\n",
      "  HOMO = -0.462408382991107  LUMO = 0.163878891738747\n",
      "cycle= 9 E= -152.062536249607  delta_E= -1.37e-10  |g|= 4.4e-06  |ddm|= 2.54e-05\n",
      "  HOMO = -0.462407874982132  LUMO = 0.163879139369178\n",
      "cycle= 10 E= -152.062536249622  delta_E= -1.49e-11  |g|= 1.06e-06  |ddm|= 9.32e-06\n",
      "  HOMO = -0.462407837176343  LUMO = 0.163879090568889\n",
      "cycle= 11 E= -152.062536249624  delta_E= -1.82e-12  |g|= 2.3e-07  |ddm|= 2.58e-06\n",
      "  HOMO = -0.46240779780807  LUMO = 0.163879088909169\n",
      "cycle= 12 E= -152.062536249624  delta_E= -5.68e-14  |g|= 7.27e-08  |ddm|= 5.27e-07\n",
      "  HOMO = -0.462407820511386  LUMO = 0.16387908245997\n",
      "cycle= 13 E= -152.062536249623  delta_E= 6.82e-13  |g|= 2.67e-08  |ddm|= 1.08e-07\n",
      "  HOMO = -0.462407818784502  LUMO = 0.163879082285856\n",
      "cycle= 14 E= -152.062536249624  delta_E= -5.68e-13  |g|= 1.3e-08  |ddm|= 2.91e-08\n",
      "  HOMO = -0.46240781854811  LUMO = 0.163879082417778\n",
      "cycle= 15 E= -152.062536249624  delta_E= -5.68e-14  |g|= 7.64e-09  |ddm|= 9.66e-09\n",
      "  HOMO = -0.462407816095685  LUMO = 0.163879082611821\n",
      "Extra cycle  E= -152.062536249623  delta_E= 2.27e-13  |g|= 3.83e-09  |ddm|= 9.35e-09\n",
      "converged SCF energy = -152.062536249623\n"
     ]
    },
    {
     "data": {
      "text/plain": [
       "-152.0625362496234"
      ]
     },
     "execution_count": 12,
     "metadata": {},
     "output_type": "execute_result"
    }
   ],
   "source": [
    "mf=scf.RHF(DWat_mol)\n",
    "\n",
    "mf.conv_tol=1e-12 # the difference in the SCF energy (in Hartrees) between two successive cycles\n",
    "mf.conv_tol_grad=1e-8 # the root-mean-square of the orbital gradient\n",
    "mf.direct_scf_tol=1e-13 #the threshold for discarding integrals\n",
    "mf.init_guess='atom' #  vital for the efficient completion of the SCF procedure\n",
    "mf.max_cycle=100 # the maximum number of SCF cycles that should be performed before the calculation terminates. For systems that are notoriously difficult to converge, the value should be increased to 100 or even 1000\n",
    "mf.max_memory=4000 #determines the maximum amount of memory (in Megabytes) that PySCF is allowed to utilize during the SCF procedure\n",
    "mf.verbose=4 #controls the print level for the mean-field objec\n",
    "\n",
    "mf.kernel()"
   ]
  },
  {
   "cell_type": "markdown",
   "metadata": {},
   "source": [
    "### <a id='toc1_4_3_'></a>[Création d'un objet mean-field (mf) avec `scf.RKS()`](#toc0_)\n",
    "\n",
    "La méthode SCF la plus largement utilisée en chimie quantique est sans aucun doute la théorie de la fonctionnelle de la densité (DFT), et exécuter un calcul DFT dans PySCF est presque aussi simple que d'exécuter un calcul Hartree-Fock.\n",
    "\n",
    "Afin d'accéder à des fonctions supplémentaires qui ne relèvent pas de la norme SCF/HF, il est nécessaire d'importer le module dft (théorie fonctionnelle de la densité)."
   ]
  },
  {
   "cell_type": "code",
   "execution_count": 13,
   "metadata": {},
   "outputs": [
    {
     "name": "stderr",
     "output_type": "stream",
     "text": [
      "/home/taamangtchu/mambaforge/lib/python3.10/site-packages/pyscf/dft/libxc.py:771: UserWarning:\n",
      "\n",
      "Since PySCF-2.3, B3LYP (and B3P86) are changed to the VWN-RPA variant, corresponding to the original definition by Stephens et al. (issue 1480) and the same as the B3LYP functional in Gaussian. To restore the VWN5 definition, you can put the setting \"B3LYP_WITH_VWN5 = True\" in pyscf_conf.py\n",
      "\n"
     ]
    },
    {
     "data": {
      "text/plain": [
       "-152.8537288406298"
      ]
     },
     "execution_count": 13,
     "metadata": {},
     "output_type": "execute_result"
    }
   ],
   "source": [
    "from pyscf import dft\n",
    "\n",
    "mfd=dft.KS(DWat_mol)\n",
    "\n",
    "mfd.conv_tol=1e-12\n",
    "mfd.conv_tol_grad=1e-8\n",
    "mfd.direct_scf_tol=1e-13\n",
    "mfd.init_guess='atom'\n",
    "mfd.max_cycle=100\n",
    "mfd.max_memory=8000\n",
    "mfd.verbose=0\n",
    "\n",
    "mfd.xc='B3LYP' # la fonctionnelle\n",
    "mfd.grids.atom_grid=(50,194)\n",
    "mfd.grids.becke_scheme=dft.gen_grid.original_becke\n",
    "mfd.grids.prune=None\n",
    "mfd.grids.radi_method=dft.radi.gauss_chebyshev\n",
    "mfd.grids.radii_adjust=None\n",
    "mfd.grids.verbose=0\n",
    "mfd.small_rho_cutoff=1e-10\n",
    "\n",
    "mfd.kernel()"
   ]
  },
  {
   "cell_type": "markdown",
   "metadata": {},
   "source": [
    "RHF et RKS (ainsi que UHF et UKS) partagent de nombreux attributs, nous ne couvrirons donc que ceux qui concernent spécifiquement DFT. Ces attributs supplémentaires concernent principalement la fonctionnelle d'échange-corrélation et le maillage utilisé pour son intégration numérique.\n",
    "\n",
    "#### <a id='toc1_4_3_1_'></a>[Attribut xc](#toc0_)\n",
    "\n",
    "(NO DEFAULT)\n",
    "\n",
    "L'attribut xc définit l'approximation de la fonctionnelle de la densité. Un grand nombre de fonctionnalles de corrélation-échange sont disponibles pour une utilisation dans PySCF, essentiellement toutes celles qui sont disponibles dans la version installée de libxc.\n",
    "\n",
    "![DFT_Accuracy.jpg](./Graphics/DFT_Accuracy.jpg)\n",
    "\n",
    "<!-- <center><img src=\"Graphics/DFT_Accuracy.jpg\" width=\"450\"/></center> -->\n",
    "\n",
    "Les règles d'analyse de l'attribut xc soient expliquées dans le [manuel PySCF](http://sunqm.github.io/pyscf/dft.html#customizing-xc-functional). Nous allons passer en revue les principaux exemples pertinents ici :\n",
    "\n",
    "1. Fonctionnalité de corrélation-échange standard (précodée)\n",
    "\n",
    "   * Un exemple classique de ce scénario est la très populaire fonction `B3LYP`. Pour exécuter un calcul B3LYP, spécifiez simplement `mf.xc='B3LYP'`.\n",
    "  \n",
    "   * Tant que les virgules et les opérateurs ne sont pas utilisés, PySCF supposera que la chaîne indique une fonction de corrélation-échange complète. D'autres exemples peuvent inclure `mf.xc='PBE'`, `mf.xc='TPSS'`, `mf.xc='M06-L'`, etc.\n",
    "\n",
    "2. Combinaison d'une fonction d'échange unique avec une fonction de corrélation unique\n",
    "\n",
    "   * Il s'agit d'un choix populaire, en particulier pour l'utilisation de diverses combinaisons des anciennes fonctionnelles d'échange et de corrélation des années 1980 et 1990.\n",
    "  \n",
    "   * Dans PySCF, l'insertion d'une virgule dans la chaîne d'attribut xc indique une séparation entre l'échange (à gauche de la virgule) et la corrélation (à droite de la virgule). Par exemple, si on veut exécuter un échange B88 avec une corrélation PBE, on indique `mf.xc='B88,PBE'`.\n",
    "  \n",
    "   * Étant donné que la fonctionnelle de corrélation-échange PBE est une combinaison d'échange PBE et de corrélation PBE, il s'ensuit que `mf.xc='PBE'` et `mf.xc='PBE,PBE'` sont des façons exactement équivalentes d'utiliser la fonctionnelle PBE.\n",
    "  \n",
    "   * D'autres combinaisons populaires d'une fonction d'échange unique avec une fonction de corrélation unique incluent `mf.xc='B88,LYP'`, `mf.xc='revPBE,PBE'` et `mf.xc='OPTX,LYP' `. Ces combinaisons sont historiquement connues sous le nom de BLYP, revPBE et OLYP, et peuvent être appelées de manière équivalente `mf.xc='BLYP'`, `mf.xc='revPBE'` et `mf.xc='OLYP'`.\n",
    "  \n",
    "   * Cette option est particulièrement utile lorsque l'on s'intéresse à une combinaison non conventionnelle, par exemple, la combinaison d'échange PBE avec corrélation TPSS, `mf.xc='PBE,TPSS'`.\n",
    "\n",
    "3. Fonction d'échange unique ou fonction de corrélation unique\n",
    "\n",
    "   * L'utilisation d'une fonctionnelle d'échange unique, par exemple, l'échange PBE uniquement, est aussi simple que `mf.xc='PBE,'`. De même, la corrélation PBE ne peut être spécifiée qu'avec `mf.xc=',PBE'`. Dans le premier cas (échange PBE uniquement), le fait qu'il y ait une virgule indique à l'analyseur syntaxique qu'une fonctionnelle xc précodée n'est pas utilisée. Par conséquent, tout ce qui se trouve à gauche de la virgule (PBE) est considéré comme la fonctionnelle d'échange, tandis que tout ce qui se trouve à droite de la virgule (rien) est considéré comme la fonctionnelle de corrélation. La situation inverse s'applique au deuxième cas avec corrélation PBE uniquement.\n",
    "\n",
    "4. Fonctionnalité de corrélation-échange personnalisée\n",
    "\n",
    "   * Naturellement, il est possible de personnaliser entièrement l'attribut xc. Encore une fois, tout ce qui se trouve à gauche de la virgule est supposé faire référence à l'échange, et tout ce qui se trouve à droite de la virgule est supposé faire référence à la corrélation.\n",
    "  \n",
    "   * Afin de commencer avec quelque chose de simple, nous montrerons comment spécifier la fonctionnelle xc [PBE0](https://aip.scitation.org/doi/abs/10.1063/1.478522) en la construisant à partir de ses composants (la fonctionnelle facile s'écrit simplement `mf.xc='PBE0'`). Le PBE0 comprend 25 % d'échange exact (Hartree-Fock), 75 % d'échange PBE et 100 % de corrélation PBE : `mf.xc='0.25*HF+0.75*PBE,PBE'`.\n",
    "  \n",
    "   * Un exemple plus compliqué est celui de B3LYP. B3LYP comprend 20 % d'échange exact (Hartree-Fock), 8 % d'échange LDA, 72 % d'échange B88, 19 % de corrélation VWN et 81 % de corrélation LYP. Malheureusement, il existe 6 paramétrages de la fonctionnelle de corrélation VWN LDA, ce qui a conduit à beaucoup de confusion au fil des ans.\n",
    "  \n",
    "   * PySCF, TURBOMOLE, GAMESS, ORCA et PSI4 utilisent tous le paramétrage VWN5, et les deux affectations suivantes sont équivalentes :\n",
    "     * `mf.xc='B3LYP'`\n",
    "     * `mf.xc='0.2*HF+0.08*LDA+0.72*B88,0.19*VWN5+0.81*LYP'`\n",
    "   * Q-Chem et NWChem utilisent le paramétrage VWN1RPA :\n",
    "     * `mf.xc='0.2*HF+0.08*LDA+0.72*B88,0.19*VWN_RPA+0.81*LYP'`\n",
    "   * Gaussian utilise la paramétrisation VWN3 :\n",
    "     * `mf.xc='0.2*HF+0.08*LDA+0.72*B88,0.19*VWN3+0.81*LYP'`    \n",
    "     \n",
    "#### <a id='toc1_4_3_2_'></a>[nlc attribute](#toc0_)\n",
    "\n",
    "DEFAULT: `mf.nlc=''`\n",
    "\n",
    "L'attribut nlc est utilisé pour spécifier l'inclusion de la [fonctionnelle de corrélation non locale VV10](https://aip.scitation.org/doi/abs/10.1063/1.3521275). Cela peut simplement être accompli par `mf.nlc='VV10'`. Certaines fonctionnelles de densité telles que [ωB97X-V](http://pubs.rsc.org/en/Content/ArticleLanding/2014/CP/c3cp54374a#!divAbstract), [ωB97M-V](https://aip.scitation .org/doi/abs/10.1063/1.4952647) et [B97M-V](https://aip.scitation.org/doi/abs/10.1063/1.4907719) nécessitent que cet attribut s'exécute correctement.\n",
    "\n",
    "\n",
    "#### <a id='toc1_4_3_3_'></a>[grids attribute/class](#toc0_)\n",
    "\n",
    "Bien que PySCF permette une personnalisation complète de la grille d'intégration DFT, il est conseillé aux utilisateurs non experts de s'appuyer sur les paramètres par défaut car ils ont été affinés pour maximiser la précision et minimiser les coûts de calcul.\n",
    "\n",
    "\n",
    "##### <a id='toc1_4_3_3_1_'></a>[grids.level attribute](#toc0_)\n",
    "\n",
    "DEFAULT: `mf.grids.level=3`\n",
    "\n",
    "C'est l'attribut de grille le plus simple à manipuler pour augmenter ou diminuer le nombre de points de grille. Alors que la valeur par défaut est 3, la plage de valeurs possibles commence à `mf.grids.level=0` et continue jusqu'à `mf.grids.level=3`.\n",
    "\n",
    "##### <a id='toc1_4_3_3_2_'></a>[grids.atom_grid attribute](#toc0_)\n",
    "\n",
    "(NO DEFAULT)\n",
    "\n",
    "Cet attribut peut être utilisé pour définir le nombre total de couches radiales et le nombre de points de grille angulaire par couche. Le format est (radial, angulaire).\n",
    "\n",
    "Le nombre de coches radiales peut être défini sur n'importe quel nombre supérieur à 0, tandis que le nombre de points de grille angulaire par couche doit respecter une quadrature de Lebedev valide :\n",
    "\n",
    "{6,14,26,38,50,74,86,110,146,170,194,230,266,302,350,434,590,770,974,1202,1454,1730,2030,2354,2702,3074,3470,3890,4334,4802,5810}\n",
    "\n",
    "Les combinaisons couramment utilisées incluent :\n",
    "\n",
    "* very coarse: `mf.grids.atom_grid=(23,170)`\n",
    "* coarse: `mf.grids.atom_grid=(50,194)`\n",
    "* moderate: `mf.grids.atom_grid=(75,302)`\n",
    "* fine: `mf.grids.atom_grid=(99,590)`\n",
    "* extremely fine: `mf.grids.atom_grid=(500,974)`\n",
    "\n",
    "La définition de cet attribut remplacera l'attribut `mf.grids.level`.\n",
    "\n",
    "\n",
    "##### <a id='toc1_4_3_3_3_'></a>[grids.atomic_radii attribute](#toc0_)\n",
    "\n",
    "DEFAULT: `mf.grids.atomic_radii=dft.radi.BRAGG_RADII`\n",
    "\n",
    "Cet attribut choisit les valeurs de rayon atomique qui seront utilisées pour ajuster l'espacement des couches radiales. Si `grids.radii_adjust=None`, la définition de ce paramètre n'aura aucun effet. Il existe deux options intégrées dans PySCF :\n",
    "\n",
    "1. `mf.grids.atomic_radii=dft.radi.BRAGG_RADII`\n",
    "2. `mf.grids.atomic_radii=dft.radi.COVALENT_RADII`\n",
    "\n",
    "La première correspond aux valeurs trouvées dans cet article de [J. C. Slater de 1964](https://aip.scitation.org/doi/10.1063/1.1725697), tandis que la seconde est principalement construite à partir des valeurs trouvées dans cet [article](http://pubs.rsc.org/en/content/articlelanding/2008/dt/b801115j#!divAbstract).\n",
    "\n",
    "##### <a id='toc1_4_3_3_4_'></a>[grids.becke_scheme attribute](#toc0_)\n",
    "\n",
    "DEFAULT: `mf.grids.becke_scheme=dft.gen_grid.original_becke`\n",
    "\n",
    "This attribute selects the partition function used to determine the grid point weights. PySCF allows for two options:\n",
    "\n",
    "1. `mf.grids.becke_scheme=dft.gen_grid.original_becke`\n",
    "2. `mf.grids.becke_scheme=dft.gen_grid.stratmann`\n",
    "\n",
    "The first scheme is from the famous 1988 [paper](https://aip.scitation.org/doi/abs/10.1063/1.454033) by Axel Becke, while the second scheme devised by Stratmann, Scuseria, and Frisch is found in this [paper](https://www.sciencedirect.com/science/article/pii/0009261496006008).\n",
    "\n",
    "Cet attribut sélectionne la fonction de partition utilisée pour déterminer les poids des points de grille. PySCF permet deux options :\n",
    "\n",
    "1. `mf.grids.becke_scheme=dft.gen_grid.original_becke`\n",
    "2. `mf.grids.becke_scheme=dft.gen_grid.stratmann`\n",
    "\n",
    "Le premier schéma est tiré du célèbre article d'[Axel Becke] de 1988 (https://aip.scitation.org/doi/abs/10.1063/1.454033), tandis que le second schéma conçu par [Stratmann, Scuseria et Frisch](https://www.sciencedirect.com/science/article/pii/0009261496006008).\n",
    "\n",
    "##### <a id='toc1_4_3_3_5_'></a>[grids.prune attribute](#toc0_)\n",
    "\n",
    "DEFAULT: `mf.grids.prune=dft.gen_grid.nwchem_prune`\n",
    "\n",
    "L'élagage des grilles d'intégration offre l'avantage de réduire le nombre de points de grille (ainsi que le temps de calculs) sans affecter de manière significative l'énergie totale. PySCF a plusieurs options d'élagage intégrées :\n",
    "\n",
    "1. `mf.grids.prune=dft.gen_grid.nwchem_prune`\n",
    "2. `mf.grids.prune=dft.gen_grid.sg1_prune`\n",
    "3. `mf.grids.prune=dft.gen_grid.treutler_prune`\n",
    "4. `mf.grids.prune=None`\n",
    "\n",
    "##### <a id='toc1_4_3_3_6_'></a>[grids.radi_method attribute](#toc0_)\n",
    "\n",
    "DEFAULT: `mf.grids.radi_method=dft.radi.treutler_ahlrichs`\n",
    "\n",
    "Implémentation des couches radiales.\n",
    "\n",
    "1. `mf.grids.radi_method=dft.radi.treutler_ahlrichs`\n",
    "2. `mf.grids.radi_method=dft.radi.delley`\n",
    "3. `mf.grids.radi_method=dft.radi.mura_knowles`\n",
    "4. `mf.grids.radi_method=dft.radi.gauss_chebyshev`\n",
    "\n",
    "##### <a id='toc1_4_3_3_7_'></a>[grids.radii_adjust attribute](#toc0_)\n",
    "\n",
    "DEFAULT: `mf.grids.radii_adjust=dft.radi.treutler_atomic_radii_adjust` \n",
    "\n",
    "Il existe deux options pour ajuster les rayons atomiques.\n",
    "\n",
    "1. `mf.grids.radii_adjust=dft.radi.treutler_atomic_radii_adjust`\n",
    "2. `mf.grids.radii_adjust=dft.radi.becke_atomic_radii_adjust`\n",
    "3. `mf.grids.radii_adjust=None`\n",
    "\n",
    "##### <a id='toc1_4_3_3_8_'></a>[grids.verbose attribute](#toc0_)\n",
    "\n",
    "DEFAULT: `mf.grids.verbose=0`\n",
    "\n",
    "L'attribut verbose contrôle le niveau d'impression de la grille d'intégration. Le réglage `mf.grids.verbose=0` n'imprimera aucune information sur la grille, tandis que le réglage `mf.grids.verbose=4` imprime des informations utiles telles que le nombre total de points de grille, ainsi que des informations concernant les schémas utilisés pour implémenter la grille.\n",
    "\n",
    "#### <a id='toc1_4_3_4_'></a>[nlcgrids attribute/class](#toc0_)\n",
    "\n",
    "L'attribut `nlcgrids` fonctionne de la même manière que l'attribut `grids`. La seule différence est que `nlcgrids` contrôle les paramètres de grille pour la fonctionnlle de corrélation non locale, tandis que `grids` contrôle la grille pour la fonctionnelle de corrélation-échange locale. La fonctionnelle de corrélation non locale VV10 nécessite une grille beaucoup plus grossière que nécessaire pour la fonctionnelle xc locale, ce qui est une bonne chose car la mise à l'échelle de nlc est quadratique en points de grille (boucles à travers r et r'). \n",
    "\n",
    "#### <a id='toc1_4_3_5_'></a>[small_rho_cutoff attribute](#toc0_)\n",
    "\n",
    "DEFAULT: `mf.small_rho_cutoff=1e-07`\n",
    "\n",
    "Cet attribut est utilisé pour éliminer les points de grille qui contribuent de manière négligeable au nombre total d'électrons tel que calculé par la grille d'intégration choisie. Étant donné un vecteur, **r**, de longueur ng (nombre de points de grille), qui contient la valeur de la densité électronique à chaque point de grille, et un vecteur, **w**, de longueur ng qui contient les poids associés à chaque point de grille, les points de grille sont ignorés si **r**∘**w** ≤ `mf.small_rho_cutoff`.\n"
   ]
  },
  {
   "cell_type": "markdown",
   "metadata": {},
   "source": [
    "### <a id='toc1_4_4_'></a>[Choix du set de base](#toc0_)\n",
    "\n",
    "L'équation de Schrödinger à plusieurs électrons est généralement résolue sur une base d'orbitales moléculaires exprimées sous la forme d'une **combinaison linéaire de ses orbitales atomiques (LCAO, Linear combination of atomic orbitals)**, \n",
    "$$\n",
    "     \\phi_a(\\mathbf{r}) =\n",
    "     \\sum_A^\\mathrm{atomes}\n",
    "     \\sum_\\alpha C^A_{\\alpha a}\n",
    "     \\chi^A_{\\alpha}(\\mathbf{r} - \\mathbf{R}_A)\n",
    "$$\n",
    "Les coefficients LCAO, utilisés pour construire des orbitales moléculaires (MO), sont obtenus grâce à la minimisation de l'énergie totale, selon le principe variationnel. Pour plus de commodité, la base est généralement représentée par des fonctions centrées sur les atomes (les positions atomiques) pour les systèmes moléculaires, ou par des fonctions d'état plane en physique du solide.\n",
    "\n",
    "Les deux classes d'orbitales de base approximatives couramment utilisées sont :\n",
    "* les **Slater-type orbitals (STOs)** basées sur le déterminant de Slater, construitent avec des fonctions exponentielles décroissantes $e^{-\\alpha r}$,\n",
    "* et les **orbitales cartésiennes de type Gaussien (GTO)**, construitent avec des fonctions Gaussiennes $e^{-\\alpha r^2}$. L’utilisation de ces fonctions Gaussiennes est bien plus efficace que la stratégie STO pour calculer les nombreuses intégrales de chevauchement nécessaires à la chimie quantique.\n",
    "\n",
    "Ces deux types de fonctions de base peut être combiné comme **STO-nG (Slater-type orbital-n Gaussians)**, où n est le nombre de Gaussiennes utilisées pour faire les approximations.\n",
    "\n",
    "Les ensembles de base sont construits à partir de nombreuses primitives Gaussiennes. La notation de Pople est l'une des notations les plus explicites pour les ensembles de bases :\n",
    "- le trait d'union (-) sépare la référence aux orbitales centrales et de valence ;\n",
    "- les chiffres représentent le nombre de primitives Gaussiennes dans une fonction ;\n",
    "- il y a autant de chiffres qu'il y a de fonctions pour chaque orbitale atomique (zeta $\\zeta$) ;\n",
    "- la lettre G fait référence à l'utilisation de fonctions Gaussiennes.\n",
    "\n",
    "À titre d'exemple, l'ensemble de base double zêta `3-21G` utilise trois primitives Gaussiennes pour chaque orbitale centrale et un ensemble de deux plus une primitives Gaussiennes pour les orbitales de valence. Plus d'informations, d'exemples et de discussions sur les GTO peuvent être trouvés dans ce [lien](https://chem.libretexts.org/Courses/Pacific_Union_College/Quantum_Chemistry/11%3A_Computational_Quantum_Chemistry/11.02%3A_Gaussian_Basis_Sets).\n",
    "\n",
    "Généralement, on adopte des ensembles identiques de fonctions de base pour tous les atomes d'un élément donné et les ensembles adoptés pour les différents éléments doivent avoir une précision équilibrée. Une déclaration telle que « *nous avons utilisé la base 6-31G définie dans le calcul* » signifie qu'un ensemble équilibré d'ensembles d'AO a été adopté pour tous les éléments.\n",
    "\n",
    "Ci-dessous, des exemples d’ensembles de base populaires utilisés en chimie quantique.\n"
   ]
  },
  {
   "cell_type": "code",
   "execution_count": 14,
   "metadata": {},
   "outputs": [],
   "source": [
    "basis_sets = [\n",
    "    \"STO-3G\",       # Simple zeta, minimal basis\n",
    "    \"3-21G\",        # Double zeta with 3 Gaussian primitives\n",
    "    \"6-31G\",        # Double zeta with 6 Gaussian primitives\n",
    "    \"6-31G(d,p)\",   # Polarization functions (+ 5 d-orbitals for all atoms except H, +3 p-orbitals for H atoms) added\n",
    "    \"6-311G(d,p)\",  # Triple zeta with polarization functions\n",
    "    \"6-311+G(d,p)\", # Triple zeta with polarization functions and diffuse functions\n",
    "    \"cc-pvqz\",      # Quadruple zeta\n",
    "    \"cc-pv5z\"       # Quintuple zeta\n",
    "]"
   ]
  },
  {
   "cell_type": "markdown",
   "metadata": {},
   "source": [
    "La fonction d'état pour une molécule est une approximation lors de l'utilisation d'un ensemble de base finie,\n",
    "$$\n",
    "\\Phi_{\\text{approx}} = \\sum_{i=0}^N c_i |i \\rangle\n",
    "$$\n",
    "\n",
    "En vertu du principe variationnel, en considérant que $\\Phi_{\\text{approx}}$ est normalisée, l'énergie approximée est supérieure ou égale à la véritable énergie de l'état fondamentale,\n",
    "$$\n",
    "\\langle \\Phi_{\\text{approx}} | \\hat{H} | \\Phi_{\\text{approx}} \\rangle = \\epsilon_{\\text{approx}} \\geq  \\epsilon_{\\text{true}}\n",
    "$$\n",
    "\n",
    "A mesure que l'ensemble de base s'agrandit, l'approximation résultante  se rapproche de la véritable fonction d'état,\n",
    "$$\n",
    "\\Phi_{\\text{approx}} = \\sum_{i=0}^{\\infty} c_i |i \\rangle \\approx \\Psi_{\\text{true}}\n",
    "$$\n",
    "\n",
    "Cependant, augmenter la taille de l'ensemble de base a pour effet d'augmenter le nombre de paramètres à optimiser, étendant ainsi les ressources de calculs requises dans l'espace (espace de stockage) et en temps (nombre d'opérations). Il est souvent judicieux d'équilibrer la taille de l'ensemble de base pour optimiser le temps de résolution par rapport à la précision cible ($|\\epsilon_{\\text{approx}} -  \\epsilon_{\\text{true}}|$), puisque l'augmentation de la complexité de l'ensemble de base produit des rendements décroissants en termes de gain de précision.\n",
    "\n",
    "Une liste complète des ensembles de bases disponibles pris en charge dans [PySCF](https://pyscf.org/) est disponible sur ce [lien](https://pyscf.org/_modules/pyscf/gto/basis.html). De plus en plus de bases sont disponibles pour la communauté, et le choix d'un ensemble de bases peut s'avérer une tâche difficile. La théorie stipule qu'une base infinie est le moyen d'obtenir de vrais calculs des fonctions d'état. En pratique, il n'est pas possible d'effectuer les calculs avec des ensembles de bases infinis et d'obtenir des vraies fonction d'état. On peut cependant sélectionner des ensembles de bases finis et adapter nos approches aux cas d'utilisation. En règle générale, \n",
    "* un double zêta (par exemple `6-31G` ou `cc-pvdz`) est la taille de base minimale requise pour obtenir des énergies semi-quantitatives;\n",
    "* pour les molécules présentant une différence d'électronégativité élevée entre les atomes, l'ajout de fonctions de polarisation (par exemple `6-31G**` ou `6-31G(d,p)`) est recommandé;\n",
    "* les fonctions diffuses (par exemple `6-31G+(d,p)`) doivent être incluses lorsqu'il s'agit d'anions. Les fonctions diffuses sont des fonctions avec de petits coefficients (petit $\\alpha$ dans $e^{-\\alpha r^2}$) qui peuvent s'adapter à la densité électronique loin du noyau;\n",
    "* les ensembles de bases des potentiels de noyau effectif (Effective Core Potential, ECP) sont nécessaires lorsqu'il s'agit d'atomes plus lourds avec des effets relativistes et des effets non triviaux (par exemple, l'atome d'iode est souvent modélisé dans l'ensemble de base `LANDL2DZ`).\n",
    "\n",
    "\n",
    "**Tableau** : Catégories d'ensemble de base.\n",
    "| Catégorie | Caractère | Exemple |\n",
    "| -------- | --------- | ------- |\n",
    "| Minimale| Fonction de base unique par orbitale atomique occupée, la taille des éléments de la deuxième rangée est $[2s1p]$ | STO-3G |\n",
    "| Double-$\\zeta$ | Deux fonctions de base par orbitale atomique de valence occupée, la taille des éléments de la deuxième rangée est $[3s2p]$ | 6-31G |\n",
    "| Triple-$\\zeta$ | Trois fonctions de base par orbitale atomique de valence occupée, pour les éléments de deuxième rangée $[4s3p]$ | 6-311G |\n",
    "| Polarisation | Fonctions de base avec un moment cinétique plus élevé ; important pour la liaison chimique ; la taille des éléments de la deuxième ligne est $[3s2p1d]$ | cc-pVDZ |\n",
    "| Diffus | Fonctions de base avec de petits exposants ; important pour les états excités ; les tailles des éléments de la deuxième rangée sont $[4s3p]$ pour 6-31+G et $[4s3p2d]$ pour aug-cc-pVDZ | 6-31+G, aug-cc-pVDZ |\n"
   ]
  },
  {
   "cell_type": "markdown",
   "metadata": {},
   "source": [
    "### <a id='toc1_4_5_'></a>[Effet de l'ensemble de base sur les calculs d'énergie totale et le temps de calculs](#toc0_)"
   ]
  },
  {
   "cell_type": "code",
   "execution_count": 15,
   "metadata": {},
   "outputs": [
    {
     "name": "stdout",
     "output_type": "stream",
     "text": [
      "converged SCF energy = -149.935375926423\n",
      "converged SCF energy = -151.187741976933\n",
      "converged SCF energy = -151.979761027118\n",
      "converged SCF energy = -152.054002593349\n",
      "converged SCF energy = -152.101481120172\n",
      "converged SCF energy = -152.112572707288\n",
      "converged SCF energy = -152.135519581048\n",
      "converged SCF energy = -152.139634000918\n"
     ]
    }
   ],
   "source": [
    "import time\n",
    "\n",
    "mf_energies = list()\n",
    "mf_times = list()\n",
    "nb_prim = list()\n",
    "\n",
    "# Perform a Mean-Field calculation for each basis set\n",
    "for bs in basis_sets:\n",
    "\n",
    "    # Measure execution time\n",
    "    start = time.time()\n",
    "    DWat_mol.basis = bs\n",
    "    DWat_mol.build()\n",
    "\n",
    "    mf = scf.RHF(DWat_mol)\n",
    "    mf.kernel()\n",
    "    end = time.time()\n",
    "\n",
    "    nb_prim.append(DWat_mol.npgto_nr())\n",
    "    mf_energies.append(mf.e_tot)\n",
    "    mf_times.append(end-start)\n"
   ]
  },
  {
   "cell_type": "code",
   "execution_count": 16,
   "metadata": {},
   "outputs": [
    {
     "data": {
      "text/html": [
       "<div>\n",
       "<style scoped>\n",
       "    .dataframe tbody tr th:only-of-type {\n",
       "        vertical-align: middle;\n",
       "    }\n",
       "\n",
       "    .dataframe tbody tr th {\n",
       "        vertical-align: top;\n",
       "    }\n",
       "\n",
       "    .dataframe thead th {\n",
       "        text-align: right;\n",
       "    }\n",
       "</style>\n",
       "<table border=\"1\" class=\"dataframe\">\n",
       "  <thead>\n",
       "    <tr style=\"text-align: right;\">\n",
       "      <th></th>\n",
       "      <th>Basis</th>\n",
       "      <th>Nb of GTO primitives</th>\n",
       "      <th>Total energy</th>\n",
       "      <th>Time</th>\n",
       "    </tr>\n",
       "  </thead>\n",
       "  <tbody>\n",
       "    <tr>\n",
       "      <th>0</th>\n",
       "      <td>STO-3G</td>\n",
       "      <td>42</td>\n",
       "      <td>-149.935376</td>\n",
       "      <td>0.474755</td>\n",
       "    </tr>\n",
       "    <tr>\n",
       "      <th>1</th>\n",
       "      <td>3-21G</td>\n",
       "      <td>42</td>\n",
       "      <td>-151.187742</td>\n",
       "      <td>0.576414</td>\n",
       "    </tr>\n",
       "    <tr>\n",
       "      <th>2</th>\n",
       "      <td>6-31G</td>\n",
       "      <td>60</td>\n",
       "      <td>-151.979761</td>\n",
       "      <td>0.554733</td>\n",
       "    </tr>\n",
       "    <tr>\n",
       "      <th>3</th>\n",
       "      <td>6-31G(d,p)</td>\n",
       "      <td>82</td>\n",
       "      <td>-152.054003</td>\n",
       "      <td>0.647703</td>\n",
       "    </tr>\n",
       "    <tr>\n",
       "      <th>4</th>\n",
       "      <td>6-311G(d,p)</td>\n",
       "      <td>94</td>\n",
       "      <td>-152.101481</td>\n",
       "      <td>0.719878</td>\n",
       "    </tr>\n",
       "    <tr>\n",
       "      <th>5</th>\n",
       "      <td>6-311+G(d,p)</td>\n",
       "      <td>102</td>\n",
       "      <td>-152.112573</td>\n",
       "      <td>0.969782</td>\n",
       "    </tr>\n",
       "    <tr>\n",
       "      <th>6</th>\n",
       "      <td>cc-pvqz</td>\n",
       "      <td>264</td>\n",
       "      <td>-152.135520</td>\n",
       "      <td>13.354628</td>\n",
       "    </tr>\n",
       "    <tr>\n",
       "      <th>7</th>\n",
       "      <td>cc-pv5z</td>\n",
       "      <td>448</td>\n",
       "      <td>-152.139634</td>\n",
       "      <td>110.192258</td>\n",
       "    </tr>\n",
       "  </tbody>\n",
       "</table>\n",
       "</div>"
      ],
      "text/plain": [
       "          Basis  Nb of GTO primitives  Total energy        Time\n",
       "0        STO-3G                    42   -149.935376    0.474755\n",
       "1         3-21G                    42   -151.187742    0.576414\n",
       "2         6-31G                    60   -151.979761    0.554733\n",
       "3    6-31G(d,p)                    82   -152.054003    0.647703\n",
       "4   6-311G(d,p)                    94   -152.101481    0.719878\n",
       "5  6-311+G(d,p)                   102   -152.112573    0.969782\n",
       "6       cc-pvqz                   264   -152.135520   13.354628\n",
       "7       cc-pv5z                   448   -152.139634  110.192258"
      ]
     },
     "execution_count": 16,
     "metadata": {},
     "output_type": "execute_result"
    }
   ],
   "source": [
    "# Create the results dataframe\n",
    "import pandas as pd\n",
    "\n",
    "df_HF = pd.DataFrame({\"Basis\":basis_sets, \n",
    "                      'Nb of GTO primitives':nb_prim, \n",
    "                      'Total energy':mf_energies,\n",
    "                      \"Time\":mf_times})\n",
    "\n",
    "df_HF\n"
   ]
  },
  {
   "cell_type": "code",
   "execution_count": 17,
   "metadata": {},
   "outputs": [
    {
     "data": {
      "image/png": "[encoded data removed]",
      "text/plain": [
       "<Figure size 800x500 with 2 Axes>"
      ]
     },
     "metadata": {},
     "output_type": "display_data"
    }
   ],
   "source": [
    "import matplotlib.pyplot as plt\n",
    "\n",
    "# Create the matplotlib figure\n",
    "fig, ax = plt.subplots(figsize=(8,5))\n",
    "\n",
    "# Plot the energies.\n",
    "ax.set_xticks(range(len(basis_sets)), basis_sets, rotation=45)\n",
    "ax.set_xlabel(\"Basis set\")\n",
    "ax.set_ylabel(\"Energy / Hartree\", color=\"b\")\n",
    "ax.scatter(range(len(basis_sets)), mf_energies, marker=\"o\", s=50, color=\"b\")\n",
    "\n",
    "# Plot the time to solution\n",
    "ax_time = ax.twinx()\n",
    "ax_time.scatter(range(len(basis_sets)), mf_times, marker=\"s\", s=50, color=\"r\")\n",
    "ax_time.set_ylabel(\"Time to solution / s\", color=\"r\", rotation=270, va=\"bottom\")\n",
    "\n",
    "# Show the graph\n",
    "plt.tick_params(axis=\"both\", direction=\"in\")\n",
    "plt.show()"
   ]
  },
  {
   "attachments": {},
   "cell_type": "markdown",
   "metadata": {},
   "source": [
    "On note sur ce graphique que l’augmentation de la complexité de l'ensemble de base rapproche la valeur propre de l’énergie de la véritable énergie de Hartree-Fock. Cette tendance peut également être généralisée à d'autres méthodes, comme [CCSD](https://en.wikipedia.org/wiki/Coupled_cluster), [MP2](https://en.wikipedia.org/wiki/M%C3%B8ller%E2%80%93Plesset_perturbation_theory), [FCI](https://en.wikipedia.org/wiki/Full_configuration_interaction), etc., bien que le temps de résolution serait plus long pour ces approches post Hartree-Fock. Ce qu’il faut retenir, c’est que même si une base infinie est nécessaire pour converger vers la véritable énergie, il y a des rendements décroissants à un moment donné, surtout si l’on considère le temps requis pour le calcul. Dans notre cas, `6-311G(d,p)` ou `6-311+G(d,p)` apparaît comme un bon choix en termes de précision et de temps de calcul.\n",
    "\n",
    "### <a id='toc1_4_6_'></a>[Prise en compte de l'énergie de corrélation - Potentiel de l'informatique quantique](#toc0_)\n",
    "\n",
    "Les méthodes Post Hatree-Fock sont destinées à prendre en compte l'énergie de corrélation électronique. L'énergie de corrélation est définie comme\n",
    "$$\n",
    "E_{\\text{corr}} = E_{\\text{FCI}} - E_{\\text{HF}},\n",
    "$$\n",
    "dans lequel $E_{\\text{FCI}}$ et $E_{\\text{HF}}$ sont les énergies calculées à partir de la diagonalisation exacte de l'Hamiltonien moléculaire dans l'approximation de Born-Oppenheimer, c'est-à-dire l'interaction de configuration complète (FCI), et la méthode Hartree-Fock, respectivement. Puisqu'il est prohibitif sur le plan computationnel de résoudre le problème FCI, à l'exception de très petits systèmes, il est courant d'introduire des approximations pour inclure les effets de corrélation dans les calculs de structure électronique. Le problème FCI considère la diagonalisation de l'Hamiltonien dans une base de tous les déterminants excités possibles, c'est-à-dire tous les déterminants possibles à 1, 2, 3,…, N corps pour un système à N électrons. Par conséquent, la fonction d’onde FCI est une combinaison linéaire de tous les déterminants possibles pour un système à N électrons. Les méthodes approximatives n'incluent qu'un sous-ensemble des déterminants excités dans la fonction d'état approximative afin de capturer les effets de corrélation les plus importants (par exemple, théorie des perturbations à plusieurs corps, théorie des clusters couplés).\n",
    "\n",
    "Cette énergie de corrélation peut être divisée en deux catégories : **corrélation statique** et **dynamique**. Pour considérer le premier cas, il faut utiliser des approches multi-configurations. Ces dernières peuvent être abordées avec des méthodes post Hartree-Fock avec un seul état de référence, comme Configuration Interaction (CI), Coupled-Cluster (CC) ou des méthodes perturbatives (MP2, MP3, .etc).\n",
    "\n",
    "Nous avons vu dans la section précédente que le `6-311G(d,p)` est un bon compromis pour calculer l'état fondamental du dimère d'eau. Sur cet ensemble de bases, cette molécule est décrite par 94 bases (orbitales de spin) et 20 électrons. Pour obtenir la plus haute fidélité par rapport à la vraie fonction d'état avec la meilleure méthode actuelle (la FCI), il faudrait ${94 \\choose 20} \\approx 3 \\times 10^{13}$ configurations. Même si nous parvenions d’une manière ou d’une autre à représenter chaque configuration sous la forme d’un seul octet de données, 4,11 pétaoctets seraient encore nécessaires pour stocker la fonction d’état complète de la molécule de dimère d'eau. Cet effet est amplifié lorsqu’il s’agit de molécules industrielles pertinentes telles que des complexes organométalliques ou des protéines. Passer par le formalisme classique de la chimie quantique n’est donc pas une solution viable.\n",
    "\n",
    "Avec la transformation de Jordan-Wigner, ce problème disparaît. En exploitant le principe de superposition quantique de manière simple, il est possible de mapper cet état fondamental du dimère d'eau sur 94 qubits (les orbitales de spin vides et remplies sont mappées sur les $|0\\rangle$ et $|1\\rangle$ États, respectivement). Ce fait explique l’enthousiasme naissant de la communauté du calcul quantique pour les applications chimiques. Notons que même si la limitation spatiale est atténuée, aucun consensus n'est établi sur la complexité temporelle, corrélée au nombre de portes et de mesures nécessaires pour approximer la fonction d'état moléculaire.\n",
    "\n",
    "## <a id='toc1_5_'></a>[Réduction des ressources](#toc0_)\n",
    "\n",
    "**La réduction des ressources fait référence à la réduction des exigences de calculs pour exécuter un algorithme.** Cela s’applique à la fois à l’informatique classique et quantique. En informatique conventionnelle, cela se traduit par moins de bits requis pour stocker les informations et moins d’opérations à effectuer sur ces bits. Pour l’informatique quantique à modèle de portes, cela se traduit par une réduction du nombre de qubits et du nombre de portes dans les circuits quantiques.\n",
    "\n",
    "La molécule de dimère d'eau dans la base `6-311G(d,p)` nécessiterait 94 qubits et intrinsèquement un circuit quantique considéré comme trop profond pour les architectures actuelles (dispositifs NISQ). La réduction du nombre de qubits requis pour coder le problème constitue le premier moyen indirect de réduire ces exigences. Les deux méthodes discutées ci-dessous sont la réduction de **l'espace actif** et la **prise en compte des symétries moléculaires**.\n",
    "\n",
    "### <a id='toc1_5_1_'></a>[Sélection d'espace actif](#toc0_)\n",
    "\n",
    "La **sélection d'espace actif** *est un moyen de réduire le nombre de qubits en ignorant certaines orbitales moléculaires dans le calcul post-Hartree-Fock*. A cet effet, on classe  les orbitales moléculaires en orbitales doublement occupées, actives et externes :\n",
    "\n",
    "* les orbitales doublement occupées (**core orbitals**) sont toujours occupées par deux électrons;\n",
    "* les orbitales actives (**valence orbitals**) peuvent être occupées par zéro, un ou deux électrons.\n",
    "* les orbitales externes (**virtual orbitals**) ne sont jamais occupées.\n",
    "\n",
    "<!-- <center><img src=\"Graphics/Sketch_active_space.png\" width=\"450\"/></center> -->\n",
    "![Sketch_active_space.png](Graphics/Sketch_active_space.png)\n",
    "\n",
    "Dans cette approximation, un certain nombre d'*électrons actifs* peuvent peupler les *orbitales actives* à partir desquelles nous pouvons générer un espace de taille finie de déterminants de Slater.\n",
    "\n",
    "**Note**</br>\n",
    "Le nombre de *spin-orbitales actives* détermine le *nombre de qubits* requis pour effectuer des simulations quantiques de la structure électronique de la molécule. Appliquer cette méthode est trivial, mais choisir les orbitales moléculaires à geler ne l’est pas.\n",
    "\n",
    " Bien qu’il n’existe pas d’algorithme général pour effectuer cette opération, on peut évaluer quelles orbitales geler en imprimant d’abord les occupations des orbitales moléculaires."
   ]
  },
  {
   "cell_type": "code",
   "execution_count": 18,
   "metadata": {},
   "outputs": [
    {
     "name": "stdout",
     "output_type": "stream",
     "text": [
      "Le nombre d'orbitales moléculaires, dans la base 6-311+G(d,p), est 68\n"
     ]
    },
    {
     "data": {
      "text/plain": [
       "array([2., 2., 2., 2., 2., 2., 2., 2., 2., 2., 0., 0., 0., 0., 0., 0., 0.,\n",
       "       0., 0., 0., 0., 0., 0., 0., 0., 0., 0., 0., 0., 0., 0., 0., 0., 0.,\n",
       "       0., 0., 0., 0., 0., 0., 0., 0., 0., 0., 0., 0., 0., 0., 0., 0., 0.,\n",
       "       0., 0., 0., 0., 0., 0., 0., 0., 0., 0., 0., 0., 0., 0., 0., 0., 0.])"
      ]
     },
     "execution_count": 18,
     "metadata": {},
     "output_type": "execute_result"
    }
   ],
   "source": [
    "DWat_mol.basis = \"6-311+G(d,p)\"\n",
    "DWat_mol.build()\n",
    "DWat_mol.verbose = 0\n",
    "n_mos = DWat_mol.nao_nr()\n",
    "print(f'Le nombre d\\'orbitales moléculaires, dans la base {DWat_mol.basis}, est {n_mos}')\n",
    "mf = scf.RHF(DWat_mol)\n",
    "mf.kernel()\n",
    "mf.mo_occ"
   ]
  },
  {
   "cell_type": "markdown",
   "metadata": {},
   "source": [
    "Une façon d’imaginer cela est de considérer uniquement les orbitales frontières (HOMO, LUMO) et leurs voisines. La corrélation perdue sur l’énergie totale en considérant uniquement un sous-ensemble de l’espace actif complet peut être faible. Par exemple, le gel des orbitales moléculaires bassement occupées est connu sous le nom d'**approximation du noyau gelé** ou **frozen-core approximation** et peut être appliqué car les orbitales du coeur ne se mélangent pas avec les orbitales de valence. Il existe également des algorithmes pour geler les orbitales virtuelles, comme la méthode de troncature des orbitales naturelles gelées (FNO) [[Collect. Tchèque. Chimique. Commun. 2005, 70, 837-850](https://doi.org/10.1135/cccc20050837) et [J. Chimique. Phys. 2008, 128, 164101](https://doi.org/10.1063/1.2902285)]. Même si le choix d'un espace actif approprié peut résoudre un problème, cela peut contribuer à réduire *a priori* les ressources quantiques.\n",
    "\n",
    "La cellule de code ci-dessous aboutit à la prise en compte des orbitales moléculaires proches du niveau HOMO-LUMO. La fonction `get_active_orbitals_with_homo_lumo` aide les utilisateurs à obtenir les étiquettes de ces orbitales. Dans notre cas, l'espace actif est défini du HOMO-3 au LUMO+3."
   ]
  },
  {
   "cell_type": "code",
   "execution_count": 19,
   "metadata": {},
   "outputs": [],
   "source": [
    "def get_active_orbitals_with_homo_lumo(n_mos, mf_pyscf, homo_minus_n=0, lumo_plus_n=0):\n",
    "    \"\"\"Function that returns a list of active orbitals if the user wants to\n",
    "    consider only a subset from HOMO(-homo_min_n) to LUMO(+lumo_plus_n)\n",
    "    orbitals. Users should be aware of degeneracies, as this function does not\n",
    "    take this property into account.\n",
    "\n",
    "    Args:\n",
    "        n_mos: Number of molecular orbitals\n",
    "        mf_pyscf (mf object): pyscf meam-field object of the molecule to be evaluated.\n",
    "        homo_minus_n (int): Starting point at HOMO - homo_minus_n.\n",
    "        lumo_plus_n (int): Ending point at LUMO + lumo_plus_n.\n",
    "\n",
    "    Returns:\n",
    "        list of int: orbitals in the active space.\n",
    "    \"\"\"\n",
    "\n",
    "    # Index of HOMO and LUMO\n",
    "    lumo_idx = mf_pyscf.mo_occ.tolist().index(0.)\n",
    "    homo_idx = lumo_idx - 1\n",
    "\n",
    "    active_orbitals = homo_idx-homo_minus_n, lumo_idx+lumo_plus_n+1\n",
    "\n",
    "    return active_orbitals\n"
   ]
  },
  {
   "cell_type": "code",
   "execution_count": 20,
   "metadata": {},
   "outputs": [
    {
     "name": "stdout",
     "output_type": "stream",
     "text": [
      "Le nombre de MOs dans l'espace actif est 8 et les indexes correspondants sont [6, 7, 8, 9, 10, 11, 12, 13]\n"
     ]
    }
   ],
   "source": [
    "# Selecting HOMO-3 to LUMO+3 orbitals\n",
    "active_space = get_active_orbitals_with_homo_lumo(n_mos, mf, homo_minus_n=3, lumo_plus_n=3)\n",
    "n_active_mos = active_space[1]-active_space[0]\n",
    "print(f'Le nombre de MOs dans l\\'espace actif est {n_active_mos} et les indexes correspondants sont {list(range(active_space[0],active_space[1]))}')"
   ]
  },
  {
   "cell_type": "code",
   "execution_count": 21,
   "metadata": {},
   "outputs": [],
   "source": [
    "frozen_orbitals = [n for n in range(n_mos) if n not in range(active_space[0],active_space[1])]"
   ]
  },
  {
   "cell_type": "markdown",
   "metadata": {},
   "source": [
    "En suivant cette approche, nous réduisons le nombre d'orbitales considérées de 68 à 8. Avec les mappages fermions-qubits conventionnels, le nombre de qubits peut être réduit de 94 à 16. Bien qu'il s'agisse d'une réduction impressionnante, les configurations impliquant des orbitales inférieures à HOMO- 4 et supérieurs, LUMO+4 ne sont pas pris en compte ici. Cela se traduit par une énergie plus éloignée de la véritable énergie car rien ne nous dit que ces configurations ne sont pas pertinentes *a priori*. Dans la cellule de code suivante, nous considérons le calcul CCSD du dimère d'eau avec et sans ces orbitales."
   ]
  },
  {
   "cell_type": "code",
   "execution_count": 22,
   "metadata": {},
   "outputs": [
    {
     "name": "stdout",
     "output_type": "stream",
     "text": [
      "CCSD correlation energy -152.60944993647934\n",
      "CCSD correlation energy -152.11412713481545\n",
      "Energy difference: 310.8150580440903 kcal/mol.\n"
     ]
    }
   ],
   "source": [
    "from pyscf import cc\n",
    "\n",
    "#\n",
    "# Without Frozen orbitals\n",
    "#\n",
    "mycc = cc.CCSD(mf)\n",
    "mycc.kernel()\n",
    "print('CCSD correlation energy', mycc.e_tot)\n",
    "\n",
    "#\n",
    "# With Frrozen orbitals \n",
    "#\n",
    "mycc_fr = cc.CCSD(mf)\n",
    "mycc_fr.frozen = frozen_orbitals\n",
    "mycc_fr.kernel()\n",
    "print('CCSD correlation energy', mycc_fr.e_tot)\n",
    "\n",
    "print(f\"Energy difference: {abs(mycc.e_tot-mycc_fr.e_tot)*627.5} kcal/mol.\")"
   ]
  },
  {
   "cell_type": "markdown",
   "metadata": {},
   "source": [
    "Ce choix se traduit par une différence d'énergie de plus de 310 kcal/mol, bien supérieure à [précision chimique](https://en.wikipedia.org/wiki/Computational_chemistry) (1 kcal/mol). Dans cette situation, la limite inférieure avec l’espace actif réduit est supérieure à l’état fondamental du CCSD. Ce qu’il faut retenir, c’est d’être prudent lors du choix d’un espace actif pour une molécule."
   ]
  },
  {
   "cell_type": "markdown",
   "metadata": {},
   "source": [
    "Restreignons maintenant l'espace actif à l'HOMO et au LUMO."
   ]
  },
  {
   "cell_type": "code",
   "execution_count": 23,
   "metadata": {},
   "outputs": [
    {
     "name": "stdout",
     "output_type": "stream",
     "text": [
      "CCSD correlation energy -152.60944993647934\n",
      "CCSD correlation energy -152.49514048607875\n",
      "Energy difference: 71.72918012636586 kcal/mol.\n"
     ]
    }
   ],
   "source": [
    "#\n",
    "# Without Frozen orbitals\n",
    "#\n",
    "mycc = cc.CCSD(mf)\n",
    "mycc.kernel()\n",
    "print('CCSD correlation energy', mycc.e_tot)\n",
    "\n",
    "#\n",
    "# With Frrozen orbitals \n",
    "#\n",
    "mycc_fr = cc.CCSD(mf)\n",
    "mycc_fr.frozen = (0,homo_idx)\n",
    "mycc_fr.kernel()\n",
    "print('CCSD correlation energy', mycc_fr.e_tot)\n",
    "\n",
    "print(f\"Energy difference: {abs(mycc.e_tot-mycc_fr.e_tot)*627.5} kcal/mol.\")"
   ]
  },
  {
   "cell_type": "markdown",
   "metadata": {},
   "source": [
    "On constate une amélioration du résultat avec une différence d'énergie de plus de 71.73 kcal/mol."
   ]
  },
  {
   "cell_type": "markdown",
   "metadata": {},
   "source": [
    "### <a id='toc1_5_2_'></a>[Considérations de symétries](#toc0_)\n",
    "\n",
    "Les symétries moléculaires se reflètent dans la structure Hamiltonienne. Le nombre d'électrons dans la molécule doit être cohérent avant et après l'application de l'ansatz sur l'état initial. Les configurations électroniques ne respectant pas cette symétrie peuvent donc être négligées sans perte de précision. En chimie quantique, cela conduit à un nombre plus petit de qubits dans les algorithmes VQE. Nous aborderons celà dans un tutorial specifique aux VQA."
   ]
  },
  {
   "cell_type": "markdown",
   "metadata": {},
   "source": [
    "## <a id='toc1_6_'></a>[Analyse du champ moyen](#toc0_)\n",
    "\n",
    "On utilise la méthode `analyze` de l'objet de champ moyen pour imprimer les propriétés moléculaires pertinentes. "
   ]
  },
  {
   "cell_type": "code",
   "execution_count": 24,
   "metadata": {},
   "outputs": [
    {
     "name": "stdout",
     "output_type": "stream",
     "text": [
      "**** MO energy ****\n",
      "MO #1   energy= -20.5932281727734  occ= 2\n",
      "MO #2   energy= -20.535363983435   occ= 2\n",
      "MO #3   energy= -1.38321116059041  occ= 2\n",
      "MO #4   energy= -1.32497133424236  occ= 2\n",
      "MO #5   energy= -0.746183395384089 occ= 2\n",
      "MO #6   energy= -0.697352399403846 occ= 2\n",
      "MO #7   energy= -0.615938881453299 occ= 2\n",
      "MO #8   energy= -0.560443868912869 occ= 2\n",
      "MO #9   energy= -0.531611799879644 occ= 2\n",
      "MO #10  energy= -0.48151737282833  occ= 2\n",
      "MO #11  energy= 0.120641619765155  occ= 0\n",
      "MO #12  energy= 0.173626236465859  occ= 0\n",
      "MO #13  energy= 0.197322368959234  occ= 0\n",
      "MO #14  energy= 0.219164141788786  occ= 0\n",
      "MO #15  energy= 0.230150861278109  occ= 0\n",
      "MO #16  energy= 0.242434387435674  occ= 0\n",
      "MO #17  energy= 0.277136264443281  occ= 0\n",
      "MO #18  energy= 0.28071861255571   occ= 0\n",
      "MO #19  energy= 0.295133919372557  occ= 0\n",
      "MO #20  energy= 0.323611677407461  occ= 0\n",
      "MO #21  energy= 0.396027972673181  occ= 0\n",
      "MO #22  energy= 0.443385862543286  occ= 0\n",
      "MO #23  energy= 0.647462984198337  occ= 0\n",
      "MO #24  energy= 0.670671050575342  occ= 0\n",
      "MO #25  energy= 0.700385999225806  occ= 0\n",
      "MO #26  energy= 0.783417481360535  occ= 0\n",
      "MO #27  energy= 1.14971305833538   occ= 0\n",
      "MO #28  energy= 1.16412775710393   occ= 0\n",
      "MO #29  energy= 1.21511829355836   occ= 0\n",
      "MO #30  energy= 1.26349421951776   occ= 0\n",
      "MO #31  energy= 1.27423811523276   occ= 0\n",
      "MO #32  energy= 1.28831660183031   occ= 0\n",
      "MO #33  energy= 1.43127298353212   occ= 0\n",
      "MO #34  energy= 1.48535744146229   occ= 0\n",
      "MO #35  energy= 1.52789708846504   occ= 0\n",
      "MO #36  energy= 1.54728192356881   occ= 0\n",
      "MO #37  energy= 1.55595870874641   occ= 0\n",
      "MO #38  energy= 1.61635734517775   occ= 0\n",
      "MO #39  energy= 1.74586770189093   occ= 0\n",
      "MO #40  energy= 1.81399156600001   occ= 0\n",
      "MO #41  energy= 1.92696564264461   occ= 0\n",
      "MO #42  energy= 2.01824308459401   occ= 0\n",
      "MO #43  energy= 2.26021973105618   occ= 0\n",
      "MO #44  energy= 2.35192293164655   occ= 0\n",
      "MO #45  energy= 2.40167718415209   occ= 0\n",
      "MO #46  energy= 2.54278992400156   occ= 0\n",
      "MO #47  energy= 2.7440438310112    occ= 0\n",
      "MO #48  energy= 2.79649332763275   occ= 0\n",
      "MO #49  energy= 2.83059980345762   occ= 0\n",
      "MO #50  energy= 2.98754728964235   occ= 0\n",
      "MO #51  energy= 3.45590024700294   occ= 0\n",
      "MO #52  energy= 3.50157685862187   occ= 0\n",
      "MO #53  energy= 3.51805067828983   occ= 0\n",
      "MO #54  energy= 3.56631326076203   occ= 0\n",
      "MO #55  energy= 3.68198358162944   occ= 0\n",
      "MO #56  energy= 3.75031743671889   occ= 0\n",
      "MO #57  energy= 4.06238713379613   occ= 0\n",
      "MO #58  energy= 4.12230835201375   occ= 0\n",
      "MO #59  energy= 4.28519979619085   occ= 0\n",
      "MO #60  energy= 4.35815778714953   occ= 0\n",
      "MO #61  energy= 5.51690642237356   occ= 0\n",
      "MO #62  energy= 5.52294524162608   occ= 0\n",
      "MO #63  energy= 5.87117635137897   occ= 0\n",
      "MO #64  energy= 5.95325565174225   occ= 0\n",
      "MO #65  energy= 6.1611572120707    occ= 0\n",
      "MO #66  energy= 6.26510247256957   occ= 0\n",
      "MO #67  energy= 51.5413125119478   occ= 0\n",
      "MO #68  energy= 51.6043201498037   occ= 0\n",
      " ** Mulliken atomic charges  **\n",
      "charge of    0O =     -0.71456\n",
      "charge of    1H =      0.33544\n",
      "charge of    2H =      0.35221\n",
      "charge of    3O =     -0.67767\n",
      "charge of    4H =      0.35229\n",
      "charge of    5H =      0.35229\n",
      "Dipole moment(X, Y, Z, Debye):  2.78416,  0.13005,  0.00000\n"
     ]
    },
    {
     "data": {
      "text/plain": [
       "((array([1.99999109e+00, 1.64135937e+00, 5.10722316e-03, 1.43215044e-03,\n",
       "         4.50500939e-04, 1.45208139e+00, 1.60005388e+00, 1.98510338e+00,\n",
       "         6.39904139e-03, 3.15131531e-03, 7.45730520e-03, 1.28104040e-03,\n",
       "         1.21176901e-03, 7.33480869e-04, 1.48143505e-04, 1.62815200e-04,\n",
       "         4.15746098e-04, 1.69805199e-03, 7.04904706e-04, 2.19931811e-03,\n",
       "         1.89807934e-04, 3.23207350e-03, 6.42855575e-01, 1.02614042e-02,\n",
       "         5.79898465e-03, 1.29150150e-03, 1.62161308e-03, 2.73564048e-03,\n",
       "         6.26462443e-01, 9.42913804e-03, 6.02698379e-03, 2.21664241e-03,\n",
       "         1.09662188e-03, 2.55831104e-03, 1.99999103e+00, 1.63908040e+00,\n",
       "         4.29975540e-03, 1.44072017e-03, 4.64928114e-04, 1.86616654e+00,\n",
       "         1.78404603e+00, 1.35124185e+00, 5.61939898e-03, 2.74866717e-03,\n",
       "         8.93733616e-03, 1.90909680e-03, 1.31808443e-03, 1.49871032e-03,\n",
       "         5.03204232e-04, 3.04591087e-04, 6.86089679e-06, 1.90332134e-03,\n",
       "         3.26976467e-03, 4.86411944e-04, 1.37921874e-03, 1.05519329e-03,\n",
       "         6.25460783e-01, 1.04809723e-02, 6.29366682e-03, 2.12975830e-03,\n",
       "         1.73366727e-03, 1.60626370e-03, 6.25460783e-01, 1.04809723e-02,\n",
       "         6.29366682e-03, 2.12975830e-03, 1.73366727e-03, 1.60626370e-03]),\n",
       "  array([-0.71456379,  0.33543528,  0.35220986, -0.67767113,  0.35229489,\n",
       "          0.35229489])),\n",
       " array([2.78416268e+00, 1.30054354e-01, 5.02714655e-15]))"
      ]
     },
     "execution_count": 24,
     "metadata": {},
     "output_type": "execute_result"
    }
   ],
   "source": [
    "mf.verbose = 3\n",
    "mf.analyze()"
   ]
  },
  {
   "cell_type": "code",
   "execution_count": null,
   "metadata": {},
   "outputs": [],
   "source": [
    "from pyscf.data import nist\n",
    "au2ev = nist.HARTREE2EV\n",
    "\n",
    "print(f'Energie du Homo = {mf.mo_energy[homo_idx]*au2ev} eV')\n",
    "print(f'Energie de Lumo = {mf.mo_energy[lumo_idx]*au2ev} eV')\n",
    "print(f'Energie du gap Homo-Lumo = {abs(mf.mo_energy[homo_idx] - mf.mo_energy[lumo_idx])*au2ev} eV')"
   ]
  }
 ],
 "metadata": {
  "jupytext": {
   "formats": "ipynb,md"
  },
  "kernelspec": {
   "display_name": "qiskit-env",
   "language": "python",
   "name": "qiskit-env"
  },
  "language_info": {
   "codemirror_mode": {
    "name": "ipython",
    "version": 3
   },
   "file_extension": ".py",
   "mimetype": "text/x-python",
   "name": "python",
   "nbconvert_exporter": "python",
   "pygments_lexer": "ipython3",
   "version": "3.10.13"
  },
  "widgets": {
   "application/vnd.jupyter.widget-state+json": {
    "state": {},
    "version_major": 1,
    "version_minor": 0
   }
  }
 },
 "nbformat": 4,
 "nbformat_minor": 4
}
