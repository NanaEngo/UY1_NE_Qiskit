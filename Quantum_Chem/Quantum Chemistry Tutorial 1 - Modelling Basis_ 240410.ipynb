{
 "cells": [
  {
   "cell_type": "markdown",
   "metadata": {
    "jupyter": {
     "source_hidden": true
    }
   },
   "source": [
    "# <a id='toc1_'></a>[Quantum Chemistry Tutorial 1 - Modelling Basis](#toc0_)\n",
    "\n",
    "1. **S. G. Nana Engo**, serge.nana-engo@facsciences-uy1.cm\n",
    "    * Department of Physics, Faculty of Science, University of Yaounde I\n",
    "2. **J-P. Tchapet Njafa**, jean-pierre.tchapet-njafa@univ-maroua.cm\n",
    "    * Department of Physics, Faculty of Science, University of Maroua\n",
    "       \n",
    "April 2024"
   ]
  },
  {
   "cell_type": "markdown",
   "metadata": {},
   "source": [
    "Dans cette série de tutoriels, nous allons aborder les notions essentielles chimie computationnelle ou chimie quantique. L'objectif principal étant d'apprendre et de travailler avec des méthodes et des logiciels informatiques de pointe en matière de chimie quantique. En plus des méthodes *ab-initio* traditionnelles, par exemple la théorie Hartree-Fock et post-Hartree-Fock, la théorie fonctionnelle de la densité (DFT) et la méthode semi-empirique xTB (Extended Tight Binding method) sont également discutés. Celles-ci sont appliquées par exemple à la prédiction de structures, à l'exploration de surfaces d'énergie potentielle. Il est à souligner le caractère unificateur de la chimie computationnelle : les mêmes méthodes théoriques servent d'outils pour résoudre divers problèmes dans tous les domaines de la chimie, de la chimie théorique et (in)organique et de la catalyse à la pharmaco- et biochimie.\n",
    "\n",
    "A l'issue de cette série de tutoriels, l'étudiant doit être capable \n",
    "* d'expliquer certains concepts des méthodes modernes de chimie quantique : Hartree-Fock et la théorie fonctionnelle de la densité (DFT);\n",
    "* d'expliquer certains aspects des logiciels de chimie quantique;\n",
    "* de travailler avec des logiciels de chimie quantique de pointe, de prédire les structures et d'explorer les surfaces énergétiques potentielles;\n",
    "* d'interpréter les résultats calculés en termes d'orbitales moléculaires et de modèles de structure électronique;\n",
    "* d'utiliser un logiciel de chimie quantique pour résoudre des problèmes chimiques par voie informatique.\n"
   ]
  },
  {
   "cell_type": "markdown",
   "metadata": {},
   "source": [
    "L'objectif de ce notebook (tutoriel 1) est de fournir les connaissances de base en chimie quantique nécessaire résoudre un problème de chimie avec HF et la DFT. De nombreux paramètres peuvent être modifiés, et certains ont un impact plus important que d’autres sur la précision et les ressources computationnelles. Cet ensemble de paramètres comprend le choix de l'état initial, le choix de l'ensemble de bases. De facon spécifique, à la fin de ce tutoriel, l'apprenant doit\n",
    "* avoir compris les notions théoriques élémentaires de la structure électronique des molécules en seconde quantification;\n",
    "* être capable d'utiliser le framework PySCF pour \n",
    "    * effectuer le calcul du champ moyen (SCF)\n",
    "    * extraire\n",
    "        * l'énergie totale\n",
    "        * les index et les énergies du HOMO et du LUMO, \n",
    "        * le resumé des différentes énergies calculées\n",
    "    * explorer le choix du set de bases\n"
   ]
  },
  {
   "cell_type": "markdown",
   "metadata": {},
   "source": [
    "## <a id='toc1_2_'></a>[Structure électronique des molécules en première et seconde quantifications](#toc0_)\n",
    "\n",
    "### <a id='toc1_2_1_'></a>[Hamiltonien d'une molécule en première quantification](#toc0_)\n",
    "\n",
    "L'Hamiltonien d'une molécule constituée de noyaux $K$ et d'électrons $N$ est\n",
    "\\begin{equation*}\n",
    "\\mathtt{H}=\\mathtt{T}_e+\\mathtt{T}_n+\\mathtt{U}_{en}+\\mathtt{U}_{en}+\\mathtt{U}_{nn},\n",
    "\\end{equation*}\n",
    "où\n",
    "- $\\mathtt{T}_e= -\\sum_i\\frac{\\hbar^2}{2m_e}\\nabla^2_i$ est l'énergie cinétique électronique;\n",
    "- $\\mathtt{T}_n=-\\sum_I\\frac{\\hbar^2}{2M_I}\\nabla^2_I$ est l'énergie cinétique nucléaire;\n",
    "- $\\mathtt{U}_{en}= -\\sum_{i,I}\\frac{e^2}{4\\pi\\epsilon_0}\\frac{Z_I}{|\\mathbf{r}_i-\\mathbf{R}_I|}$ est la répulsion Coulombienne entre les électrons et les noyaux;\n",
    "- $\\mathtt{U}_{ee}=+\\frac{1}{2}\\sum_{i\\neq j}\\frac{e^2}{4\\pi\\epsilon_0}\\frac{1}{|\\mathbf{r}_i-\\mathbf{r}_j|}$ est la répulsion Coulombienne entre les électrons eux-mêmes;\n",
    "- $\\mathtt{U}_{nn}=+\\frac{1}{2}\\sum_{I\\neq J}\\frac{e^2}{4\\pi\\epsilon_0}\\frac{Z_IZ_J}{|\\mathbf{R}_I-\\mathbf{R}_J|}$ est la répulsion Coulombienne entre les noyaux eux-mêmes.\n",
    "\n",
    "$M_I$, $\\mathbf{R}_I$ et $Z_I$ ($I=1,2$) désignent la masse, la position et le numéro atomique du *I*-ème noyau, et $\\mathbf{r}_i$ est la position du *i*-ème électron. Par souci de concision, nous travaillons en unités atomiques, où l'unité de longueur est $a_0 = 1$ Bohr ($0.529167\\times~10^{-10}$ m), l'unité de masse est la masse électronique $m_e$ et l'unité d'énergie est 1 Hartree ($1~\\textrm{Hartree}~= ~{e^2}/{4\\pi\\epsilon_0 a_0}~=~27.2113~\\textrm{eV}$). Dénotant $M_I'=M_I/m_e$, les différents termes de l'Hamiltonien moléculaire en unités atomiques s'écrit\n",
    "\\begin{equation*}\n",
    "\\begin{split}\n",
    "\\mathtt{T}_e&=-\\sum_i\\frac{\\nabla^2_i}{2}, \\qquad\\mathtt{T}_n= -\\sum_I\\frac{\\nabla^2_I}{2M_I'}, \n",
    " \\qquad\\mathtt{U}_{en}= - \\sum_{i,I}\\frac{Z_I}{|\\mathbf{r}_i-\\mathbf{R}_I|},\\\\\n",
    "\\mathtt{U}_{ee}&=+\\frac12\\sum_{i\\neq j}\\frac{1}{|\\mathbf{r}_i-\\mathbf{r}_j|}\n",
    "=+\\sum_{i,j>i}\\frac{1}{|\\mathbf{r}_i-\\mathbf{r}_j|},\\\\\n",
    "\\mathtt{U}_{nn}&=+\\frac{1}{2}\\sum_{I\\neq J}\\frac{Z_IZ_J}{|\\mathbf{R}_I-\\mathbf{R}_J|}\n",
    "=+\\sum_{I,J>I}\\frac{Z_IZ_J}{|\\mathbf{R}_I-\\mathbf{R}_J|}.\n",
    "\\end{split}\n",
    "\\end{equation*}\n",
    "\n",
    "### <a id='toc1_2_2_'></a>[Approximation de Born-Oppenheimer](#toc0_)\n",
    "\n",
    "Nous nous intéressons principalement à la structure *électronique* de la molécule. Comme $M'\\sim10^3$, nous appliquons l'**approximation de Born-Oppenheimer**, en traitant les noyaux comme des charges ponctuelles classiques. En conséquence, le terme d'énergie cinétique nucléaire $T_n$ est négligé, $\\mathtt{U}_{nn}(\\mathbf{R})$ est constant et l'Hamiltonien moléculaire est approché par un Hamiltonien électronique paramétré par $\\mathbf{R}$,\n",
    "\\begin{equation*}\n",
    "\\begin{split}\n",
    "\\mathtt{H}(\\mathbf{R}) &= \\mathtt{U}_{nn}+\\underset{\\text{One-Electron Operators}}{\\mathtt{T}_e + \\mathtt{U}_{en}(\\mathbf{R})} + \\underset{\\text{Two-Electron Operator}}{\\mathtt{U}{ee}}\\\\\n",
    "&= \\mathtt{U}_{nn}+\\underset{\\text{One-Electron Operator}}{\\sum_i h(i)} + \\underset{\\text{Two-Electron Operator}}{\\sum_{i\\ne j}v(i, j)}.\n",
    "\\end{split}\n",
    "\\end{equation*}\n",
    "\n",
    "### <a id='toc1_2_3_'></a>[Energie potentiel de surface](#toc0_)\n",
    "\n",
    "En vertu de l'équation de $\\mathtt{H}(\\mathbf{R})$ préceédente, l'équation de Schrödinger indépendante du temps non relativiste écrit\n",
    "\\begin{equation*}\n",
    "\\mathtt{H}(\\mathbf{R})\\psi_i(\\mathbf{R},\\mathbf{r})=E_i(\\mathbf{R})\\psi_i(\\mathbf{R},\\mathbf{r}),\n",
    "\\end{equation*}\n",
    "où $\\psi_i(\\mathbf{R},\\mathbf{r})$ désigne l'un des états propres et $E_i(\\mathbf{R})$ correspond aux surfaces d'énergie potentielle moléculaire (PES), ce qui est important pour comprendre les processus chimiques tels que la formation et la rupture de liaison. En règle générale, la précision du calcul du PES (Potential Energy Surface) doit être limitée à la *précision chimique* $\\epsilon=1 \\textrm{kcal}\\textrm{mol}^{-1}(\\sim 1.59\\times 10^{-3}\\textrm{Hartrees},\\, 43.3\\textrm{meV})$.\n",
    "\n",
    "L'énergie de l'état fondamental est donnée par\n",
    "\\begin{equation}\\tag{1} \n",
    "E_0 = \\frac{\\langle\\psi_0|\\mathtt{H}|\\psi_0\\rangle}{\\langle\\psi_0|\\psi_0\\rangle},\n",
    "\\end{equation}\n",
    "où $|\\psi_0\\rangle$ est l'état fondamental du système. Cependant, la dimensionnalité de ce problème croît exponentiellement avec le nombre de degrés de liberté. Pour résoudre ce problème, nous aimerions préparer $|\\psi_0\\rangle$ sur un calculateur quantique et mesurer directement la valeur moyenne Hamiltonienne (ou $E_0$). Alors, comment pouvons-nous faire cela concrètement?\n",
    "\n",
    "Un bon point de départ pour résoudre ce problème est la méthode Hartree-Fock (HF), autrement nous allons prendre comme fonction d'état de réféfrence la fonction d'état HF. Cette méthode rapproche un problème à N corps en N problèmes à un corps où chaque électron évolue dans le champ moyen des autres.  Il est à noter que le dénominateur de l'Equation (1) n'est nécessaire que quand la fonction d'etat HF n'est pas normalisée au départ. Une facon d'améliorer cette fonction d'état HF est d'utiliser une combinaison linéaire des fonction d'état. Ce qui sera fait à travers les bases chimiques.\n",
    "\n",
    "\n",
    "### <a id='toc1_2_4_'></a>[Déterminant Slater](#toc0_)\n",
    "\n",
    "Un déterminant de Slater est un produit anti-symétrique d'un ou de plusieurs spin orbitals. Pour un système à $N$-electron, le déterminant de Slater s'écrit\n",
    "\\begin{equation*}\n",
    "\\begin{split}\n",
    "\\psi(\\mathbf{r}_0, \\mathbf{r}_1, \\ldots, \\mathbf{r}_{N-1})\\equiv |\\phi_{M-1},\\cdots,  \\phi_1, \\phi_0 \\rangle \n",
    "&=   \\frac{1}{\\sqrt{N!}}\n",
    "\\begin{vmatrix} \\phi_0(\\mathbf{r}_0) & \\phi_1(\\mathbf{r}_0) & \\cdots & \\phi_{M-1}(\\mathbf{r}_0) \\\\\n",
    "      \\phi_0(\\mathbf{r}_1) & \\phi_1(\\mathbf{r}_1) & \\cdots & \\phi_{M-1}(\\mathbf{r}_1) \\\\\n",
    "      \\vdots & \\vdots & \\ddots & \\vdots \\\\\n",
    "      \\phi_0(\\mathbf{r}_{N-1}) & \\phi_1(\\mathbf{r}_{N-1}) & \\cdots & \\phi_{M-1}(\\mathbf{r}_{N-1})\n",
    "\\end{vmatrix} \\\\\n",
    "&\\equiv |M-1,\\dots, 1, 0 \\rangle,\n",
    "\\end{split}\n",
    "\\end{equation*}\n",
    " L'échange des positions de deux électrons est équivalent à l'échange de deux rangées du déterminant de Slater, ce qui modifie le signe de la fonction d'état. Cela fournit la symétrie d'échange correcte pour la fonction d'état fermionique. Bien que le nombre de spin-orbitales considérées, $M$, soit généralement plus élevé que le nombre d'électrons dans le système, $N$, les électrons ne peuvent occuper que $N$ des spin-orbitales dans un déterminant Slater donné. En conséquence, le déterminant de Slater ne contient que les spin-orbitales occupées $N$."
   ]
  },
  {
   "cell_type": "markdown",
   "metadata": {},
   "source": [
    "### <a id='toc1_2_5_'></a>[Exemple d'illustration](#toc0_)\n",
    "\n",
    "Pour rendre les correspondances plus claires, nous examinons comment une fonction d'état sera représentée pour un système quantique fictif. On considère les orbitales de spin $|A_\\uparrow\\rangle,\\,|A_\\downarrow\\rangle,\\,|B_\\uparrow\\rangle,\\,|B_\\downarrow\\rangle$. Nous sommes libres de définir arbitrairement l'état Hartree-Fock de notre système fictif et de choisir les deux électrons dans l'orbitale $|A\\rangle$. Nous sommes intéressés par la fonction d'état lorsque la composante $z$ du spin est nulle.\n",
    "\n",
    "Labellisons chaque orbitale ainsi qu'il suit :\n",
    "\\begin{align*}\n",
    " &|A_\\uparrow\\rangle=|00\\rangle=|\\mathbf{0}\\rangle,  &&|A_\\downarrow\\rangle=|01\\rangle=|\\mathbf{1}\\rangle,\n",
    "&&|B_\\uparrow\\rangle=|10\\rangle=|\\mathbf{2}\\rangle,  &|B_\\downarrow\\rangle=|11\\rangle=|\\mathbf{3}\\rangle.\n",
    "\\end{align*}\n",
    "L'état de Hartree-Fock possède les deux électrons dans les orbitales $|A\\rangle$. Un état HF incorrectement symétrisé serait donc $|A_\\uparrow\\rangle_1|A_\\downarrow\\rangle_2 = |\\mathbf{0}\\rangle_1|\\mathbf{1}\\rangle_2$, où les indices indiquent l'électron décrit par chaque orbitale. La fonction d'état HF correctement antisymétrisée serait \n",
    "\\begin{equation*}\n",
    "\\begin{split}\n",
    "    |\\Psi_{\\mathrm{HF}}\\rangle =  \\frac{1}{\\sqrt{2}}\n",
    "\t\t\\begin{vmatrix}\n",
    "\t\tA_\\uparrow(\\mathbf{x}_0) & A_\\downarrow(\\mathbf{x}_0)\\\\\n",
    "\t\tA_\\uparrow(\\mathbf{x}_1) & A_\\downarrow(\\mathbf{x}_1)\\\\\n",
    "\t\t\\end{vmatrix}\n",
    "\t\t&= \\frac{1}{\\sqrt{2}}  \\Big( A_\\uparrow(\\mathbf{x_0}) A_\\downarrow(\\mathbf{x_1}) - A_\\downarrow(\\mathbf{x_0}) A_\\uparrow(\\mathbf{x_1})  \\Big)\\\\\n",
    "&=\\frac{1}{\\sqrt{2}} (|\\mathbf{0}\\rangle_1|\\mathbf{1}\\rangle_2 - |\\mathbf{1}\\rangle_1|\\mathbf{0}\\rangle_2 ).\n",
    "\\end{split}\n",
    "\\end{equation*}\n",
    "Si nous considérons maintenant les excitations au-dessus de l'état HF, alors une fonction d'état générale avec $s_z=0$ qui a été correctement antisymétrisée est\n",
    "donnée par\n",
    "\\begin{equation*}\n",
    "\\begin{aligned}\n",
    "|\\Psi\\rangle =& \\frac{\\alpha}{\\sqrt{2}}(|\\mathbf{0}\\rangle_1|\\mathbf{1}\\rangle_2 - |\\mathbf{1}\\rangle_1|\\mathbf{0}\\rangle_2 ) \n",
    "+\\frac{\\beta}{\\sqrt{2}} (|\\mathbf{2}\\rangle_1|\\mathbf{3}\\rangle_2 - |\\mathbf{3}\\rangle_1|\\mathbf{2}\\rangle_2 ) \\\\\n",
    "+& \\frac{\\gamma}{\\sqrt{2}} (|\\mathbf{0}\\rangle_1|\\mathbf{3}\\rangle_2 - |\\mathbf{3}\\rangle_1|\\mathbf{0}\\rangle_2 ) + \\frac{\\delta}{\\sqrt{2}} (|\\mathbf{1}\\rangle_1|\\mathbf{2}\\rangle_2 - |\\mathbf{2}\\rangle_1|\\mathbf{1}\\rangle_2 ).\n",
    "\\end{aligned}\n",
    "\\end{equation*}\n",
    "Comme nous avons $N=2$ électrons et $M=4$ spin-orbitales, nous pouvons voir que nous avons seulement besoin de $N \\lceil\\mathrm{log_2}(M)\\rceil = 2 \\times \\lceil\\mathrm{log_2}(4)\\rceil = 4$ qubits pour stocker la fonction d'état.\n"
   ]
  },
  {
   "cell_type": "markdown",
   "metadata": {},
   "source": [
    "## <a id='toc1_3_'></a>[Seconde quantification - Construction d'un opérateur Hamiltonien fermionique](#toc0_)\n",
    "\n",
    "### <a id='toc1_3_1_'></a>[Génération des intégrales moléculaires](#toc0_)\n",
    "\n",
    "L'Hamiltonien  est exprimé dans la base des solutions de la méthode HF, également appelées Orbitales Moléculaires (OM) :\n",
    "$$\n",
    "\\mathtt{H}_{elec}=\\sum_{pq} h_{pq} a^{\\dagger}_p a_q + \n",
    "\\frac{1}{2} \\sum_{pqrs} h_{pqrs}  a^{\\dagger}_p a^{\\dagger}_q a_r  a_s\n",
    "$$\n",
    "avec \n",
    "* les **intégrales à 1 électron**\n",
    "$$\n",
    "h_{pq} = \\int \\phi^*_p(r) \\left( -\\frac{1}{2} \\nabla^2 - \\sum_{I} \\frac{Z_I}{|\\mathbf{r}_i-\\mathbf{R}_I|} \\right)   \\phi_q(r)d\\mathbf{r}\n",
    "$$\n",
    "qui décrivent l’énergie cinétique des électrons individuels et leurs interactions Coulombiennes avec les champs électriques du noyau ;\n",
    "* et **intégrales à 2 électrons**\n",
    "$$\n",
    "h_{pqrs} = \\int \\frac{\\phi^*_p(r_1)  \\phi^*_q(r_2) \\phi_r(r_2)  \\phi_s(r_1)}{|\\mathbf{r}_1-\\mathbf{r}_2|}d\\mathbf{r}_1d\\mathbf{r}_2,\n",
    "$$\n",
    "décrivent les interactions Coulombiennes entre les électrons;\n",
    "* $a^\\dagger_p$ l'**opérateur de création** d'un électron sur le spin-orbite $p$;\n",
    "* $a_q$ l'**opérateur d'annihilation** d'un électron sur sur le spin-orbite $q$;\n",
    "* $a^{\\dagger}_p a_q $ est l'**opérateur d'excitation**, qui excite un électron du spin-orbite occupé $\\phi_q$ vers le spin-orbite inoccupé $\\phi_p$.\n",
    "\n",
    "Les MO ($\\phi_u$) peuvent être occupés ou virtuels (inoccupés). Un MO peut contenir 2 électrons. Ces MO sont les solutions de la méthode HF, où chaque l´electron est soumis au champ moyen créé par les autres électrons. Cependant, dans ce qui suit, nous travaillons en fait avec des orbitales de spin qui sont associées à un spin up ($\\alpha$) d'électron spin down ($\\beta$). Ces deux spins sont également communément désignés par $\\alpha$ et $\\beta$, respectivement. Ainsi, les orbitales de spin peuvent contenir un électron ou être inoccupées.\n",
    "\n",
    "Dans le tableau ci-dessous resume les correspondances première-seconde quantification des divers éléments du Hamiltonien moléculaire. \n",
    "$$\n",
    "\\begin{array}{|l|l|l|}\\hline\n",
    "\\textbf{Approximation BO}  &  \\textbf{Combinaison en 2e quantification} &  \\textbf{Description}\n",
    "\\\\\\hline\n",
    "-\\frac12\\sum_i\\nabla^2_i & -\\frac12\\sum_{p,q}\\langle p|\\nabla^2_p|q\\rangle a^\\dagger_p a_q & \\mathtt{T}_e \\\\\\hline\n",
    " -\\sum_{i,I}\\frac{Z_I}{|\\mathbf{r}_i-\\mathbf{R}_I|} &\n",
    " -\\sum_{p,q} \\langle p|\\frac{Z_I}{|\\mathbf{r}_p-\\mathbf{R}_I|}|q\\rangle a^\\dagger_p a_q\n",
    " & \\mathtt{U}_{en}\\\\\\hline\n",
    "\\sum_{i,j>i}\\frac{1}{|\\mathbf{r}_i-\\mathbf{r}_j|} & \n",
    "\\sum_{p,q,r,s}\\langle pq \\big|\\frac{1}{|\\mathbf{r}_i-\\mathbf{r}_j|}\\big|rs\\rangle a^\\dagger_p a^\\dagger_q a_r a_s & \n",
    " \\mathtt{U}_{ee}\\\\\\hline\n",
    "\\end{array}\n",
    "$$\n",
    "\n",
    "*Un des avantages apporté par le formalisme de seconde quantification est que la propriété d'anti-symétrie des fonctions d'état pour l'échange de fermions identiques, prise en compte manuellement dans une approche de première quantification en considérant les déterminants de Slater, est automatiquement imposée par le relations d'anti-commutation des opérateurs de création et d'annihilation. Cependant, le prix à payer est de travailler avec un nombre non fixe de particules, qui reste de toute façon une quantité conservée.*"
   ]
  },
  {
   "cell_type": "markdown",
   "metadata": {},
   "source": [
    "### <a id='toc1_3_2_'></a>[Répresentation nombre d'occupation](#toc0_)\n",
    "\n",
    "En seconde quantification, le déterminant de Slater est représenté par un **vecteur nombre d'occupation**\n",
    "\\begin{equation*}\n",
    "|f\\rangle =|f_{M-1},\\dots,f_{i-1},f_i,f_{i+1},\\dots, f_0\\rangle, \n",
    "\\end{equation*}\n",
    "avec\n",
    "- $f_i=1$ lorsque le spin-orbital $\\phi_i$ est occupé et donc présent dans le déterminant de Slater;\n",
    "- $f_i = 0$ lorsque le $\\phi_i$ spin-orbital est vide et donc absent du déterminant de Slater.\n",
    "\n",
    "- Le vecteur $|f_i\\rangle$ est appelé **vecteur nombre d'occupation de l'orbite fermionique i**, parce que\n",
    "\\begin{align*}\n",
    "& |0\\rangle=\\begin{pmatrix}1\\\\0\\end{pmatrix}:\\text{état vide}, & |1\\rangle=\\begin{pmatrix}0\\\\1\\end{pmatrix}:\\text{état occupé}.\n",
    "\\end{align*}\n",
    "\n",
    "Dans la deuxième représentation de quantification, au lieu de poser la question *Quel électron est dans quel état?*, nous posons la question *combien de particules y a-t-il dans chaque état?*.\n",
    "\n",
    "### <a id='toc1_3_3_'></a>[Opérateurs fermioniques](#toc0_)\n",
    "\n",
    "Les opérateurs fermioniques $a^\\dagger_i$ et $a_i$ obéissent aux relations d'anticommutation fermioniques suivantes:\n",
    "\\begin{align*}\n",
    "&\\{a_p,a^\\dagger_q\\} = a_pa^\\dagger_q + a^\\dagger_q a_p = \\delta_{pq}, \n",
    "&\\{a_p, a_q \\} = \\{a^\\dagger_p, a^\\dagger_q\\} = 0 .\n",
    "\\end{align*}\n",
    "La nature fermionique des électrons implique que les fonctions d'état à plusieurs électrons doivent être antisymétriques par rapport à l'échange de particules. Cela se reflète dans la manière dont les opérateurs de création fermionique et d'annhilation agissent sur les déterminants $|f\\rangle$:\n",
    "\\begin{equation*}\n",
    "\\begin{aligned}\n",
    "&a_i|f_{M-1},\\dots,f_{i-1},f_i,f_{i+1},\\dots, f_0\\rangle = \\delta_{f_i,1}\n",
    "(-1)^{\\sum_{m<i}f_m}|f_{M-1},\\dots,f_{i-1},f_i\\oplus 1,f_{i+1},\\dots, f_0\\rangle,\\\\\n",
    "&a^\\dagger_i|f_{M-1},\\dots,f_{i-1},f_i,f_{i+1},\\dots, f_0\\rangle = \\delta_{f_i,0}\n",
    "(-1)^{\\sum_{m<i}f_m}|f_{M-1},\\dots,f_{i-1},f_i\\oplus 1,f_{i+1},\\dots, f_0\\rangle`,  \\\\\n",
    "&a|0\\rangle=a^\\dagger|1\\rangle=0.\n",
    "\\end{aligned}\n",
    "\\end{equation*}\n",
    "- Le terme de phase $p_i=(-1)^{\\sum_{m<i}f_m}$ désigne la parité qu'impose l'anti-symétrie d'échange des fermions.\n",
    "    - $p_i=-1$ si le nombre d'électrons est impair dans ces orbitales de spin,\n",
    "    - $p_i= 1$ si le nombre d'électrons est pair dans ces orbitales de spin.\n",
    "\n",
    "- Le symbole $\\oplus$ représente l'addition modulo 2, i.e.,  $1 \\oplus 1=0 $ et $0 \\oplus 1=1$.\n",
    "\n",
    "- L'opérateur de création $a^\\dagger_i$ met un électron dans une orbitale inoccupée *i* ou dans $|f_i\\rangle$.\n",
    "\n",
    "- L'opérateur d'annihilation $a_i$ supprime un électron dans une orbitale occupée *i* ou en $|f_i\\rangle$.\n",
    "\n",
    "- $a_i^2 =(a^\\dagger_i)^2= 0$ pour tout $i$. On ne peut pas créer ou anéantir un fermion dans le même mode deux fois.\n",
    "\n",
    "Par example,\n",
    "\\begin{align*} \n",
    "&a^\\dagger_1 |0\\rangle_1 = |1\\rangle_1,&&a^\\dagger_1 |1\\rangle_1 =(a^\\dagger_i)^2|0\\rangle_1= 0,&& a_1 |1\\rangle_1 =|0\\rangle_1,&a_1 |0\\rangle_1 =a_1^2|1\\rangle_1=0. \n",
    "\\end{align*}\n",
    "Notez qu'ici $a^\\dagger_1|1\\rangle_1=0$ et $a_1 |0\\rangle_1=0$ signifie le vecteur zéro et non $|0\\rangle_1$. \n",
    "\n",
    "En utilisant également de tels opérateurs, nous pouvons exprimer\n",
    "\\begin{equation*}\n",
    "|0\\rangle |1\\rangle |1\\rangle |0\\rangle = a^\\dagger_1a^\\dagger_2 |0\\rangle^{\\otimes 4}.\n",
    "\\end{equation*}\n",
    "\n",
    " L'opérateur d'occupation orbitale est donné par\n",
    "\\begin{align*}\n",
    "&n_i = a^\\dagger_i a_i, &n_i |f_{M-1},\\dots,f_i,\\dots, f_0\\rangle= f_i |f_{M-1},\\dots,f_i,\\dots, f_0\\rangle,\n",
    "\\end{align*}\n",
    "et il compte le nombre d'électrons dans une orbitale donnée, c'est-à-dire\n",
    "\\begin{align*} \n",
    "&n_i |0\\rangle_i = 0, &n_i |1\\rangle_i = |1\\rangle_i. \n",
    "\\end{align*}\n",
    "\n",
    "### <a id='toc1_3_4_'></a>[Exercise](#toc0_)\n",
    "\n",
    "In **Exemple d'illustration** above, we have considered a fictitious system described by spin orbitals $|A_\\uparrow\\rangle,\\,|A_\\downarrow\\rangle,\\,|B_\\uparrow\\rangle,\\,|B_\\downarrow\\rangle$ labelled as\n",
    "\\begin{align*}\n",
    " &|A_\\uparrow\\rangle=|00\\rangle=|\\mathbf{0}\\rangle,  &&|A_\\downarrow\\rangle=|01\\rangle=|\\mathbf{1}\\rangle,\n",
    "&&|B_\\uparrow\\rangle=|10\\rangle=|\\mathbf{2}\\rangle,  &|B_\\downarrow\\rangle=|11\\rangle=|\\mathbf{3}\\rangle.\n",
    "\\end{align*}\n",
    "We assume that the Hartree-Fock state for this system **has both electrons occupying the $|A\\rangle$ orbitals**. We store the occupations of the spin orbitals $|A_\\uparrow\\rangle,\\,|A_\\downarrow\\rangle,\\,|B_\\uparrow\\rangle,\\,|B_\\downarrow\\rangle$ which we order as \n",
    "$|f_{B_\\downarrow},f_{B_\\uparrow},f_{A_\\downarrow},f_{A_\\uparrow}\\rangle$, with $f_i=0,1$ (in the fermionic Fock space).\n",
    "\n",
    "1. Write down, in the fermionic Fock space, the Hartree-Fock state $|\\Psi_{\\rm HF}\\rangle$, that is, the corresponding of the antisymmetrized Slater deter-\n",
    "minant obtained in **Exemple d'illustration**.\n",
    "$$\n",
    "|\\Psi_{\\rm HF}\\rangle = |0011\\rangle .\n",
    "$$\n",
    "1. Write down, in the fermionic Fock space, the $s_z = 0$ state function.\n",
    "$$\n",
    "|\\Psi_{\\rm HF}\\rangle = \\alpha|0011\\rangle + \\beta|1100\\rangle + |1001\\rangle + |0101\\rangle .\n",
    "$$\n"
   ]
  },
  {
   "cell_type": "markdown",
   "metadata": {},
   "source": [
    "## Calcul du champ moyen ou mean-field\n",
    "\n",
    "Le calcul du champ moyen est généralement la première étape de toutes les approches post Hartree-Fock. Les approches en champ moyen résolvent l'équation de Schrödinger en faisant la moyenne du terme de répulsion électron-électron de manière auto-cohérente ou SCF. En d’autres termes, chaque électron n’interagit pas explicitement avec les autres électrons.\n",
    "\n",
    "Les trois méthodes HF communément utilisées sont (voir la figure ci-dessous) :\n",
    "\n",
    "![HF_Orb.png](./Graphics/HF_Orb.png)\n",
    "\n",
    "1. **RHF (Restricted Hartree – Fock)** utiliśee pour des molécules à couches pleines ou fermées. Les spin-orbitales sont soit $\\alpha$, soit $\\beta$ et tous les orbitales sont doublement occupés par des spin-orbitales $\\alpha$ et $\\beta$;</br> \n",
    "2. **ROHF (Restricted Open-Shell Hartree–Fock)** utilisée pour des molécules à couches ouvertes où le nombre d'électrons les orbitales n'est pas le même. ROHF utilise autant que possible les orbitales doublement occupées et les orbitales une fois occupées par les électrons non-apariés;\n",
    "3. **UHF (Unrestricted Hartree-Fock)** utilisée pour des molécules à couches ouvertes où le nombre d'électrons les orbitales n'est pas le même. Les orbitales UHF peuvent avoir avoir des spin $\\alpha$ ou $\\beta$, mais les orbitales $\\alpha$ et $\\beta$ peuvent avoir des composants spatiales différents.\n",
    "\n",
    "Les équivalents DFT sont,\n",
    "\n",
    "4. **RKS (Kohn-Sham restreint)**,\n",
    "6. **ROKS (Restricted Open-Shell Kohn – Sham)**,\n",
    "5. **UKS (Kohn-Sham sans restriction)**.\n",
    "\n",
    "### PySCF\n",
    "\n",
    "![Pyscf.png](./Graphics/Pyscf.png)\n",
    "\n",
    "**Python-based Simulations of Chemistry Framework (PySCF)** est un programme de chimie computationnelle *ab initio* implémenté nativement dans le langage de programme Python. Le package vise à fournir une plate-forme simple, légère et efficace pour le développement et le calcul de codes de chimie quantique. Il fournit diverses fonctions pour faire, au niveau non relativiste, \n",
    "* la théorie de Hartree-Fock,\n",
    "* la Second-order Møller–Plesset perturbation theory (MP2),\n",
    "* la théorie fonctionnelle de la densité (DFT),\n",
    "* la Multi-configuration self-consistent field (MCSCF),\n",
    "* la théorie des clusters couplés (CC).\n",
    "\n",
    "PySCF est utilisé dans la plupart des packages de calculs quantiques pour les calculs HF (première quantification) et diverses étapes des transformations de seconde quantification.\n",
    "\n",
    "Il est à noter que la méthode SCF ou Self Consistent Field est une méthode variationnelle où la fonction d'essai est un déterminant de Slater ou une combinaison linéaire de ces déterminants. "
   ]
  },
  {
   "cell_type": "code",
   "execution_count": null,
   "metadata": {},
   "outputs": [],
   "source": [
    "import pyscf\n",
    "\n",
    "pyscf.__version__"
   ]
  },
  {
   "cell_type": "markdown",
   "metadata": {},
   "source": [
    "### <a id='toc1_4_1_'></a>[Information sur la molécule - Création de l'objet molecule avec `pyscf.gto.Mole()`](#toc0_)\n",
    "\n",
    "Lors de la définition d'une molécule, on spécifie les propriétés moléculaires. \n",
    "* L’une d’elles est la charge totale du système, c’est-à-dire la différence entre le nombre d’électrons et la charge nucléaire totale (la valeur par défaut est 0). \n",
    "* Une autre quantité importante à spécifier est le spin, défini par la différence entre le nombre d'électrons alpha et bêta (la valeur par défaut est 0). Cela permet de modéliser des systèmes radicalaires : un spin de 0 caractérise une molécule à couche restreinte tandis qu'un spin différent de 0 définit un système à couche ouverte.\n",
    "\n",
    "Considérons le dimère d'eau (deux molécules d'eau à liaison hydrogène) illustré par la figure suivante\n",
    "\n",
    "<!-- ![water_dimer.jpg](attachment:water_dimer.jpg) -->\n",
    "![water_dimer.jpg](./Graphics/water_dimer.jpg)\n"
   ]
  },
  {
   "cell_type": "markdown",
   "metadata": {},
   "source": [
    "* Importer les modules nécessaires"
   ]
  },
  {
   "cell_type": "code",
   "execution_count": null,
   "metadata": {},
   "outputs": [],
   "source": [
    "from pyscf import gto # Gaussian type orbitals\n",
    "from pathlib import Path # For filesystem paths\n",
    "# For 3D plotting\n",
    "try :\n",
    "    import py3Dmol\n",
    "except:\n",
    "    !pip install py3Dmol\n",
    "    import py3Dmol\n",
    "py3Dmol.__version__"
   ]
  },
  {
   "cell_type": "markdown",
   "metadata": {},
   "source": [
    "* Définir la PySCF molecule object "
   ]
  },
  {
   "cell_type": "code",
   "execution_count": null,
   "metadata": {},
   "outputs": [],
   "source": [
    "mol_xyz = \"\"\"\n",
    "    O  -1.551007  -0.114520   0.000000\n",
    "    H  -1.934259   0.762503   0.000000\n",
    "    H  -0.599677   0.040712   0.000000\n",
    "    O   1.350625   0.111469   0.000000\n",
    "    H   1.680398  -0.373741  -0.758561\n",
    "    H   1.680398  -0.373741   0.758561\"\"\" # Ref: https://cccbdb.nist.gov/expgeom1x.asp\n",
    "\n",
    "smi_key = 'Dwater'\n",
    "\n",
    "# Verify if the \"{smi_key}\" subdirectory exist and if not, create it\n",
    "working_dir = Path(f'./{smi_key}')\n",
    "# Create the output directory if it doesn't exist\n",
    "working_dir.mkdir(parents=True, exist_ok=True)\n",
    "# Create the pyscf log file\n",
    "path_pyscf_log = working_dir / f'{smi_key}_pyscf.txt'\n",
    "\n",
    "# PySCF molecule object\n",
    "DWat_mol=gto.Mole(\n",
    "    atom=mol_xyz,\n",
    "    basis='def2-TZVP',\n",
    "    charge=0,      # 0 by default\n",
    "    spin=0,        # 0 by default, defined as (n_up - n_down == nelec_alpha - nelec_beta)\n",
    "    unit='Angstrom', # Can also be 'Bohr'\n",
    "    output = path_pyscf_log # to store some output calculations\n",
    ")\n",
    "DWat_mol.build()\n",
    "\n",
    "# # 3D representation\n",
    "xyz_view = py3Dmol.view(width=300,height=300)\n",
    "xyz_view.addModel(DWat_mol.tostring(format=\"xyz\"),'xyz')\n",
    "xyz_view.setStyle({'stick': {}, 'sphere': {'scale': .30}})\n",
    "xyz_view.zoomTo()\n",
    "xyz_view.show()\n"
   ]
  },
  {
   "cell_type": "code",
   "execution_count": null,
   "metadata": {},
   "outputs": [],
   "source": [
    "print(f'Le nombre total d\\'électrons est {DWat_mol.nelectron} \\\n",
    "et le nombre total d\\'électrons (alpha, béta) est {DWat_mol.nelec}\\n')\n",
    "print(f'Les index (0-Based) du (HOMO,LUMO) sont {DWat_mol.nelectron//2 -1, DWat_mol.nelectron//2}\\n')\n",
    "print(f'Le nombre d\\'orbitales atomiques, dans la base {DWat_mol.basis}, est {DWat_mol.nao}\\n')\n",
    "print(f'L\\'énergie nucléaire vaut {DWat_mol.energy_nuc()} Hartrees')"
   ]
  },
  {
   "cell_type": "markdown",
   "metadata": {},
   "source": [
    "### <a id='toc1_4_2_'></a>[Création d'un objet mean-field (mf) avec `scf.RHF()`](#toc0_)\n",
    "\n",
    "Pour la plupart des usages, les types de calculs SCF pertinents seront :\n",
    "\n",
    "1. RHF (Restricted Hartree – Fock)\n",
    "2. UHF (Hartree-Fock sans restriction)\n",
    "3. ROHF (Restricted Open-Shell Hartree–Fock)\n",
    "\n",
    "\n",
    "L'initialisation de l'objet champ moyen pour ces six types de calculs est illustrée ci-dessous. Ces classes nécessitent au moins un argument, à savoir un objet molécule, mol.\n",
    "\n",
    "1. `mf=scf.RHF(mol)`\n",
    "2. `mf=scf.UHF(mol)`\n",
    "3. `mf=scf.ROHF(mol)` (où mol est définie comme étant à couche ouverte (open-shell), mol.spin!=0)\n",
    "4. `mf=scf.RKS(mol)`\n",
    "5. `mf=scf.UKS(mol)`\n",
    "6. `mf=scf.ROKS(mol)` (où mol est définie comme open-shell, mol.spin!=0)\n",
    "\n",
    "La première étape consiste à créer l'objet mean-field (RHF dans ce cas)"
   ]
  },
  {
   "cell_type": "code",
   "execution_count": null,
   "metadata": {},
   "outputs": [],
   "source": [
    "from pyscf import scf\n",
    "\n",
    "mf=scf.RHF(DWat_mol)"
   ]
  },
  {
   "cell_type": "markdown",
   "metadata": {},
   "source": [
    "Par la suite, on exécute le caclul avec la méthode `.run()`ou `.kernel()`."
   ]
  },
  {
   "cell_type": "code",
   "execution_count": null,
   "metadata": {},
   "outputs": [],
   "source": [
    "mf.kernel()"
   ]
  },
  {
   "cell_type": "markdown",
   "metadata": {},
   "source": [
    "Une fois l'exécution du noyau (kernel) SCF achevée, l'objet mean-field (mf) est mis à jour avec plusieurs attributs de sortie utiles :\n",
    "1. `mf.mo_occ` - Occupation MO (vecteur de longueur égale au nombre de MO)"
   ]
  },
  {
   "cell_type": "code",
   "execution_count": null,
   "metadata": {},
   "outputs": [],
   "source": [
    "mf.mo_occ"
   ]
  },
  {
   "cell_type": "code",
   "execution_count": null,
   "metadata": {},
   "outputs": [],
   "source": [
    "mf.get_occ()"
   ]
  },
  {
   "cell_type": "code",
   "execution_count": null,
   "metadata": {},
   "outputs": [],
   "source": [
    "import plotly.express as px\n",
    "\n",
    "# Plot the MO Occupations\n",
    "fig = px.line(y=mf.mo_occ, markers=True, title=\"Molecular Orbital (MO) Occupations\")\n",
    "fig.update_layout(xaxis_title=\"Orbital Index (0-Based)\", yaxis_title=\"MO Occupation\")\n",
    "fig.show()"
   ]
  },
  {
   "cell_type": "markdown",
   "metadata": {},
   "source": [
    "On note, sachant que l'indexation commence à 0, que \n",
    "* l'orbite moléculaire la plus occupée (HOMO) a pour indexe 9 (nombres électrons//2 - 1),\n",
    "* et de l'orbite moléculaire la plus basse inoccupée (LUMO) a pour indexe 10 (nombres électrons//2)."
   ]
  },
  {
   "cell_type": "markdown",
   "metadata": {},
   "source": [
    "Pour avoir les indexes du LUMO et l'HOMO à partir du mf:"
   ]
  },
  {
   "cell_type": "code",
   "execution_count": null,
   "metadata": {},
   "outputs": [],
   "source": [
    "lumo_idx = mf.mo_occ.tolist().index(0.)\n",
    "homo_idx = lumo_idx - 1\n",
    "print(f'Les index (0-Based) du (HOMO,LUMO) sont {homo_idx,lumo_idx}')"
   ]
  },
  {
   "cell_type": "markdown",
   "metadata": {},
   "source": [
    "2. Energies Homo, Lumo et gap en eV\n",
    "\n",
    "$$E_g = E_{\\rm LUMO} - E_{\\rm HOMO}$$"
   ]
  },
  {
   "cell_type": "code",
   "execution_count": null,
   "metadata": {},
   "outputs": [],
   "source": [
    "from pyscf.data.nist import HARTREE2EV as au2ev \n",
    "\n",
    "print(f'Energie du Homo = {mf.mo_energy[homo_idx] * au2ev} eV')\n",
    "print(f'Energie de Lumo = {mf.mo_energy[lumo_idx] * au2ev} eV')\n",
    "print(f'Energie du gap Homo-Lumo = {abs(mf.mo_energy[homo_idx] - mf.mo_energy[lumo_idx]) * au2ev} eV')"
   ]
  },
  {
   "cell_type": "code",
   "execution_count": null,
   "metadata": {},
   "outputs": [],
   "source": [
    "# Plot the MO Energies (i.e. eigenvalues of the Fock matrix)\n",
    "fig = px.line(y=mf.mo_energy, markers=True, title=\"Molecular Orbital (MO) Energies (a.u.)\")\n",
    "fig.update_layout(xaxis_title=\"Orbital Index (0-Based)\", yaxis_title=\"MO Energies (a.u.)\")\n",
    "fig.show()"
   ]
  },
  {
   "cell_type": "markdown",
   "metadata": {},
   "source": [
    "2. `mf.e_tot` - Énergie SCF totale en unités de Hartrees"
   ]
  },
  {
   "cell_type": "code",
   "execution_count": null,
   "metadata": {},
   "outputs": [],
   "source": [
    "mf.e_tot"
   ]
  },
  {
   "cell_type": "markdown",
   "metadata": {},
   "source": [
    "2. `mf.dump_scf_summary()` - Synthèse des du calcul SCF effectué."
   ]
  },
  {
   "cell_type": "code",
   "execution_count": null,
   "metadata": {},
   "outputs": [],
   "source": [
    "mf.dump_scf_summary()"
   ]
  },
  {
   "cell_type": "code",
   "execution_count": null,
   "metadata": {},
   "outputs": [],
   "source": [
    "mf.scf_summary"
   ]
  },
  {
   "cell_type": "markdown",
   "metadata": {},
   "source": [
    "On peut aussi spécifier les paramètres de calculs du mf."
   ]
  },
  {
   "cell_type": "code",
   "execution_count": null,
   "metadata": {},
   "outputs": [],
   "source": [
    "mf=scf.RHF(DWat_mol)\n",
    "\n",
    "mf.conv_tol=1e-12 # the difference in the SCF energy (in Hartrees) between two successive cycles\n",
    "mf.conv_tol_grad=1e-8 # the root-mean-square of the orbital gradient\n",
    "mf.direct_scf_tol=1e-13 #the threshold for discarding integrals\n",
    "mf.init_guess='atom' #  vital for the efficient completion of the SCF procedure\n",
    "mf.max_cycle=100 # the maximum number of SCF cycles that should be performed before the calculation terminates. For systems that are notoriously difficult to converge, the value should be increased to 100 or even 1000\n",
    "mf.max_memory=4000 #determines the maximum amount of memory (in Megabytes) that PySCF is allowed to utilize during the SCF procedure\n",
    "mf.verbose=5 #controls the print level for the mean-field object (in the 'Dwat_HF.txt' defined above)\n",
    "\n",
    "mf.kernel()"
   ]
  },
  {
   "cell_type": "markdown",
   "metadata": {},
   "source": [
    "### <a id='toc1_4_3_'></a>[Création d'un objet mean-field (mf) avec `scf.RKS()`](#toc0_)\n",
    "\n",
    "La méthode SCF la plus largement utilisée en chimie quantique est sans aucun doute la théorie de la fonctionnelle de la densité (DFT), et exécuter un calcul DFT dans PySCF est presque aussi simple que d'exécuter un calcul Hartree-Fock.\n",
    "\n",
    "Afin d'accéder à des fonctions supplémentaires qui ne relèvent pas de la norme SCF/HF, il est nécessaire d'importer le module dft (théorie fonctionnelle de la densité)."
   ]
  },
  {
   "cell_type": "code",
   "execution_count": null,
   "metadata": {},
   "outputs": [],
   "source": [
    "from pyscf import dft\n",
    "\n",
    "mfd=dft.KS(DWat_mol)\n",
    "\n",
    "mfd.conv_tol=1e-12\n",
    "mfd.conv_tol_grad=1e-8\n",
    "mfd.direct_scf_tol=1e-13\n",
    "mfd.init_guess='1e'\n",
    "mfd.max_cycle=100\n",
    "mfd.max_memory=8000\n",
    "\n",
    "mfd.xc='wB97X-D' # la fonctionnelle\n",
    "mfd.grids.atom_grid=(50,194)\n",
    "mfd.grids.becke_scheme=dft.gen_grid.original_becke\n",
    "mfd.grids.prune=None\n",
    "mfd.grids.radi_method=dft.radi.gauss_chebyshev\n",
    "mfd.grids.radii_adjust=None\n",
    "mfd.grids.verbose=0\n",
    "mfd.small_rho_cutoff=1e-10\n",
    "\n",
    "mfd.kernel()"
   ]
  },
  {
   "cell_type": "code",
   "execution_count": null,
   "metadata": {},
   "outputs": [],
   "source": [
    "mfd.dump_scf_summary()"
   ]
  },
  {
   "cell_type": "code",
   "execution_count": null,
   "metadata": {},
   "outputs": [],
   "source": [
    "mfd.scf_summary"
   ]
  },
  {
   "cell_type": "markdown",
   "metadata": {},
   "source": [
    "RHF et RKS (ainsi que UHF et UKS) partagent de nombreux attributs, nous ne couvrirons donc que ceux qui concernent spécifiquement DFT. Ces attributs supplémentaires concernent principalement la fonctionnelle d'échange-corrélation et le maillage utilisé pour son intégration numérique.\n",
    "\n",
    "#### <a id='toc1_4_3_1_'></a>[Attribut xc](#toc0_)\n",
    "\n",
    "(NO DEFAULT)\n",
    "\n",
    "L'attribut xc définit l'approximation de la fonctionnelle de la densité. Il vise à absorber la corrélation extrêmement complexe de nombreuses particules et les effets fermioniques (d'échange) dans une énergie et un potentiel électroniques de champ moyen apparemment simples mais formellement exacts et théoriquement existants.\n",
    "\n",
    "Un grand nombre de fonctionnalles de corrélation-échange sont disponibles pour une utilisation dans PySCF, essentiellement toutes celles qui sont disponibles dans la version installée de libxc.\n",
    "\n",
    "![DFT_Accuracy.jpg](./Graphics/DFT_Accuracy.jpg)\n",
    "\n",
    "<!-- <center><img src=\"Graphics/DFT_Accuracy.jpg\" width=\"450\"/></center> -->\n",
    "\n",
    "Les règles d'analyse de l'attribut xc soient expliquées dans le [manuel PySCF](http://sunqm.github.io/pyscf/dft.html#customizing-xc-functional). Nous allons passer en revue les principaux exemples pertinents ici :\n",
    "\n",
    "1. Fonctionnalité de corrélation-échange standard (précodée)\n",
    "\n",
    "   * Un exemple classique de ce scénario est la très populaire fonction `B3LYP`. Pour exécuter un calcul B3LYP, spécifiez simplement `mf.xc='B3LYP'`.\n",
    "  \n",
    "   * Tant que les virgules et les opérateurs ne sont pas utilisés, PySCF supposera que la chaîne indique une fonction de corrélation-échange complète. D'autres exemples peuvent inclure `mf.xc='PBE'`, `mf.xc='TPSS'`, `mf.xc='M06-L'`, etc.\n",
    "\n",
    "2. Combinaison d'une fonction d'échange unique avec une fonction de corrélation unique\n",
    "\n",
    "   * Il s'agit d'un choix populaire, en particulier pour l'utilisation de diverses combinaisons des anciennes fonctionnelles d'échange et de corrélation des années 1980 et 1990.\n",
    "  \n",
    "   * Dans PySCF, l'insertion d'une virgule dans la chaîne d'attribut xc indique une séparation entre l'échange (à gauche de la virgule) et la corrélation (à droite de la virgule). Par exemple, si on veut exécuter un échange B88 avec une corrélation PBE, on indique `mf.xc='B88,PBE'`.\n",
    "  \n",
    "   * Étant donné que la fonctionnelle de corrélation-échange PBE est une combinaison d'échange PBE et de corrélation PBE, il s'ensuit que `mf.xc='PBE'` et `mf.xc='PBE,PBE'` sont des façons exactement équivalentes d'utiliser la fonctionnelle PBE.\n",
    "  \n",
    "   * D'autres combinaisons populaires d'une fonction d'échange unique avec une fonction de corrélation unique incluent `mf.xc='B88,LYP'`, `mf.xc='revPBE,PBE'` et `mf.xc='OPTX,LYP' `. Ces combinaisons sont historiquement connues sous le nom de BLYP, revPBE et OLYP, et peuvent être appelées de manière équivalente `mf.xc='BLYP'`, `mf.xc='revPBE'` et `mf.xc='OLYP'`.\n",
    "  \n",
    "   * Cette option est particulièrement utile lorsque l'on s'intéresse à une combinaison non conventionnelle, par exemple, la combinaison d'échange PBE avec corrélation TPSS, `mf.xc='PBE,TPSS'`.\n",
    "\n",
    "3. Fonction d'échange unique ou fonction de corrélation unique\n",
    "\n",
    "   * L'utilisation d'une fonctionnelle d'échange unique, par exemple, l'échange PBE uniquement, est aussi simple que `mf.xc='PBE,'`. De même, la corrélation PBE ne peut être spécifiée qu'avec `mf.xc=',PBE'`. Dans le premier cas (échange PBE uniquement), le fait qu'il y ait une virgule indique à l'analyseur syntaxique qu'une fonctionnelle xc précodée n'est pas utilisée. Par conséquent, tout ce qui se trouve à gauche de la virgule (PBE) est considéré comme la fonctionnelle d'échange, tandis que tout ce qui se trouve à droite de la virgule (rien) est considéré comme la fonctionnelle de corrélation. La situation inverse s'applique au deuxième cas avec corrélation PBE uniquement.\n",
    "\n",
    "4. Fonctionnalité de corrélation-échange personnalisée\n",
    "\n",
    "   * Naturellement, il est possible de personnaliser entièrement l'attribut xc. Encore une fois, tout ce qui se trouve à gauche de la virgule est supposé faire référence à l'échange, et tout ce qui se trouve à droite de la virgule est supposé faire référence à la corrélation.\n",
    "  \n",
    "   * Afin de commencer avec quelque chose de simple, nous montrons comment spécifier la fonctionnelle xc [PBE0](https://aip.scitation.org/doi/abs/10.1063/1.478522) en la construisant à partir de ses composants (la fonctionnelle facile s'écrit simplement `mf.xc='PBE0'`). Le PBE0 comprend 25 % d'échange exact (Hartree-Fock), 75 % d'échange PBE et 100 % de corrélation PBE : `mf.xc='0.25*HF+0.75*PBE,PBE'`.\n",
    "  \n",
    "   * Un exemple plus compliqué est celui de B3LYP. B3LYP comprend 20 % d'échange exact (Hartree-Fock), 8 % d'échange LDA, 72 % d'échange B88, 19 % de corrélation VWN et 81 % de corrélation LYP. Malheureusement, il existe 6 paramétrages de la fonctionnelle de corrélation VWN LDA, ce qui a conduit à beaucoup de confusion au fil des ans.\n",
    "  \n",
    "   * PySCF, TURBOMOLE, GAMESS, ORCA et PSI4 utilisent tous le paramétrage VWN5, et les deux affectations suivantes sont équivalentes :\n",
    "     * `mf.xc='B3LYP'`\n",
    "     * `mf.xc='0.2*HF+0.08*LDA+0.72*B88,0.19*VWN5+0.81*LYP'`\n",
    "   * Q-Chem et NWChem utilisent le paramétrage VWN1RPA :\n",
    "     * `mf.xc='0.2*HF+0.08*LDA+0.72*B88,0.19*VWN_RPA+0.81*LYP'`\n",
    "   * Gaussian utilise la paramétrisation VWN3 :\n",
    "     * `mf.xc='0.2*HF+0.08*LDA+0.72*B88,0.19*VWN3+0.81*LYP'`    \n",
    "  "
   ]
  },
  {
   "cell_type": "markdown",
   "metadata": {},
   "source": [
    "### Analyse du champ moyen\n",
    "\n",
    "On utilise la méthode `analyze` de l'objet de champ moyen pour imprimer les propriétés moléculaires pertinentes. "
   ]
  },
  {
   "cell_type": "code",
   "execution_count": null,
   "metadata": {},
   "outputs": [],
   "source": [
    "mf.analyze(verbose = 4) # store in 'Dwat_HF.txt'"
   ]
  },
  {
   "cell_type": "markdown",
   "metadata": {},
   "source": [
    "## Choix du set de bases\n",
    "\n",
    "L'équation de Schrödinger à plusieurs électrons est généralement résolue sur une base d'orbitales moléculaires exprimées sous la forme d'une **combinaison linéaire de ses orbitales atomiques (LCAO, Linear combination of atomic orbitals)**, \n",
    "$$\n",
    "     \\phi_a(\\mathbf{r}) =\n",
    "     \\sum_A^\\mathrm{atomes}\n",
    "     \\sum_\\alpha C^A_{\\alpha a}\n",
    "     \\chi^A_{\\alpha}(\\mathbf{r} - \\mathbf{R}_A)\n",
    "$$\n",
    "Les coefficients LCAO, utilisés pour construire des orbitales moléculaires (MO), sont obtenus grâce à la minimisation de l'énergie totale, selon le principe variationnel. Pour plus de commodité, la base est généralement représentée par des fonctions centrées sur les atomes (les positions atomiques) pour les systèmes moléculaires, ou par des fonctions d'état plane en physique du solide.\n",
    "\n",
    "### Ensembles de bases traditionnels\n",
    "\n",
    "Les deux classes traditionnelles  d'orbitales de base approximatives couramment utilisées sont :\n",
    "* les **Slater-type orbitals (STOs)** basées sur le déterminant de Slater, construitent avec des fonctions exponentielles décroissantes $e^{-\\alpha r}$,\n",
    "* et les **orbitales cartésiennes de type Gaussien (GTO)**, construitent avec des fonctions Gaussiennes $e^{-\\alpha r^2}$. L’utilisation de ces fonctions Gaussiennes est bien plus efficace que la stratégie STO pour calculer les nombreuses intégrales de chevauchement nécessaires à la chimie quantique.\n",
    "\n",
    "Ces deux types de fonctions de base peut être combiné comme **STO-nG (Slater-type orbital-n Gaussians)**, où n est le nombre de Gaussiennes utilisées pour faire les approximations.\n",
    "\n",
    "Les ensembles de base sont construits à partir de nombreuses primitives Gaussiennes. La notation de Pople est l'une des notations les plus explicites pour les ensembles de bases :\n",
    "- le trait d'union (-) sépare la référence aux orbitales centrales et de valence ;\n",
    "- les chiffres représentent le nombre de primitives Gaussiennes dans une fonction ;\n",
    "- il y a autant de chiffres qu'il y a de fonctions pour chaque orbitale atomique (zeta $\\zeta$) ;\n",
    "- la lettre G fait référence à l'utilisation de fonctions Gaussiennes.\n",
    "\n",
    "À titre d'exemple, l'ensemble de base double zêta `3-21G` utilise trois primitives Gaussiennes pour chaque orbitale centrale et un ensemble de deux plus une primitives Gaussiennes pour les orbitales de valence. Plus d'informations, d'exemples et de discussions sur les GTO peuvent être trouvés dans ce [lien](https://chem.libretexts.org/Courses/Pacific_Union_College/Quantum_Chemistry/11%3A_Computational_Quantum_Chemistry/11.02%3A_Gaussian_Basis_Sets).\n",
    "\n",
    "Généralement, on adopte des ensembles identiques de fonctions de base pour tous les atomes d'un élément donné et les ensembles adoptés pour les différents éléments doivent avoir une précision équilibrée. Une déclaration telle que « *nous avons utilisé la base 6-31G définie dans le calcul* » signifie qu'un ensemble équilibré d'ensembles d'AO a été adopté pour tous les éléments.\n",
    "\n",
    "L’ensemble de base étant une approximation, il est hautement souhaitable de pouvoir contrôler sa précision afin de faire des compromis entre le coût du calcul et la précision des résultats obtenus. En conséquence, les ensembles de base modernes se répartissent généralement en familles de tailles variables : les ensembles les plus petits permettent des calculs rapides mais qualitatifs, tandis que les ensembles plus grands permettent des calculs quantitatifs au prix de plus de temps de calcul.\n",
    "\n",
    "La fonction d'état pour une molécule est une approximation lors de l'utilisation d'un ensemble de base finie,\n",
    "$$\n",
    "\\Phi_{\\text{approx}} = \\sum_{i=0}^N c_i |i \\rangle\n",
    "$$\n",
    "\n",
    "En vertu du principe variationnel, en considérant que $\\Phi_{\\text{approx}}$ est normalisée, l'énergie approximée est supérieure ou égale à la véritable énergie de l'état fondamentale,\n",
    "$$\n",
    "\\langle \\Phi_{\\text{approx}} | \\hat{H} | \\Phi_{\\text{approx}} \\rangle = \\epsilon_{\\text{approx}} \\geq  \\epsilon_{\\text{true}}\n",
    "$$\n",
    "\n",
    "A mesure que l'ensemble de base s'agrandit, l'approximation résultante  se rapproche de la véritable fonction d'état,\n",
    "$$\n",
    "\\Phi_{\\text{approx}} = \\sum_{i=0}^{\\infty} c_i |i \\rangle \\approx \\Psi_{\\text{true}}\n",
    "$$\n",
    "\n",
    "Cependant, augmenter la taille de l'ensemble de base a pour effet d'augmenter le nombre de paramètres à optimiser, étendant ainsi les ressources de calculs requises dans l'espace (espace de stockage) et en temps (nombre d'opérations). Il est souvent judicieux d'équilibrer la taille de l'ensemble de base pour optimiser le temps de résolution par rapport à la précision cible ($|\\epsilon_{\\text{approx}} -  \\epsilon_{\\text{true}}|$), puisque l'augmentation de la complexité de l'ensemble de base produit des rendements décroissants en termes de gain de précision.\n",
    "\n",
    " De plus en plus de bases sont disponibles pour la communauté, et le choix d'un ensemble de bases peut s'avérer une tâche difficile. La théorie stipule qu'une base infinie est le moyen d'obtenir de vrais calculs des fonctions d'état. En pratique, il n'est pas possible d'effectuer les calculs avec des ensembles de bases infinis et d'obtenir des vraies fonction d'état. On peut cependant sélectionner des ensembles de bases finis et adapter nos approches aux cas d'utilisation. En règle générale, \n",
    "* un double zêta (par exemple `6-31G` ou `cc-pvdz`) est la taille de base minimale requise pour obtenir des énergies semi-quantitatives;\n",
    "* pour les molécules présentant une différence d'électronégativité élevée entre les atomes, l'ajout de fonctions de polarisation (par exemple `6-31G**` ou `6-31G(d,p)`) est recommandé;\n",
    "* les fonctions diffuses (par exemple `6-31G+(d,p)`) doivent être incluses lorsqu'il s'agit d'anions. Les fonctions diffuses sont des fonctions avec de petits coefficients (petit $\\alpha$ dans $e^{-\\alpha r^2}$) qui peuvent s'adapter à la densité électronique loin du noyau;\n",
    "* les ensembles de bases des potentiels de noyau effectif (Effective Core Potential, ECP) sont nécessaires lorsqu'il s'agit d'atomes plus lourds avec des effets relativistes et des effets non triviaux (par exemple, l'atome d'iode est souvent modélisé dans l'ensemble de base `LANDL2DZ`).\n",
    "\n",
    "**Tableau** : Catégories d'ensemble de base.\n",
    "| Catégorie | Caractère | Exemple |\n",
    "| -------- | --------- | ------- |\n",
    "| Minimale| Fonction de base unique par orbitale atomique occupée, la taille des éléments de la deuxième rangée est $[2s1p]$ | STO-3G |\n",
    "| Double-$\\zeta$ | Deux fonctions de base par orbitale atomique de valence occupée, la taille des éléments de la deuxième rangée est $[3s2p]$ | 6-31G |\n",
    "| Triple-$\\zeta$ | Trois fonctions de base par orbitale atomique de valence occupée, pour les éléments de deuxième rangée $[4s3p]$ | 6-311G |\n",
    "| Polarisation | Fonctions de base avec un moment cinétique plus élevé ; important pour la liaison chimique ; la taille des éléments de la deuxième ligne est $[3s2p1d]$ | cc-pVDZ |\n",
    "| Diffusion | Fonctions de base avec de petits exposants ; important pour les états excités ; les tailles des éléments de la deuxième rangée sont $[4s3p]$ pour 6-31+G et $[4s3p2d]$ pour aug-cc-pVDZ | 6-31+G, aug-cc-pVDZ |\n",
    "\n",
    "\n",
    "### Ensembles de base de karlsruhe\n",
    "\n",
    " Contrairement aux ensembles de bases traditionnels, les familles d'ensembles de bases modernes permettent une approche rentable de la limite complète de l'ensemble de bases, auquel cas l'erreur dans l'ensemble de base à un électron n'affecte plus le calcul. Notez que d'autres types d'ensembles de bases que les gaussiennes peuvent également être utilisés pour la chimie quantique.\n",
    "\n",
    "La famille Karlsruhe `def2` d'ensembles de bases gaussiennes, qui constituent un bon choix complet pour la chimie quantique car ils sont disponibles pour l'ensemble du tableau périodique jusqu'au radon (Z = 86). Les ensembles Karlsruhe def2 sont disponibles en trois niveaux de précision. \n",
    "\n",
    "* Les ensembles de bases à valence divisée (SV) constituent le plus petit ensemble de bases raisonnable pour les applications générales. La base `def2-SVP` est un ensemble de base SV avec des fonctions de polarisation (P) et est de taille similaire au `6-31G**` également connu sous le nom d'ensemble de base `6-31G(d,p)`. Comme le `6-31G**`, l'ensemble `def2-SVP` peut également être utilisé sans fonctions de polarisation sur les atomes d'hydrogène ; cette base est appelée `def2-SV(P)`, elle est plus petite que la base `6-31G*`, et elle est souvent utile pour des calculs qualitatifs/semi-quantitatifs rapides. \n",
    "\n",
    "* Pour des calculs plus quantitatifs, la série def2 contient également un ensemble de polarisations de valence triple ζ (`def2-TZVP`) ainsi qu'un ensemble de polarisations de valence quadruple ζ (`def2-QZVP`), qui suffisent généralement pour atteindre la limite complète de l'ensemble de base en HF. et calculs DFT. * Les calculs aux niveaux théoriques post-HF, nécessitent, cependant, des ensembles de bases plus larges avec des fonctions de polarisation supplémentaires ; les ensembles de base `def2-TZVPP` et `def2-QZVPP` existent à cet effet. \n",
    "\n",
    "* Les fonctions diffuses (D) sont nécessaires à la description correcte des anions ainsi qu'à la modélisation, de la polarisabilité électrique par exemple. Des ensembles sont à cet effet disponibles à tous les niveaux de précision (`def2-SVPD`, `def2-TZVPD`, `def2-TZVPPD`, `def2-QZVPD`, `def2-QZVPPD`).\n",
    "\n",
    "Ci-dessous, des exemples d’ensembles de base populaires utilisés en chimie quantique. Une liste complète des ensembles de bases disponibles pris en charge dans [PySCF](https://pyscf.org/) est disponible sur ce [lien](https://pyscf.org/_modules/pyscf/gto/basis.html).\n"
   ]
  },
  {
   "cell_type": "code",
   "execution_count": null,
   "metadata": {},
   "outputs": [],
   "source": [
    "basis_sets = [\n",
    "    \"STO-3G\",           # Simple zeta, minimal basis\n",
    "    \"3-21G\",            # Double zeta with 3 Gaussian primitives\n",
    "    \"6-31G\",            # Double zeta with 6 Gaussian primitives\n",
    "    \"6-31G*\",           # Double zeta with 6 Gaussian primitives\n",
    "    \"6-31G(d,p)\",       # Polarization functions (+ 5 d-orbitals for all atoms except H, +3 p-orbitals for H atoms) added\n",
    "    \"6-311G(d,p)\",      # Triple zeta with polarization functions\n",
    "    \"6-311+G(d,p)\",     # Triple zeta with polarization functions and diffuse functions\n",
    "    \"cc-pvqz\",          # Quadruple zeta\n",
    "    \"cc-pv5z\",          # Quintuple zeta\n",
    "    \"def2-SVP\",         # Double zeta with polarization functions\n",
    "    \"def2-SVPD\",         # Double zeta with polarization functions and diffuse functions\n",
    "    \"def2-TZVP\",        # Triple zeta with polarization functions\n",
    "    \"def2-TZVPD\",       # Triple zeta with polarization functions and diffuse functions\n",
    "    \"def2-TZVPP\",       # Triple zeta with polarization functions and diffuse functions\n",
    "    \"def2-TZVPPD\",      # Triple zeta with polarization functions, diffuse functions, and d functions\n",
    "    \"def2-QZVP\",        # Quadruple zeta with polarization functions\n",
    "    \"def2-QZVPP\",       # Quadruple zeta with polarization functions and diffuse functions\n",
    "    \"def2-QZVPPD\",      # Quadruple zeta with polarization functions, diffuse functions, and d functions\n",
    "    \"def2-QZVPD\",       # Quadruple zeta with polarization functions and diffuse functions\n",
    "    \"def2-QZVPPD\",      # Quadruple zeta with polarization functions, diffuse functions, and d functions\n",
    "]"
   ]
  },
  {
   "cell_type": "markdown",
   "metadata": {},
   "source": []
  },
  {
   "cell_type": "markdown",
   "metadata": {},
   "source": [
    "### <a id='toc1_4_5_'></a>[Effet de l'ensemble de base sur les calculs d'énergie totale et le temps de calculs](#toc0_)"
   ]
  },
  {
   "cell_type": "code",
   "execution_count": null,
   "metadata": {},
   "outputs": [],
   "source": [
    "import time\n",
    "\n",
    "mf_energies = list()\n",
    "mf_times = list()\n",
    "nb_prim = list()\n",
    "\n",
    "# Perform a Mean-Field calculation for each basis set\n",
    "for bs in basis_sets:\n",
    "\n",
    "    # Measure execution time\n",
    "    start = time.time()\n",
    "    DWat_mol.basis = bs\n",
    "    DWat_mol.build()\n",
    "\n",
    "    mf = scf.RHF(DWat_mol)\n",
    "    mf.kernel()\n",
    "    end = time.time()\n",
    "\n",
    "    nb_prim.append(DWat_mol.npgto_nr())\n",
    "    mf_energies.append(mf.e_tot)\n",
    "    mf_times.append(end-start)\n"
   ]
  },
  {
   "cell_type": "code",
   "execution_count": null,
   "metadata": {},
   "outputs": [],
   "source": [
    "# Create the results dataframe\n",
    "import pandas as pd\n",
    "\n",
    "df_HF = pd.DataFrame({\"Basis\":basis_sets, \n",
    "                      'Nb of GTO primitives':nb_prim, \n",
    "                      'Total energy':mf_energies,\n",
    "                      \"Time\":mf_times})\n",
    "\n",
    "df_HF\n"
   ]
  },
  {
   "cell_type": "markdown",
   "metadata": {},
   "source": [
    "* Illustration avec `matplotlib.pyplot` qui est par défaut statique, mais que nous allons rendre interactif avec la commande magique `%matplotlib notebook`."
   ]
  },
  {
   "cell_type": "code",
   "execution_count": null,
   "metadata": {},
   "outputs": [],
   "source": [
    "%matplotlib notebook\n",
    "import matplotlib.pyplot as plt\n",
    "\n",
    "# Create the matplotlib figure\n",
    "fig, ax = plt.subplots(figsize=(8,5))\n",
    "\n",
    "# Plot the energies.\n",
    "ax.set_xticks(range(len(basis_sets)), basis_sets, rotation=90)\n",
    "ax.set_xlabel(\"Basis set\")\n",
    "ax.set_ylabel(\"Energy(Hartree)\", color=\"b\")\n",
    "ax.scatter(range(len(basis_sets)), mf_energies, marker=\"o\", s=50, color=\"b\")\n",
    "\n",
    "# Plot the time to solution\n",
    "ax_time = ax.twinx()\n",
    "ax_time.scatter(range(len(basis_sets)), mf_times, marker=\"s\", s=50, color=\"r\")\n",
    "ax_time.set_ylabel(\"Time to solution(s)\", color=\"r\", rotation=270, va=\"bottom\")\n",
    "\n",
    "# Show the graph\n",
    "plt.tick_params(axis=\"both\", direction=\"in\")\n",
    "plt.show()"
   ]
  },
  {
   "cell_type": "markdown",
   "metadata": {},
   "source": [
    "* Illustration avec `plotly.express` qui est interactif par défaut."
   ]
  },
  {
   "cell_type": "code",
   "execution_count": null,
   "metadata": {},
   "outputs": [],
   "source": [
    "import plotly.express as px\n",
    "\n",
    "# Create the figure\n",
    "fig = px.scatter()\n",
    "\n",
    "# Convert basis_sets to a list\n",
    "basis_indices = list(range(len(basis_sets)))\n",
    "\n",
    "# Plot the energies\n",
    "fig.add_scatter(x=basis_indices, y=mf_energies, mode=\"markers\",\\\n",
    "                marker=dict(symbol=\"circle\", size=10, color=\"blue\"), name=\"Energy (Hartree)\")\n",
    "\n",
    "# Plot the time to solution\n",
    "fig.add_scatter(x=basis_indices, y=mf_times, mode=\"markers\",\\\n",
    "                marker=dict(symbol=\"square\", size=10, color=\"red\"), name=\"Time to solution (s)\", yaxis=\"y2\")\n",
    "\n",
    "# Set the x-axis labels and tick labels\n",
    "fig.update_layout(xaxis=dict(tickmode=\"array\", tickvals=basis_indices, ticktext=basis_sets, tickangle=90))\n",
    "\n",
    "# Set the y-axis labels and colors\n",
    "fig.update_layout(yaxis=dict(title=\"Energy(Hartree)\", color=\"blue\"),\\\n",
    "                  yaxis2=dict(title=\"Time to solution (s)\", color=\"red\", overlaying=\"y\",\\\n",
    "                              side=\"right\"))\n",
    "\n",
    "# Show the graph\n",
    "fig.show()"
   ]
  },
  {
   "cell_type": "markdown",
   "metadata": {},
   "source": [
    "Le tableau précédent et cette figure suggèrent `def2-TZVPP` comme le bon ensemble de bases pour cette molécule."
   ]
  },
  {
   "cell_type": "code",
   "execution_count": null,
   "metadata": {},
   "outputs": [],
   "source": []
  }
 ],
 "metadata": {
  "jupytext": {
   "formats": "ipynb,md"
  },
  "kernelspec": {
   "display_name": "qiskit-env",
   "language": "python",
   "name": "qiskit-env"
  },
  "language_info": {
   "codemirror_mode": {
    "name": "ipython",
    "version": 3
   },
   "file_extension": ".py",
   "mimetype": "text/x-python",
   "name": "python",
   "nbconvert_exporter": "python",
   "pygments_lexer": "ipython3",
   "version": "3.10.14"
  },
  "widgets": {
   "application/vnd.jupyter.widget-state+json": {
    "state": {},
    "version_major": 2,
    "version_minor": 0
   }
  }
 },
 "nbformat": 4,
 "nbformat_minor": 4
}
