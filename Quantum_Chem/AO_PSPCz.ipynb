{
 "cells": [
  {
   "cell_type": "markdown",
   "metadata": {},
   "source": [
    "# Orbitales atomiques - Brève révue\n",
    "\n",
    "Considérons le **phenylsulfonyl-carbazole** (PSPCz) qui est repertorié dans la base de donnée PubChem comme suit:  \n",
    "|Indicator |Value|\n",
    "|--|--|\n",
    "|smile| C1=CC=C(C=C1)S(=O)(=O)C2=CC=CC(=C2)N3C4=CC=CC=C4C5=CC=CC=C53|\n",
    "|Compound CID| 132916142|\n",
    "|Molecular Formula|  $C_{24}H_{17}NO_2S$|\n",
    "|IUPAC Name| 9-[4-(benzenesulfonyl)phenyl]carbazole|\n",
    "|doi|10.1038/s41524-021-00540-6|\n",
    "\n",
    "Le PSPCz est un type de molécule organique qui appartient à la famille des hydrocarbures aromatiques polycycliques (HAP). Elle possède une structure complexe composée de plusieurs anneaux et groupes fonctionnels. Le cœur de la molécule est composé de deux anneaux de benzène fusionnés, qui sont reliés à un système d'anneaux plus large contenant des atomes d'azote et de soufre.\n",
    "\n",
    "<center> <img src = \"../resources/PSPCz_3D.png\" width = \"600\"> </center>\n",
    "\n",
    "1. Quel est le nombre d'atomes C, H, N, O, S ?\n",
    "2. Quel est le nombre total d'atomes ?\n",
    "3. Quel est le nombre total d'orbitales atomiques (AO) ?\n",
    "4. Quel est le nombre total d'orbitales moléculaires (MO) ?\n"
   ]
  },
  {
   "cell_type": "markdown",
   "metadata": {},
   "source": [
    "Le **nombre total d'AO est égal au nombre de MO** selon le principe de combinaison linéaire d'orbites atomiques (LCAO). Le nombre de AO dépend de la base. Le nombre ci-dessous est spécifique à la base `631g*` que nous utilisons dans ce tutoriel. Pour compter le nombre total d'orbitales atomiques, on compte le nombre d'atomes pour chaque élément, puis on multiplie le nombre d'AO par élément.\n",
    "- C: 1s, 2s2p, 3s3p3d  = 1+(1+3)+(1+3+5) = 14\n",
    "- H: 1s, 2s  = 1+1 = 2\n",
    "- N: 1s, 2s2p, 3s3p3d  = 1+(1+3)+(1+3+5) = 14\n",
    "- O: 1s, 2s2p, 3s3p3d  = 1+(1+3)+(1+3+5) = 14\n",
    "- S: 1s, 2s2p, 3s3p3d, 4s4p = 1+(1+3)+(1+3+5)+(1+3) = 18"
   ]
  },
  {
   "cell_type": "code",
   "execution_count": 43,
   "metadata": {},
   "outputs": [],
   "source": [
    "num_ao = {\n",
    "    'C': 14,\n",
    "    'H': 2,\n",
    "    'N': 14,\n",
    "    'O': 14,\n",
    "    'S': 18,\n",
    "    }"
   ]
  },
  {
   "cell_type": "code",
   "execution_count": 44,
   "metadata": {},
   "outputs": [
    {
     "data": {
      "text/plain": [
       "<pyscf.gto.mole.Mole at 0x7fd3cbcfe380>"
      ]
     },
     "execution_count": 44,
     "metadata": {},
     "output_type": "execute_result"
    }
   ],
   "source": [
    "from pyscf import gto, scf\n",
    "\n",
    "mol_xyz = './PSPCz.xyz'\n",
    "mol_pyscf = gto.Mole(\n",
    "    atom=open(mol_xyz).read(),\n",
    "    charge=0,\n",
    "    spin = 0,\n",
    "    basis = '631g*',\n",
    "    symmetry = True,\n",
    "    unit = 'Angstrom')\n",
    "\n",
    "mol_pyscf.build()"
   ]
  },
  {
   "cell_type": "code",
   "execution_count": 45,
   "metadata": {},
   "outputs": [
    {
     "ename": "SyntaxError",
     "evalue": "invalid syntax (3245996172.py, line 1)",
     "output_type": "error",
     "traceback": [
      "\u001b[0;36m  Cell \u001b[0;32mIn[45], line 1\u001b[0;36m\u001b[0m\n\u001b[0;31m    xtb PSPCz00.xyz --opt\u001b[0m\n\u001b[0m        ^\u001b[0m\n\u001b[0;31mSyntaxError\u001b[0m\u001b[0;31m:\u001b[0m invalid syntax\n"
     ]
    }
   ],
   "source": [
    "xtb PSPCz00.xyz --opt"
   ]
  },
  {
   "cell_type": "code",
   "execution_count": 6,
   "metadata": {},
   "outputs": [],
   "source": [
    "import subprocess as sp\n",
    "# import os\n",
    "import pathlib as pl\n",
    "\n",
    "# crest = pl.Path(os.environ[\"XTBHOME\"] / pl.Path(\"bin\") / pl.Path(\"crest\"))\n",
    "# xtb = pl.Path(os.environ[\"XTBHOME\"] / pl.Path(\"bin\") / pl.Path(\"xtb\"))\n",
    "# from pathlib import Path\n",
    "\n",
    "xtb = pl.Path(\"/home/taamangtchu/mambaforge/envs/qiskit-env/bin/xtb\")\n",
    "# xtb --version\n",
    "\n",
    "def xtb_energy(self, file):\n",
    "        # Single point\n",
    "        sp.run(['rm', 'gfnff_charges', 'gfnff_topo'], stdout=sp.DEVNULL, stderr=sp.DEVNULL)\n",
    "        output = sp.run([xtb, file, '--gfnff'], stdout=sp.PIPE, stderr=sp.DEVNULL)\n",
    "        # Read output\n",
    "        line = [li for li in output.stdout.decode(\"utf-8\").splitlines() if 'TOTAL ENERGY' in li]\n",
    "        line = line[0].split()\n",
    "        energy = float(line[3])\n",
    "        return energy\n"
   ]
  },
  {
   "cell_type": "code",
   "execution_count": 7,
   "metadata": {},
   "outputs": [
    {
     "data": {
      "text/plain": [
       "CompletedProcess(args=[PosixPath('/home/taamangtchu/mambaforge/envs/qiskit-env/bin/xtb'), './PSPCz00.xyz', '--gfn', '0', '--opt', 'normal', '--iterations', '4000'], returncode=1)"
      ]
     },
     "execution_count": 7,
     "metadata": {},
     "output_type": "execute_result"
    }
   ],
   "source": [
    "sp.run([xtb, './PSPCz00.xyz', '--gfn', '0', '--opt', 'normal', '--iterations', '4000'], stdout=sp.DEVNULL, stderr=sp.DEVNULL)\n"
   ]
  },
  {
   "cell_type": "code",
   "execution_count": 24,
   "metadata": {},
   "outputs": [
    {
     "name": "stdout",
     "output_type": "stream",
     "text": [
      "Nombre atomes C: 24, H: 17, N: 1, O: 2, S: 1\n",
      "Nombre total atomes: 1800\n",
      "Nombre total AO: 430 et Nombre total MOs: 430\n"
     ]
    }
   ],
   "source": [
    "\n",
    "num_C_atom = sum(x.count('C') for x in mol_pyscf.atom)\n",
    "num_H_atom = sum(x.count('H') for x in mol_pyscf.atom)\n",
    "num_N_atom = sum(x.count('N') for x in mol_pyscf.atom)\n",
    "num_O_atom = sum(x.count('O') for x in mol_pyscf.atom)\n",
    "num_S_atom = sum(x.count('S') for x in mol_pyscf.atom)\n",
    "\n",
    "print(f'Nombre atomes C: {num_C_atom}, H: {num_H_atom}, N: {num_N_atom}, O: {num_O_atom}, S: {num_S_atom}')\n",
    "\n",
    "num_atoms_total = len(mol_pyscf.atom)\n",
    "print(f'Nombre total atomes: {num_atoms_total}')\n",
    "      \n",
    "num_AO_total = num_C_atom * num_ao['C'] + \\\n",
    "               num_H_atom * num_ao['H'] + \\\n",
    "               num_N_atom * num_ao['N'] + \\\n",
    "               num_O_atom * num_ao['O'] + \\\n",
    "               num_S_atom * num_ao['S']\n",
    "num_MO_total = num_AO_total\n",
    "print(f'Nombre total AO: {num_AO_total} et Nombre total MOs: {num_MO_total}')"
   ]
  },
  {
   "cell_type": "code",
   "execution_count": 33,
   "metadata": {},
   "outputs": [
    {
     "data": {
      "text/plain": [
       "(100, 100)"
      ]
     },
     "execution_count": 33,
     "metadata": {},
     "output_type": "execute_result"
    }
   ],
   "source": [
    "mol_pyscf.nelec"
   ]
  }
 ],
 "metadata": {
  "kernelspec": {
   "display_name": "qiskit-env",
   "language": "python",
   "name": "qiskit-env"
  },
  "language_info": {
   "codemirror_mode": {
    "name": "ipython",
    "version": 3
   },
   "file_extension": ".py",
   "mimetype": "text/x-python",
   "name": "python",
   "nbconvert_exporter": "python",
   "pygments_lexer": "ipython3",
   "version": "3.10.13"
  }
 },
 "nbformat": 4,
 "nbformat_minor": 2
}
