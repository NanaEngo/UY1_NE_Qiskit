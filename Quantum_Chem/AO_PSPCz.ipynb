{
 "cells": [
  {
   "cell_type": "markdown",
   "metadata": {},
   "source": [
    "# Orbitales atomiques - Brève révue\n",
    "\n",
    "Considérons le **phenylsulfonyl-carbazole** (PSPCz) qui est repertorié dans la base de donnée PubChem comme suit:  \n",
    "|Indicator |Value|\n",
    "|--|--|\n",
    "|smile| C1=CC=C(C=C1)S(=O)(=O)C2=CC=CC(=C2)N3C4=CC=CC=C4C5=CC=CC=C53|\n",
    "|Compound CID| 132916142|\n",
    "|Molecular Formula|  $C_{24}H_{17}NO_2S$|\n",
    "|IUPAC Name| 9-[4-(benzenesulfonyl)phenyl]carbazole|\n",
    "|doi|10.1038/s41524-021-00540-6|\n",
    "\n",
    "Le PSPCz est un type de molécule organique qui appartient à la famille des hydrocarbures aromatiques polycycliques (HAP). Elle possède une structure complexe composée de plusieurs anneaux et groupes fonctionnels. Le cœur de la molécule est composé de deux anneaux de benzène fusionnés, qui sont reliés à un système d'anneaux plus large contenant des atomes d'azote et de soufre.\n",
    "\n",
    "<center> <img src = \"../resources/PSPCz_3D.png\" width = \"600\"> </center>\n",
    "\n",
    "1. Quel est le nombre d'atomes C, H, N, O, S ?\n",
    "2. Quel est le nombre total d'atomes ?\n",
    "3. Quel est le nombre total d'orbitales atomiques (AO) ?\n",
    "4. Quel est le nombre total d'orbitales moléculaires (MO) ?\n"
   ]
  },
  {
   "cell_type": "markdown",
   "metadata": {},
   "source": [
    "Le **nombre total d'AO est égal au nombre de MO** selon le principe de combinaison linéaire d'orbites atomiques (LCAO). Le nombre de AO dépend de la base. Le nombre ci-dessous est spécifique à la base `631g*` que nous utilisons dans ce tutoriel. Pour compter le nombre total d'orbitales atomiques, on compte le nombre d'atomes pour chaque élément, puis on multiplie le nombre d'AO par élément.\n",
    "- C: 1s, 2s2p, 3s3p3d  = 1+(1+3)+(1+3+5) = 14\n",
    "- H: 1s, 2s  = 1+1 = 2\n",
    "- N: 1s, 2s2p, 3s3p3d  = 1+(1+3)+(1+3+5) = 14\n",
    "- O: 1s, 2s2p, 3s3p3d  = 1+(1+3)+(1+3+5) = 14\n",
    "- S: 1s, 2s2p, 3s3p3d, 4s4p = 1+(1+3)+(1+3+5)+(1+3) = 18"
   ]
  },
  {
   "cell_type": "code",
   "execution_count": 1,
   "metadata": {},
   "outputs": [],
   "source": [
    "num_ao = {\n",
    "    'C': 14,\n",
    "    'H': 2,\n",
    "    'N': 14,\n",
    "    'O': 14,\n",
    "    'S': 18,\n",
    "    }"
   ]
  },
  {
   "cell_type": "code",
   "execution_count": 2,
   "metadata": {},
   "outputs": [
    {
     "data": {
      "text/plain": [
       "<pyscf.gto.mole.Mole at 0x7d9fb41405e0>"
      ]
     },
     "execution_count": 2,
     "metadata": {},
     "output_type": "execute_result"
    }
   ],
   "source": [
    "from pyscf import gto, scf\n",
    "\n",
    "mol_xyz = './data_PSPCz.xyz'\n",
    "mol_pyscf = gto.Mole(\n",
    "    atom=open(mol_xyz).read(),\n",
    "    charge=0,\n",
    "    spin = 0,\n",
    "    basis = '631g*',\n",
    "    symmetry = True,\n",
    "    unit = 'Angstrom')\n",
    "\n",
    "mol_pyscf.build()"
   ]
  },
  {
   "cell_type": "code",
   "execution_count": 3,
   "metadata": {},
   "outputs": [
    {
     "name": "stdout",
     "output_type": "stream",
     "text": [
      "      -----------------------------------------------------------      \n",
      "     |                   =====================                   |     \n",
      "     |                           x T B                           |     \n",
      "     |                   =====================                   |     \n",
      "     |                         S. Grimme                         |     \n",
      "     |          Mulliken Center for Theoretical Chemistry        |     \n",
      "     |                    University of Bonn                     |     \n",
      "      -----------------------------------------------------------      \n",
      "\n",
      "   * xtb version 6.6.1 (8d0f1dd) compiled by 'conda@1efc2f54142f' on 2023-08-01\n",
      "\n",
      "   xtb is free software: you can redistribute it and/or modify it under\n",
      "   the terms of the GNU Lesser General Public License as published by\n",
      "   the Free Software Foundation, either version 3 of the License, or\n",
      "   (at your option) any later version.\n",
      "   \n",
      "   xtb is distributed in the hope that it will be useful,\n",
      "   but WITHOUT ANY WARRANTY; without even the implied warranty of\n",
      "   MERCHANTABILITY or FITNESS FOR A PARTICULAR PURPOSE.  See the\n",
      "   GNU Lesser General Public License for more details.\n",
      "   \n",
      "   Cite this work as:\n",
      "   * C. Bannwarth, E. Caldeweyher, S. Ehlert, A. Hansen, P. Pracht,\n",
      "     J. Seibert, S. Spicher, S. Grimme, WIREs Comput. Mol. Sci., 2020, 11,\n",
      "     e01493. DOI: 10.1002/wcms.1493\n",
      "   \n",
      "   for GFN2-xTB:\n",
      "   * C. Bannwarth, S. Ehlert and S. Grimme., J. Chem. Theory Comput., 2019,\n",
      "     15, 1652-1671. DOI: 10.1021/acs.jctc.8b01176\n",
      "   for GFN1-xTB:\n",
      "   * S. Grimme, C. Bannwarth, P. Shushkov, J. Chem. Theory Comput., 2017,\n",
      "     13, 1989-2009. DOI: 10.1021/acs.jctc.7b00118\n",
      "   for GFN0-xTB:\n",
      "   * P. Pracht, E. Caldeweyher, S. Ehlert, S. Grimme, ChemRxiv, 2019, preprint.\n",
      "     DOI: 10.26434/chemrxiv.8326202.v1\n",
      "   for GFN-FF:\n",
      "   * S. Spicher and S. Grimme, Angew. Chem. Int. Ed., 2020, 59, 15665-15673.\n",
      "     DOI: 10.1002/anie.202004239\n",
      "   \n",
      "   for ALPB and GBSA implicit solvation:\n",
      "   * S. Ehlert, M. Stahn, S. Spicher, S. Grimme, J. Chem. Theory Comput.,\n",
      "     2021, 17, 4250-4261. DOI: 10.1021/acs.jctc.1c00471\n",
      "   \n",
      "   for DFT-D4:\n",
      "   * E. Caldeweyher, C. Bannwarth and S. Grimme, J. Chem. Phys., 2017,\n",
      "     147, 034112. DOI: 10.1063/1.4993215\n",
      "   * E. Caldeweyher, S. Ehlert, A. Hansen, H. Neugebauer, S. Spicher,\n",
      "     C. Bannwarth and S. Grimme, J. Chem. Phys., 2019, 150, 154122.\n",
      "     DOI: 10.1063/1.5090222\n",
      "   * E. Caldeweyher, J.-M. Mewes, S. Ehlert and S. Grimme, Phys. Chem. Chem. Phys.\n",
      "     2020, 22, 8499-8512. DOI: 10.1039/D0CP00502A\n",
      "   \n",
      "   for sTDA-xTB:\n",
      "   * S. Grimme and C. Bannwarth, J. Chem. Phys., 2016, 145, 054103.\n",
      "     DOI: 10.1063/1.4959605\n",
      "   \n",
      "   in the mass-spec context:\n",
      "   * V. Asgeirsson, C. Bauer and S. Grimme, Chem. Sci., 2017, 8, 4879.\n",
      "     DOI: 10.1039/c7sc00601b\n",
      "   * J. Koopman and S. Grimme, ACS Omega 2019, 4, 12, 15120-15133.\n",
      "     DOI: 10.1021/acsomega.9b02011\n",
      "   \n",
      "   for metadynamics refer to:\n",
      "   * S. Grimme, J. Chem. Theory Comput., 2019, 155, 2847-2862\n",
      "     DOI: 10.1021/acs.jctc.9b00143\n",
      "   \n",
      "   for SPH calculations refer to:\n",
      "   * S. Spicher and S. Grimme, J. Chem. Theory Comput., 2021, 17, 1701-1714\n",
      "     DOI: 10.1021/acs.jctc.0c01306\n",
      "   \n",
      "   with help from (in alphabetical order)\n",
      "   P. Atkinson, C. Bannwarth, F. Bohle, G. Brandenburg, E. Caldeweyher\n",
      "   M. Checinski, S. Dohm, S. Ehlert, S. Ehrlich, I. Gerasimov, C. Hölzer\n",
      "   A. Katbashev, J. Koopman, C. Lavigne, S. Lehtola, F. März, M. Müller,\n",
      "   F. Musil, H. Neugebauer, J. Pisarek, C. Plett, P. Pracht, F. Pultar,\n",
      "   J. Seibert, P. Shushkov, S. Spicher, M. Stahn, M. Steiner, T. Strunk,\n",
      "   J. Stückrath, T. Rose, and J. Unsleber\n",
      "   \n",
      " * started run on 2024/05/24 at 07:15:32.070     \n",
      "########################################################################\n",
      "[ERROR] Program stopped due to fatal error\n",
      "-2- reading geometry input 'data_PSPCz.xyz' failed\n",
      "-1- Error: Could not read number of atoms\n",
      " --> data_PSPCz.xyz:1:1\n",
      "  |\n",
      "1 | C      4.757385    0.267655   -2.784525\n",
      "  | ^ expected integer value\n",
      "  |\n",
      "########################################################################\n",
      "abnormal termination of xtb\n",
      "ERROR STOP \n",
      "\n",
      "Error termination. Backtrace:\n",
      "#0  0x79a8a75877b5 in ???\n",
      "#1  0x597af145d857 in ???\n",
      "#2  0x597af1449224 in ???\n",
      "#3  0x79a8a6e29d8f in __libc_start_call_main\n",
      "\tat ../sysdeps/nptl/libc_start_call_main.h:58\n",
      "#4  0x79a8a6e29e3f in __libc_start_main_impl\n",
      "\tat ../csu/libc-start.c:392\n",
      "#5  0x597af14492c8 in ???\n"
     ]
    }
   ],
   "source": [
    "!xtb data_PSPCz.xyz --opt"
   ]
  },
  {
   "cell_type": "code",
   "execution_count": 6,
   "metadata": {},
   "outputs": [],
   "source": [
    "import subprocess as sp\n",
    "# import os\n",
    "import pathlib as pl\n",
    "\n",
    "\n",
    "def xtb_energy(self, file):\n",
    "        # Single point\n",
    "        sp.run(['rm', 'gfnff_charges', 'gfnff_topo'], stdout=sp.DEVNULL, stderr=sp.DEVNULL)\n",
    "        output = sp.run([xtb, file, '--gfnff'], stdout=sp.PIPE, stderr=sp.DEVNULL)\n",
    "        # Read output\n",
    "        line = [li for li in output.stdout.decode(\"utf-8\").splitlines() if 'TOTAL ENERGY' in li]\n",
    "        line = line[0].split()\n",
    "        energy = float(line[3])\n",
    "        return energy\n"
   ]
  },
  {
   "cell_type": "code",
   "execution_count": 7,
   "metadata": {},
   "outputs": [
    {
     "data": {
      "text/plain": [
       "CompletedProcess(args=[PosixPath('/home/taamangtchu/mambaforge/envs/qiskit-env/bin/xtb'), './PSPCz00.xyz', '--gfn', '0', '--opt', 'normal', '--iterations', '4000'], returncode=1)"
      ]
     },
     "execution_count": 7,
     "metadata": {},
     "output_type": "execute_result"
    }
   ],
   "source": [
    "sp.run([xtb, './PSPCz00.xyz', '--gfn', '0', '--opt', 'normal', '--iterations', '4000'], stdout=sp.DEVNULL, stderr=sp.DEVNULL)\n"
   ]
  },
  {
   "cell_type": "code",
   "execution_count": 24,
   "metadata": {},
   "outputs": [
    {
     "name": "stdout",
     "output_type": "stream",
     "text": [
      "Nombre atomes C: 24, H: 17, N: 1, O: 2, S: 1\n",
      "Nombre total atomes: 1800\n",
      "Nombre total AO: 430 et Nombre total MOs: 430\n"
     ]
    }
   ],
   "source": [
    "\n",
    "num_C_atom = sum(x.count('C') for x in mol_pyscf.atom)\n",
    "num_H_atom = sum(x.count('H') for x in mol_pyscf.atom)\n",
    "num_N_atom = sum(x.count('N') for x in mol_pyscf.atom)\n",
    "num_O_atom = sum(x.count('O') for x in mol_pyscf.atom)\n",
    "num_S_atom = sum(x.count('S') for x in mol_pyscf.atom)\n",
    "\n",
    "print(f'Nombre atomes C: {num_C_atom}, H: {num_H_atom}, N: {num_N_atom}, O: {num_O_atom}, S: {num_S_atom}')\n",
    "\n",
    "num_atoms_total = len(mol_pyscf.atom)\n",
    "print(f'Nombre total atomes: {num_atoms_total}')\n",
    "      \n",
    "num_AO_total = num_C_atom * num_ao['C'] + \\\n",
    "               num_H_atom * num_ao['H'] + \\\n",
    "               num_N_atom * num_ao['N'] + \\\n",
    "               num_O_atom * num_ao['O'] + \\\n",
    "               num_S_atom * num_ao['S']\n",
    "num_MO_total = num_AO_total\n",
    "print(f'Nombre total AO: {num_AO_total} et Nombre total MOs: {num_MO_total}')"
   ]
  },
  {
   "cell_type": "code",
   "execution_count": 33,
   "metadata": {},
   "outputs": [
    {
     "data": {
      "text/plain": [
       "(100, 100)"
      ]
     },
     "execution_count": 33,
     "metadata": {},
     "output_type": "execute_result"
    }
   ],
   "source": [
    "mol_pyscf.nelec"
   ]
  }
 ],
 "metadata": {
  "kernelspec": {
   "display_name": "qiskit-env",
   "language": "python",
   "name": "python3"
  },
  "language_info": {
   "codemirror_mode": {
    "name": "ipython",
    "version": 3
   },
   "file_extension": ".py",
   "mimetype": "text/x-python",
   "name": "python",
   "nbconvert_exporter": "python",
   "pygments_lexer": "ipython3",
   "version": "3.10.14"
  }
 },
 "nbformat": 4,
 "nbformat_minor": 2
}
