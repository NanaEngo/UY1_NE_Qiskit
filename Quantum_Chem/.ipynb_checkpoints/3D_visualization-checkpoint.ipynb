{
 "cells": [
  {
   "cell_type": "markdown",
   "metadata": {},
   "source": [
    "# 3D Visualization with py3Dmol\n",
    "This brief tutorial demonstrates how to visualize 3D structures using the [py3Dmol](http://3dmol.csb.pitt.edu/index.html) Jupyter Notebook widget.\n",
    "\n",
    "3Dmol.js: molecular visualization with WebGL, N. Rego, D. Koes, [Bioinformatics (2015) 31, 1322–1324](https://doi.org/10.1093/bioinformatics/btu829)\n",
    "\n",
    "To learn more, check out the 3D-visualization tutorial in [mmtf-workshop-2018](https://github.com/sbl-sdsc/mmtf-workshop-2018)\n",
    "\n",
    "Also, check out the [py3Dmol tutorial](http://nbviewer.jupyter.org/github/3dmol/3Dmol.js/blob/9050b97144e81f065df7eecc87ba9a16723ab14b/py3Dmol/examples.ipynb) for additional features."
   ]
  },
  {
   "cell_type": "code",
   "execution_count": 5,
   "metadata": {},
   "outputs": [],
   "source": [
    "import py3Dmol"
   ]
  },
  {
   "cell_type": "markdown",
   "metadata": {},
   "source": [
    "## Visualize a Structure by PDB Id\n",
    "Here we fetch a Hemoglobin structure [5WOG](https://www.rcsb.org/structure/5WOG)."
   ]
  },
  {
   "cell_type": "code",
   "execution_count": 13,
   "metadata": {},
   "outputs": [
    {
     "data": {
      "application/3dmoljs_load.v0": "<div id=\"3dmolviewer_1709909226689131\"  style=\"position: relative; width: 640px; height: 480px;\">\n        <p id=\"3dmolwarning_1709909226689131\" style=\"background-color:#ffcccc;color:black\">You appear to be running in JupyterLab (or JavaScript failed to load for some other reason).  You need to install the 3dmol extension: <br>\n        <tt>jupyter labextension install jupyterlab_3dmol</tt></p>\n        </div>\n<script>\n\nvar loadScriptAsync = function(uri){\n  return new Promise((resolve, reject) => {\n    //this is to ignore the existence of requirejs amd\n    var savedexports, savedmodule;\n    if (typeof exports !== 'undefined') savedexports = exports;\n    else exports = {}\n    if (typeof module !== 'undefined') savedmodule = module;\n    else module = {}\n\n    var tag = document.createElement('script');\n    tag.src = uri;\n    tag.async = true;\n    tag.onload = () => {\n        exports = savedexports;\n        module = savedmodule;\n        resolve();\n    };\n  var firstScriptTag = document.getElementsByTagName('script')[0];\n  firstScriptTag.parentNode.insertBefore(tag, firstScriptTag);\n});\n};\n\nif(typeof $3Dmolpromise === 'undefined') {\n$3Dmolpromise = null;\n  $3Dmolpromise = loadScriptAsync('https://cdnjs.cloudflare.com/ajax/libs/3Dmol/2.0.4/3Dmol-min.js');\n}\n\nvar viewer_1709909226689131 = null;\nvar warn = document.getElementById(\"3dmolwarning_1709909226689131\");\nif(warn) {\n    warn.parentNode.removeChild(warn);\n}\n$3Dmolpromise.then(function() {\nviewer_1709909226689131 = $3Dmol.createViewer(document.getElementById(\"3dmolviewer_1709909226689131\"),{backgroundColor:\"white\"});\n$3Dmol.download(\"pdb:5WOG\", viewer_1709909226689131, {}, function() {\nviewer_1709909226689131.zoomTo();\nviewer_1709909226689131.render();\n})\n});\n</script>",
      "text/html": [
       "<div id=\"3dmolviewer_1709909226689131\"  style=\"position: relative; width: 640px; height: 480px;\">\n",
       "        <p id=\"3dmolwarning_1709909226689131\" style=\"background-color:#ffcccc;color:black\">You appear to be running in JupyterLab (or JavaScript failed to load for some other reason).  You need to install the 3dmol extension: <br>\n",
       "        <tt>jupyter labextension install jupyterlab_3dmol</tt></p>\n",
       "        </div>\n",
       "<script>\n",
       "\n",
       "var loadScriptAsync = function(uri){\n",
       "  return new Promise((resolve, reject) => {\n",
       "    //this is to ignore the existence of requirejs amd\n",
       "    var savedexports, savedmodule;\n",
       "    if (typeof exports !== 'undefined') savedexports = exports;\n",
       "    else exports = {}\n",
       "    if (typeof module !== 'undefined') savedmodule = module;\n",
       "    else module = {}\n",
       "\n",
       "    var tag = document.createElement('script');\n",
       "    tag.src = uri;\n",
       "    tag.async = true;\n",
       "    tag.onload = () => {\n",
       "        exports = savedexports;\n",
       "        module = savedmodule;\n",
       "        resolve();\n",
       "    };\n",
       "  var firstScriptTag = document.getElementsByTagName('script')[0];\n",
       "  firstScriptTag.parentNode.insertBefore(tag, firstScriptTag);\n",
       "});\n",
       "};\n",
       "\n",
       "if(typeof $3Dmolpromise === 'undefined') {\n",
       "$3Dmolpromise = null;\n",
       "  $3Dmolpromise = loadScriptAsync('https://cdnjs.cloudflare.com/ajax/libs/3Dmol/2.0.4/3Dmol-min.js');\n",
       "}\n",
       "\n",
       "var viewer_1709909226689131 = null;\n",
       "var warn = document.getElementById(\"3dmolwarning_1709909226689131\");\n",
       "if(warn) {\n",
       "    warn.parentNode.removeChild(warn);\n",
       "}\n",
       "$3Dmolpromise.then(function() {\n",
       "viewer_1709909226689131 = $3Dmol.createViewer(document.getElementById(\"3dmolviewer_1709909226689131\"),{backgroundColor:\"white\"});\n",
       "$3Dmol.download(\"pdb:5WOG\", viewer_1709909226689131, {}, function() {\n",
       "viewer_1709909226689131.zoomTo();\n",
       "viewer_1709909226689131.render();\n",
       "})\n",
       "});\n",
       "</script>"
      ]
     },
     "metadata": {},
     "output_type": "display_data"
    }
   ],
   "source": [
    "viewer = py3Dmol.view(query='pdb:5WOG')\n",
    "viewer.show()"
   ]
  },
  {
   "cell_type": "markdown",
   "metadata": {},
   "source": [
    "## Apply Styles\n",
    "### Apply a style to a chain\n",
    "Here we select chain A and apply a cartoon style."
   ]
  },
  {
   "cell_type": "code",
   "execution_count": 7,
   "metadata": {},
   "outputs": [
    {
     "data": {
      "application/3dmoljs_load.v0": "<div id=\"3dmolviewer_1709909083535607\"  style=\"position: relative; width: 640px; height: 480px;\">\n        <p id=\"3dmolwarning_1709909083535607\" style=\"background-color:#ffcccc;color:black\">You appear to be running in JupyterLab (or JavaScript failed to load for some other reason).  You need to install the 3dmol extension: <br>\n        <tt>jupyter labextension install jupyterlab_3dmol</tt></p>\n        </div>\n<script>\n\nvar loadScriptAsync = function(uri){\n  return new Promise((resolve, reject) => {\n    //this is to ignore the existence of requirejs amd\n    var savedexports, savedmodule;\n    if (typeof exports !== 'undefined') savedexports = exports;\n    else exports = {}\n    if (typeof module !== 'undefined') savedmodule = module;\n    else module = {}\n\n    var tag = document.createElement('script');\n    tag.src = uri;\n    tag.async = true;\n    tag.onload = () => {\n        exports = savedexports;\n        module = savedmodule;\n        resolve();\n    };\n  var firstScriptTag = document.getElementsByTagName('script')[0];\n  firstScriptTag.parentNode.insertBefore(tag, firstScriptTag);\n});\n};\n\nif(typeof $3Dmolpromise === 'undefined') {\n$3Dmolpromise = null;\n  $3Dmolpromise = loadScriptAsync('https://cdnjs.cloudflare.com/ajax/libs/3Dmol/2.0.4/3Dmol-min.js');\n}\n\nvar viewer_1709909083535607 = null;\nvar warn = document.getElementById(\"3dmolwarning_1709909083535607\");\nif(warn) {\n    warn.parentNode.removeChild(warn);\n}\n$3Dmolpromise.then(function() {\nviewer_1709909083535607 = $3Dmol.createViewer(document.getElementById(\"3dmolviewer_1709909083535607\"),{backgroundColor:\"white\"});\n$3Dmol.download(\"pdb:5WOG\", viewer_1709909083535607, {}, function() {\nviewer_1709909083535607.zoomTo();\n\tviewer_1709909083535607.setStyle({\"chain\": \"A\"},{\"cartoon\": {\"color\": \"orange\"}});\nviewer_1709909083535607.render();\n})\n});\n</script>",
      "text/html": [
       "<div id=\"3dmolviewer_1709909083535607\"  style=\"position: relative; width: 640px; height: 480px;\">\n",
       "        <p id=\"3dmolwarning_1709909083535607\" style=\"background-color:#ffcccc;color:black\">You appear to be running in JupyterLab (or JavaScript failed to load for some other reason).  You need to install the 3dmol extension: <br>\n",
       "        <tt>jupyter labextension install jupyterlab_3dmol</tt></p>\n",
       "        </div>\n",
       "<script>\n",
       "\n",
       "var loadScriptAsync = function(uri){\n",
       "  return new Promise((resolve, reject) => {\n",
       "    //this is to ignore the existence of requirejs amd\n",
       "    var savedexports, savedmodule;\n",
       "    if (typeof exports !== 'undefined') savedexports = exports;\n",
       "    else exports = {}\n",
       "    if (typeof module !== 'undefined') savedmodule = module;\n",
       "    else module = {}\n",
       "\n",
       "    var tag = document.createElement('script');\n",
       "    tag.src = uri;\n",
       "    tag.async = true;\n",
       "    tag.onload = () => {\n",
       "        exports = savedexports;\n",
       "        module = savedmodule;\n",
       "        resolve();\n",
       "    };\n",
       "  var firstScriptTag = document.getElementsByTagName('script')[0];\n",
       "  firstScriptTag.parentNode.insertBefore(tag, firstScriptTag);\n",
       "});\n",
       "};\n",
       "\n",
       "if(typeof $3Dmolpromise === 'undefined') {\n",
       "$3Dmolpromise = null;\n",
       "  $3Dmolpromise = loadScriptAsync('https://cdnjs.cloudflare.com/ajax/libs/3Dmol/2.0.4/3Dmol-min.js');\n",
       "}\n",
       "\n",
       "var viewer_1709909083535607 = null;\n",
       "var warn = document.getElementById(\"3dmolwarning_1709909083535607\");\n",
       "if(warn) {\n",
       "    warn.parentNode.removeChild(warn);\n",
       "}\n",
       "$3Dmolpromise.then(function() {\n",
       "viewer_1709909083535607 = $3Dmol.createViewer(document.getElementById(\"3dmolviewer_1709909083535607\"),{backgroundColor:\"white\"});\n",
       "$3Dmol.download(\"pdb:5WOG\", viewer_1709909083535607, {}, function() {\n",
       "viewer_1709909083535607.zoomTo();\n",
       "\tviewer_1709909083535607.setStyle({\"chain\": \"A\"},{\"cartoon\": {\"color\": \"orange\"}});\n",
       "viewer_1709909083535607.render();\n",
       "})\n",
       "});\n",
       "</script>"
      ]
     },
     "metadata": {},
     "output_type": "display_data"
    }
   ],
   "source": [
    "viewer.setStyle({'chain':'A'},{'cartoon': {'color': 'orange'}})\n",
    "viewer.show()"
   ]
  },
  {
   "cell_type": "markdown",
   "metadata": {},
   "source": [
    "### Apply a style to a list of  chains and add labels\n",
    "Use a list to select to multiple chains."
   ]
  },
  {
   "cell_type": "code",
   "execution_count": 8,
   "metadata": {},
   "outputs": [
    {
     "data": {
      "application/3dmoljs_load.v0": "<div id=\"3dmolviewer_17099090835472836\"  style=\"position: relative; width: 640px; height: 480px;\">\n        <p id=\"3dmolwarning_17099090835472836\" style=\"background-color:#ffcccc;color:black\">You appear to be running in JupyterLab (or JavaScript failed to load for some other reason).  You need to install the 3dmol extension: <br>\n        <tt>jupyter labextension install jupyterlab_3dmol</tt></p>\n        </div>\n<script>\n\nvar loadScriptAsync = function(uri){\n  return new Promise((resolve, reject) => {\n    //this is to ignore the existence of requirejs amd\n    var savedexports, savedmodule;\n    if (typeof exports !== 'undefined') savedexports = exports;\n    else exports = {}\n    if (typeof module !== 'undefined') savedmodule = module;\n    else module = {}\n\n    var tag = document.createElement('script');\n    tag.src = uri;\n    tag.async = true;\n    tag.onload = () => {\n        exports = savedexports;\n        module = savedmodule;\n        resolve();\n    };\n  var firstScriptTag = document.getElementsByTagName('script')[0];\n  firstScriptTag.parentNode.insertBefore(tag, firstScriptTag);\n});\n};\n\nif(typeof $3Dmolpromise === 'undefined') {\n$3Dmolpromise = null;\n  $3Dmolpromise = loadScriptAsync('https://cdnjs.cloudflare.com/ajax/libs/3Dmol/2.0.4/3Dmol-min.js');\n}\n\nvar viewer_17099090835472836 = null;\nvar warn = document.getElementById(\"3dmolwarning_17099090835472836\");\nif(warn) {\n    warn.parentNode.removeChild(warn);\n}\n$3Dmolpromise.then(function() {\nviewer_17099090835472836 = $3Dmol.createViewer(document.getElementById(\"3dmolviewer_17099090835472836\"),{backgroundColor:\"white\"});\n$3Dmol.download(\"pdb:5WOG\", viewer_17099090835472836, {}, function() {\nviewer_17099090835472836.zoomTo();\n\tviewer_17099090835472836.setStyle({\"chain\": \"A\"},{\"cartoon\": {\"color\": \"orange\"}});\n\tviewer_17099090835472836.setStyle({\"chain\": [\"A\", \"B\"]},{\"cartoon\": {\"color\": \"orange\"}});\n\tviewer_17099090835472836.addLabel(\"alpha subunits\",{\"fontColor\": \"orange\", \"backgroundColor\": \"lightgray\"},{\"chain\": [\"A\", \"B\"]});\n\tviewer_17099090835472836.setStyle({\"chain\": [\"C\", \"D\"]},{\"cartoon\": {\"color\": \"blue\"}});\n\tviewer_17099090835472836.addLabel(\"beta subunits\",{\"fontColor\": \"blue\", \"backgroundColor\": \"lightgray\"},{\"chain\": [\"C\", \"D\"]});\nviewer_17099090835472836.render();\n})\n});\n</script>",
      "text/html": [
       "<div id=\"3dmolviewer_17099090835472836\"  style=\"position: relative; width: 640px; height: 480px;\">\n",
       "        <p id=\"3dmolwarning_17099090835472836\" style=\"background-color:#ffcccc;color:black\">You appear to be running in JupyterLab (or JavaScript failed to load for some other reason).  You need to install the 3dmol extension: <br>\n",
       "        <tt>jupyter labextension install jupyterlab_3dmol</tt></p>\n",
       "        </div>\n",
       "<script>\n",
       "\n",
       "var loadScriptAsync = function(uri){\n",
       "  return new Promise((resolve, reject) => {\n",
       "    //this is to ignore the existence of requirejs amd\n",
       "    var savedexports, savedmodule;\n",
       "    if (typeof exports !== 'undefined') savedexports = exports;\n",
       "    else exports = {}\n",
       "    if (typeof module !== 'undefined') savedmodule = module;\n",
       "    else module = {}\n",
       "\n",
       "    var tag = document.createElement('script');\n",
       "    tag.src = uri;\n",
       "    tag.async = true;\n",
       "    tag.onload = () => {\n",
       "        exports = savedexports;\n",
       "        module = savedmodule;\n",
       "        resolve();\n",
       "    };\n",
       "  var firstScriptTag = document.getElementsByTagName('script')[0];\n",
       "  firstScriptTag.parentNode.insertBefore(tag, firstScriptTag);\n",
       "});\n",
       "};\n",
       "\n",
       "if(typeof $3Dmolpromise === 'undefined') {\n",
       "$3Dmolpromise = null;\n",
       "  $3Dmolpromise = loadScriptAsync('https://cdnjs.cloudflare.com/ajax/libs/3Dmol/2.0.4/3Dmol-min.js');\n",
       "}\n",
       "\n",
       "var viewer_17099090835472836 = null;\n",
       "var warn = document.getElementById(\"3dmolwarning_17099090835472836\");\n",
       "if(warn) {\n",
       "    warn.parentNode.removeChild(warn);\n",
       "}\n",
       "$3Dmolpromise.then(function() {\n",
       "viewer_17099090835472836 = $3Dmol.createViewer(document.getElementById(\"3dmolviewer_17099090835472836\"),{backgroundColor:\"white\"});\n",
       "$3Dmol.download(\"pdb:5WOG\", viewer_17099090835472836, {}, function() {\n",
       "viewer_17099090835472836.zoomTo();\n",
       "\tviewer_17099090835472836.setStyle({\"chain\": \"A\"},{\"cartoon\": {\"color\": \"orange\"}});\n",
       "\tviewer_17099090835472836.setStyle({\"chain\": [\"A\", \"B\"]},{\"cartoon\": {\"color\": \"orange\"}});\n",
       "\tviewer_17099090835472836.addLabel(\"alpha subunits\",{\"fontColor\": \"orange\", \"backgroundColor\": \"lightgray\"},{\"chain\": [\"A\", \"B\"]});\n",
       "\tviewer_17099090835472836.setStyle({\"chain\": [\"C\", \"D\"]},{\"cartoon\": {\"color\": \"blue\"}});\n",
       "\tviewer_17099090835472836.addLabel(\"beta subunits\",{\"fontColor\": \"blue\", \"backgroundColor\": \"lightgray\"},{\"chain\": [\"C\", \"D\"]});\n",
       "viewer_17099090835472836.render();\n",
       "})\n",
       "});\n",
       "</script>"
      ]
     },
     "metadata": {},
     "output_type": "display_data"
    }
   ],
   "source": [
    "viewer.setStyle({'chain':['A','B']},{'cartoon': {'color': 'orange'}}) # alpha subunits of hemoglobin\n",
    "\n",
    "viewer.addLabel('alpha subunits', {'fontColor':'orange', 'backgroundColor':'lightgray'},\n",
    "                {'chain': ['A','B']})\n",
    "\n",
    "viewer.setStyle({'chain':['C','D']},{'cartoon': {'color': 'blue'}}) # beta subunits of hemoglobin\n",
    "\n",
    "viewer.addLabel('beta subunits', {'fontColor':'blue', 'backgroundColor':'lightgray'},\n",
    "                {'chain': ['C','D']})\n",
    "viewer.show()"
   ]
  },
  {
   "cell_type": "markdown",
   "metadata": {},
   "source": [
    "### Apply a style by residue name (resn)\n",
    "Show heme as spheres."
   ]
  },
  {
   "cell_type": "code",
   "execution_count": 9,
   "metadata": {},
   "outputs": [
    {
     "data": {
      "application/3dmoljs_load.v0": "<div id=\"3dmolviewer_17099090835583038\"  style=\"position: relative; width: 640px; height: 480px;\">\n        <p id=\"3dmolwarning_17099090835583038\" style=\"background-color:#ffcccc;color:black\">You appear to be running in JupyterLab (or JavaScript failed to load for some other reason).  You need to install the 3dmol extension: <br>\n        <tt>jupyter labextension install jupyterlab_3dmol</tt></p>\n        </div>\n<script>\n\nvar loadScriptAsync = function(uri){\n  return new Promise((resolve, reject) => {\n    //this is to ignore the existence of requirejs amd\n    var savedexports, savedmodule;\n    if (typeof exports !== 'undefined') savedexports = exports;\n    else exports = {}\n    if (typeof module !== 'undefined') savedmodule = module;\n    else module = {}\n\n    var tag = document.createElement('script');\n    tag.src = uri;\n    tag.async = true;\n    tag.onload = () => {\n        exports = savedexports;\n        module = savedmodule;\n        resolve();\n    };\n  var firstScriptTag = document.getElementsByTagName('script')[0];\n  firstScriptTag.parentNode.insertBefore(tag, firstScriptTag);\n});\n};\n\nif(typeof $3Dmolpromise === 'undefined') {\n$3Dmolpromise = null;\n  $3Dmolpromise = loadScriptAsync('https://cdnjs.cloudflare.com/ajax/libs/3Dmol/2.0.4/3Dmol-min.js');\n}\n\nvar viewer_17099090835583038 = null;\nvar warn = document.getElementById(\"3dmolwarning_17099090835583038\");\nif(warn) {\n    warn.parentNode.removeChild(warn);\n}\n$3Dmolpromise.then(function() {\nviewer_17099090835583038 = $3Dmol.createViewer(document.getElementById(\"3dmolviewer_17099090835583038\"),{backgroundColor:\"white\"});\n$3Dmol.download(\"pdb:5WOG\", viewer_17099090835583038, {}, function() {\nviewer_17099090835583038.zoomTo();\n\tviewer_17099090835583038.setStyle({\"chain\": \"A\"},{\"cartoon\": {\"color\": \"orange\"}});\n\tviewer_17099090835583038.setStyle({\"chain\": [\"A\", \"B\"]},{\"cartoon\": {\"color\": \"orange\"}});\n\tviewer_17099090835583038.addLabel(\"alpha subunits\",{\"fontColor\": \"orange\", \"backgroundColor\": \"lightgray\"},{\"chain\": [\"A\", \"B\"]});\n\tviewer_17099090835583038.setStyle({\"chain\": [\"C\", \"D\"]},{\"cartoon\": {\"color\": \"blue\"}});\n\tviewer_17099090835583038.addLabel(\"beta subunits\",{\"fontColor\": \"blue\", \"backgroundColor\": \"lightgray\"},{\"chain\": [\"C\", \"D\"]});\n\tviewer_17099090835583038.setStyle({\"resn\": \"HEM\"},{\"sphere\": {\"colorscheme\": \"greenCarbon\"}});\nviewer_17099090835583038.render();\n})\n});\n</script>",
      "text/html": [
       "<div id=\"3dmolviewer_17099090835583038\"  style=\"position: relative; width: 640px; height: 480px;\">\n",
       "        <p id=\"3dmolwarning_17099090835583038\" style=\"background-color:#ffcccc;color:black\">You appear to be running in JupyterLab (or JavaScript failed to load for some other reason).  You need to install the 3dmol extension: <br>\n",
       "        <tt>jupyter labextension install jupyterlab_3dmol</tt></p>\n",
       "        </div>\n",
       "<script>\n",
       "\n",
       "var loadScriptAsync = function(uri){\n",
       "  return new Promise((resolve, reject) => {\n",
       "    //this is to ignore the existence of requirejs amd\n",
       "    var savedexports, savedmodule;\n",
       "    if (typeof exports !== 'undefined') savedexports = exports;\n",
       "    else exports = {}\n",
       "    if (typeof module !== 'undefined') savedmodule = module;\n",
       "    else module = {}\n",
       "\n",
       "    var tag = document.createElement('script');\n",
       "    tag.src = uri;\n",
       "    tag.async = true;\n",
       "    tag.onload = () => {\n",
       "        exports = savedexports;\n",
       "        module = savedmodule;\n",
       "        resolve();\n",
       "    };\n",
       "  var firstScriptTag = document.getElementsByTagName('script')[0];\n",
       "  firstScriptTag.parentNode.insertBefore(tag, firstScriptTag);\n",
       "});\n",
       "};\n",
       "\n",
       "if(typeof $3Dmolpromise === 'undefined') {\n",
       "$3Dmolpromise = null;\n",
       "  $3Dmolpromise = loadScriptAsync('https://cdnjs.cloudflare.com/ajax/libs/3Dmol/2.0.4/3Dmol-min.js');\n",
       "}\n",
       "\n",
       "var viewer_17099090835583038 = null;\n",
       "var warn = document.getElementById(\"3dmolwarning_17099090835583038\");\n",
       "if(warn) {\n",
       "    warn.parentNode.removeChild(warn);\n",
       "}\n",
       "$3Dmolpromise.then(function() {\n",
       "viewer_17099090835583038 = $3Dmol.createViewer(document.getElementById(\"3dmolviewer_17099090835583038\"),{backgroundColor:\"white\"});\n",
       "$3Dmol.download(\"pdb:5WOG\", viewer_17099090835583038, {}, function() {\n",
       "viewer_17099090835583038.zoomTo();\n",
       "\tviewer_17099090835583038.setStyle({\"chain\": \"A\"},{\"cartoon\": {\"color\": \"orange\"}});\n",
       "\tviewer_17099090835583038.setStyle({\"chain\": [\"A\", \"B\"]},{\"cartoon\": {\"color\": \"orange\"}});\n",
       "\tviewer_17099090835583038.addLabel(\"alpha subunits\",{\"fontColor\": \"orange\", \"backgroundColor\": \"lightgray\"},{\"chain\": [\"A\", \"B\"]});\n",
       "\tviewer_17099090835583038.setStyle({\"chain\": [\"C\", \"D\"]},{\"cartoon\": {\"color\": \"blue\"}});\n",
       "\tviewer_17099090835583038.addLabel(\"beta subunits\",{\"fontColor\": \"blue\", \"backgroundColor\": \"lightgray\"},{\"chain\": [\"C\", \"D\"]});\n",
       "\tviewer_17099090835583038.setStyle({\"resn\": \"HEM\"},{\"sphere\": {\"colorscheme\": \"greenCarbon\"}});\n",
       "viewer_17099090835583038.render();\n",
       "})\n",
       "});\n",
       "</script>"
      ]
     },
     "metadata": {},
     "output_type": "display_data"
    }
   ],
   "source": [
    "viewer.setStyle({'resn': 'HEM'},{'sphere': {'colorscheme': 'greenCarbon'}})\n",
    "viewer.show()"
   ]
  },
  {
   "cell_type": "markdown",
   "metadata": {},
   "source": [
    "## Select binding site residues by proximity\n",
    "Here we select all residues within 5 A of the HEM in chain A."
   ]
  },
  {
   "cell_type": "code",
   "execution_count": 10,
   "metadata": {},
   "outputs": [
    {
     "data": {
      "application/3dmoljs_load.v0": "<div id=\"3dmolviewer_17099090835737247\"  style=\"position: relative; width: 640px; height: 480px;\">\n        <p id=\"3dmolwarning_17099090835737247\" style=\"background-color:#ffcccc;color:black\">You appear to be running in JupyterLab (or JavaScript failed to load for some other reason).  You need to install the 3dmol extension: <br>\n        <tt>jupyter labextension install jupyterlab_3dmol</tt></p>\n        </div>\n<script>\n\nvar loadScriptAsync = function(uri){\n  return new Promise((resolve, reject) => {\n    //this is to ignore the existence of requirejs amd\n    var savedexports, savedmodule;\n    if (typeof exports !== 'undefined') savedexports = exports;\n    else exports = {}\n    if (typeof module !== 'undefined') savedmodule = module;\n    else module = {}\n\n    var tag = document.createElement('script');\n    tag.src = uri;\n    tag.async = true;\n    tag.onload = () => {\n        exports = savedexports;\n        module = savedmodule;\n        resolve();\n    };\n  var firstScriptTag = document.getElementsByTagName('script')[0];\n  firstScriptTag.parentNode.insertBefore(tag, firstScriptTag);\n});\n};\n\nif(typeof $3Dmolpromise === 'undefined') {\n$3Dmolpromise = null;\n  $3Dmolpromise = loadScriptAsync('https://cdnjs.cloudflare.com/ajax/libs/3Dmol/2.0.4/3Dmol-min.js');\n}\n\nvar viewer_17099090835737247 = null;\nvar warn = document.getElementById(\"3dmolwarning_17099090835737247\");\nif(warn) {\n    warn.parentNode.removeChild(warn);\n}\n$3Dmolpromise.then(function() {\nviewer_17099090835737247 = $3Dmol.createViewer(document.getElementById(\"3dmolviewer_17099090835737247\"),{backgroundColor:\"white\"});\n$3Dmol.download(\"pdb:5WOG\", viewer_17099090835737247, {}, function() {\nviewer_17099090835737247.zoomTo();\n\tviewer_17099090835737247.setStyle({\"chain\": \"A\"},{\"cartoon\": {\"color\": \"orange\"}});\n\tviewer_17099090835737247.setStyle({\"chain\": [\"A\", \"B\"]},{\"cartoon\": {\"color\": \"orange\"}});\n\tviewer_17099090835737247.addLabel(\"alpha subunits\",{\"fontColor\": \"orange\", \"backgroundColor\": \"lightgray\"},{\"chain\": [\"A\", \"B\"]});\n\tviewer_17099090835737247.setStyle({\"chain\": [\"C\", \"D\"]},{\"cartoon\": {\"color\": \"blue\"}});\n\tviewer_17099090835737247.addLabel(\"beta subunits\",{\"fontColor\": \"blue\", \"backgroundColor\": \"lightgray\"},{\"chain\": [\"C\", \"D\"]});\n\tviewer_17099090835737247.setStyle({\"resn\": \"HEM\"},{\"sphere\": {\"colorscheme\": \"greenCarbon\"}});\n\tviewer_17099090835737247.removeAllLabels();\n\tviewer_17099090835737247.setStyle({\"line\": {}});\n\tviewer_17099090835737247.setStyle({\"resn\": \"HEM\", \"chain\": \"A\", \"byres\": \"true\", \"expand\": 5},{\"stick\": {\"colorscheme\": \"orangeCarbon\"}});\n\tviewer_17099090835737247.setStyle({\"chain\": \"A\", \"resn\": \"HEM\"},{\"sphere\": {\"colorscheme\": \"lightgreenCarbon\"}});\n\tviewer_17099090835737247.zoomTo({\"resn\": \"HEM\", \"chain\": \"A\", \"byres\": \"true\", \"expand\": 5});\nviewer_17099090835737247.render();\n})\n});\n</script>",
      "text/html": [
       "<div id=\"3dmolviewer_17099090835737247\"  style=\"position: relative; width: 640px; height: 480px;\">\n",
       "        <p id=\"3dmolwarning_17099090835737247\" style=\"background-color:#ffcccc;color:black\">You appear to be running in JupyterLab (or JavaScript failed to load for some other reason).  You need to install the 3dmol extension: <br>\n",
       "        <tt>jupyter labextension install jupyterlab_3dmol</tt></p>\n",
       "        </div>\n",
       "<script>\n",
       "\n",
       "var loadScriptAsync = function(uri){\n",
       "  return new Promise((resolve, reject) => {\n",
       "    //this is to ignore the existence of requirejs amd\n",
       "    var savedexports, savedmodule;\n",
       "    if (typeof exports !== 'undefined') savedexports = exports;\n",
       "    else exports = {}\n",
       "    if (typeof module !== 'undefined') savedmodule = module;\n",
       "    else module = {}\n",
       "\n",
       "    var tag = document.createElement('script');\n",
       "    tag.src = uri;\n",
       "    tag.async = true;\n",
       "    tag.onload = () => {\n",
       "        exports = savedexports;\n",
       "        module = savedmodule;\n",
       "        resolve();\n",
       "    };\n",
       "  var firstScriptTag = document.getElementsByTagName('script')[0];\n",
       "  firstScriptTag.parentNode.insertBefore(tag, firstScriptTag);\n",
       "});\n",
       "};\n",
       "\n",
       "if(typeof $3Dmolpromise === 'undefined') {\n",
       "$3Dmolpromise = null;\n",
       "  $3Dmolpromise = loadScriptAsync('https://cdnjs.cloudflare.com/ajax/libs/3Dmol/2.0.4/3Dmol-min.js');\n",
       "}\n",
       "\n",
       "var viewer_17099090835737247 = null;\n",
       "var warn = document.getElementById(\"3dmolwarning_17099090835737247\");\n",
       "if(warn) {\n",
       "    warn.parentNode.removeChild(warn);\n",
       "}\n",
       "$3Dmolpromise.then(function() {\n",
       "viewer_17099090835737247 = $3Dmol.createViewer(document.getElementById(\"3dmolviewer_17099090835737247\"),{backgroundColor:\"white\"});\n",
       "$3Dmol.download(\"pdb:5WOG\", viewer_17099090835737247, {}, function() {\n",
       "viewer_17099090835737247.zoomTo();\n",
       "\tviewer_17099090835737247.setStyle({\"chain\": \"A\"},{\"cartoon\": {\"color\": \"orange\"}});\n",
       "\tviewer_17099090835737247.setStyle({\"chain\": [\"A\", \"B\"]},{\"cartoon\": {\"color\": \"orange\"}});\n",
       "\tviewer_17099090835737247.addLabel(\"alpha subunits\",{\"fontColor\": \"orange\", \"backgroundColor\": \"lightgray\"},{\"chain\": [\"A\", \"B\"]});\n",
       "\tviewer_17099090835737247.setStyle({\"chain\": [\"C\", \"D\"]},{\"cartoon\": {\"color\": \"blue\"}});\n",
       "\tviewer_17099090835737247.addLabel(\"beta subunits\",{\"fontColor\": \"blue\", \"backgroundColor\": \"lightgray\"},{\"chain\": [\"C\", \"D\"]});\n",
       "\tviewer_17099090835737247.setStyle({\"resn\": \"HEM\"},{\"sphere\": {\"colorscheme\": \"greenCarbon\"}});\n",
       "\tviewer_17099090835737247.removeAllLabels();\n",
       "\tviewer_17099090835737247.setStyle({\"line\": {}});\n",
       "\tviewer_17099090835737247.setStyle({\"resn\": \"HEM\", \"chain\": \"A\", \"byres\": \"true\", \"expand\": 5},{\"stick\": {\"colorscheme\": \"orangeCarbon\"}});\n",
       "\tviewer_17099090835737247.setStyle({\"chain\": \"A\", \"resn\": \"HEM\"},{\"sphere\": {\"colorscheme\": \"lightgreenCarbon\"}});\n",
       "\tviewer_17099090835737247.zoomTo({\"resn\": \"HEM\", \"chain\": \"A\", \"byres\": \"true\", \"expand\": 5});\n",
       "viewer_17099090835737247.render();\n",
       "})\n",
       "});\n",
       "</script>"
      ]
     },
     "metadata": {},
     "output_type": "display_data"
    }
   ],
   "source": [
    "# remove labels and reset styles\n",
    "viewer.removeAllLabels()\n",
    "viewer.setStyle({'line':{}})\n",
    "\n",
    "# select by distance\n",
    "selection = {'resn':'HEM', 'chain':'A', 'byres':'true', 'expand': 5}\n",
    "\n",
    "# set styles\n",
    "viewer.setStyle(selection,{'stick':{'colorscheme':'orangeCarbon'}})\n",
    "viewer.setStyle({'chain': 'A', 'resn': 'HEM'},{'sphere': {'colorscheme': 'lightgreenCarbon'}})\n",
    "viewer.zoomTo(selection)\n",
    "viewer.show()"
   ]
  },
  {
   "cell_type": "markdown",
   "metadata": {},
   "source": [
    "## Create a surface\n",
    "In the structure below (HLA complex with antigen peptide pVR), we add a solvent excluded surface (SES) to the heavy chain to highlight the binding pocket for the antigen peptide (rendered as spheres)."
   ]
  },
  {
   "cell_type": "code",
   "execution_count": 11,
   "metadata": {},
   "outputs": [
    {
     "data": {
      "application/3dmoljs_load.v0": "<div id=\"3dmolviewer_1709909083586589\"  style=\"position: relative; width: 640px; height: 480px;\">\n        <p id=\"3dmolwarning_1709909083586589\" style=\"background-color:#ffcccc;color:black\">You appear to be running in JupyterLab (or JavaScript failed to load for some other reason).  You need to install the 3dmol extension: <br>\n        <tt>jupyter labextension install jupyterlab_3dmol</tt></p>\n        </div>\n<script>\n\nvar loadScriptAsync = function(uri){\n  return new Promise((resolve, reject) => {\n    //this is to ignore the existence of requirejs amd\n    var savedexports, savedmodule;\n    if (typeof exports !== 'undefined') savedexports = exports;\n    else exports = {}\n    if (typeof module !== 'undefined') savedmodule = module;\n    else module = {}\n\n    var tag = document.createElement('script');\n    tag.src = uri;\n    tag.async = true;\n    tag.onload = () => {\n        exports = savedexports;\n        module = savedmodule;\n        resolve();\n    };\n  var firstScriptTag = document.getElementsByTagName('script')[0];\n  firstScriptTag.parentNode.insertBefore(tag, firstScriptTag);\n});\n};\n\nif(typeof $3Dmolpromise === 'undefined') {\n$3Dmolpromise = null;\n  $3Dmolpromise = loadScriptAsync('https://cdnjs.cloudflare.com/ajax/libs/3Dmol/2.0.4/3Dmol-min.js');\n}\n\nvar viewer_1709909083586589 = null;\nvar warn = document.getElementById(\"3dmolwarning_1709909083586589\");\nif(warn) {\n    warn.parentNode.removeChild(warn);\n}\n$3Dmolpromise.then(function() {\nviewer_1709909083586589 = $3Dmol.createViewer(document.getElementById(\"3dmolviewer_1709909083586589\"),{backgroundColor:\"white\"});\n$3Dmol.download(\"pdb:5XS3\", viewer_1709909083586589, {}, function() {\nviewer_1709909083586589.zoomTo();\n\tviewer_1709909083586589.setStyle({\"chain\": \"A\"},{\"cartoon\": {\"color\": \"blue\"}});\n\tviewer_1709909083586589.setStyle({\"chain\": \"B\"},{\"cartoon\": {\"color\": \"yellow\"}});\n\tviewer_1709909083586589.setStyle({\"chain\": \"C\"},{\"sphere\": {\"colorscheme\": \"orangeCarbon\"}});\n\tviewer_1709909083586589.addSurface(4,{\"opacity\": 0.9, \"color\": \"lightblue\"},{\"chain\": \"A\"});\nviewer_1709909083586589.render();\n})\n});\n</script>",
      "text/html": [
       "<div id=\"3dmolviewer_1709909083586589\"  style=\"position: relative; width: 640px; height: 480px;\">\n",
       "        <p id=\"3dmolwarning_1709909083586589\" style=\"background-color:#ffcccc;color:black\">You appear to be running in JupyterLab (or JavaScript failed to load for some other reason).  You need to install the 3dmol extension: <br>\n",
       "        <tt>jupyter labextension install jupyterlab_3dmol</tt></p>\n",
       "        </div>\n",
       "<script>\n",
       "\n",
       "var loadScriptAsync = function(uri){\n",
       "  return new Promise((resolve, reject) => {\n",
       "    //this is to ignore the existence of requirejs amd\n",
       "    var savedexports, savedmodule;\n",
       "    if (typeof exports !== 'undefined') savedexports = exports;\n",
       "    else exports = {}\n",
       "    if (typeof module !== 'undefined') savedmodule = module;\n",
       "    else module = {}\n",
       "\n",
       "    var tag = document.createElement('script');\n",
       "    tag.src = uri;\n",
       "    tag.async = true;\n",
       "    tag.onload = () => {\n",
       "        exports = savedexports;\n",
       "        module = savedmodule;\n",
       "        resolve();\n",
       "    };\n",
       "  var firstScriptTag = document.getElementsByTagName('script')[0];\n",
       "  firstScriptTag.parentNode.insertBefore(tag, firstScriptTag);\n",
       "});\n",
       "};\n",
       "\n",
       "if(typeof $3Dmolpromise === 'undefined') {\n",
       "$3Dmolpromise = null;\n",
       "  $3Dmolpromise = loadScriptAsync('https://cdnjs.cloudflare.com/ajax/libs/3Dmol/2.0.4/3Dmol-min.js');\n",
       "}\n",
       "\n",
       "var viewer_1709909083586589 = null;\n",
       "var warn = document.getElementById(\"3dmolwarning_1709909083586589\");\n",
       "if(warn) {\n",
       "    warn.parentNode.removeChild(warn);\n",
       "}\n",
       "$3Dmolpromise.then(function() {\n",
       "viewer_1709909083586589 = $3Dmol.createViewer(document.getElementById(\"3dmolviewer_1709909083586589\"),{backgroundColor:\"white\"});\n",
       "$3Dmol.download(\"pdb:5XS3\", viewer_1709909083586589, {}, function() {\n",
       "viewer_1709909083586589.zoomTo();\n",
       "\tviewer_1709909083586589.setStyle({\"chain\": \"A\"},{\"cartoon\": {\"color\": \"blue\"}});\n",
       "\tviewer_1709909083586589.setStyle({\"chain\": \"B\"},{\"cartoon\": {\"color\": \"yellow\"}});\n",
       "\tviewer_1709909083586589.setStyle({\"chain\": \"C\"},{\"sphere\": {\"colorscheme\": \"orangeCarbon\"}});\n",
       "\tviewer_1709909083586589.addSurface(4,{\"opacity\": 0.9, \"color\": \"lightblue\"},{\"chain\": \"A\"});\n",
       "viewer_1709909083586589.render();\n",
       "})\n",
       "});\n",
       "</script>"
      ]
     },
     "metadata": {},
     "output_type": "display_data"
    }
   ],
   "source": [
    "viewer = py3Dmol.view(query='pdb:5XS3')\n",
    "\n",
    "heavychain = {'chain':'A'}\n",
    "lightchain = {'chain':'B'}\n",
    "antigen = {'chain':'C'}\n",
    "\n",
    "viewer.setStyle(heavychain,{'cartoon':{'color':'blue'}})\n",
    "viewer.setStyle(lightchain,{'cartoon':{'color':'yellow'}})\n",
    "viewer.setStyle(antigen,{'sphere':{'colorscheme':'orangeCarbon'}})\n",
    "\n",
    "viewer.addSurface(py3Dmol.SES,{'opacity':0.9,'color':'lightblue'}, heavychain)\n",
    "viewer.show()"
   ]
  },
  {
   "cell_type": "markdown",
   "metadata": {},
   "source": [
    "### Create an image\n",
    "After you orient the structure in the cell above, run the following cell to create an image.\n",
    "\n",
    "Save the image:\n",
    "* Shift+Right Click to open Browser menu (Windows)\n",
    "* Shift+Ctrl+Click to open Browser menu (MacOS)"
   ]
  },
  {
   "cell_type": "code",
   "execution_count": 12,
   "metadata": {},
   "outputs": [
    {
     "data": {
      "application/3dmoljs_load.v0": "<img id=\"img_1709909083586589\">\n            <script>\n            var png = viewer_1709909083586589.pngURI()\n            document.getElementById('img_1709909083586589').src = png;\n            </script>",
      "text/html": [
       "<img id=\"img_1709909083586589\">\n",
       "            <script>\n",
       "            var png = viewer_1709909083586589.pngURI()\n",
       "            document.getElementById('img_1709909083586589').src = png;\n",
       "            </script>"
      ]
     },
     "metadata": {},
     "output_type": "display_data"
    }
   ],
   "source": [
    "viewer.png()"
   ]
  }
 ],
 "metadata": {
  "kernelspec": {
   "display_name": "qiskit-env",
   "language": "python",
   "name": "qiskit-env"
  },
  "language_info": {
   "codemirror_mode": {
    "name": "ipython",
    "version": 3
   },
   "file_extension": ".py",
   "mimetype": "text/x-python",
   "name": "python",
   "nbconvert_exporter": "python",
   "pygments_lexer": "ipython3",
   "version": "3.10.14"
  }
 },
 "nbformat": 4,
 "nbformat_minor": 4
}
