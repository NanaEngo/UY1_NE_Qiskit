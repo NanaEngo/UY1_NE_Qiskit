{
 "cells": [
  {
   "cell_type": "code",
   "execution_count": 4,
   "metadata": {
    "execution": {
     "iopub.execute_input": "2024-03-18T10:09:14.029959Z",
     "iopub.status.busy": "2024-03-18T10:09:14.029041Z",
     "iopub.status.idle": "2024-03-18T10:09:15.929822Z",
     "shell.execute_reply": "2024-03-18T10:09:15.928619Z",
     "shell.execute_reply.started": "2024-03-18T10:09:14.029921Z"
    }
   },
   "outputs": [
    {
     "name": "stderr",
     "output_type": "stream",
     "text": [
      "[taamangtchu-Aspire-A515-45:330721] mca_base_component_repository_open: unable to open mca_btl_openib: librdmacm.so.1: cannot open shared object file: No such file or directory (ignored)\n",
      "/home/taamangtchu/mambaforge/envs/qiskit1-env/lib/python3.10/site-packages/pyscf/dft/libxc.py:772: UserWarning: Since PySCF-2.3, B3LYP (and B3P86) are changed to the VWN-RPA variant, the same to the B3LYP functional in Gaussian and ORCA (issue 1480). To restore the VWN5 definition, you can put the setting \"B3LYP_WITH_VWN5 = True\" in pyscf_conf.py\n",
      "  warnings.warn('Since PySCF-2.3, B3LYP (and B3P86) are changed to the VWN-RPA variant, '\n"
     ]
    }
   ],
   "source": [
    "from pyscf import gto, scf\n",
    "from pyscf.geomopt.geometric_solver import optimize\n",
    "import dftd4.pyscf as disp\n",
    "\n",
    "# Function to perform DFT calculation with or without dispersion\n",
    "def perform_SCF_calculation(mol, mol_xyz, method=None, dispersion=None):\n",
    "    mol.atom = mol_xyz\n",
    "    mol.build()\n",
    "    if method:\n",
    "        mf =scf.RHF(mol)\n",
    "    else:\n",
    "        mf = scf.RKS(mol).run(xc='B3LYP')\n",
    " \n",
    "    mf = mf.density_fit(auxbasis='def2-universal-jkfit') \n",
    "    \n",
    "    if dispersion:\n",
    "        mf = disp.energy(mf).run()\n",
    "    else:\n",
    "        mf = mf.run()\n",
    "        \n",
    "    return mf\n"
   ]
  },
  {
   "cell_type": "code",
   "execution_count": 5,
   "metadata": {
    "execution": {
     "iopub.execute_input": "2024-03-18T10:09:15.932693Z",
     "iopub.status.busy": "2024-03-18T10:09:15.932251Z",
     "iopub.status.idle": "2024-03-18T10:09:16.034563Z",
     "shell.execute_reply": "2024-03-18T10:09:16.033712Z",
     "shell.execute_reply.started": "2024-03-18T10:09:15.932643Z"
    }
   },
   "outputs": [],
   "source": [
    "# Define the molecule once\n",
    "# mol_xyz = \"\"\"\n",
    "#     O  -1.65542061  -0.12330038   0.00000000\n",
    "#     O   1.24621244   0.10268870   0.00000000\n",
    "#     H  -0.70409026   0.03193167   0.00000000\n",
    "#     H  -2.03867273   0.75372294   0.00000000\n",
    "#     H   1.57598558  -0.38252146  -0.75856129\n",
    "#     H   1.57598558  -0.38252146   0.75856129\n",
    "#     \"\"\"\n",
    "mol_xyz = \"\"\"O        0.0000   0.0000   0.1173\n",
    "             H        0.0000   0.7572\t -0.4692\n",
    "             H        0.0000  -0.7572\t -0.4692\"\"\"\n",
    "mol = gto.M(\n",
    "    basis =  \"6-31G\",\n",
    "    verbose = 0\n",
    ")"
   ]
  },
  {
   "cell_type": "code",
   "execution_count": 8,
   "metadata": {
    "execution": {
     "iopub.execute_input": "2024-03-18T10:09:54.945901Z",
     "iopub.status.busy": "2024-03-18T10:09:54.945394Z",
     "iopub.status.idle": "2024-03-18T10:09:55.798135Z",
     "shell.execute_reply": "2024-03-18T10:09:55.796741Z",
     "shell.execute_reply.started": "2024-03-18T10:09:54.945866Z"
    }
   },
   "outputs": [
    {
     "name": "stderr",
     "output_type": "stream",
     "text": [
      "geometric-optimize called with the following command line:\n",
      "/home/taamangtchu/mambaforge/envs/qiskit1-env/lib/python3.10/site-packages/ipykernel_launcher.py -f /home/taamangtchu/.local/share/jupyter/runtime/kernel-bbaab8b2-9dff-4bec-9a13-5af8058b1a6f.json\n",
      "\n",
      "                                        \u001b[91m())))))))))))))))/\u001b[0m                     \n",
      "                                    \u001b[91m())))))))))))))))))))))))),\u001b[0m                \n",
      "                                \u001b[91m*)))))))))))))))))))))))))))))))))\u001b[0m             \n",
      "                        \u001b[94m#,\u001b[0m    \u001b[91m()))))))))/\u001b[0m                \u001b[91m.)))))))))),\u001b[0m          \n",
      "                      \u001b[94m#%%%%,\u001b[0m  \u001b[91m())))))\u001b[0m                        \u001b[91m.))))))))*\u001b[0m        \n",
      "                      \u001b[94m*%%%%%%,\u001b[0m  \u001b[91m))\u001b[0m              \u001b[93m..\u001b[0m              \u001b[91m,))))))).\u001b[0m      \n",
      "                        \u001b[94m*%%%%%%,\u001b[0m         \u001b[93m***************/.\u001b[0m        \u001b[91m.)))))))\u001b[0m     \n",
      "                \u001b[94m#%%/\u001b[0m      \u001b[94m(%%%%%%,\u001b[0m    \u001b[93m/*********************.\u001b[0m       \u001b[91m)))))))\u001b[0m    \n",
      "              \u001b[94m.%%%%%%#\u001b[0m      \u001b[94m*%%%%%%,\u001b[0m  \u001b[93m*******/,\u001b[0m     \u001b[93m**********,\u001b[0m      \u001b[91m.))))))\u001b[0m   \n",
      "                \u001b[94m.%%%%%%/\u001b[0m      \u001b[94m*%%%%%%,\u001b[0m  \u001b[93m**\u001b[0m              \u001b[93m********\u001b[0m      \u001b[91m.))))))\u001b[0m  \n",
      "          \u001b[94m##\u001b[0m      \u001b[94m.%%%%%%/\u001b[0m      \u001b[94m(%%%%%%,\u001b[0m                  \u001b[93m,******\u001b[0m      \u001b[91m/)))))\u001b[0m  \n",
      "        \u001b[94m%%%%%%\u001b[0m      \u001b[94m.%%%%%%#\u001b[0m      \u001b[94m*%%%%%%,\u001b[0m    \u001b[92m,/////.\u001b[0m       \u001b[93m******\u001b[0m      \u001b[91m))))))\u001b[0m \n",
      "      \u001b[94m#%\u001b[0m      \u001b[94m%%\u001b[0m      \u001b[94m.%%%%%%/\u001b[0m      \u001b[94m*%%%%%%,\u001b[0m  \u001b[92m////////,\u001b[0m      \u001b[93m*****/\u001b[0m     \u001b[91m,)))))\u001b[0m \n",
      "    \u001b[94m#%%\u001b[0m  \u001b[94m%%%\u001b[0m  \u001b[94m%%%#\u001b[0m      \u001b[94m.%%%%%%/\u001b[0m      \u001b[94m(%%%%%%,\u001b[0m  \u001b[92m///////.\u001b[0m     \u001b[93m/*****\u001b[0m      \u001b[91m))))).\u001b[0m\n",
      "  \u001b[94m#%%%%.\u001b[0m      \u001b[94m%%%%%#\u001b[0m      \u001b[94m/%%%%%%*\u001b[0m      \u001b[94m#%%%%%%\u001b[0m   \u001b[92m/////)\u001b[0m     \u001b[93m******\u001b[0m      \u001b[91m))))),\u001b[0m\n",
      "    \u001b[94m#%%%%##%\u001b[0m  \u001b[94m%%%#\u001b[0m      \u001b[94m.%%%%%%/\u001b[0m      \u001b[94m(%%%%%%,\u001b[0m  \u001b[92m///////.\u001b[0m     \u001b[93m/*****\u001b[0m      \u001b[91m))))).\u001b[0m\n",
      "      \u001b[94m##\u001b[0m     \u001b[94m%%%\u001b[0m      \u001b[94m.%%%%%%/\u001b[0m      \u001b[94m*%%%%%%,\u001b[0m  \u001b[92m////////.\u001b[0m      \u001b[93m*****/\u001b[0m     \u001b[91m,)))))\u001b[0m \n",
      "        \u001b[94m#%%%%#\u001b[0m      \u001b[94m/%%%%%%/\u001b[0m      \u001b[94m(%%%%%%\u001b[0m      \u001b[92m/)/)//\u001b[0m       \u001b[93m******\u001b[0m      \u001b[91m))))))\u001b[0m \n",
      "          \u001b[94m##\u001b[0m      \u001b[94m.%%%%%%/\u001b[0m      \u001b[94m(%%%%%%,\u001b[0m                  \u001b[93m*******\u001b[0m      \u001b[91m))))))\u001b[0m  \n",
      "                \u001b[94m.%%%%%%/\u001b[0m      \u001b[94m*%%%%%%,\u001b[0m  \u001b[93m**.\u001b[0m             \u001b[93m/*******\u001b[0m      \u001b[91m.))))))\u001b[0m  \n",
      "              \u001b[94m*%%%%%%/\u001b[0m      \u001b[94m(%%%%%%\u001b[0m   \u001b[93m********/*..,*/*********\u001b[0m       \u001b[91m*))))))\u001b[0m   \n",
      "                \u001b[94m#%%/\u001b[0m      \u001b[94m(%%%%%%,\u001b[0m    \u001b[93m*********************/\u001b[0m        \u001b[91m)))))))\u001b[0m    \n",
      "                        \u001b[94m*%%%%%%,\u001b[0m         \u001b[93m,**************/\u001b[0m         \u001b[91m,))))))/\u001b[0m     \n",
      "                      \u001b[94m(%%%%%%\u001b[0m   \u001b[91m()\u001b[0m                              \u001b[91m))))))))\u001b[0m       \n",
      "                      \u001b[94m#%%%%,\u001b[0m  \u001b[91m())))))\u001b[0m                        \u001b[91m,)))))))),\u001b[0m        \n",
      "                        \u001b[94m#,\u001b[0m    \u001b[91m())))))))))\u001b[0m                \u001b[91m,)))))))))).\u001b[0m          \n",
      "                                 \u001b[91m()))))))))))))))))))))))))))))))/\u001b[0m             \n",
      "                                    \u001b[91m())))))))))))))))))))))))).\u001b[0m                \n",
      "                                         \u001b[91m())))))))))))))),\u001b[0m                     \n",
      "\n",
      "-=# \u001b[1;94m geomeTRIC started. Version: 1.0.2 \u001b[0m #=-\n",
      "Current date and time: 2024-03-18 11:09:55\n",
      "Custom engine selected.\n",
      "Bonds will be generated from interatomic distances less than 1.20 times sum of covalent radii\n",
      "9 internal coordinates being used (instead of 9 Cartesians)\n",
      "Internal coordinate system (atoms numbered from 1):\n",
      "Distance 1-2\n",
      "Distance 1-3\n",
      "Angle 2-1-3\n",
      "Translation-X 1-3\n",
      "Translation-Y 1-3\n",
      "Translation-Z 1-3\n",
      "Rotation-A 1-3\n",
      "Rotation-B 1-3\n",
      "Rotation-C 1-3\n",
      "<class 'geometric.internal.Distance'> : 2\n",
      "<class 'geometric.internal.Angle'> : 1\n",
      "<class 'geometric.internal.TranslationX'> : 1\n",
      "<class 'geometric.internal.TranslationY'> : 1\n",
      "<class 'geometric.internal.TranslationZ'> : 1\n",
      "<class 'geometric.internal.RotationA'> : 1\n",
      "<class 'geometric.internal.RotationB'> : 1\n",
      "<class 'geometric.internal.RotationC'> : 1\n",
      "> ===== Optimization Info: ====\n",
      "> Job type: Energy minimization\n",
      "> Maximum number of optimization cycles: 300\n",
      "> Initial / maximum trust radius (Angstrom): 0.100 / 0.300\n",
      "> Convergence Criteria:\n",
      "> Will converge when all 5 criteria are reached:\n",
      ">  |Delta-E| < 1.00e-06\n",
      ">  RMS-Grad  < 3.00e-04\n",
      ">  Max-Grad  < 4.50e-04\n",
      ">  RMS-Disp  < 1.20e-03\n",
      ">  Max-Disp  < 1.80e-03\n",
      "> === End Optimization Info ===\n",
      "Step    0 : Gradient = 1.724e-02/2.384e-02 (rms/max) Energy = -75.9839639833\n",
      "Hessian Eigenvalues: 5.00000e-02 5.00000e-02 5.00000e-02 ... 1.60000e-01 5.59546e-01 5.59546e-01\n",
      "Step    1 : Displace = \u001b[0m3.891e-02\u001b[0m/\u001b[0m3.990e-02\u001b[0m (rms/max) Trust = 1.000e-01 (=) Grad = \u001b[0m5.050e-03\u001b[0m/\u001b[0m5.734e-03\u001b[0m (rms/max) E (change) = -75.9852812316 (\u001b[0m-1.317e-03\u001b[0m) Quality = \u001b[0m0.861\u001b[0m\n",
      "Hessian Eigenvalues: 5.00000e-02 5.00000e-02 5.00000e-02 ... 1.77874e-01 5.59546e-01 5.59995e-01\n",
      "Step    2 : Displace = \u001b[0m6.066e-03\u001b[0m/\u001b[0m7.350e-03\u001b[0m (rms/max) Trust = 1.414e-01 (\u001b[92m+\u001b[0m) Grad = \u001b[92m2.922e-04\u001b[0m/\u001b[92m3.915e-04\u001b[0m (rms/max) E (change) = -75.9853495192 (\u001b[0m-6.829e-05\u001b[0m) Quality = \u001b[0m0.994\u001b[0m\n",
      "Hessian Eigenvalues: 5.00000e-02 5.00000e-02 5.00000e-02 ... 1.71817e-01 5.59546e-01 5.86037e-01\n",
      "Step    3 : Displace = \u001b[92m2.904e-04\u001b[0m/\u001b[92m3.857e-04\u001b[0m (rms/max) Trust = 2.000e-01 (\u001b[92m+\u001b[0m) Grad = \u001b[92m3.922e-06\u001b[0m/\u001b[92m5.444e-06\u001b[0m (rms/max) E (change) = -75.9853497103 (\u001b[92m-1.911e-07\u001b[0m) Quality = \u001b[0m1.019\u001b[0m\n",
      "Hessian Eigenvalues: 5.00000e-02 5.00000e-02 5.00000e-02 ... 1.71817e-01 5.59546e-01 5.86037e-01\n",
      "Converged! =D\n",
      "\n",
      "    #==========================================================================#\n",
      "    #| If this code has benefited your research, please support us by citing: |#\n",
      "    #|                                                                        |#\n",
      "    #| Wang, L.-P.; Song, C.C. (2016) \"Geometry optimization made simple with |#\n",
      "    #| translation and rotation coordinates\", J. Chem, Phys. 144, 214108.     |#\n",
      "    #| http://dx.doi.org/10.1063/1.4952956                                    |#\n",
      "    #==========================================================================#\n",
      "    Time elapsed since start of run_optimizer: 0.446 seconds\n"
     ]
    },
    {
     "data": {
      "text/plain": [
       "'3\\nXYZ from PySCF\\nO          -0.00000       -0.00000        0.08237\\nH           0.00000        0.78517       -0.45174\\nH          -0.00000       -0.78517       -0.45174'"
      ]
     },
     "execution_count": 8,
     "metadata": {},
     "output_type": "execute_result"
    }
   ],
   "source": [
    "# Without dispersion\n",
    "mf_no_disp = perform_SCF_calculation(mol, mol_xyz, method='HF')\n",
    "opt_TRIC = optimize(mf_no_disp)\n",
    "opt_TRIC.tofile('opt_no_disp.xyz')\n",
    "\n"
   ]
  },
  {
   "cell_type": "code",
   "execution_count": 17,
   "metadata": {
    "execution": {
     "iopub.execute_input": "2024-03-18T10:19:16.253480Z",
     "iopub.status.busy": "2024-03-18T10:19:16.253024Z",
     "iopub.status.idle": "2024-03-18T10:19:16.259586Z",
     "shell.execute_reply": "2024-03-18T10:19:16.258779Z",
     "shell.execute_reply.started": "2024-03-18T10:19:16.253441Z"
    }
   },
   "outputs": [
    {
     "data": {
      "text/plain": [
       "\u001b[0;31mSignature:\u001b[0m\n",
       "\u001b[0moptimize\u001b[0m\u001b[0;34m(\u001b[0m\u001b[0;34m\u001b[0m\n",
       "\u001b[0;34m\u001b[0m    \u001b[0mmethod\u001b[0m\u001b[0;34m,\u001b[0m\u001b[0;34m\u001b[0m\n",
       "\u001b[0;34m\u001b[0m    \u001b[0massert_convergence\u001b[0m\u001b[0;34m=\u001b[0m\u001b[0;32mTrue\u001b[0m\u001b[0;34m,\u001b[0m\u001b[0;34m\u001b[0m\n",
       "\u001b[0;34m\u001b[0m    \u001b[0minclude_ghost\u001b[0m\u001b[0;34m=\u001b[0m\u001b[0;32mTrue\u001b[0m\u001b[0;34m,\u001b[0m\u001b[0;34m\u001b[0m\n",
       "\u001b[0;34m\u001b[0m    \u001b[0mconstraints\u001b[0m\u001b[0;34m=\u001b[0m\u001b[0;32mNone\u001b[0m\u001b[0;34m,\u001b[0m\u001b[0;34m\u001b[0m\n",
       "\u001b[0;34m\u001b[0m    \u001b[0mcallback\u001b[0m\u001b[0;34m=\u001b[0m\u001b[0;32mNone\u001b[0m\u001b[0;34m,\u001b[0m\u001b[0;34m\u001b[0m\n",
       "\u001b[0;34m\u001b[0m    \u001b[0mmaxsteps\u001b[0m\u001b[0;34m=\u001b[0m\u001b[0;36m100\u001b[0m\u001b[0;34m,\u001b[0m\u001b[0;34m\u001b[0m\n",
       "\u001b[0;34m\u001b[0m    \u001b[0;34m**\u001b[0m\u001b[0mkwargs\u001b[0m\u001b[0;34m,\u001b[0m\u001b[0;34m\u001b[0m\n",
       "\u001b[0;34m\u001b[0m\u001b[0;34m)\u001b[0m\u001b[0;34m\u001b[0m\u001b[0;34m\u001b[0m\u001b[0m\n",
       "\u001b[0;31mDocstring:\u001b[0m\n",
       "Optimize geometry with geomeTRIC library for the given method.\n",
       "\n",
       "To adjust the convergence threshold, parameters can be set in kwargs as\n",
       "below:\n",
       "\n",
       ".. code-block:: python\n",
       "    conv_params = {  # They are default settings\n",
       "        'convergence_energy': 1e-6,  # Eh\n",
       "        'convergence_grms': 3e-4,    # Eh/Bohr\n",
       "        'convergence_gmax': 4.5e-4,  # Eh/Bohr\n",
       "        'convergence_drms': 1.2e-3,  # Angstrom\n",
       "        'convergence_dmax': 1.8e-3,  # Angstrom\n",
       "    }\n",
       "    from pyscf import geometric_solver\n",
       "    newmol = geometric_solver.optimize(method, **conv_params)\n",
       "\u001b[0;31mFile:\u001b[0m      ~/mambaforge/envs/qiskit1-env/lib/python3.10/site-packages/pyscf/geomopt/geometric_solver.py\n",
       "\u001b[0;31mType:\u001b[0m      function"
      ]
     },
     "metadata": {},
     "output_type": "display_data"
    }
   ],
   "source": [
    "# print(opt_TRIC.)\n",
    "optimize?"
   ]
  },
  {
   "cell_type": "code",
   "execution_count": 4,
   "metadata": {
    "execution": {
     "iopub.execute_input": "2024-03-18T08:27:52.590731Z",
     "iopub.status.busy": "2024-03-18T08:27:52.589868Z",
     "iopub.status.idle": "2024-03-18T08:27:53.069183Z",
     "shell.execute_reply": "2024-03-18T08:27:53.068656Z",
     "shell.execute_reply.started": "2024-03-18T08:27:52.590697Z"
    }
   },
   "outputs": [
    {
     "name": "stderr",
     "output_type": "stream",
     "text": [
      "geometric-optimize called with the following command line:\n",
      "/home/taamangtchu/mambaforge/envs/qiskit1-env/lib/python3.10/site-packages/ipykernel_launcher.py -f /home/taamangtchu/.local/share/jupyter/runtime/kernel-6a48e75f-9a38-46f1-9999-46e52ea0509f.json\n",
      "\n",
      "                                        \u001b[91m())))))))))))))))/\u001b[0m                     \n",
      "                                    \u001b[91m())))))))))))))))))))))))),\u001b[0m                \n",
      "                                \u001b[91m*)))))))))))))))))))))))))))))))))\u001b[0m             \n",
      "                        \u001b[94m#,\u001b[0m    \u001b[91m()))))))))/\u001b[0m                \u001b[91m.)))))))))),\u001b[0m          \n",
      "                      \u001b[94m#%%%%,\u001b[0m  \u001b[91m())))))\u001b[0m                        \u001b[91m.))))))))*\u001b[0m        \n",
      "                      \u001b[94m*%%%%%%,\u001b[0m  \u001b[91m))\u001b[0m              \u001b[93m..\u001b[0m              \u001b[91m,))))))).\u001b[0m      \n",
      "                        \u001b[94m*%%%%%%,\u001b[0m         \u001b[93m***************/.\u001b[0m        \u001b[91m.)))))))\u001b[0m     \n",
      "                \u001b[94m#%%/\u001b[0m      \u001b[94m(%%%%%%,\u001b[0m    \u001b[93m/*********************.\u001b[0m       \u001b[91m)))))))\u001b[0m    \n",
      "              \u001b[94m.%%%%%%#\u001b[0m      \u001b[94m*%%%%%%,\u001b[0m  \u001b[93m*******/,\u001b[0m     \u001b[93m**********,\u001b[0m      \u001b[91m.))))))\u001b[0m   \n",
      "                \u001b[94m.%%%%%%/\u001b[0m      \u001b[94m*%%%%%%,\u001b[0m  \u001b[93m**\u001b[0m              \u001b[93m********\u001b[0m      \u001b[91m.))))))\u001b[0m  \n",
      "          \u001b[94m##\u001b[0m      \u001b[94m.%%%%%%/\u001b[0m      \u001b[94m(%%%%%%,\u001b[0m                  \u001b[93m,******\u001b[0m      \u001b[91m/)))))\u001b[0m  \n",
      "        \u001b[94m%%%%%%\u001b[0m      \u001b[94m.%%%%%%#\u001b[0m      \u001b[94m*%%%%%%,\u001b[0m    \u001b[92m,/////.\u001b[0m       \u001b[93m******\u001b[0m      \u001b[91m))))))\u001b[0m \n",
      "      \u001b[94m#%\u001b[0m      \u001b[94m%%\u001b[0m      \u001b[94m.%%%%%%/\u001b[0m      \u001b[94m*%%%%%%,\u001b[0m  \u001b[92m////////,\u001b[0m      \u001b[93m*****/\u001b[0m     \u001b[91m,)))))\u001b[0m \n",
      "    \u001b[94m#%%\u001b[0m  \u001b[94m%%%\u001b[0m  \u001b[94m%%%#\u001b[0m      \u001b[94m.%%%%%%/\u001b[0m      \u001b[94m(%%%%%%,\u001b[0m  \u001b[92m///////.\u001b[0m     \u001b[93m/*****\u001b[0m      \u001b[91m))))).\u001b[0m\n",
      "  \u001b[94m#%%%%.\u001b[0m      \u001b[94m%%%%%#\u001b[0m      \u001b[94m/%%%%%%*\u001b[0m      \u001b[94m#%%%%%%\u001b[0m   \u001b[92m/////)\u001b[0m     \u001b[93m******\u001b[0m      \u001b[91m))))),\u001b[0m\n",
      "    \u001b[94m#%%%%##%\u001b[0m  \u001b[94m%%%#\u001b[0m      \u001b[94m.%%%%%%/\u001b[0m      \u001b[94m(%%%%%%,\u001b[0m  \u001b[92m///////.\u001b[0m     \u001b[93m/*****\u001b[0m      \u001b[91m))))).\u001b[0m\n",
      "      \u001b[94m##\u001b[0m     \u001b[94m%%%\u001b[0m      \u001b[94m.%%%%%%/\u001b[0m      \u001b[94m*%%%%%%,\u001b[0m  \u001b[92m////////.\u001b[0m      \u001b[93m*****/\u001b[0m     \u001b[91m,)))))\u001b[0m \n",
      "        \u001b[94m#%%%%#\u001b[0m      \u001b[94m/%%%%%%/\u001b[0m      \u001b[94m(%%%%%%\u001b[0m      \u001b[92m/)/)//\u001b[0m       \u001b[93m******\u001b[0m      \u001b[91m))))))\u001b[0m \n",
      "          \u001b[94m##\u001b[0m      \u001b[94m.%%%%%%/\u001b[0m      \u001b[94m(%%%%%%,\u001b[0m                  \u001b[93m*******\u001b[0m      \u001b[91m))))))\u001b[0m  \n",
      "                \u001b[94m.%%%%%%/\u001b[0m      \u001b[94m*%%%%%%,\u001b[0m  \u001b[93m**.\u001b[0m             \u001b[93m/*******\u001b[0m      \u001b[91m.))))))\u001b[0m  \n",
      "              \u001b[94m*%%%%%%/\u001b[0m      \u001b[94m(%%%%%%\u001b[0m   \u001b[93m********/*..,*/*********\u001b[0m       \u001b[91m*))))))\u001b[0m   \n",
      "                \u001b[94m#%%/\u001b[0m      \u001b[94m(%%%%%%,\u001b[0m    \u001b[93m*********************/\u001b[0m        \u001b[91m)))))))\u001b[0m    \n",
      "                        \u001b[94m*%%%%%%,\u001b[0m         \u001b[93m,**************/\u001b[0m         \u001b[91m,))))))/\u001b[0m     \n",
      "                      \u001b[94m(%%%%%%\u001b[0m   \u001b[91m()\u001b[0m                              \u001b[91m))))))))\u001b[0m       \n",
      "                      \u001b[94m#%%%%,\u001b[0m  \u001b[91m())))))\u001b[0m                        \u001b[91m,)))))))),\u001b[0m        \n",
      "                        \u001b[94m#,\u001b[0m    \u001b[91m())))))))))\u001b[0m                \u001b[91m,)))))))))).\u001b[0m          \n",
      "                                 \u001b[91m()))))))))))))))))))))))))))))))/\u001b[0m             \n",
      "                                    \u001b[91m())))))))))))))))))))))))).\u001b[0m                \n",
      "                                         \u001b[91m())))))))))))))),\u001b[0m                     \n",
      "\n",
      "-=# \u001b[1;94m geomeTRIC started. Version: 1.0.2 \u001b[0m #=-\n",
      "Current date and time: 2024-03-18 09:27:52\n",
      "Custom engine selected.\n",
      "Bonds will be generated from interatomic distances less than 1.20 times sum of covalent radii\n",
      "9 internal coordinates being used (instead of 9 Cartesians)\n",
      "Internal coordinate system (atoms numbered from 1):\n",
      "Distance 1-2\n",
      "Distance 1-3\n",
      "Angle 2-1-3\n",
      "Translation-X 1-3\n",
      "Translation-Y 1-3\n",
      "Translation-Z 1-3\n",
      "Rotation-A 1-3\n",
      "Rotation-B 1-3\n",
      "Rotation-C 1-3\n",
      "<class 'geometric.internal.Distance'> : 2\n",
      "<class 'geometric.internal.Angle'> : 1\n",
      "<class 'geometric.internal.TranslationX'> : 1\n",
      "<class 'geometric.internal.TranslationY'> : 1\n",
      "<class 'geometric.internal.TranslationZ'> : 1\n",
      "<class 'geometric.internal.RotationA'> : 1\n",
      "<class 'geometric.internal.RotationB'> : 1\n",
      "<class 'geometric.internal.RotationC'> : 1\n",
      "> ===== Optimization Info: ====\n",
      "> Job type: Energy minimization\n",
      "> Maximum number of optimization cycles: 300\n",
      "> Initial / maximum trust radius (Angstrom): 0.100 / 0.300\n",
      "> Convergence Criteria:\n",
      "> Will converge when all 5 criteria are reached:\n",
      ">  |Delta-E| < 1.00e-06\n",
      ">  RMS-Grad  < 3.00e-04\n",
      ">  Max-Grad  < 4.50e-04\n",
      ">  RMS-Disp  < 1.20e-03\n",
      ">  Max-Disp  < 1.80e-03\n",
      "> === End Optimization Info ===\n",
      "Step    0 : Gradient = 2.282e-04/2.860e-04 (rms/max) Energy = -75.9863151358\n",
      "Hessian Eigenvalues: 5.00000e-02 5.00000e-02 5.00000e-02 ... 1.60000e-01 5.77688e-01 5.77688e-01\n",
      "Step    1 : Displace = \u001b[92m1.397e-04\u001b[0m/\u001b[92m1.975e-04\u001b[0m (rms/max) Trust = 1.000e-01 (=) Grad = \u001b[92m2.522e-05\u001b[0m/\u001b[92m3.417e-05\u001b[0m (rms/max) E (change) = -75.9863152273 (\u001b[92m-9.152e-08\u001b[0m) Quality = \u001b[0m1.122\u001b[0m\n",
      "Hessian Eigenvalues: 5.00000e-02 5.00000e-02 5.00000e-02 ... 1.60000e-01 5.77688e-01 5.77688e-01\n",
      "Converged! =D\n",
      "\n",
      "    #==========================================================================#\n",
      "    #| If this code has benefited your research, please support us by citing: |#\n",
      "    #|                                                                        |#\n",
      "    #| Wang, L.-P.; Song, C.C. (2016) \"Geometry optimization made simple with |#\n",
      "    #| translation and rotation coordinates\", J. Chem, Phys. 144, 214108.     |#\n",
      "    #| http://dx.doi.org/10.1063/1.4952956                                    |#\n",
      "    #==========================================================================#\n",
      "    Time elapsed since start of run_optimizer: 0.253 seconds\n"
     ]
    },
    {
     "data": {
      "text/plain": [
       "'3\\nXYZ from PySCF\\nO           0.00000       -0.00000        0.08257\\nH           0.00000        0.78518       -0.45184\\nH          -0.00000       -0.78518       -0.45184'"
      ]
     },
     "execution_count": 4,
     "metadata": {},
     "output_type": "execute_result"
    }
   ],
   "source": [
    "# With D4 dispersion\n",
    "mol_xyz_no = open('opt_no_disp.xyz').read()\n",
    "mol_xyz_no = '\\n'.join(mol_xyz_no.strip().split('\\n')[2:])\n",
    "\n",
    "mf_d4_disp = perform_dft_calculation(mol, mol_xyz_no, method='HF', dispersion='d4')\n",
    "optimize(mf_d4_disp).tofile('opt_d4_disp.xyz')"
   ]
  },
  {
   "cell_type": "code",
   "execution_count": 5,
   "metadata": {
    "execution": {
     "iopub.execute_input": "2024-03-18T08:27:53.070646Z",
     "iopub.status.busy": "2024-03-18T08:27:53.070254Z",
     "iopub.status.idle": "2024-03-18T08:27:53.228788Z",
     "shell.execute_reply": "2024-03-18T08:27:53.227821Z",
     "shell.execute_reply.started": "2024-03-18T08:27:53.070623Z"
    }
   },
   "outputs": [],
   "source": [
    "# Without mf dispersion but with xyz d4 optimized geometry \n",
    "mol_xyz_d4 = open('opt_d4_disp.xyz').read()\n",
    "mol_xyz_d4 = '\\n'.join(mol_xyz_d4.strip().split('\\n')[2:])\n",
    "\n",
    "mf_no_disp1 = perform_dft_calculation(mol, mol_xyz_d4, method='HF')"
   ]
  },
  {
   "cell_type": "code",
   "execution_count": 6,
   "metadata": {
    "execution": {
     "iopub.execute_input": "2024-03-18T08:27:53.230682Z",
     "iopub.status.busy": "2024-03-18T08:27:53.230207Z",
     "iopub.status.idle": "2024-03-18T08:28:00.943832Z",
     "shell.execute_reply": "2024-03-18T08:28:00.943095Z",
     "shell.execute_reply.started": "2024-03-18T08:27:53.230660Z"
    }
   },
   "outputs": [
    {
     "data": {
      "text/plain": [
       "(-76.14028412938873,\n",
       " FCIvector([[ 9.74310324e-01, -2.30499287e-16,  4.80632944e-02, ...,\n",
       "             -1.18423827e-21,  2.77212915e-22, -2.61875619e-06],\n",
       "            [-2.30499287e-16, -1.38196692e-02,  4.32562211e-19, ...,\n",
       "             -7.80325468e-22, -4.98829154e-22,  9.02701990e-22],\n",
       "            [ 4.80632944e-02,  4.32562211e-19, -1.70652019e-02, ...,\n",
       "              1.69171733e-22,  1.12512890e-23, -3.71342749e-07],\n",
       "            ...,\n",
       "            [-1.18423827e-21, -7.80325468e-22,  1.69171733e-22, ...,\n",
       "             -9.61419702e-10,  6.83736310e-10, -1.00649951e-23],\n",
       "            [ 2.77212915e-22, -4.98829154e-22,  1.12512890e-23, ...,\n",
       "              6.83736310e-10, -1.70955673e-09,  5.20252651e-24],\n",
       "            [-2.61875619e-06,  9.02701990e-22, -3.71342749e-07, ...,\n",
       "             -1.00649951e-23,  5.20252651e-24, -1.94740379e-08]]))"
      ]
     },
     "execution_count": 6,
     "metadata": {},
     "output_type": "execute_result"
    }
   ],
   "source": [
    "from pyscf import fci\n",
    "\n",
    "\n",
    "myfci = fci.FCI(mf_no_disp)\n",
    "myfci.kernel()"
   ]
  },
  {
   "cell_type": "code",
   "execution_count": 7,
   "metadata": {
    "execution": {
     "iopub.execute_input": "2024-03-18T08:28:00.944791Z",
     "iopub.status.busy": "2024-03-18T08:28:00.944621Z",
     "iopub.status.idle": "2024-03-18T08:28:00.949427Z",
     "shell.execute_reply": "2024-03-18T08:28:00.948668Z",
     "shell.execute_reply.started": "2024-03-18T08:28:00.944774Z"
    }
   },
   "outputs": [
    {
     "name": "stdout",
     "output_type": "stream",
     "text": [
      "Without d4 dispersion -75.98396398326341 Delta FCI 98.090891693641\n",
      "With d4 dispersion -75.98631513582033 Delta FCI 96.6155434641698\n",
      "With xyz d4 dispersion -75.98534963729713 Delta FCI 97.22139378747805\n"
     ]
    }
   ],
   "source": [
    "print('Without d4 dispersion', mf_no_disp.e_tot, 'Delta FCI', abs(mf_no_disp.e_tot-myfci.e_tot)*627.5)\n",
    "print('With d4 dispersion', mf_d4_disp.e_tot, 'Delta FCI', abs(mf_d4_disp.e_tot-myfci.e_tot)*627.5)\n",
    "print('With xyz d4 dispersion', mf_no_disp1.e_tot, 'Delta FCI', abs(mf_no_disp1.e_tot-myfci.e_tot)*627.5)"
   ]
  }
 ],
 "metadata": {
  "kernelspec": {
   "display_name": "Python [conda env:qiskit1-env]",
   "language": "python",
   "name": "conda-env-qiskit1-env-py"
  },
  "language_info": {
   "codemirror_mode": {
    "name": "ipython",
    "version": 3
   },
   "file_extension": ".py",
   "mimetype": "text/x-python",
   "name": "python",
   "nbconvert_exporter": "python",
   "pygments_lexer": "ipython3",
   "version": "3.10.13"
  }
 },
 "nbformat": 4,
 "nbformat_minor": 2
}
