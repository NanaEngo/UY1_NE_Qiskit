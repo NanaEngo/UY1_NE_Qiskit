{
 "cells": [
  {
   "cell_type": "code",
   "execution_count": 9,
   "metadata": {
    "execution": {
     "iopub.execute_input": "2024-03-18T10:09:14.029959Z",
     "iopub.status.busy": "2024-03-18T10:09:14.029041Z",
     "iopub.status.idle": "2024-03-18T10:09:15.929822Z",
     "shell.execute_reply": "2024-03-18T10:09:15.928619Z",
     "shell.execute_reply.started": "2024-03-18T10:09:14.029921Z"
    }
   },
   "outputs": [
    {
     "name": "stderr",
     "output_type": "stream",
     "text": [
      "[taamangtchu-Aspire-A515-45:03001] mca_base_component_repository_open: unable to open mca_btl_openib: librdmacm.so.1: cannot open shared object file: No such file or directory (ignored)\n",
      "/home/taamangtchu/mambaforge/envs/qiskit-env/lib/python3.10/site-packages/pyscf/dft/libxc.py:772: UserWarning: Since PySCF-2.3, B3LYP (and B3P86) are changed to the VWN-RPA variant, the same to the B3LYP functional in Gaussian and ORCA (issue 1480). To restore the VWN5 definition, you can put the setting \"B3LYP_WITH_VWN5 = True\" in pyscf_conf.py\n",
      "  warnings.warn('Since PySCF-2.3, B3LYP (and B3P86) are changed to the VWN-RPA variant, '\n"
     ]
    }
   ],
   "source": [
    "from pyscf import gto, scf\n",
    "from pyscf.geomopt.geometric_solver import optimize\n",
    "import dftd4.pyscf as disp\n",
    "\n",
    "# Function to perform DFT calculation with or without dispersion\n",
    "def perform_SCF_calculation(mol, input_xyz, method=None, dispersion=None):   \n",
    "    mol.atom = input_xyz\n",
    "    mol.build()\n",
    "    if method:\n",
    "        mf =scf.RHF(mol)\n",
    "    else:\n",
    "        mf = scf.RKS(mol)\n",
    "        mf.xc ='B3LYP'\n",
    " \n",
    "    mf = mf.density_fit(auxbasis='def2-universal-jkfit') \n",
    "    \n",
    "    if dispersion:\n",
    "        mf = disp.energy(mf).run()\n",
    "    else:\n",
    "        mf = mf.run()\n",
    "    \n",
    "    return mf\n"
   ]
  },
  {
   "cell_type": "code",
   "execution_count": 10,
   "metadata": {},
   "outputs": [],
   "source": [
    "def min_TRIC_energy(logfile):\n",
    "    \"\"\"Read the geometry optimization logfile and extract\n",
    "      the last \"converged SCF energy\", that is the minimum \n",
    "      energy of the state, at the end that file\n",
    "    \"\"\"\n",
    "\n",
    "    with open(logfile, \"r\") as f:\n",
    "        log_contents = f.read()\n",
    "\n",
    "    converged_scf_energy = None\n",
    "    lines = log_contents.split(\"\\n\")\n",
    "    for line in reversed(lines):\n",
    "        if \"converged SCF energy\" in line:\n",
    "            converged_scf_energy = line.split(\"=\")[-1].strip()\n",
    "            break\n",
    "    \n",
    "    return float(converged_scf_energy)\n"
   ]
  },
  {
   "cell_type": "code",
   "execution_count": 11,
   "metadata": {
    "execution": {
     "iopub.execute_input": "2024-03-18T10:09:15.932693Z",
     "iopub.status.busy": "2024-03-18T10:09:15.932251Z",
     "iopub.status.idle": "2024-03-18T10:09:16.034563Z",
     "shell.execute_reply": "2024-03-18T10:09:16.033712Z",
     "shell.execute_reply.started": "2024-03-18T10:09:15.932643Z"
    }
   },
   "outputs": [
    {
     "name": "stdout",
     "output_type": "stream",
     "text": [
      "overwrite output file: geom_log.txt\n"
     ]
    }
   ],
   "source": [
    "# Define the molecule once\n",
    "# mol_xyz = \"\"\"\n",
    "#     O  -1.65542061  -0.12330038   0.00000000\n",
    "#     O   1.24621244   0.10268870   0.00000000\n",
    "#     H  -0.70409026   0.03193167   0.00000000\n",
    "#     H  -2.03867273   0.75372294   0.00000000\n",
    "#     H   1.57598558  -0.38252146  -0.75856129\n",
    "#     H   1.57598558  -0.38252146   0.75856129\n",
    "#     \"\"\"\n",
    "mol_xyz = \"\"\"O        0.0000   0.0000   0.1173\n",
    "             H        0.0000   0.7572\t -0.4692\n",
    "             H        0.0000  -0.7572\t -0.4692\"\"\"\n",
    "mol = gto.M(\n",
    "    basis =  \"6-31G\",\n",
    "    output = \"geom_log.txt\"\n",
    ")"
   ]
  },
  {
   "cell_type": "code",
   "execution_count": 12,
   "metadata": {
    "execution": {
     "iopub.execute_input": "2024-03-18T10:09:54.945901Z",
     "iopub.status.busy": "2024-03-18T10:09:54.945394Z",
     "iopub.status.idle": "2024-03-18T10:09:55.798135Z",
     "shell.execute_reply": "2024-03-18T10:09:55.796741Z",
     "shell.execute_reply.started": "2024-03-18T10:09:54.945866Z"
    }
   },
   "outputs": [
    {
     "name": "stderr",
     "output_type": "stream",
     "text": [
      "geometric-optimize called with the following command line:\n",
      "/home/taamangtchu/mambaforge/envs/qiskit-env/lib/python3.10/site-packages/ipykernel_launcher.py -f /home/taamangtchu/.local/share/jupyter/runtime/kernel-v2-1961dmwjMUdOBbyl.json\n",
      "\n",
      "                                        \u001b[91m())))))))))))))))/\u001b[0m                     \n",
      "                                    \u001b[91m())))))))))))))))))))))))),\u001b[0m                \n",
      "                                \u001b[91m*)))))))))))))))))))))))))))))))))\u001b[0m             \n",
      "                        \u001b[94m#,\u001b[0m    \u001b[91m()))))))))/\u001b[0m                \u001b[91m.)))))))))),\u001b[0m          \n",
      "                      \u001b[94m#%%%%,\u001b[0m  \u001b[91m())))))\u001b[0m                        \u001b[91m.))))))))*\u001b[0m        \n",
      "                      \u001b[94m*%%%%%%,\u001b[0m  \u001b[91m))\u001b[0m              \u001b[93m..\u001b[0m              \u001b[91m,))))))).\u001b[0m      \n",
      "                        \u001b[94m*%%%%%%,\u001b[0m         \u001b[93m***************/.\u001b[0m        \u001b[91m.)))))))\u001b[0m     \n",
      "                \u001b[94m#%%/\u001b[0m      \u001b[94m(%%%%%%,\u001b[0m    \u001b[93m/*********************.\u001b[0m       \u001b[91m)))))))\u001b[0m    \n",
      "              \u001b[94m.%%%%%%#\u001b[0m      \u001b[94m*%%%%%%,\u001b[0m  \u001b[93m*******/,\u001b[0m     \u001b[93m**********,\u001b[0m      \u001b[91m.))))))\u001b[0m   \n",
      "                \u001b[94m.%%%%%%/\u001b[0m      \u001b[94m*%%%%%%,\u001b[0m  \u001b[93m**\u001b[0m              \u001b[93m********\u001b[0m      \u001b[91m.))))))\u001b[0m  \n",
      "          \u001b[94m##\u001b[0m      \u001b[94m.%%%%%%/\u001b[0m      \u001b[94m(%%%%%%,\u001b[0m                  \u001b[93m,******\u001b[0m      \u001b[91m/)))))\u001b[0m  \n",
      "        \u001b[94m%%%%%%\u001b[0m      \u001b[94m.%%%%%%#\u001b[0m      \u001b[94m*%%%%%%,\u001b[0m    \u001b[92m,/////.\u001b[0m       \u001b[93m******\u001b[0m      \u001b[91m))))))\u001b[0m \n",
      "      \u001b[94m#%\u001b[0m      \u001b[94m%%\u001b[0m      \u001b[94m.%%%%%%/\u001b[0m      \u001b[94m*%%%%%%,\u001b[0m  \u001b[92m////////,\u001b[0m      \u001b[93m*****/\u001b[0m     \u001b[91m,)))))\u001b[0m \n",
      "    \u001b[94m#%%\u001b[0m  \u001b[94m%%%\u001b[0m  \u001b[94m%%%#\u001b[0m      \u001b[94m.%%%%%%/\u001b[0m      \u001b[94m(%%%%%%,\u001b[0m  \u001b[92m///////.\u001b[0m     \u001b[93m/*****\u001b[0m      \u001b[91m))))).\u001b[0m\n",
      "  \u001b[94m#%%%%.\u001b[0m      \u001b[94m%%%%%#\u001b[0m      \u001b[94m/%%%%%%*\u001b[0m      \u001b[94m#%%%%%%\u001b[0m   \u001b[92m/////)\u001b[0m     \u001b[93m******\u001b[0m      \u001b[91m))))),\u001b[0m\n",
      "    \u001b[94m#%%%%##%\u001b[0m  \u001b[94m%%%#\u001b[0m      \u001b[94m.%%%%%%/\u001b[0m      \u001b[94m(%%%%%%,\u001b[0m  \u001b[92m///////.\u001b[0m     \u001b[93m/*****\u001b[0m      \u001b[91m))))).\u001b[0m\n",
      "      \u001b[94m##\u001b[0m     \u001b[94m%%%\u001b[0m      \u001b[94m.%%%%%%/\u001b[0m      \u001b[94m*%%%%%%,\u001b[0m  \u001b[92m////////.\u001b[0m      \u001b[93m*****/\u001b[0m     \u001b[91m,)))))\u001b[0m \n",
      "        \u001b[94m#%%%%#\u001b[0m      \u001b[94m/%%%%%%/\u001b[0m      \u001b[94m(%%%%%%\u001b[0m      \u001b[92m/)/)//\u001b[0m       \u001b[93m******\u001b[0m      \u001b[91m))))))\u001b[0m \n",
      "          \u001b[94m##\u001b[0m      \u001b[94m.%%%%%%/\u001b[0m      \u001b[94m(%%%%%%,\u001b[0m                  \u001b[93m*******\u001b[0m      \u001b[91m))))))\u001b[0m  \n",
      "                \u001b[94m.%%%%%%/\u001b[0m      \u001b[94m*%%%%%%,\u001b[0m  \u001b[93m**.\u001b[0m             \u001b[93m/*******\u001b[0m      \u001b[91m.))))))\u001b[0m  \n",
      "              \u001b[94m*%%%%%%/\u001b[0m      \u001b[94m(%%%%%%\u001b[0m   \u001b[93m********/*..,*/*********\u001b[0m       \u001b[91m*))))))\u001b[0m   \n",
      "                \u001b[94m#%%/\u001b[0m      \u001b[94m(%%%%%%,\u001b[0m    \u001b[93m*********************/\u001b[0m        \u001b[91m)))))))\u001b[0m    \n",
      "                        \u001b[94m*%%%%%%,\u001b[0m         \u001b[93m,**************/\u001b[0m         \u001b[91m,))))))/\u001b[0m     \n",
      "                      \u001b[94m(%%%%%%\u001b[0m   \u001b[91m()\u001b[0m                              \u001b[91m))))))))\u001b[0m       \n",
      "                      \u001b[94m#%%%%,\u001b[0m  \u001b[91m())))))\u001b[0m                        \u001b[91m,)))))))),\u001b[0m        \n",
      "                        \u001b[94m#,\u001b[0m    \u001b[91m())))))))))\u001b[0m                \u001b[91m,)))))))))).\u001b[0m          \n",
      "                                 \u001b[91m()))))))))))))))))))))))))))))))/\u001b[0m             \n",
      "                                    \u001b[91m())))))))))))))))))))))))).\u001b[0m                \n",
      "                                         \u001b[91m())))))))))))))),\u001b[0m                     \n",
      "\n",
      "-=# \u001b[1;94m geomeTRIC started. Version: 1.0.2 \u001b[0m #=-\n",
      "Current date and time: 2024-03-28 19:35:00\n",
      "Custom engine selected.\n",
      "Bonds will be generated from interatomic distances less than 1.20 times sum of covalent radii\n",
      "9 internal coordinates being used (instead of 9 Cartesians)\n",
      "Internal coordinate system (atoms numbered from 1):\n",
      "Distance 1-2\n",
      "Distance 1-3\n",
      "Angle 2-1-3\n",
      "Translation-X 1-3\n",
      "Translation-Y 1-3\n",
      "Translation-Z 1-3\n",
      "Rotation-A 1-3\n",
      "Rotation-B 1-3\n",
      "Rotation-C 1-3\n",
      "<class 'geometric.internal.Distance'> : 2\n",
      "<class 'geometric.internal.Angle'> : 1\n",
      "<class 'geometric.internal.TranslationX'> : 1\n",
      "<class 'geometric.internal.TranslationY'> : 1\n",
      "<class 'geometric.internal.TranslationZ'> : 1\n",
      "<class 'geometric.internal.RotationA'> : 1\n",
      "<class 'geometric.internal.RotationB'> : 1\n",
      "<class 'geometric.internal.RotationC'> : 1\n",
      "> ===== Optimization Info: ====\n",
      "> Job type: Energy minimization\n",
      "> Maximum number of optimization cycles: 300\n",
      "> Initial / maximum trust radius (Angstrom): 0.100 / 0.300\n",
      "> Convergence Criteria:\n",
      "> Will converge when all 5 criteria are reached:\n",
      ">  |Delta-E| < 1.00e-06\n",
      ">  RMS-Grad  < 3.00e-04\n",
      ">  Max-Grad  < 4.50e-04\n",
      ">  RMS-Disp  < 1.20e-03\n",
      ">  Max-Disp  < 1.80e-03\n",
      "> === End Optimization Info ===\n",
      "Step    0 : Gradient = 1.705e-02/2.355e-02 (rms/max) Energy = -75.9849448725\n",
      "Rotator Norms:  0.0000\n",
      "Hessian Eigenvalues: 5.00000e-02 5.00000e-02 5.00000e-02 ... 1.60000e-01 5.59546e-01 5.59546e-01\n",
      "  Optimizer.step : Attempting full-size optimization step\n",
      "sorted(eig) :  5.00000e-02  5.00000e-02  5.00000e-02 ...  1.60000e-01  5.59546e-01  5.59546e-01\n",
      "      Trust radius Newton-Raphson step with v =    0.00000 : expect-deltaE = -0.00152, Internal-step = 0.13690\n",
      "    InternalCoordinates.newCartesian converting internal to Cartesian step\n",
      "      newCartesian Iter: 1 Err-dQ = 5.99055e-03 RMSD: 4.32718e-02 Damp: 1.00000e+00\n",
      "      newCartesian Iter: 2 Err-dQ (Best) = 6.53587e-07 (5.99055e-03) RMSD: 1.81927e-03 Damp: 1.00000e+00 (Good)\n",
      "      newCartesian Iter: 2 Cartesian coordinates obtained (rmsd = 1.819e-03 |dQ| = 6.536e-07)\n",
      "  Optimizer.step : Internal-step: 0.1369 Cartesian-step: 0.0388 Trust-radius: 0.1000\n",
      "WARN: Large deviations found between the input molecule and the molecule from chkfile\n",
      "Initial guess density matrix may have large error.\n",
      "Step    1 : Displace = \u001b[0m3.882e-02\u001b[0m/\u001b[0m3.986e-02\u001b[0m (rms/max) Trust = 1.000e-01 (=) Grad = \u001b[0m5.027e-03\u001b[0m/\u001b[0m5.712e-03\u001b[0m (rms/max) E (change) = -75.9862470304 (\u001b[0m-1.302e-03\u001b[0m) Quality = \u001b[0m0.859\u001b[0m\n",
      "Denoms: 3.380e-03 3.032e-03 Dots: 9.856e-01 9.866e-01 Eig-ratios: 1.00000e+00 ... 1.00283e+00\n",
      "Rotator Norms:  0.0000\n",
      "Hessian Eigenvalues: 5.00000e-02 5.00000e-02 5.00000e-02 ... 1.77848e-01 5.59546e-01 5.61132e-01\n",
      "  Optimizer.step : Attempting full-size optimization step\n",
      "sorted(eig) :  5.00000e-02  5.00000e-02  5.00000e-02 ...  1.77848e-01  5.59546e-01  5.61132e-01\n",
      "      Trust radius Newton-Raphson step with v =    0.00000 : expect-deltaE = -0.00007, Internal-step = 0.01791\n",
      "    InternalCoordinates.newCartesian converting internal to Cartesian step\n",
      "      newCartesian Iter: 1 Err-dQ = 8.12314e-05 RMSD: 6.61652e-03 Damp: 1.00000e+00\n",
      "      newCartesian Iter: 2 Err-dQ (Best) = 1.79033e-09 (8.12314e-05) RMSD: 1.82902e-05 Damp: 1.00000e+00 (Good)\n",
      "      newCartesian Iter: 2 Cartesian coordinates obtained (rmsd = 1.829e-05 |dQ| = 1.790e-09)\n",
      "  Optimizer.step : Internal-step: 0.0179 Cartesian-step: 0.0061 Trust-radius: 0.1414\n",
      "WARN: Large deviations found between the input molecule and the molecule from chkfile\n",
      "Initial guess density matrix may have large error.\n",
      "Step    2 : Displace = \u001b[0m6.061e-03\u001b[0m/\u001b[0m7.340e-03\u001b[0m (rms/max) Trust = 1.414e-01 (\u001b[92m+\u001b[0m) Grad = \u001b[92m2.758e-04\u001b[0m/\u001b[92m3.728e-04\u001b[0m (rms/max) E (change) = -75.9863150508 (\u001b[0m-6.802e-05\u001b[0m) Quality = \u001b[0m0.997\u001b[0m\n",
      "Denoms: 1.376e-04 1.365e-04 Dots: 9.059e-01 9.186e-01 Eig-ratios: 1.00000e+00 ... 1.04354e+00\n",
      "Rotator Norms:  0.0000\n",
      "Hessian Eigenvalues: 5.00000e-02 5.00000e-02 5.00000e-02 ... 1.71824e-01 5.59546e-01 5.85566e-01\n",
      "  Optimizer.step : Attempting full-size optimization step\n",
      "sorted(eig) :  5.00000e-02  5.00000e-02  5.00000e-02 ...  1.71824e-01  5.59546e-01  5.85566e-01\n",
      "      Trust radius Newton-Raphson step with v =    0.00000 : expect-deltaE = -0.00000, Internal-step = 0.00128\n",
      "    InternalCoordinates.newCartesian converting internal to Cartesian step\n",
      "      newCartesian Iter: 1 Err-dQ = 4.87482e-07 RMSD: 3.15456e-04 Damp: 1.00000e+00\n",
      "      newCartesian Iter: 1 Cartesian coordinates obtained (rmsd = 3.155e-04 |dQ| = 4.875e-07)\n",
      "  Optimizer.step : Internal-step: 0.0013 Cartesian-step: 0.0003 Trust-radius: 0.2000\n",
      "Step    3 : Displace = \u001b[92m2.891e-04\u001b[0m/\u001b[92m3.784e-04\u001b[0m (rms/max) Trust = 2.000e-01 (\u001b[92m+\u001b[0m) Grad = \u001b[92m3.960e-06\u001b[0m/\u001b[92m5.551e-06\u001b[0m (rms/max) E (change) = -75.9863152289 (\u001b[92m-1.781e-07\u001b[0m) Quality = \u001b[0m1.020\u001b[0m\n",
      "Hessian Eigenvalues: 5.00000e-02 5.00000e-02 5.00000e-02 ... 1.71824e-01 5.59546e-01 5.85566e-01\n",
      "Converged! =D\n",
      "\n",
      "    #==========================================================================#\n",
      "    #| If this code has benefited your research, please support us by citing: |#\n",
      "    #|                                                                        |#\n",
      "    #| Wang, L.-P.; Song, C.C. (2016) \"Geometry optimization made simple with |#\n",
      "    #| translation and rotation coordinates\", J. Chem, Phys. 144, 214108.     |#\n",
      "    #| http://dx.doi.org/10.1063/1.4952956                                    |#\n",
      "    #==========================================================================#\n",
      "    Time elapsed since start of run_optimizer: 0.580 seconds\n"
     ]
    }
   ],
   "source": [
    "# Without dispersion\n",
    "mf_d4_disp = perform_SCF_calculation(mol, mol_xyz, method='HF', dispersion = 'd4')\n",
    "mol_TRIC = optimize(mf_d4_disp, verbose = 4)"
   ]
  },
  {
   "cell_type": "code",
   "execution_count": 13,
   "metadata": {
    "execution": {
     "iopub.execute_input": "2024-03-18T10:19:16.253480Z",
     "iopub.status.busy": "2024-03-18T10:19:16.253024Z",
     "iopub.status.idle": "2024-03-18T10:19:16.259586Z",
     "shell.execute_reply": "2024-03-18T10:19:16.258779Z",
     "shell.execute_reply.started": "2024-03-18T10:19:16.253441Z"
    }
   },
   "outputs": [
    {
     "name": "stdout",
     "output_type": "stream",
     "text": [
      "3\n",
      "XYZ from PySCF\n",
      "O           0.00000       -0.00000        0.08260\n",
      "H           0.00000        0.78517       -0.45185\n",
      "H          -0.00000       -0.78517       -0.45185 \n",
      "\n"
     ]
    }
   ],
   "source": [
    "print(mol_TRIC.tofile('opt_d4_disp.xyz'),'\\n')\n",
    "\n",
    "e_d4_disp = min_TRIC_energy(\"geom_log.txt\")\n",
    "print(min_TRIC_energy(\"geom_log.txt\"))"
   ]
  },
  {
   "cell_type": "code",
   "execution_count": 16,
   "metadata": {},
   "outputs": [
    {
     "ename": "SyntaxError",
     "evalue": "invalid syntax (3187841203.py, line 2)",
     "output_type": "error",
     "traceback": [
      "\u001b[0;36m  Cell \u001b[0;32mIn[16], line 2\u001b[0;36m\u001b[0m\n\u001b[0;31m    mol_xyz_d4 = '\\n'.join(mol_xyz_d4.strip().split('\\n')([0]+[2:])\u001b[0m\n\u001b[0m                                                                ^\u001b[0m\n\u001b[0;31mSyntaxError\u001b[0m\u001b[0;31m:\u001b[0m invalid syntax\n"
     ]
    }
   ],
   "source": [
    "mol_xyz_d4 = open('opt_d4_disp.xyz').read()\n",
    "mol_xyz_d4 = '\\n'.join(mol_xyz_d4.strip().split('\\n')([0]+[2:])\n",
    "print(mol_xyz_d4)"
   ]
  },
  {
   "cell_type": "code",
   "execution_count": 14,
   "metadata": {},
   "outputs": [],
   "source": [
    "mdft_d4_disp = perform_SCF_calculation(mol, mol_xyz, method='DFT', dispersion = 'd4')\n",
    "ee = mdft_d4_disp.e_tot\n"
   ]
  },
  {
   "cell_type": "code",
   "execution_count": 13,
   "metadata": {
    "execution": {
     "iopub.execute_input": "2024-03-18T08:27:53.230682Z",
     "iopub.status.busy": "2024-03-18T08:27:53.230207Z",
     "iopub.status.idle": "2024-03-18T08:28:00.943832Z",
     "shell.execute_reply": "2024-03-18T08:28:00.943095Z",
     "shell.execute_reply.started": "2024-03-18T08:27:53.230660Z"
    }
   },
   "outputs": [
    {
     "data": {
      "text/plain": [
       "(-76.12183995103189,\n",
       " FCIvector([[ 9.77293628e-01,  5.34055192e-18, -9.36420481e-03, ...,\n",
       "             -3.20235236e-22, -5.36935813e-22, -2.78649990e-07],\n",
       "            [ 5.34055192e-18, -1.36461416e-02,  1.29758392e-17, ...,\n",
       "              1.28570146e-21,  1.70023335e-23,  4.52184319e-22],\n",
       "            [-9.36420481e-03,  1.29758392e-17, -2.20702000e-02, ...,\n",
       "              1.11208442e-22, -6.52120405e-24, -3.49676941e-07],\n",
       "            ...,\n",
       "            [-3.20235236e-22,  1.28570146e-21,  1.11208442e-22, ...,\n",
       "             -8.56723415e-10,  7.58104574e-10,  9.81033165e-24],\n",
       "            [-5.36935813e-22,  1.70023335e-23, -6.52120405e-24, ...,\n",
       "              7.58104574e-10, -1.70409488e-09, -2.40998710e-24],\n",
       "            [-2.78649990e-07,  4.52184319e-22, -3.49676941e-07, ...,\n",
       "              9.81033165e-24, -2.40998710e-24, -1.72239345e-08]]))"
      ]
     },
     "execution_count": 13,
     "metadata": {},
     "output_type": "execute_result"
    }
   ],
   "source": [
    "from pyscf import fci\n",
    "\n",
    "myfci = fci.FCI(mf_d4_disp)\n",
    "myfci.kernel()"
   ]
  },
  {
   "cell_type": "code",
   "execution_count": 14,
   "metadata": {
    "execution": {
     "iopub.execute_input": "2024-03-18T08:28:00.944791Z",
     "iopub.status.busy": "2024-03-18T08:28:00.944621Z",
     "iopub.status.idle": "2024-03-18T08:28:00.949427Z",
     "shell.execute_reply": "2024-03-18T08:28:00.948668Z",
     "shell.execute_reply.started": "2024-03-18T08:28:00.944774Z"
    }
   },
   "outputs": [
    {
     "name": "stdout",
     "output_type": "stream",
     "text": [
      "d4 disp min energy = -75.9863152288775 a.u. \n",
      " Delta FCI = 85.04176315187738 kcal/cal\n",
      "d4 disp energy = -75.98494487246366 a.u. \n",
      " Delta FCI = 85.90166180156442 kcal/cal\n"
     ]
    }
   ],
   "source": [
    "# print('Without d4 dispersion', mf_no_disp.e_tot, 'Delta FCI', abs(mf_no_disp.e_tot-myfci.e_tot)*627.5)\n",
    "print(f'd4 disp min energy = {e_d4_disp} a.u. \\n Delta FCI = {abs(e_d4_disp-myfci.e_tot)*627.5} kcal/cal')\n",
    "print(f'd4 disp energy = {mf_d4_disp.e_tot} a.u. \\n Delta FCI = {abs(mf_d4_disp.e_tot-myfci.e_tot)*627.5} kcal/cal')\n"
   ]
  },
  {
   "cell_type": "code",
   "execution_count": 6,
   "metadata": {},
   "outputs": [
    {
     "data": {
      "text/plain": [
       "1.0"
      ]
     },
     "execution_count": 6,
     "metadata": {},
     "output_type": "execute_result"
    }
   ],
   "source": [
    "from rdkit import Chem\n",
    "from rdkit.Chem import RDConfig\n",
    "import sys\n",
    "from pathlib import Path\n",
    "\n",
    "sa_score_dir = Path(RDConfig.RDContribDir) / 'SA_Score'\n",
    "sys.path.append(str(sa_score_dir))\n",
    "import sascorer\n",
    "mol = Chem.MolFromSmiles('c1ccccc1') \n",
    "\n",
    "# Calculate SAScore\n",
    "sascorer.calculateScore(mol)\n",
    "\n"
   ]
  },
  {
   "cell_type": "code",
   "execution_count": 7,
   "metadata": {},
   "outputs": [
    {
     "data": {
      "text/plain": [
       "1.0"
      ]
     },
     "execution_count": 7,
     "metadata": {},
     "output_type": "execute_result"
    }
   ],
   "source": [
    "from rdkit import Chem\n",
    "from rdkit.Chem import RDConfig\n",
    "import sys\n",
    "from pathlib import Path\n",
    "\n",
    "sa_score_dir = Path(RDConfig.RDContribDir) / 'SA_Score'\n",
    "sys.path.append(sa_score_dir)\n",
    "import sascorer\n",
    "mol = Chem.MolFromSmiles('c1ccccc1') \n",
    "\n",
    "# Calculate SAScore\n",
    "sascorer.calculateScore(mol)\n",
    "\n"
   ]
  },
  {
   "cell_type": "code",
   "execution_count": 8,
   "metadata": {},
   "outputs": [
    {
     "data": {
      "text/plain": [
       "1.0"
      ]
     },
     "execution_count": 8,
     "metadata": {},
     "output_type": "execute_result"
    }
   ],
   "source": [
    "from rdkit import Chem\n",
    "from rdkit.Chem import RDConfig\n",
    "import sys\n",
    "from pathlib import Path\n",
    "\n",
    "sys.path.append(Path(RDConfig.RDContribDir) / 'SA_Score')\n",
    "import sascorer\n",
    "mol = Chem.MolFromSmiles('c1ccccc1') \n",
    "\n",
    "# Calculate SAScore\n",
    "sascorer.calculateScore(mol)\n",
    "\n"
   ]
  }
 ],
 "metadata": {
  "kernelspec": {
   "display_name": "qiskit-env",
   "language": "python",
   "name": "qiskit-env"
  },
  "language_info": {
   "codemirror_mode": {
    "name": "ipython",
    "version": 3
   },
   "file_extension": ".py",
   "mimetype": "text/x-python",
   "name": "python",
   "nbconvert_exporter": "python",
   "pygments_lexer": "ipython3",
   "version": "3.10.13"
  }
 },
 "nbformat": 4,
 "nbformat_minor": 2
}
