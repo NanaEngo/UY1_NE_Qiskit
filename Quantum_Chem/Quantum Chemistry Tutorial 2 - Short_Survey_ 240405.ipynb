{
 "cells": [
  {
   "cell_type": "markdown",
   "metadata": {},
   "source": [
    "# Quantum Chemistry Tutorial 2 - Short Survey\n",
    "\n",
    "1. **S. G. Nana Engo**, serge.nana-engo@facsciences-uy1.cm\n",
    "    * Department of Physics, Faculty of Science, University of Yaounde I\n",
    "2. **J-P. Tchapet Njafa**, jean-pierre.tchapet-njafa@univ-maroua.cm\n",
    "    * Department of Physics, Faculty of Science, University of Maroua\n",
    "       \n",
    "April 2024"
   ]
  },
  {
   "cell_type": "markdown",
   "metadata": {},
   "source": [
    "L'objectif de ce notebook est de fournir une brève revue des principales méthodes de la chimie quantique et d'évaluer les performances. Plus spécifiquement, à la fin de ce tutoriel, l'apprenant doit être capable, \n",
    "* à travers le framework `PySCF`,\n",
    "    * d'utiliser les représentations `SMILES`avec la bibliothèque `RDKiT` ou `XYZ` d'une molécule;\n",
    "    * visualiser cette structure moléculaire dans un notebook avec la bibliothèque `py3Dmol`;\n",
    "    * d'effectuer des calculs *ab-initio* (HF et post-HF) et DFT et établir une échelle précision/temps entre eux;\n",
    "    * définir un espace actif autour du HOMO-LUMO;\n",
    "* effectuer des calculs avec `xTB` et extraires les propriétés souhaitées."
   ]
  },
  {
   "cell_type": "markdown",
   "metadata": {},
   "source": [
    "## Différentes représentations d'une molécule\n",
    "\n",
    "La figure ci-dessous présente les différentes représentations d'une molécule. \n",
    "\n",
    "![Mol representation](./Graphics/Mol_representation.png)\n",
    "\n",
    "Dans ce qui suit, nous allons utiliser \n",
    "\n",
    "* **XYZ** est une représentation des coordonnées cartésiennes tridimensionnelles des atomes dans une molécule. Dans un fichier XYZ, chaque ligne représente un atome et contient les informations sur l'élément chimique de l'atome ainsi que ses coordonnées x, y et z;\n",
    "\n",
    "* **SMILES**, Simplified Molecular Input Line Entry System, qui est une notation linéaire utilisée pour décrire la structure chimique des molécules de manière textuelle. Il s'agit d'une chaîne de caractères qui représente les atomes, les liaisons et les groupes fonctionnels d'une molécule. Les SMILES sont compacts et faciles à lire et à écrire. Par exemple, la molécule d'eau (H2O) peut être représentée en SMILES par \"O\", où \"O\" représente l'atome d'oxygène et les atomes d'hydrogène sont implicites.\n",
    "\n",
    "Comme PySCF n'utilise pas directement la représentation SMILES, nous allons utiliser RDKit, la très populaire bibliothèque de chimie informatique."
   ]
  },
  {
   "cell_type": "code",
   "execution_count": 1,
   "metadata": {
    "execution": {
     "iopub.execute_input": "2024-04-08T13:04:00.330370Z",
     "iopub.status.busy": "2024-04-08T13:04:00.329827Z",
     "iopub.status.idle": "2024-04-08T13:04:00.343416Z",
     "shell.execute_reply": "2024-04-08T13:04:00.342416Z",
     "shell.execute_reply.started": "2024-04-08T13:04:00.330321Z"
    }
   },
   "outputs": [],
   "source": [
    "from pathlib import Path # For filesystem paths"
   ]
  },
  {
   "cell_type": "markdown",
   "metadata": {},
   "source": [
    "### Changer la representation d'une molécule avec RDKit\n",
    "\n",
    "![RDKit](Graphics/RDKit.png)"
   ]
  },
  {
   "cell_type": "markdown",
   "metadata": {},
   "source": [
    "* Importer les modules nécessaires de RDKit"
   ]
  },
  {
   "cell_type": "code",
   "execution_count": 2,
   "metadata": {
    "execution": {
     "iopub.execute_input": "2024-04-08T13:04:00.345759Z",
     "iopub.status.busy": "2024-04-08T13:04:00.344809Z",
     "iopub.status.idle": "2024-04-08T13:04:00.566920Z",
     "shell.execute_reply": "2024-04-08T13:04:00.565862Z",
     "shell.execute_reply.started": "2024-04-08T13:04:00.345720Z"
    }
   },
   "outputs": [
    {
     "data": {
      "text/plain": [
       "'2023.09.6'"
      ]
     },
     "execution_count": 2,
     "metadata": {},
     "output_type": "execute_result"
    }
   ],
   "source": [
    "try:\n",
    "    import rdkit\n",
    "except:\n",
    "    !mamba install rdkit\n",
    "    import rdkit\n",
    "rdkit.__version__    "
   ]
  },
  {
   "cell_type": "code",
   "execution_count": 3,
   "metadata": {
    "execution": {
     "iopub.execute_input": "2024-04-08T13:04:00.568568Z",
     "iopub.status.busy": "2024-04-08T13:04:00.568102Z",
     "iopub.status.idle": "2024-04-08T13:04:00.572847Z",
     "shell.execute_reply": "2024-04-08T13:04:00.572123Z",
     "shell.execute_reply.started": "2024-04-08T13:04:00.568530Z"
    }
   },
   "outputs": [],
   "source": [
    "# Define SMILES string and the corresponding name or key\n",
    "smiles = \"CN1C=NC2=C1C(=O)N(C(=O)N2C)C\"\n",
    "smi_key = \"Caffeine\""
   ]
  },
  {
   "cell_type": "markdown",
   "metadata": {},
   "source": [
    "* Créer ou indiquer le repertoire où seront stocker les divers résultats. Pour des raisons de bonnes pratiques, nous allons créer un sous-repertoire avec le `smi_key`."
   ]
  },
  {
   "cell_type": "code",
   "execution_count": 4,
   "metadata": {
    "execution": {
     "iopub.execute_input": "2024-04-08T13:04:00.574777Z",
     "iopub.status.busy": "2024-04-08T13:04:00.574397Z",
     "iopub.status.idle": "2024-04-08T13:04:00.578936Z",
     "shell.execute_reply": "2024-04-08T13:04:00.577656Z",
     "shell.execute_reply.started": "2024-04-08T13:04:00.574749Z"
    }
   },
   "outputs": [],
   "source": [
    "# Verify if the \"{smi_key}\" subdirectory exist and if not, create it\n",
    "working_dir = Path(f'./{smi_key}')\n",
    "# Create the output directory if it doesn't exist\n",
    "working_dir.mkdir(parents=True, exist_ok=True)"
   ]
  },
  {
   "cell_type": "markdown",
   "metadata": {},
   "source": [
    "* Générer la conformation 3D avec RDKit"
   ]
  },
  {
   "cell_type": "code",
   "execution_count": 5,
   "metadata": {
    "execution": {
     "iopub.execute_input": "2024-04-08T13:04:00.580344Z",
     "iopub.status.busy": "2024-04-08T13:04:00.580088Z",
     "iopub.status.idle": "2024-04-08T13:04:00.606674Z",
     "shell.execute_reply": "2024-04-08T13:04:00.605335Z",
     "shell.execute_reply.started": "2024-04-08T13:04:00.580320Z"
    }
   },
   "outputs": [],
   "source": [
    "from rdkit import Chem # A module for molecules and stuff\n",
    "from rdkit.Chem import AllChem #Import all RDKit chemistry modules"
   ]
  },
  {
   "cell_type": "code",
   "execution_count": 6,
   "metadata": {
    "execution": {
     "iopub.execute_input": "2024-04-08T13:04:00.609410Z",
     "iopub.status.busy": "2024-04-08T13:04:00.609178Z",
     "iopub.status.idle": "2024-04-08T13:04:00.622478Z",
     "shell.execute_reply": "2024-04-08T13:04:00.621588Z",
     "shell.execute_reply.started": "2024-04-08T13:04:00.609385Z"
    }
   },
   "outputs": [
    {
     "data": {
      "image/png": "[encoded data removed]",
      "text/plain": [
       "<rdkit.Chem.rdchem.Mol at 0x7810d65f5690>"
      ]
     },
     "execution_count": 6,
     "metadata": {},
     "output_type": "execute_result"
    }
   ],
   "source": [
    "# Defines a molecule from its SMILES string\n",
    "mol_rdkit = Chem.MolFromSmiles(smiles)\n",
    "\n",
    "# 2D representation\n",
    "mol_rdkit"
   ]
  },
  {
   "cell_type": "code",
   "execution_count": 7,
   "metadata": {
    "execution": {
     "iopub.execute_input": "2024-04-08T13:04:00.623982Z",
     "iopub.status.busy": "2024-04-08T13:04:00.623632Z",
     "iopub.status.idle": "2024-04-08T13:04:00.684263Z",
     "shell.execute_reply": "2024-04-08T13:04:00.683624Z",
     "shell.execute_reply.started": "2024-04-08T13:04:00.623945Z"
    }
   },
   "outputs": [
    {
     "data": {
      "text/plain": [
       "0"
      ]
     },
     "execution_count": 7,
     "metadata": {},
     "output_type": "execute_result"
    }
   ],
   "source": [
    "# Add explicit Hs\n",
    "mol_rdkit = Chem.AddHs(mol_rdkit)\n",
    "\n",
    "# Generates the initial 3D conformation of the molecule\n",
    "AllChem.EmbedMolecule(mol_rdkit)\n",
    "\n",
    "# Optimizes the 3D conformation of the molecule\n",
    "AllChem.MMFFOptimizeMolecule(mol_rdkit, maxIters=200, mmffVariant=\"MMFF94s\")"
   ]
  },
  {
   "cell_type": "markdown",
   "metadata": {},
   "source": [
    "#### Visualiser la conformation avec `py3Dmol`"
   ]
  },
  {
   "cell_type": "code",
   "execution_count": 8,
   "metadata": {
    "execution": {
     "iopub.execute_input": "2024-04-08T13:04:00.685572Z",
     "iopub.status.busy": "2024-04-08T13:04:00.685311Z",
     "iopub.status.idle": "2024-04-08T13:04:00.692048Z",
     "shell.execute_reply": "2024-04-08T13:04:00.691116Z",
     "shell.execute_reply.started": "2024-04-08T13:04:00.685548Z"
    }
   },
   "outputs": [
    {
     "data": {
      "text/plain": [
       "'2.1.0'"
      ]
     },
     "execution_count": 8,
     "metadata": {},
     "output_type": "execute_result"
    }
   ],
   "source": [
    "try:\n",
    "    import py3Dmol\n",
    "except:\n",
    "    !pip install py3Dmol\n",
    "    import py3Dmol\n",
    "py3Dmol.__version__"
   ]
  },
  {
   "cell_type": "code",
   "execution_count": 9,
   "metadata": {
    "execution": {
     "iopub.execute_input": "2024-04-08T13:04:00.693520Z",
     "iopub.status.busy": "2024-04-08T13:04:00.693183Z",
     "iopub.status.idle": "2024-04-08T13:04:00.698356Z",
     "shell.execute_reply": "2024-04-08T13:04:00.697199Z",
     "shell.execute_reply.started": "2024-04-08T13:04:00.693493Z"
    }
   },
   "outputs": [],
   "source": [
    "from rdkit.Chem.Draw import IPythonConsole"
   ]
  },
  {
   "cell_type": "code",
   "execution_count": 10,
   "metadata": {
    "execution": {
     "iopub.execute_input": "2024-04-08T13:04:00.700354Z",
     "iopub.status.busy": "2024-04-08T13:04:00.699619Z",
     "iopub.status.idle": "2024-04-08T13:04:00.706151Z",
     "shell.execute_reply": "2024-04-08T13:04:00.704976Z",
     "shell.execute_reply.started": "2024-04-08T13:04:00.700313Z"
    }
   },
   "outputs": [
    {
     "data": {
      "application/3dmoljs_load.v0": "<div id=\"3dmolviewer_17154157078935404\"  style=\"position: relative; width: 300px; height: 300px;\">\n        <p id=\"3dmolwarning_17154157078935404\" style=\"background-color:#ffcccc;color:black\">3Dmol.js failed to load for some reason.  Please check your browser console for error messages.<br></p>\n        </div>\n<script>\n\nvar loadScriptAsync = function(uri){\n  return new Promise((resolve, reject) => {\n    //this is to ignore the existence of requirejs amd\n    var savedexports, savedmodule;\n    if (typeof exports !== 'undefined') savedexports = exports;\n    else exports = {}\n    if (typeof module !== 'undefined') savedmodule = module;\n    else module = {}\n\n    var tag = document.createElement('script');\n    tag.src = uri;\n    tag.async = true;\n    tag.onload = () => {\n        exports = savedexports;\n        module = savedmodule;\n        resolve();\n    };\n  var firstScriptTag = document.getElementsByTagName('script')[0];\n  firstScriptTag.parentNode.insertBefore(tag, firstScriptTag);\n});\n};\n\nif(typeof $3Dmolpromise === 'undefined') {\n$3Dmolpromise = null;\n  $3Dmolpromise = loadScriptAsync('https://cdnjs.cloudflare.com/ajax/libs/3Dmol/2.1.0/3Dmol-min.js');\n}\n\nvar viewer_17154157078935404 = null;\nvar warn = document.getElementById(\"3dmolwarning_17154157078935404\");\nif(warn) {\n    warn.parentNode.removeChild(warn);\n}\n$3Dmolpromise.then(function() {\nviewer_17154157078935404 = $3Dmol.createViewer(document.getElementById(\"3dmolviewer_17154157078935404\"),{backgroundColor:\"white\"});\nviewer_17154157078935404.zoomTo();\n\tviewer_17154157078935404.removeAllModels();\n\tviewer_17154157078935404.addModel(\"\\n     RDKit          3D\\n\\n 24 25  0  0  0  0  0  0  0  0999 V2000\\n    3.2669    0.6132   -0.2422 C   0  0  0  0  0  0  0  0  0  0  0  0\\n    2.1262   -0.2666   -0.2696 N   0  0  0  0  0  0  0  0  0  0  0  0\\n    2.1512   -1.6169   -0.4992 C   0  0  0  0  0  0  0  0  0  0  0  0\\n    0.9414   -2.1394   -0.4592 N   0  0  0  0  0  0  0  0  0  0  0  0\\n    0.1243   -1.0820   -0.1950 C   0  0  0  0  0  0  0  0  0  0  0  0\\n    0.8208    0.0818   -0.0730 C   0  0  0  0  0  0  0  0  0  0  0  0\\n    0.2053    1.3328    0.2024 C   0  0  0  0  0  0  0  0  0  0  0  0\\n    0.8425    2.3763    0.3105 O   0  0  0  0  0  0  0  0  0  0  0  0\\n   -1.1831    1.2355    0.3328 N   0  0  0  0  0  0  0  0  0  0  0  0\\n   -1.9397    0.0507    0.2135 C   0  0  0  0  0  0  0  0  0  0  0  0\\n   -3.1672    0.0661    0.3459 O   0  0  0  0  0  0  0  0  0  0  0  0\\n   -1.2419   -1.1267   -0.0581 N   0  0  0  0  0  0  0  0  0  0  0  0\\n   -1.9457   -2.3886   -0.1959 C   0  0  0  0  0  0  0  0  0  0  0  0\\n   -1.9291    2.4462    0.6152 C   0  0  0  0  0  0  0  0  0  0  0  0\\n    4.1760    0.0377   -0.4351 H   0  0  0  0  0  0  0  0  0  0  0  0\\n    3.1400    1.3720   -1.0184 H   0  0  0  0  0  0  0  0  0  0  0  0\\n    3.3265    1.0753    0.7463 H   0  0  0  0  0  0  0  0  0  0  0  0\\n    3.0659   -2.1649   -0.6881 H   0  0  0  0  0  0  0  0  0  0  0  0\\n   -1.5743   -3.0891    0.5588 H   0  0  0  0  0  0  0  0  0  0  0  0\\n   -3.0242   -2.2711   -0.0622 H   0  0  0  0  0  0  0  0  0  0  0  0\\n   -1.7597   -2.7941   -1.1955 H   0  0  0  0  0  0  0  0  0  0  0  0\\n   -2.4751    2.3160    1.5554 H   0  0  0  0  0  0  0  0  0  0  0  0\\n   -2.6590    2.6085   -0.1848 H   0  0  0  0  0  0  0  0  0  0  0  0\\n   -1.2880    3.3274    0.6956 H   0  0  0  0  0  0  0  0  0  0  0  0\\n  1  2  1  0\\n  2  3  1  0\\n  3  4  2  0\\n  4  5  1  0\\n  5  6  2  0\\n  6  7  1  0\\n  7  8  2  0\\n  7  9  1  0\\n  9 10  1  0\\n 10 11  2  0\\n 10 12  1  0\\n 12 13  1  0\\n  9 14  1  0\\n  6  2  1  0\\n 12  5  1  0\\n  1 15  1  0\\n  1 16  1  0\\n  1 17  1  0\\n  3 18  1  0\\n 13 19  1  0\\n 13 20  1  0\\n 13 21  1  0\\n 14 22  1  0\\n 14 23  1  0\\n 14 24  1  0\\nM  END\\n\",\"sdf\");\n\tviewer_17154157078935404.setStyle({\"stick\": {}});\n\tviewer_17154157078935404.setBackgroundColor(\"0xeeeeee\");\n\tviewer_17154157078935404.zoomTo();\nviewer_17154157078935404.render();\n});\n</script>",
      "text/html": [
       "<div id=\"3dmolviewer_17154157078935404\"  style=\"position: relative; width: 300px; height: 300px;\">\n",
       "        <p id=\"3dmolwarning_17154157078935404\" style=\"background-color:#ffcccc;color:black\">3Dmol.js failed to load for some reason.  Please check your browser console for error messages.<br></p>\n",
       "        </div>\n",
       "<script>\n",
       "\n",
       "var loadScriptAsync = function(uri){\n",
       "  return new Promise((resolve, reject) => {\n",
       "    //this is to ignore the existence of requirejs amd\n",
       "    var savedexports, savedmodule;\n",
       "    if (typeof exports !== 'undefined') savedexports = exports;\n",
       "    else exports = {}\n",
       "    if (typeof module !== 'undefined') savedmodule = module;\n",
       "    else module = {}\n",
       "\n",
       "    var tag = document.createElement('script');\n",
       "    tag.src = uri;\n",
       "    tag.async = true;\n",
       "    tag.onload = () => {\n",
       "        exports = savedexports;\n",
       "        module = savedmodule;\n",
       "        resolve();\n",
       "    };\n",
       "  var firstScriptTag = document.getElementsByTagName('script')[0];\n",
       "  firstScriptTag.parentNode.insertBefore(tag, firstScriptTag);\n",
       "});\n",
       "};\n",
       "\n",
       "if(typeof $3Dmolpromise === 'undefined') {\n",
       "$3Dmolpromise = null;\n",
       "  $3Dmolpromise = loadScriptAsync('https://cdnjs.cloudflare.com/ajax/libs/3Dmol/2.1.0/3Dmol-min.js');\n",
       "}\n",
       "\n",
       "var viewer_17154157078935404 = null;\n",
       "var warn = document.getElementById(\"3dmolwarning_17154157078935404\");\n",
       "if(warn) {\n",
       "    warn.parentNode.removeChild(warn);\n",
       "}\n",
       "$3Dmolpromise.then(function() {\n",
       "viewer_17154157078935404 = $3Dmol.createViewer(document.getElementById(\"3dmolviewer_17154157078935404\"),{backgroundColor:\"white\"});\n",
       "viewer_17154157078935404.zoomTo();\n",
       "\tviewer_17154157078935404.removeAllModels();\n",
       "\tviewer_17154157078935404.addModel(\"\\n     RDKit          3D\\n\\n 24 25  0  0  0  0  0  0  0  0999 V2000\\n    3.2669    0.6132   -0.2422 C   0  0  0  0  0  0  0  0  0  0  0  0\\n    2.1262   -0.2666   -0.2696 N   0  0  0  0  0  0  0  0  0  0  0  0\\n    2.1512   -1.6169   -0.4992 C   0  0  0  0  0  0  0  0  0  0  0  0\\n    0.9414   -2.1394   -0.4592 N   0  0  0  0  0  0  0  0  0  0  0  0\\n    0.1243   -1.0820   -0.1950 C   0  0  0  0  0  0  0  0  0  0  0  0\\n    0.8208    0.0818   -0.0730 C   0  0  0  0  0  0  0  0  0  0  0  0\\n    0.2053    1.3328    0.2024 C   0  0  0  0  0  0  0  0  0  0  0  0\\n    0.8425    2.3763    0.3105 O   0  0  0  0  0  0  0  0  0  0  0  0\\n   -1.1831    1.2355    0.3328 N   0  0  0  0  0  0  0  0  0  0  0  0\\n   -1.9397    0.0507    0.2135 C   0  0  0  0  0  0  0  0  0  0  0  0\\n   -3.1672    0.0661    0.3459 O   0  0  0  0  0  0  0  0  0  0  0  0\\n   -1.2419   -1.1267   -0.0581 N   0  0  0  0  0  0  0  0  0  0  0  0\\n   -1.9457   -2.3886   -0.1959 C   0  0  0  0  0  0  0  0  0  0  0  0\\n   -1.9291    2.4462    0.6152 C   0  0  0  0  0  0  0  0  0  0  0  0\\n    4.1760    0.0377   -0.4351 H   0  0  0  0  0  0  0  0  0  0  0  0\\n    3.1400    1.3720   -1.0184 H   0  0  0  0  0  0  0  0  0  0  0  0\\n    3.3265    1.0753    0.7463 H   0  0  0  0  0  0  0  0  0  0  0  0\\n    3.0659   -2.1649   -0.6881 H   0  0  0  0  0  0  0  0  0  0  0  0\\n   -1.5743   -3.0891    0.5588 H   0  0  0  0  0  0  0  0  0  0  0  0\\n   -3.0242   -2.2711   -0.0622 H   0  0  0  0  0  0  0  0  0  0  0  0\\n   -1.7597   -2.7941   -1.1955 H   0  0  0  0  0  0  0  0  0  0  0  0\\n   -2.4751    2.3160    1.5554 H   0  0  0  0  0  0  0  0  0  0  0  0\\n   -2.6590    2.6085   -0.1848 H   0  0  0  0  0  0  0  0  0  0  0  0\\n   -1.2880    3.3274    0.6956 H   0  0  0  0  0  0  0  0  0  0  0  0\\n  1  2  1  0\\n  2  3  1  0\\n  3  4  2  0\\n  4  5  1  0\\n  5  6  2  0\\n  6  7  1  0\\n  7  8  2  0\\n  7  9  1  0\\n  9 10  1  0\\n 10 11  2  0\\n 10 12  1  0\\n 12 13  1  0\\n  9 14  1  0\\n  6  2  1  0\\n 12  5  1  0\\n  1 15  1  0\\n  1 16  1  0\\n  1 17  1  0\\n  3 18  1  0\\n 13 19  1  0\\n 13 20  1  0\\n 13 21  1  0\\n 14 22  1  0\\n 14 23  1  0\\n 14 24  1  0\\nM  END\\n\",\"sdf\");\n",
       "\tviewer_17154157078935404.setStyle({\"stick\": {}});\n",
       "\tviewer_17154157078935404.setBackgroundColor(\"0xeeeeee\");\n",
       "\tviewer_17154157078935404.zoomTo();\n",
       "viewer_17154157078935404.render();\n",
       "});\n",
       "</script>"
      ]
     },
     "metadata": {},
     "output_type": "display_data"
    }
   ],
   "source": [
    "IPythonConsole.drawMol3D(mol_rdkit,size=(300,300))\n"
   ]
  },
  {
   "cell_type": "markdown",
   "metadata": {},
   "source": [
    "* Nous pouvons visualiser la conformation de la molécule avec py3Dmol directement, sans utiliser `IPythonConsole.drawMol3D` de RDKit."
   ]
  },
  {
   "cell_type": "code",
   "execution_count": 11,
   "metadata": {
    "execution": {
     "iopub.execute_input": "2024-04-08T13:04:00.708692Z",
     "iopub.status.busy": "2024-04-08T13:04:00.708018Z",
     "iopub.status.idle": "2024-04-08T13:04:00.716859Z",
     "shell.execute_reply": "2024-04-08T13:04:00.716172Z",
     "shell.execute_reply.started": "2024-04-08T13:04:00.708666Z"
    }
   },
   "outputs": [],
   "source": [
    "def view3D(mol, label, position = None, size=None, fmt='mol'):\n",
    "        \"\"\"3D vizualisation of mol/xyz file with Py3DMol\n",
    "        \"\"\"\n",
    "        if size is None:\n",
    "            view = py3Dmol.view(width=300, height=300)\n",
    "        else:\n",
    "             view = py3Dmol.view(width=size[0], height=size[1])\n",
    "\n",
    "        if fmt=='mol':\n",
    "            view.addModel(Chem.MolToMolBlock(mol), fmt)\n",
    "            # view.addModel(mol, fmt)\n",
    "        elif fmt=='xyz':\n",
    "            view.addModel(mol, fmt)\n",
    "\n",
    "        view.setStyle({'stick': {}, 'sphere': {'scale': .30}})\n",
    "        if position is None:\n",
    "            view.addLabel(label, {'position': {'x': -2, 'y': -4, 'z': 0}})\n",
    "        else:\n",
    "            view.addLabel(label, {'position': {'x': position[0], 'y': position[1], 'z': position[2]}})\n",
    "\n",
    "        view.zoomTo()\n",
    "        view.show()"
   ]
  },
  {
   "cell_type": "code",
   "execution_count": 12,
   "metadata": {
    "execution": {
     "iopub.execute_input": "2024-04-08T13:04:00.718016Z",
     "iopub.status.busy": "2024-04-08T13:04:00.717777Z",
     "iopub.status.idle": "2024-04-08T13:04:00.723358Z",
     "shell.execute_reply": "2024-04-08T13:04:00.722545Z",
     "shell.execute_reply.started": "2024-04-08T13:04:00.717992Z"
    }
   },
   "outputs": [
    {
     "data": {
      "application/3dmoljs_load.v0": "<div id=\"3dmolviewer_1715415707925251\"  style=\"position: relative; width: 400px; height: 300px;\">\n        <p id=\"3dmolwarning_1715415707925251\" style=\"background-color:#ffcccc;color:black\">3Dmol.js failed to load for some reason.  Please check your browser console for error messages.<br></p>\n        </div>\n<script>\n\nvar loadScriptAsync = function(uri){\n  return new Promise((resolve, reject) => {\n    //this is to ignore the existence of requirejs amd\n    var savedexports, savedmodule;\n    if (typeof exports !== 'undefined') savedexports = exports;\n    else exports = {}\n    if (typeof module !== 'undefined') savedmodule = module;\n    else module = {}\n\n    var tag = document.createElement('script');\n    tag.src = uri;\n    tag.async = true;\n    tag.onload = () => {\n        exports = savedexports;\n        module = savedmodule;\n        resolve();\n    };\n  var firstScriptTag = document.getElementsByTagName('script')[0];\n  firstScriptTag.parentNode.insertBefore(tag, firstScriptTag);\n});\n};\n\nif(typeof $3Dmolpromise === 'undefined') {\n$3Dmolpromise = null;\n  $3Dmolpromise = loadScriptAsync('https://cdnjs.cloudflare.com/ajax/libs/3Dmol/2.1.0/3Dmol-min.js');\n}\n\nvar viewer_1715415707925251 = null;\nvar warn = document.getElementById(\"3dmolwarning_1715415707925251\");\nif(warn) {\n    warn.parentNode.removeChild(warn);\n}\n$3Dmolpromise.then(function() {\nviewer_1715415707925251 = $3Dmol.createViewer(document.getElementById(\"3dmolviewer_1715415707925251\"),{backgroundColor:\"white\"});\nviewer_1715415707925251.zoomTo();\n\tviewer_1715415707925251.addModel(\"\\n     RDKit          3D\\n\\n 24 25  0  0  0  0  0  0  0  0999 V2000\\n    3.2669    0.6132   -0.2422 C   0  0  0  0  0  0  0  0  0  0  0  0\\n    2.1262   -0.2666   -0.2696 N   0  0  0  0  0  0  0  0  0  0  0  0\\n    2.1512   -1.6169   -0.4992 C   0  0  0  0  0  0  0  0  0  0  0  0\\n    0.9414   -2.1394   -0.4592 N   0  0  0  0  0  0  0  0  0  0  0  0\\n    0.1243   -1.0820   -0.1950 C   0  0  0  0  0  0  0  0  0  0  0  0\\n    0.8208    0.0818   -0.0730 C   0  0  0  0  0  0  0  0  0  0  0  0\\n    0.2053    1.3328    0.2024 C   0  0  0  0  0  0  0  0  0  0  0  0\\n    0.8425    2.3763    0.3105 O   0  0  0  0  0  0  0  0  0  0  0  0\\n   -1.1831    1.2355    0.3328 N   0  0  0  0  0  0  0  0  0  0  0  0\\n   -1.9397    0.0507    0.2135 C   0  0  0  0  0  0  0  0  0  0  0  0\\n   -3.1672    0.0661    0.3459 O   0  0  0  0  0  0  0  0  0  0  0  0\\n   -1.2419   -1.1267   -0.0581 N   0  0  0  0  0  0  0  0  0  0  0  0\\n   -1.9457   -2.3886   -0.1959 C   0  0  0  0  0  0  0  0  0  0  0  0\\n   -1.9291    2.4462    0.6152 C   0  0  0  0  0  0  0  0  0  0  0  0\\n    4.1760    0.0377   -0.4351 H   0  0  0  0  0  0  0  0  0  0  0  0\\n    3.1400    1.3720   -1.0184 H   0  0  0  0  0  0  0  0  0  0  0  0\\n    3.3265    1.0753    0.7463 H   0  0  0  0  0  0  0  0  0  0  0  0\\n    3.0659   -2.1649   -0.6881 H   0  0  0  0  0  0  0  0  0  0  0  0\\n   -1.5743   -3.0891    0.5588 H   0  0  0  0  0  0  0  0  0  0  0  0\\n   -3.0242   -2.2711   -0.0622 H   0  0  0  0  0  0  0  0  0  0  0  0\\n   -1.7597   -2.7941   -1.1955 H   0  0  0  0  0  0  0  0  0  0  0  0\\n   -2.4751    2.3160    1.5554 H   0  0  0  0  0  0  0  0  0  0  0  0\\n   -2.6590    2.6085   -0.1848 H   0  0  0  0  0  0  0  0  0  0  0  0\\n   -1.2880    3.3274    0.6956 H   0  0  0  0  0  0  0  0  0  0  0  0\\n  1  2  1  0\\n  2  3  1  0\\n  3  4  2  0\\n  4  5  1  0\\n  5  6  2  0\\n  6  7  1  0\\n  7  8  2  0\\n  7  9  1  0\\n  9 10  1  0\\n 10 11  2  0\\n 10 12  1  0\\n 12 13  1  0\\n  9 14  1  0\\n  6  2  1  0\\n 12  5  1  0\\n  1 15  1  0\\n  1 16  1  0\\n  1 17  1  0\\n  3 18  1  0\\n 13 19  1  0\\n 13 20  1  0\\n 13 21  1  0\\n 14 22  1  0\\n 14 23  1  0\\n 14 24  1  0\\nM  END\\n\",\"mol\");\n\tviewer_1715415707925251.setStyle({\"stick\": {}, \"sphere\": {\"scale\": 0.3}});\n\tviewer_1715415707925251.addLabel(\"Caffeine RDKit Molecule MMFF94\",{\"position\": {\"x\": -4, \"y\": -4, \"z\": 0}});\n\tviewer_1715415707925251.zoomTo();\nviewer_1715415707925251.render();\n});\n</script>",
      "text/html": [
       "<div id=\"3dmolviewer_1715415707925251\"  style=\"position: relative; width: 400px; height: 300px;\">\n",
       "        <p id=\"3dmolwarning_1715415707925251\" style=\"background-color:#ffcccc;color:black\">3Dmol.js failed to load for some reason.  Please check your browser console for error messages.<br></p>\n",
       "        </div>\n",
       "<script>\n",
       "\n",
       "var loadScriptAsync = function(uri){\n",
       "  return new Promise((resolve, reject) => {\n",
       "    //this is to ignore the existence of requirejs amd\n",
       "    var savedexports, savedmodule;\n",
       "    if (typeof exports !== 'undefined') savedexports = exports;\n",
       "    else exports = {}\n",
       "    if (typeof module !== 'undefined') savedmodule = module;\n",
       "    else module = {}\n",
       "\n",
       "    var tag = document.createElement('script');\n",
       "    tag.src = uri;\n",
       "    tag.async = true;\n",
       "    tag.onload = () => {\n",
       "        exports = savedexports;\n",
       "        module = savedmodule;\n",
       "        resolve();\n",
       "    };\n",
       "  var firstScriptTag = document.getElementsByTagName('script')[0];\n",
       "  firstScriptTag.parentNode.insertBefore(tag, firstScriptTag);\n",
       "});\n",
       "};\n",
       "\n",
       "if(typeof $3Dmolpromise === 'undefined') {\n",
       "$3Dmolpromise = null;\n",
       "  $3Dmolpromise = loadScriptAsync('https://cdnjs.cloudflare.com/ajax/libs/3Dmol/2.1.0/3Dmol-min.js');\n",
       "}\n",
       "\n",
       "var viewer_1715415707925251 = null;\n",
       "var warn = document.getElementById(\"3dmolwarning_1715415707925251\");\n",
       "if(warn) {\n",
       "    warn.parentNode.removeChild(warn);\n",
       "}\n",
       "$3Dmolpromise.then(function() {\n",
       "viewer_1715415707925251 = $3Dmol.createViewer(document.getElementById(\"3dmolviewer_1715415707925251\"),{backgroundColor:\"white\"});\n",
       "viewer_1715415707925251.zoomTo();\n",
       "\tviewer_1715415707925251.addModel(\"\\n     RDKit          3D\\n\\n 24 25  0  0  0  0  0  0  0  0999 V2000\\n    3.2669    0.6132   -0.2422 C   0  0  0  0  0  0  0  0  0  0  0  0\\n    2.1262   -0.2666   -0.2696 N   0  0  0  0  0  0  0  0  0  0  0  0\\n    2.1512   -1.6169   -0.4992 C   0  0  0  0  0  0  0  0  0  0  0  0\\n    0.9414   -2.1394   -0.4592 N   0  0  0  0  0  0  0  0  0  0  0  0\\n    0.1243   -1.0820   -0.1950 C   0  0  0  0  0  0  0  0  0  0  0  0\\n    0.8208    0.0818   -0.0730 C   0  0  0  0  0  0  0  0  0  0  0  0\\n    0.2053    1.3328    0.2024 C   0  0  0  0  0  0  0  0  0  0  0  0\\n    0.8425    2.3763    0.3105 O   0  0  0  0  0  0  0  0  0  0  0  0\\n   -1.1831    1.2355    0.3328 N   0  0  0  0  0  0  0  0  0  0  0  0\\n   -1.9397    0.0507    0.2135 C   0  0  0  0  0  0  0  0  0  0  0  0\\n   -3.1672    0.0661    0.3459 O   0  0  0  0  0  0  0  0  0  0  0  0\\n   -1.2419   -1.1267   -0.0581 N   0  0  0  0  0  0  0  0  0  0  0  0\\n   -1.9457   -2.3886   -0.1959 C   0  0  0  0  0  0  0  0  0  0  0  0\\n   -1.9291    2.4462    0.6152 C   0  0  0  0  0  0  0  0  0  0  0  0\\n    4.1760    0.0377   -0.4351 H   0  0  0  0  0  0  0  0  0  0  0  0\\n    3.1400    1.3720   -1.0184 H   0  0  0  0  0  0  0  0  0  0  0  0\\n    3.3265    1.0753    0.7463 H   0  0  0  0  0  0  0  0  0  0  0  0\\n    3.0659   -2.1649   -0.6881 H   0  0  0  0  0  0  0  0  0  0  0  0\\n   -1.5743   -3.0891    0.5588 H   0  0  0  0  0  0  0  0  0  0  0  0\\n   -3.0242   -2.2711   -0.0622 H   0  0  0  0  0  0  0  0  0  0  0  0\\n   -1.7597   -2.7941   -1.1955 H   0  0  0  0  0  0  0  0  0  0  0  0\\n   -2.4751    2.3160    1.5554 H   0  0  0  0  0  0  0  0  0  0  0  0\\n   -2.6590    2.6085   -0.1848 H   0  0  0  0  0  0  0  0  0  0  0  0\\n   -1.2880    3.3274    0.6956 H   0  0  0  0  0  0  0  0  0  0  0  0\\n  1  2  1  0\\n  2  3  1  0\\n  3  4  2  0\\n  4  5  1  0\\n  5  6  2  0\\n  6  7  1  0\\n  7  8  2  0\\n  7  9  1  0\\n  9 10  1  0\\n 10 11  2  0\\n 10 12  1  0\\n 12 13  1  0\\n  9 14  1  0\\n  6  2  1  0\\n 12  5  1  0\\n  1 15  1  0\\n  1 16  1  0\\n  1 17  1  0\\n  3 18  1  0\\n 13 19  1  0\\n 13 20  1  0\\n 13 21  1  0\\n 14 22  1  0\\n 14 23  1  0\\n 14 24  1  0\\nM  END\\n\",\"mol\");\n",
       "\tviewer_1715415707925251.setStyle({\"stick\": {}, \"sphere\": {\"scale\": 0.3}});\n",
       "\tviewer_1715415707925251.addLabel(\"Caffeine RDKit Molecule MMFF94\",{\"position\": {\"x\": -4, \"y\": -4, \"z\": 0}});\n",
       "\tviewer_1715415707925251.zoomTo();\n",
       "viewer_1715415707925251.render();\n",
       "});\n",
       "</script>"
      ]
     },
     "metadata": {},
     "output_type": "display_data"
    }
   ],
   "source": [
    "view3D(mol_rdkit, f'{smi_key} RDKit Molecule MMFF94', position=(-4,-4,0), size=(400,300))"
   ]
  },
  {
   "cell_type": "markdown",
   "metadata": {},
   "source": [
    "#### Convertir l'objet RDKit molecule au XYZ format "
   ]
  },
  {
   "cell_type": "code",
   "execution_count": 13,
   "metadata": {
    "execution": {
     "iopub.execute_input": "2024-04-08T13:04:00.724809Z",
     "iopub.status.busy": "2024-04-08T13:04:00.724461Z",
     "iopub.status.idle": "2024-04-08T13:04:00.729896Z",
     "shell.execute_reply": "2024-04-08T13:04:00.728921Z",
     "shell.execute_reply.started": "2024-04-08T13:04:00.724781Z"
    }
   },
   "outputs": [],
   "source": [
    "# Convert RDKit molecule to XYZ format \n",
    "mol_xyz = Chem.MolToXYZBlock(mol_rdkit)\n",
    "\n",
    "# Writing optimized mol_xyz to a file\n",
    "path_rdkit_xyz = working_dir / f'{smi_key}_rdkit.xyz'\n",
    "with open(path_rdkit_xyz, \"w\") as f:\n",
    "    f.write(mol_xyz)\n"
   ]
  },
  {
   "cell_type": "code",
   "execution_count": 14,
   "metadata": {
    "execution": {
     "iopub.execute_input": "2024-04-08T13:04:00.731168Z",
     "iopub.status.busy": "2024-04-08T13:04:00.730880Z",
     "iopub.status.idle": "2024-04-08T13:04:00.736136Z",
     "shell.execute_reply": "2024-04-08T13:04:00.735287Z",
     "shell.execute_reply.started": "2024-04-08T13:04:00.731142Z"
    }
   },
   "outputs": [
    {
     "name": "stdout",
     "output_type": "stream",
     "text": [
      "24\n",
      "\n",
      "C      3.266938    0.613214   -0.242223\n",
      "N      2.126241   -0.266607   -0.269568\n",
      "C      2.151238   -1.616908   -0.499230\n",
      "N      0.941433   -2.139354   -0.459189\n",
      "C      0.124277   -1.081992   -0.195046\n",
      "C      0.820820    0.081799   -0.073008\n",
      "C      0.205337    1.332766    0.202369\n",
      "O      0.842486    2.376263    0.310461\n",
      "N     -1.183149    1.235542    0.332786\n",
      "C     -1.939716    0.050651    0.213544\n",
      "O     -3.167248    0.066072    0.345886\n",
      "N     -1.241938   -1.126677   -0.058150\n",
      "C     -1.945695   -2.388596   -0.195923\n",
      "C     -1.929096    2.446200    0.615177\n",
      "H      4.175967    0.037686   -0.435065\n",
      "H      3.140018    1.371976   -1.018382\n",
      "H      3.326543    1.075297    0.746300\n",
      "H      3.065934   -2.164939   -0.688051\n",
      "H     -1.574311   -3.089075    0.558816\n",
      "H     -3.024201   -2.271091   -0.062166\n",
      "H     -1.759748   -2.794125   -1.195521\n",
      "H     -2.475078    2.315956    1.555414\n",
      "H     -2.659015    2.608536   -0.184806\n",
      "H     -1.288036    3.327405    0.695574\n",
      "\n"
     ]
    }
   ],
   "source": [
    "# Check the content of path_rdkit_xyz\n",
    "print(path_rdkit_xyz.read_text())"
   ]
  },
  {
   "cell_type": "code",
   "execution_count": 15,
   "metadata": {
    "execution": {
     "iopub.execute_input": "2024-04-08T13:04:00.737707Z",
     "iopub.status.busy": "2024-04-08T13:04:00.737442Z",
     "iopub.status.idle": "2024-04-08T13:04:00.744345Z",
     "shell.execute_reply": "2024-04-08T13:04:00.743306Z",
     "shell.execute_reply.started": "2024-04-08T13:04:00.737681Z"
    }
   },
   "outputs": [
    {
     "name": "stdout",
     "output_type": "stream",
     "text": [
      "\n",
      "C      3.266938    0.613214   -0.242223\n",
      "N      2.126241   -0.266607   -0.269568\n",
      "C      2.151238   -1.616908   -0.499230\n",
      "N      0.941433   -2.139354   -0.459189\n",
      "C      0.124277   -1.081992   -0.195046\n",
      "C      0.820820    0.081799   -0.073008\n",
      "C      0.205337    1.332766    0.202369\n",
      "O      0.842486    2.376263    0.310461\n",
      "N     -1.183149    1.235542    0.332786\n",
      "C     -1.939716    0.050651    0.213544\n",
      "O     -3.167248    0.066072    0.345886\n",
      "N     -1.241938   -1.126677   -0.058150\n",
      "C     -1.945695   -2.388596   -0.195923\n",
      "C     -1.929096    2.446200    0.615177\n",
      "H      4.175967    0.037686   -0.435065\n",
      "H      3.140018    1.371976   -1.018382\n",
      "H      3.326543    1.075297    0.746300\n",
      "H      3.065934   -2.164939   -0.688051\n",
      "H     -1.574311   -3.089075    0.558816\n",
      "H     -3.024201   -2.271091   -0.062166\n",
      "H     -1.759748   -2.794125   -1.195521\n",
      "H     -2.475078    2.315956    1.555414\n",
      "H     -2.659015    2.608536   -0.184806\n",
      "H     -1.288036    3.327405    0.695574\n"
     ]
    }
   ],
   "source": [
    "# Remove the first line (number of atoms) from XYZ data\n",
    "mol_xyz = '\\n'.join(mol_xyz.strip().split('\\n')[1:])\n",
    "\n",
    "# Check that the xyz file is valide for the next step (pyscf.gto)\n",
    "print(mol_xyz)"
   ]
  },
  {
   "cell_type": "markdown",
   "metadata": {},
   "source": [
    "Notre fichier `mol_xyz` est conforme au format attendu par `pyscf.gto`: il n'y figure que les symboles des atomes et les coordonnées."
   ]
  },
  {
   "cell_type": "markdown",
   "metadata": {},
   "source": [
    "## Calculs *ab initio* et DFT avec PySCF\n",
    "\n",
    "Pour des raisons de temps computationnelle, nous allons travailler ici avec la molécule d'eau qui est légère."
   ]
  },
  {
   "cell_type": "code",
   "execution_count": 16,
   "metadata": {
    "execution": {
     "iopub.execute_input": "2024-04-08T13:04:00.746165Z",
     "iopub.status.busy": "2024-04-08T13:04:00.745660Z",
     "iopub.status.idle": "2024-04-08T13:04:01.093885Z",
     "shell.execute_reply": "2024-04-08T13:04:01.092959Z",
     "shell.execute_reply.started": "2024-04-08T13:04:00.746139Z"
    }
   },
   "outputs": [
    {
     "data": {
      "text/plain": [
       "'2.5.0'"
      ]
     },
     "execution_count": 16,
     "metadata": {},
     "output_type": "execute_result"
    }
   ],
   "source": [
    "import pyscf\n",
    "\n",
    "pyscf.__version__"
   ]
  },
  {
   "cell_type": "code",
   "execution_count": 17,
   "metadata": {
    "execution": {
     "iopub.execute_input": "2024-04-08T13:04:01.096890Z",
     "iopub.status.busy": "2024-04-08T13:04:01.095738Z",
     "iopub.status.idle": "2024-04-08T13:04:01.101424Z",
     "shell.execute_reply": "2024-04-08T13:04:01.100634Z",
     "shell.execute_reply.started": "2024-04-08T13:04:01.096849Z"
    }
   },
   "outputs": [],
   "source": [
    "from pyscf import gto\n",
    "from pyscf.data import nist\n",
    "\n",
    "au2ev = nist.HARTREE2EV\n",
    "\n",
    "# Experimental geometry of gas-phase water\n",
    "# Ref: https://cccbdb.nist.gov/expgeom2x.asp\n",
    "mol_xyz = \"\"\"O        0.0000   0.0000   0.1173\n",
    "             H        0.0000   0.7572  -0.4692\n",
    "             H        0.0000  -0.7572  -0.4692\"\"\"\n",
    "smi_key = 'water'\n",
    "\n",
    "# Verify if the \"{smi_key}\" subdirectory exist and if not, create it\n",
    "working_dir = Path(f'./{smi_key}')\n",
    "# Create the output directory if it doesn't exist\n",
    "working_dir.mkdir(parents=True, exist_ok=True)"
   ]
  },
  {
   "cell_type": "markdown",
   "metadata": {},
   "source": [
    "* Créer l'objet pyscf molecule"
   ]
  },
  {
   "cell_type": "code",
   "execution_count": 18,
   "metadata": {
    "execution": {
     "iopub.execute_input": "2024-04-08T13:04:01.103241Z",
     "iopub.status.busy": "2024-04-08T13:04:01.102678Z",
     "iopub.status.idle": "2024-04-08T13:04:01.143819Z",
     "shell.execute_reply": "2024-04-08T13:04:01.143047Z",
     "shell.execute_reply.started": "2024-04-08T13:04:01.103210Z"
    }
   },
   "outputs": [
    {
     "name": "stdout",
     "output_type": "stream",
     "text": [
      "overwrite output file: water/water_pyscf.txt\n",
      "overwrite output file: water/water_pyscf.txt\n"
     ]
    },
    {
     "data": {
      "text/plain": [
       "<pyscf.gto.mole.Mole at 0x7810d4d33490>"
      ]
     },
     "execution_count": 18,
     "metadata": {},
     "output_type": "execute_result"
    }
   ],
   "source": [
    "path_pyscf_log = working_dir / f'{smi_key}_pyscf.txt'\n",
    "mol_pyscf = gto.M(\n",
    "    atom=mol_xyz, \n",
    "    basis= \"def2-TZVPP\", # See Tutorial 1\n",
    "    charge=0,      # 0 by default\n",
    "    spin=0,        # 0 by default, defined as (n_up - n_down)\n",
    "    symmetry=True, # False by default\n",
    "    output = path_pyscf_log # to store some output calculations\n",
    ")\n",
    "mol_pyscf.build()"
   ]
  },
  {
   "cell_type": "markdown",
   "metadata": {
    "execution": {
     "iopub.execute_input": "2024-03-18T06:07:03.617790Z",
     "iopub.status.busy": "2024-03-18T06:07:03.617057Z",
     "iopub.status.idle": "2024-03-18T06:07:03.630610Z",
     "shell.execute_reply": "2024-03-18T06:07:03.629908Z",
     "shell.execute_reply.started": "2024-03-18T06:07:03.617753Z"
    }
   },
   "source": [
    "* Energie nucléaire"
   ]
  },
  {
   "cell_type": "code",
   "execution_count": 19,
   "metadata": {
    "execution": {
     "iopub.execute_input": "2024-04-08T13:04:01.145499Z",
     "iopub.status.busy": "2024-04-08T13:04:01.145034Z",
     "iopub.status.idle": "2024-04-08T13:04:01.152188Z",
     "shell.execute_reply": "2024-04-08T13:04:01.151293Z",
     "shell.execute_reply.started": "2024-04-08T13:04:01.145467Z"
    }
   },
   "outputs": [
    {
     "data": {
      "text/plain": [
       "9.189533762934902"
      ]
     },
     "execution_count": 19,
     "metadata": {},
     "output_type": "execute_result"
    }
   ],
   "source": [
    "mol_pyscf.energy_nuc()"
   ]
  },
  {
   "cell_type": "code",
   "execution_count": 20,
   "metadata": {
    "execution": {
     "iopub.execute_input": "2024-04-08T13:04:01.153905Z",
     "iopub.status.busy": "2024-04-08T13:04:01.153189Z",
     "iopub.status.idle": "2024-04-08T13:04:01.160015Z",
     "shell.execute_reply": "2024-04-08T13:04:01.159088Z",
     "shell.execute_reply.started": "2024-04-08T13:04:01.153856Z"
    }
   },
   "outputs": [
    {
     "data": {
      "text/plain": [
       "9.189533762934902"
      ]
     },
     "execution_count": 20,
     "metadata": {},
     "output_type": "execute_result"
    }
   ],
   "source": [
    "mol_pyscf.get_enuc()"
   ]
  },
  {
   "cell_type": "markdown",
   "metadata": {},
   "source": [
    "* Nombres d'électrons, HOMO, LUMO et nombres d'orbitales atomiques"
   ]
  },
  {
   "cell_type": "code",
   "execution_count": 21,
   "metadata": {
    "execution": {
     "iopub.execute_input": "2024-04-08T13:04:01.165205Z",
     "iopub.status.busy": "2024-04-08T13:04:01.164783Z",
     "iopub.status.idle": "2024-04-08T13:04:01.170738Z",
     "shell.execute_reply": "2024-04-08T13:04:01.169649Z",
     "shell.execute_reply.started": "2024-04-08T13:04:01.165180Z"
    }
   },
   "outputs": [
    {
     "data": {
      "text/plain": [
       "10"
      ]
     },
     "execution_count": 21,
     "metadata": {},
     "output_type": "execute_result"
    }
   ],
   "source": [
    "mol_pyscf.nelectron # Number of electrons"
   ]
  },
  {
   "cell_type": "code",
   "execution_count": 22,
   "metadata": {
    "execution": {
     "iopub.execute_input": "2024-04-08T13:04:01.172109Z",
     "iopub.status.busy": "2024-04-08T13:04:01.171780Z",
     "iopub.status.idle": "2024-04-08T13:04:01.178985Z",
     "shell.execute_reply": "2024-04-08T13:04:01.177929Z",
     "shell.execute_reply.started": "2024-04-08T13:04:01.172082Z"
    }
   },
   "outputs": [
    {
     "name": "stdout",
     "output_type": "stream",
     "text": [
      "Les indexes du (HOMO,LUMO) sont (4, 5)\n"
     ]
    }
   ],
   "source": [
    "print(f'Les indexes du (HOMO,LUMO) sont {mol_pyscf.nelectron//2 -1, mol_pyscf.nelectron//2}')"
   ]
  },
  {
   "cell_type": "code",
   "execution_count": 23,
   "metadata": {
    "execution": {
     "iopub.execute_input": "2024-04-08T13:04:01.181023Z",
     "iopub.status.busy": "2024-04-08T13:04:01.180503Z",
     "iopub.status.idle": "2024-04-08T13:04:01.185663Z",
     "shell.execute_reply": "2024-04-08T13:04:01.184712Z",
     "shell.execute_reply.started": "2024-04-08T13:04:01.180995Z"
    }
   },
   "outputs": [
    {
     "name": "stdout",
     "output_type": "stream",
     "text": [
      "Le nombre d'orbitales moléculaires, dans la base def2-TZVPP, est 59\n"
     ]
    }
   ],
   "source": [
    " # number of atomic orbitals (depending on basis set)\n",
    "print(f'Le nombre d\\'orbitales moléculaires, dans la base {mol_pyscf.basis}, est {mol_pyscf.nao}')"
   ]
  },
  {
   "cell_type": "markdown",
   "metadata": {},
   "source": [
    "\n",
    "### [Hartree-Fock](https://en.wikipedia.org/wiki/Hartree%E2%80%93Fock_method)\n",
    "\n",
    "* Hatree-Fock (HF) est le point de départ de l'essentiel de la chimie quantique.\n",
    "* Les orbitales sont optimisés de manière variationnelle pour un seul déterminant de Slater.\n",
    "* En travaillant sur la base de la fonction de base centrée sur l'atome, on résoud les équations de [Roothaan-Hall](https://en.wikipedia.org/wiki/Roothaan_equations).\n",
    "\n",
    "$$\\mathbf{FC} = \\mathbf{SC} \\epsilon.$$\n",
    "\n",
    "* $\\mathbf{F}$ est la matrice Fock;\n",
    "* $\\mathbf{C}$ est la matrice des coefficients orbitaux moléculaires;\n",
    "* $\\mathbf{S}$ est la matrice de chevauchement orbitale atomique;\n",
    "* $\\epsilon$ est le vecteur des énergies orbitales moléculaires.\n",
    "\n",
    "![HF Flowchart](./Graphics/Hartree-Fock.png)\n"
   ]
  },
  {
   "cell_type": "code",
   "execution_count": 24,
   "metadata": {
    "execution": {
     "iopub.execute_input": "2024-04-08T13:04:01.186993Z",
     "iopub.status.busy": "2024-04-08T13:04:01.186717Z",
     "iopub.status.idle": "2024-04-08T13:04:01.375566Z",
     "shell.execute_reply": "2024-04-08T13:04:01.374680Z",
     "shell.execute_reply.started": "2024-04-08T13:04:01.186970Z"
    }
   },
   "outputs": [],
   "source": [
    "import time\n",
    "from pyscf import scf\n",
    "\n",
    "start = time.time()\n",
    "myhf = scf.RHF(mol_pyscf).run(verbose = 4)\n",
    "myhf_time = time.time() - start"
   ]
  },
  {
   "cell_type": "code",
   "execution_count": 25,
   "metadata": {
    "execution": {
     "iopub.execute_input": "2024-04-08T13:04:01.376912Z",
     "iopub.status.busy": "2024-04-08T13:04:01.376653Z",
     "iopub.status.idle": "2024-04-08T13:04:01.381288Z",
     "shell.execute_reply": "2024-04-08T13:04:01.380552Z",
     "shell.execute_reply.started": "2024-04-08T13:04:01.376888Z"
    }
   },
   "outputs": [],
   "source": [
    "def find_homo_lumo(mf_pyscf):\n",
    "    \"\"\"Function that returns the HOMO and LUMO index and the gap energy in eV\n",
    "\n",
    "    Args:\n",
    "        mf_pyscf (pyscf object): pyscf meam-field object of the molecule \n",
    "    \"\"\"\n",
    "    # Index of HOMO and LUMO\n",
    "    lumo_idx = mf_pyscf.mo_occ.tolist().index(0.)\n",
    "    homo_idx = lumo_idx - 1 # mol_\n",
    "\n",
    "    # Calculate the gap Homo-LUMO\n",
    "    E_HOMO = mf_pyscf.mo_energy[homo_idx] * au2ev\n",
    "    E_LUMO = mf_pyscf.mo_energy[lumo_idx] * au2ev\n",
    "    E_g = abs(E_HOMO - E_LUMO)\n",
    "\n",
    "    return E_HOMO, E_LUMO, E_g"
   ]
  },
  {
   "cell_type": "code",
   "execution_count": 26,
   "metadata": {
    "execution": {
     "iopub.execute_input": "2024-04-08T13:04:01.382367Z",
     "iopub.status.busy": "2024-04-08T13:04:01.382144Z",
     "iopub.status.idle": "2024-04-08T13:04:01.387121Z",
     "shell.execute_reply": "2024-04-08T13:04:01.386294Z",
     "shell.execute_reply.started": "2024-04-08T13:04:01.382344Z"
    }
   },
   "outputs": [
    {
     "name": "stdout",
     "output_type": "stream",
     "text": [
      "Homo Energy = -13.822342573857561 eV (with index 4),\n",
      "Lumo Energy = 3.4114158201624893 eV (with index 5),\n",
      "Gap Energy = 17.23375839402005 eV\n"
     ]
    }
   ],
   "source": [
    "Ehf_HOMO, Ehf_LUMO, Ehf_g = find_homo_lumo(myhf)\n",
    "print(f'Homo Energy = {Ehf_HOMO} eV (with index {mol_pyscf.nelectron//2 -1}),\\\n",
    "\\nLumo Energy = {Ehf_LUMO} eV (with index {mol_pyscf.nelectron//2}),\\\n",
    "\\nGap Energy = {Ehf_g} eV')"
   ]
  },
  {
   "cell_type": "code",
   "execution_count": 27,
   "metadata": {
    "execution": {
     "iopub.execute_input": "2024-04-08T13:04:01.388834Z",
     "iopub.status.busy": "2024-04-08T13:04:01.388428Z",
     "iopub.status.idle": "2024-04-08T13:04:01.394376Z",
     "shell.execute_reply": "2024-04-08T13:04:01.393706Z",
     "shell.execute_reply.started": "2024-04-08T13:04:01.388809Z"
    }
   },
   "outputs": [
    {
     "data": {
      "text/plain": [
       "array([ 0.00000000e+00,  4.92524455e-16, -2.05017144e+00])"
      ]
     },
     "execution_count": 27,
     "metadata": {},
     "output_type": "execute_result"
    }
   ],
   "source": [
    "myhf.dip_moment() # Dipole moment"
   ]
  },
  {
   "cell_type": "code",
   "execution_count": 28,
   "metadata": {
    "execution": {
     "iopub.execute_input": "2024-04-08T13:04:01.395730Z",
     "iopub.status.busy": "2024-04-08T13:04:01.395492Z",
     "iopub.status.idle": "2024-04-08T13:04:01.399551Z",
     "shell.execute_reply": "2024-04-08T13:04:01.398918Z",
     "shell.execute_reply.started": "2024-04-08T13:04:01.395700Z"
    }
   },
   "outputs": [],
   "source": [
    "myhf.dump_scf_summary() # SCF Energy summaries"
   ]
  },
  {
   "cell_type": "code",
   "execution_count": 29,
   "metadata": {
    "execution": {
     "iopub.execute_input": "2024-04-08T13:04:01.400540Z",
     "iopub.status.busy": "2024-04-08T13:04:01.400326Z",
     "iopub.status.idle": "2024-04-08T13:04:01.406136Z",
     "shell.execute_reply": "2024-04-08T13:04:01.405480Z",
     "shell.execute_reply.started": "2024-04-08T13:04:01.400516Z"
    }
   },
   "outputs": [
    {
     "data": {
      "text/plain": [
       "{'e1': -123.08093670717486, 'e2': 37.828925104528835, 'nuc': 9.189533762934902}"
      ]
     },
     "execution_count": 29,
     "metadata": {},
     "output_type": "execute_result"
    }
   ],
   "source": [
    "myhf.scf_summary"
   ]
  },
  {
   "cell_type": "markdown",
   "metadata": {},
   "source": [
    "#### Quelques limites des méthodes HF\n",
    "\n",
    "La méthode de Hartree-Fock présente certaines limites :\n",
    "\n",
    " 1. **Approximation de l'échange-correlation**. La méthode de Hartree-Fock ne tient pas compte de manière exacte de l'interaction électron-électron appelée **correlation électronique**. Elle utilise une approximation connue sous le nom d'approximation de l'échange-correlation. Cette approximation simplifie l'interaction électronique en la traitant de manière moyennée, ce qui peut conduire à des erreurs significatives dans certains cas.\n",
    "\n",
    "2. **Non-inclusion de la corrélation électronique dynamique**. La méthode de Hartree-Fock considère les électrons comme un ensemble d'orbitales indépendantes dans un champ moyen créé par les autres électrons. Cependant, elle ne prend pas en compte la corrélation électronique dynamique, c'est-à-dire les effets de corrélation qui dépendent du mouvement des électrons dans le système. Cela limite sa précision pour les systèmes où la corrélation électronique dynamique est importante, tels que les systèmes fortement corrélés ou les réactions chimiques avec des états de transition.\n",
    "\n",
    "3. **Problèmes avec les systèmes à interaction forte**. La méthode de Hartree-Fock peut être moins précise pour les systèmes contenant des électrons fortement corrélés, tels que les systèmes avec des liaisons multiples ou des électrons non-appariés. Dans ces cas, d'autres méthodes plus avancées, telles que les méthodes de la théorie de la fonctionnelle de la densité (DFT) ou les méthodes de couplage de cluster, peuvent être nécessaires.\n",
    "\n",
    "4. **Sensibilité aux bases de fonction**. La précision des résultats de la méthode de Hartree-Fock dépend fortement du choix des bases de fonction utilisées pour décrire les orbitales électroniques. Différentes bases de fonction peuvent donner des résultats légèrement différents, et il n'y a pas de base de fonction unique qui convient à tous les systèmes.\n"
   ]
  },
  {
   "cell_type": "markdown",
   "metadata": {},
   "source": [
    "### Théorie de la fonctionnelle de la densité - DFT\n",
    "\n",
    "Dans la [KS-DFT](https://en.wikipedia.org/wiki/Density_functional_theory), proposée pour la première fois par Kohn et Sham en [1964](https://journals.aps.org/pr/abstract/10.1103/PhysRev.136.B864), la densité électronique d'un système de référence sans interaction est utilisée pour représenter la densité du véritable système en interaction. En effet, Kohn et Sham stipulent qu'il existe\n",
    "1. une cartographie biunivoque entre la densité électronique et le potentiel externe et\n",
    "2. un principe variationnel pour la densité électronique.\n",
    "\n",
    "En conséquence, la formulation informatique de KS-DFT ressemble à celle de la théorie de Hartree-Fock (HF), mais avec un potentiel de Fock effectif différent. Dans KS-DFT, l’énergie électronique totale est définie comme suit :\n",
    "\n",
    "![dft_choices.jpg](./Graphics/dft_choices.jpg)\n",
    "\n",
    "* $\\mathtt{T}_e= -\\sum_i\\frac{\\hbar^2}{2m_e}\\nabla^2_i$ est l'énergie cinétique électronique sans interaction;\n",
    "* $v_{\\rm ext} = \\int\\rho(\\mathbf{r})\\times\\Big[-\\sum_{i,I}\\frac{Z_I}{|\\mathbf{r}_i-\\mathbf{R}_I|}\\Big]d\\mathbf{r}$ est l'énergie due au potentiel externe ou la répulsion Coulombienne entre les électrons et les noyaux;, \n",
    "* $ v_H = +\\frac12\\iint\\frac{\\rho(\\mathbf{r}_i)\\rho(\\mathbf{r}_j)}{|\\mathbf{r}_i-\\mathbf{r}_j|}d\\mathbf{r}_id\\mathbf{r}_j$ est l'énergie Coulombienne; \n",
    "* et $v_{\\rm XC}$ est l'énergie d'échange-corrélation (*XC*) qui fournit les corrections des termes $\\mathtt{T}_e$ et $v_H$. En pratique, $v_{\\rm XC}$ est approché par une approximation fonctionnelle de la densité, qui elle-même peuvent être divisée en plusieurs classes le long de différents échelons de l'échelle de Jacob :\n",
    "    * approximations de densité locale (par exemple LDA ; *XC* l'énergie dépend uniquement de la densité électronique, $\\rho$),\n",
    "    * approximations généralisées du gradient (GGA ; l'énergie *XC* dépend également du gradient de densité, $|\\nabla\\rho|$),\n",
    "    * méta-GGA (l'énergie *XC* dépend aussi de la densité d'énergie cinétique et/ou de la densité laplacienne, $\\sum_i |\\nabla \\psi_i|^2$, $\\nabla^2\\rho$ ; ce dernier n'est pas supporté dans PySCF pour le moment),\n",
    "    * fonctionnelles de corrélation non locales (l'énergie *XC* implique une double intégrale),\n",
    "    * fonctionnelles de densité hybride (une fraction de l'échange exact est utilisée), et\n",
    "    * fonctionnelles de densité corrigées à longue portée (l'échange exact est utilisé avec un noyau d'interaction modifié).\n",
    "    \n",
    "![DFT_Accuracy.jpg](./Graphics/DFT_Accuracy.jpg)\n",
    "\n",
    "Ainsi, l'Hamiltonien à un électron permettant de calculer l'énergie totale d'une orbitale électronique est\n",
    "\n",
    "$$\\hat{h}_{\\rm KS} \\phi_i(\\mathbf{r}_i) = \\Big[-\\frac12 \\nabla_i^2 + -\\sum_I\\frac{Z_I}{|\\mathbf{r}_i-\\mathbf{R}_I|} + \n",
    "\\int\\frac{\\rho(\\mathbf{r}_j)}{|\\mathbf{r}_i-\\mathbf{r}_j|}d\\mathbf{r}_j +  \\mathtt{V}_{\\rm XC}[\\rho(\\mathbf{r}_i)] \\Big] \\phi_i(r) = \\epsilon_i \\phi_i(\\mathbf{r}_i).$$\n",
    "\n",
    "Les solutions des états propres de cette équation peuvent être utilisées pour trouver une densité qui, par sa construction, reproduit la densité exacte du système complet en interaction :\n",
    "\n",
    "$$\\rho(\\mathbf{r}_i)=2\\sum_i |\\phi_i^{\\rm KS}(\\mathbf{r}_i)|^2.$$\n",
    "\n",
    "L'énergie de la fonctionnelle B3LYP,\n",
    "\n",
    "$$ E_{XC} = (1-a)E^{\\rm LDA}_x + aE^{\\rm HF}_x + bE^{\\rm GGA}_x \n",
    "+ cE^{\\rm GGA}_C + (1-c)E^{\\rm LDA}_C,$$\n",
    "avec $a=0.20$, $b=0.72$ et c=0.81$.\n",
    "\n",
    "![kohn_sham_cycle.jpg](Graphics/kohn_sham_cycle.jpg)\n",
    "\n",
    "### Création d'un objet mean-field (mf) avec `scf.RKS()`\n",
    "\n",
    "* Exécuter un calcul DFT dans PySCF est presque aussi simple que d'exécuter un calcul Hartree-Fock. \n",
    "\n",
    "* PySCF donne aux utilisateurs l'accès à un grand nombre de fonctionnalités via les bibliothèques [libXC](https://tddft.org/programs/libXC/) et [XCFun](https://github.com/dftlibs/XCfun).\n",
    "\n",
    "\n",
    "Afin d'accéder à des fonctions supplémentaires qui ne relèvent pas de la norme SCF/HF, il est nécessaire d'importer le module dft (théorie fonctionnelle de la densité)."
   ]
  },
  {
   "cell_type": "code",
   "execution_count": 30,
   "metadata": {
    "execution": {
     "iopub.execute_input": "2024-04-08T13:04:01.407136Z",
     "iopub.status.busy": "2024-04-08T13:04:01.406928Z",
     "iopub.status.idle": "2024-04-08T13:04:02.865963Z",
     "shell.execute_reply": "2024-04-08T13:04:02.864857Z",
     "shell.execute_reply.started": "2024-04-08T13:04:01.407112Z"
    }
   },
   "outputs": [
    {
     "name": "stderr",
     "output_type": "stream",
     "text": [
      "/home/taamangtchu/mambaforge/envs/qiskit-env/lib/python3.10/site-packages/pyscf/dft/libxc.py:1102: UserWarning: Since PySCF-2.3, B3LYP (and B3P86) are changed to the VWN-RPA variant, corresponding to the original definition by Stephens et al. (issue 1480) and the same as the B3LYP functional in Gaussian. To restore the VWN5 definition, you can put the setting \"B3LYP_WITH_VWN5 = True\" in pyscf_conf.py\n",
      "  warnings.warn('Since PySCF-2.3, B3LYP (and B3P86) are changed to the VWN-RPA variant, '\n"
     ]
    }
   ],
   "source": [
    "from pyscf import dft\n",
    "\n",
    "start = time.time()\n",
    "myks = dft.RKS(mol_pyscf, xc=\"B3LYP\").run(verbose = 4).density_fit() #optional: use density fitting to accelerate integral evaluation\n",
    "myks_time = time.time() - start"
   ]
  },
  {
   "cell_type": "code",
   "execution_count": 31,
   "metadata": {
    "execution": {
     "iopub.execute_input": "2024-04-08T13:04:02.867866Z",
     "iopub.status.busy": "2024-04-08T13:04:02.867354Z",
     "iopub.status.idle": "2024-04-08T13:04:02.873551Z",
     "shell.execute_reply": "2024-04-08T13:04:02.872178Z",
     "shell.execute_reply.started": "2024-04-08T13:04:02.867838Z"
    }
   },
   "outputs": [
    {
     "name": "stdout",
     "output_type": "stream",
     "text": [
      "Homo Energy = -8.634084448117317 eV, \n",
      "Lumo Energy = 0.3878250122587556 eV, \n",
      "Gap Energy = 9.021909460376072 eV\n"
     ]
    }
   ],
   "source": [
    "Eks_homo, Eks_lumo, Eks_g = find_homo_lumo(myks)\n",
    "print(f'Homo Energy = {Eks_homo} eV, \\nLumo Energy = {Eks_lumo} eV, \\nGap Energy = {Eks_g} eV')\n"
   ]
  },
  {
   "cell_type": "code",
   "execution_count": 32,
   "metadata": {
    "execution": {
     "iopub.execute_input": "2024-04-08T13:04:02.875172Z",
     "iopub.status.busy": "2024-04-08T13:04:02.874703Z",
     "iopub.status.idle": "2024-04-08T13:04:02.880672Z",
     "shell.execute_reply": "2024-04-08T13:04:02.879851Z",
     "shell.execute_reply.started": "2024-04-08T13:04:02.875141Z"
    }
   },
   "outputs": [],
   "source": [
    "myks.dump_scf_summary()"
   ]
  },
  {
   "cell_type": "code",
   "execution_count": 33,
   "metadata": {},
   "outputs": [
    {
     "data": {
      "text/plain": [
       "(-85.6562157102156, 37.45281620107818)"
      ]
     },
     "execution_count": 33,
     "metadata": {},
     "output_type": "execute_result"
    }
   ],
   "source": [
    "myks.energy_elec()"
   ]
  },
  {
   "cell_type": "code",
   "execution_count": 34,
   "metadata": {
    "execution": {
     "iopub.execute_input": "2024-04-08T13:04:02.882678Z",
     "iopub.status.busy": "2024-04-08T13:04:02.881722Z",
     "iopub.status.idle": "2024-04-08T13:04:02.888907Z",
     "shell.execute_reply": "2024-04-08T13:04:02.888043Z",
     "shell.execute_reply.started": "2024-04-08T13:04:02.882635Z"
    }
   },
   "outputs": [
    {
     "data": {
      "text/plain": [
       "{'e1': -123.10903191129378,\n",
       " 'coul': 46.79923279535812,\n",
       " 'exc': -9.346416594279944,\n",
       " 'nuc': 9.189533762934902}"
      ]
     },
     "execution_count": 34,
     "metadata": {},
     "output_type": "execute_result"
    }
   ],
   "source": [
    "myks.scf_summary"
   ]
  },
  {
   "cell_type": "markdown",
   "metadata": {},
   "source": [
    "* Visualisation des HOMO et LUMO avec Molden ou Cubegen"
   ]
  },
  {
   "cell_type": "code",
   "execution_count": 35,
   "metadata": {
    "execution": {
     "iopub.execute_input": "2024-04-08T13:04:02.890168Z",
     "iopub.status.busy": "2024-04-08T13:04:02.889904Z",
     "iopub.status.idle": "2024-04-08T13:04:02.896914Z",
     "shell.execute_reply": "2024-04-08T13:04:02.896142Z",
     "shell.execute_reply.started": "2024-04-08T13:04:02.890145Z"
    }
   },
   "outputs": [],
   "source": [
    "from pyscf.tools import molden, cubegen"
   ]
  },
  {
   "cell_type": "code",
   "execution_count": 36,
   "metadata": {
    "execution": {
     "iopub.execute_input": "2024-04-08T13:04:02.898058Z",
     "iopub.status.busy": "2024-04-08T13:04:02.897832Z",
     "iopub.status.idle": "2024-04-08T13:04:02.935037Z",
     "shell.execute_reply": "2024-04-08T13:04:02.934042Z",
     "shell.execute_reply.started": "2024-04-08T13:04:02.898028Z"
    }
   },
   "outputs": [
    {
     "name": "stdout",
     "output_type": "stream",
     "text": [
      "overwrite output file: water/water_pyscf.txt\n",
      "overwrite output file: water/water_pyscf.txt\n"
     ]
    }
   ],
   "source": [
    "path_ks_molden = working_dir / f'{smi_key}_ks.molden'\n",
    "molden.from_mo(mol_pyscf, path_ks_molden, myks.mo_coeff)"
   ]
  },
  {
   "cell_type": "code",
   "execution_count": 37,
   "metadata": {},
   "outputs": [
    {
     "data": {
      "text/plain": [
       "array([[[-8.58899996e-06, -9.04179848e-06, -9.50070303e-06, ...,\n",
       "         -3.46370440e-06, -3.25228021e-06, -3.04873748e-06],\n",
       "        [-9.18995086e-06, -9.67056239e-06, -1.01570676e-05, ...,\n",
       "         -3.57690128e-06, -3.36431365e-06, -3.15910304e-06],\n",
       "        [-9.80576239e-06, -1.03140475e-05, -1.08278711e-05, ...,\n",
       "         -3.66437729e-06, -3.45358377e-06, -3.24942113e-06],\n",
       "        ...,\n",
       "        [-9.80576239e-06, -1.03140475e-05, -1.08278711e-05, ...,\n",
       "         -3.66437729e-06, -3.45358377e-06, -3.24942113e-06],\n",
       "        [-9.18995086e-06, -9.67056239e-06, -1.01570676e-05, ...,\n",
       "         -3.57690128e-06, -3.36431365e-06, -3.15910304e-06],\n",
       "        [-8.58899996e-06, -9.04179848e-06, -9.50070303e-06, ...,\n",
       "         -3.46370440e-06, -3.25228021e-06, -3.04873748e-06]],\n",
       "\n",
       "       [[-8.98210660e-06, -9.45451983e-06, -9.93314921e-06, ...,\n",
       "         -3.58032478e-06, -3.36364883e-06, -3.15486856e-06],\n",
       "        [-9.60883234e-06, -1.01100370e-05, -1.06172047e-05, ...,\n",
       "         -3.68922785e-06, -3.47229696e-06, -3.26266105e-06],\n",
       "        [-1.02506959e-05, -1.07804942e-05, -1.13158488e-05, ...,\n",
       "         -3.76956784e-06, -3.55564022e-06, -3.34814187e-06],\n",
       "        ...,\n",
       "        [-1.02506959e-05, -1.07804942e-05, -1.13158488e-05, ...,\n",
       "         -3.76956784e-06, -3.55564022e-06, -3.34814187e-06],\n",
       "        [-9.60883234e-06, -1.01100370e-05, -1.06172047e-05, ...,\n",
       "         -3.68922785e-06, -3.47229696e-06, -3.26266105e-06],\n",
       "        [-8.98210660e-06, -9.45451983e-06, -9.93314921e-06, ...,\n",
       "         -3.58032478e-06, -3.36364883e-06, -3.15486856e-06]],\n",
       "\n",
       "       [[-9.38203110e-06, -9.87433901e-06, -1.03729691e-05, ...,\n",
       "         -3.69520278e-06, -3.47357895e-06, -3.25983410e-06],\n",
       "        [-1.00348705e-05, -1.05569521e-05, -1.10850615e-05, ...,\n",
       "         -3.79890287e-06, -3.57803306e-06, -3.36433711e-06],\n",
       "        [-1.07031064e-05, -1.12547031e-05, -1.18118679e-05, ...,\n",
       "         -3.87100376e-06, -3.65446636e-06, -3.44410790e-06],\n",
       "        ...,\n",
       "        [-1.07031064e-05, -1.12547031e-05, -1.18118679e-05, ...,\n",
       "         -3.87100376e-06, -3.65446636e-06, -3.44410790e-06],\n",
       "        [-1.00348705e-05, -1.05569521e-05, -1.10850615e-05, ...,\n",
       "         -3.79890287e-06, -3.57803306e-06, -3.36433711e-06],\n",
       "        [-9.38203110e-06, -9.87433901e-06, -1.03729691e-05, ...,\n",
       "         -3.69520278e-06, -3.47357895e-06, -3.25983410e-06]],\n",
       "\n",
       "       ...,\n",
       "\n",
       "       [[-9.38203110e-06, -9.87433901e-06, -1.03729691e-05, ...,\n",
       "         -3.69520278e-06, -3.47357895e-06, -3.25983410e-06],\n",
       "        [-1.00348705e-05, -1.05569521e-05, -1.10850615e-05, ...,\n",
       "         -3.79890287e-06, -3.57803306e-06, -3.36433711e-06],\n",
       "        [-1.07031064e-05, -1.12547031e-05, -1.18118679e-05, ...,\n",
       "         -3.87100376e-06, -3.65446636e-06, -3.44410790e-06],\n",
       "        ...,\n",
       "        [-1.07031064e-05, -1.12547031e-05, -1.18118679e-05, ...,\n",
       "         -3.87100376e-06, -3.65446636e-06, -3.44410790e-06],\n",
       "        [-1.00348705e-05, -1.05569521e-05, -1.10850615e-05, ...,\n",
       "         -3.79890287e-06, -3.57803306e-06, -3.36433711e-06],\n",
       "        [-9.38203110e-06, -9.87433901e-06, -1.03729691e-05, ...,\n",
       "         -3.69520278e-06, -3.47357895e-06, -3.25983410e-06]],\n",
       "\n",
       "       [[-8.98210660e-06, -9.45451983e-06, -9.93314921e-06, ...,\n",
       "         -3.58032478e-06, -3.36364883e-06, -3.15486856e-06],\n",
       "        [-9.60883234e-06, -1.01100370e-05, -1.06172047e-05, ...,\n",
       "         -3.68922785e-06, -3.47229696e-06, -3.26266105e-06],\n",
       "        [-1.02506959e-05, -1.07804942e-05, -1.13158488e-05, ...,\n",
       "         -3.76956784e-06, -3.55564022e-06, -3.34814187e-06],\n",
       "        ...,\n",
       "        [-1.02506959e-05, -1.07804942e-05, -1.13158488e-05, ...,\n",
       "         -3.76956784e-06, -3.55564022e-06, -3.34814187e-06],\n",
       "        [-9.60883234e-06, -1.01100370e-05, -1.06172047e-05, ...,\n",
       "         -3.68922785e-06, -3.47229696e-06, -3.26266105e-06],\n",
       "        [-8.98210660e-06, -9.45451983e-06, -9.93314921e-06, ...,\n",
       "         -3.58032478e-06, -3.36364883e-06, -3.15486856e-06]],\n",
       "\n",
       "       [[-8.58899996e-06, -9.04179848e-06, -9.50070303e-06, ...,\n",
       "         -3.46370440e-06, -3.25228021e-06, -3.04873748e-06],\n",
       "        [-9.18995086e-06, -9.67056239e-06, -1.01570676e-05, ...,\n",
       "         -3.57690128e-06, -3.36431365e-06, -3.15910304e-06],\n",
       "        [-9.80576239e-06, -1.03140475e-05, -1.08278711e-05, ...,\n",
       "         -3.66437729e-06, -3.45358377e-06, -3.24942113e-06],\n",
       "        ...,\n",
       "        [-9.80576239e-06, -1.03140475e-05, -1.08278711e-05, ...,\n",
       "         -3.66437729e-06, -3.45358377e-06, -3.24942113e-06],\n",
       "        [-9.18995086e-06, -9.67056239e-06, -1.01570676e-05, ...,\n",
       "         -3.57690128e-06, -3.36431365e-06, -3.15910304e-06],\n",
       "        [-8.58899996e-06, -9.04179848e-06, -9.50070303e-06, ...,\n",
       "         -3.46370440e-06, -3.25228021e-06, -3.04873748e-06]]])"
      ]
     },
     "execution_count": 37,
     "metadata": {},
     "output_type": "execute_result"
    }
   ],
   "source": [
    "path_ks_cubegen = working_dir / f'{smi_key}_ks.cube'\n",
    "cubegen.orbital(mol_pyscf, path_ks_cubegen, myks.mo_coeff[:,0])"
   ]
  },
  {
   "cell_type": "markdown",
   "metadata": {},
   "source": [
    "#### Quelques limites de la méthode DFT\n",
    "\n",
    "Bien que la DFT présente de nombreux avantages, elle comporte également certaines limitations importantes :\n",
    "\n",
    "1. **Approximation de l'échange-correlation**. Tout comme la méthode de Hartree-Fock, la DFT repose sur une approximation de l'échange-correlation. Différentes approximations sont disponibles, telles que l'approximation de la fonctionnelle de l'échange-corrélation locale (LDA) ou l'approximation de la fonctionnelle de l'échange-corrélation généralisée (GGA). Ces approximations peuvent être moins précises dans certains cas, conduisant à des résultats moins précis pour certaines propriétés chimiques.\n",
    "\n",
    "2. **Difficulté à traiter les interactions à longue portée**. La DFT est moins efficace pour traiter les interactions à longue portée, telles que les interactions de dispersion (van der Waals). Les approximations standard de la DFT ne capturent pas correctement ces interactions, ce qui peut conduire à des erreurs significatives lors de la modélisation de systèmes moléculaires ou de matériaux qui dépendent fortement de ces interactions.\n",
    "\n",
    "3. **Prise en compte incomplète de la corrélation électronique dynamique**. Bien que la DFT prenne en compte certaines contributions de la corrélation électronique, elle n'inclut généralement pas de manière exacte la corrélation électronique dynamique, qui est importante dans les systèmes avec des états de transition, des réactions chimiques et des propriétés d'excitation. Des méthodes plus avancées, telles que la DFT à deux électrons (DFT à deux particules), sont nécessaires pour capturer plus précisément ces effets de corrélation électronique dynamique.\n",
    "\n",
    "4. **Sensibilité aux bases de fonction**. Comme pour la méthode de Hartree-Fock, la précision des résultats de la DFT dépend du choix des bases de fonction. Différentes approximations de la fonctionnelle de l'échange-corrélation peuvent nécessiter des bases de fonction spécifiques, et il n'y a pas de base de fonction unique qui convient à tous les systèmes.\n",
    "\n",
    "5. **Problèmes avec les systèmes fortement corrélés**. La DFT peut être moins précise pour les systèmes avec des électrons fortement corrélés, tels que les systèmes avec des liaisons multiples ou des électrons fortement localisés. Dans ces cas, des méthodes plus avancées, telles que la DFT à la dynamique exacte des échanges, sont nécessaires pour obtenir des résultats précis.\n"
   ]
  },
  {
   "cell_type": "markdown",
   "metadata": {},
   "source": [
    "###  Méthodes post-HF\n",
    "\n",
    "Dans ce qui suit, pour des raisons computationnelles, nous allons utiliser l'ensemble de base `STO-3G` et la molécule `LiH`.\n",
    "\n",
    "#### Théorie des perturbations de Møller-Plesset - MP2\n",
    "\n",
    "* La [MP2](https://en.wikipedia.org/wiki/M%C3%B8ller%E2%80%93Plesset_perturbation_theory) effectue des corrections perturbatives de l'approximation Hartree-Fock."
   ]
  },
  {
   "cell_type": "code",
   "execution_count": 38,
   "metadata": {},
   "outputs": [
    {
     "name": "stdout",
     "output_type": "stream",
     "text": [
      "converged SCF energy = -7.86311388279641\n"
     ]
    }
   ],
   "source": [
    "# Mean-field HF\n",
    "mol = gto.M(\n",
    "    atom = \"Li 0 0 0; H 0 0 1.5474\",\n",
    "    basis = 'sto-3g',\n",
    ")\n",
    "\n",
    "start = time.time()\n",
    "myhf = scf.RHF(mol).run()\n",
    "myhf_time = time.time() - start"
   ]
  },
  {
   "cell_type": "code",
   "execution_count": 39,
   "metadata": {
    "execution": {
     "iopub.execute_input": "2024-04-08T13:04:02.936343Z",
     "iopub.status.busy": "2024-04-08T13:04:02.935995Z",
     "iopub.status.idle": "2024-04-08T13:04:02.967413Z",
     "shell.execute_reply": "2024-04-08T13:04:02.966543Z",
     "shell.execute_reply.started": "2024-04-08T13:04:02.936315Z"
    }
   },
   "outputs": [
    {
     "name": "stdout",
     "output_type": "stream",
     "text": [
      "E(MP2) = -7.87562493678127  E_corr = -0.0125110539848654\n",
      "E(SCS-MP2) = -7.87812586855195  E_corr = -0.0150119857555472\n"
     ]
    }
   ],
   "source": [
    "from pyscf import mp\n",
    "\n",
    "start = time.time()\n",
    "mymp2 = mp.MP2(myhf).run()\n",
    "mymp2_time = time.time() - start + myhf_time"
   ]
  },
  {
   "cell_type": "markdown",
   "metadata": {},
   "source": [
    "#### Cluster couplé - CC\n",
    "\n",
    "* La [CC](https://en.wikipedia.org/wiki/Coupled_cluster) est une méthode perturbative qui améliore l'approximation de Hartree-Fock.\n",
    "* Les clusters couplés simples et doubles (CCSD) incluent une excitation simple et double en plus de la fonction d'état HF.\n",
    "* La précision peut être améliorée en incluant les triples de manière perturbatrice (CCSD(T)).\n",
    "* Description non variationnelle, mais détaillée des états fondamentaux. \n",
    "* L'extension aux états excités est l'EOM-CCSD."
   ]
  },
  {
   "cell_type": "code",
   "execution_count": 40,
   "metadata": {
    "execution": {
     "iopub.execute_input": "2024-04-08T13:04:02.968529Z",
     "iopub.status.busy": "2024-04-08T13:04:02.968312Z",
     "iopub.status.idle": "2024-04-08T13:04:04.094527Z",
     "shell.execute_reply": "2024-04-08T13:04:04.093333Z",
     "shell.execute_reply.started": "2024-04-08T13:04:02.968503Z"
    }
   },
   "outputs": [
    {
     "name": "stdout",
     "output_type": "stream",
     "text": [
      "E(CCSD) = -7.882752317561035  E_corr = -0.01963843476462948\n"
     ]
    }
   ],
   "source": [
    "from pyscf import cc\n",
    "\n",
    "start = time.time()\n",
    "mycc = cc.CCSD(myhf).run()\n",
    "mycc_time = time.time() - start + myhf_time"
   ]
  },
  {
   "cell_type": "code",
   "execution_count": 41,
   "metadata": {
    "execution": {
     "iopub.execute_input": "2024-04-08T13:04:04.096218Z",
     "iopub.status.busy": "2024-04-08T13:04:04.095858Z",
     "iopub.status.idle": "2024-04-08T13:04:04.691016Z",
     "shell.execute_reply": "2024-04-08T13:04:04.690293Z",
     "shell.execute_reply.started": "2024-04-08T13:04:04.096184Z"
    }
   },
   "outputs": [
    {
     "name": "stdout",
     "output_type": "stream",
     "text": [
      "CCSD(T) correction = -7.9538582311145e-06\n"
     ]
    }
   ],
   "source": [
    "e_ccsd_t = mycc.ccsd_t()\n",
    "mycct_time = time.time() - start + myhf_time"
   ]
  },
  {
   "cell_type": "markdown",
   "metadata": {},
   "source": [
    "#### Interaction de configuration complète - FCI\n",
    "\n",
    "* L'[interaction de configuration complète (FCI)](https://en.wikipedia.org/wiki/Full_configuration_interaction) est exacte pour un choix donné d'ensemble de base.\n",
    "* FCI inclut tous les déterminants de Slater de symétrie appropriée dans la base du vecteur propre.\n",
    "* Le coût computationnel augmente de façon exponentielle avec la taille du système.\n",
    "* Également connue sous le nom de **diagonalisation exacte**."
   ]
  },
  {
   "cell_type": "code",
   "execution_count": 43,
   "metadata": {
    "execution": {
     "execution_failed": "2024-04-08T13:04:06.287Z",
     "iopub.execute_input": "2024-04-08T13:04:04.691931Z",
     "iopub.status.busy": "2024-04-08T13:04:04.691698Z"
    }
   },
   "outputs": [
    {
     "name": "stdout",
     "output_type": "stream",
     "text": [
      "converged SCF energy = -7.86311388279641\n"
     ]
    }
   ],
   "source": [
    "from pyscf import fci\n",
    "\n",
    "start = time.time()\n",
    "myfci = fci.FCI(mol.RHF().run()).kernel()\n",
    "myfci_time = time.time() - start "
   ]
  },
  {
   "cell_type": "markdown",
   "metadata": {},
   "source": [
    "## Calculs semiempiriques\n",
    "\n",
    "`XTB` ([Extended Tight Binding](https://xtb-docs.readthedocs.io/en/latest/index.html) et `TBLite` ([Tight Binding Lite](https://tblite.readthedocs.io/en/latest/) sont deux méthodes empiriques utilisés dans le domaine de la chimie quantique pour les calculs de structures électroniques à moindre coût par rapport aux méthodes ab initio plus coûteuses. Elles ne s'exécutent qu'en lignes de commande.\n",
    "\n",
    "`XTB` est une méthode plus avancée et polyvalente, offrant des fonctionnalités étendues et des résultats plus précis, mais avec un temps de calcul plus long. `TBLite`, en revanche, est une version simplifiée et plus rapide de XTB, adaptée aux calculs de base et à une utilisation plus conviviale.\n",
    "\n",
    "Dans ce qui suit, nous allons utiliser `XTB`. Il est vivement conseillé de visiter l'excellente plateforme d'execution online [atomistica-online-xtb](https://atomistica-online-xtb.anvil.app/), qui possède une GUI assez conviviale."
   ]
  },
  {
   "cell_type": "code",
   "execution_count": 40,
   "metadata": {
    "execution": {
     "iopub.execute_input": "2024-04-08T13:05:32.955651Z",
     "iopub.status.busy": "2024-04-08T13:05:32.955346Z",
     "iopub.status.idle": "2024-04-08T13:05:32.972260Z",
     "shell.execute_reply": "2024-04-08T13:05:32.971541Z",
     "shell.execute_reply.started": "2024-04-08T13:05:32.955627Z"
    }
   },
   "outputs": [
    {
     "data": {
      "text/plain": [
       "'20.2'"
      ]
     },
     "execution_count": 40,
     "metadata": {},
     "output_type": "execute_result"
    }
   ],
   "source": [
    "import sys, os \n",
    "import subprocess as sp\n",
    "try:\n",
    "    import xtb\n",
    "except:\n",
    "    !pip install xtb\n",
    "    import xtb\n",
    "xtb.__version__"
   ]
  },
  {
   "cell_type": "code",
   "execution_count": 73,
   "metadata": {
    "execution": {
     "iopub.execute_input": "2024-04-08T13:05:52.900841Z",
     "iopub.status.busy": "2024-04-08T13:05:52.900027Z",
     "iopub.status.idle": "2024-04-08T13:05:53.161685Z",
     "shell.execute_reply": "2024-04-08T13:05:53.160574Z",
     "shell.execute_reply.started": "2024-04-08T13:05:52.900796Z"
    }
   },
   "outputs": [],
   "source": [
    "path_xtb_log = working_dir / f'{smi_key}_xtb.log'\n",
    "path_xyz = working_dir / f'{smi_key}.xyz'\n",
    "\n",
    "xtb_process = sp.run([\"xtb\", path_xyz, \"--opt vtight\"],\n",
    "                    stdout=sp.PIPE, stderr=sp.PIPE, text=True, universal_newlines=True)\n",
    "\n",
    "with open(path_xtb_log, \"w\") as fl:\n",
    "    fl.write(xtb_process.stdout)"
   ]
  },
  {
   "cell_type": "code",
   "execution_count": 44,
   "metadata": {
    "execution": {
     "execution_failed": "2024-04-08T13:04:06.292Z"
    }
   },
   "outputs": [],
   "source": [
    "# with open(path_xtb_log, 'w') as outfile:\n",
    "#     sp.run([\"xtb\", path_xyz, \"---opt vtight\"] check = True)"
   ]
  },
  {
   "cell_type": "code",
   "execution_count": 74,
   "metadata": {
    "execution": {
     "execution_failed": "2024-04-08T13:04:06.292Z"
    }
   },
   "outputs": [
    {
     "name": "stdout",
     "output_type": "stream",
     "text": [
      "      -----------------------------------------------------------      \n",
      "     |                   =====================                   |     \n",
      "     |                           x T B                           |     \n",
      "     |                   =====================                   |     \n",
      "     |                         S. Grimme                         |     \n",
      "     |          Mulliken Center for Theoretical Chemistry        |     \n",
      "     |                    University of Bonn                     |     \n",
      "      -----------------------------------------------------------      \n",
      "\n",
      "   * xtb version 6.6.1 (8d0f1dd) compiled by 'conda@1efc2f54142f' on 2023-08-01\n",
      "\n",
      "   xtb is free software: you can redistribute it and/or modify it under\n",
      "   the terms of the GNU Lesser General Public License as published by\n",
      "   the Free Software Foundation, either version 3 of the License, or\n",
      "   (at your option) any later version.\n",
      "   \n",
      "   xtb is distributed in the hope that it will be useful,\n",
      "   but WITHOUT ANY WARRANTY; without even the implied warranty of\n",
      "   MERCHANTABILITY or FITNESS FOR A PARTICULAR PURPOSE.  See the\n",
      "   GNU Lesser General Public License for more details.\n",
      "   \n",
      "   Cite this work as:\n",
      "   * C. Bannwarth, E. Caldeweyher, S. Ehlert, A. Hansen, P. Pracht,\n",
      "     J. Seibert, S. Spicher, S. Grimme, WIREs Comput. Mol. Sci., 2020, 11,\n",
      "     e01493. DOI: 10.1002/wcms.1493\n",
      "   \n",
      "   for GFN2-xTB:\n",
      "   * C. Bannwarth, S. Ehlert and S. Grimme., J. Chem. Theory Comput., 2019,\n",
      "     15, 1652-1671. DOI: 10.1021/acs.jctc.8b01176\n",
      "   for GFN1-xTB:\n",
      "   * S. Grimme, C. Bannwarth, P. Shushkov, J. Chem. Theory Comput., 2017,\n",
      "     13, 1989-2009. DOI: 10.1021/acs.jctc.7b00118\n",
      "   for GFN0-xTB:\n",
      "   * P. Pracht, E. Caldeweyher, S. Ehlert, S. Grimme, ChemRxiv, 2019, preprint.\n",
      "     DOI: 10.26434/chemrxiv.8326202.v1\n",
      "   for GFN-FF:\n",
      "   * S. Spicher and S. Grimme, Angew. Chem. Int. Ed., 2020, 59, 15665-15673.\n",
      "     DOI: 10.1002/anie.202004239\n",
      "   \n",
      "   for ALPB and GBSA implicit solvation:\n",
      "   * S. Ehlert, M. Stahn, S. Spicher, S. Grimme, J. Chem. Theory Comput.,\n",
      "     2021, 17, 4250-4261. DOI: 10.1021/acs.jctc.1c00471\n",
      "   \n",
      "   for DFT-D4:\n",
      "   * E. Caldeweyher, C. Bannwarth and S. Grimme, J. Chem. Phys., 2017,\n",
      "     147, 034112. DOI: 10.1063/1.4993215\n",
      "   * E. Caldeweyher, S. Ehlert, A. Hansen, H. Neugebauer, S. Spicher,\n",
      "     C. Bannwarth and S. Grimme, J. Chem. Phys., 2019, 150, 154122.\n",
      "     DOI: 10.1063/1.5090222\n",
      "   * E. Caldeweyher, J.-M. Mewes, S. Ehlert and S. Grimme, Phys. Chem. Chem. Phys.\n",
      "     2020, 22, 8499-8512. DOI: 10.1039/D0CP00502A\n",
      "   \n",
      "   for sTDA-xTB:\n",
      "   * S. Grimme and C. Bannwarth, J. Chem. Phys., 2016, 145, 054103.\n",
      "     DOI: 10.1063/1.4959605\n",
      "   \n",
      "   in the mass-spec context:\n",
      "   * V. Asgeirsson, C. Bauer and S. Grimme, Chem. Sci., 2017, 8, 4879.\n",
      "     DOI: 10.1039/c7sc00601b\n",
      "   * J. Koopman and S. Grimme, ACS Omega 2019, 4, 12, 15120-15133.\n",
      "     DOI: 10.1021/acsomega.9b02011\n",
      "   \n",
      "   for metadynamics refer to:\n",
      "   * S. Grimme, J. Chem. Theory Comput., 2019, 155, 2847-2862\n",
      "     DOI: 10.1021/acs.jctc.9b00143\n",
      "   \n",
      "   for SPH calculations refer to:\n",
      "   * S. Spicher and S. Grimme, J. Chem. Theory Comput., 2021, 17, 1701-1714\n",
      "     DOI: 10.1021/acs.jctc.0c01306\n",
      "   \n",
      "   with help from (in alphabetical order)\n",
      "   P. Atkinson, C. Bannwarth, F. Bohle, G. Brandenburg, E. Caldeweyher\n",
      "   M. Checinski, S. Dohm, S. Ehlert, S. Ehrlich, I. Gerasimov, C. Hölzer\n",
      "   A. Katbashev, J. Koopman, C. Lavigne, S. Lehtola, F. März, M. Müller,\n",
      "   F. Musil, H. Neugebauer, J. Pisarek, C. Plett, P. Pracht, F. Pultar,\n",
      "   J. Seibert, P. Shushkov, S. Spicher, M. Stahn, M. Steiner, T. Strunk,\n",
      "   J. Stückrath, T. Rose, and J. Unsleber\n",
      "   \n",
      " * started run on 2024/04/08 at 19:30:08.336     \n",
      "\n",
      "           -------------------------------------------------\n",
      "          |                Calculation Setup                |\n",
      "           -------------------------------------------------\n",
      "\n",
      "          program call               : xtb water/water.xyz --opt vtight\n",
      "          coordinate file            : water/water.xyz\n",
      "          omp threads                :                     4\n",
      "\n",
      "   ID    Z sym.   atoms\n",
      "    1    8 O      1\n",
      "    2    1 H      2, 3\n",
      "\n",
      "           -------------------------------------------------\n",
      "          |                 G F N 2 - x T B                 |\n",
      "           -------------------------------------------------\n",
      "\n",
      "        Reference                      10.1021/acs.jctc.8b01176\n",
      "      * Hamiltonian:\n",
      "        H0-scaling (s, p, d)           1.850000    2.230000    2.230000\n",
      "        zeta-weighting                 0.500000\n",
      "      * Dispersion:\n",
      "        s8                             2.700000\n",
      "        a1                             0.520000\n",
      "        a2                             5.000000\n",
      "        s9                             5.000000\n",
      "      * Repulsion:\n",
      "        kExp                           1.500000    1.000000\n",
      "        rExp                           1.000000\n",
      "      * Coulomb:\n",
      "        alpha                          2.000000\n",
      "        third order                    shell-resolved\n",
      "        anisotropic                    true\n",
      "        a3                             3.000000\n",
      "        a5                             4.000000\n",
      "        cn-shift                       1.200000\n",
      "        cn-exp                         4.000000\n",
      "        max-rad                        5.000000\n",
      "\n",
      "\n",
      "          ...................................................\n",
      "          :                      SETUP                      :\n",
      "          :.................................................:\n",
      "          :  # basis functions                   6          :\n",
      "          :  # atomic orbitals                   6          :\n",
      "          :  # shells                            4          :\n",
      "          :  # electrons                         8          :\n",
      "          :  max. iterations                   250          :\n",
      "          :  Hamiltonian                  GFN2-xTB          :\n",
      "          :  restarted?                      false          :\n",
      "          :  GBSA solvation                  false          :\n",
      "          :  PC potential                    false          :\n",
      "          :  electronic temp.          300.0000000     K    :\n",
      "          :  accuracy                    1.0000000          :\n",
      "          :  -> integral cutoff          0.2500000E+02      :\n",
      "          :  -> integral neglect         0.1000000E-07      :\n",
      "          :  -> SCF convergence          0.1000000E-05 Eh   :\n",
      "          :  -> wf. convergence          0.1000000E-03 e    :\n",
      "          :  Broyden damping             0.4000000          :\n",
      "          ...................................................\n",
      "\n",
      " iter      E             dE          RMSdq      gap      omega  full diag\n",
      "   1     -5.1037647 -0.510376E+01  0.422E+00   15.00       0.0  T\n",
      "   2     -5.1050042 -0.123947E-02  0.243E+00   14.73       1.0  T\n",
      "   3     -5.1052355 -0.231294E-03  0.377E-01   14.51       1.0  T\n",
      "   4     -5.1052949 -0.593935E-04  0.884E-02   14.66       1.0  T\n",
      "   5     -5.1052977 -0.282106E-05  0.562E-02   14.61       1.0  T\n",
      "   6     -5.1052995 -0.182531E-05  0.137E-03   14.63      42.2  T\n",
      "   7     -5.1052995 -0.542713E-09  0.993E-04   14.63      58.1  T\n",
      "   8     -5.1052995 -0.582371E-09  0.185E-05   14.63    3122.9  T\n",
      "\n",
      "   *** convergence criteria satisfied after 8 iterations ***\n",
      "\n",
      "         #    Occupation            Energy/Eh            Energy/eV\n",
      "      -------------------------------------------------------------\n",
      "         1        2.0000           -0.6816642             -18.5490\n",
      "         2        2.0000           -0.5664674             -15.4144\n",
      "         3        2.0000           -0.5147063             -14.0059\n",
      "         4        2.0000           -0.4474927             -12.1769 (HOMO)\n",
      "         5                          0.0901379               2.4528 (LUMO)\n",
      "         6                          0.2456096               6.6834\n",
      "      -------------------------------------------------------------\n",
      "                  HL-Gap            0.5376306 Eh           14.6297 eV\n",
      "             Fermi-level           -0.1786774 Eh           -4.8621 eV\n",
      "\n",
      " SCC (total)                   0 d,  0 h,  0 min,  0.006 sec\n",
      " SCC setup                      ...        0 min,  0.001 sec ( 10.601%)\n",
      " Dispersion                     ...        0 min,  0.000 sec (  0.713%)\n",
      " classical contributions        ...        0 min,  0.000 sec (  7.341%)\n",
      " integral evaluation            ...        0 min,  0.001 sec ( 18.030%)\n",
      " iterations                     ...        0 min,  0.003 sec ( 59.651%)\n",
      " molecular gradient             ...        0 min,  0.000 sec (  2.034%)\n",
      " printout                       ...        0 min,  0.000 sec (  1.148%)\n",
      "\n",
      "         :::::::::::::::::::::::::::::::::::::::::::::::::::::\n",
      "         ::                     SUMMARY                     ::\n",
      "         :::::::::::::::::::::::::::::::::::::::::::::::::::::\n",
      "         :: total energy              -5.070370761845 Eh    ::\n",
      "         :: gradient norm              0.007221585093 Eh/a0 ::\n",
      "         :: HOMO-LUMO gap             14.629673576893 eV    ::\n",
      "         ::.................................................::\n",
      "         :: SCC energy                -5.105299543132 Eh    ::\n",
      "         :: -> isotropic ES            0.031401322598 Eh    ::\n",
      "         :: -> anisotropic ES          0.000597418704 Eh    ::\n",
      "         :: -> anisotropic XC         -0.000834519740 Eh    ::\n",
      "         :: -> dispersion             -0.000141213172 Eh    ::\n",
      "         :: repulsion energy           0.034928781256 Eh    ::\n",
      "         :: add. restraining           0.000000000000 Eh    ::\n",
      "         :: total charge              -0.000000000000 e     ::\n",
      "         :::::::::::::::::::::::::::::::::::::::::::::::::::::\n",
      "\n",
      "           -------------------------------------------------\n",
      "          |                Property Printout                |\n",
      "           -------------------------------------------------\n",
      "\n",
      "    * Orbital Energies and Occupations\n",
      "\n",
      "         #    Occupation            Energy/Eh            Energy/eV\n",
      "      -------------------------------------------------------------\n",
      "         1        2.0000           -0.6816642             -18.5490\n",
      "         2        2.0000           -0.5664674             -15.4144\n",
      "         3        2.0000           -0.5147063             -14.0059\n",
      "         4        2.0000           -0.4474927             -12.1769 (HOMO)\n",
      "         5                          0.0901379               2.4528 (LUMO)\n",
      "         6                          0.2456096               6.6834\n",
      "      -------------------------------------------------------------\n",
      "                  HL-Gap            0.5376306 Eh           14.6297 eV\n",
      "             Fermi-level           -0.1786774 Eh           -4.8621 eV\n",
      "\n",
      "     #   Z          covCN         q      C6AA      α(0)\n",
      "     1   8 O        1.611    -0.564    24.329     6.657\n",
      "     2   1 H        0.806     0.282     0.778     1.386\n",
      "     3   1 H        0.806     0.282     0.778     1.386\n",
      "\n",
      " Mol. C6AA /au·bohr⁶  :         44.526912\n",
      " Mol. C8AA /au·bohr⁸  :        795.450478\n",
      " Mol. α(0) /au        :          9.428780\n",
      "\n",
      "\n",
      "Wiberg/Mayer (AO) data.\n",
      "largest (>0.10) Wiberg bond orders for each atom\n",
      "\n",
      " ---------------------------------------------------------------------------\n",
      "     #   Z sym  total        # sym  WBO       # sym  WBO       # sym  WBO\n",
      " ---------------------------------------------------------------------------\n",
      "     1   8 O    1.840 --     2 H    0.920     3 H    0.920\n",
      "     2   1 H    0.921 --     1 O    0.920\n",
      "     3   1 H    0.921 --     1 O    0.920\n",
      " ---------------------------------------------------------------------------\n",
      "\n",
      "Topologies differ in total number of bonds\n",
      "Writing topology from bond orders to xtbtopo.mol\n",
      "\n",
      "molecular dipole:\n",
      "                 x           y           z       tot (Debye)\n",
      " q only:        0.000      -0.000      -0.625\n",
      "   full:        0.000      -0.000      -0.894       2.271\n",
      "molecular quadrupole (traceless):\n",
      "                xx          xy          yy          xz          yz          zz\n",
      " q only:       -0.785       0.000       0.946       0.000       0.000      -0.162\n",
      "  q+dip:       -0.986       0.000       1.200      -0.000       0.000      -0.213\n",
      "   full:       -1.250       0.000       1.417      -0.000       0.000      -0.167\n",
      "\n",
      "\n",
      "           -------------------------------------------------\n",
      "          | TOTAL ENERGY               -5.070370761845 Eh   |\n",
      "          | GRADIENT NORM               0.007221585093 Eh/α |\n",
      "          | HOMO-LUMO GAP              14.629673576893 eV   |\n",
      "           -------------------------------------------------\n",
      "\n",
      "------------------------------------------------------------------------\n",
      " * finished run on 2024/04/08 at 19:30:08.361     \n",
      "------------------------------------------------------------------------\n",
      " total:\n",
      " * wall-time:     0 d,  0 h,  0 min,  0.025 sec\n",
      " *  cpu-time:     0 d,  0 h,  0 min,  0.121 sec\n",
      " * ratio c/w:     4.884 speedup\n",
      " SCF:\n",
      " * wall-time:     0 d,  0 h,  0 min,  0.006 sec\n",
      " *  cpu-time:     0 d,  0 h,  0 min,  0.030 sec\n",
      " * ratio c/w:     5.323 speedup\n",
      "\n",
      "\n"
     ]
    }
   ],
   "source": [
    "# Check out the output file\n",
    "print(path_xtb_log.read_text())\n"
   ]
  },
  {
   "cell_type": "markdown",
   "metadata": {},
   "source": [
    "* On peut utiliser la commande magic `%%bash` pour exécuter plus simplement les commandes de xTB."
   ]
  },
  {
   "cell_type": "code",
   "execution_count": null,
   "metadata": {},
   "outputs": [],
   "source": [
    "%%bash\n",
    "#!/bin/bash\n",
    "\n",
    "# Set up the input file for XTB\n",
    "cat > water_inp.xyz <<EOF\n",
    "3\n",
    "Water molecule\n",
    "O      0.000000     0.000000     0.000000\n",
    "H      0.757160     0.586260     0.000000\n",
    "H     -0.757160     0.586260     0.000000\n",
    "EOF\n",
    "\n",
    "# Run XTB calculation\n",
    "xtb water_inp.xyz --opt all --gfn 2 --chrg 0 --uhf 0 > ./water/water_xtb.log\n",
    "\n",
    "# # Extract the total energy and Homo-Lumo gap from the output file\n",
    "# total_energy=$(grep \"Total Energy\" xtb.out | awk '{print $4}')\n",
    "# homo_lumo_gap=$(grep \"HOMO-LUMO gap\" xtb.out | awk '{print $4}')\n",
    "\n",
    "# # Print the results\n",
    "# echo \"Total Energy: $total_energy\"\n",
    "# echo \"Homo-Lumo Gap: $homo_lumo_gap\""
   ]
  },
  {
   "cell_type": "markdown",
   "metadata": {},
   "source": [
    "##### Gap HOMO-LUMO et énergie totale\n",
    "\n",
    "Nous allons rechercher les valeurs du gap HOMO-LUMO et de l'énergie totale dans le fichier de sortie (path_xtb_log)."
   ]
  },
  {
   "cell_type": "code",
   "execution_count": 58,
   "metadata": {
    "execution": {
     "execution_failed": "2024-04-08T13:04:06.292Z"
    }
   },
   "outputs": [],
   "source": [
    "#---------------------------------------------------------------------\n",
    "# Extract the total energy and Homo-lumo gap from the xtb output file\n",
    "#---------------------------------------------------------------------\n",
    "\n",
    "# Find TOTAL ENERGY value\n",
    "tot_energy_line = [li for li in path_xtb_log.read_text().splitlines() if 'TOTAL ENERGY' in li]\n",
    "tot_energy_line = tot_energy_line[0].split()\n",
    "tot_energy_xtb = float(tot_energy_line[3])\n",
    "\n",
    "# Find HOMO-LUMO GAP value\n",
    "HL_gap_line = [li for li in path_xtb_log.read_text().splitlines() if 'HOMO-LUMO GAP' in li]\n",
    "HL_gap_line = HL_gap_line[0].split()\n",
    "HL_gap_xtb = float(HL_gap_line[3])\n",
    "\n",
    "# Find HOMO index\n",
    "Homo_idx_line = [li for li in path_xtb_log.read_text().splitlines() if '(HOMO)' in li]\n",
    "Homo_idx_line = Homo_idx_line[0].split()\n",
    "Homo_idx_xtb = int(Homo_idx_line[0])\n",
    "\n",
    "# Find LUMO index\n",
    "Lumo_idx_line = [li for li in path_xtb_log.read_text().splitlines() if '(LUMO)' in li]\n",
    "Lumo_idx_line = Lumo_idx_line[0].split()\n",
    "Lumo_idx_xtb = int(Lumo_idx_line[0])"
   ]
  },
  {
   "cell_type": "code",
   "execution_count": 60,
   "metadata": {
    "execution": {
     "execution_failed": "2024-04-08T13:04:06.292Z"
    }
   },
   "outputs": [
    {
     "data": {
      "text/html": [
       "<div>\n",
       "<style scoped>\n",
       "    .dataframe tbody tr th:only-of-type {\n",
       "        vertical-align: middle;\n",
       "    }\n",
       "\n",
       "    .dataframe tbody tr th {\n",
       "        vertical-align: top;\n",
       "    }\n",
       "\n",
       "    .dataframe thead th {\n",
       "        text-align: right;\n",
       "    }\n",
       "</style>\n",
       "<table border=\"1\" class=\"dataframe\">\n",
       "  <thead>\n",
       "    <tr style=\"text-align: right;\">\n",
       "      <th></th>\n",
       "      <th>xtb calc</th>\n",
       "    </tr>\n",
       "  </thead>\n",
       "  <tbody>\n",
       "    <tr>\n",
       "      <th>HOMO-LUMO GAP (eV)</th>\n",
       "      <td>14.629674</td>\n",
       "    </tr>\n",
       "    <tr>\n",
       "      <th>TOTAL ENERGY (a.u.)</th>\n",
       "      <td>-5.070371</td>\n",
       "    </tr>\n",
       "    <tr>\n",
       "      <th>HOMO Index</th>\n",
       "      <td>4.000000</td>\n",
       "    </tr>\n",
       "    <tr>\n",
       "      <th>LUMO Index</th>\n",
       "      <td>5.000000</td>\n",
       "    </tr>\n",
       "  </tbody>\n",
       "</table>\n",
       "</div>"
      ],
      "text/plain": [
       "                      xtb calc\n",
       "HOMO-LUMO GAP (eV)   14.629674\n",
       "TOTAL ENERGY (a.u.)  -5.070371\n",
       "HOMO Index            4.000000\n",
       "LUMO Index            5.000000"
      ]
     },
     "execution_count": 60,
     "metadata": {},
     "output_type": "execute_result"
    }
   ],
   "source": [
    "import pandas as pd\n",
    "\n",
    "path_xtb_csv = working_dir / f'output_{smi_key}_xtb.csv'\n",
    "\n",
    "# Create the xtb results dataframe\n",
    "df_xtb = pd.DataFrame({'xtb calc':[HL_gap_xtb, tot_energy_xtb, Homo_idx_xtb, Lumo_idx_xtb]}, \n",
    "index=[\"HOMO-LUMO GAP (eV)\",\"TOTAL ENERGY (a.u.)\", \"HOMO Index\", \"LUMO Index\"])\n",
    "\n",
    "# Save the xtb results dataframe to a file\n",
    "with open(path_xtb_csv, \"w\") as f:\n",
    "    f.write(f\"\\n\\nxtb calculations of {smi_key}  \\n\")\n",
    "    df_xtb.to_csv(f)\n",
    "    \n",
    "df_xtb"
   ]
  },
  {
   "cell_type": "code",
   "execution_count": 76,
   "metadata": {
    "execution": {
     "execution_failed": "2024-04-08T13:04:06.292Z"
    }
   },
   "outputs": [],
   "source": [
    "# Store the xtbopt.xyz file in path_xtb_xyz\n",
    "path_xtb_xyz = working_dir / f'{smi_key}_xtb.xyz'\n",
    "sp.run(['cp', 'xtbopt.xyz', path_xtb_xyz], stdout=sp.DEVNULL, stderr=sp.DEVNULL)"
   ]
  },
  {
   "cell_type": "code",
   "execution_count": 77,
   "metadata": {},
   "outputs": [
    {
     "data": {
      "application/3dmoljs_load.v0": "<div id=\"3dmolviewer_17126014156613324\"  style=\"position: relative; width: 400px; height: 300px;\">\n        <p id=\"3dmolwarning_17126014156613324\" style=\"background-color:#ffcccc;color:black\">3Dmol.js failed to load for some reason.  Please check your browser console for error messages.<br></p>\n        </div>\n<script>\n\nvar loadScriptAsync = function(uri){\n  return new Promise((resolve, reject) => {\n    //this is to ignore the existence of requirejs amd\n    var savedexports, savedmodule;\n    if (typeof exports !== 'undefined') savedexports = exports;\n    else exports = {}\n    if (typeof module !== 'undefined') savedmodule = module;\n    else module = {}\n\n    var tag = document.createElement('script');\n    tag.src = uri;\n    tag.async = true;\n    tag.onload = () => {\n        exports = savedexports;\n        module = savedmodule;\n        resolve();\n    };\n  var firstScriptTag = document.getElementsByTagName('script')[0];\n  firstScriptTag.parentNode.insertBefore(tag, firstScriptTag);\n});\n};\n\nif(typeof $3Dmolpromise === 'undefined') {\n$3Dmolpromise = null;\n  $3Dmolpromise = loadScriptAsync('https://cdnjs.cloudflare.com/ajax/libs/3Dmol/2.1.0/3Dmol-min.js');\n}\n\nvar viewer_17126014156613324 = null;\nvar warn = document.getElementById(\"3dmolwarning_17126014156613324\");\nif(warn) {\n    warn.parentNode.removeChild(warn);\n}\n$3Dmolpromise.then(function() {\nviewer_17126014156613324 = $3Dmol.createViewer(document.getElementById(\"3dmolviewer_17126014156613324\"),{backgroundColor:\"white\"});\nviewer_17126014156613324.zoomTo();\n\tviewer_17126014156613324.addModel(\"\\n     RDKit          3D\\n\\n 24 25  0  0  0  0  0  0  0  0999 V2000\\n    3.2669    0.6132   -0.2422 C   0  0  0  0  0  0  0  0  0  0  0  0\\n    2.1262   -0.2666   -0.2696 N   0  0  0  0  0  0  0  0  0  0  0  0\\n    2.1512   -1.6169   -0.4992 C   0  0  0  0  0  0  0  0  0  0  0  0\\n    0.9414   -2.1394   -0.4592 N   0  0  0  0  0  0  0  0  0  0  0  0\\n    0.1243   -1.0820   -0.1950 C   0  0  0  0  0  0  0  0  0  0  0  0\\n    0.8208    0.0818   -0.0730 C   0  0  0  0  0  0  0  0  0  0  0  0\\n    0.2053    1.3328    0.2024 C   0  0  0  0  0  0  0  0  0  0  0  0\\n    0.8425    2.3763    0.3105 O   0  0  0  0  0  0  0  0  0  0  0  0\\n   -1.1831    1.2355    0.3328 N   0  0  0  0  0  0  0  0  0  0  0  0\\n   -1.9397    0.0507    0.2135 C   0  0  0  0  0  0  0  0  0  0  0  0\\n   -3.1672    0.0661    0.3459 O   0  0  0  0  0  0  0  0  0  0  0  0\\n   -1.2419   -1.1267   -0.0581 N   0  0  0  0  0  0  0  0  0  0  0  0\\n   -1.9457   -2.3886   -0.1959 C   0  0  0  0  0  0  0  0  0  0  0  0\\n   -1.9291    2.4462    0.6152 C   0  0  0  0  0  0  0  0  0  0  0  0\\n    4.1760    0.0377   -0.4351 H   0  0  0  0  0  0  0  0  0  0  0  0\\n    3.1400    1.3720   -1.0184 H   0  0  0  0  0  0  0  0  0  0  0  0\\n    3.3265    1.0753    0.7463 H   0  0  0  0  0  0  0  0  0  0  0  0\\n    3.0659   -2.1649   -0.6881 H   0  0  0  0  0  0  0  0  0  0  0  0\\n   -1.5743   -3.0891    0.5588 H   0  0  0  0  0  0  0  0  0  0  0  0\\n   -3.0242   -2.2711   -0.0622 H   0  0  0  0  0  0  0  0  0  0  0  0\\n   -1.7597   -2.7941   -1.1955 H   0  0  0  0  0  0  0  0  0  0  0  0\\n   -2.4751    2.3160    1.5554 H   0  0  0  0  0  0  0  0  0  0  0  0\\n   -2.6590    2.6085   -0.1848 H   0  0  0  0  0  0  0  0  0  0  0  0\\n   -1.2880    3.3274    0.6956 H   0  0  0  0  0  0  0  0  0  0  0  0\\n  1  2  1  0\\n  2  3  1  0\\n  3  4  2  0\\n  4  5  1  0\\n  5  6  2  0\\n  6  7  1  0\\n  7  8  2  0\\n  7  9  1  0\\n  9 10  1  0\\n 10 11  2  0\\n 10 12  1  0\\n 12 13  1  0\\n  9 14  1  0\\n  6  2  1  0\\n 12  5  1  0\\n  1 15  1  0\\n  1 16  1  0\\n  1 17  1  0\\n  3 18  1  0\\n 13 19  1  0\\n 13 20  1  0\\n 13 21  1  0\\n 14 22  1  0\\n 14 23  1  0\\n 14 24  1  0\\nM  END\\n\",\"mol\");\n\tviewer_17126014156613324.setStyle({\"stick\": {}, \"sphere\": {\"scale\": 0.3}});\n\tviewer_17126014156613324.addLabel(\"waterxTB Molecule\",{\"position\": {\"x\": -4, \"y\": -4, \"z\": 0}});\n\tviewer_17126014156613324.zoomTo();\nviewer_17126014156613324.render();\n});\n</script>",
      "text/html": [
       "<div id=\"3dmolviewer_17126014156613324\"  style=\"position: relative; width: 400px; height: 300px;\">\n",
       "        <p id=\"3dmolwarning_17126014156613324\" style=\"background-color:#ffcccc;color:black\">3Dmol.js failed to load for some reason.  Please check your browser console for error messages.<br></p>\n",
       "        </div>\n",
       "<script>\n",
       "\n",
       "var loadScriptAsync = function(uri){\n",
       "  return new Promise((resolve, reject) => {\n",
       "    //this is to ignore the existence of requirejs amd\n",
       "    var savedexports, savedmodule;\n",
       "    if (typeof exports !== 'undefined') savedexports = exports;\n",
       "    else exports = {}\n",
       "    if (typeof module !== 'undefined') savedmodule = module;\n",
       "    else module = {}\n",
       "\n",
       "    var tag = document.createElement('script');\n",
       "    tag.src = uri;\n",
       "    tag.async = true;\n",
       "    tag.onload = () => {\n",
       "        exports = savedexports;\n",
       "        module = savedmodule;\n",
       "        resolve();\n",
       "    };\n",
       "  var firstScriptTag = document.getElementsByTagName('script')[0];\n",
       "  firstScriptTag.parentNode.insertBefore(tag, firstScriptTag);\n",
       "});\n",
       "};\n",
       "\n",
       "if(typeof $3Dmolpromise === 'undefined') {\n",
       "$3Dmolpromise = null;\n",
       "  $3Dmolpromise = loadScriptAsync('https://cdnjs.cloudflare.com/ajax/libs/3Dmol/2.1.0/3Dmol-min.js');\n",
       "}\n",
       "\n",
       "var viewer_17126014156613324 = null;\n",
       "var warn = document.getElementById(\"3dmolwarning_17126014156613324\");\n",
       "if(warn) {\n",
       "    warn.parentNode.removeChild(warn);\n",
       "}\n",
       "$3Dmolpromise.then(function() {\n",
       "viewer_17126014156613324 = $3Dmol.createViewer(document.getElementById(\"3dmolviewer_17126014156613324\"),{backgroundColor:\"white\"});\n",
       "viewer_17126014156613324.zoomTo();\n",
       "\tviewer_17126014156613324.addModel(\"\\n     RDKit          3D\\n\\n 24 25  0  0  0  0  0  0  0  0999 V2000\\n    3.2669    0.6132   -0.2422 C   0  0  0  0  0  0  0  0  0  0  0  0\\n    2.1262   -0.2666   -0.2696 N   0  0  0  0  0  0  0  0  0  0  0  0\\n    2.1512   -1.6169   -0.4992 C   0  0  0  0  0  0  0  0  0  0  0  0\\n    0.9414   -2.1394   -0.4592 N   0  0  0  0  0  0  0  0  0  0  0  0\\n    0.1243   -1.0820   -0.1950 C   0  0  0  0  0  0  0  0  0  0  0  0\\n    0.8208    0.0818   -0.0730 C   0  0  0  0  0  0  0  0  0  0  0  0\\n    0.2053    1.3328    0.2024 C   0  0  0  0  0  0  0  0  0  0  0  0\\n    0.8425    2.3763    0.3105 O   0  0  0  0  0  0  0  0  0  0  0  0\\n   -1.1831    1.2355    0.3328 N   0  0  0  0  0  0  0  0  0  0  0  0\\n   -1.9397    0.0507    0.2135 C   0  0  0  0  0  0  0  0  0  0  0  0\\n   -3.1672    0.0661    0.3459 O   0  0  0  0  0  0  0  0  0  0  0  0\\n   -1.2419   -1.1267   -0.0581 N   0  0  0  0  0  0  0  0  0  0  0  0\\n   -1.9457   -2.3886   -0.1959 C   0  0  0  0  0  0  0  0  0  0  0  0\\n   -1.9291    2.4462    0.6152 C   0  0  0  0  0  0  0  0  0  0  0  0\\n    4.1760    0.0377   -0.4351 H   0  0  0  0  0  0  0  0  0  0  0  0\\n    3.1400    1.3720   -1.0184 H   0  0  0  0  0  0  0  0  0  0  0  0\\n    3.3265    1.0753    0.7463 H   0  0  0  0  0  0  0  0  0  0  0  0\\n    3.0659   -2.1649   -0.6881 H   0  0  0  0  0  0  0  0  0  0  0  0\\n   -1.5743   -3.0891    0.5588 H   0  0  0  0  0  0  0  0  0  0  0  0\\n   -3.0242   -2.2711   -0.0622 H   0  0  0  0  0  0  0  0  0  0  0  0\\n   -1.7597   -2.7941   -1.1955 H   0  0  0  0  0  0  0  0  0  0  0  0\\n   -2.4751    2.3160    1.5554 H   0  0  0  0  0  0  0  0  0  0  0  0\\n   -2.6590    2.6085   -0.1848 H   0  0  0  0  0  0  0  0  0  0  0  0\\n   -1.2880    3.3274    0.6956 H   0  0  0  0  0  0  0  0  0  0  0  0\\n  1  2  1  0\\n  2  3  1  0\\n  3  4  2  0\\n  4  5  1  0\\n  5  6  2  0\\n  6  7  1  0\\n  7  8  2  0\\n  7  9  1  0\\n  9 10  1  0\\n 10 11  2  0\\n 10 12  1  0\\n 12 13  1  0\\n  9 14  1  0\\n  6  2  1  0\\n 12  5  1  0\\n  1 15  1  0\\n  1 16  1  0\\n  1 17  1  0\\n  3 18  1  0\\n 13 19  1  0\\n 13 20  1  0\\n 13 21  1  0\\n 14 22  1  0\\n 14 23  1  0\\n 14 24  1  0\\nM  END\\n\",\"mol\");\n",
       "\tviewer_17126014156613324.setStyle({\"stick\": {}, \"sphere\": {\"scale\": 0.3}});\n",
       "\tviewer_17126014156613324.addLabel(\"waterxTB Molecule\",{\"position\": {\"x\": -4, \"y\": -4, \"z\": 0}});\n",
       "\tviewer_17126014156613324.zoomTo();\n",
       "viewer_17126014156613324.render();\n",
       "});\n",
       "</script>"
      ]
     },
     "metadata": {},
     "output_type": "display_data"
    }
   ],
   "source": [
    "# Read the XYZ file\n",
    "mol_xtb_xyz = path_xtb_xyz.read_text()\n",
    "lines =mol_xtb_xyz.strip().split('\\n')\n",
    "mol_xtb_xyz = '\\n'.join(lines[:1] + [''] + lines[2:])\n",
    "\n",
    "view3D(mol_rdkit, f'{smi_key} xTB Molecule', position=(-4,-4,0), size=(400,300))"
   ]
  },
  {
   "cell_type": "markdown",
   "metadata": {},
   "source": [
    "* *Effacer les divers fichiers xtb qui ne sont plus utiles."
   ]
  },
  {
   "cell_type": "code",
   "execution_count": 62,
   "metadata": {
    "execution": {
     "execution_failed": "2024-04-08T13:04:06.292Z"
    }
   },
   "outputs": [
    {
     "data": {
      "text/plain": [
       "CompletedProcess(args=['rm', 'bondlengths', 'charges', 'coord', 'coord.original', 'gfnff_charges', 'gfnff_topo', '.history.xyz', 'struc.xyz', 'wbo', 'xtbopt.xyz', 'xtbopt.log', '.xtboptok', 'xtbrestart', 'xtbtopo.mol', 'xtblast.xyz', 'gfnff_adjacency'], returncode=1)"
      ]
     },
     "execution_count": 62,
     "metadata": {},
     "output_type": "execute_result"
    }
   ],
   "source": [
    "sp.run(['rm', 'bondlengths', 'charges', 'coord', 'coord.original',  \n",
    "        'gfnff_charges', 'gfnff_topo', '.history.xyz', 'struc.xyz',\n",
    "        'wbo','xtbopt.xyz', 'xtbopt.log', '.xtboptok', \n",
    "        'xtbrestart', 'xtbtopo.mol', 'xtblast.xyz', 'gfnff_adjacency'],\n",
    "       stdout=sp.DEVNULL, stderr=sp.DEVNULL)"
   ]
  },
  {
   "cell_type": "markdown",
   "metadata": {},
   "source": [
    "Ici, l'énergie totale $E_{tot}$ est évaluée comme la somme des termes suivants :\n",
    "$$E_{\\rm tot} = E_{\\rm SCC} + E_{\\rm rep} + E_{\\rm contr} [+ E_{\\rm XB}^{\\rm GFN1},$$\n",
    "où \n",
    "* $E_{\\rm SCC}$ est l'énergie de charge auto-cohérente, \n",
    "$$E_{\\rm SCC} = E_{\\rm EHT} + E_{\\gamma} + E_{\\rm disp} + \\cdots,$$\n",
    "avec \n",
    "    * $E_{\\rm EHT}$ énergie de Hückel étendue, \n",
    "    * $E_{\\rm disp}$ dispersion (D3/D4), \n",
    "    * $E_{\\gamma}$ énergie électrostatique et XC isotrope, et d'autres contributions énergétiques spécifiques à la méthode,\n",
    "* $E_{\\rm rep}$  est l'énergie de répulsion, \n",
    "* $E_{\\rm constr}$ est l'énergie supplémentaire due aux contraintes et confinements qui modifient le PES (Potential Energy Surface),\n",
    "* et $E_{\\rm XB}^{\\rm GFN1}$ est la correction de liaison halogène (pour GFN1-xTB).\n"
   ]
  },
  {
   "cell_type": "code",
   "execution_count": null,
   "metadata": {
    "execution": {
     "execution_failed": "2024-04-08T13:04:06.293Z"
    }
   },
   "outputs": [],
   "source": [
    "path_xtb_molden = working_dir / f'{smi_key}_xtb.molden'\n",
    "#---------------------------------------------------\n",
    "# Generating molecular orbitals with xtb\n",
    "#---------------------------------------------------\n",
    "sp.run([\"xtb\", 'xtbopt.xyz', \"--molden --parallel 1\", \">\", \"xtb-molden.out\"], check=True)\n",
    "\n",
    "# Store the molden.input file in path_xtb_molden\n",
    "sp.run(['cp', 'molden.input', path_xtb_molden], stdout=sp.DEVNULL, stderr=sp.DEVNULL)\n"
   ]
  },
  {
   "cell_type": "markdown",
   "metadata": {},
   "source": [
    "## Synthèse des méthodes HF et post-HF\n",
    "\n",
    "Les données importantes sont enregistrées dans les objets de la méthode PYSCF, ce qui facilite l'analyse et la visualisation."
   ]
  },
  {
   "cell_type": "code",
   "execution_count": 60,
   "metadata": {
    "execution": {
     "execution_failed": "2024-04-08T13:04:06.289Z"
    }
   },
   "outputs": [
    {
     "data": {
      "text/html": [
       "<div>\n",
       "<style scoped>\n",
       "    .dataframe tbody tr th:only-of-type {\n",
       "        vertical-align: middle;\n",
       "    }\n",
       "\n",
       "    .dataframe tbody tr th {\n",
       "        vertical-align: top;\n",
       "    }\n",
       "\n",
       "    .dataframe thead th {\n",
       "        text-align: right;\n",
       "    }\n",
       "</style>\n",
       "<table border=\"1\" class=\"dataframe\">\n",
       "  <thead>\n",
       "    <tr style=\"text-align: right;\">\n",
       "      <th></th>\n",
       "      <th>Energy (a.u.)</th>\n",
       "      <th>Time (s)</th>\n",
       "      <th>Delta E(kcal/mol)</th>\n",
       "    </tr>\n",
       "  </thead>\n",
       "  <tbody>\n",
       "    <tr>\n",
       "      <th>HF</th>\n",
       "      <td>-7.863114</td>\n",
       "      <td>0.048100</td>\n",
       "      <td>12.329528</td>\n",
       "    </tr>\n",
       "    <tr>\n",
       "      <th>MP2</th>\n",
       "      <td>-7.875625</td>\n",
       "      <td>0.053784</td>\n",
       "      <td>4.478723</td>\n",
       "    </tr>\n",
       "    <tr>\n",
       "      <th>CCSD</th>\n",
       "      <td>-7.882752</td>\n",
       "      <td>0.107877</td>\n",
       "      <td>0.006224</td>\n",
       "    </tr>\n",
       "    <tr>\n",
       "      <th>CCSD(T)</th>\n",
       "      <td>-7.882760</td>\n",
       "      <td>4.830329</td>\n",
       "      <td>0.001233</td>\n",
       "    </tr>\n",
       "    <tr>\n",
       "      <th>FCI</th>\n",
       "      <td>-7.882762</td>\n",
       "      <td>0.070517</td>\n",
       "      <td>0.000000</td>\n",
       "    </tr>\n",
       "  </tbody>\n",
       "</table>\n",
       "</div>"
      ],
      "text/plain": [
       "         Energy (a.u.)  Time (s)  Delta E(kcal/mol)\n",
       "HF           -7.863114  0.048100          12.329528\n",
       "MP2          -7.875625  0.053784           4.478723\n",
       "CCSD         -7.882752  0.107877           0.006224\n",
       "CCSD(T)      -7.882760  4.830329           0.001233\n",
       "FCI          -7.882762  0.070517           0.000000"
      ]
     },
     "execution_count": 60,
     "metadata": {},
     "output_type": "execute_result"
    }
   ],
   "source": [
    "# Collect data\n",
    "\n",
    "methods = [\"HF\", \"MP2\", \"CCSD\", \"CCSD(T)\",\"FCI\"]\n",
    "energies = [myhf.e_tot, mymp2.e_tot, mycc.e_tot, mycc.e_tot + e_ccsd_t, myfci[0]]\n",
    "mf_times = [myhf_time, mymp2_time, mycc_time, mycct_time,  myfci_time]\n",
    "\n",
    "# Create the results dataframe\n",
    "import pandas as pd\n",
    "\n",
    "df_Eies = pd.DataFrame({\"Energy (a.u.)\":energies, \"Time (s)\":mf_times, \n",
    "                        \"Delta E(kcal/mol)\": [(abs(energy - myfci[0]) * 627.509474) for energy in energies]}, \n",
    "                       index = methods)\n",
    "\n",
    "df_Eies"
   ]
  },
  {
   "cell_type": "markdown",
   "metadata": {},
   "source": [
    "On note que les méthodes HF et MP2 produisent ici des différences d'énergie12.3 et 4.5 kcal/mol respectivement, bien supérieure à [précision chimique](https://en.wikipedia.org/wiki/Computational_chemistry) (1 kcal/mol)."
   ]
  },
  {
   "cell_type": "code",
   "execution_count": 61,
   "metadata": {
    "execution": {
     "execution_failed": "2024-04-08T13:04:06.291Z"
    }
   },
   "outputs": [
    {
     "data": {
      "image/png": "[encoded data removed]",
      "text/plain": [
       "<Figure size 800x500 with 2 Axes>"
      ]
     },
     "metadata": {},
     "output_type": "display_data"
    }
   ],
   "source": [
    "# Plotting\n",
    "%matplotlib inline\n",
    "import matplotlib.pyplot as plt\n",
    "\n",
    "# Create the matplotlib figure\n",
    "fig, ax = plt.subplots(figsize=(8,5))\n",
    "\n",
    "# Plot the energies\n",
    "ax.set_xticks(range(len(methods)), methods)\n",
    "ax.set_xlabel(\"Method\")\n",
    "ax.set_ylabel(\"Energy (Ha)\", color=\"b\")\n",
    "ax.scatter(range(len(methods)), energies, marker=\"o\", s=50, color=\"b\")\n",
    "ax.set_xlabel(\"Method\")\n",
    "\n",
    "# Plot the time to solution\n",
    "ax_time = ax.twinx()\n",
    "ax_time.scatter(range(len(methods)), mf_times, marker=\"s\", s=50, color=\"r\")\n",
    "ax_time.set_ylabel(\"Time to solution (s)\", color=\"r\", rotation=270, va=\"bottom\")\n",
    "\n",
    "# Show the graph\n",
    "plt.tick_params(axis=\"both\", direction=\"in\")\n",
    "plt.show()"
   ]
  },
  {
   "cell_type": "code",
   "execution_count": 62,
   "metadata": {},
   "outputs": [
    {
     "data": {
      "application/vnd.plotly.v1+json": {
       "config": {
        "plotlyServerURL": "https://plot.ly"
       },
       "data": [
        {
         "hovertemplate": "<extra></extra>",
         "legendgroup": "",
         "marker": {
          "color": "#636efa",
          "symbol": "circle"
         },
         "mode": "markers",
         "name": "",
         "orientation": "v",
         "showlegend": false,
         "type": "scatter",
         "xaxis": "x",
         "yaxis": "y"
        },
        {
         "marker": {
          "color": "blue",
          "size": 10,
          "symbol": "circle"
         },
         "mode": "markers",
         "name": "Energy (a.u.)",
         "type": "scatter",
         "x": [
          "HF",
          "MP2",
          "CCSD",
          "CCSD(T)",
          "FCI"
         ],
         "y": [
          -7.863113882796406,
          -7.875624936781271,
          -7.882752317561035,
          -7.882760271419266,
          -7.882762236780981
         ]
        },
        {
         "marker": {
          "color": "red",
          "size": 10,
          "symbol": "square"
         },
         "mode": "markers",
         "name": "Time to solution (s)",
         "type": "scatter",
         "x": [
          "HF",
          "MP2",
          "CCSD",
          "CCSD(T)",
          "FCI"
         ],
         "y": [
          0.04809975624084473,
          0.05378413200378418,
          0.10787677764892578,
          4.830329418182373,
          0.07051658630371094
         ],
         "yaxis": "y2"
        }
       ],
       "layout": {
        "legend": {
         "tracegroupgap": 0
        },
        "margin": {
         "t": 60
        },
        "template": {
         "data": {
          "bar": [
           {
            "error_x": {
             "color": "#2a3f5f"
            },
            "error_y": {
             "color": "#2a3f5f"
            },
            "marker": {
             "line": {
              "color": "#E5ECF6",
              "width": 0.5
             },
             "pattern": {
              "fillmode": "overlay",
              "size": 10,
              "solidity": 0.2
             }
            },
            "type": "bar"
           }
          ],
          "barpolar": [
           {
            "marker": {
             "line": {
              "color": "#E5ECF6",
              "width": 0.5
             },
             "pattern": {
              "fillmode": "overlay",
              "size": 10,
              "solidity": 0.2
             }
            },
            "type": "barpolar"
           }
          ],
          "carpet": [
           {
            "aaxis": {
             "endlinecolor": "#2a3f5f",
             "gridcolor": "white",
             "linecolor": "white",
             "minorgridcolor": "white",
             "startlinecolor": "#2a3f5f"
            },
            "baxis": {
             "endlinecolor": "#2a3f5f",
             "gridcolor": "white",
             "linecolor": "white",
             "minorgridcolor": "white",
             "startlinecolor": "#2a3f5f"
            },
            "type": "carpet"
           }
          ],
          "choropleth": [
           {
            "colorbar": {
             "outlinewidth": 0,
             "ticks": ""
            },
            "type": "choropleth"
           }
          ],
          "contour": [
           {
            "colorbar": {
             "outlinewidth": 0,
             "ticks": ""
            },
            "colorscale": [
             [
              0,
              "#0d0887"
             ],
             [
              0.1111111111111111,
              "#46039f"
             ],
             [
              0.2222222222222222,
              "#7201a8"
             ],
             [
              0.3333333333333333,
              "#9c179e"
             ],
             [
              0.4444444444444444,
              "#bd3786"
             ],
             [
              0.5555555555555556,
              "#d8576b"
             ],
             [
              0.6666666666666666,
              "#ed7953"
             ],
             [
              0.7777777777777778,
              "#fb9f3a"
             ],
             [
              0.8888888888888888,
              "#fdca26"
             ],
             [
              1,
              "#f0f921"
             ]
            ],
            "type": "contour"
           }
          ],
          "contourcarpet": [
           {
            "colorbar": {
             "outlinewidth": 0,
             "ticks": ""
            },
            "type": "contourcarpet"
           }
          ],
          "heatmap": [
           {
            "colorbar": {
             "outlinewidth": 0,
             "ticks": ""
            },
            "colorscale": [
             [
              0,
              "#0d0887"
             ],
             [
              0.1111111111111111,
              "#46039f"
             ],
             [
              0.2222222222222222,
              "#7201a8"
             ],
             [
              0.3333333333333333,
              "#9c179e"
             ],
             [
              0.4444444444444444,
              "#bd3786"
             ],
             [
              0.5555555555555556,
              "#d8576b"
             ],
             [
              0.6666666666666666,
              "#ed7953"
             ],
             [
              0.7777777777777778,
              "#fb9f3a"
             ],
             [
              0.8888888888888888,
              "#fdca26"
             ],
             [
              1,
              "#f0f921"
             ]
            ],
            "type": "heatmap"
           }
          ],
          "heatmapgl": [
           {
            "colorbar": {
             "outlinewidth": 0,
             "ticks": ""
            },
            "colorscale": [
             [
              0,
              "#0d0887"
             ],
             [
              0.1111111111111111,
              "#46039f"
             ],
             [
              0.2222222222222222,
              "#7201a8"
             ],
             [
              0.3333333333333333,
              "#9c179e"
             ],
             [
              0.4444444444444444,
              "#bd3786"
             ],
             [
              0.5555555555555556,
              "#d8576b"
             ],
             [
              0.6666666666666666,
              "#ed7953"
             ],
             [
              0.7777777777777778,
              "#fb9f3a"
             ],
             [
              0.8888888888888888,
              "#fdca26"
             ],
             [
              1,
              "#f0f921"
             ]
            ],
            "type": "heatmapgl"
           }
          ],
          "histogram": [
           {
            "marker": {
             "pattern": {
              "fillmode": "overlay",
              "size": 10,
              "solidity": 0.2
             }
            },
            "type": "histogram"
           }
          ],
          "histogram2d": [
           {
            "colorbar": {
             "outlinewidth": 0,
             "ticks": ""
            },
            "colorscale": [
             [
              0,
              "#0d0887"
             ],
             [
              0.1111111111111111,
              "#46039f"
             ],
             [
              0.2222222222222222,
              "#7201a8"
             ],
             [
              0.3333333333333333,
              "#9c179e"
             ],
             [
              0.4444444444444444,
              "#bd3786"
             ],
             [
              0.5555555555555556,
              "#d8576b"
             ],
             [
              0.6666666666666666,
              "#ed7953"
             ],
             [
              0.7777777777777778,
              "#fb9f3a"
             ],
             [
              0.8888888888888888,
              "#fdca26"
             ],
             [
              1,
              "#f0f921"
             ]
            ],
            "type": "histogram2d"
           }
          ],
          "histogram2dcontour": [
           {
            "colorbar": {
             "outlinewidth": 0,
             "ticks": ""
            },
            "colorscale": [
             [
              0,
              "#0d0887"
             ],
             [
              0.1111111111111111,
              "#46039f"
             ],
             [
              0.2222222222222222,
              "#7201a8"
             ],
             [
              0.3333333333333333,
              "#9c179e"
             ],
             [
              0.4444444444444444,
              "#bd3786"
             ],
             [
              0.5555555555555556,
              "#d8576b"
             ],
             [
              0.6666666666666666,
              "#ed7953"
             ],
             [
              0.7777777777777778,
              "#fb9f3a"
             ],
             [
              0.8888888888888888,
              "#fdca26"
             ],
             [
              1,
              "#f0f921"
             ]
            ],
            "type": "histogram2dcontour"
           }
          ],
          "mesh3d": [
           {
            "colorbar": {
             "outlinewidth": 0,
             "ticks": ""
            },
            "type": "mesh3d"
           }
          ],
          "parcoords": [
           {
            "line": {
             "colorbar": {
              "outlinewidth": 0,
              "ticks": ""
             }
            },
            "type": "parcoords"
           }
          ],
          "pie": [
           {
            "automargin": true,
            "type": "pie"
           }
          ],
          "scatter": [
           {
            "fillpattern": {
             "fillmode": "overlay",
             "size": 10,
             "solidity": 0.2
            },
            "type": "scatter"
           }
          ],
          "scatter3d": [
           {
            "line": {
             "colorbar": {
              "outlinewidth": 0,
              "ticks": ""
             }
            },
            "marker": {
             "colorbar": {
              "outlinewidth": 0,
              "ticks": ""
             }
            },
            "type": "scatter3d"
           }
          ],
          "scattercarpet": [
           {
            "marker": {
             "colorbar": {
              "outlinewidth": 0,
              "ticks": ""
             }
            },
            "type": "scattercarpet"
           }
          ],
          "scattergeo": [
           {
            "marker": {
             "colorbar": {
              "outlinewidth": 0,
              "ticks": ""
             }
            },
            "type": "scattergeo"
           }
          ],
          "scattergl": [
           {
            "marker": {
             "colorbar": {
              "outlinewidth": 0,
              "ticks": ""
             }
            },
            "type": "scattergl"
           }
          ],
          "scattermapbox": [
           {
            "marker": {
             "colorbar": {
              "outlinewidth": 0,
              "ticks": ""
             }
            },
            "type": "scattermapbox"
           }
          ],
          "scatterpolar": [
           {
            "marker": {
             "colorbar": {
              "outlinewidth": 0,
              "ticks": ""
             }
            },
            "type": "scatterpolar"
           }
          ],
          "scatterpolargl": [
           {
            "marker": {
             "colorbar": {
              "outlinewidth": 0,
              "ticks": ""
             }
            },
            "type": "scatterpolargl"
           }
          ],
          "scatterternary": [
           {
            "marker": {
             "colorbar": {
              "outlinewidth": 0,
              "ticks": ""
             }
            },
            "type": "scatterternary"
           }
          ],
          "surface": [
           {
            "colorbar": {
             "outlinewidth": 0,
             "ticks": ""
            },
            "colorscale": [
             [
              0,
              "#0d0887"
             ],
             [
              0.1111111111111111,
              "#46039f"
             ],
             [
              0.2222222222222222,
              "#7201a8"
             ],
             [
              0.3333333333333333,
              "#9c179e"
             ],
             [
              0.4444444444444444,
              "#bd3786"
             ],
             [
              0.5555555555555556,
              "#d8576b"
             ],
             [
              0.6666666666666666,
              "#ed7953"
             ],
             [
              0.7777777777777778,
              "#fb9f3a"
             ],
             [
              0.8888888888888888,
              "#fdca26"
             ],
             [
              1,
              "#f0f921"
             ]
            ],
            "type": "surface"
           }
          ],
          "table": [
           {
            "cells": {
             "fill": {
              "color": "#EBF0F8"
             },
             "line": {
              "color": "white"
             }
            },
            "header": {
             "fill": {
              "color": "#C8D4E3"
             },
             "line": {
              "color": "white"
             }
            },
            "type": "table"
           }
          ]
         },
         "layout": {
          "annotationdefaults": {
           "arrowcolor": "#2a3f5f",
           "arrowhead": 0,
           "arrowwidth": 1
          },
          "autotypenumbers": "strict",
          "coloraxis": {
           "colorbar": {
            "outlinewidth": 0,
            "ticks": ""
           }
          },
          "colorscale": {
           "diverging": [
            [
             0,
             "#8e0152"
            ],
            [
             0.1,
             "#c51b7d"
            ],
            [
             0.2,
             "#de77ae"
            ],
            [
             0.3,
             "#f1b6da"
            ],
            [
             0.4,
             "#fde0ef"
            ],
            [
             0.5,
             "#f7f7f7"
            ],
            [
             0.6,
             "#e6f5d0"
            ],
            [
             0.7,
             "#b8e186"
            ],
            [
             0.8,
             "#7fbc41"
            ],
            [
             0.9,
             "#4d9221"
            ],
            [
             1,
             "#276419"
            ]
           ],
           "sequential": [
            [
             0,
             "#0d0887"
            ],
            [
             0.1111111111111111,
             "#46039f"
            ],
            [
             0.2222222222222222,
             "#7201a8"
            ],
            [
             0.3333333333333333,
             "#9c179e"
            ],
            [
             0.4444444444444444,
             "#bd3786"
            ],
            [
             0.5555555555555556,
             "#d8576b"
            ],
            [
             0.6666666666666666,
             "#ed7953"
            ],
            [
             0.7777777777777778,
             "#fb9f3a"
            ],
            [
             0.8888888888888888,
             "#fdca26"
            ],
            [
             1,
             "#f0f921"
            ]
           ],
           "sequentialminus": [
            [
             0,
             "#0d0887"
            ],
            [
             0.1111111111111111,
             "#46039f"
            ],
            [
             0.2222222222222222,
             "#7201a8"
            ],
            [
             0.3333333333333333,
             "#9c179e"
            ],
            [
             0.4444444444444444,
             "#bd3786"
            ],
            [
             0.5555555555555556,
             "#d8576b"
            ],
            [
             0.6666666666666666,
             "#ed7953"
            ],
            [
             0.7777777777777778,
             "#fb9f3a"
            ],
            [
             0.8888888888888888,
             "#fdca26"
            ],
            [
             1,
             "#f0f921"
            ]
           ]
          },
          "colorway": [
           "#636efa",
           "#EF553B",
           "#00cc96",
           "#ab63fa",
           "#FFA15A",
           "#19d3f3",
           "#FF6692",
           "#B6E880",
           "#FF97FF",
           "#FECB52"
          ],
          "font": {
           "color": "#2a3f5f"
          },
          "geo": {
           "bgcolor": "white",
           "lakecolor": "white",
           "landcolor": "#E5ECF6",
           "showlakes": true,
           "showland": true,
           "subunitcolor": "white"
          },
          "hoverlabel": {
           "align": "left"
          },
          "hovermode": "closest",
          "mapbox": {
           "style": "light"
          },
          "paper_bgcolor": "white",
          "plot_bgcolor": "#E5ECF6",
          "polar": {
           "angularaxis": {
            "gridcolor": "white",
            "linecolor": "white",
            "ticks": ""
           },
           "bgcolor": "#E5ECF6",
           "radialaxis": {
            "gridcolor": "white",
            "linecolor": "white",
            "ticks": ""
           }
          },
          "scene": {
           "xaxis": {
            "backgroundcolor": "#E5ECF6",
            "gridcolor": "white",
            "gridwidth": 2,
            "linecolor": "white",
            "showbackground": true,
            "ticks": "",
            "zerolinecolor": "white"
           },
           "yaxis": {
            "backgroundcolor": "#E5ECF6",
            "gridcolor": "white",
            "gridwidth": 2,
            "linecolor": "white",
            "showbackground": true,
            "ticks": "",
            "zerolinecolor": "white"
           },
           "zaxis": {
            "backgroundcolor": "#E5ECF6",
            "gridcolor": "white",
            "gridwidth": 2,
            "linecolor": "white",
            "showbackground": true,
            "ticks": "",
            "zerolinecolor": "white"
           }
          },
          "shapedefaults": {
           "line": {
            "color": "#2a3f5f"
           }
          },
          "ternary": {
           "aaxis": {
            "gridcolor": "white",
            "linecolor": "white",
            "ticks": ""
           },
           "baxis": {
            "gridcolor": "white",
            "linecolor": "white",
            "ticks": ""
           },
           "bgcolor": "#E5ECF6",
           "caxis": {
            "gridcolor": "white",
            "linecolor": "white",
            "ticks": ""
           }
          },
          "title": {
           "x": 0.05
          },
          "xaxis": {
           "automargin": true,
           "gridcolor": "white",
           "linecolor": "white",
           "ticks": "",
           "title": {
            "standoff": 15
           },
           "zerolinecolor": "white",
           "zerolinewidth": 2
          },
          "yaxis": {
           "automargin": true,
           "gridcolor": "white",
           "linecolor": "white",
           "ticks": "",
           "title": {
            "standoff": 15
           },
           "zerolinecolor": "white",
           "zerolinewidth": 2
          }
         }
        },
        "xaxis": {
         "anchor": "y",
         "domain": [
          0,
          1
         ],
         "tickangle": 90,
         "tickmode": "array",
         "ticktext": [
          "HF",
          "MP2",
          "CCSD",
          "CCSD(T)",
          "FCI"
         ],
         "tickvals": [
          "HF",
          "MP2",
          "CCSD",
          "CCSD(T)",
          "FCI"
         ]
        },
        "yaxis": {
         "anchor": "x",
         "color": "blue",
         "domain": [
          0,
          1
         ],
         "title": {
          "text": "Energy(a.u.)"
         }
        },
        "yaxis2": {
         "color": "red",
         "overlaying": "y",
         "side": "right",
         "title": {
          "text": "Time to solution (s)"
         }
        }
       }
      }
     },
     "metadata": {},
     "output_type": "display_data"
    }
   ],
   "source": [
    "import plotly.express as px\n",
    "\n",
    "# Create the figure\n",
    "fig = px.scatter()\n",
    "\n",
    "# Plot the energies\n",
    "fig.add_scatter(x=methods, y=energies, mode=\"markers\",\\\n",
    "                marker=dict(symbol=\"circle\", size=10, color=\"blue\"), name=\"Energy (a.u.)\")\n",
    "\n",
    "# Plot the time to solution\n",
    "fig.add_scatter(x=methods, y= mf_times, mode=\"markers\",\\\n",
    "                marker=dict(symbol=\"square\", size=10, color=\"red\"), name=\"Time to solution (s)\", yaxis=\"y2\")\n",
    "\n",
    "# Set the x-axis labels and tick labels\n",
    "fig.update_layout(xaxis=dict(tickmode=\"array\", tickvals=methods, ticktext=methods, tickangle=90))\n",
    "\n",
    "# Set the y-axis labels and colors\n",
    "fig.update_layout(yaxis=dict(title=\"Energy(a.u.)\", color=\"blue\"),\\\n",
    "                  yaxis2=dict(title=\"Time to solution (s)\", color=\"red\", overlaying=\"y\",\\\n",
    "                              side=\"right\"))\n",
    "\n",
    "# Show the graph\n",
    "fig.show()"
   ]
  },
  {
   "cell_type": "code",
   "execution_count": 63,
   "metadata": {},
   "outputs": [
    {
     "data": {
      "text/plain": [
       "['HF', 'MP2', 'CCSD', 'CCSD(T)', 'FCI']"
      ]
     },
     "execution_count": 63,
     "metadata": {},
     "output_type": "execute_result"
    }
   ],
   "source": [
    "methods"
   ]
  },
  {
   "cell_type": "code",
   "execution_count": 64,
   "metadata": {
    "execution": {
     "execution_failed": "2024-04-08T13:04:06.291Z"
    }
   },
   "outputs": [
    {
     "data": {
      "application/vnd.plotly.v1+json": {
       "config": {
        "plotlyServerURL": "https://plot.ly"
       },
       "data": [
        {
         "hovertemplate": "x=%{x}<br>y=%{y}<extra></extra>",
         "legendgroup": "",
         "line": {
          "color": "#636efa",
          "dash": "solid"
         },
         "marker": {
          "size": 12,
          "symbol": "circle"
         },
         "mode": "lines+markers",
         "name": "",
         "orientation": "v",
         "showlegend": false,
         "type": "scatter",
         "x": [
          "HF",
          "MP2",
          "CCSD",
          "CCSD(T)",
          "FCI"
         ],
         "xaxis": "x",
         "y": [
          -7.863113882796406,
          -7.875624936781271,
          -7.882752317561035,
          -7.882760271419266,
          -7.882762236780981
         ],
         "yaxis": "y"
        }
       ],
       "layout": {
        "legend": {
         "tracegroupgap": 0
        },
        "template": {
         "data": {
          "bar": [
           {
            "error_x": {
             "color": "#2a3f5f"
            },
            "error_y": {
             "color": "#2a3f5f"
            },
            "marker": {
             "line": {
              "color": "#E5ECF6",
              "width": 0.5
             },
             "pattern": {
              "fillmode": "overlay",
              "size": 10,
              "solidity": 0.2
             }
            },
            "type": "bar"
           }
          ],
          "barpolar": [
           {
            "marker": {
             "line": {
              "color": "#E5ECF6",
              "width": 0.5
             },
             "pattern": {
              "fillmode": "overlay",
              "size": 10,
              "solidity": 0.2
             }
            },
            "type": "barpolar"
           }
          ],
          "carpet": [
           {
            "aaxis": {
             "endlinecolor": "#2a3f5f",
             "gridcolor": "white",
             "linecolor": "white",
             "minorgridcolor": "white",
             "startlinecolor": "#2a3f5f"
            },
            "baxis": {
             "endlinecolor": "#2a3f5f",
             "gridcolor": "white",
             "linecolor": "white",
             "minorgridcolor": "white",
             "startlinecolor": "#2a3f5f"
            },
            "type": "carpet"
           }
          ],
          "choropleth": [
           {
            "colorbar": {
             "outlinewidth": 0,
             "ticks": ""
            },
            "type": "choropleth"
           }
          ],
          "contour": [
           {
            "colorbar": {
             "outlinewidth": 0,
             "ticks": ""
            },
            "colorscale": [
             [
              0,
              "#0d0887"
             ],
             [
              0.1111111111111111,
              "#46039f"
             ],
             [
              0.2222222222222222,
              "#7201a8"
             ],
             [
              0.3333333333333333,
              "#9c179e"
             ],
             [
              0.4444444444444444,
              "#bd3786"
             ],
             [
              0.5555555555555556,
              "#d8576b"
             ],
             [
              0.6666666666666666,
              "#ed7953"
             ],
             [
              0.7777777777777778,
              "#fb9f3a"
             ],
             [
              0.8888888888888888,
              "#fdca26"
             ],
             [
              1,
              "#f0f921"
             ]
            ],
            "type": "contour"
           }
          ],
          "contourcarpet": [
           {
            "colorbar": {
             "outlinewidth": 0,
             "ticks": ""
            },
            "type": "contourcarpet"
           }
          ],
          "heatmap": [
           {
            "colorbar": {
             "outlinewidth": 0,
             "ticks": ""
            },
            "colorscale": [
             [
              0,
              "#0d0887"
             ],
             [
              0.1111111111111111,
              "#46039f"
             ],
             [
              0.2222222222222222,
              "#7201a8"
             ],
             [
              0.3333333333333333,
              "#9c179e"
             ],
             [
              0.4444444444444444,
              "#bd3786"
             ],
             [
              0.5555555555555556,
              "#d8576b"
             ],
             [
              0.6666666666666666,
              "#ed7953"
             ],
             [
              0.7777777777777778,
              "#fb9f3a"
             ],
             [
              0.8888888888888888,
              "#fdca26"
             ],
             [
              1,
              "#f0f921"
             ]
            ],
            "type": "heatmap"
           }
          ],
          "heatmapgl": [
           {
            "colorbar": {
             "outlinewidth": 0,
             "ticks": ""
            },
            "colorscale": [
             [
              0,
              "#0d0887"
             ],
             [
              0.1111111111111111,
              "#46039f"
             ],
             [
              0.2222222222222222,
              "#7201a8"
             ],
             [
              0.3333333333333333,
              "#9c179e"
             ],
             [
              0.4444444444444444,
              "#bd3786"
             ],
             [
              0.5555555555555556,
              "#d8576b"
             ],
             [
              0.6666666666666666,
              "#ed7953"
             ],
             [
              0.7777777777777778,
              "#fb9f3a"
             ],
             [
              0.8888888888888888,
              "#fdca26"
             ],
             [
              1,
              "#f0f921"
             ]
            ],
            "type": "heatmapgl"
           }
          ],
          "histogram": [
           {
            "marker": {
             "pattern": {
              "fillmode": "overlay",
              "size": 10,
              "solidity": 0.2
             }
            },
            "type": "histogram"
           }
          ],
          "histogram2d": [
           {
            "colorbar": {
             "outlinewidth": 0,
             "ticks": ""
            },
            "colorscale": [
             [
              0,
              "#0d0887"
             ],
             [
              0.1111111111111111,
              "#46039f"
             ],
             [
              0.2222222222222222,
              "#7201a8"
             ],
             [
              0.3333333333333333,
              "#9c179e"
             ],
             [
              0.4444444444444444,
              "#bd3786"
             ],
             [
              0.5555555555555556,
              "#d8576b"
             ],
             [
              0.6666666666666666,
              "#ed7953"
             ],
             [
              0.7777777777777778,
              "#fb9f3a"
             ],
             [
              0.8888888888888888,
              "#fdca26"
             ],
             [
              1,
              "#f0f921"
             ]
            ],
            "type": "histogram2d"
           }
          ],
          "histogram2dcontour": [
           {
            "colorbar": {
             "outlinewidth": 0,
             "ticks": ""
            },
            "colorscale": [
             [
              0,
              "#0d0887"
             ],
             [
              0.1111111111111111,
              "#46039f"
             ],
             [
              0.2222222222222222,
              "#7201a8"
             ],
             [
              0.3333333333333333,
              "#9c179e"
             ],
             [
              0.4444444444444444,
              "#bd3786"
             ],
             [
              0.5555555555555556,
              "#d8576b"
             ],
             [
              0.6666666666666666,
              "#ed7953"
             ],
             [
              0.7777777777777778,
              "#fb9f3a"
             ],
             [
              0.8888888888888888,
              "#fdca26"
             ],
             [
              1,
              "#f0f921"
             ]
            ],
            "type": "histogram2dcontour"
           }
          ],
          "mesh3d": [
           {
            "colorbar": {
             "outlinewidth": 0,
             "ticks": ""
            },
            "type": "mesh3d"
           }
          ],
          "parcoords": [
           {
            "line": {
             "colorbar": {
              "outlinewidth": 0,
              "ticks": ""
             }
            },
            "type": "parcoords"
           }
          ],
          "pie": [
           {
            "automargin": true,
            "type": "pie"
           }
          ],
          "scatter": [
           {
            "fillpattern": {
             "fillmode": "overlay",
             "size": 10,
             "solidity": 0.2
            },
            "type": "scatter"
           }
          ],
          "scatter3d": [
           {
            "line": {
             "colorbar": {
              "outlinewidth": 0,
              "ticks": ""
             }
            },
            "marker": {
             "colorbar": {
              "outlinewidth": 0,
              "ticks": ""
             }
            },
            "type": "scatter3d"
           }
          ],
          "scattercarpet": [
           {
            "marker": {
             "colorbar": {
              "outlinewidth": 0,
              "ticks": ""
             }
            },
            "type": "scattercarpet"
           }
          ],
          "scattergeo": [
           {
            "marker": {
             "colorbar": {
              "outlinewidth": 0,
              "ticks": ""
             }
            },
            "type": "scattergeo"
           }
          ],
          "scattergl": [
           {
            "marker": {
             "colorbar": {
              "outlinewidth": 0,
              "ticks": ""
             }
            },
            "type": "scattergl"
           }
          ],
          "scattermapbox": [
           {
            "marker": {
             "colorbar": {
              "outlinewidth": 0,
              "ticks": ""
             }
            },
            "type": "scattermapbox"
           }
          ],
          "scatterpolar": [
           {
            "marker": {
             "colorbar": {
              "outlinewidth": 0,
              "ticks": ""
             }
            },
            "type": "scatterpolar"
           }
          ],
          "scatterpolargl": [
           {
            "marker": {
             "colorbar": {
              "outlinewidth": 0,
              "ticks": ""
             }
            },
            "type": "scatterpolargl"
           }
          ],
          "scatterternary": [
           {
            "marker": {
             "colorbar": {
              "outlinewidth": 0,
              "ticks": ""
             }
            },
            "type": "scatterternary"
           }
          ],
          "surface": [
           {
            "colorbar": {
             "outlinewidth": 0,
             "ticks": ""
            },
            "colorscale": [
             [
              0,
              "#0d0887"
             ],
             [
              0.1111111111111111,
              "#46039f"
             ],
             [
              0.2222222222222222,
              "#7201a8"
             ],
             [
              0.3333333333333333,
              "#9c179e"
             ],
             [
              0.4444444444444444,
              "#bd3786"
             ],
             [
              0.5555555555555556,
              "#d8576b"
             ],
             [
              0.6666666666666666,
              "#ed7953"
             ],
             [
              0.7777777777777778,
              "#fb9f3a"
             ],
             [
              0.8888888888888888,
              "#fdca26"
             ],
             [
              1,
              "#f0f921"
             ]
            ],
            "type": "surface"
           }
          ],
          "table": [
           {
            "cells": {
             "fill": {
              "color": "#EBF0F8"
             },
             "line": {
              "color": "white"
             }
            },
            "header": {
             "fill": {
              "color": "#C8D4E3"
             },
             "line": {
              "color": "white"
             }
            },
            "type": "table"
           }
          ]
         },
         "layout": {
          "annotationdefaults": {
           "arrowcolor": "#2a3f5f",
           "arrowhead": 0,
           "arrowwidth": 1
          },
          "autotypenumbers": "strict",
          "coloraxis": {
           "colorbar": {
            "outlinewidth": 0,
            "ticks": ""
           }
          },
          "colorscale": {
           "diverging": [
            [
             0,
             "#8e0152"
            ],
            [
             0.1,
             "#c51b7d"
            ],
            [
             0.2,
             "#de77ae"
            ],
            [
             0.3,
             "#f1b6da"
            ],
            [
             0.4,
             "#fde0ef"
            ],
            [
             0.5,
             "#f7f7f7"
            ],
            [
             0.6,
             "#e6f5d0"
            ],
            [
             0.7,
             "#b8e186"
            ],
            [
             0.8,
             "#7fbc41"
            ],
            [
             0.9,
             "#4d9221"
            ],
            [
             1,
             "#276419"
            ]
           ],
           "sequential": [
            [
             0,
             "#0d0887"
            ],
            [
             0.1111111111111111,
             "#46039f"
            ],
            [
             0.2222222222222222,
             "#7201a8"
            ],
            [
             0.3333333333333333,
             "#9c179e"
            ],
            [
             0.4444444444444444,
             "#bd3786"
            ],
            [
             0.5555555555555556,
             "#d8576b"
            ],
            [
             0.6666666666666666,
             "#ed7953"
            ],
            [
             0.7777777777777778,
             "#fb9f3a"
            ],
            [
             0.8888888888888888,
             "#fdca26"
            ],
            [
             1,
             "#f0f921"
            ]
           ],
           "sequentialminus": [
            [
             0,
             "#0d0887"
            ],
            [
             0.1111111111111111,
             "#46039f"
            ],
            [
             0.2222222222222222,
             "#7201a8"
            ],
            [
             0.3333333333333333,
             "#9c179e"
            ],
            [
             0.4444444444444444,
             "#bd3786"
            ],
            [
             0.5555555555555556,
             "#d8576b"
            ],
            [
             0.6666666666666666,
             "#ed7953"
            ],
            [
             0.7777777777777778,
             "#fb9f3a"
            ],
            [
             0.8888888888888888,
             "#fdca26"
            ],
            [
             1,
             "#f0f921"
            ]
           ]
          },
          "colorway": [
           "#636efa",
           "#EF553B",
           "#00cc96",
           "#ab63fa",
           "#FFA15A",
           "#19d3f3",
           "#FF6692",
           "#B6E880",
           "#FF97FF",
           "#FECB52"
          ],
          "font": {
           "color": "#2a3f5f"
          },
          "geo": {
           "bgcolor": "white",
           "lakecolor": "white",
           "landcolor": "#E5ECF6",
           "showlakes": true,
           "showland": true,
           "subunitcolor": "white"
          },
          "hoverlabel": {
           "align": "left"
          },
          "hovermode": "closest",
          "mapbox": {
           "style": "light"
          },
          "paper_bgcolor": "white",
          "plot_bgcolor": "#E5ECF6",
          "polar": {
           "angularaxis": {
            "gridcolor": "white",
            "linecolor": "white",
            "ticks": ""
           },
           "bgcolor": "#E5ECF6",
           "radialaxis": {
            "gridcolor": "white",
            "linecolor": "white",
            "ticks": ""
           }
          },
          "scene": {
           "xaxis": {
            "backgroundcolor": "#E5ECF6",
            "gridcolor": "white",
            "gridwidth": 2,
            "linecolor": "white",
            "showbackground": true,
            "ticks": "",
            "zerolinecolor": "white"
           },
           "yaxis": {
            "backgroundcolor": "#E5ECF6",
            "gridcolor": "white",
            "gridwidth": 2,
            "linecolor": "white",
            "showbackground": true,
            "ticks": "",
            "zerolinecolor": "white"
           },
           "zaxis": {
            "backgroundcolor": "#E5ECF6",
            "gridcolor": "white",
            "gridwidth": 2,
            "linecolor": "white",
            "showbackground": true,
            "ticks": "",
            "zerolinecolor": "white"
           }
          },
          "shapedefaults": {
           "line": {
            "color": "#2a3f5f"
           }
          },
          "ternary": {
           "aaxis": {
            "gridcolor": "white",
            "linecolor": "white",
            "ticks": ""
           },
           "baxis": {
            "gridcolor": "white",
            "linecolor": "white",
            "ticks": ""
           },
           "bgcolor": "#E5ECF6",
           "caxis": {
            "gridcolor": "white",
            "linecolor": "white",
            "ticks": ""
           }
          },
          "title": {
           "x": 0.05
          },
          "xaxis": {
           "automargin": true,
           "gridcolor": "white",
           "linecolor": "white",
           "ticks": "",
           "title": {
            "standoff": 15
           },
           "zerolinecolor": "white",
           "zerolinewidth": 2
          },
          "yaxis": {
           "automargin": true,
           "gridcolor": "white",
           "linecolor": "white",
           "ticks": "",
           "title": {
            "standoff": 15
           },
           "zerolinecolor": "white",
           "zerolinewidth": 2
          }
         }
        },
        "title": {
         "text": "Jacob's Ladder"
        },
        "xaxis": {
         "anchor": "y",
         "domain": [
          0,
          1
         ],
         "title": {
          "text": "Method"
         }
        },
        "yaxis": {
         "anchor": "x",
         "domain": [
          0,
          1
         ],
         "title": {
          "text": "Energy (a.u.)"
         }
        }
       }
      }
     },
     "metadata": {},
     "output_type": "display_data"
    }
   ],
   "source": [
    "# Plotting as jacob's Latter\n",
    "fig = px.line(x=methods, y=energies, title=\"Jacob's Ladder\", markers=True)\n",
    "fig.update_layout(xaxis_title=\"Method\", yaxis_title=\"Energy (a.u.)\")\n",
    "fig.update_traces(marker_size=12)\n",
    "fig.show() # It's interactive!"
   ]
  },
  {
   "cell_type": "markdown",
   "metadata": {},
   "source": [
    "De ce qui précède, il apparaît que, pour un même ensemble de bases chimiques de dimension moyenne, de taille $N$,\n",
    "* en termes de **précision**, on a l’ordre suivant :\n",
    "\n",
    "HF < MP2 < CCSD < CCSD(T) < FCI\n",
    "\n",
    "* tn termes de **temps de calculs**, \n",
    "\n",
    "HF ($N^4$) < MP2 ($N^5$) < CCSD ($N^6$)  < CCSD(T) ($N^7$) < FCI ($N!$) \n",
    "On note sur ce graphique que l’augmentation de la complexité de l'ensemble de base rapproche la valeur propre de l’énergie de la véritable énergie de Hartree-Fock. Cette tendance peut également être généralisée à d'autres méthodes, comme [CCSD](https://en.wikipedia.org/wiki/Coupled_cluster), [MP2](https://en.wikipedia.org/wiki/M%C3%B8ller%E2%80%93Plesset_perturbation_theory), [FCI](https://en.wikipedia.org/wiki/Full_configuration_interaction), etc., bien que le temps de résolution serait plus long pour ces approches post Hartree-Fock. Ce qu’il faut retenir, c’est que même si une base infinie est nécessaire pour converger vers la véritable énergie, il y a des rendements décroissants à un moment donné, surtout si l’on considère le temps requis pour le calcul. Dans notre cas, `6-311G(d,p)` ou `6-311+G(d,p)` apparaît comme un bon choix en termes de précision et de temps de calcul.\n",
    "\n",
    "![HF_Post_HF](./Graphics/HF_Post_HF.png)\n",
    "\n",
    "### <a id='toc1_4_6_'></a>[Prise en compte de l'énergie de corrélation - Potentiel de l'informatique quantique](#toc0_)\n",
    "\n",
    "Les méthodes Post Hatree-Fock sont destinées à prendre en compte l'énergie de corrélation électronique. L'énergie de corrélation est définie comme\n",
    "$$\n",
    "E_{\\text{corr}} = E_{\\text{FCI}} - E_{\\text{HF}},\n",
    "$$\n",
    "dans lequel $E_{\\text{FCI}}$ et $E_{\\text{HF}}$ sont les énergies calculées à partir de la diagonalisation exacte de l'Hamiltonien moléculaire dans l'approximation de Born-Oppenheimer, c'est-à-dire l'interaction de configuration complète (FCI), et la méthode Hartree-Fock, respectivement. Puisqu'il est prohibitif sur le plan computationnel de résoudre le problème FCI, à l'exception de très petits systèmes, il est courant d'introduire des approximations pour inclure les effets de corrélation dans les calculs de structure électronique. Le problème FCI considère la diagonalisation de l'Hamiltonien dans une base de tous les déterminants excités possibles, c'est-à-dire tous les déterminants possibles à 1, 2, 3,…, N corps pour un système à N électrons. Par conséquent, la fonction d’onde FCI est une combinaison linéaire de tous les déterminants possibles pour un système à N électrons. Les méthodes approximatives n'incluent qu'un sous-ensemble des déterminants excités dans la fonction d'état approximative afin de capturer les effets de corrélation les plus importants (par exemple, théorie des perturbations à plusieurs corps, théorie des clusters couplés).\n",
    "\n",
    "Cette énergie de corrélation peut être divisée en deux catégories : **corrélation statique** et **dynamique**. Pour considérer le premier cas, il faut utiliser des approches multi-configurations. Ces dernières peuvent être abordées avec des méthodes post Hartree-Fock avec un seul état de référence, comme Configuration Interaction (CI), Coupled-Cluster (CC) ou des méthodes perturbatives (MP2, MP3, .etc)."
   ]
  },
  {
   "cell_type": "markdown",
   "metadata": {},
   "source": []
  }
 ],
 "metadata": {
  "jupytext": {
   "formats": "ipynb,md"
  },
  "kernelspec": {
   "display_name": "qiskit-env",
   "language": "python",
   "name": "qiskit-env"
  },
  "language_info": {
   "codemirror_mode": {
    "name": "ipython",
    "version": 3
   },
   "file_extension": ".py",
   "mimetype": "text/x-python",
   "name": "python",
   "nbconvert_exporter": "python",
   "pygments_lexer": "ipython3",
   "version": "3.10.14"
  },
  "widgets": {
   "application/vnd.jupyter.widget-state+json": {
    "state": {},
    "version_major": 2,
    "version_minor": 0
   }
  }
 },
 "nbformat": 4,
 "nbformat_minor": 4
}
