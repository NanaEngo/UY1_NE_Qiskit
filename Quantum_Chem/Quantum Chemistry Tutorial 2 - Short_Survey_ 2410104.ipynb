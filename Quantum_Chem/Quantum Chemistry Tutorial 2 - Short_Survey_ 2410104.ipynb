{
 "cells": [
  {
   "cell_type": "markdown",
   "metadata": {},
   "source": [
    "# Quantum Chemistry Tutorial 2 - Short Survey\n",
    "\n",
    "1. **S. G. Nana Engo**, serge.nana-engo@facsciences-uy1.cm\n",
    "    * Department of Physics, Faculty of Science, University of Yaounde I\n",
    "2. **J-P. Tchapet Njafa**, jean-pierre.tchapet-njafa@univ-maroua.cm\n",
    "    * Department of Physics, Faculty of Science, University of Maroua\n",
    "       \n",
    "January 2024"
   ]
  },
  {
   "cell_type": "markdown",
   "metadata": {},
   "source": [
    "L'objectif de ce notebook est de fournir une brève revue des principales méthodes de la chimie quantique et d'évaluer les performances. Nous allons travailler avec la molécule d'eau."
   ]
  },
  {
   "cell_type": "code",
   "execution_count": null,
   "metadata": {},
   "outputs": [],
   "source": [
    "import pyscf\n",
    "\n",
    "pyscf.__version__"
   ]
  },
  {
   "cell_type": "code",
   "execution_count": null,
   "metadata": {},
   "outputs": [],
   "source": [
    "from pyscf import gto\n",
    "\n",
    "# Experimental geometry of gas-phase water\n",
    "# Ref: https://cccbdb.nist.gov/expgeom2x.asp\n",
    "mol_xyz = \"\"\"O        0.0000   0.0000   0.1173\n",
    "             H        0.0000   0.7572\t -0.4692\n",
    "             H        0.0000  -0.7572\t -0.4692\"\"\"\n",
    "mol = gto.M(\n",
    "    atom=mol_xyz, \n",
    "    basis=\"6-31g\", \n",
    "    verbose=4,\n",
    "    charge=0,      # 0 by default\n",
    "    spin=0,        # 0 by default, defined as (n_up - n_down)\n",
    "    symmetry=True, # False by default\n",
    ")"
   ]
  },
  {
   "cell_type": "code",
   "execution_count": null,
   "metadata": {},
   "outputs": [],
   "source": [
    "import py3Dmol\n",
    "\n",
    "# 3D representation\n",
    "xyz_view = py3Dmol.view(width=300,height=300)\n",
    "xyz_view.addModel(mol.tostring(format=\"xyz\"),'xyz')\n",
    "xyz_view.setStyle({'stick':{}})\n",
    "xyz_view.show()"
   ]
  },
  {
   "cell_type": "markdown",
   "metadata": {},
   "source": [
    "## Energie de gap HOMO-LUMO\n",
    "\n",
    "La bande interdite $E_g$ se calcule en déterminant l'énergie de l'orbite moléculaire la plus occupée (HOMO) et l'énergie de l'orbite moléculaire la plus basse inoccupée (LUMO) :\n",
    "\n",
    "$$E_g = E_{\\rm LUMO} - E_{\\rm HOMO}$$\n",
    "\n",
    "![Molecule_HOMO-LUMO_diagram](Graphics/Molecule_HOMO-LUMO_diagram.png)\n",
    "\n",
    "Chaque cercle représente ici un électron dans une orbitale ; lorsque la lumière ou l'énergie d'une fréquence suffisamment élevée est absorbée par un électron dans le HOMO, il saute vers le LUMO."
   ]
  },
  {
   "cell_type": "code",
   "execution_count": null,
   "metadata": {},
   "outputs": [],
   "source": [
    "def find_homo_lumo(mf_pyscf, au2ev):\n",
    "    \"\"\"Function that returns the HOMO and LUMO index and the gap energy in eV\n",
    "\n",
    "    Args:\n",
    "        mf_pyscf (pyscf object): pyscf meam-field object of the molecule to be evaluated.\n",
    "    \"\"\"\n",
    "    # Index of HOMO and LUMO\n",
    "    lumo_idx = mf_pyscf.mo_occ.tolist().index(0.)\n",
    "    homo_idx = lumo_idx - 1\n",
    "\n",
    "    # Calculate the gap Homo-LUMO\n",
    "    E_HOMO = mf_pyscf.mo_energy[homo_idx]*au2ev\n",
    "    E_LUMO = mf_pyscf.mo_energy[lumo_idx]*au2ev\n",
    "    E_g = abs(E_HOMO - E_LUMO)\n",
    "\n",
    "    return E_HOMO, E_LUMO, E_g"
   ]
  },
  {
   "cell_type": "markdown",
   "metadata": {},
   "source": [
    "\n",
    "## [Hartree-Fock](https://en.wikipedia.org/wiki/Hartree%E2%80%93Fock_method)\n",
    "\n",
    "\n",
    "* Hatree-Fock (HF) est le point de départ de l'essentiel de la chimie quantique.\n",
    "* Les orbitales sont optimisés de manière variationnelle pour un seul déterminant de Slater.\n",
    "* En travaillant sur la base de la fonction de base centrée sur l'atome, on résoud les équations de [Roothaan-Hall](https://en.wikipedia.org/wiki/Roothaan_equations).\n",
    "\n",
    "$$\\mathbf{FC} = \\mathbf{SC} \\epsilon.$$\n",
    "\n",
    "* $\\mathbf{F}$ est la matrice Fock;\n",
    "* $\\mathbf{C}$ est la matrice des coefficients orbitaux moléculaires;\n",
    "* $\\mathbf{S}$ est la matrice de chevauchement orbitale atomique;\n",
    "* $\\epsilon$ est le vecteur des énergies orbitales moléculaires."
   ]
  },
  {
   "cell_type": "code",
   "execution_count": null,
   "metadata": {},
   "outputs": [],
   "source": [
    "import time\n",
    "from pyscf import scf\n",
    "\n",
    "start = time.time()\n",
    "myhf = scf.RHF(mol).run()\n",
    "myhf_time = time.time() - start"
   ]
  },
  {
   "cell_type": "code",
   "execution_count": null,
   "metadata": {},
   "outputs": [],
   "source": [
    "from pyscf.data import nist\n",
    "\n",
    "au2ev = nist.HARTREE2EV\n",
    "\n",
    "Ehf_homo, Ehf_lumo, Ehf_g = find_homo_lumo(myhf, au2ev)\n",
    "print(f'Homo Energy = {Ehf_homo} eV, \\nLumo Energy = {Ehf_lumo} eV, \\nGap Energy = {Ehf_g} eV')\n"
   ]
  },
  {
   "cell_type": "markdown",
   "metadata": {},
   "source": [
    " La méthode de Hartree-Fock présente certaines limites :\n",
    "\n",
    " 1. **Approximation de l'échange-correlation**. La méthode de Hartree-Fock ne tient pas compte de manière exacte de l'interaction électron-électron appelée **correlation électronique**. Elle utilise une approximation connue sous le nom d'approximation de l'échange-correlation. Cette approximation simplifie l'interaction électronique en la traitant de manière moyennée, ce qui peut conduire à des erreurs significatives dans certains cas.\n",
    "\n",
    "2. **Non-inclusion de la corrélation électronique dynamique**. La méthode de Hartree-Fock considère les électrons comme un ensemble d'orbitales indépendantes dans un champ moyen créé par les autres électrons. Cependant, elle ne prend pas en compte la corrélation électronique dynamique, c'est-à-dire les effets de corrélation qui dépendent du mouvement des électrons dans le système. Cela limite sa précision pour les systèmes où la corrélation électronique dynamique est importante, tels que les systèmes fortement corrélés ou les réactions chimiques avec des états de transition.\n",
    "\n",
    "3. **Problèmes avec les systèmes à interaction forte**. La méthode de Hartree-Fock peut être moins précise pour les systèmes contenant des électrons fortement corrélés, tels que les systèmes avec des liaisons multiples ou des électrons non-appariés. Dans ces cas, d'autres méthodes plus avancées, telles que les méthodes de la théorie de la fonctionnelle de la densité (DFT) ou les méthodes de couplage de cluster, peuvent être nécessaires.\n",
    "\n",
    "4. **Sensibilité aux bases de fonction**. La précision des résultats de la méthode de Hartree-Fock dépend fortement du choix des bases de fonction utilisées pour décrire les orbitales électroniques. Différentes bases de fonction peuvent donner des résultats légèrement différents, et il n'y a pas de base de fonction unique qui convient à tous les systèmes.\n"
   ]
  },
  {
   "cell_type": "markdown",
   "metadata": {},
   "source": [
    "## Théorie de la fonctionnelle de la densité - DFT\n",
    "\n",
    "Dans la [KS-DFT](https://en.wikipedia.org/wiki/Density_functional_theory), proposé pour la première fois par Kohn et Sham en [1964](https://journals.aps.org/pr/abstract/10.1103/PhysRev.136.B864), la densité électronique d'un système de référence sans interaction est utilisée pour représenter la densité du véritable système en interaction. En effet, Kohn et Sham stipulent qu'il existe\n",
    "1. une cartographie biunivoque entre la densité électronique et le potentiel externe et\n",
    "2. un principe variationnel pour la densité électronique.\n",
    "\n",
    "En conséquence, la formulation informatique de KS-DFT ressemble à celle de la théorie de Hartree-Fock (HF), mais avec un potentiel de Fock effectif différent. Dans KS-DFT, l’énergie électronique totale est définie comme suit :\n",
    "$$\n",
    "    E = \\mathtt{T}_e + \\mathtt{V}_{\\rm ext} +  \\mathtt{U}_J + E_{\\rm XC} ,\n",
    "$$\n",
    "où \n",
    "* $\\mathtt{T}_e= -\\sum_i\\frac{\\hbar^2}{2m_e}\\nabla^2_i$ est l'énergie cinétique électronique sans interaction;\n",
    "* $\\mathtt{V}_{\\rm ext} = \\int\\rho(\\mathbf{r})\\times\\Big[-\\sum_{i,I}\\frac{Z_I}{|\\mathbf{r}_i-\\mathbf{R}_I|}\\Big]d\\mathbf{r}$ est l'énergie due au potentiel externe ou la répulsion Coulombienne entre les électrons et les noyaux;, \n",
    "* $ \\mathtt{U}_J = +\\frac12\\iint\\frac{\\rho(\\mathbf{r}_i)\\rho(\\mathbf{r}_j)}{|\\mathbf{r}_i-\\mathbf{r}_j|}d\\mathbf{r}_id\\mathbf{r}_j$ est l'énergie Coulombienne; \n",
    "* et $E_{\\rm XC}$ est l'énergie d'échange-corrélation (*XC*) qui fournit les corrections des termes $\\mathtt{T}_e$ et $\\mathtt{U}_J$. En pratique, $E_{\\rm XC}$ est approché par une approximation fonctionnelle de la densité, qui elle-même peuvent être divisée en plusieurs classes le long de différents échelons de l'échelle de Jacob :\n",
    "    * approximations de densité locale (par exemple LDA ; *XC* l'énergie dépend uniquement de la densité électronique, $\\rho$),\n",
    "    * approximations généralisées du gradient (GGA ; l'énergie *XC* dépend également du gradient de densité, $|\\nabla\\rho|$),\n",
    "    * méta-GGA (l'énergie *XC* dépend aussi de la densité d'énergie cinétique et/ou de la densité laplacienne, $\\sum_i |\\nabla \\psi_i|^2$, $\\nabla^2\\rho$ ; ce dernier n'est pas supporté dans PySCF pour le moment),\n",
    "    * fonctionnelles de corrélation non locales (l'énergie *XC* implique une double intégrale)\n",
    "    * fonctionnelles de densité hybride (une fraction de l'échange exact est utilisée), et\n",
    "    * fonctionnelles de densité corrigées à longue portée (l'échange exact est utilisé avec un noyau d'interaction modifié)\n",
    "\n",
    "* PySCF donne aux utilisateurs l'accès à un grand nombre de fonctionnalités via les bibliothèques [libXC](https://tddft.org/programs/libXC/) et [XCFun](https://github.com/dftlibs/XCfun).\n",
    "\n",
    "![DFT_Accuracy.jpg](./Graphics/DFT_Accuracy.jpg)\n",
    "\n",
    "Ainsi, l'Hamiltonien à un électron permettant de calculer l'énergie totale d'une orbitale électronique est\n",
    "\n",
    "$$\\hat{h}_{\\rm KS} \\phi_i(\\mathbf{r}_i) = \\Big[-\\frac12 \\nabla_i^2 + -\\sum_I\\frac{Z_I}{|\\mathbf{r}_i-\\mathbf{R}_I|} + \n",
    "\\int\\frac{\\rho(\\mathbf{r}_j)}{|\\mathbf{r}_i-\\mathbf{r}_j|}d\\mathbf{r}_j +  \\mathtt{V}_{\\rm XC}[\\rho(\\mathbf{r}_i)] \\Big] \\phi_i(r) = \\epsilon_i \\phi_i(\\mathbf{r}_i).$$\n",
    "\n",
    "Les solutions des états propres de cette équation peuvent être utilisées pour trouver une densité qui, par sa construction, reproduit la densité exacte du système complet en interaction :\n",
    "\n",
    "$$\\rho(\\mathbf{r}_i)=2\\sum_i |\\phi_i^{\\rm KS}(\\mathbf{r}_i)|^2.$$\n",
    "\n",
    "![DFT_Flowchart.jpg](Graphics/DFT_Flowchart.jpg)\n"
   ]
  },
  {
   "cell_type": "code",
   "execution_count": null,
   "metadata": {},
   "outputs": [],
   "source": [
    "from pyscf import dft\n",
    "\n",
    "start = time.time()\n",
    "myks = dft.RKS(mol, xc=\"B3LYP\").run() #optional: use density fitting to accelerate integral evaluation\n",
    "# scf.KS(mol).density_fit()\n",
    "myks_time = time.time() - start"
   ]
  },
  {
   "cell_type": "code",
   "execution_count": null,
   "metadata": {},
   "outputs": [],
   "source": [
    "Eks_homo, Eks_lumo, Eks_g = find_homo_lumo(myks)\n",
    "print(f'Homo Energy = {Eks_homo} eV, \\nLumo Energy = {Eks_lumo} eV, \\nGap Energy = {Eks_g} eV')\n"
   ]
  },
  {
   "cell_type": "markdown",
   "metadata": {},
   "source": [
    "Bien que la DFT présente de nombreux avantages, elle comporte également certaines limitations importantes :\n",
    "\n",
    "1. **Approximation de l'échange-correlation**. Tout comme la méthode de Hartree-Fock, la DFT repose sur une approximation de l'échange-correlation. Différentes approximations sont disponibles, telles que l'approximation de la fonctionnelle de l'échange-corrélation locale (LDA) ou l'approximation de la fonctionnelle de l'échange-corrélation généralisée (GGA). Ces approximations peuvent être moins précises dans certains cas, conduisant à des résultats moins précis pour certaines propriétés chimiques.\n",
    "\n",
    "2. **Difficulté à traiter les interactions à longue portée**. La DFT est moins efficace pour traiter les interactions à longue portée, telles que les interactions de dispersion (van der Waals). Les approximations standard de la DFT ne capturent pas correctement ces interactions, ce qui peut conduire à des erreurs significatives lors de la modélisation de systèmes moléculaires ou de matériaux qui dépendent fortement de ces interactions.\n",
    "\n",
    "3. **Prise en compte incomplète de la corrélation électronique dynamique**. Bien que la DFT prenne en compte certaines contributions de la corrélation électronique, elle n'inclut généralement pas de manière exacte la corrélation électronique dynamique, qui est importante dans les systèmes avec des états de transition, des réactions chimiques et des propriétés d'excitation. Des méthodes plus avancées, telles que la DFT à deux électrons (DFT à deux particules), sont nécessaires pour capturer plus précisément ces effets de corrélation électronique dynamique.\n",
    "\n",
    "4. **Sensibilité aux bases de fonction**. Comme pour la méthode de Hartree-Fock, la précision des résultats de la DFT dépend du choix des bases de fonction. Différentes approximations de la fonctionnelle de l'échange-corrélation peuvent nécessiter des bases de fonction spécifiques, et il n'y a pas de base de fonction unique qui convient à tous les systèmes.\n",
    "\n",
    "5. **Problèmes avec les systèmes fortement corrélés**. La DFT peut être moins précise pour les systèmes avec des électrons fortement corrélés, tels que les systèmes avec des liaisons multiples ou des électrons fortement localisés. Dans ces cas, des méthodes plus avancées, telles que la DFT à la dynamique exacte des échanges, sont nécessaires pour obtenir des résultats précis.\n"
   ]
  },
  {
   "cell_type": "markdown",
   "metadata": {},
   "source": [
    "## Théorie des perturbations de Møller-Plesset - MP2\n",
    "\n",
    "* La [MP2](https://en.wikipedia.org/wiki/M%C3%B8ller%E2%80%93Plesset_perturbation_theory) effectue des corrections perturbatives de l'approximation Hartree-Fock."
   ]
  },
  {
   "cell_type": "code",
   "execution_count": null,
   "metadata": {},
   "outputs": [],
   "source": [
    "from pyscf import mp\n",
    "\n",
    "start = time.time()\n",
    "mymp2 = mp.MP2(myhf).run()\n",
    "mymp2_time = time.time() - start + myhf_time"
   ]
  },
  {
   "cell_type": "markdown",
   "metadata": {},
   "source": [
    "## Cluster couplé - CC\n",
    "\n",
    "* La [CC](https://en.wikipedia.org/wiki/Coupled_cluster) est une méthode perturbative qui améliore l'approximation de Hartree-Fock.\n",
    "* Les clusters couplés simples et doubles (CCSD) incluent une excitation simple et double en plus de la fonction d'état HF.\n",
    "* La précision peut être améliorée en incluant les triples de manière perturbatrice (CCSD(T)).\n",
    "* Description non variationnelle, mais détaillée des états fondamentaux. \n",
    "* L'extension aux états excités est l'EOM-CCSD."
   ]
  },
  {
   "cell_type": "code",
   "execution_count": null,
   "metadata": {},
   "outputs": [],
   "source": [
    "from pyscf import cc\n",
    "\n",
    "start = time.time()\n",
    "mycc = cc.CCSD(myhf).run()\n",
    "mycc_time = time.time() - start + myhf_time"
   ]
  },
  {
   "cell_type": "code",
   "execution_count": null,
   "metadata": {},
   "outputs": [],
   "source": [
    "e_ccsd_t = mycc.ccsd_t()\n",
    "mycct_time = time.time() - start + myhf_time"
   ]
  },
  {
   "cell_type": "markdown",
   "metadata": {},
   "source": [
    "## Interaction de configuration complète - FCI\n",
    "\n",
    "* L'[interaction de configuration complète (FCI)](https://en.wikipedia.org/wiki/Full_configuration_interaction) est exacte pour un choix donné d'ensemble de base.\n",
    "* Le coût computationnel augmente de façon exponentielle avec la taille du système.\n",
    "* Également connue sous le nom de **diagonalisation exacte**."
   ]
  },
  {
   "cell_type": "code",
   "execution_count": null,
   "metadata": {},
   "outputs": [],
   "source": [
    "from pyscf import fci\n",
    "\n",
    "start = time.time()\n",
    "myfci = fci.FCI(myhf)\n",
    "myfci.kernel()\n",
    "myfci_time = time.time() - start + myhf_time"
   ]
  },
  {
   "cell_type": "markdown",
   "metadata": {},
   "source": [
    "## Synthèse des méthodes HF et post-HF\n",
    "\n",
    "Les données importantes sont enregistrées dans les objets de la méthode PYSCF, ce qui facilite l'analyse et la visualisation."
   ]
  },
  {
   "cell_type": "code",
   "execution_count": null,
   "metadata": {},
   "outputs": [],
   "source": [
    "# Collect data\n",
    "\n",
    "methods = [\"HF\", \"MP2\", \"CCSD\", \"CCSD(T)\", \"DFT\", \"FCI\"]\n",
    "energies = [myhf.e_tot, mymp2.e_tot, mycc.e_tot, mycc.e_tot + e_ccsd_t, myks.e_tot, myfci.e_tot]\n",
    "mf_times = [myhf_time, mymp2_time, mycc_time, mycct_time, myks_time, myfci_time]\n"
   ]
  },
  {
   "cell_type": "code",
   "execution_count": null,
   "metadata": {},
   "outputs": [],
   "source": [
    "# Create the results dataframe\n",
    "import pandas as pd\n",
    "\n",
    "df_Eies = pd.DataFrame({\"Energy\":energies, \"Time\":mf_times,\n",
    "                        \"Delta E(kcal/mol)\":abs(energies-myfci.e_tot)*627.5}, \n",
    "                        index = methods)\n",
    "\n",
    "df_Eies"
   ]
  },
  {
   "cell_type": "markdown",
   "metadata": {},
   "source": [
    "On note que les méthodes HF et MP2 produisent ici des différences d'énergie 86 et 5 kcal/mol respectivement, bien supérieure à [précision chimique](https://en.wikipedia.org/wiki/Computational_chemistry) (1 kcal/mol)."
   ]
  },
  {
   "cell_type": "code",
   "execution_count": null,
   "metadata": {},
   "outputs": [],
   "source": [
    "# Plotting\n",
    "import matplotlib.pyplot as plt\n",
    "\n",
    "# Create the matplotlib figure\n",
    "fig, ax = plt.subplots(figsize=(8,5))\n",
    "\n",
    "# Plot the energies\n",
    "ax.set_xticks(range(len(methods)), methods)\n",
    "ax.set_xlabel(\"Method\")\n",
    "ax.set_ylabel(\"Energy (Ha)\", color=\"b\")\n",
    "ax.scatter(range(len(methods)), energies, marker=\"o\", s=50, color=\"b\")\n",
    "ax.set_xlabel(\"Method\")\n",
    "\n",
    "# Plot the time to solution\n",
    "ax_time = ax.twinx()\n",
    "ax_time.scatter(range(len(methods)), mf_times, marker=\"s\", s=50, color=\"r\")\n",
    "ax_time.set_ylabel(\"Time to solution (s)\", color=\"r\", rotation=270, va=\"bottom\")\n",
    "\n",
    "# Show the graph\n",
    "plt.tick_params(axis=\"both\", direction=\"in\")\n",
    "plt.show()"
   ]
  },
  {
   "cell_type": "markdown",
   "metadata": {},
   "source": [
    "De ce qui précède, il apparaît que, pour un même ensemble de bases chimiques de dimension moyenne, de taille $N$,\n",
    "* en termes de **précision**, on a l’ordre suivant :\n",
    "\n",
    "HF < MP2 < CCSD < CCSD(T) < FCI\n",
    "\n",
    "* tn termes de **temps de calculs**, \n",
    "\n",
    "HF ($N^4$) < MP2 ($N^5$) < CCSD ($N^6$)  < CCSD(T) ($N^7$) < FCI ($N!$) "
   ]
  }
 ],
 "metadata": {
  "jupytext": {
   "formats": "ipynb,md"
  },
  "kernelspec": {
   "display_name": "qiskit-env",
   "language": "python",
   "name": "qiskit-env"
  },
  "language_info": {
   "codemirror_mode": {
    "name": "ipython",
    "version": 3
   },
   "file_extension": ".py",
   "mimetype": "text/x-python",
   "name": "python",
   "nbconvert_exporter": "python",
   "pygments_lexer": "ipython3",
   "version": "3.10.12"
  },
  "widgets": {
   "application/vnd.jupyter.widget-state+json": {
    "state": {},
    "version_major": 1,
    "version_minor": 0
   }
  }
 },
 "nbformat": 4,
 "nbformat_minor": 4
}
