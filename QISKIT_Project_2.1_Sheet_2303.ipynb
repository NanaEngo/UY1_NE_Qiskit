{
 "cells": [
  {
   "attachments": {},
   "cell_type": "markdown",
   "id": "e3ef3941-940a-41a9-b3b0-f3eb848dbbaf",
   "metadata": {},
   "source": [
    "# UE 4268 - QISKIT Project 2.1\n",
    "\n",
    "\n",
    "**`vos noms et prenoms`**, `matricule` et `email` \n",
    "\n",
    "\n",
    "Department of Physics - Faculty of Science - University of Yaoundé I\n",
    "\n",
    "`Nom du Laboratoire`\n",
    "\n",
    "`Date`"
   ]
  },
  {
   "cell_type": "code",
   "execution_count": null,
   "id": "30e7334c",
   "metadata": {
    "vscode": {
     "languageId": "python"
    }
   },
   "outputs": [],
   "source": [
    "# Insert your code here"
   ]
  },
  {
   "attachments": {},
   "cell_type": "markdown",
   "id": "77c02481-2ad1-4ced-aeb0-a3748bff70c4",
   "metadata": {},
   "source": [
    "## Projet 1.2 Rotation d'un qubit\n",
    "\n",
    "Le [tutoriel](\\url{https://qiskit.org/documentation/stable/0.33/tutorials/operators/02_gradients_framework.html}) sera mis à profit pour ce projet. \n",
    "\n",
    "La tâche à accomplir consiste à optimiser deux portes de rotation afin de basculer un seul qubit de l'état $|0\\rangle$ à l'état $|1\\rangle$.\n",
    "\n",
    "On souhaite implémenter le circuit quantique suivant :\n",
    "\n",
    "<p align=\"center\">\n",
    "<img src=\"./Graphics/rotation_circuit.png\" width=300 />\n",
    "</p>\n",
    "\n",
    "En décomposant cela étape par étape, on commence d'abord avec un qubit dans le\n",
    "état fondamental $|0\\rangle$, et on le fait le pivoter autour de l'axe des x en appliquant la porte\n",
    "\n",
    "\\begin{equation}\n",
    "\\mathtt{R}_x(\\phi_1) = e^{-i \\phi_1 \\sigma_x /2} =\n",
    "\\begin{bmatrix} \\cos \\frac{\\phi_1}{2} &  -i \\sin \\frac{\\phi_1}{2} \\\\\n",
    "-i \\sin \\frac{\\phi_1}{2} &  \\cos \\frac{\\phi_1}{2}\n",
    "\\end{bmatrix},\n",
    "\\end{equation}\n",
    "puis autour de l'axe y via la porte\n",
    "\\begin{equation}\n",
    "\\mathtt{R}_y(\\phi_2) = e^{-i \\phi_2 \\sigma_y/2} =\n",
    "\\begin{bmatrix} \\cos \\frac{\\phi_2}{2} &  - \\sin \\frac{\\phi_2}{2} \\\\\n",
    "\\sin \\frac{\\phi_2}{2} &  \\cos \\frac{\\phi_2}{2}\n",
    "\\end{bmatrix}.\n",
    "\\end{equation}\n",
    "Après ces opérations le qubit est maintenant dans l'état\n",
    "\n",
    "$$| \\psi \\rangle = \\mathtt{R}_y(\\phi_2) \\mathtt{R}_x(\\phi_1) | 0 \\rangle.$$\n",
    "\n",
    "Enfin, on mesure la valeur moyenne\n",
    "$\\langle \\psi \\mid \\mathtt{Z} \\mid \\psi \\rangle$ de l'opérateur Pauli-Z\n",
    "\n",
    "\\begin{equation}\n",
    "\\mathtt{Z} =\n",
    "\\begin{bmatrix} 1 &  0 \\\\\n",
    "0 & -1\n",
    "\\end{bmatrix}.\n",
    "\\end{equation}\n",
    "De ce qui précède, la valeur moyenne exacte vaut\n",
    "\n",
    "$$\\langle \\psi|\\mathtt{Z}|\\psi \\rangle\n",
    "= \\langle 0 |\\mathtt{R}_x(\\phi_1)^\\dagger \\mathtt{R}_y(\\phi_2)^\\dagger \\mathtt{Z}\\mathtt{R}_y(\\phi_2) R_x(\\phi_1) |0 \\rangle\n",
    "= \\cos(\\phi_1)\\cos(\\phi_2).$$\n",
    "\n",
    "Selon les paramètres du circuit $\\phi_1$ et $\\phi_2$, la sortie varie entre $1$ (lorsque\n",
    "$|\\psi\\rangle = |0\\rangle$) et $-1$ (lorsque\n",
    "$|\\psi\\rangle = |0\\rangle$).\n",
    "\n",
    "<img src=\"./Graphics/Bloch01.png\" width=300 />\n"
   ]
  },
  {
   "cell_type": "markdown",
   "id": "03c1559f-0fc0-472f-a808-6ffab1397abb",
   "metadata": {},
   "source": [
    "1. Importer les modules Qiskit nécessaires et numpy"
   ]
  },
  {
   "cell_type": "code",
   "execution_count": null,
   "id": "1a0a4eb9-426f-4634-bb57-13b16e89277a",
   "metadata": {
    "vscode": {
     "languageId": "python"
    }
   },
   "outputs": [],
   "source": [
    " # Insert modules here"
   ]
  },
  {
   "cell_type": "code",
   "execution_count": null,
   "id": "f455aec8-49e2-45c6-a020-6ac9544f012e",
   "metadata": {
    "vscode": {
     "languageId": "python"
    }
   },
   "outputs": [],
   "source": [
    "import qiskit.tools.jupyter\n",
    "%qiskit_version_table"
   ]
  }
 ],
 "metadata": {
  "kernelspec": {
   "display_name": "qiskit-env",
   "language": "python",
   "name": "qiskit-env"
  }
 },
 "nbformat": 4,
 "nbformat_minor": 5
}
