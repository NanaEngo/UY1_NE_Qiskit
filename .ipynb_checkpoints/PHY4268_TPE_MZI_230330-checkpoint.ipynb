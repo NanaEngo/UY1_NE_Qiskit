{
 "cells": [
  {
   "attachments": {},
   "cell_type": "markdown",
   "metadata": {},
   "source": [
    "# Mach-Zehnder Interferometer"
   ]
  },
  {
   "cell_type": "code",
   "execution_count": 1,
   "metadata": {},
   "outputs": [],
   "source": [
    "import latex2sympy2\n",
    "import flask"
   ]
  },
  {
   "attachments": {},
   "cell_type": "markdown",
   "metadata": {},
   "source": [
    "Ce tutoriel présente le *séparateur de faisceau* ou **Beam-Splitter** (BS), appliqué à la mise en œuvre d'une porte Hadamard et d'un déphaseur dans un interféromètre optique. Ces éléments optiques sont importants car n'importe quelle porte peut être implémentée simplement en utilisant des séparateurs de faisceau, des déphaseurs, des photodétecteurs et des sources de photons uniques, permettant le calcul  quantique universel, comme le montre le [protocole KLM](https://arxiv.org/pdf/quant-ph/0006088.pdf) introduit par Knill, Laflamme et Milburn. L'interféromètre optique offre un moyen très accessible d'analyser les portes et la *magie* de la superpostion des états quantiques exploités par l'informatique quantique. Les simulations peuvent être faites sur [QuVis](https://www.st-andrews.ac.uk/physics/quvis/simulations_html5/sims/Mach_Zehnder_PhaseShifter/Mach_Zehnder_PhaseShifter.html)\n",
    "\n",
    "Un séparateur de faisceau est un cristal qui divise un faisceau lumineux entrant $I_a = |E_a^{\\rm in}|^2$ et $I_b = |E_b^{\\rm in}|^2$ en deux faisceaux sortants d'intensités $I_c = |E_c^{\\rm out}|^2$ et $I_d = |E_d^{\\rm out}|^2$ , comme illustré à la figure ci-dessous.\n",
    "\n",
    "![BS et sa matrice](Graphics/BS1.png)\n",
    "\n",
    " Les champs électriques entrants $E_a^{\\rm in}$ et $E_b^{\\rm in}$ correspondent à deux faisceaux différents, ou deux modes d'un faisceau (par exemple, deux états de polarisation).\n"
   ]
  },
  {
   "attachments": {},
   "cell_type": "markdown",
   "metadata": {},
   "source": [
    "## Matrices des BS\n",
    "\n",
    "Le faisceau sortant $E_c^{\\rm out}$ résulte de la réflexion partielle du faisceau incident $E_a^{\\rm in}$ et de la transmission partielle du faisceau $E_b^{\\rm in}$, avec des coefficients de réflexion et de transmission donnés par les éléments de matrice de diffusion $S_{ac} = Re^{i\\phi_{ac}}$ et $S_{bc} = Te^{i\\phi_{bc}}$, respectivement. De manière analogue, le faisceau sortant $E_d^{\\rm out}$ résulte de la réflexion partielle du faisceau incident $E_b^{\\rm in}$ et de la transmission partielle du faisceau $E_a^{\\rm in}$, avec des coefficients de réflexion et de transmission donnés par les éléments de matrice de diffusion $S_{bd} = Re^{i\\phi_{bd}}$ et $S_{ad} = Te^{i\\phi_{ad}}$, respectivement. La conservation de l'énergie, c'est-à-dire la conservation des photons,\n",
    " $$I_a + I_b = I_c + I_d, $$\n",
    "nécessite que \n",
    "\\begin{align}\n",
    "&R^2 + T^2 = 1 &&\\text{et} & \\phi_{ad} − \\phi_{bd} + \\phi_{bc} − \\phi_{ac} = \\pi.\n",
    "\\end{align}\n",
    "Un exemple simple d'une matrice de diffusion qui divise les faisceaux entrants 50-50 dans chacune des directions sortantes possibles avec conservation de l'énergie est la matrice où $R = T = \\tfrac{1}{\\sqrt 2}$, avec $\\phi_{bd} = -\\pi$ et $\\phi_{ad} = \\phi_{bc} = \\phi_{ac} = 0$, c'est-à-dire la matrice d'Hadamard\n",
    "$$ \\mathtt{BS}_1 = \\frac{1}{\\sqrt 2}\\begin{pmatrix} 1 & 1\\\\ 1 & -1\\end{pmatrix}.$$\n",
    "\n",
    "Une autre matrice $S$ qui divise le faisceau incident en autant de directions sortantes possibles avec conservation de l'énergie est la matrice où $R = T = \\tfrac{1}{\\sqrt 2}$, avec $\\phi_{ac} = -\\pi$ et $\\phi_{ad} = \\phi_{bc} = \\phi_{bd} = 0$, c'est-à-dire la matrice \n",
    "$$ \\mathtt{BS}_2 = \\frac{1}{\\sqrt 2}\\begin{pmatrix} -1 & 1\\\\ 1 & 1\\end{pmatrix}.$$"
   ]
  },
  {
   "attachments": {},
   "cell_type": "markdown",
   "metadata": {},
   "source": [
    "## Action du BS sur le faisceau inférieur\n",
    "\n",
    "![Action d'un BS1](Graphics/BS2.png)\n",
    "\n",
    "La figure ci-dessus illustre le cas où le faisceau incident est $\\begin{pmatrix} E_a^{\\rm in} & E_b^{\\rm in}\\end{pmatrix} = \\begin{pmatrix} 0 & 1 \\end{pmatrix}$. Après l'action du $\\mathtt{BS}_1$, on a en sortie\n",
    "$$  \\frac{1}{\\sqrt 2}\\begin{pmatrix} 1 & 1\\\\ 1 & -1\\end{pmatrix} \\begin{pmatrix} 0 \\\\ 1 \\end{pmatrix}\n",
    "= \\frac{1}{\\sqrt 2}\\begin{pmatrix} 1 \\\\ -1\\end{pmatrix} \\equiv \\frac{1}{\\sqrt 2}\\begin{pmatrix} 1 \\\\ e^{i\\pi}\\end{pmatrix} .$$\n",
    "\n",
    "Autrement, on a $50\\%$ pour chaque faisceau sortant et un phase relative bien définie."
   ]
  },
  {
   "attachments": {},
   "cell_type": "markdown",
   "metadata": {},
   "source": [
    "## Expérience IMZ1 avec deux BS identiques\n",
    "\n",
    "Les phases relatives des faisceaux sortants sont importantes car elles déterminent les phénomènes d'interférence qui régissent le comportement de l'état sortant, comme par exemple, lorsque les faisceaux traversent un autre BS1, comme le montre la figure ci-dessous.\n",
    "\n",
    "![Action de 2 BS1](Graphics/BS3.png)\n",
    "\n",
    "En effet, le deuxième $\\mathtt{BS}_1$ va transformer les faisceaux sortants du premier $\\mathtt{BS}_1$ de la facon suivante:\n",
    "\n",
    "$$  \\frac{1}{\\sqrt 2}\\begin{pmatrix} 1 & 1\\\\ 1 & -1\\end{pmatrix} \\frac{1}{\\sqrt 2}\\begin{pmatrix} 1 \\\\ -1 \\end{pmatrix}\n",
    "= \\begin{pmatrix} 0 \\\\ 1\\end{pmatrix} .$$\n",
    "\n",
    "On obtient un faisceau indentique au faisceau incident initial en raison d'une interférence constructive complète dans le mode inférieur et aucune intensité dans le mode supérieur (interférence destructive); plutôt que d'obtenir une distribution 50-50 comme on pourrait s'y attendre en l'absence d'interférence. C'est le résultat attendu puisque **la matrice d'Hadamard est son propre inverse** ($\\mathtt{H}^2=\\mathbb I$)."
   ]
  },
  {
   "attachments": {},
   "cell_type": "markdown",
   "metadata": {},
   "source": [
    "## Expérience IMZ2 avec deux BS différents\n",
    "\n",
    "Le changement du deuxième $\\mathtt{BS}_1$ par $\\mathtt{BS}_2$, comme le montre la figure ci-dessous fournit un autre exemple qui illustre le rôle essentiel des phases.\n",
    "\n",
    "![Action de 2 BS différents](Graphics/BS4.png)\n",
    "\n",
    "\n",
    "$$  \\frac{1}{\\sqrt 2}\\begin{pmatrix} -1 & 1\\\\ 1 & 1\\end{pmatrix} \\frac{1}{\\sqrt 2}\\begin{pmatrix} 1\\\\-1 \\end{pmatrix}\n",
    "= -\\begin{pmatrix} 1 \\\\ 0\\end{pmatrix} .$$\n",
    "\n",
    " Ici, nous obtenons une interférence constructive complète en c, et aucune intensité en d. \n",
    " "
   ]
  },
  {
   "attachments": {},
   "cell_type": "markdown",
   "metadata": {},
   "source": [
    "## Expérience IMZ2 avec deux BS différents et un déphaseur\n",
    "\n",
    "Les deux expériences précédentes montrent que les séparateurs de faisceau (BS) peuvent être utilisés pour générer une variété d'états. En fait, lorsqu'ils sont combinés avec des **déphaseurs**, nous pouvons générer des états arbitraires. \n",
    "\n",
    "Mais d'abord, montrons ce qui arrive à l'intensité du faisceau d si nous bloquons l'une des branches, juste avant de traverser le deuxième séparateur de faisceau, comme illustré à la figure ci-dessous:\n",
    "\n",
    "![Action de 2 BS et déphaseur](Graphics/BS5.png)\n",
    "\n",
    "Le déphaseur absorbe la branche inférieur de $ \\tfrac{1}{\\sqrt 2}\\begin{pmatrix} 1 \\\\ -1 \\end{pmatrix}$ et génère l'état $ \\frac{1}{\\sqrt 2}\\begin{pmatrix} 1 \\\\ 0 \\end{pmatrix}$ de sorte qu'on a à la sortie de $\\mathtt{BS}_2$:\n",
    "\n",
    "$$  \\frac{1}{\\sqrt 2}\\begin{pmatrix} -1 & 1\\\\ 1 & 1\\end{pmatrix} \\frac{1}{\\sqrt 2}\\begin{pmatrix} 1 \\\\ 0 \\end{pmatrix}\n",
    "= \\frac{1}{\\sqrt 2}\\begin{pmatrix} -1 \\\\ 1\\end{pmatrix} .$$\n",
    "\n",
    "Remarquablement, **nous avons augmenté l'intensité du faisceau d en bloquant en fait l'une des branches**. "
   ]
  },
  {
   "attachments": {},
   "cell_type": "markdown",
   "metadata": {},
   "source": [
    "## Test Elitzur-Vaidman\n",
    "\n",
    "L'effet remarquable du bloc, responsable de l'augmentation de l'intensité dans le canal d, est la base de l'expérience de pensée Elitzur-Vaidman. Considérez une précieuse et fragile molécule qui est détruite lorsqu'elle absorbe un photon (et absorbe les photons avec $100\\%$ de rendement quantique). En revanche, un état défectueux de la molécule n'absorbe pas les photons et n'est pas détruit. Ainsi, si la molécule est défectueuse et se positionne comme le bloc (déphaseur) de la figure précédente, on obtient les intensités de la figure sans déphaseur, c'est-à-dire qu'aucun photon n'est jamais détecté dans le canal d. Lorsque la molécule est bonne et placée comme le bloc de la figure précédente, il est détruit $50\\%$ des fois, puisqu'un photon de b n'a que $50\\%$ probabilité de toucher le bloc. S'il n'est pas détruit, c'est que le photon est passé par l'autre branche après $\\mathtt{BS}_1$. Dans ce cas, la probabilité de détecter un photon dans le canal d est égale à $\\tfrac14$. Donc, si nous détectons un photon dans le canal d, nous savons que la molécule est bonne, car rapporté par un photon qui n'a jamais interagi avec la molécule !"
   ]
  },
  {
   "attachments": {},
   "cell_type": "markdown",
   "metadata": {},
   "source": [
    "## Phase-shift\n",
    "\n",
    "Une autre expérience intéressante est le déphase ou phase-shift introduite par une lame de phase sur l'une des branches de l'interféromètre. \n",
    "\n",
    "![Phase-shift](Graphics/BS7.png)\n",
    "\n",
    "Cette lame de phase est décrite par la porte $Z(\\phi)=\\begin{pmatrix}1 & 0 \\\\ 0 & e^{i\\phi}\\end{pmatrix}$. Le phase-shift peut être mesuré en comptant le nombre de photons détecté en $c$ et en $d$, i.e., en mésurant l'intensité relative des faisceaux $c$ et $d$. Matriciellement, on a \n",
    "$$ \\frac{1}{\\sqrt 2}\\begin{pmatrix} -1 & 1\\\\ 1 & 1\\end{pmatrix} \n",
    "\\begin{pmatrix}1 & 0 \\\\ 0 & e^{i\\phi}\\end{pmatrix}\n",
    "\\frac{1}{\\sqrt 2}\\begin{pmatrix} 1 & 1\\\\ 1 & -1\\end{pmatrix} \n",
    "\\begin{pmatrix} 0 \\\\ 1 \\end{pmatrix}\n",
    "= \\frac 12 \\begin{pmatrix} -e^{i\\phi} -1 \\\\ -e^{i\\phi} +1 \\end{pmatrix}.\n",
    "$$\n",
    "Par suite, le rapport\n",
    "$$\\frac{I_c}{I_d} = \\frac{1+\\cos\\phi}{1-\\cos\\phi},$$\n",
    "est une fonction du déphase $\\phi$.\n",
    "\n",
    "Cette méthode de mesure du déphasage introduit sur un faisceau lumineux par un échantillon, déterminée en mélangeant le signal avec un faisceau de référence provenant de la même source que le faisceau qui a traversé l'échantillon, est appelée **détection homodyne optique**. Il a pour principal avantage d'utiliser le faisceau de référence (ce que l'on appelle l'**oscillateur local**) pour compenser les éventuelles fluctuations de la source lumineuse."
   ]
  },
  {
   "attachments": {},
   "cell_type": "markdown",
   "metadata": {},
   "source": [
    "## Effet Hang-Ou-Mandel (HOM)\n",
    "\n",
    "Cet effet est une autre manifestation d'interférence au niveau d'un séparateur de faisceau démontré en 1987 par trois physiciens de l'Université de Rochester : [Chung Ki Hong, Zhe Yu Ou et Léonard Mandel](http://ursula.chem.yale.edu/~batista/classes/v572/HongOuMandel.pdf). L'expérience montre que l'incidence de deux photons, l'une de a et l'autre de b comme décrit par l'état incident $|\\psi^{\\rm in}\\rangle=\\frac{1}{\\sqrt 2}(|01\\rangle +|10\\rangle)$ produit soit les deux photons en c, soit les deux en d, avec une probabilité de 50-50, selon la l'état intriqué de sortie $|\\psi^{\\rm out}\\rangle=\\frac{1}{\\sqrt 2}(|00\\rangle -|11\\rangle)$. Jamais un photon ne sort de c et l'autre de d.\n",
    "\n",
    "![Effet HOM](Graphics/BS6.png)\n",
    "\n",
    "Pour comprendre ce résultat, considérons qu'initialement, on a l'etat symétrique $|\\psi^{\\rm in}\\rangle=\\frac{1}{\\sqrt 2}(|01\\rangle +|10\\rangle)$, où un photon est dans l'état $a$ (i.e., $|1\\rangle$) et l'autre dans l'état $b$ (i.e., $|0\\rangle$). En appliquant $\\mathtt{H}^2=\\mathtt{H}\\otimes\\mathtt{H}$ à $|\\psi^{\\rm in}\\rangle$, on a\n",
    "$$ |\\psi^{\\rm out}\\rangle = \\mathtt{H}\\otimes\\mathtt{H}\\frac{1}{\\sqrt 2}(|01\\rangle +|10\\rangle) = \n",
    "\\frac{1}{2^{3/2}}\\Big((|0\\rangle+|1\\rangle)(|0\\rangle-|1\\rangle) + (|0\\rangle-|1\\rangle)(|0\\rangle+|1\\rangle)\\Big)\n",
    "=\\frac{1}{\\sqrt 2}(|00\\rangle -|11\\rangle) .$$\n",
    "\n",
    "Par conséquent,\n",
    "\\begin{align}\n",
    "&|\\langle 01|\\psi^{\\rm in}\\rangle|^2 = |\\langle 10|\\psi^{\\rm in}\\rangle|^2 = 0, \n",
    "&|\\langle 00|\\psi^{\\rm in}\\rangle|^2 = |\\langle 11|\\psi^{\\rm in}\\rangle|^2 = \\frac12.\n",
    "\\end{align}"
   ]
  }
 ],
 "metadata": {
  "author": "PHY3025 - TPE 3 INTRODUCTION MECANIQUE QUANTIQUE",
  "kernelspec": {
   "display_name": "base",
   "language": "python",
   "name": "python3"
  },
  "language_info": {
   "codemirror_mode": {
    "name": "ipython",
    "version": 3
   },
   "file_extension": ".py",
   "mimetype": "text/x-python",
   "name": "python",
   "nbconvert_exporter": "python",
   "pygments_lexer": "ipython3",
   "version": "3.10.9"
  },
  "latex_envs": {
   "LaTeX_envs_menu_present": true,
   "autoclose": false,
   "autocomplete": true,
   "bibliofile": "biblio.bib",
   "cite_by": "apalike",
   "current_citInitial": 1,
   "eqLabelWithNumbers": true,
   "eqNumInitial": 1,
   "hotkeys": {
    "equation": "Ctrl-E",
    "itemize": "Ctrl-I"
   },
   "labels_anchors": false,
   "latex_user_defs": false,
   "report_style_numbering": false,
   "user_envs_cfg": false
  },
  "nbTranslate": {
   "displayLangs": [
    "*"
   ],
   "hotkey": "alt-t",
   "langInMainMenu": true,
   "sourceLang": "en",
   "targetLang": "fr",
   "useGoogleTranslate": true
  },
  "toc": {
   "base_numbering": 1,
   "nav_menu": {},
   "number_sections": true,
   "sideBar": true,
   "skip_h1_title": false,
   "title_cell": "Table of Contents",
   "title_sidebar": "Contents",
   "toc_cell": false,
   "toc_position": {},
   "toc_section_display": true,
   "toc_window_display": false
  }
 },
 "nbformat": 4,
 "nbformat_minor": 4
}
