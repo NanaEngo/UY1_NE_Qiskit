{
 "cells": [
  {
   "cell_type": "code",
   "execution_count": 25,
   "id": "2d3c011f-e480-44bd-bfb8-b8d64c38a223",
   "metadata": {},
   "outputs": [],
   "source": [
    "from sympy.physics.quantum.qubit import Qubit, QubitBra, qubit_to_matrix"
   ]
  },
  {
   "cell_type": "markdown",
   "id": "2d9b6446-b977-4507-89de-390b484485bc",
   "metadata": {},
   "source": [
    "1. Representation matricielle"
   ]
  },
  {
   "cell_type": "code",
   "execution_count": 22,
   "id": "8ab426d8-2daa-4029-8acd-dff8becf3add",
   "metadata": {},
   "outputs": [
    {
     "data": {
      "text/latex": [
       "$\\displaystyle {\\left|0\\right\\rangle }{\\left\\langle 1\\right|} + {\\left|1\\right\\rangle }{\\left\\langle 0\\right|}$"
      ],
      "text/plain": [
       "|0><1| + |1><0|"
      ]
     },
     "execution_count": 22,
     "metadata": {},
     "output_type": "execute_result"
    }
   ],
   "source": [
    "X = Qubit(0)*QubitBra(1) + Qubit(1)*QubitBra(0)\n",
    "X"
   ]
  },
  {
   "cell_type": "code",
   "execution_count": 36,
   "id": "4ff6ac33-b801-4fd8-bd92-acee6310e388",
   "metadata": {},
   "outputs": [
    {
     "data": {
      "text/latex": [
       "$\\displaystyle \\left[\\begin{matrix}0 & 1\\\\1 & 0\\end{matrix}\\right]$"
      ],
      "text/plain": [
       "Matrix([\n",
       "[0, 1],\n",
       "[1, 0]])"
      ]
     },
     "execution_count": 36,
     "metadata": {},
     "output_type": "execute_result"
    }
   ],
   "source": [
    "MX = qubit_to_matrix(X, format='sympy')\n",
    "MX"
   ]
  },
  {
   "cell_type": "code",
   "execution_count": 23,
   "id": "07a97a9d-0819-4ab1-9637-faf2f8364e7c",
   "metadata": {},
   "outputs": [
    {
     "data": {
      "text/latex": [
       "$\\displaystyle {\\left|0\\right\\rangle }{\\left\\langle 0\\right|} - {\\left|1\\right\\rangle }{\\left\\langle 1\\right|}$"
      ],
      "text/plain": [
       "|0><0| - |1><1|"
      ]
     },
     "execution_count": 23,
     "metadata": {},
     "output_type": "execute_result"
    }
   ],
   "source": [
    "Z = Qubit(0)*QubitBra(0) - Qubit(1)*QubitBra(1)\n",
    "Z"
   ]
  },
  {
   "cell_type": "code",
   "execution_count": 37,
   "id": "f862ad63-ab5a-4e37-9cbd-e09715d8aba3",
   "metadata": {},
   "outputs": [
    {
     "data": {
      "text/latex": [
       "$\\displaystyle \\left[\\begin{matrix}1 & 0\\\\0 & -1\\end{matrix}\\right]$"
      ],
      "text/plain": [
       "Matrix([\n",
       "[1,  0],\n",
       "[0, -1]])"
      ]
     },
     "execution_count": 37,
     "metadata": {},
     "output_type": "execute_result"
    }
   ],
   "source": [
    "MZ = qubit_to_matrix(Z, format='sympy')\n",
    "MZ"
   ]
  },
  {
   "cell_type": "code",
   "execution_count": 32,
   "id": "3c80c032-5dce-4b8c-9bbe-4e3ba4db9935",
   "metadata": {},
   "outputs": [
    {
     "data": {
      "text/latex": [
       "$\\displaystyle 0.5 \\left({\\left|0\\right\\rangle }{\\left\\langle 0\\right|} + {\\left|1\\right\\rangle }{\\left\\langle 1\\right|}\\right)$"
      ],
      "text/plain": [
       "0.5*(|0><0| + |1><1|)"
      ]
     },
     "execution_count": 32,
     "metadata": {},
     "output_type": "execute_result"
    }
   ],
   "source": [
    "R2 = 1/2*(Qubit(0)*QubitBra(0) + Qubit(1)*QubitBra(1))\n",
    "R2"
   ]
  },
  {
   "cell_type": "code",
   "execution_count": 38,
   "id": "284a8223-8db6-4ed8-8aa2-53ee0a7aba27",
   "metadata": {},
   "outputs": [
    {
     "data": {
      "text/latex": [
       "$\\displaystyle \\left[\\begin{matrix}0.5 & 0\\\\0 & 0.5\\end{matrix}\\right]$"
      ],
      "text/plain": [
       "Matrix([\n",
       "[0.5,   0],\n",
       "[  0, 0.5]])"
      ]
     },
     "execution_count": 38,
     "metadata": {},
     "output_type": "execute_result"
    }
   ],
   "source": [
    "MR2 = qubit_to_matrix(R2, format='sympy')\n",
    "MR2"
   ]
  },
  {
   "cell_type": "code",
   "execution_count": 33,
   "id": "c24eb7f4-4c78-491f-beb4-bf015fd9ed47",
   "metadata": {},
   "outputs": [
    {
     "data": {
      "text/latex": [
       "$\\displaystyle 0.5 \\left({\\left|0\\right\\rangle }{\\left\\langle 0\\right|} + {\\left|1\\right\\rangle }{\\left\\langle 1\\right|}\\right) + 0.5 \\left({\\left|0\\right\\rangle }{\\left\\langle 1\\right|} + {\\left|1\\right\\rangle }{\\left\\langle 0\\right|}\\right)$"
      ],
      "text/plain": [
       "0.5*(|0><0| + |1><1|) + 0.5*(|0><1| + |1><0|)"
      ]
     },
     "execution_count": 33,
     "metadata": {},
     "output_type": "execute_result"
    }
   ],
   "source": [
    "R1 = R2 + 1/2*X\n",
    "R1"
   ]
  },
  {
   "cell_type": "code",
   "execution_count": 39,
   "id": "9325482b-6148-48a2-82f9-1894f445909b",
   "metadata": {},
   "outputs": [
    {
     "data": {
      "text/latex": [
       "$\\displaystyle \\left[\\begin{matrix}0.5 & 0.5\\\\0.5 & 0.5\\end{matrix}\\right]$"
      ],
      "text/plain": [
       "Matrix([\n",
       "[0.5, 0.5],\n",
       "[0.5, 0.5]])"
      ]
     },
     "execution_count": 39,
     "metadata": {},
     "output_type": "execute_result"
    }
   ],
   "source": [
    "MR1 = qubit_to_matrix(R1, format='sympy')\n",
    "MR1"
   ]
  },
  {
   "cell_type": "markdown",
   "id": "d9a80974-804f-4b18-9c56-0f6f1270cad2",
   "metadata": {},
   "source": [
    "2. Pureté quantique"
   ]
  },
  {
   "cell_type": "code",
   "execution_count": 41,
   "id": "e8506bd5-c44c-4381-bdc6-a84819273ccc",
   "metadata": {},
   "outputs": [
    {
     "data": {
      "text/latex": [
       "$\\displaystyle 1.0$"
      ],
      "text/plain": [
       "1.00000000000000"
      ]
     },
     "execution_count": 41,
     "metadata": {},
     "output_type": "execute_result"
    }
   ],
   "source": [
    "(MR1*MR1).trace()"
   ]
  },
  {
   "cell_type": "markdown",
   "id": "bbcbde04-582c-44a7-ba20-892af5894897",
   "metadata": {},
   "source": [
    "* $\\rho_1$ est un état pure ou un superposition cohérente"
   ]
  },
  {
   "cell_type": "code",
   "execution_count": 43,
   "id": "5d8f5a9d-12c5-4a47-8090-9c2c52eb950d",
   "metadata": {},
   "outputs": [
    {
     "data": {
      "text/latex": [
       "$\\displaystyle 0.5$"
      ],
      "text/plain": [
       "0.500000000000000"
      ]
     },
     "execution_count": 43,
     "metadata": {},
     "output_type": "execute_result"
    }
   ],
   "source": [
    "(MR2*MR2).trace()"
   ]
  },
  {
   "cell_type": "markdown",
   "id": "9b907a88-949a-4004-9bff-8a167aaf6804",
   "metadata": {},
   "source": [
    "* $\\rho_2$ est un état mélange statistique ou un mélange incohérente"
   ]
  },
  {
   "cell_type": "markdown",
   "id": "25daef7c-18e9-445a-8c37-9698ab88906c",
   "metadata": {},
   "source": [
    "3. Les composantes du vecteur de Bloch de $\\rho_1$ et $\\rho_2$."
   ]
  },
  {
   "cell_type": "markdown",
   "id": "3bac49b1-70bb-4d0c-b522-f206492c9580",
   "metadata": {},
   "source": [
    "* Les composantes du vecteur de Bloch de $\\rho_1$."
   ]
  },
  {
   "cell_type": "code",
   "execution_count": 45,
   "id": "6c6ba01b-45bd-45b9-90d2-b7bb6c04ee88",
   "metadata": {},
   "outputs": [
    {
     "data": {
      "text/plain": [
       "(1.00000000000000, 0)"
      ]
     },
     "execution_count": 45,
     "metadata": {},
     "output_type": "execute_result"
    }
   ],
   "source": [
    "bx1, bz1 = (MX*MR1).trace(), (MZ*MR1).trace()\n",
    "bx1, bz1"
   ]
  },
  {
   "cell_type": "markdown",
   "id": "483fcfde-5606-4c69-898f-04bf189e042a",
   "metadata": {},
   "source": [
    "* Les composantes du vecteur de Bloch de $\\rho_2$."
   ]
  },
  {
   "cell_type": "code",
   "execution_count": 46,
   "id": "09f75cee-d197-4cea-ad5d-d2af5eee1056",
   "metadata": {},
   "outputs": [
    {
     "data": {
      "text/plain": [
       "(0, 0)"
      ]
     },
     "execution_count": 46,
     "metadata": {},
     "output_type": "execute_result"
    }
   ],
   "source": [
    "bx2, bz2 = (MX*MR2).trace(), (MZ*MR2).trace()\n",
    "bx2, bz2"
   ]
  }
 ],
 "metadata": {
  "kernelspec": {
   "display_name": "Python 3 (ipykernel)",
   "language": "python",
   "name": "python3"
  },
  "language_info": {
   "codemirror_mode": {
    "name": "ipython",
    "version": 3
   },
   "file_extension": ".py",
   "mimetype": "text/x-python",
   "name": "python",
   "nbconvert_exporter": "python",
   "pygments_lexer": "ipython3",
   "version": "3.8.16"
  }
 },
 "nbformat": 4,
 "nbformat_minor": 5
}
