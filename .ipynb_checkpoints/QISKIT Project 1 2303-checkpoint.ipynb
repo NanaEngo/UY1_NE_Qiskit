{
 "cells": [
  {
   "cell_type": "markdown",
   "id": "e3ef3941-940a-41a9-b3b0-f3eb848dbbaf",
   "metadata": {},
   "source": [
    "# UE 4268 - QISKIT Project 1\n",
    "\n",
    "\n",
    "**`vos noms et prenoms`**, `matricule` et `email` \n",
    "\n",
    "\n",
    "Department of Physics - Faculty of Science - University of Yaoundé I\n",
    "\n",
    "`Nom du Laboratoire`\n",
    "\n",
    "`Date`"
   ]
  },
  {
   "cell_type": "markdown",
   "id": "acb86ba9-39fd-44a6-926f-f07f297f7f09",
   "metadata": {},
   "source": [
    "## Projet 1.1 Représentation matricielle dans la base de Pauli \n",
    "\n",
    "1. Calculer manuellement\n",
    "\\begin{equation}\n",
    "\\rho = 4\\mathbb{I}\\otimes\\mathbb{I} + 2\\mathbb{I}\\otimes\\mathtt{X} \n",
    "+ 4\\mathbb{I}\\otimes\\mathtt{Z} - \\mathtt{X}\\otimes\\mathtt{X}\n",
    "+ 5\\mathtt{Y}\\otimes\\mathtt{Y} + 2\\mathtt{Z}\\otimes\\mathtt{X},\n",
    "\\end{equation}\n",
    "\n",
    "2. Utilisez les fonctions appropriées de Qiskit pour obtenir la représentation matricielle de $\\rho$ et avec visualisation en LaTeX. Quelle est la dimension de $\\rho$?"
   ]
  },
  {
   "cell_type": "markdown",
   "id": "1f56f563-4ca5-4161-bd1b-cb9f5976a132",
   "metadata": {},
   "source": [
    "## Projet 1.2  Décomposition de Pauli d'une matrice\n",
    "\n",
    "1. Montrer manuellement que toute matrice $M$, en prenant le cas où $\\dim_M=2$ peut s'écrire sous la forme (voir la sous-section **4.1.0.1 Décomposition de Pauli**)\n",
    "\\begin{equation}\n",
    "\\mathtt{M}=\\sum_j^{N_k}w_j\\bigg(\\bigotimes_i^{M-1}\\X_i^j\\bigg),\n",
    "\\end{equation}\n",
    "\n",
    "2. Utilisez la classe 'SparsePauliOp' du module 'module qiskit.quantum_info' pour trouver les coefficients $w_j$ de la matrice\n",
    "$$ \\begin{bmatrix}8 & 4 & 0 & -6  \\\\ 4 & 0 & 4 & 0  \\\\ 0 & 4 & 8 & 0  \\\\ -6 & 0 & 0 & 0  \\end{bmatrix}.$$\n"
   ]
  },
  {
   "cell_type": "markdown",
   "id": "458b41cb-2975-45e1-b076-c13135732099",
   "metadata": {},
   "source": [
    "<h2 id=\"Projet-1.3-Simulation-de-la-d&eacute;tection-interf&eacute;rom&eacute;trique-d'une-superposition-quantique-d'&eacute;tats-d'&eacute;nantiom&egrave;res-gauches-et-droits\">Projet 1.3 Simulation de la d&eacute;tection interf&eacute;rom&eacute;trique d'une superposition quantique d'&eacute;tats d'&eacute;nantiom&egrave;res gauches et droits</h2>\n",
    "<p>En chimie, les mol&eacute;cules ou les ions qui sont des images miroir les uns des autres sont appel&eacute;s <strong>&eacute;nantiom&egrave;res</strong> ou <strong>isom&egrave;res optiques</strong>. Si ces images ne sont pas superposables, on les appelle des <strong>mol&eacute;cules chirales</strong>. Elles se distinguent par leur capacit&eacute; &agrave; faire tourner la lumi&egrave;re polaris&eacute;e plane vers la gauche ou la droite. Il existe une <a href=\"https://journals.aps.org/prx/pdf/10.1103/PhysRevX.11.031056\" target=\"_blank\" rel=\"noopener\">exp&eacute;rience</a> permettant de pr&eacute;parer une superposition quantique d'&eacute;tats gauches et droits d'&eacute;nantiom&egrave;res et de r&eacute;aliser une d&eacute;tection interf&eacute;rom&eacute;trique des forces d&eacute;pendant de la chiralit&eacute;.</p>\n",
    "<p>On rappelle qu'un calcul quantique typique comprend les &eacute;tapes suivantes :</p>\n",
    "<ol>\n",
    "<li>\n",
    "<p>Pr&eacute;parer une superposition uniforme de tous les &eacute;tats de base possibles. Un registre de qubits initialis&eacute; dans l'&eacute;tat $\\ket{0}$ est plac&eacute; dans une superposition uniforme de tous les &eacute;tats de base possibles en appliquant simplement des portes de Walsh-Hadamard &agrave; chaque entr&eacute;e.</p>\n",
    "</li>\n",
    "<li>\n",
    "<p>Orchestrer l'interf&eacute;rence et l'intrication quantiques. Un algorithme quantique doit &ecirc;tre con&ccedil;u de telle sorte qu'&agrave; la fin d'un calcul, seules les amplitudes relatives et les phases des &eacute;tats quantiques sont conserv&eacute;es.</p>\n",
    "</li>\n",
    "<li>\n",
    "<p>R&eacute;p&eacute;ter les mesures plusieurs fois. Les mesures sont r&eacute;p&eacute;t&eacute;es des centaines ou des milliers de fois afin d'obtenir une distribution des r&eacute;sultats de mesure possibles. C'est la diff&eacute;rence essentielle entre le calcul quantique et le calcul classique.</p>\n",
    "</li>\n",
    "</ol>\n",
    "<p>Nous voulons concevoir, avec la biblioth&egrave;que Qiskit, un circuit quantique inspir&eacute; de l'interf&eacute;rom&egrave;tre impliquant des &eacute;nantiom&egrave;res. Nous repr&eacute;sentons un seul &eacute;nantiom&egrave;re avec deux qubits. Nous codons dans la direction de propagation du qubit $\\ket{q_1}$ la propagation horizontale comme l'&eacute;tat $\\ket{0}$ et la propagation verticale comme l'&eacute;tat $\\ket{1}$. Nous simulons</p>\n",
    "<p>* un miroir par la porte $\\X$</p>\n",
    "<p>* le diviseur de faisceau ou Beam-Splitter par $\\mathtt{BS}=\\tfrac{1}{\\sqrt{2}}(\\I+i\\X)=\\tfrac{1}{\\sqrt{2}}\\begin{pmatrix} 1 &amp; i\\\\i &amp; 1\\end{pmatrix}$</p>\n",
    "<p>* le diviseur de faisceau polarisant ou polarizing beam splitter par </p>"
   ]
  },
  {
   "cell_type": "markdown",
   "id": "77c02481-2ad1-4ced-aeb0-a3748bff70c4",
   "metadata": {},
   "source": [
    "## Projet 1.3 Rotation d'un qubit\n",
    "\n",
    "Le tutoriel \\url{https://qiskit.org/documentation/stable/0.33/tutorials/operators/02_gradients_framework.html} sera mis à profit pour ce projet. \n",
    "\n",
    "La tâche à accomplir consiste à optimiser deux portes de rotation afin de basculer un seul qubit de l'état $|0\\rangle$ à l'état $|1\\rangle$.\n",
    "\n",
    "On souhaite implémenter le circuit quantique suivant :\n",
    "\n",
    "<img src=\"./Graphics/rotation_circuit.png\" width=300 />\n",
    "\n",
    "En décomposant cela étape par étape, on commence d'abord avec un qubit dans le\n",
    "état fondamental $|0\\rangle$, et on le fait le pivoter autour de l'axe des x en appliquant la porte\n",
    "\n",
    "\\begin{equation}\n",
    "\\mathtt{R}_x(\\phi_1) = e^{-i \\phi_1 \\sigma_x /2} =\n",
    "\\begin{bmatrix} \\cos \\frac{\\phi_1}{2} &  -i \\sin \\frac{\\phi_1}{2} \\\\\n",
    "-i \\sin \\frac{\\phi_1}{2} &  \\cos \\frac{\\phi_1}{2}\n",
    "\\end{bmatrix},\n",
    "\\end{equation}\n",
    "puis autour de l'axe y via la porte\n",
    "\\begin{equation}\n",
    "\\mathtt{R}_y(\\phi_2) = e^{-i \\phi_2 \\sigma_y/2} =\n",
    "\\begin{bmatrix} \\cos \\frac{\\phi_2}{2} &  - \\sin \\frac{\\phi_2}{2} \\\\\n",
    "\\sin \\frac{\\phi_2}{2} &  \\cos \\frac{\\phi_2}{2}\n",
    "\\end{bmatrix}.\n",
    "\\end{equation}\n",
    "Après ces opérations le qubit est maintenant dans l'état\n",
    "\n",
    "$$| \\psi \\rangle = \\mathtt{R}_y(\\phi_2) \\mathtt{R}_x(\\phi_1) | 0 \\rangle.$$\n",
    "\n",
    "Enfin, on mesure la valeur moyenne\n",
    "$\\langle \\psi \\mid \\mathtt{Z} \\mid \\psi \\rangle$ de l'opérateur Pauli-Z\n",
    "\n",
    "\\begin{equation}\n",
    "\\mathtt{Z} =\n",
    "\\begin{bmatrix} 1 &  0 \\\\\n",
    "0 & -1\n",
    "\\end{bmatrix}.\n",
    "\\end{equation}\n",
    "De ce qui précède, la valeur moyenne exacte vaut\n",
    "\n",
    "$$\\langle \\psi|\\mathtt{Z}|\\psi \\rangle\n",
    "= \\langle 0 |\\mathtt{R}_x(\\phi_1)^\\dagger \\mathtt{R}_y(\\phi_2)^\\dagger \\mathtt{Z}\\mathtt{R}_y(\\phi_2) R_x(\\phi_1) |0 \\rangle\n",
    "= \\cos(\\phi_1)\\cos(\\phi_2).$$\n",
    "\n",
    "Selon les paramètres du circuit $\\phi_1$ et $\\phi_2$, la sortie varie entre $1$ (lorsque\n",
    "$|\\psi\\rangle = |0\\rangle$) et $-1$ (lorsque\n",
    "$|\\psi\\rangle = |0\\rangle$).\n",
    "\n",
    "<img src=\"./Graphics/Bloch01.png\" width=300 />\n"
   ]
  },
  {
   "cell_type": "markdown",
   "id": "03c1559f-0fc0-472f-a808-6ffab1397abb",
   "metadata": {},
   "source": [
    "1. Importer les modules Qiskit nécessaires et numpy"
   ]
  },
  {
   "cell_type": "code",
   "execution_count": null,
   "id": "1a0a4eb9-426f-4634-bb57-13b16e89277a",
   "metadata": {
    "vscode": {
     "languageId": "python"
    }
   },
   "outputs": [],
   "source": [
    " # Insert modules here"
   ]
  },
  {
   "cell_type": "code",
   "execution_count": null,
   "id": "f455aec8-49e2-45c6-a020-6ac9544f012e",
   "metadata": {
    "vscode": {
     "languageId": "python"
    }
   },
   "outputs": [],
   "source": [
    "import qiskit.tools.jupyter\n",
    "%qiskit_version_table"
   ]
  }
 ],
 "metadata": {
  "kernelspec": {
   "display_name": "qiskit-env",
   "language": "python",
   "name": "qiskit-env"
  },
  "language_info": {
   "codemirror_mode": {
    "name": "ipython",
    "version": 3
   },
   "file_extension": ".py",
   "mimetype": "text/x-python",
   "name": "python",
   "nbconvert_exporter": "python",
   "pygments_lexer": "ipython3",
   "version": "3.10.9"
  }
 },
 "nbformat": 4,
 "nbformat_minor": 5
}
