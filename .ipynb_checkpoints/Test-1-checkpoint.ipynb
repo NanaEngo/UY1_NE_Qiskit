{
 "cells": [
  {
   "cell_type": "code",
   "execution_count": 1,
   "metadata": {
    "tags": []
   },
   "outputs": [],
   "source": [
    "from qiskit.extensions import UnitaryGate, XGate, IGate, CXGate\n",
    "from qiskit.quantum_info.operators import Operator, Pauli\n",
    "from qiskit.visualization import array_to_latex\n",
    "\n",
    "import numpy as np"
   ]
  },
  {
   "cell_type": "markdown",
   "metadata": {},
   "source": [
    "$\n",
    "\\newcommand{\\HH}{\\mathtt{H}}  \n",
    "\\newcommand{\\ad}{a^\\dagger}  \n",
    "\\newcommand{\\kb}[2]{|#1\\rangle\\langle#2|} \n",
    "\\newcommand{\\proj}[1]{|#1\\rangle\\langle#1|}\n",
    "\\newcommand{\\bk}[2]{\\langle#1|#2\\rangle}\n",
    "\\newcommand{\\ket}[1]{|#1\\rangle}\n",
    "$"
   ]
  },
  {
   "cell_type": "markdown",
   "metadata": {},
   "source": [
    "Opérateur qubit             |  Description\n",
    "----------------------------|---------------------\n",
    "$\\mathtt{I}=\\begin{pmatrix}1 & 0 \\\\ 0 &1 \\end{pmatrix}$ |Identité\n",
    "$\\mathtt{Q}^-=\\begin{pmatrix}0 & 1 \\\\ 1 & 0 \\end{pmatrix}=\\frac12(\\mathtt{X} + i\\mathtt{Y}) =\\kb{1}{0}$ | Annihilation \n",
    "$\\mathtt{Q}^+=\\begin{pmatrix}0 & 0 \\\\ 1 & 0 \\end{pmatrix}=\\frac12(\\mathtt{X} - i\\mathtt{Y}) =\\kb{0}{1}$ | Création\n",
    "$\\mathtt{Q}^+\\mathtt{Q}^-=\\begin{pmatrix}0 & 0 \\\\ 0 &1 \\end{pmatrix}=\\frac12(\\mathtt{I} - \\mathtt{Z}) =\\proj{1}$ | Un nombre (particule)\n",
    "$\\mathtt{Q}^-\\mathtt{Q}^+=\\begin{pmatrix}0 & 0 \\\\ 0 &1 \\end{pmatrix}=\\frac12(\\mathtt{I} + \\mathtt{Z}) =\\proj{0}$ | Zéro nombre (trou)\n",
    "\n",
    "Les opérateurs qubits sont antisymétrique: $\\{\\mathtt{Q}^,\\mathtt{Q}^-\\}=\\mathtt{Q}^+\\mathtt{Q}^- + \\mathtt{Q}^-\\mathtt{Q}^+ = \\mathtt{I}$."
   ]
  },
  {
   "cell_type": "code",
   "execution_count": 4,
   "metadata": {},
   "outputs": [
    {
     "data": {
      "text/html": [
       "<div>\n",
       "<style scoped>\n",
       "    .dataframe tbody tr th:only-of-type {\n",
       "        vertical-align: middle;\n",
       "    }\n",
       "\n",
       "    .dataframe tbody tr th {\n",
       "        vertical-align: top;\n",
       "    }\n",
       "\n",
       "    .dataframe thead th {\n",
       "        text-align: right;\n",
       "    }\n",
       "</style>\n",
       "<table border=\"1\" class=\"dataframe\">\n",
       "  <thead>\n",
       "    <tr style=\"text-align: right;\">\n",
       "      <th></th>\n",
       "      <th>Type of solver</th>\n",
       "      <th>Mapper</th>\n",
       "      <th>Optimizer</th>\n",
       "      <th>Ground state electronique energy</th>\n",
       "      <th>Relative error (%)</th>\n",
       "      <th>Elapsed time</th>\n",
       "      <th>Optimizer time (s)</th>\n",
       "    </tr>\n",
       "  </thead>\n",
       "  <tbody>\n",
       "    <tr>\n",
       "      <th>0</th>\n",
       "      <td>VQE UCCSD Solver</td>\n",
       "      <td>Parity</td>\n",
       "      <td>SPSA</td>\n",
       "      <td>-1.137120</td>\n",
       "      <td>-0.0010</td>\n",
       "      <td>0:00:01.291380</td>\n",
       "      <td>1.214293</td>\n",
       "    </tr>\n",
       "    <tr>\n",
       "      <th>1</th>\n",
       "      <td>Numpy Exact Solver</td>\n",
       "      <td>Parity</td>\n",
       "      <td>SPSA</td>\n",
       "      <td>-1.137101</td>\n",
       "      <td>-0.0010</td>\n",
       "      <td>0:00:01.192999</td>\n",
       "      <td>1.122738</td>\n",
       "    </tr>\n",
       "    <tr>\n",
       "      <th>2</th>\n",
       "      <td>VQE UCCSD Solver</td>\n",
       "      <td>Parity</td>\n",
       "      <td>SLSQP</td>\n",
       "      <td>-1.137306</td>\n",
       "      <td>-0.0000</td>\n",
       "      <td>0:00:00.136771</td>\n",
       "      <td>0.053056</td>\n",
       "    </tr>\n",
       "    <tr>\n",
       "      <th>3</th>\n",
       "      <td>Numpy Exact Solver</td>\n",
       "      <td>Parity</td>\n",
       "      <td>SLSQP</td>\n",
       "      <td>-1.137306</td>\n",
       "      <td>-0.0000</td>\n",
       "      <td>0:00:00.124342</td>\n",
       "      <td>0.056225</td>\n",
       "    </tr>\n",
       "    <tr>\n",
       "      <th>4</th>\n",
       "      <td>VQE UCCSD Solver</td>\n",
       "      <td>Parity</td>\n",
       "      <td>L_BFGS_B</td>\n",
       "      <td>-1.137306</td>\n",
       "      <td>-0.0000</td>\n",
       "      <td>0:00:00.175234</td>\n",
       "      <td>0.107746</td>\n",
       "    </tr>\n",
       "    <tr>\n",
       "      <th>5</th>\n",
       "      <td>Numpy Exact Solver</td>\n",
       "      <td>Parity</td>\n",
       "      <td>L_BFGS_B</td>\n",
       "      <td>-1.137306</td>\n",
       "      <td>-0.0000</td>\n",
       "      <td>0:00:00.182592</td>\n",
       "      <td>0.097138</td>\n",
       "    </tr>\n",
       "    <tr>\n",
       "      <th>6</th>\n",
       "      <td>VQE UCCSD Solver</td>\n",
       "      <td>Jordan-Wigner</td>\n",
       "      <td>SPSA</td>\n",
       "      <td>-1.137209</td>\n",
       "      <td>-0.0223</td>\n",
       "      <td>0:00:05.075840</td>\n",
       "      <td>4.833595</td>\n",
       "    </tr>\n",
       "    <tr>\n",
       "      <th>7</th>\n",
       "      <td>Numpy Exact Solver</td>\n",
       "      <td>Jordan-Wigner</td>\n",
       "      <td>SPSA</td>\n",
       "      <td>-1.136795</td>\n",
       "      <td>-0.0223</td>\n",
       "      <td>0:00:04.952713</td>\n",
       "      <td>4.798235</td>\n",
       "    </tr>\n",
       "    <tr>\n",
       "      <th>8</th>\n",
       "      <td>VQE UCCSD Solver</td>\n",
       "      <td>Jordan-Wigner</td>\n",
       "      <td>SLSQP</td>\n",
       "      <td>-1.137306</td>\n",
       "      <td>-0.0000</td>\n",
       "      <td>0:00:00.346925</td>\n",
       "      <td>0.188300</td>\n",
       "    </tr>\n",
       "    <tr>\n",
       "      <th>9</th>\n",
       "      <td>Numpy Exact Solver</td>\n",
       "      <td>Jordan-Wigner</td>\n",
       "      <td>SLSQP</td>\n",
       "      <td>-1.137306</td>\n",
       "      <td>-0.0000</td>\n",
       "      <td>0:00:00.319008</td>\n",
       "      <td>0.190372</td>\n",
       "    </tr>\n",
       "    <tr>\n",
       "      <th>10</th>\n",
       "      <td>VQE UCCSD Solver</td>\n",
       "      <td>Jordan-Wigner</td>\n",
       "      <td>L_BFGS_B</td>\n",
       "      <td>-1.137306</td>\n",
       "      <td>-0.0000</td>\n",
       "      <td>0:00:00.616125</td>\n",
       "      <td>0.481666</td>\n",
       "    </tr>\n",
       "    <tr>\n",
       "      <th>11</th>\n",
       "      <td>Numpy Exact Solver</td>\n",
       "      <td>Jordan-Wigner</td>\n",
       "      <td>L_BFGS_B</td>\n",
       "      <td>-1.137306</td>\n",
       "      <td>-0.0000</td>\n",
       "      <td>0:00:00.536838</td>\n",
       "      <td>0.396000</td>\n",
       "    </tr>\n",
       "    <tr>\n",
       "      <th>12</th>\n",
       "      <td>VQE UCCSD Solver</td>\n",
       "      <td>Bravyi-Kitaev</td>\n",
       "      <td>SPSA</td>\n",
       "      <td>-1.137115</td>\n",
       "      <td>-0.0129</td>\n",
       "      <td>0:00:03.834941</td>\n",
       "      <td>3.700756</td>\n",
       "    </tr>\n",
       "    <tr>\n",
       "      <th>13</th>\n",
       "      <td>Numpy Exact Solver</td>\n",
       "      <td>Bravyi-Kitaev</td>\n",
       "      <td>SPSA</td>\n",
       "      <td>-1.136874</td>\n",
       "      <td>-0.0129</td>\n",
       "      <td>0:00:04.503439</td>\n",
       "      <td>4.382378</td>\n",
       "    </tr>\n",
       "    <tr>\n",
       "      <th>14</th>\n",
       "      <td>VQE UCCSD Solver</td>\n",
       "      <td>Bravyi-Kitaev</td>\n",
       "      <td>SLSQP</td>\n",
       "      <td>-1.137306</td>\n",
       "      <td>-0.0000</td>\n",
       "      <td>0:00:00.243098</td>\n",
       "      <td>0.143664</td>\n",
       "    </tr>\n",
       "    <tr>\n",
       "      <th>15</th>\n",
       "      <td>Numpy Exact Solver</td>\n",
       "      <td>Bravyi-Kitaev</td>\n",
       "      <td>SLSQP</td>\n",
       "      <td>-1.137306</td>\n",
       "      <td>-0.0000</td>\n",
       "      <td>0:00:00.270075</td>\n",
       "      <td>0.145059</td>\n",
       "    </tr>\n",
       "    <tr>\n",
       "      <th>16</th>\n",
       "      <td>VQE UCCSD Solver</td>\n",
       "      <td>Bravyi-Kitaev</td>\n",
       "      <td>L_BFGS_B</td>\n",
       "      <td>-1.137306</td>\n",
       "      <td>-0.0000</td>\n",
       "      <td>0:00:00.408434</td>\n",
       "      <td>0.288281</td>\n",
       "    </tr>\n",
       "    <tr>\n",
       "      <th>17</th>\n",
       "      <td>Numpy Exact Solver</td>\n",
       "      <td>Bravyi-Kitaev</td>\n",
       "      <td>L_BFGS_B</td>\n",
       "      <td>-1.137306</td>\n",
       "      <td>-0.0000</td>\n",
       "      <td>0:00:00.907425</td>\n",
       "      <td>0.585469</td>\n",
       "    </tr>\n",
       "  </tbody>\n",
       "</table>\n",
       "</div>"
      ],
      "text/plain": [
       "        Type of solver         Mapper Optimizer  \\\n",
       "0     VQE UCCSD Solver         Parity      SPSA   \n",
       "1   Numpy Exact Solver         Parity      SPSA   \n",
       "2     VQE UCCSD Solver         Parity     SLSQP   \n",
       "3   Numpy Exact Solver         Parity     SLSQP   \n",
       "4     VQE UCCSD Solver         Parity  L_BFGS_B   \n",
       "5   Numpy Exact Solver         Parity  L_BFGS_B   \n",
       "6     VQE UCCSD Solver  Jordan-Wigner      SPSA   \n",
       "7   Numpy Exact Solver  Jordan-Wigner      SPSA   \n",
       "8     VQE UCCSD Solver  Jordan-Wigner     SLSQP   \n",
       "9   Numpy Exact Solver  Jordan-Wigner     SLSQP   \n",
       "10    VQE UCCSD Solver  Jordan-Wigner  L_BFGS_B   \n",
       "11  Numpy Exact Solver  Jordan-Wigner  L_BFGS_B   \n",
       "12    VQE UCCSD Solver  Bravyi-Kitaev      SPSA   \n",
       "13  Numpy Exact Solver  Bravyi-Kitaev      SPSA   \n",
       "14    VQE UCCSD Solver  Bravyi-Kitaev     SLSQP   \n",
       "15  Numpy Exact Solver  Bravyi-Kitaev     SLSQP   \n",
       "16    VQE UCCSD Solver  Bravyi-Kitaev  L_BFGS_B   \n",
       "17  Numpy Exact Solver  Bravyi-Kitaev  L_BFGS_B   \n",
       "\n",
       "    Ground state electronique energy  Relative error (%)    Elapsed time  \\\n",
       "0                          -1.137120             -0.0010  0:00:01.291380   \n",
       "1                          -1.137101             -0.0010  0:00:01.192999   \n",
       "2                          -1.137306             -0.0000  0:00:00.136771   \n",
       "3                          -1.137306             -0.0000  0:00:00.124342   \n",
       "4                          -1.137306             -0.0000  0:00:00.175234   \n",
       "5                          -1.137306             -0.0000  0:00:00.182592   \n",
       "6                          -1.137209             -0.0223  0:00:05.075840   \n",
       "7                          -1.136795             -0.0223  0:00:04.952713   \n",
       "8                          -1.137306             -0.0000  0:00:00.346925   \n",
       "9                          -1.137306             -0.0000  0:00:00.319008   \n",
       "10                         -1.137306             -0.0000  0:00:00.616125   \n",
       "11                         -1.137306             -0.0000  0:00:00.536838   \n",
       "12                         -1.137115             -0.0129  0:00:03.834941   \n",
       "13                         -1.136874             -0.0129  0:00:04.503439   \n",
       "14                         -1.137306             -0.0000  0:00:00.243098   \n",
       "15                         -1.137306             -0.0000  0:00:00.270075   \n",
       "16                         -1.137306             -0.0000  0:00:00.408434   \n",
       "17                         -1.137306             -0.0000  0:00:00.907425   \n",
       "\n",
       "    Optimizer time (s)  \n",
       "0             1.214293  \n",
       "1             1.122738  \n",
       "2             0.053056  \n",
       "3             0.056225  \n",
       "4             0.107746  \n",
       "5             0.097138  \n",
       "6             4.833595  \n",
       "7             4.798235  \n",
       "8             0.188300  \n",
       "9             0.190372  \n",
       "10            0.481666  \n",
       "11            0.396000  \n",
       "12            3.700756  \n",
       "13            4.382378  \n",
       "14            0.143664  \n",
       "15            0.145059  \n",
       "16            0.288281  \n",
       "17            0.585469  "
      ]
     },
     "execution_count": 4,
     "metadata": {},
     "output_type": "execute_result"
    }
   ],
   "source": [
    "import pandas as pd\n",
    "\n",
    "H2_data = pd.DataFrame(pd.read_csv(f\"Resultats/H2_results.csv\"))\n",
    "\n",
    "H2_data"
   ]
  },
  {
   "cell_type": "code",
   "execution_count": 5,
   "metadata": {},
   "outputs": [
    {
     "name": "stdout",
     "output_type": "stream",
     "text": [
      "Sheet(cells=(Cell(column_end=0, column_start=0, row_end=0, row_start=0, type='text', value='Hello'), Cell(column_end=0, column_start=0, row_end=2, row_start=2, type='text', value='World'), Cell(column_end=2, column_start=2, row_end=2, row_start=2, type='numeric', value=42.0)), layout=Layout(height='auto', width='auto'))\n"
     ]
    }
   ],
   "source": [
    "import ipysheet\n",
    "sheet = ipysheet.sheet(rows=3, columns=4)\n",
    "cell1 = ipysheet.cell(0, 0, 'Hello')\n",
    "cell2 = ipysheet.cell(2, 0, 'World')\n",
    "cell_value = ipysheet.cell(2,2, 42.)\n",
    "print(sheet)"
   ]
  },
  {
   "cell_type": "code",
   "execution_count": 6,
   "metadata": {},
   "outputs": [
    {
     "data": {
      "application/vnd.jupyter.widget-view+json": {
       "model_id": "2f841bd2ef894069b05028df166b4047",
       "version_major": 2,
       "version_minor": 0
      },
      "text/plain": [
       "VBox(children=(Sheet(cells=(Cell(column_end=1, column_start=1, row_end=0, row_start=0, type='numeric', value=1…"
      ]
     },
     "execution_count": 6,
     "metadata": {},
     "output_type": "execute_result"
    }
   ],
   "source": [
    "import ipywidgets as widgets\n",
    "sheet = ipysheet.sheet(rows=3, columns=2, column_headers=False, row_headers=False)\n",
    "cell_a = ipysheet.cell(0, 1, 1, label_left='a')\n",
    "cell_b = ipysheet.cell(1, 1, 2, label_left='b')\n",
    "cell_sum = ipysheet.cell(2, 1, 3, label_left='sum', read_only=True)\n",
    "\n",
    "# create a slider linked to cell a\n",
    "slider = widgets.FloatSlider(min=-10, max=10, description='a')\n",
    "widgets.jslink((cell_a, 'value'), (slider, 'value'))\n",
    "\n",
    "# changes in a or b should trigger this function\n",
    "def calculate(change):\n",
    "    cell_sum.value = cell_a.value + cell_b.value\n",
    "\n",
    "cell_a.observe(calculate, 'value')\n",
    "cell_b.observe(calculate, 'value')\n",
    "\n",
    "\n",
    "widgets.VBox([sheet, slider])"
   ]
  },
  {
   "cell_type": "markdown",
   "metadata": {},
   "source": [
    "$\\newcommand{\\mel}[3]{\\langle #1|#2|#3\\rangle} %Matrix element$\n"
   ]
  },
  {
   "cell_type": "markdown",
   "metadata": {},
   "source": [
    "$\\mel{\\psi(\\theta)}{\\mathtt{H}}{\\psi(\\theta)}$"
   ]
  },
  {
   "cell_type": "code",
   "execution_count": 3,
   "metadata": {},
   "outputs": [
    {
     "ename": "TypeError",
     "evalue": "ParityMapper.__init__() got an unexpected keyword argument 'num_particles'",
     "output_type": "error",
     "traceback": [
      "\u001b[0;31m---------------------------------------------------------------------------\u001b[0m",
      "\u001b[0;31mTypeError\u001b[0m                                 Traceback (most recent call last)",
      "Cell \u001b[0;32mIn[3], line 17\u001b[0m\n\u001b[1;32m     14\u001b[0m \u001b[39m# setup the qubit mapper\u001b[39;00m\n\u001b[1;32m     15\u001b[0m \u001b[39mfrom\u001b[39;00m \u001b[39mqiskit_nature\u001b[39;00m\u001b[39m.\u001b[39;00m\u001b[39msecond_q\u001b[39;00m\u001b[39m.\u001b[39;00m\u001b[39mmappers\u001b[39;00m \u001b[39mimport\u001b[39;00m ParityMapper\n\u001b[0;32m---> 17\u001b[0m mapper \u001b[39m=\u001b[39m ParityMapper(num_particles\u001b[39m=\u001b[39;49mproblem\u001b[39m.\u001b[39;49mnum_particles)\n\u001b[1;32m     19\u001b[0m \u001b[39m# setup the classical optimizer for the VQE\u001b[39;00m\n\u001b[1;32m     20\u001b[0m \u001b[39mfrom\u001b[39;00m \u001b[39mqiskit\u001b[39;00m\u001b[39m.\u001b[39;00m\u001b[39malgorithms\u001b[39;00m\u001b[39m.\u001b[39;00m\u001b[39moptimizers\u001b[39;00m \u001b[39mimport\u001b[39;00m L_BFGS_B\n",
      "\u001b[0;31mTypeError\u001b[0m: ParityMapper.__init__() got an unexpected keyword argument 'num_particles'"
     ]
    }
   ],
   "source": [
    "from qiskit_nature.units import DistanceUnit\n",
    "from qiskit_nature.second_q.drivers import PySCFDriver\n",
    "\n",
    "# Use PySCF, a classical computational chemistry software\n",
    "# package, to compute the one-body and two-body integrals in\n",
    "# electronic-orbital basis, necessary to form the Fermionic operator\n",
    "driver = PySCFDriver(\n",
    "    atom='H .0 .0 .0; H .0 .0 0.735',\n",
    "    unit=DistanceUnit.ANGSTROM,\n",
    "    basis='sto3g',\n",
    ")\n",
    "problem = driver.run()\n",
    "\n",
    "# setup the qubit mapper\n",
    "from qiskit_nature.second_q.mappers import ParityMapper\n",
    "\n",
    "mapper = ParityMapper(num_particles=problem.num_particles)\n",
    "\n",
    "# setup the classical optimizer for the VQE\n",
    "from qiskit.algorithms.optimizers import L_BFGS_B\n",
    "\n",
    "optimizer = L_BFGS_B()\n",
    "\n",
    "# setup the estimator primitive for the VQE\n",
    "from qiskit.primitives import Estimator\n",
    "\n",
    "estimator = Estimator()\n",
    "\n",
    "# setup the ansatz for VQE\n",
    "from qiskit_nature.second_q.circuit.library import HartreeFock, UCCSD\n",
    "\n",
    "ansatz = UCCSD(\n",
    "    problem.num_spatial_orbitals,\n",
    "    problem.num_particles,\n",
    "    mapper,\n",
    "    initial_state=HartreeFock(\n",
    "        problem.num_spatial_orbitals,\n",
    "        problem.num_particles,\n",
    "        mapper,\n",
    "    ),\n",
    ")\n",
    "\n",
    "# set up our actual VQE instance\n",
    "from qiskit.algorithms.minimum_eigensolvers import VQE\n",
    "\n",
    "vqe = VQE(estimator, ansatz, optimizer)\n",
    "# ensure that the optimizer starts in the all-zero state which corresponds to\n",
    "# the Hartree-Fock starting point\n",
    "vqe.initial_point = [0] * ansatz.num_parameters\n",
    "\n",
    "# prepare the ground-state solver and run it\n",
    "from qiskit_nature.second_q.algorithms import GroundStateEigensolver\n",
    "\n",
    "algorithm = GroundStateEigensolver(mapper, vqe)\n",
    "\n",
    "electronic_structure_result = algorithm.solve(problem)\n",
    "print(electronic_structure_result)"
   ]
  },
  {
   "cell_type": "code",
   "execution_count": 2,
   "metadata": {},
   "outputs": [
    {
     "name": "stdout",
     "output_type": "stream",
     "text": [
      "Requirement already satisfied: pyscf[all] in /home/taamangtchu/mambaforge/lib/python3.10/site-packages (2.1.1)\n",
      "Collecting pyscf[all]\n",
      "  Downloading pyscf-2.2.0-cp310-cp310-manylinux_2_12_x86_64.manylinux2010_x86_64.whl (45.6 MB)\n",
      "\u001b[2K     \u001b[91m━━━━━━\u001b[0m\u001b[90m╺\u001b[0m\u001b[90m━━━━━━━━━━━━━━━━━━━━━━━━━━━━━━━━━\u001b[0m \u001b[32m7.1/45.6 MB\u001b[0m \u001b[31m541.0 kB/s\u001b[0m eta \u001b[36m0:01:12\u001b[0m^C\n",
      "\u001b[2K     \u001b[91m━━━━━━\u001b[0m\u001b[90m╺\u001b[0m\u001b[90m━━━━━━━━━━━━━━━━━━━━━━━━━━━━━━━━━\u001b[0m \u001b[32m7.1/45.6 MB\u001b[0m \u001b[31m541.0 kB/s\u001b[0m eta \u001b[36m0:01:12\u001b[0m\n",
      "\u001b[?25h\u001b[31mERROR: Operation cancelled by user\u001b[0m\u001b[31m\n",
      "\u001b[0m"
     ]
    }
   ],
   "source": [
    "!pip install pyscf[all] -U"
   ]
  },
  {
   "cell_type": "code",
   "execution_count": 3,
   "metadata": {},
   "outputs": [
    {
     "ename": "ImportError",
     "evalue": "cannot import name 'mcpdft' from 'pyscf' (/home/taamangtchu/mambaforge/envs/qiskit-env/lib/python3.10/site-packages/pyscf/__init__.py)",
     "output_type": "error",
     "traceback": [
      "\u001b[0;31m---------------------------------------------------------------------------\u001b[0m",
      "\u001b[0;31mImportError\u001b[0m                               Traceback (most recent call last)",
      "Cell \u001b[0;32mIn[3], line 5\u001b[0m\n\u001b[1;32m      1\u001b[0m \u001b[39m'''\u001b[39;00m\n\u001b[1;32m      2\u001b[0m \u001b[39mResponse-theory calculation of the permanent dipole moment\u001b[39;00m\n\u001b[1;32m      3\u001b[0m \u001b[39m'''\u001b[39;00m\n\u001b[0;32m----> 5\u001b[0m \u001b[39mfrom\u001b[39;00m \u001b[39mpyscf\u001b[39;00m \u001b[39mimport\u001b[39;00m gto, scf, mcpdft\n\u001b[1;32m      6\u001b[0m \u001b[39mfrom\u001b[39;00m \u001b[39mpyscf\u001b[39;00m\u001b[39m.\u001b[39;00m\u001b[39mlib\u001b[39;00m \u001b[39mimport\u001b[39;00m logger\n\u001b[1;32m      8\u001b[0m logger\u001b[39m.\u001b[39mTIMER_LEVEL \u001b[39m=\u001b[39m logger\u001b[39m.\u001b[39mINFO\n",
      "\u001b[0;31mImportError\u001b[0m: cannot import name 'mcpdft' from 'pyscf' (/home/taamangtchu/mambaforge/envs/qiskit-env/lib/python3.10/site-packages/pyscf/__init__.py)"
     ]
    }
   ],
   "source": [
    "'''\n",
    "Response-theory calculation of the permanent dipole moment\n",
    "'''\n",
    "\n",
    "from pyscf import gto, scf, mcpdft\n",
    "from pyscf.lib import logger\n",
    "\n",
    "logger.TIMER_LEVEL = logger.INFO\n",
    "\n",
    "# Energy calculation\n",
    "h2co_xyz = '''C  0.534004  0.000000  0.000000\n",
    "O -0.676110  0.000000  0.000000\n",
    "H  1.102430  0.000000  0.920125\n",
    "H  1.102430  0.000000 -0.920125'''\n",
    "mol = gto.M (atom = h2co_xyz, basis = 'def2svp', symmetry = False,\n",
    "             verbose = logger.INFO, output = '00-dipole_moment.log')\n",
    "mf = scf.RHF (mol).run ()\n",
    "mc = mcpdft.CASSCF (mf, 'tPBE', 6, 6)\n",
    "mc.kernel ()\n",
    "\n",
    "# Electric Dipole calculation\n",
    "dipole = mc.dip_moment(unit='Debye')\n",
    "print (\"MC-PDFT electric dipole moment Debye\")\n",
    "print (\" {:8.5f} {:8.5f} {:8.5f}\".format (*dipole))\n",
    "print (\"Numerical MC-PDFT electric dipole moment from GAMESS [Debye]\")\n",
    "print (\" 2.09361 0.00000 0.00000 \")"
   ]
  },
  {
   "cell_type": "code",
   "execution_count": 6,
   "metadata": {},
   "outputs": [
    {
     "name": "stdout",
     "output_type": "stream",
     "text": [
      "converged SCF energy = -75.6769190377957\n",
      "6\n",
      "8\n"
     ]
    }
   ],
   "source": [
    "from pyscf import gto, scf, mcscf\n",
    "from pyscf.mcscf import avas\n",
    "\n",
    "mol = gto.M(\n",
    "  atom=\"O 0 0 0.115; H 0 0.754 -0.459; H 0 -0.754 -0.459\",\n",
    "  basis=\"sto6g\",\n",
    ")\n",
    "\n",
    "h_f = scf.RHF(mol).run()\n",
    "# converged SCF energy = -75.6769190377958\n",
    "\n",
    "norb, nel, mo = avas.avas(h_f,['O 2p', 'H 1s','H 1s'])\n",
    "\n",
    "print(norb)\n",
    "print(nel)"
   ]
  },
  {
   "cell_type": "code",
   "execution_count": 3,
   "metadata": {},
   "outputs": [
    {
     "name": "stderr",
     "output_type": "stream",
     "text": [
      "QSocketNotifier: Can only be used with threads started with QThread\n"
     ]
    }
   ],
   "source": [
    "from pandasgui import show"
   ]
  },
  {
   "cell_type": "code",
   "execution_count": 6,
   "metadata": {},
   "outputs": [
    {
     "data": {
      "text/html": [
       "<div>\n",
       "<style scoped>\n",
       "    .dataframe tbody tr th:only-of-type {\n",
       "        vertical-align: middle;\n",
       "    }\n",
       "\n",
       "    .dataframe tbody tr th {\n",
       "        vertical-align: top;\n",
       "    }\n",
       "\n",
       "    .dataframe thead th {\n",
       "        text-align: right;\n",
       "    }\n",
       "</style>\n",
       "<table border=\"1\" class=\"dataframe\">\n",
       "  <thead>\n",
       "    <tr style=\"text-align: right;\">\n",
       "      <th></th>\n",
       "      <th>mean radius</th>\n",
       "      <th>mean texture</th>\n",
       "      <th>mean perimeter</th>\n",
       "      <th>mean area</th>\n",
       "      <th>mean smoothness</th>\n",
       "      <th>mean compactness</th>\n",
       "      <th>mean concavity</th>\n",
       "      <th>mean concave points</th>\n",
       "      <th>mean symmetry</th>\n",
       "      <th>mean fractal dimension</th>\n",
       "      <th>...</th>\n",
       "      <th>worst texture</th>\n",
       "      <th>worst perimeter</th>\n",
       "      <th>worst area</th>\n",
       "      <th>worst smoothness</th>\n",
       "      <th>worst compactness</th>\n",
       "      <th>worst concavity</th>\n",
       "      <th>worst concave points</th>\n",
       "      <th>worst symmetry</th>\n",
       "      <th>worst fractal dimension</th>\n",
       "      <th>target</th>\n",
       "    </tr>\n",
       "  </thead>\n",
       "  <tbody>\n",
       "    <tr>\n",
       "      <th>0</th>\n",
       "      <td>17.99</td>\n",
       "      <td>10.38</td>\n",
       "      <td>122.80</td>\n",
       "      <td>1001.0</td>\n",
       "      <td>0.11840</td>\n",
       "      <td>0.27760</td>\n",
       "      <td>0.3001</td>\n",
       "      <td>0.14710</td>\n",
       "      <td>0.2419</td>\n",
       "      <td>0.07871</td>\n",
       "      <td>...</td>\n",
       "      <td>17.33</td>\n",
       "      <td>184.60</td>\n",
       "      <td>2019.0</td>\n",
       "      <td>0.1622</td>\n",
       "      <td>0.6656</td>\n",
       "      <td>0.7119</td>\n",
       "      <td>0.2654</td>\n",
       "      <td>0.4601</td>\n",
       "      <td>0.11890</td>\n",
       "      <td>0</td>\n",
       "    </tr>\n",
       "    <tr>\n",
       "      <th>1</th>\n",
       "      <td>20.57</td>\n",
       "      <td>17.77</td>\n",
       "      <td>132.90</td>\n",
       "      <td>1326.0</td>\n",
       "      <td>0.08474</td>\n",
       "      <td>0.07864</td>\n",
       "      <td>0.0869</td>\n",
       "      <td>0.07017</td>\n",
       "      <td>0.1812</td>\n",
       "      <td>0.05667</td>\n",
       "      <td>...</td>\n",
       "      <td>23.41</td>\n",
       "      <td>158.80</td>\n",
       "      <td>1956.0</td>\n",
       "      <td>0.1238</td>\n",
       "      <td>0.1866</td>\n",
       "      <td>0.2416</td>\n",
       "      <td>0.1860</td>\n",
       "      <td>0.2750</td>\n",
       "      <td>0.08902</td>\n",
       "      <td>0</td>\n",
       "    </tr>\n",
       "    <tr>\n",
       "      <th>2</th>\n",
       "      <td>19.69</td>\n",
       "      <td>21.25</td>\n",
       "      <td>130.00</td>\n",
       "      <td>1203.0</td>\n",
       "      <td>0.10960</td>\n",
       "      <td>0.15990</td>\n",
       "      <td>0.1974</td>\n",
       "      <td>0.12790</td>\n",
       "      <td>0.2069</td>\n",
       "      <td>0.05999</td>\n",
       "      <td>...</td>\n",
       "      <td>25.53</td>\n",
       "      <td>152.50</td>\n",
       "      <td>1709.0</td>\n",
       "      <td>0.1444</td>\n",
       "      <td>0.4245</td>\n",
       "      <td>0.4504</td>\n",
       "      <td>0.2430</td>\n",
       "      <td>0.3613</td>\n",
       "      <td>0.08758</td>\n",
       "      <td>0</td>\n",
       "    </tr>\n",
       "    <tr>\n",
       "      <th>3</th>\n",
       "      <td>11.42</td>\n",
       "      <td>20.38</td>\n",
       "      <td>77.58</td>\n",
       "      <td>386.1</td>\n",
       "      <td>0.14250</td>\n",
       "      <td>0.28390</td>\n",
       "      <td>0.2414</td>\n",
       "      <td>0.10520</td>\n",
       "      <td>0.2597</td>\n",
       "      <td>0.09744</td>\n",
       "      <td>...</td>\n",
       "      <td>26.50</td>\n",
       "      <td>98.87</td>\n",
       "      <td>567.7</td>\n",
       "      <td>0.2098</td>\n",
       "      <td>0.8663</td>\n",
       "      <td>0.6869</td>\n",
       "      <td>0.2575</td>\n",
       "      <td>0.6638</td>\n",
       "      <td>0.17300</td>\n",
       "      <td>0</td>\n",
       "    </tr>\n",
       "    <tr>\n",
       "      <th>4</th>\n",
       "      <td>20.29</td>\n",
       "      <td>14.34</td>\n",
       "      <td>135.10</td>\n",
       "      <td>1297.0</td>\n",
       "      <td>0.10030</td>\n",
       "      <td>0.13280</td>\n",
       "      <td>0.1980</td>\n",
       "      <td>0.10430</td>\n",
       "      <td>0.1809</td>\n",
       "      <td>0.05883</td>\n",
       "      <td>...</td>\n",
       "      <td>16.67</td>\n",
       "      <td>152.20</td>\n",
       "      <td>1575.0</td>\n",
       "      <td>0.1374</td>\n",
       "      <td>0.2050</td>\n",
       "      <td>0.4000</td>\n",
       "      <td>0.1625</td>\n",
       "      <td>0.2364</td>\n",
       "      <td>0.07678</td>\n",
       "      <td>0</td>\n",
       "    </tr>\n",
       "  </tbody>\n",
       "</table>\n",
       "<p>5 rows × 31 columns</p>\n",
       "</div>"
      ],
      "text/plain": [
       "   mean radius  mean texture  mean perimeter  mean area  mean smoothness  \\\n",
       "0        17.99         10.38          122.80     1001.0          0.11840   \n",
       "1        20.57         17.77          132.90     1326.0          0.08474   \n",
       "2        19.69         21.25          130.00     1203.0          0.10960   \n",
       "3        11.42         20.38           77.58      386.1          0.14250   \n",
       "4        20.29         14.34          135.10     1297.0          0.10030   \n",
       "\n",
       "   mean compactness  mean concavity  mean concave points  mean symmetry  \\\n",
       "0           0.27760          0.3001              0.14710         0.2419   \n",
       "1           0.07864          0.0869              0.07017         0.1812   \n",
       "2           0.15990          0.1974              0.12790         0.2069   \n",
       "3           0.28390          0.2414              0.10520         0.2597   \n",
       "4           0.13280          0.1980              0.10430         0.1809   \n",
       "\n",
       "   mean fractal dimension  ...  worst texture  worst perimeter  worst area  \\\n",
       "0                 0.07871  ...          17.33           184.60      2019.0   \n",
       "1                 0.05667  ...          23.41           158.80      1956.0   \n",
       "2                 0.05999  ...          25.53           152.50      1709.0   \n",
       "3                 0.09744  ...          26.50            98.87       567.7   \n",
       "4                 0.05883  ...          16.67           152.20      1575.0   \n",
       "\n",
       "   worst smoothness  worst compactness  worst concavity  worst concave points  \\\n",
       "0            0.1622             0.6656           0.7119                0.2654   \n",
       "1            0.1238             0.1866           0.2416                0.1860   \n",
       "2            0.1444             0.4245           0.4504                0.2430   \n",
       "3            0.2098             0.8663           0.6869                0.2575   \n",
       "4            0.1374             0.2050           0.4000                0.1625   \n",
       "\n",
       "   worst symmetry  worst fractal dimension  target  \n",
       "0          0.4601                  0.11890       0  \n",
       "1          0.2750                  0.08902       0  \n",
       "2          0.3613                  0.08758       0  \n",
       "3          0.6638                  0.17300       0  \n",
       "4          0.2364                  0.07678       0  \n",
       "\n",
       "[5 rows x 31 columns]"
      ]
     },
     "execution_count": 6,
     "metadata": {},
     "output_type": "execute_result"
    }
   ],
   "source": [
    "from sklearn.datasets import load_breast_cancer\n",
    "import pandas as pd\n",
    "\n",
    "breast = load_breast_cancer()\n",
    "breast_df = pd.DataFrame(breast.data, columns = breast.feature_names)\n",
    "breast_df['target'] = breast.target\n",
    "breast_df.head()"
   ]
  },
  {
   "cell_type": "code",
   "execution_count": 7,
   "metadata": {},
   "outputs": [
    {
     "name": "stderr",
     "output_type": "stream",
     "text": [
      "PandasGUI INFO — pandasgui.gui — Opening PandasGUI\n",
      "PandasGUI INFO — pandasgui.gui — Opening PandasGUI\n",
      "PandasGUI INFO — pandasgui.gui — Opening PandasGUI\n",
      "qt.qpa.wayland: Wayland does not support QWindow::requestActivate()\n"
     ]
    },
    {
     "data": {
      "text/plain": [
       "<pandasgui.gui.PandasGui at 0x7f470821be20>"
      ]
     },
     "execution_count": 7,
     "metadata": {},
     "output_type": "execute_result"
    }
   ],
   "source": [
    "show(breast_df)"
   ]
  },
  {
   "cell_type": "code",
   "execution_count": null,
   "metadata": {},
   "outputs": [],
   "source": []
  },
  {
   "cell_type": "code",
   "execution_count": 11,
   "metadata": {
    "tags": []
   },
   "outputs": [
    {
     "data": {
      "text/latex": [
       "$$\n",
       "\n",
       "\\begin{bmatrix}\n",
       "\\frac{\\sqrt{2}}{2} & \\frac{\\sqrt{2} i}{2}  \\\\\n",
       " \\frac{\\sqrt{2} i}{2} & \\frac{\\sqrt{2}}{2}  \\\\\n",
       " \\end{bmatrix}\n",
       "$$"
      ],
      "text/plain": [
       "<IPython.core.display.Latex object>"
      ]
     },
     "execution_count": 11,
     "metadata": {},
     "output_type": "execute_result"
    }
   ],
   "source": [
    "BS = (Operator(Pauli('I')) + 1.j*Operator(Pauli('X')))/np.sqrt(2)\n",
    "array_to_latex(BS)"
   ]
  },
  {
   "cell_type": "code",
   "execution_count": 26,
   "metadata": {
    "tags": []
   },
   "outputs": [
    {
     "data": {
      "text/latex": [
       "$$\n",
       "\n",
       "\\begin{bmatrix}\n",
       "\\frac{\\sqrt{2}}{2} & \\frac{\\sqrt{2} i}{2}  \\\\\n",
       " \\frac{\\sqrt{2} i}{2} & \\frac{\\sqrt{2}}{2}  \\\\\n",
       " \\end{bmatrix}\n",
       "$$"
      ],
      "text/plain": [
       "<IPython.core.display.Latex object>"
      ]
     },
     "execution_count": 26,
     "metadata": {},
     "output_type": "execute_result"
    }
   ],
   "source": [
    "BS = (Operator(IGate()) + 1.j*Operator(XGate()))/np.sqrt(2)\n",
    "array_to_latex(BS)"
   ]
  },
  {
   "cell_type": "code",
   "execution_count": 24,
   "metadata": {
    "tags": []
   },
   "outputs": [
    {
     "data": {
      "text/latex": [
       "$$\n",
       "\n",
       "\\begin{bmatrix}\n",
       "1 & 0 & 0 & 0  \\\\\n",
       " 0 & 0 & 0 & 1  \\\\\n",
       " 0 & 0 & 1 & 0  \\\\\n",
       " 0 & 1 & 0 & 0  \\\\\n",
       " \\end{bmatrix}\n",
       "$$"
      ],
      "text/plain": [
       "<IPython.core.display.Latex object>"
      ]
     },
     "execution_count": 24,
     "metadata": {},
     "output_type": "execute_result"
    }
   ],
   "source": [
    "array_to_latex(Operator(CXGate()))"
   ]
  },
  {
   "cell_type": "code",
   "execution_count": 28,
   "metadata": {
    "tags": []
   },
   "outputs": [],
   "source": [
    "BS = UnitaryGate(BS,'BS')\n",
    "PBS = UnitaryGate(BS,'PBS')\n",
    "# array_to_latex(BS)"
   ]
  },
  {
   "cell_type": "code",
   "execution_count": 95,
   "metadata": {},
   "outputs": [],
   "source": [
    "def BK(m):\n",
    "    I = [[1, 0], [0, 1]]\n",
    "    d = {}\n",
    "    d[0] = [1]\n",
    "    for k in range(0, m):\n",
    "        B = np.kron(I,d[k])\n",
    "        for l in range(2**k, 2**(k+1)):\n",
    "            B[0,l] = 1\n",
    "        d[k+1] = B\n",
    "    return d\n"
   ]
  },
  {
   "cell_type": "code",
   "execution_count": 2,
   "metadata": {},
   "outputs": [],
   "source": [
    "from sympy.physics.quantum import *\n",
    "import numpy as np"
   ]
  },
  {
   "cell_type": "code",
   "execution_count": 3,
   "metadata": {},
   "outputs": [
    {
     "data": {
      "text/latex": [
       "$\\displaystyle \\frac{{\\left|0\\right\\rangle } + 2 {\\left|10\\right\\rangle } - 2 {\\left|11\\right\\rangle }}{3}$"
      ],
      "text/plain": [
       "(|0> + 2*|10> - 2*|11>)/3"
      ]
     },
     "execution_count": 3,
     "metadata": {},
     "output_type": "execute_result"
    }
   ],
   "source": [
    "psi = (Ket(00)+2*Ket(10)-2*Ket(11))/3\n",
    "psi"
   ]
  },
  {
   "cell_type": "code",
   "execution_count": 2,
   "metadata": {},
   "outputs": [],
   "source": [
    "from ase import Atoms\n",
    "from ase.build import molecule\n",
    "from ase.visualize import view"
   ]
  },
  {
   "cell_type": "code",
   "execution_count": 2,
   "metadata": {},
   "outputs": [],
   "source": [
    "macro_ASE = Atoms('ONCHHHC', [(1.1280, 0.2091, 0.0000), \n",
    "                          (-1.1878, 0.1791, 0.0000), \n",
    "                          (0.0598, -0.3882, 0.0000),\n",
    "                          (-1.3085, 1.1864, 0.0001),\n",
    "                          (-2.0305, -0.3861, -0.0001),\n",
    "                          (-0.0014, -1.4883, -0.0001),\n",
    "                          (-0.1805, 1.3955, 0.0000)])"
   ]
  },
  {
   "cell_type": "code",
   "execution_count": 3,
   "metadata": {},
   "outputs": [
    {
     "data": {
      "text/html": [
       "<html>\n",
       "\n",
       " <head>\n",
       "\n",
       "  <title>ASE atomic visualization</title>\n",
       "\n",
       "  <link rel=\"stylesheet\" type=\"text/css\"\n",
       "\n",
       "   href=\"https://www.x3dom.org/x3dom/release/x3dom.css\">\n",
       "\n",
       "  </link>\n",
       "\n",
       "  <script type=\"text/javascript\"\n",
       "\n",
       "   src=\"https://www.x3dom.org/x3dom/release/x3dom.js\">\n",
       "\n",
       "  </script>\n",
       "\n",
       " </head>\n",
       "\n",
       " <body>\n",
       "\n",
       "  <X3D>\n",
       "\n",
       "   <Scene>\n",
       "\n",
       "    <Transform translation=\"1.13 0.21 0.00\">\n",
       "\n",
       "     <Shape>\n",
       "\n",
       "      <Appearance>\n",
       "\n",
       "       <Material diffuseColor=\"1.000 0.051 0.051\" specularColor=\"0.5 0.5 0.5\">\n",
       "\n",
       "       </Material>\n",
       "\n",
       "      </Appearance>\n",
       "\n",
       "      <Sphere radius=\"0.66\">\n",
       "\n",
       "      </Sphere>\n",
       "\n",
       "     </Shape>\n",
       "\n",
       "    </Transform>\n",
       "\n",
       "    <Transform translation=\"-1.19 0.18 0.00\">\n",
       "\n",
       "     <Shape>\n",
       "\n",
       "      <Appearance>\n",
       "\n",
       "       <Material diffuseColor=\"0.188 0.314 0.973\" specularColor=\"0.5 0.5 0.5\">\n",
       "\n",
       "       </Material>\n",
       "\n",
       "      </Appearance>\n",
       "\n",
       "      <Sphere radius=\"0.71\">\n",
       "\n",
       "      </Sphere>\n",
       "\n",
       "     </Shape>\n",
       "\n",
       "    </Transform>\n",
       "\n",
       "    <Transform translation=\"0.06 -0.39 0.00\">\n",
       "\n",
       "     <Shape>\n",
       "\n",
       "      <Appearance>\n",
       "\n",
       "       <Material diffuseColor=\"0.565 0.565 0.565\" specularColor=\"0.5 0.5 0.5\">\n",
       "\n",
       "       </Material>\n",
       "\n",
       "      </Appearance>\n",
       "\n",
       "      <Sphere radius=\"0.76\">\n",
       "\n",
       "      </Sphere>\n",
       "\n",
       "     </Shape>\n",
       "\n",
       "    </Transform>\n",
       "\n",
       "    <Transform translation=\"-1.31 1.19 0.00\">\n",
       "\n",
       "     <Shape>\n",
       "\n",
       "      <Appearance>\n",
       "\n",
       "       <Material diffuseColor=\"1.000 1.000 1.000\" specularColor=\"0.5 0.5 0.5\">\n",
       "\n",
       "       </Material>\n",
       "\n",
       "      </Appearance>\n",
       "\n",
       "      <Sphere radius=\"0.31\">\n",
       "\n",
       "      </Sphere>\n",
       "\n",
       "     </Shape>\n",
       "\n",
       "    </Transform>\n",
       "\n",
       "    <Transform translation=\"-2.03 -0.39 -0.00\">\n",
       "\n",
       "     <Shape>\n",
       "\n",
       "      <Appearance>\n",
       "\n",
       "       <Material diffuseColor=\"1.000 1.000 1.000\" specularColor=\"0.5 0.5 0.5\">\n",
       "\n",
       "       </Material>\n",
       "\n",
       "      </Appearance>\n",
       "\n",
       "      <Sphere radius=\"0.31\">\n",
       "\n",
       "      </Sphere>\n",
       "\n",
       "     </Shape>\n",
       "\n",
       "    </Transform>\n",
       "\n",
       "    <Transform translation=\"-0.00 -1.49 -0.00\">\n",
       "\n",
       "     <Shape>\n",
       "\n",
       "      <Appearance>\n",
       "\n",
       "       <Material diffuseColor=\"1.000 1.000 1.000\" specularColor=\"0.5 0.5 0.5\">\n",
       "\n",
       "       </Material>\n",
       "\n",
       "      </Appearance>\n",
       "\n",
       "      <Sphere radius=\"0.31\">\n",
       "\n",
       "      </Sphere>\n",
       "\n",
       "     </Shape>\n",
       "\n",
       "    </Transform>\n",
       "\n",
       "    <Transform translation=\"-0.18 1.40 0.00\">\n",
       "\n",
       "     <Shape>\n",
       "\n",
       "      <Appearance>\n",
       "\n",
       "       <Material diffuseColor=\"0.565 0.565 0.565\" specularColor=\"0.5 0.5 0.5\">\n",
       "\n",
       "       </Material>\n",
       "\n",
       "      </Appearance>\n",
       "\n",
       "      <Sphere radius=\"0.76\">\n",
       "\n",
       "      </Sphere>\n",
       "\n",
       "     </Shape>\n",
       "\n",
       "    </Transform>\n",
       "\n",
       "   </Scene>\n",
       "\n",
       "  </X3D>\n",
       "\n",
       " </body>\n",
       "\n",
       "</html>\n",
       "\n"
      ],
      "text/plain": [
       "<IPython.core.display.HTML object>"
      ]
     },
     "execution_count": 3,
     "metadata": {},
     "output_type": "execute_result"
    }
   ],
   "source": [
    "view(macro_ASE, viewer='x3d')"
   ]
  },
  {
   "cell_type": "code",
   "execution_count": 4,
   "metadata": {},
   "outputs": [
    {
     "data": {
      "text/html": [
       "<html>\n",
       "\n",
       " <head>\n",
       "\n",
       "  <title>ASE atomic visualization</title>\n",
       "\n",
       "  <link rel=\"stylesheet\" type=\"text/css\"\n",
       "\n",
       "   href=\"https://www.x3dom.org/x3dom/release/x3dom.css\">\n",
       "\n",
       "  </link>\n",
       "\n",
       "  <script type=\"text/javascript\"\n",
       "\n",
       "   src=\"https://www.x3dom.org/x3dom/release/x3dom.js\">\n",
       "\n",
       "  </script>\n",
       "\n",
       " </head>\n",
       "\n",
       " <body>\n",
       "\n",
       "  <X3D>\n",
       "\n",
       "   <Scene>\n",
       "\n",
       "    <Transform translation=\"0.00 0.00 0.00\">\n",
       "\n",
       "     <Shape>\n",
       "\n",
       "      <Appearance>\n",
       "\n",
       "       <Material diffuseColor=\"0.800 0.502 1.000\" specularColor=\"0.5 0.5 0.5\">\n",
       "\n",
       "       </Material>\n",
       "\n",
       "      </Appearance>\n",
       "\n",
       "      <Sphere radius=\"1.28\">\n",
       "\n",
       "      </Sphere>\n",
       "\n",
       "     </Shape>\n",
       "\n",
       "    </Transform>\n",
       "\n",
       "    <Transform translation=\"0.00 0.00 1.59\">\n",
       "\n",
       "     <Shape>\n",
       "\n",
       "      <Appearance>\n",
       "\n",
       "       <Material diffuseColor=\"1.000 1.000 1.000\" specularColor=\"0.5 0.5 0.5\">\n",
       "\n",
       "       </Material>\n",
       "\n",
       "      </Appearance>\n",
       "\n",
       "      <Sphere radius=\"0.31\">\n",
       "\n",
       "      </Sphere>\n",
       "\n",
       "     </Shape>\n",
       "\n",
       "    </Transform>\n",
       "\n",
       "   </Scene>\n",
       "\n",
       "  </X3D>\n",
       "\n",
       " </body>\n",
       "\n",
       "</html>\n",
       "\n"
      ],
      "text/plain": [
       "<IPython.core.display.HTML object>"
      ]
     },
     "execution_count": 4,
     "metadata": {},
     "output_type": "execute_result"
    }
   ],
   "source": [
    "LiH_ASE = Atoms('LiH', [(0., 0., 0.), (0., 0., 1.5949)])\n",
    "view(LiH_ASE, viewer='x3d')"
   ]
  },
  {
   "cell_type": "code",
   "execution_count": 2,
   "metadata": {},
   "outputs": [],
   "source": [
    "from qutip import *"
   ]
  },
  {
   "cell_type": "code",
   "execution_count": 3,
   "metadata": {},
   "outputs": [
    {
     "data": {
      "text/latex": [
       "Quantum object: dims = [[2], [1]], shape = (2, 1), type = ket $ \\\\ \\left(\\begin{matrix}1.0\\\\0.0\\\\\\end{matrix}\\right)$"
      ],
      "text/plain": [
       "Quantum object: dims = [[2], [1]], shape = (2, 1), type = ket\n",
       "Qobj data =\n",
       "[[1.]\n",
       " [0.]]"
      ]
     },
     "execution_count": 3,
     "metadata": {},
     "output_type": "execute_result"
    }
   ],
   "source": [
    " basis(2,0)"
   ]
  },
  {
   "cell_type": "code",
   "execution_count": 4,
   "metadata": {},
   "outputs": [
    {
     "data": {
      "text/plain": [
       "(<Figure size 600x600 with 1 Axes>,\n",
       " <Axes: title={'center': 'Wigner function'}, xlabel='$\\\\rm{Re}(\\\\alpha)$', ylabel='$\\\\rm{Im}(\\\\alpha)$'>)"
      ]
     },
     "execution_count": 4,
     "metadata": {},
     "output_type": "execute_result"
    },
    {
     "data": {
      "image/png": "[encoded data removed]",
      "text/plain": [
       "<Figure size 600x600 with 1 Axes>"
      ]
     },
     "metadata": {},
     "output_type": "display_data"
    }
   ],
   "source": [
    "plot_wigner(coherent(25,-2+2j)+coherent(25,2-2j))"
   ]
  },
  {
   "cell_type": "code",
   "execution_count": 8,
   "metadata": {},
   "outputs": [
    {
     "data": {
      "text/latex": [
       "Quantum object: dims = [[4], [1]], shape = (4, 1), type = ket $ \\\\ \\left(\\begin{matrix}0.0\\\\0.0\\\\0.0\\\\0.0\\\\\\end{matrix}\\right)$"
      ],
      "text/plain": [
       "Quantum object: dims = [[4], [1]], shape = (4, 1), type = ket\n",
       "Qobj data =\n",
       "[[0.]\n",
       " [0.]\n",
       " [0.]\n",
       " [0.]]"
      ]
     },
     "execution_count": 8,
     "metadata": {},
     "output_type": "execute_result"
    }
   ],
   "source": [
    "destroy(4)*create(4)*basis(4,3)"
   ]
  },
  {
   "cell_type": "code",
   "execution_count": 11,
   "metadata": {},
   "outputs": [
    {
     "data": {
      "text/latex": [
       "Quantum object: dims = [[4], [1]], shape = (4, 1), type = ket $ \\\\ \\left(\\begin{matrix}0.0\\\\0.0\\\\0.0\\\\4.000\\\\\\end{matrix}\\right)$"
      ],
      "text/plain": [
       "Quantum object: dims = [[4], [1]], shape = (4, 1), type = ket\n",
       "Qobj data =\n",
       "[[0.]\n",
       " [0.]\n",
       " [0.]\n",
       " [4.]]"
      ]
     },
     "execution_count": 11,
     "metadata": {},
     "output_type": "execute_result"
    }
   ],
   "source": [
    "(create(4)*destroy(4)+1)*basis(4,3)"
   ]
  },
  {
   "cell_type": "code",
   "execution_count": 7,
   "metadata": {},
   "outputs": [
    {
     "name": "stdout",
     "output_type": "stream",
     "text": [
      "Defaulting to user installation because normal site-packages is not writeable\n",
      "Collecting jupyter_nbextensions_configurator\n",
      "  Downloading jupyter_nbextensions_configurator-0.6.1.tar.gz (481 kB)\n",
      "\u001b[2K     \u001b[38;2;114;156;31m━━━━━━━━━━━━━━━━━━━━━━━━━━━━━━━━━━━━━━━\u001b[0m \u001b[32m481.7/481.7 KB\u001b[0m \u001b[31m1.1 MB/s\u001b[0m eta \u001b[36m0:00:00\u001b[0m[31m1.0 MB/s\u001b[0m eta \u001b[36m0:00:01\u001b[0m\n",
      "\u001b[?25h  Preparing metadata (setup.py) ... \u001b[?25ldone\n",
      "\u001b[?25hCollecting jupyter_contrib_core>=0.3.3\n",
      "  Downloading jupyter_contrib_core-0.4.2.tar.gz (17 kB)\n",
      "  Preparing metadata (setup.py) ... \u001b[?25ldone\n",
      "\u001b[?25hRequirement already satisfied: jupyter_core in /usr/lib/python3/dist-packages (from jupyter_nbextensions_configurator) (4.9.1)\n",
      "Requirement already satisfied: notebook>=6.0 in /usr/lib/python3/dist-packages (from jupyter_nbextensions_configurator) (6.4.8)\n",
      "Requirement already satisfied: pyyaml in /usr/lib/python3/dist-packages (from jupyter_nbextensions_configurator) (5.4.1)\n",
      "Requirement already satisfied: tornado in /usr/lib/python3/dist-packages (from jupyter_nbextensions_configurator) (6.1)\n",
      "Requirement already satisfied: traitlets in /usr/lib/python3/dist-packages (from jupyter_nbextensions_configurator) (5.1.1)\n",
      "Requirement already satisfied: setuptools in /usr/lib/python3/dist-packages (from jupyter_contrib_core>=0.3.3->jupyter_nbextensions_configurator) (59.6.0)\n",
      "Building wheels for collected packages: jupyter_nbextensions_configurator, jupyter_contrib_core\n",
      "  Building wheel for jupyter_nbextensions_configurator (setup.py) ... \u001b[?25ldone\n",
      "\u001b[?25h  Created wheel for jupyter_nbextensions_configurator: filename=jupyter_nbextensions_configurator-0.6.1-py2.py3-none-any.whl size=466844 sha256=24b9d654f22c3e0a1770767beb89e66d4a94d505e1caa1643ccb1db048e193d5\n",
      "  Stored in directory: /home/taamangtchu/.cache/pip/wheels/f4/43/08/c89449c8e689d852e2e30163ca6a8dd08fe76ea80ec8f5eece\n",
      "  Building wheel for jupyter_contrib_core (setup.py) ... \u001b[?25ldone\n",
      "\u001b[?25h  Created wheel for jupyter_contrib_core: filename=jupyter_contrib_core-0.4.2-py2.py3-none-any.whl size=17492 sha256=7b3f51e2fd28093e237560783af416397d180347a830e059ccf0de8c85c1ede1\n",
      "  Stored in directory: /home/taamangtchu/.cache/pip/wheels/a9/52/88/e0643cdfd68f0562087918c37dd583378648dbc3df68b907f7\n",
      "Successfully built jupyter_nbextensions_configurator jupyter_contrib_core\n",
      "Installing collected packages: jupyter_contrib_core, jupyter_nbextensions_configurator\n",
      "\u001b[33m  WARNING: The script jupyter-contrib is installed in '/home/taamangtchu/.local/bin' which is not on PATH.\n",
      "  Consider adding this directory to PATH or, if you prefer to suppress this warning, use --no-warn-script-location.\u001b[0m\u001b[33m\n",
      "\u001b[0m\u001b[33m  WARNING: The script jupyter-nbextensions_configurator is installed in '/home/taamangtchu/.local/bin' which is not on PATH.\n",
      "  Consider adding this directory to PATH or, if you prefer to suppress this warning, use --no-warn-script-location.\u001b[0m\u001b[33m\n",
      "\u001b[0mSuccessfully installed jupyter_contrib_core-0.4.2 jupyter_nbextensions_configurator-0.6.1\n"
     ]
    }
   ],
   "source": [
    "! pip install jupyter_nbextensions_configurator"
   ]
  },
  {
   "cell_type": "code",
   "execution_count": 8,
   "metadata": {},
   "outputs": [
    {
     "name": "stdout",
     "output_type": "stream",
     "text": [
      "Enabling: jupyter_nbextensions_configurator\r\n",
      "- Writing config: /home/taamangtchu/.jupyter\r\n",
      "    - Validating...\r\n",
      "      jupyter_nbextensions_configurator 0.6.1 \u001b[32mOK\u001b[0m\r\n",
      "Enabling notebook nbextension nbextensions_configurator/config_menu/main...\r\n",
      "Enabling tree nbextension nbextensions_configurator/tree_tab/main...\r\n"
     ]
    }
   ],
   "source": [
    "! jupyter nbextensions_configurator enable --user"
   ]
  }
 ],
 "metadata": {
  "kernelspec": {
   "display_name": "qiskit-env",
   "language": "python",
   "name": "qiskit-env"
  },
  "language_info": {
   "codemirror_mode": {
    "name": "ipython",
    "version": 3
   },
   "file_extension": ".py",
   "mimetype": "text/x-python",
   "name": "python",
   "nbconvert_exporter": "python",
   "pygments_lexer": "ipython3",
   "version": "3.10.9"
  }
 },
 "nbformat": 4,
 "nbformat_minor": 4
}
