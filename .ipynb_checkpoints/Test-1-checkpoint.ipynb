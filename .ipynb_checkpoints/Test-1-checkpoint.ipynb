{
 "cells": [
  {
   "cell_type": "code",
   "execution_count": 1,
   "metadata": {
    "execution": {
     "iopub.execute_input": "2023-05-31T16:42:13.068924Z",
     "iopub.status.busy": "2023-05-31T16:42:13.068130Z",
     "iopub.status.idle": "2023-05-31T16:42:14.205683Z",
     "shell.execute_reply": "2023-05-31T16:42:14.204854Z",
     "shell.execute_reply.started": "2023-05-31T16:42:13.068868Z"
    },
    "tags": []
   },
   "outputs": [],
   "source": [
    "import numpy as np\n",
    "from pyscf import gto, scf, ao2mo, mcscf\n",
    "\n",
    "PSPCz_mol = gto.M(atom=[\n",
    "                  ['C', (  -0.2316640,    1.1348450,    0.6956120)],\n",
    "                  ['C', (  -0.8886300,    0.3253780,   -0.2344140)],\n",
    "                  ['C', (  -0.1842470,   -0.1935670,   -1.3239330)],\n",
    "                  ['C', (   1.1662930,    0.0801450,   -1.4737160)],\n",
    "                  ['C', (   1.8089230,    0.8832220,   -0.5383540)],\n",
    "                  ['C', (   1.1155860,    1.4218050,    0.5392780)],\n",
    "                  ['S', (   3.5450920,    1.2449890,   -0.7349240)],\n",
    "                  ['O', (   3.8606900,    1.0881590,   -2.1541690)],\n",
    "                  ['C', (   4.3889120,   -0.0620730,    0.1436780)],\n",
    "                  ['O', (   3.8088290,    2.4916780,   -0.0174650)],\n",
    "                  ['C', (   4.6830900,    0.1064460,    1.4918230)],\n",
    "                  ['C', (   5.3364470,   -0.9144080,    2.1705280)],\n",
    "                  ['C', (   5.6895490,   -2.0818670,    1.5007820)],\n",
    "                  ['C', (   5.4000540,   -2.2323130,    0.1481350)],\n",
    "                  ['C', (   4.7467230,   -1.2180160,   -0.5404770)],\n",
    "                  ['N', (  -2.2589180,    0.0399120,   -0.0793330)],\n",
    "                  ['C', (  -2.8394600,   -1.2343990,   -0.1494160)],\n",
    "                  ['C', (  -4.2635450,   -1.0769890,    0.0660760)],\n",
    "                  ['C', (  -4.5212550,    0.2638010,    0.2662190)],\n",
    "                  ['C', (  -3.2669630,    0.9823890,    0.1722720)],\n",
    "                  ['C', (  -2.2678900,   -2.4598950,   -0.3287380)],\n",
    "                  ['C', (  -3.1299420,   -3.6058560,   -0.3236210)],\n",
    "                  ['C', (  -4.5179520,   -3.4797390,   -0.1395160)],\n",
    "                  ['C', (  -5.1056310,   -2.2512990,    0.0536940)],\n",
    "                  ['C', (  -5.7352450,    1.0074800,    0.5140960)],\n",
    "                  ['C', (  -5.6563790,    2.3761270,    0.6274610)],\n",
    "                  ['C', (  -4.4287740,    3.0501460,    0.5083650)],\n",
    "                  ['C', (  -3.2040560,    2.3409470,    0.2746950)],\n",
    "                  ['H', (  -0.7813570,    1.5286610,    1.5426490)],\n",
    "                  ['H', (  -0.7079140,   -0.7911480,   -2.0611600)],\n",
    "                  ['H', (   1.7161320,   -0.2933710,   -2.3302930)],\n",
    "                  ['H', (   1.6308220,    2.0660550,    1.2427990)],\n",
    "                  ['H', (   4.4214900,    1.0345500,    1.9875450)],\n",
    "                  ['H', (   5.5773000,   -0.7951290,    3.2218590)],\n",
    "                  ['H', (   6.2017810,   -2.8762260,    2.0345740)],\n",
    "                  ['H', (   5.6906680,   -3.1381740,   -0.3739110)],\n",
    "                  ['H', (   4.5337010,   -1.3031330,   -1.6001680)],\n",
    "                  ['H', (  -1.1998460,   -2.5827750,   -0.4596910)],\n",
    "                  ['H', (  -2.6937370,   -4.5881470,   -0.4657540)],\n",
    "                  ['H', (  -5.1332290,   -4.3740010,   -0.1501080)],\n",
    "                  ['H', (  -6.1752900,   -2.1516170,    0.1987120)],\n",
    "                  ['H', (  -6.6812260,    0.4853900,    0.6017680)],\n",
    "                  ['H', (  -6.5574610,    2.9529350,    0.8109620)],\n",
    "                  ['H', (  -4.3980410,    4.1305040,    0.5929440)],\n",
    "                  ['H', (  -2.2726630,    2.8838620,    0.1712760)]],\n",
    "            charge=0,spin=0,basis='631g*',verbose=0)\n"
   ]
  },
  {
   "cell_type": "code",
   "execution_count": 1,
   "metadata": {
    "execution": {
     "iopub.execute_input": "2023-06-04T06:27:48.808486Z",
     "iopub.status.busy": "2023-06-04T06:27:48.807049Z",
     "iopub.status.idle": "2023-06-04T06:27:50.695687Z",
     "shell.execute_reply": "2023-06-04T06:27:50.693894Z",
     "shell.execute_reply.started": "2023-06-04T06:27:48.808265Z"
    },
    "tags": []
   },
   "outputs": [
    {
     "ename": "ImportError",
     "evalue": "cannot import name 'PySCFDriver' from 'qiskit_nature.drivers' (/home/taamangtchu/mambaforge/envs/qiskit-env/lib/python3.10/site-packages/qiskit_nature/drivers/__init__.py)",
     "output_type": "error",
     "traceback": [
      "\u001b[0;31m---------------------------------------------------------------------------\u001b[0m",
      "\u001b[0;31mImportError\u001b[0m                               Traceback (most recent call last)",
      "Cell \u001b[0;32mIn[1], line 2\u001b[0m\n\u001b[1;32m      1\u001b[0m \u001b[38;5;28;01mimport\u001b[39;00m \u001b[38;5;21;01mqiskit\u001b[39;00m\n\u001b[0;32m----> 2\u001b[0m \u001b[38;5;28;01mfrom\u001b[39;00m \u001b[38;5;21;01mqiskit_nature\u001b[39;00m\u001b[38;5;21;01m.\u001b[39;00m\u001b[38;5;21;01mdrivers\u001b[39;00m \u001b[38;5;28;01mimport\u001b[39;00m PySCFDriver, UnitsType\n\u001b[1;32m      3\u001b[0m \u001b[38;5;28;01mfrom\u001b[39;00m \u001b[38;5;21;01mqiskit_nature\u001b[39;00m\u001b[38;5;21;01m.\u001b[39;00m\u001b[38;5;21;01mtransformers\u001b[39;00m \u001b[38;5;28;01mimport\u001b[39;00m FreezeCoreTransformer\n\u001b[1;32m      4\u001b[0m \u001b[38;5;28;01mfrom\u001b[39;00m \u001b[38;5;21;01mqiskit_nature\u001b[39;00m\u001b[38;5;21;01m.\u001b[39;00m\u001b[38;5;21;01malgorithms\u001b[39;00m \u001b[38;5;28;01mimport\u001b[39;00m GroundStateEigensolver\n",
      "\u001b[0;31mImportError\u001b[0m: cannot import name 'PySCFDriver' from 'qiskit_nature.drivers' (/home/taamangtchu/mambaforge/envs/qiskit-env/lib/python3.10/site-packages/qiskit_nature/drivers/__init__.py)"
     ]
    }
   ],
   "source": [
    "import qiskit\n",
    "from qiskit_nature.drivers import PySCFDriver, UnitsType\n",
    "from qiskit_nature.transformers import FreezeCoreTransformer\n",
    "from qiskit_nature.algorithms import GroundStateEigensolver\n",
    "from qiskit_nature.mappers.second_quantization import ParityMapper\n",
    "from qiskit_nature.problems.second_quantization.electronic import ElectronicStructureProblem\n",
    "from qiskit_nature.converters.second_quantization import QubitConverter\n",
    "from qiskit_nature.circuit.library import HartreeFock, UCCSD\n",
    "from qiskit.circuit.library import TwoLocal"
   ]
  },
  {
   "cell_type": "code",
   "execution_count": 3,
   "metadata": {
    "execution": {
     "iopub.execute_input": "2023-05-31T16:45:34.351363Z",
     "iopub.status.busy": "2023-05-31T16:45:34.347712Z",
     "iopub.status.idle": "2023-05-31T16:45:35.950567Z",
     "shell.execute_reply": "2023-05-31T16:45:35.941233Z",
     "shell.execute_reply.started": "2023-05-31T16:45:34.350885Z"
    },
    "tags": []
   },
   "outputs": [
    {
     "name": "stdout",
     "output_type": "stream",
     "text": [
      "(430, 430)\n",
      "2523.279371819741\n"
     ]
    }
   ],
   "source": [
    "# Utilisation de la fonction PySCFDriver pour générer l'Hamiltonien\n",
    "# à partir de la molécule C18H13NO2S\n",
    "molecule = 'C18H13NO2S'\n",
    "driver = PySCFDriver(molecule=molecule, unit=UnitsType.ANGSTROM, basis='sto3g')\n",
    "problem = ElectronicStructureProblem(driver, [FreezeCoreTransformer()])\n",
    "\n",
    "# Utilisation de la fonction ParityMapper pour mapper l'Hamiltonien\n",
    "# sur des qubits, et utilisation de la fonction QubitConverter pour\n",
    "# convertir l'Hamiltonien en un format supporté par les algos de Qiskit\n",
    "mapper = ParityMapper()\n",
    "converter = QubitConverter(mapper=mapper)\n",
    "qubit_op = converter.convert(problem.second_q_ops())\n",
    "\n",
    "# Utilisation de l'algorithme GroundStateEigensolver pour calculer\n",
    "# l'état fondamental de l'Hamiltonien\n",
    "solver = GroundStateEigensolver(converter)\n",
    "result = solver.solve(problem)\n",
    "\n",
    "# Utilisation de la fonction HartreeFock pour générer un état initial,\n",
    "# et utilisation de la fonction UCCSD pour construire un circuit quantique\n",
    "# variational pour optimiser l'énergie de l'état fondamental\n",
    "num_particles = (problem.molecule_data_transformed.num_alpha, problem.molecule_data_transformed.num_beta)\n",
    "num_spin_orbitals = 2 * problem.molecule_data_transformed.num_molecular_orbitals\n",
    "init_state = HartreeFock(num_spin_orbitals, num_particles, converter)\n",
    "var_form = UCCSD(num_orbitals=num_spin_orbitals, num_particles=num_particles, converter=converter, initial_state=init_state)\n",
    "\n",
    "# Utilisation de la fonction TwoLocal pour créer un circuit quantique\n",
    "# pour optimiser l'énergie de l'état fondamental\n",
    "ansatz = TwoLocal(num_spin_orbitals, ['ry', 'rz'], 'cz', reps=3)\n",
    "\n",
    "# Utilisation de la méthode VQE pour calculer l'énergie de l'état fondamental\n",
    "# et le circuit quantique optimisé qui le réalise\n",
    "from qiskit.algorithms import VQE\n",
    "from qiskit.providers.aer import QasmSimulator\n",
    "\n",
    "backend = QasmSimulator()\n",
    "vqe = VQE(ansatz=ansatz, optimizer=qiskit.optimization.COBYLA(), quantum_instance=backend)\n",
    "result = vqe.compute_minimum_eigenvalue(qubit_op)\n",
    "\n",
    "# Affichage du résultat\n",
    "print(result)"
   ]
  },
  {
   "cell_type": "code",
   "execution_count": 2,
   "metadata": {},
   "outputs": [],
   "source": [
    "import latex2sympy2\n",
    "import flask"
   ]
  },
  {
   "cell_type": "markdown",
   "metadata": {},
   "source": [
    "$  \\begin{bmatrix} 1 & 1 & 1 & 1 \\\\\n",
    "    0 & 1 & 0 & 0 \\\\\n",
    "    0 & 0 & 1 & 1 \\\\\n",
    "    0 & 0 & 0 & 1\\end{bmatrix} \\begin{bmatrix} 0 \\\\ 1 \\\\ 1\\\\ 0\\end{bmatrix} = \\begin{bmatrix}2\\\\1\\\\1\\\\0\\end{bmatrix}$"
   ]
  },
  {
   "cell_type": "code",
   "execution_count": null,
   "metadata": {},
   "outputs": [],
   "source": [
    "import netket as nk\n",
    "netket\n",
    "nk.__version__\n"
   ]
  },
  {
   "cell_type": "code",
   "execution_count": null,
   "metadata": {},
   "outputs": [],
   "source": [
    "hi = nk.hilbert.Spin(1/2)\n",
    "hi"
   ]
  },
  {
   "cell_type": "code",
   "execution_count": null,
   "metadata": {},
   "outputs": [],
   "source": [
    "nk.operator.spin.sigmaz(hi,0)"
   ]
  },
  {
   "cell_type": "code",
   "execution_count": null,
   "metadata": {},
   "outputs": [],
   "source": [
    "from qiskit_nature.second_q.operators import FermionicOp\n",
    "from qiskit_nature.second_q.operators.commutators import anti_commutator"
   ]
  },
  {
   "cell_type": "code",
   "execution_count": null,
   "metadata": {},
   "outputs": [],
   "source": [
    "op1 = FermionicOp({\"+_0 -_1\": 1}, num_spin_orbitals=2)\n",
    "op2 = FermionicOp({\"-_1 +_2\": 1}, num_spin_orbitals=3)"
   ]
  },
  {
   "cell_type": "code",
   "execution_count": null,
   "metadata": {},
   "outputs": [],
   "source": [
    "anti_commutator(FermionicOp({\"+_0\": 1}, num_spin_orbitals=1), FermionicOp({\"-_0\": 1}, num_spin_orbitals=1))"
   ]
  },
  {
   "cell_type": "code",
   "execution_count": null,
   "metadata": {},
   "outputs": [],
   "source": [
    "a01 = anti_commutator(FermionicOp({\"+_0\": 1}, num_spin_orbitals=1), FermionicOp({\"-_0\": 1}, num_spin_orbitals=1))\n",
    "a01.normal_order()"
   ]
  },
  {
   "cell_type": "code",
   "execution_count": null,
   "metadata": {},
   "outputs": [],
   "source": [
    "anti_commutator(op1, op2)"
   ]
  },
  {
   "cell_type": "code",
   "execution_count": null,
   "metadata": {},
   "outputs": [],
   "source": [
    "opx = FermionicOp({\"+_0 -_1 +_1 -_3\" : 1}, num_spin_orbitals=4)\n",
    "op = FermionicOp(\n",
    "    {\n",
    "        \"+_0 -_3\": 1.0,\n",
    "        \"+_0 +_1 -_1 -_3\": -1.0,\n",
    "    },\n",
    "    num_spin_orbitals=4,\n",
    ")\n",
    "opx.normal_order().equiv(op.normal_order())"
   ]
  },
  {
   "cell_type": "code",
   "execution_count": null,
   "metadata": {
    "tags": []
   },
   "outputs": [],
   "source": [
    "from qiskit.extensions import UnitaryGate, XGate, IGate, CXGate\n",
    "from qiskit.quantum_info.operators import Operator, Pauli\n",
    "from qiskit.visualization import array_to_latex\n",
    "from qiskit.quantum_info import Statevector\n",
    "\n",
    "\n",
    "import numpy as np"
   ]
  },
  {
   "cell_type": "code",
   "execution_count": null,
   "metadata": {},
   "outputs": [],
   "source": [
    "sv0 = Statevector.from_label('0')\n",
    "sv1 = Statevector.from_label('1')\n",
    "X = Operator(Pauli('X'))\n",
    "(sv0.evolve(X)).equiv(sv1)"
   ]
  },
  {
   "cell_type": "code",
   "execution_count": null,
   "metadata": {},
   "outputs": [],
   "source": [
    "from qiskit.circuit.library import MCXGate, C3XGate\n",
    "gate = MCXGate(4)\n",
    "\n",
    "from qiskit import QuantumCircuit\n",
    "circuit = QuantumCircuit(5)\n",
    "circuit.append(gate, [0, 1, 4, 2, 3])\n",
    "circuit.draw('mpl')"
   ]
  },
  {
   "cell_type": "code",
   "execution_count": null,
   "metadata": {},
   "outputs": [],
   "source": [
    "Gat = C3XGate()\n",
    "cir = QuantumCircuit(4)\n",
    "cir.append(Gat, [0, 1, 3, 2])\n",
    "cir.draw('mpl')"
   ]
  },
  {
   "cell_type": "markdown",
   "metadata": {},
   "source": [
    "$\n",
    "\\newcommand{\\HH}{\\mathtt{H}}  \n",
    "\\newcommand{\\ad}{a^\\dagger}  \n",
    "\\newcommand{\\kb}[2]{|#1\\rangle\\langle#2|} \n",
    "\\newcommand{\\proj}[1]{|#1\\rangle\\langle#1|}\n",
    "\\newcommand{\\bk}[2]{\\langle#1|#2\\rangle}\n",
    "\\newcommand{\\ket}[1]{|#1\\rangle}\n",
    "$"
   ]
  },
  {
   "cell_type": "markdown",
   "metadata": {},
   "source": [
    "Opérateur qubit             |  Description\n",
    "----------------------------|---------------------\n",
    "$\\mathtt{I}$$=\\begin{pmatrix}1 & 0 \\\\ 0 &1 \\end{pmatrix}$ |Identité\n",
    "$\\mathtt{Q}^-$$=\\begin{pmatrix}0 & 1 \\\\ 1 & 0 \\end{pmatrix}$$=\\frac12(\\mathtt{X} + i\\mathtt{Y}) =\\kb{1}{0}$ | Annihilation \n",
    "$\\mathtt{Q}^+$$=\\begin{pmatrix}0 & 0 \\\\ 1 & 0 \\end{pmatrix}$$=\\frac12(\\mathtt{X} - i\\mathtt{Y}) =\\kb{0}{1}$ | Création\n",
    "$\\mathtt{Q}^+\\mathtt{Q}^-$$=\\begin{pmatrix}0 & 0 \\\\ 0 &1 \\end{pmatrix}$$=\\frac12(\\mathtt{I} - \\mathtt{Z}) =\\proj{1}$ | Un nombre (particule)\n",
    "$\\mathtt{Q}^-\\mathtt{Q}^+$$=\\begin{pmatrix}0 & 0 \\\\ 0 &1 \\end{pmatrix}$$=\\frac12(\\mathtt{I} + \\mathtt{Z}) =\\proj{0}$ | Zéro nombre (trou)\n",
    "\n",
    "Les opérateurs qubits sont antisymétriques: $\\{\\mathtt{Q}^,\\mathtt{Q}^-\\}$$=\\mathtt{Q}^+\\mathtt{Q}^- + \\mathtt{Q}^-\\mathtt{Q}^+ = \\mathtt{I}$."
   ]
  },
  {
   "cell_type": "code",
   "execution_count": null,
   "metadata": {},
   "outputs": [],
   "source": [
    "from qiskit import QuantumCircuit, execute, Aer, IBMQ\n",
    "from qiskit.compiler import transpile, assemble\n",
    "from qiskit.tools.jupyter import *\n",
    "from qiskit.visualization import *"
   ]
  },
  {
   "cell_type": "code",
   "execution_count": null,
   "metadata": {},
   "outputs": [],
   "source": [
    "# Loading your IBM Q account(s)\n",
    "provider = IBMQ.load_account()\n",
    "\n",
    "device = provider.get_backend('ibmq_5_yorktown')"
   ]
  },
  {
   "cell_type": "code",
   "execution_count": null,
   "metadata": {},
   "outputs": [],
   "source": [
    "qc=QuantumCircuit(3)\n",
    "qc.ccx(0,1,2)\n",
    "new_circuit = transpile(qc,backend=device)\n",
    "new_circuit.draw(output='mpl')"
   ]
  },
  {
   "cell_type": "code",
   "execution_count": null,
   "metadata": {},
   "outputs": [],
   "source": [
    "import pandas as pd\n",
    "\n",
    "H2_data = pd.read_csv(f\"Resultats/H2_results.csv\")\n",
    "\n",
    "H2_data"
   ]
  },
  {
   "cell_type": "code",
   "execution_count": null,
   "metadata": {},
   "outputs": [],
   "source": [
    "import ipysheet\n",
    "sheet = ipysheet.sheet(rows=3, columns=4)\n",
    "cell1 = ipysheet.cell(0, 0, 'Hello')\n",
    "cell2 = ipysheet.cell(2, 0, 'World')\n",
    "cell_value = ipysheet.cell(2,2, 42.)\n",
    "print(sheet)"
   ]
  },
  {
   "cell_type": "code",
   "execution_count": null,
   "metadata": {},
   "outputs": [],
   "source": [
    "import ipywidgets as widgets\n",
    "sheet = ipysheet.sheet(rows=3, columns=2, column_headers=False, row_headers=False)\n",
    "cell_a = ipysheet.cell(0, 1, 1, label_left='a')\n",
    "cell_b = ipysheet.cell(1, 1, 2, label_left='b')\n",
    "cell_sum = ipysheet.cell(2, 1, 3, label_left='sum', read_only=True)\n",
    "\n",
    "# create a slider linked to cell a\n",
    "slider = widgets.FloatSlider(min=-10, max=10, description='a')\n",
    "widgets.jslink((cell_a, 'value'), (slider, 'value'))\n",
    "\n",
    "# changes in a or b should trigger this function\n",
    "def calculate(change):\n",
    "    cell_sum.value = cell_a.value + cell_b.value\n",
    "\n",
    "cell_a.observe(calculate, 'value')\n",
    "cell_b.observe(calculate, 'value')\n",
    "\n",
    "\n",
    "widgets.VBox([sheet, slider])"
   ]
  },
  {
   "cell_type": "markdown",
   "metadata": {},
   "source": [
    "## Qiskit_nature_pyscf version 0.6"
   ]
  },
  {
   "cell_type": "code",
   "execution_count": null,
   "metadata": {},
   "outputs": [],
   "source": [
    "from pyscf import gto, scf, mcscf\n",
    "\n",
    "import numpy as np\n",
    "\n",
    "from qiskit.algorithms.minimum_eigensolvers import VQE\n",
    "from qiskit.algorithms.optimizers import SLSQP\n",
    "from qiskit.primitives import Estimator\n",
    "from qiskit_nature.second_q.algorithms import GroundStateEigensolver\n",
    "from qiskit_nature.second_q.circuit.library import HartreeFock, UCCSD\n",
    "from qiskit_nature.second_q.mappers import ParityMapper\n",
    "\n",
    "from qiskit_nature_pyscf import QiskitSolver\n",
    "\n",
    "mol = gto.M(atom=\"Li 0 0 0; H 0 0 1.6\", basis=\"sto-3g\")\n",
    "\n",
    "h_f = scf.RHF(mol).run()\n",
    "\n",
    "norb = 2\n",
    "nalpha, nbeta = 1, 1\n",
    "nelec = nalpha + nbeta\n",
    "\n",
    "cas = mcscf.CASCI(h_f, norb, nelec)\n",
    "\n",
    "# mapper = ParityMapper(num_particles=(nalpha, nbeta))\n",
    "mapper = ParityMapper()\n",
    "\n",
    "ansatz = UCCSD(\n",
    "    norb,\n",
    "    (nalpha, nbeta),\n",
    "    mapper,\n",
    "    initial_state=HartreeFock(\n",
    "        norb,\n",
    "        (nalpha, nbeta),\n",
    "        mapper,\n",
    "    ),\n",
    ")\n",
    "\n",
    "vqe = VQE(Estimator(), ansatz, SLSQP())\n",
    "vqe.initial_point = np.zeros(ansatz.num_parameters)\n",
    "\n",
    "algorithm = GroundStateEigensolver(mapper, vqe)\n",
    "\n",
    "cas.fcisolver = QiskitSolver(algorithm)\n",
    "\n",
    "cas.run()"
   ]
  },
  {
   "cell_type": "code",
   "execution_count": null,
   "metadata": {},
   "outputs": [],
   "source": [
    "ansatz.num_qubits"
   ]
  },
  {
   "cell_type": "markdown",
   "metadata": {},
   "source": [
    "$\\newcommand{\\mel}[3]{\\langle #1|#2|#3\\rangle} %Matrix element$\n"
   ]
  },
  {
   "cell_type": "code",
   "execution_count": null,
   "metadata": {},
   "outputs": [],
   "source": [
    "H2_mol = gto.M(atom=\"H 0 0 0; H 0 0 .735\", basis=\"sto-3g\")\n",
    "\n",
    "mf = scf.RHF (H2_mol).run ()\n",
    "\n",
    "norb = mf.mo_coeff.shape[1]\n",
    "nelec = H2_mol.nelec\n",
    "\n",
    "print(norb)\n",
    "print(nelec)"
   ]
  },
  {
   "cell_type": "markdown",
   "metadata": {},
   "source": [
    "$\\mel{\\psi(\\theta)}{\\mathtt{H}}{\\psi(\\theta)}$"
   ]
  },
  {
   "cell_type": "code",
   "execution_count": null,
   "metadata": {},
   "outputs": [],
   "source": [
    "from qiskit_nature.units import DistanceUnit\n",
    "from qiskit_nature.second_q.drivers import PySCFDriver\n",
    "\n",
    "# Use PySCF, a classical computational chemistry software\n",
    "# package, to compute the one-body and two-body integrals in\n",
    "# electronic-orbital basis, necessary to form the Fermionic operator\n",
    "driver = PySCFDriver(\n",
    "    atom='H .0 .0 .0; H .0 .0 0.735',\n",
    "    unit=DistanceUnit.ANGSTROM,\n",
    "    basis='sto3g',\n",
    ")\n",
    "problem = driver.run()\n",
    "\n",
    "# setup the qubit mapper\n",
    "from qiskit_nature.second_q.mappers import ParityMapper\n",
    "\n",
    "mapper = ParityMapper(num_particles=problem.num_particles)\n",
    "\n",
    "# setup the classical optimizer for the VQE\n",
    "from qiskit.algorithms.optimizers import L_BFGS_B\n",
    "\n",
    "optimizer = L_BFGS_B()\n",
    "\n",
    "# setup the estimator primitive for the VQE\n",
    "from qiskit.primitives import Estimator\n",
    "\n",
    "estimator = Estimator()\n",
    "\n",
    "# setup the ansatz for VQE\n",
    "from qiskit_nature.second_q.circuit.library import HartreeFock, UCCSD\n",
    "\n",
    "ansatz = UCCSD(\n",
    "    problem.num_spatial_orbitals,\n",
    "    problem.num_particles,\n",
    "    mapper,\n",
    "    initial_state=HartreeFock(\n",
    "        problem.num_spatial_orbitals,\n",
    "        problem.num_particles,\n",
    "        mapper,\n",
    "    ),\n",
    ")\n",
    "\n",
    "# set up our actual VQE instance\n",
    "from qiskit.algorithms.minimum_eigensolvers import VQE\n",
    "\n",
    "vqe = VQE(estimator, ansatz, optimizer)\n",
    "# ensure that the optimizer starts in the all-zero state which corresponds to\n",
    "# the Hartree-Fock starting point\n",
    "vqe.initial_point = [0] * ansatz.num_parameters\n",
    "\n",
    "# prepare the ground-state solver and run it\n",
    "from qiskit_nature.second_q.algorithms import GroundStateEigensolver\n",
    "\n",
    "algorithm = GroundStateEigensolver(mapper, vqe)\n",
    "\n",
    "electronic_structure_result = algorithm.solve(problem)\n",
    "print(electronic_structure_result)"
   ]
  },
  {
   "cell_type": "code",
   "execution_count": null,
   "metadata": {},
   "outputs": [],
   "source": [
    "ansatz.num_parameters\n"
   ]
  },
  {
   "cell_type": "code",
   "execution_count": null,
   "metadata": {},
   "outputs": [],
   "source": [
    "'''\n",
    "Response-theory calculation of the permanent dipole moment\n",
    "'''\n",
    "\n",
    "from pyscf import gto, scf, mcpdft\n",
    "from pyscf.lib import logger\n",
    "\n",
    "logger.TIMER_LEVEL = logger.INFO\n",
    "\n",
    "# Energy calculation\n",
    "h2co_xyz = '''C  0.534004  0.000000  0.000000\n",
    "O -0.676110  0.000000  0.000000\n",
    "H  1.102430  0.000000  0.920125\n",
    "H  1.102430  0.000000 -0.920125'''\n",
    "mol = gto.M (atom = h2co_xyz, basis = 'def2svp', symmetry = False,\n",
    "             verbose = logger.INFO, output = '00-dipole_moment.log')\n",
    "mf = scf.RHF (mol).run ()\n",
    "mc = mcpdft.CASSCF (mf, 'tPBE', 6, 6)\n",
    "mc.kernel ()\n",
    "\n",
    "# Electric Dipole calculation\n",
    "dipole = mc.dip_moment(unit='Debye')\n",
    "print (\"MC-PDFT electric dipole moment Debye\")\n",
    "print (\" {:8.5f} {:8.5f} {:8.5f}\".format (*dipole))\n",
    "print (\"Numerical MC-PDFT electric dipole moment from GAMESS [Debye]\")\n",
    "print (\" 2.09361 0.00000 0.00000 \")"
   ]
  },
  {
   "cell_type": "code",
   "execution_count": null,
   "metadata": {},
   "outputs": [],
   "source": [
    "#!/usr/bin/env python\n",
    "\n",
    "'''\n",
    "Custom solvent cavity\n",
    "'''\n",
    "\n",
    "import numpy\n",
    "from pyscf import gto, qmmm, solvent\n",
    "\n",
    "#\n",
    "# Case 1. Cavity for dummy atoms with basis on the dummy atoms\n",
    "#\n",
    "mol = gto.M(atom='''\n",
    "C        0.000000    0.000000             -0.542500\n",
    "O        0.000000    0.000000              0.677500\n",
    "H        0.000000    0.9353074360871938   -1.082500\n",
    "H        0.000000   -0.9353074360871938   -1.082500\n",
    "X-C      0.000000    0.000000             -1.5\n",
    "X-O      0.000000    0.000000              1.6\n",
    "            ''',\n",
    "            verbose = 4)\n",
    "\n",
    "sol = solvent.ddCOSMO(mol)\n",
    "cavity_radii = sol.get_atomic_radii()\n",
    "\n",
    "cavity_radii[4] = 3.0  # Bohr, for X-C\n",
    "cavity_radii[5] = 2.5  # Bohr, for X-O\n",
    "# Overwrite the get_atom_radii method to feed the custom cavity into the solvent model\n",
    "sol.get_atomic_radii = lambda: cavity_radii\n",
    "\n",
    "mf = mol.RHF().ddCOSMO(sol)\n",
    "mf.run()\n",
    "\n",
    "\n",
    "#\n",
    "# Case 2. Cavity for dummy atoms (without basis)\n",
    "#\n",
    "mol = gto.M(atom='''\n",
    "C        0.000000    0.000000             -0.542500\n",
    "O        0.000000    0.000000              0.677500\n",
    "H        0.000000    0.9353074360871938   -1.082500\n",
    "H        0.000000   -0.9353074360871938   -1.082500\n",
    "            ''',\n",
    "            verbose = 4)\n",
    "\n",
    "# Use a MM molecule to define cavity from dummy atoms.\n",
    "# See also the example 22-with_qmmm.py\n",
    "coords = numpy.array([\n",
    "    [0, 0, -1.5],\n",
    "    [0, 0, 1.6],\n",
    "])\n",
    "charges = numpy.array([0, 0])\n",
    "mm_atoms = [('X', c) for c in coords]\n",
    "mm_mol = qmmm.create_mm_mol(mm_atoms, charges)\n",
    "\n",
    "# Make a giant system include both QM and MM particles\n",
    "qmmm_mol = mol + mm_mol\n",
    "\n",
    "# The solvent model is based on the giant system\n",
    "sol = solvent.ddCOSMO(qmmm_mol)\n",
    "cavity_radii = sol.get_atomic_radii()\n",
    "\n",
    "# Custom cavity\n",
    "cavity_radii[4] = 3.0  # Bohr\n",
    "cavity_radii[5] = 2.5  # Bohr\n",
    "# Overwrite the get_atom_radii method to feed the custom cavity into the solvent model\n",
    "sol.get_atomic_radii = lambda: cavity_radii\n",
    "\n",
    "mf = mol.RHF().QMMM(coords, charges)\n",
    "mf = mf.ddCOSMO(sol)\n",
    "mf.run()"
   ]
  },
  {
   "cell_type": "code",
   "execution_count": null,
   "metadata": {},
   "outputs": [],
   "source": [
    "from pyscf import gto, scf, mcscf\n",
    "from pyscf.mcscf import avas\n",
    "\n",
    "mol = gto.M(\n",
    "  atom=\"O 0 0 0.115; H 0 0.754 -0.459; H 0 -0.754 -0.459\",\n",
    "  basis=\"sto6g\",\n",
    ")\n",
    "\n",
    "h_f = scf.RHF(mol).run()\n",
    "# converged SCF energy = -75.6769190377958\n",
    "\n",
    "# norb, nel, mo = avas.avas(h_f,['O 2p', 'H 1s','H 1s'])\n",
    "nel = mol.nelec\n",
    "\n",
    "# print(norb)\n",
    "print(nel)"
   ]
  },
  {
   "cell_type": "code",
   "execution_count": null,
   "metadata": {},
   "outputs": [],
   "source": [
    "LiH_mol = gto.M(atom=\"Li 0 0 0; H 0 0 1.6\", basis=\"sto-3g\")\n",
    "\n",
    "LiH_h_f = scf.RHF(LiH_mol).run()\n",
    "norb, nel, mo = avas.avas(h_f,['Li 2s', 'H 1s'])\n",
    "# nel = mol.nelec\n",
    "\n",
    "print(norb)\n",
    "print(nel)\n",
    "# print(mo)"
   ]
  },
  {
   "cell_type": "code",
   "execution_count": null,
   "metadata": {},
   "outputs": [],
   "source": [
    "import numpy\n",
    "from pyscf import gto, scf, mcscf\n",
    "\n",
    "'''\n",
    "Scan BeH2 molecule symmetric dissociation curve\n",
    "Note the CI wave function might change symmetry in the scanning.  Adjust\n",
    "fcisolver parameters to maintain the right symmetry.\n",
    "'''\n",
    "\n",
    "def run(i, dm0, mo0, ci0):\n",
    "    x = i\n",
    "    y = (2.54 - 0.46 * x)\n",
    "    x = x * 0.529177249\n",
    "    y = y * 0.529177249\n",
    "    mol = gto.M(\n",
    "        verbose = 0,\n",
    "        atom = [\n",
    "            ['Be',( 0., 0.    , 0.   )],\n",
    "            ['H', ( x, -y    , 0.    )],\n",
    "            ['H', ( x,  y    , 0.    )],],\n",
    "        basis = '6-311G',\n",
    "        symmetry = True)\n",
    "\n",
    "    mf = scf.RHF(mol)\n",
    "    ehf = mf.scf(dm0)\n",
    "\n",
    "    mc = mcscf.CASSCF(mf, 2, 2)\n",
    "    mc.fcisolver.davidson_only = True # force the CI solver stick on (A1)^2(B1)^0 configuration\n",
    "    if mo0 is not None:\n",
    "        mo0 = mcscf.project_init_guess(mc, mo0)\n",
    "\n",
    "    emc = mc.mc1step(mo0, ci0)[0]\n",
    "\n",
    "    print('%2.1f bohr, HF energy: %12.8f, CASSCF energy: %12.8f' % (i, ehf, emc))\n",
    "    return mf, mc\n",
    "\n",
    "dm0 = mo0 = ci = None\n",
    "for i in reversed(numpy.arange(1.0, 4.1, .1)):\n",
    "    mf, mc = run(i, dm0, mo0, ci)\n",
    "    dm0 = mf.make_rdm1()\n",
    "    mo_coeff = mc.mo_coeff\n",
    "    ci = mc.ci"
   ]
  },
  {
   "cell_type": "code",
   "execution_count": null,
   "metadata": {},
   "outputs": [],
   "source": [
    "from pandasgui import show"
   ]
  },
  {
   "cell_type": "code",
   "execution_count": null,
   "metadata": {},
   "outputs": [],
   "source": [
    "from sklearn.datasets import load_breast_cancer\n",
    "import pandas as pd\n",
    "\n",
    "breast = load_breast_cancer()\n",
    "breast_df = pd.DataFrame(breast.data, columns = breast.feature_names)\n",
    "breast_df['target'] = breast.target\n",
    "breast_df.head()"
   ]
  },
  {
   "cell_type": "code",
   "execution_count": null,
   "metadata": {},
   "outputs": [],
   "source": [
    "show(breast_df)"
   ]
  },
  {
   "cell_type": "code",
   "execution_count": null,
   "metadata": {},
   "outputs": [],
   "source": []
  },
  {
   "cell_type": "code",
   "execution_count": null,
   "metadata": {
    "tags": []
   },
   "outputs": [],
   "source": [
    "BS = (Operator(Pauli('I')) + 1.j*Operator(Pauli('X')))/np.sqrt(2)\n",
    "array_to_latex(BS)"
   ]
  },
  {
   "cell_type": "code",
   "execution_count": null,
   "metadata": {
    "tags": []
   },
   "outputs": [],
   "source": [
    "BS = (Operator(IGate()) + 1.j*Operator(XGate()))/np.sqrt(2)\n",
    "array_to_latex(BS)"
   ]
  },
  {
   "cell_type": "code",
   "execution_count": null,
   "metadata": {
    "tags": []
   },
   "outputs": [],
   "source": [
    "array_to_latex(Operator(CXGate()))"
   ]
  },
  {
   "cell_type": "code",
   "execution_count": null,
   "metadata": {
    "tags": []
   },
   "outputs": [],
   "source": [
    "BS = UnitaryGate(BS,'BS')\n",
    "PBS = UnitaryGate(BS,'PBS')\n",
    "# array_to_latex(BS)"
   ]
  },
  {
   "cell_type": "code",
   "execution_count": null,
   "metadata": {},
   "outputs": [],
   "source": [
    "def BK(m):\n",
    "    I = [[1, 0], [0, 1]]\n",
    "    d = {}\n",
    "    d[0] = [1]\n",
    "    for k in range(0, m):\n",
    "        B = np.kron(I,d[k])\n",
    "        for l in range(2**k, 2**(k+1)):\n",
    "            B[0,l] = 1\n",
    "        d[k+1] = B\n",
    "    return d\n"
   ]
  },
  {
   "cell_type": "code",
   "execution_count": null,
   "metadata": {},
   "outputs": [],
   "source": [
    "from sympy.physics.quantum import *\n",
    "import numpy as np"
   ]
  },
  {
   "cell_type": "code",
   "execution_count": null,
   "metadata": {},
   "outputs": [],
   "source": [
    "psi = (Ket(00)+2*Ket(10)-2*Ket(11))/3\n",
    "psi"
   ]
  },
  {
   "cell_type": "code",
   "execution_count": null,
   "metadata": {},
   "outputs": [],
   "source": [
    "from ase import Atoms\n",
    "from ase.build import molecule\n",
    "from ase.visualize import view"
   ]
  },
  {
   "cell_type": "code",
   "execution_count": null,
   "metadata": {},
   "outputs": [],
   "source": [
    "macro_ASE = Atoms('ONCHHHC', [(1.1280, 0.2091, 0.0000), \n",
    "                          (-1.1878, 0.1791, 0.0000), \n",
    "                          (0.0598, -0.3882, 0.0000),\n",
    "                          (-1.3085, 1.1864, 0.0001),\n",
    "                          (-2.0305, -0.3861, -0.0001),\n",
    "                          (-0.0014, -1.4883, -0.0001),\n",
    "                          (-0.1805, 1.3955, 0.0000)])"
   ]
  },
  {
   "cell_type": "code",
   "execution_count": null,
   "metadata": {},
   "outputs": [],
   "source": [
    "view(macro_ASE, viewer='x3d')"
   ]
  },
  {
   "cell_type": "code",
   "execution_count": null,
   "metadata": {},
   "outputs": [],
   "source": [
    "LiH_ASE = Atoms('LiH', [(0., 0., 0.), (0., 0., 1.5949)])\n",
    "view(LiH_ASE, viewer='x3d')"
   ]
  },
  {
   "cell_type": "code",
   "execution_count": null,
   "metadata": {},
   "outputs": [],
   "source": [
    "from qutip import *"
   ]
  },
  {
   "cell_type": "code",
   "execution_count": null,
   "metadata": {},
   "outputs": [],
   "source": [
    "basis(2,0)"
   ]
  },
  {
   "cell_type": "code",
   "execution_count": null,
   "metadata": {},
   "outputs": [],
   "source": [
    "plot_wigner(coherent(25,-2+2j)+coherent(25,2-2j))"
   ]
  },
  {
   "cell_type": "code",
   "execution_count": null,
   "metadata": {},
   "outputs": [],
   "source": [
    "destroy(4)*create(4)*basis(4,3)"
   ]
  },
  {
   "cell_type": "code",
   "execution_count": null,
   "metadata": {},
   "outputs": [],
   "source": [
    "(create(4)*destroy(4)+1)*basis(4,3)"
   ]
  },
  {
   "cell_type": "code",
   "execution_count": null,
   "metadata": {},
   "outputs": [],
   "source": [
    "! pip install jupyter_nbextensions_configurator"
   ]
  },
  {
   "cell_type": "code",
   "execution_count": null,
   "metadata": {},
   "outputs": [],
   "source": [
    "! jupyter nbextensions_configurator enable --user"
   ]
  }
 ],
 "metadata": {
  "kernelspec": {
   "display_name": "qiskit-env",
   "language": "python",
   "name": "qiskit-env"
  },
  "language_info": {
   "codemirror_mode": {
    "name": "ipython",
    "version": 3
   },
   "file_extension": ".py",
   "mimetype": "text/x-python",
   "name": "python",
   "nbconvert_exporter": "python",
   "pygments_lexer": "ipython3",
   "version": "3.10.11"
  }
 },
 "nbformat": 4,
 "nbformat_minor": 4
}
