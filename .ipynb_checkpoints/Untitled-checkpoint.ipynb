{
 "cells": [
  {
   "cell_type": "markdown",
   "id": "b77fe9f6-1cbb-4a60-a98b-e3394da0e37e",
   "metadata": {},
   "source": [
    "# Spin-1/2 on a Bloch sphere\n",
    "\n",
    "The Qiskit framework of IBM is use.\n",
    "\n",
    "Create quantum circuits with a single qubit."
   ]
  },
  {
   "cell_type": "code",
   "execution_count": 4,
   "id": "11a5d4e5",
   "metadata": {},
   "outputs": [
    {
     "data": {
      "application/3dmoljs_load.v0": "<div id=\"3dmolviewer_1714963378458434\"  style=\"position: relative; width: 400px; height: 400px;\">\n        <p id=\"3dmolwarning_1714963378458434\" style=\"background-color:#ffcccc;color:black\">3Dmol.js failed to load for some reason.  Please check your browser console for error messages.<br></p>\n        </div>\n<script>\n\nvar loadScriptAsync = function(uri){\n  return new Promise((resolve, reject) => {\n    //this is to ignore the existence of requirejs amd\n    var savedexports, savedmodule;\n    if (typeof exports !== 'undefined') savedexports = exports;\n    else exports = {}\n    if (typeof module !== 'undefined') savedmodule = module;\n    else module = {}\n\n    var tag = document.createElement('script');\n    tag.src = uri;\n    tag.async = true;\n    tag.onload = () => {\n        exports = savedexports;\n        module = savedmodule;\n        resolve();\n    };\n  var firstScriptTag = document.getElementsByTagName('script')[0];\n  firstScriptTag.parentNode.insertBefore(tag, firstScriptTag);\n});\n};\n\nif(typeof $3Dmolpromise === 'undefined') {\n$3Dmolpromise = null;\n  $3Dmolpromise = loadScriptAsync('https://cdnjs.cloudflare.com/ajax/libs/3Dmol/2.1.0/3Dmol-min.js');\n}\n\nvar viewer_1714963378458434 = null;\nvar warn = document.getElementById(\"3dmolwarning_1714963378458434\");\nif(warn) {\n    warn.parentNode.removeChild(warn);\n}\n$3Dmolpromise.then(function() {\nviewer_1714963378458434 = $3Dmol.createViewer(document.getElementById(\"3dmolviewer_1714963378458434\"),{backgroundColor:\"white\"});\nviewer_1714963378458434.zoomTo();\n\tviewer_1714963378458434.addModel(\"H 0 0 0; H 0 0 0.735\",\"xyz\");\n\tviewer_1714963378458434.setStyle({\"stick\": {}});\n\tviewer_1714963378458434.zoomTo();\nviewer_1714963378458434.render();\n});\n</script>",
      "text/html": [
       "<div id=\"3dmolviewer_1714963378458434\"  style=\"position: relative; width: 400px; height: 400px;\">\n",
       "        <p id=\"3dmolwarning_1714963378458434\" style=\"background-color:#ffcccc;color:black\">3Dmol.js failed to load for some reason.  Please check your browser console for error messages.<br></p>\n",
       "        </div>\n",
       "<script>\n",
       "\n",
       "var loadScriptAsync = function(uri){\n",
       "  return new Promise((resolve, reject) => {\n",
       "    //this is to ignore the existence of requirejs amd\n",
       "    var savedexports, savedmodule;\n",
       "    if (typeof exports !== 'undefined') savedexports = exports;\n",
       "    else exports = {}\n",
       "    if (typeof module !== 'undefined') savedmodule = module;\n",
       "    else module = {}\n",
       "\n",
       "    var tag = document.createElement('script');\n",
       "    tag.src = uri;\n",
       "    tag.async = true;\n",
       "    tag.onload = () => {\n",
       "        exports = savedexports;\n",
       "        module = savedmodule;\n",
       "        resolve();\n",
       "    };\n",
       "  var firstScriptTag = document.getElementsByTagName('script')[0];\n",
       "  firstScriptTag.parentNode.insertBefore(tag, firstScriptTag);\n",
       "});\n",
       "};\n",
       "\n",
       "if(typeof $3Dmolpromise === 'undefined') {\n",
       "$3Dmolpromise = null;\n",
       "  $3Dmolpromise = loadScriptAsync('https://cdnjs.cloudflare.com/ajax/libs/3Dmol/2.1.0/3Dmol-min.js');\n",
       "}\n",
       "\n",
       "var viewer_1714963378458434 = null;\n",
       "var warn = document.getElementById(\"3dmolwarning_1714963378458434\");\n",
       "if(warn) {\n",
       "    warn.parentNode.removeChild(warn);\n",
       "}\n",
       "$3Dmolpromise.then(function() {\n",
       "viewer_1714963378458434 = $3Dmol.createViewer(document.getElementById(\"3dmolviewer_1714963378458434\"),{backgroundColor:\"white\"});\n",
       "viewer_1714963378458434.zoomTo();\n",
       "\tviewer_1714963378458434.addModel(\"H 0 0 0; H 0 0 0.735\",\"xyz\");\n",
       "\tviewer_1714963378458434.setStyle({\"stick\": {}});\n",
       "\tviewer_1714963378458434.zoomTo();\n",
       "viewer_1714963378458434.render();\n",
       "});\n",
       "</script>"
      ]
     },
     "metadata": {},
     "output_type": "display_data"
    }
   ],
   "source": [
    "from qiskit_nature.units import DistanceUnit\n",
    "from qiskit_nature.second_q.drivers import PySCFDriver\n",
    "import py3Dmol\n",
    "\n",
    "# Define the molecule\n",
    "molecule = PySCFDriver(\n",
    "    atom=\"H 0 0 0; H 0 0 0.735\",\n",
    "    basis='3-21G',\n",
    "    charge=0,\n",
    "    spin=0,\n",
    "    unit=DistanceUnit.ANGSTROM\n",
    ")\n",
    "\n",
    "# Initialize viewer\n",
    "viewer = py3Dmol.view(width=400, height=400)\n",
    "\n",
    "# Add atoms to the viewer\n",
    "# Add the molecule model to the view\n",
    "viewer.addModel(molecule.atom,'xyz')\n",
    "\n",
    "# Set visualization style\n",
    "viewer.setStyle({'stick': {}})\n",
    "\n",
    "# Set visualization parameters\n",
    "viewer.zoomTo()\n",
    "viewer.show()\n"
   ]
  },
  {
   "cell_type": "code",
   "execution_count": null,
   "id": "414bb2ca-dadf-4ad4-a929-1ce58ffdfe45",
   "metadata": {},
   "outputs": [],
   "source": [
    "from qiskit import QuantumCircuit\n",
    "\n",
    "qcx = QuantumCircuit(1)\n",
    "qcy = QuantumCircuit(1)\n",
    "qcz = QuantumCircuit(1)\n"
   ]
  },
  {
   "cell_type": "markdown",
   "id": "cad7d36e-8822-48c3-a8a3-dd30f8625ece",
   "metadata": {},
   "source": [
    "Give the matrix representation of $R_x(\\phi)$, $R_y(\\phi)$ and $R_z(\\theta)$."
   ]
  },
  {
   "cell_type": "code",
   "execution_count": null,
   "id": "cdc884d8-6032-46b7-a208-5466e664c1f2",
   "metadata": {},
   "outputs": [],
   "source": [
    "from qiskit.circuit import Parameter\n",
    "from math import pi\n",
    "\n",
    "# Set the angles as parameters\n",
    "x = Parameter('\\\\phi')\n",
    "y = Parameter('\\\\theta')\n",
    "\n",
    "# Apply the rotation gate with a rotation angle\n",
    "qcx.rx(x, 0)\n",
    "qcy.ry(x, 0)\n",
    "qcz.rz(y, 0)\n"
   ]
  },
  {
   "cell_type": "code",
   "execution_count": null,
   "id": "9bc855de-de9b-4144-9b34-fafb095aff4a",
   "metadata": {},
   "outputs": [],
   "source": [
    "from qiskit_symb import Operator as SymbOperator\n",
    "\n",
    "SymbOperator(qcx).to_sympy()"
   ]
  },
  {
   "cell_type": "code",
   "execution_count": null,
   "id": "7e2eb3b8-a70e-49aa-a1df-b12a456b8ce7",
   "metadata": {},
   "outputs": [],
   "source": [
    "SymbOperator(qcy).to_sympy()"
   ]
  },
  {
   "cell_type": "code",
   "execution_count": null,
   "id": "97023031-5a47-4a31-9d4c-1b9ed231fcf9",
   "metadata": {},
   "outputs": [],
   "source": [
    "SymbOperator(qcz).to_sympy()"
   ]
  },
  {
   "cell_type": "markdown",
   "id": "4acf58b0-6cf3-435c-83c2-3c32d96ae72d",
   "metadata": {},
   "source": [
    "from qiskit import transpile\n",
    "from qiskit.visualization import visualize_transition\n",
    "from math import pi\n",
    "\n",
    "# Apply the RY gate with a rotation angle of pi\n",
    "circuit.ry(pi,0)\n",
    "\n",
    "# Transpile the circuit to optimize it for the target backend\n",
    "transpiled_circuit = transpile(circuit)\n",
    "\n",
    "# Visualize the transition from the initial to the final circuit\n",
    "visualize_transition(circuit, transpiled_circuit)"
   ]
  },
  {
   "cell_type": "code",
   "execution_count": null,
   "id": "a93b8291-ae32-4f29-882b-5e50d7a2fa8f",
   "metadata": {},
   "outputs": [],
   "source": [
    "# Apply the RY gate with a rotation angle of pi\n",
    "circuit.rx(pi,0)\n",
    "\n",
    "# Transpile the circuit to optimize it for the target backend\n",
    "transpiled_circuit = transpile(circuit)\n",
    "\n",
    "# Visualize the transition from the initial to the final circuit\n",
    "visualize_transition(circuit, transpiled_circuit)"
   ]
  }
 ],
 "metadata": {
  "kernelspec": {
   "display_name": "qiskit-env",
   "language": "python",
   "name": "qiskit-env"
  },
  "language_info": {
   "codemirror_mode": {
    "name": "ipython",
    "version": 3
   },
   "file_extension": ".py",
   "mimetype": "text/x-python",
   "name": "python",
   "nbconvert_exporter": "python",
   "pygments_lexer": "ipython3",
   "version": "3.10.14"
  }
 },
 "nbformat": 4,
 "nbformat_minor": 5
}
