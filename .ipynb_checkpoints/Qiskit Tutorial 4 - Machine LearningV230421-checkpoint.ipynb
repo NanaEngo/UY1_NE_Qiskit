{
 "cells": [
  {
   "attachments": {},
   "cell_type": "markdown",
   "id": "5af37371",
   "metadata": {},
   "source": [
    "# Qiskit Tutorial 4 - Training a SMILES Dataset with Support Vector Regression"
   ]
  },
  {
   "attachments": {},
   "cell_type": "markdown",
   "id": "5ac7bb54",
   "metadata": {},
   "source": [
    "1. S. G. Nana Engo, serge.nana-engo@facsciences-uy1.cm\n",
    "    * Department of Physics, Faculty of Science, University of Yaounde I\n",
    "1. J-P. Tchapet Njafa, jean-pierre.tchapet-njafa@univ-maroua.cm\n",
    "    * Department of Physics, Faculty of Science, University of Maroua\n",
    "1. M. V. SAO TEMGOUA, myke-vital.sao@facsciences-uy1.cm\n",
    "    * Department of Physics, Faculty of Science, University of Yaoundé 1\n",
    "\n",
    "April 2023"
   ]
  },
  {
   "attachments": {},
   "cell_type": "markdown",
   "id": "07840d29",
   "metadata": {},
   "source": [
    "<center>\n",
    "  <img src='./Graphics/ML.jpg' width=650 />\n",
    "</center>"
   ]
  },
  {
   "attachments": {},
   "cell_type": "markdown",
   "id": "cf8033c1",
   "metadata": {},
   "source": [
    "In this notebook, we will cover how to implement a machine learning model for **the prediction of the solubility of drug compounds**.\n",
    "\n",
    "We will load, prepare, featurize, and scale/normalize the input datasets in the same way as we did in the previous notebook (Qiskit Tutorial 3)."
   ]
  },
  {
   "attachments": {},
   "cell_type": "markdown",
   "id": "d4a49a63",
   "metadata": {},
   "source": [
    "The purpose here is to use the `Support Vector Regressor` [SVR model](https://scikit-learn.org/stable/modules/generated/sklearn.svm.SVR.html#sklearn.svm.SVR), to predict the **partition coefficient** `logP`, which is, in an experimental measurements, the ratio of concentrations of a compound in a mixture of two immiscible solvents at equilibrium. Our dataset is composed of  [SMILES](https://en.wikipedia.org/wiki/Simplified_molecular-input_line-entry_system), that is, **Simplified Molecule-Input Line-Entry System**. It describes the chemical species by short strings. <br>\n",
    "\n",
    "Our goal is to\n",
    "<div class=\"alert alert-info\">\n",
    "     <strong> \n",
    "- become accustomed to using RDKit, an Open source toolkit for cheminformatics; <br> \n",
    "- perform a simple regression task - prediction of logP values using molecular fingerprint.\n",
    "    <strong> \n",
    "</div>\n",
    "</br>\n",
    "\n",
    "It should be noted that, we are already familiar with **Support vector machines (SVMs)** that are a set of supervised learning methods used for classification (SVC, Qiskit Tutorial 3) and regression."
   ]
  },
  {
   "attachments": {},
   "cell_type": "markdown",
   "id": "30c8fa78",
   "metadata": {},
   "source": [
    "## Reading and writing molecules\n",
    "\n",
    "This is a short overview for creating molecules from and writing molecules into various file formats. It is intended to be a complement to, not replacement for, the contents of the [main RDKit documentation](http://rdkit.org/docs/index.html). \n",
    "\n",
    "Let's look further about Asprin using RDKit."
   ]
  },
  {
   "cell_type": "code",
   "execution_count": null,
   "id": "3b8b7ecb",
   "metadata": {},
   "outputs": [],
   "source": [
    "# Uncomment the line below to install rdkit\n",
    "# !pip install rdkit -U"
   ]
  },
  {
   "cell_type": "code",
   "execution_count": null,
   "id": "7592b0dd",
   "metadata": {
    "ExecuteTime": {
     "end_time": "2023-04-22T10:34:37.188900Z",
     "start_time": "2023-04-22T10:34:36.886515Z"
    }
   },
   "outputs": [],
   "source": [
    "from rdkit.Chem import MolFromSmiles\n",
    "\n",
    "smi = 'O=C(C)Oc1ccccc1C(=O)O'\n",
    "m = Chem.MolFromSmiles(smi) # Convert smiles to molecule\n",
    "m"
   ]
  },
  {
   "cell_type": "code",
   "execution_count": null,
   "id": "8c9b4b4a",
   "metadata": {
    "ExecuteTime": {
     "end_time": "2023-04-22T10:34:37.198835Z",
     "start_time": "2023-04-22T10:34:37.193251Z"
    }
   },
   "outputs": [],
   "source": [
    "print(f'The number of heavy atoms (non-hydrogen atoms) in the molecule is {m.GetNumHeavyAtoms()}')"
   ]
  },
  {
   "attachments": {},
   "cell_type": "markdown",
   "id": "b5e428f4",
   "metadata": {},
   "source": [
    "* We can represent hydrogen atoms explicitly by using the keyword `AllChem.AddHs`."
   ]
  },
  {
   "cell_type": "code",
   "execution_count": null,
   "id": "cf3ac5eb",
   "metadata": {
    "ExecuteTime": {
     "end_time": "2023-04-22T10:34:37.265452Z",
     "start_time": "2023-04-22T10:34:37.205063Z"
    }
   },
   "outputs": [],
   "source": [
    "from rdkit.Chem import AllChem\n",
    "\n",
    "m1 = AllChem.AddHs(m)\n",
    "m1"
   ]
  },
  {
   "attachments": {},
   "cell_type": "markdown",
   "id": "8b7bdff7",
   "metadata": {},
   "source": [
    "* We can find adjacency and atomic features information. <br>\n",
    "Thanks to the already implemented functions in rdkit, we can obtain that information by just typing relevant keywords. <br>\n",
    "We will use the graph structure as inputs for graph neural networks (GNNs) later."
   ]
  },
  {
   "cell_type": "code",
   "execution_count": null,
   "id": "ba07ae34",
   "metadata": {},
   "outputs": [],
   "source": [
    "from rdkit.Chem import rdmolops\n",
    "\n",
    "adj = Chem.rdmolops.GetAdjacencyMatrix(m)\n",
    "adj ## Adjacency matrix : a(i,j) == 1 if atom pair (i,j) is connected and 0 lse."
   ]
  },
  {
   "cell_type": "code",
   "execution_count": null,
   "id": "8c7dfcf3",
   "metadata": {},
   "outputs": [],
   "source": [
    "for atom in m.GetAtoms():\n",
    "    print (atom.GetIdx(), \"th atom is \", atom.GetSymbol(), \", total number of hydrogens is\", atom.GetTotalNumHs(), \n",
    "           \", and aromaticity indicator is\", atom.GetIsAromatic())"
   ]
  },
  {
   "attachments": {},
   "cell_type": "markdown",
   "id": "f1579d4f",
   "metadata": {},
   "source": [
    "More atomic features can be obtained by using `rdkit.Chem.AtomPair` with keywords listed at [this link] (http://rdkit.org/docs/source/rdkit.Chem.AtomPairs.html).\n",
    "\n",
    "* We can obtain several molecular properties, such as molecular weight, logP - partition coefficient, TPSA - polarity, QED (quantitative estimation of druglikeness), etc."
   ]
  },
  {
   "cell_type": "code",
   "execution_count": null,
   "id": "ad5215ed",
   "metadata": {
    "ExecuteTime": {
     "end_time": "2023-04-22T10:34:37.318224Z",
     "start_time": "2023-04-22T10:34:37.269471Z"
    }
   },
   "outputs": [],
   "source": [
    "from rdkit.Chem import Descriptors, QED\n",
    "\n",
    "molwt = Descriptors.ExactMolWt(m)\n",
    "logP = Descriptors.MolLogP(m)\n",
    "tpsa = Descriptors.TPSA(m)\n",
    "Qed = QED.qed(m)\n",
    "\n",
    "print(f'Our molecular properties are:\\n Molecular weight:{molwt}, \\n polarity:{tpsa}, \\n solubility:{logP}, \\n Quantitative drug-likeness:{Qed}')"
   ]
  },
  {
   "attachments": {},
   "cell_type": "markdown",
   "id": "c0a8cf25",
   "metadata": {},
   "source": [
    "We will obtain molecular fingerprint (extended connectivity fingerprint - ECFP). <br>\n",
    "The **molecular fingerprint** represents the substructures of a molecule as a vector of binary numbers. It is a molecular structure descriptor, and we can use it as input to reveal the relationship between molecular structure and properties, called **Quantitative Structure-Activity Relationships (QSAR)**."
   ]
  },
  {
   "cell_type": "markdown",
   "id": "62c34a74",
   "metadata": {},
   "source": [
    "<center>\n",
    "  <img src='./Graphics/morgan_fp1.png' width=340/>\n",
    "</center>"
   ]
  },
  {
   "attachments": {},
   "cell_type": "markdown",
   "id": "4266a50e",
   "metadata": {},
   "source": [
    "* We need feature vectors (matrix) as inputs for neural networks. "
   ]
  },
  {
   "cell_type": "code",
   "execution_count": null,
   "id": "067d5cdb",
   "metadata": {
    "ExecuteTime": {
     "end_time": "2023-04-22T10:34:37.425513Z",
     "start_time": "2023-04-22T10:34:37.321903Z"
    }
   },
   "outputs": [],
   "source": [
    "from rdkit import DataStructs\n",
    "import numpy as np\n",
    "\n",
    "fps = []\n",
    "fp = AllChem.GetMorganFingerprintAsBitVect(m, 2, nBits=1024) \n",
    "# the number 2 denotes the number of iterations in Morgan algorithm.\n",
    "\n",
    "fp_arr = np.zeros((1,))\n",
    "DataStructs.ConvertToNumpyArray(fp, fp_arr)\n",
    "fps.append(fp)\n",
    "\n",
    "fps = np.asarray(fps) # Convert our encoded molecule to an array\n",
    "fps.shape"
   ]
  },
  {
   "attachments": {},
   "cell_type": "markdown",
   "id": "92a82157",
   "metadata": {},
   "source": [
    "As we see, by using modules, we do not need to implement functions to get atomic and molecular features manually.\n",
    "\n",
    "In the following, we will use the **regression model** to predict partition coefficient (logP) of molecules using the molecular fingerprint."
   ]
  },
  {
   "cell_type": "markdown",
   "id": "ea942125",
   "metadata": {},
   "source": [
    "## Exploratory Data Analysis"
   ]
  },
  {
   "attachments": {},
   "cell_type": "markdown",
   "id": "932c1314",
   "metadata": {},
   "source": [
    "* The path access of our prepared ZING dataset that is part of [ZINC database](http://zinc.docking.org/)."
   ]
  },
  {
   "cell_type": "code",
   "execution_count": null,
   "id": "fdb8d89c",
   "metadata": {
    "ExecuteTime": {
     "end_time": "2023-04-22T10:34:55.518482Z",
     "start_time": "2023-04-22T10:34:55.502972Z"
    }
   },
   "outputs": [],
   "source": [
    "import os\n",
    "import pandas as pd\n",
    "\n",
    "PATH = os.getcwd()\n",
    "data_path = os.path.join(PATH, './Dataset/zinc15.txt')"
   ]
  },
  {
   "attachments": {},
   "cell_type": "markdown",
   "id": "fc15b792",
   "metadata": {},
   "source": [
    "* Open of our dataset inside a `Pandas Data Frame`"
   ]
  },
  {
   "cell_type": "code",
   "execution_count": null,
   "id": "671f4d87",
   "metadata": {
    "ExecuteTime": {
     "end_time": "2023-04-22T10:34:59.244516Z",
     "start_time": "2023-04-22T10:34:59.202872Z"
    }
   },
   "outputs": [],
   "source": [
    "with open(data_path, 'r') as f:\n",
    "    content = f.readlines()\n",
    "    smile = [smi.split()[0] for smi in content]\n",
    "    \n",
    "smile"
   ]
  },
  {
   "cell_type": "code",
   "execution_count": null,
   "id": "a05721ea",
   "metadata": {
    "ExecuteTime": {
     "end_time": "2023-04-22T10:35:07.752804Z",
     "start_time": "2023-04-22T10:35:07.469130Z"
    }
   },
   "outputs": [],
   "source": [
    "df = pd.DataFrame(data=smile, columns=['Smiles'])\n",
    "df"
   ]
  },
  {
   "attachments": {},
   "cell_type": "markdown",
   "id": "d1e58b21",
   "metadata": {},
   "source": [
    "* The table/frame contains SMILES that can be converted to `RDKit` molecules."
   ]
  },
  {
   "cell_type": "code",
   "execution_count": null,
   "id": "35ea5d36",
   "metadata": {
    "ExecuteTime": {
     "end_time": "2023-04-22T10:35:15.618690Z",
     "start_time": "2023-04-22T10:35:12.925211Z"
    }
   },
   "outputs": [],
   "source": [
    "from rdkit.Chem import PandasTools\n",
    "\n",
    "PandasTools.AddMoleculeColumnToFrame(frame=df, smilesCol='Smiles', molCol='Molecules')\n",
    "df"
   ]
  },
  {
   "attachments": {},
   "cell_type": "markdown",
   "id": "800ba6b7",
   "metadata": {},
   "source": [
    "* We check if there is rows where RDKit failed to generate molecules from SMILES."
   ]
  },
  {
   "cell_type": "code",
   "execution_count": null,
   "id": "c7462022",
   "metadata": {
    "ExecuteTime": {
     "end_time": "2023-04-22T10:35:21.537179Z",
     "start_time": "2023-04-22T10:35:21.487966Z"
    }
   },
   "outputs": [],
   "source": [
    "df.isnull().sum()"
   ]
  },
  {
   "attachments": {},
   "cell_type": "markdown",
   "id": "f1227498",
   "metadata": {
    "ExecuteTime": {
     "end_time": "2023-04-21T12:20:57.368348Z",
     "start_time": "2023-04-21T12:20:57.316468Z"
    }
   },
   "source": [
    "* We evaluate some descriptors, the physicochemical properties of our compounds."
   ]
  },
  {
   "cell_type": "code",
   "execution_count": null,
   "id": "7b2a3cce",
   "metadata": {
    "ExecuteTime": {
     "end_time": "2023-04-22T10:35:25.480192Z",
     "start_time": "2023-04-22T10:35:25.471785Z"
    }
   },
   "outputs": [],
   "source": [
    "def calculate_descriptors(mol):\n",
    "    mw = Descriptors.MolWt(mol)\n",
    "    logp = Descriptors.MolLogP(mol)\n",
    "    hbd = Descriptors.NumHDonors(mol)\n",
    "    hba = Descriptors.NumHAcceptors(mol)\n",
    "    psa = Descriptors.TPSA(mol)\n",
    "    rb = Descriptors.NumRotatableBonds(mol)\n",
    "    rg = Descriptors.NumAromaticRings(mol)\n",
    "    qed = Chem.QED.qed(mol)\n",
    "    return [mw, logp, hbd, hba, psa, rg, rb, qed]"
   ]
  },
  {
   "cell_type": "code",
   "execution_count": null,
   "id": "a4e445ad",
   "metadata": {
    "ExecuteTime": {
     "end_time": "2023-04-22T10:35:24.158736Z",
     "start_time": "2023-04-22T10:35:24.147953Z"
    }
   },
   "outputs": [],
   "source": [
    "molecule = df.iloc[:, 1].values\n",
    "descriptors = [calculate_descriptors(mol) for mol in molecule]"
   ]
  },
  {
   "cell_type": "code",
   "execution_count": null,
   "id": "79efa6a2",
   "metadata": {
    "ExecuteTime": {
     "end_time": "2023-04-22T10:35:58.621721Z",
     "start_time": "2023-04-22T10:35:58.513202Z"
    }
   },
   "outputs": [],
   "source": [
    "descriptors_df = pd.DataFrame(descriptors, columns=['MW', 'LogP', 'HBD', 'HBA', 'PSA', 'Aromatic Rings', 'Rotatable Bonds', 'QED'])\n",
    "data = pd.concat([df, descriptors_df], axis=1)\n",
    "data"
   ]
  },
  {
   "attachments": {},
   "cell_type": "markdown",
   "id": "b55593c5",
   "metadata": {},
   "source": [
    "* We check again if there are empty values in our new dataset."
   ]
  },
  {
   "cell_type": "code",
   "execution_count": null,
   "id": "f98614a8",
   "metadata": {
    "ExecuteTime": {
     "end_time": "2023-04-22T10:36:07.686328Z",
     "start_time": "2023-04-22T10:36:07.642329Z"
    }
   },
   "outputs": [],
   "source": [
    "data.isnull().sum()"
   ]
  },
  {
   "attachments": {},
   "cell_type": "markdown",
   "id": "50ab41bf",
   "metadata": {},
   "source": [
    "* Let's evaluate the fingerprint of each molecules in our dataset."
   ]
  },
  {
   "cell_type": "code",
   "execution_count": null,
   "id": "7849feb6",
   "metadata": {
    "ExecuteTime": {
     "end_time": "2023-04-22T10:36:10.787959Z",
     "start_time": "2023-04-22T10:36:09.545456Z"
    }
   },
   "outputs": [],
   "source": [
    "fps = []\n",
    "for mol in molecule:\n",
    "    fp = AllChem.GetMorganFingerprintAsBitVect(mol, 2, nBits=1024)\n",
    "    fp_arr = np.zeros((1,))\n",
    "    DataStructs.ConvertToNumpyArray(fp, fp_arr)\n",
    "    fps.append(fp)"
   ]
  },
  {
   "cell_type": "code",
   "execution_count": null,
   "id": "f0acee31",
   "metadata": {
    "ExecuteTime": {
     "end_time": "2023-04-22T10:36:55.665461Z",
     "start_time": "2023-04-22T10:36:46.885036Z"
    }
   },
   "outputs": [],
   "source": [
    "# Convert the fingerprint as an array \n",
    "fps = np.asarray(fps)\n",
    "fps"
   ]
  },
  {
   "cell_type": "code",
   "execution_count": null,
   "id": "a185497b",
   "metadata": {
    "ExecuteTime": {
     "end_time": "2023-04-22T10:37:58.013864Z",
     "start_time": "2023-04-22T10:37:58.002874Z"
    }
   },
   "outputs": [],
   "source": [
    "fps.shape"
   ]
  },
  {
   "cell_type": "markdown",
   "id": "47d9c6a0",
   "metadata": {},
   "source": [
    "## Splitting our dataset "
   ]
  },
  {
   "attachments": {},
   "cell_type": "markdown",
   "id": "95444394",
   "metadata": {},
   "source": [
    "As usual, before starting train our model, we will split our dataset in train/test dataset. It should be noted that,\n",
    "\n",
    "1. **inputs**: fingerprint (features) of each molecules\n",
    "2. **outputs**: partition coefficient `logP`. "
   ]
  },
  {
   "cell_type": "code",
   "execution_count": null,
   "id": "c4194fec",
   "metadata": {
    "ExecuteTime": {
     "end_time": "2023-04-22T10:50:31.724730Z",
     "start_time": "2023-04-22T10:50:31.718778Z"
    }
   },
   "outputs": [],
   "source": [
    "logp = data.iloc[:,3].values"
   ]
  },
  {
   "attachments": {},
   "cell_type": "markdown",
   "id": "f58d3406",
   "metadata": {},
   "source": [
    "* We first check that our inputs/outputs have the same number of lines."
   ]
  },
  {
   "cell_type": "code",
   "execution_count": null,
   "id": "4d0237e2",
   "metadata": {
    "ExecuteTime": {
     "end_time": "2023-04-22T10:51:12.152147Z",
     "start_time": "2023-04-22T10:51:12.144282Z"
    }
   },
   "outputs": [],
   "source": [
    "logp.shape[0] == fps.shape[0]"
   ]
  },
  {
   "cell_type": "code",
   "execution_count": null,
   "id": "a9848ac9",
   "metadata": {
    "ExecuteTime": {
     "end_time": "2023-04-22T10:55:34.337517Z",
     "start_time": "2023-04-22T10:55:34.106447Z"
    }
   },
   "outputs": [],
   "source": [
    "from sklearn.model_selection import train_test_split\n",
    "\n",
    "seed = np.random.seed(123)\n",
    "X_train, X_test, y_train, y_test = train_test_split(fps, logp, train_size=0.8, random_state=seed)"
   ]
  },
  {
   "attachments": {},
   "cell_type": "markdown",
   "id": "030dfdd8",
   "metadata": {},
   "source": [
    "## Train our model with `Support Vector Regressor-SVR`"
   ]
  },
  {
   "attachments": {},
   "cell_type": "markdown",
   "id": "7d0e5a0a",
   "metadata": {},
   "source": [
    "* Let's now train our Support Vector Regressor [SVR model](https://scikit-learn.org/stable/modules/generated/sklearn.svm.SVR.html#sklearn.svm.SVR) from scikit-learn."
   ]
  },
  {
   "cell_type": "code",
   "execution_count": null,
   "id": "808caae3",
   "metadata": {
    "ExecuteTime": {
     "end_time": "2023-04-22T11:01:39.616503Z",
     "start_time": "2023-04-22T11:00:40.010841Z"
    }
   },
   "outputs": [],
   "source": [
    "from sklearn.svm import SVR\n",
    "\n",
    "svr = SVR()\n",
    "_ = svr.fit(X_train, y_train)"
   ]
  },
  {
   "attachments": {},
   "cell_type": "markdown",
   "id": "a6211c54",
   "metadata": {},
   "source": [
    "* After the training, we use `sklearn.metrics.r2_score` and `sklearn.metrics.mean_squared_error` to check the accuracy of our prediction."
   ]
  },
  {
   "cell_type": "code",
   "execution_count": null,
   "id": "64f5f32f",
   "metadata": {
    "ExecuteTime": {
     "end_time": "2023-04-22T11:07:01.633883Z",
     "start_time": "2023-04-22T11:06:43.737871Z"
    }
   },
   "outputs": [],
   "source": [
    "from sklearn.metrics import mean_squared_error, r2_score\n",
    "\n",
    "logp_predict = svr.predict(X_test)\n",
    "r2 = r2_score(y_test, logp_predict)\n",
    "mse = mean_squared_error(y_test, logp_predict)\n",
    "\n",
    "print(f'The r2_score is {r2}  and the mean square error is {mse}')"
   ]
  },
  {
   "attachments": {},
   "cell_type": "markdown",
   "id": "f43a9bad",
   "metadata": {},
   "source": [
    "* Visualization of the results from the model. We will plot (True values - Predicted values), and draw the linear regression between them by using `scipy.stats.linregress`."
   ]
  },
  {
   "cell_type": "code",
   "execution_count": null,
   "id": "5ff7823a",
   "metadata": {
    "ExecuteTime": {
     "end_time": "2023-04-22T11:09:02.998942Z",
     "start_time": "2023-04-22T11:09:01.871576Z"
    }
   },
   "outputs": [],
   "source": [
    "from scipy import stats\n",
    "import matplotlib.pyplot as plt\n",
    "\n",
    "vect_norm, intercept, r_value, p_value, std_error = stats.linregress(y_test, logp_predict)\n",
    "fx = vect_norm * y_test + intercept\n",
    "\n",
    "plt.scatter(y_test, logp_predict, color='green', s=2)\n",
    "plt.plot(y_test, fx, label='Predicted logP ='+str(round(vect_norm,2))+'*True logP +'+str(round(intercept,2)), linewidth=2)\n",
    "plt.xlabel('True logP')\n",
    "plt.ylabel('Predicted logP')\n",
    "plt.legend()\n",
    "plt.show()"
   ]
  },
  {
   "attachments": {},
   "cell_type": "markdown",
   "id": "83fecbac",
   "metadata": {},
   "source": [
    "*In summary, **we use a SVR model for prediction of logP**. With prepared dataset, we can easily preprocess, construct the model and validated the results.*"
   ]
  },
  {
   "attachments": {},
   "cell_type": "markdown",
   "id": "54ede4eb",
   "metadata": {},
   "source": [
    "## Do it yourself\n",
    "\n",
    "Use a support vector regression (SVR) to predict logP (partition coefficeint) from molecules of the ZING Dataset contained in the file `'./Dataset/smilesZn100.txt`. The input - structural feature of molecules is Morgan fingerprint and the eoutput is logP.\n",
    "\n",
    "The workflow is\n",
    "1. Get molecular fingerprints of each molecules \n",
    "2. Split the dataset to training set and test set\n",
    "3. Train a SVR model\n",
    "4. Validate the trained model using test-set\n"
   ]
  },
  {
   "cell_type": "markdown",
   "id": "b6d406ee",
   "metadata": {},
   "source": [
    "## Short summary on Support Vector Machine"
   ]
  },
  {
   "cell_type": "markdown",
   "id": "0653d38c",
   "metadata": {},
   "source": [
    "A support vector machine constructs a hyper-plane or set of hyper-planes in a high or infinite dimensional space, which can be used for classification, regression or other tasks. The main idea behind many classification algorithm is to represent data in $\\mathbb{R}^D$ and then partition this space; ideally in way that examples with the same label (and no other examples) are in the same partition. Let $x \\in \\mathbb{R}^D$ be an element of the data space. Consider a function \n",
    "\\begin{equation}\n",
    "  \\begin{array}{lrcl}\n",
    "    f : & \\mathbb{R}^{D} & \\longrightarrow & \\mathbb{R}        \\\\\n",
    "        & x                 & \\longmapsto     & f(x)=\\langle w, x\\rangle + b,\n",
    "  \\end{array}\n",
    "\\end{equation}\n",
    "where $\\langle w, x\\rangle$ is the scalar product between the two vectors."
   ]
  },
  {
   "cell_type": "markdown",
   "id": "85550c30",
   "metadata": {},
   "source": [
    "### Separating hyperplanes\n",
    "We use the hyperplane to divide the space into two parts. Let example $x \\in \\mathbb{R}^D$ be an element of the data space. Therefore, we define the hyperplane that seperates the two classes in our binary classification problem as \n",
    "\\begin{equation}\n",
    "\\{x \\in \\mathbb{R}^D : f(x)=\\langle w, x\\rangle + b=0\\}\n",
    "\\end{equation}\n",
    "$w$ is the `normal vector` to the hypeplane and $b$ the `intercept`.\n",
    "\n",
    "When training the classifier, we want to ensure that the examples with positive labels are on the positive side of the hyperplane and the negative labels on the other side, i.e\n",
    "\\begin{equation}\n",
    "    y_n(\\langle w, x\\rangle + b)\\geq 0, ~\\text{for}~y_n\\in\\{-1, 1\\}  \n",
    "\\end{equation}"
   ]
  },
  {
   "cell_type": "markdown",
   "id": "bab627ef",
   "metadata": {},
   "source": [
    "<center>\n",
    " <img src='./Graphics/margin.png' width=500 /> \n",
    "</center>"
   ]
  }
 ],
 "metadata": {
  "kernelspec": {
   "display_name": "qiskit-env",
   "language": "python",
   "name": "qiskit-env"
  },
  "language_info": {
   "codemirror_mode": {
    "name": "ipython",
    "version": 3
   },
   "file_extension": ".py",
   "mimetype": "text/x-python",
   "name": "python",
   "nbconvert_exporter": "python",
   "pygments_lexer": "ipython3",
   "version": "3.10.10"
  },
  "nbTranslate": {
   "displayLangs": [
    "*"
   ],
   "hotkey": "alt-t",
   "langInMainMenu": true,
   "sourceLang": "en",
   "targetLang": "fr",
   "useGoogleTranslate": true
  },
  "toc": {
   "base_numbering": 1,
   "nav_menu": {},
   "number_sections": true,
   "sideBar": true,
   "skip_h1_title": false,
   "title_cell": "Table of Contents",
   "title_sidebar": "Contents",
   "toc_cell": false,
   "toc_position": {},
   "toc_section_display": true,
   "toc_window_display": false
  }
 },
 "nbformat": 4,
 "nbformat_minor": 5
}
