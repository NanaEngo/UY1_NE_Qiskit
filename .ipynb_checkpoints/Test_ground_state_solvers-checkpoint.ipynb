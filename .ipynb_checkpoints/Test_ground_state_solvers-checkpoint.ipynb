{
 "cells": [
  {
   "cell_type": "markdown",
   "metadata": {},
   "source": [
    "# Ground state solvers"
   ]
  },
  {
   "cell_type": "code",
   "execution_count": 1,
   "metadata": {
    "execution": {
     "iopub.execute_input": "2023-05-31T11:32:49.052280Z",
     "iopub.status.busy": "2023-05-31T11:32:49.051766Z",
     "iopub.status.idle": "2023-05-31T11:32:51.065086Z",
     "shell.execute_reply": "2023-05-31T11:32:51.064634Z",
     "shell.execute_reply.started": "2023-05-31T11:32:49.052241Z"
    },
    "tags": []
   },
   "outputs": [],
   "source": [
    "from qiskit_nature.units import DistanceUnit\n",
    "from qiskit_nature.second_q.drivers import PySCFDriver\n",
    "\n",
    "# driver = PySCFDriver(\n",
    "#     atom=\"H 0 0 0; H 0 0 0.735\",\n",
    "#     basis=\"sto3g\",\n",
    "#     charge=0,\n",
    "#     spin=0,\n",
    "#     unit=DistanceUnit.ANGSTROM,\n",
    "# )\n",
    "\n",
    "# es_problem = driver.run()"
   ]
  },
  {
   "cell_type": "code",
   "execution_count": 1,
   "metadata": {
    "execution": {
     "iopub.execute_input": "2023-06-04T06:14:48.671058Z",
     "iopub.status.busy": "2023-06-04T06:14:48.670649Z",
     "iopub.status.idle": "2023-06-04T06:14:57.960677Z",
     "shell.execute_reply": "2023-06-04T06:14:57.959950Z",
     "shell.execute_reply.started": "2023-06-04T06:14:48.671026Z"
    },
    "tags": []
   },
   "outputs": [
    {
     "name": "stdout",
     "output_type": "stream",
     "text": [
      "Starting 4 engines with <class 'ipyparallel.cluster.launcher.LocalEngineSetLauncher'>\n"
     ]
    },
    {
     "data": {
      "application/vnd.jupyter.widget-view+json": {
       "model_id": "495c065ce7f4408c904513d499227426",
       "version_major": 2,
       "version_minor": 0
      },
      "text/plain": [
       "  0%|          | 0/4 [00:00<?, ?engine/s]"
      ]
     },
     "metadata": {},
     "output_type": "display_data"
    },
    {
     "name": "stdout",
     "output_type": "stream",
     "text": [
      "Stopping engine(s): 1685859289\n",
      "engine set stopped 1685859289: {'engines': {'0': {'exit_code': 0, 'pid': 8406, 'identifier': '0'}, '1': {'exit_code': 0, 'pid': 8408, 'identifier': '1'}, '2': {'exit_code': 0, 'pid': 8412, 'identifier': '2'}, '3': {'exit_code': 0, 'pid': 8414, 'identifier': '3'}}, 'exit_code': 0}\n",
      "Stopping controller\n",
      "Controller stopped: {'exit_code': 0, 'pid': 8364, 'identifier': 'ipcontroller-1685859288-mx4l-8320'}\n"
     ]
    }
   ],
   "source": [
    "import os\n",
    "import ipyparallel as ipp\n",
    "\n",
    "cluster = ipp.Cluster(n=4)\n",
    "with cluster as rc:\n",
    "    ar = rc[:].apply_async(os.getpid)\n",
    "    pid_map = ar.get_dict()"
   ]
  },
  {
   "cell_type": "code",
   "execution_count": 2,
   "metadata": {
    "execution": {
     "iopub.execute_input": "2023-06-04T06:16:18.258244Z",
     "iopub.status.busy": "2023-06-04T06:16:18.257253Z",
     "iopub.status.idle": "2023-06-04T06:16:20.027568Z",
     "shell.execute_reply": "2023-06-04T06:16:20.027074Z",
     "shell.execute_reply.started": "2023-06-04T06:16:18.258190Z"
    },
    "tags": []
   },
   "outputs": [],
   "source": [
    "from qiskit_nature.units import DistanceUnit\n",
    "from qiskit_nature.second_q.drivers import PySCFDriver\n",
    "\n",
    "driver = PySCFDriver(atom=\n",
    "    'C -0.2316640    1.1348450    0.6956120;'\n",
    "    'C -0.8886300    0.3253780   -0.2344140;'\n",
    "    'C -0.1842470   -0.1935670   -1.3239330;'\n",
    "    'C  1.1662930    0.0801450   -1.4737160;'\n",
    "    'C  1.8089230    0.8832220   -0.5383540;'\n",
    "    'C  1.1155860    1.4218050    0.5392780;'\n",
    "    'S  3.5450920    1.2449890   -0.7349240;'\n",
    "    'O  3.8606900    1.0881590   -2.1541690;'\n",
    "    'C  4.3889120   -0.0620730    0.1436780;'\n",
    "    'O  3.8088290    2.4916780   -0.0174650;'\n",
    "    'C  4.6830900    0.1064460    1.4918230;'\n",
    "    'C  5.3364470   -0.9144080    2.1705280;'\n",
    "    'C  5.6895490   -2.0818670    1.5007820;'\n",
    "    'C  5.4000540   -2.2323130    0.1481350;'\n",
    "    'C  4.7467230   -1.2180160   -0.5404770;'\n",
    "    'N -2.2589180    0.0399120   -0.0793330;'\n",
    "    'C -2.8394600   -1.2343990   -0.1494160;'\n",
    "    'C -4.2635450   -1.0769890    0.0660760;'\n",
    "    'C -4.5212550    0.2638010    0.2662190;'\n",
    "    'C -3.2669630    0.9823890    0.1722720;'\n",
    "    'C -2.2678900   -2.4598950   -0.3287380;'\n",
    "    'C -3.1299420   -3.6058560   -0.3236210;'\n",
    "    'C -4.5179520   -3.4797390   -0.1395160;'\n",
    "    'C -5.1056310   -2.2512990    0.0536940;'\n",
    "    'C -5.7352450    1.0074800    0.5140960;'\n",
    "    'C -5.6563790    2.3761270    0.6274610;'\n",
    "    'C -4.4287740    3.0501460    0.5083650;'\n",
    "    'C -3.2040560    2.3409470    0.2746950;'\n",
    "    'H -0.7813570    1.5286610    1.5426490;'\n",
    "    'H -0.7079140   -0.7911480   -2.0611600;'\n",
    "    'H  1.7161320   -0.2933710   -2.3302930;'\n",
    "    'H  1.6308220    2.0660550    1.2427990;'\n",
    "    'H  4.4214900    1.0345500    1.9875450;'\n",
    "    'H  5.5773000   -0.7951290    3.2218590;'\n",
    "    'H  6.2017810   -2.8762260    2.0345740;'\n",
    "    'H  5.6906680   -3.1381740   -0.3739110;'\n",
    "    'H  4.5337010   -1.3031330   -1.6001680;'\n",
    "    'H -1.1998460   -2.5827750   -0.4596910;'\n",
    "    'H -2.6937370   -4.5881470   -0.4657540;'\n",
    "    'H -5.1332290   -4.3740010   -0.1501080;'\n",
    "    'H -6.1752900   -2.1516170    0.1987120;'\n",
    "    'H -6.6812260    0.4853900    0.6017680;'\n",
    "    'H -6.5574610    2.9529350    0.8109620;'\n",
    "    'H -4.3980410    4.1305040    0.5929440;'\n",
    "    'H -2.2726630    2.8838620    0.1712760',\n",
    "    charge=0,spin=0, basis='sto3g', unit=DistanceUnit.ANGSTROM)"
   ]
  },
  {
   "cell_type": "code",
   "execution_count": 3,
   "metadata": {
    "execution": {
     "iopub.execute_input": "2023-06-04T06:16:26.754536Z",
     "iopub.status.busy": "2023-06-04T06:16:26.753625Z",
     "iopub.status.idle": "2023-06-04T06:16:33.622429Z",
     "shell.execute_reply": "2023-06-04T06:16:33.621867Z",
     "shell.execute_reply.started": "2023-06-04T06:16:26.754476Z"
    },
    "tags": []
   },
   "outputs": [],
   "source": [
    "from qiskit_nature.second_q.problems import (\n",
    "    ElectronicBasis,\n",
    "    ElectronicStructureProblem,\n",
    "    ElectronicStructureResult,\n",
    ")\n",
    "from qiskit_nature.second_q.transformers import BasisTransformer\n",
    "from qiskit_nature.second_q.transformers import ActiveSpaceTransformer\n",
    "\n",
    "driver.run_pyscf()\n",
    "# problem = driver.run()"
   ]
  },
  {
   "cell_type": "code",
   "execution_count": null,
   "metadata": {},
   "outputs": [],
   "source": []
  },
  {
   "cell_type": "code",
   "execution_count": 1,
   "metadata": {
    "execution": {
     "iopub.execute_input": "2023-06-04T06:47:15.238666Z",
     "iopub.status.busy": "2023-06-04T06:47:15.237706Z",
     "iopub.status.idle": "2023-06-04T06:47:15.251624Z",
     "shell.execute_reply": "2023-06-04T06:47:15.251045Z",
     "shell.execute_reply.started": "2023-06-04T06:47:15.238616Z"
    },
    "tags": []
   },
   "outputs": [
    {
     "data": {
      "text/plain": [
       "array([[0.93487687, 0.05842474],\n",
       "       [0.31265147, 0.43903256]])"
      ]
     },
     "execution_count": 1,
     "metadata": {},
     "output_type": "execute_result"
    }
   ],
   "source": [
    "import numpy as np\n",
    "\n",
    "ao2mo_alpha = np.random.random((2, 2))\n",
    "# ao2mo_beta = np.random.random((2, 2))\n",
    "ao2mo_alpha"
   ]
  },
  {
   "cell_type": "code",
   "execution_count": null,
   "metadata": {},
   "outputs": [],
   "source": [
    "basis_transformer = BasisTransformer(\n",
    "    ElectronicBasis.AO,\n",
    "    ElectronicBasis.MO,\n",
    "    ElectronicIntegrals.from_raw_integrals(ao2mo_alpha, h1_b=ao2mo_beta),"
   ]
  },
  {
   "cell_type": "code",
   "execution_count": null,
   "metadata": {
    "execution": {
     "iopub.execute_input": "2023-06-04T06:16:36.268439Z",
     "iopub.status.busy": "2023-06-04T06:16:36.268044Z"
    },
    "tags": []
   },
   "outputs": [],
   "source": [
    "# ao_problem = driver.to_problem(basis=ElectronicBasis.AO)\n",
    "# print(ao_problem.basis)\n",
    "\n",
    "# ao_hamil = ao_problem.hamiltonian\n",
    "# print(ao_hamil.electronic_integrals.alpha)\n",
    "\n",
    "as_transformer = ActiveSpaceTransformer(2, 2, active_orbitals=[99, 100])\n",
    "as_problem = as_transformer.transform(driver.to_problem(basis=ElectronicBasis.AO))\n",
    "print(as_problem.num_particles)\n",
    "print(as_problem.num_spatial_orbitals)\n",
    "print(as_problem.hamiltonian.electronic_integrals.alpha)\n",
    "\n"
   ]
  },
  {
   "cell_type": "code",
   "execution_count": 32,
   "metadata": {},
   "outputs": [],
   "source": [
    "from qiskit.algorithms.minimum_eigensolvers import (\n",
    "    VQE, AdaptVQE, NumPyMinimumEigensolver)\n",
    "from qiskit.algorithms.optimizers import SLSQP\n",
    "from qiskit.primitives import Estimator\n",
    "from qiskit_nature.second_q.circuit.library import HartreeFock, UCCSD\n",
    "from qiskit_nature.second_q.mappers import JordanWignerMapper\n",
    "from qiskit_nature.second_q.algorithms import GroundStateEigensolver\n",
    "\n",
    "import numpy as np\n",
    "\n",
    "mapper = JordanWignerMapper()"
   ]
  },
  {
   "cell_type": "code",
   "execution_count": 33,
   "metadata": {},
   "outputs": [
    {
     "name": "stdout",
     "output_type": "stream",
     "text": [
      "=== GROUND STATE ENERGY ===\n",
      " \n",
      "* Electronic ground state energy (Hartree): -1.857275030202\n",
      "  - computed part:      -1.857275030202\n",
      "~ Nuclear repulsion energy (Hartree): 0.719968994449\n",
      "> Total ground state energy (Hartree): -1.137306035753\n",
      " \n",
      "=== MEASURED OBSERVABLES ===\n",
      " \n",
      "  0:  # Particles: 2.000 S: 0.000 S^2: 0.000 M: 0.000\n",
      " \n",
      "=== DIPOLE MOMENTS ===\n",
      " \n",
      "~ Nuclear dipole moment (a.u.): [0.0  0.0  1.3889487]\n",
      " \n",
      "  0: \n",
      "  * Electronic dipole moment (a.u.): [0.0  0.0  1.388948701555]\n",
      "    - computed part:      [0.0  0.0  1.388948701555]\n",
      "  > Dipole moment (a.u.): [0.0  0.0  -0.000000001555]  Total: 0.000000001555\n",
      "                 (debye): [0.0  0.0  -0.000000003953]  Total: 0.000000003953\n",
      " \n"
     ]
    }
   ],
   "source": [
    "solver = GroundStateEigensolver(mapper, NumPyMinimumEigensolver())\n",
    "result = solver.solve(es_problem)\n",
    "print(result)"
   ]
  },
  {
   "cell_type": "code",
   "execution_count": 34,
   "metadata": {},
   "outputs": [],
   "source": [
    "\n",
    "# mapper = QubitConverter(JordanWignerMapper())\n",
    "mapper = JordanWignerMapper()\n",
    "\n",
    "ansatz = UCCSD(\n",
    "    es_problem.num_spatial_orbitals,\n",
    "    es_problem.num_particles,\n",
    "    mapper,\n",
    "    initial_state=HartreeFock(\n",
    "        es_problem.num_spatial_orbitals,\n",
    "        es_problem.num_particles,\n",
    "        mapper,\n",
    "    ),\n",
    ")\n",
    "\n",
    "vqe_solver = VQE(Estimator(), ansatz, SLSQP())\n",
    "vqe_solver.initial_point = np.zeros(ansatz.num_parameters)\n",
    "\n",
    "adapt_vqe = AdaptVQE(vqe_solver)\n"
   ]
  },
  {
   "cell_type": "code",
   "execution_count": 35,
   "metadata": {},
   "outputs": [
    {
     "name": "stdout",
     "output_type": "stream",
     "text": [
      "VQE total ground state energy = -1.1373\n",
      "ADAPT-VQE total ground state energy = -1.1373\n"
     ]
    }
   ],
   "source": [
    "\n",
    "\n",
    "vqe_calc = GroundStateEigensolver(mapper, vqe_solver)\n",
    "vqe_res = vqe_calc.solve(es_problem)\n",
    "\n",
    "adap_calc = GroundStateEigensolver(mapper, adapt_vqe)\n",
    "adap_res = adap_calc.solve(es_problem)\n",
    "\n",
    "print(f\"VQE total ground state energy = {vqe_res.total_energies[0]:.4f}\")\n",
    "print(f\"ADAPT-VQE total ground state energy = {adap_res.total_energies[0]:.4f}\")"
   ]
  },
  {
   "cell_type": "code",
   "execution_count": 36,
   "metadata": {},
   "outputs": [
    {
     "data": {
      "text/plain": [
       "-1.116998996754004"
      ]
     },
     "execution_count": 36,
     "metadata": {},
     "output_type": "execute_result"
    }
   ],
   "source": [
    "vqe_res.hartree_fock_energy"
   ]
  },
  {
   "cell_type": "code",
   "execution_count": 37,
   "metadata": {},
   "outputs": [
    {
     "data": {
      "text/plain": [
       "-1.116998996754004"
      ]
     },
     "execution_count": 37,
     "metadata": {},
     "output_type": "execute_result"
    }
   ],
   "source": [
    "es_problem.reference_energy"
   ]
  },
  {
   "cell_type": "code",
   "execution_count": 38,
   "metadata": {},
   "outputs": [
    {
     "data": {
      "text/html": [
       "<div>\n",
       "<style scoped>\n",
       "    .dataframe tbody tr th:only-of-type {\n",
       "        vertical-align: middle;\n",
       "    }\n",
       "\n",
       "    .dataframe tbody tr th {\n",
       "        vertical-align: top;\n",
       "    }\n",
       "\n",
       "    .dataframe thead th {\n",
       "        text-align: right;\n",
       "    }\n",
       "</style>\n",
       "<table border=\"1\" class=\"dataframe\">\n",
       "  <thead>\n",
       "    <tr style=\"text-align: right;\">\n",
       "      <th></th>\n",
       "      <th>Name</th>\n",
       "      <th>Maths</th>\n",
       "      <th>Science</th>\n",
       "    </tr>\n",
       "  </thead>\n",
       "  <tbody>\n",
       "    <tr>\n",
       "      <th>0</th>\n",
       "      <td>Martha</td>\n",
       "      <td>87</td>\n",
       "      <td>83</td>\n",
       "    </tr>\n",
       "    <tr>\n",
       "      <th>1</th>\n",
       "      <td>Tim</td>\n",
       "      <td>91</td>\n",
       "      <td>99</td>\n",
       "    </tr>\n",
       "    <tr>\n",
       "      <th>2</th>\n",
       "      <td>Rob</td>\n",
       "      <td>97</td>\n",
       "      <td>84</td>\n",
       "    </tr>\n",
       "    <tr>\n",
       "      <th>3</th>\n",
       "      <td>Georgia</td>\n",
       "      <td>95</td>\n",
       "      <td>76</td>\n",
       "    </tr>\n",
       "  </tbody>\n",
       "</table>\n",
       "</div>"
      ],
      "text/plain": [
       "      Name  Maths  Science\n",
       "0   Martha     87       83\n",
       "1      Tim     91       99\n",
       "2      Rob     97       84\n",
       "3  Georgia     95       76"
      ]
     },
     "execution_count": 38,
     "metadata": {},
     "output_type": "execute_result"
    }
   ],
   "source": [
    "import pandas as pd\n",
    "\n",
    "dict = {'Name' : ['Martha', 'Tim', 'Rob', 'Georgia'],\n",
    "        'Maths' : [87, 91, 97, 95],\n",
    "        'Science' : [83, 99, 84, 76]}\n",
    "df = pd.DataFrame(dict)\n",
    "df"
   ]
  },
  {
   "cell_type": "code",
   "execution_count": 41,
   "metadata": {},
   "outputs": [
    {
     "data": {
      "text/html": [
       "<div>\n",
       "<style scoped>\n",
       "    .dataframe tbody tr th:only-of-type {\n",
       "        vertical-align: middle;\n",
       "    }\n",
       "\n",
       "    .dataframe tbody tr th {\n",
       "        vertical-align: top;\n",
       "    }\n",
       "\n",
       "    .dataframe thead th {\n",
       "        text-align: right;\n",
       "    }\n",
       "</style>\n",
       "<table border=\"1\" class=\"dataframe\">\n",
       "  <thead>\n",
       "    <tr style=\"text-align: right;\">\n",
       "      <th></th>\n",
       "      <th>Method</th>\n",
       "      <th>Ground state energy</th>\n",
       "      <th>Delta</th>\n",
       "    </tr>\n",
       "  </thead>\n",
       "  <tbody>\n",
       "    <tr>\n",
       "      <th>0</th>\n",
       "      <td>Hartree-Fock</td>\n",
       "      <td>-1.116999</td>\n",
       "      <td>83</td>\n",
       "    </tr>\n",
       "    <tr>\n",
       "      <th>1</th>\n",
       "      <td>Exact</td>\n",
       "      <td>-1.137306</td>\n",
       "      <td>99</td>\n",
       "    </tr>\n",
       "    <tr>\n",
       "      <th>2</th>\n",
       "      <td>VQE</td>\n",
       "      <td>-1.137306</td>\n",
       "      <td>8</td>\n",
       "    </tr>\n",
       "  </tbody>\n",
       "</table>\n",
       "</div>"
      ],
      "text/plain": [
       "         Method  Ground state energy  Delta\n",
       "0  Hartree-Fock            -1.116999     83\n",
       "1         Exact            -1.137306     99\n",
       "2           VQE            -1.137306      8"
      ]
     },
     "execution_count": 41,
     "metadata": {},
     "output_type": "execute_result"
    }
   ],
   "source": [
    "dict = {'Method' : ['Hartree-Fock', 'Exact', 'VQE'],\n",
    "        'Ground state energy' : [es_problem.reference_energy, adap_res.total_energies[0], vqe_res.total_energies[0]],\n",
    "        'Delta' : [83, 99, 8]}\n",
    "df = pd.DataFrame(dict)\n",
    "df"
   ]
  },
  {
   "cell_type": "code",
   "execution_count": null,
   "metadata": {},
   "outputs": [],
   "source": [
    "from pyscf import gto, scf, mcscf\n",
    "from pyscf.mcscf import avas #AVAS method to construct mcscf active space\n",
    "\n",
    "from qiskit_nature_pyscf import QiskitSolver"
   ]
  },
  {
   "cell_type": "code",
   "execution_count": null,
   "metadata": {},
   "outputs": [
    {
     "name": "stdout",
     "output_type": "stream",
     "text": [
      "converged SCF energy = -1.116998996754\n",
      "CASCI E = -1.1373060356956  E(CI) = -1.85727503014458\n"
     ]
    },
    {
     "data": {
      "text/plain": [
       "<pyscf.mcscf.casci.CASCI at 0x7f50569e3700>"
      ]
     },
     "execution_count": 10,
     "metadata": {},
     "output_type": "execute_result"
    }
   ],
   "source": [
    "#  Initialisation de la structure moléculaire\n",
    "H2_mol = gto.M(atom=\"H 0 0 0; H 0 0 .735\", basis=\"sto-3g\")\n",
    "\n",
    "# Calculs HF \n",
    "H2_h_f = scf.RHF(H2_mol).run()\n",
    "\n",
    "# Calculs post-HF\n",
    "norb, nelec, mo =avas.avas(H2_h_f,['H 1s','H 1s'])\n",
    "\n",
    "H2_cas = mcscf.CASCI(H2_h_f, norb, nelec)\n",
    "\n",
    "# Intégration de l'algorithme quantique\n",
    "# mapper = JordanWignerMapper()\n",
    "# optimizer = SPSA()\n",
    "\n",
    "H2_cas.fcisolver = QiskitSolver(adap_calc)\n",
    "\n",
    "H2_cas.run()"
   ]
  },
  {
   "cell_type": "code",
   "execution_count": null,
   "metadata": {},
   "outputs": [
    {
     "data": {
      "text/html": [
       "<h3>Version Information</h3><table><tr><th>Qiskit Software</th><th>Version</th></tr><tr><td><code>qiskit-terra</code></td><td>0.23.3</td></tr><tr><td><code>qiskit-aer</code></td><td>0.12.0</td></tr><tr><td><code>qiskit-ibmq-provider</code></td><td>0.20.2</td></tr><tr><td><code>qiskit</code></td><td>0.42.1</td></tr><tr><td><code>qiskit-nature</code></td><td>0.6.0</td></tr><tr><td><code>qiskit-machine-learning</code></td><td>0.6.0</td></tr><tr><th>System information</th></tr><tr><td>Python version</td><td>3.10.10</td></tr><tr><td>Python compiler</td><td>GCC 11.3.0</td></tr><tr><td>Python build</td><td>main, Mar 24 2023 20:08:06</td></tr><tr><td>OS</td><td>Linux</td></tr><tr><td>CPUs</td><td>6</td></tr><tr><td>Memory (Gb)</td><td>7.12152099609375</td></tr><tr><td colspan='2'>Thu May 04 06:21:03 2023 WAT</td></tr></table>"
      ],
      "text/plain": [
       "<IPython.core.display.HTML object>"
      ]
     },
     "metadata": {},
     "output_type": "display_data"
    }
   ],
   "source": [
    "import qiskit.tools.jupyter\n",
    "\n",
    "%qiskit_version_table"
   ]
  }
 ],
 "metadata": {
  "kernelspec": {
   "display_name": "qiskit-env",
   "language": "python",
   "name": "qiskit-env"
  },
  "language_info": {
   "codemirror_mode": {
    "name": "ipython",
    "version": 3
   },
   "file_extension": ".py",
   "mimetype": "text/x-python",
   "name": "python",
   "nbconvert_exporter": "python",
   "pygments_lexer": "ipython3",
   "version": "3.10.11"
  }
 },
 "nbformat": 4,
 "nbformat_minor": 4
}
