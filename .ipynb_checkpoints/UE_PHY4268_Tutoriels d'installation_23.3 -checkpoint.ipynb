{
 "cells": [
  {
   "cell_type": "markdown",
   "id": "b715aadc",
   "metadata": {},
   "source": [
    "### Tutoriel d'installation de Mambaforge - Mamba - qiskit"
   ]
  },
  {
   "cell_type": "markdown",
   "id": "dd81d84e",
   "metadata": {},
   "source": [
    " Télécharger et installer Mambaforge pour linux. \\\n",
    " 1- Aller sur la page https://github.com/conda-forge/miniforge#mambaforge \\\n",
    " \n",
    " 2- Cliquer sur le lien Mambaforge-Linux-x86_64 pour télécharger et installer le Document ou Script \\\n",
    " \n",
    " 3- Exécuter le document téléchargé."
   ]
  },
  {
   "cell_type": "markdown",
   "id": "d033a32e",
   "metadata": {},
   "source": [
    "Pour vérifier l'installation, taper dans le terminal Linux la commande suivante :"
   ]
  },
  {
   "cell_type": "code",
   "execution_count": null,
   "id": "8cc01bd6",
   "metadata": {},
   "outputs": [],
   "source": [
    " mamba list"
   ]
  },
  {
   "cell_type": "markdown",
   "id": "29183d94",
   "metadata": {},
   "source": [
    "### Installer Jupyter Lab qui est l'interface de travail permettant l'exécution des codes"
   ]
  },
  {
   "cell_type": "markdown",
   "id": "0a754c4e",
   "metadata": {},
   "source": [
    "Il est nécessaire d'installer tout d'abord le `channel conda-forge`. Le channel est le lieu où sont stockés les packages (série ou ensemble de mesures)"
   ]
  },
  {
   "cell_type": "code",
   "execution_count": null,
   "id": "3ff6c1df",
   "metadata": {},
   "outputs": [],
   "source": [
    "conda install mamba -n base -c conda-forge"
   ]
  },
  {
   "cell_type": "markdown",
   "id": "e4f38933",
   "metadata": {},
   "source": [
    "Ensuite installer jupyter lab"
   ]
  },
  {
   "cell_type": "code",
   "execution_count": null,
   "id": "60f5e0c4",
   "metadata": {},
   "outputs": [],
   "source": [
    "mamba install -c conda-forge jupyterlab"
   ]
  },
  {
   "cell_type": "markdown",
   "id": "f9c9ead6-202b-4ea0-af38-d2c604e20cc7",
   "metadata": {},
   "source": [
    "Pour une autocompletion rapide, on utilisera `tabnine`"
   ]
  },
  {
   "cell_type": "code",
   "execution_count": null,
   "id": "6c3f7d0d-cd7e-4eb0-beca-5510a6d730d3",
   "metadata": {},
   "outputs": [],
   "source": [
    "pip install --upgrade jupyterlab_tabnine"
   ]
  },
  {
   "cell_type": "markdown",
   "id": "429296f5-8637-4ad9-9332-e414dab29d65",
   "metadata": {},
   "source": [
    "Pour utiliser par exemple un autre environnement ou un noyau (kernel), on installera `ipykernel` via commande "
   ]
  },
  {
   "cell_type": "code",
   "execution_count": null,
   "id": "741ac992-2aa5-49e7-8e76-17d2cbb12d82",
   "metadata": {},
   "outputs": [],
   "source": [
    "mamba (ou conda) install jupyterlab ipykernel nb_conda_kernels"
   ]
  },
  {
   "cell_type": "markdown",
   "id": "a044723a",
   "metadata": {},
   "source": [
    "## Créer un environnement "
   ]
  },
  {
   "cell_type": "markdown",
   "id": "9167e996",
   "metadata": {},
   "source": [
    "On crée un environnement en exécutant la commande"
   ]
  },
  {
   "cell_type": "code",
   "execution_count": null,
   "id": "b921ad05",
   "metadata": {},
   "outputs": [],
   "source": [
    "mamba create --name myenv -y"
   ]
  },
  {
   "cell_type": "code",
   "execution_count": null,
   "id": "2e99c8e3",
   "metadata": {},
   "outputs": [],
   "source": [
    "## exemple, créer un environnement Qiskit (Librairie qui sera utilisée pour nos cours et devoirs)\n",
    "mamba create --name qiskit-env -y"
   ]
  },
  {
   "cell_type": "markdown",
   "id": "4c561c22",
   "metadata": {},
   "source": [
    "on peut également créer un environnement avec une version spécifique de Python"
   ]
  },
  {
   "cell_type": "code",
   "execution_count": null,
   "id": "4b2fe79f",
   "metadata": {},
   "outputs": [],
   "source": [
    " mamba create -n myenv python=3.9"
   ]
  },
  {
   "cell_type": "markdown",
   "id": "61e0b14c",
   "metadata": {},
   "source": [
    "Pour vérifier si l'environnement a été créé, taper la commande suivante dans le terminal"
   ]
  },
  {
   "cell_type": "code",
   "execution_count": null,
   "id": "3024158a",
   "metadata": {},
   "outputs": [],
   "source": [
    "mamba env list"
   ]
  },
  {
   "cell_type": "markdown",
   "id": "4ed4566a",
   "metadata": {},
   "source": [
    "Activer l'environnement en exécutant"
   ]
  },
  {
   "cell_type": "code",
   "execution_count": null,
   "id": "e3add920",
   "metadata": {},
   "outputs": [],
   "source": [
    "mamba activate myenv"
   ]
  },
  {
   "cell_type": "markdown",
   "id": "1600cc9c",
   "metadata": {},
   "source": [
    "Après avoir créé l'environnement, il est nécéssaire d'installer qiskit dans l'environnement créé plus haut."
   ]
  },
  {
   "cell_type": "code",
   "execution_count": null,
   "id": "a822032b",
   "metadata": {},
   "outputs": [],
   "source": [
    "## pour installer qiskit avec la version la plus réscente, taper dand le terminal linux la commande suivante\n",
    "pip install qiskit --upgrade\n",
    "## ensuite installer qiskit visualization et machine Learning comme suit\n",
    "pip install qiskit[visualization, machine Learning]"
   ]
  }
 ],
 "metadata": {
  "kernelspec": {
   "display_name": "Python 3 (ipykernel)",
   "language": "python",
   "name": "python3"
  },
  "language_info": {
   "codemirror_mode": {
    "name": "ipython",
    "version": 3
   },
   "file_extension": ".py",
   "mimetype": "text/x-python",
   "name": "python",
   "nbconvert_exporter": "python",
   "pygments_lexer": "ipython3",
   "version": "3.9.16"
  }
 },
 "nbformat": 4,
 "nbformat_minor": 5
}
