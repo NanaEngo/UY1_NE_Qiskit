{
 "cells": [
  {
   "cell_type": "markdown",
   "metadata": {},
   "source": [
    "**`dongmo fouelemo franclin`**, `17c2479` et `fouelemofranclin@gmail.com` \n",
    "\n",
    "Department of Physics - Faculty of Science - University of Yaoundé I\n",
    "\n",
    "`pmb`\n",
    "\n",
    "`10-07-2023`"
   ]
  },
  {
   "cell_type": "markdown",
   "metadata": {},
   "source": [
    "Le **2,5,8,11-tétrakis(4-(9H-carbazol-9-yl)phényle)-6,7-diisopropylnéryl-1,4,5,8,9,11-hexaazatriphénylène** ou 4CzIPN, est repertorié dans la base de donnée PubChem comme le composé 102198498.\n",
    "\n",
    "Cette molécule présente des propriétés intéressantes pour les applications OLED en raison de sa haute efficacité lumineuse, de sa longue durée de vie et de sa stabilité thermique. Elle a été largement utilisée dans les écrans OLED pour les téléviseurs, les smartphones et les ordinateurs portables en raison de ses performances optimales et de sa faible consommation d'énergie.\n",
    "\n",
    "1. A partir de site de [pubchem](https://pubchem.ncbi.nlm.nih.gov/compound/102198498), donner, **dans votre cahier de composition**, sa formule moléculaire et son poids moléculaire.\n"
   ]
  },
  {
   "cell_type": "markdown",
   "metadata": {},
   "source": [
    "2. Utiliser `rdkit.Chem.MolFromSmiles` et `rdkit.Chem.AllChem` pour représenter en 2D, y compris explicitement les atomes d'hydrogènes, la molécule 4CzIPN à partir de son SMILES isomérique, disponible sur [pubchem](https://pubchem.ncbi.nlm.nih.gov/compound/102198498). \n",
    "3. Utiliser `rdkit.Chem.Descriptors` pour évaluer les propriétés physico-chimique suivantes de la molécule 4CzIPN : le poids moléculaire; poids moléculaire moyen de la molécule en ignorant les hydrogènes; logP ou solubilité, TPSA ou la polarité, nombre de liaisons donneurs d'hydrogènes  et nombre de liaisons accepteurs d'hydrogènes. Utiliser `pandas`pour présenter les résulats sous forme de tableau. **Noter les valeurs obtenues dans votre cahier de composition.**\n",
    "4. Utiliser `rdkit.Chem.AllChem` et `rdkit.Chem.MolToXYZFile` pour écrire, à partir de `mol` (molécule rdkit) de la question 2. dans un fichier `\"votre_nom_4CzIPN.xyz\"`, les coordonnées au format xyz de la molécule 4CzIPN. \n",
    "   \n",
    "   ```python\n",
    "    rdkit.Chem.AllChem.EmbedMolecule(mol)\n",
    "    rdkit.Chem.AllChem.MMFFOptimizeMolecule(mol, maxIters=200)\n",
    "    rdkit.Chem.MolToXYZFile(mol, 'votre_nom_4CzIPN.xyz')\n",
    "    ```\n",
    "\n",
    "5. Ouvrir le fichier créé et **noter dans votre cahier de composition, le chiffre se trouvant au début du fichier**. Ensuite l'effacer du fichier et \n",
    "sauvegarder celui-ci.\n",
    "6. Utiliser `pyscf.gto` pour créer \n",
    "   \n",
    "   ```python\n",
    "   CzIPN_mol = pyscf.gto.M(atom=open('votre_nom_4CzIPN.xyz').read(),\n",
    "    charge=0,\n",
    "    spin=0,\n",
    "    basis='631g*',\n",
    "    unit='Angstrom')\n",
    "    ```\n",
    "\n",
    "    et par la méthode `CzIPN_mol.build().get_enuc()`, obtenir la valeur de l'énergie nucléaire de la molécule et **noter celle-ci dans votre cahier de composition**.\n",
    "7. Le Hamiltonien 2-qubits de cette molécule est\n",
    "\\begin{equation*} \\mathtt{H} = h_1(\\mathtt{I}\\otimes\\mathtt{I}) + h_2(\\mathtt{Z}\\otimes\\mathtt{I} - \\mathtt{I}\\otimes\\mathtt{Z}) + h_3(\\mathtt{Z}\\otimes\\mathtt{Z}) + h_4(\\mathtt{x}\\otimes\\mathtt{X}) + h_5(\\mathtt{X}\\otimes\\mathtt{I} + \\mathtt{I}\\otimes\\mathtt{X}) + h_6(\\mathtt{X}\\otimes\\mathtt{Z} - \\mathtt{Z}\\otimes\\mathtt{X}),\n",
    "\\end{equation*}\n",
    "où les coefficients \n",
    "\\begin{align*}\n",
    "&h_1 = -0.46959492273396025,&&h_2 = -0.12480163590374627,\\\\\n",
    "&h_3 = -0.026903253444563915,&&  h_4 = 0.004924575935052124,\\\\\n",
    "&h_5 = -4.6840929608197336e-06,&& h_6 = - 4.683976972721447e-06.\n",
    "\\end{align*}\n",
    "Utiliser, pour calculer l'état fondamental de la molécule 4CzIPN,\n",
    "* `qiskit.opflow.operator_globals` et \n",
    "* `qiskit.algorithms.minimum_eigensolvers.NumPyMinimumEigensolver`.\n",
    "\n",
    "**Noter dans votre cahier de composition, la valeur propre et le vecteur propre de l'Hamiltonien**."
   ]
  },
  {
   "cell_type": "code",
   "execution_count": null,
   "metadata": {},
   "outputs": [],
   "source": [
    "#### 2) "
   ]
  },
  {
   "cell_type": "code",
   "execution_count": 17,
   "metadata": {},
   "outputs": [],
   "source": [
    "from rdkit import Chem\n",
    "from rdkit.Chem import AllChem"
   ]
  },
  {
   "cell_type": "code",
   "execution_count": 16,
   "metadata": {},
   "outputs": [
    {
     "ename": "SyntaxError",
     "evalue": "invalid syntax (137074709.py, line 1)",
     "output_type": "error",
     "traceback": [
      "\u001b[0;36m  Cell \u001b[0;32mIn[16], line 1\u001b[0;36m\u001b[0m\n\u001b[0;31m    from rdkit.Chem.MolFromSmiles\u001b[0m\n\u001b[0m                                 ^\u001b[0m\n\u001b[0;31mSyntaxError\u001b[0m\u001b[0;31m:\u001b[0m invalid syntax\n"
     ]
    }
   ],
   "source": [
    "from rdkit.Chem.MolFromSmiles"
   ]
  },
  {
   "cell_type": "code",
   "execution_count": null,
   "metadata": {},
   "outputs": [],
   "source": [
    "from rdkit.Chem.AllChem"
   ]
  },
  {
   "cell_type": "code",
   "execution_count": null,
   "metadata": {},
   "outputs": [],
   "source": [
    "C1=CC=C2C(=C1)C3=CC=CC=C3N2C4=C(C(=C(C(=C4C#N)N5C6=CC=CC=C6C7=CC=CC=C75)N8C9=CC=CC=C9C1=CC=CC=C18)N1C2=CC=CC=C2C2=CC=CC=C21)C#N"
   ]
  },
  {
   "cell_type": "code",
   "execution_count": 18,
   "metadata": {},
   "outputs": [
    {
     "ename": "SyntaxError",
     "evalue": "invalid syntax (1408782101.py, line 1)",
     "output_type": "error",
     "traceback": [
      "\u001b[0;36m  Cell \u001b[0;32mIn[18], line 1\u001b[0;36m\u001b[0m\n\u001b[0;31m    smi = C1=CC=C2C(=C1)C3=CC=CC=C3N2C4=C(C(=C(C(=C4C#N)N5C6=CC=CC=C6C7=CC=CC=C75)N8C9=CC=CC=C9C1=CC=CC=C18)N1C2=CC=CC=C2C2=CC=CC=C21)C#N\u001b[0m\n\u001b[0m                    ^\u001b[0m\n\u001b[0;31mSyntaxError\u001b[0m\u001b[0;31m:\u001b[0m invalid syntax\n"
     ]
    }
   ],
   "source": [
    "smi = C1=CC=C2C(=C1)C3=CC=CC=C3N2C4=C(C(=C(C(=C4C#N)N5C6=CC=CC=C6C7=CC=CC=C75)N8C9=CC=CC=C9C1=CC=CC=C18)N1C2=CC=CC=C2C2=CC=CC=C21)C#N\n",
    "m = Chem.MolFromSmiles(smi) \n",
    "m"
   ]
  },
  {
   "cell_type": "markdown",
   "metadata": {},
   "source": [
    "### 4"
   ]
  },
  {
   "cell_type": "code",
   "execution_count": null,
   "metadata": {},
   "outputs": [],
   "source": [
    "```python\n",
    "    rdkit.Chem.AllChem.EmbedMolecule(mol)\n",
    "    rdkit.Chem.AllChem.MMFFOptimizeMolecule(mol, maxIters=200)\n",
    "    rdkit.Chem.MolToXYZFile(mol, 'votre_nom_4CzIPN.xyz')\n",
    "    ```"
   ]
  },
  {
   "cell_type": "markdown",
   "metadata": {},
   "source": [
    "### 6) utilisons pyscf.gto"
   ]
  },
  {
   "cell_type": "code",
   "execution_count": 15,
   "metadata": {},
   "outputs": [
    {
     "ename": "ModuleNotFoundError",
     "evalue": "No module named 'pyscf'",
     "output_type": "error",
     "traceback": [
      "\u001b[0;31m---------------------------------------------------------------------------\u001b[0m",
      "\u001b[0;31mModuleNotFoundError\u001b[0m                       Traceback (most recent call last)",
      "Cell \u001b[0;32mIn[15], line 1\u001b[0m\n\u001b[0;32m----> 1\u001b[0m \u001b[38;5;28;01mfrom\u001b[39;00m \u001b[38;5;21;01mpyscf\u001b[39;00m \u001b[38;5;28;01mimport\u001b[39;00m gto\n",
      "\u001b[0;31mModuleNotFoundError\u001b[0m: No module named 'pyscf'"
     ]
    }
   ],
   "source": [
    "from pyscf import gto # Gaussian type orbitals"
   ]
  },
  {
   "cell_type": "code",
   "execution_count": null,
   "metadata": {},
   "outputs": [],
   "source": [
    " ```python\n",
    "   CzIPN_mol = pyscf.gto.M(atom=open('votre_nom_4CzIPN.xyz').read(),\n",
    "    charge=0,\n",
    "    spin=0,\n",
    "    basis='631g*',\n",
    "    unit='Angstrom')\n",
    "    ```"
   ]
  },
  {
   "cell_type": "code",
   "execution_count": null,
   "metadata": {},
   "outputs": [],
   "source": [
    " CzIPN_mol=gto.Mole(\n",
    "    atom=CzIPN_mol.build().get_enuc()= pyscf.gto.M(atom=open('votre_nom_4CzIPN.xyz').read(),\n",
    "    basis='aug-cc-pVDZ',\n",
    "    cart=False, #mol.cart=0 specifices spherical functions and mol.cart=1 specifies Cartesian functions\n",
    "    charge=0,\n",
    "    ecp={}, # Effective core potentials (ECP) which replace core electrons around a nucleus by pseudopotentials. It's useful for heavy elements present in a molecule.\n",
    "    spin=0,\n",
    "    unit='Angstrom'\n",
    ")\n",
    " CzIPN_mol.build()"
   ]
  },
  {
   "cell_type": "code",
   "execution_count": null,
   "metadata": {},
   "outputs": [],
   "source": [
    "CzIPN_h_f = scf.RHF(CzIPN_mol).run()"
   ]
  },
  {
   "cell_type": "code",
   "execution_count": null,
   "metadata": {},
   "outputs": [],
   "source": [
    "# To obtain norb, the number of (active) orbitals and nelec, the number of (active) electrons. \n",
    "norb, nel, mo =avas.avas(H2_h_f,['Li 2s','H 1s'])\n",
    "\n",
    "H2_cas = mcscf.CASCI(H2_h_f, norb, nel)\n",
    "\n",
    "H2_cas"
   ]
  },
  {
   "cell_type": "code",
   "execution_count": null,
   "metadata": {},
   "outputs": [
    {
     "data": {
      "text/html": [
       "<h3>Version Information</h3><table><tr><th>Qiskit Software</th><th>Version</th></tr><tr><td><code>qiskit-terra</code></td><td>0.24.0</td></tr><tr><td><code>qiskit-aer</code></td><td>0.12.0</td></tr><tr><td><code>qiskit-ibmq-provider</code></td><td>0.20.2</td></tr><tr><td><code>qiskit</code></td><td>0.43.0</td></tr><tr><td><code>qiskit-nature</code></td><td>0.6.0</td></tr><tr><th>System information</th></tr><tr><td>Python version</td><td>3.8.16</td></tr><tr><td>Python compiler</td><td>GCC 11.2.0</td></tr><tr><td>Python build</td><td>default, Mar  2 2023 03:21:46</td></tr><tr><td>OS</td><td>Linux</td></tr><tr><td>CPUs</td><td>2</td></tr><tr><td>Memory (Gb)</td><td>3.678516387939453</td></tr><tr><td colspan='2'>Mon Jul 10 14:11:39 2023 CEST</td></tr></table>"
      ],
      "text/plain": [
       "<IPython.core.display.HTML object>"
      ]
     },
     "metadata": {},
     "output_type": "display_data"
    }
   ],
   "source": [
    "import qiskit.tools.jupyter\n",
    "%qiskit_version_table"
   ]
  },
  {
   "cell_type": "code",
   "execution_count": null,
   "metadata": {},
   "outputs": [],
   "source": []
  },
  {
   "cell_type": "markdown",
   "metadata": {},
   "source": [
    "### 7) le hamiltonien"
   ]
  },
  {
   "cell_type": "code",
   "execution_count": 1,
   "metadata": {},
   "outputs": [
    {
     "name": "stderr",
     "output_type": "stream",
     "text": [
      "/tmp/ipykernel_25613/3256284907.py:1: DeprecationWarning: The ``qiskit.opflow`` module is deprecated as of qiskit-terra 0.24.0. It will be removed no earlier than 3 months after the release date. For code migration guidelines, visit https://qisk.it/opflow_migration.\n",
      "  from qiskit.opflow.operator_globals import I, X, Y, Z\n"
     ]
    }
   ],
   "source": [
    "from qiskit.opflow.operator_globals import I, X, Y, Z\n",
    "from qiskit.algorithms import NumPyMinimumEigensolver"
   ]
  },
  {
   "cell_type": "code",
   "execution_count": 2,
   "metadata": {},
   "outputs": [
    {
     "name": "stdout",
     "output_type": "stream",
     "text": [
      "II\n"
     ]
    }
   ],
   "source": [
    "a=I^I\n",
    "print(a)"
   ]
  },
  {
   "cell_type": "code",
   "execution_count": 3,
   "metadata": {},
   "outputs": [
    {
     "name": "stdout",
     "output_type": "stream",
     "text": [
      "1.0 * ZI\n",
      "- 1.0 * IZ\n"
     ]
    }
   ],
   "source": [
    "b=((Z^I)-(I^Z))\n",
    "print(b)"
   ]
  },
  {
   "cell_type": "code",
   "execution_count": 4,
   "metadata": {},
   "outputs": [
    {
     "name": "stdout",
     "output_type": "stream",
     "text": [
      "ZZ\n"
     ]
    }
   ],
   "source": [
    "c=(Z^Z)\n",
    "print(c)"
   ]
  },
  {
   "cell_type": "code",
   "execution_count": 5,
   "metadata": {},
   "outputs": [
    {
     "name": "stdout",
     "output_type": "stream",
     "text": [
      "XX\n"
     ]
    }
   ],
   "source": [
    "d=X^X\n",
    "print(d)"
   ]
  },
  {
   "cell_type": "code",
   "execution_count": 6,
   "metadata": {},
   "outputs": [
    {
     "name": "stdout",
     "output_type": "stream",
     "text": [
      "1.0 * XI\n",
      "+ 1.0 * IX\n"
     ]
    }
   ],
   "source": [
    "e=((X^I)+(I^X))\n",
    "print(e)"
   ]
  },
  {
   "cell_type": "code",
   "execution_count": 7,
   "metadata": {},
   "outputs": [
    {
     "name": "stdout",
     "output_type": "stream",
     "text": [
      "1.0 * XZ\n",
      "- 1.0 * ZX\n"
     ]
    }
   ],
   "source": [
    "f=((X^Z)-(Z^X))\n",
    "print(f)"
   ]
  },
  {
   "cell_type": "code",
   "execution_count": 8,
   "metadata": {},
   "outputs": [
    {
     "name": "stdout",
     "output_type": "stream",
     "text": [
      "1.0 * XI\n",
      "+ 1.0 * IX\n",
      "+ 1.0 * XZ\n",
      "- 1.0 * ZX\n"
     ]
    }
   ],
   "source": [
    "G=(X^I)+(I^X)+(X^Z)-(Z^X)\n",
    "print(G)"
   ]
  },
  {
   "cell_type": "code",
   "execution_count": 10,
   "metadata": {},
   "outputs": [
    {
     "name": "stdout",
     "output_type": "stream",
     "text": [
      "-0.46959492273396025 * II\n",
      "- 0.12480163590374627 * ZI\n",
      "+ 0.12480163590374627 * IZ\n",
      "- 0.026903253444563915 * ZZ\n",
      "+ 0.004924575935052124 * XX\n",
      "- 4.6840929608197336e-06 * XI\n",
      "- 4.6840929608197336e-06 * IX\n",
      "- 4.683976972721447e-06 * XZ\n",
      "+ 4.683976972721447e-06 * ZX\n"
     ]
    }
   ],
   "source": [
    "H = (-0.46959492273396025*a) -0.12480163590374627*b -0.026903253444563915*c+(0.004924575935052124*d)-4.6840929608197336e-06*e -4.683976972721447e-06*f\n",
    "print(H)"
   ]
  },
  {
   "cell_type": "code",
   "execution_count": 11,
   "metadata": {},
   "outputs": [
    {
     "name": "stderr",
     "output_type": "stream",
     "text": [
      "/tmp/ipykernel_25613/1463833043.py:1: DeprecationWarning: The class ``qiskit.algorithms.minimum_eigen_solvers.numpy_minimum_eigen_solver.NumPyMinimumEigensolver`` is deprecated as of qiskit-terra 0.24.0. It will be removed no earlier than 3 months after the release date. Instead, use the class ``qiskit.algorithms.minimum_eigensolvers.NumPyMinimumEigensolver``. See https://qisk.it/algo_migration for a migration guide.\n",
      "  exact_result = NumPyMinimumEigensolver().compute_minimum_eigenvalue(H)\n"
     ]
    },
    {
     "name": "stdout",
     "output_type": "stream",
     "text": [
      "The exact ground state energy is: -0.692343516358845\n"
     ]
    }
   ],
   "source": [
    "exact_result = NumPyMinimumEigensolver().compute_minimum_eigenvalue(H)\n",
    "print(f'The exact ground state energy is: {exact_result.eigenvalue}')"
   ]
  },
  {
   "cell_type": "code",
   "execution_count": null,
   "metadata": {},
   "outputs": [],
   "source": []
  },
  {
   "cell_type": "code",
   "execution_count": null,
   "metadata": {
    "vscode": {
     "languageId": "plaintext"
    }
   },
   "outputs": [],
   "source": [
    "import rdkit\n",
    "import pyscf\n",
    "print(rdkit.__version__)\n",
    "print(pyscf.__version__)"
   ]
  },
  {
   "cell_type": "markdown",
   "metadata": {
    "vscode": {
     "languageId": "plaintext"
    }
   },
   "source": [
    "import qiskit.tools.jupyter\n",
    "%qiskit_version_table"
   ]
  }
 ],
 "metadata": {
  "kernelspec": {
   "display_name": "Python 3 (ipykernel)",
   "language": "python",
   "name": "python3"
  },
  "language_info": {
   "codemirror_mode": {
    "name": "ipython",
    "version": 3
   },
   "file_extension": ".py",
   "mimetype": "text/x-python",
   "name": "python",
   "nbconvert_exporter": "python",
   "pygments_lexer": "ipython3",
   "version": "3.8.16"
  }
 },
 "nbformat": 4,
 "nbformat_minor": 4
}
