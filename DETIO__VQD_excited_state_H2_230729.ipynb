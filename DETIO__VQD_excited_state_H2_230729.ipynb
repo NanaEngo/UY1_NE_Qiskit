{
  "cells": [
    {
      "cell_type": "code",
      "execution_count": 1,
      "id": "1guF9-t1-1zD",
      "metadata": {
        "colab": {
          "base_uri": "https://localhost:8080/"
        },
        "id": "1guF9-t1-1zD",
        "outputId": "a74c2a09-dcc1-4b2f-96d5-e6e8c577f022"
      },
      "outputs": [],
      "source": [
        "# pip install qiskit[nature] -U"
      ]
    },
    {
      "cell_type": "markdown",
      "id": "8e7a2f70",
      "metadata": {
        "id": "8e7a2f70"
      },
      "source": [
        "# Calcul de l'état fondamental et du premier niveau excité de la molécule de H2\n",
        "\n",
        "Nous allons, pour le calcul de l'état fondamental et de l'état excité, utiliser tout d'abord la diagonalisation exacte. Par la suite, nous utiliserons la méthode Variationnelle pour le même calcul en Utilisant deux ansatze (HEA et UCCSD ansatz) ou fonctions d'éssai."
      ]
    },
    {
      "cell_type": "code",
      "execution_count": 2,
      "id": "64c66589",
      "metadata": {
        "colab": {
          "base_uri": "https://localhost:8080/",
          "height": 550
        },
        "id": "64c66589",
        "outputId": "7e75bb8b-f768-466b-a37b-80df1756f98a"
      },
      "outputs": [
        {
          "name": "stderr",
          "output_type": "stream",
          "text": [
            "/home/taamangtchu/mambaforge/envs/qiskit-env/lib/python3.10/site-packages/pyscf/dft/libxc.py:772: UserWarning: Since PySCF-2.3, B3LYP (and B3P86) are changed to the VWN-RPA variant, the same to the B3LYP functional in Gaussian and ORCA (issue 1480). To restore the VWN5 definition, you can put the setting \"B3LYP_WITH_VWN5 = True\" in pyscf_conf.py\n",
            "  warnings.warn('Since PySCF-2.3, B3LYP (and B3P86) are changed to the VWN-RPA variant, '\n"
          ]
        }
      ],
      "source": [
        "from qiskit_nature.units import DistanceUnit # importation du package qui donne de la distance interatomique\n",
        "from qiskit_nature.second_q.drivers import PySCFDriver #importation du driver PYSCF\n",
        "\n",
        "driver = PySCFDriver(\n",
        "    atom=\"H 0 0 0; H 0 0 0.735\",\n",
        "    basis=\"sto3g\",\n",
        "    charge=0,\n",
        "    spin=0,\n",
        "    unit=DistanceUnit.ANGSTROM,\n",
        ")\n",
        "\n",
        "es_problem = driver.run() # définir le problème électronique"
      ]
    },
    {
      "cell_type": "code",
      "execution_count": 3,
      "id": "c09423e3",
      "metadata": {
        "id": "c09423e3"
      },
      "outputs": [],
      "source": [
        "fermOp = es_problem.hamiltonian.second_q_op() # définissions du Hamiltonien fermionique en\n",
        "# second quantification"
      ]
    },
    {
      "cell_type": "markdown",
      "id": "26a826a9",
      "metadata": {
        "id": "26a826a9"
      },
      "source": [
        "Convertir les opérateurs fermioniques en opérateurs qubits. A ce stade, nous choisissons JordanWignerMapper le mapper qui sera utilisé dans l'algorithme."
      ]
    },
    {
      "cell_type": "code",
      "execution_count": 4,
      "id": "792179f6",
      "metadata": {
        "id": "792179f6",
        "scrolled": true
      },
      "outputs": [],
      "source": [
        "from qiskit_nature.second_q.mappers import JordanWignerMapper\n",
        "from qiskit_nature.second_q.operators import FermionicOp\n",
        "\n",
        "mapper = JordanWignerMapper()"
      ]
    },
    {
      "cell_type": "code",
      "execution_count": 5,
      "id": "f1aed5e3",
      "metadata": {
        "id": "f1aed5e3"
      },
      "outputs": [
        {
          "name": "stderr",
          "output_type": "stream",
          "text": [
            "/home/taamangtchu/mambaforge/envs/qiskit-env/lib/python3.10/site-packages/qiskit_nature/deprecation.py:297: PauliSumOpDeprecationWarning: PauliSumOp is deprecated as of version 0.6.0 and support for them will be removed no sooner than 3 months after the release. Instead, use SparsePauliOp. You can switch to SparsePauliOp immediately, by setting `qiskit_nature.settings.use_pauli_sum_op` to `False`.\n",
            "  return func(*args, **kwargs)\n"
          ]
        },
        {
          "data": {
            "text/plain": [
              "PauliSumOp(SparsePauliOp(['IIII', 'IIIZ', 'IIZI', 'IZII', 'ZIII', 'IIZZ', 'IZIZ', 'YYYY', 'XXYY', 'YYXX', 'XXXX', 'ZIIZ', 'IZZI', 'ZIZI', 'ZZII'],\n",
              "              coeffs=[-0.81054798+0.j,  0.17218393+0.j, -0.22575349+0.j,  0.17218393+0.j,\n",
              " -0.22575349+0.j,  0.12091263+0.j,  0.16892754+0.j,  0.0452328 +0.j,\n",
              "  0.0452328 +0.j,  0.0452328 +0.j,  0.0452328 +0.j,  0.16614543+0.j,\n",
              "  0.16614543+0.j,  0.17464343+0.j,  0.12091263+0.j]), coeff=1.0)"
            ]
          },
          "execution_count": 5,
          "metadata": {},
          "output_type": "execute_result"
        }
      ],
      "source": [
        "mapper.map(fermOp) # cette opération permet\n",
        "#de convertir l'Opérateur fermionique (fermOp)en Opérateur qubit."
      ]
    },
    {
      "cell_type": "markdown",
      "id": "63444d09",
      "metadata": {
        "id": "63444d09"
      },
      "source": [
        "Afin de faciliter les calculs avec la diagonalisation exacte, faisons la réduction de qubits avec le module \"TaperedQubitMapper\""
      ]
    },
    {
      "cell_type": "code",
      "execution_count": 6,
      "id": "2f478de5",
      "metadata": {
        "id": "2f478de5"
      },
      "outputs": [],
      "source": [
        "from qiskit_nature.second_q.mappers import TaperedQubitMapper # permet la reduction de qubits"
      ]
    },
    {
      "cell_type": "code",
      "execution_count": 7,
      "id": "023849f3",
      "metadata": {
        "id": "023849f3"
      },
      "outputs": [
        {
          "name": "stdout",
          "output_type": "stream",
          "text": [
            "Number of items in the JWM Z2 Pauli list: 3\n",
            "-1.041093141516624 * I\n",
            "- 0.7958748496863585 * Z\n",
            "+ 0.18093119978423122 * X\n"
          ]
        }
      ],
      "source": [
        "mapperz2 = es_problem.get_tapered_mapper(mapper)\n",
        "H2_z2qubit = mapperz2.map(fermOp)\n",
        "\n",
        "print(f\"Number of items in the JWM Z2 Pauli list:\", len(H2_z2qubit))\n",
        "print(H2_z2qubit)"
      ]
    },
    {
      "cell_type": "markdown",
      "id": "ae91a68d",
      "metadata": {
        "id": "ae91a68d"
      },
      "source": [
        "L' Hamiltonien réduit s'écrit :\n",
        "\\begin{align}\n",
        "\\mathtt{H} = & h_1*I + h_2*Z + h_3*X \\\\\n",
        "h1 = &-1.041093141516625 \\\\\n",
        "h2 = &- 0.7958748496863575 \\\\\n",
        "h3 = &+ 0.18093119978423122\n",
        "\\end{align}"
      ]
    },
    {
      "cell_type": "markdown",
      "id": "da28306c",
      "metadata": {
        "id": "da28306c"
      },
      "source": [
        "A partir du Hamiltonien quelconque obtenu plus haut, calculons l'énergie à partie de la fonction SparsePauliOp."
      ]
    },
    {
      "cell_type": "markdown",
      "id": "1be6450f",
      "metadata": {
        "id": "1be6450f"
      },
      "source": [
        "## Utilisation de la diagonalisation exacte"
      ]
    },
    {
      "cell_type": "markdown",
      "id": "c7ae2c34",
      "metadata": {
        "id": "c7ae2c34"
      },
      "source": [
        "### Calcul de l'énergie de l'état fondamental\n",
        "\n",
        "Dans la méthode de la diagonalisation totale exacte, l'algorithme utilisé pour le calcul de l'état fondamental est le `NumPyMinimumEigensolve``. Le \"Minimum eigensolver\" ne recherche que les états réalisable et renvoie un état propre qui a la plus petite valeur propre parmi les états réalisables."
      ]
    },
    {
      "cell_type": "code",
      "execution_count": 8,
      "id": "2fdd48e8",
      "metadata": {
        "id": "2fdd48e8"
      },
      "outputs": [
        {
          "name": "stdout",
          "output_type": "stream",
          "text": [
            "\n",
            " The exact ground state energy is: -1.8572750302023784\n"
          ]
        }
      ],
      "source": [
        "from qiskit.quantum_info import SparsePauliOp\n",
        "from qiskit.algorithms.minimum_eigensolvers import NumPyMinimumEigensolver\n",
        "\n",
        "exact_result = NumPyMinimumEigensolver().compute_minimum_eigenvalue(H2_z2qubit)\n",
        "print(f'\\n The exact ground state energy is: {exact_result.eigenvalue}')"
      ]
    },
    {
      "cell_type": "markdown",
      "id": "f76db56b",
      "metadata": {
        "id": "f76db56b"
      },
      "source": [
        "### Calcul de l'énergie des premiers états excités\n",
        "\n",
        "Le calcul des états excités se fait à partir avec la classe ` ExcitedStatesEigensolver`."
      ]
    },
    {
      "cell_type": "code",
      "execution_count": 9,
      "id": "922b7e65",
      "metadata": {
        "id": "922b7e65"
      },
      "outputs": [
        {
          "name": "stdout",
          "output_type": "stream",
          "text": [
            "=== GROUND STATE ENERGY ===\n",
            " \n",
            "* Electronic ground state energy (Hartree): -1.857275030202\n",
            "  - computed part:      -1.857275030202\n",
            "~ Nuclear repulsion energy (Hartree): 0.719968994449\n",
            "> Total ground state energy (Hartree): -1.137306035753\n",
            " \n",
            "=== EXCITED STATE ENERGIES ===\n",
            " \n",
            "  1: \n",
            "* Electronic excited state energy (Hartree): -0.224911252831\n",
            "> Total excited state energy (Hartree): 0.495057741618\n",
            " \n",
            "=== MEASURED OBSERVABLES ===\n",
            " \n",
            "  0:  # Particles: 2.000 S: 0.000 S^2: 0.000 M: 0.000\n",
            "  1:  # Particles: 2.000 S: 0.000 S^2: 0.000 M: 0.000\n",
            " \n",
            "=== DIPOLE MOMENTS ===\n",
            " \n",
            "~ Nuclear dipole moment (a.u.): [0.0  0.0  1.3889487]\n",
            " \n",
            "  0: \n",
            "  * Electronic dipole moment (a.u.): [0.0  0.0  None]\n",
            "    - computed part:      [0.0  0.0  None]\n",
            "  > Dipole moment (a.u.): [0.0  0.0  None]  Total: None\n",
            "                 (debye): [0.0  0.0  None]  Total: None\n",
            " \n",
            "  1: \n",
            "  * Electronic dipole moment (a.u.): [0.0  0.0  None]\n",
            "    - computed part:      [0.0  0.0  None]\n",
            "  > Dipole moment (a.u.): [0.0  0.0  None]  Total: None\n",
            "                 (debye): [0.0  0.0  None]  Total: None\n",
            " \n"
          ]
        }
      ],
      "source": [
        "from qiskit_nature.second_q.algorithms import ExcitedStatesEigensolver\n",
        "from qiskit.algorithms.eigensolvers import NumPyEigensolver\n",
        "\n",
        "numpy_solver = NumPyEigensolver(k=4, filter_criterion=es_problem.get_default_filter_criterion())\n",
        "\n",
        "numpy_excited_states_solver = ExcitedStatesEigensolver(mapperz2, numpy_solver)\n",
        "numpy_results = numpy_excited_states_solver.solve(es_problem)\n",
        "\n",
        "print(numpy_results)\n"
      ]
    },
    {
      "cell_type": "markdown",
      "id": "d8d6f13b",
      "metadata": {
        "id": "d8d6f13b"
      },
      "source": [
        "## Calcul quantique"
      ]
    },
    {
      "cell_type": "markdown",
      "id": "db0c5d2b",
      "metadata": {
        "id": "db0c5d2b"
      },
      "source": [
        " ### Calcul VQD\n",
        "\n",
        " Le calcul VQD dépend d'une certaine fonction coût qui s'écrit de la manière suivante :\n",
        "\n",
        " \\begin{equation}\n",
        "\tL(\\lambda_K) = \\langle{\\psi(\\lambda_k)}|\\hat{H}|{\\psi(\\lambda_k)}\\rangle + \\sum_{i=0}^{k=1}\\beta\\langle{\\psi(\\lambda_{k})}|{\\psi(\\lambda_{i})}\\rangle.\n",
        "\t\\end{equation}\n",
        "\n",
        "Processeur quantique  se charge de:\n",
        "* estimer la valeur du paramètre $\\lambda_k$ qui est utilisé pour générer un circuit de préparation d'état quantique $R(\\lambda_k)$\n",
        "* préparer l'état d'essai (ansatz) $$|\\psi(\\lambda_k)\\rangle$$ en appliquant un état unitaire  $R(\\lambda_k)$ sur l'état de référence $|0\\rangle$ :\n",
        "\t\\begin{equation}\n",
        "\t\t\t|\\psi(\\lambda_k)\\rangle = R(\\lambda_k)|0\\rangle\n",
        "\t\\end{equation}\n",
        "* calculer la valeur moyenne du Hamiltonien\n",
        "\t\\begin{equation}\n",
        "\t\t\tE(\\lambda_k) = \\langle{\\psi(\\lambda_k)}|H|{\\psi(\\lambda_k)}\\rangle\n",
        "\t\\end{equation}\n",
        "    "
      ]
    },
    {
      "cell_type": "markdown",
      "id": "14c1e1f7",
      "metadata": {
        "id": "14c1e1f7"
      },
      "source": [
        "Définissons l'ansatz ou fonction d'essai permettant d'approcher la solution au problème.\n",
        "\n",
        "Dans le cas du calcul VQD, les ansatze utilisés sont du type HEA et UCCSD.\n",
        "\n"
      ]
    },
    {
      "cell_type": "markdown",
      "id": "f7b996a7",
      "metadata": {
        "id": "f7b996a7"
      },
      "source": [
        "#### Cas du HEA ansatz\n",
        "L'ansatz de type HEA que nous allons utiliser ici est le \"RealAmplitudes\"."
      ]
    },
    {
      "cell_type": "code",
      "execution_count": 10,
      "id": "98a2ce2e",
      "metadata": {
        "id": "98a2ce2e"
      },
      "outputs": [],
      "source": [
        "from qiskit.circuit.library import RealAmplitudes # importation de l'ansatz de type HEA"
      ]
    },
    {
      "cell_type": "code",
      "execution_count": 11,
      "id": "f13bb384",
      "metadata": {
        "id": "f13bb384"
      },
      "outputs": [
        {
          "data": {
            "image/png": "[encoded data removed]",
            "text/plain": [
              "<PIL.Image.Image image mode=RGB size=658x117>"
            ]
          },
          "execution_count": 11,
          "metadata": {},
          "output_type": "execute_result"
        }
      ],
      "source": [
        "hea_ansatz = RealAmplitudes(3, entanglement='linear', reps=2, insert_barriers=True)\n",
        "hea_ansatz.decompose().draw('latex') # decompose les couches en portes standards"
      ]
    },
    {
      "cell_type": "markdown",
      "id": "bd800817",
      "metadata": {
        "id": "bd800817"
      },
      "source": [
        "#### Cas du UCCSD ansatz"
      ]
    },
    {
      "cell_type": "code",
      "execution_count": 12,
      "id": "33f5088b",
      "metadata": {
        "id": "33f5088b"
      },
      "outputs": [],
      "source": [
        "from qiskit_nature.second_q.circuit.library import HartreeFock, UCCSD # importation de\n",
        "#l'ansatz et de l'état initial HartreeFock."
      ]
    },
    {
      "cell_type": "markdown",
      "id": "0ef7a967",
      "metadata": {
        "id": "0ef7a967"
      },
      "source": [
        "Définissons l'état de référence Hartree-Fock"
      ]
    },
    {
      "cell_type": "code",
      "execution_count": 13,
      "id": "774f4381",
      "metadata": {
        "id": "774f4381"
      },
      "outputs": [
        {
          "data": {
            "image/png": "[encoded data removed]",
            "text/plain": [
              "<Figure size 204.541x117.056 with 1 Axes>"
            ]
          },
          "execution_count": 13,
          "metadata": {},
          "output_type": "execute_result"
        }
      ],
      "source": [
        "hf_state = HartreeFock(\n",
        "    es_problem.num_spatial_orbitals,\n",
        "    es_problem.num_particles,\n",
        "    mapperz2)\n",
        "hf_state.draw('mpl', initial_state = True)"
      ]
    },
    {
      "cell_type": "markdown",
      "id": "dfd8f565",
      "metadata": {
        "id": "dfd8f565"
      },
      "source": [
        "Définissons l'ansatz UCCSD avec pour état initial l'état Hartree-Fock"
      ]
    },
    {
      "cell_type": "code",
      "execution_count": 14,
      "id": "371a62a8",
      "metadata": {
        "id": "371a62a8"
      },
      "outputs": [],
      "source": [
        "uccsd_ansatz = UCCSD(\n",
        "    es_problem.num_spatial_orbitals,\n",
        "    es_problem.num_particles,\n",
        "    mapperz2,\n",
        "    initial_state = hf_state)"
      ]
    },
    {
      "cell_type": "code",
      "execution_count": 15,
      "id": "1f291170",
      "metadata": {
        "id": "1f291170"
      },
      "outputs": [
        {
          "data": {
            "image/png": "[encoded data removed]",
            "text/plain": [
              "<PIL.Image.Image image mode=RGB size=290x34>"
            ]
          },
          "execution_count": 15,
          "metadata": {},
          "output_type": "execute_result"
        }
      ],
      "source": [
        "uccsd_ansatz.decompose().draw('latex')"
      ]
    },
    {
      "cell_type": "markdown",
      "id": "6af04fa3",
      "metadata": {
        "id": "6af04fa3"
      },
      "source": [
        "Initialisons l'optimiseur, l'estimateur, l'ansatz et le solver"
      ]
    },
    {
      "cell_type": "code",
      "execution_count": 16,
      "id": "592afdf4",
      "metadata": {
        "id": "592afdf4"
      },
      "outputs": [],
      "source": [
        "from qiskit.algorithms.optimizers import SLSQP #cet optimiseur est idéal\n",
        "#pour les problèmes mathématiques pour lesquels la fonction objectif et les contraintes sont deux fois continûment différentiables\n",
        "optimizer = SLSQP()"
      ]
    },
    {
      "cell_type": "code",
      "execution_count": 17,
      "id": "4d032ff0",
      "metadata": {
        "id": "4d032ff0"
      },
      "outputs": [],
      "source": [
        "from qiskit.primitives import Estimator, Sampler\n",
        "estimator = Estimator() # fonction permettant d'estimer une propriété inconnue d'un état quantique\n",
        "# à partir d'un échantillon quantique (Sample), un processus de mesure permettant d'obtenir des\n",
        "# données à partir d'un état quantique."
      ]
    },
    {
      "cell_type": "code",
      "execution_count": 18,
      "id": "2d162b24",
      "metadata": {
        "id": "2d162b24"
      },
      "outputs": [],
      "source": [
        "ansatz    = hea_ansatz, uccsd_ansatz"
      ]
    },
    {
      "cell_type": "code",
      "execution_count": 19,
      "id": "80d807ca",
      "metadata": {
        "id": "80d807ca"
      },
      "outputs": [],
      "source": [
        "from qiskit.algorithms.state_fidelities import  ComputeUncompute\n",
        "fidelity  = ComputeUncompute(Sampler()) # calculer la fidélité permet d'assurer l'orthogonalité des états."
      ]
    },
    {
      "cell_type": "markdown",
      "id": "fb69233f",
      "metadata": {
        "id": "fb69233f"
      },
      "source": [
        "Initialiser le solver VQD"
      ]
    },
    {
      "cell_type": "code",
      "execution_count": 20,
      "id": "ecabc679",
      "metadata": {
        "id": "ecabc679"
      },
      "outputs": [],
      "source": [
        "from qiskit.algorithms.eigensolvers.vqd import VQD, VQDResult\n",
        "vqd_excited_states_solver1 = VQD(estimator, fidelity, hea_ansatz, optimizer, k=2)\n",
        "vqd_excited_states_solver2 = VQD(estimator, fidelity, uccsd_ansatz, optimizer, k=2)#, \"sd\")"
      ]
    },
    {
      "cell_type": "code",
      "execution_count": 21,
      "id": "a4b80009",
      "metadata": {
        "id": "a4b80009"
      },
      "outputs": [],
      "source": [
        "result1 = vqd_excited_states_solver1.compute_eigenvalues(mapperz2.map(fermOp)) # affiche le\n",
        "# résultat VQD lorsque le HEA ansatz est utilisé et calcule les valeurs popres\n",
        "\n",
        "result2 = vqd_excited_states_solver2.compute_eigenvalues(mapperz2.map(fermOp)) # affiche le\n",
        "# résultat VQD lorsque le UCCSD ansatz est utilisé et calcule les valeurs popres"
      ]
    },
    {
      "cell_type": "code",
      "execution_count": 22,
      "id": "de216ab3",
      "metadata": {
        "id": "de216ab3"
      },
      "outputs": [],
      "source": [
        "eigenvalue1 = result1.eigenvalues.real # Valeurs propres pour le HEA\n",
        "eigenvalue2 = result2.eigenvalues.real # Valeurs propres pour le UCCSD ansatz"
      ]
    },
    {
      "cell_type": "code",
      "execution_count": 23,
      "id": "d9d6f875",
      "metadata": {
        "id": "d9d6f875"
      },
      "outputs": [
        {
          "name": "stdout",
          "output_type": "stream",
          "text": [
            "[-1.85727501 -0.22491127]\n",
            "\n",
            "\n",
            "\n",
            "[-1.85727472 -0.22491157]\n"
          ]
        }
      ],
      "source": [
        "print(eigenvalue1)\n",
        "print(\"\\n\\n\")\n",
        "print(eigenvalue2)\n",
        "# affiche les valeurs propres."
      ]
    },
    {
      "cell_type": "markdown",
      "id": "6ec1738f",
      "metadata": {
        "id": "6ec1738f"
      },
      "source": [
        "Imprimons à présent les résultats avec la diagonalisation exact, ainsi-que les résultats VQD pour le HEA et le UCCSD ansatz et faisons une petite comparaisons de ces résultats."
      ]
    },
    {
      "cell_type": "code",
      "execution_count": null,
      "id": "8f8bb162",
      "metadata": {
        "id": "8f8bb162"
      },
      "outputs": [
        {
          "name": "stdout",
          "output_type": "stream",
          "text": [
            "=== GROUND STATE ENERGY ===\n",
            " \n",
            "* Electronic ground state energy (Hartree): -1.857275030202\n",
            "  - computed part:      -1.857275030202\n",
            "~ Nuclear repulsion energy (Hartree): 0.719968994449\n",
            "> Total ground state energy (Hartree): -1.137306035753\n",
            " \n",
            "=== EXCITED STATE ENERGIES ===\n",
            " \n",
            "  1: \n",
            "* Electronic excited state energy (Hartree): -0.224911252831\n",
            "> Total excited state energy (Hartree): 0.495057741618\n",
            " \n",
            "=== MEASURED OBSERVABLES ===\n",
            " \n",
            "  0:  # Particles: 2.000 S: 0.000 S^2: 0.000 M: 0.000\n",
            "  1:  # Particles: 2.000 S: 0.000 S^2: 0.000 M: 0.000\n",
            " \n",
            "=== DIPOLE MOMENTS ===\n",
            " \n",
            "~ Nuclear dipole moment (a.u.): [0.0  0.0  1.3889487]\n",
            " \n",
            "  0: \n",
            "  * Electronic dipole moment (a.u.): [0.0  0.0  None]\n",
            "    - computed part:      [0.0  0.0  None]\n",
            "  > Dipole moment (a.u.): [0.0  0.0  None]  Total: None\n",
            "                 (debye): [0.0  0.0  None]  Total: None\n",
            " \n",
            "  1: \n",
            "  * Electronic dipole moment (a.u.): [0.0  0.0  None]\n",
            "    - computed part:      [0.0  0.0  None]\n",
            "  > Dipole moment (a.u.): [0.0  0.0  None]  Total: None\n",
            "                 (debye): [0.0  0.0  None]  Total: None\n",
            " \n",
            "\n",
            "\n",
            "\n",
            "[-1.85727503  0.00591648]\n",
            "\n",
            "\n",
            "\n",
            "[-1.85727503  0.00591648]\n"
          ]
        }
      ],
      "source": [
        "vqd_values1 = result1.optimal_values.real\n",
        "vqd_values2 = result2.optimal_values.real\n",
        "\n",
        "print(numpy_results)\n",
        "print(\"\\n\\n\")\n",
        "print(vqd_values1)\n",
        "print(\"\\n\\n\")\n",
        "print(vqd_values2)"
      ]
    },
    {
      "cell_type": "markdown",
      "id": "2ba4ce49",
      "metadata": {
        "id": "2ba4ce49"
      },
      "source": [
        "Nous constatons que, les états fondamentaux et excités obtenus dans le cas de la VQD pour le HEA et le UCCSD ansatz sont similaires et se raprochent de ceux obtenus dans le cas de la diagonalisation exacte. Le HEA et le UCCSD ansatz sont donc deux ansatze appropriés pour le calcul VQD."
      ]
    },
    {
      "cell_type": "code",
      "execution_count": null,
      "id": "56b2e3b1",
      "metadata": {
        "id": "56b2e3b1"
      },
      "outputs": [],
      "source": []
    }
  ],
  "metadata": {
    "colab": {
      "provenance": []
    },
    "kernelspec": {
      "display_name": "qiskit-env",
      "language": "python",
      "name": "qiskit-env"
    },
    "language_info": {
      "codemirror_mode": {
        "name": "ipython",
        "version": 3
      },
      "file_extension": ".py",
      "mimetype": "text/x-python",
      "name": "python",
      "nbconvert_exporter": "python",
      "pygments_lexer": "ipython3",
      "version": "3.10.12"
    }
  },
  "nbformat": 4,
  "nbformat_minor": 5
}
