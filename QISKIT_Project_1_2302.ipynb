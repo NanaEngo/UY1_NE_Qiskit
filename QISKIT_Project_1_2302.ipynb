{
 "cells": [
  {
   "cell_type": "markdown",
   "id": "e3ef3941-940a-41a9-b3b0-f3eb848dbbaf",
   "metadata": {},
   "source": [
    "# UE 4268 - QISKIT Project 1\n",
    "\n",
    "\n",
    "**`vos noms et prenoms`**, `matricule` et `email` \n",
    "\n",
    "\n",
    "Department of Physics - Faculty of Science - University of Yaoundé I\n",
    "\n",
    "`Nom du Laboratoire`\n",
    "\n",
    "`Date`"
   ]
  },
  {
   "cell_type": "markdown",
   "id": "acb86ba9-39fd-44a6-926f-f07f297f7f09",
   "metadata": {},
   "source": [
    "## Projet 1.1 Représentation matricielle dans la base Standard\n",
    "\n",
    "1. Calculer manuellement\n",
    "$$\n",
    "\\rho = 4\\mathbb{I}\\otimes\\mathbb{I} + 2\\mathbb{I}\\otimes\\mathtt{X} \n",
    "+ 4\\mathbb{I}\\otimes\\mathtt{Z} - \\mathtt{X}\\otimes\\mathtt{X}\n",
    "+ 5\\mathtt{Y}\\otimes\\mathtt{Y} + 2\\mathtt{Z}\\otimes\\mathtt{X}.\n",
    "$$\n",
    "\n",
    "2. Utiliser les classes appropriées de Qiskit pour obtenir la représentation matricielle de $\\rho$ et avec visualisation en LaTeX. Quelle est la dimension de $\\rho$?"
   ]
  },
  {
   "attachments": {},
   "cell_type": "markdown",
   "id": "9eab208e",
   "metadata": {},
   "source": [
    "### Calcul manuel\n",
    "\n",
    "Compte tenu de la forme matricielle des opérateurs de Pauli dans la base standard, on a\n",
    "\\begin{align*}\n",
    "\\begin{split}\n",
    "\\rho& = 4\\begin{pmatrix}\\mathbb{I} & \\mathbb{O} \\\\ \\mathbb{O} & \\mathbb{I}\\end{pmatrix}\n",
    "+2\\begin{pmatrix}\\mathtt{X} & \\mathbb{O} \\\\ \\mathbb{O} & \\mathtt{X}\\end{pmatrix}\n",
    "+4\\begin{pmatrix}\\mathtt{Z} & \\mathbb{O} \\\\ \\mathbb{O} & \\mathtt{Z}\\end{pmatrix}\n",
    "-\\begin{pmatrix}\\mathbb{O} & \\mathtt{X} \\\\ \\mathtt{X} & \\mathbb{O}\\end{pmatrix}\\\\\n",
    "&+5\\begin{pmatrix}\\mathbb{O} & -i\\mathtt{Y} \\\\ i\\mathtt{Y} & \\mathbb{O}\\end{pmatrix}\n",
    "+2\\begin{pmatrix}\\mathtt{X} & \\mathbb{O} \\\\ \\mathbb{O} & -\\mathtt{X}\\end{pmatrix}\\\\\n",
    "&=\\begin{pmatrix}4\\mathbb{I}+2\\mathtt{X}+4\\mathtt{Z} & -\\mathtt{X}-5i\\mathtt{Y} \\\\ \n",
    "-\\mathtt{X}+5i\\mathtt{Y} & 4\\mathbb{I}+4\\mathtt{Z} \\end{pmatrix}\n",
    "= \\begin{pmatrix}\n",
    "          8 & 4 & 0 & -6\\\\\n",
    "          4 & 0 & 4 & 0\\\\\n",
    "          0 & 4 & 8 & 0\\\\\n",
    "          -6 & 0 & 0 & 0\n",
    "        \\end{pmatrix}.\n",
    "\\end{split}\n",
    "\\end{align*}\n"
   ]
  },
  {
   "cell_type": "markdown",
   "id": "9a25e312",
   "metadata": {},
   "source": [
    "### Simulation avec Qiskit"
   ]
  },
  {
   "cell_type": "code",
   "execution_count": 5,
   "id": "b552e84f",
   "metadata": {},
   "outputs": [],
   "source": [
    "from qiskit.quantum_info.operators import Operator, Pauli\n",
    "from qiskit.visualization import array_to_latex"
   ]
  },
  {
   "cell_type": "code",
   "execution_count": 6,
   "id": "007eb4de",
   "metadata": {},
   "outputs": [
    {
     "data": {
      "text/latex": [
       "$$\n",
       "\\rho=\n",
       "\\begin{bmatrix}\n",
       "8 & 4 & 0 & -6  \\\\\n",
       " 4 & 0 & 4 & 0  \\\\\n",
       " 0 & 4 & 8 & 0  \\\\\n",
       " -6 & 0 & 0 & 0  \\\\\n",
       " \\end{bmatrix}\n",
       "$$"
      ],
      "text/plain": [
       "<IPython.core.display.Latex object>"
      ]
     },
     "execution_count": 6,
     "metadata": {},
     "output_type": "execute_result"
    }
   ],
   "source": [
    "# Définition des opérateurs \n",
    "II = Operator(Pauli('II'))\n",
    "IX = Operator(Pauli('IX'))\n",
    "IZ = Operator(Pauli('IZ'))\n",
    "XX = Operator(Pauli('XX'))\n",
    "YY = Operator(Pauli('YY'))\n",
    "ZX = Operator(Pauli('ZX'))\n",
    "\n",
    "# Calcul de rho \n",
    "rho = 4*II + 2*IX + 4*IZ - XX + 5*YY + 2*ZX\n",
    "\n",
    "# Visualisation en LaTeX \n",
    "array_to_latex(rho, prefix='\\\\rho=')"
   ]
  },
  {
   "cell_type": "code",
   "execution_count": 7,
   "id": "1b3e8d4d",
   "metadata": {},
   "outputs": [
    {
     "data": {
      "text/plain": [
       "(4, 4)"
      ]
     },
     "execution_count": 7,
     "metadata": {},
     "output_type": "execute_result"
    }
   ],
   "source": [
    "rho.dim"
   ]
  },
  {
   "cell_type": "markdown",
   "id": "1f56f563-4ca5-4161-bd1b-cb9f5976a132",
   "metadata": {},
   "source": [
    "## Projet 1.2  Décomposition de Pauli d'une matrice\n",
    "\n",
    "1. Montrer manuellement que toute matrice $M$, en prenant le cas où $\\dim_M=2$ peut s'écrire sous la forme (voir la sous-section **4.1.0.1 Décomposition de Pauli**)\n",
    "$$\n",
    "\\mathtt{M}=\\sum_j^{N_k}w_j\\bigg(\\bigotimes_i^{M-1}\\mathtt{X}_i^j\\bigg),\n",
    "$$\n",
    "\n",
    "2. Utilisez la classe `qiskit.quantum_info.SparsePauliOp` pour trouver les coefficients $w_j$ de la matrice\n",
    "$$ \\begin{bmatrix}8 & 4 & 0 & -6  \\\\ 4 & 0 & 4 & 0  \\\\ 0 & 4 & 8 & 0  \\\\ -6 & 0 & 0 & 0  \\end{bmatrix}.$$\n"
   ]
  },
  {
   "attachments": {},
   "cell_type": "markdown",
   "id": "a86ad075",
   "metadata": {},
   "source": [
    "### Décomposition de Pauli d'une matrice\n",
    "\n",
    "$$ M = \\begin{pmatrix} m_{00} & m_{01} \\\\ m_{10} & m_{11} \\end{pmatrix} = m_{00}|0\\rangle\\langle 0| + m_{01}|1\\rangle\\langle 0| + m_{10}|0\\rangle\\langle 1| + m_{11}|1\\rangle\\langle 1| .$$\n",
    "Or \n",
    "\\begin{align*}\n",
    "&|0\\rangle\\langle 0| = \\frac12(\\mathbb{I}+\\mathtt{X}),\n",
    "&&|1\\rangle\\langle 0| = \\frac12(\\mathtt{X}+i\\mathtt{Y}),\n",
    "&&|0\\rangle\\langle 1| = \\frac12(\\mathtt{X}-i\\mathtt{Y}),\n",
    "&|1\\rangle\\langle 1| = \\frac12(\\mathbb{I}-\\mathtt{Z}).\n",
    "\\end{align*}\n",
    "Ainsi,\n",
    "\\begin{equation*}\n",
    "\\begin{split}\n",
    "M & = \\frac{m_{00}}{2}(\\mathbb{I}+\\mathtt{Z}) + \\frac{m_{01}}{2}(\\mathtt{X}+i\\mathtt{Y}) \n",
    "+ \\frac{m_{10}}{2}(\\mathtt{X}-i\\mathtt{Y}) + \\frac{m_{11}}{2}(\\mathbb{I}-\\mathtt{Z})\\\\\n",
    "  & = \\frac12(m_{00}+m_{11})\\mathbb{I}+\\frac12(m_{01}+m_{10})\\mathtt{X}+\\frac i2(m_{01}-m_{10})\\mathtt{Y}+\\frac12(m_{00}-m_{11})\\mathtt{Z}.\n",
    "\\end{split}\n",
    "\\end{equation*}"
   ]
  },
  {
   "cell_type": "markdown",
   "id": "69212d84",
   "metadata": {},
   "source": [
    "### Code Qiskit pour trouver les coefficients $w_j$ de la matrice"
   ]
  },
  {
   "cell_type": "code",
   "execution_count": 8,
   "id": "2dab6a9d",
   "metadata": {},
   "outputs": [],
   "source": [
    "import numpy as np\n",
    "from qiskit.quantum_info import SparsePauliOp"
   ]
  },
  {
   "cell_type": "code",
   "execution_count": 9,
   "id": "eb409c82",
   "metadata": {},
   "outputs": [
    {
     "data": {
      "text/latex": [
       "$$\n",
       "M=\n",
       "\\begin{bmatrix}\n",
       "8 & 4 & 0 & -6  \\\\\n",
       " 4 & 0 & 4 & 0  \\\\\n",
       " 0 & 4 & 8 & 0  \\\\\n",
       " -6 & 0 & 0 & 0  \\\\\n",
       " \\end{bmatrix}\n",
       "$$"
      ],
      "text/plain": [
       "<IPython.core.display.Latex object>"
      ]
     },
     "execution_count": 9,
     "metadata": {},
     "output_type": "execute_result"
    }
   ],
   "source": [
    "M =  np.array([[8,4,0,-6],[4,0,4,0],[0,4,8,0],[-6,0,0,0]])\n",
    "array_to_latex(M, prefix='M=')"
   ]
  },
  {
   "cell_type": "code",
   "execution_count": 10,
   "id": "069775d8",
   "metadata": {},
   "outputs": [
    {
     "data": {
      "text/plain": [
       "(2, 2)"
      ]
     },
     "execution_count": 10,
     "metadata": {},
     "output_type": "execute_result"
    }
   ],
   "source": [
    "Operator(M).output_dims()"
   ]
  },
  {
   "cell_type": "code",
   "execution_count": 11,
   "id": "a48bff03",
   "metadata": {},
   "outputs": [
    {
     "data": {
      "text/plain": [
       "SparsePauliOp(['II', 'IX', 'IZ', 'XX', 'YY', 'ZX'],\n",
       "              coeffs=[ 4.+0.j,  2.+0.j,  4.+0.j, -1.+0.j,  5.+0.j,  2.+0.j])"
      ]
     },
     "execution_count": 11,
     "metadata": {},
     "output_type": "execute_result"
    }
   ],
   "source": [
    "SparsePauliOp.from_operator(M)"
   ]
  },
  {
   "attachments": {},
   "cell_type": "markdown",
   "id": "458b41cb-2975-45e1-b076-c13135732099",
   "metadata": {},
   "source": [
    "## Projet 1.3 Simulation de la détection interférométrique d'une superposition quantique d'états d'énantiomères gauches et droits\n",
    "En chimie, les molécules ou les ions qui sont des images miroir les uns des autres sont appelés **énantiomères** ou **isomères optiques**. Si ces images ne sont pas superposables, on les appelle des **[molécules chirales](https://chem.libretexts.org/Bookshelves/Organic_Chemistry/Map:_Organic_Chemistry_(Vollhardt_and_Schore)/05._Stereoisomers/5.1:_Chiral__Molecules)**. Elles se distinguent par leur capacité à faire tourner la lumière polarisée plane vers la gauche ou la droite. Il existe une [expérience](https://journals.aps.org/prx/pdf/10.1103/PhysRevX.11.031056) permettant de préparer une superposition quantique d'états gauches et droits d'énantiomères et de réaliser une détection interférométrique des forces dépendant de la chiralité.\n",
    "\n",
    "Nous voulons concevoir, avec la bibliothèque Qiskit, un circuit quantique inspiré de l'interféromètre impliquant des énantiomères. Nous représentons un seul énantiomère avec deux qubits $|q_1q_0\\rangle$. \n",
    "\n",
    "Nous encodons la direction de propagation du qubit $|q_1\\rangle$ \n",
    "* suivant l'axe horizontale comme l'état $|0\\rangle$;\n",
    "* et suivant l'axe verticale comme l'état $|1\\rangle$. \n",
    "\n",
    "Nous encodons ce qui suit dans le qubit de la latéralité $|q_0\\rangle$:\n",
    "* un état gaucher comme l'état $|0\\rangle$;\n",
    "- Un état droitier comme l'état $|1\\rangle$;\n",
    "- une superposition d'états gauche et droit comme $\\frac{1}{\\sqrt{2}}(|0\\rangle+|1\\rangle$ obtenue par l'application d'une porte de walsh-Hadamard.\n",
    "\n",
    "Nous simulons\n",
    "* un miroir par la porte $\\mathtt{X}$;\n",
    "* un diviseur de faisceau ou Beam-Splitter par \n",
    "$$\\mathtt{BS}=\\tfrac{1}{\\sqrt{2}}(\\mathbb{I}+i\\mathtt{X})=\\tfrac{1}{\\sqrt{2}}\\begin{pmatrix} 1 & i\\\\ i & 1\\end{pmatrix}.$$ \n",
    "Par convention, on affecte le changement de phase $\\frac{\\pi}{2}$ à la réflexion;\n",
    "* un diviseur de faisceau polarisant ou polarizing beam splitter par \n",
    "$$\\mathtt{PBS}=\\mathtt{CX}=\\begin{pmatrix} 1 & 0 & 0 & 0\\\\\n",
    "0 & 0 & 0& 1\\\\0 & 0 &1 & 0\\\\0 & 1 & 0 & 0\\end{pmatrix},$$ \n",
    "qui transmet l'état $|0\\rangle$ et réfléchi l'etat $|1\\rangle$. On note qu'ici il n'y a pas de changement de phase."
   ]
  },
  {
   "cell_type": "markdown",
   "id": "fc00f217",
   "metadata": {},
   "source": [
    "Nous définissons la fonction `show()`, qui affiche le dessin d'un circuit quantique et le état du vecteur d'état en utilisant LaTeX comme suit:"
   ]
  },
  {
   "cell_type": "code",
   "execution_count": 12,
   "id": "fadfa0b8",
   "metadata": {},
   "outputs": [],
   "source": [
    "def show(qc):\n",
    "    display(qc.draw(output='mpl'))\n",
    "    s = qi.Statevector.from_instruction(qc)\n",
    "    display(array_to_latex(s, prefix=\"\\\\text{state vector} = \", \n",
    "        precision = 2))\n",
    "    return"
   ]
  },
  {
   "cell_type": "markdown",
   "id": "c1c1809c",
   "metadata": {},
   "source": [
    "1. Utiliser la classe `qiskit.extensions.UnitaryGate` pour créer les portes BS et PBS.\n",
    "2. Simuler l'action du PBS sur un énantiomère évoluant horizontalement et étant dans l'état droit. Visualiser le circuit quantique correspondant avant et après l'action du PBS. Commenter.\n",
    "3. Simuler l'action du PBS sur un énantiomère évoluant horizontalement et étant dans une superposition d'états gauche et droit. Visualiser le circuit quantique correspondant avant et après l'action du PBS. Commenter.\n"
   ]
  },
  {
   "cell_type": "code",
   "execution_count": 13,
   "id": "30e7334c",
   "metadata": {},
   "outputs": [],
   "source": [
    "from qiskit import QuantumCircuit, QuantumRegister\n",
    "from qiskit.extensions import UnitaryGate, XGate, IGate, CXGate\n",
    "import qiskit.quantum_info as qi\n",
    "from qiskit.visualization import array_to_latex"
   ]
  },
  {
   "cell_type": "markdown",
   "id": "29056657",
   "metadata": {},
   "source": [
    "### Création des portes BS et PBS "
   ]
  },
  {
   "cell_type": "code",
   "execution_count": 14,
   "id": "3e7db6f7",
   "metadata": {},
   "outputs": [
    {
     "data": {
      "text/latex": [
       "$$\n",
       "\n",
       "\\begin{bmatrix}\n",
       "\\frac{\\sqrt{2}}{2} & \\frac{\\sqrt{2} i}{2}  \\\\\n",
       " \\frac{\\sqrt{2} i}{2} & \\frac{\\sqrt{2}}{2}  \\\\\n",
       " \\end{bmatrix}\n",
       "$$"
      ],
      "text/plain": [
       "<IPython.core.display.Latex object>"
      ]
     },
     "execution_count": 14,
     "metadata": {},
     "output_type": "execute_result"
    }
   ],
   "source": [
    "BS = (qi.Operator(IGate()) + 1.j*qi.Operator(XGate()))/np.sqrt(2)\n",
    "array_to_latex(BS)"
   ]
  },
  {
   "cell_type": "code",
   "execution_count": 15,
   "id": "c8ac3c8c",
   "metadata": {},
   "outputs": [
    {
     "data": {
      "text/latex": [
       "$$\n",
       "\n",
       "\\begin{bmatrix}\n",
       "1 & 0 & 0 & 0  \\\\\n",
       " 0 & 0 & 0 & 1  \\\\\n",
       " 0 & 0 & 1 & 0  \\\\\n",
       " 0 & 1 & 0 & 0  \\\\\n",
       " \\end{bmatrix}\n",
       "$$"
      ],
      "text/plain": [
       "<IPython.core.display.Latex object>"
      ]
     },
     "execution_count": 15,
     "metadata": {},
     "output_type": "execute_result"
    }
   ],
   "source": [
    "PBS = qi.Operator(CXGate())\n",
    "array_to_latex(PBS)"
   ]
  },
  {
   "cell_type": "code",
   "execution_count": 16,
   "id": "8443fa7e",
   "metadata": {},
   "outputs": [],
   "source": [
    "BS = UnitaryGate(BS,'BS')\n",
    "PBS = UnitaryGate(PBS,'PBS')"
   ]
  },
  {
   "cell_type": "markdown",
   "id": "06efc658",
   "metadata": {},
   "source": [
    "### Définition de la fonction de visualisation `show()`"
   ]
  },
  {
   "cell_type": "code",
   "execution_count": 17,
   "id": "46646839",
   "metadata": {},
   "outputs": [],
   "source": [
    "def show(qc):\n",
    "    display(qc.draw(output='mpl'))\n",
    "    s = qi.Statevector.from_instruction(qc)\n",
    "    display(array_to_latex(s, prefix=\"\\\\text{state vector} = \"))\n",
    "    return"
   ]
  },
  {
   "cell_type": "markdown",
   "id": "0a545f86",
   "metadata": {},
   "source": [
    "### Simulation de l'action du PBS sur $\\ket{01}$"
   ]
  },
  {
   "cell_type": "code",
   "execution_count": 18,
   "id": "edef6b4d",
   "metadata": {},
   "outputs": [
    {
     "data": {
      "image/png": "[encoded data removed]",
      "text/plain": [
       "<Figure size 203.683x200.667 with 1 Axes>"
      ]
     },
     "metadata": {},
     "output_type": "display_data"
    },
    {
     "data": {
      "text/latex": [
       "$$\n",
       "\\text{state vector} = \n",
       "\\begin{bmatrix}\n",
       "0 & 1 & 0 & 0  \\\\\n",
       " \\end{bmatrix}\n",
       "$$"
      ],
      "text/plain": [
       "<IPython.core.display.Latex object>"
      ]
     },
     "metadata": {},
     "output_type": "display_data"
    },
    {
     "data": {
      "image/png": "[encoded data removed]",
      "text/plain": [
       "<Figure size 287.294x200.667 with 1 Axes>"
      ]
     },
     "metadata": {},
     "output_type": "display_data"
    },
    {
     "data": {
      "text/latex": [
       "$$\n",
       "\\text{state vector} = \n",
       "\\begin{bmatrix}\n",
       "0 & 0 & 0 & 1  \\\\\n",
       " \\end{bmatrix}\n",
       "$$"
      ],
      "text/plain": [
       "<IPython.core.display.Latex object>"
      ]
     },
     "metadata": {},
     "output_type": "display_data"
    }
   ],
   "source": [
    "q = QuantumRegister(2, 'q') # register of 2 qubits\n",
    "# q[0] handedness qubit,|0⟩ left-handed,|1⟩ right-handed\n",
    "# q[1] direction of propagation qubit,|0⟩ horizontal,|1⟩ vertical\n",
    "qc = QuantumCircuit(q)\n",
    "qc.x([0]) # Right-handed\n",
    "show(qc)\n",
    "qc.append(PBS, q)\n",
    "show(qc)\n"
   ]
  },
  {
   "attachments": {},
   "cell_type": "markdown",
   "id": "934e61ab",
   "metadata": {},
   "source": [
    "L'énantiomère se déplaçant horizontalement et à l'état droit, représenté par\n",
    "$|q_1q_0\\rangle = |01\\rangle$, a été réfléchi dans la direction verticale par le PBS. C'est ainsi qu'on en sortie, l'état $|q_1q_0\\rangle = |11\\rangle$."
   ]
  },
  {
   "cell_type": "markdown",
   "id": "e1b7221a",
   "metadata": {},
   "source": [
    "### Simulation de l'action du PBS sur l'état superposé\n"
   ]
  },
  {
   "cell_type": "code",
   "execution_count": 19,
   "id": "3277299d",
   "metadata": {},
   "outputs": [
    {
     "data": {
      "image/png": "[encoded data removed]",
      "text/plain": [
       "<Figure size 203.683x200.667 with 1 Axes>"
      ]
     },
     "metadata": {},
     "output_type": "display_data"
    },
    {
     "data": {
      "text/latex": [
       "$$\n",
       "\\text{state vector} = \n",
       "\\begin{bmatrix}\n",
       "\\frac{\\sqrt{2}}{2} & \\frac{\\sqrt{2}}{2} & 0 & 0  \\\\\n",
       " \\end{bmatrix}\n",
       "$$"
      ],
      "text/plain": [
       "<IPython.core.display.Latex object>"
      ]
     },
     "metadata": {},
     "output_type": "display_data"
    },
    {
     "data": {
      "image/png": "[encoded data removed]",
      "text/plain": [
       "<Figure size 287.294x200.667 with 1 Axes>"
      ]
     },
     "metadata": {},
     "output_type": "display_data"
    },
    {
     "data": {
      "text/latex": [
       "$$\n",
       "\\text{state vector} = \n",
       "\\begin{bmatrix}\n",
       "\\frac{\\sqrt{2}}{2} & 0 & 0 & \\frac{\\sqrt{2}}{2}  \\\\\n",
       " \\end{bmatrix}\n",
       "$$"
      ],
      "text/plain": [
       "<IPython.core.display.Latex object>"
      ]
     },
     "metadata": {},
     "output_type": "display_data"
    }
   ],
   "source": [
    "q = QuantumRegister(2, 'q') # register of 2 qubits\n",
    "# q[0] handedness qubit,|0⟩ left-handed,|1⟩ right-handed\n",
    "# q[1] direction of propagation qubit,|0⟩ horizontal,|1⟩ vertical\n",
    "qc = QuantumCircuit(q)\n",
    "qc.h([0]) # Superposition state qubit\n",
    "show(qc)\n",
    "qc.append(PBS, q)\n",
    "show(qc)"
   ]
  },
  {
   "cell_type": "markdown",
   "id": "dfc686ae",
   "metadata": {},
   "source": [
    "L'énantiomère se déplaçant horizontalement et à l'état droit, représenté par\n",
    "$\\ket{q_1q_0} = \\ket{0}\\otimes\\frac{1}{\\sqrt{2}}(\\ket{0}+\\ket{1})=\n",
    "\\frac{1}{\\sqrt{2}}(\\ket{00}+\\ket{01})$, a été transformé en état de Bell $\\ket{q_1q_0} = \\ket{B_{00}} = \\frac{1}{\\sqrt{2}}(\\ket{00}+\\ket{11})$."
   ]
  },
  {
   "cell_type": "code",
   "execution_count": 20,
   "id": "f455aec8-49e2-45c6-a020-6ac9544f012e",
   "metadata": {},
   "outputs": [
    {
     "data": {
      "text/html": [
       "<h3>Version Information</h3><table><tr><th>Qiskit Software</th><th>Version</th></tr><tr><td><code>qiskit-terra</code></td><td>0.23.3</td></tr><tr><td><code>qiskit-aer</code></td><td>0.12.0</td></tr><tr><td><code>qiskit-ibmq-provider</code></td><td>0.20.2</td></tr><tr><td><code>qiskit</code></td><td>0.42.1</td></tr><tr><td><code>qiskit-nature</code></td><td>0.5.2</td></tr><tr><td><code>qiskit-machine-learning</code></td><td>0.5.0</td></tr><tr><th>System information</th></tr><tr><td>Python version</td><td>3.10.10</td></tr><tr><td>Python compiler</td><td>GCC 11.3.0</td></tr><tr><td>Python build</td><td>main, Mar 24 2023 20:08:06</td></tr><tr><td>OS</td><td>Linux</td></tr><tr><td>CPUs</td><td>6</td></tr><tr><td>Memory (Gb)</td><td>7.121532440185547</td></tr><tr><td colspan='2'>Tue Apr 11 09:57:52 2023 WAT</td></tr></table>"
      ],
      "text/plain": [
       "<IPython.core.display.HTML object>"
      ]
     },
     "metadata": {},
     "output_type": "display_data"
    }
   ],
   "source": [
    "import qiskit.tools.jupyter\n",
    "%qiskit_version_table"
   ]
  }
 ],
 "metadata": {
  "kernelspec": {
   "display_name": "qiskit-env",
   "language": "python",
   "name": "qiskit-env"
  },
  "language_info": {
   "codemirror_mode": {
    "name": "ipython",
    "version": 3
   },
   "file_extension": ".py",
   "mimetype": "text/x-python",
   "name": "python",
   "nbconvert_exporter": "python",
   "pygments_lexer": "ipython3",
   "version": "3.10.10"
  }
 },
 "nbformat": 4,
 "nbformat_minor": 5
}
