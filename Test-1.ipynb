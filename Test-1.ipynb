{
 "cells": [
  {
   "cell_type": "code",
   "execution_count": 1,
   "metadata": {},
   "outputs": [
    {
     "data": {
      "text/plain": [
       "'3.7'"
      ]
     },
     "execution_count": 1,
     "metadata": {},
     "output_type": "execute_result"
    }
   ],
   "source": [
    "import netket as nk\n",
    "\n",
    "nk.__version__\n"
   ]
  },
  {
   "cell_type": "code",
   "execution_count": 8,
   "metadata": {},
   "outputs": [
    {
     "data": {
      "text/plain": [
       "Spin(s=1/2, N=1)"
      ]
     },
     "execution_count": 8,
     "metadata": {},
     "output_type": "execute_result"
    }
   ],
   "source": [
    "hi = nk.hilbert.Spin(1/2)\n",
    "hi"
   ]
  },
  {
   "cell_type": "code",
   "execution_count": 11,
   "metadata": {},
   "outputs": [
    {
     "data": {
      "text/plain": [
       "LocalOperator(dim=1, acting_on=[(0,)], constant=0.0, dtype=float64)"
      ]
     },
     "execution_count": 11,
     "metadata": {},
     "output_type": "execute_result"
    }
   ],
   "source": [
    "nk.operator.spin.sigmaz(hi,0)"
   ]
  },
  {
   "cell_type": "code",
   "execution_count": 2,
   "metadata": {},
   "outputs": [
    {
     "ename": "ImportError",
     "evalue": "cannot import name 'Qobj' from 'qiskit.qobj' (unknown location)",
     "output_type": "error",
     "traceback": [
      "\u001b[0;31m---------------------------------------------------------------------------\u001b[0m",
      "\u001b[0;31mImportError\u001b[0m                               Traceback (most recent call last)",
      "Cell \u001b[0;32mIn[2], line 1\u001b[0m\n\u001b[0;32m----> 1\u001b[0m \u001b[39mfrom\u001b[39;00m \u001b[39mqiskit_nature\u001b[39;00m\u001b[39m.\u001b[39;00m\u001b[39msecond_q\u001b[39;00m\u001b[39m.\u001b[39;00m\u001b[39moperators\u001b[39;00m \u001b[39mimport\u001b[39;00m FermionicOp\n\u001b[1;32m      2\u001b[0m \u001b[39mfrom\u001b[39;00m \u001b[39mqiskit_nature\u001b[39;00m\u001b[39m.\u001b[39;00m\u001b[39msecond_q\u001b[39;00m\u001b[39m.\u001b[39;00m\u001b[39moperators\u001b[39;00m\u001b[39m.\u001b[39;00m\u001b[39mcommutators\u001b[39;00m \u001b[39mimport\u001b[39;00m anti_commutator\n",
      "File \u001b[0;32m~/mambaforge/envs/qiskit-env/lib/python3.10/site-packages/qiskit_nature/__init__.py:53\u001b[0m\n\u001b[1;32m      1\u001b[0m \u001b[39m# This code is part of Qiskit.\u001b[39;00m\n\u001b[1;32m      2\u001b[0m \u001b[39m#\u001b[39;00m\n\u001b[1;32m      3\u001b[0m \u001b[39m# (C) Copyright IBM 2018, 2022.\u001b[39;00m\n\u001b[0;32m   (...)\u001b[0m\n\u001b[1;32m     10\u001b[0m \u001b[39m# copyright notice, and modified files need to carry a notice indicating\u001b[39;00m\n\u001b[1;32m     11\u001b[0m \u001b[39m# that they have been altered from the originals.\u001b[39;00m\n\u001b[1;32m     12\u001b[0m \u001b[39mr\u001b[39m\u001b[39m\"\"\"\u001b[39;00m\n\u001b[1;32m     13\u001b[0m \u001b[39m=============================================\u001b[39;00m\n\u001b[1;32m     14\u001b[0m \u001b[39mQiskit Nature module (:mod:`qiskit_nature`)\u001b[39;00m\n\u001b[0;32m   (...)\u001b[0m\n\u001b[1;32m     50\u001b[0m \n\u001b[1;32m     51\u001b[0m \u001b[39m\"\"\"\u001b[39;00m\n\u001b[0;32m---> 53\u001b[0m \u001b[39mfrom\u001b[39;00m \u001b[39mqiskit\u001b[39;00m\u001b[39m.\u001b[39;00m\u001b[39malgorithms\u001b[39;00m\u001b[39m.\u001b[39;00m\u001b[39mminimum_eigen_solvers\u001b[39;00m\u001b[39m.\u001b[39;00m\u001b[39mminimum_eigen_solver\u001b[39;00m \u001b[39mimport\u001b[39;00m (\n\u001b[1;32m     54\u001b[0m     ListOrDict \u001b[39mas\u001b[39;00m ListOrDictType,\n\u001b[1;32m     55\u001b[0m )\n\u001b[1;32m     57\u001b[0m \u001b[39mfrom\u001b[39;00m \u001b[39m.\u001b[39;00m\u001b[39mexceptions\u001b[39;00m \u001b[39mimport\u001b[39;00m QiskitNatureError, UnsupportMethodError\n\u001b[1;32m     58\u001b[0m \u001b[39mfrom\u001b[39;00m \u001b[39m.\u001b[39;00m\u001b[39mlogging\u001b[39;00m \u001b[39mimport\u001b[39;00m logging\n",
      "File \u001b[0;32m~/mambaforge/envs/qiskit-env/lib/python3.10/site-packages/qiskit/algorithms/__init__.py:326\u001b[0m\n\u001b[1;32m      1\u001b[0m \u001b[39m# This code is part of Qiskit.\u001b[39;00m\n\u001b[1;32m      2\u001b[0m \u001b[39m#\u001b[39;00m\n\u001b[1;32m      3\u001b[0m \u001b[39m# (C) Copyright IBM 2018, 2022.\u001b[39;00m\n\u001b[0;32m   (...)\u001b[0m\n\u001b[1;32m     10\u001b[0m \u001b[39m# copyright notice, and modified files need to carry a notice indicating\u001b[39;00m\n\u001b[1;32m     11\u001b[0m \u001b[39m# that they have been altered from the originals.\u001b[39;00m\n\u001b[1;32m     13\u001b[0m \u001b[39m\"\"\"\u001b[39;00m\n\u001b[1;32m     14\u001b[0m \u001b[39m=====================================\u001b[39;00m\n\u001b[1;32m     15\u001b[0m \u001b[39mAlgorithms (:mod:`qiskit.algorithms`)\u001b[39;00m\n\u001b[0;32m   (...)\u001b[0m\n\u001b[1;32m    324\u001b[0m \n\u001b[1;32m    325\u001b[0m \u001b[39m\"\"\"\u001b[39;00m\n\u001b[0;32m--> 326\u001b[0m \u001b[39mfrom\u001b[39;00m \u001b[39m.\u001b[39;00m\u001b[39malgorithm_job\u001b[39;00m \u001b[39mimport\u001b[39;00m AlgorithmJob\n\u001b[1;32m    327\u001b[0m \u001b[39mfrom\u001b[39;00m \u001b[39m.\u001b[39;00m\u001b[39malgorithm_result\u001b[39;00m \u001b[39mimport\u001b[39;00m AlgorithmResult\n\u001b[1;32m    328\u001b[0m \u001b[39mfrom\u001b[39;00m \u001b[39m.\u001b[39;00m\u001b[39mevolvers\u001b[39;00m \u001b[39mimport\u001b[39;00m EvolutionResult, EvolutionProblem\n",
      "File \u001b[0;32m~/mambaforge/envs/qiskit-env/lib/python3.10/site-packages/qiskit/algorithms/algorithm_job.py:16\u001b[0m\n\u001b[1;32m      1\u001b[0m \u001b[39m# This code is part of Qiskit.\u001b[39;00m\n\u001b[1;32m      2\u001b[0m \u001b[39m#\u001b[39;00m\n\u001b[1;32m      3\u001b[0m \u001b[39m# (C) Copyright IBM 2022.\u001b[39;00m\n\u001b[0;32m   (...)\u001b[0m\n\u001b[1;32m     10\u001b[0m \u001b[39m# copyright notice, and modified files need to carry a notice indicating\u001b[39;00m\n\u001b[1;32m     11\u001b[0m \u001b[39m# that they have been altered from the originals.\u001b[39;00m\n\u001b[1;32m     13\u001b[0m \u001b[39m\"\"\"\u001b[39;00m\n\u001b[1;32m     14\u001b[0m \u001b[39mAlgorithmJob class\u001b[39;00m\n\u001b[1;32m     15\u001b[0m \u001b[39m\"\"\"\u001b[39;00m\n\u001b[0;32m---> 16\u001b[0m \u001b[39mfrom\u001b[39;00m \u001b[39mqiskit\u001b[39;00m\u001b[39m.\u001b[39;00m\u001b[39mprimitives\u001b[39;00m\u001b[39m.\u001b[39;00m\u001b[39mprimitive_job\u001b[39;00m \u001b[39mimport\u001b[39;00m PrimitiveJob\n\u001b[1;32m     19\u001b[0m \u001b[39mclass\u001b[39;00m \u001b[39mAlgorithmJob\u001b[39;00m(PrimitiveJob):\n\u001b[1;32m     20\u001b[0m \u001b[39m    \u001b[39m\u001b[39m\"\"\"\u001b[39;00m\n\u001b[1;32m     21\u001b[0m \u001b[39m    This empty class is introduced for typing purposes.\u001b[39;00m\n\u001b[1;32m     22\u001b[0m \u001b[39m    \"\"\"\u001b[39;00m\n",
      "File \u001b[0;32m~/mambaforge/envs/qiskit-env/lib/python3.10/site-packages/qiskit/primitives/__init__.py:55\u001b[0m\n\u001b[1;32m      1\u001b[0m \u001b[39m# This code is part of Qiskit.\u001b[39;00m\n\u001b[1;32m      2\u001b[0m \u001b[39m#\u001b[39;00m\n\u001b[1;32m      3\u001b[0m \u001b[39m# (C) Copyright IBM 2022.\u001b[39;00m\n\u001b[0;32m   (...)\u001b[0m\n\u001b[1;32m     10\u001b[0m \u001b[39m# copyright notice, and modified files need to carry a notice indicating\u001b[39;00m\n\u001b[1;32m     11\u001b[0m \u001b[39m# that they have been altered from the originals.\u001b[39;00m\n\u001b[1;32m     13\u001b[0m \u001b[39m\"\"\"\u001b[39;00m\n\u001b[1;32m     14\u001b[0m \u001b[39m=====================================\u001b[39;00m\n\u001b[1;32m     15\u001b[0m \u001b[39mPrimitives (:mod:`qiskit.primitives`)\u001b[39;00m\n\u001b[0;32m   (...)\u001b[0m\n\u001b[1;32m     52\u001b[0m \u001b[39m   SamplerResult\u001b[39;00m\n\u001b[1;32m     53\u001b[0m \u001b[39m\"\"\"\u001b[39;00m\n\u001b[0;32m---> 55\u001b[0m \u001b[39mfrom\u001b[39;00m \u001b[39m.\u001b[39;00m\u001b[39mbase\u001b[39;00m \u001b[39mimport\u001b[39;00m BaseEstimator\n\u001b[1;32m     56\u001b[0m \u001b[39mfrom\u001b[39;00m \u001b[39m.\u001b[39;00m\u001b[39mbase\u001b[39;00m \u001b[39mimport\u001b[39;00m BaseSampler\n\u001b[1;32m     57\u001b[0m \u001b[39mfrom\u001b[39;00m \u001b[39m.\u001b[39;00m\u001b[39mbackend_estimator\u001b[39;00m \u001b[39mimport\u001b[39;00m BackendEstimator\n",
      "File \u001b[0;32m~/mambaforge/envs/qiskit-env/lib/python3.10/site-packages/qiskit/primitives/base/__init__.py:17\u001b[0m\n\u001b[1;32m      1\u001b[0m \u001b[39m# This code is part of Qiskit.\u001b[39;00m\n\u001b[1;32m      2\u001b[0m \u001b[39m#\u001b[39;00m\n\u001b[1;32m      3\u001b[0m \u001b[39m# (C) Copyright IBM 2022.\u001b[39;00m\n\u001b[0;32m   (...)\u001b[0m\n\u001b[1;32m     10\u001b[0m \u001b[39m# copyright notice, and modified files need to carry a notice indicating\u001b[39;00m\n\u001b[1;32m     11\u001b[0m \u001b[39m# that they have been altered from the originals.\u001b[39;00m\n\u001b[1;32m     13\u001b[0m \u001b[39m\"\"\"\u001b[39;00m\n\u001b[1;32m     14\u001b[0m \u001b[39mAbstract base classes for primitives module.\u001b[39;00m\n\u001b[1;32m     15\u001b[0m \u001b[39m\"\"\"\u001b[39;00m\n\u001b[0;32m---> 17\u001b[0m \u001b[39mfrom\u001b[39;00m \u001b[39m.\u001b[39;00m\u001b[39mbase_estimator\u001b[39;00m \u001b[39mimport\u001b[39;00m BaseEstimator\n\u001b[1;32m     18\u001b[0m \u001b[39mfrom\u001b[39;00m \u001b[39m.\u001b[39;00m\u001b[39mbase_sampler\u001b[39;00m \u001b[39mimport\u001b[39;00m BaseSampler\n\u001b[1;32m     19\u001b[0m \u001b[39mfrom\u001b[39;00m \u001b[39m.\u001b[39;00m\u001b[39mestimator_result\u001b[39;00m \u001b[39mimport\u001b[39;00m EstimatorResult\n",
      "File \u001b[0;32m~/mambaforge/envs/qiskit-env/lib/python3.10/site-packages/qiskit/primitives/base/base_estimator.py:91\u001b[0m\n\u001b[1;32m     87\u001b[0m \u001b[39mfrom\u001b[39;00m \u001b[39mwarnings\u001b[39;00m \u001b[39mimport\u001b[39;00m warn\n\u001b[1;32m     89\u001b[0m \u001b[39mimport\u001b[39;00m \u001b[39mnumpy\u001b[39;00m \u001b[39mas\u001b[39;00m \u001b[39mnp\u001b[39;00m\n\u001b[0;32m---> 91\u001b[0m \u001b[39mfrom\u001b[39;00m \u001b[39mqiskit\u001b[39;00m\u001b[39m.\u001b[39;00m\u001b[39mcircuit\u001b[39;00m \u001b[39mimport\u001b[39;00m Parameter, QuantumCircuit\n\u001b[1;32m     92\u001b[0m \u001b[39mfrom\u001b[39;00m \u001b[39mqiskit\u001b[39;00m\u001b[39m.\u001b[39;00m\u001b[39mcircuit\u001b[39;00m\u001b[39m.\u001b[39;00m\u001b[39mparametertable\u001b[39;00m \u001b[39mimport\u001b[39;00m ParameterView\n\u001b[1;32m     93\u001b[0m \u001b[39mfrom\u001b[39;00m \u001b[39mqiskit\u001b[39;00m\u001b[39m.\u001b[39;00m\u001b[39mopflow\u001b[39;00m \u001b[39mimport\u001b[39;00m PauliSumOp\n",
      "File \u001b[0;32m~/mambaforge/envs/qiskit-env/lib/python3.10/site-packages/qiskit/circuit/__init__.py:322\u001b[0m\n\u001b[1;32m      1\u001b[0m \u001b[39m# This code is part of Qiskit.\u001b[39;00m\n\u001b[1;32m      2\u001b[0m \u001b[39m#\u001b[39;00m\n\u001b[1;32m      3\u001b[0m \u001b[39m# (C) Copyright IBM 2017.\u001b[39;00m\n\u001b[0;32m   (...)\u001b[0m\n\u001b[1;32m     10\u001b[0m \u001b[39m# copyright notice, and modified files need to carry a notice indicating\u001b[39;00m\n\u001b[1;32m     11\u001b[0m \u001b[39m# that they have been altered from the originals.\u001b[39;00m\n\u001b[1;32m     13\u001b[0m \u001b[39m\"\"\"\u001b[39;00m\n\u001b[1;32m     14\u001b[0m \u001b[39m========================================\u001b[39;00m\n\u001b[1;32m     15\u001b[0m \u001b[39mQuantum Circuits (:mod:`qiskit.circuit`)\u001b[39;00m\n\u001b[0;32m   (...)\u001b[0m\n\u001b[1;32m    320\u001b[0m \u001b[39m   CommutationChecker\u001b[39;00m\n\u001b[1;32m    321\u001b[0m \u001b[39m\"\"\"\u001b[39;00m\n\u001b[0;32m--> 322\u001b[0m \u001b[39mfrom\u001b[39;00m \u001b[39m.\u001b[39;00m\u001b[39mquantumcircuit\u001b[39;00m \u001b[39mimport\u001b[39;00m QuantumCircuit\n\u001b[1;32m    323\u001b[0m \u001b[39mfrom\u001b[39;00m \u001b[39m.\u001b[39;00m\u001b[39mclassicalregister\u001b[39;00m \u001b[39mimport\u001b[39;00m ClassicalRegister, Clbit\n\u001b[1;32m    324\u001b[0m \u001b[39mfrom\u001b[39;00m \u001b[39m.\u001b[39;00m\u001b[39mquantumregister\u001b[39;00m \u001b[39mimport\u001b[39;00m QuantumRegister, Qubit, AncillaRegister, AncillaQubit\n",
      "File \u001b[0;32m~/mambaforge/envs/qiskit-env/lib/python3.10/site-packages/qiskit/circuit/quantumcircuit.py:43\u001b[0m\n\u001b[1;32m     41\u001b[0m \u001b[39mimport\u001b[39;00m \u001b[39mnumpy\u001b[39;00m \u001b[39mas\u001b[39;00m \u001b[39mnp\u001b[39;00m\n\u001b[1;32m     42\u001b[0m \u001b[39mfrom\u001b[39;00m \u001b[39mqiskit\u001b[39;00m\u001b[39m.\u001b[39;00m\u001b[39mexceptions\u001b[39;00m \u001b[39mimport\u001b[39;00m QiskitError, MissingOptionalLibraryError\n\u001b[0;32m---> 43\u001b[0m \u001b[39mfrom\u001b[39;00m \u001b[39mqiskit\u001b[39;00m\u001b[39m.\u001b[39;00m\u001b[39mutils\u001b[39;00m\u001b[39m.\u001b[39;00m\u001b[39mmultiprocessing\u001b[39;00m \u001b[39mimport\u001b[39;00m is_main_process\n\u001b[1;32m     44\u001b[0m \u001b[39mfrom\u001b[39;00m \u001b[39mqiskit\u001b[39;00m\u001b[39m.\u001b[39;00m\u001b[39mcircuit\u001b[39;00m\u001b[39m.\u001b[39;00m\u001b[39minstruction\u001b[39;00m \u001b[39mimport\u001b[39;00m Instruction\n\u001b[1;32m     45\u001b[0m \u001b[39mfrom\u001b[39;00m \u001b[39mqiskit\u001b[39;00m\u001b[39m.\u001b[39;00m\u001b[39mcircuit\u001b[39;00m\u001b[39m.\u001b[39;00m\u001b[39mgate\u001b[39;00m \u001b[39mimport\u001b[39;00m Gate\n",
      "File \u001b[0;32m~/mambaforge/envs/qiskit-env/lib/python3.10/site-packages/qiskit/utils/__init__.py:66\u001b[0m\n\u001b[1;32m      1\u001b[0m \u001b[39m# This code is part of Qiskit.\u001b[39;00m\n\u001b[1;32m      2\u001b[0m \u001b[39m#\u001b[39;00m\n\u001b[1;32m      3\u001b[0m \u001b[39m# (C) Copyright IBM 2018, 2021.\u001b[39;00m\n\u001b[0;32m   (...)\u001b[0m\n\u001b[1;32m     10\u001b[0m \u001b[39m# copyright notice, and modified files need to carry a notice indicating\u001b[39;00m\n\u001b[1;32m     11\u001b[0m \u001b[39m# that they have been altered from the originals.\u001b[39;00m\n\u001b[1;32m     14\u001b[0m \u001b[39m\"\"\"\u001b[39;00m\n\u001b[1;32m     15\u001b[0m \u001b[39m===============================\u001b[39;00m\n\u001b[1;32m     16\u001b[0m \u001b[39mUtilities (:mod:`qiskit.utils`)\u001b[39;00m\n\u001b[0;32m   (...)\u001b[0m\n\u001b[1;32m     63\u001b[0m \u001b[39m.. automodule:: qiskit.utils.optionals\u001b[39;00m\n\u001b[1;32m     64\u001b[0m \u001b[39m\"\"\"\u001b[39;00m\n\u001b[0;32m---> 66\u001b[0m \u001b[39mfrom\u001b[39;00m \u001b[39m.\u001b[39;00m\u001b[39mquantum_instance\u001b[39;00m \u001b[39mimport\u001b[39;00m QuantumInstance\n\u001b[1;32m     67\u001b[0m \u001b[39mfrom\u001b[39;00m \u001b[39m.\u001b[39;00m\u001b[39mdeprecation\u001b[39;00m \u001b[39mimport\u001b[39;00m deprecate_arguments\n\u001b[1;32m     68\u001b[0m \u001b[39mfrom\u001b[39;00m \u001b[39m.\u001b[39;00m\u001b[39mdeprecation\u001b[39;00m \u001b[39mimport\u001b[39;00m deprecate_function\n",
      "File \u001b[0;32m~/mambaforge/envs/qiskit-env/lib/python3.10/site-packages/qiskit/utils/quantum_instance.py:24\u001b[0m\n\u001b[1;32m     20\u001b[0m \u001b[39mimport\u001b[39;00m \u001b[39mwarnings\u001b[39;00m\n\u001b[1;32m     22\u001b[0m \u001b[39mimport\u001b[39;00m \u001b[39mnumpy\u001b[39;00m \u001b[39mas\u001b[39;00m \u001b[39mnp\u001b[39;00m\n\u001b[0;32m---> 24\u001b[0m \u001b[39mfrom\u001b[39;00m \u001b[39mqiskit\u001b[39;00m\u001b[39m.\u001b[39;00m\u001b[39mqobj\u001b[39;00m \u001b[39mimport\u001b[39;00m Qobj\n\u001b[1;32m     25\u001b[0m \u001b[39mfrom\u001b[39;00m \u001b[39mqiskit\u001b[39;00m\u001b[39m.\u001b[39;00m\u001b[39mutils\u001b[39;00m \u001b[39mimport\u001b[39;00m circuit_utils\n\u001b[1;32m     26\u001b[0m \u001b[39mfrom\u001b[39;00m \u001b[39mqiskit\u001b[39;00m\u001b[39m.\u001b[39;00m\u001b[39mexceptions\u001b[39;00m \u001b[39mimport\u001b[39;00m QiskitError\n",
      "\u001b[0;31mImportError\u001b[0m: cannot import name 'Qobj' from 'qiskit.qobj' (unknown location)"
     ]
    }
   ],
   "source": [
    "from qiskit_nature.second_q.operators import FermionicOp\n",
    "from qiskit_nature.second_q.operators.commutators import anti_commutator"
   ]
  },
  {
   "cell_type": "code",
   "execution_count": 5,
   "metadata": {},
   "outputs": [],
   "source": [
    "op1 = FermionicOp({\"+_0 -_1\": 1}, num_spin_orbitals=2)\n",
    "op2 = FermionicOp({\"-_1 +_2\": 1}, num_spin_orbitals=3)"
   ]
  },
  {
   "cell_type": "code",
   "execution_count": 11,
   "metadata": {},
   "outputs": [
    {
     "data": {
      "text/plain": [
       "FermionicOp({'+_0 -_0': (1+0j), '-_0 +_0': (1+0j)}, num_spin_orbitals=1, )"
      ]
     },
     "execution_count": 11,
     "metadata": {},
     "output_type": "execute_result"
    }
   ],
   "source": [
    "anti_commutator(FermionicOp({\"+_0\": 1}, num_spin_orbitals=1), FermionicOp({\"-_0\": 1}, num_spin_orbitals=1))"
   ]
  },
  {
   "cell_type": "code",
   "execution_count": 20,
   "metadata": {},
   "outputs": [
    {
     "data": {
      "text/plain": [
       "FermionicOp({'': (1+0j)}, num_spin_orbitals=1, )"
      ]
     },
     "execution_count": 20,
     "metadata": {},
     "output_type": "execute_result"
    }
   ],
   "source": [
    "a01 = anti_commutator(FermionicOp({\"+_0\": 1}, num_spin_orbitals=1), FermionicOp({\"-_0\": 1}, num_spin_orbitals=1))\n",
    "a01.normal_order()"
   ]
  },
  {
   "cell_type": "code",
   "execution_count": 8,
   "metadata": {},
   "outputs": [
    {
     "data": {
      "text/plain": [
       "FermionicOp({}, num_spin_orbitals=3, )"
      ]
     },
     "execution_count": 8,
     "metadata": {},
     "output_type": "execute_result"
    }
   ],
   "source": [
    "anti_commutator(op1, op2)"
   ]
  },
  {
   "cell_type": "code",
   "execution_count": 21,
   "metadata": {},
   "outputs": [
    {
     "data": {
      "text/plain": [
       "True"
      ]
     },
     "execution_count": 21,
     "metadata": {},
     "output_type": "execute_result"
    }
   ],
   "source": [
    "opx = FermionicOp({\"+_0 -_1 +_1 -_3\" : 1}, num_spin_orbitals=4)\n",
    "op = FermionicOp(\n",
    "    {\n",
    "        \"+_0 -_3\": 1.0,\n",
    "        \"+_0 +_1 -_1 -_3\": -1.0,\n",
    "    },\n",
    "    num_spin_orbitals=4,\n",
    ")\n",
    "opx.normal_order().equiv(op.normal_order())"
   ]
  },
  {
   "cell_type": "code",
   "execution_count": 3,
   "metadata": {
    "tags": []
   },
   "outputs": [],
   "source": [
    "from qiskit.extensions import UnitaryGate, XGate, IGate, CXGate\n",
    "from qiskit.quantum_info.operators import Operator, Pauli\n",
    "from qiskit.visualization import array_to_latex\n",
    "from qiskit.quantum_info import Statevector\n",
    "\n",
    "\n",
    "import numpy as np"
   ]
  },
  {
   "cell_type": "code",
   "execution_count": 4,
   "metadata": {},
   "outputs": [
    {
     "data": {
      "text/plain": [
       "True"
      ]
     },
     "execution_count": 4,
     "metadata": {},
     "output_type": "execute_result"
    }
   ],
   "source": [
    "sv0 = Statevector.from_label('0')\n",
    "sv1 = Statevector.from_label('1')\n",
    "X = Operator(Pauli('X'))\n",
    "(sv0.evolve(X)).equiv(sv1)"
   ]
  },
  {
   "cell_type": "code",
   "execution_count": 9,
   "metadata": {},
   "outputs": [
    {
     "data": {
      "image/png": "[encoded data removed]",
      "text/plain": [
       "<Figure size 203.885x451.5 with 1 Axes>"
      ]
     },
     "execution_count": 9,
     "metadata": {},
     "output_type": "execute_result"
    }
   ],
   "source": [
    "from qiskit.circuit.library import MCXGate, C3XGate\n",
    "gate = MCXGate(4)\n",
    "\n",
    "from qiskit import QuantumCircuit\n",
    "circuit = QuantumCircuit(5)\n",
    "circuit.append(gate, [0, 1, 4, 2, 3])\n",
    "circuit.draw('mpl')"
   ]
  },
  {
   "cell_type": "code",
   "execution_count": 6,
   "metadata": {},
   "outputs": [
    {
     "data": {
      "image/png": "[encoded data removed]",
      "text/plain": [
       "<Figure size 203.885x367.889 with 1 Axes>"
      ]
     },
     "execution_count": 6,
     "metadata": {},
     "output_type": "execute_result"
    }
   ],
   "source": [
    "Gat = C3XGate()\n",
    "cir = QuantumCircuit(4)\n",
    "cir.append(Gat, [0, 1, 3, 2])\n",
    "cir.draw('mpl')"
   ]
  },
  {
   "cell_type": "markdown",
   "metadata": {},
   "source": [
    "$\n",
    "\\newcommand{\\HH}{\\mathtt{H}}  \n",
    "\\newcommand{\\ad}{a^\\dagger}  \n",
    "\\newcommand{\\kb}[2]{|#1\\rangle\\langle#2|} \n",
    "\\newcommand{\\proj}[1]{|#1\\rangle\\langle#1|}\n",
    "\\newcommand{\\bk}[2]{\\langle#1|#2\\rangle}\n",
    "\\newcommand{\\ket}[1]{|#1\\rangle}\n",
    "$"
   ]
  },
  {
   "cell_type": "markdown",
   "metadata": {},
   "source": [
    "Opérateur qubit             |  Description\n",
    "----------------------------|---------------------\n",
    "$\\mathtt{I}$$=\\begin{pmatrix}1 & 0 \\\\ 0 &1 \\end{pmatrix}$ |Identité\n",
    "$\\mathtt{Q}^-$$=\\begin{pmatrix}0 & 1 \\\\ 1 & 0 \\end{pmatrix}$$=\\frac12(\\mathtt{X} + i\\mathtt{Y}) =\\kb{1}{0}$ | Annihilation \n",
    "$\\mathtt{Q}^+$$=\\begin{pmatrix}0 & 0 \\\\ 1 & 0 \\end{pmatrix}$$=\\frac12(\\mathtt{X} - i\\mathtt{Y}) =\\kb{0}{1}$ | Création\n",
    "$\\mathtt{Q}^+\\mathtt{Q}^-$$=\\begin{pmatrix}0 & 0 \\\\ 0 &1 \\end{pmatrix}$$=\\frac12(\\mathtt{I} - \\mathtt{Z}) =\\proj{1}$ | Un nombre (particule)\n",
    "$\\mathtt{Q}^-\\mathtt{Q}^+$$=\\begin{pmatrix}0 & 0 \\\\ 0 &1 \\end{pmatrix}$$=\\frac12(\\mathtt{I} + \\mathtt{Z}) =\\proj{0}$ | Zéro nombre (trou)\n",
    "\n",
    "Les opérateurs qubits sont antisymétriques: $\\{\\mathtt{Q}^,\\mathtt{Q}^-\\}$$=\\mathtt{Q}^+\\mathtt{Q}^- + \\mathtt{Q}^-\\mathtt{Q}^+ = \\mathtt{I}$."
   ]
  },
  {
   "cell_type": "code",
   "execution_count": 11,
   "metadata": {},
   "outputs": [],
   "source": [
    "from qiskit import QuantumCircuit, execute, Aer, IBMQ\n",
    "from qiskit.compiler import transpile, assemble\n",
    "from qiskit.tools.jupyter import *\n",
    "from qiskit.visualization import *"
   ]
  },
  {
   "cell_type": "code",
   "execution_count": 12,
   "metadata": {},
   "outputs": [
    {
     "ename": "IBMQAccountCredentialsNotFound",
     "evalue": "'No IBM Quantum Experience credentials found.'",
     "output_type": "error",
     "traceback": [
      "\u001b[0;31m---------------------------------------------------------------------------\u001b[0m",
      "\u001b[0;31mIBMQAccountCredentialsNotFound\u001b[0m            Traceback (most recent call last)",
      "Cell \u001b[0;32mIn[12], line 2\u001b[0m\n\u001b[1;32m      1\u001b[0m \u001b[39m# Loading your IBM Q account(s)\u001b[39;00m\n\u001b[0;32m----> 2\u001b[0m provider \u001b[39m=\u001b[39m IBMQ\u001b[39m.\u001b[39;49mload_account()\n\u001b[1;32m      4\u001b[0m device \u001b[39m=\u001b[39m provider\u001b[39m.\u001b[39mget_backend(\u001b[39m'\u001b[39m\u001b[39mibmq_5_yorktown\u001b[39m\u001b[39m'\u001b[39m)\n",
      "File \u001b[0;32m~/mambaforge/envs/qiskit-env/lib/python3.10/site-packages/qiskit/providers/ibmq/ibmqfactory.py:167\u001b[0m, in \u001b[0;36mIBMQFactory.load_account\u001b[0;34m(self)\u001b[0m\n\u001b[1;32m    164\u001b[0m credentials_list \u001b[39m=\u001b[39m \u001b[39mlist\u001b[39m(stored_credentials\u001b[39m.\u001b[39mvalues())\n\u001b[1;32m    166\u001b[0m \u001b[39mif\u001b[39;00m \u001b[39mnot\u001b[39;00m credentials_list:\n\u001b[0;32m--> 167\u001b[0m     \u001b[39mraise\u001b[39;00m IBMQAccountCredentialsNotFound(\n\u001b[1;32m    168\u001b[0m         \u001b[39m'\u001b[39m\u001b[39mNo IBM Quantum Experience credentials found.\u001b[39m\u001b[39m'\u001b[39m)\n\u001b[1;32m    170\u001b[0m \u001b[39mif\u001b[39;00m \u001b[39mlen\u001b[39m(credentials_list) \u001b[39m>\u001b[39m \u001b[39m1\u001b[39m:\n\u001b[1;32m    171\u001b[0m     \u001b[39mraise\u001b[39;00m IBMQAccountMultipleCredentialsFound(\n\u001b[1;32m    172\u001b[0m         \u001b[39m'\u001b[39m\u001b[39mMultiple IBM Quantum Experience credentials found. \u001b[39m\u001b[39m'\u001b[39m \u001b[39m+\u001b[39m UPDATE_ACCOUNT_TEXT)\n",
      "\u001b[0;31mIBMQAccountCredentialsNotFound\u001b[0m: 'No IBM Quantum Experience credentials found.'"
     ]
    }
   ],
   "source": [
    "# Loading your IBM Q account(s)\n",
    "provider = IBMQ.load_account()\n",
    "\n",
    "device = provider.get_backend('ibmq_5_yorktown')"
   ]
  },
  {
   "cell_type": "code",
   "execution_count": 5,
   "metadata": {},
   "outputs": [
    {
     "data": {
      "image/png": "[encoded data removed]",
      "text/plain": [
       "<Figure size 203.885x284.278 with 1 Axes>"
      ]
     },
     "execution_count": 5,
     "metadata": {},
     "output_type": "execute_result"
    }
   ],
   "source": [
    "qc=QuantumCircuit(3)\n",
    "qc.ccx(0,1,2)\n",
    "new_circuit = transpile(qc,backend=device)\n",
    "new_circuit.draw(output='mpl')"
   ]
  },
  {
   "cell_type": "code",
   "execution_count": 2,
   "metadata": {},
   "outputs": [
    {
     "data": {
      "text/html": [
       "<div>\n",
       "<style scoped>\n",
       "    .dataframe tbody tr th:only-of-type {\n",
       "        vertical-align: middle;\n",
       "    }\n",
       "\n",
       "    .dataframe tbody tr th {\n",
       "        vertical-align: top;\n",
       "    }\n",
       "\n",
       "    .dataframe thead th {\n",
       "        text-align: right;\n",
       "    }\n",
       "</style>\n",
       "<table border=\"1\" class=\"dataframe\">\n",
       "  <thead>\n",
       "    <tr style=\"text-align: right;\">\n",
       "      <th></th>\n",
       "      <th>Type of solver</th>\n",
       "      <th>Mapper</th>\n",
       "      <th>Optimizer</th>\n",
       "      <th>GS electr. energy</th>\n",
       "      <th>Rel. error (%)</th>\n",
       "      <th>Elapsed time</th>\n",
       "    </tr>\n",
       "  </thead>\n",
       "  <tbody>\n",
       "    <tr>\n",
       "      <th>VQE UCCSD Solver</th>\n",
       "      <td>PM</td>\n",
       "      <td>SPSA</td>\n",
       "      <td>-1.137039</td>\n",
       "      <td>0.0144</td>\n",
       "      <td>0:00:09.184951</td>\n",
       "      <td>NaN</td>\n",
       "    </tr>\n",
       "    <tr>\n",
       "      <th>Numpy Exact Solver</th>\n",
       "      <td>PM</td>\n",
       "      <td>SPSA</td>\n",
       "      <td>-1.137306</td>\n",
       "      <td>0.0144</td>\n",
       "      <td>0:00:00.060469</td>\n",
       "      <td>NaN</td>\n",
       "    </tr>\n",
       "    <tr>\n",
       "      <th>VQE UCCSD Solver</th>\n",
       "      <td>PM</td>\n",
       "      <td>SLSQP</td>\n",
       "      <td>-1.137306</td>\n",
       "      <td>0.0000</td>\n",
       "      <td>0:00:00.649761</td>\n",
       "      <td>NaN</td>\n",
       "    </tr>\n",
       "    <tr>\n",
       "      <th>Numpy Exact Solver</th>\n",
       "      <td>PM</td>\n",
       "      <td>SLSQP</td>\n",
       "      <td>-1.137306</td>\n",
       "      <td>0.0000</td>\n",
       "      <td>0:00:00.084372</td>\n",
       "      <td>NaN</td>\n",
       "    </tr>\n",
       "    <tr>\n",
       "      <th>VQE UCCSD Solver</th>\n",
       "      <td>PM</td>\n",
       "      <td>L_BFGS_B</td>\n",
       "      <td>-1.137306</td>\n",
       "      <td>0.0000</td>\n",
       "      <td>0:00:01.000260</td>\n",
       "      <td>NaN</td>\n",
       "    </tr>\n",
       "    <tr>\n",
       "      <th>Numpy Exact Solver</th>\n",
       "      <td>PM</td>\n",
       "      <td>L_BFGS_B</td>\n",
       "      <td>-1.137306</td>\n",
       "      <td>0.0000</td>\n",
       "      <td>0:00:00.056809</td>\n",
       "      <td>NaN</td>\n",
       "    </tr>\n",
       "    <tr>\n",
       "      <th>VQE UCCSD Solver</th>\n",
       "      <td>JWM</td>\n",
       "      <td>SPSA</td>\n",
       "      <td>-1.137005</td>\n",
       "      <td>0.0162</td>\n",
       "      <td>0:00:12.050602</td>\n",
       "      <td>NaN</td>\n",
       "    </tr>\n",
       "    <tr>\n",
       "      <th>Numpy Exact Solver</th>\n",
       "      <td>JWM</td>\n",
       "      <td>SPSA</td>\n",
       "      <td>-1.137306</td>\n",
       "      <td>0.0162</td>\n",
       "      <td>0:00:00.080007</td>\n",
       "      <td>NaN</td>\n",
       "    </tr>\n",
       "    <tr>\n",
       "      <th>VQE UCCSD Solver</th>\n",
       "      <td>JWM</td>\n",
       "      <td>SLSQP</td>\n",
       "      <td>-1.137306</td>\n",
       "      <td>0.0000</td>\n",
       "      <td>0:00:00.787174</td>\n",
       "      <td>NaN</td>\n",
       "    </tr>\n",
       "    <tr>\n",
       "      <th>Numpy Exact Solver</th>\n",
       "      <td>JWM</td>\n",
       "      <td>SLSQP</td>\n",
       "      <td>-1.137306</td>\n",
       "      <td>0.0000</td>\n",
       "      <td>0:00:00.080640</td>\n",
       "      <td>NaN</td>\n",
       "    </tr>\n",
       "    <tr>\n",
       "      <th>VQE UCCSD Solver</th>\n",
       "      <td>JWM</td>\n",
       "      <td>L_BFGS_B</td>\n",
       "      <td>-1.137306</td>\n",
       "      <td>0.0000</td>\n",
       "      <td>0:00:01.278657</td>\n",
       "      <td>NaN</td>\n",
       "    </tr>\n",
       "    <tr>\n",
       "      <th>Numpy Exact Solver</th>\n",
       "      <td>JWM</td>\n",
       "      <td>L_BFGS_B</td>\n",
       "      <td>-1.137306</td>\n",
       "      <td>0.0000</td>\n",
       "      <td>0:00:00.056687</td>\n",
       "      <td>NaN</td>\n",
       "    </tr>\n",
       "    <tr>\n",
       "      <th>VQE UCCSD Solver</th>\n",
       "      <td>BKM</td>\n",
       "      <td>SPSA</td>\n",
       "      <td>-1.136616</td>\n",
       "      <td>0.0371</td>\n",
       "      <td>0:00:08.828372</td>\n",
       "      <td>NaN</td>\n",
       "    </tr>\n",
       "    <tr>\n",
       "      <th>Numpy Exact Solver</th>\n",
       "      <td>BKM</td>\n",
       "      <td>SPSA</td>\n",
       "      <td>-1.137306</td>\n",
       "      <td>0.0371</td>\n",
       "      <td>0:00:00.082377</td>\n",
       "      <td>NaN</td>\n",
       "    </tr>\n",
       "    <tr>\n",
       "      <th>VQE UCCSD Solver</th>\n",
       "      <td>BKM</td>\n",
       "      <td>SLSQP</td>\n",
       "      <td>-1.137306</td>\n",
       "      <td>0.0000</td>\n",
       "      <td>0:00:00.833683</td>\n",
       "      <td>NaN</td>\n",
       "    </tr>\n",
       "    <tr>\n",
       "      <th>Numpy Exact Solver</th>\n",
       "      <td>BKM</td>\n",
       "      <td>SLSQP</td>\n",
       "      <td>-1.137306</td>\n",
       "      <td>0.0000</td>\n",
       "      <td>0:00:00.081217</td>\n",
       "      <td>NaN</td>\n",
       "    </tr>\n",
       "    <tr>\n",
       "      <th>VQE UCCSD Solver</th>\n",
       "      <td>BKM</td>\n",
       "      <td>L_BFGS_B</td>\n",
       "      <td>-1.137306</td>\n",
       "      <td>0.0000</td>\n",
       "      <td>0:00:00.915992</td>\n",
       "      <td>NaN</td>\n",
       "    </tr>\n",
       "    <tr>\n",
       "      <th>Numpy Exact Solver</th>\n",
       "      <td>BKM</td>\n",
       "      <td>L_BFGS_B</td>\n",
       "      <td>-1.137306</td>\n",
       "      <td>0.0000</td>\n",
       "      <td>0:00:00.060322</td>\n",
       "      <td>NaN</td>\n",
       "    </tr>\n",
       "  </tbody>\n",
       "</table>\n",
       "</div>"
      ],
      "text/plain": [
       "                   Type of solver    Mapper  Optimizer  GS electr. energy  \\\n",
       "VQE UCCSD Solver               PM      SPSA  -1.137039             0.0144   \n",
       "Numpy Exact Solver             PM      SPSA  -1.137306             0.0144   \n",
       "VQE UCCSD Solver               PM     SLSQP  -1.137306             0.0000   \n",
       "Numpy Exact Solver             PM     SLSQP  -1.137306             0.0000   \n",
       "VQE UCCSD Solver               PM  L_BFGS_B  -1.137306             0.0000   \n",
       "Numpy Exact Solver             PM  L_BFGS_B  -1.137306             0.0000   \n",
       "VQE UCCSD Solver              JWM      SPSA  -1.137005             0.0162   \n",
       "Numpy Exact Solver            JWM      SPSA  -1.137306             0.0162   \n",
       "VQE UCCSD Solver              JWM     SLSQP  -1.137306             0.0000   \n",
       "Numpy Exact Solver            JWM     SLSQP  -1.137306             0.0000   \n",
       "VQE UCCSD Solver              JWM  L_BFGS_B  -1.137306             0.0000   \n",
       "Numpy Exact Solver            JWM  L_BFGS_B  -1.137306             0.0000   \n",
       "VQE UCCSD Solver              BKM      SPSA  -1.136616             0.0371   \n",
       "Numpy Exact Solver            BKM      SPSA  -1.137306             0.0371   \n",
       "VQE UCCSD Solver              BKM     SLSQP  -1.137306             0.0000   \n",
       "Numpy Exact Solver            BKM     SLSQP  -1.137306             0.0000   \n",
       "VQE UCCSD Solver              BKM  L_BFGS_B  -1.137306             0.0000   \n",
       "Numpy Exact Solver            BKM  L_BFGS_B  -1.137306             0.0000   \n",
       "\n",
       "                    Rel. error (%)  Elapsed time  \n",
       "VQE UCCSD Solver    0:00:09.184951           NaN  \n",
       "Numpy Exact Solver  0:00:00.060469           NaN  \n",
       "VQE UCCSD Solver    0:00:00.649761           NaN  \n",
       "Numpy Exact Solver  0:00:00.084372           NaN  \n",
       "VQE UCCSD Solver    0:00:01.000260           NaN  \n",
       "Numpy Exact Solver  0:00:00.056809           NaN  \n",
       "VQE UCCSD Solver    0:00:12.050602           NaN  \n",
       "Numpy Exact Solver  0:00:00.080007           NaN  \n",
       "VQE UCCSD Solver    0:00:00.787174           NaN  \n",
       "Numpy Exact Solver  0:00:00.080640           NaN  \n",
       "VQE UCCSD Solver    0:00:01.278657           NaN  \n",
       "Numpy Exact Solver  0:00:00.056687           NaN  \n",
       "VQE UCCSD Solver    0:00:08.828372           NaN  \n",
       "Numpy Exact Solver  0:00:00.082377           NaN  \n",
       "VQE UCCSD Solver    0:00:00.833683           NaN  \n",
       "Numpy Exact Solver  0:00:00.081217           NaN  \n",
       "VQE UCCSD Solver    0:00:00.915992           NaN  \n",
       "Numpy Exact Solver  0:00:00.060322           NaN  "
      ]
     },
     "execution_count": 2,
     "metadata": {},
     "output_type": "execute_result"
    }
   ],
   "source": [
    "import pandas as pd\n",
    "\n",
    "H2_data = pd.read_csv(f\"Resultats/H2_results.csv\")\n",
    "\n",
    "H2_data"
   ]
  },
  {
   "cell_type": "code",
   "execution_count": 5,
   "metadata": {},
   "outputs": [
    {
     "name": "stdout",
     "output_type": "stream",
     "text": [
      "Sheet(cells=(Cell(column_end=0, column_start=0, row_end=0, row_start=0, type='text', value='Hello'), Cell(column_end=0, column_start=0, row_end=2, row_start=2, type='text', value='World'), Cell(column_end=2, column_start=2, row_end=2, row_start=2, type='numeric', value=42.0)), layout=Layout(height='auto', width='auto'))\n"
     ]
    }
   ],
   "source": [
    "import ipysheet\n",
    "sheet = ipysheet.sheet(rows=3, columns=4)\n",
    "cell1 = ipysheet.cell(0, 0, 'Hello')\n",
    "cell2 = ipysheet.cell(2, 0, 'World')\n",
    "cell_value = ipysheet.cell(2,2, 42.)\n",
    "print(sheet)"
   ]
  },
  {
   "cell_type": "code",
   "execution_count": 6,
   "metadata": {},
   "outputs": [
    {
     "data": {
      "application/vnd.jupyter.widget-view+json": {
       "model_id": "2f841bd2ef894069b05028df166b4047",
       "version_major": 2,
       "version_minor": 0
      },
      "text/plain": [
       "VBox(children=(Sheet(cells=(Cell(column_end=1, column_start=1, row_end=0, row_start=0, type='numeric', value=1…"
      ]
     },
     "execution_count": 6,
     "metadata": {},
     "output_type": "execute_result"
    }
   ],
   "source": [
    "import ipywidgets as widgets\n",
    "sheet = ipysheet.sheet(rows=3, columns=2, column_headers=False, row_headers=False)\n",
    "cell_a = ipysheet.cell(0, 1, 1, label_left='a')\n",
    "cell_b = ipysheet.cell(1, 1, 2, label_left='b')\n",
    "cell_sum = ipysheet.cell(2, 1, 3, label_left='sum', read_only=True)\n",
    "\n",
    "# create a slider linked to cell a\n",
    "slider = widgets.FloatSlider(min=-10, max=10, description='a')\n",
    "widgets.jslink((cell_a, 'value'), (slider, 'value'))\n",
    "\n",
    "# changes in a or b should trigger this function\n",
    "def calculate(change):\n",
    "    cell_sum.value = cell_a.value + cell_b.value\n",
    "\n",
    "cell_a.observe(calculate, 'value')\n",
    "cell_b.observe(calculate, 'value')\n",
    "\n",
    "\n",
    "widgets.VBox([sheet, slider])"
   ]
  },
  {
   "attachments": {},
   "cell_type": "markdown",
   "metadata": {},
   "source": [
    "## Qiskit_nature_pyscf version 0.6"
   ]
  },
  {
   "cell_type": "code",
   "execution_count": 5,
   "metadata": {},
   "outputs": [
    {
     "name": "stdout",
     "output_type": "stream",
     "text": [
      "converged SCF energy = -7.86186476980865\n"
     ]
    },
    {
     "ename": "TypeError",
     "evalue": "ParityMapper.__init__() got an unexpected keyword argument 'num_particles'",
     "output_type": "error",
     "traceback": [
      "\u001b[0;31m---------------------------------------------------------------------------\u001b[0m",
      "\u001b[0;31mTypeError\u001b[0m                                 Traceback (most recent call last)",
      "Cell \u001b[0;32mIn[5], line 24\u001b[0m\n\u001b[1;32m     20\u001b[0m nelec \u001b[39m=\u001b[39m nalpha \u001b[39m+\u001b[39m nbeta\n\u001b[1;32m     22\u001b[0m cas \u001b[39m=\u001b[39m mcscf\u001b[39m.\u001b[39mCASCI(h_f, norb, nelec)\n\u001b[0;32m---> 24\u001b[0m mapper \u001b[39m=\u001b[39m ParityMapper(num_particles\u001b[39m=\u001b[39;49m(nalpha, nbeta))\n\u001b[1;32m     27\u001b[0m ansatz \u001b[39m=\u001b[39m UCCSD(\n\u001b[1;32m     28\u001b[0m     norb,\n\u001b[1;32m     29\u001b[0m     (nalpha, nbeta),\n\u001b[0;32m   (...)\u001b[0m\n\u001b[1;32m     35\u001b[0m     ),\n\u001b[1;32m     36\u001b[0m )\n\u001b[1;32m     38\u001b[0m vqe \u001b[39m=\u001b[39m VQE(Estimator(), ansatz, SLSQP())\n",
      "\u001b[0;31mTypeError\u001b[0m: ParityMapper.__init__() got an unexpected keyword argument 'num_particles'"
     ]
    }
   ],
   "source": [
    "from pyscf import gto, scf, mcscf\n",
    "\n",
    "import numpy as np\n",
    "\n",
    "from qiskit.algorithms.minimum_eigensolvers import VQE\n",
    "from qiskit.algorithms.optimizers import SLSQP\n",
    "from qiskit.primitives import Estimator\n",
    "from qiskit_nature.second_q.algorithms import GroundStateEigensolver\n",
    "from qiskit_nature.second_q.circuit.library import HartreeFock, UCCSD\n",
    "from qiskit_nature.second_q.mappers import ParityMapper\n",
    "\n",
    "from qiskit_nature_pyscf import QiskitSolver\n",
    "\n",
    "mol = gto.M(atom=\"Li 0 0 0; H 0 0 1.6\", basis=\"sto-3g\")\n",
    "\n",
    "h_f = scf.RHF(mol).run()\n",
    "\n",
    "norb = 2\n",
    "nalpha, nbeta = 1, 1\n",
    "nelec = nalpha + nbeta\n",
    "\n",
    "cas = mcscf.CASCI(h_f, norb, nelec)\n",
    "\n",
    "mapper = ParityMapper(num_particles=(nalpha, nbeta))\n",
    "\n",
    "\n",
    "ansatz = UCCSD(\n",
    "    norb,\n",
    "    (nalpha, nbeta),\n",
    "    mapper,\n",
    "    initial_state=HartreeFock(\n",
    "        norb,\n",
    "        (nalpha, nbeta),\n",
    "        mapper,\n",
    "    ),\n",
    ")\n",
    "\n",
    "vqe = VQE(Estimator(), ansatz, SLSQP())\n",
    "vqe.initial_point = np.zeros(ansatz.num_parameters)\n",
    "\n",
    "algorithm = GroundStateEigensolver(mapper, vqe)\n",
    "\n",
    "cas.fcisolver = QiskitSolver(algorithm)\n",
    "\n",
    "cas.run()"
   ]
  },
  {
   "cell_type": "markdown",
   "metadata": {},
   "source": [
    "$\\newcommand{\\mel}[3]{\\langle #1|#2|#3\\rangle} %Matrix element$\n"
   ]
  },
  {
   "cell_type": "markdown",
   "metadata": {},
   "source": [
    "$\\mel{\\psi(\\theta)}{\\mathtt{H}}{\\psi(\\theta)}$"
   ]
  },
  {
   "cell_type": "code",
   "execution_count": 3,
   "metadata": {},
   "outputs": [
    {
     "ename": "TypeError",
     "evalue": "ParityMapper.__init__() got an unexpected keyword argument 'num_particles'",
     "output_type": "error",
     "traceback": [
      "\u001b[0;31m---------------------------------------------------------------------------\u001b[0m",
      "\u001b[0;31mTypeError\u001b[0m                                 Traceback (most recent call last)",
      "Cell \u001b[0;32mIn[3], line 17\u001b[0m\n\u001b[1;32m     14\u001b[0m \u001b[39m# setup the qubit mapper\u001b[39;00m\n\u001b[1;32m     15\u001b[0m \u001b[39mfrom\u001b[39;00m \u001b[39mqiskit_nature\u001b[39;00m\u001b[39m.\u001b[39;00m\u001b[39msecond_q\u001b[39;00m\u001b[39m.\u001b[39;00m\u001b[39mmappers\u001b[39;00m \u001b[39mimport\u001b[39;00m ParityMapper\n\u001b[0;32m---> 17\u001b[0m mapper \u001b[39m=\u001b[39m ParityMapper(num_particles\u001b[39m=\u001b[39;49mproblem\u001b[39m.\u001b[39;49mnum_particles)\n\u001b[1;32m     19\u001b[0m \u001b[39m# setup the classical optimizer for the VQE\u001b[39;00m\n\u001b[1;32m     20\u001b[0m \u001b[39mfrom\u001b[39;00m \u001b[39mqiskit\u001b[39;00m\u001b[39m.\u001b[39;00m\u001b[39malgorithms\u001b[39;00m\u001b[39m.\u001b[39;00m\u001b[39moptimizers\u001b[39;00m \u001b[39mimport\u001b[39;00m L_BFGS_B\n",
      "\u001b[0;31mTypeError\u001b[0m: ParityMapper.__init__() got an unexpected keyword argument 'num_particles'"
     ]
    }
   ],
   "source": [
    "from qiskit_nature.units import DistanceUnit\n",
    "from qiskit_nature.second_q.drivers import PySCFDriver\n",
    "\n",
    "# Use PySCF, a classical computational chemistry software\n",
    "# package, to compute the one-body and two-body integrals in\n",
    "# electronic-orbital basis, necessary to form the Fermionic operator\n",
    "driver = PySCFDriver(\n",
    "    atom='H .0 .0 .0; H .0 .0 0.735',\n",
    "    unit=DistanceUnit.ANGSTROM,\n",
    "    basis='sto3g',\n",
    ")\n",
    "problem = driver.run()\n",
    "\n",
    "# setup the qubit mapper\n",
    "from qiskit_nature.second_q.mappers import ParityMapper\n",
    "\n",
    "mapper = ParityMapper(num_particles=problem.num_particles)\n",
    "\n",
    "# setup the classical optimizer for the VQE\n",
    "from qiskit.algorithms.optimizers import L_BFGS_B\n",
    "\n",
    "optimizer = L_BFGS_B()\n",
    "\n",
    "# setup the estimator primitive for the VQE\n",
    "from qiskit.primitives import Estimator\n",
    "\n",
    "estimator = Estimator()\n",
    "\n",
    "# setup the ansatz for VQE\n",
    "from qiskit_nature.second_q.circuit.library import HartreeFock, UCCSD\n",
    "\n",
    "ansatz = UCCSD(\n",
    "    problem.num_spatial_orbitals,\n",
    "    problem.num_particles,\n",
    "    mapper,\n",
    "    initial_state=HartreeFock(\n",
    "        problem.num_spatial_orbitals,\n",
    "        problem.num_particles,\n",
    "        mapper,\n",
    "    ),\n",
    ")\n",
    "\n",
    "# set up our actual VQE instance\n",
    "from qiskit.algorithms.minimum_eigensolvers import VQE\n",
    "\n",
    "vqe = VQE(estimator, ansatz, optimizer)\n",
    "# ensure that the optimizer starts in the all-zero state which corresponds to\n",
    "# the Hartree-Fock starting point\n",
    "vqe.initial_point = [0] * ansatz.num_parameters\n",
    "\n",
    "# prepare the ground-state solver and run it\n",
    "from qiskit_nature.second_q.algorithms import GroundStateEigensolver\n",
    "\n",
    "algorithm = GroundStateEigensolver(mapper, vqe)\n",
    "\n",
    "electronic_structure_result = algorithm.solve(problem)\n",
    "print(electronic_structure_result)"
   ]
  },
  {
   "cell_type": "code",
   "execution_count": 3,
   "metadata": {},
   "outputs": [
    {
     "ename": "ImportError",
     "evalue": "cannot import name 'mcpdft' from 'pyscf' (/home/taamangtchu/mambaforge/envs/qiskit-env/lib/python3.10/site-packages/pyscf/__init__.py)",
     "output_type": "error",
     "traceback": [
      "\u001b[0;31m---------------------------------------------------------------------------\u001b[0m",
      "\u001b[0;31mImportError\u001b[0m                               Traceback (most recent call last)",
      "Cell \u001b[0;32mIn[3], line 5\u001b[0m\n\u001b[1;32m      1\u001b[0m \u001b[39m'''\u001b[39;00m\n\u001b[1;32m      2\u001b[0m \u001b[39mResponse-theory calculation of the permanent dipole moment\u001b[39;00m\n\u001b[1;32m      3\u001b[0m \u001b[39m'''\u001b[39;00m\n\u001b[0;32m----> 5\u001b[0m \u001b[39mfrom\u001b[39;00m \u001b[39mpyscf\u001b[39;00m \u001b[39mimport\u001b[39;00m gto, scf, mcpdft\n\u001b[1;32m      6\u001b[0m \u001b[39mfrom\u001b[39;00m \u001b[39mpyscf\u001b[39;00m\u001b[39m.\u001b[39;00m\u001b[39mlib\u001b[39;00m \u001b[39mimport\u001b[39;00m logger\n\u001b[1;32m      8\u001b[0m logger\u001b[39m.\u001b[39mTIMER_LEVEL \u001b[39m=\u001b[39m logger\u001b[39m.\u001b[39mINFO\n",
      "\u001b[0;31mImportError\u001b[0m: cannot import name 'mcpdft' from 'pyscf' (/home/taamangtchu/mambaforge/envs/qiskit-env/lib/python3.10/site-packages/pyscf/__init__.py)"
     ]
    }
   ],
   "source": [
    "'''\n",
    "Response-theory calculation of the permanent dipole moment\n",
    "'''\n",
    "\n",
    "from pyscf import gto, scf, mcpdft\n",
    "from pyscf.lib import logger\n",
    "\n",
    "logger.TIMER_LEVEL = logger.INFO\n",
    "\n",
    "# Energy calculation\n",
    "h2co_xyz = '''C  0.534004  0.000000  0.000000\n",
    "O -0.676110  0.000000  0.000000\n",
    "H  1.102430  0.000000  0.920125\n",
    "H  1.102430  0.000000 -0.920125'''\n",
    "mol = gto.M (atom = h2co_xyz, basis = 'def2svp', symmetry = False,\n",
    "             verbose = logger.INFO, output = '00-dipole_moment.log')\n",
    "mf = scf.RHF (mol).run ()\n",
    "mc = mcpdft.CASSCF (mf, 'tPBE', 6, 6)\n",
    "mc.kernel ()\n",
    "\n",
    "# Electric Dipole calculation\n",
    "dipole = mc.dip_moment(unit='Debye')\n",
    "print (\"MC-PDFT electric dipole moment Debye\")\n",
    "print (\" {:8.5f} {:8.5f} {:8.5f}\".format (*dipole))\n",
    "print (\"Numerical MC-PDFT electric dipole moment from GAMESS [Debye]\")\n",
    "print (\" 2.09361 0.00000 0.00000 \")"
   ]
  },
  {
   "cell_type": "code",
   "execution_count": 1,
   "metadata": {},
   "outputs": [
    {
     "name": "stdout",
     "output_type": "stream",
     "text": [
      "System: uname_result(system='Linux', node='taamangtchu-Aspire-A515-45', release='5.15.0-69-generic', version='#76-Ubuntu SMP Fri Mar 17 17:19:29 UTC 2023', machine='x86_64')  Threads 12\n",
      "Python 3.10.10 | packaged by conda-forge | (main, Mar 24 2023, 20:08:06) [GCC 11.3.0]\n",
      "numpy 1.23.5  scipy 1.10.1\n",
      "Date: Tue Apr  4 10:09:57 2023\n",
      "PySCF version 2.2.0\n",
      "PySCF path  /home/taamangtchu/mambaforge/envs/qiskit-env/lib/python3.10/site-packages/pyscf\n",
      "\n",
      "[CONFIG] conf_file None\n",
      "[INPUT] verbose = 4\n",
      "[INPUT] num. atoms = 6\n",
      "[INPUT] num. electrons = 16\n",
      "[INPUT] charge = 0\n",
      "[INPUT] spin (= nelec alpha-beta = 2S) = 0\n",
      "[INPUT] symmetry False subgroup None\n",
      "[INPUT] Mole.unit = angstrom\n",
      "[INPUT] Symbol           X                Y                Z      unit          X                Y                Z       unit  Magmom\n",
      "[INPUT]  1 C      0.000000000000   0.000000000000  -0.542500000000 AA    0.000000000000   0.000000000000  -1.025176422577 Bohr   0.0\n",
      "[INPUT]  2 O      0.000000000000   0.000000000000   0.677500000000 AA    0.000000000000   0.000000000000   1.280289449393 Bohr   0.0\n",
      "[INPUT]  3 H      0.000000000000   0.935307436087  -1.082500000000 AA    0.000000000000   1.767474896474  -2.045628529842 Bohr   0.0\n",
      "[INPUT]  4 H      0.000000000000  -0.935307436087  -1.082500000000 AA    0.000000000000  -1.767474896474  -2.045628529842 Bohr   0.0\n",
      "[INPUT]  5 X-C    0.000000000000   0.000000000000  -1.500000000000 AA    0.000000000000   0.000000000000  -2.834589186848 Bohr   0.0\n",
      "[INPUT]  6 X-O    0.000000000000   0.000000000000   1.600000000000 AA    0.000000000000   0.000000000000   3.023561799304 Bohr   0.0\n",
      "\n",
      "nuclear repulsion = 31.2308222222527\n",
      "number of shells = 14\n",
      "number of NR pGTOs = 66\n",
      "number of NR cGTOs = 22\n",
      "basis = sto-3g\n",
      "ecp = {}\n",
      "CPU time:         2.60\n",
      "\n",
      "\n",
      "******** <class 'pyscf.solvent._attach_solvent._for_scf.<locals>.SCFWithSolvent'> ********\n",
      "method = SCFWithSolvent-RHF\n",
      "initial guess = minao\n",
      "damping factor = 0\n",
      "level_shift factor = 0\n",
      "DIIS = <class 'pyscf.scf.diis.CDIIS'>\n",
      "diis_start_cycle = 1\n",
      "diis_space = 8\n",
      "SCF conv_tol = 1e-09\n",
      "SCF conv_tol_grad = None\n",
      "SCF max_cycles = 50\n",
      "direct_scf = True\n",
      "direct_scf_tol = 1e-13\n",
      "chkfile to save SCF result = /media/taamangtchu/MYDATA/Workplace/QisKit/UY1_NE_Qiskit/tmpgg05tc5x\n",
      "max_memory 4000 MB (current use 117 MB)\n",
      "******** <class 'pyscf.solvent.ddcosmo.DDCOSMO'> ********\n",
      "lebedev_order = 17 (110 grids per sphere)\n",
      "lmax = 6\n",
      "eta = 0.1\n",
      "eps = 78.3553\n",
      "frozen = False\n",
      "equilibrium_solvation = False\n",
      "radial grids: \n",
      "    Treutler-Ahlrichs [JCP 102, 346 (1995); DOI:10.1063/1.469408] (M4) radial grids\n",
      "    \n",
      "becke partition: Becke, JCP 88, 2547 (1988); DOI:10.1063/1.454033\n",
      "pruning grids: <function nwchem_prune at 0x7f173cf2f520>\n",
      "grids dens level: 3\n",
      "symmetrized grids: False\n",
      "atomic radii adjust function: <function treutler_atomic_radii_adjust at 0x7f173cf2f400>\n",
      "Set gradient conv threshold to 3.16228e-05\n",
      "tot grids = 62716\n"
     ]
    },
    {
     "name": "stderr",
     "output_type": "stream",
     "text": [
      "Overwritten attributes  get_atomic_radii  of <class 'pyscf.solvent.ddcosmo.DDCOSMO'>\n"
     ]
    },
    {
     "name": "stdout",
     "output_type": "stream",
     "text": [
      "<class 'pyscf.solvent.ddcosmo.DDCOSMO'> E_diel = -0.00267378816469371\n",
      "init E= -112.516370905736\n",
      "  HOMO = -0.239192470639866  LUMO = 0.111002440157271\n",
      "<class 'pyscf.solvent.ddcosmo.DDCOSMO'> E_diel = -0.0249222024865844\n",
      "cycle= 1 E= -112.240733258429  delta_E= 0.276  |g|= 0.621  |ddm|=  2.5\n",
      "  HOMO = -0.210573374958553  LUMO = 0.246659732129141\n",
      "<class 'pyscf.solvent.ddcosmo.DDCOSMO'> E_diel = -0.00134455471302569\n",
      "cycle= 2 E= -112.332478754782  delta_E= -0.0917  |g|= 0.43  |ddm|= 1.13\n",
      "  HOMO = -0.340640721311811  LUMO = 0.252792743372388\n",
      "<class 'pyscf.solvent.ddcosmo.DDCOSMO'> E_diel = -0.00526816185398736\n",
      "cycle= 3 E= -112.374350747759  delta_E= -0.0419  |g|= 0.0497  |ddm|= 0.417\n",
      "  HOMO = -0.356842121834759  LUMO = 0.266096461864213\n",
      "<class 'pyscf.solvent.ddcosmo.DDCOSMO'> E_diel = -0.00467523231693561\n",
      "cycle= 4 E= -112.375937486534  delta_E= -0.00159  |g|= 0.0181  |ddm|= 0.11\n",
      "  HOMO = -0.362387541838033  LUMO = 0.261198469485636\n",
      "<class 'pyscf.solvent.ddcosmo.DDCOSMO'> E_diel = -0.00450131691677839\n",
      "cycle= 5 E= -112.376170850812  delta_E= -0.000233  |g|= 0.00481  |ddm|= 0.0478\n",
      "  HOMO = -0.363594128710121  LUMO = 0.262893290741924\n",
      "<class 'pyscf.solvent.ddcosmo.DDCOSMO'> E_diel = -0.0044751410256564\n",
      "cycle= 6 E= -112.376184822264  delta_E= -1.4e-05  |g|= 0.000517  |ddm|= 0.0137\n",
      "  HOMO = -0.363624636773494  LUMO = 0.262849715559964\n",
      "<class 'pyscf.solvent.ddcosmo.DDCOSMO'> E_diel = -0.00447523013535966\n",
      "cycle= 7 E= -112.376184966247  delta_E= -1.44e-07  |g|= 5.56e-05  |ddm|= 0.00143\n",
      "  HOMO = -0.363593732093151  LUMO = 0.262848314202432\n",
      "<class 'pyscf.solvent.ddcosmo.DDCOSMO'> E_diel = -0.00447538983220266\n",
      "cycle= 8 E= -112.376184967566  delta_E= -1.32e-09  |g|= 5e-06  |ddm|= 0.000132\n",
      "  HOMO = -0.363594698192812  LUMO = 0.262850009435637\n",
      "<class 'pyscf.solvent.ddcosmo.DDCOSMO'> E_diel = -0.00447537601044368\n",
      "cycle= 9 E= -112.376184967578  delta_E= -1.27e-11  |g|= 4.3e-07  |ddm|= 1.6e-05\n",
      "  HOMO = -0.363594523482086  LUMO = 0.262849894811706\n",
      "<class 'pyscf.solvent.ddcosmo.DDCOSMO'> E_diel = -0.00447537682427443\n",
      "Extra cycle  E= -112.376184967578  delta_E= -2.27e-13  |g|= 1.29e-07  |ddm|= 5.78e-07\n",
      "converged SCF energy = -112.376184967578\n",
      "System: uname_result(system='Linux', node='taamangtchu-Aspire-A515-45', release='5.15.0-69-generic', version='#76-Ubuntu SMP Fri Mar 17 17:19:29 UTC 2023', machine='x86_64')  Threads 12\n",
      "Python 3.10.10 | packaged by conda-forge | (main, Mar 24 2023, 20:08:06) [GCC 11.3.0]\n",
      "numpy 1.23.5  scipy 1.10.1\n",
      "Date: Tue Apr  4 10:10:03 2023\n",
      "PySCF version 2.2.0\n",
      "PySCF path  /home/taamangtchu/mambaforge/envs/qiskit-env/lib/python3.10/site-packages/pyscf\n",
      "\n",
      "[CONFIG] conf_file None\n",
      "[INPUT] verbose = 4\n",
      "[INPUT] num. atoms = 4\n",
      "[INPUT] num. electrons = 16\n",
      "[INPUT] charge = 0\n",
      "[INPUT] spin (= nelec alpha-beta = 2S) = 0\n",
      "[INPUT] symmetry False subgroup None\n",
      "[INPUT] Mole.unit = angstrom\n",
      "[INPUT] Symbol           X                Y                Z      unit          X                Y                Z       unit  Magmom\n",
      "[INPUT]  1 C      0.000000000000   0.000000000000  -0.542500000000 AA    0.000000000000   0.000000000000  -1.025176422577 Bohr   0.0\n",
      "[INPUT]  2 O      0.000000000000   0.000000000000   0.677500000000 AA    0.000000000000   0.000000000000   1.280289449393 Bohr   0.0\n",
      "[INPUT]  3 H      0.000000000000   0.935307436087  -1.082500000000 AA    0.000000000000   1.767474896474  -2.045628529842 Bohr   0.0\n",
      "[INPUT]  4 H      0.000000000000  -0.935307436087  -1.082500000000 AA    0.000000000000  -1.767474896474  -2.045628529842 Bohr   0.0\n",
      "\n",
      "nuclear repulsion = 31.2308222222527\n",
      "number of shells = 8\n",
      "number of NR pGTOs = 36\n",
      "number of NR cGTOs = 12\n",
      "basis = sto-3g\n",
      "ecp = {}\n",
      "CPU time:        53.64\n",
      "\n",
      "\n",
      "******** <class 'pyscf.solvent._attach_solvent._for_scf.<locals>.SCFWithSolvent'> ********\n",
      "method = SCFWithSolvent-QMMM-RHF\n",
      "initial guess = minao\n",
      "damping factor = 0\n",
      "level_shift factor = 0\n",
      "DIIS = <class 'pyscf.scf.diis.CDIIS'>\n",
      "diis_start_cycle = 1\n",
      "diis_space = 8\n",
      "SCF conv_tol = 1e-09\n",
      "SCF conv_tol_grad = None\n",
      "SCF max_cycles = 50\n",
      "direct_scf = True\n",
      "direct_scf_tol = 1e-13\n",
      "chkfile to save SCF result = /media/taamangtchu/MYDATA/Workplace/QisKit/UY1_NE_Qiskit/tmpgjd49tmn\n",
      "max_memory 4000 MB (current use 146 MB)\n",
      "** Add background charges for <class 'pyscf.scf.hf.RHF'> **\n",
      "******** <class 'pyscf.solvent.ddcosmo.DDCOSMO'> ********\n",
      "lebedev_order = 17 (110 grids per sphere)\n",
      "lmax = 6\n",
      "eta = 0.1\n",
      "eps = 78.3553\n",
      "frozen = False\n",
      "equilibrium_solvation = False\n",
      "radial grids: \n",
      "    Treutler-Ahlrichs [JCP 102, 346 (1995); DOI:10.1063/1.469408] (M4) radial grids\n",
      "    \n",
      "becke partition: Becke, JCP 88, 2547 (1988); DOI:10.1063/1.454033\n",
      "pruning grids: <function nwchem_prune at 0x7f173cf2f520>\n",
      "grids dens level: 3\n",
      "symmetrized grids: False\n",
      "atomic radii adjust function: <function treutler_atomic_radii_adjust at 0x7f173cf2f400>\n",
      "Set gradient conv threshold to 3.16228e-05\n",
      "tot grids = 62716\n",
      "<class 'pyscf.solvent.ddcosmo.DDCOSMO'> E_diel = -0.00869546229164885\n",
      "init E= -112.51119094761\n",
      "  HOMO = -0.189150251788135  LUMO = 0.16803370975366\n",
      "<class 'pyscf.solvent.ddcosmo.DDCOSMO'> E_diel = -0.0160036518170201\n",
      "cycle= 1 E= -112.218089528401  delta_E= 0.293  |g|= 0.586  |ddm|= 2.47\n",
      "  HOMO = -0.162824796235321  LUMO = 0.305553891044857\n",
      "<class 'pyscf.solvent.ddcosmo.DDCOSMO'> E_diel = -0.000251999510062058\n",
      "cycle= 2 E= -112.314389574408  delta_E= -0.0963  |g|= 0.386  |ddm|= 1.13\n",
      "  HOMO = -0.29779462478082  LUMO = 0.307258922818898\n",
      "<class 'pyscf.solvent.ddcosmo.DDCOSMO'> E_diel = -0.00166948710654287\n",
      "cycle= 3 E= -112.352173220379  delta_E= -0.0378  |g|= 0.0478  |ddm|= 0.407\n",
      "  HOMO = -0.320180066515498  LUMO = 0.316608183435943\n",
      "<class 'pyscf.solvent.ddcosmo.DDCOSMO'> E_diel = -0.00150995393235523\n",
      "cycle= 4 E= -112.353703771668  delta_E= -0.00153  |g|= 0.0151  |ddm|= 0.117\n",
      "  HOMO = -0.323126698168873  LUMO = 0.311399777458321\n",
      "<class 'pyscf.solvent.ddcosmo.DDCOSMO'> E_diel = -0.0014578040571179\n",
      "cycle= 5 E= -112.353878985072  delta_E= -0.000175  |g|= 0.00351  |ddm|= 0.0441\n",
      "  HOMO = -0.324600389785009  LUMO = 0.31329091620657\n",
      "<class 'pyscf.solvent.ddcosmo.DDCOSMO'> E_diel = -0.00145306780127144\n",
      "cycle= 6 E= -112.353886070198  delta_E= -7.09e-06  |g|= 0.000474  |ddm|= 0.00957\n",
      "  HOMO = -0.324721277799087  LUMO = 0.313319043656329\n",
      "<class 'pyscf.solvent.ddcosmo.DDCOSMO'> E_diel = -0.00145279680475428\n",
      "cycle= 7 E= -112.353886187391  delta_E= -1.17e-07  |g|= 4.04e-05  |ddm|= 0.00139\n",
      "  HOMO = -0.324685543093004  LUMO = 0.313320083500297\n",
      "<class 'pyscf.solvent.ddcosmo.DDCOSMO'> E_diel = -0.00145287984939399\n",
      "cycle= 8 E= -112.35388618811  delta_E= -7.19e-10  |g|= 2.41e-06  |ddm|= 8.4e-05\n",
      "  HOMO = -0.32468476436942  LUMO = 0.31332013949049\n",
      "<class 'pyscf.solvent.ddcosmo.DDCOSMO'> E_diel = -0.00145288454245395\n",
      "Extra cycle  E= -112.353886188112  delta_E= -2.07e-12  |g|= 5.67e-07  |ddm|= 3.73e-06\n",
      "converged SCF energy = -112.353886188112\n"
     ]
    },
    {
     "data": {
      "text/plain": [
       "SCFWithSolvent-QMMM-RHF object of <class 'pyscf.solvent._attach_solvent._for_scf.<locals>.SCFWithSolvent'>"
      ]
     },
     "execution_count": 1,
     "metadata": {},
     "output_type": "execute_result"
    }
   ],
   "source": [
    "#!/usr/bin/env python\n",
    "\n",
    "'''\n",
    "Custom solvent cavity\n",
    "'''\n",
    "\n",
    "import numpy\n",
    "from pyscf import gto, qmmm, solvent\n",
    "\n",
    "#\n",
    "# Case 1. Cavity for dummy atoms with basis on the dummy atoms\n",
    "#\n",
    "mol = gto.M(atom='''\n",
    "C        0.000000    0.000000             -0.542500\n",
    "O        0.000000    0.000000              0.677500\n",
    "H        0.000000    0.9353074360871938   -1.082500\n",
    "H        0.000000   -0.9353074360871938   -1.082500\n",
    "X-C      0.000000    0.000000             -1.5\n",
    "X-O      0.000000    0.000000              1.6\n",
    "            ''',\n",
    "            verbose = 4)\n",
    "\n",
    "sol = solvent.ddCOSMO(mol)\n",
    "cavity_radii = sol.get_atomic_radii()\n",
    "\n",
    "cavity_radii[4] = 3.0  # Bohr, for X-C\n",
    "cavity_radii[5] = 2.5  # Bohr, for X-O\n",
    "# Overwrite the get_atom_radii method to feed the custom cavity into the solvent model\n",
    "sol.get_atomic_radii = lambda: cavity_radii\n",
    "\n",
    "mf = mol.RHF().ddCOSMO(sol)\n",
    "mf.run()\n",
    "\n",
    "\n",
    "#\n",
    "# Case 2. Cavity for dummy atoms (without basis)\n",
    "#\n",
    "mol = gto.M(atom='''\n",
    "C        0.000000    0.000000             -0.542500\n",
    "O        0.000000    0.000000              0.677500\n",
    "H        0.000000    0.9353074360871938   -1.082500\n",
    "H        0.000000   -0.9353074360871938   -1.082500\n",
    "            ''',\n",
    "            verbose = 4)\n",
    "\n",
    "# Use a MM molecule to define cavity from dummy atoms.\n",
    "# See also the example 22-with_qmmm.py\n",
    "coords = numpy.array([\n",
    "    [0, 0, -1.5],\n",
    "    [0, 0, 1.6],\n",
    "])\n",
    "charges = numpy.array([0, 0])\n",
    "mm_atoms = [('X', c) for c in coords]\n",
    "mm_mol = qmmm.create_mm_mol(mm_atoms, charges)\n",
    "\n",
    "# Make a giant system include both QM and MM particles\n",
    "qmmm_mol = mol + mm_mol\n",
    "\n",
    "# The solvent model is based on the giant system\n",
    "sol = solvent.ddCOSMO(qmmm_mol)\n",
    "cavity_radii = sol.get_atomic_radii()\n",
    "\n",
    "# Custom cavity\n",
    "cavity_radii[4] = 3.0  # Bohr\n",
    "cavity_radii[5] = 2.5  # Bohr\n",
    "# Overwrite the get_atom_radii method to feed the custom cavity into the solvent model\n",
    "sol.get_atomic_radii = lambda: cavity_radii\n",
    "\n",
    "mf = mol.RHF().QMMM(coords, charges)\n",
    "mf = mf.ddCOSMO(sol)\n",
    "mf.run()"
   ]
  },
  {
   "cell_type": "code",
   "execution_count": 6,
   "metadata": {},
   "outputs": [
    {
     "name": "stdout",
     "output_type": "stream",
     "text": [
      "converged SCF energy = -75.6769190377957\n",
      "6\n",
      "8\n"
     ]
    }
   ],
   "source": [
    "from pyscf import gto, scf, mcscf\n",
    "from pyscf.mcscf import avas\n",
    "\n",
    "mol = gto.M(\n",
    "  atom=\"O 0 0 0.115; H 0 0.754 -0.459; H 0 -0.754 -0.459\",\n",
    "  basis=\"sto6g\",\n",
    ")\n",
    "\n",
    "h_f = scf.RHF(mol).run()\n",
    "# converged SCF energy = -75.6769190377958\n",
    "\n",
    "norb, nel, mo = avas.avas(h_f,['O 2p', 'H 1s','H 1s'])\n",
    "\n",
    "print(norb)\n",
    "print(nel)"
   ]
  },
  {
   "cell_type": "code",
   "execution_count": 2,
   "metadata": {},
   "outputs": [
    {
     "name": "stdout",
     "output_type": "stream",
     "text": [
      "4.0 bohr, HF energy: -15.67344865, CASSCF energy: -15.69352389\n",
      "3.9 bohr, HF energy: -15.66822322, CASSCF energy: -15.68855503\n",
      "3.8 bohr, HF energy: -15.66039293, CASSCF energy: -15.68100150\n",
      "3.7 bohr, HF energy: -15.65057504, CASSCF energy: -15.67148772\n",
      "3.6 bohr, HF energy: -15.63921946, CASSCF energy: -15.66047555\n",
      "3.5 bohr, HF energy: -15.62665280, CASSCF energy: -15.64831118\n",
      "3.4 bohr, HF energy: -15.61310917, CASSCF energy: -15.63526134\n",
      "3.3 bohr, HF energy: -15.59875205, CASSCF energy: -15.62154602\n",
      "3.2 bohr, HF energy: -15.58369007, CASSCF energy: -15.60738029\n",
      "3.1 bohr, HF energy: -15.56798865, CASSCF energy: -15.59306220\n",
      "3.0 bohr, HF energy: -15.55167904, CASSCF energy: -15.57929444\n",
      "2.9 bohr, HF energy: -15.53476574, CASSCF energy: -15.56905970\n",
      "2.8 bohr, HF energy: -15.51723309, CASSCF energy: -15.56916759\n",
      "2.7 bohr, HF energy: -15.49905170, CASSCF energy: -15.57758411\n",
      "2.6 bohr, HF energy: -15.48018517, CASSCF energy: -15.58932085\n",
      "2.5 bohr, HF energy: -15.46059748, CASSCF energy: -15.60218871\n",
      "2.4 bohr, HF energy: -15.44026131, CASSCF energy: -15.61527389\n",
      "2.3 bohr, HF energy: -15.41916765, CASSCF energy: -15.62812247\n",
      "2.2 bohr, HF energy: -15.39733635, CASSCF energy: -15.64047497\n",
      "2.1 bohr, HF energy: -15.37482713, CASSCF energy: -15.65217257\n",
      "2.0 bohr, HF energy: -15.65920706, CASSCF energy: -15.66312101\n",
      "1.9 bohr, HF energy: -15.66932212, CASSCF energy: -15.67327612\n",
      "1.8 bohr, HF energy: -15.67859386, CASSCF energy: -15.68263619\n",
      "1.7 bohr, HF energy: -15.68707053, CASSCF energy: -15.69123457\n",
      "1.6 bohr, HF energy: -15.69482374, CASSCF energy: -15.69913174\n",
      "1.5 bohr, HF energy: -15.70194202, CASSCF energy: -15.70640722\n",
      "1.4 bohr, HF energy: -15.70852358, CASSCF energy: -15.71315175\n",
      "1.3 bohr, HF energy: -15.71466836, CASSCF energy: -15.71945928\n",
      "1.2 bohr, HF energy: -15.72046977, CASSCF energy: -15.72541855\n",
      "1.1 bohr, HF energy: -15.72600606, CASSCF energy: -15.73110441\n",
      "1.0 bohr, HF energy: -15.73133230, CASSCF energy: -15.73656946\n"
     ]
    }
   ],
   "source": [
    "import numpy\n",
    "from pyscf import gto, scf, mcscf\n",
    "\n",
    "'''\n",
    "Scan BeH2 molecule symmetric dissociation curve\n",
    "Note the CI wave function might change symmetry in the scanning.  Adjust\n",
    "fcisolver parameters to maintain the right symmetry.\n",
    "'''\n",
    "\n",
    "def run(i, dm0, mo0, ci0):\n",
    "    x = i\n",
    "    y = (2.54 - 0.46 * x)\n",
    "    x = x * 0.529177249\n",
    "    y = y * 0.529177249\n",
    "    mol = gto.M(\n",
    "        verbose = 0,\n",
    "        atom = [\n",
    "            ['Be',( 0., 0.    , 0.   )],\n",
    "            ['H', ( x, -y    , 0.    )],\n",
    "            ['H', ( x,  y    , 0.    )],],\n",
    "        basis = '6-311G',\n",
    "        symmetry = True)\n",
    "\n",
    "    mf = scf.RHF(mol)\n",
    "    ehf = mf.scf(dm0)\n",
    "\n",
    "    mc = mcscf.CASSCF(mf, 2, 2)\n",
    "    mc.fcisolver.davidson_only = True # force the CI solver stick on (A1)^2(B1)^0 configuration\n",
    "    if mo0 is not None:\n",
    "        mo0 = mcscf.project_init_guess(mc, mo0)\n",
    "\n",
    "    emc = mc.mc1step(mo0, ci0)[0]\n",
    "\n",
    "    print('%2.1f bohr, HF energy: %12.8f, CASSCF energy: %12.8f' % (i, ehf, emc))\n",
    "    return mf, mc\n",
    "\n",
    "dm0 = mo0 = ci = None\n",
    "for i in reversed(numpy.arange(1.0, 4.1, .1)):\n",
    "    mf, mc = run(i, dm0, mo0, ci)\n",
    "    dm0 = mf.make_rdm1()\n",
    "    mo_coeff = mc.mo_coeff\n",
    "    ci = mc.ci"
   ]
  },
  {
   "cell_type": "code",
   "execution_count": 3,
   "metadata": {},
   "outputs": [
    {
     "name": "stderr",
     "output_type": "stream",
     "text": [
      "QSocketNotifier: Can only be used with threads started with QThread\n"
     ]
    }
   ],
   "source": [
    "from pandasgui import show"
   ]
  },
  {
   "cell_type": "code",
   "execution_count": 6,
   "metadata": {},
   "outputs": [
    {
     "data": {
      "text/html": [
       "<div>\n",
       "<style scoped>\n",
       "    .dataframe tbody tr th:only-of-type {\n",
       "        vertical-align: middle;\n",
       "    }\n",
       "\n",
       "    .dataframe tbody tr th {\n",
       "        vertical-align: top;\n",
       "    }\n",
       "\n",
       "    .dataframe thead th {\n",
       "        text-align: right;\n",
       "    }\n",
       "</style>\n",
       "<table border=\"1\" class=\"dataframe\">\n",
       "  <thead>\n",
       "    <tr style=\"text-align: right;\">\n",
       "      <th></th>\n",
       "      <th>mean radius</th>\n",
       "      <th>mean texture</th>\n",
       "      <th>mean perimeter</th>\n",
       "      <th>mean area</th>\n",
       "      <th>mean smoothness</th>\n",
       "      <th>mean compactness</th>\n",
       "      <th>mean concavity</th>\n",
       "      <th>mean concave points</th>\n",
       "      <th>mean symmetry</th>\n",
       "      <th>mean fractal dimension</th>\n",
       "      <th>...</th>\n",
       "      <th>worst texture</th>\n",
       "      <th>worst perimeter</th>\n",
       "      <th>worst area</th>\n",
       "      <th>worst smoothness</th>\n",
       "      <th>worst compactness</th>\n",
       "      <th>worst concavity</th>\n",
       "      <th>worst concave points</th>\n",
       "      <th>worst symmetry</th>\n",
       "      <th>worst fractal dimension</th>\n",
       "      <th>target</th>\n",
       "    </tr>\n",
       "  </thead>\n",
       "  <tbody>\n",
       "    <tr>\n",
       "      <th>0</th>\n",
       "      <td>17.99</td>\n",
       "      <td>10.38</td>\n",
       "      <td>122.80</td>\n",
       "      <td>1001.0</td>\n",
       "      <td>0.11840</td>\n",
       "      <td>0.27760</td>\n",
       "      <td>0.3001</td>\n",
       "      <td>0.14710</td>\n",
       "      <td>0.2419</td>\n",
       "      <td>0.07871</td>\n",
       "      <td>...</td>\n",
       "      <td>17.33</td>\n",
       "      <td>184.60</td>\n",
       "      <td>2019.0</td>\n",
       "      <td>0.1622</td>\n",
       "      <td>0.6656</td>\n",
       "      <td>0.7119</td>\n",
       "      <td>0.2654</td>\n",
       "      <td>0.4601</td>\n",
       "      <td>0.11890</td>\n",
       "      <td>0</td>\n",
       "    </tr>\n",
       "    <tr>\n",
       "      <th>1</th>\n",
       "      <td>20.57</td>\n",
       "      <td>17.77</td>\n",
       "      <td>132.90</td>\n",
       "      <td>1326.0</td>\n",
       "      <td>0.08474</td>\n",
       "      <td>0.07864</td>\n",
       "      <td>0.0869</td>\n",
       "      <td>0.07017</td>\n",
       "      <td>0.1812</td>\n",
       "      <td>0.05667</td>\n",
       "      <td>...</td>\n",
       "      <td>23.41</td>\n",
       "      <td>158.80</td>\n",
       "      <td>1956.0</td>\n",
       "      <td>0.1238</td>\n",
       "      <td>0.1866</td>\n",
       "      <td>0.2416</td>\n",
       "      <td>0.1860</td>\n",
       "      <td>0.2750</td>\n",
       "      <td>0.08902</td>\n",
       "      <td>0</td>\n",
       "    </tr>\n",
       "    <tr>\n",
       "      <th>2</th>\n",
       "      <td>19.69</td>\n",
       "      <td>21.25</td>\n",
       "      <td>130.00</td>\n",
       "      <td>1203.0</td>\n",
       "      <td>0.10960</td>\n",
       "      <td>0.15990</td>\n",
       "      <td>0.1974</td>\n",
       "      <td>0.12790</td>\n",
       "      <td>0.2069</td>\n",
       "      <td>0.05999</td>\n",
       "      <td>...</td>\n",
       "      <td>25.53</td>\n",
       "      <td>152.50</td>\n",
       "      <td>1709.0</td>\n",
       "      <td>0.1444</td>\n",
       "      <td>0.4245</td>\n",
       "      <td>0.4504</td>\n",
       "      <td>0.2430</td>\n",
       "      <td>0.3613</td>\n",
       "      <td>0.08758</td>\n",
       "      <td>0</td>\n",
       "    </tr>\n",
       "    <tr>\n",
       "      <th>3</th>\n",
       "      <td>11.42</td>\n",
       "      <td>20.38</td>\n",
       "      <td>77.58</td>\n",
       "      <td>386.1</td>\n",
       "      <td>0.14250</td>\n",
       "      <td>0.28390</td>\n",
       "      <td>0.2414</td>\n",
       "      <td>0.10520</td>\n",
       "      <td>0.2597</td>\n",
       "      <td>0.09744</td>\n",
       "      <td>...</td>\n",
       "      <td>26.50</td>\n",
       "      <td>98.87</td>\n",
       "      <td>567.7</td>\n",
       "      <td>0.2098</td>\n",
       "      <td>0.8663</td>\n",
       "      <td>0.6869</td>\n",
       "      <td>0.2575</td>\n",
       "      <td>0.6638</td>\n",
       "      <td>0.17300</td>\n",
       "      <td>0</td>\n",
       "    </tr>\n",
       "    <tr>\n",
       "      <th>4</th>\n",
       "      <td>20.29</td>\n",
       "      <td>14.34</td>\n",
       "      <td>135.10</td>\n",
       "      <td>1297.0</td>\n",
       "      <td>0.10030</td>\n",
       "      <td>0.13280</td>\n",
       "      <td>0.1980</td>\n",
       "      <td>0.10430</td>\n",
       "      <td>0.1809</td>\n",
       "      <td>0.05883</td>\n",
       "      <td>...</td>\n",
       "      <td>16.67</td>\n",
       "      <td>152.20</td>\n",
       "      <td>1575.0</td>\n",
       "      <td>0.1374</td>\n",
       "      <td>0.2050</td>\n",
       "      <td>0.4000</td>\n",
       "      <td>0.1625</td>\n",
       "      <td>0.2364</td>\n",
       "      <td>0.07678</td>\n",
       "      <td>0</td>\n",
       "    </tr>\n",
       "  </tbody>\n",
       "</table>\n",
       "<p>5 rows × 31 columns</p>\n",
       "</div>"
      ],
      "text/plain": [
       "   mean radius  mean texture  mean perimeter  mean area  mean smoothness  \\\n",
       "0        17.99         10.38          122.80     1001.0          0.11840   \n",
       "1        20.57         17.77          132.90     1326.0          0.08474   \n",
       "2        19.69         21.25          130.00     1203.0          0.10960   \n",
       "3        11.42         20.38           77.58      386.1          0.14250   \n",
       "4        20.29         14.34          135.10     1297.0          0.10030   \n",
       "\n",
       "   mean compactness  mean concavity  mean concave points  mean symmetry  \\\n",
       "0           0.27760          0.3001              0.14710         0.2419   \n",
       "1           0.07864          0.0869              0.07017         0.1812   \n",
       "2           0.15990          0.1974              0.12790         0.2069   \n",
       "3           0.28390          0.2414              0.10520         0.2597   \n",
       "4           0.13280          0.1980              0.10430         0.1809   \n",
       "\n",
       "   mean fractal dimension  ...  worst texture  worst perimeter  worst area  \\\n",
       "0                 0.07871  ...          17.33           184.60      2019.0   \n",
       "1                 0.05667  ...          23.41           158.80      1956.0   \n",
       "2                 0.05999  ...          25.53           152.50      1709.0   \n",
       "3                 0.09744  ...          26.50            98.87       567.7   \n",
       "4                 0.05883  ...          16.67           152.20      1575.0   \n",
       "\n",
       "   worst smoothness  worst compactness  worst concavity  worst concave points  \\\n",
       "0            0.1622             0.6656           0.7119                0.2654   \n",
       "1            0.1238             0.1866           0.2416                0.1860   \n",
       "2            0.1444             0.4245           0.4504                0.2430   \n",
       "3            0.2098             0.8663           0.6869                0.2575   \n",
       "4            0.1374             0.2050           0.4000                0.1625   \n",
       "\n",
       "   worst symmetry  worst fractal dimension  target  \n",
       "0          0.4601                  0.11890       0  \n",
       "1          0.2750                  0.08902       0  \n",
       "2          0.3613                  0.08758       0  \n",
       "3          0.6638                  0.17300       0  \n",
       "4          0.2364                  0.07678       0  \n",
       "\n",
       "[5 rows x 31 columns]"
      ]
     },
     "execution_count": 6,
     "metadata": {},
     "output_type": "execute_result"
    }
   ],
   "source": [
    "from sklearn.datasets import load_breast_cancer\n",
    "import pandas as pd\n",
    "\n",
    "breast = load_breast_cancer()\n",
    "breast_df = pd.DataFrame(breast.data, columns = breast.feature_names)\n",
    "breast_df['target'] = breast.target\n",
    "breast_df.head()"
   ]
  },
  {
   "cell_type": "code",
   "execution_count": 7,
   "metadata": {},
   "outputs": [
    {
     "name": "stderr",
     "output_type": "stream",
     "text": [
      "PandasGUI INFO — pandasgui.gui — Opening PandasGUI\n",
      "PandasGUI INFO — pandasgui.gui — Opening PandasGUI\n",
      "PandasGUI INFO — pandasgui.gui — Opening PandasGUI\n",
      "qt.qpa.wayland: Wayland does not support QWindow::requestActivate()\n"
     ]
    },
    {
     "data": {
      "text/plain": [
       "<pandasgui.gui.PandasGui at 0x7f470821be20>"
      ]
     },
     "execution_count": 7,
     "metadata": {},
     "output_type": "execute_result"
    }
   ],
   "source": [
    "show(breast_df)"
   ]
  },
  {
   "cell_type": "code",
   "execution_count": null,
   "metadata": {},
   "outputs": [],
   "source": []
  },
  {
   "cell_type": "code",
   "execution_count": 11,
   "metadata": {
    "tags": []
   },
   "outputs": [
    {
     "data": {
      "text/latex": [
       "$$\n",
       "\n",
       "\\begin{bmatrix}\n",
       "\\frac{\\sqrt{2}}{2} & \\frac{\\sqrt{2} i}{2}  \\\\\n",
       " \\frac{\\sqrt{2} i}{2} & \\frac{\\sqrt{2}}{2}  \\\\\n",
       " \\end{bmatrix}\n",
       "$$"
      ],
      "text/plain": [
       "<IPython.core.display.Latex object>"
      ]
     },
     "execution_count": 11,
     "metadata": {},
     "output_type": "execute_result"
    }
   ],
   "source": [
    "BS = (Operator(Pauli('I')) + 1.j*Operator(Pauli('X')))/np.sqrt(2)\n",
    "array_to_latex(BS)"
   ]
  },
  {
   "cell_type": "code",
   "execution_count": 26,
   "metadata": {
    "tags": []
   },
   "outputs": [
    {
     "data": {
      "text/latex": [
       "$$\n",
       "\n",
       "\\begin{bmatrix}\n",
       "\\frac{\\sqrt{2}}{2} & \\frac{\\sqrt{2} i}{2}  \\\\\n",
       " \\frac{\\sqrt{2} i}{2} & \\frac{\\sqrt{2}}{2}  \\\\\n",
       " \\end{bmatrix}\n",
       "$$"
      ],
      "text/plain": [
       "<IPython.core.display.Latex object>"
      ]
     },
     "execution_count": 26,
     "metadata": {},
     "output_type": "execute_result"
    }
   ],
   "source": [
    "BS = (Operator(IGate()) + 1.j*Operator(XGate()))/np.sqrt(2)\n",
    "array_to_latex(BS)"
   ]
  },
  {
   "cell_type": "code",
   "execution_count": 24,
   "metadata": {
    "tags": []
   },
   "outputs": [
    {
     "data": {
      "text/latex": [
       "$$\n",
       "\n",
       "\\begin{bmatrix}\n",
       "1 & 0 & 0 & 0  \\\\\n",
       " 0 & 0 & 0 & 1  \\\\\n",
       " 0 & 0 & 1 & 0  \\\\\n",
       " 0 & 1 & 0 & 0  \\\\\n",
       " \\end{bmatrix}\n",
       "$$"
      ],
      "text/plain": [
       "<IPython.core.display.Latex object>"
      ]
     },
     "execution_count": 24,
     "metadata": {},
     "output_type": "execute_result"
    }
   ],
   "source": [
    "array_to_latex(Operator(CXGate()))"
   ]
  },
  {
   "cell_type": "code",
   "execution_count": 28,
   "metadata": {
    "tags": []
   },
   "outputs": [],
   "source": [
    "BS = UnitaryGate(BS,'BS')\n",
    "PBS = UnitaryGate(BS,'PBS')\n",
    "# array_to_latex(BS)"
   ]
  },
  {
   "cell_type": "code",
   "execution_count": 95,
   "metadata": {},
   "outputs": [],
   "source": [
    "def BK(m):\n",
    "    I = [[1, 0], [0, 1]]\n",
    "    d = {}\n",
    "    d[0] = [1]\n",
    "    for k in range(0, m):\n",
    "        B = np.kron(I,d[k])\n",
    "        for l in range(2**k, 2**(k+1)):\n",
    "            B[0,l] = 1\n",
    "        d[k+1] = B\n",
    "    return d\n"
   ]
  },
  {
   "cell_type": "code",
   "execution_count": 2,
   "metadata": {},
   "outputs": [],
   "source": [
    "from sympy.physics.quantum import *\n",
    "import numpy as np"
   ]
  },
  {
   "cell_type": "code",
   "execution_count": 3,
   "metadata": {},
   "outputs": [
    {
     "data": {
      "text/latex": [
       "$\\displaystyle \\frac{{\\left|0\\right\\rangle } + 2 {\\left|10\\right\\rangle } - 2 {\\left|11\\right\\rangle }}{3}$"
      ],
      "text/plain": [
       "(|0> + 2*|10> - 2*|11>)/3"
      ]
     },
     "execution_count": 3,
     "metadata": {},
     "output_type": "execute_result"
    }
   ],
   "source": [
    "psi = (Ket(00)+2*Ket(10)-2*Ket(11))/3\n",
    "psi"
   ]
  },
  {
   "cell_type": "code",
   "execution_count": 2,
   "metadata": {},
   "outputs": [],
   "source": [
    "from ase import Atoms\n",
    "from ase.build import molecule\n",
    "from ase.visualize import view"
   ]
  },
  {
   "cell_type": "code",
   "execution_count": 2,
   "metadata": {},
   "outputs": [],
   "source": [
    "macro_ASE = Atoms('ONCHHHC', [(1.1280, 0.2091, 0.0000), \n",
    "                          (-1.1878, 0.1791, 0.0000), \n",
    "                          (0.0598, -0.3882, 0.0000),\n",
    "                          (-1.3085, 1.1864, 0.0001),\n",
    "                          (-2.0305, -0.3861, -0.0001),\n",
    "                          (-0.0014, -1.4883, -0.0001),\n",
    "                          (-0.1805, 1.3955, 0.0000)])"
   ]
  },
  {
   "cell_type": "code",
   "execution_count": 3,
   "metadata": {},
   "outputs": [
    {
     "data": {
      "text/html": [
       "<html>\n",
       "\n",
       " <head>\n",
       "\n",
       "  <title>ASE atomic visualization</title>\n",
       "\n",
       "  <link rel=\"stylesheet\" type=\"text/css\"\n",
       "\n",
       "   href=\"https://www.x3dom.org/x3dom/release/x3dom.css\">\n",
       "\n",
       "  </link>\n",
       "\n",
       "  <script type=\"text/javascript\"\n",
       "\n",
       "   src=\"https://www.x3dom.org/x3dom/release/x3dom.js\">\n",
       "\n",
       "  </script>\n",
       "\n",
       " </head>\n",
       "\n",
       " <body>\n",
       "\n",
       "  <X3D>\n",
       "\n",
       "   <Scene>\n",
       "\n",
       "    <Transform translation=\"1.13 0.21 0.00\">\n",
       "\n",
       "     <Shape>\n",
       "\n",
       "      <Appearance>\n",
       "\n",
       "       <Material diffuseColor=\"1.000 0.051 0.051\" specularColor=\"0.5 0.5 0.5\">\n",
       "\n",
       "       </Material>\n",
       "\n",
       "      </Appearance>\n",
       "\n",
       "      <Sphere radius=\"0.66\">\n",
       "\n",
       "      </Sphere>\n",
       "\n",
       "     </Shape>\n",
       "\n",
       "    </Transform>\n",
       "\n",
       "    <Transform translation=\"-1.19 0.18 0.00\">\n",
       "\n",
       "     <Shape>\n",
       "\n",
       "      <Appearance>\n",
       "\n",
       "       <Material diffuseColor=\"0.188 0.314 0.973\" specularColor=\"0.5 0.5 0.5\">\n",
       "\n",
       "       </Material>\n",
       "\n",
       "      </Appearance>\n",
       "\n",
       "      <Sphere radius=\"0.71\">\n",
       "\n",
       "      </Sphere>\n",
       "\n",
       "     </Shape>\n",
       "\n",
       "    </Transform>\n",
       "\n",
       "    <Transform translation=\"0.06 -0.39 0.00\">\n",
       "\n",
       "     <Shape>\n",
       "\n",
       "      <Appearance>\n",
       "\n",
       "       <Material diffuseColor=\"0.565 0.565 0.565\" specularColor=\"0.5 0.5 0.5\">\n",
       "\n",
       "       </Material>\n",
       "\n",
       "      </Appearance>\n",
       "\n",
       "      <Sphere radius=\"0.76\">\n",
       "\n",
       "      </Sphere>\n",
       "\n",
       "     </Shape>\n",
       "\n",
       "    </Transform>\n",
       "\n",
       "    <Transform translation=\"-1.31 1.19 0.00\">\n",
       "\n",
       "     <Shape>\n",
       "\n",
       "      <Appearance>\n",
       "\n",
       "       <Material diffuseColor=\"1.000 1.000 1.000\" specularColor=\"0.5 0.5 0.5\">\n",
       "\n",
       "       </Material>\n",
       "\n",
       "      </Appearance>\n",
       "\n",
       "      <Sphere radius=\"0.31\">\n",
       "\n",
       "      </Sphere>\n",
       "\n",
       "     </Shape>\n",
       "\n",
       "    </Transform>\n",
       "\n",
       "    <Transform translation=\"-2.03 -0.39 -0.00\">\n",
       "\n",
       "     <Shape>\n",
       "\n",
       "      <Appearance>\n",
       "\n",
       "       <Material diffuseColor=\"1.000 1.000 1.000\" specularColor=\"0.5 0.5 0.5\">\n",
       "\n",
       "       </Material>\n",
       "\n",
       "      </Appearance>\n",
       "\n",
       "      <Sphere radius=\"0.31\">\n",
       "\n",
       "      </Sphere>\n",
       "\n",
       "     </Shape>\n",
       "\n",
       "    </Transform>\n",
       "\n",
       "    <Transform translation=\"-0.00 -1.49 -0.00\">\n",
       "\n",
       "     <Shape>\n",
       "\n",
       "      <Appearance>\n",
       "\n",
       "       <Material diffuseColor=\"1.000 1.000 1.000\" specularColor=\"0.5 0.5 0.5\">\n",
       "\n",
       "       </Material>\n",
       "\n",
       "      </Appearance>\n",
       "\n",
       "      <Sphere radius=\"0.31\">\n",
       "\n",
       "      </Sphere>\n",
       "\n",
       "     </Shape>\n",
       "\n",
       "    </Transform>\n",
       "\n",
       "    <Transform translation=\"-0.18 1.40 0.00\">\n",
       "\n",
       "     <Shape>\n",
       "\n",
       "      <Appearance>\n",
       "\n",
       "       <Material diffuseColor=\"0.565 0.565 0.565\" specularColor=\"0.5 0.5 0.5\">\n",
       "\n",
       "       </Material>\n",
       "\n",
       "      </Appearance>\n",
       "\n",
       "      <Sphere radius=\"0.76\">\n",
       "\n",
       "      </Sphere>\n",
       "\n",
       "     </Shape>\n",
       "\n",
       "    </Transform>\n",
       "\n",
       "   </Scene>\n",
       "\n",
       "  </X3D>\n",
       "\n",
       " </body>\n",
       "\n",
       "</html>\n",
       "\n"
      ],
      "text/plain": [
       "<IPython.core.display.HTML object>"
      ]
     },
     "execution_count": 3,
     "metadata": {},
     "output_type": "execute_result"
    }
   ],
   "source": [
    "view(macro_ASE, viewer='x3d')"
   ]
  },
  {
   "cell_type": "code",
   "execution_count": 4,
   "metadata": {},
   "outputs": [
    {
     "data": {
      "text/html": [
       "<html>\n",
       "\n",
       " <head>\n",
       "\n",
       "  <title>ASE atomic visualization</title>\n",
       "\n",
       "  <link rel=\"stylesheet\" type=\"text/css\"\n",
       "\n",
       "   href=\"https://www.x3dom.org/x3dom/release/x3dom.css\">\n",
       "\n",
       "  </link>\n",
       "\n",
       "  <script type=\"text/javascript\"\n",
       "\n",
       "   src=\"https://www.x3dom.org/x3dom/release/x3dom.js\">\n",
       "\n",
       "  </script>\n",
       "\n",
       " </head>\n",
       "\n",
       " <body>\n",
       "\n",
       "  <X3D>\n",
       "\n",
       "   <Scene>\n",
       "\n",
       "    <Transform translation=\"0.00 0.00 0.00\">\n",
       "\n",
       "     <Shape>\n",
       "\n",
       "      <Appearance>\n",
       "\n",
       "       <Material diffuseColor=\"0.800 0.502 1.000\" specularColor=\"0.5 0.5 0.5\">\n",
       "\n",
       "       </Material>\n",
       "\n",
       "      </Appearance>\n",
       "\n",
       "      <Sphere radius=\"1.28\">\n",
       "\n",
       "      </Sphere>\n",
       "\n",
       "     </Shape>\n",
       "\n",
       "    </Transform>\n",
       "\n",
       "    <Transform translation=\"0.00 0.00 1.59\">\n",
       "\n",
       "     <Shape>\n",
       "\n",
       "      <Appearance>\n",
       "\n",
       "       <Material diffuseColor=\"1.000 1.000 1.000\" specularColor=\"0.5 0.5 0.5\">\n",
       "\n",
       "       </Material>\n",
       "\n",
       "      </Appearance>\n",
       "\n",
       "      <Sphere radius=\"0.31\">\n",
       "\n",
       "      </Sphere>\n",
       "\n",
       "     </Shape>\n",
       "\n",
       "    </Transform>\n",
       "\n",
       "   </Scene>\n",
       "\n",
       "  </X3D>\n",
       "\n",
       " </body>\n",
       "\n",
       "</html>\n",
       "\n"
      ],
      "text/plain": [
       "<IPython.core.display.HTML object>"
      ]
     },
     "execution_count": 4,
     "metadata": {},
     "output_type": "execute_result"
    }
   ],
   "source": [
    "LiH_ASE = Atoms('LiH', [(0., 0., 0.), (0., 0., 1.5949)])\n",
    "view(LiH_ASE, viewer='x3d')"
   ]
  },
  {
   "cell_type": "code",
   "execution_count": 2,
   "metadata": {},
   "outputs": [],
   "source": [
    "from qutip import *"
   ]
  },
  {
   "cell_type": "code",
   "execution_count": 3,
   "metadata": {},
   "outputs": [
    {
     "data": {
      "text/latex": [
       "Quantum object: dims = [[2], [1]], shape = (2, 1), type = ket $ \\\\ \\left(\\begin{matrix}1.0\\\\0.0\\\\\\end{matrix}\\right)$"
      ],
      "text/plain": [
       "Quantum object: dims = [[2], [1]], shape = (2, 1), type = ket\n",
       "Qobj data =\n",
       "[[1.]\n",
       " [0.]]"
      ]
     },
     "execution_count": 3,
     "metadata": {},
     "output_type": "execute_result"
    }
   ],
   "source": [
    " basis(2,0)"
   ]
  },
  {
   "cell_type": "code",
   "execution_count": 4,
   "metadata": {},
   "outputs": [
    {
     "data": {
      "text/plain": [
       "(<Figure size 600x600 with 1 Axes>,\n",
       " <Axes: title={'center': 'Wigner function'}, xlabel='$\\\\rm{Re}(\\\\alpha)$', ylabel='$\\\\rm{Im}(\\\\alpha)$'>)"
      ]
     },
     "execution_count": 4,
     "metadata": {},
     "output_type": "execute_result"
    },
    {
     "data": {
      "image/png": "[encoded data removed]",
      "text/plain": [
       "<Figure size 600x600 with 1 Axes>"
      ]
     },
     "metadata": {},
     "output_type": "display_data"
    }
   ],
   "source": [
    "plot_wigner(coherent(25,-2+2j)+coherent(25,2-2j))"
   ]
  },
  {
   "cell_type": "code",
   "execution_count": 8,
   "metadata": {},
   "outputs": [
    {
     "data": {
      "text/latex": [
       "Quantum object: dims = [[4], [1]], shape = (4, 1), type = ket $ \\\\ \\left(\\begin{matrix}0.0\\\\0.0\\\\0.0\\\\0.0\\\\\\end{matrix}\\right)$"
      ],
      "text/plain": [
       "Quantum object: dims = [[4], [1]], shape = (4, 1), type = ket\n",
       "Qobj data =\n",
       "[[0.]\n",
       " [0.]\n",
       " [0.]\n",
       " [0.]]"
      ]
     },
     "execution_count": 8,
     "metadata": {},
     "output_type": "execute_result"
    }
   ],
   "source": [
    "destroy(4)*create(4)*basis(4,3)"
   ]
  },
  {
   "cell_type": "code",
   "execution_count": 11,
   "metadata": {},
   "outputs": [
    {
     "data": {
      "text/latex": [
       "Quantum object: dims = [[4], [1]], shape = (4, 1), type = ket $ \\\\ \\left(\\begin{matrix}0.0\\\\0.0\\\\0.0\\\\4.000\\\\\\end{matrix}\\right)$"
      ],
      "text/plain": [
       "Quantum object: dims = [[4], [1]], shape = (4, 1), type = ket\n",
       "Qobj data =\n",
       "[[0.]\n",
       " [0.]\n",
       " [0.]\n",
       " [4.]]"
      ]
     },
     "execution_count": 11,
     "metadata": {},
     "output_type": "execute_result"
    }
   ],
   "source": [
    "(create(4)*destroy(4)+1)*basis(4,3)"
   ]
  },
  {
   "cell_type": "code",
   "execution_count": 7,
   "metadata": {},
   "outputs": [
    {
     "name": "stdout",
     "output_type": "stream",
     "text": [
      "Defaulting to user installation because normal site-packages is not writeable\n",
      "Collecting jupyter_nbextensions_configurator\n",
      "  Downloading jupyter_nbextensions_configurator-0.6.1.tar.gz (481 kB)\n",
      "\u001b[2K     \u001b[38;2;114;156;31m━━━━━━━━━━━━━━━━━━━━━━━━━━━━━━━━━━━━━━━\u001b[0m \u001b[32m481.7/481.7 KB\u001b[0m \u001b[31m1.1 MB/s\u001b[0m eta \u001b[36m0:00:00\u001b[0m[31m1.0 MB/s\u001b[0m eta \u001b[36m0:00:01\u001b[0m\n",
      "\u001b[?25h  Preparing metadata (setup.py) ... \u001b[?25ldone\n",
      "\u001b[?25hCollecting jupyter_contrib_core>=0.3.3\n",
      "  Downloading jupyter_contrib_core-0.4.2.tar.gz (17 kB)\n",
      "  Preparing metadata (setup.py) ... \u001b[?25ldone\n",
      "\u001b[?25hRequirement already satisfied: jupyter_core in /usr/lib/python3/dist-packages (from jupyter_nbextensions_configurator) (4.9.1)\n",
      "Requirement already satisfied: notebook>=6.0 in /usr/lib/python3/dist-packages (from jupyter_nbextensions_configurator) (6.4.8)\n",
      "Requirement already satisfied: pyyaml in /usr/lib/python3/dist-packages (from jupyter_nbextensions_configurator) (5.4.1)\n",
      "Requirement already satisfied: tornado in /usr/lib/python3/dist-packages (from jupyter_nbextensions_configurator) (6.1)\n",
      "Requirement already satisfied: traitlets in /usr/lib/python3/dist-packages (from jupyter_nbextensions_configurator) (5.1.1)\n",
      "Requirement already satisfied: setuptools in /usr/lib/python3/dist-packages (from jupyter_contrib_core>=0.3.3->jupyter_nbextensions_configurator) (59.6.0)\n",
      "Building wheels for collected packages: jupyter_nbextensions_configurator, jupyter_contrib_core\n",
      "  Building wheel for jupyter_nbextensions_configurator (setup.py) ... \u001b[?25ldone\n",
      "\u001b[?25h  Created wheel for jupyter_nbextensions_configurator: filename=jupyter_nbextensions_configurator-0.6.1-py2.py3-none-any.whl size=466844 sha256=24b9d654f22c3e0a1770767beb89e66d4a94d505e1caa1643ccb1db048e193d5\n",
      "  Stored in directory: /home/taamangtchu/.cache/pip/wheels/f4/43/08/c89449c8e689d852e2e30163ca6a8dd08fe76ea80ec8f5eece\n",
      "  Building wheel for jupyter_contrib_core (setup.py) ... \u001b[?25ldone\n",
      "\u001b[?25h  Created wheel for jupyter_contrib_core: filename=jupyter_contrib_core-0.4.2-py2.py3-none-any.whl size=17492 sha256=7b3f51e2fd28093e237560783af416397d180347a830e059ccf0de8c85c1ede1\n",
      "  Stored in directory: /home/taamangtchu/.cache/pip/wheels/a9/52/88/e0643cdfd68f0562087918c37dd583378648dbc3df68b907f7\n",
      "Successfully built jupyter_nbextensions_configurator jupyter_contrib_core\n",
      "Installing collected packages: jupyter_contrib_core, jupyter_nbextensions_configurator\n",
      "\u001b[33m  WARNING: The script jupyter-contrib is installed in '/home/taamangtchu/.local/bin' which is not on PATH.\n",
      "  Consider adding this directory to PATH or, if you prefer to suppress this warning, use --no-warn-script-location.\u001b[0m\u001b[33m\n",
      "\u001b[0m\u001b[33m  WARNING: The script jupyter-nbextensions_configurator is installed in '/home/taamangtchu/.local/bin' which is not on PATH.\n",
      "  Consider adding this directory to PATH or, if you prefer to suppress this warning, use --no-warn-script-location.\u001b[0m\u001b[33m\n",
      "\u001b[0mSuccessfully installed jupyter_contrib_core-0.4.2 jupyter_nbextensions_configurator-0.6.1\n"
     ]
    }
   ],
   "source": [
    "! pip install jupyter_nbextensions_configurator"
   ]
  },
  {
   "cell_type": "code",
   "execution_count": 8,
   "metadata": {},
   "outputs": [
    {
     "name": "stdout",
     "output_type": "stream",
     "text": [
      "Enabling: jupyter_nbextensions_configurator\r\n",
      "- Writing config: /home/taamangtchu/.jupyter\r\n",
      "    - Validating...\r\n",
      "      jupyter_nbextensions_configurator 0.6.1 \u001b[32mOK\u001b[0m\r\n",
      "Enabling notebook nbextension nbextensions_configurator/config_menu/main...\r\n",
      "Enabling tree nbextension nbextensions_configurator/tree_tab/main...\r\n"
     ]
    }
   ],
   "source": [
    "! jupyter nbextensions_configurator enable --user"
   ]
  }
 ],
 "metadata": {
  "kernelspec": {
   "display_name": "qiskit-env",
   "language": "python",
   "name": "qiskit-env"
  },
  "language_info": {
   "codemirror_mode": {
    "name": "ipython",
    "version": 3
   },
   "file_extension": ".py",
   "mimetype": "text/x-python",
   "name": "python",
   "nbconvert_exporter": "python",
   "pygments_lexer": "ipython3",
   "version": "3.10.10"
  }
 },
 "nbformat": 4,
 "nbformat_minor": 4
}
