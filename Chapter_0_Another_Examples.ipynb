{
 "cells": [
  {
   "cell_type": "markdown",
   "id": "fcf52625-918f-4c32-aa81-543805335bee",
   "metadata": {},
   "source": [
    "# Chapter 0 - Another Examples "
   ]
  },
  {
   "cell_type": "markdown",
   "id": "d36b971b-1b26-4d8a-8ad5-cba9aef3d42c",
   "metadata": {},
   "source": [
    "## Addition de vecteurs"
   ]
  },
  {
   "cell_type": "code",
   "execution_count": null,
   "id": "d135b7e0-a3c3-4faf-a8af-d9f7a10e1bd0",
   "metadata": {},
   "outputs": [],
   "source": [
    "from sympy import Matrix\n",
    "\n",
    "# Définition des vecteurs\n",
    "v1 = Matrix([1, 2, 3])\n",
    "v2 = Matrix([4, 5, 6])\n",
    "\n",
    "# Addition des vecteurs\n",
    "result = v1 + v2\n",
    "\n",
    "# Affichage du résultat\n",
    "print(\"Résultat de l'addition des vecteurs :\", result)"
   ]
  },
  {
   "cell_type": "markdown",
   "id": "ad71121f-fbe6-48ce-a7b6-e4f49de5b866",
   "metadata": {},
   "source": [
    "## Multiplication de matrices"
   ]
  },
  {
   "cell_type": "code",
   "execution_count": null,
   "id": "fe636c89-b86e-4f69-9685-756f519ec348",
   "metadata": {},
   "outputs": [],
   "source": [
    "from sympy import Matrix\n",
    "\n",
    "# Définition des matrices\n",
    "A = Matrix([[1, 2], [3, 4]])\n",
    "B = Matrix([[5, 6], [7, 8]])\n",
    "\n",
    "# Multiplication des matrices\n",
    "result = A * B\n",
    "\n",
    "# Affichage du résultat\n",
    "print(\"Résultat de la multiplication des matrices :\", result)"
   ]
  },
  {
   "cell_type": "markdown",
   "id": "47b35c69-15d9-484e-a015-f617ccc511e7",
   "metadata": {},
   "source": [
    "## Diagonalisation d'une matrice"
   ]
  },
  {
   "cell_type": "code",
   "execution_count": null,
   "id": "31fbc183-89e2-44f6-8b80-3782b49b10e7",
   "metadata": {},
   "outputs": [],
   "source": [
    "from sympy import Matrix, diag, symbols\n",
    "\n",
    "# Définition de la matrice\n",
    "A = Matrix([[3, 1], [1, 2]])\n",
    "\n",
    "# Diagonalisation de la matrice\n",
    "P, D = A.diagonalize()\n",
    "\n",
    "# Affichage des matrices de diagonalisation\n",
    "print(\"Matrice P :\", P)\n",
    "print(\"Matrice D :\", D)"
   ]
  },
  {
   "cell_type": "markdown",
   "id": "7274ed05-5d04-45ce-a3ab-5e7caaa1b627",
   "metadata": {},
   "source": [
    "## Calcul des valeurs propres et des vecteurs propres"
   ]
  },
  {
   "cell_type": "code",
   "execution_count": null,
   "id": "3c77ee16-332d-4e1f-af2a-f5a810b613c9",
   "metadata": {},
   "outputs": [],
   "source": [
    "from sympy import Matrix, symbols\n",
    "\n",
    "# Définition de la matrice\n",
    "A = Matrix([[2, 1], [1, 3]])\n",
    "\n",
    "# Calcul des valeurs propres et des vecteurs propres\n",
    "lmbda = symbols('lmbda')\n",
    "eigenvals = A.eigenvals()\n",
    "eigenvects = A.eigenvects()\n",
    "\n",
    "# Affichage des résultats\n",
    "print(\"Valeurs propres :\", eigenvals)\n",
    "print(\"Vecteurs propres :\", eigenvects)"
   ]
  },
  {
   "cell_type": "code",
   "execution_count": null,
   "id": "eabd20df-0612-4309-afc6-d6d7d2aa05d9",
   "metadata": {},
   "outputs": [],
   "source": []
  }
 ],
 "metadata": {
  "kernelspec": {
   "display_name": "Python [conda env:qiskit-env]",
   "language": "python",
   "name": "conda-env-qiskit-env-py"
  },
  "language_info": {
   "codemirror_mode": {
    "name": "ipython",
    "version": 3
   },
   "file_extension": ".py",
   "mimetype": "text/x-python",
   "name": "python",
   "nbconvert_exporter": "python",
   "pygments_lexer": "ipython3",
   "version": "3.10.12"
  }
 },
 "nbformat": 4,
 "nbformat_minor": 5
}
