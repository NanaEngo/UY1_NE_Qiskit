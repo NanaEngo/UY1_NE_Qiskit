{
 "cells": [
  {
   "cell_type": "markdown",
   "id": "b4bae3a2-2fee-4812-9e19-a75a0e2725b8",
   "metadata": {},
   "source": [
    "UE: PHY_3268_evaluation sommative\n",
    "\n",
    "Noms et prenoms:NIMPAH MITTERAND\n",
    "\n",
    "Matricule:13K2208\n",
    "\n",
    "Email:mitterand.nimpah@facsciences_uy1.com\n",
    "\n",
    "Department of Physics - Faculty of Science - University of Yaoundé I\n",
    "\n",
    "Nom du Laboratoire: PHYSIQUE ATOMIQUE ET BIOPHYSIQUE\n",
    "\n",
    "Date: 10 JUILLET 2023\n",
    "\n"
   ]
  },
  {
   "cell_type": "code",
   "execution_count": 18,
   "id": "56761075-3131-4665-80e5-6c9528e42a47",
   "metadata": {},
   "outputs": [
    {
     "data": {
      "text/html": [
       "<h3>Version Information</h3><table><tr><th>Qiskit Software</th><th>Version</th></tr><tr><td><code>qiskit-terra</code></td><td>0.24.1</td></tr><tr><td><code>qiskit-aer</code></td><td>0.12.1</td></tr><tr><td><code>qiskit-ibmq-provider</code></td><td>0.20.2</td></tr><tr><td><code>qiskit</code></td><td>0.43.2</td></tr><tr><td><code>qiskit-nature</code></td><td>0.6.0</td></tr><tr><td><code>qiskit-machine-learning</code></td><td>0.5.0</td></tr><tr><th>System information</th></tr><tr><td>Python version</td><td>3.10.9</td></tr><tr><td>Python compiler</td><td>GCC 11.2.0</td></tr><tr><td>Python build</td><td>main, Jan 11 2023 15:21:40</td></tr><tr><td>OS</td><td>Linux</td></tr><tr><td>CPUs</td><td>2</td></tr><tr><td>Memory (Gb)</td><td>2.8747711181640625</td></tr><tr><td colspan='2'>Mon Jul 10 14:41:14 2023 CEST</td></tr></table>"
      ],
      "text/plain": [
       "<IPython.core.display.HTML object>"
      ]
     },
     "metadata": {},
     "output_type": "display_data"
    }
   ],
   "source": [
    "import qiskit.tools.jupyter\n",
    "%qiskit_version_table"
   ]
  },
  {
   "cell_type": "code",
   "execution_count": 19,
   "id": "6b432ad8-294a-46d9-a821-676f01be8a2c",
   "metadata": {},
   "outputs": [
    {
     "name": "stdout",
     "output_type": "stream",
     "text": [
      "2023.03.2\n",
      "2.2.1\n"
     ]
    }
   ],
   "source": [
    "import rdkit\n",
    "import pyscf\n",
    "print(rdkit.__version__)\n",
    "print(pyscf.__version__)"
   ]
  },
  {
   "cell_type": "markdown",
   "id": "0c3e6066-4d01-43b1-8c35-1b7ae8aadc7c",
   "metadata": {},
   "source": [
    "7. Le Hamiltonien 2-qubits de cette molécule est\n",
    "\\begin{equation*} \\mathtt{H} = h_1(\\mathtt{I}\\otimes\\mathtt{I}) + h_2(\\mathtt{Z}\\otimes\\mathtt{I} - \\mathtt{I}\\otimes\\mathtt{Z}) + h_3(\\mathtt{Z}\\otimes\\mathtt{Z}) + h_4(\\mathtt{x}\\otimes\\mathtt{X}) + h_5(\\mathtt{X}\\otimes\\mathtt{I} + \\mathtt{I}\\otimes\\mathtt{X}) + h_6(\\mathtt{X}\\otimes\\mathtt{Z} - \\mathtt{Z}\\otimes\\mathtt{X}),\n",
    "\\end{equation*}\n",
    "où les coefficients \n",
    "\\begin{align*}\n",
    "&h_1 = -0.46959492273396025,&&h_2 = -0.12480163590374627,\\\\\n",
    "&h_3 = -0.026903253444563915,&&  h_4 = 0.004924575935052124,\\\\\n",
    "&h_5 = -4.6840929608197336e-06,&& h_6 = - 4.683976972721447e-06.\n",
    "\\end{align*}\n",
    "Utiliser, pour calculer l'état fondamental de la molécule 4CzIPN,\n",
    "* `qiskit.opflow.operator_globals` et \n",
    "* `qiskit.algorithms.minimum_eigensolvers.NumPyMinimumEigensolver`.\n",
    "\n",
    "**Noter dans votre cahier de composition, la valeur propre et le vecteur propre de l'Hamiltonien**."
   ]
  },
  {
   "cell_type": "code",
   "execution_count": 20,
   "id": "79e99a46-461e-4812-a461-ad130e9488b3",
   "metadata": {
    "tags": []
   },
   "outputs": [],
   "source": [
    "from qiskit.opflow.operator_globals import I, X, Y, Z\n",
    "from qiskit.algorithms import NumPyMinimumEigensolver"
   ]
  },
  {
   "cell_type": "code",
   "execution_count": 21,
   "id": "1bf0118e-8212-4483-af6d-9be21fcc51c0",
   "metadata": {},
   "outputs": [
    {
     "name": "stdout",
     "output_type": "stream",
     "text": [
      "II\n"
     ]
    }
   ],
   "source": [
    "a=I^I\n",
    "print(a)"
   ]
  },
  {
   "cell_type": "code",
   "execution_count": 22,
   "id": "07b6d05a-9525-49b7-9b9a-333c46a0e5c8",
   "metadata": {},
   "outputs": [
    {
     "name": "stdout",
     "output_type": "stream",
     "text": [
      "1.0 * ZI\n",
      "- 1.0 * IZ\n"
     ]
    }
   ],
   "source": [
    "b=((Z^I)-(I^Z))\n",
    "print(b)"
   ]
  },
  {
   "cell_type": "code",
   "execution_count": 23,
   "id": "04cee9a7-1a9c-430f-b37e-8e7ee1b51749",
   "metadata": {
    "tags": []
   },
   "outputs": [
    {
     "name": "stdout",
     "output_type": "stream",
     "text": [
      "ZZ\n"
     ]
    }
   ],
   "source": [
    "c=(Z^Z)\n",
    "print(c)"
   ]
  },
  {
   "cell_type": "code",
   "execution_count": 24,
   "id": "3726a8d3-522e-4e6f-ae06-4b3241008fe8",
   "metadata": {},
   "outputs": [
    {
     "name": "stdout",
     "output_type": "stream",
     "text": [
      "XX\n"
     ]
    }
   ],
   "source": [
    "d=X^X\n",
    "print(d)"
   ]
  },
  {
   "cell_type": "code",
   "execution_count": 25,
   "id": "d9f97adb-c875-467f-86d4-2daf2ace571d",
   "metadata": {
    "tags": []
   },
   "outputs": [
    {
     "name": "stdout",
     "output_type": "stream",
     "text": [
      "1.0 * XI\n",
      "+ 1.0 * IX\n"
     ]
    }
   ],
   "source": [
    "E=(X^I)+(I^X)\n",
    "print(E)"
   ]
  },
  {
   "cell_type": "code",
   "execution_count": 26,
   "id": "4e9da550-0321-4be1-a798-1316416c0f27",
   "metadata": {},
   "outputs": [
    {
     "name": "stdout",
     "output_type": "stream",
     "text": [
      "1.0 * XZ\n",
      "- 1.0 * ZX\n"
     ]
    }
   ],
   "source": [
    "F=(X^Z)-(Z^X)\n",
    "print(F)"
   ]
  },
  {
   "cell_type": "code",
   "execution_count": 27,
   "id": "c2d0f591-1bad-48b2-ad05-4bff30cca90b",
   "metadata": {
    "tags": []
   },
   "outputs": [
    {
     "name": "stdout",
     "output_type": "stream",
     "text": [
      "-0.46959492273396025 * II\n",
      "- 0.12480163590374627 * ZI\n",
      "+ 0.12480163590374627 * IZ\n",
      "- 0.026903253444563915 * ZZ\n",
      "+ 0.004924575935052124 * XX\n",
      "- 4.6840929608197336e-06 * XI\n",
      "- 4.6840929608197336e-06 * IX\n",
      "- 4.683976972721447e-06 * XZ\n",
      "+ 4.683976972721447e-06 * ZX\n"
     ]
    }
   ],
   "source": [
    "H = (-0.46959492273396025*a) - 0.12480163590374627*b -0.026903253444563915*c+(0.004924575935052124*d)+(-4.6840929608197336e-06)*E+(- 4.683976972721447e-06)*F\n",
    "print(H)"
   ]
  },
  {
   "cell_type": "code",
   "execution_count": 28,
   "id": "cd4a93b3-5db4-43ab-8887-8648d9853e69",
   "metadata": {},
   "outputs": [
    {
     "name": "stdout",
     "output_type": "stream",
     "text": [
      "The exact ground state energy is: -0.6923435163588447\n"
     ]
    },
    {
     "name": "stderr",
     "output_type": "stream",
     "text": [
      "/tmp/ipykernel_3682/1463833043.py:1: DeprecationWarning: The class ``qiskit.algorithms.minimum_eigen_solvers.numpy_minimum_eigen_solver.NumPyMinimumEigensolver`` is deprecated as of qiskit-terra 0.24.0. It will be removed no earlier than 3 months after the release date. Instead, use the class ``qiskit.algorithms.minimum_eigensolvers.NumPyMinimumEigensolver``. See https://qisk.it/algo_migration for a migration guide.\n",
      "  exact_result = NumPyMinimumEigensolver().compute_minimum_eigenvalue(H)\n"
     ]
    }
   ],
   "source": [
    "exact_result = NumPyMinimumEigensolver().compute_minimum_eigenvalue(H)\n",
    "print(f'The exact ground state energy is: {exact_result.eigenvalue}')"
   ]
  },
  {
   "cell_type": "markdown",
   "id": "326dbf7f-1a80-4f1b-baf8-06d116acc5a9",
   "metadata": {},
   "source": [
    "Le **2,5,8,11-tétrakis(4-(9H-carbazol-9-yl)phényle)-6,7-diisopropylnéryl-1,4,5,8,9,11-hexaazatriphénylène** ou 4CzIPN, est repertorié dans la base de donnée PubChem comme le composé 102198498.\n",
    "\n",
    "Cette molécule présente des propriétés intéressantes pour les applications OLED en raison de sa haute efficacité lumineuse, de sa longue durée de vie et de sa stabilité thermique. Elle a été largement utilisée dans les écrans OLED pour les téléviseurs, les smartphones et les ordinateurs portables en raison de ses performances optimales et de sa faible consommation d'énergie.\n",
    "\n",
    "1. A partir de site de [pubchem](https://pubchem.ncbi.nlm.nih.gov/compound/102198498), donner, **dans votre cahier de composition**, sa formule moléculaire et son poids moléculaire."
   ]
  },
  {
   "cell_type": "markdown",
   "id": "7df0765c-bb3c-4439-9fc3-55816b106137",
   "metadata": {},
   "source": [
    "2. Utiliser `rdkit.Chem.MolFromSmiles` et `rdkit.Chem.AllChem` pour représenter en 2D, y compris explicitement les atomes d'hydrogènes, la molécule 4CzIPN à partir de son SMILES isomérique, disponible sur [pubchem](https://pubchem.ncbi.nlm.nih.gov/compound/102198498)"
   ]
  },
  {
   "cell_type": "code",
   "execution_count": 29,
   "id": "c412fd30-4587-4e3d-a0f6-a567ec68c13d",
   "metadata": {},
   "outputs": [],
   "source": [
    "from rdkit import Chem,DataStructs\n",
    "from rdkit.Chem import AllChem,QED, PandasTools, Descriptors"
   ]
  },
  {
   "cell_type": "code",
   "execution_count": 30,
   "id": "e633740e-3fbc-4fa5-bc19-5a8677d652f4",
   "metadata": {},
   "outputs": [
    {
     "ename": "FileNotFoundError",
     "evalue": "[Errno 2] No such file or directory: '/home/nimpah/Documents/UY1_NE_Qiskitv230418/UY1_NE_Qiskit/./Dataset/4CzIPN.txt'",
     "output_type": "error",
     "traceback": [
      "\u001b[0;31m---------------------------------------------------------------------------\u001b[0m",
      "\u001b[0;31mFileNotFoundError\u001b[0m                         Traceback (most recent call last)",
      "Cell \u001b[0;32mIn[30], line 7\u001b[0m\n\u001b[1;32m      5\u001b[0m PATH \u001b[38;5;241m=\u001b[39m os\u001b[38;5;241m.\u001b[39mgetcwd()\n\u001b[1;32m      6\u001b[0m data_path \u001b[38;5;241m=\u001b[39m os\u001b[38;5;241m.\u001b[39mpath\u001b[38;5;241m.\u001b[39mjoin(PATH, \u001b[38;5;124m'\u001b[39m\u001b[38;5;124m./Dataset/4CzIPN.txt\u001b[39m\u001b[38;5;124m'\u001b[39m)\n\u001b[0;32m----> 7\u001b[0m \u001b[38;5;28;01mwith\u001b[39;00m \u001b[38;5;28;43mopen\u001b[39;49m\u001b[43m(\u001b[49m\u001b[43mdata_path\u001b[49m\u001b[43m,\u001b[49m\u001b[43m \u001b[49m\u001b[38;5;124;43m'\u001b[39;49m\u001b[38;5;124;43mr\u001b[39;49m\u001b[38;5;124;43m'\u001b[39;49m\u001b[43m)\u001b[49m \u001b[38;5;28;01mas\u001b[39;00m f:\n\u001b[1;32m      8\u001b[0m     content \u001b[38;5;241m=\u001b[39m f\u001b[38;5;241m.\u001b[39mreadlines()\n\u001b[1;32m      9\u001b[0m     smile \u001b[38;5;241m=\u001b[39m [smi\u001b[38;5;241m.\u001b[39msplit()[\u001b[38;5;241m0\u001b[39m] \u001b[38;5;28;01mfor\u001b[39;00m smi \u001b[38;5;129;01min\u001b[39;00m content]\n",
      "File \u001b[0;32m~/miniconda3/lib/python3.10/site-packages/IPython/core/interactiveshell.py:282\u001b[0m, in \u001b[0;36m_modified_open\u001b[0;34m(file, *args, **kwargs)\u001b[0m\n\u001b[1;32m    275\u001b[0m \u001b[38;5;28;01mif\u001b[39;00m file \u001b[38;5;129;01min\u001b[39;00m {\u001b[38;5;241m0\u001b[39m, \u001b[38;5;241m1\u001b[39m, \u001b[38;5;241m2\u001b[39m}:\n\u001b[1;32m    276\u001b[0m     \u001b[38;5;28;01mraise\u001b[39;00m \u001b[38;5;167;01mValueError\u001b[39;00m(\n\u001b[1;32m    277\u001b[0m         \u001b[38;5;124mf\u001b[39m\u001b[38;5;124m\"\u001b[39m\u001b[38;5;124mIPython won\u001b[39m\u001b[38;5;124m'\u001b[39m\u001b[38;5;124mt let you open fd=\u001b[39m\u001b[38;5;132;01m{\u001b[39;00mfile\u001b[38;5;132;01m}\u001b[39;00m\u001b[38;5;124m by default \u001b[39m\u001b[38;5;124m\"\u001b[39m\n\u001b[1;32m    278\u001b[0m         \u001b[38;5;124m\"\u001b[39m\u001b[38;5;124mas it is likely to crash IPython. If you know what you are doing, \u001b[39m\u001b[38;5;124m\"\u001b[39m\n\u001b[1;32m    279\u001b[0m         \u001b[38;5;124m\"\u001b[39m\u001b[38;5;124myou can use builtins\u001b[39m\u001b[38;5;124m'\u001b[39m\u001b[38;5;124m open.\u001b[39m\u001b[38;5;124m\"\u001b[39m\n\u001b[1;32m    280\u001b[0m     )\n\u001b[0;32m--> 282\u001b[0m \u001b[38;5;28;01mreturn\u001b[39;00m \u001b[43mio_open\u001b[49m\u001b[43m(\u001b[49m\u001b[43mfile\u001b[49m\u001b[43m,\u001b[49m\u001b[43m \u001b[49m\u001b[38;5;241;43m*\u001b[39;49m\u001b[43margs\u001b[49m\u001b[43m,\u001b[49m\u001b[43m \u001b[49m\u001b[38;5;241;43m*\u001b[39;49m\u001b[38;5;241;43m*\u001b[39;49m\u001b[43mkwargs\u001b[49m\u001b[43m)\u001b[49m\n",
      "\u001b[0;31mFileNotFoundError\u001b[0m: [Errno 2] No such file or directory: '/home/nimpah/Documents/UY1_NE_Qiskitv230418/UY1_NE_Qiskit/./Dataset/4CzIPN.txt'"
     ]
    }
   ],
   "source": [
    "import numpy as np\n",
    "import matplotlib.pyplot as plt\n",
    "import pandas as pd \n",
    "import os\n",
    "PATH = os.getcwd()\n",
    "data_path = os.path.join(PATH, './Dataset/4CzIPN.txt')\n",
    "with open(data_path, 'r') as f:\n",
    "    content = f.readlines()\n",
    "    smile = [smi.split()[0] for smi in content]\n",
    "    "
   ]
  },
  {
   "cell_type": "code",
   "execution_count": null,
   "id": "169bbd6c-3b0c-4855-b9f3-579a6275208b",
   "metadata": {},
   "outputs": [],
   "source": [
    "PandasTools.AddMoleculeColumnToFrame(df, smilesCol='4CzIPN_Smiles', molCol='molecule') \n",
    "df"
   ]
  },
  {
   "cell_type": "code",
   "execution_count": 31,
   "id": "0a2ace50-0637-435c-8991-b9328608b974",
   "metadata": {},
   "outputs": [
    {
     "ename": "NameError",
     "evalue": "name 'smile' is not defined",
     "output_type": "error",
     "traceback": [
      "\u001b[0;31m---------------------------------------------------------------------------\u001b[0m",
      "\u001b[0;31mNameError\u001b[0m                                 Traceback (most recent call last)",
      "Cell \u001b[0;32mIn[31], line 1\u001b[0m\n\u001b[0;32m----> 1\u001b[0m df \u001b[38;5;241m=\u001b[39m pd\u001b[38;5;241m.\u001b[39mDataFrame(data\u001b[38;5;241m=\u001b[39m\u001b[43msmile\u001b[49m, columns\u001b[38;5;241m=\u001b[39m[\u001b[38;5;124m'\u001b[39m\u001b[38;5;124m4CzIPN_Smiles\u001b[39m\u001b[38;5;124m'\u001b[39m])\n\u001b[1;32m      2\u001b[0m df\n",
      "\u001b[0;31mNameError\u001b[0m: name 'smile' is not defined"
     ]
    }
   ],
   "source": [
    "df = pd.DataFrame(data=smile, columns=['4CzIPN_Smiles'])\n",
    "df"
   ]
  },
  {
   "cell_type": "markdown",
   "id": "0e2435ef-1bee-48e5-b2d5-10fd6bc338a5",
   "metadata": {},
   "source": [
    "3 Utiliser rdkit.Chem.Descriptors pour évaluer les propriétés physico-chimique suivantes de la molécule 4CzIPN : le poids moléculaire; poids moléculaire moyen de la molécule en ignorant les hydrogènes; logP ou solubilité, TPSA ou la polarité, nombre de liaisons donneurs d'hydrogènes et nombre de liaisons accepteurs d'hydrogènes. Utiliser pandaspour présenter les résulats sous forme de tableau. Noter les valeurs obtenues dans votre cahier de compositio"
   ]
  },
  {
   "cell_type": "code",
   "execution_count": 32,
   "id": "2e9c6f89-93c3-46ca-9a1e-ed2482b54f04",
   "metadata": {},
   "outputs": [
    {
     "ename": "SyntaxError",
     "evalue": "invalid syntax (704140449.py, line 1)",
     "output_type": "error",
     "traceback": [
      "\u001b[0;36m  Cell \u001b[0;32mIn[32], line 1\u001b[0;36m\u001b[0m\n\u001b[0;31m    ef calculate_descriptors(mol):\u001b[0m\n\u001b[0m       ^\u001b[0m\n\u001b[0;31mSyntaxError\u001b[0m\u001b[0;31m:\u001b[0m invalid syntax\n"
     ]
    }
   ],
   "source": [
    "ef calculate_descriptors(mol):\n",
    "    psa = Descriptors.TPSA(mol)\n",
    "    return  psa"
   ]
  },
  {
   "cell_type": "code",
   "execution_count": 33,
   "id": "0548d075-9a1e-4e67-9703-0330f892549f",
   "metadata": {},
   "outputs": [
    {
     "ename": "NameError",
     "evalue": "name 'df' is not defined",
     "output_type": "error",
     "traceback": [
      "\u001b[0;31m---------------------------------------------------------------------------\u001b[0m",
      "\u001b[0;31mNameError\u001b[0m                                 Traceback (most recent call last)",
      "Cell \u001b[0;32mIn[33], line 1\u001b[0m\n\u001b[0;32m----> 1\u001b[0m molecule \u001b[38;5;241m=\u001b[39m \u001b[43mdf\u001b[49m\u001b[38;5;241m.\u001b[39miloc[:, \u001b[38;5;241m1\u001b[39m]\n",
      "\u001b[0;31mNameError\u001b[0m: name 'df' is not defined"
     ]
    }
   ],
   "source": [
    "molecule = df.iloc[:, 1]"
   ]
  },
  {
   "cell_type": "code",
   "execution_count": 34,
   "id": "8c423903-9be7-496b-9bee-5e67c1ddd5e5",
   "metadata": {},
   "outputs": [
    {
     "ename": "NameError",
     "evalue": "name 'molecule' is not defined",
     "output_type": "error",
     "traceback": [
      "\u001b[0;31m---------------------------------------------------------------------------\u001b[0m",
      "\u001b[0;31mNameError\u001b[0m                                 Traceback (most recent call last)",
      "Cell \u001b[0;32mIn[34], line 1\u001b[0m\n\u001b[0;32m----> 1\u001b[0m descriptors \u001b[38;5;241m=\u001b[39m [calculate_descriptors(mol) \u001b[38;5;28;01mfor\u001b[39;00m mol \u001b[38;5;129;01min\u001b[39;00m \u001b[43mmolecule\u001b[49m]\n\u001b[1;32m      2\u001b[0m descriptors_df \u001b[38;5;241m=\u001b[39m pd\u001b[38;5;241m.\u001b[39mDataFrame(descriptors, columns\u001b[38;5;241m=\u001b[39m[ \u001b[38;5;124m'\u001b[39m\u001b[38;5;124mPSA\u001b[39m\u001b[38;5;124m'\u001b[39m,\u001b[38;5;124m'\u001b[39m\u001b[38;5;124mHBA\u001b[39m\u001b[38;5;124m'\u001b[39m,\u001b[38;5;124m'\u001b[39m\u001b[38;5;124mHBD\u001b[39m\u001b[38;5;124m'\u001b[39m,\u001b[38;5;124m'\u001b[39m\u001b[38;5;124mLogP\u001b[39m\u001b[38;5;124m'\u001b[39m,\u001b[38;5;124m'\u001b[39m\u001b[38;5;124mMW\u001b[39m\u001b[38;5;124m'\u001b[39m,\u001b[38;5;124m'\u001b[39m\u001b[38;5;124mQED\u001b[39m\u001b[38;5;124m'\u001b[39m])\n\u001b[1;32m      3\u001b[0m data \u001b[38;5;241m=\u001b[39m pd\u001b[38;5;241m.\u001b[39mconcat([df, descriptors_df], axis\u001b[38;5;241m=\u001b[39m\u001b[38;5;241m1\u001b[39m)\n",
      "\u001b[0;31mNameError\u001b[0m: name 'molecule' is not defined"
     ]
    }
   ],
   "source": [
    "descriptors = [calculate_descriptors(mol) for mol in molecule]\n",
    "descriptors_df = pd.DataFrame(descriptors, columns=[ 'PSA','HBA','HBD','LogP','MW','QED'])\n",
    "data = pd.concat([df, descriptors_df], axis=1)\n",
    "data"
   ]
  },
  {
   "cell_type": "code",
   "execution_count": 35,
   "id": "5c6bbf3b-9886-4f32-ac20-b22e69a16167",
   "metadata": {},
   "outputs": [
    {
     "ename": "NameError",
     "evalue": "name 'ata' is not defined",
     "output_type": "error",
     "traceback": [
      "\u001b[0;31m---------------------------------------------------------------------------\u001b[0m",
      "\u001b[0;31mNameError\u001b[0m                                 Traceback (most recent call last)",
      "Cell \u001b[0;32mIn[35], line 1\u001b[0m\n\u001b[0;32m----> 1\u001b[0m \u001b[43mata\u001b[49m\u001b[38;5;241m.\u001b[39misnull()\u001b[38;5;241m.\u001b[39msum()\n",
      "\u001b[0;31mNameError\u001b[0m: name 'ata' is not defined"
     ]
    }
   ],
   "source": [
    "ata.isnull().sum()"
   ]
  },
  {
   "cell_type": "markdown",
   "id": "b3f95cb8-3f4e-4ad5-ba00-c7a558cde433",
   "metadata": {},
   "source": [
    "6. Utiliser `pyscf.gto` pour créer \n",
    "   \n",
    "   ```python\n",
    "   CzIPN_mol = pyscf.gto.M(atom=open('votre_nom_4CzIPN.xyz').read(),\n",
    "    charge=0,\n",
    "    spin=0,\n",
    "    basis='631g*',\n",
    "    unit='Angstrom')\n",
    "    ```\n",
    "\n",
    "    et par la méthode `CzIPN_mol.build().get_enuc()`, obtenir la valeur de l'énergie nucléaire de la molécule et **noter celle-ci dans votre cahier de composition**."
   ]
  },
  {
   "cell_type": "code",
   "execution_count": 36,
   "id": "1d79bec8-d38a-4527-a967-15202ff00bf3",
   "metadata": {},
   "outputs": [],
   "source": [
    "from qiskit_nature.units import DistanceUnit\n",
    "from qiskit_nature.second_q.drivers import PySCFDriver"
   ]
  },
  {
   "cell_type": "code",
   "execution_count": 37,
   "id": "8927547a-699e-4af4-9713-b27bed6a5a2d",
   "metadata": {},
   "outputs": [],
   "source": [
    "from pyscf import gto"
   ]
  },
  {
   "cell_type": "code",
   "execution_count": 38,
   "id": "9e6f39ca-6c9b-4341-9a11-961f9497d41d",
   "metadata": {},
   "outputs": [
    {
     "ename": "SyntaxError",
     "evalue": "invalid decimal literal (3410809606.py, line 1)",
     "output_type": "error",
     "traceback": [
      "\u001b[0;36m  Cell \u001b[0;32mIn[38], line 1\u001b[0;36m\u001b[0m\n\u001b[0;31m    4Utiliser rdkit.Chem.AllChem et rdkit.Chem.MolToXYZFile pour écrire, à partir de mol (molécule rdkit) de la question 2. dans un fichier \"votre_nom_4CzIPN.xyz\", les coordonnées au format xyz de la molécule 4CzIPN.\u001b[0m\n\u001b[0m    ^\u001b[0m\n\u001b[0;31mSyntaxError\u001b[0m\u001b[0;31m:\u001b[0m invalid decimal literal\n"
     ]
    }
   ],
   "source": [
    "4Utiliser rdkit.Chem.AllChem et rdkit.Chem.MolToXYZFile pour écrire, à partir de mol (molécule rdkit) de la question 2. dans un fichier \"votre_nom_4CzIPN.xyz\", les coordonnées au format xyz de la molécule 4CzIPN.\n",
    "\n",
    " rdkit.Chem.AllChem.EmbedMolecule(mol)\n",
    " rdkit.Chem.AllChem.MMFFOptimizeMolecule(mol, maxIters=200)\n",
    " rdkit.Chem.MolToXYZFile(mol, 'votre_nom_4CzIPN.xyz')\n",
    "\n",
    "5Ouvrir le fichier créé et noter dans votre cahier de composition, le chiffre se trouvant au début du fichier. Ensuite l'effacer du fichier et sauvegarder celui-ci.\n"
   ]
  },
  {
   "cell_type": "code",
   "execution_count": 39,
   "id": "689d25b2-4641-48a1-8435-caca88e037c6",
   "metadata": {},
   "outputs": [
    {
     "ename": "SyntaxError",
     "evalue": "invalid syntax (3896908445.py, line 3)",
     "output_type": "error",
     "traceback": [
      "\u001b[0;36m  Cell \u001b[0;32mIn[39], line 3\u001b[0;36m\u001b[0m\n\u001b[0;31m    from rdkit.Chem import AllChem.EmbedMolecule(mol)\u001b[0m\n\u001b[0m                                  ^\u001b[0m\n\u001b[0;31mSyntaxError\u001b[0m\u001b[0;31m:\u001b[0m invalid syntax\n"
     ]
    }
   ],
   "source": [
    "from rdkit import Chem,DataStructs\n",
    "from rdkit.Chem import AllChem,QED, PandasTools, Descriptors\n",
    "from rdkit.Chem import AllChem.EmbedMolecule(mol)\n",
    "from rdkit.Chem import AllChem.MMFFOptimizeMolecule(mol, maxIters=200)\n",
    "from  rdkit.Chem import MolToXYZFile(mol, 'votre_nom_4CzIPN.xyz')\n",
    "\n"
   ]
  },
  {
   "cell_type": "code",
   "execution_count": null,
   "id": "03d5ebf2-cb1c-46e0-9fb5-27aafc16a3f9",
   "metadata": {},
   "outputs": [],
   "source": []
  }
 ],
 "metadata": {
  "kernelspec": {
   "display_name": "Python 3 (ipykernel)",
   "language": "python",
   "name": "python3"
  },
  "language_info": {
   "codemirror_mode": {
    "name": "ipython",
    "version": 3
   },
   "file_extension": ".py",
   "mimetype": "text/x-python",
   "name": "python",
   "nbconvert_exporter": "python",
   "pygments_lexer": "ipython3",
   "version": "3.10.9"
  }
 },
 "nbformat": 4,
 "nbformat_minor": 5
}
