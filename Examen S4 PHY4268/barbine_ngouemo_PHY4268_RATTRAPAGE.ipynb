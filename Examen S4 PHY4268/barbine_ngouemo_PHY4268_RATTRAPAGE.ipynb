{
 "cells": [
  {
   "cell_type": "code",
   "execution_count": null,
   "metadata": {},
   "outputs": [],
   "source": [
    "# PHY 4268 - RATTRAPAGE\n",
    "\n",
    "\n",
    "NGOUEMO BARBINE, 22v2221, barbine.ngouemo@facsciences-uy1.cm\n",
    "\n",
    "\n",
    "Department of Physics - Faculty of Science - University of Yaoundé I\n",
    "\n",
    "PNR\n",
    "\n",
    "10/07/2023"
   ]
  },
  {
   "cell_type": "markdown",
   "metadata": {},
   "source": [
    "Le **2,5,8,11-tétrakis(4-(9H-carbazol-9-yl)phényle)-6,7-diisopropylnéryl-1,4,5,8,9,11-hexaazatriphénylène** ou 4CzIPN, est repertorié dans la base de donnée PubChem comme le composé 102198498.\n",
    "\n",
    "Cette molécule présente des propriétés intéressantes pour les applications OLED en raison de sa haute efficacité lumineuse, de sa longue durée de vie et de sa stabilité thermique. Elle a été largement utilisée dans les écrans OLED pour les téléviseurs, les smartphones et les ordinateurs portables en raison de ses performances optimales et de sa faible consommation d'énergie.\n",
    "\n",
    "1. A partir de site de [pubchem](https://pubchem.ncbi.nlm.nih.gov/compound/102198498), donner, **dans votre cahier de composition**, sa formule moléculaire et son poids moléculaire.\n",
    "2. Utiliser `rdkit.Chem.MolFromSmiles` et `rdkit.Chem.AllChem` pour représenter en 2D, y compris explicitement les atomes d'hydrogènes, la molécule 4CzIPN à partir de son SMILES isomérique, disponible sur [pubchem](https://pubchem.ncbi.nlm.nih.gov/compound/102198498). \n",
    "3. Utiliser `rdkit.Chem.Descriptors` pour évaluer les propriétés physico-chimique suivantes de la molécule 4CzIPN : le poids moléculaire; poids moléculaire moyen de la molécule en ignorant les hydrogènes; logP ou solubilité, TPSA ou la polarité, nombre de liaisons donneurs d'hydrogènes  et nombre de liaisons accepteurs d'hydrogènes. Utiliser `pandas`pour présenter les résulats sous forme de tableau. **Noter les valeurs obtenues dans votre cahier de composition.**\n",
    "4. Utiliser `rdkit.Chem.AllChem` et `rdkit.Chem.MolToXYZFile` pour écrire, à partir de `mol` (molécule rdkit) de la question 2. dans un fichier `\"votre_nom_4CzIPN.xyz\"`, les coordonnées au format xyz de la molécule 4CzIPN. \n",
    "   \n",
    "   ```python\n",
    "    rdkit.Chem.AllChem.EmbedMolecule(mol)\n",
    "    rdkit.Chem.AllChem.MMFFOptimizeMolecule(mol, maxIters=200)\n",
    "    rdkit.Chem.MolToXYZFile(mol, 'votre_nom_4CzIPN.xyz')\n",
    "    ```\n",
    "\n",
    "5. Ouvrir le fichier créé et **noter dans votre cahier de composition, le chiffre se trouvant au début du fichier**. Ensuite l'effacer du fichier et sauvegarder celui-ci.\n",
    "6. Utiliser `pyscf.gto` pour créer \n",
    "   \n",
    "   ```python\n",
    "   CzIPN_mol = pyscf.gto.M(atom=open('votre_nom_4CzIPN.xyz').read(),\n",
    "    charge=0,\n",
    "    spin=0,\n",
    "    basis='631g*',\n",
    "    unit='Angstrom')\n",
    "    ```\n",
    "\n",
    "    et par la méthode `CzIPN_mol.build().get_enuc()`, obtenir la valeur de l'énergie nucléaire de la molécule et **noter celle-ci dans votre cahier de composition**.\n",
    "7. Le Hamiltonien 2-qubits de cette molécule est\n",
    "\\begin{equation*} \\mathtt{H} = h_1(\\mathtt{I}\\otimes\\mathtt{I}) + h_2(\\mathtt{Z}\\otimes\\mathtt{I} - \\mathtt{I}\\otimes\\mathtt{Z}) + h_3(\\mathtt{Z}\\otimes\\mathtt{Z}) + h_4(\\mathtt{x}\\otimes\\mathtt{X}) + h_5(\\mathtt{X}\\otimes\\mathtt{I} + \\mathtt{I}\\otimes\\mathtt{X}) + h_6(\\mathtt{X}\\otimes\\mathtt{Z} - \\mathtt{Z}\\otimes\\mathtt{X}),\n",
    "\\end{equation*}\n",
    "où les coefficients \n",
    "\\begin{align*}\n",
    "&h_1 = -0.46959492273396025,&&h_2 = -0.12480163590374627,\\\\\n",
    "&h_3 = -0.026903253444563915,&&  h_4 = 0.004924575935052124,\\\\\n",
    "&h_5 = -4.6840929608197336e-06,&& h_6 = - 4.683976972721447e-06.\n",
    "\\end{align*}\n",
    "Utiliser, pour calculer l'état fondamental de la molécule 4CzIPN,\n",
    "* `qiskit.opflow.operator_globals` et \n",
    "* `qiskit.algorithms.minimum_eigensolvers.NumPyMinimumEigensolver`.\n",
    "\n",
    "**Noter dans votre cahier de composition, la valeur propre et le vecteur propre de l'Hamiltonien**."
   ]
  },
  {
   "cell_type": "code",
   "execution_count": 1,
   "metadata": {
    "vscode": {
     "languageId": "plaintext"
    }
   },
   "outputs": [
    {
     "name": "stdout",
     "output_type": "stream",
     "text": [
      "2023.03.1\n",
      "2.2.1\n"
     ]
    }
   ],
   "source": [
    "import rdkit\n",
    "import pyscf\n",
    "print(rdkit.__version__)\n",
    "print(pyscf.__version__)"
   ]
  },
  {
   "cell_type": "code",
   "execution_count": 2,
   "metadata": {
    "vscode": {
     "languageId": "plaintext"
    }
   },
   "outputs": [
    {
     "data": {
      "text/html": [
       "<h3>Version Information</h3><table><tr><th>Qiskit Software</th><th>Version</th></tr><tr><td><code>qiskit-terra</code></td><td>0.23.3</td></tr><tr><td><code>qiskit-aer</code></td><td>0.12.0</td></tr><tr><td><code>qiskit-ibmq-provider</code></td><td>0.20.2</td></tr><tr><td><code>qiskit</code></td><td>0.42.1</td></tr><tr><td><code>qiskit-nature</code></td><td>0.6.0</td></tr><tr><th>System information</th></tr><tr><td>Python version</td><td>3.7.12</td></tr><tr><td>Python compiler</td><td>GCC 9.4.0</td></tr><tr><td>Python build</td><td>default, Oct 26 2021 06:08:21</td></tr><tr><td>OS</td><td>Linux</td></tr><tr><td>CPUs</td><td>2</td></tr><tr><td>Memory (Gb)</td><td>3.7202072143554688</td></tr><tr><td colspan='2'>Mon Jul 10 12:50:00 2023 CEST</td></tr></table>"
      ],
      "text/plain": [
       "<IPython.core.display.HTML object>"
      ]
     },
     "metadata": {},
     "output_type": "display_data"
    }
   ],
   "source": [
    "import qiskit.tools.jupyter\n",
    "%qiskit_version_table"
   ]
  },
  {
   "cell_type": "markdown",
   "metadata": {},
   "source": [
    "2-)representation des atomes dhydrogenes en 2D"
   ]
  },
  {
   "cell_type": "code",
   "execution_count": 4,
   "metadata": {},
   "outputs": [],
   "source": [
    "from rdkit import Chem,DataStructs\n",
    "from rdkit.Chem import AllChem,QED, PandasTools, Descriptors"
   ]
  },
  {
   "cell_type": "code",
   "execution_count": 9,
   "metadata": {},
   "outputs": [],
   "source": [
    "# Import libraries \n",
    "import numpy as np\n",
    "import matplotlib.pyplot as plt\n",
    "import pandas as pd \n",
    "import os\n",
    "################################################################################\n",
    "from rdkit import Chem, DataStructs\n",
    "from rdkit.Chem import AllChem, PandasTools, Descriptors"
   ]
  },
  {
   "cell_type": "code",
   "execution_count": 13,
   "metadata": {},
   "outputs": [
    {
     "data": {
      "image/png": "[encoded data removed]",
      "text/plain": [
       "<rdkit.Chem.rdchem.Mol at 0x7f4981893990>"
      ]
     },
     "execution_count": 13,
     "metadata": {},
     "output_type": "execute_result"
    }
   ],
   "source": [
    "smi = 'C1=CC=C2C(=C1)C3=CC=CC=C3N2C4=C(C(=C(C(=C4C#N)N5C6=CC=CC=C6C7=CC=CC=C75)N8C9=CC=C9C1=CC=CC=C18)N1C2=CC=CC=C2C2=CC=CC=C21)C#N'\n",
    "m = Chem.MolFromSmiles(smi) # Convert smiles to molecule\n",
    "m"
   ]
  },
  {
   "cell_type": "markdown",
   "metadata": {},
   "source": [
    "3-)Determinons les proprietes "
   ]
  },
  {
   "cell_type": "code",
   "execution_count": 14,
   "metadata": {},
   "outputs": [
    {
     "data": {
      "image/png": "[encoded data removed]",
      "text/plain": [
       "<rdkit.Chem.rdchem.Mol at 0x7f4981893930>"
      ]
     },
     "execution_count": 14,
     "metadata": {},
     "output_type": "execute_result"
    }
   ],
   "source": [
    "m1 = AllChem.AddHs(m)\n",
    "m1"
   ]
  },
  {
   "cell_type": "code",
   "execution_count": 16,
   "metadata": {},
   "outputs": [
    {
     "data": {
      "text/plain": [
       "array([[0, 1, 0, ..., 0, 0, 0],\n",
       "       [1, 0, 1, ..., 0, 0, 0],\n",
       "       [0, 1, 0, ..., 0, 0, 0],\n",
       "       ...,\n",
       "       [0, 0, 0, ..., 0, 0, 0],\n",
       "       [0, 0, 0, ..., 0, 0, 1],\n",
       "       [0, 0, 0, ..., 0, 1, 0]], dtype=int32)"
      ]
     },
     "execution_count": 16,
     "metadata": {},
     "output_type": "execute_result"
    }
   ],
   "source": [
    "adj = Chem.rdmolops.GetAdjacencyMatrix(m)\n",
    "adj ## Adjacency matrix : a(i,j) == 1 if atom pair (i,j) is connected and 0 lse."
   ]
  },
  {
   "cell_type": "code",
   "execution_count": 17,
   "metadata": {},
   "outputs": [
    {
     "name": "stdout",
     "output_type": "stream",
     "text": [
      "0 th atom is  C , total number of hydrogens is 1 , and aromaticity indicator is True\n",
      "1 th atom is  C , total number of hydrogens is 1 , and aromaticity indicator is True\n",
      "2 th atom is  C , total number of hydrogens is 1 , and aromaticity indicator is True\n",
      "3 th atom is  C , total number of hydrogens is 0 , and aromaticity indicator is True\n",
      "4 th atom is  C , total number of hydrogens is 0 , and aromaticity indicator is True\n",
      "5 th atom is  C , total number of hydrogens is 1 , and aromaticity indicator is True\n",
      "6 th atom is  C , total number of hydrogens is 0 , and aromaticity indicator is True\n",
      "7 th atom is  C , total number of hydrogens is 1 , and aromaticity indicator is True\n",
      "8 th atom is  C , total number of hydrogens is 1 , and aromaticity indicator is True\n",
      "9 th atom is  C , total number of hydrogens is 1 , and aromaticity indicator is True\n",
      "10 th atom is  C , total number of hydrogens is 1 , and aromaticity indicator is True\n",
      "11 th atom is  C , total number of hydrogens is 0 , and aromaticity indicator is True\n",
      "12 th atom is  N , total number of hydrogens is 0 , and aromaticity indicator is True\n",
      "13 th atom is  C , total number of hydrogens is 0 , and aromaticity indicator is True\n",
      "14 th atom is  C , total number of hydrogens is 0 , and aromaticity indicator is True\n",
      "15 th atom is  C , total number of hydrogens is 0 , and aromaticity indicator is True\n",
      "16 th atom is  C , total number of hydrogens is 0 , and aromaticity indicator is True\n",
      "17 th atom is  C , total number of hydrogens is 0 , and aromaticity indicator is True\n",
      "18 th atom is  C , total number of hydrogens is 0 , and aromaticity indicator is True\n",
      "19 th atom is  C , total number of hydrogens is 0 , and aromaticity indicator is False\n",
      "20 th atom is  N , total number of hydrogens is 0 , and aromaticity indicator is False\n",
      "21 th atom is  N , total number of hydrogens is 0 , and aromaticity indicator is True\n",
      "22 th atom is  C , total number of hydrogens is 0 , and aromaticity indicator is True\n",
      "23 th atom is  C , total number of hydrogens is 1 , and aromaticity indicator is True\n",
      "24 th atom is  C , total number of hydrogens is 1 , and aromaticity indicator is True\n",
      "25 th atom is  C , total number of hydrogens is 1 , and aromaticity indicator is True\n",
      "26 th atom is  C , total number of hydrogens is 1 , and aromaticity indicator is True\n",
      "27 th atom is  C , total number of hydrogens is 0 , and aromaticity indicator is True\n",
      "28 th atom is  C , total number of hydrogens is 0 , and aromaticity indicator is True\n",
      "29 th atom is  C , total number of hydrogens is 1 , and aromaticity indicator is True\n",
      "30 th atom is  C , total number of hydrogens is 1 , and aromaticity indicator is True\n",
      "31 th atom is  C , total number of hydrogens is 1 , and aromaticity indicator is True\n",
      "32 th atom is  C , total number of hydrogens is 1 , and aromaticity indicator is True\n",
      "33 th atom is  C , total number of hydrogens is 0 , and aromaticity indicator is True\n",
      "34 th atom is  N , total number of hydrogens is 0 , and aromaticity indicator is True\n",
      "35 th atom is  C , total number of hydrogens is 0 , and aromaticity indicator is True\n",
      "36 th atom is  C , total number of hydrogens is 1 , and aromaticity indicator is False\n",
      "37 th atom is  C , total number of hydrogens is 1 , and aromaticity indicator is False\n",
      "38 th atom is  C , total number of hydrogens is 0 , and aromaticity indicator is True\n",
      "39 th atom is  C , total number of hydrogens is 0 , and aromaticity indicator is True\n",
      "40 th atom is  C , total number of hydrogens is 1 , and aromaticity indicator is True\n",
      "41 th atom is  C , total number of hydrogens is 1 , and aromaticity indicator is True\n",
      "42 th atom is  C , total number of hydrogens is 1 , and aromaticity indicator is True\n",
      "43 th atom is  C , total number of hydrogens is 1 , and aromaticity indicator is True\n",
      "44 th atom is  C , total number of hydrogens is 0 , and aromaticity indicator is True\n",
      "45 th atom is  N , total number of hydrogens is 0 , and aromaticity indicator is True\n",
      "46 th atom is  C , total number of hydrogens is 0 , and aromaticity indicator is True\n",
      "47 th atom is  C , total number of hydrogens is 1 , and aromaticity indicator is True\n",
      "48 th atom is  C , total number of hydrogens is 1 , and aromaticity indicator is True\n",
      "49 th atom is  C , total number of hydrogens is 1 , and aromaticity indicator is True\n",
      "50 th atom is  C , total number of hydrogens is 1 , and aromaticity indicator is True\n",
      "51 th atom is  C , total number of hydrogens is 0 , and aromaticity indicator is True\n",
      "52 th atom is  C , total number of hydrogens is 0 , and aromaticity indicator is True\n",
      "53 th atom is  C , total number of hydrogens is 1 , and aromaticity indicator is True\n",
      "54 th atom is  C , total number of hydrogens is 1 , and aromaticity indicator is True\n",
      "55 th atom is  C , total number of hydrogens is 1 , and aromaticity indicator is True\n",
      "56 th atom is  C , total number of hydrogens is 1 , and aromaticity indicator is True\n",
      "57 th atom is  C , total number of hydrogens is 0 , and aromaticity indicator is True\n",
      "58 th atom is  C , total number of hydrogens is 0 , and aromaticity indicator is False\n",
      "59 th atom is  N , total number of hydrogens is 0 , and aromaticity indicator is False\n"
     ]
    }
   ],
   "source": [
    "for atom in m.GetAtoms():\n",
    "    print (atom.GetIdx(), \"th atom is \", atom.GetSymbol(), \", total number of hydrogens is\", atom.GetTotalNumHs(), \n",
    "           \", and aromaticity indicator is\", atom.GetIsAromatic())"
   ]
  },
  {
   "cell_type": "code",
   "execution_count": 19,
   "metadata": {},
   "outputs": [
    {
     "name": "stdout",
     "output_type": "stream",
     "text": [
      "Our molecular properties are:\n",
      " Molecular weight:762.2531949600001, \t polarity:67.3, \t solubility:11.239759999999983, \t Quantitative drug-likeness:0.17915915459277462\n"
     ]
    }
   ],
   "source": [
    "molwt = Descriptors.ExactMolWt(m)\n",
    "logP = Descriptors.MolLogP(m)\n",
    "tpsa = Descriptors.TPSA(m)\n",
    "Qed = Chem.QED.qed(m)\n",
    "\n",
    "print(f'Our molecular properties are:\\n Molecular weight:{molwt}, \\t polarity:{tpsa}, \\t solubility:{logP}, \\t Quantitative drug-likeness:{Qed}')"
   ]
  },
  {
   "cell_type": "markdown",
   "metadata": {},
   "source": [
    "4-)"
   ]
  },
  {
   "cell_type": "code",
   "execution_count": 22,
   "metadata": {},
   "outputs": [
    {
     "ename": "SyntaxError",
     "evalue": "EOL while scanning string literal (2773371486.py, line 5)",
     "output_type": "error",
     "traceback": [
      "\u001b[0;36m  File \u001b[0;32m\"/tmp/ipykernel_4477/2773371486.py\"\u001b[0;36m, line \u001b[0;32m5\u001b[0m\n\u001b[0;31m    mol=AllChem.MolFromsmiles('C1=CC=C2C(=C1)C3=CC=CC=C3N2C4=C(C(=C(C(=C4C#N)N5C6=CC=CC=C6C7=CC=CC=C75)N8C9=CC=C9C1=CC=CC=C18)N1C2=CC=CC=C2C2=CC=CC=C21)C#N)\u001b[0m\n\u001b[0m                                                                                                                                                            ^\u001b[0m\n\u001b[0;31mSyntaxError\u001b[0m\u001b[0;31m:\u001b[0m EOL while scanning string literal\n"
     ]
    }
   ],
   "source": [
    "from rdkit.Chem import AllChem\n",
    "from rdkit import Chem\n",
    "from rdkit.Chem import Allchem\n",
    "\n",
    "mol=AllChem.MolFromsmiles('C1=CC=C2C(=C1)C3=CC=CC=C3N2C4=C(C(=C(C(=C4C#N)N5C6=CC=CC=C6C7=CC=CC=C75)N8C9=CC=C9C1=CC=CC=C18)N1C2=CC=CC=C2C2=CC=CC=C21)C#N)\n",
    "rdkit.Chem.AllChem.EmbedMolecule(mol)\n",
    "rdkit.Chem.AllChem.MMFFOptimizeMolecule(mol, maxIters=200)\n",
    "rdkit.Chem.MOlToXYZFile(mol, 'barbine_ngouemo_4CzIPN.XYZ')"
   ]
  },
  {
   "cell_type": "code",
   "execution_count": 20,
   "metadata": {},
   "outputs": [
    {
     "ename": "NameError",
     "evalue": "name 'mol' is not defined",
     "output_type": "error",
     "traceback": [
      "\u001b[0;31m---------------------------------------------------------------------------\u001b[0m",
      "\u001b[0;31mNameError\u001b[0m                                 Traceback (most recent call last)",
      "\u001b[0;32m/tmp/ipykernel_4477/1082688493.py\u001b[0m in \u001b[0;36m<module>\u001b[0;34m\u001b[0m\n\u001b[0;32m----> 1\u001b[0;31m \u001b[0mrdkit\u001b[0m\u001b[0;34m.\u001b[0m\u001b[0mChem\u001b[0m\u001b[0;34m.\u001b[0m\u001b[0mAllChem\u001b[0m\u001b[0;34m.\u001b[0m\u001b[0mEmbedMolecule\u001b[0m\u001b[0;34m(\u001b[0m\u001b[0mmol\u001b[0m\u001b[0;34m)\u001b[0m\u001b[0;34m\u001b[0m\u001b[0;34m\u001b[0m\u001b[0m\n\u001b[0m\u001b[1;32m      2\u001b[0m \u001b[0mrdkit\u001b[0m\u001b[0;34m.\u001b[0m\u001b[0mChem\u001b[0m\u001b[0;34m.\u001b[0m\u001b[0mAllChem\u001b[0m\u001b[0;34m.\u001b[0m\u001b[0mMMFFOptimizeMolecule\u001b[0m\u001b[0;34m(\u001b[0m\u001b[0mmol\u001b[0m\u001b[0;34m,\u001b[0m \u001b[0mmaxIters\u001b[0m\u001b[0;34m=\u001b[0m\u001b[0;36m200\u001b[0m\u001b[0;34m)\u001b[0m\u001b[0;34m\u001b[0m\u001b[0;34m\u001b[0m\u001b[0m\n\u001b[1;32m      3\u001b[0m \u001b[0mrdkit\u001b[0m\u001b[0;34m.\u001b[0m\u001b[0mChem\u001b[0m\u001b[0;34m.\u001b[0m\u001b[0mMOlToXYZFile\u001b[0m\u001b[0;34m(\u001b[0m\u001b[0mmol\u001b[0m\u001b[0;34m,\u001b[0m \u001b[0;34m'ngouemo_bar_4CzIPN.XYZ'\u001b[0m\u001b[0;34m)\u001b[0m\u001b[0;34m\u001b[0m\u001b[0;34m\u001b[0m\u001b[0m\n",
      "\u001b[0;31mNameError\u001b[0m: name 'mol' is not defined"
     ]
    }
   ],
   "source": [
    "rdkit.Chem.AllChem.EmbedMolecule(mol)\n",
    "rdkit.Chem.AllChem.MMFFOptimizeMolecule(mol, maxIters=200)\n",
    "rdkit.Chem.MOlToXYZFile(mol, 'barbine_ngouemo_4CzIPN.XYZ')"
   ]
  },
  {
   "cell_type": "code",
   "execution_count": null,
   "metadata": {},
   "outputs": [],
   "source": [
    "6-  "
   ]
  },
  {
   "cell_type": "markdown",
   "metadata": {},
   "source": [
    "\n",
    "   CzIPN_mol = pyscf.gto.M(atom=open('barbine_ngouemo_4CzIPN.xyz').read(),\n",
    "    charge=0,\n",
    "    spin=0,\n",
    "    basis='631g*',\n",
    "    unit='Angstrom')\n",
    "    print(f''Valeur de lenergie nucleaire\n"
   ]
  },
  {
   "cell_type": "code",
   "execution_count": null,
   "metadata": {},
   "outputs": [],
   "source": []
  }
 ],
 "metadata": {
  "kernelspec": {
   "display_name": "Python 3 (ipykernel)",
   "language": "python",
   "name": "python3"
  },
  "language_info": {
   "codemirror_mode": {
    "name": "ipython",
    "version": 3
   },
   "file_extension": ".py",
   "mimetype": "text/x-python",
   "name": "python",
   "nbconvert_exporter": "python",
   "pygments_lexer": "ipython3",
   "version": "3.7.12"
  }
 },
 "nbformat": 4,
 "nbformat_minor": 2
}
