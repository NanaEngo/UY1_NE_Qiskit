{
 "cells": [
  {
   "cell_type": "markdown",
   "metadata": {},
   "source": [
    "# phy 4268 -EXAMEN RATTRAPAGE_2307 \n",
    "\n",
    "\n",
    "### SOUVALBE ADELPHE BEBDANG \n",
    "\n",
    "### matricule:21S2761\n",
    "\n",
    "email:adelphe.souvalbe@facsciences-uy1.cm\n",
    "\n",
    "Department of Physics - Faculty of Science - University of Yaoundé I\n",
    "\n",
    "### LABORATOIRE DE PHYSIQUE ATOMIQUE MOLECULAIRE ET BIOPHYSIQUE\n",
    "\n",
    "\n",
    "### Lundi,10 juillet 2023\n"
   ]
  },
  {
   "cell_type": "markdown",
   "metadata": {},
   "source": [
    "Le **2,5,8,11-tétrakis(4-(9H-carbazol-9-yl)phényle)-6,7-diisopropylnéryl-1,4,5,8,9,11-hexaazatriphénylène** ou 4CzIPN, est repertorié dans la base de donnée PubChem comme le composé 102198498.\n",
    "\n",
    "Cette molécule présente des propriétés intéressantes pour les applications OLED en raison de sa haute efficacité lumineuse, de sa longue durée de vie et de sa stabilité thermique. Elle a été largement utilisée dans les écrans OLED pour les téléviseurs, les smartphones et les ordinateurs portables en raison de ses performances optimales et de sa faible consommation d'énergie.\n",
    "\n",
    "1. A partir de site de [pubchem](https://pubchem.ncbi.nlm.nih.gov/compound/102198498), donner, **dans votre cahier de composition**, sa formule moléculaire et son poids moléculaire.\n",
    "2. Utiliser `rdkit.Chem.MolFromSmiles` et `rdkit.Chem.AllChem` pour représenter en 2D, y compris explicitement les atomes d'hydrogènes, la molécule 4CzIPN à partir de son SMILES isomérique, disponible sur [pubchem](https://pubchem.ncbi.nlm.nih.gov/compound/102198498). \n",
    "3. Utiliser `rdkit.Chem.Descriptors` pour évaluer les propriétés physico-chimique suivantes de la molécule 4CzIPN : le poids moléculaire; poids moléculaire moyen de la molécule en ignorant les hydrogènes; logP ou solubilité, TPSA ou la polarité, nombre de liaisons donneurs d'hydrogènes  et nombre de liaisons accepteurs d'hydrogènes. Utiliser `pandas`pour présenter les résulats sous forme de tableau. **Noter les valeurs obtenues dans votre cahier de composition.**\n",
    "4. Utiliser `rdkit.Chem.AllChem` et `rdkit.Chem.MolToXYZFile` pour écrire, à partir de `mol` (molécule rdkit) de la question 2. dans un fichier `\"votre_nom_4CzIPN.xyz\"`, les coordonnées au format xyz de la molécule 4CzIPN. \n",
    "   \n",
    "   ```python\n",
    "    rdkit.Chem.AllChem.EmbedMolecule(mol)\n",
    "    rdkit.Chem.AllChem.MMFFOptimizeMolecule(mol, maxIters=200)\n",
    "    rdkit.Chem.MolToXYZFile(mol, 'votre_nom_4CzIPN.xyz')\n",
    "    ```\n",
    "\n",
    "5. Ouvrir le fichier créé et **noter dans votre cahier de composition, le chiffre se trouvant au début du fichier**. Ensuite l'effacer du fichier et sauvegarder celui-ci.\n",
    "6. Utiliser `pyscf.gto` pour créer \n",
    "   \n",
    "   ```python\n",
    "   CzIPN_mol = pyscf.gto.M(atom=open('votre_nom_4CzIPN.xyz').read(),\n",
    "    charge=0,\n",
    "    spin=0,\n",
    "    basis='631g*',\n",
    "    unit='Angstrom')\n",
    "    ```\n",
    "\n",
    "    et par la méthode `CzIPN_mol.build().get_enuc()`, obtenir la valeur de l'énergie nucléaire de la molécule et **noter celle-ci dans votre cahier de composition**.\n",
    "7. Le Hamiltonien 2-qubits de cette molécule est\n",
    "\\begin{equation*} \\mathtt{H} = h_1(\\mathtt{I}\\otimes\\mathtt{I}) + h_2(\\mathtt{Z}\\otimes\\mathtt{I} - \\mathtt{I}\\otimes\\mathtt{Z}) + h_3(\\mathtt{Z}\\otimes\\mathtt{Z}) + h_4(\\mathtt{x}\\otimes\\mathtt{X}) + h_5(\\mathtt{X}\\otimes\\mathtt{I} + \\mathtt{I}\\otimes\\mathtt{X}) + h_6(\\mathtt{X}\\otimes\\mathtt{Z} - \\mathtt{Z}\\otimes\\mathtt{X}),\n",
    "\\end{equation*}\n",
    "où les coefficients \n",
    "\\begin{align*}\n",
    "&h_1 = -0.46959492273396025,&&h_2 = -0.12480163590374627,\\\\\n",
    "&h_3 = -0.026903253444563915,&&  h_4 = 0.004924575935052124,\\\\\n",
    "&h_5 = -4.6840929608197336e-06,&& h_6 = - 4.683976972721447e-06.\n",
    "\\end{align*}\n",
    "Utiliser, pour calculer l'état fondamental de la molécule 4CzIPN,\n",
    "* `qiskit.opflow.operator_globals` et \n",
    "* `qiskit.algorithms.minimum_eigensolvers.NumPyMinimumEigensolver`.\n",
    "\n",
    "**Noter dans votre cahier de composition, la valeur propre et le vecteur propre de l'Hamiltonien**."
   ]
  },
  {
   "cell_type": "code",
   "execution_count": 1,
   "metadata": {
    "vscode": {
     "languageId": "plaintext"
    }
   },
   "outputs": [
    {
     "name": "stdout",
     "output_type": "stream",
     "text": [
      "2023.03.1\n",
      "2.2.1\n"
     ]
    }
   ],
   "source": [
    "import rdkit\n",
    "import pyscf\n",
    "print(rdkit.__version__)\n",
    "print(pyscf.__version__)"
   ]
  },
  {
   "cell_type": "code",
   "execution_count": 2,
   "metadata": {
    "vscode": {
     "languageId": "plaintext"
    }
   },
   "outputs": [
    {
     "data": {
      "text/html": [
       "<h3>Version Information</h3><table><tr><th>Qiskit Software</th><th>Version</th></tr><tr><td><code>qiskit-terra</code></td><td>0.24.0</td></tr><tr><td><code>qiskit-aer</code></td><td>0.12.0</td></tr><tr><td><code>qiskit-ibmq-provider</code></td><td>0.20.2</td></tr><tr><td><code>qiskit-nature</code></td><td>0.6.1</td></tr><tr><td><code>qiskit-machine-learning</code></td><td>0.6.0</td></tr><tr><th>System information</th></tr><tr><td>Python version</td><td>3.10.10</td></tr><tr><td>Python compiler</td><td>GCC 11.2.0</td></tr><tr><td>Python build</td><td>main, Mar 21 2023 18:45:11</td></tr><tr><td>OS</td><td>Linux</td></tr><tr><td>CPUs</td><td>1</td></tr><tr><td>Memory (Gb)</td><td>6.960292816162109</td></tr><tr><td colspan='2'>Mon Jul 10 11:45:35 2023 WAT</td></tr></table>"
      ],
      "text/plain": [
       "<IPython.core.display.HTML object>"
      ]
     },
     "metadata": {},
     "output_type": "display_data"
    }
   ],
   "source": [
    "import qiskit.tools.jupyter\n",
    "%qiskit_version_table"
   ]
  },
  {
   "cell_type": "markdown",
   "metadata": {},
   "source": [
    "1-voir cahier "
   ]
  },
  {
   "cell_type": "markdown",
   "metadata": {},
   "source": [
    "2-Utiliser rdkit.Chem.MolFromSmiles et rdkit.Chem.AllChem pour représenter en 2D, y compris explicitement les atomes d'hydrogènes, la "
   ]
  },
  {
   "cell_type": "code",
   "execution_count": 7,
   "metadata": {},
   "outputs": [],
   "source": [
    "from rdkit import Chem\n",
    "from rdkit.Chem import AllChem"
   ]
  },
  {
   "cell_type": "code",
   "execution_count": 8,
   "metadata": {},
   "outputs": [
    {
     "data": {
      "image/png": "[encoded data removed]",
      "text/plain": [
       "<rdkit.Chem.rdchem.Mol at 0x7fb4937c9ee0>"
      ]
     },
     "execution_count": 8,
     "metadata": {},
     "output_type": "execute_result"
    }
   ],
   "source": [
    "smi = 'C1=CC=C2C(=C1)C3=CC=CC=C3N2C4=C(C(=C(C(=C4CN)N5C6=CC=CC=C6C7=CC=CC=C75)N8C9=CC=CC=C9C1=CC=CC=C18)N1C2=CC=CC=C2C2=CC=CC=C21)CN'\n",
    "m = Chem.MolFromSmiles(smi) \n",
    "m"
   ]
  },
  {
   "cell_type": "markdown",
   "metadata": {},
   "source": [
    "\n",
    "$$ \\mathtt{H} = h_1(\\mathtt{I}\\otimes\\mathtt{I}) + h_2(\\mathtt{Z}\\otimes\\mathtt{I} - \\mathtt{I}\\otimes\\mathtt{Z}) + h_3(\\mathtt{Z}\\otimes\\mathtt{Z}) + h_4(\\mathtt{x}\\otimes\\mathtt{X}) + h_5(\\mathtt{X}\\otimes\\mathtt{I} + \\mathtt{I}\\otimes\\mathtt{X} + \\mathtt{X}\\otimes\\mathtt{Z} - \\mathtt{Z}\\otimes\\mathtt{X}),$$\n",
    "\n",
    "où les coefficients \n",
    "$$h_1 = -0.518418,\\, h_2 = -0.136555,\\, h_3 = -0.025866,\\, h_4 = 0.015725,\\, h_5 = -0.000296.$$\n"
   ]
  },
  {
   "cell_type": "code",
   "execution_count": 9,
   "metadata": {},
   "outputs": [
    {
     "data": {
      "image/png": "[encoded data removed]",
      "text/plain": [
       "<rdkit.Chem.rdchem.Mol at 0x7fb4937ca110>"
      ]
     },
     "execution_count": 9,
     "metadata": {},
     "output_type": "execute_result"
    }
   ],
   "source": [
    "m1 = AllChem.AddHs(m)\n",
    "m1"
   ]
  },
  {
   "cell_type": "code",
   "execution_count": 47,
   "metadata": {},
   "outputs": [
    {
     "data": {
      "text/html": [
       "<div>\n",
       "<style scoped>\n",
       "    .dataframe tbody tr th:only-of-type {\n",
       "        vertical-align: middle;\n",
       "    }\n",
       "\n",
       "    .dataframe tbody tr th {\n",
       "        vertical-align: top;\n",
       "    }\n",
       "\n",
       "    .dataframe thead th {\n",
       "        text-align: right;\n",
       "    }\n",
       "</style>\n",
       "<table border=\"1\" class=\"dataframe\">\n",
       "  <thead>\n",
       "    <tr style=\"text-align: right;\">\n",
       "      <th></th>\n",
       "      <th>Smiles</th>\n",
       "    </tr>\n",
       "  </thead>\n",
       "  <tbody>\n",
       "    <tr>\n",
       "      <th>0</th>\n",
       "      <td>NC(=O)C1CCCCC1C(F)(F)F</td>\n",
       "    </tr>\n",
       "    <tr>\n",
       "      <th>1</th>\n",
       "      <td>CCCCCNC(=O)N1CCCC1CO</td>\n",
       "    </tr>\n",
       "    <tr>\n",
       "      <th>2</th>\n",
       "      <td>CCC(CC)c1cc(C[NH3+])on1</td>\n",
       "    </tr>\n",
       "    <tr>\n",
       "      <th>3</th>\n",
       "      <td>C[NH2+]C1CCC(c2ccccc2Cl)C1</td>\n",
       "    </tr>\n",
       "    <tr>\n",
       "      <th>4</th>\n",
       "      <td>COc1ccc2c(c1)C(C(C)[NH3+])CN2C</td>\n",
       "    </tr>\n",
       "    <tr>\n",
       "      <th>...</th>\n",
       "      <td>...</td>\n",
       "    </tr>\n",
       "    <tr>\n",
       "      <th>5995</th>\n",
       "      <td>COCC(C)NS(=O)(=O)c1cccc(N)c1</td>\n",
       "    </tr>\n",
       "    <tr>\n",
       "      <th>5996</th>\n",
       "      <td>COc1ccc(C(C[NH3+])C2CC2)cc1OC</td>\n",
       "    </tr>\n",
       "    <tr>\n",
       "      <th>5997</th>\n",
       "      <td>CCCC[NH2+]C1CCc2ccccc21</td>\n",
       "    </tr>\n",
       "    <tr>\n",
       "      <th>5998</th>\n",
       "      <td>CC1CCCC([NH2+]Cc2cccc(O)c2)C1C</td>\n",
       "    </tr>\n",
       "    <tr>\n",
       "      <th>5999</th>\n",
       "      <td>CCC(C)NC(=O)NCCC(=O)[O-]</td>\n",
       "    </tr>\n",
       "  </tbody>\n",
       "</table>\n",
       "<p>6000 rows × 1 columns</p>\n",
       "</div>"
      ],
      "text/plain": [
       "                              Smiles\n",
       "0             NC(=O)C1CCCCC1C(F)(F)F\n",
       "1               CCCCCNC(=O)N1CCCC1CO\n",
       "2            CCC(CC)c1cc(C[NH3+])on1\n",
       "3         C[NH2+]C1CCC(c2ccccc2Cl)C1\n",
       "4     COc1ccc2c(c1)C(C(C)[NH3+])CN2C\n",
       "...                              ...\n",
       "5995    COCC(C)NS(=O)(=O)c1cccc(N)c1\n",
       "5996   COc1ccc(C(C[NH3+])C2CC2)cc1OC\n",
       "5997         CCCC[NH2+]C1CCc2ccccc21\n",
       "5998  CC1CCCC([NH2+]Cc2cccc(O)c2)C1C\n",
       "5999        CCC(C)NC(=O)NCCC(=O)[O-]\n",
       "\n",
       "[6000 rows x 1 columns]"
      ]
     },
     "execution_count": 47,
     "metadata": {},
     "output_type": "execute_result"
    }
   ],
   "source": [
    "df = pd.DataFrame(data=smile, columns=['Smiles'])\n",
    "df"
   ]
  },
  {
   "cell_type": "code",
   "execution_count": 45,
   "metadata": {},
   "outputs": [
    {
     "data": {
      "text/html": [
       "<div>\n",
       "<style scoped>\n",
       "    .dataframe tbody tr th:only-of-type {\n",
       "        vertical-align: middle;\n",
       "    }\n",
       "\n",
       "    .dataframe tbody tr th {\n",
       "        vertical-align: top;\n",
       "    }\n",
       "\n",
       "    .dataframe thead th {\n",
       "        text-align: right;\n",
       "    }\n",
       "</style>\n",
       "<table border=\"1\" class=\"dataframe\">\n",
       "  <thead>\n",
       "    <tr style=\"text-align: right;\">\n",
       "      <th></th>\n",
       "      <th>Smiles</th>\n",
       "      <th>Molecules</th>\n",
       "    </tr>\n",
       "  </thead>\n",
       "  <tbody>\n",
       "    <tr>\n",
       "      <th>0</th>\n",
       "      <td>NC(=O)C1CCCCC1C(F)(F)F</td>\n",
       "      <td style=\"text-align: center;\"><div style=\"width: 200px; height: 200px\" data-content=\"rdkit/molecule\"><img src=\"data:image/png;base64,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\" alt=\"Mol\"/></div></td>\n",
       "    </tr>\n",
       "    <tr>\n",
       "      <th>1</th>\n",
       "      <td>CCCCCNC(=O)N1CCCC1CO</td>\n",
       "      <td style=\"text-align: center;\"><div style=\"width: 200px; height: 200px\" data-content=\"rdkit/molecule\"><img src=\"data:image/png;base64,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\" alt=\"Mol\"/></div></td>\n",
       "    </tr>\n",
       "    <tr>\n",
       "      <th>2</th>\n",
       "      <td>CCC(CC)c1cc(C[NH3+])on1</td>\n",
       "      <td style=\"text-align: center;\"><div style=\"width: 200px; height: 200px\" data-content=\"rdkit/molecule\"><img src=\"data:image/png;base64,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\" alt=\"Mol\"/></div></td>\n",
       "    </tr>\n",
       "    <tr>\n",
       "      <th>3</th>\n",
       "      <td>C[NH2+]C1CCC(c2ccccc2Cl)C1</td>\n",
       "      <td style=\"text-align: center;\"><div style=\"width: 200px; height: 200px\" data-content=\"rdkit/molecule\"><img src=\"data:image/png;base64,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\" alt=\"Mol\"/></div></td>\n",
       "    </tr>\n",
       "    <tr>\n",
       "      <th>4</th>\n",
       "      <td>COc1ccc2c(c1)C(C(C)[NH3+])CN2C</td>\n",
       "      <td style=\"text-align: center;\"><div style=\"width: 200px; height: 200px\" data-content=\"rdkit/molecule\"><img src=\"data:image/png;base64,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\" alt=\"Mol\"/></div></td>\n",
       "    </tr>\n",
       "    <tr>\n",
       "      <th>...</th>\n",
       "      <td>...</td>\n",
       "      <td>...</td>\n",
       "    </tr>\n",
       "    <tr>\n",
       "      <th>5995</th>\n",
       "      <td>COCC(C)NS(=O)(=O)c1cccc(N)c1</td>\n",
       "      <td style=\"text-align: center;\"><div style=\"width: 200px; height: 200px\" data-content=\"rdkit/molecule\"><img src=\"data:image/png;base64,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\" alt=\"Mol\"/></div></td>\n",
       "    </tr>\n",
       "    <tr>\n",
       "      <th>5996</th>\n",
       "      <td>COc1ccc(C(C[NH3+])C2CC2)cc1OC</td>\n",
       "      <td style=\"text-align: center;\"><div style=\"width: 200px; height: 200px\" data-content=\"rdkit/molecule\"><img src=\"data:image/png;base64,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\" alt=\"Mol\"/></div></td>\n",
       "    </tr>\n",
       "    <tr>\n",
       "      <th>5997</th>\n",
       "      <td>CCCC[NH2+]C1CCc2ccccc21</td>\n",
       "      <td style=\"text-align: center;\"><div style=\"width: 200px; height: 200px\" data-content=\"rdkit/molecule\"><img src=\"data:image/png;base64,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\" alt=\"Mol\"/></div></td>\n",
       "    </tr>\n",
       "    <tr>\n",
       "      <th>5998</th>\n",
       "      <td>CC1CCCC([NH2+]Cc2cccc(O)c2)C1C</td>\n",
       "      <td style=\"text-align: center;\"><div style=\"width: 200px; height: 200px\" data-content=\"rdkit/molecule\"><img src=\"data:image/png;base64,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\" alt=\"Mol\"/></div></td>\n",
       "    </tr>\n",
       "    <tr>\n",
       "      <th>5999</th>\n",
       "      <td>CCC(C)NC(=O)NCCC(=O)[O-]</td>\n",
       "      <td style=\"text-align: center;\"><div style=\"width: 200px; height: 200px\" data-content=\"rdkit/molecule\"><img src=\"data:image/png;base64,iVBORw0KGgoAAAANSUhEUgAAAMgAAADICAIAAAAiOjnJAAAABmJLR0QA/wD/AP+gvaeTAAAO5UlEQVR4nO3da1CU5/nH8d+ygCcQDwkaFYJSj4CiRqoif61p44zBJLZBMzqkzYzZzmScdXRqN1Narda/EmvsksaMNB0zJEPHsakdtzWTDImoiOezqDFjBM1BUUfkfN6rL54N4IEFl712V/19Xi3mce8765eLZ59dwCQiIPK2IH9vgB5NDItUMCxSwbBIBcMiFQyLVDAsUsGwSAXDIhUMi1QwLFLBsEgFwyIVDItUMCxSwbBIBcMiFQyLVDAsUsGwSAXDIhUMi1QwLFLBsEgFwyIVDItUMCxSwbBIBcMiFQyLVDAsUsGwSAXDIhUMi1QwLFLBsEgFwyIVDItUMCxSwbBIBcMiFQyLVDAsUsGwSAXDIhUMi1QwLFLBsEgFwyIVDItUMCxSwbBIBcMiFQyLVDAsUsGwSAXDIhUMi1QwLFLBsEgFwyIVDItUMCxSwbBIBcMiFQyLVDAsUsGwyBPXr1+fOXOmxWJp74BgX+6GHhnXr1/Pz8+/ceNGewdwYpEnbt++DaBPnz7tHcCwyBMMi1QwLFLBsEgFwyIV5eXlACIiIto7gGF1yr/+1Xr72jUUFvpvK4GBE8s7FiyA0+m6feIE3nrLr7sJAAyLVJSVlQHo27dvewd0FNZf/4qkJCQmIjkZO3Z4d3MPl927kZ+P/HycPu2fDWzahJIS1+3aWvzhD/7ZhqHDieX2JZ3t25GTg08+QWQkzp3DrFkYPhy9emHTJgD49a8RG+vl/QYwh8N14/Jl/2zgn/9EYiJiYgCgrg6bN+NPf/LPTtCJsCBu/PSn8t//tn64dq0sWeLu+EdXaKg0N7tuf/KJzJnjhz1Mny779rlu37olTzzhhz206N+/P4CbN2+2d4DbiXXpEoYPb/1w1Cjs3++l4skTH32EPXsAoK7On9sQkfLycpPJ5OZyg9uwIiJQWdn6YXk5+vXz3vYeJgMGwGRy3e7WDW6+AqgaPNh19lFd7Z8NGKqqqpqamsLDw4OD2+3H7cl7Sgr+85/WDx0OpKTA6cSlS97bZKecOHFi/fr1eXl5Pl63RWYmLl503Y6OxqJF/tnGzJmYPx/z52PuXP9swNDxCRbcn2NduyaxsWK1yt//Lq+8IsnJ0tgodrt07y6ZmdLU5PWv3PcqLS212WxBQa5PgCVLltTX1/tg3btERcmPf+w6zcrNlUWLfL+FADrHOn36NICEhAQ3x7idWAMG4ORJzJiB6mr86lfYvRvBwbh4EXV1ePNNTJuG8+e99Ulwr2+//Xbx4sXR0dFvvfWWiPTo0cNkMmVlZU2ZMuW0P57xR0UhO9v3y7aaNg39+7tuh4Zi9my/7aTLE6s9n34q0dECSPfusnKlNDR4Fn57rly5YrVau3fvDiAoKCg1NfX48eMiUlBQMHz4cAAhISE2m82XoysqSi5ckOhouXrVbxMrO1v+9jfX7Rs35I9/9MMeDA6HA8Act8+NPQpLRMrLxWIRk0kASUyUEyc8vJ87Xb58+a6kTtx5z9XV1S1fGRMSEo4ePeqVdTsUFSXl5WK3y8KFfgtr3jwJC5MzZ0REvv5a4uL8sAfDhx9+CCA9Pd3NMZ6GZfjsM9foCgkRm60ro+uupNLS0s6dO9fewfv27RsxYgSA4OBg1dF19Ki88oqUlbnCamyUxERZvFgWLZKmJqmrU1r2/ubNk9/8RqZNE6fTz2FlZWUBsFqtbo7pWlhyx+g6u3BhUVHRg95BSUmJ1Wrt1q1bS1Lnz5/v8G/V1NS0jK74+PgjR454tPt2HT4sqamuibxqlSssESkslNBQWbRI/vxnGTNGDh3y7rLuzJsnn34qL70k77/v57BWrVoFYMWKFW6O6XJYhry82qSkp8LCHujsp7i4+K6kvvzyywdatrCwcOTIkS2jq84bM+TkSUlLcyXVq5dYrfL995KcLJWVrgOWLBGbTcaPF0CCg8Vmk9rari/rjtMpTqcrrJISiYqSI0f8GdayZcsAvP32226O8VJYd579jB071jjdbk9xcbHFYjEurxlJXbhwwbN1jdFlNpu7ProOHGidUkZSV6+2e3BtrdhsYjYLID/6kezZ4/GyHcjLk0mTZNs2V1gism6dpKa6wjp1SmtdN2bOnAlg7dq1bo7xWliGDp+4Xbp0qSWpkJCQ9PR0j5Nqa//+/V0ZXYWFzlmzBBBAwsPld7+T9l8Eu8PBgzJmjAASFCQWi1RVebL5+3I6Zft2SUx07epnP2sNq75eRo+WuDjZskVMJrFYWqeptoaGhqysLGN8ZGRkuDnSy2HJPaPr2LFjxp/fm9RXX33lxXXbjq64uLjDhw935m8VFhampqZOn/4XQMLCxGqVa9cebN2GBsnMlJAQASQ2Vnbv9mTzbTmd4nDIxImupCIjJTNTampk40Y5edJ1zN69smyZrF/fuq7eyDTU1dVt2rQpKirKuEo1cODAmpoaN8d7PyxDQUFBbGwsALPZ/PLLLycnJxv/5KGhoRaLpbi4WGnd/fv3jxo1qjOja+/evc8++6zxMMXGjlyxwnnrlufrHjokcXECiNksGRk17h/09hhJTZjgSioqSux2cX9Pp0+7EtQbXfX19dnZ2UOGDDEeq/j4+HfeeaehoysAWmGJyOHDh42ttLxU+fTTT1+8eFFvRUNtbW3b0XXonmdu+/btS01NNbYUHh5us9ludaWpH7SMrsmTNwwbNiw/P7/zf7e5ufnf/74WH+9KKjpa3nuvs5czGhslM1O6dRNAYmLk88892/593JtUTk5Oc8v7h9xSDGvPnj3GbpKSkowR+vrrr+std5cDBw6MHj26ZXTV1taKSEFBgUZSbR07Vh4fH288KVm6dGl1dbX745ubmx0Ox/jx4+PjpxhJ2e2ePM08c0aeeaZ1dFVUeLh/g5HU4MGDjccqISFh27ZtTqez8/egGNaOHTsAvPDCCyKyfv16AMuXL9db7l41NTXLly83RldYWNiYMWOMh6lfv36rV6++ffu20roNDQ2ZmZmhoaEAhg0btmvXrvse1tTUlJuba9QPICYmJifn+65c621okNWrJTRUAImPb/7ii3wP7qSuri47O3vQoEHGrsaOHfugSRkUw8rJyQHw6quvikhGRgaANWvW6C3XnoMHDw4YMMAYIf3791+5cmVZWZkP1j116tSECRMAmEwmi8VS2eb0p7m5edu2bca5oHGGYLfbvXIRTkSKimTSJElJ+chYt6LTs6u6utput7ckNW7cOM+SMiiG1fbC/xtvvAHg3Xff1VvOjbKyMpvNZrVaO/8oe0Xb0TV06NBdu3bdlVRMTIwXk2rR2Chr1vy/ceU5JiYmLy/P/fFVVVV2u/2pp57ySlIGxbDaXvhfsGABgNzcXL3lAtbx48eNd4ibTKbw8HDjH2/o0KEffPBBY2Oj3rpFRUWTJk0y1k1PT7/v2eRdSU2ePNnhcHQxKYNiWEuXLgWwceNGEZk9ezaAnTt36i0XyKZNm2ZcaunRo4dxzvfdd9/5YN3GxsbMzExjdA0aNMjhcLT8p8rKSrvdPnDgQCOpKVOmtP2vXacY1muvvQZgy5YtIjJ16lQAhYWFessFsoSEBABbt279+OOPjX9mr3/5c+Ps2bNJSUlGQGlpad98843dbjfOOwFMnTrVu0kZFMOaO3cugO3bt4uI8Yzs7NmzessFMuNqy5UrV6qrqwH07NnTxxswRpfxrqSwsDAjqZSUlM+9eNXrTorfYt/2DaydejPro6vlf99fj4NxMe/48eODBw/u2bNnXFycw+Fo+9qD1ymGlR4Z+ftnnonq2xdAdGhon+7d3Xwb2iOsqampqqoqODg4LCyswx95oGr06NETJ068fv362rVr58yZo7qW4k9Nfu3QIZSUoHdvNDQcKClBaCh69dJbLmAZV2L79OljMpn8Prl9tgHNnzZz+zYA9OnTeuOxFFCnBA9/WE4nKipgMiEigmGBYXlNRQWcToSHw2xmWGBYXtM2JoYVGGE1NzdXVlaazeaWFwD0qJ28M6wfzKqtvT1uXNWwYQBeCg5OmTGj1w/vcPKx8vJyEYmIiDC1/IQTNT6ZWGVlAOCn59h+F15aGnHq1GCnE0Dc11//3+7dE81mv+zEl/OSXwr1lZcDgHENz68PxSMXVttH9jEUMJ9jvrw8y4mlL2DOCh6JifXkk0hJwciRAFBfD3Bi+f9z7JEIa+FCfPEFpk/HkSPIykJTE9LStNYKcG2nFMPqqlOnMHIkVq9Gdjbi4rB1K0JCtNYKcAFzutnhL8DxIrXrWBYLNmzAz38OAMXFmDIFzz2HJ5/UWi6QtYRVVYXGRoSF+etz7OGfWDdv4uJFV1UAhg7F5MkoKFBZK/AFzIvxD39YpaV44ok7/iQyEqWlKmsFuMZGVFcjJAS9ej1WYel8KRwyBFevoqkJLT8H/MoVvPiiyloBzmTCzp2orQWAvn3x29/68RWIh39iRUQgJQWbN7s+PHoU585hxgyVtQJccDBGjMCRI/jFL7BhA+bPx5tv+msvD39YAN57D//4B6ZOxXPPIT0dOTmP59tHUVqKn/wEI0Zg3TokJ+PFF3HmjL/24suwTCKiePcVFairQ2Sk4hIBLiMDTifWrXN9uHkzCgqQm+uXvfTu3buysrKiosIHb5tR/kWYvXs/1lUBKCrCD9/TBwCTJ/trYrX9ng4fLMffsKosKKj1l/4CaG6Gn94z48s3Y4FhqUtIwMGDrR8eOICxY/2yER+/eVXx278IAKxWTJyIESMwfTpOnsT69fjsM79sxGw2P//88y3fWa9N+eSdAJSU4P33ceECYmLwy18iIcHfG/IFhkUqeI5FKhgWqWBYpIJhkQqGRSoYFqlgWKSCYZEKhkUqGBapYFikgmGRCoZFKhgWqWBYpIJhkQqGRSoYFqlgWKSCYZEKhkUqGBapYFikgmGRCoZFKhgWqWBYpIJhkQqGRSoYFqlgWKSCYZEKhkUqGBapYFikgmGRCoZFKhgWqWBYpIJhkQqGRSoYFqlgWKSCYZEKhkUqGBapYFikgmGRCoZFKhgWqWBYpIJhkQqGRSoYFqlgWKSCYZEKhkUqGBapYFikgmGRCoZFKhgWqWBYpIJhkQqGRSoYFqlgWKTifyV1FFSOKalKAAABEnpUWHRyZGtpdFBLTCByZGtpdCAyMDIzLjAzLjEAAHice79v7T0GIOBlgAAmKJsHiBsY2RgSgDQjM4RmYoLQzHBxdoYMEJ8JKKABYrBwQGgmJAlknSAaVSGHghaQ/s/MyM3AyMDIxMDEzMDEwsDCqsDKpsHEyq7AzsHAwcnAycXAxa3BxMWjIAJypPgykO1QFzPwFrnNclBkem0P4qi4THcw6V5rB2Kn9EQ4HGJcsQ/EPt4e5HBk/sv9ILb8VA4H73IGsPp3KV72+200wWoqg4zs3xy7AlYT9OHVvr8aWmA1tzc/299UJ7sbxDYOdD6w7lYwWLx7Wc+B0wEqYLtureg/YCW6GqxXb9GWA/E9tWA1YgC4ez3kqXcYXgAAAX56VFh0TU9MIHJka2l0IDIwMjMuMDMuMQAAeJx9k81uwyAMgO95Cr9AkX/AwGGHNqm6aWsibV3fYfe9v2ZnykglNBIjIJ9t/JMBfLxPr1/f8Dd4GgYA/OettcJdEHG4gi/gdL68zDDejqftZFw+59sHkACx6djzyB5vy3U7IRghhsJkhoFCEUU0pYDraJq8cpkzarHPIqUm6XBinAQpkrTCwUAuJKUDxhVkN5PhYJ45UemBCWbgQBJpvVhCKowdTs0ghlxRUdwzaeJMHTDDYqdaNdln86zKwj2wmGczFFMpmlxFo3avWM21h4AsGl3Fchixlx5CRyWgBSvus3BOSXukV+YQg1iCxOMlxWjWOyRbQEbGUkXZLyKiqaQeKo6moDHmmg2oFSPvLwrj8+XpQHA/vj3Rpnaep4em+W2j0zJPrY384dYttgFpTUEmsZXet6kVmEy01ZFNcqsW2ba0mpBJbZknl31+aZ1ol0f2iXiXL1pPZB/fPhrfbz+UrYcfKbav0+MtiYUAAADGelRYdFNNSUxFUyByZGtpdCAyMDIzLjAzLjEAAHicHY7LbUMxDARbyfEZoAj+ReEhJ93jAgx34uKz8kUUZjnE7r2v/fjb1+8T7/7O13O8fz5XcJsqKbcX3cHTpkwSdu+VTrezt+ekAWSt3gcZsqAByVIX3cbqobBStI1u4bmkxI+llTb1sFqV+EGrMsca0sjuSphVUY3j56gYuiAUsRDXCeosqe1YbJuZqDqCHQ0P0pKo+KLodVxF/0o0G8kV0VhaS8KcHp9/YDU2sycp+esAAAAASUVORK5CYII=\" alt=\"Mol\"/></div></td>\n",
       "    </tr>\n",
       "  </tbody>\n",
       "</table>\n",
       "<p>6000 rows × 2 columns</p>\n",
       "</div>"
      ],
      "text/plain": [
       "                              Smiles  \\\n",
       "0             NC(=O)C1CCCCC1C(F)(F)F   \n",
       "1               CCCCCNC(=O)N1CCCC1CO   \n",
       "2            CCC(CC)c1cc(C[NH3+])on1   \n",
       "3         C[NH2+]C1CCC(c2ccccc2Cl)C1   \n",
       "4     COc1ccc2c(c1)C(C(C)[NH3+])CN2C   \n",
       "...                              ...   \n",
       "5995    COCC(C)NS(=O)(=O)c1cccc(N)c1   \n",
       "5996   COc1ccc(C(C[NH3+])C2CC2)cc1OC   \n",
       "5997         CCCC[NH2+]C1CCc2ccccc21   \n",
       "5998  CC1CCCC([NH2+]Cc2cccc(O)c2)C1C   \n",
       "5999        CCC(C)NC(=O)NCCC(=O)[O-]   \n",
       "\n",
       "                                             Molecules  \n",
       "0     <rdkit.Chem.rdchem.Mol object at 0x7fb47960e0a0>  \n",
       "1     <rdkit.Chem.rdchem.Mol object at 0x7fb47960de70>  \n",
       "2     <rdkit.Chem.rdchem.Mol object at 0x7fb47960c6d0>  \n",
       "3     <rdkit.Chem.rdchem.Mol object at 0x7fb47960c820>  \n",
       "4     <rdkit.Chem.rdchem.Mol object at 0x7fb47960c900>  \n",
       "...                                                ...  \n",
       "5995  <rdkit.Chem.rdchem.Mol object at 0x7fb47956ac70>  \n",
       "5996  <rdkit.Chem.rdchem.Mol object at 0x7fb47956ace0>  \n",
       "5997  <rdkit.Chem.rdchem.Mol object at 0x7fb47956ad50>  \n",
       "5998  <rdkit.Chem.rdchem.Mol object at 0x7fb47956adc0>  \n",
       "5999  <rdkit.Chem.rdchem.Mol object at 0x7fb47956ae30>  \n",
       "\n",
       "[6000 rows x 2 columns]"
      ]
     },
     "execution_count": 45,
     "metadata": {},
     "output_type": "execute_result"
    }
   ],
   "source": [
    "PandasTools.AddMoleculeColumnToFrame(frame=df, smilesCol='Smiles', molCol='Molecules')\n",
    "df"
   ]
  },
  {
   "cell_type": "code",
   "execution_count": 50,
   "metadata": {},
   "outputs": [
    {
     "data": {
      "text/plain": [
       "Smiles    0\n",
       "dtype: int64"
      ]
     },
     "execution_count": 50,
     "metadata": {},
     "output_type": "execute_result"
    }
   ],
   "source": [
    "df.isnull().sum()"
   ]
  },
  {
   "cell_type": "code",
   "execution_count": 92,
   "metadata": {},
   "outputs": [],
   "source": [
    "# Import libraries \n",
    "import numpy as np\n",
    "import matplotlib.pyplot as plt\n",
    "import pandas as pd \n",
    "import os\n",
    "################################################################################\n",
    "from rdkit import Chem, DataStructs\n",
    "from rdkit.Chem import AllChem, PandasTools, Descriptors"
   ]
  },
  {
   "cell_type": "code",
   "execution_count": 93,
   "metadata": {},
   "outputs": [
    {
     "name": "stdout",
     "output_type": "stream",
     "text": [
      "Our molecular properties are:\n",
      " Molecular weight:796.33144528, \t polarity:71.75999999999999, \t solubility:12.992399999999975, \t Quantitative drug-likeness:0.17588787647094542\n"
     ]
    }
   ],
   "source": [
    "molwt = Descriptors.ExactMolWt(m)\n",
    "logP = Descriptors.MolLogP(m)\n",
    "tpsa = Descriptors.TPSA(m)\n",
    "Qed = Chem.QED.qed(m)\n",
    "\n",
    "print(f'Our molecular properties are:\\n Molecular weight:{molwt}, \\t polarity:{tpsa}, \\t solubility:{logP}, \\t Quantitative drug-likeness:{Qed}')"
   ]
  },
  {
   "cell_type": "code",
   "execution_count": 94,
   "metadata": {},
   "outputs": [],
   "source": [
    "def calculate_descriptors(mol):\n",
    "    mw = Descriptors.MolWt(mol)\n",
    "    logp = Descriptors.MolLogP(mol)\n",
    "    tpsa = Descriptors.NumHDonors(mol)\n",
    "    return [mw, logp, tpsa]"
   ]
  },
  {
   "cell_type": "code",
   "execution_count": 96,
   "metadata": {},
   "outputs": [
    {
     "ename": "NameError",
     "evalue": "name 'descriptors' is not defined",
     "output_type": "error",
     "traceback": [
      "\u001b[0;31m---------------------------------------------------------------------------\u001b[0m",
      "\u001b[0;31mNameError\u001b[0m                                 Traceback (most recent call last)",
      "Cell \u001b[0;32mIn[96], line 1\u001b[0m\n\u001b[0;32m----> 1\u001b[0m descriptors_def \u001b[38;5;241m=\u001b[39m pd\u001b[38;5;241m.\u001b[39mDataFrame(\u001b[43mdescriptors\u001b[49m, columns\u001b[38;5;241m=\u001b[39m[\u001b[38;5;124m'\u001b[39m\u001b[38;5;124mMW\u001b[39m\u001b[38;5;124m'\u001b[39m, \u001b[38;5;124m'\u001b[39m\u001b[38;5;124mLogP\u001b[39m\u001b[38;5;124m'\u001b[39m, \u001b[38;5;124m'\u001b[39m\u001b[38;5;124mTPSA\u001b[39m\u001b[38;5;124m'\u001b[39m])\n\u001b[1;32m      2\u001b[0m data \u001b[38;5;241m=\u001b[39m pd\u001b[38;5;241m.\u001b[39mconcat([df, descriptors_df], axis\u001b[38;5;241m=\u001b[39m\u001b[38;5;241m1\u001b[39m)\n\u001b[1;32m      3\u001b[0m data\n",
      "\u001b[0;31mNameError\u001b[0m: name 'descriptors' is not defined"
     ]
    }
   ],
   "source": [
    "descriptors_def = pd.DataFrame(descriptors, columns=['MW', 'LogP', 'TPSA'])\n",
    "data = pd.concat([df, descriptors_df], axis=1)\n",
    "data"
   ]
  },
  {
   "cell_type": "code",
   "execution_count": null,
   "metadata": {},
   "outputs": [],
   "source": []
  },
  {
   "cell_type": "code",
   "execution_count": null,
   "metadata": {},
   "outputs": [],
   "source": [
    "InChI=1S/C56H32N6"
   ]
  },
  {
   "cell_type": "code",
   "execution_count": null,
   "metadata": {},
   "outputs": [],
   "source": []
  },
  {
   "cell_type": "markdown",
   "metadata": {},
   "source": [
    "7-Le Hamiltonien 2-qubits de cette molécule est "
   ]
  },
  {
   "cell_type": "code",
   "execution_count": 10,
   "metadata": {},
   "outputs": [
    {
     "name": "stderr",
     "output_type": "stream",
     "text": [
      "/tmp/ipykernel_29012/3256284907.py:1: DeprecationWarning: The ``qiskit.opflow`` module is deprecated as of qiskit-terra 0.24.0. It will be removed no earlier than 3 months after the release date. For code migration guidelines, visit https://qisk.it/opflow_migration.\n",
      "  from qiskit.opflow.operator_globals import I, X, Y, Z\n"
     ]
    }
   ],
   "source": [
    "from qiskit.opflow.operator_globals import I, X, Y, Z\n",
    "from qiskit.algorithms import NumPyMinimumEigensolver"
   ]
  },
  {
   "cell_type": "code",
   "execution_count": 7,
   "metadata": {},
   "outputs": [
    {
     "name": "stdout",
     "output_type": "stream",
     "text": [
      "II\n"
     ]
    }
   ],
   "source": [
    "a=I^I\n",
    "print(a)"
   ]
  },
  {
   "cell_type": "code",
   "execution_count": 8,
   "metadata": {},
   "outputs": [
    {
     "name": "stdout",
     "output_type": "stream",
     "text": [
      "1.0 * ZI\n",
      "- 1.0 * IZ\n"
     ]
    }
   ],
   "source": [
    "b=((Z^I)-(I^Z))\n",
    "print(b)"
   ]
  },
  {
   "cell_type": "code",
   "execution_count": 9,
   "metadata": {},
   "outputs": [
    {
     "name": "stdout",
     "output_type": "stream",
     "text": [
      "ZZ\n"
     ]
    }
   ],
   "source": [
    "c=(Z^Z)\n",
    "print(c)"
   ]
  },
  {
   "cell_type": "code",
   "execution_count": 10,
   "metadata": {},
   "outputs": [
    {
     "name": "stdout",
     "output_type": "stream",
     "text": [
      "XX\n"
     ]
    }
   ],
   "source": [
    "d=X^X\n",
    "print(d)"
   ]
  },
  {
   "cell_type": "code",
   "execution_count": 11,
   "metadata": {},
   "outputs": [
    {
     "name": "stdout",
     "output_type": "stream",
     "text": [
      "1.0 * XI\n",
      "+ 1.0 * IX\n"
     ]
    }
   ],
   "source": [
    "E=(X^I)+(I^X)\n",
    "print(E)"
   ]
  },
  {
   "cell_type": "code",
   "execution_count": 13,
   "metadata": {},
   "outputs": [
    {
     "name": "stdout",
     "output_type": "stream",
     "text": [
      "1.0 * XZ\n",
      "- 1.0 * ZX\n"
     ]
    }
   ],
   "source": [
    "F=(X^Z)-(Z^X)\n",
    "print(F)"
   ]
  },
  {
   "cell_type": "code",
   "execution_count": 14,
   "metadata": {},
   "outputs": [
    {
     "name": "stdout",
     "output_type": "stream",
     "text": [
      "-0.46959492273396025 * II\n",
      "- 0.12480163590374627 * ZI\n",
      "+ 0.12480163590374627 * IZ\n",
      "- 0.026803253444563916 * ZZ\n",
      "+ 0.004924575935052124 * XX\n",
      "- 4.6840929608197336e-06 * XI\n",
      "- 4.6840929608197336e-06 * IX\n"
     ]
    }
   ],
   "source": [
    "H=(-0.46959492273396025*a) -0.12480163590374627*b -0.026803253444563915*c+(0.004924575935052124*d)+(-4.6840929608197336e-06)*E\n",
    "+(-4.683976972721447e-06)*F\n",
    "print(H)"
   ]
  },
  {
   "cell_type": "code",
   "execution_count": null,
   "metadata": {},
   "outputs": [],
   "source": [
    "exact_result = NumPyMinimumEigensolver().compute_minimum_eigenvalue(H)\n",
    "print(f'The exact ground state energy is: {exact_result.eigenvalue}')"
   ]
  },
  {
   "cell_type": "code",
   "execution_count": 17,
   "metadata": {},
   "outputs": [],
   "source": [
    "from qiskit_nature.units import DistanceUnit\n",
    "from qiskit_nature.second_q.drivers import PySCFDriver\n",
    "from qiskit_nature.second_q.transformers import FreezeCoreTransformer\n",
    "\n",
    "smi_driver = PySCFDriver(\n",
    "    atom='H .0 .0 -0.3625; H .0 .0 0.3625',\n",
    "    basis=\"sto3g\",\n",
    "    charge=0,\n",
    "    spin=0,\n",
    "    unit=DistanceUnit.ANGSTROM,\n",
    ")\n",
    "# Electronic structure problem\n",
    "smi_problem = smi_driver.run()\n",
    "transformer = FreezeCoreTransformer()\n",
    "smi_problem = transformer.transform(smi_problem)"
   ]
  },
  {
   "cell_type": "code",
   "execution_count": 18,
   "metadata": {},
   "outputs": [],
   "source": [
    "from qiskit.algorithms.optimizers import SLSQP"
   ]
  },
  {
   "cell_type": "code",
   "execution_count": 19,
   "metadata": {},
   "outputs": [],
   "source": [
    "from qiskit.primitives import Estimator\n",
    "from qiskit.algorithms.minimum_eigensolvers import VQE\n",
    "from qiskit_nature.second_q.algorithms import GroundStateEigensolver\n",
    "\n",
    "import numpy as np\n",
    "\n",
    "def algorithm(problem, mapper, optimizer):\n",
    "    \"\"\" Setup VQE solver algorithm\n",
    "\n",
    "    Args:\n",
    "        problem : Electronic Structure Problem\n",
    "        mapper : qubit mapper \n",
    "        optimizer : optimizer\n",
    "\n",
    "    Returns: vqe solver algorithm\n",
    "    \"\"\"    \n",
    "    \n",
    "    #ansatz\n",
    "    vqe = vqe # previously constructed\n",
    "    \n",
    "    #VQE algorithm solver\n",
    "    vqe_solver = VQE(Estimator(), vqe, optimizer)\n",
    "    vqe_solver.initial_point = np.zeros(ansatz.num_parameters)\n",
    " \n",
    "    # Ground state computation using a minimum eigensolver\n",
    "    algorithm = GroundStateEigensolver(mapper, vqe_solver)\n",
    "       \n",
    "    # Compute Ground State properties.\n",
    "    algorithm = algorithm.solve(problem)\n",
    "    \n",
    "    return algorithm"
   ]
  },
  {
   "cell_type": "code",
   "execution_count": 20,
   "metadata": {},
   "outputs": [],
   "source": [
    "estimator = Estimator()"
   ]
  },
  {
   "cell_type": "code",
   "execution_count": 21,
   "metadata": {},
   "outputs": [],
   "source": [
    "from qiskit_nature.second_q.mappers import JordanWignerMapper,ParityMapper, QubitConverter\n",
    "from qiskit_nature.second_q.mappers import TaperedQubitMapper\n",
    "from qiskit.algorithms.optimizers import SLSQP\n",
    "def run_vqe(problem, solver, mapper, optimizer = \"SLSQP\", show=True):\n",
    "    \"\"\"Computing of the molecular ground state with the `GroundStateEigensolver`\n",
    "class \n",
    "    Args:\n",
    "        problem :  Electronic structure problem\n",
    "\n",
    "        mapper : Mapper string that can be \"PM\" \n",
    "        \n",
    "        optimizer :  Optimizer string that can be either \"SLSQP\" \n",
    "\n",
    "        solver :  Sting that can be either \"NumPy\" or \"VQE\"\n",
    "       \n",
    "    Returns:\n",
    "          The ground state of the molecule\n",
    "\n",
    "    \"\"\"    \n",
    "    # Mapper\n",
    "    dmap = {\"PM\": ParityMapper()}\n",
    "    for k, v in dmap.items():\n",
    "        if k == mapper:        \n",
    "            mapp = v   \n",
    "            \n",
    "    if solver == \"VQE\":             \n",
    "        # Optimizer\n",
    "        dopt = {\"SLSQP\": SLSQP()}\n",
    "        for n, m in dopt.items():\n",
    "            if n == optimizer:  \n",
    "                opt = m\n",
    "        GS_solver = vqe_solver(mapp, opt)\n",
    "\n",
    "    # Solver\n",
    "    if solver == \"Numpy\":\n",
    "        GS_solver = NumPyMinimumEigensolver()\n",
    "\n",
    "    # Ground state computation using a minimum eigensolver. Returns the solver.\n",
    "    Algo = GroundStateEigensolver(mapp, GS_solver) \n",
    "    \n",
    "    # Leveraging Qiskit Runtime\n",
    "    start = time.time()\n",
    "    \n",
    "    # Compute Ground State properties.\n",
    "    ground_state = Algo.solve(problem)\n",
    "    elapsed = str(datetime.timedelta(seconds = time.time()- start))\n",
    "    \n",
    "    if show:\n",
    "        print(f'Running {solver} and {mapper} mapper')\n",
    "        if solver == \"VQE\":\n",
    "            print(f'With {optimizer} optimizer and ansatz')\n",
    "        print(f'Elapsed time: {elapsed} \\n')\n",
    "\n",
    "        print(ground_state.total_energies[0])\n",
    "\n",
    "    if solver == \"VQE\":\n",
    "        return ground_state, elapsed, mapper, solver, optimizer\n",
    "    else:\n",
    "        return ground_state, elapsed, mapper, solver\n",
    "\n"
   ]
  },
  {
   "cell_type": "code",
   "execution_count": 22,
   "metadata": {},
   "outputs": [
    {
     "ename": "NameError",
     "evalue": "name 'vqe_solver' is not defined",
     "output_type": "error",
     "traceback": [
      "\u001b[0;31m---------------------------------------------------------------------------\u001b[0m",
      "\u001b[0;31mNameError\u001b[0m                                 Traceback (most recent call last)",
      "Cell \u001b[0;32mIn[22], line 4\u001b[0m\n\u001b[1;32m      1\u001b[0m \u001b[38;5;28;01mfrom\u001b[39;00m \u001b[38;5;21;01mqiskit_nature\u001b[39;00m\u001b[38;5;21;01m.\u001b[39;00m\u001b[38;5;21;01msecond_q\u001b[39;00m\u001b[38;5;21;01m.\u001b[39;00m\u001b[38;5;21;01malgorithms\u001b[39;00m \u001b[38;5;28;01mimport\u001b[39;00m GroundStateEigensolver\n\u001b[1;32m      2\u001b[0m \u001b[38;5;28;01mimport\u001b[39;00m \u001b[38;5;21;01mtime\u001b[39;00m\u001b[38;5;241m,\u001b[39m \u001b[38;5;21;01mdatetime\u001b[39;00m\n\u001b[0;32m----> 4\u001b[0m res_vqe \u001b[38;5;241m=\u001b[39m \u001b[43mrun_vqe\u001b[49m\u001b[43m(\u001b[49m\u001b[43msmi_problem\u001b[49m\u001b[43m,\u001b[49m\u001b[43m \u001b[49m\u001b[43mmapper\u001b[49m\u001b[38;5;241;43m=\u001b[39;49m\u001b[38;5;124;43m\"\u001b[39;49m\u001b[38;5;124;43mPM\u001b[39;49m\u001b[38;5;124;43m\"\u001b[39;49m\u001b[43m,\u001b[49m\u001b[43m \u001b[49m\u001b[43moptimizer\u001b[49m\u001b[38;5;241;43m=\u001b[39;49m\u001b[38;5;124;43m\"\u001b[39;49m\u001b[38;5;124;43mSLSQP\u001b[39;49m\u001b[38;5;124;43m\"\u001b[39;49m\u001b[43m,\u001b[49m\u001b[43m \u001b[49m\u001b[43msolver\u001b[49m\u001b[38;5;241;43m=\u001b[39;49m\u001b[38;5;124;43m\"\u001b[39;49m\u001b[38;5;124;43mVQE\u001b[39;49m\u001b[38;5;124;43m\"\u001b[39;49m\u001b[43m)\u001b[49m\n",
      "Cell \u001b[0;32mIn[21], line 32\u001b[0m, in \u001b[0;36mrun_vqe\u001b[0;34m(problem, solver, mapper, optimizer, show)\u001b[0m\n\u001b[1;32m     30\u001b[0m         \u001b[38;5;28;01mif\u001b[39;00m n \u001b[38;5;241m==\u001b[39m optimizer:  \n\u001b[1;32m     31\u001b[0m             opt \u001b[38;5;241m=\u001b[39m m\n\u001b[0;32m---> 32\u001b[0m     GS_solver \u001b[38;5;241m=\u001b[39m \u001b[43mvqe_solver\u001b[49m(mapp, opt)\n\u001b[1;32m     34\u001b[0m \u001b[38;5;66;03m# Solver\u001b[39;00m\n\u001b[1;32m     35\u001b[0m \u001b[38;5;28;01mif\u001b[39;00m solver \u001b[38;5;241m==\u001b[39m \u001b[38;5;124m\"\u001b[39m\u001b[38;5;124mNumpy\u001b[39m\u001b[38;5;124m\"\u001b[39m:\n",
      "\u001b[0;31mNameError\u001b[0m: name 'vqe_solver' is not defined"
     ]
    }
   ],
   "source": [
    "from qiskit_nature.second_q.algorithms import GroundStateEigensolver\n",
    "import time, datetime\n",
    "\n",
    "res_vqe = run_vqe(smi_problem, mapper=\"PM\", optimizer=\"SLSQP\", solver=\"VQE\")"
   ]
  },
  {
   "cell_type": "code",
   "execution_count": null,
   "metadata": {},
   "outputs": [],
   "source": []
  }
 ],
 "metadata": {
  "kernelspec": {
   "display_name": "Python 3 (ipykernel)",
   "language": "python",
   "name": "python3"
  },
  "language_info": {
   "codemirror_mode": {
    "name": "ipython",
    "version": 3
   },
   "file_extension": ".py",
   "mimetype": "text/x-python",
   "name": "python",
   "nbconvert_exporter": "python",
   "pygments_lexer": "ipython3",
   "version": "3.10.10"
  }
 },
 "nbformat": 4,
 "nbformat_minor": 2
}
